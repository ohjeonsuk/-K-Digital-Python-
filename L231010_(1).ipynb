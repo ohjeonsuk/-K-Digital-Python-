{
  "nbformat": 4,
  "nbformat_minor": 0,
  "metadata": {
    "colab": {
      "provenance": [],
      "include_colab_link": true
    },
    "kernelspec": {
      "name": "python3",
      "display_name": "Python 3"
    },
    "language_info": {
      "name": "python"
    }
  },
  "cells": [
    {
      "cell_type": "markdown",
      "metadata": {
        "id": "view-in-github",
        "colab_type": "text"
      },
      "source": [
        "<a href=\"https://colab.research.google.com/github/ohjeonsuk/python-education/blob/main/L231010_(1).ipynb\" target=\"_parent\"><img src=\"https://colab.research.google.com/assets/colab-badge.svg\" alt=\"Open In Colab\"/></a>"
      ]
    },
    {
      "cell_type": "markdown",
      "source": [
        "1. 통계적 머신러닝\n",
        "    - sklearn\n",
        "\n",
        "        데이터 분리 : 훈련, 검증, 테스트 (K-Fold, cross_val_score)\n",
        "\n",
        "        하이퍼파라미터 : GridSearchCV\n",
        "\n",
        "        \n",
        "\n",
        "    - 평가\n",
        "\n",
        "        정확도, 오차행렬\n",
        "\n",
        "        정밀도, 재현율\n",
        "\n",
        "        F1 스코어, ROC 곡선, AUC\n",
        "    - 분류\n",
        "\n",
        "        결정트리\n",
        "\n",
        "        랜덤포레스트(앙상블)\n",
        "        \n",
        "        XGBoost\n",
        "\n",
        "    - 회귀\n",
        "\n",
        "        선형회귀\n",
        "\n",
        "        다항회귀\n",
        "\n",
        "        릿지, 라쏘, 엘라스틱넷\n",
        "\n",
        "        로지스틱회귀\n",
        "\n",
        "    - 차원축소 / 군집\n",
        "    - 텍스트 처리\n",
        "\n",
        "8. 딥러닝"
      ],
      "metadata": {
        "id": "1D4AGcge34vs"
      }
    },
    {
      "cell_type": "code",
      "execution_count": null,
      "metadata": {
        "id": "vC_ar6KEzO8y"
      },
      "outputs": [],
      "source": [
        " import pandas as pd\n",
        " import numpy as np\n",
        " import matplotlib.pyplot as plt\n",
        " %matplotlib inline"
      ]
    },
    {
      "cell_type": "code",
      "source": [
        "from sklearn.datasets import load_iris\n",
        "from sklearn.tree import DecisionTreeClassifier\n",
        "from sklearn.model_selection import GridSearchCV, train_test_split"
      ],
      "metadata": {
        "id": "YntDyxSp6v0A"
      },
      "execution_count": null,
      "outputs": []
    },
    {
      "cell_type": "code",
      "source": [
        "iris = load_iris()"
      ],
      "metadata": {
        "id": "fNhtoBp77C_Y"
      },
      "execution_count": null,
      "outputs": []
    },
    {
      "cell_type": "code",
      "source": [
        "X_train, X_test, y_train, y_test = train_test_split(iris.data, iris.target, test_size=0.2, random_state=2)"
      ],
      "metadata": {
        "id": "pxP052YU7L9a"
      },
      "execution_count": null,
      "outputs": []
    },
    {
      "cell_type": "code",
      "source": [
        "dt_clf = DecisionTreeClassifier()"
      ],
      "metadata": {
        "id": "-vBDdUEA7ZP5"
      },
      "execution_count": null,
      "outputs": []
    },
    {
      "cell_type": "code",
      "source": [
        "parameters = {'max_depth':[1, 2, 3], 'min_samples_split':[2, 3]}"
      ],
      "metadata": {
        "id": "R_c8asxi7u4Y"
      },
      "execution_count": null,
      "outputs": []
    },
    {
      "cell_type": "code",
      "source": [
        "grid_dt_clf = GridSearchCV(dt_clf, param_grid=parameters, cv=3, refit=True)"
      ],
      "metadata": {
        "id": "zLc0oN088FTv"
      },
      "execution_count": null,
      "outputs": []
    },
    {
      "cell_type": "code",
      "source": [
        "grid_dt_clf.fit(X_train, y_train)"
      ],
      "metadata": {
        "colab": {
          "base_uri": "https://localhost:8080/",
          "height": 117
        },
        "id": "H4fJ1saL8Spq",
        "outputId": "43db809d-d6e6-4b9f-d976-256f0dfade1e"
      },
      "execution_count": null,
      "outputs": [
        {
          "output_type": "execute_result",
          "data": {
            "text/plain": [
              "GridSearchCV(cv=3, estimator=DecisionTreeClassifier(),\n",
              "             param_grid={'max_depth': [1, 2, 3], 'min_samples_split': [2, 3]})"
            ],
            "text/html": [
              "<style>#sk-container-id-1 {color: black;background-color: white;}#sk-container-id-1 pre{padding: 0;}#sk-container-id-1 div.sk-toggleable {background-color: white;}#sk-container-id-1 label.sk-toggleable__label {cursor: pointer;display: block;width: 100%;margin-bottom: 0;padding: 0.3em;box-sizing: border-box;text-align: center;}#sk-container-id-1 label.sk-toggleable__label-arrow:before {content: \"▸\";float: left;margin-right: 0.25em;color: #696969;}#sk-container-id-1 label.sk-toggleable__label-arrow:hover:before {color: black;}#sk-container-id-1 div.sk-estimator:hover label.sk-toggleable__label-arrow:before {color: black;}#sk-container-id-1 div.sk-toggleable__content {max-height: 0;max-width: 0;overflow: hidden;text-align: left;background-color: #f0f8ff;}#sk-container-id-1 div.sk-toggleable__content pre {margin: 0.2em;color: black;border-radius: 0.25em;background-color: #f0f8ff;}#sk-container-id-1 input.sk-toggleable__control:checked~div.sk-toggleable__content {max-height: 200px;max-width: 100%;overflow: auto;}#sk-container-id-1 input.sk-toggleable__control:checked~label.sk-toggleable__label-arrow:before {content: \"▾\";}#sk-container-id-1 div.sk-estimator input.sk-toggleable__control:checked~label.sk-toggleable__label {background-color: #d4ebff;}#sk-container-id-1 div.sk-label input.sk-toggleable__control:checked~label.sk-toggleable__label {background-color: #d4ebff;}#sk-container-id-1 input.sk-hidden--visually {border: 0;clip: rect(1px 1px 1px 1px);clip: rect(1px, 1px, 1px, 1px);height: 1px;margin: -1px;overflow: hidden;padding: 0;position: absolute;width: 1px;}#sk-container-id-1 div.sk-estimator {font-family: monospace;background-color: #f0f8ff;border: 1px dotted black;border-radius: 0.25em;box-sizing: border-box;margin-bottom: 0.5em;}#sk-container-id-1 div.sk-estimator:hover {background-color: #d4ebff;}#sk-container-id-1 div.sk-parallel-item::after {content: \"\";width: 100%;border-bottom: 1px solid gray;flex-grow: 1;}#sk-container-id-1 div.sk-label:hover label.sk-toggleable__label {background-color: #d4ebff;}#sk-container-id-1 div.sk-serial::before {content: \"\";position: absolute;border-left: 1px solid gray;box-sizing: border-box;top: 0;bottom: 0;left: 50%;z-index: 0;}#sk-container-id-1 div.sk-serial {display: flex;flex-direction: column;align-items: center;background-color: white;padding-right: 0.2em;padding-left: 0.2em;position: relative;}#sk-container-id-1 div.sk-item {position: relative;z-index: 1;}#sk-container-id-1 div.sk-parallel {display: flex;align-items: stretch;justify-content: center;background-color: white;position: relative;}#sk-container-id-1 div.sk-item::before, #sk-container-id-1 div.sk-parallel-item::before {content: \"\";position: absolute;border-left: 1px solid gray;box-sizing: border-box;top: 0;bottom: 0;left: 50%;z-index: -1;}#sk-container-id-1 div.sk-parallel-item {display: flex;flex-direction: column;z-index: 1;position: relative;background-color: white;}#sk-container-id-1 div.sk-parallel-item:first-child::after {align-self: flex-end;width: 50%;}#sk-container-id-1 div.sk-parallel-item:last-child::after {align-self: flex-start;width: 50%;}#sk-container-id-1 div.sk-parallel-item:only-child::after {width: 0;}#sk-container-id-1 div.sk-dashed-wrapped {border: 1px dashed gray;margin: 0 0.4em 0.5em 0.4em;box-sizing: border-box;padding-bottom: 0.4em;background-color: white;}#sk-container-id-1 div.sk-label label {font-family: monospace;font-weight: bold;display: inline-block;line-height: 1.2em;}#sk-container-id-1 div.sk-label-container {text-align: center;}#sk-container-id-1 div.sk-container {/* jupyter's `normalize.less` sets `[hidden] { display: none; }` but bootstrap.min.css set `[hidden] { display: none !important; }` so we also need the `!important` here to be able to override the default hidden behavior on the sphinx rendered scikit-learn.org. See: https://github.com/scikit-learn/scikit-learn/issues/21755 */display: inline-block !important;position: relative;}#sk-container-id-1 div.sk-text-repr-fallback {display: none;}</style><div id=\"sk-container-id-1\" class=\"sk-top-container\"><div class=\"sk-text-repr-fallback\"><pre>GridSearchCV(cv=3, estimator=DecisionTreeClassifier(),\n",
              "             param_grid={&#x27;max_depth&#x27;: [1, 2, 3], &#x27;min_samples_split&#x27;: [2, 3]})</pre><b>In a Jupyter environment, please rerun this cell to show the HTML representation or trust the notebook. <br />On GitHub, the HTML representation is unable to render, please try loading this page with nbviewer.org.</b></div><div class=\"sk-container\" hidden><div class=\"sk-item sk-dashed-wrapped\"><div class=\"sk-label-container\"><div class=\"sk-label sk-toggleable\"><input class=\"sk-toggleable__control sk-hidden--visually\" id=\"sk-estimator-id-1\" type=\"checkbox\" ><label for=\"sk-estimator-id-1\" class=\"sk-toggleable__label sk-toggleable__label-arrow\">GridSearchCV</label><div class=\"sk-toggleable__content\"><pre>GridSearchCV(cv=3, estimator=DecisionTreeClassifier(),\n",
              "             param_grid={&#x27;max_depth&#x27;: [1, 2, 3], &#x27;min_samples_split&#x27;: [2, 3]})</pre></div></div></div><div class=\"sk-parallel\"><div class=\"sk-parallel-item\"><div class=\"sk-item\"><div class=\"sk-label-container\"><div class=\"sk-label sk-toggleable\"><input class=\"sk-toggleable__control sk-hidden--visually\" id=\"sk-estimator-id-2\" type=\"checkbox\" ><label for=\"sk-estimator-id-2\" class=\"sk-toggleable__label sk-toggleable__label-arrow\">estimator: DecisionTreeClassifier</label><div class=\"sk-toggleable__content\"><pre>DecisionTreeClassifier()</pre></div></div></div><div class=\"sk-serial\"><div class=\"sk-item\"><div class=\"sk-estimator sk-toggleable\"><input class=\"sk-toggleable__control sk-hidden--visually\" id=\"sk-estimator-id-3\" type=\"checkbox\" ><label for=\"sk-estimator-id-3\" class=\"sk-toggleable__label sk-toggleable__label-arrow\">DecisionTreeClassifier</label><div class=\"sk-toggleable__content\"><pre>DecisionTreeClassifier()</pre></div></div></div></div></div></div></div></div></div></div>"
            ]
          },
          "metadata": {},
          "execution_count": 9
        }
      ]
    },
    {
      "cell_type": "code",
      "source": [
        "grid_dt_clf.cv_results_"
      ],
      "metadata": {
        "id": "2rh50LaZ8aKO"
      },
      "execution_count": null,
      "outputs": []
    },
    {
      "cell_type": "code",
      "source": [
        "grid_dt_clf.best_params_"
      ],
      "metadata": {
        "colab": {
          "base_uri": "https://localhost:8080/"
        },
        "id": "iE6M1hok8jTU",
        "outputId": "2123c6a4-07c2-4350-cf8f-5d5d43d41df2"
      },
      "execution_count": null,
      "outputs": [
        {
          "output_type": "execute_result",
          "data": {
            "text/plain": [
              "{'max_depth': 2, 'min_samples_split': 2}"
            ]
          },
          "metadata": {},
          "execution_count": 11
        }
      ]
    },
    {
      "cell_type": "code",
      "source": [
        "grid_dt_clf.best_score_"
      ],
      "metadata": {
        "colab": {
          "base_uri": "https://localhost:8080/"
        },
        "id": "NX53gdGi8oWr",
        "outputId": "9dabe4fc-9661-43d0-cc20-fe6e2c1b47e2"
      },
      "execution_count": null,
      "outputs": [
        {
          "output_type": "execute_result",
          "data": {
            "text/plain": [
              "0.9666666666666667"
            ]
          },
          "metadata": {},
          "execution_count": 12
        }
      ]
    },
    {
      "cell_type": "code",
      "source": [
        "model = grid_dt_clf.best_estimator_"
      ],
      "metadata": {
        "id": "nQaKd50-8wQN"
      },
      "execution_count": null,
      "outputs": []
    },
    {
      "cell_type": "code",
      "source": [
        "pred = model.predict(X_test)"
      ],
      "metadata": {
        "id": "G3av0ERm-TjK"
      },
      "execution_count": null,
      "outputs": []
    },
    {
      "cell_type": "code",
      "source": [
        "from sklearn.metrics import accuracy_score"
      ],
      "metadata": {
        "id": "vxAeKV3o-rvN"
      },
      "execution_count": null,
      "outputs": []
    },
    {
      "cell_type": "code",
      "source": [
        "accuracy_score(y_test, pred)"
      ],
      "metadata": {
        "colab": {
          "base_uri": "https://localhost:8080/"
        },
        "id": "UYee8Kjw-weN",
        "outputId": "196689fc-1fe6-45df-9cbc-0dea8c2f50ed"
      },
      "execution_count": null,
      "outputs": [
        {
          "output_type": "execute_result",
          "data": {
            "text/plain": [
              "0.9333333333333333"
            ]
          },
          "metadata": {},
          "execution_count": 17
        }
      ]
    },
    {
      "cell_type": "markdown",
      "source": [
        "과적합 : 훈련데이터에 모델이 맞춰저 있어, 일반데이터(테스트 데이터)에서 낮은 성능을 보이는 것"
      ],
      "metadata": {
        "id": "4drorRoS_Q64"
      }
    },
    {
      "cell_type": "markdown",
      "source": [
        "#데이터 표준화"
      ],
      "metadata": {
        "id": "7KpWWGM-AaK1"
      }
    },
    {
      "cell_type": "code",
      "source": [
        "iris_df = pd.DataFrame(data=iris.data, columns=iris.feature_names)"
      ],
      "metadata": {
        "id": "JqcDfaa9Aw-M"
      },
      "execution_count": null,
      "outputs": []
    },
    {
      "cell_type": "code",
      "source": [
        "from sklearn.preprocessing import StandardScaler, MinMaxScaler"
      ],
      "metadata": {
        "id": "pqO9wnBc-ziB"
      },
      "execution_count": null,
      "outputs": []
    },
    {
      "cell_type": "markdown",
      "source": [
        "StandardScaler\n",
        "\n",
        " 새로운  x = (x - 평균)/표준편차"
      ],
      "metadata": {
        "id": "OckIdrTcBV4q"
      }
    },
    {
      "cell_type": "code",
      "source": [
        "scaler = StandardScaler()\n",
        "scaler.fit(iris_df)\n",
        "iris_scaled = scaler.transform(iris_df)"
      ],
      "metadata": {
        "id": "cxGUCQZlAmGH"
      },
      "execution_count": null,
      "outputs": []
    },
    {
      "cell_type": "code",
      "source": [
        "iris_scaled.shape"
      ],
      "metadata": {
        "colab": {
          "base_uri": "https://localhost:8080/"
        },
        "id": "JNZSRAUXBPsF",
        "outputId": "72c6e94f-479e-44b7-8b0f-45c50f225575"
      },
      "execution_count": null,
      "outputs": [
        {
          "output_type": "execute_result",
          "data": {
            "text/plain": [
              "(150, 4)"
            ]
          },
          "metadata": {},
          "execution_count": 22
        }
      ]
    },
    {
      "cell_type": "code",
      "source": [
        "iris_scaled[:3]"
      ],
      "metadata": {
        "colab": {
          "base_uri": "https://localhost:8080/"
        },
        "id": "KjGgbFKDBxvt",
        "outputId": "9911f7bf-2b15-467a-faeb-c1585a17b528"
      },
      "execution_count": null,
      "outputs": [
        {
          "output_type": "execute_result",
          "data": {
            "text/plain": [
              "array([[-0.90068117,  1.01900435, -1.34022653, -1.3154443 ],\n",
              "       [-1.14301691, -0.13197948, -1.34022653, -1.3154443 ],\n",
              "       [-1.38535265,  0.32841405, -1.39706395, -1.3154443 ]])"
            ]
          },
          "metadata": {},
          "execution_count": 23
        }
      ]
    },
    {
      "cell_type": "code",
      "source": [
        "iris_df_scaled = pd.DataFrame(data=iris_scaled, columns=iris.feature_names)"
      ],
      "metadata": {
        "id": "MqiU-yGMB8lz"
      },
      "execution_count": null,
      "outputs": []
    },
    {
      "cell_type": "code",
      "source": [
        "iris_df.mean()"
      ],
      "metadata": {
        "colab": {
          "base_uri": "https://localhost:8080/"
        },
        "id": "G5jJ0KHYCJbR",
        "outputId": "5b57c987-940c-4bf2-f369-043a3e16b786"
      },
      "execution_count": null,
      "outputs": [
        {
          "output_type": "execute_result",
          "data": {
            "text/plain": [
              "sepal length (cm)    5.843333\n",
              "sepal width (cm)     3.057333\n",
              "petal length (cm)    3.758000\n",
              "petal width (cm)     1.199333\n",
              "dtype: float64"
            ]
          },
          "metadata": {},
          "execution_count": 25
        }
      ]
    },
    {
      "cell_type": "code",
      "source": [
        "iris_df.var()"
      ],
      "metadata": {
        "colab": {
          "base_uri": "https://localhost:8080/"
        },
        "id": "xVQ3HSy7Ch76",
        "outputId": "3279e66d-34e8-4a75-bebc-3f149d18f802"
      },
      "execution_count": null,
      "outputs": [
        {
          "output_type": "execute_result",
          "data": {
            "text/plain": [
              "sepal length (cm)    0.685694\n",
              "sepal width (cm)     0.189979\n",
              "petal length (cm)    3.116278\n",
              "petal width (cm)     0.581006\n",
              "dtype: float64"
            ]
          },
          "metadata": {},
          "execution_count": 26
        }
      ]
    },
    {
      "cell_type": "code",
      "source": [
        "iris_df_scaled.mean()"
      ],
      "metadata": {
        "colab": {
          "base_uri": "https://localhost:8080/"
        },
        "id": "dCt8HBvCCn10",
        "outputId": "f90f570c-7d29-446f-bef7-0e6441d09255"
      },
      "execution_count": null,
      "outputs": [
        {
          "output_type": "execute_result",
          "data": {
            "text/plain": [
              "sepal length (cm)   -1.690315e-15\n",
              "sepal width (cm)    -1.842970e-15\n",
              "petal length (cm)   -1.698641e-15\n",
              "petal width (cm)    -1.409243e-15\n",
              "dtype: float64"
            ]
          },
          "metadata": {},
          "execution_count": 27
        }
      ]
    },
    {
      "cell_type": "code",
      "source": [
        "iris_df_scaled.var()"
      ],
      "metadata": {
        "colab": {
          "base_uri": "https://localhost:8080/"
        },
        "id": "bwhw-ec1CyFe",
        "outputId": "2cdb8534-5c13-48e2-cc86-1029af270c2a"
      },
      "execution_count": null,
      "outputs": [
        {
          "output_type": "execute_result",
          "data": {
            "text/plain": [
              "sepal length (cm)    1.006711\n",
              "sepal width (cm)     1.006711\n",
              "petal length (cm)    1.006711\n",
              "petal width (cm)     1.006711\n",
              "dtype: float64"
            ]
          },
          "metadata": {},
          "execution_count": 28
        }
      ]
    },
    {
      "cell_type": "code",
      "source": [
        "iris_df.head()"
      ],
      "metadata": {
        "colab": {
          "base_uri": "https://localhost:8080/",
          "height": 206
        },
        "id": "SXB-rwG_C-hE",
        "outputId": "af593034-aa86-47fe-bfe2-c259808ebbc7"
      },
      "execution_count": null,
      "outputs": [
        {
          "output_type": "execute_result",
          "data": {
            "text/plain": [
              "   sepal length (cm)  sepal width (cm)  petal length (cm)  petal width (cm)\n",
              "0                5.1               3.5                1.4               0.2\n",
              "1                4.9               3.0                1.4               0.2\n",
              "2                4.7               3.2                1.3               0.2\n",
              "3                4.6               3.1                1.5               0.2\n",
              "4                5.0               3.6                1.4               0.2"
            ],
            "text/html": [
              "\n",
              "  <div id=\"df-7f4e7f16-8c89-48c6-88cf-719890e1d308\" class=\"colab-df-container\">\n",
              "    <div>\n",
              "<style scoped>\n",
              "    .dataframe tbody tr th:only-of-type {\n",
              "        vertical-align: middle;\n",
              "    }\n",
              "\n",
              "    .dataframe tbody tr th {\n",
              "        vertical-align: top;\n",
              "    }\n",
              "\n",
              "    .dataframe thead th {\n",
              "        text-align: right;\n",
              "    }\n",
              "</style>\n",
              "<table border=\"1\" class=\"dataframe\">\n",
              "  <thead>\n",
              "    <tr style=\"text-align: right;\">\n",
              "      <th></th>\n",
              "      <th>sepal length (cm)</th>\n",
              "      <th>sepal width (cm)</th>\n",
              "      <th>petal length (cm)</th>\n",
              "      <th>petal width (cm)</th>\n",
              "    </tr>\n",
              "  </thead>\n",
              "  <tbody>\n",
              "    <tr>\n",
              "      <th>0</th>\n",
              "      <td>5.1</td>\n",
              "      <td>3.5</td>\n",
              "      <td>1.4</td>\n",
              "      <td>0.2</td>\n",
              "    </tr>\n",
              "    <tr>\n",
              "      <th>1</th>\n",
              "      <td>4.9</td>\n",
              "      <td>3.0</td>\n",
              "      <td>1.4</td>\n",
              "      <td>0.2</td>\n",
              "    </tr>\n",
              "    <tr>\n",
              "      <th>2</th>\n",
              "      <td>4.7</td>\n",
              "      <td>3.2</td>\n",
              "      <td>1.3</td>\n",
              "      <td>0.2</td>\n",
              "    </tr>\n",
              "    <tr>\n",
              "      <th>3</th>\n",
              "      <td>4.6</td>\n",
              "      <td>3.1</td>\n",
              "      <td>1.5</td>\n",
              "      <td>0.2</td>\n",
              "    </tr>\n",
              "    <tr>\n",
              "      <th>4</th>\n",
              "      <td>5.0</td>\n",
              "      <td>3.6</td>\n",
              "      <td>1.4</td>\n",
              "      <td>0.2</td>\n",
              "    </tr>\n",
              "  </tbody>\n",
              "</table>\n",
              "</div>\n",
              "    <div class=\"colab-df-buttons\">\n",
              "\n",
              "  <div class=\"colab-df-container\">\n",
              "    <button class=\"colab-df-convert\" onclick=\"convertToInteractive('df-7f4e7f16-8c89-48c6-88cf-719890e1d308')\"\n",
              "            title=\"Convert this dataframe to an interactive table.\"\n",
              "            style=\"display:none;\">\n",
              "\n",
              "  <svg xmlns=\"http://www.w3.org/2000/svg\" height=\"24px\" viewBox=\"0 -960 960 960\">\n",
              "    <path d=\"M120-120v-720h720v720H120Zm60-500h600v-160H180v160Zm220 220h160v-160H400v160Zm0 220h160v-160H400v160ZM180-400h160v-160H180v160Zm440 0h160v-160H620v160ZM180-180h160v-160H180v160Zm440 0h160v-160H620v160Z\"/>\n",
              "  </svg>\n",
              "    </button>\n",
              "\n",
              "  <style>\n",
              "    .colab-df-container {\n",
              "      display:flex;\n",
              "      gap: 12px;\n",
              "    }\n",
              "\n",
              "    .colab-df-convert {\n",
              "      background-color: #E8F0FE;\n",
              "      border: none;\n",
              "      border-radius: 50%;\n",
              "      cursor: pointer;\n",
              "      display: none;\n",
              "      fill: #1967D2;\n",
              "      height: 32px;\n",
              "      padding: 0 0 0 0;\n",
              "      width: 32px;\n",
              "    }\n",
              "\n",
              "    .colab-df-convert:hover {\n",
              "      background-color: #E2EBFA;\n",
              "      box-shadow: 0px 1px 2px rgba(60, 64, 67, 0.3), 0px 1px 3px 1px rgba(60, 64, 67, 0.15);\n",
              "      fill: #174EA6;\n",
              "    }\n",
              "\n",
              "    .colab-df-buttons div {\n",
              "      margin-bottom: 4px;\n",
              "    }\n",
              "\n",
              "    [theme=dark] .colab-df-convert {\n",
              "      background-color: #3B4455;\n",
              "      fill: #D2E3FC;\n",
              "    }\n",
              "\n",
              "    [theme=dark] .colab-df-convert:hover {\n",
              "      background-color: #434B5C;\n",
              "      box-shadow: 0px 1px 3px 1px rgba(0, 0, 0, 0.15);\n",
              "      filter: drop-shadow(0px 1px 2px rgba(0, 0, 0, 0.3));\n",
              "      fill: #FFFFFF;\n",
              "    }\n",
              "  </style>\n",
              "\n",
              "    <script>\n",
              "      const buttonEl =\n",
              "        document.querySelector('#df-7f4e7f16-8c89-48c6-88cf-719890e1d308 button.colab-df-convert');\n",
              "      buttonEl.style.display =\n",
              "        google.colab.kernel.accessAllowed ? 'block' : 'none';\n",
              "\n",
              "      async function convertToInteractive(key) {\n",
              "        const element = document.querySelector('#df-7f4e7f16-8c89-48c6-88cf-719890e1d308');\n",
              "        const dataTable =\n",
              "          await google.colab.kernel.invokeFunction('convertToInteractive',\n",
              "                                                    [key], {});\n",
              "        if (!dataTable) return;\n",
              "\n",
              "        const docLinkHtml = 'Like what you see? Visit the ' +\n",
              "          '<a target=\"_blank\" href=https://colab.research.google.com/notebooks/data_table.ipynb>data table notebook</a>'\n",
              "          + ' to learn more about interactive tables.';\n",
              "        element.innerHTML = '';\n",
              "        dataTable['output_type'] = 'display_data';\n",
              "        await google.colab.output.renderOutput(dataTable, element);\n",
              "        const docLink = document.createElement('div');\n",
              "        docLink.innerHTML = docLinkHtml;\n",
              "        element.appendChild(docLink);\n",
              "      }\n",
              "    </script>\n",
              "  </div>\n",
              "\n",
              "\n",
              "<div id=\"df-01091bb1-5462-411d-b22c-3f775d5a1a95\">\n",
              "  <button class=\"colab-df-quickchart\" onclick=\"quickchart('df-01091bb1-5462-411d-b22c-3f775d5a1a95')\"\n",
              "            title=\"Suggest charts.\"\n",
              "            style=\"display:none;\">\n",
              "\n",
              "<svg xmlns=\"http://www.w3.org/2000/svg\" height=\"24px\"viewBox=\"0 0 24 24\"\n",
              "     width=\"24px\">\n",
              "    <g>\n",
              "        <path d=\"M19 3H5c-1.1 0-2 .9-2 2v14c0 1.1.9 2 2 2h14c1.1 0 2-.9 2-2V5c0-1.1-.9-2-2-2zM9 17H7v-7h2v7zm4 0h-2V7h2v10zm4 0h-2v-4h2v4z\"/>\n",
              "    </g>\n",
              "</svg>\n",
              "  </button>\n",
              "\n",
              "<style>\n",
              "  .colab-df-quickchart {\n",
              "      --bg-color: #E8F0FE;\n",
              "      --fill-color: #1967D2;\n",
              "      --hover-bg-color: #E2EBFA;\n",
              "      --hover-fill-color: #174EA6;\n",
              "      --disabled-fill-color: #AAA;\n",
              "      --disabled-bg-color: #DDD;\n",
              "  }\n",
              "\n",
              "  [theme=dark] .colab-df-quickchart {\n",
              "      --bg-color: #3B4455;\n",
              "      --fill-color: #D2E3FC;\n",
              "      --hover-bg-color: #434B5C;\n",
              "      --hover-fill-color: #FFFFFF;\n",
              "      --disabled-bg-color: #3B4455;\n",
              "      --disabled-fill-color: #666;\n",
              "  }\n",
              "\n",
              "  .colab-df-quickchart {\n",
              "    background-color: var(--bg-color);\n",
              "    border: none;\n",
              "    border-radius: 50%;\n",
              "    cursor: pointer;\n",
              "    display: none;\n",
              "    fill: var(--fill-color);\n",
              "    height: 32px;\n",
              "    padding: 0;\n",
              "    width: 32px;\n",
              "  }\n",
              "\n",
              "  .colab-df-quickchart:hover {\n",
              "    background-color: var(--hover-bg-color);\n",
              "    box-shadow: 0 1px 2px rgba(60, 64, 67, 0.3), 0 1px 3px 1px rgba(60, 64, 67, 0.15);\n",
              "    fill: var(--button-hover-fill-color);\n",
              "  }\n",
              "\n",
              "  .colab-df-quickchart-complete:disabled,\n",
              "  .colab-df-quickchart-complete:disabled:hover {\n",
              "    background-color: var(--disabled-bg-color);\n",
              "    fill: var(--disabled-fill-color);\n",
              "    box-shadow: none;\n",
              "  }\n",
              "\n",
              "  .colab-df-spinner {\n",
              "    border: 2px solid var(--fill-color);\n",
              "    border-color: transparent;\n",
              "    border-bottom-color: var(--fill-color);\n",
              "    animation:\n",
              "      spin 1s steps(1) infinite;\n",
              "  }\n",
              "\n",
              "  @keyframes spin {\n",
              "    0% {\n",
              "      border-color: transparent;\n",
              "      border-bottom-color: var(--fill-color);\n",
              "      border-left-color: var(--fill-color);\n",
              "    }\n",
              "    20% {\n",
              "      border-color: transparent;\n",
              "      border-left-color: var(--fill-color);\n",
              "      border-top-color: var(--fill-color);\n",
              "    }\n",
              "    30% {\n",
              "      border-color: transparent;\n",
              "      border-left-color: var(--fill-color);\n",
              "      border-top-color: var(--fill-color);\n",
              "      border-right-color: var(--fill-color);\n",
              "    }\n",
              "    40% {\n",
              "      border-color: transparent;\n",
              "      border-right-color: var(--fill-color);\n",
              "      border-top-color: var(--fill-color);\n",
              "    }\n",
              "    60% {\n",
              "      border-color: transparent;\n",
              "      border-right-color: var(--fill-color);\n",
              "    }\n",
              "    80% {\n",
              "      border-color: transparent;\n",
              "      border-right-color: var(--fill-color);\n",
              "      border-bottom-color: var(--fill-color);\n",
              "    }\n",
              "    90% {\n",
              "      border-color: transparent;\n",
              "      border-bottom-color: var(--fill-color);\n",
              "    }\n",
              "  }\n",
              "</style>\n",
              "\n",
              "  <script>\n",
              "    async function quickchart(key) {\n",
              "      const quickchartButtonEl =\n",
              "        document.querySelector('#' + key + ' button');\n",
              "      quickchartButtonEl.disabled = true;  // To prevent multiple clicks.\n",
              "      quickchartButtonEl.classList.add('colab-df-spinner');\n",
              "      try {\n",
              "        const charts = await google.colab.kernel.invokeFunction(\n",
              "            'suggestCharts', [key], {});\n",
              "      } catch (error) {\n",
              "        console.error('Error during call to suggestCharts:', error);\n",
              "      }\n",
              "      quickchartButtonEl.classList.remove('colab-df-spinner');\n",
              "      quickchartButtonEl.classList.add('colab-df-quickchart-complete');\n",
              "    }\n",
              "    (() => {\n",
              "      let quickchartButtonEl =\n",
              "        document.querySelector('#df-01091bb1-5462-411d-b22c-3f775d5a1a95 button');\n",
              "      quickchartButtonEl.style.display =\n",
              "        google.colab.kernel.accessAllowed ? 'block' : 'none';\n",
              "    })();\n",
              "  </script>\n",
              "</div>\n",
              "    </div>\n",
              "  </div>\n"
            ]
          },
          "metadata": {},
          "execution_count": 29
        }
      ]
    },
    {
      "cell_type": "code",
      "source": [
        "iris_df_scaled.head()"
      ],
      "metadata": {
        "colab": {
          "base_uri": "https://localhost:8080/",
          "height": 206
        },
        "id": "sgV95VOlDFIf",
        "outputId": "17fdffed-7a4a-415f-deb5-1d6e8646ac84"
      },
      "execution_count": null,
      "outputs": [
        {
          "output_type": "execute_result",
          "data": {
            "text/plain": [
              "   sepal length (cm)  sepal width (cm)  petal length (cm)  petal width (cm)\n",
              "0          -0.900681          1.019004          -1.340227         -1.315444\n",
              "1          -1.143017         -0.131979          -1.340227         -1.315444\n",
              "2          -1.385353          0.328414          -1.397064         -1.315444\n",
              "3          -1.506521          0.098217          -1.283389         -1.315444\n",
              "4          -1.021849          1.249201          -1.340227         -1.315444"
            ],
            "text/html": [
              "\n",
              "  <div id=\"df-ec1e374a-ac8c-4484-b3c3-13d0551401a0\" class=\"colab-df-container\">\n",
              "    <div>\n",
              "<style scoped>\n",
              "    .dataframe tbody tr th:only-of-type {\n",
              "        vertical-align: middle;\n",
              "    }\n",
              "\n",
              "    .dataframe tbody tr th {\n",
              "        vertical-align: top;\n",
              "    }\n",
              "\n",
              "    .dataframe thead th {\n",
              "        text-align: right;\n",
              "    }\n",
              "</style>\n",
              "<table border=\"1\" class=\"dataframe\">\n",
              "  <thead>\n",
              "    <tr style=\"text-align: right;\">\n",
              "      <th></th>\n",
              "      <th>sepal length (cm)</th>\n",
              "      <th>sepal width (cm)</th>\n",
              "      <th>petal length (cm)</th>\n",
              "      <th>petal width (cm)</th>\n",
              "    </tr>\n",
              "  </thead>\n",
              "  <tbody>\n",
              "    <tr>\n",
              "      <th>0</th>\n",
              "      <td>-0.900681</td>\n",
              "      <td>1.019004</td>\n",
              "      <td>-1.340227</td>\n",
              "      <td>-1.315444</td>\n",
              "    </tr>\n",
              "    <tr>\n",
              "      <th>1</th>\n",
              "      <td>-1.143017</td>\n",
              "      <td>-0.131979</td>\n",
              "      <td>-1.340227</td>\n",
              "      <td>-1.315444</td>\n",
              "    </tr>\n",
              "    <tr>\n",
              "      <th>2</th>\n",
              "      <td>-1.385353</td>\n",
              "      <td>0.328414</td>\n",
              "      <td>-1.397064</td>\n",
              "      <td>-1.315444</td>\n",
              "    </tr>\n",
              "    <tr>\n",
              "      <th>3</th>\n",
              "      <td>-1.506521</td>\n",
              "      <td>0.098217</td>\n",
              "      <td>-1.283389</td>\n",
              "      <td>-1.315444</td>\n",
              "    </tr>\n",
              "    <tr>\n",
              "      <th>4</th>\n",
              "      <td>-1.021849</td>\n",
              "      <td>1.249201</td>\n",
              "      <td>-1.340227</td>\n",
              "      <td>-1.315444</td>\n",
              "    </tr>\n",
              "  </tbody>\n",
              "</table>\n",
              "</div>\n",
              "    <div class=\"colab-df-buttons\">\n",
              "\n",
              "  <div class=\"colab-df-container\">\n",
              "    <button class=\"colab-df-convert\" onclick=\"convertToInteractive('df-ec1e374a-ac8c-4484-b3c3-13d0551401a0')\"\n",
              "            title=\"Convert this dataframe to an interactive table.\"\n",
              "            style=\"display:none;\">\n",
              "\n",
              "  <svg xmlns=\"http://www.w3.org/2000/svg\" height=\"24px\" viewBox=\"0 -960 960 960\">\n",
              "    <path d=\"M120-120v-720h720v720H120Zm60-500h600v-160H180v160Zm220 220h160v-160H400v160Zm0 220h160v-160H400v160ZM180-400h160v-160H180v160Zm440 0h160v-160H620v160ZM180-180h160v-160H180v160Zm440 0h160v-160H620v160Z\"/>\n",
              "  </svg>\n",
              "    </button>\n",
              "\n",
              "  <style>\n",
              "    .colab-df-container {\n",
              "      display:flex;\n",
              "      gap: 12px;\n",
              "    }\n",
              "\n",
              "    .colab-df-convert {\n",
              "      background-color: #E8F0FE;\n",
              "      border: none;\n",
              "      border-radius: 50%;\n",
              "      cursor: pointer;\n",
              "      display: none;\n",
              "      fill: #1967D2;\n",
              "      height: 32px;\n",
              "      padding: 0 0 0 0;\n",
              "      width: 32px;\n",
              "    }\n",
              "\n",
              "    .colab-df-convert:hover {\n",
              "      background-color: #E2EBFA;\n",
              "      box-shadow: 0px 1px 2px rgba(60, 64, 67, 0.3), 0px 1px 3px 1px rgba(60, 64, 67, 0.15);\n",
              "      fill: #174EA6;\n",
              "    }\n",
              "\n",
              "    .colab-df-buttons div {\n",
              "      margin-bottom: 4px;\n",
              "    }\n",
              "\n",
              "    [theme=dark] .colab-df-convert {\n",
              "      background-color: #3B4455;\n",
              "      fill: #D2E3FC;\n",
              "    }\n",
              "\n",
              "    [theme=dark] .colab-df-convert:hover {\n",
              "      background-color: #434B5C;\n",
              "      box-shadow: 0px 1px 3px 1px rgba(0, 0, 0, 0.15);\n",
              "      filter: drop-shadow(0px 1px 2px rgba(0, 0, 0, 0.3));\n",
              "      fill: #FFFFFF;\n",
              "    }\n",
              "  </style>\n",
              "\n",
              "    <script>\n",
              "      const buttonEl =\n",
              "        document.querySelector('#df-ec1e374a-ac8c-4484-b3c3-13d0551401a0 button.colab-df-convert');\n",
              "      buttonEl.style.display =\n",
              "        google.colab.kernel.accessAllowed ? 'block' : 'none';\n",
              "\n",
              "      async function convertToInteractive(key) {\n",
              "        const element = document.querySelector('#df-ec1e374a-ac8c-4484-b3c3-13d0551401a0');\n",
              "        const dataTable =\n",
              "          await google.colab.kernel.invokeFunction('convertToInteractive',\n",
              "                                                    [key], {});\n",
              "        if (!dataTable) return;\n",
              "\n",
              "        const docLinkHtml = 'Like what you see? Visit the ' +\n",
              "          '<a target=\"_blank\" href=https://colab.research.google.com/notebooks/data_table.ipynb>data table notebook</a>'\n",
              "          + ' to learn more about interactive tables.';\n",
              "        element.innerHTML = '';\n",
              "        dataTable['output_type'] = 'display_data';\n",
              "        await google.colab.output.renderOutput(dataTable, element);\n",
              "        const docLink = document.createElement('div');\n",
              "        docLink.innerHTML = docLinkHtml;\n",
              "        element.appendChild(docLink);\n",
              "      }\n",
              "    </script>\n",
              "  </div>\n",
              "\n",
              "\n",
              "<div id=\"df-9ce14093-349e-47bd-a47c-00dc2bbfaec8\">\n",
              "  <button class=\"colab-df-quickchart\" onclick=\"quickchart('df-9ce14093-349e-47bd-a47c-00dc2bbfaec8')\"\n",
              "            title=\"Suggest charts.\"\n",
              "            style=\"display:none;\">\n",
              "\n",
              "<svg xmlns=\"http://www.w3.org/2000/svg\" height=\"24px\"viewBox=\"0 0 24 24\"\n",
              "     width=\"24px\">\n",
              "    <g>\n",
              "        <path d=\"M19 3H5c-1.1 0-2 .9-2 2v14c0 1.1.9 2 2 2h14c1.1 0 2-.9 2-2V5c0-1.1-.9-2-2-2zM9 17H7v-7h2v7zm4 0h-2V7h2v10zm4 0h-2v-4h2v4z\"/>\n",
              "    </g>\n",
              "</svg>\n",
              "  </button>\n",
              "\n",
              "<style>\n",
              "  .colab-df-quickchart {\n",
              "      --bg-color: #E8F0FE;\n",
              "      --fill-color: #1967D2;\n",
              "      --hover-bg-color: #E2EBFA;\n",
              "      --hover-fill-color: #174EA6;\n",
              "      --disabled-fill-color: #AAA;\n",
              "      --disabled-bg-color: #DDD;\n",
              "  }\n",
              "\n",
              "  [theme=dark] .colab-df-quickchart {\n",
              "      --bg-color: #3B4455;\n",
              "      --fill-color: #D2E3FC;\n",
              "      --hover-bg-color: #434B5C;\n",
              "      --hover-fill-color: #FFFFFF;\n",
              "      --disabled-bg-color: #3B4455;\n",
              "      --disabled-fill-color: #666;\n",
              "  }\n",
              "\n",
              "  .colab-df-quickchart {\n",
              "    background-color: var(--bg-color);\n",
              "    border: none;\n",
              "    border-radius: 50%;\n",
              "    cursor: pointer;\n",
              "    display: none;\n",
              "    fill: var(--fill-color);\n",
              "    height: 32px;\n",
              "    padding: 0;\n",
              "    width: 32px;\n",
              "  }\n",
              "\n",
              "  .colab-df-quickchart:hover {\n",
              "    background-color: var(--hover-bg-color);\n",
              "    box-shadow: 0 1px 2px rgba(60, 64, 67, 0.3), 0 1px 3px 1px rgba(60, 64, 67, 0.15);\n",
              "    fill: var(--button-hover-fill-color);\n",
              "  }\n",
              "\n",
              "  .colab-df-quickchart-complete:disabled,\n",
              "  .colab-df-quickchart-complete:disabled:hover {\n",
              "    background-color: var(--disabled-bg-color);\n",
              "    fill: var(--disabled-fill-color);\n",
              "    box-shadow: none;\n",
              "  }\n",
              "\n",
              "  .colab-df-spinner {\n",
              "    border: 2px solid var(--fill-color);\n",
              "    border-color: transparent;\n",
              "    border-bottom-color: var(--fill-color);\n",
              "    animation:\n",
              "      spin 1s steps(1) infinite;\n",
              "  }\n",
              "\n",
              "  @keyframes spin {\n",
              "    0% {\n",
              "      border-color: transparent;\n",
              "      border-bottom-color: var(--fill-color);\n",
              "      border-left-color: var(--fill-color);\n",
              "    }\n",
              "    20% {\n",
              "      border-color: transparent;\n",
              "      border-left-color: var(--fill-color);\n",
              "      border-top-color: var(--fill-color);\n",
              "    }\n",
              "    30% {\n",
              "      border-color: transparent;\n",
              "      border-left-color: var(--fill-color);\n",
              "      border-top-color: var(--fill-color);\n",
              "      border-right-color: var(--fill-color);\n",
              "    }\n",
              "    40% {\n",
              "      border-color: transparent;\n",
              "      border-right-color: var(--fill-color);\n",
              "      border-top-color: var(--fill-color);\n",
              "    }\n",
              "    60% {\n",
              "      border-color: transparent;\n",
              "      border-right-color: var(--fill-color);\n",
              "    }\n",
              "    80% {\n",
              "      border-color: transparent;\n",
              "      border-right-color: var(--fill-color);\n",
              "      border-bottom-color: var(--fill-color);\n",
              "    }\n",
              "    90% {\n",
              "      border-color: transparent;\n",
              "      border-bottom-color: var(--fill-color);\n",
              "    }\n",
              "  }\n",
              "</style>\n",
              "\n",
              "  <script>\n",
              "    async function quickchart(key) {\n",
              "      const quickchartButtonEl =\n",
              "        document.querySelector('#' + key + ' button');\n",
              "      quickchartButtonEl.disabled = true;  // To prevent multiple clicks.\n",
              "      quickchartButtonEl.classList.add('colab-df-spinner');\n",
              "      try {\n",
              "        const charts = await google.colab.kernel.invokeFunction(\n",
              "            'suggestCharts', [key], {});\n",
              "      } catch (error) {\n",
              "        console.error('Error during call to suggestCharts:', error);\n",
              "      }\n",
              "      quickchartButtonEl.classList.remove('colab-df-spinner');\n",
              "      quickchartButtonEl.classList.add('colab-df-quickchart-complete');\n",
              "    }\n",
              "    (() => {\n",
              "      let quickchartButtonEl =\n",
              "        document.querySelector('#df-9ce14093-349e-47bd-a47c-00dc2bbfaec8 button');\n",
              "      quickchartButtonEl.style.display =\n",
              "        google.colab.kernel.accessAllowed ? 'block' : 'none';\n",
              "    })();\n",
              "  </script>\n",
              "</div>\n",
              "    </div>\n",
              "  </div>\n"
            ]
          },
          "metadata": {},
          "execution_count": 30
        }
      ]
    },
    {
      "cell_type": "markdown",
      "source": [
        "MinMaxScaler\n",
        "\n",
        "x_new = (x - min(x)) / (max(x) - min(x))"
      ],
      "metadata": {
        "id": "JGi6uwXuD2il"
      }
    },
    {
      "cell_type": "code",
      "source": [
        "iris_df.min()"
      ],
      "metadata": {
        "colab": {
          "base_uri": "https://localhost:8080/"
        },
        "id": "kxAqwyqZDH9C",
        "outputId": "b629c8ab-7d19-47c7-a4c9-a8fcd81689bd"
      },
      "execution_count": null,
      "outputs": [
        {
          "output_type": "execute_result",
          "data": {
            "text/plain": [
              "sepal length (cm)    4.3\n",
              "sepal width (cm)     2.0\n",
              "petal length (cm)    1.0\n",
              "petal width (cm)     0.1\n",
              "dtype: float64"
            ]
          },
          "metadata": {},
          "execution_count": 32
        }
      ]
    },
    {
      "cell_type": "code",
      "source": [
        "iris_df.max()"
      ],
      "metadata": {
        "colab": {
          "base_uri": "https://localhost:8080/"
        },
        "id": "yANtVKqxEWSl",
        "outputId": "2193fc1b-cf78-49ba-c455-489fb5d6f840"
      },
      "execution_count": null,
      "outputs": [
        {
          "output_type": "execute_result",
          "data": {
            "text/plain": [
              "sepal length (cm)    7.9\n",
              "sepal width (cm)     4.4\n",
              "petal length (cm)    6.9\n",
              "petal width (cm)     2.5\n",
              "dtype: float64"
            ]
          },
          "metadata": {},
          "execution_count": 34
        }
      ]
    },
    {
      "cell_type": "code",
      "source": [
        "scaler = MinMaxScaler()"
      ],
      "metadata": {
        "id": "cVyz8UzNEZGL"
      },
      "execution_count": null,
      "outputs": []
    },
    {
      "cell_type": "code",
      "source": [
        "scaler.fit(iris_df)"
      ],
      "metadata": {
        "colab": {
          "base_uri": "https://localhost:8080/",
          "height": 74
        },
        "id": "34QRVB3hHGB4",
        "outputId": "27964d94-586b-4914-85a9-b3dd93a91d50"
      },
      "execution_count": null,
      "outputs": [
        {
          "output_type": "execute_result",
          "data": {
            "text/plain": [
              "MinMaxScaler()"
            ],
            "text/html": [
              "<style>#sk-container-id-2 {color: black;background-color: white;}#sk-container-id-2 pre{padding: 0;}#sk-container-id-2 div.sk-toggleable {background-color: white;}#sk-container-id-2 label.sk-toggleable__label {cursor: pointer;display: block;width: 100%;margin-bottom: 0;padding: 0.3em;box-sizing: border-box;text-align: center;}#sk-container-id-2 label.sk-toggleable__label-arrow:before {content: \"▸\";float: left;margin-right: 0.25em;color: #696969;}#sk-container-id-2 label.sk-toggleable__label-arrow:hover:before {color: black;}#sk-container-id-2 div.sk-estimator:hover label.sk-toggleable__label-arrow:before {color: black;}#sk-container-id-2 div.sk-toggleable__content {max-height: 0;max-width: 0;overflow: hidden;text-align: left;background-color: #f0f8ff;}#sk-container-id-2 div.sk-toggleable__content pre {margin: 0.2em;color: black;border-radius: 0.25em;background-color: #f0f8ff;}#sk-container-id-2 input.sk-toggleable__control:checked~div.sk-toggleable__content {max-height: 200px;max-width: 100%;overflow: auto;}#sk-container-id-2 input.sk-toggleable__control:checked~label.sk-toggleable__label-arrow:before {content: \"▾\";}#sk-container-id-2 div.sk-estimator input.sk-toggleable__control:checked~label.sk-toggleable__label {background-color: #d4ebff;}#sk-container-id-2 div.sk-label input.sk-toggleable__control:checked~label.sk-toggleable__label {background-color: #d4ebff;}#sk-container-id-2 input.sk-hidden--visually {border: 0;clip: rect(1px 1px 1px 1px);clip: rect(1px, 1px, 1px, 1px);height: 1px;margin: -1px;overflow: hidden;padding: 0;position: absolute;width: 1px;}#sk-container-id-2 div.sk-estimator {font-family: monospace;background-color: #f0f8ff;border: 1px dotted black;border-radius: 0.25em;box-sizing: border-box;margin-bottom: 0.5em;}#sk-container-id-2 div.sk-estimator:hover {background-color: #d4ebff;}#sk-container-id-2 div.sk-parallel-item::after {content: \"\";width: 100%;border-bottom: 1px solid gray;flex-grow: 1;}#sk-container-id-2 div.sk-label:hover label.sk-toggleable__label {background-color: #d4ebff;}#sk-container-id-2 div.sk-serial::before {content: \"\";position: absolute;border-left: 1px solid gray;box-sizing: border-box;top: 0;bottom: 0;left: 50%;z-index: 0;}#sk-container-id-2 div.sk-serial {display: flex;flex-direction: column;align-items: center;background-color: white;padding-right: 0.2em;padding-left: 0.2em;position: relative;}#sk-container-id-2 div.sk-item {position: relative;z-index: 1;}#sk-container-id-2 div.sk-parallel {display: flex;align-items: stretch;justify-content: center;background-color: white;position: relative;}#sk-container-id-2 div.sk-item::before, #sk-container-id-2 div.sk-parallel-item::before {content: \"\";position: absolute;border-left: 1px solid gray;box-sizing: border-box;top: 0;bottom: 0;left: 50%;z-index: -1;}#sk-container-id-2 div.sk-parallel-item {display: flex;flex-direction: column;z-index: 1;position: relative;background-color: white;}#sk-container-id-2 div.sk-parallel-item:first-child::after {align-self: flex-end;width: 50%;}#sk-container-id-2 div.sk-parallel-item:last-child::after {align-self: flex-start;width: 50%;}#sk-container-id-2 div.sk-parallel-item:only-child::after {width: 0;}#sk-container-id-2 div.sk-dashed-wrapped {border: 1px dashed gray;margin: 0 0.4em 0.5em 0.4em;box-sizing: border-box;padding-bottom: 0.4em;background-color: white;}#sk-container-id-2 div.sk-label label {font-family: monospace;font-weight: bold;display: inline-block;line-height: 1.2em;}#sk-container-id-2 div.sk-label-container {text-align: center;}#sk-container-id-2 div.sk-container {/* jupyter's `normalize.less` sets `[hidden] { display: none; }` but bootstrap.min.css set `[hidden] { display: none !important; }` so we also need the `!important` here to be able to override the default hidden behavior on the sphinx rendered scikit-learn.org. See: https://github.com/scikit-learn/scikit-learn/issues/21755 */display: inline-block !important;position: relative;}#sk-container-id-2 div.sk-text-repr-fallback {display: none;}</style><div id=\"sk-container-id-2\" class=\"sk-top-container\"><div class=\"sk-text-repr-fallback\"><pre>MinMaxScaler()</pre><b>In a Jupyter environment, please rerun this cell to show the HTML representation or trust the notebook. <br />On GitHub, the HTML representation is unable to render, please try loading this page with nbviewer.org.</b></div><div class=\"sk-container\" hidden><div class=\"sk-item\"><div class=\"sk-estimator sk-toggleable\"><input class=\"sk-toggleable__control sk-hidden--visually\" id=\"sk-estimator-id-4\" type=\"checkbox\" checked><label for=\"sk-estimator-id-4\" class=\"sk-toggleable__label sk-toggleable__label-arrow\">MinMaxScaler</label><div class=\"sk-toggleable__content\"><pre>MinMaxScaler()</pre></div></div></div></div></div>"
            ]
          },
          "metadata": {},
          "execution_count": 36
        }
      ]
    },
    {
      "cell_type": "code",
      "source": [
        "iris_scaled = scaler.transform(iris_df)"
      ],
      "metadata": {
        "id": "48NAanzjHIyu"
      },
      "execution_count": null,
      "outputs": []
    },
    {
      "cell_type": "code",
      "source": [
        "iris_df_mix_max = pd.DataFrame(data=iris_scaled, columns=iris.feature_names)"
      ],
      "metadata": {
        "id": "QepHASSrHbhh"
      },
      "execution_count": null,
      "outputs": []
    },
    {
      "cell_type": "code",
      "source": [
        "iris_df_mix_max.head()"
      ],
      "metadata": {
        "colab": {
          "base_uri": "https://localhost:8080/",
          "height": 206
        },
        "id": "FufTqiP_Hpam",
        "outputId": "8ab7145e-e3f5-403d-b0e7-6575d010c4a6"
      },
      "execution_count": null,
      "outputs": [
        {
          "output_type": "execute_result",
          "data": {
            "text/plain": [
              "   sepal length (cm)  sepal width (cm)  petal length (cm)  petal width (cm)\n",
              "0           0.222222          0.625000           0.067797          0.041667\n",
              "1           0.166667          0.416667           0.067797          0.041667\n",
              "2           0.111111          0.500000           0.050847          0.041667\n",
              "3           0.083333          0.458333           0.084746          0.041667\n",
              "4           0.194444          0.666667           0.067797          0.041667"
            ],
            "text/html": [
              "\n",
              "  <div id=\"df-2b39cab0-7cf1-4a66-89f1-9bd4d8f56540\" class=\"colab-df-container\">\n",
              "    <div>\n",
              "<style scoped>\n",
              "    .dataframe tbody tr th:only-of-type {\n",
              "        vertical-align: middle;\n",
              "    }\n",
              "\n",
              "    .dataframe tbody tr th {\n",
              "        vertical-align: top;\n",
              "    }\n",
              "\n",
              "    .dataframe thead th {\n",
              "        text-align: right;\n",
              "    }\n",
              "</style>\n",
              "<table border=\"1\" class=\"dataframe\">\n",
              "  <thead>\n",
              "    <tr style=\"text-align: right;\">\n",
              "      <th></th>\n",
              "      <th>sepal length (cm)</th>\n",
              "      <th>sepal width (cm)</th>\n",
              "      <th>petal length (cm)</th>\n",
              "      <th>petal width (cm)</th>\n",
              "    </tr>\n",
              "  </thead>\n",
              "  <tbody>\n",
              "    <tr>\n",
              "      <th>0</th>\n",
              "      <td>0.222222</td>\n",
              "      <td>0.625000</td>\n",
              "      <td>0.067797</td>\n",
              "      <td>0.041667</td>\n",
              "    </tr>\n",
              "    <tr>\n",
              "      <th>1</th>\n",
              "      <td>0.166667</td>\n",
              "      <td>0.416667</td>\n",
              "      <td>0.067797</td>\n",
              "      <td>0.041667</td>\n",
              "    </tr>\n",
              "    <tr>\n",
              "      <th>2</th>\n",
              "      <td>0.111111</td>\n",
              "      <td>0.500000</td>\n",
              "      <td>0.050847</td>\n",
              "      <td>0.041667</td>\n",
              "    </tr>\n",
              "    <tr>\n",
              "      <th>3</th>\n",
              "      <td>0.083333</td>\n",
              "      <td>0.458333</td>\n",
              "      <td>0.084746</td>\n",
              "      <td>0.041667</td>\n",
              "    </tr>\n",
              "    <tr>\n",
              "      <th>4</th>\n",
              "      <td>0.194444</td>\n",
              "      <td>0.666667</td>\n",
              "      <td>0.067797</td>\n",
              "      <td>0.041667</td>\n",
              "    </tr>\n",
              "  </tbody>\n",
              "</table>\n",
              "</div>\n",
              "    <div class=\"colab-df-buttons\">\n",
              "\n",
              "  <div class=\"colab-df-container\">\n",
              "    <button class=\"colab-df-convert\" onclick=\"convertToInteractive('df-2b39cab0-7cf1-4a66-89f1-9bd4d8f56540')\"\n",
              "            title=\"Convert this dataframe to an interactive table.\"\n",
              "            style=\"display:none;\">\n",
              "\n",
              "  <svg xmlns=\"http://www.w3.org/2000/svg\" height=\"24px\" viewBox=\"0 -960 960 960\">\n",
              "    <path d=\"M120-120v-720h720v720H120Zm60-500h600v-160H180v160Zm220 220h160v-160H400v160Zm0 220h160v-160H400v160ZM180-400h160v-160H180v160Zm440 0h160v-160H620v160ZM180-180h160v-160H180v160Zm440 0h160v-160H620v160Z\"/>\n",
              "  </svg>\n",
              "    </button>\n",
              "\n",
              "  <style>\n",
              "    .colab-df-container {\n",
              "      display:flex;\n",
              "      gap: 12px;\n",
              "    }\n",
              "\n",
              "    .colab-df-convert {\n",
              "      background-color: #E8F0FE;\n",
              "      border: none;\n",
              "      border-radius: 50%;\n",
              "      cursor: pointer;\n",
              "      display: none;\n",
              "      fill: #1967D2;\n",
              "      height: 32px;\n",
              "      padding: 0 0 0 0;\n",
              "      width: 32px;\n",
              "    }\n",
              "\n",
              "    .colab-df-convert:hover {\n",
              "      background-color: #E2EBFA;\n",
              "      box-shadow: 0px 1px 2px rgba(60, 64, 67, 0.3), 0px 1px 3px 1px rgba(60, 64, 67, 0.15);\n",
              "      fill: #174EA6;\n",
              "    }\n",
              "\n",
              "    .colab-df-buttons div {\n",
              "      margin-bottom: 4px;\n",
              "    }\n",
              "\n",
              "    [theme=dark] .colab-df-convert {\n",
              "      background-color: #3B4455;\n",
              "      fill: #D2E3FC;\n",
              "    }\n",
              "\n",
              "    [theme=dark] .colab-df-convert:hover {\n",
              "      background-color: #434B5C;\n",
              "      box-shadow: 0px 1px 3px 1px rgba(0, 0, 0, 0.15);\n",
              "      filter: drop-shadow(0px 1px 2px rgba(0, 0, 0, 0.3));\n",
              "      fill: #FFFFFF;\n",
              "    }\n",
              "  </style>\n",
              "\n",
              "    <script>\n",
              "      const buttonEl =\n",
              "        document.querySelector('#df-2b39cab0-7cf1-4a66-89f1-9bd4d8f56540 button.colab-df-convert');\n",
              "      buttonEl.style.display =\n",
              "        google.colab.kernel.accessAllowed ? 'block' : 'none';\n",
              "\n",
              "      async function convertToInteractive(key) {\n",
              "        const element = document.querySelector('#df-2b39cab0-7cf1-4a66-89f1-9bd4d8f56540');\n",
              "        const dataTable =\n",
              "          await google.colab.kernel.invokeFunction('convertToInteractive',\n",
              "                                                    [key], {});\n",
              "        if (!dataTable) return;\n",
              "\n",
              "        const docLinkHtml = 'Like what you see? Visit the ' +\n",
              "          '<a target=\"_blank\" href=https://colab.research.google.com/notebooks/data_table.ipynb>data table notebook</a>'\n",
              "          + ' to learn more about interactive tables.';\n",
              "        element.innerHTML = '';\n",
              "        dataTable['output_type'] = 'display_data';\n",
              "        await google.colab.output.renderOutput(dataTable, element);\n",
              "        const docLink = document.createElement('div');\n",
              "        docLink.innerHTML = docLinkHtml;\n",
              "        element.appendChild(docLink);\n",
              "      }\n",
              "    </script>\n",
              "  </div>\n",
              "\n",
              "\n",
              "<div id=\"df-75a96688-8069-4b5b-b6d8-2f6aa3f65eea\">\n",
              "  <button class=\"colab-df-quickchart\" onclick=\"quickchart('df-75a96688-8069-4b5b-b6d8-2f6aa3f65eea')\"\n",
              "            title=\"Suggest charts.\"\n",
              "            style=\"display:none;\">\n",
              "\n",
              "<svg xmlns=\"http://www.w3.org/2000/svg\" height=\"24px\"viewBox=\"0 0 24 24\"\n",
              "     width=\"24px\">\n",
              "    <g>\n",
              "        <path d=\"M19 3H5c-1.1 0-2 .9-2 2v14c0 1.1.9 2 2 2h14c1.1 0 2-.9 2-2V5c0-1.1-.9-2-2-2zM9 17H7v-7h2v7zm4 0h-2V7h2v10zm4 0h-2v-4h2v4z\"/>\n",
              "    </g>\n",
              "</svg>\n",
              "  </button>\n",
              "\n",
              "<style>\n",
              "  .colab-df-quickchart {\n",
              "      --bg-color: #E8F0FE;\n",
              "      --fill-color: #1967D2;\n",
              "      --hover-bg-color: #E2EBFA;\n",
              "      --hover-fill-color: #174EA6;\n",
              "      --disabled-fill-color: #AAA;\n",
              "      --disabled-bg-color: #DDD;\n",
              "  }\n",
              "\n",
              "  [theme=dark] .colab-df-quickchart {\n",
              "      --bg-color: #3B4455;\n",
              "      --fill-color: #D2E3FC;\n",
              "      --hover-bg-color: #434B5C;\n",
              "      --hover-fill-color: #FFFFFF;\n",
              "      --disabled-bg-color: #3B4455;\n",
              "      --disabled-fill-color: #666;\n",
              "  }\n",
              "\n",
              "  .colab-df-quickchart {\n",
              "    background-color: var(--bg-color);\n",
              "    border: none;\n",
              "    border-radius: 50%;\n",
              "    cursor: pointer;\n",
              "    display: none;\n",
              "    fill: var(--fill-color);\n",
              "    height: 32px;\n",
              "    padding: 0;\n",
              "    width: 32px;\n",
              "  }\n",
              "\n",
              "  .colab-df-quickchart:hover {\n",
              "    background-color: var(--hover-bg-color);\n",
              "    box-shadow: 0 1px 2px rgba(60, 64, 67, 0.3), 0 1px 3px 1px rgba(60, 64, 67, 0.15);\n",
              "    fill: var(--button-hover-fill-color);\n",
              "  }\n",
              "\n",
              "  .colab-df-quickchart-complete:disabled,\n",
              "  .colab-df-quickchart-complete:disabled:hover {\n",
              "    background-color: var(--disabled-bg-color);\n",
              "    fill: var(--disabled-fill-color);\n",
              "    box-shadow: none;\n",
              "  }\n",
              "\n",
              "  .colab-df-spinner {\n",
              "    border: 2px solid var(--fill-color);\n",
              "    border-color: transparent;\n",
              "    border-bottom-color: var(--fill-color);\n",
              "    animation:\n",
              "      spin 1s steps(1) infinite;\n",
              "  }\n",
              "\n",
              "  @keyframes spin {\n",
              "    0% {\n",
              "      border-color: transparent;\n",
              "      border-bottom-color: var(--fill-color);\n",
              "      border-left-color: var(--fill-color);\n",
              "    }\n",
              "    20% {\n",
              "      border-color: transparent;\n",
              "      border-left-color: var(--fill-color);\n",
              "      border-top-color: var(--fill-color);\n",
              "    }\n",
              "    30% {\n",
              "      border-color: transparent;\n",
              "      border-left-color: var(--fill-color);\n",
              "      border-top-color: var(--fill-color);\n",
              "      border-right-color: var(--fill-color);\n",
              "    }\n",
              "    40% {\n",
              "      border-color: transparent;\n",
              "      border-right-color: var(--fill-color);\n",
              "      border-top-color: var(--fill-color);\n",
              "    }\n",
              "    60% {\n",
              "      border-color: transparent;\n",
              "      border-right-color: var(--fill-color);\n",
              "    }\n",
              "    80% {\n",
              "      border-color: transparent;\n",
              "      border-right-color: var(--fill-color);\n",
              "      border-bottom-color: var(--fill-color);\n",
              "    }\n",
              "    90% {\n",
              "      border-color: transparent;\n",
              "      border-bottom-color: var(--fill-color);\n",
              "    }\n",
              "  }\n",
              "</style>\n",
              "\n",
              "  <script>\n",
              "    async function quickchart(key) {\n",
              "      const quickchartButtonEl =\n",
              "        document.querySelector('#' + key + ' button');\n",
              "      quickchartButtonEl.disabled = true;  // To prevent multiple clicks.\n",
              "      quickchartButtonEl.classList.add('colab-df-spinner');\n",
              "      try {\n",
              "        const charts = await google.colab.kernel.invokeFunction(\n",
              "            'suggestCharts', [key], {});\n",
              "      } catch (error) {\n",
              "        console.error('Error during call to suggestCharts:', error);\n",
              "      }\n",
              "      quickchartButtonEl.classList.remove('colab-df-spinner');\n",
              "      quickchartButtonEl.classList.add('colab-df-quickchart-complete');\n",
              "    }\n",
              "    (() => {\n",
              "      let quickchartButtonEl =\n",
              "        document.querySelector('#df-75a96688-8069-4b5b-b6d8-2f6aa3f65eea button');\n",
              "      quickchartButtonEl.style.display =\n",
              "        google.colab.kernel.accessAllowed ? 'block' : 'none';\n",
              "    })();\n",
              "  </script>\n",
              "</div>\n",
              "    </div>\n",
              "  </div>\n"
            ]
          },
          "metadata": {},
          "execution_count": 39
        }
      ]
    },
    {
      "cell_type": "code",
      "source": [
        "iris_df_mix_max.min()"
      ],
      "metadata": {
        "colab": {
          "base_uri": "https://localhost:8080/"
        },
        "id": "KDJ08S_7HtrC",
        "outputId": "d5a4113f-7019-4f95-9077-afcb54b0fda5"
      },
      "execution_count": null,
      "outputs": [
        {
          "output_type": "execute_result",
          "data": {
            "text/plain": [
              "sepal length (cm)    0.0\n",
              "sepal width (cm)     0.0\n",
              "petal length (cm)    0.0\n",
              "petal width (cm)     0.0\n",
              "dtype: float64"
            ]
          },
          "metadata": {},
          "execution_count": 40
        }
      ]
    },
    {
      "cell_type": "code",
      "source": [
        "iris_df_mix_max.max()"
      ],
      "metadata": {
        "colab": {
          "base_uri": "https://localhost:8080/"
        },
        "id": "hHBIF8XiH2iH",
        "outputId": "c1aac36d-5a67-465e-833c-69301dc945b0"
      },
      "execution_count": null,
      "outputs": [
        {
          "output_type": "execute_result",
          "data": {
            "text/plain": [
              "sepal length (cm)    1.0\n",
              "sepal width (cm)     1.0\n",
              "petal length (cm)    1.0\n",
              "petal width (cm)     1.0\n",
              "dtype: float64"
            ]
          },
          "metadata": {},
          "execution_count": 41
        }
      ]
    },
    {
      "cell_type": "code",
      "source": [
        "train_array = np.arange(0, 11).reshape(-1,1)"
      ],
      "metadata": {
        "id": "hlQNWgcyH5k5"
      },
      "execution_count": null,
      "outputs": []
    },
    {
      "cell_type": "code",
      "source": [
        "train_array"
      ],
      "metadata": {
        "colab": {
          "base_uri": "https://localhost:8080/"
        },
        "id": "Pk5SbWOkIiC1",
        "outputId": "7032539c-f339-4e7d-9697-042e852cbcb2"
      },
      "execution_count": null,
      "outputs": [
        {
          "output_type": "execute_result",
          "data": {
            "text/plain": [
              "array([[ 0],\n",
              "       [ 1],\n",
              "       [ 2],\n",
              "       [ 3],\n",
              "       [ 4],\n",
              "       [ 5],\n",
              "       [ 6],\n",
              "       [ 7],\n",
              "       [ 8],\n",
              "       [ 9],\n",
              "       [10]])"
            ]
          },
          "metadata": {},
          "execution_count": 43
        }
      ]
    },
    {
      "cell_type": "code",
      "source": [
        "test_array = np.arange(0, 6).reshape(-1,1)"
      ],
      "metadata": {
        "id": "6cCJl03ZIjSO"
      },
      "execution_count": null,
      "outputs": []
    },
    {
      "cell_type": "code",
      "source": [
        "test_array"
      ],
      "metadata": {
        "colab": {
          "base_uri": "https://localhost:8080/"
        },
        "id": "QiX8_-4oIrKv",
        "outputId": "fb5cf36d-0632-4580-9161-a5b8f8dfa393"
      },
      "execution_count": null,
      "outputs": [
        {
          "output_type": "execute_result",
          "data": {
            "text/plain": [
              "array([[0],\n",
              "       [1],\n",
              "       [2],\n",
              "       [3],\n",
              "       [4],\n",
              "       [5]])"
            ]
          },
          "metadata": {},
          "execution_count": 45
        }
      ]
    },
    {
      "cell_type": "code",
      "source": [
        "scaler = MinMaxScaler()\n",
        "scaler.fit(train_array) #scaler.fit_transform(train_array)\n",
        "train_scaled = scaler.transform(train_array)"
      ],
      "metadata": {
        "id": "dBI4PVkRIsUl"
      },
      "execution_count": null,
      "outputs": []
    },
    {
      "cell_type": "code",
      "source": [
        "train_scaled # 10 -> 1, 5-> 0.5"
      ],
      "metadata": {
        "colab": {
          "base_uri": "https://localhost:8080/"
        },
        "id": "IQeh9iGEJAM0",
        "outputId": "33cca097-2954-420a-fc75-8e47a55e686c"
      },
      "execution_count": null,
      "outputs": [
        {
          "output_type": "execute_result",
          "data": {
            "text/plain": [
              "array([[0. ],\n",
              "       [0.1],\n",
              "       [0.2],\n",
              "       [0.3],\n",
              "       [0.4],\n",
              "       [0.5],\n",
              "       [0.6],\n",
              "       [0.7],\n",
              "       [0.8],\n",
              "       [0.9],\n",
              "       [1. ]])"
            ]
          },
          "metadata": {},
          "execution_count": 52
        }
      ]
    },
    {
      "cell_type": "code",
      "source": [
        "scaler = MinMaxScaler()\n",
        "scaler.fit(test_array)\n",
        "test_scaled = scaler.transform(test_array)"
      ],
      "metadata": {
        "id": "DS4Wqy_1JBiQ"
      },
      "execution_count": null,
      "outputs": []
    },
    {
      "cell_type": "code",
      "source": [
        "test_scaled # 5 -> 1"
      ],
      "metadata": {
        "colab": {
          "base_uri": "https://localhost:8080/"
        },
        "id": "fxo5_mLsJWXV",
        "outputId": "c439eb41-dcde-43ed-e6dc-a7cc2882cc60"
      },
      "execution_count": null,
      "outputs": [
        {
          "output_type": "execute_result",
          "data": {
            "text/plain": [
              "array([[0. ],\n",
              "       [0.2],\n",
              "       [0.4],\n",
              "       [0.6],\n",
              "       [0.8],\n",
              "       [1. ]])"
            ]
          },
          "metadata": {},
          "execution_count": 54
        }
      ]
    },
    {
      "cell_type": "code",
      "source": [
        "scaler = MinMaxScaler()\n",
        "scaler.fit(train_array)\n",
        "test_scaled_2 = scaler.transform(test_array)\n",
        "test_scaled_2"
      ],
      "metadata": {
        "colab": {
          "base_uri": "https://localhost:8080/"
        },
        "id": "kav4GscqJjnT",
        "outputId": "18e85433-a770-4aac-c291-c7c514c9ea6e"
      },
      "execution_count": null,
      "outputs": [
        {
          "output_type": "execute_result",
          "data": {
            "text/plain": [
              "array([[0. ],\n",
              "       [0.1],\n",
              "       [0.2],\n",
              "       [0.3],\n",
              "       [0.4],\n",
              "       [0.5]])"
            ]
          },
          "metadata": {},
          "execution_count": 57
        }
      ]
    },
    {
      "cell_type": "markdown",
      "source": [
        "학습데이터로 fit 된 scaler를 사용하여 test 데이터를 transform 시키자"
      ],
      "metadata": {
        "id": "enN-wY4dMp16"
      }
    },
    {
      "cell_type": "markdown",
      "source": [
        " A :  훈련, Scaler\n",
        "\n",
        " B : test\n",
        "\n",
        " C : 일반데이터"
      ],
      "metadata": {
        "id": "hnL2p6TmNW9I"
      }
    },
    {
      "cell_type": "code",
      "source": [
        "ls ./drive/MyDrive/data/ti*"
      ],
      "metadata": {
        "colab": {
          "base_uri": "https://localhost:8080/"
        },
        "id": "UMAvnFu5KjUT",
        "outputId": "1cf597f0-c2c4-4c48-daee-61a136b3f6eb"
      },
      "execution_count": null,
      "outputs": [
        {
          "output_type": "stream",
          "name": "stdout",
          "text": [
            "./drive/MyDrive/data/tips.csv  ./drive/MyDrive/data/titanic_train.csv\n"
          ]
        }
      ]
    },
    {
      "cell_type": "code",
      "source": [
        "from sklearn.preprocessing import LabelEncoder"
      ],
      "metadata": {
        "id": "7B8JU1bdO-Lo"
      },
      "execution_count": null,
      "outputs": []
    },
    {
      "cell_type": "code",
      "source": [
        "titanic = pd.read_csv('./drive/MyDrive/data/titanic_train.csv')"
      ],
      "metadata": {
        "id": "xZ6y2_tpPZI-"
      },
      "execution_count": null,
      "outputs": []
    },
    {
      "cell_type": "code",
      "source": [
        "titanic.head()"
      ],
      "metadata": {
        "colab": {
          "base_uri": "https://localhost:8080/",
          "height": 258
        },
        "id": "PO5qRJpSPlkl",
        "outputId": "e9d827b1-a43e-427c-81d5-91f76c2d05d8"
      },
      "execution_count": null,
      "outputs": [
        {
          "output_type": "execute_result",
          "data": {
            "text/plain": [
              "   PassengerId  Survived  Pclass  \\\n",
              "0            1         0       3   \n",
              "1            2         1       1   \n",
              "2            3         1       3   \n",
              "3            4         1       1   \n",
              "4            5         0       3   \n",
              "\n",
              "                                                Name     Sex   Age  SibSp  \\\n",
              "0                            Braund, Mr. Owen Harris    male  22.0      1   \n",
              "1  Cumings, Mrs. John Bradley (Florence Briggs Th...  female  38.0      1   \n",
              "2                             Heikkinen, Miss. Laina  female  26.0      0   \n",
              "3       Futrelle, Mrs. Jacques Heath (Lily May Peel)  female  35.0      1   \n",
              "4                           Allen, Mr. William Henry    male  35.0      0   \n",
              "\n",
              "   Parch            Ticket     Fare Cabin Embarked  \n",
              "0      0         A/5 21171   7.2500   NaN        S  \n",
              "1      0          PC 17599  71.2833   C85        C  \n",
              "2      0  STON/O2. 3101282   7.9250   NaN        S  \n",
              "3      0            113803  53.1000  C123        S  \n",
              "4      0            373450   8.0500   NaN        S  "
            ],
            "text/html": [
              "\n",
              "  <div id=\"df-55c1d4c3-8138-4e05-936d-92a5a01968b0\" class=\"colab-df-container\">\n",
              "    <div>\n",
              "<style scoped>\n",
              "    .dataframe tbody tr th:only-of-type {\n",
              "        vertical-align: middle;\n",
              "    }\n",
              "\n",
              "    .dataframe tbody tr th {\n",
              "        vertical-align: top;\n",
              "    }\n",
              "\n",
              "    .dataframe thead th {\n",
              "        text-align: right;\n",
              "    }\n",
              "</style>\n",
              "<table border=\"1\" class=\"dataframe\">\n",
              "  <thead>\n",
              "    <tr style=\"text-align: right;\">\n",
              "      <th></th>\n",
              "      <th>PassengerId</th>\n",
              "      <th>Survived</th>\n",
              "      <th>Pclass</th>\n",
              "      <th>Name</th>\n",
              "      <th>Sex</th>\n",
              "      <th>Age</th>\n",
              "      <th>SibSp</th>\n",
              "      <th>Parch</th>\n",
              "      <th>Ticket</th>\n",
              "      <th>Fare</th>\n",
              "      <th>Cabin</th>\n",
              "      <th>Embarked</th>\n",
              "    </tr>\n",
              "  </thead>\n",
              "  <tbody>\n",
              "    <tr>\n",
              "      <th>0</th>\n",
              "      <td>1</td>\n",
              "      <td>0</td>\n",
              "      <td>3</td>\n",
              "      <td>Braund, Mr. Owen Harris</td>\n",
              "      <td>male</td>\n",
              "      <td>22.0</td>\n",
              "      <td>1</td>\n",
              "      <td>0</td>\n",
              "      <td>A/5 21171</td>\n",
              "      <td>7.2500</td>\n",
              "      <td>NaN</td>\n",
              "      <td>S</td>\n",
              "    </tr>\n",
              "    <tr>\n",
              "      <th>1</th>\n",
              "      <td>2</td>\n",
              "      <td>1</td>\n",
              "      <td>1</td>\n",
              "      <td>Cumings, Mrs. John Bradley (Florence Briggs Th...</td>\n",
              "      <td>female</td>\n",
              "      <td>38.0</td>\n",
              "      <td>1</td>\n",
              "      <td>0</td>\n",
              "      <td>PC 17599</td>\n",
              "      <td>71.2833</td>\n",
              "      <td>C85</td>\n",
              "      <td>C</td>\n",
              "    </tr>\n",
              "    <tr>\n",
              "      <th>2</th>\n",
              "      <td>3</td>\n",
              "      <td>1</td>\n",
              "      <td>3</td>\n",
              "      <td>Heikkinen, Miss. Laina</td>\n",
              "      <td>female</td>\n",
              "      <td>26.0</td>\n",
              "      <td>0</td>\n",
              "      <td>0</td>\n",
              "      <td>STON/O2. 3101282</td>\n",
              "      <td>7.9250</td>\n",
              "      <td>NaN</td>\n",
              "      <td>S</td>\n",
              "    </tr>\n",
              "    <tr>\n",
              "      <th>3</th>\n",
              "      <td>4</td>\n",
              "      <td>1</td>\n",
              "      <td>1</td>\n",
              "      <td>Futrelle, Mrs. Jacques Heath (Lily May Peel)</td>\n",
              "      <td>female</td>\n",
              "      <td>35.0</td>\n",
              "      <td>1</td>\n",
              "      <td>0</td>\n",
              "      <td>113803</td>\n",
              "      <td>53.1000</td>\n",
              "      <td>C123</td>\n",
              "      <td>S</td>\n",
              "    </tr>\n",
              "    <tr>\n",
              "      <th>4</th>\n",
              "      <td>5</td>\n",
              "      <td>0</td>\n",
              "      <td>3</td>\n",
              "      <td>Allen, Mr. William Henry</td>\n",
              "      <td>male</td>\n",
              "      <td>35.0</td>\n",
              "      <td>0</td>\n",
              "      <td>0</td>\n",
              "      <td>373450</td>\n",
              "      <td>8.0500</td>\n",
              "      <td>NaN</td>\n",
              "      <td>S</td>\n",
              "    </tr>\n",
              "  </tbody>\n",
              "</table>\n",
              "</div>\n",
              "    <div class=\"colab-df-buttons\">\n",
              "\n",
              "  <div class=\"colab-df-container\">\n",
              "    <button class=\"colab-df-convert\" onclick=\"convertToInteractive('df-55c1d4c3-8138-4e05-936d-92a5a01968b0')\"\n",
              "            title=\"Convert this dataframe to an interactive table.\"\n",
              "            style=\"display:none;\">\n",
              "\n",
              "  <svg xmlns=\"http://www.w3.org/2000/svg\" height=\"24px\" viewBox=\"0 -960 960 960\">\n",
              "    <path d=\"M120-120v-720h720v720H120Zm60-500h600v-160H180v160Zm220 220h160v-160H400v160Zm0 220h160v-160H400v160ZM180-400h160v-160H180v160Zm440 0h160v-160H620v160ZM180-180h160v-160H180v160Zm440 0h160v-160H620v160Z\"/>\n",
              "  </svg>\n",
              "    </button>\n",
              "\n",
              "  <style>\n",
              "    .colab-df-container {\n",
              "      display:flex;\n",
              "      gap: 12px;\n",
              "    }\n",
              "\n",
              "    .colab-df-convert {\n",
              "      background-color: #E8F0FE;\n",
              "      border: none;\n",
              "      border-radius: 50%;\n",
              "      cursor: pointer;\n",
              "      display: none;\n",
              "      fill: #1967D2;\n",
              "      height: 32px;\n",
              "      padding: 0 0 0 0;\n",
              "      width: 32px;\n",
              "    }\n",
              "\n",
              "    .colab-df-convert:hover {\n",
              "      background-color: #E2EBFA;\n",
              "      box-shadow: 0px 1px 2px rgba(60, 64, 67, 0.3), 0px 1px 3px 1px rgba(60, 64, 67, 0.15);\n",
              "      fill: #174EA6;\n",
              "    }\n",
              "\n",
              "    .colab-df-buttons div {\n",
              "      margin-bottom: 4px;\n",
              "    }\n",
              "\n",
              "    [theme=dark] .colab-df-convert {\n",
              "      background-color: #3B4455;\n",
              "      fill: #D2E3FC;\n",
              "    }\n",
              "\n",
              "    [theme=dark] .colab-df-convert:hover {\n",
              "      background-color: #434B5C;\n",
              "      box-shadow: 0px 1px 3px 1px rgba(0, 0, 0, 0.15);\n",
              "      filter: drop-shadow(0px 1px 2px rgba(0, 0, 0, 0.3));\n",
              "      fill: #FFFFFF;\n",
              "    }\n",
              "  </style>\n",
              "\n",
              "    <script>\n",
              "      const buttonEl =\n",
              "        document.querySelector('#df-55c1d4c3-8138-4e05-936d-92a5a01968b0 button.colab-df-convert');\n",
              "      buttonEl.style.display =\n",
              "        google.colab.kernel.accessAllowed ? 'block' : 'none';\n",
              "\n",
              "      async function convertToInteractive(key) {\n",
              "        const element = document.querySelector('#df-55c1d4c3-8138-4e05-936d-92a5a01968b0');\n",
              "        const dataTable =\n",
              "          await google.colab.kernel.invokeFunction('convertToInteractive',\n",
              "                                                    [key], {});\n",
              "        if (!dataTable) return;\n",
              "\n",
              "        const docLinkHtml = 'Like what you see? Visit the ' +\n",
              "          '<a target=\"_blank\" href=https://colab.research.google.com/notebooks/data_table.ipynb>data table notebook</a>'\n",
              "          + ' to learn more about interactive tables.';\n",
              "        element.innerHTML = '';\n",
              "        dataTable['output_type'] = 'display_data';\n",
              "        await google.colab.output.renderOutput(dataTable, element);\n",
              "        const docLink = document.createElement('div');\n",
              "        docLink.innerHTML = docLinkHtml;\n",
              "        element.appendChild(docLink);\n",
              "      }\n",
              "    </script>\n",
              "  </div>\n",
              "\n",
              "\n",
              "<div id=\"df-a73dcdc0-4f8a-4eb6-8996-cf56831fd1e5\">\n",
              "  <button class=\"colab-df-quickchart\" onclick=\"quickchart('df-a73dcdc0-4f8a-4eb6-8996-cf56831fd1e5')\"\n",
              "            title=\"Suggest charts.\"\n",
              "            style=\"display:none;\">\n",
              "\n",
              "<svg xmlns=\"http://www.w3.org/2000/svg\" height=\"24px\"viewBox=\"0 0 24 24\"\n",
              "     width=\"24px\">\n",
              "    <g>\n",
              "        <path d=\"M19 3H5c-1.1 0-2 .9-2 2v14c0 1.1.9 2 2 2h14c1.1 0 2-.9 2-2V5c0-1.1-.9-2-2-2zM9 17H7v-7h2v7zm4 0h-2V7h2v10zm4 0h-2v-4h2v4z\"/>\n",
              "    </g>\n",
              "</svg>\n",
              "  </button>\n",
              "\n",
              "<style>\n",
              "  .colab-df-quickchart {\n",
              "      --bg-color: #E8F0FE;\n",
              "      --fill-color: #1967D2;\n",
              "      --hover-bg-color: #E2EBFA;\n",
              "      --hover-fill-color: #174EA6;\n",
              "      --disabled-fill-color: #AAA;\n",
              "      --disabled-bg-color: #DDD;\n",
              "  }\n",
              "\n",
              "  [theme=dark] .colab-df-quickchart {\n",
              "      --bg-color: #3B4455;\n",
              "      --fill-color: #D2E3FC;\n",
              "      --hover-bg-color: #434B5C;\n",
              "      --hover-fill-color: #FFFFFF;\n",
              "      --disabled-bg-color: #3B4455;\n",
              "      --disabled-fill-color: #666;\n",
              "  }\n",
              "\n",
              "  .colab-df-quickchart {\n",
              "    background-color: var(--bg-color);\n",
              "    border: none;\n",
              "    border-radius: 50%;\n",
              "    cursor: pointer;\n",
              "    display: none;\n",
              "    fill: var(--fill-color);\n",
              "    height: 32px;\n",
              "    padding: 0;\n",
              "    width: 32px;\n",
              "  }\n",
              "\n",
              "  .colab-df-quickchart:hover {\n",
              "    background-color: var(--hover-bg-color);\n",
              "    box-shadow: 0 1px 2px rgba(60, 64, 67, 0.3), 0 1px 3px 1px rgba(60, 64, 67, 0.15);\n",
              "    fill: var(--button-hover-fill-color);\n",
              "  }\n",
              "\n",
              "  .colab-df-quickchart-complete:disabled,\n",
              "  .colab-df-quickchart-complete:disabled:hover {\n",
              "    background-color: var(--disabled-bg-color);\n",
              "    fill: var(--disabled-fill-color);\n",
              "    box-shadow: none;\n",
              "  }\n",
              "\n",
              "  .colab-df-spinner {\n",
              "    border: 2px solid var(--fill-color);\n",
              "    border-color: transparent;\n",
              "    border-bottom-color: var(--fill-color);\n",
              "    animation:\n",
              "      spin 1s steps(1) infinite;\n",
              "  }\n",
              "\n",
              "  @keyframes spin {\n",
              "    0% {\n",
              "      border-color: transparent;\n",
              "      border-bottom-color: var(--fill-color);\n",
              "      border-left-color: var(--fill-color);\n",
              "    }\n",
              "    20% {\n",
              "      border-color: transparent;\n",
              "      border-left-color: var(--fill-color);\n",
              "      border-top-color: var(--fill-color);\n",
              "    }\n",
              "    30% {\n",
              "      border-color: transparent;\n",
              "      border-left-color: var(--fill-color);\n",
              "      border-top-color: var(--fill-color);\n",
              "      border-right-color: var(--fill-color);\n",
              "    }\n",
              "    40% {\n",
              "      border-color: transparent;\n",
              "      border-right-color: var(--fill-color);\n",
              "      border-top-color: var(--fill-color);\n",
              "    }\n",
              "    60% {\n",
              "      border-color: transparent;\n",
              "      border-right-color: var(--fill-color);\n",
              "    }\n",
              "    80% {\n",
              "      border-color: transparent;\n",
              "      border-right-color: var(--fill-color);\n",
              "      border-bottom-color: var(--fill-color);\n",
              "    }\n",
              "    90% {\n",
              "      border-color: transparent;\n",
              "      border-bottom-color: var(--fill-color);\n",
              "    }\n",
              "  }\n",
              "</style>\n",
              "\n",
              "  <script>\n",
              "    async function quickchart(key) {\n",
              "      const quickchartButtonEl =\n",
              "        document.querySelector('#' + key + ' button');\n",
              "      quickchartButtonEl.disabled = true;  // To prevent multiple clicks.\n",
              "      quickchartButtonEl.classList.add('colab-df-spinner');\n",
              "      try {\n",
              "        const charts = await google.colab.kernel.invokeFunction(\n",
              "            'suggestCharts', [key], {});\n",
              "      } catch (error) {\n",
              "        console.error('Error during call to suggestCharts:', error);\n",
              "      }\n",
              "      quickchartButtonEl.classList.remove('colab-df-spinner');\n",
              "      quickchartButtonEl.classList.add('colab-df-quickchart-complete');\n",
              "    }\n",
              "    (() => {\n",
              "      let quickchartButtonEl =\n",
              "        document.querySelector('#df-a73dcdc0-4f8a-4eb6-8996-cf56831fd1e5 button');\n",
              "      quickchartButtonEl.style.display =\n",
              "        google.colab.kernel.accessAllowed ? 'block' : 'none';\n",
              "    })();\n",
              "  </script>\n",
              "</div>\n",
              "    </div>\n",
              "  </div>\n"
            ]
          },
          "metadata": {},
          "execution_count": 109
        }
      ]
    },
    {
      "cell_type": "code",
      "source": [
        "y_titanic = titanic['Survived']"
      ],
      "metadata": {
        "id": "3S-_Zjo5PoT-"
      },
      "execution_count": null,
      "outputs": []
    },
    {
      "cell_type": "code",
      "source": [
        "X_titanic = titanic.drop('Survived', axis=1)"
      ],
      "metadata": {
        "id": "6JAvoY31PxI9"
      },
      "execution_count": null,
      "outputs": []
    },
    {
      "cell_type": "code",
      "source": [
        "X_titanic"
      ],
      "metadata": {
        "colab": {
          "base_uri": "https://localhost:8080/",
          "height": 458
        },
        "id": "QQiWH0CzP5b3",
        "outputId": "77ed9933-ecfa-4cba-8ded-eed5b377f78c"
      },
      "execution_count": null,
      "outputs": [
        {
          "output_type": "execute_result",
          "data": {
            "text/plain": [
              "     PassengerId  Pclass                                               Name  \\\n",
              "0              1       3                            Braund, Mr. Owen Harris   \n",
              "1              2       1  Cumings, Mrs. John Bradley (Florence Briggs Th...   \n",
              "2              3       3                             Heikkinen, Miss. Laina   \n",
              "3              4       1       Futrelle, Mrs. Jacques Heath (Lily May Peel)   \n",
              "4              5       3                           Allen, Mr. William Henry   \n",
              "..           ...     ...                                                ...   \n",
              "886          887       2                              Montvila, Rev. Juozas   \n",
              "887          888       1                       Graham, Miss. Margaret Edith   \n",
              "888          889       3           Johnston, Miss. Catherine Helen \"Carrie\"   \n",
              "889          890       1                              Behr, Mr. Karl Howell   \n",
              "890          891       3                                Dooley, Mr. Patrick   \n",
              "\n",
              "        Sex   Age  SibSp  Parch            Ticket     Fare Cabin Embarked  \n",
              "0      male  22.0      1      0         A/5 21171   7.2500   NaN        S  \n",
              "1    female  38.0      1      0          PC 17599  71.2833   C85        C  \n",
              "2    female  26.0      0      0  STON/O2. 3101282   7.9250   NaN        S  \n",
              "3    female  35.0      1      0            113803  53.1000  C123        S  \n",
              "4      male  35.0      0      0            373450   8.0500   NaN        S  \n",
              "..      ...   ...    ...    ...               ...      ...   ...      ...  \n",
              "886    male  27.0      0      0            211536  13.0000   NaN        S  \n",
              "887  female  19.0      0      0            112053  30.0000   B42        S  \n",
              "888  female   NaN      1      2        W./C. 6607  23.4500   NaN        S  \n",
              "889    male  26.0      0      0            111369  30.0000  C148        C  \n",
              "890    male  32.0      0      0            370376   7.7500   NaN        Q  \n",
              "\n",
              "[891 rows x 11 columns]"
            ],
            "text/html": [
              "\n",
              "  <div id=\"df-9a118668-ae40-4857-a7b5-140dd50c2a29\" class=\"colab-df-container\">\n",
              "    <div>\n",
              "<style scoped>\n",
              "    .dataframe tbody tr th:only-of-type {\n",
              "        vertical-align: middle;\n",
              "    }\n",
              "\n",
              "    .dataframe tbody tr th {\n",
              "        vertical-align: top;\n",
              "    }\n",
              "\n",
              "    .dataframe thead th {\n",
              "        text-align: right;\n",
              "    }\n",
              "</style>\n",
              "<table border=\"1\" class=\"dataframe\">\n",
              "  <thead>\n",
              "    <tr style=\"text-align: right;\">\n",
              "      <th></th>\n",
              "      <th>PassengerId</th>\n",
              "      <th>Pclass</th>\n",
              "      <th>Name</th>\n",
              "      <th>Sex</th>\n",
              "      <th>Age</th>\n",
              "      <th>SibSp</th>\n",
              "      <th>Parch</th>\n",
              "      <th>Ticket</th>\n",
              "      <th>Fare</th>\n",
              "      <th>Cabin</th>\n",
              "      <th>Embarked</th>\n",
              "    </tr>\n",
              "  </thead>\n",
              "  <tbody>\n",
              "    <tr>\n",
              "      <th>0</th>\n",
              "      <td>1</td>\n",
              "      <td>3</td>\n",
              "      <td>Braund, Mr. Owen Harris</td>\n",
              "      <td>male</td>\n",
              "      <td>22.0</td>\n",
              "      <td>1</td>\n",
              "      <td>0</td>\n",
              "      <td>A/5 21171</td>\n",
              "      <td>7.2500</td>\n",
              "      <td>NaN</td>\n",
              "      <td>S</td>\n",
              "    </tr>\n",
              "    <tr>\n",
              "      <th>1</th>\n",
              "      <td>2</td>\n",
              "      <td>1</td>\n",
              "      <td>Cumings, Mrs. John Bradley (Florence Briggs Th...</td>\n",
              "      <td>female</td>\n",
              "      <td>38.0</td>\n",
              "      <td>1</td>\n",
              "      <td>0</td>\n",
              "      <td>PC 17599</td>\n",
              "      <td>71.2833</td>\n",
              "      <td>C85</td>\n",
              "      <td>C</td>\n",
              "    </tr>\n",
              "    <tr>\n",
              "      <th>2</th>\n",
              "      <td>3</td>\n",
              "      <td>3</td>\n",
              "      <td>Heikkinen, Miss. Laina</td>\n",
              "      <td>female</td>\n",
              "      <td>26.0</td>\n",
              "      <td>0</td>\n",
              "      <td>0</td>\n",
              "      <td>STON/O2. 3101282</td>\n",
              "      <td>7.9250</td>\n",
              "      <td>NaN</td>\n",
              "      <td>S</td>\n",
              "    </tr>\n",
              "    <tr>\n",
              "      <th>3</th>\n",
              "      <td>4</td>\n",
              "      <td>1</td>\n",
              "      <td>Futrelle, Mrs. Jacques Heath (Lily May Peel)</td>\n",
              "      <td>female</td>\n",
              "      <td>35.0</td>\n",
              "      <td>1</td>\n",
              "      <td>0</td>\n",
              "      <td>113803</td>\n",
              "      <td>53.1000</td>\n",
              "      <td>C123</td>\n",
              "      <td>S</td>\n",
              "    </tr>\n",
              "    <tr>\n",
              "      <th>4</th>\n",
              "      <td>5</td>\n",
              "      <td>3</td>\n",
              "      <td>Allen, Mr. William Henry</td>\n",
              "      <td>male</td>\n",
              "      <td>35.0</td>\n",
              "      <td>0</td>\n",
              "      <td>0</td>\n",
              "      <td>373450</td>\n",
              "      <td>8.0500</td>\n",
              "      <td>NaN</td>\n",
              "      <td>S</td>\n",
              "    </tr>\n",
              "    <tr>\n",
              "      <th>...</th>\n",
              "      <td>...</td>\n",
              "      <td>...</td>\n",
              "      <td>...</td>\n",
              "      <td>...</td>\n",
              "      <td>...</td>\n",
              "      <td>...</td>\n",
              "      <td>...</td>\n",
              "      <td>...</td>\n",
              "      <td>...</td>\n",
              "      <td>...</td>\n",
              "      <td>...</td>\n",
              "    </tr>\n",
              "    <tr>\n",
              "      <th>886</th>\n",
              "      <td>887</td>\n",
              "      <td>2</td>\n",
              "      <td>Montvila, Rev. Juozas</td>\n",
              "      <td>male</td>\n",
              "      <td>27.0</td>\n",
              "      <td>0</td>\n",
              "      <td>0</td>\n",
              "      <td>211536</td>\n",
              "      <td>13.0000</td>\n",
              "      <td>NaN</td>\n",
              "      <td>S</td>\n",
              "    </tr>\n",
              "    <tr>\n",
              "      <th>887</th>\n",
              "      <td>888</td>\n",
              "      <td>1</td>\n",
              "      <td>Graham, Miss. Margaret Edith</td>\n",
              "      <td>female</td>\n",
              "      <td>19.0</td>\n",
              "      <td>0</td>\n",
              "      <td>0</td>\n",
              "      <td>112053</td>\n",
              "      <td>30.0000</td>\n",
              "      <td>B42</td>\n",
              "      <td>S</td>\n",
              "    </tr>\n",
              "    <tr>\n",
              "      <th>888</th>\n",
              "      <td>889</td>\n",
              "      <td>3</td>\n",
              "      <td>Johnston, Miss. Catherine Helen \"Carrie\"</td>\n",
              "      <td>female</td>\n",
              "      <td>NaN</td>\n",
              "      <td>1</td>\n",
              "      <td>2</td>\n",
              "      <td>W./C. 6607</td>\n",
              "      <td>23.4500</td>\n",
              "      <td>NaN</td>\n",
              "      <td>S</td>\n",
              "    </tr>\n",
              "    <tr>\n",
              "      <th>889</th>\n",
              "      <td>890</td>\n",
              "      <td>1</td>\n",
              "      <td>Behr, Mr. Karl Howell</td>\n",
              "      <td>male</td>\n",
              "      <td>26.0</td>\n",
              "      <td>0</td>\n",
              "      <td>0</td>\n",
              "      <td>111369</td>\n",
              "      <td>30.0000</td>\n",
              "      <td>C148</td>\n",
              "      <td>C</td>\n",
              "    </tr>\n",
              "    <tr>\n",
              "      <th>890</th>\n",
              "      <td>891</td>\n",
              "      <td>3</td>\n",
              "      <td>Dooley, Mr. Patrick</td>\n",
              "      <td>male</td>\n",
              "      <td>32.0</td>\n",
              "      <td>0</td>\n",
              "      <td>0</td>\n",
              "      <td>370376</td>\n",
              "      <td>7.7500</td>\n",
              "      <td>NaN</td>\n",
              "      <td>Q</td>\n",
              "    </tr>\n",
              "  </tbody>\n",
              "</table>\n",
              "<p>891 rows × 11 columns</p>\n",
              "</div>\n",
              "    <div class=\"colab-df-buttons\">\n",
              "\n",
              "  <div class=\"colab-df-container\">\n",
              "    <button class=\"colab-df-convert\" onclick=\"convertToInteractive('df-9a118668-ae40-4857-a7b5-140dd50c2a29')\"\n",
              "            title=\"Convert this dataframe to an interactive table.\"\n",
              "            style=\"display:none;\">\n",
              "\n",
              "  <svg xmlns=\"http://www.w3.org/2000/svg\" height=\"24px\" viewBox=\"0 -960 960 960\">\n",
              "    <path d=\"M120-120v-720h720v720H120Zm60-500h600v-160H180v160Zm220 220h160v-160H400v160Zm0 220h160v-160H400v160ZM180-400h160v-160H180v160Zm440 0h160v-160H620v160ZM180-180h160v-160H180v160Zm440 0h160v-160H620v160Z\"/>\n",
              "  </svg>\n",
              "    </button>\n",
              "\n",
              "  <style>\n",
              "    .colab-df-container {\n",
              "      display:flex;\n",
              "      gap: 12px;\n",
              "    }\n",
              "\n",
              "    .colab-df-convert {\n",
              "      background-color: #E8F0FE;\n",
              "      border: none;\n",
              "      border-radius: 50%;\n",
              "      cursor: pointer;\n",
              "      display: none;\n",
              "      fill: #1967D2;\n",
              "      height: 32px;\n",
              "      padding: 0 0 0 0;\n",
              "      width: 32px;\n",
              "    }\n",
              "\n",
              "    .colab-df-convert:hover {\n",
              "      background-color: #E2EBFA;\n",
              "      box-shadow: 0px 1px 2px rgba(60, 64, 67, 0.3), 0px 1px 3px 1px rgba(60, 64, 67, 0.15);\n",
              "      fill: #174EA6;\n",
              "    }\n",
              "\n",
              "    .colab-df-buttons div {\n",
              "      margin-bottom: 4px;\n",
              "    }\n",
              "\n",
              "    [theme=dark] .colab-df-convert {\n",
              "      background-color: #3B4455;\n",
              "      fill: #D2E3FC;\n",
              "    }\n",
              "\n",
              "    [theme=dark] .colab-df-convert:hover {\n",
              "      background-color: #434B5C;\n",
              "      box-shadow: 0px 1px 3px 1px rgba(0, 0, 0, 0.15);\n",
              "      filter: drop-shadow(0px 1px 2px rgba(0, 0, 0, 0.3));\n",
              "      fill: #FFFFFF;\n",
              "    }\n",
              "  </style>\n",
              "\n",
              "    <script>\n",
              "      const buttonEl =\n",
              "        document.querySelector('#df-9a118668-ae40-4857-a7b5-140dd50c2a29 button.colab-df-convert');\n",
              "      buttonEl.style.display =\n",
              "        google.colab.kernel.accessAllowed ? 'block' : 'none';\n",
              "\n",
              "      async function convertToInteractive(key) {\n",
              "        const element = document.querySelector('#df-9a118668-ae40-4857-a7b5-140dd50c2a29');\n",
              "        const dataTable =\n",
              "          await google.colab.kernel.invokeFunction('convertToInteractive',\n",
              "                                                    [key], {});\n",
              "        if (!dataTable) return;\n",
              "\n",
              "        const docLinkHtml = 'Like what you see? Visit the ' +\n",
              "          '<a target=\"_blank\" href=https://colab.research.google.com/notebooks/data_table.ipynb>data table notebook</a>'\n",
              "          + ' to learn more about interactive tables.';\n",
              "        element.innerHTML = '';\n",
              "        dataTable['output_type'] = 'display_data';\n",
              "        await google.colab.output.renderOutput(dataTable, element);\n",
              "        const docLink = document.createElement('div');\n",
              "        docLink.innerHTML = docLinkHtml;\n",
              "        element.appendChild(docLink);\n",
              "      }\n",
              "    </script>\n",
              "  </div>\n",
              "\n",
              "\n",
              "<div id=\"df-255cde47-6de6-4012-8eff-fd4621dbafe0\">\n",
              "  <button class=\"colab-df-quickchart\" onclick=\"quickchart('df-255cde47-6de6-4012-8eff-fd4621dbafe0')\"\n",
              "            title=\"Suggest charts.\"\n",
              "            style=\"display:none;\">\n",
              "\n",
              "<svg xmlns=\"http://www.w3.org/2000/svg\" height=\"24px\"viewBox=\"0 0 24 24\"\n",
              "     width=\"24px\">\n",
              "    <g>\n",
              "        <path d=\"M19 3H5c-1.1 0-2 .9-2 2v14c0 1.1.9 2 2 2h14c1.1 0 2-.9 2-2V5c0-1.1-.9-2-2-2zM9 17H7v-7h2v7zm4 0h-2V7h2v10zm4 0h-2v-4h2v4z\"/>\n",
              "    </g>\n",
              "</svg>\n",
              "  </button>\n",
              "\n",
              "<style>\n",
              "  .colab-df-quickchart {\n",
              "      --bg-color: #E8F0FE;\n",
              "      --fill-color: #1967D2;\n",
              "      --hover-bg-color: #E2EBFA;\n",
              "      --hover-fill-color: #174EA6;\n",
              "      --disabled-fill-color: #AAA;\n",
              "      --disabled-bg-color: #DDD;\n",
              "  }\n",
              "\n",
              "  [theme=dark] .colab-df-quickchart {\n",
              "      --bg-color: #3B4455;\n",
              "      --fill-color: #D2E3FC;\n",
              "      --hover-bg-color: #434B5C;\n",
              "      --hover-fill-color: #FFFFFF;\n",
              "      --disabled-bg-color: #3B4455;\n",
              "      --disabled-fill-color: #666;\n",
              "  }\n",
              "\n",
              "  .colab-df-quickchart {\n",
              "    background-color: var(--bg-color);\n",
              "    border: none;\n",
              "    border-radius: 50%;\n",
              "    cursor: pointer;\n",
              "    display: none;\n",
              "    fill: var(--fill-color);\n",
              "    height: 32px;\n",
              "    padding: 0;\n",
              "    width: 32px;\n",
              "  }\n",
              "\n",
              "  .colab-df-quickchart:hover {\n",
              "    background-color: var(--hover-bg-color);\n",
              "    box-shadow: 0 1px 2px rgba(60, 64, 67, 0.3), 0 1px 3px 1px rgba(60, 64, 67, 0.15);\n",
              "    fill: var(--button-hover-fill-color);\n",
              "  }\n",
              "\n",
              "  .colab-df-quickchart-complete:disabled,\n",
              "  .colab-df-quickchart-complete:disabled:hover {\n",
              "    background-color: var(--disabled-bg-color);\n",
              "    fill: var(--disabled-fill-color);\n",
              "    box-shadow: none;\n",
              "  }\n",
              "\n",
              "  .colab-df-spinner {\n",
              "    border: 2px solid var(--fill-color);\n",
              "    border-color: transparent;\n",
              "    border-bottom-color: var(--fill-color);\n",
              "    animation:\n",
              "      spin 1s steps(1) infinite;\n",
              "  }\n",
              "\n",
              "  @keyframes spin {\n",
              "    0% {\n",
              "      border-color: transparent;\n",
              "      border-bottom-color: var(--fill-color);\n",
              "      border-left-color: var(--fill-color);\n",
              "    }\n",
              "    20% {\n",
              "      border-color: transparent;\n",
              "      border-left-color: var(--fill-color);\n",
              "      border-top-color: var(--fill-color);\n",
              "    }\n",
              "    30% {\n",
              "      border-color: transparent;\n",
              "      border-left-color: var(--fill-color);\n",
              "      border-top-color: var(--fill-color);\n",
              "      border-right-color: var(--fill-color);\n",
              "    }\n",
              "    40% {\n",
              "      border-color: transparent;\n",
              "      border-right-color: var(--fill-color);\n",
              "      border-top-color: var(--fill-color);\n",
              "    }\n",
              "    60% {\n",
              "      border-color: transparent;\n",
              "      border-right-color: var(--fill-color);\n",
              "    }\n",
              "    80% {\n",
              "      border-color: transparent;\n",
              "      border-right-color: var(--fill-color);\n",
              "      border-bottom-color: var(--fill-color);\n",
              "    }\n",
              "    90% {\n",
              "      border-color: transparent;\n",
              "      border-bottom-color: var(--fill-color);\n",
              "    }\n",
              "  }\n",
              "</style>\n",
              "\n",
              "  <script>\n",
              "    async function quickchart(key) {\n",
              "      const quickchartButtonEl =\n",
              "        document.querySelector('#' + key + ' button');\n",
              "      quickchartButtonEl.disabled = true;  // To prevent multiple clicks.\n",
              "      quickchartButtonEl.classList.add('colab-df-spinner');\n",
              "      try {\n",
              "        const charts = await google.colab.kernel.invokeFunction(\n",
              "            'suggestCharts', [key], {});\n",
              "      } catch (error) {\n",
              "        console.error('Error during call to suggestCharts:', error);\n",
              "      }\n",
              "      quickchartButtonEl.classList.remove('colab-df-spinner');\n",
              "      quickchartButtonEl.classList.add('colab-df-quickchart-complete');\n",
              "    }\n",
              "    (() => {\n",
              "      let quickchartButtonEl =\n",
              "        document.querySelector('#df-255cde47-6de6-4012-8eff-fd4621dbafe0 button');\n",
              "      quickchartButtonEl.style.display =\n",
              "        google.colab.kernel.accessAllowed ? 'block' : 'none';\n",
              "    })();\n",
              "  </script>\n",
              "</div>\n",
              "    </div>\n",
              "  </div>\n"
            ]
          },
          "metadata": {},
          "execution_count": 112
        }
      ]
    },
    {
      "cell_type": "code",
      "source": [
        "X_titanic.info()"
      ],
      "metadata": {
        "colab": {
          "base_uri": "https://localhost:8080/"
        },
        "id": "XWT7-0KGP7Xk",
        "outputId": "231c23ff-349b-46a9-8c37-b50034cd6de1"
      },
      "execution_count": null,
      "outputs": [
        {
          "output_type": "stream",
          "name": "stdout",
          "text": [
            "<class 'pandas.core.frame.DataFrame'>\n",
            "RangeIndex: 891 entries, 0 to 890\n",
            "Data columns (total 11 columns):\n",
            " #   Column       Non-Null Count  Dtype  \n",
            "---  ------       --------------  -----  \n",
            " 0   PassengerId  891 non-null    int64  \n",
            " 1   Pclass       891 non-null    int64  \n",
            " 2   Name         891 non-null    object \n",
            " 3   Sex          891 non-null    object \n",
            " 4   Age          714 non-null    float64\n",
            " 5   SibSp        891 non-null    int64  \n",
            " 6   Parch        891 non-null    int64  \n",
            " 7   Ticket       891 non-null    object \n",
            " 8   Fare         891 non-null    float64\n",
            " 9   Cabin        204 non-null    object \n",
            " 10  Embarked     889 non-null    object \n",
            "dtypes: float64(2), int64(4), object(5)\n",
            "memory usage: 76.7+ KB\n"
          ]
        }
      ]
    },
    {
      "cell_type": "code",
      "source": [
        "def fillna(df):\n",
        "    df['Age'].fillna(df['Age'].mean(), inplace=True)\n",
        "    df['Cabin'].fillna('N', inplace=True)\n",
        "    df['Embarked'].fillna('N', inplace=True)\n",
        "    return df\n",
        "\n",
        "def drop_features(df):\n",
        "    df.drop(['PassengerId', 'Name', 'Ticket'], axis=1, inplace=True)\n",
        "    return df\n",
        "\n",
        "def format_features(df):\n",
        "    df['Cabin'] = df['Cabin'].str[:1]\n",
        "    features = ['Cabin', 'Sex', 'Embarked']\n",
        "    for feature in features:\n",
        "        le = LabelEncoder()\n",
        "        le.fit(df[feature])\n",
        "        df[feature] = le.transform(df[feature])\n",
        "    return df\n",
        "\n",
        "def adj_scale(df):\n",
        "    scaler = MinMaxScaler()\n",
        "    scaler.fit(df)\n",
        "    scaled_array = scaler.transform(df)\n",
        "    df_scaled = pd.DataFrame(data=scaled_array, columns = df.columns)\n",
        "    return df_scaled\n",
        "\n",
        "def transform_features(df):\n",
        "    df = fillna(df)\n",
        "    df = drop_features(df)\n",
        "    df = format_features(df)\n",
        "    df = adj_scale(df)\n",
        "    return df"
      ],
      "metadata": {
        "id": "r2VVVn5XQACa"
      },
      "execution_count": null,
      "outputs": []
    },
    {
      "cell_type": "code",
      "source": [
        "X_titanic = transform_features(X_titanic)"
      ],
      "metadata": {
        "id": "9iQNvWQlRpRn"
      },
      "execution_count": null,
      "outputs": []
    },
    {
      "cell_type": "code",
      "source": [
        "X_titanic"
      ],
      "metadata": {
        "colab": {
          "base_uri": "https://localhost:8080/",
          "height": 423
        },
        "id": "CCAO3rXQUois",
        "outputId": "dd6b9b8a-2bfc-49fe-9bf1-75a743f1c342"
      },
      "execution_count": null,
      "outputs": [
        {
          "output_type": "execute_result",
          "data": {
            "text/plain": [
              "     Pclass  Sex       Age  SibSp     Parch      Fare  Cabin  Embarked\n",
              "0       1.0  1.0  0.271174  0.125  0.000000  0.014151  0.875  1.000000\n",
              "1       0.0  0.0  0.472229  0.125  0.000000  0.139136  0.250  0.000000\n",
              "2       1.0  0.0  0.321438  0.000  0.000000  0.015469  0.875  1.000000\n",
              "3       0.0  0.0  0.434531  0.125  0.000000  0.103644  0.250  1.000000\n",
              "4       1.0  1.0  0.434531  0.000  0.000000  0.015713  0.875  1.000000\n",
              "..      ...  ...       ...    ...       ...       ...    ...       ...\n",
              "886     0.5  1.0  0.334004  0.000  0.000000  0.025374  0.875  1.000000\n",
              "887     0.0  0.0  0.233476  0.000  0.000000  0.058556  0.125  1.000000\n",
              "888     1.0  0.0  0.367921  0.125  0.333333  0.045771  0.875  1.000000\n",
              "889     0.0  1.0  0.321438  0.000  0.000000  0.058556  0.250  0.000000\n",
              "890     1.0  1.0  0.396833  0.000  0.000000  0.015127  0.875  0.666667\n",
              "\n",
              "[891 rows x 8 columns]"
            ],
            "text/html": [
              "\n",
              "  <div id=\"df-2bfd96f1-d022-4caa-bc64-263727786c77\" class=\"colab-df-container\">\n",
              "    <div>\n",
              "<style scoped>\n",
              "    .dataframe tbody tr th:only-of-type {\n",
              "        vertical-align: middle;\n",
              "    }\n",
              "\n",
              "    .dataframe tbody tr th {\n",
              "        vertical-align: top;\n",
              "    }\n",
              "\n",
              "    .dataframe thead th {\n",
              "        text-align: right;\n",
              "    }\n",
              "</style>\n",
              "<table border=\"1\" class=\"dataframe\">\n",
              "  <thead>\n",
              "    <tr style=\"text-align: right;\">\n",
              "      <th></th>\n",
              "      <th>Pclass</th>\n",
              "      <th>Sex</th>\n",
              "      <th>Age</th>\n",
              "      <th>SibSp</th>\n",
              "      <th>Parch</th>\n",
              "      <th>Fare</th>\n",
              "      <th>Cabin</th>\n",
              "      <th>Embarked</th>\n",
              "    </tr>\n",
              "  </thead>\n",
              "  <tbody>\n",
              "    <tr>\n",
              "      <th>0</th>\n",
              "      <td>1.0</td>\n",
              "      <td>1.0</td>\n",
              "      <td>0.271174</td>\n",
              "      <td>0.125</td>\n",
              "      <td>0.000000</td>\n",
              "      <td>0.014151</td>\n",
              "      <td>0.875</td>\n",
              "      <td>1.000000</td>\n",
              "    </tr>\n",
              "    <tr>\n",
              "      <th>1</th>\n",
              "      <td>0.0</td>\n",
              "      <td>0.0</td>\n",
              "      <td>0.472229</td>\n",
              "      <td>0.125</td>\n",
              "      <td>0.000000</td>\n",
              "      <td>0.139136</td>\n",
              "      <td>0.250</td>\n",
              "      <td>0.000000</td>\n",
              "    </tr>\n",
              "    <tr>\n",
              "      <th>2</th>\n",
              "      <td>1.0</td>\n",
              "      <td>0.0</td>\n",
              "      <td>0.321438</td>\n",
              "      <td>0.000</td>\n",
              "      <td>0.000000</td>\n",
              "      <td>0.015469</td>\n",
              "      <td>0.875</td>\n",
              "      <td>1.000000</td>\n",
              "    </tr>\n",
              "    <tr>\n",
              "      <th>3</th>\n",
              "      <td>0.0</td>\n",
              "      <td>0.0</td>\n",
              "      <td>0.434531</td>\n",
              "      <td>0.125</td>\n",
              "      <td>0.000000</td>\n",
              "      <td>0.103644</td>\n",
              "      <td>0.250</td>\n",
              "      <td>1.000000</td>\n",
              "    </tr>\n",
              "    <tr>\n",
              "      <th>4</th>\n",
              "      <td>1.0</td>\n",
              "      <td>1.0</td>\n",
              "      <td>0.434531</td>\n",
              "      <td>0.000</td>\n",
              "      <td>0.000000</td>\n",
              "      <td>0.015713</td>\n",
              "      <td>0.875</td>\n",
              "      <td>1.000000</td>\n",
              "    </tr>\n",
              "    <tr>\n",
              "      <th>...</th>\n",
              "      <td>...</td>\n",
              "      <td>...</td>\n",
              "      <td>...</td>\n",
              "      <td>...</td>\n",
              "      <td>...</td>\n",
              "      <td>...</td>\n",
              "      <td>...</td>\n",
              "      <td>...</td>\n",
              "    </tr>\n",
              "    <tr>\n",
              "      <th>886</th>\n",
              "      <td>0.5</td>\n",
              "      <td>1.0</td>\n",
              "      <td>0.334004</td>\n",
              "      <td>0.000</td>\n",
              "      <td>0.000000</td>\n",
              "      <td>0.025374</td>\n",
              "      <td>0.875</td>\n",
              "      <td>1.000000</td>\n",
              "    </tr>\n",
              "    <tr>\n",
              "      <th>887</th>\n",
              "      <td>0.0</td>\n",
              "      <td>0.0</td>\n",
              "      <td>0.233476</td>\n",
              "      <td>0.000</td>\n",
              "      <td>0.000000</td>\n",
              "      <td>0.058556</td>\n",
              "      <td>0.125</td>\n",
              "      <td>1.000000</td>\n",
              "    </tr>\n",
              "    <tr>\n",
              "      <th>888</th>\n",
              "      <td>1.0</td>\n",
              "      <td>0.0</td>\n",
              "      <td>0.367921</td>\n",
              "      <td>0.125</td>\n",
              "      <td>0.333333</td>\n",
              "      <td>0.045771</td>\n",
              "      <td>0.875</td>\n",
              "      <td>1.000000</td>\n",
              "    </tr>\n",
              "    <tr>\n",
              "      <th>889</th>\n",
              "      <td>0.0</td>\n",
              "      <td>1.0</td>\n",
              "      <td>0.321438</td>\n",
              "      <td>0.000</td>\n",
              "      <td>0.000000</td>\n",
              "      <td>0.058556</td>\n",
              "      <td>0.250</td>\n",
              "      <td>0.000000</td>\n",
              "    </tr>\n",
              "    <tr>\n",
              "      <th>890</th>\n",
              "      <td>1.0</td>\n",
              "      <td>1.0</td>\n",
              "      <td>0.396833</td>\n",
              "      <td>0.000</td>\n",
              "      <td>0.000000</td>\n",
              "      <td>0.015127</td>\n",
              "      <td>0.875</td>\n",
              "      <td>0.666667</td>\n",
              "    </tr>\n",
              "  </tbody>\n",
              "</table>\n",
              "<p>891 rows × 8 columns</p>\n",
              "</div>\n",
              "    <div class=\"colab-df-buttons\">\n",
              "\n",
              "  <div class=\"colab-df-container\">\n",
              "    <button class=\"colab-df-convert\" onclick=\"convertToInteractive('df-2bfd96f1-d022-4caa-bc64-263727786c77')\"\n",
              "            title=\"Convert this dataframe to an interactive table.\"\n",
              "            style=\"display:none;\">\n",
              "\n",
              "  <svg xmlns=\"http://www.w3.org/2000/svg\" height=\"24px\" viewBox=\"0 -960 960 960\">\n",
              "    <path d=\"M120-120v-720h720v720H120Zm60-500h600v-160H180v160Zm220 220h160v-160H400v160Zm0 220h160v-160H400v160ZM180-400h160v-160H180v160Zm440 0h160v-160H620v160ZM180-180h160v-160H180v160Zm440 0h160v-160H620v160Z\"/>\n",
              "  </svg>\n",
              "    </button>\n",
              "\n",
              "  <style>\n",
              "    .colab-df-container {\n",
              "      display:flex;\n",
              "      gap: 12px;\n",
              "    }\n",
              "\n",
              "    .colab-df-convert {\n",
              "      background-color: #E8F0FE;\n",
              "      border: none;\n",
              "      border-radius: 50%;\n",
              "      cursor: pointer;\n",
              "      display: none;\n",
              "      fill: #1967D2;\n",
              "      height: 32px;\n",
              "      padding: 0 0 0 0;\n",
              "      width: 32px;\n",
              "    }\n",
              "\n",
              "    .colab-df-convert:hover {\n",
              "      background-color: #E2EBFA;\n",
              "      box-shadow: 0px 1px 2px rgba(60, 64, 67, 0.3), 0px 1px 3px 1px rgba(60, 64, 67, 0.15);\n",
              "      fill: #174EA6;\n",
              "    }\n",
              "\n",
              "    .colab-df-buttons div {\n",
              "      margin-bottom: 4px;\n",
              "    }\n",
              "\n",
              "    [theme=dark] .colab-df-convert {\n",
              "      background-color: #3B4455;\n",
              "      fill: #D2E3FC;\n",
              "    }\n",
              "\n",
              "    [theme=dark] .colab-df-convert:hover {\n",
              "      background-color: #434B5C;\n",
              "      box-shadow: 0px 1px 3px 1px rgba(0, 0, 0, 0.15);\n",
              "      filter: drop-shadow(0px 1px 2px rgba(0, 0, 0, 0.3));\n",
              "      fill: #FFFFFF;\n",
              "    }\n",
              "  </style>\n",
              "\n",
              "    <script>\n",
              "      const buttonEl =\n",
              "        document.querySelector('#df-2bfd96f1-d022-4caa-bc64-263727786c77 button.colab-df-convert');\n",
              "      buttonEl.style.display =\n",
              "        google.colab.kernel.accessAllowed ? 'block' : 'none';\n",
              "\n",
              "      async function convertToInteractive(key) {\n",
              "        const element = document.querySelector('#df-2bfd96f1-d022-4caa-bc64-263727786c77');\n",
              "        const dataTable =\n",
              "          await google.colab.kernel.invokeFunction('convertToInteractive',\n",
              "                                                    [key], {});\n",
              "        if (!dataTable) return;\n",
              "\n",
              "        const docLinkHtml = 'Like what you see? Visit the ' +\n",
              "          '<a target=\"_blank\" href=https://colab.research.google.com/notebooks/data_table.ipynb>data table notebook</a>'\n",
              "          + ' to learn more about interactive tables.';\n",
              "        element.innerHTML = '';\n",
              "        dataTable['output_type'] = 'display_data';\n",
              "        await google.colab.output.renderOutput(dataTable, element);\n",
              "        const docLink = document.createElement('div');\n",
              "        docLink.innerHTML = docLinkHtml;\n",
              "        element.appendChild(docLink);\n",
              "      }\n",
              "    </script>\n",
              "  </div>\n",
              "\n",
              "\n",
              "<div id=\"df-1659a1dc-7cda-4296-b388-6c3574c57287\">\n",
              "  <button class=\"colab-df-quickchart\" onclick=\"quickchart('df-1659a1dc-7cda-4296-b388-6c3574c57287')\"\n",
              "            title=\"Suggest charts.\"\n",
              "            style=\"display:none;\">\n",
              "\n",
              "<svg xmlns=\"http://www.w3.org/2000/svg\" height=\"24px\"viewBox=\"0 0 24 24\"\n",
              "     width=\"24px\">\n",
              "    <g>\n",
              "        <path d=\"M19 3H5c-1.1 0-2 .9-2 2v14c0 1.1.9 2 2 2h14c1.1 0 2-.9 2-2V5c0-1.1-.9-2-2-2zM9 17H7v-7h2v7zm4 0h-2V7h2v10zm4 0h-2v-4h2v4z\"/>\n",
              "    </g>\n",
              "</svg>\n",
              "  </button>\n",
              "\n",
              "<style>\n",
              "  .colab-df-quickchart {\n",
              "      --bg-color: #E8F0FE;\n",
              "      --fill-color: #1967D2;\n",
              "      --hover-bg-color: #E2EBFA;\n",
              "      --hover-fill-color: #174EA6;\n",
              "      --disabled-fill-color: #AAA;\n",
              "      --disabled-bg-color: #DDD;\n",
              "  }\n",
              "\n",
              "  [theme=dark] .colab-df-quickchart {\n",
              "      --bg-color: #3B4455;\n",
              "      --fill-color: #D2E3FC;\n",
              "      --hover-bg-color: #434B5C;\n",
              "      --hover-fill-color: #FFFFFF;\n",
              "      --disabled-bg-color: #3B4455;\n",
              "      --disabled-fill-color: #666;\n",
              "  }\n",
              "\n",
              "  .colab-df-quickchart {\n",
              "    background-color: var(--bg-color);\n",
              "    border: none;\n",
              "    border-radius: 50%;\n",
              "    cursor: pointer;\n",
              "    display: none;\n",
              "    fill: var(--fill-color);\n",
              "    height: 32px;\n",
              "    padding: 0;\n",
              "    width: 32px;\n",
              "  }\n",
              "\n",
              "  .colab-df-quickchart:hover {\n",
              "    background-color: var(--hover-bg-color);\n",
              "    box-shadow: 0 1px 2px rgba(60, 64, 67, 0.3), 0 1px 3px 1px rgba(60, 64, 67, 0.15);\n",
              "    fill: var(--button-hover-fill-color);\n",
              "  }\n",
              "\n",
              "  .colab-df-quickchart-complete:disabled,\n",
              "  .colab-df-quickchart-complete:disabled:hover {\n",
              "    background-color: var(--disabled-bg-color);\n",
              "    fill: var(--disabled-fill-color);\n",
              "    box-shadow: none;\n",
              "  }\n",
              "\n",
              "  .colab-df-spinner {\n",
              "    border: 2px solid var(--fill-color);\n",
              "    border-color: transparent;\n",
              "    border-bottom-color: var(--fill-color);\n",
              "    animation:\n",
              "      spin 1s steps(1) infinite;\n",
              "  }\n",
              "\n",
              "  @keyframes spin {\n",
              "    0% {\n",
              "      border-color: transparent;\n",
              "      border-bottom-color: var(--fill-color);\n",
              "      border-left-color: var(--fill-color);\n",
              "    }\n",
              "    20% {\n",
              "      border-color: transparent;\n",
              "      border-left-color: var(--fill-color);\n",
              "      border-top-color: var(--fill-color);\n",
              "    }\n",
              "    30% {\n",
              "      border-color: transparent;\n",
              "      border-left-color: var(--fill-color);\n",
              "      border-top-color: var(--fill-color);\n",
              "      border-right-color: var(--fill-color);\n",
              "    }\n",
              "    40% {\n",
              "      border-color: transparent;\n",
              "      border-right-color: var(--fill-color);\n",
              "      border-top-color: var(--fill-color);\n",
              "    }\n",
              "    60% {\n",
              "      border-color: transparent;\n",
              "      border-right-color: var(--fill-color);\n",
              "    }\n",
              "    80% {\n",
              "      border-color: transparent;\n",
              "      border-right-color: var(--fill-color);\n",
              "      border-bottom-color: var(--fill-color);\n",
              "    }\n",
              "    90% {\n",
              "      border-color: transparent;\n",
              "      border-bottom-color: var(--fill-color);\n",
              "    }\n",
              "  }\n",
              "</style>\n",
              "\n",
              "  <script>\n",
              "    async function quickchart(key) {\n",
              "      const quickchartButtonEl =\n",
              "        document.querySelector('#' + key + ' button');\n",
              "      quickchartButtonEl.disabled = true;  // To prevent multiple clicks.\n",
              "      quickchartButtonEl.classList.add('colab-df-spinner');\n",
              "      try {\n",
              "        const charts = await google.colab.kernel.invokeFunction(\n",
              "            'suggestCharts', [key], {});\n",
              "      } catch (error) {\n",
              "        console.error('Error during call to suggestCharts:', error);\n",
              "      }\n",
              "      quickchartButtonEl.classList.remove('colab-df-spinner');\n",
              "      quickchartButtonEl.classList.add('colab-df-quickchart-complete');\n",
              "    }\n",
              "    (() => {\n",
              "      let quickchartButtonEl =\n",
              "        document.querySelector('#df-1659a1dc-7cda-4296-b388-6c3574c57287 button');\n",
              "      quickchartButtonEl.style.display =\n",
              "        google.colab.kernel.accessAllowed ? 'block' : 'none';\n",
              "    })();\n",
              "  </script>\n",
              "</div>\n",
              "    </div>\n",
              "  </div>\n"
            ]
          },
          "metadata": {},
          "execution_count": 116
        }
      ]
    },
    {
      "cell_type": "code",
      "source": [
        "from sklearn.model_selection import KFold, cross_val_score, GridSearchCV, train_test_split"
      ],
      "metadata": {
        "id": "FksZJ73fUrPY"
      },
      "execution_count": null,
      "outputs": []
    },
    {
      "cell_type": "code",
      "source": [
        "X_train, X_test, y_train, y_test = train_test_split(X_titanic, y_titanic, test_size=0.2, random_state=2)"
      ],
      "metadata": {
        "id": "WBL5pBP5WKtf"
      },
      "execution_count": null,
      "outputs": []
    },
    {
      "cell_type": "code",
      "source": [
        "X_train.shape, y_train.shape, X_test.shape, y_test.shape"
      ],
      "metadata": {
        "colab": {
          "base_uri": "https://localhost:8080/"
        },
        "id": "XmrQtU4ZWqd5",
        "outputId": "36abd450-8e87-4dc0-eb90-81b6acbe2b14"
      },
      "execution_count": null,
      "outputs": [
        {
          "output_type": "execute_result",
          "data": {
            "text/plain": [
              "((712, 8), (712,), (179, 8), (179,))"
            ]
          },
          "metadata": {},
          "execution_count": 73
        }
      ]
    },
    {
      "cell_type": "code",
      "source": [
        "X_train.info()"
      ],
      "metadata": {
        "colab": {
          "base_uri": "https://localhost:8080/"
        },
        "id": "fNrNVNDxWvAo",
        "outputId": "a8699c2d-9c8c-45cf-becb-67601860b0ef"
      },
      "execution_count": null,
      "outputs": [
        {
          "output_type": "stream",
          "name": "stdout",
          "text": [
            "<class 'pandas.core.frame.DataFrame'>\n",
            "Int64Index: 712 entries, 30 to 168\n",
            "Data columns (total 8 columns):\n",
            " #   Column    Non-Null Count  Dtype  \n",
            "---  ------    --------------  -----  \n",
            " 0   Pclass    712 non-null    int64  \n",
            " 1   Sex       712 non-null    int64  \n",
            " 2   Age       712 non-null    float64\n",
            " 3   SibSp     712 non-null    int64  \n",
            " 4   Parch     712 non-null    int64  \n",
            " 5   Fare      712 non-null    float64\n",
            " 6   Cabin     712 non-null    int64  \n",
            " 7   Embarked  712 non-null    int64  \n",
            "dtypes: float64(2), int64(6)\n",
            "memory usage: 50.1 KB\n"
          ]
        }
      ]
    },
    {
      "cell_type": "code",
      "source": [
        "from sklearn.tree import DecisionTreeClassifier\n",
        "from sklearn.ensemble import RandomForestClassifier\n",
        "from sklearn.linear_model import LogisticRegression"
      ],
      "metadata": {
        "id": "0NXos2qQWyxw"
      },
      "execution_count": null,
      "outputs": []
    },
    {
      "cell_type": "code",
      "source": [
        "dt_clf = DecisionTreeClassifier()\n",
        "rf_clf = RandomForestClassifier()\n",
        "lr_clf = LogisticRegression()"
      ],
      "metadata": {
        "id": "jj8HFwdkYExF"
      },
      "execution_count": null,
      "outputs": []
    },
    {
      "cell_type": "code",
      "source": [
        "def fit_predict(estimator, X_train, y_train, X_test, y_test):\n",
        "    estimator.fit(X_train, y_train)\n",
        "    pred = estimator.predict(X_test)\n",
        "    return (accuracy_score(y_test, pred))"
      ],
      "metadata": {
        "id": "F4WwNVH_YPIp"
      },
      "execution_count": null,
      "outputs": []
    },
    {
      "cell_type": "code",
      "source": [
        "fit_predict(dt_clf, X_train, y_train, X_test, y_test )"
      ],
      "metadata": {
        "colab": {
          "base_uri": "https://localhost:8080/"
        },
        "id": "IBsN8pphYgMA",
        "outputId": "5477c10c-2010-409c-b8c0-dba038a446c5"
      },
      "execution_count": null,
      "outputs": [
        {
          "output_type": "execute_result",
          "data": {
            "text/plain": [
              "0.8044692737430168"
            ]
          },
          "metadata": {},
          "execution_count": 79
        }
      ]
    },
    {
      "cell_type": "code",
      "source": [
        "fit_predict(rf_clf, X_train, y_train, X_test, y_test )"
      ],
      "metadata": {
        "colab": {
          "base_uri": "https://localhost:8080/"
        },
        "id": "gF8IGa-KY3ju",
        "outputId": "9fd6cd70-9221-47cc-9c12-a3f61156b644"
      },
      "execution_count": null,
      "outputs": [
        {
          "output_type": "execute_result",
          "data": {
            "text/plain": [
              "0.7988826815642458"
            ]
          },
          "metadata": {},
          "execution_count": 80
        }
      ]
    },
    {
      "cell_type": "code",
      "source": [
        "fit_predict(lr_clf, X_train, y_train, X_test, y_test )"
      ],
      "metadata": {
        "colab": {
          "base_uri": "https://localhost:8080/"
        },
        "id": "JeMQdfvDY9IN",
        "outputId": "676eec00-218d-4e2b-ba62-13970cc07c3f"
      },
      "execution_count": null,
      "outputs": [
        {
          "output_type": "stream",
          "name": "stderr",
          "text": [
            "/usr/local/lib/python3.10/dist-packages/sklearn/linear_model/_logistic.py:458: ConvergenceWarning: lbfgs failed to converge (status=1):\n",
            "STOP: TOTAL NO. of ITERATIONS REACHED LIMIT.\n",
            "\n",
            "Increase the number of iterations (max_iter) or scale the data as shown in:\n",
            "    https://scikit-learn.org/stable/modules/preprocessing.html\n",
            "Please also refer to the documentation for alternative solver options:\n",
            "    https://scikit-learn.org/stable/modules/linear_model.html#logistic-regression\n",
            "  n_iter_i = _check_optimize_result(\n"
          ]
        },
        {
          "output_type": "execute_result",
          "data": {
            "text/plain": [
              "0.776536312849162"
            ]
          },
          "metadata": {},
          "execution_count": 81
        }
      ]
    },
    {
      "cell_type": "markdown",
      "source": [
        "1. K-Fold, dt_clf, 사용해서 score 값 산출, n_splits=5\n",
        "\n",
        "2. cross_val_score, dt_clf, 사용, score 값 산출, cv = 5\n",
        "\n",
        "3. GridSearchCV, dt_clf, best_estimator_ 산출한 scoe 값, cv=5\n",
        "\n",
        "    {'max_depth':[1,2,3,5,10], 'min_samples_split':[2,3,5]}"
      ],
      "metadata": {
        "id": "04mrlrkEZQUL"
      }
    },
    {
      "cell_type": "markdown",
      "source": [
        "데이터 = test + train = test + (validation+train)"
      ],
      "metadata": {
        "id": "GGh84wY5923E"
      }
    },
    {
      "cell_type": "markdown",
      "source": [
        "![스크린샷 2023-10-10 오후 2.04.23.png](data:image/png;base64,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)"
      ],
      "metadata": {
        "id": "N9BKNvN_-RCm"
      }
    },
    {
      "cell_type": "markdown",
      "source": [
        "K-Fold 교차 검증"
      ],
      "metadata": {
        "id": "tUq2zTqW_Jdx"
      }
    },
    {
      "cell_type": "code",
      "source": [
        "X_titanic"
      ],
      "metadata": {
        "colab": {
          "base_uri": "https://localhost:8080/",
          "height": 423
        },
        "id": "-cHeyoIk_hES",
        "outputId": "dae196cf-e4d3-48a7-9b3a-9afd13c8624c"
      },
      "execution_count": null,
      "outputs": [
        {
          "output_type": "execute_result",
          "data": {
            "text/plain": [
              "     Pclass  Sex        Age  SibSp  Parch     Fare  Cabin  Embarked\n",
              "0         3    1  22.000000      1      0   7.2500      7         3\n",
              "1         1    0  38.000000      1      0  71.2833      2         0\n",
              "2         3    0  26.000000      0      0   7.9250      7         3\n",
              "3         1    0  35.000000      1      0  53.1000      2         3\n",
              "4         3    1  35.000000      0      0   8.0500      7         3\n",
              "..      ...  ...        ...    ...    ...      ...    ...       ...\n",
              "886       2    1  27.000000      0      0  13.0000      7         3\n",
              "887       1    0  19.000000      0      0  30.0000      1         3\n",
              "888       3    0  29.699118      1      2  23.4500      7         3\n",
              "889       1    1  26.000000      0      0  30.0000      2         0\n",
              "890       3    1  32.000000      0      0   7.7500      7         2\n",
              "\n",
              "[891 rows x 8 columns]"
            ],
            "text/html": [
              "\n",
              "  <div id=\"df-4e50626e-daf6-4be4-9a5e-01d6ad0d1031\" class=\"colab-df-container\">\n",
              "    <div>\n",
              "<style scoped>\n",
              "    .dataframe tbody tr th:only-of-type {\n",
              "        vertical-align: middle;\n",
              "    }\n",
              "\n",
              "    .dataframe tbody tr th {\n",
              "        vertical-align: top;\n",
              "    }\n",
              "\n",
              "    .dataframe thead th {\n",
              "        text-align: right;\n",
              "    }\n",
              "</style>\n",
              "<table border=\"1\" class=\"dataframe\">\n",
              "  <thead>\n",
              "    <tr style=\"text-align: right;\">\n",
              "      <th></th>\n",
              "      <th>Pclass</th>\n",
              "      <th>Sex</th>\n",
              "      <th>Age</th>\n",
              "      <th>SibSp</th>\n",
              "      <th>Parch</th>\n",
              "      <th>Fare</th>\n",
              "      <th>Cabin</th>\n",
              "      <th>Embarked</th>\n",
              "    </tr>\n",
              "  </thead>\n",
              "  <tbody>\n",
              "    <tr>\n",
              "      <th>0</th>\n",
              "      <td>3</td>\n",
              "      <td>1</td>\n",
              "      <td>22.000000</td>\n",
              "      <td>1</td>\n",
              "      <td>0</td>\n",
              "      <td>7.2500</td>\n",
              "      <td>7</td>\n",
              "      <td>3</td>\n",
              "    </tr>\n",
              "    <tr>\n",
              "      <th>1</th>\n",
              "      <td>1</td>\n",
              "      <td>0</td>\n",
              "      <td>38.000000</td>\n",
              "      <td>1</td>\n",
              "      <td>0</td>\n",
              "      <td>71.2833</td>\n",
              "      <td>2</td>\n",
              "      <td>0</td>\n",
              "    </tr>\n",
              "    <tr>\n",
              "      <th>2</th>\n",
              "      <td>3</td>\n",
              "      <td>0</td>\n",
              "      <td>26.000000</td>\n",
              "      <td>0</td>\n",
              "      <td>0</td>\n",
              "      <td>7.9250</td>\n",
              "      <td>7</td>\n",
              "      <td>3</td>\n",
              "    </tr>\n",
              "    <tr>\n",
              "      <th>3</th>\n",
              "      <td>1</td>\n",
              "      <td>0</td>\n",
              "      <td>35.000000</td>\n",
              "      <td>1</td>\n",
              "      <td>0</td>\n",
              "      <td>53.1000</td>\n",
              "      <td>2</td>\n",
              "      <td>3</td>\n",
              "    </tr>\n",
              "    <tr>\n",
              "      <th>4</th>\n",
              "      <td>3</td>\n",
              "      <td>1</td>\n",
              "      <td>35.000000</td>\n",
              "      <td>0</td>\n",
              "      <td>0</td>\n",
              "      <td>8.0500</td>\n",
              "      <td>7</td>\n",
              "      <td>3</td>\n",
              "    </tr>\n",
              "    <tr>\n",
              "      <th>...</th>\n",
              "      <td>...</td>\n",
              "      <td>...</td>\n",
              "      <td>...</td>\n",
              "      <td>...</td>\n",
              "      <td>...</td>\n",
              "      <td>...</td>\n",
              "      <td>...</td>\n",
              "      <td>...</td>\n",
              "    </tr>\n",
              "    <tr>\n",
              "      <th>886</th>\n",
              "      <td>2</td>\n",
              "      <td>1</td>\n",
              "      <td>27.000000</td>\n",
              "      <td>0</td>\n",
              "      <td>0</td>\n",
              "      <td>13.0000</td>\n",
              "      <td>7</td>\n",
              "      <td>3</td>\n",
              "    </tr>\n",
              "    <tr>\n",
              "      <th>887</th>\n",
              "      <td>1</td>\n",
              "      <td>0</td>\n",
              "      <td>19.000000</td>\n",
              "      <td>0</td>\n",
              "      <td>0</td>\n",
              "      <td>30.0000</td>\n",
              "      <td>1</td>\n",
              "      <td>3</td>\n",
              "    </tr>\n",
              "    <tr>\n",
              "      <th>888</th>\n",
              "      <td>3</td>\n",
              "      <td>0</td>\n",
              "      <td>29.699118</td>\n",
              "      <td>1</td>\n",
              "      <td>2</td>\n",
              "      <td>23.4500</td>\n",
              "      <td>7</td>\n",
              "      <td>3</td>\n",
              "    </tr>\n",
              "    <tr>\n",
              "      <th>889</th>\n",
              "      <td>1</td>\n",
              "      <td>1</td>\n",
              "      <td>26.000000</td>\n",
              "      <td>0</td>\n",
              "      <td>0</td>\n",
              "      <td>30.0000</td>\n",
              "      <td>2</td>\n",
              "      <td>0</td>\n",
              "    </tr>\n",
              "    <tr>\n",
              "      <th>890</th>\n",
              "      <td>3</td>\n",
              "      <td>1</td>\n",
              "      <td>32.000000</td>\n",
              "      <td>0</td>\n",
              "      <td>0</td>\n",
              "      <td>7.7500</td>\n",
              "      <td>7</td>\n",
              "      <td>2</td>\n",
              "    </tr>\n",
              "  </tbody>\n",
              "</table>\n",
              "<p>891 rows × 8 columns</p>\n",
              "</div>\n",
              "    <div class=\"colab-df-buttons\">\n",
              "\n",
              "  <div class=\"colab-df-container\">\n",
              "    <button class=\"colab-df-convert\" onclick=\"convertToInteractive('df-4e50626e-daf6-4be4-9a5e-01d6ad0d1031')\"\n",
              "            title=\"Convert this dataframe to an interactive table.\"\n",
              "            style=\"display:none;\">\n",
              "\n",
              "  <svg xmlns=\"http://www.w3.org/2000/svg\" height=\"24px\" viewBox=\"0 -960 960 960\">\n",
              "    <path d=\"M120-120v-720h720v720H120Zm60-500h600v-160H180v160Zm220 220h160v-160H400v160Zm0 220h160v-160H400v160ZM180-400h160v-160H180v160Zm440 0h160v-160H620v160ZM180-180h160v-160H180v160Zm440 0h160v-160H620v160Z\"/>\n",
              "  </svg>\n",
              "    </button>\n",
              "\n",
              "  <style>\n",
              "    .colab-df-container {\n",
              "      display:flex;\n",
              "      gap: 12px;\n",
              "    }\n",
              "\n",
              "    .colab-df-convert {\n",
              "      background-color: #E8F0FE;\n",
              "      border: none;\n",
              "      border-radius: 50%;\n",
              "      cursor: pointer;\n",
              "      display: none;\n",
              "      fill: #1967D2;\n",
              "      height: 32px;\n",
              "      padding: 0 0 0 0;\n",
              "      width: 32px;\n",
              "    }\n",
              "\n",
              "    .colab-df-convert:hover {\n",
              "      background-color: #E2EBFA;\n",
              "      box-shadow: 0px 1px 2px rgba(60, 64, 67, 0.3), 0px 1px 3px 1px rgba(60, 64, 67, 0.15);\n",
              "      fill: #174EA6;\n",
              "    }\n",
              "\n",
              "    .colab-df-buttons div {\n",
              "      margin-bottom: 4px;\n",
              "    }\n",
              "\n",
              "    [theme=dark] .colab-df-convert {\n",
              "      background-color: #3B4455;\n",
              "      fill: #D2E3FC;\n",
              "    }\n",
              "\n",
              "    [theme=dark] .colab-df-convert:hover {\n",
              "      background-color: #434B5C;\n",
              "      box-shadow: 0px 1px 3px 1px rgba(0, 0, 0, 0.15);\n",
              "      filter: drop-shadow(0px 1px 2px rgba(0, 0, 0, 0.3));\n",
              "      fill: #FFFFFF;\n",
              "    }\n",
              "  </style>\n",
              "\n",
              "    <script>\n",
              "      const buttonEl =\n",
              "        document.querySelector('#df-4e50626e-daf6-4be4-9a5e-01d6ad0d1031 button.colab-df-convert');\n",
              "      buttonEl.style.display =\n",
              "        google.colab.kernel.accessAllowed ? 'block' : 'none';\n",
              "\n",
              "      async function convertToInteractive(key) {\n",
              "        const element = document.querySelector('#df-4e50626e-daf6-4be4-9a5e-01d6ad0d1031');\n",
              "        const dataTable =\n",
              "          await google.colab.kernel.invokeFunction('convertToInteractive',\n",
              "                                                    [key], {});\n",
              "        if (!dataTable) return;\n",
              "\n",
              "        const docLinkHtml = 'Like what you see? Visit the ' +\n",
              "          '<a target=\"_blank\" href=https://colab.research.google.com/notebooks/data_table.ipynb>data table notebook</a>'\n",
              "          + ' to learn more about interactive tables.';\n",
              "        element.innerHTML = '';\n",
              "        dataTable['output_type'] = 'display_data';\n",
              "        await google.colab.output.renderOutput(dataTable, element);\n",
              "        const docLink = document.createElement('div');\n",
              "        docLink.innerHTML = docLinkHtml;\n",
              "        element.appendChild(docLink);\n",
              "      }\n",
              "    </script>\n",
              "  </div>\n",
              "\n",
              "\n",
              "<div id=\"df-7545e2ac-de53-41ea-9f8d-371ef3aad588\">\n",
              "  <button class=\"colab-df-quickchart\" onclick=\"quickchart('df-7545e2ac-de53-41ea-9f8d-371ef3aad588')\"\n",
              "            title=\"Suggest charts.\"\n",
              "            style=\"display:none;\">\n",
              "\n",
              "<svg xmlns=\"http://www.w3.org/2000/svg\" height=\"24px\"viewBox=\"0 0 24 24\"\n",
              "     width=\"24px\">\n",
              "    <g>\n",
              "        <path d=\"M19 3H5c-1.1 0-2 .9-2 2v14c0 1.1.9 2 2 2h14c1.1 0 2-.9 2-2V5c0-1.1-.9-2-2-2zM9 17H7v-7h2v7zm4 0h-2V7h2v10zm4 0h-2v-4h2v4z\"/>\n",
              "    </g>\n",
              "</svg>\n",
              "  </button>\n",
              "\n",
              "<style>\n",
              "  .colab-df-quickchart {\n",
              "      --bg-color: #E8F0FE;\n",
              "      --fill-color: #1967D2;\n",
              "      --hover-bg-color: #E2EBFA;\n",
              "      --hover-fill-color: #174EA6;\n",
              "      --disabled-fill-color: #AAA;\n",
              "      --disabled-bg-color: #DDD;\n",
              "  }\n",
              "\n",
              "  [theme=dark] .colab-df-quickchart {\n",
              "      --bg-color: #3B4455;\n",
              "      --fill-color: #D2E3FC;\n",
              "      --hover-bg-color: #434B5C;\n",
              "      --hover-fill-color: #FFFFFF;\n",
              "      --disabled-bg-color: #3B4455;\n",
              "      --disabled-fill-color: #666;\n",
              "  }\n",
              "\n",
              "  .colab-df-quickchart {\n",
              "    background-color: var(--bg-color);\n",
              "    border: none;\n",
              "    border-radius: 50%;\n",
              "    cursor: pointer;\n",
              "    display: none;\n",
              "    fill: var(--fill-color);\n",
              "    height: 32px;\n",
              "    padding: 0;\n",
              "    width: 32px;\n",
              "  }\n",
              "\n",
              "  .colab-df-quickchart:hover {\n",
              "    background-color: var(--hover-bg-color);\n",
              "    box-shadow: 0 1px 2px rgba(60, 64, 67, 0.3), 0 1px 3px 1px rgba(60, 64, 67, 0.15);\n",
              "    fill: var(--button-hover-fill-color);\n",
              "  }\n",
              "\n",
              "  .colab-df-quickchart-complete:disabled,\n",
              "  .colab-df-quickchart-complete:disabled:hover {\n",
              "    background-color: var(--disabled-bg-color);\n",
              "    fill: var(--disabled-fill-color);\n",
              "    box-shadow: none;\n",
              "  }\n",
              "\n",
              "  .colab-df-spinner {\n",
              "    border: 2px solid var(--fill-color);\n",
              "    border-color: transparent;\n",
              "    border-bottom-color: var(--fill-color);\n",
              "    animation:\n",
              "      spin 1s steps(1) infinite;\n",
              "  }\n",
              "\n",
              "  @keyframes spin {\n",
              "    0% {\n",
              "      border-color: transparent;\n",
              "      border-bottom-color: var(--fill-color);\n",
              "      border-left-color: var(--fill-color);\n",
              "    }\n",
              "    20% {\n",
              "      border-color: transparent;\n",
              "      border-left-color: var(--fill-color);\n",
              "      border-top-color: var(--fill-color);\n",
              "    }\n",
              "    30% {\n",
              "      border-color: transparent;\n",
              "      border-left-color: var(--fill-color);\n",
              "      border-top-color: var(--fill-color);\n",
              "      border-right-color: var(--fill-color);\n",
              "    }\n",
              "    40% {\n",
              "      border-color: transparent;\n",
              "      border-right-color: var(--fill-color);\n",
              "      border-top-color: var(--fill-color);\n",
              "    }\n",
              "    60% {\n",
              "      border-color: transparent;\n",
              "      border-right-color: var(--fill-color);\n",
              "    }\n",
              "    80% {\n",
              "      border-color: transparent;\n",
              "      border-right-color: var(--fill-color);\n",
              "      border-bottom-color: var(--fill-color);\n",
              "    }\n",
              "    90% {\n",
              "      border-color: transparent;\n",
              "      border-bottom-color: var(--fill-color);\n",
              "    }\n",
              "  }\n",
              "</style>\n",
              "\n",
              "  <script>\n",
              "    async function quickchart(key) {\n",
              "      const quickchartButtonEl =\n",
              "        document.querySelector('#' + key + ' button');\n",
              "      quickchartButtonEl.disabled = true;  // To prevent multiple clicks.\n",
              "      quickchartButtonEl.classList.add('colab-df-spinner');\n",
              "      try {\n",
              "        const charts = await google.colab.kernel.invokeFunction(\n",
              "            'suggestCharts', [key], {});\n",
              "      } catch (error) {\n",
              "        console.error('Error during call to suggestCharts:', error);\n",
              "      }\n",
              "      quickchartButtonEl.classList.remove('colab-df-spinner');\n",
              "      quickchartButtonEl.classList.add('colab-df-quickchart-complete');\n",
              "    }\n",
              "    (() => {\n",
              "      let quickchartButtonEl =\n",
              "        document.querySelector('#df-7545e2ac-de53-41ea-9f8d-371ef3aad588 button');\n",
              "      quickchartButtonEl.style.display =\n",
              "        google.colab.kernel.accessAllowed ? 'block' : 'none';\n",
              "    })();\n",
              "  </script>\n",
              "</div>\n",
              "    </div>\n",
              "  </div>\n"
            ]
          },
          "metadata": {},
          "execution_count": 82
        }
      ]
    },
    {
      "cell_type": "code",
      "source": [
        "y_titanic"
      ],
      "metadata": {
        "colab": {
          "base_uri": "https://localhost:8080/"
        },
        "id": "dAWQszPc_ljS",
        "outputId": "f739ce8f-b8ac-4c2a-a239-cd3d47676237"
      },
      "execution_count": null,
      "outputs": [
        {
          "output_type": "execute_result",
          "data": {
            "text/plain": [
              "0      0\n",
              "1      1\n",
              "2      1\n",
              "3      1\n",
              "4      0\n",
              "      ..\n",
              "886    0\n",
              "887    1\n",
              "888    0\n",
              "889    1\n",
              "890    0\n",
              "Name: Survived, Length: 891, dtype: int64"
            ]
          },
          "metadata": {},
          "execution_count": 83
        }
      ]
    },
    {
      "cell_type": "code",
      "source": [
        "X_train, X_test, y_train, y_test = train_test_split(X_titanic, y_titanic, test_size=0.2, random_state=2)"
      ],
      "metadata": {
        "id": "e-4MmL8z_geC"
      },
      "execution_count": null,
      "outputs": []
    },
    {
      "cell_type": "code",
      "source": [
        "X_train"
      ],
      "metadata": {
        "colab": {
          "base_uri": "https://localhost:8080/",
          "height": 423
        },
        "id": "kvn_-QRh_qeY",
        "outputId": "15364794-b7c3-43e5-e434-3728f712dcef"
      },
      "execution_count": null,
      "outputs": [
        {
          "output_type": "execute_result",
          "data": {
            "text/plain": [
              "     Pclass  Sex        Age  SibSp  Parch      Fare  Cabin  Embarked\n",
              "30        1    1  40.000000      0      0   27.7208      7         0\n",
              "10        3    0   4.000000      1      1   16.7000      6         3\n",
              "873       3    1  47.000000      0      0    9.0000      7         3\n",
              "182       3    1   9.000000      4      2   31.3875      7         3\n",
              "876       3    1  20.000000      0      0    9.8458      7         3\n",
              "..      ...  ...        ...    ...    ...       ...    ...       ...\n",
              "534       3    0  30.000000      0      0    8.6625      7         3\n",
              "584       3    1  29.699118      0      0    8.7125      7         0\n",
              "493       1    1  71.000000      0      0   49.5042      7         0\n",
              "527       1    1  29.699118      0      0  221.7792      2         3\n",
              "168       1    1  29.699118      0      0   25.9250      7         3\n",
              "\n",
              "[712 rows x 8 columns]"
            ],
            "text/html": [
              "\n",
              "  <div id=\"df-f4bacea5-3620-4e4e-abf0-d97a99457812\" class=\"colab-df-container\">\n",
              "    <div>\n",
              "<style scoped>\n",
              "    .dataframe tbody tr th:only-of-type {\n",
              "        vertical-align: middle;\n",
              "    }\n",
              "\n",
              "    .dataframe tbody tr th {\n",
              "        vertical-align: top;\n",
              "    }\n",
              "\n",
              "    .dataframe thead th {\n",
              "        text-align: right;\n",
              "    }\n",
              "</style>\n",
              "<table border=\"1\" class=\"dataframe\">\n",
              "  <thead>\n",
              "    <tr style=\"text-align: right;\">\n",
              "      <th></th>\n",
              "      <th>Pclass</th>\n",
              "      <th>Sex</th>\n",
              "      <th>Age</th>\n",
              "      <th>SibSp</th>\n",
              "      <th>Parch</th>\n",
              "      <th>Fare</th>\n",
              "      <th>Cabin</th>\n",
              "      <th>Embarked</th>\n",
              "    </tr>\n",
              "  </thead>\n",
              "  <tbody>\n",
              "    <tr>\n",
              "      <th>30</th>\n",
              "      <td>1</td>\n",
              "      <td>1</td>\n",
              "      <td>40.000000</td>\n",
              "      <td>0</td>\n",
              "      <td>0</td>\n",
              "      <td>27.7208</td>\n",
              "      <td>7</td>\n",
              "      <td>0</td>\n",
              "    </tr>\n",
              "    <tr>\n",
              "      <th>10</th>\n",
              "      <td>3</td>\n",
              "      <td>0</td>\n",
              "      <td>4.000000</td>\n",
              "      <td>1</td>\n",
              "      <td>1</td>\n",
              "      <td>16.7000</td>\n",
              "      <td>6</td>\n",
              "      <td>3</td>\n",
              "    </tr>\n",
              "    <tr>\n",
              "      <th>873</th>\n",
              "      <td>3</td>\n",
              "      <td>1</td>\n",
              "      <td>47.000000</td>\n",
              "      <td>0</td>\n",
              "      <td>0</td>\n",
              "      <td>9.0000</td>\n",
              "      <td>7</td>\n",
              "      <td>3</td>\n",
              "    </tr>\n",
              "    <tr>\n",
              "      <th>182</th>\n",
              "      <td>3</td>\n",
              "      <td>1</td>\n",
              "      <td>9.000000</td>\n",
              "      <td>4</td>\n",
              "      <td>2</td>\n",
              "      <td>31.3875</td>\n",
              "      <td>7</td>\n",
              "      <td>3</td>\n",
              "    </tr>\n",
              "    <tr>\n",
              "      <th>876</th>\n",
              "      <td>3</td>\n",
              "      <td>1</td>\n",
              "      <td>20.000000</td>\n",
              "      <td>0</td>\n",
              "      <td>0</td>\n",
              "      <td>9.8458</td>\n",
              "      <td>7</td>\n",
              "      <td>3</td>\n",
              "    </tr>\n",
              "    <tr>\n",
              "      <th>...</th>\n",
              "      <td>...</td>\n",
              "      <td>...</td>\n",
              "      <td>...</td>\n",
              "      <td>...</td>\n",
              "      <td>...</td>\n",
              "      <td>...</td>\n",
              "      <td>...</td>\n",
              "      <td>...</td>\n",
              "    </tr>\n",
              "    <tr>\n",
              "      <th>534</th>\n",
              "      <td>3</td>\n",
              "      <td>0</td>\n",
              "      <td>30.000000</td>\n",
              "      <td>0</td>\n",
              "      <td>0</td>\n",
              "      <td>8.6625</td>\n",
              "      <td>7</td>\n",
              "      <td>3</td>\n",
              "    </tr>\n",
              "    <tr>\n",
              "      <th>584</th>\n",
              "      <td>3</td>\n",
              "      <td>1</td>\n",
              "      <td>29.699118</td>\n",
              "      <td>0</td>\n",
              "      <td>0</td>\n",
              "      <td>8.7125</td>\n",
              "      <td>7</td>\n",
              "      <td>0</td>\n",
              "    </tr>\n",
              "    <tr>\n",
              "      <th>493</th>\n",
              "      <td>1</td>\n",
              "      <td>1</td>\n",
              "      <td>71.000000</td>\n",
              "      <td>0</td>\n",
              "      <td>0</td>\n",
              "      <td>49.5042</td>\n",
              "      <td>7</td>\n",
              "      <td>0</td>\n",
              "    </tr>\n",
              "    <tr>\n",
              "      <th>527</th>\n",
              "      <td>1</td>\n",
              "      <td>1</td>\n",
              "      <td>29.699118</td>\n",
              "      <td>0</td>\n",
              "      <td>0</td>\n",
              "      <td>221.7792</td>\n",
              "      <td>2</td>\n",
              "      <td>3</td>\n",
              "    </tr>\n",
              "    <tr>\n",
              "      <th>168</th>\n",
              "      <td>1</td>\n",
              "      <td>1</td>\n",
              "      <td>29.699118</td>\n",
              "      <td>0</td>\n",
              "      <td>0</td>\n",
              "      <td>25.9250</td>\n",
              "      <td>7</td>\n",
              "      <td>3</td>\n",
              "    </tr>\n",
              "  </tbody>\n",
              "</table>\n",
              "<p>712 rows × 8 columns</p>\n",
              "</div>\n",
              "    <div class=\"colab-df-buttons\">\n",
              "\n",
              "  <div class=\"colab-df-container\">\n",
              "    <button class=\"colab-df-convert\" onclick=\"convertToInteractive('df-f4bacea5-3620-4e4e-abf0-d97a99457812')\"\n",
              "            title=\"Convert this dataframe to an interactive table.\"\n",
              "            style=\"display:none;\">\n",
              "\n",
              "  <svg xmlns=\"http://www.w3.org/2000/svg\" height=\"24px\" viewBox=\"0 -960 960 960\">\n",
              "    <path d=\"M120-120v-720h720v720H120Zm60-500h600v-160H180v160Zm220 220h160v-160H400v160Zm0 220h160v-160H400v160ZM180-400h160v-160H180v160Zm440 0h160v-160H620v160ZM180-180h160v-160H180v160Zm440 0h160v-160H620v160Z\"/>\n",
              "  </svg>\n",
              "    </button>\n",
              "\n",
              "  <style>\n",
              "    .colab-df-container {\n",
              "      display:flex;\n",
              "      gap: 12px;\n",
              "    }\n",
              "\n",
              "    .colab-df-convert {\n",
              "      background-color: #E8F0FE;\n",
              "      border: none;\n",
              "      border-radius: 50%;\n",
              "      cursor: pointer;\n",
              "      display: none;\n",
              "      fill: #1967D2;\n",
              "      height: 32px;\n",
              "      padding: 0 0 0 0;\n",
              "      width: 32px;\n",
              "    }\n",
              "\n",
              "    .colab-df-convert:hover {\n",
              "      background-color: #E2EBFA;\n",
              "      box-shadow: 0px 1px 2px rgba(60, 64, 67, 0.3), 0px 1px 3px 1px rgba(60, 64, 67, 0.15);\n",
              "      fill: #174EA6;\n",
              "    }\n",
              "\n",
              "    .colab-df-buttons div {\n",
              "      margin-bottom: 4px;\n",
              "    }\n",
              "\n",
              "    [theme=dark] .colab-df-convert {\n",
              "      background-color: #3B4455;\n",
              "      fill: #D2E3FC;\n",
              "    }\n",
              "\n",
              "    [theme=dark] .colab-df-convert:hover {\n",
              "      background-color: #434B5C;\n",
              "      box-shadow: 0px 1px 3px 1px rgba(0, 0, 0, 0.15);\n",
              "      filter: drop-shadow(0px 1px 2px rgba(0, 0, 0, 0.3));\n",
              "      fill: #FFFFFF;\n",
              "    }\n",
              "  </style>\n",
              "\n",
              "    <script>\n",
              "      const buttonEl =\n",
              "        document.querySelector('#df-f4bacea5-3620-4e4e-abf0-d97a99457812 button.colab-df-convert');\n",
              "      buttonEl.style.display =\n",
              "        google.colab.kernel.accessAllowed ? 'block' : 'none';\n",
              "\n",
              "      async function convertToInteractive(key) {\n",
              "        const element = document.querySelector('#df-f4bacea5-3620-4e4e-abf0-d97a99457812');\n",
              "        const dataTable =\n",
              "          await google.colab.kernel.invokeFunction('convertToInteractive',\n",
              "                                                    [key], {});\n",
              "        if (!dataTable) return;\n",
              "\n",
              "        const docLinkHtml = 'Like what you see? Visit the ' +\n",
              "          '<a target=\"_blank\" href=https://colab.research.google.com/notebooks/data_table.ipynb>data table notebook</a>'\n",
              "          + ' to learn more about interactive tables.';\n",
              "        element.innerHTML = '';\n",
              "        dataTable['output_type'] = 'display_data';\n",
              "        await google.colab.output.renderOutput(dataTable, element);\n",
              "        const docLink = document.createElement('div');\n",
              "        docLink.innerHTML = docLinkHtml;\n",
              "        element.appendChild(docLink);\n",
              "      }\n",
              "    </script>\n",
              "  </div>\n",
              "\n",
              "\n",
              "<div id=\"df-02b042a6-2e69-45ce-a503-4ada6ed1b081\">\n",
              "  <button class=\"colab-df-quickchart\" onclick=\"quickchart('df-02b042a6-2e69-45ce-a503-4ada6ed1b081')\"\n",
              "            title=\"Suggest charts.\"\n",
              "            style=\"display:none;\">\n",
              "\n",
              "<svg xmlns=\"http://www.w3.org/2000/svg\" height=\"24px\"viewBox=\"0 0 24 24\"\n",
              "     width=\"24px\">\n",
              "    <g>\n",
              "        <path d=\"M19 3H5c-1.1 0-2 .9-2 2v14c0 1.1.9 2 2 2h14c1.1 0 2-.9 2-2V5c0-1.1-.9-2-2-2zM9 17H7v-7h2v7zm4 0h-2V7h2v10zm4 0h-2v-4h2v4z\"/>\n",
              "    </g>\n",
              "</svg>\n",
              "  </button>\n",
              "\n",
              "<style>\n",
              "  .colab-df-quickchart {\n",
              "      --bg-color: #E8F0FE;\n",
              "      --fill-color: #1967D2;\n",
              "      --hover-bg-color: #E2EBFA;\n",
              "      --hover-fill-color: #174EA6;\n",
              "      --disabled-fill-color: #AAA;\n",
              "      --disabled-bg-color: #DDD;\n",
              "  }\n",
              "\n",
              "  [theme=dark] .colab-df-quickchart {\n",
              "      --bg-color: #3B4455;\n",
              "      --fill-color: #D2E3FC;\n",
              "      --hover-bg-color: #434B5C;\n",
              "      --hover-fill-color: #FFFFFF;\n",
              "      --disabled-bg-color: #3B4455;\n",
              "      --disabled-fill-color: #666;\n",
              "  }\n",
              "\n",
              "  .colab-df-quickchart {\n",
              "    background-color: var(--bg-color);\n",
              "    border: none;\n",
              "    border-radius: 50%;\n",
              "    cursor: pointer;\n",
              "    display: none;\n",
              "    fill: var(--fill-color);\n",
              "    height: 32px;\n",
              "    padding: 0;\n",
              "    width: 32px;\n",
              "  }\n",
              "\n",
              "  .colab-df-quickchart:hover {\n",
              "    background-color: var(--hover-bg-color);\n",
              "    box-shadow: 0 1px 2px rgba(60, 64, 67, 0.3), 0 1px 3px 1px rgba(60, 64, 67, 0.15);\n",
              "    fill: var(--button-hover-fill-color);\n",
              "  }\n",
              "\n",
              "  .colab-df-quickchart-complete:disabled,\n",
              "  .colab-df-quickchart-complete:disabled:hover {\n",
              "    background-color: var(--disabled-bg-color);\n",
              "    fill: var(--disabled-fill-color);\n",
              "    box-shadow: none;\n",
              "  }\n",
              "\n",
              "  .colab-df-spinner {\n",
              "    border: 2px solid var(--fill-color);\n",
              "    border-color: transparent;\n",
              "    border-bottom-color: var(--fill-color);\n",
              "    animation:\n",
              "      spin 1s steps(1) infinite;\n",
              "  }\n",
              "\n",
              "  @keyframes spin {\n",
              "    0% {\n",
              "      border-color: transparent;\n",
              "      border-bottom-color: var(--fill-color);\n",
              "      border-left-color: var(--fill-color);\n",
              "    }\n",
              "    20% {\n",
              "      border-color: transparent;\n",
              "      border-left-color: var(--fill-color);\n",
              "      border-top-color: var(--fill-color);\n",
              "    }\n",
              "    30% {\n",
              "      border-color: transparent;\n",
              "      border-left-color: var(--fill-color);\n",
              "      border-top-color: var(--fill-color);\n",
              "      border-right-color: var(--fill-color);\n",
              "    }\n",
              "    40% {\n",
              "      border-color: transparent;\n",
              "      border-right-color: var(--fill-color);\n",
              "      border-top-color: var(--fill-color);\n",
              "    }\n",
              "    60% {\n",
              "      border-color: transparent;\n",
              "      border-right-color: var(--fill-color);\n",
              "    }\n",
              "    80% {\n",
              "      border-color: transparent;\n",
              "      border-right-color: var(--fill-color);\n",
              "      border-bottom-color: var(--fill-color);\n",
              "    }\n",
              "    90% {\n",
              "      border-color: transparent;\n",
              "      border-bottom-color: var(--fill-color);\n",
              "    }\n",
              "  }\n",
              "</style>\n",
              "\n",
              "  <script>\n",
              "    async function quickchart(key) {\n",
              "      const quickchartButtonEl =\n",
              "        document.querySelector('#' + key + ' button');\n",
              "      quickchartButtonEl.disabled = true;  // To prevent multiple clicks.\n",
              "      quickchartButtonEl.classList.add('colab-df-spinner');\n",
              "      try {\n",
              "        const charts = await google.colab.kernel.invokeFunction(\n",
              "            'suggestCharts', [key], {});\n",
              "      } catch (error) {\n",
              "        console.error('Error during call to suggestCharts:', error);\n",
              "      }\n",
              "      quickchartButtonEl.classList.remove('colab-df-spinner');\n",
              "      quickchartButtonEl.classList.add('colab-df-quickchart-complete');\n",
              "    }\n",
              "    (() => {\n",
              "      let quickchartButtonEl =\n",
              "        document.querySelector('#df-02b042a6-2e69-45ce-a503-4ada6ed1b081 button');\n",
              "      quickchartButtonEl.style.display =\n",
              "        google.colab.kernel.accessAllowed ? 'block' : 'none';\n",
              "    })();\n",
              "  </script>\n",
              "</div>\n",
              "    </div>\n",
              "  </div>\n"
            ]
          },
          "metadata": {},
          "execution_count": 85
        }
      ]
    },
    {
      "cell_type": "code",
      "source": [
        "def fit_predict(estimator, X_train, y_train, X_test, y_test):\n",
        "    estimator.fit(X_train, y_train)\n",
        "    pred = estimator.predict(X_test)\n",
        "    return (accuracy_score(y_test, pred))"
      ],
      "metadata": {
        "id": "_0kmdmMhJMRH"
      },
      "execution_count": null,
      "outputs": []
    },
    {
      "cell_type": "code",
      "source": [
        "n_iter=0\n",
        "kfold = KFold(n_splits=5)\n",
        "score = []\n",
        "dt_clf = DecisionTreeClassifier()\n",
        "X_train, X_test, y_train, y_test = train_test_split(X_titanic, y_titanic, test_size=0.2, random_state=2)\n",
        "for train_index, test_index in kfold.split(X_train):\n",
        "    X_train = X_titanic.iloc[train_index]\n",
        "    X_test = X_titanic.iloc[test_index]\n",
        "    y_train = y_titanic.iloc[train_index]\n",
        "    y_test = y_titanic.iloc[test_index]\n",
        "    s_item = fit_predict(dt_clf, X_train, y_train, X_test, y_test)\n",
        "    score.append(s_item)\n",
        "    n_iter+=1\n",
        "    print(n_iter, ' : ', s_item)\n",
        "np.mean(score)\n",
        "print(np.mean(score))\n",
        "\n",
        "pred = dt_clf.predict(X_test)\n",
        "print('final : ', accuracy_score(y_test, pred))"
      ],
      "metadata": {
        "colab": {
          "base_uri": "https://localhost:8080/"
        },
        "id": "JLRSIhCEZCYa",
        "outputId": "0fa98cc7-c8b7-4fbd-92d4-2284ba70613e"
      },
      "execution_count": null,
      "outputs": [
        {
          "output_type": "stream",
          "name": "stdout",
          "text": [
            "1  :  0.7972027972027972\n",
            "2  :  0.7762237762237763\n",
            "3  :  0.823943661971831\n",
            "4  :  0.7605633802816901\n",
            "5  :  0.7676056338028169\n",
            "0.7851078498965822\n",
            "final :  0.7676056338028169\n"
          ]
        }
      ]
    },
    {
      "cell_type": "code",
      "source": [
        "pred = dt_clf.predict(X_test)\n",
        "accuracy_score(y_test, pred)"
      ],
      "metadata": {
        "id": "xIZ3b7DvJQm_"
      },
      "execution_count": null,
      "outputs": []
    },
    {
      "cell_type": "code",
      "source": [
        "dt_clf = DecisionTreeClassifier()\n",
        "X_train, X_test, y_train, y_test = train_test_split(X_titanic, y_titanic, test_size=0.2, random_state=2)"
      ],
      "metadata": {
        "id": "Y9WdAYRpBo5a"
      },
      "execution_count": null,
      "outputs": []
    },
    {
      "cell_type": "code",
      "source": [
        "scores = cross_val_score(dt_clf, X_train, y_train, cv=5)\n",
        "print(scores)\n",
        "np.mean(scores)"
      ],
      "metadata": {
        "colab": {
          "base_uri": "https://localhost:8080/"
        },
        "id": "wAF0j7l7CpYu",
        "outputId": "d80bd202-e1bc-4e19-b788-a164b7288880"
      },
      "execution_count": null,
      "outputs": [
        {
          "output_type": "stream",
          "name": "stdout",
          "text": [
            "[0.79020979 0.81118881 0.75352113 0.73943662 0.73943662]\n"
          ]
        },
        {
          "output_type": "execute_result",
          "data": {
            "text/plain": [
              "0.766758593519157"
            ]
          },
          "metadata": {},
          "execution_count": 94
        }
      ]
    },
    {
      "cell_type": "code",
      "source": [
        "scores = cross_val_score(dt_clf, X_titanic, y_titanic, cv=kfold)\n",
        "print(scores)\n",
        "np.mean(scores)"
      ],
      "metadata": {
        "colab": {
          "base_uri": "https://localhost:8080/"
        },
        "id": "-8iQo223Cx7F",
        "outputId": "0dcb1c93-3065-4bfd-e64a-3e179ebe846a"
      },
      "execution_count": null,
      "outputs": [
        {
          "output_type": "stream",
          "name": "stdout",
          "text": [
            "[0.77094972 0.78089888 0.79775281 0.76966292 0.81460674]\n"
          ]
        },
        {
          "output_type": "execute_result",
          "data": {
            "text/plain": [
              "0.7867742137969994"
            ]
          },
          "metadata": {},
          "execution_count": 97
        }
      ]
    },
    {
      "cell_type": "markdown",
      "source": [
        "GridSearchCV 사용"
      ],
      "metadata": {
        "id": "KULW0viGETPu"
      }
    },
    {
      "cell_type": "code",
      "source": [
        "parameters = {'max_depth':[1,2,3,5,10], 'min_samples_split':[2,3,5]}"
      ],
      "metadata": {
        "id": "rcTbNQvtDHEN"
      },
      "execution_count": null,
      "outputs": []
    },
    {
      "cell_type": "code",
      "source": [
        "dt_clf = DecisionTreeClassifier()\n",
        "X_train, X_test, y_train, y_test = train_test_split(X_titanic, y_titanic, test_size=0.2, random_state=11)"
      ],
      "metadata": {
        "id": "W89QVkDGEr5H"
      },
      "execution_count": null,
      "outputs": []
    },
    {
      "cell_type": "code",
      "source": [
        "grid_tree = GridSearchCV(dt_clf, param_grid=parameters, cv=5)"
      ],
      "metadata": {
        "id": "IQ8NX7eCEh5l"
      },
      "execution_count": null,
      "outputs": []
    },
    {
      "cell_type": "code",
      "source": [
        "grid_tree.fit(X_train, y_train)"
      ],
      "metadata": {
        "colab": {
          "base_uri": "https://localhost:8080/",
          "height": 117
        },
        "id": "tzVqJx55EwOz",
        "outputId": "3c41812d-d068-49e5-f652-e363476137d8"
      },
      "execution_count": null,
      "outputs": [
        {
          "output_type": "execute_result",
          "data": {
            "text/plain": [
              "GridSearchCV(cv=5, estimator=DecisionTreeClassifier(),\n",
              "             param_grid={'max_depth': [1, 2, 3, 5, 10],\n",
              "                         'min_samples_split': [2, 3, 5]})"
            ],
            "text/html": [
              "<style>#sk-container-id-8 {color: black;background-color: white;}#sk-container-id-8 pre{padding: 0;}#sk-container-id-8 div.sk-toggleable {background-color: white;}#sk-container-id-8 label.sk-toggleable__label {cursor: pointer;display: block;width: 100%;margin-bottom: 0;padding: 0.3em;box-sizing: border-box;text-align: center;}#sk-container-id-8 label.sk-toggleable__label-arrow:before {content: \"▸\";float: left;margin-right: 0.25em;color: #696969;}#sk-container-id-8 label.sk-toggleable__label-arrow:hover:before {color: black;}#sk-container-id-8 div.sk-estimator:hover label.sk-toggleable__label-arrow:before {color: black;}#sk-container-id-8 div.sk-toggleable__content {max-height: 0;max-width: 0;overflow: hidden;text-align: left;background-color: #f0f8ff;}#sk-container-id-8 div.sk-toggleable__content pre {margin: 0.2em;color: black;border-radius: 0.25em;background-color: #f0f8ff;}#sk-container-id-8 input.sk-toggleable__control:checked~div.sk-toggleable__content {max-height: 200px;max-width: 100%;overflow: auto;}#sk-container-id-8 input.sk-toggleable__control:checked~label.sk-toggleable__label-arrow:before {content: \"▾\";}#sk-container-id-8 div.sk-estimator input.sk-toggleable__control:checked~label.sk-toggleable__label {background-color: #d4ebff;}#sk-container-id-8 div.sk-label input.sk-toggleable__control:checked~label.sk-toggleable__label {background-color: #d4ebff;}#sk-container-id-8 input.sk-hidden--visually {border: 0;clip: rect(1px 1px 1px 1px);clip: rect(1px, 1px, 1px, 1px);height: 1px;margin: -1px;overflow: hidden;padding: 0;position: absolute;width: 1px;}#sk-container-id-8 div.sk-estimator {font-family: monospace;background-color: #f0f8ff;border: 1px dotted black;border-radius: 0.25em;box-sizing: border-box;margin-bottom: 0.5em;}#sk-container-id-8 div.sk-estimator:hover {background-color: #d4ebff;}#sk-container-id-8 div.sk-parallel-item::after {content: \"\";width: 100%;border-bottom: 1px solid gray;flex-grow: 1;}#sk-container-id-8 div.sk-label:hover label.sk-toggleable__label {background-color: #d4ebff;}#sk-container-id-8 div.sk-serial::before {content: \"\";position: absolute;border-left: 1px solid gray;box-sizing: border-box;top: 0;bottom: 0;left: 50%;z-index: 0;}#sk-container-id-8 div.sk-serial {display: flex;flex-direction: column;align-items: center;background-color: white;padding-right: 0.2em;padding-left: 0.2em;position: relative;}#sk-container-id-8 div.sk-item {position: relative;z-index: 1;}#sk-container-id-8 div.sk-parallel {display: flex;align-items: stretch;justify-content: center;background-color: white;position: relative;}#sk-container-id-8 div.sk-item::before, #sk-container-id-8 div.sk-parallel-item::before {content: \"\";position: absolute;border-left: 1px solid gray;box-sizing: border-box;top: 0;bottom: 0;left: 50%;z-index: -1;}#sk-container-id-8 div.sk-parallel-item {display: flex;flex-direction: column;z-index: 1;position: relative;background-color: white;}#sk-container-id-8 div.sk-parallel-item:first-child::after {align-self: flex-end;width: 50%;}#sk-container-id-8 div.sk-parallel-item:last-child::after {align-self: flex-start;width: 50%;}#sk-container-id-8 div.sk-parallel-item:only-child::after {width: 0;}#sk-container-id-8 div.sk-dashed-wrapped {border: 1px dashed gray;margin: 0 0.4em 0.5em 0.4em;box-sizing: border-box;padding-bottom: 0.4em;background-color: white;}#sk-container-id-8 div.sk-label label {font-family: monospace;font-weight: bold;display: inline-block;line-height: 1.2em;}#sk-container-id-8 div.sk-label-container {text-align: center;}#sk-container-id-8 div.sk-container {/* jupyter's `normalize.less` sets `[hidden] { display: none; }` but bootstrap.min.css set `[hidden] { display: none !important; }` so we also need the `!important` here to be able to override the default hidden behavior on the sphinx rendered scikit-learn.org. See: https://github.com/scikit-learn/scikit-learn/issues/21755 */display: inline-block !important;position: relative;}#sk-container-id-8 div.sk-text-repr-fallback {display: none;}</style><div id=\"sk-container-id-8\" class=\"sk-top-container\"><div class=\"sk-text-repr-fallback\"><pre>GridSearchCV(cv=5, estimator=DecisionTreeClassifier(),\n",
              "             param_grid={&#x27;max_depth&#x27;: [1, 2, 3, 5, 10],\n",
              "                         &#x27;min_samples_split&#x27;: [2, 3, 5]})</pre><b>In a Jupyter environment, please rerun this cell to show the HTML representation or trust the notebook. <br />On GitHub, the HTML representation is unable to render, please try loading this page with nbviewer.org.</b></div><div class=\"sk-container\" hidden><div class=\"sk-item sk-dashed-wrapped\"><div class=\"sk-label-container\"><div class=\"sk-label sk-toggleable\"><input class=\"sk-toggleable__control sk-hidden--visually\" id=\"sk-estimator-id-18\" type=\"checkbox\" ><label for=\"sk-estimator-id-18\" class=\"sk-toggleable__label sk-toggleable__label-arrow\">GridSearchCV</label><div class=\"sk-toggleable__content\"><pre>GridSearchCV(cv=5, estimator=DecisionTreeClassifier(),\n",
              "             param_grid={&#x27;max_depth&#x27;: [1, 2, 3, 5, 10],\n",
              "                         &#x27;min_samples_split&#x27;: [2, 3, 5]})</pre></div></div></div><div class=\"sk-parallel\"><div class=\"sk-parallel-item\"><div class=\"sk-item\"><div class=\"sk-label-container\"><div class=\"sk-label sk-toggleable\"><input class=\"sk-toggleable__control sk-hidden--visually\" id=\"sk-estimator-id-19\" type=\"checkbox\" ><label for=\"sk-estimator-id-19\" class=\"sk-toggleable__label sk-toggleable__label-arrow\">estimator: DecisionTreeClassifier</label><div class=\"sk-toggleable__content\"><pre>DecisionTreeClassifier()</pre></div></div></div><div class=\"sk-serial\"><div class=\"sk-item\"><div class=\"sk-estimator sk-toggleable\"><input class=\"sk-toggleable__control sk-hidden--visually\" id=\"sk-estimator-id-20\" type=\"checkbox\" ><label for=\"sk-estimator-id-20\" class=\"sk-toggleable__label sk-toggleable__label-arrow\">DecisionTreeClassifier</label><div class=\"sk-toggleable__content\"><pre>DecisionTreeClassifier()</pre></div></div></div></div></div></div></div></div></div></div>"
            ]
          },
          "metadata": {},
          "execution_count": 142
        }
      ]
    },
    {
      "cell_type": "code",
      "source": [
        "grid_tree.best_score_"
      ],
      "metadata": {
        "colab": {
          "base_uri": "https://localhost:8080/"
        },
        "id": "3uqHi-S9E1x3",
        "outputId": "94860bbf-2be6-4a8f-d036-2d81b85254b3"
      },
      "execution_count": null,
      "outputs": [
        {
          "output_type": "execute_result",
          "data": {
            "text/plain": [
              "0.8005811090318133"
            ]
          },
          "metadata": {},
          "execution_count": 143
        }
      ]
    },
    {
      "cell_type": "code",
      "source": [
        "pred = grid_tree.best_estimator_.predict(X_test)"
      ],
      "metadata": {
        "id": "dYHde3k4E5O8"
      },
      "execution_count": null,
      "outputs": []
    },
    {
      "cell_type": "code",
      "source": [
        "accuracy_score(y_test, pred)"
      ],
      "metadata": {
        "colab": {
          "base_uri": "https://localhost:8080/"
        },
        "id": "_STc8TFQFCAb",
        "outputId": "f0761d23-bdce-46c4-87f9-4625b0ba87c3"
      },
      "execution_count": null,
      "outputs": [
        {
          "output_type": "execute_result",
          "data": {
            "text/plain": [
              "0.8715083798882681"
            ]
          },
          "metadata": {},
          "execution_count": 145
        }
      ]
    },
    {
      "cell_type": "code",
      "source": [
        "grid_tree.best_params_"
      ],
      "metadata": {
        "colab": {
          "base_uri": "https://localhost:8080/"
        },
        "id": "ZeSHyqsWFESs",
        "outputId": "663f21e0-bd3b-41fd-d516-7a3454b73b16"
      },
      "execution_count": null,
      "outputs": [
        {
          "output_type": "execute_result",
          "data": {
            "text/plain": [
              "{'max_depth': 3, 'min_samples_split': 2}"
            ]
          },
          "metadata": {},
          "execution_count": 146
        }
      ]
    },
    {
      "cell_type": "code",
      "source": [],
      "metadata": {
        "id": "5fcsnx58FLJl"
      },
      "execution_count": null,
      "outputs": []
    },
    {
      "cell_type": "markdown",
      "source": [
        "#평가"
      ],
      "metadata": {
        "id": "SpJQ9WNgKZi9"
      }
    },
    {
      "cell_type": "code",
      "source": [],
      "metadata": {
        "id": "UyR9b0wUKaza"
      },
      "execution_count": null,
      "outputs": []
    },
    {
      "cell_type": "markdown",
      "metadata": {
        "id": "E9HIGDrrx8w9"
      },
      "source": [
        "## 정확도"
      ]
    },
    {
      "cell_type": "markdown",
      "metadata": {
        "id": "LBNEk4E4yLW6"
      },
      "source": [
        "$$ 정확도(Accuracy)  = {예측이\\ 맞은\\ 자료의\\ 수 \\over 전체\\ 예측\\ 자료\\ 수} $$"
      ]
    },
    {
      "cell_type": "markdown",
      "metadata": {
        "id": "vcO-gFaIzW-x"
      },
      "source": [
        "이진(0, 1) 분류의 경우 정확도가 잘 못 된 정보를 줄 수 있다."
      ]
    },
    {
      "cell_type": "code",
      "source": [
        "X_titanic"
      ],
      "metadata": {
        "colab": {
          "base_uri": "https://localhost:8080/",
          "height": 423
        },
        "id": "TIziaP2SM7Q8",
        "outputId": "01f51027-2eb0-4892-d969-75714fece8a5"
      },
      "execution_count": null,
      "outputs": [
        {
          "output_type": "execute_result",
          "data": {
            "text/plain": [
              "     Pclass  Sex       Age  SibSp     Parch      Fare  Cabin  Embarked\n",
              "0       1.0  1.0  0.271174  0.125  0.000000  0.014151  0.875  1.000000\n",
              "1       0.0  0.0  0.472229  0.125  0.000000  0.139136  0.250  0.000000\n",
              "2       1.0  0.0  0.321438  0.000  0.000000  0.015469  0.875  1.000000\n",
              "3       0.0  0.0  0.434531  0.125  0.000000  0.103644  0.250  1.000000\n",
              "4       1.0  1.0  0.434531  0.000  0.000000  0.015713  0.875  1.000000\n",
              "..      ...  ...       ...    ...       ...       ...    ...       ...\n",
              "886     0.5  1.0  0.334004  0.000  0.000000  0.025374  0.875  1.000000\n",
              "887     0.0  0.0  0.233476  0.000  0.000000  0.058556  0.125  1.000000\n",
              "888     1.0  0.0  0.367921  0.125  0.333333  0.045771  0.875  1.000000\n",
              "889     0.0  1.0  0.321438  0.000  0.000000  0.058556  0.250  0.000000\n",
              "890     1.0  1.0  0.396833  0.000  0.000000  0.015127  0.875  0.666667\n",
              "\n",
              "[891 rows x 8 columns]"
            ],
            "text/html": [
              "\n",
              "  <div id=\"df-c4a0358f-989a-431c-930e-1242f54d34fa\" class=\"colab-df-container\">\n",
              "    <div>\n",
              "<style scoped>\n",
              "    .dataframe tbody tr th:only-of-type {\n",
              "        vertical-align: middle;\n",
              "    }\n",
              "\n",
              "    .dataframe tbody tr th {\n",
              "        vertical-align: top;\n",
              "    }\n",
              "\n",
              "    .dataframe thead th {\n",
              "        text-align: right;\n",
              "    }\n",
              "</style>\n",
              "<table border=\"1\" class=\"dataframe\">\n",
              "  <thead>\n",
              "    <tr style=\"text-align: right;\">\n",
              "      <th></th>\n",
              "      <th>Pclass</th>\n",
              "      <th>Sex</th>\n",
              "      <th>Age</th>\n",
              "      <th>SibSp</th>\n",
              "      <th>Parch</th>\n",
              "      <th>Fare</th>\n",
              "      <th>Cabin</th>\n",
              "      <th>Embarked</th>\n",
              "    </tr>\n",
              "  </thead>\n",
              "  <tbody>\n",
              "    <tr>\n",
              "      <th>0</th>\n",
              "      <td>1.0</td>\n",
              "      <td>1.0</td>\n",
              "      <td>0.271174</td>\n",
              "      <td>0.125</td>\n",
              "      <td>0.000000</td>\n",
              "      <td>0.014151</td>\n",
              "      <td>0.875</td>\n",
              "      <td>1.000000</td>\n",
              "    </tr>\n",
              "    <tr>\n",
              "      <th>1</th>\n",
              "      <td>0.0</td>\n",
              "      <td>0.0</td>\n",
              "      <td>0.472229</td>\n",
              "      <td>0.125</td>\n",
              "      <td>0.000000</td>\n",
              "      <td>0.139136</td>\n",
              "      <td>0.250</td>\n",
              "      <td>0.000000</td>\n",
              "    </tr>\n",
              "    <tr>\n",
              "      <th>2</th>\n",
              "      <td>1.0</td>\n",
              "      <td>0.0</td>\n",
              "      <td>0.321438</td>\n",
              "      <td>0.000</td>\n",
              "      <td>0.000000</td>\n",
              "      <td>0.015469</td>\n",
              "      <td>0.875</td>\n",
              "      <td>1.000000</td>\n",
              "    </tr>\n",
              "    <tr>\n",
              "      <th>3</th>\n",
              "      <td>0.0</td>\n",
              "      <td>0.0</td>\n",
              "      <td>0.434531</td>\n",
              "      <td>0.125</td>\n",
              "      <td>0.000000</td>\n",
              "      <td>0.103644</td>\n",
              "      <td>0.250</td>\n",
              "      <td>1.000000</td>\n",
              "    </tr>\n",
              "    <tr>\n",
              "      <th>4</th>\n",
              "      <td>1.0</td>\n",
              "      <td>1.0</td>\n",
              "      <td>0.434531</td>\n",
              "      <td>0.000</td>\n",
              "      <td>0.000000</td>\n",
              "      <td>0.015713</td>\n",
              "      <td>0.875</td>\n",
              "      <td>1.000000</td>\n",
              "    </tr>\n",
              "    <tr>\n",
              "      <th>...</th>\n",
              "      <td>...</td>\n",
              "      <td>...</td>\n",
              "      <td>...</td>\n",
              "      <td>...</td>\n",
              "      <td>...</td>\n",
              "      <td>...</td>\n",
              "      <td>...</td>\n",
              "      <td>...</td>\n",
              "    </tr>\n",
              "    <tr>\n",
              "      <th>886</th>\n",
              "      <td>0.5</td>\n",
              "      <td>1.0</td>\n",
              "      <td>0.334004</td>\n",
              "      <td>0.000</td>\n",
              "      <td>0.000000</td>\n",
              "      <td>0.025374</td>\n",
              "      <td>0.875</td>\n",
              "      <td>1.000000</td>\n",
              "    </tr>\n",
              "    <tr>\n",
              "      <th>887</th>\n",
              "      <td>0.0</td>\n",
              "      <td>0.0</td>\n",
              "      <td>0.233476</td>\n",
              "      <td>0.000</td>\n",
              "      <td>0.000000</td>\n",
              "      <td>0.058556</td>\n",
              "      <td>0.125</td>\n",
              "      <td>1.000000</td>\n",
              "    </tr>\n",
              "    <tr>\n",
              "      <th>888</th>\n",
              "      <td>1.0</td>\n",
              "      <td>0.0</td>\n",
              "      <td>0.367921</td>\n",
              "      <td>0.125</td>\n",
              "      <td>0.333333</td>\n",
              "      <td>0.045771</td>\n",
              "      <td>0.875</td>\n",
              "      <td>1.000000</td>\n",
              "    </tr>\n",
              "    <tr>\n",
              "      <th>889</th>\n",
              "      <td>0.0</td>\n",
              "      <td>1.0</td>\n",
              "      <td>0.321438</td>\n",
              "      <td>0.000</td>\n",
              "      <td>0.000000</td>\n",
              "      <td>0.058556</td>\n",
              "      <td>0.250</td>\n",
              "      <td>0.000000</td>\n",
              "    </tr>\n",
              "    <tr>\n",
              "      <th>890</th>\n",
              "      <td>1.0</td>\n",
              "      <td>1.0</td>\n",
              "      <td>0.396833</td>\n",
              "      <td>0.000</td>\n",
              "      <td>0.000000</td>\n",
              "      <td>0.015127</td>\n",
              "      <td>0.875</td>\n",
              "      <td>0.666667</td>\n",
              "    </tr>\n",
              "  </tbody>\n",
              "</table>\n",
              "<p>891 rows × 8 columns</p>\n",
              "</div>\n",
              "    <div class=\"colab-df-buttons\">\n",
              "\n",
              "  <div class=\"colab-df-container\">\n",
              "    <button class=\"colab-df-convert\" onclick=\"convertToInteractive('df-c4a0358f-989a-431c-930e-1242f54d34fa')\"\n",
              "            title=\"Convert this dataframe to an interactive table.\"\n",
              "            style=\"display:none;\">\n",
              "\n",
              "  <svg xmlns=\"http://www.w3.org/2000/svg\" height=\"24px\" viewBox=\"0 -960 960 960\">\n",
              "    <path d=\"M120-120v-720h720v720H120Zm60-500h600v-160H180v160Zm220 220h160v-160H400v160Zm0 220h160v-160H400v160ZM180-400h160v-160H180v160Zm440 0h160v-160H620v160ZM180-180h160v-160H180v160Zm440 0h160v-160H620v160Z\"/>\n",
              "  </svg>\n",
              "    </button>\n",
              "\n",
              "  <style>\n",
              "    .colab-df-container {\n",
              "      display:flex;\n",
              "      gap: 12px;\n",
              "    }\n",
              "\n",
              "    .colab-df-convert {\n",
              "      background-color: #E8F0FE;\n",
              "      border: none;\n",
              "      border-radius: 50%;\n",
              "      cursor: pointer;\n",
              "      display: none;\n",
              "      fill: #1967D2;\n",
              "      height: 32px;\n",
              "      padding: 0 0 0 0;\n",
              "      width: 32px;\n",
              "    }\n",
              "\n",
              "    .colab-df-convert:hover {\n",
              "      background-color: #E2EBFA;\n",
              "      box-shadow: 0px 1px 2px rgba(60, 64, 67, 0.3), 0px 1px 3px 1px rgba(60, 64, 67, 0.15);\n",
              "      fill: #174EA6;\n",
              "    }\n",
              "\n",
              "    .colab-df-buttons div {\n",
              "      margin-bottom: 4px;\n",
              "    }\n",
              "\n",
              "    [theme=dark] .colab-df-convert {\n",
              "      background-color: #3B4455;\n",
              "      fill: #D2E3FC;\n",
              "    }\n",
              "\n",
              "    [theme=dark] .colab-df-convert:hover {\n",
              "      background-color: #434B5C;\n",
              "      box-shadow: 0px 1px 3px 1px rgba(0, 0, 0, 0.15);\n",
              "      filter: drop-shadow(0px 1px 2px rgba(0, 0, 0, 0.3));\n",
              "      fill: #FFFFFF;\n",
              "    }\n",
              "  </style>\n",
              "\n",
              "    <script>\n",
              "      const buttonEl =\n",
              "        document.querySelector('#df-c4a0358f-989a-431c-930e-1242f54d34fa button.colab-df-convert');\n",
              "      buttonEl.style.display =\n",
              "        google.colab.kernel.accessAllowed ? 'block' : 'none';\n",
              "\n",
              "      async function convertToInteractive(key) {\n",
              "        const element = document.querySelector('#df-c4a0358f-989a-431c-930e-1242f54d34fa');\n",
              "        const dataTable =\n",
              "          await google.colab.kernel.invokeFunction('convertToInteractive',\n",
              "                                                    [key], {});\n",
              "        if (!dataTable) return;\n",
              "\n",
              "        const docLinkHtml = 'Like what you see? Visit the ' +\n",
              "          '<a target=\"_blank\" href=https://colab.research.google.com/notebooks/data_table.ipynb>data table notebook</a>'\n",
              "          + ' to learn more about interactive tables.';\n",
              "        element.innerHTML = '';\n",
              "        dataTable['output_type'] = 'display_data';\n",
              "        await google.colab.output.renderOutput(dataTable, element);\n",
              "        const docLink = document.createElement('div');\n",
              "        docLink.innerHTML = docLinkHtml;\n",
              "        element.appendChild(docLink);\n",
              "      }\n",
              "    </script>\n",
              "  </div>\n",
              "\n",
              "\n",
              "<div id=\"df-ecd2bd95-cefd-4aa4-a322-2c077e3c930e\">\n",
              "  <button class=\"colab-df-quickchart\" onclick=\"quickchart('df-ecd2bd95-cefd-4aa4-a322-2c077e3c930e')\"\n",
              "            title=\"Suggest charts.\"\n",
              "            style=\"display:none;\">\n",
              "\n",
              "<svg xmlns=\"http://www.w3.org/2000/svg\" height=\"24px\"viewBox=\"0 0 24 24\"\n",
              "     width=\"24px\">\n",
              "    <g>\n",
              "        <path d=\"M19 3H5c-1.1 0-2 .9-2 2v14c0 1.1.9 2 2 2h14c1.1 0 2-.9 2-2V5c0-1.1-.9-2-2-2zM9 17H7v-7h2v7zm4 0h-2V7h2v10zm4 0h-2v-4h2v4z\"/>\n",
              "    </g>\n",
              "</svg>\n",
              "  </button>\n",
              "\n",
              "<style>\n",
              "  .colab-df-quickchart {\n",
              "      --bg-color: #E8F0FE;\n",
              "      --fill-color: #1967D2;\n",
              "      --hover-bg-color: #E2EBFA;\n",
              "      --hover-fill-color: #174EA6;\n",
              "      --disabled-fill-color: #AAA;\n",
              "      --disabled-bg-color: #DDD;\n",
              "  }\n",
              "\n",
              "  [theme=dark] .colab-df-quickchart {\n",
              "      --bg-color: #3B4455;\n",
              "      --fill-color: #D2E3FC;\n",
              "      --hover-bg-color: #434B5C;\n",
              "      --hover-fill-color: #FFFFFF;\n",
              "      --disabled-bg-color: #3B4455;\n",
              "      --disabled-fill-color: #666;\n",
              "  }\n",
              "\n",
              "  .colab-df-quickchart {\n",
              "    background-color: var(--bg-color);\n",
              "    border: none;\n",
              "    border-radius: 50%;\n",
              "    cursor: pointer;\n",
              "    display: none;\n",
              "    fill: var(--fill-color);\n",
              "    height: 32px;\n",
              "    padding: 0;\n",
              "    width: 32px;\n",
              "  }\n",
              "\n",
              "  .colab-df-quickchart:hover {\n",
              "    background-color: var(--hover-bg-color);\n",
              "    box-shadow: 0 1px 2px rgba(60, 64, 67, 0.3), 0 1px 3px 1px rgba(60, 64, 67, 0.15);\n",
              "    fill: var(--button-hover-fill-color);\n",
              "  }\n",
              "\n",
              "  .colab-df-quickchart-complete:disabled,\n",
              "  .colab-df-quickchart-complete:disabled:hover {\n",
              "    background-color: var(--disabled-bg-color);\n",
              "    fill: var(--disabled-fill-color);\n",
              "    box-shadow: none;\n",
              "  }\n",
              "\n",
              "  .colab-df-spinner {\n",
              "    border: 2px solid var(--fill-color);\n",
              "    border-color: transparent;\n",
              "    border-bottom-color: var(--fill-color);\n",
              "    animation:\n",
              "      spin 1s steps(1) infinite;\n",
              "  }\n",
              "\n",
              "  @keyframes spin {\n",
              "    0% {\n",
              "      border-color: transparent;\n",
              "      border-bottom-color: var(--fill-color);\n",
              "      border-left-color: var(--fill-color);\n",
              "    }\n",
              "    20% {\n",
              "      border-color: transparent;\n",
              "      border-left-color: var(--fill-color);\n",
              "      border-top-color: var(--fill-color);\n",
              "    }\n",
              "    30% {\n",
              "      border-color: transparent;\n",
              "      border-left-color: var(--fill-color);\n",
              "      border-top-color: var(--fill-color);\n",
              "      border-right-color: var(--fill-color);\n",
              "    }\n",
              "    40% {\n",
              "      border-color: transparent;\n",
              "      border-right-color: var(--fill-color);\n",
              "      border-top-color: var(--fill-color);\n",
              "    }\n",
              "    60% {\n",
              "      border-color: transparent;\n",
              "      border-right-color: var(--fill-color);\n",
              "    }\n",
              "    80% {\n",
              "      border-color: transparent;\n",
              "      border-right-color: var(--fill-color);\n",
              "      border-bottom-color: var(--fill-color);\n",
              "    }\n",
              "    90% {\n",
              "      border-color: transparent;\n",
              "      border-bottom-color: var(--fill-color);\n",
              "    }\n",
              "  }\n",
              "</style>\n",
              "\n",
              "  <script>\n",
              "    async function quickchart(key) {\n",
              "      const quickchartButtonEl =\n",
              "        document.querySelector('#' + key + ' button');\n",
              "      quickchartButtonEl.disabled = true;  // To prevent multiple clicks.\n",
              "      quickchartButtonEl.classList.add('colab-df-spinner');\n",
              "      try {\n",
              "        const charts = await google.colab.kernel.invokeFunction(\n",
              "            'suggestCharts', [key], {});\n",
              "      } catch (error) {\n",
              "        console.error('Error during call to suggestCharts:', error);\n",
              "      }\n",
              "      quickchartButtonEl.classList.remove('colab-df-spinner');\n",
              "      quickchartButtonEl.classList.add('colab-df-quickchart-complete');\n",
              "    }\n",
              "    (() => {\n",
              "      let quickchartButtonEl =\n",
              "        document.querySelector('#df-ecd2bd95-cefd-4aa4-a322-2c077e3c930e button');\n",
              "      quickchartButtonEl.style.display =\n",
              "        google.colab.kernel.accessAllowed ? 'block' : 'none';\n",
              "    })();\n",
              "  </script>\n",
              "</div>\n",
              "    </div>\n",
              "  </div>\n"
            ]
          },
          "metadata": {},
          "execution_count": 151
        }
      ]
    },
    {
      "cell_type": "code",
      "source": [
        "titanic"
      ],
      "metadata": {
        "colab": {
          "base_uri": "https://localhost:8080/",
          "height": 493
        },
        "id": "wnqQVq3_M9ne",
        "outputId": "c114657b-8b61-41bb-8593-58fe26483661"
      },
      "execution_count": null,
      "outputs": [
        {
          "output_type": "execute_result",
          "data": {
            "text/plain": [
              "     PassengerId  Survived  Pclass  \\\n",
              "0              1         0       3   \n",
              "1              2         1       1   \n",
              "2              3         1       3   \n",
              "3              4         1       1   \n",
              "4              5         0       3   \n",
              "..           ...       ...     ...   \n",
              "886          887         0       2   \n",
              "887          888         1       1   \n",
              "888          889         0       3   \n",
              "889          890         1       1   \n",
              "890          891         0       3   \n",
              "\n",
              "                                                  Name     Sex   Age  SibSp  \\\n",
              "0                              Braund, Mr. Owen Harris    male  22.0      1   \n",
              "1    Cumings, Mrs. John Bradley (Florence Briggs Th...  female  38.0      1   \n",
              "2                               Heikkinen, Miss. Laina  female  26.0      0   \n",
              "3         Futrelle, Mrs. Jacques Heath (Lily May Peel)  female  35.0      1   \n",
              "4                             Allen, Mr. William Henry    male  35.0      0   \n",
              "..                                                 ...     ...   ...    ...   \n",
              "886                              Montvila, Rev. Juozas    male  27.0      0   \n",
              "887                       Graham, Miss. Margaret Edith  female  19.0      0   \n",
              "888           Johnston, Miss. Catherine Helen \"Carrie\"  female   NaN      1   \n",
              "889                              Behr, Mr. Karl Howell    male  26.0      0   \n",
              "890                                Dooley, Mr. Patrick    male  32.0      0   \n",
              "\n",
              "     Parch            Ticket     Fare Cabin Embarked  \n",
              "0        0         A/5 21171   7.2500   NaN        S  \n",
              "1        0          PC 17599  71.2833   C85        C  \n",
              "2        0  STON/O2. 3101282   7.9250   NaN        S  \n",
              "3        0            113803  53.1000  C123        S  \n",
              "4        0            373450   8.0500   NaN        S  \n",
              "..     ...               ...      ...   ...      ...  \n",
              "886      0            211536  13.0000   NaN        S  \n",
              "887      0            112053  30.0000   B42        S  \n",
              "888      2        W./C. 6607  23.4500   NaN        S  \n",
              "889      0            111369  30.0000  C148        C  \n",
              "890      0            370376   7.7500   NaN        Q  \n",
              "\n",
              "[891 rows x 12 columns]"
            ],
            "text/html": [
              "\n",
              "  <div id=\"df-c6f8bf9e-d5ae-4891-a21c-4aa4fe2222e2\" class=\"colab-df-container\">\n",
              "    <div>\n",
              "<style scoped>\n",
              "    .dataframe tbody tr th:only-of-type {\n",
              "        vertical-align: middle;\n",
              "    }\n",
              "\n",
              "    .dataframe tbody tr th {\n",
              "        vertical-align: top;\n",
              "    }\n",
              "\n",
              "    .dataframe thead th {\n",
              "        text-align: right;\n",
              "    }\n",
              "</style>\n",
              "<table border=\"1\" class=\"dataframe\">\n",
              "  <thead>\n",
              "    <tr style=\"text-align: right;\">\n",
              "      <th></th>\n",
              "      <th>PassengerId</th>\n",
              "      <th>Survived</th>\n",
              "      <th>Pclass</th>\n",
              "      <th>Name</th>\n",
              "      <th>Sex</th>\n",
              "      <th>Age</th>\n",
              "      <th>SibSp</th>\n",
              "      <th>Parch</th>\n",
              "      <th>Ticket</th>\n",
              "      <th>Fare</th>\n",
              "      <th>Cabin</th>\n",
              "      <th>Embarked</th>\n",
              "    </tr>\n",
              "  </thead>\n",
              "  <tbody>\n",
              "    <tr>\n",
              "      <th>0</th>\n",
              "      <td>1</td>\n",
              "      <td>0</td>\n",
              "      <td>3</td>\n",
              "      <td>Braund, Mr. Owen Harris</td>\n",
              "      <td>male</td>\n",
              "      <td>22.0</td>\n",
              "      <td>1</td>\n",
              "      <td>0</td>\n",
              "      <td>A/5 21171</td>\n",
              "      <td>7.2500</td>\n",
              "      <td>NaN</td>\n",
              "      <td>S</td>\n",
              "    </tr>\n",
              "    <tr>\n",
              "      <th>1</th>\n",
              "      <td>2</td>\n",
              "      <td>1</td>\n",
              "      <td>1</td>\n",
              "      <td>Cumings, Mrs. John Bradley (Florence Briggs Th...</td>\n",
              "      <td>female</td>\n",
              "      <td>38.0</td>\n",
              "      <td>1</td>\n",
              "      <td>0</td>\n",
              "      <td>PC 17599</td>\n",
              "      <td>71.2833</td>\n",
              "      <td>C85</td>\n",
              "      <td>C</td>\n",
              "    </tr>\n",
              "    <tr>\n",
              "      <th>2</th>\n",
              "      <td>3</td>\n",
              "      <td>1</td>\n",
              "      <td>3</td>\n",
              "      <td>Heikkinen, Miss. Laina</td>\n",
              "      <td>female</td>\n",
              "      <td>26.0</td>\n",
              "      <td>0</td>\n",
              "      <td>0</td>\n",
              "      <td>STON/O2. 3101282</td>\n",
              "      <td>7.9250</td>\n",
              "      <td>NaN</td>\n",
              "      <td>S</td>\n",
              "    </tr>\n",
              "    <tr>\n",
              "      <th>3</th>\n",
              "      <td>4</td>\n",
              "      <td>1</td>\n",
              "      <td>1</td>\n",
              "      <td>Futrelle, Mrs. Jacques Heath (Lily May Peel)</td>\n",
              "      <td>female</td>\n",
              "      <td>35.0</td>\n",
              "      <td>1</td>\n",
              "      <td>0</td>\n",
              "      <td>113803</td>\n",
              "      <td>53.1000</td>\n",
              "      <td>C123</td>\n",
              "      <td>S</td>\n",
              "    </tr>\n",
              "    <tr>\n",
              "      <th>4</th>\n",
              "      <td>5</td>\n",
              "      <td>0</td>\n",
              "      <td>3</td>\n",
              "      <td>Allen, Mr. William Henry</td>\n",
              "      <td>male</td>\n",
              "      <td>35.0</td>\n",
              "      <td>0</td>\n",
              "      <td>0</td>\n",
              "      <td>373450</td>\n",
              "      <td>8.0500</td>\n",
              "      <td>NaN</td>\n",
              "      <td>S</td>\n",
              "    </tr>\n",
              "    <tr>\n",
              "      <th>...</th>\n",
              "      <td>...</td>\n",
              "      <td>...</td>\n",
              "      <td>...</td>\n",
              "      <td>...</td>\n",
              "      <td>...</td>\n",
              "      <td>...</td>\n",
              "      <td>...</td>\n",
              "      <td>...</td>\n",
              "      <td>...</td>\n",
              "      <td>...</td>\n",
              "      <td>...</td>\n",
              "      <td>...</td>\n",
              "    </tr>\n",
              "    <tr>\n",
              "      <th>886</th>\n",
              "      <td>887</td>\n",
              "      <td>0</td>\n",
              "      <td>2</td>\n",
              "      <td>Montvila, Rev. Juozas</td>\n",
              "      <td>male</td>\n",
              "      <td>27.0</td>\n",
              "      <td>0</td>\n",
              "      <td>0</td>\n",
              "      <td>211536</td>\n",
              "      <td>13.0000</td>\n",
              "      <td>NaN</td>\n",
              "      <td>S</td>\n",
              "    </tr>\n",
              "    <tr>\n",
              "      <th>887</th>\n",
              "      <td>888</td>\n",
              "      <td>1</td>\n",
              "      <td>1</td>\n",
              "      <td>Graham, Miss. Margaret Edith</td>\n",
              "      <td>female</td>\n",
              "      <td>19.0</td>\n",
              "      <td>0</td>\n",
              "      <td>0</td>\n",
              "      <td>112053</td>\n",
              "      <td>30.0000</td>\n",
              "      <td>B42</td>\n",
              "      <td>S</td>\n",
              "    </tr>\n",
              "    <tr>\n",
              "      <th>888</th>\n",
              "      <td>889</td>\n",
              "      <td>0</td>\n",
              "      <td>3</td>\n",
              "      <td>Johnston, Miss. Catherine Helen \"Carrie\"</td>\n",
              "      <td>female</td>\n",
              "      <td>NaN</td>\n",
              "      <td>1</td>\n",
              "      <td>2</td>\n",
              "      <td>W./C. 6607</td>\n",
              "      <td>23.4500</td>\n",
              "      <td>NaN</td>\n",
              "      <td>S</td>\n",
              "    </tr>\n",
              "    <tr>\n",
              "      <th>889</th>\n",
              "      <td>890</td>\n",
              "      <td>1</td>\n",
              "      <td>1</td>\n",
              "      <td>Behr, Mr. Karl Howell</td>\n",
              "      <td>male</td>\n",
              "      <td>26.0</td>\n",
              "      <td>0</td>\n",
              "      <td>0</td>\n",
              "      <td>111369</td>\n",
              "      <td>30.0000</td>\n",
              "      <td>C148</td>\n",
              "      <td>C</td>\n",
              "    </tr>\n",
              "    <tr>\n",
              "      <th>890</th>\n",
              "      <td>891</td>\n",
              "      <td>0</td>\n",
              "      <td>3</td>\n",
              "      <td>Dooley, Mr. Patrick</td>\n",
              "      <td>male</td>\n",
              "      <td>32.0</td>\n",
              "      <td>0</td>\n",
              "      <td>0</td>\n",
              "      <td>370376</td>\n",
              "      <td>7.7500</td>\n",
              "      <td>NaN</td>\n",
              "      <td>Q</td>\n",
              "    </tr>\n",
              "  </tbody>\n",
              "</table>\n",
              "<p>891 rows × 12 columns</p>\n",
              "</div>\n",
              "    <div class=\"colab-df-buttons\">\n",
              "\n",
              "  <div class=\"colab-df-container\">\n",
              "    <button class=\"colab-df-convert\" onclick=\"convertToInteractive('df-c6f8bf9e-d5ae-4891-a21c-4aa4fe2222e2')\"\n",
              "            title=\"Convert this dataframe to an interactive table.\"\n",
              "            style=\"display:none;\">\n",
              "\n",
              "  <svg xmlns=\"http://www.w3.org/2000/svg\" height=\"24px\" viewBox=\"0 -960 960 960\">\n",
              "    <path d=\"M120-120v-720h720v720H120Zm60-500h600v-160H180v160Zm220 220h160v-160H400v160Zm0 220h160v-160H400v160ZM180-400h160v-160H180v160Zm440 0h160v-160H620v160ZM180-180h160v-160H180v160Zm440 0h160v-160H620v160Z\"/>\n",
              "  </svg>\n",
              "    </button>\n",
              "\n",
              "  <style>\n",
              "    .colab-df-container {\n",
              "      display:flex;\n",
              "      gap: 12px;\n",
              "    }\n",
              "\n",
              "    .colab-df-convert {\n",
              "      background-color: #E8F0FE;\n",
              "      border: none;\n",
              "      border-radius: 50%;\n",
              "      cursor: pointer;\n",
              "      display: none;\n",
              "      fill: #1967D2;\n",
              "      height: 32px;\n",
              "      padding: 0 0 0 0;\n",
              "      width: 32px;\n",
              "    }\n",
              "\n",
              "    .colab-df-convert:hover {\n",
              "      background-color: #E2EBFA;\n",
              "      box-shadow: 0px 1px 2px rgba(60, 64, 67, 0.3), 0px 1px 3px 1px rgba(60, 64, 67, 0.15);\n",
              "      fill: #174EA6;\n",
              "    }\n",
              "\n",
              "    .colab-df-buttons div {\n",
              "      margin-bottom: 4px;\n",
              "    }\n",
              "\n",
              "    [theme=dark] .colab-df-convert {\n",
              "      background-color: #3B4455;\n",
              "      fill: #D2E3FC;\n",
              "    }\n",
              "\n",
              "    [theme=dark] .colab-df-convert:hover {\n",
              "      background-color: #434B5C;\n",
              "      box-shadow: 0px 1px 3px 1px rgba(0, 0, 0, 0.15);\n",
              "      filter: drop-shadow(0px 1px 2px rgba(0, 0, 0, 0.3));\n",
              "      fill: #FFFFFF;\n",
              "    }\n",
              "  </style>\n",
              "\n",
              "    <script>\n",
              "      const buttonEl =\n",
              "        document.querySelector('#df-c6f8bf9e-d5ae-4891-a21c-4aa4fe2222e2 button.colab-df-convert');\n",
              "      buttonEl.style.display =\n",
              "        google.colab.kernel.accessAllowed ? 'block' : 'none';\n",
              "\n",
              "      async function convertToInteractive(key) {\n",
              "        const element = document.querySelector('#df-c6f8bf9e-d5ae-4891-a21c-4aa4fe2222e2');\n",
              "        const dataTable =\n",
              "          await google.colab.kernel.invokeFunction('convertToInteractive',\n",
              "                                                    [key], {});\n",
              "        if (!dataTable) return;\n",
              "\n",
              "        const docLinkHtml = 'Like what you see? Visit the ' +\n",
              "          '<a target=\"_blank\" href=https://colab.research.google.com/notebooks/data_table.ipynb>data table notebook</a>'\n",
              "          + ' to learn more about interactive tables.';\n",
              "        element.innerHTML = '';\n",
              "        dataTable['output_type'] = 'display_data';\n",
              "        await google.colab.output.renderOutput(dataTable, element);\n",
              "        const docLink = document.createElement('div');\n",
              "        docLink.innerHTML = docLinkHtml;\n",
              "        element.appendChild(docLink);\n",
              "      }\n",
              "    </script>\n",
              "  </div>\n",
              "\n",
              "\n",
              "<div id=\"df-bb23e3b3-cfa0-4a95-9083-b31d60fe03da\">\n",
              "  <button class=\"colab-df-quickchart\" onclick=\"quickchart('df-bb23e3b3-cfa0-4a95-9083-b31d60fe03da')\"\n",
              "            title=\"Suggest charts.\"\n",
              "            style=\"display:none;\">\n",
              "\n",
              "<svg xmlns=\"http://www.w3.org/2000/svg\" height=\"24px\"viewBox=\"0 0 24 24\"\n",
              "     width=\"24px\">\n",
              "    <g>\n",
              "        <path d=\"M19 3H5c-1.1 0-2 .9-2 2v14c0 1.1.9 2 2 2h14c1.1 0 2-.9 2-2V5c0-1.1-.9-2-2-2zM9 17H7v-7h2v7zm4 0h-2V7h2v10zm4 0h-2v-4h2v4z\"/>\n",
              "    </g>\n",
              "</svg>\n",
              "  </button>\n",
              "\n",
              "<style>\n",
              "  .colab-df-quickchart {\n",
              "      --bg-color: #E8F0FE;\n",
              "      --fill-color: #1967D2;\n",
              "      --hover-bg-color: #E2EBFA;\n",
              "      --hover-fill-color: #174EA6;\n",
              "      --disabled-fill-color: #AAA;\n",
              "      --disabled-bg-color: #DDD;\n",
              "  }\n",
              "\n",
              "  [theme=dark] .colab-df-quickchart {\n",
              "      --bg-color: #3B4455;\n",
              "      --fill-color: #D2E3FC;\n",
              "      --hover-bg-color: #434B5C;\n",
              "      --hover-fill-color: #FFFFFF;\n",
              "      --disabled-bg-color: #3B4455;\n",
              "      --disabled-fill-color: #666;\n",
              "  }\n",
              "\n",
              "  .colab-df-quickchart {\n",
              "    background-color: var(--bg-color);\n",
              "    border: none;\n",
              "    border-radius: 50%;\n",
              "    cursor: pointer;\n",
              "    display: none;\n",
              "    fill: var(--fill-color);\n",
              "    height: 32px;\n",
              "    padding: 0;\n",
              "    width: 32px;\n",
              "  }\n",
              "\n",
              "  .colab-df-quickchart:hover {\n",
              "    background-color: var(--hover-bg-color);\n",
              "    box-shadow: 0 1px 2px rgba(60, 64, 67, 0.3), 0 1px 3px 1px rgba(60, 64, 67, 0.15);\n",
              "    fill: var(--button-hover-fill-color);\n",
              "  }\n",
              "\n",
              "  .colab-df-quickchart-complete:disabled,\n",
              "  .colab-df-quickchart-complete:disabled:hover {\n",
              "    background-color: var(--disabled-bg-color);\n",
              "    fill: var(--disabled-fill-color);\n",
              "    box-shadow: none;\n",
              "  }\n",
              "\n",
              "  .colab-df-spinner {\n",
              "    border: 2px solid var(--fill-color);\n",
              "    border-color: transparent;\n",
              "    border-bottom-color: var(--fill-color);\n",
              "    animation:\n",
              "      spin 1s steps(1) infinite;\n",
              "  }\n",
              "\n",
              "  @keyframes spin {\n",
              "    0% {\n",
              "      border-color: transparent;\n",
              "      border-bottom-color: var(--fill-color);\n",
              "      border-left-color: var(--fill-color);\n",
              "    }\n",
              "    20% {\n",
              "      border-color: transparent;\n",
              "      border-left-color: var(--fill-color);\n",
              "      border-top-color: var(--fill-color);\n",
              "    }\n",
              "    30% {\n",
              "      border-color: transparent;\n",
              "      border-left-color: var(--fill-color);\n",
              "      border-top-color: var(--fill-color);\n",
              "      border-right-color: var(--fill-color);\n",
              "    }\n",
              "    40% {\n",
              "      border-color: transparent;\n",
              "      border-right-color: var(--fill-color);\n",
              "      border-top-color: var(--fill-color);\n",
              "    }\n",
              "    60% {\n",
              "      border-color: transparent;\n",
              "      border-right-color: var(--fill-color);\n",
              "    }\n",
              "    80% {\n",
              "      border-color: transparent;\n",
              "      border-right-color: var(--fill-color);\n",
              "      border-bottom-color: var(--fill-color);\n",
              "    }\n",
              "    90% {\n",
              "      border-color: transparent;\n",
              "      border-bottom-color: var(--fill-color);\n",
              "    }\n",
              "  }\n",
              "</style>\n",
              "\n",
              "  <script>\n",
              "    async function quickchart(key) {\n",
              "      const quickchartButtonEl =\n",
              "        document.querySelector('#' + key + ' button');\n",
              "      quickchartButtonEl.disabled = true;  // To prevent multiple clicks.\n",
              "      quickchartButtonEl.classList.add('colab-df-spinner');\n",
              "      try {\n",
              "        const charts = await google.colab.kernel.invokeFunction(\n",
              "            'suggestCharts', [key], {});\n",
              "      } catch (error) {\n",
              "        console.error('Error during call to suggestCharts:', error);\n",
              "      }\n",
              "      quickchartButtonEl.classList.remove('colab-df-spinner');\n",
              "      quickchartButtonEl.classList.add('colab-df-quickchart-complete');\n",
              "    }\n",
              "    (() => {\n",
              "      let quickchartButtonEl =\n",
              "        document.querySelector('#df-bb23e3b3-cfa0-4a95-9083-b31d60fe03da button');\n",
              "      quickchartButtonEl.style.display =\n",
              "        google.colab.kernel.accessAllowed ? 'block' : 'none';\n",
              "    })();\n",
              "  </script>\n",
              "</div>\n",
              "    </div>\n",
              "  </div>\n"
            ]
          },
          "metadata": {},
          "execution_count": 152
        }
      ]
    },
    {
      "cell_type": "code",
      "source": [
        "import seaborn as sns"
      ],
      "metadata": {
        "id": "HCAcS8WwNGYU"
      },
      "execution_count": null,
      "outputs": []
    },
    {
      "cell_type": "code",
      "source": [
        "sns.barplot(x='Sex', y = 'Survived', data=titanic)"
      ],
      "metadata": {
        "colab": {
          "base_uri": "https://localhost:8080/",
          "height": 466
        },
        "id": "agl9YSk8NNLL",
        "outputId": "de4534ff-662a-4465-9a07-909a092a01e7"
      },
      "execution_count": null,
      "outputs": [
        {
          "output_type": "execute_result",
          "data": {
            "text/plain": [
              "<Axes: xlabel='Sex', ylabel='Survived'>"
            ]
          },
          "metadata": {},
          "execution_count": 154
        },
        {
          "output_type": "display_data",
          "data": {
            "text/plain": [
              "<Figure size 640x480 with 1 Axes>"
            ],
            "image/png": "[encoded data removed]"
          },
          "metadata": {}
        }
      ]
    },
    {
      "cell_type": "code",
      "source": [
        "from sklearn.base import BaseEstimator\n",
        "\n",
        "class MyDummyClassifier(BaseEstimator):\n",
        "    def fit(self, X, y=None):\n",
        "        pass\n",
        "    def predict(self, X):\n",
        "        pred = np.zeros((X.shape[0], 1))\n",
        "        for i in range(X.shape[0]):\n",
        "            if X['Sex'].iloc[i] == 1:\n",
        "                pred[i] = 0\n",
        "            else :\n",
        "                pred[i] = 1\n",
        "        return pred"
      ],
      "metadata": {
        "id": "sUXDNiKZNXeY"
      },
      "execution_count": null,
      "outputs": []
    },
    {
      "cell_type": "code",
      "source": [],
      "metadata": {
        "id": "MzyVsczDOl0A"
      },
      "execution_count": null,
      "outputs": []
    },
    {
      "cell_type": "code",
      "source": [
        "titanic = pd.read_csv('./drive/MyDrive/data/titanic_train.csv')"
      ],
      "metadata": {
        "id": "4DXXmNjYO5td"
      },
      "execution_count": null,
      "outputs": []
    },
    {
      "cell_type": "code",
      "source": [
        "titanic.head()"
      ],
      "metadata": {
        "colab": {
          "base_uri": "https://localhost:8080/",
          "height": 258
        },
        "outputId": "9ed56d60-ac55-4298-87ee-121e4a2244c4",
        "id": "3L58MA4DO5td"
      },
      "execution_count": null,
      "outputs": [
        {
          "output_type": "execute_result",
          "data": {
            "text/plain": [
              "   PassengerId  Survived  Pclass  \\\n",
              "0            1         0       3   \n",
              "1            2         1       1   \n",
              "2            3         1       3   \n",
              "3            4         1       1   \n",
              "4            5         0       3   \n",
              "\n",
              "                                                Name     Sex   Age  SibSp  \\\n",
              "0                            Braund, Mr. Owen Harris    male  22.0      1   \n",
              "1  Cumings, Mrs. John Bradley (Florence Briggs Th...  female  38.0      1   \n",
              "2                             Heikkinen, Miss. Laina  female  26.0      0   \n",
              "3       Futrelle, Mrs. Jacques Heath (Lily May Peel)  female  35.0      1   \n",
              "4                           Allen, Mr. William Henry    male  35.0      0   \n",
              "\n",
              "   Parch            Ticket     Fare Cabin Embarked  \n",
              "0      0         A/5 21171   7.2500   NaN        S  \n",
              "1      0          PC 17599  71.2833   C85        C  \n",
              "2      0  STON/O2. 3101282   7.9250   NaN        S  \n",
              "3      0            113803  53.1000  C123        S  \n",
              "4      0            373450   8.0500   NaN        S  "
            ],
            "text/html": [
              "\n",
              "  <div id=\"df-30cb9441-1aa7-4ff6-ae32-4d46497a4a33\" class=\"colab-df-container\">\n",
              "    <div>\n",
              "<style scoped>\n",
              "    .dataframe tbody tr th:only-of-type {\n",
              "        vertical-align: middle;\n",
              "    }\n",
              "\n",
              "    .dataframe tbody tr th {\n",
              "        vertical-align: top;\n",
              "    }\n",
              "\n",
              "    .dataframe thead th {\n",
              "        text-align: right;\n",
              "    }\n",
              "</style>\n",
              "<table border=\"1\" class=\"dataframe\">\n",
              "  <thead>\n",
              "    <tr style=\"text-align: right;\">\n",
              "      <th></th>\n",
              "      <th>PassengerId</th>\n",
              "      <th>Survived</th>\n",
              "      <th>Pclass</th>\n",
              "      <th>Name</th>\n",
              "      <th>Sex</th>\n",
              "      <th>Age</th>\n",
              "      <th>SibSp</th>\n",
              "      <th>Parch</th>\n",
              "      <th>Ticket</th>\n",
              "      <th>Fare</th>\n",
              "      <th>Cabin</th>\n",
              "      <th>Embarked</th>\n",
              "    </tr>\n",
              "  </thead>\n",
              "  <tbody>\n",
              "    <tr>\n",
              "      <th>0</th>\n",
              "      <td>1</td>\n",
              "      <td>0</td>\n",
              "      <td>3</td>\n",
              "      <td>Braund, Mr. Owen Harris</td>\n",
              "      <td>male</td>\n",
              "      <td>22.0</td>\n",
              "      <td>1</td>\n",
              "      <td>0</td>\n",
              "      <td>A/5 21171</td>\n",
              "      <td>7.2500</td>\n",
              "      <td>NaN</td>\n",
              "      <td>S</td>\n",
              "    </tr>\n",
              "    <tr>\n",
              "      <th>1</th>\n",
              "      <td>2</td>\n",
              "      <td>1</td>\n",
              "      <td>1</td>\n",
              "      <td>Cumings, Mrs. John Bradley (Florence Briggs Th...</td>\n",
              "      <td>female</td>\n",
              "      <td>38.0</td>\n",
              "      <td>1</td>\n",
              "      <td>0</td>\n",
              "      <td>PC 17599</td>\n",
              "      <td>71.2833</td>\n",
              "      <td>C85</td>\n",
              "      <td>C</td>\n",
              "    </tr>\n",
              "    <tr>\n",
              "      <th>2</th>\n",
              "      <td>3</td>\n",
              "      <td>1</td>\n",
              "      <td>3</td>\n",
              "      <td>Heikkinen, Miss. Laina</td>\n",
              "      <td>female</td>\n",
              "      <td>26.0</td>\n",
              "      <td>0</td>\n",
              "      <td>0</td>\n",
              "      <td>STON/O2. 3101282</td>\n",
              "      <td>7.9250</td>\n",
              "      <td>NaN</td>\n",
              "      <td>S</td>\n",
              "    </tr>\n",
              "    <tr>\n",
              "      <th>3</th>\n",
              "      <td>4</td>\n",
              "      <td>1</td>\n",
              "      <td>1</td>\n",
              "      <td>Futrelle, Mrs. Jacques Heath (Lily May Peel)</td>\n",
              "      <td>female</td>\n",
              "      <td>35.0</td>\n",
              "      <td>1</td>\n",
              "      <td>0</td>\n",
              "      <td>113803</td>\n",
              "      <td>53.1000</td>\n",
              "      <td>C123</td>\n",
              "      <td>S</td>\n",
              "    </tr>\n",
              "    <tr>\n",
              "      <th>4</th>\n",
              "      <td>5</td>\n",
              "      <td>0</td>\n",
              "      <td>3</td>\n",
              "      <td>Allen, Mr. William Henry</td>\n",
              "      <td>male</td>\n",
              "      <td>35.0</td>\n",
              "      <td>0</td>\n",
              "      <td>0</td>\n",
              "      <td>373450</td>\n",
              "      <td>8.0500</td>\n",
              "      <td>NaN</td>\n",
              "      <td>S</td>\n",
              "    </tr>\n",
              "  </tbody>\n",
              "</table>\n",
              "</div>\n",
              "    <div class=\"colab-df-buttons\">\n",
              "\n",
              "  <div class=\"colab-df-container\">\n",
              "    <button class=\"colab-df-convert\" onclick=\"convertToInteractive('df-30cb9441-1aa7-4ff6-ae32-4d46497a4a33')\"\n",
              "            title=\"Convert this dataframe to an interactive table.\"\n",
              "            style=\"display:none;\">\n",
              "\n",
              "  <svg xmlns=\"http://www.w3.org/2000/svg\" height=\"24px\" viewBox=\"0 -960 960 960\">\n",
              "    <path d=\"M120-120v-720h720v720H120Zm60-500h600v-160H180v160Zm220 220h160v-160H400v160Zm0 220h160v-160H400v160ZM180-400h160v-160H180v160Zm440 0h160v-160H620v160ZM180-180h160v-160H180v160Zm440 0h160v-160H620v160Z\"/>\n",
              "  </svg>\n",
              "    </button>\n",
              "\n",
              "  <style>\n",
              "    .colab-df-container {\n",
              "      display:flex;\n",
              "      gap: 12px;\n",
              "    }\n",
              "\n",
              "    .colab-df-convert {\n",
              "      background-color: #E8F0FE;\n",
              "      border: none;\n",
              "      border-radius: 50%;\n",
              "      cursor: pointer;\n",
              "      display: none;\n",
              "      fill: #1967D2;\n",
              "      height: 32px;\n",
              "      padding: 0 0 0 0;\n",
              "      width: 32px;\n",
              "    }\n",
              "\n",
              "    .colab-df-convert:hover {\n",
              "      background-color: #E2EBFA;\n",
              "      box-shadow: 0px 1px 2px rgba(60, 64, 67, 0.3), 0px 1px 3px 1px rgba(60, 64, 67, 0.15);\n",
              "      fill: #174EA6;\n",
              "    }\n",
              "\n",
              "    .colab-df-buttons div {\n",
              "      margin-bottom: 4px;\n",
              "    }\n",
              "\n",
              "    [theme=dark] .colab-df-convert {\n",
              "      background-color: #3B4455;\n",
              "      fill: #D2E3FC;\n",
              "    }\n",
              "\n",
              "    [theme=dark] .colab-df-convert:hover {\n",
              "      background-color: #434B5C;\n",
              "      box-shadow: 0px 1px 3px 1px rgba(0, 0, 0, 0.15);\n",
              "      filter: drop-shadow(0px 1px 2px rgba(0, 0, 0, 0.3));\n",
              "      fill: #FFFFFF;\n",
              "    }\n",
              "  </style>\n",
              "\n",
              "    <script>\n",
              "      const buttonEl =\n",
              "        document.querySelector('#df-30cb9441-1aa7-4ff6-ae32-4d46497a4a33 button.colab-df-convert');\n",
              "      buttonEl.style.display =\n",
              "        google.colab.kernel.accessAllowed ? 'block' : 'none';\n",
              "\n",
              "      async function convertToInteractive(key) {\n",
              "        const element = document.querySelector('#df-30cb9441-1aa7-4ff6-ae32-4d46497a4a33');\n",
              "        const dataTable =\n",
              "          await google.colab.kernel.invokeFunction('convertToInteractive',\n",
              "                                                    [key], {});\n",
              "        if (!dataTable) return;\n",
              "\n",
              "        const docLinkHtml = 'Like what you see? Visit the ' +\n",
              "          '<a target=\"_blank\" href=https://colab.research.google.com/notebooks/data_table.ipynb>data table notebook</a>'\n",
              "          + ' to learn more about interactive tables.';\n",
              "        element.innerHTML = '';\n",
              "        dataTable['output_type'] = 'display_data';\n",
              "        await google.colab.output.renderOutput(dataTable, element);\n",
              "        const docLink = document.createElement('div');\n",
              "        docLink.innerHTML = docLinkHtml;\n",
              "        element.appendChild(docLink);\n",
              "      }\n",
              "    </script>\n",
              "  </div>\n",
              "\n",
              "\n",
              "<div id=\"df-61c05dd5-18a8-4a70-9210-22429807594b\">\n",
              "  <button class=\"colab-df-quickchart\" onclick=\"quickchart('df-61c05dd5-18a8-4a70-9210-22429807594b')\"\n",
              "            title=\"Suggest charts.\"\n",
              "            style=\"display:none;\">\n",
              "\n",
              "<svg xmlns=\"http://www.w3.org/2000/svg\" height=\"24px\"viewBox=\"0 0 24 24\"\n",
              "     width=\"24px\">\n",
              "    <g>\n",
              "        <path d=\"M19 3H5c-1.1 0-2 .9-2 2v14c0 1.1.9 2 2 2h14c1.1 0 2-.9 2-2V5c0-1.1-.9-2-2-2zM9 17H7v-7h2v7zm4 0h-2V7h2v10zm4 0h-2v-4h2v4z\"/>\n",
              "    </g>\n",
              "</svg>\n",
              "  </button>\n",
              "\n",
              "<style>\n",
              "  .colab-df-quickchart {\n",
              "      --bg-color: #E8F0FE;\n",
              "      --fill-color: #1967D2;\n",
              "      --hover-bg-color: #E2EBFA;\n",
              "      --hover-fill-color: #174EA6;\n",
              "      --disabled-fill-color: #AAA;\n",
              "      --disabled-bg-color: #DDD;\n",
              "  }\n",
              "\n",
              "  [theme=dark] .colab-df-quickchart {\n",
              "      --bg-color: #3B4455;\n",
              "      --fill-color: #D2E3FC;\n",
              "      --hover-bg-color: #434B5C;\n",
              "      --hover-fill-color: #FFFFFF;\n",
              "      --disabled-bg-color: #3B4455;\n",
              "      --disabled-fill-color: #666;\n",
              "  }\n",
              "\n",
              "  .colab-df-quickchart {\n",
              "    background-color: var(--bg-color);\n",
              "    border: none;\n",
              "    border-radius: 50%;\n",
              "    cursor: pointer;\n",
              "    display: none;\n",
              "    fill: var(--fill-color);\n",
              "    height: 32px;\n",
              "    padding: 0;\n",
              "    width: 32px;\n",
              "  }\n",
              "\n",
              "  .colab-df-quickchart:hover {\n",
              "    background-color: var(--hover-bg-color);\n",
              "    box-shadow: 0 1px 2px rgba(60, 64, 67, 0.3), 0 1px 3px 1px rgba(60, 64, 67, 0.15);\n",
              "    fill: var(--button-hover-fill-color);\n",
              "  }\n",
              "\n",
              "  .colab-df-quickchart-complete:disabled,\n",
              "  .colab-df-quickchart-complete:disabled:hover {\n",
              "    background-color: var(--disabled-bg-color);\n",
              "    fill: var(--disabled-fill-color);\n",
              "    box-shadow: none;\n",
              "  }\n",
              "\n",
              "  .colab-df-spinner {\n",
              "    border: 2px solid var(--fill-color);\n",
              "    border-color: transparent;\n",
              "    border-bottom-color: var(--fill-color);\n",
              "    animation:\n",
              "      spin 1s steps(1) infinite;\n",
              "  }\n",
              "\n",
              "  @keyframes spin {\n",
              "    0% {\n",
              "      border-color: transparent;\n",
              "      border-bottom-color: var(--fill-color);\n",
              "      border-left-color: var(--fill-color);\n",
              "    }\n",
              "    20% {\n",
              "      border-color: transparent;\n",
              "      border-left-color: var(--fill-color);\n",
              "      border-top-color: var(--fill-color);\n",
              "    }\n",
              "    30% {\n",
              "      border-color: transparent;\n",
              "      border-left-color: var(--fill-color);\n",
              "      border-top-color: var(--fill-color);\n",
              "      border-right-color: var(--fill-color);\n",
              "    }\n",
              "    40% {\n",
              "      border-color: transparent;\n",
              "      border-right-color: var(--fill-color);\n",
              "      border-top-color: var(--fill-color);\n",
              "    }\n",
              "    60% {\n",
              "      border-color: transparent;\n",
              "      border-right-color: var(--fill-color);\n",
              "    }\n",
              "    80% {\n",
              "      border-color: transparent;\n",
              "      border-right-color: var(--fill-color);\n",
              "      border-bottom-color: var(--fill-color);\n",
              "    }\n",
              "    90% {\n",
              "      border-color: transparent;\n",
              "      border-bottom-color: var(--fill-color);\n",
              "    }\n",
              "  }\n",
              "</style>\n",
              "\n",
              "  <script>\n",
              "    async function quickchart(key) {\n",
              "      const quickchartButtonEl =\n",
              "        document.querySelector('#' + key + ' button');\n",
              "      quickchartButtonEl.disabled = true;  // To prevent multiple clicks.\n",
              "      quickchartButtonEl.classList.add('colab-df-spinner');\n",
              "      try {\n",
              "        const charts = await google.colab.kernel.invokeFunction(\n",
              "            'suggestCharts', [key], {});\n",
              "      } catch (error) {\n",
              "        console.error('Error during call to suggestCharts:', error);\n",
              "      }\n",
              "      quickchartButtonEl.classList.remove('colab-df-spinner');\n",
              "      quickchartButtonEl.classList.add('colab-df-quickchart-complete');\n",
              "    }\n",
              "    (() => {\n",
              "      let quickchartButtonEl =\n",
              "        document.querySelector('#df-61c05dd5-18a8-4a70-9210-22429807594b button');\n",
              "      quickchartButtonEl.style.display =\n",
              "        google.colab.kernel.accessAllowed ? 'block' : 'none';\n",
              "    })();\n",
              "  </script>\n",
              "</div>\n",
              "    </div>\n",
              "  </div>\n"
            ]
          },
          "metadata": {},
          "execution_count": 159
        }
      ]
    },
    {
      "cell_type": "code",
      "source": [
        "y_titanic = titanic['Survived']"
      ],
      "metadata": {
        "id": "OmWWTMH7O5te"
      },
      "execution_count": null,
      "outputs": []
    },
    {
      "cell_type": "code",
      "source": [
        "X_titanic = titanic.drop('Survived', axis=1)"
      ],
      "metadata": {
        "id": "3TuuHvT2O5te"
      },
      "execution_count": null,
      "outputs": []
    },
    {
      "cell_type": "code",
      "source": [
        "X_titanic"
      ],
      "metadata": {
        "colab": {
          "base_uri": "https://localhost:8080/",
          "height": 458
        },
        "outputId": "515ae3b0-da27-4b19-af9e-ff52331f57ea",
        "id": "40ReVlGGO5te"
      },
      "execution_count": null,
      "outputs": [
        {
          "output_type": "execute_result",
          "data": {
            "text/plain": [
              "     PassengerId  Pclass                                               Name  \\\n",
              "0              1       3                            Braund, Mr. Owen Harris   \n",
              "1              2       1  Cumings, Mrs. John Bradley (Florence Briggs Th...   \n",
              "2              3       3                             Heikkinen, Miss. Laina   \n",
              "3              4       1       Futrelle, Mrs. Jacques Heath (Lily May Peel)   \n",
              "4              5       3                           Allen, Mr. William Henry   \n",
              "..           ...     ...                                                ...   \n",
              "886          887       2                              Montvila, Rev. Juozas   \n",
              "887          888       1                       Graham, Miss. Margaret Edith   \n",
              "888          889       3           Johnston, Miss. Catherine Helen \"Carrie\"   \n",
              "889          890       1                              Behr, Mr. Karl Howell   \n",
              "890          891       3                                Dooley, Mr. Patrick   \n",
              "\n",
              "        Sex   Age  SibSp  Parch            Ticket     Fare Cabin Embarked  \n",
              "0      male  22.0      1      0         A/5 21171   7.2500   NaN        S  \n",
              "1    female  38.0      1      0          PC 17599  71.2833   C85        C  \n",
              "2    female  26.0      0      0  STON/O2. 3101282   7.9250   NaN        S  \n",
              "3    female  35.0      1      0            113803  53.1000  C123        S  \n",
              "4      male  35.0      0      0            373450   8.0500   NaN        S  \n",
              "..      ...   ...    ...    ...               ...      ...   ...      ...  \n",
              "886    male  27.0      0      0            211536  13.0000   NaN        S  \n",
              "887  female  19.0      0      0            112053  30.0000   B42        S  \n",
              "888  female   NaN      1      2        W./C. 6607  23.4500   NaN        S  \n",
              "889    male  26.0      0      0            111369  30.0000  C148        C  \n",
              "890    male  32.0      0      0            370376   7.7500   NaN        Q  \n",
              "\n",
              "[891 rows x 11 columns]"
            ],
            "text/html": [
              "\n",
              "  <div id=\"df-1a30ef2b-eb56-4cab-9e4b-62c33fa63a57\" class=\"colab-df-container\">\n",
              "    <div>\n",
              "<style scoped>\n",
              "    .dataframe tbody tr th:only-of-type {\n",
              "        vertical-align: middle;\n",
              "    }\n",
              "\n",
              "    .dataframe tbody tr th {\n",
              "        vertical-align: top;\n",
              "    }\n",
              "\n",
              "    .dataframe thead th {\n",
              "        text-align: right;\n",
              "    }\n",
              "</style>\n",
              "<table border=\"1\" class=\"dataframe\">\n",
              "  <thead>\n",
              "    <tr style=\"text-align: right;\">\n",
              "      <th></th>\n",
              "      <th>PassengerId</th>\n",
              "      <th>Pclass</th>\n",
              "      <th>Name</th>\n",
              "      <th>Sex</th>\n",
              "      <th>Age</th>\n",
              "      <th>SibSp</th>\n",
              "      <th>Parch</th>\n",
              "      <th>Ticket</th>\n",
              "      <th>Fare</th>\n",
              "      <th>Cabin</th>\n",
              "      <th>Embarked</th>\n",
              "    </tr>\n",
              "  </thead>\n",
              "  <tbody>\n",
              "    <tr>\n",
              "      <th>0</th>\n",
              "      <td>1</td>\n",
              "      <td>3</td>\n",
              "      <td>Braund, Mr. Owen Harris</td>\n",
              "      <td>male</td>\n",
              "      <td>22.0</td>\n",
              "      <td>1</td>\n",
              "      <td>0</td>\n",
              "      <td>A/5 21171</td>\n",
              "      <td>7.2500</td>\n",
              "      <td>NaN</td>\n",
              "      <td>S</td>\n",
              "    </tr>\n",
              "    <tr>\n",
              "      <th>1</th>\n",
              "      <td>2</td>\n",
              "      <td>1</td>\n",
              "      <td>Cumings, Mrs. John Bradley (Florence Briggs Th...</td>\n",
              "      <td>female</td>\n",
              "      <td>38.0</td>\n",
              "      <td>1</td>\n",
              "      <td>0</td>\n",
              "      <td>PC 17599</td>\n",
              "      <td>71.2833</td>\n",
              "      <td>C85</td>\n",
              "      <td>C</td>\n",
              "    </tr>\n",
              "    <tr>\n",
              "      <th>2</th>\n",
              "      <td>3</td>\n",
              "      <td>3</td>\n",
              "      <td>Heikkinen, Miss. Laina</td>\n",
              "      <td>female</td>\n",
              "      <td>26.0</td>\n",
              "      <td>0</td>\n",
              "      <td>0</td>\n",
              "      <td>STON/O2. 3101282</td>\n",
              "      <td>7.9250</td>\n",
              "      <td>NaN</td>\n",
              "      <td>S</td>\n",
              "    </tr>\n",
              "    <tr>\n",
              "      <th>3</th>\n",
              "      <td>4</td>\n",
              "      <td>1</td>\n",
              "      <td>Futrelle, Mrs. Jacques Heath (Lily May Peel)</td>\n",
              "      <td>female</td>\n",
              "      <td>35.0</td>\n",
              "      <td>1</td>\n",
              "      <td>0</td>\n",
              "      <td>113803</td>\n",
              "      <td>53.1000</td>\n",
              "      <td>C123</td>\n",
              "      <td>S</td>\n",
              "    </tr>\n",
              "    <tr>\n",
              "      <th>4</th>\n",
              "      <td>5</td>\n",
              "      <td>3</td>\n",
              "      <td>Allen, Mr. William Henry</td>\n",
              "      <td>male</td>\n",
              "      <td>35.0</td>\n",
              "      <td>0</td>\n",
              "      <td>0</td>\n",
              "      <td>373450</td>\n",
              "      <td>8.0500</td>\n",
              "      <td>NaN</td>\n",
              "      <td>S</td>\n",
              "    </tr>\n",
              "    <tr>\n",
              "      <th>...</th>\n",
              "      <td>...</td>\n",
              "      <td>...</td>\n",
              "      <td>...</td>\n",
              "      <td>...</td>\n",
              "      <td>...</td>\n",
              "      <td>...</td>\n",
              "      <td>...</td>\n",
              "      <td>...</td>\n",
              "      <td>...</td>\n",
              "      <td>...</td>\n",
              "      <td>...</td>\n",
              "    </tr>\n",
              "    <tr>\n",
              "      <th>886</th>\n",
              "      <td>887</td>\n",
              "      <td>2</td>\n",
              "      <td>Montvila, Rev. Juozas</td>\n",
              "      <td>male</td>\n",
              "      <td>27.0</td>\n",
              "      <td>0</td>\n",
              "      <td>0</td>\n",
              "      <td>211536</td>\n",
              "      <td>13.0000</td>\n",
              "      <td>NaN</td>\n",
              "      <td>S</td>\n",
              "    </tr>\n",
              "    <tr>\n",
              "      <th>887</th>\n",
              "      <td>888</td>\n",
              "      <td>1</td>\n",
              "      <td>Graham, Miss. Margaret Edith</td>\n",
              "      <td>female</td>\n",
              "      <td>19.0</td>\n",
              "      <td>0</td>\n",
              "      <td>0</td>\n",
              "      <td>112053</td>\n",
              "      <td>30.0000</td>\n",
              "      <td>B42</td>\n",
              "      <td>S</td>\n",
              "    </tr>\n",
              "    <tr>\n",
              "      <th>888</th>\n",
              "      <td>889</td>\n",
              "      <td>3</td>\n",
              "      <td>Johnston, Miss. Catherine Helen \"Carrie\"</td>\n",
              "      <td>female</td>\n",
              "      <td>NaN</td>\n",
              "      <td>1</td>\n",
              "      <td>2</td>\n",
              "      <td>W./C. 6607</td>\n",
              "      <td>23.4500</td>\n",
              "      <td>NaN</td>\n",
              "      <td>S</td>\n",
              "    </tr>\n",
              "    <tr>\n",
              "      <th>889</th>\n",
              "      <td>890</td>\n",
              "      <td>1</td>\n",
              "      <td>Behr, Mr. Karl Howell</td>\n",
              "      <td>male</td>\n",
              "      <td>26.0</td>\n",
              "      <td>0</td>\n",
              "      <td>0</td>\n",
              "      <td>111369</td>\n",
              "      <td>30.0000</td>\n",
              "      <td>C148</td>\n",
              "      <td>C</td>\n",
              "    </tr>\n",
              "    <tr>\n",
              "      <th>890</th>\n",
              "      <td>891</td>\n",
              "      <td>3</td>\n",
              "      <td>Dooley, Mr. Patrick</td>\n",
              "      <td>male</td>\n",
              "      <td>32.0</td>\n",
              "      <td>0</td>\n",
              "      <td>0</td>\n",
              "      <td>370376</td>\n",
              "      <td>7.7500</td>\n",
              "      <td>NaN</td>\n",
              "      <td>Q</td>\n",
              "    </tr>\n",
              "  </tbody>\n",
              "</table>\n",
              "<p>891 rows × 11 columns</p>\n",
              "</div>\n",
              "    <div class=\"colab-df-buttons\">\n",
              "\n",
              "  <div class=\"colab-df-container\">\n",
              "    <button class=\"colab-df-convert\" onclick=\"convertToInteractive('df-1a30ef2b-eb56-4cab-9e4b-62c33fa63a57')\"\n",
              "            title=\"Convert this dataframe to an interactive table.\"\n",
              "            style=\"display:none;\">\n",
              "\n",
              "  <svg xmlns=\"http://www.w3.org/2000/svg\" height=\"24px\" viewBox=\"0 -960 960 960\">\n",
              "    <path d=\"M120-120v-720h720v720H120Zm60-500h600v-160H180v160Zm220 220h160v-160H400v160Zm0 220h160v-160H400v160ZM180-400h160v-160H180v160Zm440 0h160v-160H620v160ZM180-180h160v-160H180v160Zm440 0h160v-160H620v160Z\"/>\n",
              "  </svg>\n",
              "    </button>\n",
              "\n",
              "  <style>\n",
              "    .colab-df-container {\n",
              "      display:flex;\n",
              "      gap: 12px;\n",
              "    }\n",
              "\n",
              "    .colab-df-convert {\n",
              "      background-color: #E8F0FE;\n",
              "      border: none;\n",
              "      border-radius: 50%;\n",
              "      cursor: pointer;\n",
              "      display: none;\n",
              "      fill: #1967D2;\n",
              "      height: 32px;\n",
              "      padding: 0 0 0 0;\n",
              "      width: 32px;\n",
              "    }\n",
              "\n",
              "    .colab-df-convert:hover {\n",
              "      background-color: #E2EBFA;\n",
              "      box-shadow: 0px 1px 2px rgba(60, 64, 67, 0.3), 0px 1px 3px 1px rgba(60, 64, 67, 0.15);\n",
              "      fill: #174EA6;\n",
              "    }\n",
              "\n",
              "    .colab-df-buttons div {\n",
              "      margin-bottom: 4px;\n",
              "    }\n",
              "\n",
              "    [theme=dark] .colab-df-convert {\n",
              "      background-color: #3B4455;\n",
              "      fill: #D2E3FC;\n",
              "    }\n",
              "\n",
              "    [theme=dark] .colab-df-convert:hover {\n",
              "      background-color: #434B5C;\n",
              "      box-shadow: 0px 1px 3px 1px rgba(0, 0, 0, 0.15);\n",
              "      filter: drop-shadow(0px 1px 2px rgba(0, 0, 0, 0.3));\n",
              "      fill: #FFFFFF;\n",
              "    }\n",
              "  </style>\n",
              "\n",
              "    <script>\n",
              "      const buttonEl =\n",
              "        document.querySelector('#df-1a30ef2b-eb56-4cab-9e4b-62c33fa63a57 button.colab-df-convert');\n",
              "      buttonEl.style.display =\n",
              "        google.colab.kernel.accessAllowed ? 'block' : 'none';\n",
              "\n",
              "      async function convertToInteractive(key) {\n",
              "        const element = document.querySelector('#df-1a30ef2b-eb56-4cab-9e4b-62c33fa63a57');\n",
              "        const dataTable =\n",
              "          await google.colab.kernel.invokeFunction('convertToInteractive',\n",
              "                                                    [key], {});\n",
              "        if (!dataTable) return;\n",
              "\n",
              "        const docLinkHtml = 'Like what you see? Visit the ' +\n",
              "          '<a target=\"_blank\" href=https://colab.research.google.com/notebooks/data_table.ipynb>data table notebook</a>'\n",
              "          + ' to learn more about interactive tables.';\n",
              "        element.innerHTML = '';\n",
              "        dataTable['output_type'] = 'display_data';\n",
              "        await google.colab.output.renderOutput(dataTable, element);\n",
              "        const docLink = document.createElement('div');\n",
              "        docLink.innerHTML = docLinkHtml;\n",
              "        element.appendChild(docLink);\n",
              "      }\n",
              "    </script>\n",
              "  </div>\n",
              "\n",
              "\n",
              "<div id=\"df-0275cd19-d509-49f8-b426-c47b8fbd27f5\">\n",
              "  <button class=\"colab-df-quickchart\" onclick=\"quickchart('df-0275cd19-d509-49f8-b426-c47b8fbd27f5')\"\n",
              "            title=\"Suggest charts.\"\n",
              "            style=\"display:none;\">\n",
              "\n",
              "<svg xmlns=\"http://www.w3.org/2000/svg\" height=\"24px\"viewBox=\"0 0 24 24\"\n",
              "     width=\"24px\">\n",
              "    <g>\n",
              "        <path d=\"M19 3H5c-1.1 0-2 .9-2 2v14c0 1.1.9 2 2 2h14c1.1 0 2-.9 2-2V5c0-1.1-.9-2-2-2zM9 17H7v-7h2v7zm4 0h-2V7h2v10zm4 0h-2v-4h2v4z\"/>\n",
              "    </g>\n",
              "</svg>\n",
              "  </button>\n",
              "\n",
              "<style>\n",
              "  .colab-df-quickchart {\n",
              "      --bg-color: #E8F0FE;\n",
              "      --fill-color: #1967D2;\n",
              "      --hover-bg-color: #E2EBFA;\n",
              "      --hover-fill-color: #174EA6;\n",
              "      --disabled-fill-color: #AAA;\n",
              "      --disabled-bg-color: #DDD;\n",
              "  }\n",
              "\n",
              "  [theme=dark] .colab-df-quickchart {\n",
              "      --bg-color: #3B4455;\n",
              "      --fill-color: #D2E3FC;\n",
              "      --hover-bg-color: #434B5C;\n",
              "      --hover-fill-color: #FFFFFF;\n",
              "      --disabled-bg-color: #3B4455;\n",
              "      --disabled-fill-color: #666;\n",
              "  }\n",
              "\n",
              "  .colab-df-quickchart {\n",
              "    background-color: var(--bg-color);\n",
              "    border: none;\n",
              "    border-radius: 50%;\n",
              "    cursor: pointer;\n",
              "    display: none;\n",
              "    fill: var(--fill-color);\n",
              "    height: 32px;\n",
              "    padding: 0;\n",
              "    width: 32px;\n",
              "  }\n",
              "\n",
              "  .colab-df-quickchart:hover {\n",
              "    background-color: var(--hover-bg-color);\n",
              "    box-shadow: 0 1px 2px rgba(60, 64, 67, 0.3), 0 1px 3px 1px rgba(60, 64, 67, 0.15);\n",
              "    fill: var(--button-hover-fill-color);\n",
              "  }\n",
              "\n",
              "  .colab-df-quickchart-complete:disabled,\n",
              "  .colab-df-quickchart-complete:disabled:hover {\n",
              "    background-color: var(--disabled-bg-color);\n",
              "    fill: var(--disabled-fill-color);\n",
              "    box-shadow: none;\n",
              "  }\n",
              "\n",
              "  .colab-df-spinner {\n",
              "    border: 2px solid var(--fill-color);\n",
              "    border-color: transparent;\n",
              "    border-bottom-color: var(--fill-color);\n",
              "    animation:\n",
              "      spin 1s steps(1) infinite;\n",
              "  }\n",
              "\n",
              "  @keyframes spin {\n",
              "    0% {\n",
              "      border-color: transparent;\n",
              "      border-bottom-color: var(--fill-color);\n",
              "      border-left-color: var(--fill-color);\n",
              "    }\n",
              "    20% {\n",
              "      border-color: transparent;\n",
              "      border-left-color: var(--fill-color);\n",
              "      border-top-color: var(--fill-color);\n",
              "    }\n",
              "    30% {\n",
              "      border-color: transparent;\n",
              "      border-left-color: var(--fill-color);\n",
              "      border-top-color: var(--fill-color);\n",
              "      border-right-color: var(--fill-color);\n",
              "    }\n",
              "    40% {\n",
              "      border-color: transparent;\n",
              "      border-right-color: var(--fill-color);\n",
              "      border-top-color: var(--fill-color);\n",
              "    }\n",
              "    60% {\n",
              "      border-color: transparent;\n",
              "      border-right-color: var(--fill-color);\n",
              "    }\n",
              "    80% {\n",
              "      border-color: transparent;\n",
              "      border-right-color: var(--fill-color);\n",
              "      border-bottom-color: var(--fill-color);\n",
              "    }\n",
              "    90% {\n",
              "      border-color: transparent;\n",
              "      border-bottom-color: var(--fill-color);\n",
              "    }\n",
              "  }\n",
              "</style>\n",
              "\n",
              "  <script>\n",
              "    async function quickchart(key) {\n",
              "      const quickchartButtonEl =\n",
              "        document.querySelector('#' + key + ' button');\n",
              "      quickchartButtonEl.disabled = true;  // To prevent multiple clicks.\n",
              "      quickchartButtonEl.classList.add('colab-df-spinner');\n",
              "      try {\n",
              "        const charts = await google.colab.kernel.invokeFunction(\n",
              "            'suggestCharts', [key], {});\n",
              "      } catch (error) {\n",
              "        console.error('Error during call to suggestCharts:', error);\n",
              "      }\n",
              "      quickchartButtonEl.classList.remove('colab-df-spinner');\n",
              "      quickchartButtonEl.classList.add('colab-df-quickchart-complete');\n",
              "    }\n",
              "    (() => {\n",
              "      let quickchartButtonEl =\n",
              "        document.querySelector('#df-0275cd19-d509-49f8-b426-c47b8fbd27f5 button');\n",
              "      quickchartButtonEl.style.display =\n",
              "        google.colab.kernel.accessAllowed ? 'block' : 'none';\n",
              "    })();\n",
              "  </script>\n",
              "</div>\n",
              "    </div>\n",
              "  </div>\n"
            ]
          },
          "metadata": {},
          "execution_count": 162
        }
      ]
    },
    {
      "cell_type": "code",
      "source": [
        "X_titanic.info()"
      ],
      "metadata": {
        "colab": {
          "base_uri": "https://localhost:8080/"
        },
        "outputId": "08003fa0-f4fa-4ecf-a0b9-0d0f5947fbf2",
        "id": "sMIyvFjiO5te"
      },
      "execution_count": null,
      "outputs": [
        {
          "output_type": "stream",
          "name": "stdout",
          "text": [
            "<class 'pandas.core.frame.DataFrame'>\n",
            "RangeIndex: 891 entries, 0 to 890\n",
            "Data columns (total 11 columns):\n",
            " #   Column       Non-Null Count  Dtype  \n",
            "---  ------       --------------  -----  \n",
            " 0   PassengerId  891 non-null    int64  \n",
            " 1   Pclass       891 non-null    int64  \n",
            " 2   Name         891 non-null    object \n",
            " 3   Sex          891 non-null    object \n",
            " 4   Age          714 non-null    float64\n",
            " 5   SibSp        891 non-null    int64  \n",
            " 6   Parch        891 non-null    int64  \n",
            " 7   Ticket       891 non-null    object \n",
            " 8   Fare         891 non-null    float64\n",
            " 9   Cabin        204 non-null    object \n",
            " 10  Embarked     889 non-null    object \n",
            "dtypes: float64(2), int64(4), object(5)\n",
            "memory usage: 76.7+ KB\n"
          ]
        }
      ]
    },
    {
      "cell_type": "code",
      "source": [
        "def fillna(df):\n",
        "    df['Age'].fillna(df['Age'].mean(), inplace=True)\n",
        "    df['Cabin'].fillna('N', inplace=True)\n",
        "    df['Embarked'].fillna('N', inplace=True)\n",
        "    return df\n",
        "\n",
        "def drop_features(df):\n",
        "    df.drop(['PassengerId', 'Name', 'Ticket'], axis=1, inplace=True)\n",
        "    return df\n",
        "\n",
        "def format_features(df):\n",
        "    df['Cabin'] = df['Cabin'].str[:1]\n",
        "    features = ['Cabin', 'Sex', 'Embarked']\n",
        "    for feature in features:\n",
        "        le = LabelEncoder()\n",
        "        le.fit(df[feature])\n",
        "        df[feature] = le.transform(df[feature])\n",
        "    return df\n",
        "\n",
        "def adj_scale(df):\n",
        "    scaler = MinMaxScaler()\n",
        "    scaler.fit(df)\n",
        "    scaled_array = scaler.transform(df)\n",
        "    df_scaled = pd.DataFrame(data=scaled_array, columns = df.columns)\n",
        "    return df_scaled\n",
        "\n",
        "def transform_features(df):\n",
        "    df = fillna(df)\n",
        "    df = drop_features(df)\n",
        "    df = format_features(df)\n",
        "    #df = adj_scale(df)\n",
        "    return df"
      ],
      "metadata": {
        "id": "duapJ4taO5te"
      },
      "execution_count": null,
      "outputs": []
    },
    {
      "cell_type": "code",
      "source": [
        "X_titanic = transform_features(X_titanic)"
      ],
      "metadata": {
        "id": "ayu3Uz1VO5te"
      },
      "execution_count": null,
      "outputs": []
    },
    {
      "cell_type": "code",
      "source": [
        "X_titanic"
      ],
      "metadata": {
        "colab": {
          "base_uri": "https://localhost:8080/",
          "height": 423
        },
        "id": "QuRxwmtiQnWw",
        "outputId": "de1a561e-e72c-4715-cbf4-232036105c3d"
      },
      "execution_count": null,
      "outputs": [
        {
          "output_type": "execute_result",
          "data": {
            "text/plain": [
              "     Pclass  Sex        Age  SibSp  Parch     Fare  Cabin  Embarked\n",
              "0         3    1  22.000000      1      0   7.2500      7         3\n",
              "1         1    0  38.000000      1      0  71.2833      2         0\n",
              "2         3    0  26.000000      0      0   7.9250      7         3\n",
              "3         1    0  35.000000      1      0  53.1000      2         3\n",
              "4         3    1  35.000000      0      0   8.0500      7         3\n",
              "..      ...  ...        ...    ...    ...      ...    ...       ...\n",
              "886       2    1  27.000000      0      0  13.0000      7         3\n",
              "887       1    0  19.000000      0      0  30.0000      1         3\n",
              "888       3    0  29.699118      1      2  23.4500      7         3\n",
              "889       1    1  26.000000      0      0  30.0000      2         0\n",
              "890       3    1  32.000000      0      0   7.7500      7         2\n",
              "\n",
              "[891 rows x 8 columns]"
            ],
            "text/html": [
              "\n",
              "  <div id=\"df-b71b61de-9c81-4006-a233-6292802d6d06\" class=\"colab-df-container\">\n",
              "    <div>\n",
              "<style scoped>\n",
              "    .dataframe tbody tr th:only-of-type {\n",
              "        vertical-align: middle;\n",
              "    }\n",
              "\n",
              "    .dataframe tbody tr th {\n",
              "        vertical-align: top;\n",
              "    }\n",
              "\n",
              "    .dataframe thead th {\n",
              "        text-align: right;\n",
              "    }\n",
              "</style>\n",
              "<table border=\"1\" class=\"dataframe\">\n",
              "  <thead>\n",
              "    <tr style=\"text-align: right;\">\n",
              "      <th></th>\n",
              "      <th>Pclass</th>\n",
              "      <th>Sex</th>\n",
              "      <th>Age</th>\n",
              "      <th>SibSp</th>\n",
              "      <th>Parch</th>\n",
              "      <th>Fare</th>\n",
              "      <th>Cabin</th>\n",
              "      <th>Embarked</th>\n",
              "    </tr>\n",
              "  </thead>\n",
              "  <tbody>\n",
              "    <tr>\n",
              "      <th>0</th>\n",
              "      <td>3</td>\n",
              "      <td>1</td>\n",
              "      <td>22.000000</td>\n",
              "      <td>1</td>\n",
              "      <td>0</td>\n",
              "      <td>7.2500</td>\n",
              "      <td>7</td>\n",
              "      <td>3</td>\n",
              "    </tr>\n",
              "    <tr>\n",
              "      <th>1</th>\n",
              "      <td>1</td>\n",
              "      <td>0</td>\n",
              "      <td>38.000000</td>\n",
              "      <td>1</td>\n",
              "      <td>0</td>\n",
              "      <td>71.2833</td>\n",
              "      <td>2</td>\n",
              "      <td>0</td>\n",
              "    </tr>\n",
              "    <tr>\n",
              "      <th>2</th>\n",
              "      <td>3</td>\n",
              "      <td>0</td>\n",
              "      <td>26.000000</td>\n",
              "      <td>0</td>\n",
              "      <td>0</td>\n",
              "      <td>7.9250</td>\n",
              "      <td>7</td>\n",
              "      <td>3</td>\n",
              "    </tr>\n",
              "    <tr>\n",
              "      <th>3</th>\n",
              "      <td>1</td>\n",
              "      <td>0</td>\n",
              "      <td>35.000000</td>\n",
              "      <td>1</td>\n",
              "      <td>0</td>\n",
              "      <td>53.1000</td>\n",
              "      <td>2</td>\n",
              "      <td>3</td>\n",
              "    </tr>\n",
              "    <tr>\n",
              "      <th>4</th>\n",
              "      <td>3</td>\n",
              "      <td>1</td>\n",
              "      <td>35.000000</td>\n",
              "      <td>0</td>\n",
              "      <td>0</td>\n",
              "      <td>8.0500</td>\n",
              "      <td>7</td>\n",
              "      <td>3</td>\n",
              "    </tr>\n",
              "    <tr>\n",
              "      <th>...</th>\n",
              "      <td>...</td>\n",
              "      <td>...</td>\n",
              "      <td>...</td>\n",
              "      <td>...</td>\n",
              "      <td>...</td>\n",
              "      <td>...</td>\n",
              "      <td>...</td>\n",
              "      <td>...</td>\n",
              "    </tr>\n",
              "    <tr>\n",
              "      <th>886</th>\n",
              "      <td>2</td>\n",
              "      <td>1</td>\n",
              "      <td>27.000000</td>\n",
              "      <td>0</td>\n",
              "      <td>0</td>\n",
              "      <td>13.0000</td>\n",
              "      <td>7</td>\n",
              "      <td>3</td>\n",
              "    </tr>\n",
              "    <tr>\n",
              "      <th>887</th>\n",
              "      <td>1</td>\n",
              "      <td>0</td>\n",
              "      <td>19.000000</td>\n",
              "      <td>0</td>\n",
              "      <td>0</td>\n",
              "      <td>30.0000</td>\n",
              "      <td>1</td>\n",
              "      <td>3</td>\n",
              "    </tr>\n",
              "    <tr>\n",
              "      <th>888</th>\n",
              "      <td>3</td>\n",
              "      <td>0</td>\n",
              "      <td>29.699118</td>\n",
              "      <td>1</td>\n",
              "      <td>2</td>\n",
              "      <td>23.4500</td>\n",
              "      <td>7</td>\n",
              "      <td>3</td>\n",
              "    </tr>\n",
              "    <tr>\n",
              "      <th>889</th>\n",
              "      <td>1</td>\n",
              "      <td>1</td>\n",
              "      <td>26.000000</td>\n",
              "      <td>0</td>\n",
              "      <td>0</td>\n",
              "      <td>30.0000</td>\n",
              "      <td>2</td>\n",
              "      <td>0</td>\n",
              "    </tr>\n",
              "    <tr>\n",
              "      <th>890</th>\n",
              "      <td>3</td>\n",
              "      <td>1</td>\n",
              "      <td>32.000000</td>\n",
              "      <td>0</td>\n",
              "      <td>0</td>\n",
              "      <td>7.7500</td>\n",
              "      <td>7</td>\n",
              "      <td>2</td>\n",
              "    </tr>\n",
              "  </tbody>\n",
              "</table>\n",
              "<p>891 rows × 8 columns</p>\n",
              "</div>\n",
              "    <div class=\"colab-df-buttons\">\n",
              "\n",
              "  <div class=\"colab-df-container\">\n",
              "    <button class=\"colab-df-convert\" onclick=\"convertToInteractive('df-b71b61de-9c81-4006-a233-6292802d6d06')\"\n",
              "            title=\"Convert this dataframe to an interactive table.\"\n",
              "            style=\"display:none;\">\n",
              "\n",
              "  <svg xmlns=\"http://www.w3.org/2000/svg\" height=\"24px\" viewBox=\"0 -960 960 960\">\n",
              "    <path d=\"M120-120v-720h720v720H120Zm60-500h600v-160H180v160Zm220 220h160v-160H400v160Zm0 220h160v-160H400v160ZM180-400h160v-160H180v160Zm440 0h160v-160H620v160ZM180-180h160v-160H180v160Zm440 0h160v-160H620v160Z\"/>\n",
              "  </svg>\n",
              "    </button>\n",
              "\n",
              "  <style>\n",
              "    .colab-df-container {\n",
              "      display:flex;\n",
              "      gap: 12px;\n",
              "    }\n",
              "\n",
              "    .colab-df-convert {\n",
              "      background-color: #E8F0FE;\n",
              "      border: none;\n",
              "      border-radius: 50%;\n",
              "      cursor: pointer;\n",
              "      display: none;\n",
              "      fill: #1967D2;\n",
              "      height: 32px;\n",
              "      padding: 0 0 0 0;\n",
              "      width: 32px;\n",
              "    }\n",
              "\n",
              "    .colab-df-convert:hover {\n",
              "      background-color: #E2EBFA;\n",
              "      box-shadow: 0px 1px 2px rgba(60, 64, 67, 0.3), 0px 1px 3px 1px rgba(60, 64, 67, 0.15);\n",
              "      fill: #174EA6;\n",
              "    }\n",
              "\n",
              "    .colab-df-buttons div {\n",
              "      margin-bottom: 4px;\n",
              "    }\n",
              "\n",
              "    [theme=dark] .colab-df-convert {\n",
              "      background-color: #3B4455;\n",
              "      fill: #D2E3FC;\n",
              "    }\n",
              "\n",
              "    [theme=dark] .colab-df-convert:hover {\n",
              "      background-color: #434B5C;\n",
              "      box-shadow: 0px 1px 3px 1px rgba(0, 0, 0, 0.15);\n",
              "      filter: drop-shadow(0px 1px 2px rgba(0, 0, 0, 0.3));\n",
              "      fill: #FFFFFF;\n",
              "    }\n",
              "  </style>\n",
              "\n",
              "    <script>\n",
              "      const buttonEl =\n",
              "        document.querySelector('#df-b71b61de-9c81-4006-a233-6292802d6d06 button.colab-df-convert');\n",
              "      buttonEl.style.display =\n",
              "        google.colab.kernel.accessAllowed ? 'block' : 'none';\n",
              "\n",
              "      async function convertToInteractive(key) {\n",
              "        const element = document.querySelector('#df-b71b61de-9c81-4006-a233-6292802d6d06');\n",
              "        const dataTable =\n",
              "          await google.colab.kernel.invokeFunction('convertToInteractive',\n",
              "                                                    [key], {});\n",
              "        if (!dataTable) return;\n",
              "\n",
              "        const docLinkHtml = 'Like what you see? Visit the ' +\n",
              "          '<a target=\"_blank\" href=https://colab.research.google.com/notebooks/data_table.ipynb>data table notebook</a>'\n",
              "          + ' to learn more about interactive tables.';\n",
              "        element.innerHTML = '';\n",
              "        dataTable['output_type'] = 'display_data';\n",
              "        await google.colab.output.renderOutput(dataTable, element);\n",
              "        const docLink = document.createElement('div');\n",
              "        docLink.innerHTML = docLinkHtml;\n",
              "        element.appendChild(docLink);\n",
              "      }\n",
              "    </script>\n",
              "  </div>\n",
              "\n",
              "\n",
              "<div id=\"df-9dc5763a-4de0-486c-9bef-54e250ca7246\">\n",
              "  <button class=\"colab-df-quickchart\" onclick=\"quickchart('df-9dc5763a-4de0-486c-9bef-54e250ca7246')\"\n",
              "            title=\"Suggest charts.\"\n",
              "            style=\"display:none;\">\n",
              "\n",
              "<svg xmlns=\"http://www.w3.org/2000/svg\" height=\"24px\"viewBox=\"0 0 24 24\"\n",
              "     width=\"24px\">\n",
              "    <g>\n",
              "        <path d=\"M19 3H5c-1.1 0-2 .9-2 2v14c0 1.1.9 2 2 2h14c1.1 0 2-.9 2-2V5c0-1.1-.9-2-2-2zM9 17H7v-7h2v7zm4 0h-2V7h2v10zm4 0h-2v-4h2v4z\"/>\n",
              "    </g>\n",
              "</svg>\n",
              "  </button>\n",
              "\n",
              "<style>\n",
              "  .colab-df-quickchart {\n",
              "      --bg-color: #E8F0FE;\n",
              "      --fill-color: #1967D2;\n",
              "      --hover-bg-color: #E2EBFA;\n",
              "      --hover-fill-color: #174EA6;\n",
              "      --disabled-fill-color: #AAA;\n",
              "      --disabled-bg-color: #DDD;\n",
              "  }\n",
              "\n",
              "  [theme=dark] .colab-df-quickchart {\n",
              "      --bg-color: #3B4455;\n",
              "      --fill-color: #D2E3FC;\n",
              "      --hover-bg-color: #434B5C;\n",
              "      --hover-fill-color: #FFFFFF;\n",
              "      --disabled-bg-color: #3B4455;\n",
              "      --disabled-fill-color: #666;\n",
              "  }\n",
              "\n",
              "  .colab-df-quickchart {\n",
              "    background-color: var(--bg-color);\n",
              "    border: none;\n",
              "    border-radius: 50%;\n",
              "    cursor: pointer;\n",
              "    display: none;\n",
              "    fill: var(--fill-color);\n",
              "    height: 32px;\n",
              "    padding: 0;\n",
              "    width: 32px;\n",
              "  }\n",
              "\n",
              "  .colab-df-quickchart:hover {\n",
              "    background-color: var(--hover-bg-color);\n",
              "    box-shadow: 0 1px 2px rgba(60, 64, 67, 0.3), 0 1px 3px 1px rgba(60, 64, 67, 0.15);\n",
              "    fill: var(--button-hover-fill-color);\n",
              "  }\n",
              "\n",
              "  .colab-df-quickchart-complete:disabled,\n",
              "  .colab-df-quickchart-complete:disabled:hover {\n",
              "    background-color: var(--disabled-bg-color);\n",
              "    fill: var(--disabled-fill-color);\n",
              "    box-shadow: none;\n",
              "  }\n",
              "\n",
              "  .colab-df-spinner {\n",
              "    border: 2px solid var(--fill-color);\n",
              "    border-color: transparent;\n",
              "    border-bottom-color: var(--fill-color);\n",
              "    animation:\n",
              "      spin 1s steps(1) infinite;\n",
              "  }\n",
              "\n",
              "  @keyframes spin {\n",
              "    0% {\n",
              "      border-color: transparent;\n",
              "      border-bottom-color: var(--fill-color);\n",
              "      border-left-color: var(--fill-color);\n",
              "    }\n",
              "    20% {\n",
              "      border-color: transparent;\n",
              "      border-left-color: var(--fill-color);\n",
              "      border-top-color: var(--fill-color);\n",
              "    }\n",
              "    30% {\n",
              "      border-color: transparent;\n",
              "      border-left-color: var(--fill-color);\n",
              "      border-top-color: var(--fill-color);\n",
              "      border-right-color: var(--fill-color);\n",
              "    }\n",
              "    40% {\n",
              "      border-color: transparent;\n",
              "      border-right-color: var(--fill-color);\n",
              "      border-top-color: var(--fill-color);\n",
              "    }\n",
              "    60% {\n",
              "      border-color: transparent;\n",
              "      border-right-color: var(--fill-color);\n",
              "    }\n",
              "    80% {\n",
              "      border-color: transparent;\n",
              "      border-right-color: var(--fill-color);\n",
              "      border-bottom-color: var(--fill-color);\n",
              "    }\n",
              "    90% {\n",
              "      border-color: transparent;\n",
              "      border-bottom-color: var(--fill-color);\n",
              "    }\n",
              "  }\n",
              "</style>\n",
              "\n",
              "  <script>\n",
              "    async function quickchart(key) {\n",
              "      const quickchartButtonEl =\n",
              "        document.querySelector('#' + key + ' button');\n",
              "      quickchartButtonEl.disabled = true;  // To prevent multiple clicks.\n",
              "      quickchartButtonEl.classList.add('colab-df-spinner');\n",
              "      try {\n",
              "        const charts = await google.colab.kernel.invokeFunction(\n",
              "            'suggestCharts', [key], {});\n",
              "      } catch (error) {\n",
              "        console.error('Error during call to suggestCharts:', error);\n",
              "      }\n",
              "      quickchartButtonEl.classList.remove('colab-df-spinner');\n",
              "      quickchartButtonEl.classList.add('colab-df-quickchart-complete');\n",
              "    }\n",
              "    (() => {\n",
              "      let quickchartButtonEl =\n",
              "        document.querySelector('#df-9dc5763a-4de0-486c-9bef-54e250ca7246 button');\n",
              "      quickchartButtonEl.style.display =\n",
              "        google.colab.kernel.accessAllowed ? 'block' : 'none';\n",
              "    })();\n",
              "  </script>\n",
              "</div>\n",
              "    </div>\n",
              "  </div>\n"
            ]
          },
          "metadata": {},
          "execution_count": 167
        }
      ]
    },
    {
      "cell_type": "code",
      "source": [
        "X_train, X_test, y_train, y_test = train_test_split(X_titanic, y_titanic)"
      ],
      "metadata": {
        "id": "Pdu5TkNaQpNX"
      },
      "execution_count": null,
      "outputs": []
    },
    {
      "cell_type": "code",
      "source": [
        "mcf = MyDummyClassifier()\n",
        "mcf.fit(X_train, y_train)\n",
        "pred = mcf.predict(X_test)\n",
        "accuracy_score(y_test, pred)"
      ],
      "metadata": {
        "colab": {
          "base_uri": "https://localhost:8080/"
        },
        "id": "zI6741bPQ2fy",
        "outputId": "2ef1bae1-dbed-4f5a-b2e5-109ae80bd659"
      },
      "execution_count": null,
      "outputs": [
        {
          "output_type": "execute_result",
          "data": {
            "text/plain": [
              "0.7623318385650224"
            ]
          },
          "metadata": {},
          "execution_count": 169
        }
      ]
    },
    {
      "cell_type": "markdown",
      "source": [
        "#TN, TP, FN, FP"
      ],
      "metadata": {
        "id": "e0r5BJSVRTcb"
      }
    },
    {
      "cell_type": "code",
      "source": [
        "pip install mglearn"
      ],
      "metadata": {
        "colab": {
          "base_uri": "https://localhost:8080/"
        },
        "id": "0N6FIs9sRCpG",
        "outputId": "13024d16-ebf4-4014-f482-7992f9d9c786"
      },
      "execution_count": null,
      "outputs": [
        {
          "output_type": "stream",
          "name": "stdout",
          "text": [
            "Collecting mglearn\n",
            "  Downloading mglearn-0.2.0-py2.py3-none-any.whl (581 kB)\n",
            "\u001b[2K     \u001b[90m━━━━━━━━━━━━━━━━━━━━━━━━━━━━━━━━━━━━━━━\u001b[0m \u001b[32m581.4/581.4 kB\u001b[0m \u001b[31m6.3 MB/s\u001b[0m eta \u001b[36m0:00:00\u001b[0m\n",
            "\u001b[?25hRequirement already satisfied: numpy in /usr/local/lib/python3.10/dist-packages (from mglearn) (1.23.5)\n",
            "Requirement already satisfied: matplotlib in /usr/local/lib/python3.10/dist-packages (from mglearn) (3.7.1)\n",
            "Requirement already satisfied: scikit-learn in /usr/local/lib/python3.10/dist-packages (from mglearn) (1.2.2)\n",
            "Requirement already satisfied: pandas in /usr/local/lib/python3.10/dist-packages (from mglearn) (1.5.3)\n",
            "Requirement already satisfied: pillow in /usr/local/lib/python3.10/dist-packages (from mglearn) (9.4.0)\n",
            "Requirement already satisfied: cycler in /usr/local/lib/python3.10/dist-packages (from mglearn) (0.12.0)\n",
            "Requirement already satisfied: imageio in /usr/local/lib/python3.10/dist-packages (from mglearn) (2.31.5)\n",
            "Requirement already satisfied: joblib in /usr/local/lib/python3.10/dist-packages (from mglearn) (1.3.2)\n",
            "Requirement already satisfied: contourpy>=1.0.1 in /usr/local/lib/python3.10/dist-packages (from matplotlib->mglearn) (1.1.1)\n",
            "Requirement already satisfied: fonttools>=4.22.0 in /usr/local/lib/python3.10/dist-packages (from matplotlib->mglearn) (4.43.0)\n",
            "Requirement already satisfied: kiwisolver>=1.0.1 in /usr/local/lib/python3.10/dist-packages (from matplotlib->mglearn) (1.4.5)\n",
            "Requirement already satisfied: packaging>=20.0 in /usr/local/lib/python3.10/dist-packages (from matplotlib->mglearn) (23.2)\n",
            "Requirement already satisfied: pyparsing>=2.3.1 in /usr/local/lib/python3.10/dist-packages (from matplotlib->mglearn) (3.1.1)\n",
            "Requirement already satisfied: python-dateutil>=2.7 in /usr/local/lib/python3.10/dist-packages (from matplotlib->mglearn) (2.8.2)\n",
            "Requirement already satisfied: pytz>=2020.1 in /usr/local/lib/python3.10/dist-packages (from pandas->mglearn) (2023.3.post1)\n",
            "Requirement already satisfied: scipy>=1.3.2 in /usr/local/lib/python3.10/dist-packages (from scikit-learn->mglearn) (1.11.3)\n",
            "Requirement already satisfied: threadpoolctl>=2.0.0 in /usr/local/lib/python3.10/dist-packages (from scikit-learn->mglearn) (3.2.0)\n",
            "Requirement already satisfied: six>=1.5 in /usr/local/lib/python3.10/dist-packages (from python-dateutil>=2.7->matplotlib->mglearn) (1.16.0)\n",
            "Installing collected packages: mglearn\n",
            "Successfully installed mglearn-0.2.0\n"
          ]
        }
      ]
    },
    {
      "cell_type": "code",
      "source": [
        "import mglearn"
      ],
      "metadata": {
        "id": "U94aB3PhRZzO"
      },
      "execution_count": null,
      "outputs": []
    },
    {
      "cell_type": "code",
      "source": [
        "mglearn.plots.plot_binary_confusion_matrix()"
      ],
      "metadata": {
        "colab": {
          "base_uri": "https://localhost:8080/",
          "height": 436
        },
        "id": "HMCAjrwFRn7c",
        "outputId": "1a4d45cc-44bd-4dec-c0c0-77e3d359abbd"
      },
      "execution_count": null,
      "outputs": [
        {
          "output_type": "display_data",
          "data": {
            "text/plain": [
              "<Figure size 640x480 with 1 Axes>"
            ],
            "image/png": "[encoded data removed]"
          },
          "metadata": {}
        }
      ]
    },
    {
      "cell_type": "markdown",
      "source": [
        "N=0, P=1, 모두 예측값 기준"
      ],
      "metadata": {
        "id": "jtxbUqhER9Gi"
      }
    },
    {
      "cell_type": "code",
      "source": [
        "from sklearn.metrics import confusion_matrix"
      ],
      "metadata": {
        "id": "gv-xZ7HNRsdT"
      },
      "execution_count": null,
      "outputs": []
    },
    {
      "cell_type": "code",
      "source": [
        "confusion_matrix(y_test, pred)"
      ],
      "metadata": {
        "colab": {
          "base_uri": "https://localhost:8080/"
        },
        "id": "EIqYtsq4ShYA",
        "outputId": "bbd002c5-b26b-47da-b41d-126ca325ffd3"
      },
      "execution_count": null,
      "outputs": [
        {
          "output_type": "execute_result",
          "data": {
            "text/plain": [
              "array([[118,  20],\n",
              "       [ 33,  52]])"
            ]
          },
          "metadata": {},
          "execution_count": 175
        }
      ]
    },
    {
      "cell_type": "markdown",
      "source": [
        "$$ accuracy = {TN + TP \\over TN+TP+FN+FP }\n",
        "$$"
      ],
      "metadata": {
        "id": "l6SzG2bMS7VU"
      }
    },
    {
      "cell_type": "markdown",
      "source": [
        "$$\n",
        "precision = {TP \\over TP+FP}\n",
        "$$"
      ],
      "metadata": {
        "id": "zHaNZnzETYoG"
      }
    },
    {
      "cell_type": "markdown",
      "source": [
        "precision : 1로 예측한 것중 1로 맞춘 비율, 최대값 조건\n",
        "\n",
        "$$\n",
        "precision : FP \\downarrow\n",
        "$$"
      ],
      "metadata": {
        "id": "iEavbk6wTr83"
      }
    },
    {
      "cell_type": "markdown",
      "source": [
        "$$\n",
        "recall = {TP \\over TP+FN}\n",
        "$$"
      ],
      "metadata": {
        "id": "4tA0MEvqUQFX"
      }
    },
    {
      "cell_type": "markdown",
      "source": [
        "recall : 실제값 1중 1로 맞춘 비율, 최대값 조건\n",
        "\n",
        "$$\n",
        "reacll : FN \\downarrow\n",
        "$$"
      ],
      "metadata": {
        "id": "Ch3X9XHNUlNb"
      }
    },
    {
      "cell_type": "code",
      "source": [
        "from sklearn.metrics import confusion_matrix, accuracy_score, precision_score, recall_score"
      ],
      "metadata": {
        "id": "SbybNG0JUPDn"
      },
      "execution_count": null,
      "outputs": []
    },
    {
      "cell_type": "code",
      "source": [
        "def get_clf_eval(y_test, pred):\n",
        "    confusion = confusion_matrix(y_test, pred)\n",
        "    accuracy = accuracy_score(y_test, pred)\n",
        "    precision = precision_score(y_test, pred)\n",
        "    recall = recall_score(y_test, pred)\n",
        "    print(confusion, accuracy, precision, recall)"
      ],
      "metadata": {
        "id": "veTBwuYfSq0X"
      },
      "execution_count": null,
      "outputs": []
    },
    {
      "cell_type": "code",
      "source": [
        "lr_clf = LogisticRegression(max_iter=5000, random_state=2)\n",
        "lr_clf.fit(X_train, y_train)\n",
        "pred = lr_clf.predict(X_test)\n",
        "get_clf_eval(y_test, pred)"
      ],
      "metadata": {
        "colab": {
          "base_uri": "https://localhost:8080/"
        },
        "id": "mtPZo9ekavvz",
        "outputId": "3f8919a2-162b-4a85-8900-515df315cbbc"
      },
      "execution_count": null,
      "outputs": [
        {
          "output_type": "stream",
          "name": "stdout",
          "text": [
            "[[120  18]\n",
            " [ 28  57]] 0.7937219730941704 0.76 0.6705882352941176\n"
          ]
        }
      ]
    },
    {
      "cell_type": "markdown",
      "source": [
        "precision과 recall 값은 확률의 임계값으로 조절 할 수 있다.\n",
        "\n",
        "확률 = 어느 한 클래스에 속하게 될 확률"
      ],
      "metadata": {
        "id": "5UQaJFC1bafk"
      }
    },
    {
      "cell_type": "code",
      "source": [
        "pred_proba = lr_clf.predict_proba(X_test)"
      ],
      "metadata": {
        "id": "E25yzYTAcKeH"
      },
      "execution_count": null,
      "outputs": []
    },
    {
      "cell_type": "code",
      "source": [
        "pred_proba[5:8], pred[5:8]"
      ],
      "metadata": {
        "colab": {
          "base_uri": "https://localhost:8080/"
        },
        "id": "PflEMajQceJn",
        "outputId": "67c0b3ec-1a55-449e-b45b-5ea4a2688416"
      },
      "execution_count": null,
      "outputs": [
        {
          "output_type": "execute_result",
          "data": {
            "text/plain": [
              "(array([[0.88966713, 0.11033287],\n",
              "        [0.10692503, 0.89307497],\n",
              "        [0.41697234, 0.58302766]]),\n",
              " array([0, 1, 1]))"
            ]
          },
          "metadata": {},
          "execution_count": 184
        }
      ]
    },
    {
      "cell_type": "code",
      "source": [
        "pred_proba.shape, pred.shape"
      ],
      "metadata": {
        "colab": {
          "base_uri": "https://localhost:8080/"
        },
        "id": "8UUciXSxcgX_",
        "outputId": "83651b12-58d4-40e0-d793-019989dcfea7"
      },
      "execution_count": null,
      "outputs": [
        {
          "output_type": "execute_result",
          "data": {
            "text/plain": [
              "((223, 2), (223,))"
            ]
          },
          "metadata": {},
          "execution_count": 186
        }
      ]
    },
    {
      "cell_type": "code",
      "source": [
        "np.concatenate([pred_proba[5:8], pred[5:8, np.newaxis]], axis=1)"
      ],
      "metadata": {
        "colab": {
          "base_uri": "https://localhost:8080/"
        },
        "id": "iVOYuRAddC1n",
        "outputId": "bd72578e-194e-48d1-cb30-61eb0540d7b5"
      },
      "execution_count": null,
      "outputs": [
        {
          "output_type": "execute_result",
          "data": {
            "text/plain": [
              "array([[0.88966713, 0.11033287, 0.        ],\n",
              "       [0.10692503, 0.89307497, 1.        ],\n",
              "       [0.41697234, 0.58302766, 1.        ]])"
            ]
          },
          "metadata": {},
          "execution_count": 187
        }
      ]
    },
    {
      "cell_type": "markdown",
      "source": [
        "문턱값 사용하는 클래스 : Binarizer"
      ],
      "metadata": {
        "id": "VNciy2yQd4Ew"
      }
    },
    {
      "cell_type": "code",
      "source": [
        "from sklearn.preprocessing import Binarizer\n",
        "\n",
        "x = [[1, -1, -2], [2, 0, 0], [0, 1.1, 1.5]]\n",
        "x, type(x)"
      ],
      "metadata": {
        "colab": {
          "base_uri": "https://localhost:8080/"
        },
        "id": "vL6z5IgFd8PF",
        "outputId": "42c63dcc-7866-4eb3-838e-ed1202bf6a79"
      },
      "execution_count": null,
      "outputs": [
        {
          "output_type": "execute_result",
          "data": {
            "text/plain": [
              "([[1, -1, -2], [2, 0, 0], [0, 1.1, 1.5]], list)"
            ]
          },
          "metadata": {},
          "execution_count": 188
        }
      ]
    },
    {
      "cell_type": "code",
      "source": [
        "x"
      ],
      "metadata": {
        "colab": {
          "base_uri": "https://localhost:8080/"
        },
        "id": "wF4pMnv4eton",
        "outputId": "729568bd-7eca-41b7-a40f-c4268fd0126e"
      },
      "execution_count": null,
      "outputs": [
        {
          "output_type": "execute_result",
          "data": {
            "text/plain": [
              "[[1, -1, -2], [2, 0, 0], [0, 1.1, 1.5]]"
            ]
          },
          "metadata": {},
          "execution_count": 190
        }
      ]
    },
    {
      "cell_type": "code",
      "source": [
        "binar = Binarizer(threshold=1.1)\n",
        "binar.fit_transform(x)"
      ],
      "metadata": {
        "colab": {
          "base_uri": "https://localhost:8080/"
        },
        "id": "rQlxFlLoecvX",
        "outputId": "f9fa39e2-48d0-412a-af45-cec2bb5c7159"
      },
      "execution_count": null,
      "outputs": [
        {
          "output_type": "execute_result",
          "data": {
            "text/plain": [
              "array([[0., 0., 0.],\n",
              "       [1., 0., 0.],\n",
              "       [0., 0., 1.]])"
            ]
          },
          "metadata": {},
          "execution_count": 189
        }
      ]
    },
    {
      "cell_type": "code",
      "source": [
        "binar = Binarizer(threshold=0.5)\n",
        "y_binar = binar.fit_transform(pred_proba)\n",
        "y_binar[:, 1]"
      ],
      "metadata": {
        "colab": {
          "base_uri": "https://localhost:8080/"
        },
        "id": "tvC9iq90erOv",
        "outputId": "eac1512a-37e9-4cbc-e7a8-892c88bcf461"
      },
      "execution_count": null,
      "outputs": [
        {
          "output_type": "execute_result",
          "data": {
            "text/plain": [
              "array([0., 0., 0., 0., 0., 0., 1., 1., 0., 1., 0., 0., 1., 1., 0., 1., 0.,\n",
              "       1., 1., 0., 0., 0., 0., 1., 1., 0., 0., 0., 0., 1., 0., 0., 0., 1.,\n",
              "       1., 0., 0., 0., 0., 1., 1., 0., 0., 1., 1., 0., 0., 1., 1., 0., 0.,\n",
              "       1., 1., 0., 1., 1., 1., 0., 1., 0., 1., 0., 1., 0., 0., 0., 0., 0.,\n",
              "       1., 0., 0., 0., 1., 0., 0., 0., 0., 1., 0., 1., 1., 0., 0., 1., 0.,\n",
              "       0., 0., 0., 0., 1., 0., 0., 1., 0., 0., 0., 1., 0., 0., 0., 1., 0.,\n",
              "       0., 1., 0., 1., 0., 0., 0., 1., 1., 1., 0., 1., 1., 1., 1., 0., 0.,\n",
              "       0., 0., 0., 0., 1., 0., 0., 1., 0., 0., 0., 0., 0., 0., 1., 0., 1.,\n",
              "       1., 0., 0., 1., 1., 0., 0., 0., 1., 1., 0., 0., 1., 0., 1., 0., 1.,\n",
              "       0., 0., 0., 0., 1., 0., 0., 1., 1., 0., 1., 0., 0., 0., 0., 0., 1.,\n",
              "       0., 0., 1., 1., 0., 0., 0., 1., 0., 0., 0., 0., 0., 1., 0., 1., 0.,\n",
              "       0., 0., 0., 0., 0., 1., 0., 0., 1., 0., 0., 0., 0., 0., 0., 0., 0.,\n",
              "       0., 0., 1., 0., 0., 0., 0., 0., 0., 0., 0., 0., 0., 1., 1., 0., 0.,\n",
              "       1., 1.])"
            ]
          },
          "metadata": {},
          "execution_count": 191
        }
      ]
    },
    {
      "cell_type": "code",
      "source": [
        "y_test.shape, y_binar[:, 1].shape"
      ],
      "metadata": {
        "colab": {
          "base_uri": "https://localhost:8080/"
        },
        "id": "3Cs1_G35fMdU",
        "outputId": "5e3e8e8f-dfdc-4c2d-b653-24228492779a"
      },
      "execution_count": null,
      "outputs": [
        {
          "output_type": "execute_result",
          "data": {
            "text/plain": [
              "((223,), (223,))"
            ]
          },
          "metadata": {},
          "execution_count": 192
        }
      ]
    },
    {
      "cell_type": "code",
      "source": [
        "get_clf_eval(y_test, y_binar[:, 1])"
      ],
      "metadata": {
        "colab": {
          "base_uri": "https://localhost:8080/"
        },
        "id": "ZLwAn8ylfa90",
        "outputId": "62ddda59-865c-4569-a8f4-82f955a4188b"
      },
      "execution_count": null,
      "outputs": [
        {
          "output_type": "stream",
          "name": "stdout",
          "text": [
            "[[120  18]\n",
            " [ 28  57]] 0.7937219730941704 0.76 0.6705882352941176\n"
          ]
        }
      ]
    },
    {
      "cell_type": "code",
      "source": [
        "def get_eval_binar(thresholds, y_tests, pred_probas):\n",
        "    binar = Binarizer(threshold=thresholds)\n",
        "    y_binar = binar.fit_transform(pred_probas)\n",
        "    print('====', thresholds, ' : ')\n",
        "    get_clf_eval(y_tests, y_binar[:, 1] )"
      ],
      "metadata": {
        "id": "8b1q0MgdffrG"
      },
      "execution_count": null,
      "outputs": []
    },
    {
      "cell_type": "code",
      "source": [
        "thresholds = [0.40, 0.45, 0.50, 0.55, 0.60]\n",
        "for i in thresholds:\n",
        "    get_eval_binar(i, y_test, pred_proba)"
      ],
      "metadata": {
        "colab": {
          "base_uri": "https://localhost:8080/"
        },
        "id": "dpFW4osfgj9W",
        "outputId": "2154789b-7db9-44eb-e8ab-6388fe0be8ac"
      },
      "execution_count": null,
      "outputs": [
        {
          "output_type": "stream",
          "name": "stdout",
          "text": [
            "==== 0.4  : \n",
            "[[108  30]\n",
            " [ 25  60]] 0.7533632286995515 0.6666666666666666 0.7058823529411765\n",
            "==== 0.45  : \n",
            "[[113  25]\n",
            " [ 26  59]] 0.7713004484304933 0.7023809523809523 0.6941176470588235\n",
            "==== 0.5  : \n",
            "[[120  18]\n",
            " [ 28  57]] 0.7937219730941704 0.76 0.6705882352941176\n",
            "==== 0.55  : \n",
            "[[123  15]\n",
            " [ 28  57]] 0.8071748878923767 0.7916666666666666 0.6705882352941176\n",
            "==== 0.6  : \n",
            "[[127  11]\n",
            " [ 30  55]] 0.8161434977578476 0.8333333333333334 0.6470588235294118\n"
          ]
        }
      ]
    },
    {
      "cell_type": "markdown",
      "source": [
        "#precision_recall_curve"
      ],
      "metadata": {
        "id": "H3DdN1XZh2ou"
      }
    },
    {
      "cell_type": "markdown",
      "source": [
        "- precision, recall, threshold 출력해주는 sklearn 클래스\n",
        "\n",
        "- 입력 : y_test, pred_proba\n",
        "\n",
        "- threshold : 0.11 ~ 0.95"
      ],
      "metadata": {
        "id": "Ocqs6GGwio1x"
      }
    },
    {
      "cell_type": "code",
      "source": [
        "from sklearn.metrics import precision_recall_curve"
      ],
      "metadata": {
        "id": "HIdhG0_xgyuo"
      },
      "execution_count": null,
      "outputs": []
    },
    {
      "cell_type": "code",
      "source": [
        "pred_proba = lr_clf.predict_proba(X_test)[:, 1]\n",
        "precisions, recalls, thresholds = precision_recall_curve(y_test, pred_proba)"
      ],
      "metadata": {
        "id": "5FiimYK6h-Zv"
      },
      "execution_count": null,
      "outputs": []
    },
    {
      "cell_type": "code",
      "source": [
        "def pre_recall_plot(precisions, recalls, thresholds):\n",
        "    fig, axes = plt.subplots()\n",
        "    axes.plot(thresholds, precisions, 'k--',label = 'precision' )\n",
        "    axes.plot(thresholds, recalls, 'g-', label='recall')\n",
        "    axes.legend()\n",
        "    axes.set_xlabel('Threshold')\n",
        "    axes.set_ylabel('Precision & Recall')\n",
        "    axes.grid()"
      ],
      "metadata": {
        "id": "nJidzNIRjIaq"
      },
      "execution_count": null,
      "outputs": []
    },
    {
      "cell_type": "code",
      "source": [
        "pre_recall_plot(precisions[:thresholds.shape[0]], recalls[:thresholds.shape[0]], thresholds[:thresholds.shape[0]])"
      ],
      "metadata": {
        "colab": {
          "base_uri": "https://localhost:8080/",
          "height": 449
        },
        "id": "XygAvsI4kHfY",
        "outputId": "41eef9a4-154d-4468-b41b-4f62a44b971c"
      },
      "execution_count": null,
      "outputs": [
        {
          "output_type": "display_data",
          "data": {
            "text/plain": [
              "<Figure size 640x480 with 1 Axes>"
            ],
            "image/png": "[encoded data removed]"
          },
          "metadata": {}
        }
      ]
    },
    {
      "cell_type": "markdown",
      "source": [
        "threshold = 1 이면, 모두 N 으로 예측\n",
        "\n",
        "TN 모두 정답\n",
        "\n",
        "FN 나머지\n",
        "\n",
        "FP = 0\n",
        "\n",
        "${TP \\over TP + FP} = 1$"
      ],
      "metadata": {
        "id": "IHa35jfOnbFf"
      }
    },
    {
      "cell_type": "markdown",
      "source": [
        "threshold = 0 이면, 모두 P 으로 예측\n",
        "\n",
        "TP 모두 정답\n",
        "\n",
        "FP 나머지\n",
        "\n",
        "FN = 0\n",
        "\n",
        "${TP \\over TP + FN} = 1$"
      ],
      "metadata": {
        "id": "q5fqztCRn5tv"
      }
    },
    {
      "cell_type": "markdown",
      "source": [
        "#F1 score\n",
        "\n",
        "$$\n",
        "F1 = { 2 \\over {1 \\over recall} + {1 \\over precision}}\n",
        "$$"
      ],
      "metadata": {
        "id": "w4S5JVsaoW5J"
      }
    },
    {
      "cell_type": "code",
      "source": [],
      "metadata": {
        "id": "ZDqq6nRpkRz1"
      },
      "execution_count": null,
      "outputs": []
    }
  ]
}