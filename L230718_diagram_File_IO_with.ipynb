{
  "nbformat": 4,
  "nbformat_minor": 0,
  "metadata": {
    "colab": {
      "provenance": [],
      "include_colab_link": true
    },
    "kernelspec": {
      "name": "python3",
      "display_name": "Python 3"
    },
    "language_info": {
      "name": "python"
    }
  },
  "cells": [
    {
      "cell_type": "markdown",
      "metadata": {
        "id": "view-in-github",
        "colab_type": "text"
      },
      "source": [
        "<a href=\"https://colab.research.google.com/github/ohjeonsuk/python-education/blob/main/L230718_diagram_File_IO_with.ipynb\" target=\"_parent\"><img src=\"https://colab.research.google.com/assets/colab-badge.svg\" alt=\"Open In Colab\"/></a>"
      ]
    },
    {
      "cell_type": "code",
      "execution_count": null,
      "metadata": {
        "id": "uG7sW20NPmj1"
      },
      "outputs": [],
      "source": [
        "def moves(n, left):\n",
        "    '''\n",
        "    left : bool, True\n",
        "    n : int, 원반 개수\n",
        "\n",
        "    예제> move(2, True)\n",
        "    '''\n",
        "    if n==0 : return\n",
        "    moves(n-1, not left)\n",
        "    if left:\n",
        "        print(f'{n} left')\n",
        "    else:\n",
        "        print(f'{n} right')\n",
        "    moves(n-1, not left)"
      ]
    },
    {
      "cell_type": "code",
      "source": [
        "moves(2, True)"
      ],
      "metadata": {
        "colab": {
          "base_uri": "https://localhost:8080/"
        },
        "id": "HsuW3_-qRIEH",
        "outputId": "45ff9583-e0af-49a7-bc06-cb186f2fea72"
      },
      "execution_count": null,
      "outputs": [
        {
          "output_type": "stream",
          "name": "stdout",
          "text": [
            "1 right\n",
            "2 left\n",
            "1 right\n"
          ]
        }
      ]
    },
    {
      "cell_type": "markdown",
      "source": [
        "재귀 함수 -> diagram 으로 해결\n",
        "\n",
        "- 함수나 반복문이 나오면 옆으로 간다."
      ],
      "metadata": {
        "id": "S-SX3IcIVAwZ"
      }
    },
    {
      "cell_type": "markdown",
      "source": [
        "함수를 사용해서 소수를 구하는 프로그램 작성해주세요.\n",
        "(n=1, n=2, n)"
      ],
      "metadata": {
        "id": "4bn0785bblaJ"
      }
    },
    {
      "cell_type": "code",
      "source": [
        "def prime_number(n):\n",
        "    if n < 2:\n",
        "        return False\n",
        "    elif n == 2:\n",
        "        return True\n",
        "    else:\n",
        "        for i in range(2, n):\n",
        "            if n%i == 0:\n",
        "                return False\n",
        "        return True"
      ],
      "metadata": {
        "id": "yOkzDssWRLsk"
      },
      "execution_count": null,
      "outputs": []
    },
    {
      "cell_type": "code",
      "source": [
        "for i in range(20):\n",
        "    if prime_number(i):\n",
        "        print(i)"
      ],
      "metadata": {
        "colab": {
          "base_uri": "https://localhost:8080/"
        },
        "id": "FsulzGv2eY7r",
        "outputId": "83cfc358-2282-4c21-d8b1-be689b182281"
      },
      "execution_count": null,
      "outputs": [
        {
          "output_type": "stream",
          "name": "stdout",
          "text": [
            "2\n",
            "3\n",
            "5\n",
            "7\n",
            "11\n",
            "13\n",
            "17\n",
            "19\n"
          ]
        }
      ]
    },
    {
      "cell_type": "code",
      "source": [
        "for i in range(2, 0):\n",
        "    print(i)"
      ],
      "metadata": {
        "id": "x78DFMz-ecGs"
      },
      "execution_count": null,
      "outputs": []
    },
    {
      "cell_type": "code",
      "source": [
        "def find_primes(n):\n",
        "    if n < 2:\n",
        "        return []\n",
        "    primes = []\n",
        "    for num in range(2, n+1):\n",
        "        if all(num % i != 0 for i in range (2, num)):\n",
        "            primes.append(num)\n",
        "    return primes"
      ],
      "metadata": {
        "id": "i7j57jaGfC1n"
      },
      "execution_count": null,
      "outputs": []
    },
    {
      "cell_type": "code",
      "source": [
        "find_primes(3)"
      ],
      "metadata": {
        "colab": {
          "base_uri": "https://localhost:8080/"
        },
        "id": "xujuCYqCjj7g",
        "outputId": "38a105ce-aca0-48f7-9aae-f5c6a08f3afc"
      },
      "execution_count": null,
      "outputs": [
        {
          "output_type": "execute_result",
          "data": {
            "text/plain": [
              "[2, 3]"
            ]
          },
          "metadata": {},
          "execution_count": 28
        }
      ]
    },
    {
      "cell_type": "code",
      "source": [
        "all(num % i != 0 for i in range (2, num))"
      ],
      "metadata": {
        "id": "N7O4lCXwjmuK"
      },
      "execution_count": null,
      "outputs": []
    },
    {
      "cell_type": "code",
      "source": [
        "name = [\"토미\", \"지미\", \"낸시\", \"불독\"]\n",
        "fes = [\"OT\", \"CONCERT\", \"MT\", \"PLAY\"]"
      ],
      "metadata": {
        "id": "Q6tg5XmskT0L"
      },
      "execution_count": null,
      "outputs": []
    },
    {
      "cell_type": "code",
      "source": [
        "import random"
      ],
      "metadata": {
        "id": "uYvZAfdkkVxu"
      },
      "execution_count": null,
      "outputs": []
    },
    {
      "cell_type": "code",
      "source": [
        "random.choice(fes)"
      ],
      "metadata": {
        "colab": {
          "base_uri": "https://localhost:8080/",
          "height": 36
        },
        "id": "9Z9lryb3k4OG",
        "outputId": "dd3c76ee-82d8-43d5-95ee-85d2579c7cb0"
      },
      "execution_count": null,
      "outputs": [
        {
          "output_type": "execute_result",
          "data": {
            "text/plain": [
              "'OT'"
            ],
            "application/vnd.google.colaboratory.intrinsic+json": {
              "type": "string"
            }
          },
          "metadata": {},
          "execution_count": 31
        }
      ]
    },
    {
      "cell_type": "code",
      "source": [
        "for i in range(10):\n",
        "    print(random.choice(fes))"
      ],
      "metadata": {
        "colab": {
          "base_uri": "https://localhost:8080/"
        },
        "id": "vn68Z_rmk7VY",
        "outputId": "47ef052c-b210-4e2f-a683-2e4c93050862"
      },
      "execution_count": null,
      "outputs": [
        {
          "output_type": "stream",
          "name": "stdout",
          "text": [
            "CONCERT\n",
            "MT\n",
            "CONCERT\n",
            "PLAY\n",
            "MT\n",
            "PLAY\n",
            "OT\n",
            "MT\n",
            "MT\n",
            "PLAY\n"
          ]
        }
      ]
    },
    {
      "cell_type": "code",
      "source": [
        "{'토미': 'CONCERT', '지미': 'CONCERT', '낸시': 'MT', '불독': 'OT'}wjdalw"
      ],
      "metadata": {
        "id": "-ZmBPJeCk-iC"
      },
      "execution_count": null,
      "outputs": []
    },
    {
      "cell_type": "code",
      "source": [
        "\n",
        "name = [\"토미\", \"지미\", \"낸시\", \"불독\"]\n",
        "fes = [\"OT\", \"CONCERT\", \"MT\", \"PLAY\"]\n",
        "def nameFes(name,fes):\n",
        "    fes = fes.copy()\n",
        "    dict1={}\n",
        "    for i in name:\n",
        "        r=random.choice(fes)\n",
        "        dict1[i]= r\n",
        "        fes.remove(r)\n",
        "    return dict1"
      ],
      "metadata": {
        "id": "InPboZakpANC"
      },
      "execution_count": null,
      "outputs": []
    },
    {
      "cell_type": "code",
      "source": [
        "nameFes(name, fes)"
      ],
      "metadata": {
        "colab": {
          "base_uri": "https://localhost:8080/"
        },
        "id": "kmHd9GnFpCqV",
        "outputId": "b1527ac5-8843-43b5-abcf-ca7e1a19e84d"
      },
      "execution_count": null,
      "outputs": [
        {
          "output_type": "execute_result",
          "data": {
            "text/plain": [
              "{'토미': 'OT', '지미': 'MT', '낸시': 'PLAY', '불독': 'CONCERT'}"
            ]
          },
          "metadata": {},
          "execution_count": 49
        }
      ]
    },
    {
      "cell_type": "code",
      "source": [
        "fes"
      ],
      "metadata": {
        "colab": {
          "base_uri": "https://localhost:8080/"
        },
        "id": "xP_aQwIDpUGW",
        "outputId": "976dd53f-dc6c-4035-f902-770e8587bfa6"
      },
      "execution_count": null,
      "outputs": [
        {
          "output_type": "execute_result",
          "data": {
            "text/plain": [
              "['OT', 'CONCERT', 'MT', 'PLAY']"
            ]
          },
          "metadata": {},
          "execution_count": 44
        }
      ]
    },
    {
      "cell_type": "code",
      "source": [
        "def random_fes(name, fes):\n",
        "    fes = random.sample(fes, len(name))\n",
        "    return {n: f for n, f in zip(name, fes)}"
      ],
      "metadata": {
        "id": "K01wkk5Hp0gi"
      },
      "execution_count": null,
      "outputs": []
    },
    {
      "cell_type": "code",
      "source": [
        "for i in zip(name, fes):\n",
        "    print(i)"
      ],
      "metadata": {
        "colab": {
          "base_uri": "https://localhost:8080/"
        },
        "id": "yyfoBxgmqGKu",
        "outputId": "16ddaec8-324b-48e6-9f12-c924ea0035e2"
      },
      "execution_count": null,
      "outputs": [
        {
          "output_type": "stream",
          "name": "stdout",
          "text": [
            "('토미', 'OT')\n",
            "('지미', 'CONCERT')\n",
            "('낸시', 'MT')\n",
            "('불독', 'PLAY')\n"
          ]
        }
      ]
    },
    {
      "cell_type": "code",
      "source": [
        "def random_fes(name, fes):\n",
        "    random.shuffle(fes)\n",
        "    return {n: f for n, f in zip(name, fes)}"
      ],
      "metadata": {
        "id": "GJZj5JM7qRgA"
      },
      "execution_count": null,
      "outputs": []
    },
    {
      "cell_type": "code",
      "source": [
        "random_fes(name, fes)"
      ],
      "metadata": {
        "colab": {
          "base_uri": "https://localhost:8080/"
        },
        "id": "5JHnaYjiqn4P",
        "outputId": "283d184b-dfc5-441a-f4c9-0b92c19852f6"
      },
      "execution_count": null,
      "outputs": [
        {
          "output_type": "execute_result",
          "data": {
            "text/plain": [
              "{'토미': 'PLAY', '지미': 'CONCERT', '낸시': 'MT', '불독': 'OT'}"
            ]
          },
          "metadata": {},
          "execution_count": 53
        }
      ]
    },
    {
      "cell_type": "code",
      "source": [
        "random.shuffle(fes)\n",
        "print(fes)"
      ],
      "metadata": {
        "colab": {
          "base_uri": "https://localhost:8080/"
        },
        "id": "0JJu44sxqqr4",
        "outputId": "0990aee1-264c-412f-ffc3-e8cc1fb18187"
      },
      "execution_count": null,
      "outputs": [
        {
          "output_type": "stream",
          "name": "stdout",
          "text": [
            "['CONCERT', 'PLAY', 'OT', 'MT']\n"
          ]
        }
      ]
    },
    {
      "cell_type": "code",
      "source": [
        "fes"
      ],
      "metadata": {
        "colab": {
          "base_uri": "https://localhost:8080/"
        },
        "id": "0zy9he6dquBN",
        "outputId": "3617b047-362c-4067-c622-f20afdc6bb23"
      },
      "execution_count": null,
      "outputs": [
        {
          "output_type": "execute_result",
          "data": {
            "text/plain": [
              "['OT', 'MT', 'PLAY', 'CONCERT']"
            ]
          },
          "metadata": {},
          "execution_count": 55
        }
      ]
    },
    {
      "cell_type": "code",
      "source": [
        "random.sample(fes, 2)"
      ],
      "metadata": {
        "colab": {
          "base_uri": "https://localhost:8080/"
        },
        "id": "LU2EmBzgqvUm",
        "outputId": "75dce6b4-0aa7-4073-a8ba-5da71d0dfec7"
      },
      "execution_count": null,
      "outputs": [
        {
          "output_type": "execute_result",
          "data": {
            "text/plain": [
              "['MT', 'OT']"
            ]
          },
          "metadata": {},
          "execution_count": 62
        }
      ]
    },
    {
      "cell_type": "code",
      "source": [
        "random.choice(fes)"
      ],
      "metadata": {
        "colab": {
          "base_uri": "https://localhost:8080/",
          "height": 36
        },
        "id": "pgTpBho1rF2d",
        "outputId": "a851b45b-f3dd-4140-ecf1-8bf0bbb5d4dc"
      },
      "execution_count": null,
      "outputs": [
        {
          "output_type": "execute_result",
          "data": {
            "text/plain": [
              "'OT'"
            ],
            "application/vnd.google.colaboratory.intrinsic+json": {
              "type": "string"
            }
          },
          "metadata": {},
          "execution_count": 63
        }
      ]
    },
    {
      "cell_type": "code",
      "source": [
        "random.shuffle(fes)"
      ],
      "metadata": {
        "id": "H2oJFtJTrK5D"
      },
      "execution_count": null,
      "outputs": []
    },
    {
      "cell_type": "code",
      "source": [
        "fes"
      ],
      "metadata": {
        "colab": {
          "base_uri": "https://localhost:8080/"
        },
        "id": "3o4XA1_0rOYQ",
        "outputId": "95f48265-68b0-423e-92e6-ad151dbae93a"
      },
      "execution_count": null,
      "outputs": [
        {
          "output_type": "execute_result",
          "data": {
            "text/plain": [
              "['OT', 'PLAY', 'CONCERT', 'MT']"
            ]
          },
          "metadata": {},
          "execution_count": 65
        }
      ]
    },
    {
      "cell_type": "code",
      "source": [
        "for i in range(10):\n",
        "    print(random.randint(1, 6))"
      ],
      "metadata": {
        "colab": {
          "base_uri": "https://localhost:8080/"
        },
        "id": "XlMBagCsrPGX",
        "outputId": "82c344ca-4680-4a41-c51d-ddaaeecc1f10"
      },
      "execution_count": null,
      "outputs": [
        {
          "output_type": "stream",
          "name": "stdout",
          "text": [
            "4\n",
            "4\n",
            "1\n",
            "2\n",
            "3\n",
            "1\n",
            "6\n",
            "4\n",
            "2\n",
            "1\n"
          ]
        }
      ]
    },
    {
      "cell_type": "code",
      "source": [
        "for i in range(10):\n",
        "    print(random.randrange(1,7))"
      ],
      "metadata": {
        "colab": {
          "base_uri": "https://localhost:8080/"
        },
        "id": "ZM4ae4FbrTGq",
        "outputId": "f1e0dc0c-0703-454e-9070-2e6106186134"
      },
      "execution_count": null,
      "outputs": [
        {
          "output_type": "stream",
          "name": "stdout",
          "text": [
            "4\n",
            "3\n",
            "3\n",
            "4\n",
            "3\n",
            "3\n",
            "4\n",
            "1\n",
            "3\n",
            "6\n"
          ]
        }
      ]
    },
    {
      "cell_type": "code",
      "source": [
        "numb = [11, 15, 2, 7]"
      ],
      "metadata": {
        "id": "m8QnaTpZrhaP"
      },
      "execution_count": null,
      "outputs": []
    },
    {
      "cell_type": "code",
      "source": [
        "target = 9"
      ],
      "metadata": {
        "id": "sibUcp95sUil"
      },
      "execution_count": null,
      "outputs": []
    },
    {
      "cell_type": "markdown",
      "source": [
        "numb 리스트의 원소끼리 더해서 9가 되는 경우의 인덱스 번호를 구하시오."
      ],
      "metadata": {
        "id": "hO_FdGmRsZwx"
      }
    },
    {
      "cell_type": "code",
      "source": [
        "def sums(numb, target):\n",
        "    for i_idx, i in enumerate(numb):\n",
        "        for j_idx, j in enumerate(numb):\n",
        "            if i + j == target:\n",
        "                return i_idx, j_idx"
      ],
      "metadata": {
        "id": "Tg33nXuDX9Uf"
      },
      "execution_count": null,
      "outputs": []
    },
    {
      "cell_type": "code",
      "source": [
        "sums(numb, target)"
      ],
      "metadata": {
        "colab": {
          "base_uri": "https://localhost:8080/"
        },
        "id": "DOWAFcOEYLuc",
        "outputId": "bb4da360-128e-4b83-eb6a-b906b0922b3b"
      },
      "execution_count": null,
      "outputs": [
        {
          "output_type": "execute_result",
          "data": {
            "text/plain": [
              "(2, 3)"
            ]
          },
          "metadata": {},
          "execution_count": 75
        }
      ]
    },
    {
      "cell_type": "markdown",
      "source": [
        "11 + (15, 2, 7)\n",
        "\n",
        "15 + (11, 2, 7)\n"
      ],
      "metadata": {
        "id": "2eq5PiXhYYMw"
      }
    },
    {
      "cell_type": "code",
      "source": [
        "def targetIndex(numb,target):\n",
        "    for i,j in enumerate(numb):\n",
        "        a=target -j\n",
        "        if a in numb: # n 의 시간\n",
        "            return numb.index(i),numb.index(a)"
      ],
      "metadata": {
        "id": "WenH2eODYOrz"
      },
      "execution_count": null,
      "outputs": []
    },
    {
      "cell_type": "code",
      "source": [
        "targetIndex(numb, target)"
      ],
      "metadata": {
        "colab": {
          "base_uri": "https://localhost:8080/"
        },
        "id": "m_GfkqF-Yqjy",
        "outputId": "c88ab71a-fe88-4f80-b82c-1849b5c7ce15"
      },
      "execution_count": null,
      "outputs": [
        {
          "output_type": "execute_result",
          "data": {
            "text/plain": [
              "(2, 3)"
            ]
          },
          "metadata": {},
          "execution_count": 77
        }
      ]
    },
    {
      "cell_type": "markdown",
      "source": [
        "numb 리스트의 개수가 n 개라면\n",
        "n*n\n",
        "\n"
      ],
      "metadata": {
        "id": "qrMukz7uZLNU"
      }
    },
    {
      "cell_type": "code",
      "source": [
        "def find_indexes(nums, target):\n",
        "    num_dict = {}\n",
        "    for i, num in enumerate(nums):\n",
        "        diff = target - num\n",
        "        if diff in num_dict:\n",
        "            return [num_dict[diff], i]\n",
        "        num_dict[num] = i\n",
        "    return []"
      ],
      "metadata": {
        "id": "Z4ogSN6IYv3X"
      },
      "execution_count": null,
      "outputs": []
    },
    {
      "cell_type": "code",
      "source": [
        "find_indexes(numb, target)"
      ],
      "metadata": {
        "colab": {
          "base_uri": "https://localhost:8080/"
        },
        "id": "_9d1pgXHZczH",
        "outputId": "8d6f702c-1c17-412d-c53a-3b18ffa683c8"
      },
      "execution_count": null,
      "outputs": [
        {
          "output_type": "execute_result",
          "data": {
            "text/plain": [
              "[2, 3]"
            ]
          },
          "metadata": {},
          "execution_count": 80
        }
      ]
    },
    {
      "cell_type": "markdown",
      "source": [
        "mysum(1, 2, 3) --> 6\n",
        "\n",
        "mysum(1, 3) --> 4\n",
        "\n",
        "mysum(1, 5, 1, 1, 1) -> 9"
      ],
      "metadata": {
        "id": "xIWq6s7rbtmD"
      }
    },
    {
      "cell_type": "code",
      "source": [
        "def mysum(*args):\n",
        "    total = 0\n",
        "    for i in args:\n",
        "        total += i\n",
        "    return total"
      ],
      "metadata": {
        "id": "q-2Sj2XPabp8"
      },
      "execution_count": null,
      "outputs": []
    },
    {
      "cell_type": "code",
      "source": [
        "mysum(1, 2, 3, 4)"
      ],
      "metadata": {
        "colab": {
          "base_uri": "https://localhost:8080/"
        },
        "id": "36HLKet1cnjA",
        "outputId": "1db1af22-6f46-4673-fc1a-b8d913d86b1c"
      },
      "execution_count": null,
      "outputs": [
        {
          "output_type": "execute_result",
          "data": {
            "text/plain": [
              "10"
            ]
          },
          "metadata": {},
          "execution_count": 83
        }
      ]
    },
    {
      "cell_type": "code",
      "source": [
        "def mysum(*arg):\n",
        "    return sum(arg)"
      ],
      "metadata": {
        "id": "eX0WoThYcqxJ"
      },
      "execution_count": null,
      "outputs": []
    },
    {
      "cell_type": "code",
      "source": [
        "mysum(12, 12, 12)"
      ],
      "metadata": {
        "colab": {
          "base_uri": "https://localhost:8080/"
        },
        "id": "0qjqogWfcufY",
        "outputId": "47375e2d-9a48-4968-8291-07752f36f55b"
      },
      "execution_count": null,
      "outputs": [
        {
          "output_type": "execute_result",
          "data": {
            "text/plain": [
              "36"
            ]
          },
          "metadata": {},
          "execution_count": 85
        }
      ]
    },
    {
      "cell_type": "markdown",
      "source": [
        "자본금 : 10 만원\n",
        "\n",
        "목표 : 20 만원\n",
        "\n",
        "베팅 : 1 만원\n",
        "\n",
        "\n",
        "전체 실행횟수 : 1000\n",
        "\n",
        "승패 확률 : 50 %\n",
        "\n",
        "이기면 1만원을 획득, 지면 1만원을 손실"
      ],
      "metadata": {
        "id": "3UQEjyffc4u1"
      }
    },
    {
      "cell_type": "code",
      "source": [
        "random.randrange(0, 2)"
      ],
      "metadata": {
        "colab": {
          "base_uri": "https://localhost:8080/"
        },
        "id": "HU8T2bUUcwNU",
        "outputId": "767b84df-95d6-40a1-9328-6f06d8cfa830"
      },
      "execution_count": null,
      "outputs": [
        {
          "output_type": "execute_result",
          "data": {
            "text/plain": [
              "0"
            ]
          },
          "metadata": {},
          "execution_count": 99
        }
      ]
    },
    {
      "cell_type": "code",
      "source": [
        "def gambling(money, goal, bet, trial):\n",
        "    success = 0\n",
        "\n",
        "    for _ in range(trial):\n",
        "        current_money = money\n",
        "        while current_money > 0 and current_money < goal:\n",
        "            bet += 1\n",
        "            result = random.randrange(0, 2)\n",
        "            if result == 0:\n",
        "                current_money -= 1\n",
        "            else:\n",
        "                current_money += 1\n",
        "\n",
        "        if current_money >= goal:\n",
        "            success += 1\n",
        "\n",
        "    success_percent = success / trial\n",
        "    total_bet = bet // trial\n",
        "\n",
        "    return success_percent, total_bet"
      ],
      "metadata": {
        "id": "zEh08Or7dth0"
      },
      "execution_count": null,
      "outputs": []
    },
    {
      "cell_type": "code",
      "source": [
        "money = 50\n",
        "goal = 250\n",
        "bet = 1\n",
        "trial = 1000"
      ],
      "metadata": {
        "id": "9HXzUm6VhNsX"
      },
      "execution_count": null,
      "outputs": []
    },
    {
      "cell_type": "code",
      "source": [
        "gambling(money, goal, bet, trial)"
      ],
      "metadata": {
        "colab": {
          "base_uri": "https://localhost:8080/"
        },
        "id": "OUp8UFmohUW2",
        "outputId": "2d51587b-0d36-4824-d8f4-17802315980f"
      },
      "execution_count": null,
      "outputs": [
        {
          "output_type": "execute_result",
          "data": {
            "text/plain": [
              "(0.23, 10489)"
            ]
          },
          "metadata": {},
          "execution_count": 109
        }
      ]
    },
    {
      "cell_type": "code",
      "source": [],
      "metadata": {
        "id": "dR7hXnI2hZAZ"
      },
      "execution_count": null,
      "outputs": []
    },
    {
      "cell_type": "markdown",
      "source": [
        "***\n",
        "***\n",
        "# 1. 파일 입출력\n",
        "***\n",
        "***\n",
        "- 파일을 열어서 읽고, 쓰고, 덧붙이는 방법\n",
        "  - open(filename, mode) 내장 함수로 filename 이름을 지닌 file 객체를 얻는다.\n",
        "  - 얻어진 파일 객체에서 자료를 읽거나, 쓰거나, 덧붙이는 작업 수행\n",
        "  - 모든 작업이 끝나면 close()를 호출하여 작업 프로세스의 자원 점유 해제"
      ],
      "metadata": {
        "id": "1Le_ii3R6LWj"
      }
    },
    {
      "cell_type": "code",
      "source": [
        "%%writefile test_module.py\n",
        "def gambling(money, goal, bet, trial):\n",
        "    success = 0\n",
        "\n",
        "    for _ in range(trial):\n",
        "        current_money = money\n",
        "        while current_money > 0 and current_money < goal:\n",
        "            bet += 1\n",
        "            result = random.randrange(0, 2)\n",
        "            if result == 0:\n",
        "                current_money -= 1\n",
        "            else:\n",
        "                current_money += 1\n",
        "\n",
        "        if current_money >= goal:\n",
        "            success += 1\n",
        "\n",
        "    success_percent = success / trial\n",
        "    total_bet = bet // trial\n",
        "\n",
        "    return success_percent, total_bet"
      ],
      "metadata": {
        "colab": {
          "base_uri": "https://localhost:8080/"
        },
        "id": "n5okoAZ6lvke",
        "outputId": "912f763e-573d-47cd-b3ea-846128e8ca63"
      },
      "execution_count": null,
      "outputs": [
        {
          "output_type": "stream",
          "name": "stdout",
          "text": [
            "Writing test_module.py\n"
          ]
        }
      ]
    },
    {
      "cell_type": "code",
      "source": [
        "ls"
      ],
      "metadata": {
        "colab": {
          "base_uri": "https://localhost:8080/"
        },
        "id": "eKS1OjCTl4Np",
        "outputId": "bd6784a9-54f0-4a08-b820-965c213fa14f"
      },
      "execution_count": null,
      "outputs": [
        {
          "output_type": "stream",
          "name": "stdout",
          "text": [
            "\u001b[0m\u001b[01;34msample_data\u001b[0m/  test_module.py\n"
          ]
        }
      ]
    },
    {
      "cell_type": "code",
      "source": [
        "more test_module.py"
      ],
      "metadata": {
        "id": "oMa_CKjQl7vZ"
      },
      "execution_count": null,
      "outputs": []
    },
    {
      "cell_type": "code",
      "source": [
        "file_name = 'test_module.py'"
      ],
      "metadata": {
        "id": "hsXV8WfOmB43"
      },
      "execution_count": null,
      "outputs": []
    },
    {
      "cell_type": "code",
      "source": [
        "f = open(file_name)"
      ],
      "metadata": {
        "id": "X7IWSjyjmKzP"
      },
      "execution_count": null,
      "outputs": []
    },
    {
      "cell_type": "code",
      "source": [
        "f"
      ],
      "metadata": {
        "colab": {
          "base_uri": "https://localhost:8080/"
        },
        "id": "_TYs1-qrmSBP",
        "outputId": "7cc545d3-20d6-4382-afdb-8b5c21315ec2"
      },
      "execution_count": null,
      "outputs": [
        {
          "output_type": "execute_result",
          "data": {
            "text/plain": [
              "<_io.TextIOWrapper name='test_module.py' mode='r' encoding='UTF-8'>"
            ]
          },
          "metadata": {},
          "execution_count": 115
        }
      ]
    },
    {
      "cell_type": "code",
      "source": [
        "sentence = f.read()"
      ],
      "metadata": {
        "id": "xsGDgPx8mTAL"
      },
      "execution_count": null,
      "outputs": []
    },
    {
      "cell_type": "code",
      "source": [
        "sentence"
      ],
      "metadata": {
        "colab": {
          "base_uri": "https://localhost:8080/",
          "height": 122
        },
        "id": "LGT97wGamqAd",
        "outputId": "c255a0ea-9f15-43bb-b9b1-e7a601798181"
      },
      "execution_count": null,
      "outputs": [
        {
          "output_type": "execute_result",
          "data": {
            "text/plain": [
              "'def gambling(money, goal, bet, trial):\\n    success = 0\\n\\n    for _ in range(trial):\\n        current_money = money\\n        while current_money > 0 and current_money < goal:\\n            bet += 1\\n            result = random.randrange(0, 2)\\n            if result == 0:\\n                current_money -= 1\\n            else:\\n                current_money += 1\\n\\n        if current_money >= goal:\\n            success += 1\\n\\n    success_percent = success / trial\\n    total_bet = bet // trial\\n    \\n    return success_percent, total_bet\\n'"
            ],
            "application/vnd.google.colaboratory.intrinsic+json": {
              "type": "string"
            }
          },
          "metadata": {},
          "execution_count": 118
        }
      ]
    },
    {
      "cell_type": "code",
      "source": [
        "print(sentence)"
      ],
      "metadata": {
        "colab": {
          "base_uri": "https://localhost:8080/"
        },
        "id": "t8_ReiH0m5L-",
        "outputId": "b9094656-0556-45f8-96d9-e04fc52da6cd"
      },
      "execution_count": null,
      "outputs": [
        {
          "output_type": "stream",
          "name": "stdout",
          "text": [
            "def gambling(money, goal, bet, trial):\n",
            "    success = 0\n",
            "\n",
            "    for _ in range(trial):\n",
            "        current_money = money\n",
            "        while current_money > 0 and current_money < goal:\n",
            "            bet += 1\n",
            "            result = random.randrange(0, 2)\n",
            "            if result == 0:\n",
            "                current_money -= 1\n",
            "            else:\n",
            "                current_money += 1\n",
            "\n",
            "        if current_money >= goal:\n",
            "            success += 1\n",
            "\n",
            "    success_percent = success / trial\n",
            "    total_bet = bet // trial\n",
            "    \n",
            "    return success_percent, total_bet\n",
            "\n"
          ]
        }
      ]
    },
    {
      "cell_type": "code",
      "source": [
        "f.close()"
      ],
      "metadata": {
        "id": "bKmX_iZlm_Zg"
      },
      "execution_count": null,
      "outputs": []
    },
    {
      "cell_type": "code",
      "source": [
        "f = open(file_name)"
      ],
      "metadata": {
        "id": "MPLaBHiSoZZ1"
      },
      "execution_count": null,
      "outputs": []
    },
    {
      "cell_type": "code",
      "source": [
        "f.read()"
      ],
      "metadata": {
        "colab": {
          "base_uri": "https://localhost:8080/",
          "height": 122
        },
        "id": "hC3WM3pOn99N",
        "outputId": "90f1d770-0913-42ff-a3e5-a0c757b92823"
      },
      "execution_count": null,
      "outputs": [
        {
          "output_type": "execute_result",
          "data": {
            "text/plain": [
              "'def gambling(money, goal, bet, trial):\\n    success = 0\\n\\n    for _ in range(trial):\\n        current_money = money\\n        while current_money > 0 and current_money < goal:\\n            bet += 1\\n            result = random.randrange(0, 2)\\n            if result == 0:\\n                current_money -= 1\\n            else:\\n                current_money += 1\\n\\n        if current_money >= goal:\\n            success += 1\\n\\n    success_percent = success / trial\\n    total_bet = bet // trial\\n    \\n    return success_percent, total_bet\\n'"
            ],
            "application/vnd.google.colaboratory.intrinsic+json": {
              "type": "string"
            }
          },
          "metadata": {},
          "execution_count": 136
        }
      ]
    },
    {
      "cell_type": "code",
      "source": [],
      "metadata": {
        "id": "7cug0M7nn_UW"
      },
      "execution_count": null,
      "outputs": []
    },
    {
      "cell_type": "markdown",
      "source": [
        "### 1-1 파일 처리 모드의 종류\n",
        "- open 내장 함수의 두번째 인자 mode 설명\n",
        "  - 두번째 인자 mode 생략시에는 읽기 전용(r) 모드로 설정\n",
        "\n",
        "|  Mode  |          간단 설명        |    자세한 설명\n",
        "|--------|-----------------------------|------------|\n",
        "|  'r'   |          읽기 전용 (기본 모드)     | 파일 객체를 읽기 모드로 생성하고, 파일 포인터를 파일 처음 위치에 놓는다.|\n",
        "|  'w'   |          쓰기 전용        | 새로운 파일을 쓰기 모드로 생성하거나 해당 파일이 이미 존재하면 내용을 모두 없에면서 쓰기 모드로 생성하고, 파일 포인터를 파일 처음 위치에 놓는다. |\n",
        "|  'a'   |      파일 끝에 추가  | 이미 존재하는 파일을 쓰기 모드로 생성하거나 파일이 존재하지 않으면 새롭게 파일을 생성하면서 쓰기 모드로 생성하고,\n",
        "\n",
        "파일 포인터를 파일의 마지막 위치에 놓는다. 따라서, 이후 작성되는 내용은 파일의 뒷 부분에 추가된다.|\n",
        "\n",
        "  - 이진 파일로 저장을 위해서는 아래 모드 사용\n",
        "\n",
        "|  Mode  |          간단 설명        |\n",
        "|--------|-----------------------------|\n",
        "|  'rb'  |      이진 파일 읽기 전용 |\n",
        "|  'wb'  |      이진 파일 쓰기 전용 |\n",
        "|  'ab'  |      이진 파일 끝에 추가 |"
      ],
      "metadata": {
        "id": "cJh7K30h8M4H"
      }
    },
    {
      "cell_type": "code",
      "source": [],
      "metadata": {
        "id": "CPmiQNDMo-XQ"
      },
      "execution_count": null,
      "outputs": []
    },
    {
      "cell_type": "code",
      "source": [
        "f = open(file_name)"
      ],
      "metadata": {
        "id": "gJ6EiCcoo-oh"
      },
      "execution_count": null,
      "outputs": []
    },
    {
      "cell_type": "code",
      "source": [
        "f.read()"
      ],
      "metadata": {
        "colab": {
          "base_uri": "https://localhost:8080/",
          "height": 122
        },
        "outputId": "3467e09b-291f-4380-d41d-898c80e5fe56",
        "id": "0Bj4OhRao-oi"
      },
      "execution_count": null,
      "outputs": [
        {
          "output_type": "execute_result",
          "data": {
            "text/plain": [
              "'def gambling(money, goal, bet, trial):\\n    success = 0\\n\\n    for _ in range(trial):\\n        current_money = money\\n        while current_money > 0 and current_money < goal:\\n            bet += 1\\n            result = random.randrange(0, 2)\\n            if result == 0:\\n                current_money -= 1\\n            else:\\n                current_money += 1\\n\\n        if current_money >= goal:\\n            success += 1\\n\\n    success_percent = success / trial\\n    total_bet = bet // trial\\n    \\n    return success_percent, total_bet\\n'"
            ],
            "application/vnd.google.colaboratory.intrinsic+json": {
              "type": "string"
            }
          },
          "metadata": {},
          "execution_count": 152
        }
      ]
    },
    {
      "cell_type": "code",
      "source": [
        "f.read()"
      ],
      "metadata": {
        "colab": {
          "base_uri": "https://localhost:8080/",
          "height": 36
        },
        "id": "EqWC6nt7pRJ4",
        "outputId": "2de742a2-2400-41eb-fb81-1ec1c072f6a2"
      },
      "execution_count": null,
      "outputs": [
        {
          "output_type": "execute_result",
          "data": {
            "text/plain": [
              "''"
            ],
            "application/vnd.google.colaboratory.intrinsic+json": {
              "type": "string"
            }
          },
          "metadata": {},
          "execution_count": 153
        }
      ]
    },
    {
      "cell_type": "code",
      "source": [
        "f.seek(0)"
      ],
      "metadata": {
        "colab": {
          "base_uri": "https://localhost:8080/"
        },
        "id": "ANvkWx89pWup",
        "outputId": "1cdc241c-05ab-4e4c-c64d-aed20bba093c"
      },
      "execution_count": null,
      "outputs": [
        {
          "output_type": "execute_result",
          "data": {
            "text/plain": [
              "0"
            ]
          },
          "metadata": {},
          "execution_count": 154
        }
      ]
    },
    {
      "cell_type": "code",
      "source": [
        "f.read()"
      ],
      "metadata": {
        "colab": {
          "base_uri": "https://localhost:8080/",
          "height": 122
        },
        "id": "kkb6uFrSpZgw",
        "outputId": "898eb60e-39b5-4b7c-cf3d-eb134baf27ba"
      },
      "execution_count": null,
      "outputs": [
        {
          "output_type": "execute_result",
          "data": {
            "text/plain": [
              "'def gambling(money, goal, bet, trial):\\n    success = 0\\n\\n    for _ in range(trial):\\n        current_money = money\\n        while current_money > 0 and current_money < goal:\\n            bet += 1\\n            result = random.randrange(0, 2)\\n            if result == 0:\\n                current_money -= 1\\n            else:\\n                current_money += 1\\n\\n        if current_money >= goal:\\n            success += 1\\n\\n    success_percent = success / trial\\n    total_bet = bet // trial\\n    \\n    return success_percent, total_bet\\n'"
            ],
            "application/vnd.google.colaboratory.intrinsic+json": {
              "type": "string"
            }
          },
          "metadata": {},
          "execution_count": 155
        }
      ]
    },
    {
      "cell_type": "code",
      "source": [
        "f.close()"
      ],
      "metadata": {
        "id": "gDigYEW3pCIM"
      },
      "execution_count": null,
      "outputs": []
    },
    {
      "cell_type": "code",
      "source": [
        "f = open('t.txt', 'w')"
      ],
      "metadata": {
        "id": "5OpxSEHg8NvR"
      },
      "execution_count": null,
      "outputs": []
    },
    {
      "cell_type": "code",
      "source": [
        "s = '''God, give me grace to accept with serenity\n",
        "the things that cannot be changed,\n",
        "Courage to change the things\n",
        "which should be changed,\n",
        "and the Wisdom to distinguish\n",
        "the one from the other.'''"
      ],
      "metadata": {
        "id": "3VaR-fORqOVw"
      },
      "execution_count": null,
      "outputs": []
    },
    {
      "cell_type": "code",
      "source": [
        "f.write(s)"
      ],
      "metadata": {
        "colab": {
          "base_uri": "https://localhost:8080/"
        },
        "id": "Iw69WnOxqqmM",
        "outputId": "74da84a1-3027-4e60-de47-29cedc208c69"
      },
      "execution_count": null,
      "outputs": [
        {
          "output_type": "execute_result",
          "data": {
            "text/plain": [
              "185"
            ]
          },
          "metadata": {},
          "execution_count": 158
        }
      ]
    },
    {
      "cell_type": "code",
      "source": [
        "len(s)"
      ],
      "metadata": {
        "colab": {
          "base_uri": "https://localhost:8080/"
        },
        "id": "jHMgtFj2q3J3",
        "outputId": "4aa6d781-24ee-4a6b-aca6-46d0bdf37b5c"
      },
      "execution_count": null,
      "outputs": [
        {
          "output_type": "execute_result",
          "data": {
            "text/plain": [
              "185"
            ]
          },
          "metadata": {},
          "execution_count": 159
        }
      ]
    },
    {
      "cell_type": "code",
      "source": [
        "f.close()"
      ],
      "metadata": {
        "id": "7dg-pYI8q6HY"
      },
      "execution_count": null,
      "outputs": []
    },
    {
      "cell_type": "code",
      "source": [
        "ls"
      ],
      "metadata": {
        "colab": {
          "base_uri": "https://localhost:8080/"
        },
        "id": "EDxJg7p9q8MN",
        "outputId": "4fd366b0-7b23-46a4-a0c3-db4bcac1c8f9"
      },
      "execution_count": null,
      "outputs": [
        {
          "output_type": "stream",
          "name": "stdout",
          "text": [
            "\u001b[0m\u001b[01;34msample_data\u001b[0m/  test_module.py  t.txt\n"
          ]
        }
      ]
    },
    {
      "cell_type": "code",
      "source": [
        "more t.txt"
      ],
      "metadata": {
        "id": "RJRN1tVlrCiu"
      },
      "execution_count": null,
      "outputs": []
    },
    {
      "cell_type": "markdown",
      "source": [
        "t.txt 파일을 열어서 변수 sentence 에 파일내용을 저장하고, '\\n' 을 삭제해주세요.."
      ],
      "metadata": {
        "id": "hPg_5rGirPw4"
      }
    },
    {
      "cell_type": "code",
      "source": [
        "f = open('t.txt')\n",
        "sentence = f.read()\n",
        "print(sentence.replace('\\n', ''))\n",
        "f.close()"
      ],
      "metadata": {
        "colab": {
          "base_uri": "https://localhost:8080/"
        },
        "id": "5anAYb61rE3A",
        "outputId": "6f5b74f3-e809-4bf9-ca39-afb780dcc95d"
      },
      "execution_count": null,
      "outputs": [
        {
          "output_type": "stream",
          "name": "stdout",
          "text": [
            "God, give me grace to accept with serenitythe things that cannot be changed,Courage to change the thingswhich should be changed,and the Wisdom to distinguishthe one from the other.\n"
          ]
        }
      ]
    },
    {
      "cell_type": "code",
      "source": [
        "f = open('t.txt')\n",
        "sentence = f.read()\n",
        "print(sentence)\n",
        "f.close()"
      ],
      "metadata": {
        "colab": {
          "base_uri": "https://localhost:8080/"
        },
        "id": "aeCfAPvdsFR9",
        "outputId": "64909b29-a314-44a2-9392-6751527e8c0d"
      },
      "execution_count": null,
      "outputs": [
        {
          "output_type": "stream",
          "name": "stdout",
          "text": [
            "God, give me grace to accept with serenity\n",
            "the things that cannot be changed,\n",
            "Courage to change the things\n",
            "which should be changed,\n",
            "and the Wisdom to distinguish\n",
            "the one from the other.\n"
          ]
        }
      ]
    },
    {
      "cell_type": "markdown",
      "source": [
        "with : 컨텍스트 관리자, 스위트가 끝나면 자동으로 파일 객체를 close() 해준다."
      ],
      "metadata": {
        "id": "HGYI007Isb8J"
      }
    },
    {
      "cell_type": "code",
      "source": [
        "file_name = 't.txt'"
      ],
      "metadata": {
        "id": "XMqKTIcTsq_8"
      },
      "execution_count": null,
      "outputs": []
    },
    {
      "cell_type": "code",
      "source": [
        "with open(file_name, 'r') as f: # f = open(file_name, 'r')\n",
        "    sentence = f.read()\n",
        "    print(sentence)"
      ],
      "metadata": {
        "colab": {
          "base_uri": "https://localhost:8080/"
        },
        "id": "2txulu0DsS9K",
        "outputId": "ef8617d8-9fd1-41b3-bd96-e5bdd9e5b2bd"
      },
      "execution_count": null,
      "outputs": [
        {
          "output_type": "stream",
          "name": "stdout",
          "text": [
            "God, give me grace to accept with serenity\n",
            "the things that cannot be changed,\n",
            "Courage to change the things\n",
            "which should be changed,\n",
            "and the Wisdom to distinguish\n",
            "the one from the other.\n"
          ]
        }
      ]
    },
    {
      "cell_type": "code",
      "source": [
        "with open(file_name, 'r') as f:\n",
        "    line = f.readline()\n",
        "    print(line)"
      ],
      "metadata": {
        "colab": {
          "base_uri": "https://localhost:8080/"
        },
        "id": "zER_WZVFsnvX",
        "outputId": "f5b62c58-c52a-445b-d8e8-bfbe2b633ec9"
      },
      "execution_count": null,
      "outputs": [
        {
          "output_type": "stream",
          "name": "stdout",
          "text": [
            "God, give me grace to accept with serenity\n",
            "\n"
          ]
        }
      ]
    },
    {
      "cell_type": "markdown",
      "source": [
        "함수는 readline() 만 사용해 주세요.\n",
        "readlines()는 사용하지 말아 주세요."
      ],
      "metadata": {
        "id": "Upy4AO3HtxvR"
      }
    },
    {
      "cell_type": "code",
      "source": [
        "with open(file_name, 'r') as f:\n",
        "    line = f.readline()\n",
        "    while line :\n",
        "        print(line, end='')\n",
        "        line = f.readline()"
      ],
      "metadata": {
        "colab": {
          "base_uri": "https://localhost:8080/"
        },
        "id": "dZQyGfLRtSjI",
        "outputId": "2316e9c7-c3dc-47ab-dd9a-681576dd644d"
      },
      "execution_count": null,
      "outputs": [
        {
          "output_type": "stream",
          "name": "stdout",
          "text": [
            "God, give me grace to accept with serenity\n",
            "the things that cannot be changed,\n",
            "Courage to change the things\n",
            "which should be changed,\n",
            "and the Wisdom to distinguish\n",
            "the one from the other."
          ]
        }
      ]
    },
    {
      "cell_type": "code",
      "source": [
        "with open(file_name, 'r') as f:\n",
        "    lines = f.readlines()"
      ],
      "metadata": {
        "id": "2rw93t7nvHAO"
      },
      "execution_count": null,
      "outputs": []
    },
    {
      "cell_type": "code",
      "source": [
        "lines"
      ],
      "metadata": {
        "colab": {
          "base_uri": "https://localhost:8080/"
        },
        "id": "2bfJWJoqwJ1n",
        "outputId": "1968f876-1862-45f2-ea71-ed51b843581d"
      },
      "execution_count": null,
      "outputs": [
        {
          "output_type": "execute_result",
          "data": {
            "text/plain": [
              "['God, give me grace to accept with serenity\\n',\n",
              " 'the things that cannot be changed,\\n',\n",
              " 'Courage to change the things\\n',\n",
              " 'which should be changed,\\n',\n",
              " 'and the Wisdom to distinguish\\n',\n",
              " 'the one from the other.']"
            ]
          },
          "metadata": {},
          "execution_count": 173
        }
      ]
    },
    {
      "cell_type": "code",
      "source": [
        "with open('text', 'w') as f:\n",
        "    for i in range(1, 14):\n",
        "        f.write(f'제{i}의아해가무섭다고그리오\\n')"
      ],
      "metadata": {
        "id": "SRXIc8L7wLBm"
      },
      "execution_count": null,
      "outputs": []
    },
    {
      "cell_type": "code",
      "source": [
        "ls"
      ],
      "metadata": {
        "colab": {
          "base_uri": "https://localhost:8080/"
        },
        "id": "dCUGzljlw6Nb",
        "outputId": "a9f94042-85c0-4843-8373-520035016ca5"
      },
      "execution_count": null,
      "outputs": [
        {
          "output_type": "stream",
          "name": "stdout",
          "text": [
            "\u001b[0m\u001b[01;34msample_data\u001b[0m/  test_module.py  text  t.txt\n"
          ]
        }
      ]
    },
    {
      "cell_type": "code",
      "source": [
        "more text"
      ],
      "metadata": {
        "id": "487avPosw7EA"
      },
      "execution_count": null,
      "outputs": []
    },
    {
      "cell_type": "code",
      "source": [
        "lines"
      ],
      "metadata": {
        "colab": {
          "base_uri": "https://localhost:8080/"
        },
        "id": "hY2bpWaDw88N",
        "outputId": "bb46e5b4-0c54-46fc-e7b3-21a5f82e0b31"
      },
      "execution_count": null,
      "outputs": [
        {
          "output_type": "execute_result",
          "data": {
            "text/plain": [
              "['God, give me grace to accept with serenity\\n',\n",
              " 'the things that cannot be changed,\\n',\n",
              " 'Courage to change the things\\n',\n",
              " 'which should be changed,\\n',\n",
              " 'and the Wisdom to distinguish\\n',\n",
              " 'the one from the other.']"
            ]
          },
          "metadata": {},
          "execution_count": 178
        }
      ]
    },
    {
      "cell_type": "code",
      "source": [
        "with open(\"test.txt\", 'w') as f:\n",
        "    f.writelines(lines)"
      ],
      "metadata": {
        "id": "d1DZxEGTzevB"
      },
      "execution_count": null,
      "outputs": []
    },
    {
      "cell_type": "code",
      "source": [
        "more test.txt"
      ],
      "metadata": {
        "id": "E-idaO1LznGb"
      },
      "execution_count": null,
      "outputs": []
    },
    {
      "cell_type": "code",
      "source": [
        "sample_list = list(range(4))"
      ],
      "metadata": {
        "id": "laEJVwUvz12n"
      },
      "execution_count": null,
      "outputs": []
    },
    {
      "cell_type": "code",
      "source": [
        "with open('test.txt', 'w') as f:\n",
        "    f.writelines(sample_list)"
      ],
      "metadata": {
        "colab": {
          "base_uri": "https://localhost:8080/",
          "height": 185
        },
        "id": "pypGr8PQzq6Z",
        "outputId": "eb98e83d-4a6e-4255-b08e-68921d0a7987"
      },
      "execution_count": null,
      "outputs": [
        {
          "output_type": "error",
          "ename": "TypeError",
          "evalue": "ignored",
          "traceback": [
            "\u001b[0;31m---------------------------------------------------------------------------\u001b[0m",
            "\u001b[0;31mTypeError\u001b[0m                                 Traceback (most recent call last)",
            "\u001b[0;32m<ipython-input-183-9ee45a1bfb95>\u001b[0m in \u001b[0;36m<cell line: 1>\u001b[0;34m()\u001b[0m\n\u001b[1;32m      1\u001b[0m \u001b[0;32mwith\u001b[0m \u001b[0mopen\u001b[0m\u001b[0;34m(\u001b[0m\u001b[0;34m'test.txt'\u001b[0m\u001b[0;34m,\u001b[0m \u001b[0;34m'w'\u001b[0m\u001b[0;34m)\u001b[0m \u001b[0;32mas\u001b[0m \u001b[0mf\u001b[0m\u001b[0;34m:\u001b[0m\u001b[0;34m\u001b[0m\u001b[0;34m\u001b[0m\u001b[0m\n\u001b[0;32m----> 2\u001b[0;31m     \u001b[0mf\u001b[0m\u001b[0;34m.\u001b[0m\u001b[0mwritelines\u001b[0m\u001b[0;34m(\u001b[0m\u001b[0msample_list\u001b[0m\u001b[0;34m)\u001b[0m\u001b[0;34m\u001b[0m\u001b[0;34m\u001b[0m\u001b[0m\n\u001b[0m",
            "\u001b[0;31mTypeError\u001b[0m: write() argument must be str, not int"
          ]
        }
      ]
    },
    {
      "cell_type": "code",
      "source": [
        "sample_list"
      ],
      "metadata": {
        "colab": {
          "base_uri": "https://localhost:8080/"
        },
        "id": "LyRbBIV602nr",
        "outputId": "a4df81f1-642a-4e21-e2f0-ed5e788bc78b"
      },
      "execution_count": null,
      "outputs": [
        {
          "output_type": "execute_result",
          "data": {
            "text/plain": [
              "[0, 1, 2, 3]"
            ]
          },
          "metadata": {},
          "execution_count": 186
        }
      ]
    },
    {
      "cell_type": "code",
      "source": [
        "import pickle"
      ],
      "metadata": {
        "id": "tN8uaVV90BeQ"
      },
      "execution_count": null,
      "outputs": []
    },
    {
      "cell_type": "code",
      "source": [
        "file_name = 'data.pickle'"
      ],
      "metadata": {
        "id": "ljRxpS_f0pAE"
      },
      "execution_count": null,
      "outputs": []
    },
    {
      "cell_type": "code",
      "source": [
        "with open(file_name, 'wb') as f:\n",
        "    pickle.dump(sample_list, f)"
      ],
      "metadata": {
        "id": "Eu4J1l2X0dWZ"
      },
      "execution_count": null,
      "outputs": []
    },
    {
      "cell_type": "code",
      "source": [
        "ls"
      ],
      "metadata": {
        "colab": {
          "base_uri": "https://localhost:8080/"
        },
        "id": "xHhzIQ2Q07uY",
        "outputId": "b784121f-fc9c-4531-8e73-ae8e7839cab7"
      },
      "execution_count": null,
      "outputs": [
        {
          "output_type": "stream",
          "name": "stdout",
          "text": [
            "data.pickle  \u001b[0m\u001b[01;34msample_data\u001b[0m/  test_module.py  test.txt  text  t.txt\n"
          ]
        }
      ]
    },
    {
      "cell_type": "code",
      "source": [
        "cat data.pickle"
      ],
      "metadata": {
        "colab": {
          "base_uri": "https://localhost:8080/"
        },
        "id": "Xz_-tBLE1ARG",
        "outputId": "6504786f-bd31-437f-d635-894893801e98"
      },
      "execution_count": null,
      "outputs": [
        {
          "output_type": "stream",
          "name": "stdout",
          "text": [
            "�\u0004�\r\u0000\u0000\u0000\u0000\u0000\u0000\u0000]�(K\u0000K\u0001K\u0002K\u0003e."
          ]
        }
      ]
    },
    {
      "cell_type": "code",
      "source": [
        "with open(file_name, 'rb') as f:\n",
        "    x = pickle.load(f)"
      ],
      "metadata": {
        "id": "WmDQyeXb1I3_"
      },
      "execution_count": null,
      "outputs": []
    },
    {
      "cell_type": "code",
      "source": [
        "x"
      ],
      "metadata": {
        "colab": {
          "base_uri": "https://localhost:8080/"
        },
        "id": "7BNAUN7J2D7Y",
        "outputId": "faa1ecd8-dd4b-406b-9db4-765c6ff037f5"
      },
      "execution_count": null,
      "outputs": [
        {
          "output_type": "execute_result",
          "data": {
            "text/plain": [
              "[0, 1, 2, 3]"
            ]
          },
          "metadata": {},
          "execution_count": 194
        }
      ]
    },
    {
      "cell_type": "code",
      "source": [
        "mydict = {'영화':['아바타', '기생충', '해리포터'], '리스트':sample_list, '연습장':'colab' }"
      ],
      "metadata": {
        "id": "XxtbGs7_2Eor"
      },
      "execution_count": null,
      "outputs": []
    },
    {
      "cell_type": "code",
      "source": [
        "mydict"
      ],
      "metadata": {
        "colab": {
          "base_uri": "https://localhost:8080/"
        },
        "id": "q5rBB2FA2nxH",
        "outputId": "8cba39f3-86e7-42b4-f710-38aba55e053d"
      },
      "execution_count": null,
      "outputs": [
        {
          "output_type": "execute_result",
          "data": {
            "text/plain": [
              "{'영화': ['아바타', '기생충', '해리포터'], '리스트': [0, 1, 2, 3], '연습장': 'colab'}"
            ]
          },
          "metadata": {},
          "execution_count": 196
        }
      ]
    },
    {
      "cell_type": "code",
      "source": [
        "mytuple = (1, 2, '에이지오브울트론', 'test')"
      ],
      "metadata": {
        "id": "QLGemu5b2pC2"
      },
      "execution_count": null,
      "outputs": []
    },
    {
      "cell_type": "code",
      "source": [
        "file_name"
      ],
      "metadata": {
        "colab": {
          "base_uri": "https://localhost:8080/",
          "height": 36
        },
        "id": "nlGkh0JU2ue5",
        "outputId": "6ca60c88-5e75-4a81-ef91-187436cc2060"
      },
      "execution_count": null,
      "outputs": [
        {
          "output_type": "execute_result",
          "data": {
            "text/plain": [
              "'data.pickle'"
            ],
            "application/vnd.google.colaboratory.intrinsic+json": {
              "type": "string"
            }
          },
          "metadata": {},
          "execution_count": 198
        }
      ]
    },
    {
      "cell_type": "code",
      "source": [
        "with open(file_name, 'wb') as f:\n",
        "    pickle.dump(mydict, f)\n",
        "    pickle.dump(mytuple, f)"
      ],
      "metadata": {
        "id": "LGmam1Kf27Su"
      },
      "execution_count": null,
      "outputs": []
    },
    {
      "cell_type": "code",
      "source": [
        "ls"
      ],
      "metadata": {
        "colab": {
          "base_uri": "https://localhost:8080/"
        },
        "id": "cQkRVnnv3MhN",
        "outputId": "772e7db1-c2bc-40fc-ea6c-9a5114bb0954"
      },
      "execution_count": null,
      "outputs": [
        {
          "output_type": "stream",
          "name": "stdout",
          "text": [
            "data.pickle  \u001b[0m\u001b[01;34msample_data\u001b[0m/  test_module.py  test.txt  text  t.txt\n"
          ]
        }
      ]
    },
    {
      "cell_type": "code",
      "source": [
        "ll"
      ],
      "metadata": {
        "colab": {
          "base_uri": "https://localhost:8080/"
        },
        "id": "Lkbev3XR3NvT",
        "outputId": "d1070a85-3400-4001-b58a-e4093af08009"
      },
      "execution_count": null,
      "outputs": [
        {
          "output_type": "stream",
          "name": "stdout",
          "text": [
            "total 20\n",
            "-rw-r--r-- 1 root  165 Jul 18 07:17 data.pickle\n",
            "drwxr-xr-x 1 root 4096 Jul 14 13:31 \u001b[0m\u001b[01;34msample_data\u001b[0m/\n",
            "-rw-r--r-- 1 root  523 Jul 18 06:02 test_module.py\n",
            "-rw-r--r-- 1 root    0 Jul 18 07:03 test.txt\n",
            "-rw-r--r-- 1 root  498 Jul 18 06:50 text\n",
            "-rw-r--r-- 1 root  185 Jul 18 06:24 t.txt\n"
          ]
        }
      ]
    },
    {
      "cell_type": "code",
      "source": [
        "cat data.pickle"
      ],
      "metadata": {
        "colab": {
          "base_uri": "https://localhost:8080/"
        },
        "id": "ZLE3OWhA3QIk",
        "outputId": "1abe549e-fd3a-46b7-cdda-f2238d3ba723"
      },
      "execution_count": null,
      "outputs": [
        {
          "output_type": "stream",
          "name": "stdout",
          "text": [
            "�\u0004�e\u0000\u0000\u0000\u0000\u0000\u0000\u0000}�(�\u0006영화�]�(�\t아바타��\t기생충��\f해리포터�e�\t리스트�]�(K\u0000K\u0001K\u0002K\u0003e�\t연습장��\u0005colab�u.�\u0004�*\u0000\u0000\u0000\u0000\u0000\u0000\u0000(K\u0001K\u0002�\u0018에이지오브울트론��\u0004test�t�."
          ]
        }
      ]
    },
    {
      "cell_type": "code",
      "source": [
        "with open(file_name, 'rb') as f:\n",
        "    x = pickle.load(f)\n",
        "    y = pickle.load(f)"
      ],
      "metadata": {
        "id": "uOwtlipi3qFU"
      },
      "execution_count": null,
      "outputs": []
    },
    {
      "cell_type": "code",
      "source": [
        "x"
      ],
      "metadata": {
        "colab": {
          "base_uri": "https://localhost:8080/"
        },
        "id": "2XdaGE7K4GrO",
        "outputId": "40f7886a-1b12-4676-cffc-3b16ffebd92f"
      },
      "execution_count": null,
      "outputs": [
        {
          "output_type": "execute_result",
          "data": {
            "text/plain": [
              "{'영화': ['아바타', '기생충', '해리포터'], '리스트': [0, 1, 2, 3], '연습장': 'colab'}"
            ]
          },
          "metadata": {},
          "execution_count": 207
        }
      ]
    },
    {
      "cell_type": "code",
      "source": [
        "y"
      ],
      "metadata": {
        "colab": {
          "base_uri": "https://localhost:8080/"
        },
        "id": "8hNF1c0R4HTp",
        "outputId": "4c3ee9e6-947f-4b1d-e038-c9b35b2ac603"
      },
      "execution_count": null,
      "outputs": [
        {
          "output_type": "execute_result",
          "data": {
            "text/plain": [
              "(1, 2, '에이지오브울트론', 'test')"
            ]
          },
          "metadata": {},
          "execution_count": 208
        }
      ]
    },
    {
      "cell_type": "code",
      "source": [
        "ls"
      ],
      "metadata": {
        "colab": {
          "base_uri": "https://localhost:8080/"
        },
        "id": "Up0nyJfr4Hxh",
        "outputId": "0c25ec34-ebd0-41b7-de8e-eccc9c1356e6"
      },
      "execution_count": null,
      "outputs": [
        {
          "output_type": "stream",
          "name": "stdout",
          "text": [
            "data.pickle  \u001b[0m\u001b[01;34msample_data\u001b[0m/  test_module.py  test.txt  text  t.txt\n"
          ]
        }
      ]
    },
    {
      "cell_type": "code",
      "source": [
        "cat test.txt"
      ],
      "metadata": {
        "id": "JzvaM8E_4ppF"
      },
      "execution_count": null,
      "outputs": []
    },
    {
      "cell_type": "code",
      "source": [
        "ll"
      ],
      "metadata": {
        "colab": {
          "base_uri": "https://localhost:8080/"
        },
        "id": "-DBykxW64rN4",
        "outputId": "91e82666-7e92-4723-f464-c5ea29e25e7a"
      },
      "execution_count": null,
      "outputs": [
        {
          "output_type": "stream",
          "name": "stdout",
          "text": [
            "total 20\n",
            "-rw-r--r-- 1 root  165 Jul 18 07:17 data.pickle\n",
            "drwxr-xr-x 1 root 4096 Jul 14 13:31 \u001b[0m\u001b[01;34msample_data\u001b[0m/\n",
            "-rw-r--r-- 1 root  523 Jul 18 06:02 test_module.py\n",
            "-rw-r--r-- 1 root    0 Jul 18 07:03 test.txt\n",
            "-rw-r--r-- 1 root  498 Jul 18 06:50 text\n",
            "-rw-r--r-- 1 root  185 Jul 18 06:24 t.txt\n"
          ]
        }
      ]
    },
    {
      "cell_type": "code",
      "source": [
        "rm test.txt"
      ],
      "metadata": {
        "id": "1QB-qR5A4tX_"
      },
      "execution_count": null,
      "outputs": []
    },
    {
      "cell_type": "code",
      "source": [
        "ll"
      ],
      "metadata": {
        "colab": {
          "base_uri": "https://localhost:8080/"
        },
        "id": "oL3XyP_J4vp6",
        "outputId": "b4e4bde3-a661-4a11-9711-0daf1305922a"
      },
      "execution_count": null,
      "outputs": [
        {
          "output_type": "stream",
          "name": "stdout",
          "text": [
            "total 20\n",
            "-rw-r--r-- 1 root  165 Jul 18 07:17 data.pickle\n",
            "drwxr-xr-x 1 root 4096 Jul 14 13:31 \u001b[0m\u001b[01;34msample_data\u001b[0m/\n",
            "-rw-r--r-- 1 root  523 Jul 18 06:02 test_module.py\n",
            "-rw-r--r-- 1 root  498 Jul 18 06:50 text\n",
            "-rw-r--r-- 1 root  185 Jul 18 06:24 t.txt\n"
          ]
        }
      ]
    },
    {
      "cell_type": "code",
      "source": [
        "cat test_module.py"
      ],
      "metadata": {
        "colab": {
          "base_uri": "https://localhost:8080/"
        },
        "id": "JRFhEoPR4xxk",
        "outputId": "4272f4f4-b7ca-4a16-c49d-106ff49398b1"
      },
      "execution_count": null,
      "outputs": [
        {
          "output_type": "stream",
          "name": "stdout",
          "text": [
            "def gambling(money, goal, bet, trial):\n",
            "    success = 0\n",
            "\n",
            "    for _ in range(trial):\n",
            "        current_money = money\n",
            "        while current_money > 0 and current_money < goal:\n",
            "            bet += 1\n",
            "            result = random.randrange(0, 2)\n",
            "            if result == 0:\n",
            "                current_money -= 1\n",
            "            else:\n",
            "                current_money += 1\n",
            "\n",
            "        if current_money >= goal:\n",
            "            success += 1\n",
            "\n",
            "    success_percent = success / trial\n",
            "    total_bet = bet // trial\n",
            "    \n",
            "    return success_percent, total_bet\n"
          ]
        }
      ]
    },
    {
      "cell_type": "code",
      "source": [
        "f = open('test_module.py')"
      ],
      "metadata": {
        "id": "HnJkgaMS41tT"
      },
      "execution_count": null,
      "outputs": []
    },
    {
      "cell_type": "code",
      "source": [
        "f.tell()"
      ],
      "metadata": {
        "colab": {
          "base_uri": "https://localhost:8080/"
        },
        "id": "Hoi_9IYo46Fu",
        "outputId": "fc92de3f-daf8-4b08-d2d1-0972612a8005"
      },
      "execution_count": null,
      "outputs": [
        {
          "output_type": "execute_result",
          "data": {
            "text/plain": [
              "0"
            ]
          },
          "metadata": {},
          "execution_count": 216
        }
      ]
    },
    {
      "cell_type": "code",
      "source": [
        "print(f.readline())"
      ],
      "metadata": {
        "colab": {
          "base_uri": "https://localhost:8080/"
        },
        "id": "Vn2vOJit4--O",
        "outputId": "c4ed7910-3418-4805-8af7-fe4bfb4d2dc8"
      },
      "execution_count": null,
      "outputs": [
        {
          "output_type": "stream",
          "name": "stdout",
          "text": [
            "def gambling(money, goal, bet, trial):\n",
            "\n"
          ]
        }
      ]
    },
    {
      "cell_type": "code",
      "source": [
        "f.tell()"
      ],
      "metadata": {
        "colab": {
          "base_uri": "https://localhost:8080/"
        },
        "id": "G4jF8kN35JgW",
        "outputId": "40f16d61-4db0-42f1-85fd-0b2c38e92d34"
      },
      "execution_count": null,
      "outputs": [
        {
          "output_type": "execute_result",
          "data": {
            "text/plain": [
              "39"
            ]
          },
          "metadata": {},
          "execution_count": 218
        }
      ]
    },
    {
      "cell_type": "code",
      "source": [
        "print(f.readline())"
      ],
      "metadata": {
        "colab": {
          "base_uri": "https://localhost:8080/"
        },
        "id": "CMHw1X7v5Ldg",
        "outputId": "c57deba5-a880-4282-d1a3-a57402fd7a8b"
      },
      "execution_count": null,
      "outputs": [
        {
          "output_type": "stream",
          "name": "stdout",
          "text": [
            "    success = 0\n",
            "\n"
          ]
        }
      ]
    },
    {
      "cell_type": "code",
      "source": [
        "f.tell()"
      ],
      "metadata": {
        "colab": {
          "base_uri": "https://localhost:8080/"
        },
        "id": "Gcemp1bF5RhP",
        "outputId": "f928d106-b96f-4273-f32f-19f6152a768f"
      },
      "execution_count": null,
      "outputs": [
        {
          "output_type": "execute_result",
          "data": {
            "text/plain": [
              "55"
            ]
          },
          "metadata": {},
          "execution_count": 220
        }
      ]
    },
    {
      "cell_type": "code",
      "source": [
        "f.seek(0)"
      ],
      "metadata": {
        "colab": {
          "base_uri": "https://localhost:8080/"
        },
        "id": "mJMjJL7R5T65",
        "outputId": "ead141a6-c200-4f2b-d464-216a27904723"
      },
      "execution_count": null,
      "outputs": [
        {
          "output_type": "execute_result",
          "data": {
            "text/plain": [
              "0"
            ]
          },
          "metadata": {},
          "execution_count": 221
        }
      ]
    },
    {
      "cell_type": "code",
      "source": [
        "print(f.readline())"
      ],
      "metadata": {
        "colab": {
          "base_uri": "https://localhost:8080/"
        },
        "id": "Nw7RueH55cCe",
        "outputId": "14916ad8-3c06-4e63-8f6d-77266f684020"
      },
      "execution_count": null,
      "outputs": [
        {
          "output_type": "stream",
          "name": "stdout",
          "text": [
            "def gambling(money, goal, bet, trial):\n",
            "\n"
          ]
        }
      ]
    },
    {
      "cell_type": "code",
      "source": [
        "f.tell()"
      ],
      "metadata": {
        "colab": {
          "base_uri": "https://localhost:8080/"
        },
        "id": "rAzf2RSd5eDJ",
        "outputId": "54de17e0-8764-4b46-ee55-4601023c04de"
      },
      "execution_count": null,
      "outputs": [
        {
          "output_type": "execute_result",
          "data": {
            "text/plain": [
              "39"
            ]
          },
          "metadata": {},
          "execution_count": 223
        }
      ]
    },
    {
      "cell_type": "code",
      "source": [
        "1.3432334"
      ],
      "metadata": {
        "colab": {
          "base_uri": "https://localhost:8080/"
        },
        "id": "QMFMoWwD5fkk",
        "outputId": "c3bc6281-aeae-4721-9f8e-a00e9f5e89d6"
      },
      "execution_count": null,
      "outputs": [
        {
          "output_type": "execute_result",
          "data": {
            "text/plain": [
              "1.3432334"
            ]
          },
          "metadata": {},
          "execution_count": 224
        }
      ]
    },
    {
      "cell_type": "code",
      "source": [
        "3.141592"
      ],
      "metadata": {
        "colab": {
          "base_uri": "https://localhost:8080/"
        },
        "id": "F6M0lNFL52XO",
        "outputId": "cdcba653-ffb7-4af8-ecaf-90899124cb42"
      },
      "execution_count": null,
      "outputs": [
        {
          "output_type": "execute_result",
          "data": {
            "text/plain": [
              "3.141592"
            ]
          },
          "metadata": {},
          "execution_count": 225
        }
      ]
    },
    {
      "cell_type": "code",
      "source": [
        "2.0"
      ],
      "metadata": {
        "colab": {
          "base_uri": "https://localhost:8080/"
        },
        "id": "2jRoB_Df53_P",
        "outputId": "dfee07f9-1970-4b83-c002-b1b41d2046cf"
      },
      "execution_count": null,
      "outputs": [
        {
          "output_type": "execute_result",
          "data": {
            "text/plain": [
              "2.0"
            ]
          },
          "metadata": {},
          "execution_count": 226
        }
      ]
    },
    {
      "cell_type": "code",
      "source": [
        "__import__('numpy')"
      ],
      "metadata": {
        "colab": {
          "base_uri": "https://localhost:8080/"
        },
        "id": "XYqcCpVc5_Al",
        "outputId": "1866f22b-8161-4e23-8157-8865420a792f"
      },
      "execution_count": null,
      "outputs": [
        {
          "output_type": "execute_result",
          "data": {
            "text/plain": [
              "<module 'numpy' from '/usr/local/lib/python3.10/dist-packages/numpy/__init__.py'>"
            ]
          },
          "metadata": {},
          "execution_count": 227
        }
      ]
    },
    {
      "cell_type": "code",
      "source": [
        "ls"
      ],
      "metadata": {
        "colab": {
          "base_uri": "https://localhost:8080/"
        },
        "id": "UOvP9itq6plX",
        "outputId": "a3eb5e94-0c59-4090-8888-064754ccc7e2"
      },
      "execution_count": null,
      "outputs": [
        {
          "output_type": "stream",
          "name": "stdout",
          "text": [
            "data.pickle  \u001b[0m\u001b[01;34msample_data\u001b[0m/  test_module.py  text  t.txt\n"
          ]
        }
      ]
    },
    {
      "cell_type": "code",
      "source": [
        "!touch client.py"
      ],
      "metadata": {
        "id": "6a1lo06z7Fos"
      },
      "execution_count": null,
      "outputs": []
    },
    {
      "cell_type": "code",
      "source": [
        "!touch python_module.py"
      ],
      "metadata": {
        "id": "S9j1L2wn7HWc"
      },
      "execution_count": null,
      "outputs": []
    },
    {
      "cell_type": "code",
      "source": [
        "ls"
      ],
      "metadata": {
        "colab": {
          "base_uri": "https://localhost:8080/"
        },
        "id": "hTAcOtEO7OXQ",
        "outputId": "e06f4d70-c768-4d68-b077-5d0887dbd52e"
      },
      "execution_count": null,
      "outputs": [
        {
          "output_type": "stream",
          "name": "stdout",
          "text": [
            "client.py    python_module.py  test_module.py  t.txt\n",
            "data.pickle  \u001b[0m\u001b[01;34msample_data\u001b[0m/      text\n"
          ]
        }
      ]
    },
    {
      "cell_type": "code",
      "source": [
        "ll"
      ],
      "metadata": {
        "colab": {
          "base_uri": "https://localhost:8080/"
        },
        "id": "KgRb9DFG7Pub",
        "outputId": "c6bcd5df-a97b-4d2b-b048-252be1321d15"
      },
      "execution_count": null,
      "outputs": [
        {
          "output_type": "stream",
          "name": "stdout",
          "text": [
            "total 20\n",
            "-rw-r--r-- 1 root    0 Jul 18 07:35 client.py\n",
            "-rw-r--r-- 1 root  165 Jul 18 07:17 data.pickle\n",
            "-rw-r--r-- 1 root    0 Jul 18 07:35 python_module.py\n",
            "drwxr-xr-x 1 root 4096 Jul 14 13:31 \u001b[0m\u001b[01;34msample_data\u001b[0m/\n",
            "-rw-r--r-- 1 root  523 Jul 18 06:02 test_module.py\n",
            "-rw-r--r-- 1 root  498 Jul 18 06:50 text\n",
            "-rw-r--r-- 1 root  185 Jul 18 06:24 t.txt\n"
          ]
        }
      ]
    },
    {
      "cell_type": "code",
      "source": [
        "mv python_module.py sample_data/"
      ],
      "metadata": {
        "id": "1gqTFXfg7YdG"
      },
      "execution_count": null,
      "outputs": []
    },
    {
      "cell_type": "code",
      "source": [
        "ll"
      ],
      "metadata": {
        "colab": {
          "base_uri": "https://localhost:8080/"
        },
        "id": "oj5nJ6IY7ovq",
        "outputId": "66202683-fe42-4bab-8a1f-3fb676d8f8f8"
      },
      "execution_count": null,
      "outputs": [
        {
          "output_type": "stream",
          "name": "stdout",
          "text": [
            "total 20\n",
            "-rw-r--r-- 1 root    0 Jul 18 07:35 client.py\n",
            "-rw-r--r-- 1 root  165 Jul 18 07:17 data.pickle\n",
            "drwxr-xr-x 1 root 4096 Jul 18 07:37 \u001b[0m\u001b[01;34msample_data\u001b[0m/\n",
            "-rw-r--r-- 1 root  523 Jul 18 06:02 test_module.py\n",
            "-rw-r--r-- 1 root  498 Jul 18 06:50 text\n",
            "-rw-r--r-- 1 root  185 Jul 18 06:24 t.txt\n"
          ]
        }
      ]
    },
    {
      "cell_type": "code",
      "source": [
        "ll sample_data/"
      ],
      "metadata": {
        "colab": {
          "base_uri": "https://localhost:8080/"
        },
        "id": "jn5iaLda7p4T",
        "outputId": "112bac4c-987f-486b-9f76-506f09d94ef4"
      },
      "execution_count": null,
      "outputs": [
        {
          "output_type": "stream",
          "name": "stdout",
          "text": [
            "total 55504\n",
            "-rwxr-xr-x 1 root     1697 Jan  1  2000 \u001b[0m\u001b[01;32manscombe.json\u001b[0m*\n",
            "-rw-r--r-- 1 root   301141 Jul 14 13:31 california_housing_test.csv\n",
            "-rw-r--r-- 1 root  1706430 Jul 14 13:31 california_housing_train.csv\n",
            "-rw-r--r-- 1 root 18289443 Jul 14 13:31 mnist_test.csv\n",
            "-rw-r--r-- 1 root 36523880 Jul 14 13:31 mnist_train_small.csv\n",
            "-rw-r--r-- 1 root        0 Jul 18 07:35 python_module.py\n",
            "-rwxr-xr-x 1 root      930 Jan  1  2000 \u001b[01;32mREADME.md\u001b[0m*\n"
          ]
        }
      ]
    },
    {
      "cell_type": "code",
      "source": [
        "!touch sample_data/__init__.py"
      ],
      "metadata": {
        "id": "T24CDHUS7slv"
      },
      "execution_count": null,
      "outputs": []
    },
    {
      "cell_type": "code",
      "source": [
        "ls"
      ],
      "metadata": {
        "colab": {
          "base_uri": "https://localhost:8080/"
        },
        "id": "Ip-nYXJG73x3",
        "outputId": "39c72a61-9932-4bdf-d48b-4176f37e3c70"
      },
      "execution_count": null,
      "outputs": [
        {
          "output_type": "stream",
          "name": "stdout",
          "text": [
            "client.py  data.pickle  \u001b[0m\u001b[01;34msample_data\u001b[0m/  test_module.py  text  t.txt\n"
          ]
        }
      ]
    },
    {
      "cell_type": "code",
      "source": [
        "ls sample_data/"
      ],
      "metadata": {
        "colab": {
          "base_uri": "https://localhost:8080/"
        },
        "id": "ou-QY1nx8AZH",
        "outputId": "e42581e8-13ba-45dd-b1b1-49f4c065d588"
      },
      "execution_count": null,
      "outputs": [
        {
          "output_type": "stream",
          "name": "stdout",
          "text": [
            "\u001b[0m\u001b[01;32manscombe.json\u001b[0m*                __init__.py            python_module.py\n",
            "california_housing_test.csv   mnist_test.csv         \u001b[01;32mREADME.md\u001b[0m*\n",
            "california_housing_train.csv  mnist_train_small.csv\n"
          ]
        }
      ]
    },
    {
      "cell_type": "code",
      "source": [
        "pwd"
      ],
      "metadata": {
        "colab": {
          "base_uri": "https://localhost:8080/",
          "height": 36
        },
        "id": "c5V0SZfQ8CpQ",
        "outputId": "94c87882-f17b-482f-df93-c3598c997916"
      },
      "execution_count": null,
      "outputs": [
        {
          "output_type": "execute_result",
          "data": {
            "text/plain": [
              "'/content'"
            ],
            "application/vnd.google.colaboratory.intrinsic+json": {
              "type": "string"
            }
          },
          "metadata": {},
          "execution_count": 243
        }
      ]
    },
    {
      "cell_type": "code",
      "source": [
        "__import__('numpy')"
      ],
      "metadata": {
        "colab": {
          "base_uri": "https://localhost:8080/"
        },
        "id": "ql6U9Z2d8Q7p",
        "outputId": "0b7c1fc8-d699-4fe6-c087-01e87b74975c"
      },
      "execution_count": null,
      "outputs": [
        {
          "output_type": "execute_result",
          "data": {
            "text/plain": [
              "<module 'numpy' from '/usr/local/lib/python3.10/dist-packages/numpy/__init__.py'>"
            ]
          },
          "metadata": {},
          "execution_count": 244
        }
      ]
    },
    {
      "cell_type": "code",
      "source": [
        "ls /usr/local/lib/python3.10/dist-packages/numpy/"
      ],
      "metadata": {
        "colab": {
          "base_uri": "https://localhost:8080/"
        },
        "id": "mTaTS4Sd8Vv8",
        "outputId": "5070738b-c0d4-48f3-d9e0-ffca64475de8"
      },
      "execution_count": null,
      "outputs": [
        {
          "output_type": "stream",
          "name": "stdout",
          "text": [
            "\u001b[0m\u001b[01;34marray_api\u001b[0m/            \u001b[01;34mfft\u001b[0m/                    \u001b[01;34mpolynomial\u001b[0m/\n",
            "\u001b[01;34mcompat\u001b[0m/               _globals.py             \u001b[01;34m__pycache__\u001b[0m/\n",
            "__config__.py         __init__.cython-30.pxd  _pytesttester.py\n",
            "conftest.py           __init__.pxd            _pytesttester.pyi\n",
            "\u001b[01;34mcore\u001b[0m/                 __init__.py             py.typed\n",
            "ctypeslib.py          __init__.pyi            \u001b[01;34mrandom\u001b[0m/\n",
            "ctypeslib.pyi         \u001b[01;34mlib\u001b[0m/                    setup.py\n",
            "_distributor_init.py  LICENSE.txt             \u001b[01;34mtesting\u001b[0m/\n",
            "\u001b[01;34mdistutils\u001b[0m/            \u001b[01;34mlinalg\u001b[0m/                 \u001b[01;34mtests\u001b[0m/\n",
            "\u001b[01;34mdoc\u001b[0m/                  \u001b[01;34mma\u001b[0m/                     \u001b[01;34mtyping\u001b[0m/\n",
            "dual.py               matlib.py               _version.py\n",
            "\u001b[01;34mf2py\u001b[0m/                 \u001b[01;34mmatrixlib\u001b[0m/              version.py\n"
          ]
        }
      ]
    },
    {
      "cell_type": "code",
      "source": [
        "import sys"
      ],
      "metadata": {
        "id": "hgjwb7Zv8aSJ"
      },
      "execution_count": null,
      "outputs": []
    },
    {
      "cell_type": "code",
      "source": [
        "sys.path"
      ],
      "metadata": {
        "colab": {
          "base_uri": "https://localhost:8080/"
        },
        "id": "0QQVUMe69ATX",
        "outputId": "572c5565-c59d-406d-cb23-df10ef088b20"
      },
      "execution_count": null,
      "outputs": [
        {
          "output_type": "execute_result",
          "data": {
            "text/plain": [
              "['/content',\n",
              " '/env/python',\n",
              " '/usr/lib/python310.zip',\n",
              " '/usr/lib/python3.10',\n",
              " '/usr/lib/python3.10/lib-dynload',\n",
              " '',\n",
              " '/usr/local/lib/python3.10/dist-packages',\n",
              " '/usr/lib/python3/dist-packages',\n",
              " '/usr/local/lib/python3.10/dist-packages/IPython/extensions',\n",
              " '/root/.ipython']"
            ]
          },
          "metadata": {},
          "execution_count": 247
        }
      ]
    },
    {
      "cell_type": "code",
      "source": [
        "ls sample_data/"
      ],
      "metadata": {
        "colab": {
          "base_uri": "https://localhost:8080/"
        },
        "id": "ITit0Zzd9CH6",
        "outputId": "f9eb3dcd-5922-474d-da5c-61daa516d3c8"
      },
      "execution_count": null,
      "outputs": [
        {
          "output_type": "stream",
          "name": "stdout",
          "text": [
            "\u001b[0m\u001b[01;32manscombe.json\u001b[0m*                __init__.py            python_module.py\n",
            "california_housing_test.csv   mnist_test.csv         \u001b[01;32mREADME.md\u001b[0m*\n",
            "california_housing_train.csv  mnist_train_small.csv\n"
          ]
        }
      ]
    },
    {
      "cell_type": "code",
      "source": [
        "pwd"
      ],
      "metadata": {
        "colab": {
          "base_uri": "https://localhost:8080/",
          "height": 36
        },
        "id": "b82_qxHk9Zgr",
        "outputId": "2c4f7541-8928-48bc-d28f-00bcded8f8bf"
      },
      "execution_count": null,
      "outputs": [
        {
          "output_type": "execute_result",
          "data": {
            "text/plain": [
              "'/content'"
            ],
            "application/vnd.google.colaboratory.intrinsic+json": {
              "type": "string"
            }
          },
          "metadata": {},
          "execution_count": 249
        }
      ]
    },
    {
      "cell_type": "code",
      "source": [
        "path_ = r'/content/sample_data'"
      ],
      "metadata": {
        "id": "Fyqas8TG9j9S"
      },
      "execution_count": null,
      "outputs": []
    },
    {
      "cell_type": "code",
      "source": [
        "sys.path.append(path_)"
      ],
      "metadata": {
        "id": "bVQTftTC9qbo"
      },
      "execution_count": null,
      "outputs": []
    },
    {
      "cell_type": "code",
      "source": [
        "sys.path"
      ],
      "metadata": {
        "colab": {
          "base_uri": "https://localhost:8080/"
        },
        "id": "HH9Nrt9e9zD2",
        "outputId": "366898e8-989b-43a2-df81-49a4ad3e7097"
      },
      "execution_count": null,
      "outputs": [
        {
          "output_type": "execute_result",
          "data": {
            "text/plain": [
              "['/content',\n",
              " '/env/python',\n",
              " '/usr/lib/python310.zip',\n",
              " '/usr/lib/python3.10',\n",
              " '/usr/lib/python3.10/lib-dynload',\n",
              " '',\n",
              " '/usr/local/lib/python3.10/dist-packages',\n",
              " '/usr/lib/python3/dist-packages',\n",
              " '/usr/local/lib/python3.10/dist-packages/IPython/extensions',\n",
              " '/root/.ipython',\n",
              " '/content/sample_data']"
            ]
          },
          "metadata": {},
          "execution_count": 252
        }
      ]
    },
    {
      "cell_type": "code",
      "source": [
        "sys.path.remove(path_)"
      ],
      "metadata": {
        "id": "FHh7M2t_90aY"
      },
      "execution_count": null,
      "outputs": []
    },
    {
      "cell_type": "code",
      "source": [
        "sys.path"
      ],
      "metadata": {
        "colab": {
          "base_uri": "https://localhost:8080/"
        },
        "id": "Z7amqQzv9-rH",
        "outputId": "593b834e-5e45-4a44-d2b7-869fa42ecf98"
      },
      "execution_count": null,
      "outputs": [
        {
          "output_type": "execute_result",
          "data": {
            "text/plain": [
              "['/content',\n",
              " '/env/python',\n",
              " '/usr/lib/python310.zip',\n",
              " '/usr/lib/python3.10',\n",
              " '/usr/lib/python3.10/lib-dynload',\n",
              " '',\n",
              " '/usr/local/lib/python3.10/dist-packages',\n",
              " '/usr/lib/python3/dist-packages',\n",
              " '/usr/local/lib/python3.10/dist-packages/IPython/extensions',\n",
              " '/root/.ipython']"
            ]
          },
          "metadata": {},
          "execution_count": 254
        }
      ]
    },
    {
      "cell_type": "code",
      "source": [
        "cat /usr/local/lib/python3.10/dist-packages/numpy/__init__.py"
      ],
      "metadata": {
        "colab": {
          "base_uri": "https://localhost:8080/"
        },
        "id": "_BTLZ-CB-AhR",
        "outputId": "ff7cb30c-6417-433b-fc11-2a5f78a080dd"
      },
      "execution_count": null,
      "outputs": [
        {
          "output_type": "stream",
          "name": "stdout",
          "text": [
            "\"\"\"\n",
            "NumPy\n",
            "=====\n",
            "\n",
            "Provides\n",
            "  1. An array object of arbitrary homogeneous items\n",
            "  2. Fast mathematical operations over arrays\n",
            "  3. Linear Algebra, Fourier Transforms, Random Number Generation\n",
            "\n",
            "How to use the documentation\n",
            "----------------------------\n",
            "Documentation is available in two forms: docstrings provided\n",
            "with the code, and a loose standing reference guide, available from\n",
            "`the NumPy homepage <https://www.scipy.org>`_.\n",
            "\n",
            "We recommend exploring the docstrings using\n",
            "`IPython <https://ipython.org>`_, an advanced Python shell with\n",
            "TAB-completion and introspection capabilities.  See below for further\n",
            "instructions.\n",
            "\n",
            "The docstring examples assume that `numpy` has been imported as `np`::\n",
            "\n",
            "  >>> import numpy as np\n",
            "\n",
            "Code snippets are indicated by three greater-than signs::\n",
            "\n",
            "  >>> x = 42\n",
            "  >>> x = x + 1\n",
            "\n",
            "Use the built-in ``help`` function to view a function's docstring::\n",
            "\n",
            "  >>> help(np.sort)\n",
            "  ... # doctest: +SKIP\n",
            "\n",
            "For some objects, ``np.info(obj)`` may provide additional help.  This is\n",
            "particularly true if you see the line \"Help on ufunc object:\" at the top\n",
            "of the help() page.  Ufuncs are implemented in C, not Python, for speed.\n",
            "The native Python help() does not know how to view their help, but our\n",
            "np.info() function does.\n",
            "\n",
            "To search for documents containing a keyword, do::\n",
            "\n",
            "  >>> np.lookfor('keyword')\n",
            "  ... # doctest: +SKIP\n",
            "\n",
            "General-purpose documents like a glossary and help on the basic concepts\n",
            "of numpy are available under the ``doc`` sub-module::\n",
            "\n",
            "  >>> from numpy import doc\n",
            "  >>> help(doc)\n",
            "  ... # doctest: +SKIP\n",
            "\n",
            "Available subpackages\n",
            "---------------------\n",
            "doc\n",
            "    Topical documentation on broadcasting, indexing, etc.\n",
            "lib\n",
            "    Basic functions used by several sub-packages.\n",
            "random\n",
            "    Core Random Tools\n",
            "linalg\n",
            "    Core Linear Algebra Tools\n",
            "fft\n",
            "    Core FFT routines\n",
            "polynomial\n",
            "    Polynomial tools\n",
            "testing\n",
            "    NumPy testing tools\n",
            "f2py\n",
            "    Fortran to Python Interface Generator.\n",
            "distutils\n",
            "    Enhancements to distutils with support for\n",
            "    Fortran compilers support and more.\n",
            "\n",
            "Utilities\n",
            "---------\n",
            "test\n",
            "    Run numpy unittests\n",
            "show_config\n",
            "    Show numpy build configuration\n",
            "dual\n",
            "    Overwrite certain functions with high-performance SciPy tools.\n",
            "    Note: `numpy.dual` is deprecated.  Use the functions from NumPy or Scipy\n",
            "    directly instead of importing them from `numpy.dual`.\n",
            "matlib\n",
            "    Make everything matrices.\n",
            "__version__\n",
            "    NumPy version string\n",
            "\n",
            "Viewing documentation using IPython\n",
            "-----------------------------------\n",
            "Start IPython with the NumPy profile (``ipython -p numpy``), which will\n",
            "import `numpy` under the alias `np`.  Then, use the ``cpaste`` command to\n",
            "paste examples into the shell.  To see which functions are available in\n",
            "`numpy`, type ``np.<TAB>`` (where ``<TAB>`` refers to the TAB key), or use\n",
            "``np.*cos*?<ENTER>`` (where ``<ENTER>`` refers to the ENTER key) to narrow\n",
            "down the list.  To view the docstring for a function, use\n",
            "``np.cos?<ENTER>`` (to view the docstring) and ``np.cos??<ENTER>`` (to view\n",
            "the source code).\n",
            "\n",
            "Copies vs. in-place operation\n",
            "-----------------------------\n",
            "Most of the functions in `numpy` return a copy of the array argument\n",
            "(e.g., `np.sort`).  In-place versions of these functions are often\n",
            "available as array methods, i.e. ``x = np.array([1,2,3]); x.sort()``.\n",
            "Exceptions to this rule are documented.\n",
            "\n",
            "\"\"\"\n",
            "import sys\n",
            "import warnings\n",
            "\n",
            "from ._globals import (\n",
            "    ModuleDeprecationWarning, VisibleDeprecationWarning,\n",
            "    _NoValue, _CopyMode\n",
            ")\n",
            "\n",
            "# We first need to detect if we're being called as part of the numpy setup\n",
            "# procedure itself in a reliable manner.\n",
            "try:\n",
            "    __NUMPY_SETUP__\n",
            "except NameError:\n",
            "    __NUMPY_SETUP__ = False\n",
            "\n",
            "if __NUMPY_SETUP__:\n",
            "    sys.stderr.write('Running from numpy source directory.\\n')\n",
            "else:\n",
            "    try:\n",
            "        from numpy.__config__ import show as show_config\n",
            "    except ImportError as e:\n",
            "        msg = \"\"\"Error importing numpy: you should not try to import numpy from\n",
            "        its source directory; please exit the numpy source tree, and relaunch\n",
            "        your python interpreter from there.\"\"\"\n",
            "        raise ImportError(msg) from e\n",
            "\n",
            "    __all__ = ['ModuleDeprecationWarning',\n",
            "               'VisibleDeprecationWarning']\n",
            "\n",
            "    # mapping of {name: (value, deprecation_msg)}\n",
            "    __deprecated_attrs__ = {}\n",
            "\n",
            "    # Allow distributors to run custom init code\n",
            "    from . import _distributor_init\n",
            "\n",
            "    from . import core\n",
            "    from .core import *\n",
            "    from . import compat\n",
            "    from . import lib\n",
            "    # NOTE: to be revisited following future namespace cleanup.\n",
            "    # See gh-14454 and gh-15672 for discussion.\n",
            "    from .lib import *\n",
            "\n",
            "    from . import linalg\n",
            "    from . import fft\n",
            "    from . import polynomial\n",
            "    from . import random\n",
            "    from . import ctypeslib\n",
            "    from . import ma\n",
            "    from . import matrixlib as _mat\n",
            "    from .matrixlib import *\n",
            "\n",
            "    # Deprecations introduced in NumPy 1.20.0, 2020-06-06\n",
            "    import builtins as _builtins\n",
            "\n",
            "    _msg = (\n",
            "        \"`np.{n}` is a deprecated alias for the builtin `{n}`. \"\n",
            "        \"To silence this warning, use `{n}` by itself. Doing this will not \"\n",
            "        \"modify any behavior and is safe. {extended_msg}\\n\"\n",
            "        \"Deprecated in NumPy 1.20; for more details and guidance: \"\n",
            "        \"https://numpy.org/devdocs/release/1.20.0-notes.html#deprecations\")\n",
            "\n",
            "    _specific_msg = (\n",
            "        \"If you specifically wanted the numpy scalar type, use `np.{}` here.\")\n",
            "\n",
            "    _int_extended_msg = (\n",
            "        \"When replacing `np.{}`, you may wish to use e.g. `np.int64` \"\n",
            "        \"or `np.int32` to specify the precision. If you wish to review \"\n",
            "        \"your current use, check the release note link for \"\n",
            "        \"additional information.\")\n",
            "\n",
            "    _type_info = [\n",
            "        (\"object\", \"\"),  # The NumPy scalar only exists by name.\n",
            "        (\"bool\", _specific_msg.format(\"bool_\")),\n",
            "        (\"float\", _specific_msg.format(\"float64\")),\n",
            "        (\"complex\", _specific_msg.format(\"complex128\")),\n",
            "        (\"str\", _specific_msg.format(\"str_\")),\n",
            "        (\"int\", _int_extended_msg.format(\"int\"))]\n",
            "\n",
            "    __deprecated_attrs__.update({\n",
            "        n: (getattr(_builtins, n), _msg.format(n=n, extended_msg=extended_msg))\n",
            "        for n, extended_msg in _type_info\n",
            "    })\n",
            "\n",
            "    # Numpy 1.20.0, 2020-10-19\n",
            "    __deprecated_attrs__[\"typeDict\"] = (\n",
            "        core.numerictypes.typeDict,\n",
            "        \"`np.typeDict` is a deprecated alias for `np.sctypeDict`.\"\n",
            "    )\n",
            "\n",
            "    # NumPy 1.22, 2021-10-20\n",
            "    __deprecated_attrs__[\"MachAr\"] = (\n",
            "        core._machar.MachAr,\n",
            "        \"`np.MachAr` is deprecated (NumPy 1.22).\"\n",
            "    )\n",
            "\n",
            "    _msg = (\n",
            "        \"`np.{n}` is a deprecated alias for `np.compat.{n}`. \"\n",
            "        \"To silence this warning, use `np.compat.{n}` by itself. \"\n",
            "        \"In the likely event your code does not need to work on Python 2 \"\n",
            "        \"you can use the builtin `{n2}` for which `np.compat.{n}` is itself \"\n",
            "        \"an alias. Doing this will not modify any behaviour and is safe. \"\n",
            "        \"{extended_msg}\\n\"\n",
            "        \"Deprecated in NumPy 1.20; for more details and guidance: \"\n",
            "        \"https://numpy.org/devdocs/release/1.20.0-notes.html#deprecations\")\n",
            "\n",
            "    __deprecated_attrs__[\"long\"] = (\n",
            "        getattr(compat, \"long\"),\n",
            "        _msg.format(n=\"long\", n2=\"int\",\n",
            "                    extended_msg=_int_extended_msg.format(\"long\")))\n",
            "\n",
            "    __deprecated_attrs__[\"unicode\"] = (\n",
            "        getattr(compat, \"unicode\"),\n",
            "        _msg.format(n=\"unicode\", n2=\"str\",\n",
            "                    extended_msg=_specific_msg.format(\"str_\")))\n",
            "\n",
            "    del _msg, _specific_msg, _int_extended_msg, _type_info, _builtins\n",
            "\n",
            "    from .core import round, abs, max, min\n",
            "    # now that numpy modules are imported, can initialize limits\n",
            "    core.getlimits._register_known_types()\n",
            "\n",
            "    __all__.extend(['__version__', 'show_config'])\n",
            "    __all__.extend(core.__all__)\n",
            "    __all__.extend(_mat.__all__)\n",
            "    __all__.extend(lib.__all__)\n",
            "    __all__.extend(['linalg', 'fft', 'random', 'ctypeslib', 'ma'])\n",
            "\n",
            "    # Remove one of the two occurrences of `issubdtype`, which is exposed as\n",
            "    # both `numpy.core.issubdtype` and `numpy.lib.issubdtype`.\n",
            "    __all__.remove('issubdtype')\n",
            "\n",
            "    # These are exported by np.core, but are replaced by the builtins below\n",
            "    # remove them to ensure that we don't end up with `np.long == np.int_`,\n",
            "    # which would be a breaking change.\n",
            "    del long, unicode\n",
            "    __all__.remove('long')\n",
            "    __all__.remove('unicode')\n",
            "\n",
            "    # Remove things that are in the numpy.lib but not in the numpy namespace\n",
            "    # Note that there is a test (numpy/tests/test_public_api.py:test_numpy_namespace)\n",
            "    # that prevents adding more things to the main namespace by accident.\n",
            "    # The list below will grow until the `from .lib import *` fixme above is\n",
            "    # taken care of\n",
            "    __all__.remove('Arrayterator')\n",
            "    del Arrayterator\n",
            "\n",
            "    # These names were removed in NumPy 1.20.  For at least one release,\n",
            "    # attempts to access these names in the numpy namespace will trigger\n",
            "    # a warning, and calling the function will raise an exception.\n",
            "    _financial_names = ['fv', 'ipmt', 'irr', 'mirr', 'nper', 'npv', 'pmt',\n",
            "                        'ppmt', 'pv', 'rate']\n",
            "    __expired_functions__ = {\n",
            "        name: (f'In accordance with NEP 32, the function {name} was removed '\n",
            "               'from NumPy version 1.20.  A replacement for this function '\n",
            "               'is available in the numpy_financial library: '\n",
            "               'https://pypi.org/project/numpy-financial')\n",
            "        for name in _financial_names}\n",
            "\n",
            "    # Filter out Cython harmless warnings\n",
            "    warnings.filterwarnings(\"ignore\", message=\"numpy.dtype size changed\")\n",
            "    warnings.filterwarnings(\"ignore\", message=\"numpy.ufunc size changed\")\n",
            "    warnings.filterwarnings(\"ignore\", message=\"numpy.ndarray size changed\")\n",
            "\n",
            "    # oldnumeric and numarray were removed in 1.9. In case some packages import\n",
            "    # but do not use them, we define them here for backward compatibility.\n",
            "    oldnumeric = 'removed'\n",
            "    numarray = 'removed'\n",
            "\n",
            "    def __getattr__(attr):\n",
            "        # Warn for expired attributes, and return a dummy function\n",
            "        # that always raises an exception.\n",
            "        try:\n",
            "            msg = __expired_functions__[attr]\n",
            "        except KeyError:\n",
            "            pass\n",
            "        else:\n",
            "            warnings.warn(msg, DeprecationWarning, stacklevel=2)\n",
            "\n",
            "            def _expired(*args, **kwds):\n",
            "                raise RuntimeError(msg)\n",
            "\n",
            "            return _expired\n",
            "\n",
            "        # Emit warnings for deprecated attributes\n",
            "        try:\n",
            "            val, msg = __deprecated_attrs__[attr]\n",
            "        except KeyError:\n",
            "            pass\n",
            "        else:\n",
            "            warnings.warn(msg, DeprecationWarning, stacklevel=2)\n",
            "            return val\n",
            "\n",
            "        # Importing Tester requires importing all of UnitTest which is not a\n",
            "        # cheap import Since it is mainly used in test suits, we lazy import it\n",
            "        # here to save on the order of 10 ms of import time for most users\n",
            "        #\n",
            "        # The previous way Tester was imported also had a side effect of adding\n",
            "        # the full `numpy.testing` namespace\n",
            "        if attr == 'testing':\n",
            "            import numpy.testing as testing\n",
            "            return testing\n",
            "        elif attr == 'Tester':\n",
            "            from .testing import Tester\n",
            "            return Tester\n",
            "\n",
            "        raise AttributeError(\"module {!r} has no attribute \"\n",
            "                             \"{!r}\".format(__name__, attr))\n",
            "\n",
            "    def __dir__():\n",
            "        return list(globals().keys() | {'Tester', 'testing'})\n",
            "\n",
            "    # Pytest testing\n",
            "    from numpy._pytesttester import PytestTester\n",
            "    test = PytestTester(__name__)\n",
            "    del PytestTester\n",
            "\n",
            "    def _sanity_check():\n",
            "        \"\"\"\n",
            "        Quick sanity checks for common bugs caused by environment.\n",
            "        There are some cases e.g. with wrong BLAS ABI that cause wrong\n",
            "        results under specific runtime conditions that are not necessarily\n",
            "        achieved during test suite runs, and it is useful to catch those early.\n",
            "\n",
            "        See https://github.com/numpy/numpy/issues/8577 and other\n",
            "        similar bug reports.\n",
            "\n",
            "        \"\"\"\n",
            "        try:\n",
            "            x = ones(2, dtype=float32)\n",
            "            if not abs(x.dot(x) - 2.0) < 1e-5:\n",
            "                raise AssertionError()\n",
            "        except AssertionError:\n",
            "            msg = (\"The current Numpy installation ({!r}) fails to \"\n",
            "                   \"pass simple sanity checks. This can be caused for example \"\n",
            "                   \"by incorrect BLAS library being linked in, or by mixing \"\n",
            "                   \"package managers (pip, conda, apt, ...). Search closed \"\n",
            "                   \"numpy issues for similar problems.\")\n",
            "            raise RuntimeError(msg.format(__file__)) from None\n",
            "\n",
            "    _sanity_check()\n",
            "    del _sanity_check\n",
            "\n",
            "    def _mac_os_check():\n",
            "        \"\"\"\n",
            "        Quick Sanity check for Mac OS look for accelerate build bugs.\n",
            "        Testing numpy polyfit calls init_dgelsd(LAPACK)\n",
            "        \"\"\"\n",
            "        try:\n",
            "            c = array([3., 2., 1.])\n",
            "            x = linspace(0, 2, 5)\n",
            "            y = polyval(c, x)\n",
            "            _ = polyfit(x, y, 2, cov=True)\n",
            "        except ValueError:\n",
            "            pass\n",
            "\n",
            "    import sys\n",
            "    if sys.platform == \"darwin\":\n",
            "        with warnings.catch_warnings(record=True) as w:\n",
            "            _mac_os_check()\n",
            "            # Throw runtime error, if the test failed Check for warning and error_message\n",
            "            error_message = \"\"\n",
            "            if len(w) > 0:\n",
            "                error_message = \"{}: {}\".format(w[-1].category.__name__, str(w[-1].message))\n",
            "                msg = (\n",
            "                    \"Polyfit sanity test emitted a warning, most likely due \"\n",
            "                    \"to using a buggy Accelerate backend.\"\n",
            "                    \"\\nIf you compiled yourself, more information is available at:\"\n",
            "                    \"\\nhttps://numpy.org/doc/stable/user/building.html#accelerated-blas-lapack-libraries\"\n",
            "                    \"\\nOtherwise report this to the vendor \"\n",
            "                    \"that provided NumPy.\\n{}\\n\".format(error_message))\n",
            "                raise RuntimeError(msg)\n",
            "    del _mac_os_check\n",
            "\n",
            "    # We usually use madvise hugepages support, but on some old kernels it\n",
            "    # is slow and thus better avoided.\n",
            "    # Specifically kernel version 4.6 had a bug fix which probably fixed this:\n",
            "    # https://github.com/torvalds/linux/commit/7cf91a98e607c2f935dbcc177d70011e95b8faff\n",
            "    import os\n",
            "    use_hugepage = os.environ.get(\"NUMPY_MADVISE_HUGEPAGE\", None)\n",
            "    if sys.platform == \"linux\" and use_hugepage is None:\n",
            "        # If there is an issue with parsing the kernel version,\n",
            "        # set use_hugepages to 0. Usage of LooseVersion will handle\n",
            "        # the kernel version parsing better, but avoided since it\n",
            "        # will increase the import time. See: #16679 for related discussion.\n",
            "        try:\n",
            "            use_hugepage = 1\n",
            "            kernel_version = os.uname().release.split(\".\")[:2]\n",
            "            kernel_version = tuple(int(v) for v in kernel_version)\n",
            "            if kernel_version < (4, 6):\n",
            "                use_hugepage = 0\n",
            "        except ValueError:\n",
            "            use_hugepages = 0\n",
            "    elif use_hugepage is None:\n",
            "        # This is not Linux, so it should not matter, just enable anyway\n",
            "        use_hugepage = 1\n",
            "    else:\n",
            "        use_hugepage = int(use_hugepage)\n",
            "\n",
            "    # Note that this will currently only make a difference on Linux\n",
            "    core.multiarray._set_madvise_hugepage(use_hugepage)\n",
            "\n",
            "    # Give a warning if NumPy is reloaded or imported on a sub-interpreter\n",
            "    # We do this from python, since the C-module may not be reloaded and\n",
            "    # it is tidier organized.\n",
            "    core.multiarray._multiarray_umath._reload_guard()\n",
            "\n",
            "\n",
            "# get the version using versioneer\n",
            "from .version import __version__, git_revision as __git_version__\n"
          ]
        }
      ]
    },
    {
      "cell_type": "code",
      "source": [],
      "metadata": {
        "id": "bNlJIVbk_X_x"
      },
      "execution_count": null,
      "outputs": []
    }
  ]
}