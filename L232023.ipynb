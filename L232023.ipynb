{
  "nbformat": 4,
  "nbformat_minor": 0,
  "metadata": {
    "colab": {
      "provenance": [],
      "include_colab_link": true
    },
    "kernelspec": {
      "name": "python3",
      "display_name": "Python 3"
    },
    "language_info": {
      "name": "python"
    }
  },
  "cells": [
    {
      "cell_type": "markdown",
      "metadata": {
        "id": "view-in-github",
        "colab_type": "text"
      },
      "source": [
        "<a href=\"https://colab.research.google.com/github/ohjeonsuk/python-education/blob/main/L232023.ipynb\" target=\"_parent\"><img src=\"https://colab.research.google.com/assets/colab-badge.svg\" alt=\"Open In Colab\"/></a>"
      ]
    },
    {
      "cell_type": "markdown",
      "source": [
        "1. 통계적 머신러닝\n",
        "    - 분류\n",
        "        \n",
        "        SVM\n",
        "\n",
        "    - 회귀\n",
        "\n",
        "        선형회귀\n",
        "\n",
        "        다항회귀\n",
        "\n",
        "        릿지, 라쏘, 엘라스틱넷\n",
        "\n",
        "        로지스틱회귀\n",
        "\n",
        "    - 차원축소 / 군집\n",
        "\n",
        "        pca\n",
        "\n",
        "        KMeans\n",
        "\n",
        "        군집평가, DBSCAN\n",
        "\n",
        "    - 텍스트 처리\n",
        "\n",
        "        NLP, BOW\n",
        "\n",
        "        텍스트 분류\n",
        "\n",
        "        감성분석\n",
        "\n",
        "        문서유사도\n",
        "\n",
        "2. 딥러닝\n",
        "\n",
        "    - ANN\n",
        "\n",
        "    - 경사하강법\n",
        "\n",
        "    - 오차역전파\n",
        "\n",
        "    - Optimizer\n",
        "\n",
        "    - CNN\n",
        "\n",
        "    - ResNet\n",
        "\n",
        "    - RNN, LSTM, GRU"
      ],
      "metadata": {
        "id": "greE0U6jqagW"
      }
    },
    {
      "cell_type": "code",
      "execution_count": null,
      "metadata": {
        "id": "8zzDZp3TqQQy"
      },
      "outputs": [],
      "source": [
        "import pandas as pd\n",
        "import numpy as np\n",
        "from sklearn.svm import SVC\n",
        "import matplotlib.pyplot as plt\n",
        "import seaborn as sns; sns.set(font_scale=1.2)\n",
        "%matplotlib inline"
      ]
    },
    {
      "cell_type": "code",
      "source": [
        "recipes = pd.read_csv('./drive/MyDrive/data/recipes_muffins_cupcakes.csv')\n",
        "recipes"
      ],
      "metadata": {
        "colab": {
          "base_uri": "https://localhost:8080/",
          "height": 676
        },
        "id": "GaRfdTQD6S-S",
        "outputId": "13440a2d-6f5b-4b06-dccf-8a8685886979"
      },
      "execution_count": null,
      "outputs": [
        {
          "output_type": "execute_result",
          "data": {
            "text/plain": [
              "       Type  Flour  Milk  Sugar  Butter  Egg  Baking Powder  Vanilla  Salt\n",
              "0    Muffin     55    28      3       7    5              2        0     0\n",
              "1    Muffin     47    24     12       6    9              1        0     0\n",
              "2    Muffin     47    23     18       6    4              1        0     0\n",
              "3    Muffin     45    11     17      17    8              1        0     0\n",
              "4    Muffin     50    25     12       6    5              2        1     0\n",
              "5    Muffin     55    27      3       7    5              2        1     0\n",
              "6    Muffin     54    27      7       5    5              2        0     0\n",
              "7    Muffin     47    26     10      10    4              1        0     0\n",
              "8    Muffin     50    17     17       8    6              1        0     0\n",
              "9    Muffin     50    17     17      11    4              1        0     0\n",
              "10  Cupcake     39     0     26      19   14              1        1     0\n",
              "11  Cupcake     42    21     16      10    8              3        0     0\n",
              "12  Cupcake     34    17     20      20    5              2        1     0\n",
              "13  Cupcake     39    13     17      19   10              1        1     0\n",
              "14  Cupcake     38    15     23      15    8              0        1     0\n",
              "15  Cupcake     42    18     25       9    5              1        0     0\n",
              "16  Cupcake     36    14     21      14   11              2        1     0\n",
              "17  Cupcake     38    15     31       8    6              1        1     0\n",
              "18  Cupcake     36    16     24      12    9              1        1     0\n",
              "19  Cupcake     34    17     23      11   13              0        1     0"
            ],
            "text/html": [
              "\n",
              "  <div id=\"df-2375152a-eeb1-4b2f-ae3b-c8c401c6dde3\" class=\"colab-df-container\">\n",
              "    <div>\n",
              "<style scoped>\n",
              "    .dataframe tbody tr th:only-of-type {\n",
              "        vertical-align: middle;\n",
              "    }\n",
              "\n",
              "    .dataframe tbody tr th {\n",
              "        vertical-align: top;\n",
              "    }\n",
              "\n",
              "    .dataframe thead th {\n",
              "        text-align: right;\n",
              "    }\n",
              "</style>\n",
              "<table border=\"1\" class=\"dataframe\">\n",
              "  <thead>\n",
              "    <tr style=\"text-align: right;\">\n",
              "      <th></th>\n",
              "      <th>Type</th>\n",
              "      <th>Flour</th>\n",
              "      <th>Milk</th>\n",
              "      <th>Sugar</th>\n",
              "      <th>Butter</th>\n",
              "      <th>Egg</th>\n",
              "      <th>Baking Powder</th>\n",
              "      <th>Vanilla</th>\n",
              "      <th>Salt</th>\n",
              "    </tr>\n",
              "  </thead>\n",
              "  <tbody>\n",
              "    <tr>\n",
              "      <th>0</th>\n",
              "      <td>Muffin</td>\n",
              "      <td>55</td>\n",
              "      <td>28</td>\n",
              "      <td>3</td>\n",
              "      <td>7</td>\n",
              "      <td>5</td>\n",
              "      <td>2</td>\n",
              "      <td>0</td>\n",
              "      <td>0</td>\n",
              "    </tr>\n",
              "    <tr>\n",
              "      <th>1</th>\n",
              "      <td>Muffin</td>\n",
              "      <td>47</td>\n",
              "      <td>24</td>\n",
              "      <td>12</td>\n",
              "      <td>6</td>\n",
              "      <td>9</td>\n",
              "      <td>1</td>\n",
              "      <td>0</td>\n",
              "      <td>0</td>\n",
              "    </tr>\n",
              "    <tr>\n",
              "      <th>2</th>\n",
              "      <td>Muffin</td>\n",
              "      <td>47</td>\n",
              "      <td>23</td>\n",
              "      <td>18</td>\n",
              "      <td>6</td>\n",
              "      <td>4</td>\n",
              "      <td>1</td>\n",
              "      <td>0</td>\n",
              "      <td>0</td>\n",
              "    </tr>\n",
              "    <tr>\n",
              "      <th>3</th>\n",
              "      <td>Muffin</td>\n",
              "      <td>45</td>\n",
              "      <td>11</td>\n",
              "      <td>17</td>\n",
              "      <td>17</td>\n",
              "      <td>8</td>\n",
              "      <td>1</td>\n",
              "      <td>0</td>\n",
              "      <td>0</td>\n",
              "    </tr>\n",
              "    <tr>\n",
              "      <th>4</th>\n",
              "      <td>Muffin</td>\n",
              "      <td>50</td>\n",
              "      <td>25</td>\n",
              "      <td>12</td>\n",
              "      <td>6</td>\n",
              "      <td>5</td>\n",
              "      <td>2</td>\n",
              "      <td>1</td>\n",
              "      <td>0</td>\n",
              "    </tr>\n",
              "    <tr>\n",
              "      <th>5</th>\n",
              "      <td>Muffin</td>\n",
              "      <td>55</td>\n",
              "      <td>27</td>\n",
              "      <td>3</td>\n",
              "      <td>7</td>\n",
              "      <td>5</td>\n",
              "      <td>2</td>\n",
              "      <td>1</td>\n",
              "      <td>0</td>\n",
              "    </tr>\n",
              "    <tr>\n",
              "      <th>6</th>\n",
              "      <td>Muffin</td>\n",
              "      <td>54</td>\n",
              "      <td>27</td>\n",
              "      <td>7</td>\n",
              "      <td>5</td>\n",
              "      <td>5</td>\n",
              "      <td>2</td>\n",
              "      <td>0</td>\n",
              "      <td>0</td>\n",
              "    </tr>\n",
              "    <tr>\n",
              "      <th>7</th>\n",
              "      <td>Muffin</td>\n",
              "      <td>47</td>\n",
              "      <td>26</td>\n",
              "      <td>10</td>\n",
              "      <td>10</td>\n",
              "      <td>4</td>\n",
              "      <td>1</td>\n",
              "      <td>0</td>\n",
              "      <td>0</td>\n",
              "    </tr>\n",
              "    <tr>\n",
              "      <th>8</th>\n",
              "      <td>Muffin</td>\n",
              "      <td>50</td>\n",
              "      <td>17</td>\n",
              "      <td>17</td>\n",
              "      <td>8</td>\n",
              "      <td>6</td>\n",
              "      <td>1</td>\n",
              "      <td>0</td>\n",
              "      <td>0</td>\n",
              "    </tr>\n",
              "    <tr>\n",
              "      <th>9</th>\n",
              "      <td>Muffin</td>\n",
              "      <td>50</td>\n",
              "      <td>17</td>\n",
              "      <td>17</td>\n",
              "      <td>11</td>\n",
              "      <td>4</td>\n",
              "      <td>1</td>\n",
              "      <td>0</td>\n",
              "      <td>0</td>\n",
              "    </tr>\n",
              "    <tr>\n",
              "      <th>10</th>\n",
              "      <td>Cupcake</td>\n",
              "      <td>39</td>\n",
              "      <td>0</td>\n",
              "      <td>26</td>\n",
              "      <td>19</td>\n",
              "      <td>14</td>\n",
              "      <td>1</td>\n",
              "      <td>1</td>\n",
              "      <td>0</td>\n",
              "    </tr>\n",
              "    <tr>\n",
              "      <th>11</th>\n",
              "      <td>Cupcake</td>\n",
              "      <td>42</td>\n",
              "      <td>21</td>\n",
              "      <td>16</td>\n",
              "      <td>10</td>\n",
              "      <td>8</td>\n",
              "      <td>3</td>\n",
              "      <td>0</td>\n",
              "      <td>0</td>\n",
              "    </tr>\n",
              "    <tr>\n",
              "      <th>12</th>\n",
              "      <td>Cupcake</td>\n",
              "      <td>34</td>\n",
              "      <td>17</td>\n",
              "      <td>20</td>\n",
              "      <td>20</td>\n",
              "      <td>5</td>\n",
              "      <td>2</td>\n",
              "      <td>1</td>\n",
              "      <td>0</td>\n",
              "    </tr>\n",
              "    <tr>\n",
              "      <th>13</th>\n",
              "      <td>Cupcake</td>\n",
              "      <td>39</td>\n",
              "      <td>13</td>\n",
              "      <td>17</td>\n",
              "      <td>19</td>\n",
              "      <td>10</td>\n",
              "      <td>1</td>\n",
              "      <td>1</td>\n",
              "      <td>0</td>\n",
              "    </tr>\n",
              "    <tr>\n",
              "      <th>14</th>\n",
              "      <td>Cupcake</td>\n",
              "      <td>38</td>\n",
              "      <td>15</td>\n",
              "      <td>23</td>\n",
              "      <td>15</td>\n",
              "      <td>8</td>\n",
              "      <td>0</td>\n",
              "      <td>1</td>\n",
              "      <td>0</td>\n",
              "    </tr>\n",
              "    <tr>\n",
              "      <th>15</th>\n",
              "      <td>Cupcake</td>\n",
              "      <td>42</td>\n",
              "      <td>18</td>\n",
              "      <td>25</td>\n",
              "      <td>9</td>\n",
              "      <td>5</td>\n",
              "      <td>1</td>\n",
              "      <td>0</td>\n",
              "      <td>0</td>\n",
              "    </tr>\n",
              "    <tr>\n",
              "      <th>16</th>\n",
              "      <td>Cupcake</td>\n",
              "      <td>36</td>\n",
              "      <td>14</td>\n",
              "      <td>21</td>\n",
              "      <td>14</td>\n",
              "      <td>11</td>\n",
              "      <td>2</td>\n",
              "      <td>1</td>\n",
              "      <td>0</td>\n",
              "    </tr>\n",
              "    <tr>\n",
              "      <th>17</th>\n",
              "      <td>Cupcake</td>\n",
              "      <td>38</td>\n",
              "      <td>15</td>\n",
              "      <td>31</td>\n",
              "      <td>8</td>\n",
              "      <td>6</td>\n",
              "      <td>1</td>\n",
              "      <td>1</td>\n",
              "      <td>0</td>\n",
              "    </tr>\n",
              "    <tr>\n",
              "      <th>18</th>\n",
              "      <td>Cupcake</td>\n",
              "      <td>36</td>\n",
              "      <td>16</td>\n",
              "      <td>24</td>\n",
              "      <td>12</td>\n",
              "      <td>9</td>\n",
              "      <td>1</td>\n",
              "      <td>1</td>\n",
              "      <td>0</td>\n",
              "    </tr>\n",
              "    <tr>\n",
              "      <th>19</th>\n",
              "      <td>Cupcake</td>\n",
              "      <td>34</td>\n",
              "      <td>17</td>\n",
              "      <td>23</td>\n",
              "      <td>11</td>\n",
              "      <td>13</td>\n",
              "      <td>0</td>\n",
              "      <td>1</td>\n",
              "      <td>0</td>\n",
              "    </tr>\n",
              "  </tbody>\n",
              "</table>\n",
              "</div>\n",
              "    <div class=\"colab-df-buttons\">\n",
              "\n",
              "  <div class=\"colab-df-container\">\n",
              "    <button class=\"colab-df-convert\" onclick=\"convertToInteractive('df-2375152a-eeb1-4b2f-ae3b-c8c401c6dde3')\"\n",
              "            title=\"Convert this dataframe to an interactive table.\"\n",
              "            style=\"display:none;\">\n",
              "\n",
              "  <svg xmlns=\"http://www.w3.org/2000/svg\" height=\"24px\" viewBox=\"0 -960 960 960\">\n",
              "    <path d=\"M120-120v-720h720v720H120Zm60-500h600v-160H180v160Zm220 220h160v-160H400v160Zm0 220h160v-160H400v160ZM180-400h160v-160H180v160Zm440 0h160v-160H620v160ZM180-180h160v-160H180v160Zm440 0h160v-160H620v160Z\"/>\n",
              "  </svg>\n",
              "    </button>\n",
              "\n",
              "  <style>\n",
              "    .colab-df-container {\n",
              "      display:flex;\n",
              "      gap: 12px;\n",
              "    }\n",
              "\n",
              "    .colab-df-convert {\n",
              "      background-color: #E8F0FE;\n",
              "      border: none;\n",
              "      border-radius: 50%;\n",
              "      cursor: pointer;\n",
              "      display: none;\n",
              "      fill: #1967D2;\n",
              "      height: 32px;\n",
              "      padding: 0 0 0 0;\n",
              "      width: 32px;\n",
              "    }\n",
              "\n",
              "    .colab-df-convert:hover {\n",
              "      background-color: #E2EBFA;\n",
              "      box-shadow: 0px 1px 2px rgba(60, 64, 67, 0.3), 0px 1px 3px 1px rgba(60, 64, 67, 0.15);\n",
              "      fill: #174EA6;\n",
              "    }\n",
              "\n",
              "    .colab-df-buttons div {\n",
              "      margin-bottom: 4px;\n",
              "    }\n",
              "\n",
              "    [theme=dark] .colab-df-convert {\n",
              "      background-color: #3B4455;\n",
              "      fill: #D2E3FC;\n",
              "    }\n",
              "\n",
              "    [theme=dark] .colab-df-convert:hover {\n",
              "      background-color: #434B5C;\n",
              "      box-shadow: 0px 1px 3px 1px rgba(0, 0, 0, 0.15);\n",
              "      filter: drop-shadow(0px 1px 2px rgba(0, 0, 0, 0.3));\n",
              "      fill: #FFFFFF;\n",
              "    }\n",
              "  </style>\n",
              "\n",
              "    <script>\n",
              "      const buttonEl =\n",
              "        document.querySelector('#df-2375152a-eeb1-4b2f-ae3b-c8c401c6dde3 button.colab-df-convert');\n",
              "      buttonEl.style.display =\n",
              "        google.colab.kernel.accessAllowed ? 'block' : 'none';\n",
              "\n",
              "      async function convertToInteractive(key) {\n",
              "        const element = document.querySelector('#df-2375152a-eeb1-4b2f-ae3b-c8c401c6dde3');\n",
              "        const dataTable =\n",
              "          await google.colab.kernel.invokeFunction('convertToInteractive',\n",
              "                                                    [key], {});\n",
              "        if (!dataTable) return;\n",
              "\n",
              "        const docLinkHtml = 'Like what you see? Visit the ' +\n",
              "          '<a target=\"_blank\" href=https://colab.research.google.com/notebooks/data_table.ipynb>data table notebook</a>'\n",
              "          + ' to learn more about interactive tables.';\n",
              "        element.innerHTML = '';\n",
              "        dataTable['output_type'] = 'display_data';\n",
              "        await google.colab.output.renderOutput(dataTable, element);\n",
              "        const docLink = document.createElement('div');\n",
              "        docLink.innerHTML = docLinkHtml;\n",
              "        element.appendChild(docLink);\n",
              "      }\n",
              "    </script>\n",
              "  </div>\n",
              "\n",
              "\n",
              "<div id=\"df-7abe6feb-4c38-40ea-b012-730f9538e2fc\">\n",
              "  <button class=\"colab-df-quickchart\" onclick=\"quickchart('df-7abe6feb-4c38-40ea-b012-730f9538e2fc')\"\n",
              "            title=\"Suggest charts.\"\n",
              "            style=\"display:none;\">\n",
              "\n",
              "<svg xmlns=\"http://www.w3.org/2000/svg\" height=\"24px\"viewBox=\"0 0 24 24\"\n",
              "     width=\"24px\">\n",
              "    <g>\n",
              "        <path d=\"M19 3H5c-1.1 0-2 .9-2 2v14c0 1.1.9 2 2 2h14c1.1 0 2-.9 2-2V5c0-1.1-.9-2-2-2zM9 17H7v-7h2v7zm4 0h-2V7h2v10zm4 0h-2v-4h2v4z\"/>\n",
              "    </g>\n",
              "</svg>\n",
              "  </button>\n",
              "\n",
              "<style>\n",
              "  .colab-df-quickchart {\n",
              "      --bg-color: #E8F0FE;\n",
              "      --fill-color: #1967D2;\n",
              "      --hover-bg-color: #E2EBFA;\n",
              "      --hover-fill-color: #174EA6;\n",
              "      --disabled-fill-color: #AAA;\n",
              "      --disabled-bg-color: #DDD;\n",
              "  }\n",
              "\n",
              "  [theme=dark] .colab-df-quickchart {\n",
              "      --bg-color: #3B4455;\n",
              "      --fill-color: #D2E3FC;\n",
              "      --hover-bg-color: #434B5C;\n",
              "      --hover-fill-color: #FFFFFF;\n",
              "      --disabled-bg-color: #3B4455;\n",
              "      --disabled-fill-color: #666;\n",
              "  }\n",
              "\n",
              "  .colab-df-quickchart {\n",
              "    background-color: var(--bg-color);\n",
              "    border: none;\n",
              "    border-radius: 50%;\n",
              "    cursor: pointer;\n",
              "    display: none;\n",
              "    fill: var(--fill-color);\n",
              "    height: 32px;\n",
              "    padding: 0;\n",
              "    width: 32px;\n",
              "  }\n",
              "\n",
              "  .colab-df-quickchart:hover {\n",
              "    background-color: var(--hover-bg-color);\n",
              "    box-shadow: 0 1px 2px rgba(60, 64, 67, 0.3), 0 1px 3px 1px rgba(60, 64, 67, 0.15);\n",
              "    fill: var(--button-hover-fill-color);\n",
              "  }\n",
              "\n",
              "  .colab-df-quickchart-complete:disabled,\n",
              "  .colab-df-quickchart-complete:disabled:hover {\n",
              "    background-color: var(--disabled-bg-color);\n",
              "    fill: var(--disabled-fill-color);\n",
              "    box-shadow: none;\n",
              "  }\n",
              "\n",
              "  .colab-df-spinner {\n",
              "    border: 2px solid var(--fill-color);\n",
              "    border-color: transparent;\n",
              "    border-bottom-color: var(--fill-color);\n",
              "    animation:\n",
              "      spin 1s steps(1) infinite;\n",
              "  }\n",
              "\n",
              "  @keyframes spin {\n",
              "    0% {\n",
              "      border-color: transparent;\n",
              "      border-bottom-color: var(--fill-color);\n",
              "      border-left-color: var(--fill-color);\n",
              "    }\n",
              "    20% {\n",
              "      border-color: transparent;\n",
              "      border-left-color: var(--fill-color);\n",
              "      border-top-color: var(--fill-color);\n",
              "    }\n",
              "    30% {\n",
              "      border-color: transparent;\n",
              "      border-left-color: var(--fill-color);\n",
              "      border-top-color: var(--fill-color);\n",
              "      border-right-color: var(--fill-color);\n",
              "    }\n",
              "    40% {\n",
              "      border-color: transparent;\n",
              "      border-right-color: var(--fill-color);\n",
              "      border-top-color: var(--fill-color);\n",
              "    }\n",
              "    60% {\n",
              "      border-color: transparent;\n",
              "      border-right-color: var(--fill-color);\n",
              "    }\n",
              "    80% {\n",
              "      border-color: transparent;\n",
              "      border-right-color: var(--fill-color);\n",
              "      border-bottom-color: var(--fill-color);\n",
              "    }\n",
              "    90% {\n",
              "      border-color: transparent;\n",
              "      border-bottom-color: var(--fill-color);\n",
              "    }\n",
              "  }\n",
              "</style>\n",
              "\n",
              "  <script>\n",
              "    async function quickchart(key) {\n",
              "      const quickchartButtonEl =\n",
              "        document.querySelector('#' + key + ' button');\n",
              "      quickchartButtonEl.disabled = true;  // To prevent multiple clicks.\n",
              "      quickchartButtonEl.classList.add('colab-df-spinner');\n",
              "      try {\n",
              "        const charts = await google.colab.kernel.invokeFunction(\n",
              "            'suggestCharts', [key], {});\n",
              "      } catch (error) {\n",
              "        console.error('Error during call to suggestCharts:', error);\n",
              "      }\n",
              "      quickchartButtonEl.classList.remove('colab-df-spinner');\n",
              "      quickchartButtonEl.classList.add('colab-df-quickchart-complete');\n",
              "    }\n",
              "    (() => {\n",
              "      let quickchartButtonEl =\n",
              "        document.querySelector('#df-7abe6feb-4c38-40ea-b012-730f9538e2fc button');\n",
              "      quickchartButtonEl.style.display =\n",
              "        google.colab.kernel.accessAllowed ? 'block' : 'none';\n",
              "    })();\n",
              "  </script>\n",
              "</div>\n",
              "    </div>\n",
              "  </div>\n"
            ]
          },
          "metadata": {},
          "execution_count": 2
        }
      ]
    },
    {
      "cell_type": "code",
      "source": [
        "sns.pairplot(recipes)"
      ],
      "metadata": {
        "colab": {
          "base_uri": "https://localhost:8080/",
          "height": 988
        },
        "id": "tMex4yz56Wzr",
        "outputId": "568ed1af-8187-49d8-b8f0-fd075d866c26"
      },
      "execution_count": null,
      "outputs": [
        {
          "output_type": "execute_result",
          "data": {
            "text/plain": [
              "<seaborn.axisgrid.PairGrid at 0x7b1d01c03b20>"
            ]
          },
          "metadata": {},
          "execution_count": 3
        },
        {
          "output_type": "display_data",
          "data": {
            "text/plain": [
              "<Figure size 2000x2000 with 72 Axes>"
            ],
            "image/png": "[encoded data removed]"
          },
          "metadata": {}
        }
      ]
    },
    {
      "cell_type": "code",
      "source": [
        "sns.lmplot(x='Flour', y='Sugar', data=recipes, hue='Type', palette='Set1', fit_reg=False, scatter_kws={'s':70})"
      ],
      "metadata": {
        "colab": {
          "base_uri": "https://localhost:8080/",
          "height": 510
        },
        "id": "s8Q5a8-rzGcD",
        "outputId": "a3c95fa5-e189-4d39-9372-0212be5aa252"
      },
      "execution_count": null,
      "outputs": [
        {
          "output_type": "execute_result",
          "data": {
            "text/plain": [
              "<seaborn.axisgrid.FacetGrid at 0x7b1cfcf8fbe0>"
            ]
          },
          "metadata": {},
          "execution_count": 4
        },
        {
          "output_type": "display_data",
          "data": {
            "text/plain": [
              "<Figure size 644.5x500 with 1 Axes>"
            ],
            "image/png": "[encoded data removed]"
          },
          "metadata": {}
        }
      ]
    },
    {
      "cell_type": "code",
      "source": [
        "X_features = recipes.loc[:, ['Flour', 'Sugar']]\n",
        "y_label = np.where(recipes['Type']=='Muffin', 0, 1)"
      ],
      "metadata": {
        "id": "8S9-Fxz90h0d"
      },
      "execution_count": null,
      "outputs": []
    },
    {
      "cell_type": "code",
      "source": [
        "X_features"
      ],
      "metadata": {
        "colab": {
          "base_uri": "https://localhost:8080/",
          "height": 676
        },
        "id": "cW9_ieJB1EN5",
        "outputId": "a1fcebab-1da5-4db6-fe91-5d9961e0df57"
      },
      "execution_count": null,
      "outputs": [
        {
          "output_type": "execute_result",
          "data": {
            "text/plain": [
              "    Flour  Sugar\n",
              "0      55      3\n",
              "1      47     12\n",
              "2      47     18\n",
              "3      45     17\n",
              "4      50     12\n",
              "5      55      3\n",
              "6      54      7\n",
              "7      47     10\n",
              "8      50     17\n",
              "9      50     17\n",
              "10     39     26\n",
              "11     42     16\n",
              "12     34     20\n",
              "13     39     17\n",
              "14     38     23\n",
              "15     42     25\n",
              "16     36     21\n",
              "17     38     31\n",
              "18     36     24\n",
              "19     34     23"
            ],
            "text/html": [
              "\n",
              "  <div id=\"df-44cd186c-13ed-40b2-99e7-226293ce6d57\" class=\"colab-df-container\">\n",
              "    <div>\n",
              "<style scoped>\n",
              "    .dataframe tbody tr th:only-of-type {\n",
              "        vertical-align: middle;\n",
              "    }\n",
              "\n",
              "    .dataframe tbody tr th {\n",
              "        vertical-align: top;\n",
              "    }\n",
              "\n",
              "    .dataframe thead th {\n",
              "        text-align: right;\n",
              "    }\n",
              "</style>\n",
              "<table border=\"1\" class=\"dataframe\">\n",
              "  <thead>\n",
              "    <tr style=\"text-align: right;\">\n",
              "      <th></th>\n",
              "      <th>Flour</th>\n",
              "      <th>Sugar</th>\n",
              "    </tr>\n",
              "  </thead>\n",
              "  <tbody>\n",
              "    <tr>\n",
              "      <th>0</th>\n",
              "      <td>55</td>\n",
              "      <td>3</td>\n",
              "    </tr>\n",
              "    <tr>\n",
              "      <th>1</th>\n",
              "      <td>47</td>\n",
              "      <td>12</td>\n",
              "    </tr>\n",
              "    <tr>\n",
              "      <th>2</th>\n",
              "      <td>47</td>\n",
              "      <td>18</td>\n",
              "    </tr>\n",
              "    <tr>\n",
              "      <th>3</th>\n",
              "      <td>45</td>\n",
              "      <td>17</td>\n",
              "    </tr>\n",
              "    <tr>\n",
              "      <th>4</th>\n",
              "      <td>50</td>\n",
              "      <td>12</td>\n",
              "    </tr>\n",
              "    <tr>\n",
              "      <th>5</th>\n",
              "      <td>55</td>\n",
              "      <td>3</td>\n",
              "    </tr>\n",
              "    <tr>\n",
              "      <th>6</th>\n",
              "      <td>54</td>\n",
              "      <td>7</td>\n",
              "    </tr>\n",
              "    <tr>\n",
              "      <th>7</th>\n",
              "      <td>47</td>\n",
              "      <td>10</td>\n",
              "    </tr>\n",
              "    <tr>\n",
              "      <th>8</th>\n",
              "      <td>50</td>\n",
              "      <td>17</td>\n",
              "    </tr>\n",
              "    <tr>\n",
              "      <th>9</th>\n",
              "      <td>50</td>\n",
              "      <td>17</td>\n",
              "    </tr>\n",
              "    <tr>\n",
              "      <th>10</th>\n",
              "      <td>39</td>\n",
              "      <td>26</td>\n",
              "    </tr>\n",
              "    <tr>\n",
              "      <th>11</th>\n",
              "      <td>42</td>\n",
              "      <td>16</td>\n",
              "    </tr>\n",
              "    <tr>\n",
              "      <th>12</th>\n",
              "      <td>34</td>\n",
              "      <td>20</td>\n",
              "    </tr>\n",
              "    <tr>\n",
              "      <th>13</th>\n",
              "      <td>39</td>\n",
              "      <td>17</td>\n",
              "    </tr>\n",
              "    <tr>\n",
              "      <th>14</th>\n",
              "      <td>38</td>\n",
              "      <td>23</td>\n",
              "    </tr>\n",
              "    <tr>\n",
              "      <th>15</th>\n",
              "      <td>42</td>\n",
              "      <td>25</td>\n",
              "    </tr>\n",
              "    <tr>\n",
              "      <th>16</th>\n",
              "      <td>36</td>\n",
              "      <td>21</td>\n",
              "    </tr>\n",
              "    <tr>\n",
              "      <th>17</th>\n",
              "      <td>38</td>\n",
              "      <td>31</td>\n",
              "    </tr>\n",
              "    <tr>\n",
              "      <th>18</th>\n",
              "      <td>36</td>\n",
              "      <td>24</td>\n",
              "    </tr>\n",
              "    <tr>\n",
              "      <th>19</th>\n",
              "      <td>34</td>\n",
              "      <td>23</td>\n",
              "    </tr>\n",
              "  </tbody>\n",
              "</table>\n",
              "</div>\n",
              "    <div class=\"colab-df-buttons\">\n",
              "\n",
              "  <div class=\"colab-df-container\">\n",
              "    <button class=\"colab-df-convert\" onclick=\"convertToInteractive('df-44cd186c-13ed-40b2-99e7-226293ce6d57')\"\n",
              "            title=\"Convert this dataframe to an interactive table.\"\n",
              "            style=\"display:none;\">\n",
              "\n",
              "  <svg xmlns=\"http://www.w3.org/2000/svg\" height=\"24px\" viewBox=\"0 -960 960 960\">\n",
              "    <path d=\"M120-120v-720h720v720H120Zm60-500h600v-160H180v160Zm220 220h160v-160H400v160Zm0 220h160v-160H400v160ZM180-400h160v-160H180v160Zm440 0h160v-160H620v160ZM180-180h160v-160H180v160Zm440 0h160v-160H620v160Z\"/>\n",
              "  </svg>\n",
              "    </button>\n",
              "\n",
              "  <style>\n",
              "    .colab-df-container {\n",
              "      display:flex;\n",
              "      gap: 12px;\n",
              "    }\n",
              "\n",
              "    .colab-df-convert {\n",
              "      background-color: #E8F0FE;\n",
              "      border: none;\n",
              "      border-radius: 50%;\n",
              "      cursor: pointer;\n",
              "      display: none;\n",
              "      fill: #1967D2;\n",
              "      height: 32px;\n",
              "      padding: 0 0 0 0;\n",
              "      width: 32px;\n",
              "    }\n",
              "\n",
              "    .colab-df-convert:hover {\n",
              "      background-color: #E2EBFA;\n",
              "      box-shadow: 0px 1px 2px rgba(60, 64, 67, 0.3), 0px 1px 3px 1px rgba(60, 64, 67, 0.15);\n",
              "      fill: #174EA6;\n",
              "    }\n",
              "\n",
              "    .colab-df-buttons div {\n",
              "      margin-bottom: 4px;\n",
              "    }\n",
              "\n",
              "    [theme=dark] .colab-df-convert {\n",
              "      background-color: #3B4455;\n",
              "      fill: #D2E3FC;\n",
              "    }\n",
              "\n",
              "    [theme=dark] .colab-df-convert:hover {\n",
              "      background-color: #434B5C;\n",
              "      box-shadow: 0px 1px 3px 1px rgba(0, 0, 0, 0.15);\n",
              "      filter: drop-shadow(0px 1px 2px rgba(0, 0, 0, 0.3));\n",
              "      fill: #FFFFFF;\n",
              "    }\n",
              "  </style>\n",
              "\n",
              "    <script>\n",
              "      const buttonEl =\n",
              "        document.querySelector('#df-44cd186c-13ed-40b2-99e7-226293ce6d57 button.colab-df-convert');\n",
              "      buttonEl.style.display =\n",
              "        google.colab.kernel.accessAllowed ? 'block' : 'none';\n",
              "\n",
              "      async function convertToInteractive(key) {\n",
              "        const element = document.querySelector('#df-44cd186c-13ed-40b2-99e7-226293ce6d57');\n",
              "        const dataTable =\n",
              "          await google.colab.kernel.invokeFunction('convertToInteractive',\n",
              "                                                    [key], {});\n",
              "        if (!dataTable) return;\n",
              "\n",
              "        const docLinkHtml = 'Like what you see? Visit the ' +\n",
              "          '<a target=\"_blank\" href=https://colab.research.google.com/notebooks/data_table.ipynb>data table notebook</a>'\n",
              "          + ' to learn more about interactive tables.';\n",
              "        element.innerHTML = '';\n",
              "        dataTable['output_type'] = 'display_data';\n",
              "        await google.colab.output.renderOutput(dataTable, element);\n",
              "        const docLink = document.createElement('div');\n",
              "        docLink.innerHTML = docLinkHtml;\n",
              "        element.appendChild(docLink);\n",
              "      }\n",
              "    </script>\n",
              "  </div>\n",
              "\n",
              "\n",
              "<div id=\"df-2e6e9cb7-3a08-4373-927e-16bc26a9843f\">\n",
              "  <button class=\"colab-df-quickchart\" onclick=\"quickchart('df-2e6e9cb7-3a08-4373-927e-16bc26a9843f')\"\n",
              "            title=\"Suggest charts.\"\n",
              "            style=\"display:none;\">\n",
              "\n",
              "<svg xmlns=\"http://www.w3.org/2000/svg\" height=\"24px\"viewBox=\"0 0 24 24\"\n",
              "     width=\"24px\">\n",
              "    <g>\n",
              "        <path d=\"M19 3H5c-1.1 0-2 .9-2 2v14c0 1.1.9 2 2 2h14c1.1 0 2-.9 2-2V5c0-1.1-.9-2-2-2zM9 17H7v-7h2v7zm4 0h-2V7h2v10zm4 0h-2v-4h2v4z\"/>\n",
              "    </g>\n",
              "</svg>\n",
              "  </button>\n",
              "\n",
              "<style>\n",
              "  .colab-df-quickchart {\n",
              "      --bg-color: #E8F0FE;\n",
              "      --fill-color: #1967D2;\n",
              "      --hover-bg-color: #E2EBFA;\n",
              "      --hover-fill-color: #174EA6;\n",
              "      --disabled-fill-color: #AAA;\n",
              "      --disabled-bg-color: #DDD;\n",
              "  }\n",
              "\n",
              "  [theme=dark] .colab-df-quickchart {\n",
              "      --bg-color: #3B4455;\n",
              "      --fill-color: #D2E3FC;\n",
              "      --hover-bg-color: #434B5C;\n",
              "      --hover-fill-color: #FFFFFF;\n",
              "      --disabled-bg-color: #3B4455;\n",
              "      --disabled-fill-color: #666;\n",
              "  }\n",
              "\n",
              "  .colab-df-quickchart {\n",
              "    background-color: var(--bg-color);\n",
              "    border: none;\n",
              "    border-radius: 50%;\n",
              "    cursor: pointer;\n",
              "    display: none;\n",
              "    fill: var(--fill-color);\n",
              "    height: 32px;\n",
              "    padding: 0;\n",
              "    width: 32px;\n",
              "  }\n",
              "\n",
              "  .colab-df-quickchart:hover {\n",
              "    background-color: var(--hover-bg-color);\n",
              "    box-shadow: 0 1px 2px rgba(60, 64, 67, 0.3), 0 1px 3px 1px rgba(60, 64, 67, 0.15);\n",
              "    fill: var(--button-hover-fill-color);\n",
              "  }\n",
              "\n",
              "  .colab-df-quickchart-complete:disabled,\n",
              "  .colab-df-quickchart-complete:disabled:hover {\n",
              "    background-color: var(--disabled-bg-color);\n",
              "    fill: var(--disabled-fill-color);\n",
              "    box-shadow: none;\n",
              "  }\n",
              "\n",
              "  .colab-df-spinner {\n",
              "    border: 2px solid var(--fill-color);\n",
              "    border-color: transparent;\n",
              "    border-bottom-color: var(--fill-color);\n",
              "    animation:\n",
              "      spin 1s steps(1) infinite;\n",
              "  }\n",
              "\n",
              "  @keyframes spin {\n",
              "    0% {\n",
              "      border-color: transparent;\n",
              "      border-bottom-color: var(--fill-color);\n",
              "      border-left-color: var(--fill-color);\n",
              "    }\n",
              "    20% {\n",
              "      border-color: transparent;\n",
              "      border-left-color: var(--fill-color);\n",
              "      border-top-color: var(--fill-color);\n",
              "    }\n",
              "    30% {\n",
              "      border-color: transparent;\n",
              "      border-left-color: var(--fill-color);\n",
              "      border-top-color: var(--fill-color);\n",
              "      border-right-color: var(--fill-color);\n",
              "    }\n",
              "    40% {\n",
              "      border-color: transparent;\n",
              "      border-right-color: var(--fill-color);\n",
              "      border-top-color: var(--fill-color);\n",
              "    }\n",
              "    60% {\n",
              "      border-color: transparent;\n",
              "      border-right-color: var(--fill-color);\n",
              "    }\n",
              "    80% {\n",
              "      border-color: transparent;\n",
              "      border-right-color: var(--fill-color);\n",
              "      border-bottom-color: var(--fill-color);\n",
              "    }\n",
              "    90% {\n",
              "      border-color: transparent;\n",
              "      border-bottom-color: var(--fill-color);\n",
              "    }\n",
              "  }\n",
              "</style>\n",
              "\n",
              "  <script>\n",
              "    async function quickchart(key) {\n",
              "      const quickchartButtonEl =\n",
              "        document.querySelector('#' + key + ' button');\n",
              "      quickchartButtonEl.disabled = true;  // To prevent multiple clicks.\n",
              "      quickchartButtonEl.classList.add('colab-df-spinner');\n",
              "      try {\n",
              "        const charts = await google.colab.kernel.invokeFunction(\n",
              "            'suggestCharts', [key], {});\n",
              "      } catch (error) {\n",
              "        console.error('Error during call to suggestCharts:', error);\n",
              "      }\n",
              "      quickchartButtonEl.classList.remove('colab-df-spinner');\n",
              "      quickchartButtonEl.classList.add('colab-df-quickchart-complete');\n",
              "    }\n",
              "    (() => {\n",
              "      let quickchartButtonEl =\n",
              "        document.querySelector('#df-2e6e9cb7-3a08-4373-927e-16bc26a9843f button');\n",
              "      quickchartButtonEl.style.display =\n",
              "        google.colab.kernel.accessAllowed ? 'block' : 'none';\n",
              "    })();\n",
              "  </script>\n",
              "</div>\n",
              "    </div>\n",
              "  </div>\n"
            ]
          },
          "metadata": {},
          "execution_count": 6
        }
      ]
    },
    {
      "cell_type": "code",
      "source": [
        "y_label"
      ],
      "metadata": {
        "colab": {
          "base_uri": "https://localhost:8080/"
        },
        "id": "EAt2fUwB1Ggo",
        "outputId": "16ac243c-d137-4b2d-ef46-44826f8fcd68"
      },
      "execution_count": null,
      "outputs": [
        {
          "output_type": "execute_result",
          "data": {
            "text/plain": [
              "array([0, 0, 0, 0, 0, 0, 0, 0, 0, 0, 1, 1, 1, 1, 1, 1, 1, 1, 1, 1])"
            ]
          },
          "metadata": {},
          "execution_count": 7
        }
      ]
    },
    {
      "cell_type": "code",
      "source": [
        "model = SVC(kernel='linear')"
      ],
      "metadata": {
        "id": "A2mtp6X_1IyV"
      },
      "execution_count": null,
      "outputs": []
    },
    {
      "cell_type": "code",
      "source": [
        "model.fit(X_features, y_label)"
      ],
      "metadata": {
        "colab": {
          "base_uri": "https://localhost:8080/",
          "height": 74
        },
        "id": "zvZ6CksL1p3t",
        "outputId": "57ac0c65-b1db-4342-ab01-09d9932d9ed7"
      },
      "execution_count": null,
      "outputs": [
        {
          "output_type": "execute_result",
          "data": {
            "text/plain": [
              "SVC(kernel='linear')"
            ],
            "text/html": [
              "<style>#sk-container-id-1 {color: black;background-color: white;}#sk-container-id-1 pre{padding: 0;}#sk-container-id-1 div.sk-toggleable {background-color: white;}#sk-container-id-1 label.sk-toggleable__label {cursor: pointer;display: block;width: 100%;margin-bottom: 0;padding: 0.3em;box-sizing: border-box;text-align: center;}#sk-container-id-1 label.sk-toggleable__label-arrow:before {content: \"▸\";float: left;margin-right: 0.25em;color: #696969;}#sk-container-id-1 label.sk-toggleable__label-arrow:hover:before {color: black;}#sk-container-id-1 div.sk-estimator:hover label.sk-toggleable__label-arrow:before {color: black;}#sk-container-id-1 div.sk-toggleable__content {max-height: 0;max-width: 0;overflow: hidden;text-align: left;background-color: #f0f8ff;}#sk-container-id-1 div.sk-toggleable__content pre {margin: 0.2em;color: black;border-radius: 0.25em;background-color: #f0f8ff;}#sk-container-id-1 input.sk-toggleable__control:checked~div.sk-toggleable__content {max-height: 200px;max-width: 100%;overflow: auto;}#sk-container-id-1 input.sk-toggleable__control:checked~label.sk-toggleable__label-arrow:before {content: \"▾\";}#sk-container-id-1 div.sk-estimator input.sk-toggleable__control:checked~label.sk-toggleable__label {background-color: #d4ebff;}#sk-container-id-1 div.sk-label input.sk-toggleable__control:checked~label.sk-toggleable__label {background-color: #d4ebff;}#sk-container-id-1 input.sk-hidden--visually {border: 0;clip: rect(1px 1px 1px 1px);clip: rect(1px, 1px, 1px, 1px);height: 1px;margin: -1px;overflow: hidden;padding: 0;position: absolute;width: 1px;}#sk-container-id-1 div.sk-estimator {font-family: monospace;background-color: #f0f8ff;border: 1px dotted black;border-radius: 0.25em;box-sizing: border-box;margin-bottom: 0.5em;}#sk-container-id-1 div.sk-estimator:hover {background-color: #d4ebff;}#sk-container-id-1 div.sk-parallel-item::after {content: \"\";width: 100%;border-bottom: 1px solid gray;flex-grow: 1;}#sk-container-id-1 div.sk-label:hover label.sk-toggleable__label {background-color: #d4ebff;}#sk-container-id-1 div.sk-serial::before {content: \"\";position: absolute;border-left: 1px solid gray;box-sizing: border-box;top: 0;bottom: 0;left: 50%;z-index: 0;}#sk-container-id-1 div.sk-serial {display: flex;flex-direction: column;align-items: center;background-color: white;padding-right: 0.2em;padding-left: 0.2em;position: relative;}#sk-container-id-1 div.sk-item {position: relative;z-index: 1;}#sk-container-id-1 div.sk-parallel {display: flex;align-items: stretch;justify-content: center;background-color: white;position: relative;}#sk-container-id-1 div.sk-item::before, #sk-container-id-1 div.sk-parallel-item::before {content: \"\";position: absolute;border-left: 1px solid gray;box-sizing: border-box;top: 0;bottom: 0;left: 50%;z-index: -1;}#sk-container-id-1 div.sk-parallel-item {display: flex;flex-direction: column;z-index: 1;position: relative;background-color: white;}#sk-container-id-1 div.sk-parallel-item:first-child::after {align-self: flex-end;width: 50%;}#sk-container-id-1 div.sk-parallel-item:last-child::after {align-self: flex-start;width: 50%;}#sk-container-id-1 div.sk-parallel-item:only-child::after {width: 0;}#sk-container-id-1 div.sk-dashed-wrapped {border: 1px dashed gray;margin: 0 0.4em 0.5em 0.4em;box-sizing: border-box;padding-bottom: 0.4em;background-color: white;}#sk-container-id-1 div.sk-label label {font-family: monospace;font-weight: bold;display: inline-block;line-height: 1.2em;}#sk-container-id-1 div.sk-label-container {text-align: center;}#sk-container-id-1 div.sk-container {/* jupyter's `normalize.less` sets `[hidden] { display: none; }` but bootstrap.min.css set `[hidden] { display: none !important; }` so we also need the `!important` here to be able to override the default hidden behavior on the sphinx rendered scikit-learn.org. See: https://github.com/scikit-learn/scikit-learn/issues/21755 */display: inline-block !important;position: relative;}#sk-container-id-1 div.sk-text-repr-fallback {display: none;}</style><div id=\"sk-container-id-1\" class=\"sk-top-container\"><div class=\"sk-text-repr-fallback\"><pre>SVC(kernel=&#x27;linear&#x27;)</pre><b>In a Jupyter environment, please rerun this cell to show the HTML representation or trust the notebook. <br />On GitHub, the HTML representation is unable to render, please try loading this page with nbviewer.org.</b></div><div class=\"sk-container\" hidden><div class=\"sk-item\"><div class=\"sk-estimator sk-toggleable\"><input class=\"sk-toggleable__control sk-hidden--visually\" id=\"sk-estimator-id-1\" type=\"checkbox\" checked><label for=\"sk-estimator-id-1\" class=\"sk-toggleable__label sk-toggleable__label-arrow\">SVC</label><div class=\"sk-toggleable__content\"><pre>SVC(kernel=&#x27;linear&#x27;)</pre></div></div></div></div></div>"
            ]
          },
          "metadata": {},
          "execution_count": 9
        }
      ]
    },
    {
      "cell_type": "code",
      "source": [
        "model.coef_"
      ],
      "metadata": {
        "colab": {
          "base_uri": "https://localhost:8080/"
        },
        "id": "B8lkD0jQ1udS",
        "outputId": "cbfd5c07-a886-4b0b-fa00-1429eda084fa"
      },
      "execution_count": null,
      "outputs": [
        {
          "output_type": "execute_result",
          "data": {
            "text/plain": [
              "array([[-6.66503014e-01, -7.77156117e-16]])"
            ]
          },
          "metadata": {},
          "execution_count": 10
        }
      ]
    },
    {
      "cell_type": "code",
      "source": [
        "model.intercept_"
      ],
      "metadata": {
        "colab": {
          "base_uri": "https://localhost:8080/"
        },
        "id": "ow0yC-791xat",
        "outputId": "05c3bc20-7e1c-4348-abce-5e06d6e20e38"
      },
      "execution_count": null,
      "outputs": [
        {
          "output_type": "execute_result",
          "data": {
            "text/plain": [
              "array([28.99296292])"
            ]
          },
          "metadata": {},
          "execution_count": 11
        }
      ]
    },
    {
      "cell_type": "code",
      "source": [
        "model.support_vectors_"
      ],
      "metadata": {
        "colab": {
          "base_uri": "https://localhost:8080/"
        },
        "id": "LGNbEVQc108k",
        "outputId": "48b57bd5-271f-4735-9f5a-3adda320b101"
      },
      "execution_count": null,
      "outputs": [
        {
          "output_type": "execute_result",
          "data": {
            "text/plain": [
              "array([[45., 17.],\n",
              "       [42., 16.],\n",
              "       [42., 25.]])"
            ]
          },
          "metadata": {},
          "execution_count": 13
        }
      ]
    },
    {
      "cell_type": "code",
      "source": [
        "w = model.coef_[0]"
      ],
      "metadata": {
        "id": "SBPONNqm15qX"
      },
      "execution_count": null,
      "outputs": []
    },
    {
      "cell_type": "code",
      "source": [
        "w"
      ],
      "metadata": {
        "colab": {
          "base_uri": "https://localhost:8080/"
        },
        "id": "KK83nCwn2ICV",
        "outputId": "75bd1f31-4ddc-4272-e48d-38284fd46aea"
      },
      "execution_count": null,
      "outputs": [
        {
          "output_type": "execute_result",
          "data": {
            "text/plain": [
              "array([-6.66503014e-01, -7.77156117e-16])"
            ]
          },
          "metadata": {},
          "execution_count": 15
        }
      ]
    },
    {
      "cell_type": "code",
      "source": [
        "a = -w[0] / w[1]"
      ],
      "metadata": {
        "id": "FGiEJ3462Im5"
      },
      "execution_count": null,
      "outputs": []
    },
    {
      "cell_type": "code",
      "source": [
        "xx = np.linspace(30, 60)"
      ],
      "metadata": {
        "id": "OGcMdKrQ2O6b"
      },
      "execution_count": null,
      "outputs": []
    },
    {
      "cell_type": "code",
      "source": [
        "xx"
      ],
      "metadata": {
        "colab": {
          "base_uri": "https://localhost:8080/"
        },
        "id": "Y7OsRzMz2cVt",
        "outputId": "31008f23-c8ab-4346-a432-d6c0aaf28c61"
      },
      "execution_count": null,
      "outputs": [
        {
          "output_type": "execute_result",
          "data": {
            "text/plain": [
              "array([30.        , 30.6122449 , 31.2244898 , 31.83673469, 32.44897959,\n",
              "       33.06122449, 33.67346939, 34.28571429, 34.89795918, 35.51020408,\n",
              "       36.12244898, 36.73469388, 37.34693878, 37.95918367, 38.57142857,\n",
              "       39.18367347, 39.79591837, 40.40816327, 41.02040816, 41.63265306,\n",
              "       42.24489796, 42.85714286, 43.46938776, 44.08163265, 44.69387755,\n",
              "       45.30612245, 45.91836735, 46.53061224, 47.14285714, 47.75510204,\n",
              "       48.36734694, 48.97959184, 49.59183673, 50.20408163, 50.81632653,\n",
              "       51.42857143, 52.04081633, 52.65306122, 53.26530612, 53.87755102,\n",
              "       54.48979592, 55.10204082, 55.71428571, 56.32653061, 56.93877551,\n",
              "       57.55102041, 58.16326531, 58.7755102 , 59.3877551 , 60.        ])"
            ]
          },
          "metadata": {},
          "execution_count": 18
        }
      ]
    },
    {
      "cell_type": "code",
      "source": [
        "model.intercept_[0]"
      ],
      "metadata": {
        "colab": {
          "base_uri": "https://localhost:8080/"
        },
        "id": "A7hJOBI62mtH",
        "outputId": "c50c89be-989b-445f-c815-487b06a9ee84"
      },
      "execution_count": null,
      "outputs": [
        {
          "output_type": "execute_result",
          "data": {
            "text/plain": [
              "28.992962922374236"
            ]
          },
          "metadata": {},
          "execution_count": 19
        }
      ]
    },
    {
      "cell_type": "code",
      "source": [
        "yy = a*xx - (model.intercept_[0]/w[1]) ##hyperline"
      ],
      "metadata": {
        "id": "VIl4N2DT2cxU"
      },
      "execution_count": null,
      "outputs": []
    },
    {
      "cell_type": "code",
      "source": [
        "vec = model.support_vectors_[0]"
      ],
      "metadata": {
        "id": "DWNSXud82ttf"
      },
      "execution_count": null,
      "outputs": []
    },
    {
      "cell_type": "code",
      "source": [
        "vec # (x, y) => y = ax + b ==> b = y - ax"
      ],
      "metadata": {
        "colab": {
          "base_uri": "https://localhost:8080/"
        },
        "id": "gF_ltZE23CGr",
        "outputId": "89ba46c3-7df8-4089-d581-22921373f573"
      },
      "execution_count": null,
      "outputs": [
        {
          "output_type": "execute_result",
          "data": {
            "text/plain": [
              "array([45., 17.])"
            ]
          },
          "metadata": {},
          "execution_count": 25
        }
      ]
    },
    {
      "cell_type": "code",
      "source": [
        "yy_down = a*xx + (vec[1] - a * vec[0]) # vec[1] ==y , vec[0] == x"
      ],
      "metadata": {
        "id": "6A_OoKfU3CXg"
      },
      "execution_count": null,
      "outputs": []
    },
    {
      "cell_type": "code",
      "source": [
        "vec = model.support_vectors_[-1]"
      ],
      "metadata": {
        "id": "w5ko4TL_3jSb"
      },
      "execution_count": null,
      "outputs": []
    },
    {
      "cell_type": "code",
      "source": [
        "yy_up = a*xx + (vec[1] - a*vec[0])"
      ],
      "metadata": {
        "id": "WEwQHdat37cQ"
      },
      "execution_count": null,
      "outputs": []
    },
    {
      "cell_type": "code",
      "source": [
        "sns.lmplot(x='Flour', y='Sugar', data=recipes, hue='Type', palette='Set1', fit_reg=False, scatter_kws={'s':70})\n",
        "plt.plot(xx, yy, linewidth=2, color='black')\n",
        "plt.plot(xx, yy_down, 'k--')\n",
        "plt.plot(xx, yy_up, 'k--')\n",
        "plt.ylim([0, 40])\n",
        "plt.show()"
      ],
      "metadata": {
        "colab": {
          "base_uri": "https://localhost:8080/",
          "height": 500
        },
        "id": "8dInedZC4HGR",
        "outputId": "4d9c99a6-ef1a-4021-a090-197a11a1e2e6"
      },
      "execution_count": null,
      "outputs": [
        {
          "output_type": "display_data",
          "data": {
            "text/plain": [
              "<Figure size 644.5x500 with 1 Axes>"
            ],
            "image/png": "[encoded data removed]"
          },
          "metadata": {}
        }
      ]
    },
    {
      "cell_type": "code",
      "source": [
        "def muffin_or_cupcake(flour, sugar):\n",
        "    if (model.predict([[flour, sugar]]))==0:\n",
        "        print('Muffin!')\n",
        "    else:\n",
        "        print('Cupcake!')"
      ],
      "metadata": {
        "id": "7eJqz9O77GdZ"
      },
      "execution_count": null,
      "outputs": []
    },
    {
      "cell_type": "code",
      "source": [
        "muffin_or_cupcake(50, 20)"
      ],
      "metadata": {
        "colab": {
          "base_uri": "https://localhost:8080/"
        },
        "id": "xtitPUar8Dca",
        "outputId": "6189cd4c-a8aa-4ae2-8583-da4c31e45b1d"
      },
      "execution_count": null,
      "outputs": [
        {
          "output_type": "stream",
          "name": "stdout",
          "text": [
            "Muffin!\n"
          ]
        },
        {
          "output_type": "stream",
          "name": "stderr",
          "text": [
            "/usr/local/lib/python3.10/dist-packages/sklearn/base.py:439: UserWarning: X does not have valid feature names, but SVC was fitted with feature names\n",
            "  warnings.warn(\n"
          ]
        }
      ]
    },
    {
      "cell_type": "code",
      "source": [
        "sns.lmplot(x='Flour', y='Sugar', data=recipes, hue='Type', palette='Set1', fit_reg=False, scatter_kws={'s':70})\n",
        "plt.plot(xx, yy, linewidth=2, color='black')\n",
        "plt.plot(xx, yy_down, 'k--')\n",
        "plt.plot(xx, yy_up, 'k--')\n",
        "plt.plot(50, 20, 'yo', markersize='18')\n",
        "plt.ylim([0, 40])\n",
        "plt.show()"
      ],
      "metadata": {
        "colab": {
          "base_uri": "https://localhost:8080/",
          "height": 500
        },
        "id": "AxsfEthq8F_u",
        "outputId": "a8d46069-787a-4bd2-d481-47cb3c6211e9"
      },
      "execution_count": null,
      "outputs": [
        {
          "output_type": "display_data",
          "data": {
            "text/plain": [
              "<Figure size 644.5x500 with 1 Axes>"
            ],
            "image/png": "[encoded data removed]"
          },
          "metadata": {}
        }
      ]
    },
    {
      "cell_type": "markdown",
      "source": [
        "#Pipe 사용\n",
        "\n",
        "- 추정기와 객체 이름을 튜플로 만들어 준다. => 객체 이름을 적지 않을때는 make_pipeline을 사용한다.\n",
        "\n",
        "- 각 단계는 최대 4단계까지 가능하며, 마지막 단계를 제외한 앞에 3단계는 transform 메서드가 있는 객체이어야 한다."
      ],
      "metadata": {
        "id": "NIhlzwCbB_cR"
      }
    },
    {
      "cell_type": "code",
      "source": [
        "from sklearn.datasets import load_breast_cancer"
      ],
      "metadata": {
        "id": "lEBCZAd38PWa"
      },
      "execution_count": null,
      "outputs": []
    },
    {
      "cell_type": "code",
      "source": [
        "from sklearn.preprocessing import MinMaxScaler"
      ],
      "metadata": {
        "id": "5YYL_kZC85hP"
      },
      "execution_count": null,
      "outputs": []
    },
    {
      "cell_type": "code",
      "source": [
        "cancer = load_breast_cancer()"
      ],
      "metadata": {
        "id": "WQAqnv2g8-YL"
      },
      "execution_count": null,
      "outputs": []
    },
    {
      "cell_type": "code",
      "source": [
        "from sklearn.model_selection import train_test_split\n",
        "X_train, X_test, y_train, y_test = train_test_split(cancer.data, cancer.target, random_state=0)\n",
        "scaler = MinMaxScaler().fit(X_train)\n",
        "X_train_scaled = scaler.transform(X_train)\n",
        "svm = SVC()\n",
        "svm.fit(X_train_scaled, y_train)\n",
        "X_test_scaled = scaler.transform(X_test)\n",
        "svm.score(X_test_scaled, y_test)"
      ],
      "metadata": {
        "colab": {
          "base_uri": "https://localhost:8080/"
        },
        "id": "sSrPPaSz9B09",
        "outputId": "985cd6f3-db87-4c6b-d66a-e176656fccd5"
      },
      "execution_count": null,
      "outputs": [
        {
          "output_type": "execute_result",
          "data": {
            "text/plain": [
              "0.972027972027972"
            ]
          },
          "metadata": {},
          "execution_count": 38
        }
      ]
    },
    {
      "cell_type": "code",
      "source": [
        "from sklearn.model_selection import GridSearchCV"
      ],
      "metadata": {
        "id": "SVM-N4o3-NKD"
      },
      "execution_count": null,
      "outputs": []
    },
    {
      "cell_type": "code",
      "source": [
        "param_grid = {'C':[0.001, 0.01, 0.1, 1, 10, 100], 'gamma':[0.001, 0.01, 0.1, 1, 10, 100]}"
      ],
      "metadata": {
        "id": "yvDxkJ_R-T_3"
      },
      "execution_count": null,
      "outputs": []
    },
    {
      "cell_type": "code",
      "source": [
        "grid = GridSearchCV(SVC(), param_grid = param_grid, cv=5)\n",
        "grid.fit(X_train_scaled, y_train)\n",
        "grid.best_score_"
      ],
      "metadata": {
        "colab": {
          "base_uri": "https://localhost:8080/"
        },
        "id": "skBDhiew-jk6",
        "outputId": "14a5975f-194c-4896-ed9f-885039db21ce"
      },
      "execution_count": null,
      "outputs": [
        {
          "output_type": "execute_result",
          "data": {
            "text/plain": [
              "0.9812311901504789"
            ]
          },
          "metadata": {},
          "execution_count": 41
        }
      ]
    },
    {
      "cell_type": "code",
      "source": [
        "grid.best_params_"
      ],
      "metadata": {
        "colab": {
          "base_uri": "https://localhost:8080/"
        },
        "id": "GlDBQfjc-yEg",
        "outputId": "68b0c4e0-8211-4839-ee80-26fd05689f19"
      },
      "execution_count": null,
      "outputs": [
        {
          "output_type": "execute_result",
          "data": {
            "text/plain": [
              "{'C': 1, 'gamma': 1}"
            ]
          },
          "metadata": {},
          "execution_count": 42
        }
      ]
    },
    {
      "cell_type": "code",
      "source": [
        "grid.best_estimator_.score(X_test_scaled, y_test)"
      ],
      "metadata": {
        "colab": {
          "base_uri": "https://localhost:8080/"
        },
        "id": "WRW6asdl-2G3",
        "outputId": "8e1bf87e-1ffd-440b-fdb3-aa1148d429f1"
      },
      "execution_count": null,
      "outputs": [
        {
          "output_type": "execute_result",
          "data": {
            "text/plain": [
              "0.972027972027972"
            ]
          },
          "metadata": {},
          "execution_count": 43
        }
      ]
    },
    {
      "cell_type": "code",
      "source": [
        "from sklearn.pipeline import Pipeline"
      ],
      "metadata": {
        "id": "b-ekcIkc_Brp"
      },
      "execution_count": null,
      "outputs": []
    },
    {
      "cell_type": "code",
      "source": [
        "pipe = Pipeline([('scaler', MinMaxScaler()), ('svm', SVC())])"
      ],
      "metadata": {
        "id": "6oPxGcNZ_tfC"
      },
      "execution_count": null,
      "outputs": []
    },
    {
      "cell_type": "code",
      "source": [
        "pipe.fit(X_train, y_train)\n",
        "pipe.score(X_test, y_test)"
      ],
      "metadata": {
        "colab": {
          "base_uri": "https://localhost:8080/"
        },
        "id": "hdLHuFW1AAhN",
        "outputId": "a816fe64-993e-498a-b069-69ef7feb1153"
      },
      "execution_count": null,
      "outputs": [
        {
          "output_type": "execute_result",
          "data": {
            "text/plain": [
              "0.972027972027972"
            ]
          },
          "metadata": {},
          "execution_count": 48
        }
      ]
    },
    {
      "cell_type": "code",
      "source": [
        "param_grid = {'svm__C':[0.001, 0.01, 0.1, 1, 10, 100], 'svm__gamma':[0.001, 0.01, 0.1, 1, 10, 100]}\n",
        "grid = GridSearchCV(pipe, param_grid = param_grid, cv=5)\n",
        "grid.fit(X_train, y_train)\n",
        "print(grid.best_score_)\n",
        "print(grid.score(X_test, y_test))\n",
        "print(grid.best_params_)"
      ],
      "metadata": {
        "colab": {
          "base_uri": "https://localhost:8080/"
        },
        "id": "3u_Q2M7lANxG",
        "outputId": "ecf166f2-8ac0-4b83-8246-fd7381f828bd"
      },
      "execution_count": null,
      "outputs": [
        {
          "output_type": "stream",
          "name": "stdout",
          "text": [
            "0.9812311901504789\n",
            "0.972027972027972\n",
            "{'svm__C': 1, 'svm__gamma': 1}\n"
          ]
        }
      ]
    },
    {
      "cell_type": "markdown",
      "source": [
        "make_pipe 사용 예"
      ],
      "metadata": {
        "id": "2ImgsL58CpKj"
      }
    },
    {
      "cell_type": "code",
      "source": [
        "from sklearn.pipeline import make_pipeline\n",
        "from sklearn.ensemble import RandomForestClassifier"
      ],
      "metadata": {
        "id": "QVMoihI6BaiL"
      },
      "execution_count": null,
      "outputs": []
    },
    {
      "cell_type": "code",
      "source": [
        "pipe = make_pipeline(MinMaxScaler(), RandomForestClassifier(max_depth=5))"
      ],
      "metadata": {
        "id": "JNKKEWBaC044"
      },
      "execution_count": null,
      "outputs": []
    },
    {
      "cell_type": "code",
      "source": [
        "pipe.fit(X_train, y_train)\n",
        "pipe.score(X_test, y_test)"
      ],
      "metadata": {
        "colab": {
          "base_uri": "https://localhost:8080/"
        },
        "id": "Zl1xIXujDByP",
        "outputId": "360b6490-2fb5-438e-ed49-34c482041990"
      },
      "execution_count": null,
      "outputs": [
        {
          "output_type": "execute_result",
          "data": {
            "text/plain": [
              "0.965034965034965"
            ]
          },
          "metadata": {},
          "execution_count": 53
        }
      ]
    },
    {
      "cell_type": "code",
      "source": [
        "pipe.steps"
      ],
      "metadata": {
        "colab": {
          "base_uri": "https://localhost:8080/"
        },
        "id": "F7TyALf4DIyE",
        "outputId": "38492f1a-75f4-46c3-d3ae-6b5a79e7ce14"
      },
      "execution_count": null,
      "outputs": [
        {
          "output_type": "execute_result",
          "data": {
            "text/plain": [
              "[('minmaxscaler', MinMaxScaler()),\n",
              " ('randomforestclassifier', RandomForestClassifier(max_depth=5))]"
            ]
          },
          "metadata": {},
          "execution_count": 54
        }
      ]
    },
    {
      "cell_type": "code",
      "source": [
        "pipe.steps[0]"
      ],
      "metadata": {
        "colab": {
          "base_uri": "https://localhost:8080/"
        },
        "id": "PmGjAxtHDSLS",
        "outputId": "996c337b-eb66-4e7d-cbf7-d9ddafc08233"
      },
      "execution_count": null,
      "outputs": [
        {
          "output_type": "execute_result",
          "data": {
            "text/plain": [
              "('minmaxscaler', MinMaxScaler())"
            ]
          },
          "metadata": {},
          "execution_count": 55
        }
      ]
    },
    {
      "cell_type": "code",
      "source": [
        "pipe.steps[0][1]"
      ],
      "metadata": {
        "colab": {
          "base_uri": "https://localhost:8080/",
          "height": 74
        },
        "id": "C3C2RUHDDc6u",
        "outputId": "21f5621d-8b41-41df-f3b7-1c5c3491527e"
      },
      "execution_count": null,
      "outputs": [
        {
          "output_type": "execute_result",
          "data": {
            "text/plain": [
              "MinMaxScaler()"
            ],
            "text/html": [
              "<style>#sk-container-id-2 {color: black;background-color: white;}#sk-container-id-2 pre{padding: 0;}#sk-container-id-2 div.sk-toggleable {background-color: white;}#sk-container-id-2 label.sk-toggleable__label {cursor: pointer;display: block;width: 100%;margin-bottom: 0;padding: 0.3em;box-sizing: border-box;text-align: center;}#sk-container-id-2 label.sk-toggleable__label-arrow:before {content: \"▸\";float: left;margin-right: 0.25em;color: #696969;}#sk-container-id-2 label.sk-toggleable__label-arrow:hover:before {color: black;}#sk-container-id-2 div.sk-estimator:hover label.sk-toggleable__label-arrow:before {color: black;}#sk-container-id-2 div.sk-toggleable__content {max-height: 0;max-width: 0;overflow: hidden;text-align: left;background-color: #f0f8ff;}#sk-container-id-2 div.sk-toggleable__content pre {margin: 0.2em;color: black;border-radius: 0.25em;background-color: #f0f8ff;}#sk-container-id-2 input.sk-toggleable__control:checked~div.sk-toggleable__content {max-height: 200px;max-width: 100%;overflow: auto;}#sk-container-id-2 input.sk-toggleable__control:checked~label.sk-toggleable__label-arrow:before {content: \"▾\";}#sk-container-id-2 div.sk-estimator input.sk-toggleable__control:checked~label.sk-toggleable__label {background-color: #d4ebff;}#sk-container-id-2 div.sk-label input.sk-toggleable__control:checked~label.sk-toggleable__label {background-color: #d4ebff;}#sk-container-id-2 input.sk-hidden--visually {border: 0;clip: rect(1px 1px 1px 1px);clip: rect(1px, 1px, 1px, 1px);height: 1px;margin: -1px;overflow: hidden;padding: 0;position: absolute;width: 1px;}#sk-container-id-2 div.sk-estimator {font-family: monospace;background-color: #f0f8ff;border: 1px dotted black;border-radius: 0.25em;box-sizing: border-box;margin-bottom: 0.5em;}#sk-container-id-2 div.sk-estimator:hover {background-color: #d4ebff;}#sk-container-id-2 div.sk-parallel-item::after {content: \"\";width: 100%;border-bottom: 1px solid gray;flex-grow: 1;}#sk-container-id-2 div.sk-label:hover label.sk-toggleable__label {background-color: #d4ebff;}#sk-container-id-2 div.sk-serial::before {content: \"\";position: absolute;border-left: 1px solid gray;box-sizing: border-box;top: 0;bottom: 0;left: 50%;z-index: 0;}#sk-container-id-2 div.sk-serial {display: flex;flex-direction: column;align-items: center;background-color: white;padding-right: 0.2em;padding-left: 0.2em;position: relative;}#sk-container-id-2 div.sk-item {position: relative;z-index: 1;}#sk-container-id-2 div.sk-parallel {display: flex;align-items: stretch;justify-content: center;background-color: white;position: relative;}#sk-container-id-2 div.sk-item::before, #sk-container-id-2 div.sk-parallel-item::before {content: \"\";position: absolute;border-left: 1px solid gray;box-sizing: border-box;top: 0;bottom: 0;left: 50%;z-index: -1;}#sk-container-id-2 div.sk-parallel-item {display: flex;flex-direction: column;z-index: 1;position: relative;background-color: white;}#sk-container-id-2 div.sk-parallel-item:first-child::after {align-self: flex-end;width: 50%;}#sk-container-id-2 div.sk-parallel-item:last-child::after {align-self: flex-start;width: 50%;}#sk-container-id-2 div.sk-parallel-item:only-child::after {width: 0;}#sk-container-id-2 div.sk-dashed-wrapped {border: 1px dashed gray;margin: 0 0.4em 0.5em 0.4em;box-sizing: border-box;padding-bottom: 0.4em;background-color: white;}#sk-container-id-2 div.sk-label label {font-family: monospace;font-weight: bold;display: inline-block;line-height: 1.2em;}#sk-container-id-2 div.sk-label-container {text-align: center;}#sk-container-id-2 div.sk-container {/* jupyter's `normalize.less` sets `[hidden] { display: none; }` but bootstrap.min.css set `[hidden] { display: none !important; }` so we also need the `!important` here to be able to override the default hidden behavior on the sphinx rendered scikit-learn.org. See: https://github.com/scikit-learn/scikit-learn/issues/21755 */display: inline-block !important;position: relative;}#sk-container-id-2 div.sk-text-repr-fallback {display: none;}</style><div id=\"sk-container-id-2\" class=\"sk-top-container\"><div class=\"sk-text-repr-fallback\"><pre>MinMaxScaler()</pre><b>In a Jupyter environment, please rerun this cell to show the HTML representation or trust the notebook. <br />On GitHub, the HTML representation is unable to render, please try loading this page with nbviewer.org.</b></div><div class=\"sk-container\" hidden><div class=\"sk-item\"><div class=\"sk-estimator sk-toggleable\"><input class=\"sk-toggleable__control sk-hidden--visually\" id=\"sk-estimator-id-2\" type=\"checkbox\" checked><label for=\"sk-estimator-id-2\" class=\"sk-toggleable__label sk-toggleable__label-arrow\">MinMaxScaler</label><div class=\"sk-toggleable__content\"><pre>MinMaxScaler()</pre></div></div></div></div></div>"
            ]
          },
          "metadata": {},
          "execution_count": 56
        }
      ]
    },
    {
      "cell_type": "code",
      "source": [
        "pipe.steps[0][1].transform(X_test)"
      ],
      "metadata": {
        "colab": {
          "base_uri": "https://localhost:8080/"
        },
        "id": "PEJhQdiPDg7O",
        "outputId": "20442e3b-a05d-4f21-c442-4c9773d1f840"
      },
      "execution_count": null,
      "outputs": [
        {
          "output_type": "execute_result",
          "data": {
            "text/plain": [
              "array([[0.30380046, 0.44854772, 0.30993021, ..., 0.70651051, 0.39818648,\n",
              "        0.36639118],\n",
              "       [0.29480808, 0.64481328, 0.27855711, ..., 0.20685498, 0.17327025,\n",
              "        0.08421881],\n",
              "       [0.33314402, 0.24688797, 0.31649506, ..., 0.28301757, 0.11255667,\n",
              "        0.07910272],\n",
              "       ...,\n",
              "       [0.25363245, 0.10622407, 0.24289959, ..., 0.36858422, 0.30455352,\n",
              "        0.13695396],\n",
              "       [0.30995314, 0.05103734, 0.30488563, ..., 0.25514984, 0.22570471,\n",
              "        0.11065197],\n",
              "       [0.59676274, 0.35020747, 0.60058047, ..., 0.77402687, 0.40961955,\n",
              "        0.24393283]])"
            ]
          },
          "metadata": {},
          "execution_count": 57
        }
      ]
    },
    {
      "cell_type": "code",
      "source": [
        "pipe.named_steps"
      ],
      "metadata": {
        "colab": {
          "base_uri": "https://localhost:8080/"
        },
        "id": "kw6DD-XuDmQn",
        "outputId": "8a77ea22-836b-4b8a-d157-53a6f53b4a00"
      },
      "execution_count": null,
      "outputs": [
        {
          "output_type": "execute_result",
          "data": {
            "text/plain": [
              "{'minmaxscaler': MinMaxScaler(),\n",
              " 'randomforestclassifier': RandomForestClassifier(max_depth=5)}"
            ]
          },
          "metadata": {},
          "execution_count": 58
        }
      ]
    },
    {
      "cell_type": "code",
      "source": [
        "!pip install mglearn"
      ],
      "metadata": {
        "colab": {
          "base_uri": "https://localhost:8080/"
        },
        "id": "8L66CybMDxu_",
        "outputId": "96b83544-2d44-492c-a1f2-ef4105785172"
      },
      "execution_count": null,
      "outputs": [
        {
          "output_type": "stream",
          "name": "stdout",
          "text": [
            "Collecting mglearn\n",
            "  Downloading mglearn-0.2.0-py2.py3-none-any.whl (581 kB)\n",
            "\u001b[2K     \u001b[90m━━━━━━━━━━━━━━━━━━━━━━━━━━━━━━━━━━━━━━━━\u001b[0m \u001b[32m581.4/581.4 kB\u001b[0m \u001b[31m5.2 MB/s\u001b[0m eta \u001b[36m0:00:00\u001b[0m\n",
            "\u001b[?25hRequirement already satisfied: numpy in /usr/local/lib/python3.10/dist-packages (from mglearn) (1.23.5)\n",
            "Requirement already satisfied: matplotlib in /usr/local/lib/python3.10/dist-packages (from mglearn) (3.7.1)\n",
            "Requirement already satisfied: scikit-learn in /usr/local/lib/python3.10/dist-packages (from mglearn) (1.2.2)\n",
            "Requirement already satisfied: pandas in /usr/local/lib/python3.10/dist-packages (from mglearn) (1.5.3)\n",
            "Requirement already satisfied: pillow in /usr/local/lib/python3.10/dist-packages (from mglearn) (9.4.0)\n",
            "Requirement already satisfied: cycler in /usr/local/lib/python3.10/dist-packages (from mglearn) (0.12.1)\n",
            "Requirement already satisfied: imageio in /usr/local/lib/python3.10/dist-packages (from mglearn) (2.31.5)\n",
            "Requirement already satisfied: joblib in /usr/local/lib/python3.10/dist-packages (from mglearn) (1.3.2)\n",
            "Requirement already satisfied: contourpy>=1.0.1 in /usr/local/lib/python3.10/dist-packages (from matplotlib->mglearn) (1.1.1)\n",
            "Requirement already satisfied: fonttools>=4.22.0 in /usr/local/lib/python3.10/dist-packages (from matplotlib->mglearn) (4.43.1)\n",
            "Requirement already satisfied: kiwisolver>=1.0.1 in /usr/local/lib/python3.10/dist-packages (from matplotlib->mglearn) (1.4.5)\n",
            "Requirement already satisfied: packaging>=20.0 in /usr/local/lib/python3.10/dist-packages (from matplotlib->mglearn) (23.2)\n",
            "Requirement already satisfied: pyparsing>=2.3.1 in /usr/local/lib/python3.10/dist-packages (from matplotlib->mglearn) (3.1.1)\n",
            "Requirement already satisfied: python-dateutil>=2.7 in /usr/local/lib/python3.10/dist-packages (from matplotlib->mglearn) (2.8.2)\n",
            "Requirement already satisfied: pytz>=2020.1 in /usr/local/lib/python3.10/dist-packages (from pandas->mglearn) (2023.3.post1)\n",
            "Requirement already satisfied: scipy>=1.3.2 in /usr/local/lib/python3.10/dist-packages (from scikit-learn->mglearn) (1.11.3)\n",
            "Requirement already satisfied: threadpoolctl>=2.0.0 in /usr/local/lib/python3.10/dist-packages (from scikit-learn->mglearn) (3.2.0)\n",
            "Requirement already satisfied: six>=1.5 in /usr/local/lib/python3.10/dist-packages (from python-dateutil>=2.7->matplotlib->mglearn) (1.16.0)\n",
            "Installing collected packages: mglearn\n",
            "Successfully installed mglearn-0.2.0\n"
          ]
        }
      ]
    },
    {
      "cell_type": "code",
      "source": [
        "import mglearn"
      ],
      "metadata": {
        "id": "8xMRBiv6ERDX"
      },
      "execution_count": null,
      "outputs": []
    },
    {
      "cell_type": "code",
      "source": [
        "mglearn.plots.plot_improper_processing()"
      ],
      "metadata": {
        "colab": {
          "base_uri": "https://localhost:8080/",
          "height": 681
        },
        "id": "BBmKRE4RD-kO",
        "outputId": "0237e67d-27af-49a5-9d91-e715ec037dd6"
      },
      "execution_count": null,
      "outputs": [
        {
          "output_type": "display_data",
          "data": {
            "text/plain": [
              "<Figure size 1500x1000 with 2 Axes>"
            ],
            "image/png": "[encoded data removed]"
          },
          "metadata": {}
        }
      ]
    },
    {
      "cell_type": "code",
      "source": [
        "mglearn.plots.plot_proper_processing()"
      ],
      "metadata": {
        "colab": {
          "base_uri": "https://localhost:8080/",
          "height": 557
        },
        "id": "Y3OecmvdEP0f",
        "outputId": "c81a698a-d0b6-452f-c323-ab3c704e477d"
      },
      "execution_count": null,
      "outputs": [
        {
          "output_type": "display_data",
          "data": {
            "text/plain": [
              "<Figure size 1500x800 with 2 Axes>"
            ],
            "image/png": "[encoded data removed]"
          },
          "metadata": {}
        }
      ]
    },
    {
      "cell_type": "code",
      "source": [
        "from sklearn.preprocessing import StandardScaler"
      ],
      "metadata": {
        "id": "5RxHBU0GFTwR"
      },
      "execution_count": null,
      "outputs": []
    },
    {
      "cell_type": "code",
      "source": [
        "pipe = Pipeline([('prepro', StandardScaler()), ('clf', RandomForestClassifier())])"
      ],
      "metadata": {
        "id": "-_hpbfEkJQhY"
      },
      "execution_count": null,
      "outputs": []
    },
    {
      "cell_type": "code",
      "source": [
        "pipe.steps"
      ],
      "metadata": {
        "colab": {
          "base_uri": "https://localhost:8080/"
        },
        "id": "haup1NEaJiSQ",
        "outputId": "73377903-f926-4c74-c40b-9fbeac79c366"
      },
      "execution_count": null,
      "outputs": [
        {
          "output_type": "execute_result",
          "data": {
            "text/plain": [
              "[('prepro', StandardScaler()), ('clf', RandomForestClassifier())]"
            ]
          },
          "metadata": {},
          "execution_count": 67
        }
      ]
    },
    {
      "cell_type": "code",
      "source": [
        "param_grid = [\n",
        "    {'clf':[SVC()], 'prepro':[StandardScaler(), MinMaxScaler()],\n",
        "     'clf__gamma':[0.001, 0.01, 0.1, 1, 10, 100], 'clf__C':[0.1, 1, 10, 100]},\n",
        "    {'clf':[RandomForestClassifier(n_estimators=500)], 'prepro':[None],\n",
        "        'clf__max_features':[1, 2, 3, 5, 7, 9]}\n",
        "]"
      ],
      "metadata": {
        "id": "hcxY2IUvJj9h"
      },
      "execution_count": null,
      "outputs": []
    },
    {
      "cell_type": "code",
      "source": [
        "X_train, X_test, y_train, y_test = train_test_split(cancer.data, cancer.target, random_state=0)"
      ],
      "metadata": {
        "id": "KCpkhRgAK-Vs"
      },
      "execution_count": null,
      "outputs": []
    },
    {
      "cell_type": "code",
      "source": [
        "grid = GridSearchCV(pipe, param_grid=param_grid, cv=5)\n",
        "grid.fit(X_train, y_train)"
      ],
      "metadata": {
        "colab": {
          "base_uri": "https://localhost:8080/",
          "height": 151
        },
        "id": "SXRgt0qdLHaD",
        "outputId": "161c977c-a9f3-4bb1-a440-1b8e43a1239f"
      },
      "execution_count": null,
      "outputs": [
        {
          "output_type": "execute_result",
          "data": {
            "text/plain": [
              "GridSearchCV(cv=5,\n",
              "             estimator=Pipeline(steps=[('prepro', StandardScaler()),\n",
              "                                       ('clf', RandomForestClassifier())]),\n",
              "             param_grid=[{'clf': [SVC(C=10, gamma=0.01)],\n",
              "                          'clf__C': [0.1, 1, 10, 100],\n",
              "                          'clf__gamma': [0.001, 0.01, 0.1, 1, 10, 100],\n",
              "                          'prepro': [StandardScaler(), MinMaxScaler()]},\n",
              "                         {'clf': [RandomForestClassifier(n_estimators=500)],\n",
              "                          'clf__max_features': [1, 2, 3, 5, 7, 9],\n",
              "                          'prepro': [None]}])"
            ],
            "text/html": [
              "<style>#sk-container-id-3 {color: black;background-color: white;}#sk-container-id-3 pre{padding: 0;}#sk-container-id-3 div.sk-toggleable {background-color: white;}#sk-container-id-3 label.sk-toggleable__label {cursor: pointer;display: block;width: 100%;margin-bottom: 0;padding: 0.3em;box-sizing: border-box;text-align: center;}#sk-container-id-3 label.sk-toggleable__label-arrow:before {content: \"▸\";float: left;margin-right: 0.25em;color: #696969;}#sk-container-id-3 label.sk-toggleable__label-arrow:hover:before {color: black;}#sk-container-id-3 div.sk-estimator:hover label.sk-toggleable__label-arrow:before {color: black;}#sk-container-id-3 div.sk-toggleable__content {max-height: 0;max-width: 0;overflow: hidden;text-align: left;background-color: #f0f8ff;}#sk-container-id-3 div.sk-toggleable__content pre {margin: 0.2em;color: black;border-radius: 0.25em;background-color: #f0f8ff;}#sk-container-id-3 input.sk-toggleable__control:checked~div.sk-toggleable__content {max-height: 200px;max-width: 100%;overflow: auto;}#sk-container-id-3 input.sk-toggleable__control:checked~label.sk-toggleable__label-arrow:before {content: \"▾\";}#sk-container-id-3 div.sk-estimator input.sk-toggleable__control:checked~label.sk-toggleable__label {background-color: #d4ebff;}#sk-container-id-3 div.sk-label input.sk-toggleable__control:checked~label.sk-toggleable__label {background-color: #d4ebff;}#sk-container-id-3 input.sk-hidden--visually {border: 0;clip: rect(1px 1px 1px 1px);clip: rect(1px, 1px, 1px, 1px);height: 1px;margin: -1px;overflow: hidden;padding: 0;position: absolute;width: 1px;}#sk-container-id-3 div.sk-estimator {font-family: monospace;background-color: #f0f8ff;border: 1px dotted black;border-radius: 0.25em;box-sizing: border-box;margin-bottom: 0.5em;}#sk-container-id-3 div.sk-estimator:hover {background-color: #d4ebff;}#sk-container-id-3 div.sk-parallel-item::after {content: \"\";width: 100%;border-bottom: 1px solid gray;flex-grow: 1;}#sk-container-id-3 div.sk-label:hover label.sk-toggleable__label {background-color: #d4ebff;}#sk-container-id-3 div.sk-serial::before {content: \"\";position: absolute;border-left: 1px solid gray;box-sizing: border-box;top: 0;bottom: 0;left: 50%;z-index: 0;}#sk-container-id-3 div.sk-serial {display: flex;flex-direction: column;align-items: center;background-color: white;padding-right: 0.2em;padding-left: 0.2em;position: relative;}#sk-container-id-3 div.sk-item {position: relative;z-index: 1;}#sk-container-id-3 div.sk-parallel {display: flex;align-items: stretch;justify-content: center;background-color: white;position: relative;}#sk-container-id-3 div.sk-item::before, #sk-container-id-3 div.sk-parallel-item::before {content: \"\";position: absolute;border-left: 1px solid gray;box-sizing: border-box;top: 0;bottom: 0;left: 50%;z-index: -1;}#sk-container-id-3 div.sk-parallel-item {display: flex;flex-direction: column;z-index: 1;position: relative;background-color: white;}#sk-container-id-3 div.sk-parallel-item:first-child::after {align-self: flex-end;width: 50%;}#sk-container-id-3 div.sk-parallel-item:last-child::after {align-self: flex-start;width: 50%;}#sk-container-id-3 div.sk-parallel-item:only-child::after {width: 0;}#sk-container-id-3 div.sk-dashed-wrapped {border: 1px dashed gray;margin: 0 0.4em 0.5em 0.4em;box-sizing: border-box;padding-bottom: 0.4em;background-color: white;}#sk-container-id-3 div.sk-label label {font-family: monospace;font-weight: bold;display: inline-block;line-height: 1.2em;}#sk-container-id-3 div.sk-label-container {text-align: center;}#sk-container-id-3 div.sk-container {/* jupyter's `normalize.less` sets `[hidden] { display: none; }` but bootstrap.min.css set `[hidden] { display: none !important; }` so we also need the `!important` here to be able to override the default hidden behavior on the sphinx rendered scikit-learn.org. See: https://github.com/scikit-learn/scikit-learn/issues/21755 */display: inline-block !important;position: relative;}#sk-container-id-3 div.sk-text-repr-fallback {display: none;}</style><div id=\"sk-container-id-3\" class=\"sk-top-container\"><div class=\"sk-text-repr-fallback\"><pre>GridSearchCV(cv=5,\n",
              "             estimator=Pipeline(steps=[(&#x27;prepro&#x27;, StandardScaler()),\n",
              "                                       (&#x27;clf&#x27;, RandomForestClassifier())]),\n",
              "             param_grid=[{&#x27;clf&#x27;: [SVC(C=10, gamma=0.01)],\n",
              "                          &#x27;clf__C&#x27;: [0.1, 1, 10, 100],\n",
              "                          &#x27;clf__gamma&#x27;: [0.001, 0.01, 0.1, 1, 10, 100],\n",
              "                          &#x27;prepro&#x27;: [StandardScaler(), MinMaxScaler()]},\n",
              "                         {&#x27;clf&#x27;: [RandomForestClassifier(n_estimators=500)],\n",
              "                          &#x27;clf__max_features&#x27;: [1, 2, 3, 5, 7, 9],\n",
              "                          &#x27;prepro&#x27;: [None]}])</pre><b>In a Jupyter environment, please rerun this cell to show the HTML representation or trust the notebook. <br />On GitHub, the HTML representation is unable to render, please try loading this page with nbviewer.org.</b></div><div class=\"sk-container\" hidden><div class=\"sk-item sk-dashed-wrapped\"><div class=\"sk-label-container\"><div class=\"sk-label sk-toggleable\"><input class=\"sk-toggleable__control sk-hidden--visually\" id=\"sk-estimator-id-3\" type=\"checkbox\" ><label for=\"sk-estimator-id-3\" class=\"sk-toggleable__label sk-toggleable__label-arrow\">GridSearchCV</label><div class=\"sk-toggleable__content\"><pre>GridSearchCV(cv=5,\n",
              "             estimator=Pipeline(steps=[(&#x27;prepro&#x27;, StandardScaler()),\n",
              "                                       (&#x27;clf&#x27;, RandomForestClassifier())]),\n",
              "             param_grid=[{&#x27;clf&#x27;: [SVC(C=10, gamma=0.01)],\n",
              "                          &#x27;clf__C&#x27;: [0.1, 1, 10, 100],\n",
              "                          &#x27;clf__gamma&#x27;: [0.001, 0.01, 0.1, 1, 10, 100],\n",
              "                          &#x27;prepro&#x27;: [StandardScaler(), MinMaxScaler()]},\n",
              "                         {&#x27;clf&#x27;: [RandomForestClassifier(n_estimators=500)],\n",
              "                          &#x27;clf__max_features&#x27;: [1, 2, 3, 5, 7, 9],\n",
              "                          &#x27;prepro&#x27;: [None]}])</pre></div></div></div><div class=\"sk-parallel\"><div class=\"sk-parallel-item\"><div class=\"sk-item\"><div class=\"sk-label-container\"><div class=\"sk-label sk-toggleable\"><input class=\"sk-toggleable__control sk-hidden--visually\" id=\"sk-estimator-id-4\" type=\"checkbox\" ><label for=\"sk-estimator-id-4\" class=\"sk-toggleable__label sk-toggleable__label-arrow\">estimator: Pipeline</label><div class=\"sk-toggleable__content\"><pre>Pipeline(steps=[(&#x27;prepro&#x27;, StandardScaler()),\n",
              "                (&#x27;clf&#x27;, RandomForestClassifier())])</pre></div></div></div><div class=\"sk-serial\"><div class=\"sk-item\"><div class=\"sk-serial\"><div class=\"sk-item\"><div class=\"sk-estimator sk-toggleable\"><input class=\"sk-toggleable__control sk-hidden--visually\" id=\"sk-estimator-id-5\" type=\"checkbox\" ><label for=\"sk-estimator-id-5\" class=\"sk-toggleable__label sk-toggleable__label-arrow\">StandardScaler</label><div class=\"sk-toggleable__content\"><pre>StandardScaler()</pre></div></div></div><div class=\"sk-item\"><div class=\"sk-estimator sk-toggleable\"><input class=\"sk-toggleable__control sk-hidden--visually\" id=\"sk-estimator-id-6\" type=\"checkbox\" ><label for=\"sk-estimator-id-6\" class=\"sk-toggleable__label sk-toggleable__label-arrow\">RandomForestClassifier</label><div class=\"sk-toggleable__content\"><pre>RandomForestClassifier()</pre></div></div></div></div></div></div></div></div></div></div></div></div>"
            ]
          },
          "metadata": {},
          "execution_count": 70
        }
      ]
    },
    {
      "cell_type": "code",
      "source": [
        "grid.best_params_"
      ],
      "metadata": {
        "colab": {
          "base_uri": "https://localhost:8080/"
        },
        "id": "FJ7L1BlaLTL0",
        "outputId": "08093b51-654d-4386-d97e-31d66032b794"
      },
      "execution_count": null,
      "outputs": [
        {
          "output_type": "execute_result",
          "data": {
            "text/plain": [
              "{'clf': SVC(C=10, gamma=0.01),\n",
              " 'clf__C': 10,\n",
              " 'clf__gamma': 0.01,\n",
              " 'prepro': StandardScaler()}"
            ]
          },
          "metadata": {},
          "execution_count": 71
        }
      ]
    },
    {
      "cell_type": "code",
      "source": [
        "grid.best_score_"
      ],
      "metadata": {
        "colab": {
          "base_uri": "https://localhost:8080/"
        },
        "id": "8nJLIGYpLnEc",
        "outputId": "4955bc79-1292-4e90-f87a-1bafb097bed8"
      },
      "execution_count": null,
      "outputs": [
        {
          "output_type": "execute_result",
          "data": {
            "text/plain": [
              "0.9858823529411765"
            ]
          },
          "metadata": {},
          "execution_count": 72
        }
      ]
    },
    {
      "cell_type": "code",
      "source": [
        "grid.score(X_test, y_test)"
      ],
      "metadata": {
        "colab": {
          "base_uri": "https://localhost:8080/"
        },
        "id": "8oF_nAjZLtTe",
        "outputId": "c530bdbe-0922-4b23-bfd0-a0f08cd89990"
      },
      "execution_count": null,
      "outputs": [
        {
          "output_type": "execute_result",
          "data": {
            "text/plain": [
              "0.9790209790209791"
            ]
          },
          "metadata": {},
          "execution_count": 73
        }
      ]
    },
    {
      "cell_type": "markdown",
      "source": [
        "#SVM 에서 ROC_AUC_SCORE 산출"
      ],
      "metadata": {
        "id": "_z3qE-uqMIUp"
      }
    },
    {
      "cell_type": "code",
      "source": [
        "from sklearn.metrics import roc_auc_score"
      ],
      "metadata": {
        "id": "cNwIkkSoLwBd"
      },
      "execution_count": null,
      "outputs": []
    },
    {
      "cell_type": "code",
      "source": [
        "def score_auc(model, X_train, X_test, y_train, y_test):\n",
        "    model.fit(X_train, y_train)\n",
        "    print(model.score(X_test, y_test))\n",
        "    pred_proba = model.predict_proba(X_test)\n",
        "    print(roc_auc_score(y_test, pred_proba[:, 1]))"
      ],
      "metadata": {
        "id": "ZG_z0NrtMSI_"
      },
      "execution_count": null,
      "outputs": []
    },
    {
      "cell_type": "code",
      "source": [
        "model = SVC(probability=True)"
      ],
      "metadata": {
        "id": "8rOxMBiSMsIL"
      },
      "execution_count": null,
      "outputs": []
    },
    {
      "cell_type": "code",
      "source": [
        "score_auc(model, X_train, X_test, y_train, y_test)"
      ],
      "metadata": {
        "colab": {
          "base_uri": "https://localhost:8080/"
        },
        "id": "fUVexByYM4QC",
        "outputId": "b645cea4-db12-450d-c6b1-0b1eae04dbe3"
      },
      "execution_count": null,
      "outputs": [
        {
          "output_type": "stream",
          "name": "stdout",
          "text": [
            "0.9370629370629371\n",
            "0.9842767295597485\n"
          ]
        }
      ]
    },
    {
      "cell_type": "markdown",
      "source": [
        "#예제 : Stander 고객만족도 예측"
      ],
      "metadata": {
        "id": "_2RFvelmOK07"
      }
    },
    {
      "cell_type": "code",
      "source": [
        "ls ./drive/MyDrive/data/sant*"
      ],
      "metadata": {
        "colab": {
          "base_uri": "https://localhost:8080/"
        },
        "id": "xDica5YSM9_z",
        "outputId": "efb91c44-aaea-4c26-931b-002050276613"
      },
      "execution_count": null,
      "outputs": [
        {
          "output_type": "stream",
          "name": "stdout",
          "text": [
            "./drive/MyDrive/data/santander_train.csv\n"
          ]
        }
      ]
    },
    {
      "cell_type": "code",
      "source": [
        "df = pd.read_csv('./drive/MyDrive/data/santander_train.csv', encoding='latin-1')"
      ],
      "metadata": {
        "id": "hIsr26AHOer6"
      },
      "execution_count": null,
      "outputs": []
    },
    {
      "cell_type": "code",
      "source": [
        "df.head()"
      ],
      "metadata": {
        "colab": {
          "base_uri": "https://localhost:8080/",
          "height": 255
        },
        "id": "2lLn1x8GO8BK",
        "outputId": "8f8eabae-df97-439a-81bb-bf1b04ad80a1"
      },
      "execution_count": null,
      "outputs": [
        {
          "output_type": "execute_result",
          "data": {
            "text/plain": [
              "   ID  var3  var15  imp_ent_var16_ult1  imp_op_var39_comer_ult1  \\\n",
              "0   1     2     23                 0.0                      0.0   \n",
              "1   3     2     34                 0.0                      0.0   \n",
              "2   4     2     23                 0.0                      0.0   \n",
              "3   8     2     37                 0.0                    195.0   \n",
              "4  10     2     39                 0.0                      0.0   \n",
              "\n",
              "   imp_op_var39_comer_ult3  imp_op_var40_comer_ult1  imp_op_var40_comer_ult3  \\\n",
              "0                      0.0                      0.0                      0.0   \n",
              "1                      0.0                      0.0                      0.0   \n",
              "2                      0.0                      0.0                      0.0   \n",
              "3                    195.0                      0.0                      0.0   \n",
              "4                      0.0                      0.0                      0.0   \n",
              "\n",
              "   imp_op_var40_efect_ult1  imp_op_var40_efect_ult3  ...  \\\n",
              "0                      0.0                      0.0  ...   \n",
              "1                      0.0                      0.0  ...   \n",
              "2                      0.0                      0.0  ...   \n",
              "3                      0.0                      0.0  ...   \n",
              "4                      0.0                      0.0  ...   \n",
              "\n",
              "   saldo_medio_var33_hace2  saldo_medio_var33_hace3  saldo_medio_var33_ult1  \\\n",
              "0                      0.0                      0.0                     0.0   \n",
              "1                      0.0                      0.0                     0.0   \n",
              "2                      0.0                      0.0                     0.0   \n",
              "3                      0.0                      0.0                     0.0   \n",
              "4                      0.0                      0.0                     0.0   \n",
              "\n",
              "   saldo_medio_var33_ult3  saldo_medio_var44_hace2  saldo_medio_var44_hace3  \\\n",
              "0                     0.0                      0.0                      0.0   \n",
              "1                     0.0                      0.0                      0.0   \n",
              "2                     0.0                      0.0                      0.0   \n",
              "3                     0.0                      0.0                      0.0   \n",
              "4                     0.0                      0.0                      0.0   \n",
              "\n",
              "   saldo_medio_var44_ult1  saldo_medio_var44_ult3          var38  TARGET  \n",
              "0                     0.0                     0.0   39205.170000       0  \n",
              "1                     0.0                     0.0   49278.030000       0  \n",
              "2                     0.0                     0.0   67333.770000       0  \n",
              "3                     0.0                     0.0   64007.970000       0  \n",
              "4                     0.0                     0.0  117310.979016       0  \n",
              "\n",
              "[5 rows x 371 columns]"
            ],
            "text/html": [
              "\n",
              "  <div id=\"df-1631e20f-8ad6-4ce1-928f-00d482882166\" class=\"colab-df-container\">\n",
              "    <div>\n",
              "<style scoped>\n",
              "    .dataframe tbody tr th:only-of-type {\n",
              "        vertical-align: middle;\n",
              "    }\n",
              "\n",
              "    .dataframe tbody tr th {\n",
              "        vertical-align: top;\n",
              "    }\n",
              "\n",
              "    .dataframe thead th {\n",
              "        text-align: right;\n",
              "    }\n",
              "</style>\n",
              "<table border=\"1\" class=\"dataframe\">\n",
              "  <thead>\n",
              "    <tr style=\"text-align: right;\">\n",
              "      <th></th>\n",
              "      <th>ID</th>\n",
              "      <th>var3</th>\n",
              "      <th>var15</th>\n",
              "      <th>imp_ent_var16_ult1</th>\n",
              "      <th>imp_op_var39_comer_ult1</th>\n",
              "      <th>imp_op_var39_comer_ult3</th>\n",
              "      <th>imp_op_var40_comer_ult1</th>\n",
              "      <th>imp_op_var40_comer_ult3</th>\n",
              "      <th>imp_op_var40_efect_ult1</th>\n",
              "      <th>imp_op_var40_efect_ult3</th>\n",
              "      <th>...</th>\n",
              "      <th>saldo_medio_var33_hace2</th>\n",
              "      <th>saldo_medio_var33_hace3</th>\n",
              "      <th>saldo_medio_var33_ult1</th>\n",
              "      <th>saldo_medio_var33_ult3</th>\n",
              "      <th>saldo_medio_var44_hace2</th>\n",
              "      <th>saldo_medio_var44_hace3</th>\n",
              "      <th>saldo_medio_var44_ult1</th>\n",
              "      <th>saldo_medio_var44_ult3</th>\n",
              "      <th>var38</th>\n",
              "      <th>TARGET</th>\n",
              "    </tr>\n",
              "  </thead>\n",
              "  <tbody>\n",
              "    <tr>\n",
              "      <th>0</th>\n",
              "      <td>1</td>\n",
              "      <td>2</td>\n",
              "      <td>23</td>\n",
              "      <td>0.0</td>\n",
              "      <td>0.0</td>\n",
              "      <td>0.0</td>\n",
              "      <td>0.0</td>\n",
              "      <td>0.0</td>\n",
              "      <td>0.0</td>\n",
              "      <td>0.0</td>\n",
              "      <td>...</td>\n",
              "      <td>0.0</td>\n",
              "      <td>0.0</td>\n",
              "      <td>0.0</td>\n",
              "      <td>0.0</td>\n",
              "      <td>0.0</td>\n",
              "      <td>0.0</td>\n",
              "      <td>0.0</td>\n",
              "      <td>0.0</td>\n",
              "      <td>39205.170000</td>\n",
              "      <td>0</td>\n",
              "    </tr>\n",
              "    <tr>\n",
              "      <th>1</th>\n",
              "      <td>3</td>\n",
              "      <td>2</td>\n",
              "      <td>34</td>\n",
              "      <td>0.0</td>\n",
              "      <td>0.0</td>\n",
              "      <td>0.0</td>\n",
              "      <td>0.0</td>\n",
              "      <td>0.0</td>\n",
              "      <td>0.0</td>\n",
              "      <td>0.0</td>\n",
              "      <td>...</td>\n",
              "      <td>0.0</td>\n",
              "      <td>0.0</td>\n",
              "      <td>0.0</td>\n",
              "      <td>0.0</td>\n",
              "      <td>0.0</td>\n",
              "      <td>0.0</td>\n",
              "      <td>0.0</td>\n",
              "      <td>0.0</td>\n",
              "      <td>49278.030000</td>\n",
              "      <td>0</td>\n",
              "    </tr>\n",
              "    <tr>\n",
              "      <th>2</th>\n",
              "      <td>4</td>\n",
              "      <td>2</td>\n",
              "      <td>23</td>\n",
              "      <td>0.0</td>\n",
              "      <td>0.0</td>\n",
              "      <td>0.0</td>\n",
              "      <td>0.0</td>\n",
              "      <td>0.0</td>\n",
              "      <td>0.0</td>\n",
              "      <td>0.0</td>\n",
              "      <td>...</td>\n",
              "      <td>0.0</td>\n",
              "      <td>0.0</td>\n",
              "      <td>0.0</td>\n",
              "      <td>0.0</td>\n",
              "      <td>0.0</td>\n",
              "      <td>0.0</td>\n",
              "      <td>0.0</td>\n",
              "      <td>0.0</td>\n",
              "      <td>67333.770000</td>\n",
              "      <td>0</td>\n",
              "    </tr>\n",
              "    <tr>\n",
              "      <th>3</th>\n",
              "      <td>8</td>\n",
              "      <td>2</td>\n",
              "      <td>37</td>\n",
              "      <td>0.0</td>\n",
              "      <td>195.0</td>\n",
              "      <td>195.0</td>\n",
              "      <td>0.0</td>\n",
              "      <td>0.0</td>\n",
              "      <td>0.0</td>\n",
              "      <td>0.0</td>\n",
              "      <td>...</td>\n",
              "      <td>0.0</td>\n",
              "      <td>0.0</td>\n",
              "      <td>0.0</td>\n",
              "      <td>0.0</td>\n",
              "      <td>0.0</td>\n",
              "      <td>0.0</td>\n",
              "      <td>0.0</td>\n",
              "      <td>0.0</td>\n",
              "      <td>64007.970000</td>\n",
              "      <td>0</td>\n",
              "    </tr>\n",
              "    <tr>\n",
              "      <th>4</th>\n",
              "      <td>10</td>\n",
              "      <td>2</td>\n",
              "      <td>39</td>\n",
              "      <td>0.0</td>\n",
              "      <td>0.0</td>\n",
              "      <td>0.0</td>\n",
              "      <td>0.0</td>\n",
              "      <td>0.0</td>\n",
              "      <td>0.0</td>\n",
              "      <td>0.0</td>\n",
              "      <td>...</td>\n",
              "      <td>0.0</td>\n",
              "      <td>0.0</td>\n",
              "      <td>0.0</td>\n",
              "      <td>0.0</td>\n",
              "      <td>0.0</td>\n",
              "      <td>0.0</td>\n",
              "      <td>0.0</td>\n",
              "      <td>0.0</td>\n",
              "      <td>117310.979016</td>\n",
              "      <td>0</td>\n",
              "    </tr>\n",
              "  </tbody>\n",
              "</table>\n",
              "<p>5 rows × 371 columns</p>\n",
              "</div>\n",
              "    <div class=\"colab-df-buttons\">\n",
              "\n",
              "  <div class=\"colab-df-container\">\n",
              "    <button class=\"colab-df-convert\" onclick=\"convertToInteractive('df-1631e20f-8ad6-4ce1-928f-00d482882166')\"\n",
              "            title=\"Convert this dataframe to an interactive table.\"\n",
              "            style=\"display:none;\">\n",
              "\n",
              "  <svg xmlns=\"http://www.w3.org/2000/svg\" height=\"24px\" viewBox=\"0 -960 960 960\">\n",
              "    <path d=\"M120-120v-720h720v720H120Zm60-500h600v-160H180v160Zm220 220h160v-160H400v160Zm0 220h160v-160H400v160ZM180-400h160v-160H180v160Zm440 0h160v-160H620v160ZM180-180h160v-160H180v160Zm440 0h160v-160H620v160Z\"/>\n",
              "  </svg>\n",
              "    </button>\n",
              "\n",
              "  <style>\n",
              "    .colab-df-container {\n",
              "      display:flex;\n",
              "      gap: 12px;\n",
              "    }\n",
              "\n",
              "    .colab-df-convert {\n",
              "      background-color: #E8F0FE;\n",
              "      border: none;\n",
              "      border-radius: 50%;\n",
              "      cursor: pointer;\n",
              "      display: none;\n",
              "      fill: #1967D2;\n",
              "      height: 32px;\n",
              "      padding: 0 0 0 0;\n",
              "      width: 32px;\n",
              "    }\n",
              "\n",
              "    .colab-df-convert:hover {\n",
              "      background-color: #E2EBFA;\n",
              "      box-shadow: 0px 1px 2px rgba(60, 64, 67, 0.3), 0px 1px 3px 1px rgba(60, 64, 67, 0.15);\n",
              "      fill: #174EA6;\n",
              "    }\n",
              "\n",
              "    .colab-df-buttons div {\n",
              "      margin-bottom: 4px;\n",
              "    }\n",
              "\n",
              "    [theme=dark] .colab-df-convert {\n",
              "      background-color: #3B4455;\n",
              "      fill: #D2E3FC;\n",
              "    }\n",
              "\n",
              "    [theme=dark] .colab-df-convert:hover {\n",
              "      background-color: #434B5C;\n",
              "      box-shadow: 0px 1px 3px 1px rgba(0, 0, 0, 0.15);\n",
              "      filter: drop-shadow(0px 1px 2px rgba(0, 0, 0, 0.3));\n",
              "      fill: #FFFFFF;\n",
              "    }\n",
              "  </style>\n",
              "\n",
              "    <script>\n",
              "      const buttonEl =\n",
              "        document.querySelector('#df-1631e20f-8ad6-4ce1-928f-00d482882166 button.colab-df-convert');\n",
              "      buttonEl.style.display =\n",
              "        google.colab.kernel.accessAllowed ? 'block' : 'none';\n",
              "\n",
              "      async function convertToInteractive(key) {\n",
              "        const element = document.querySelector('#df-1631e20f-8ad6-4ce1-928f-00d482882166');\n",
              "        const dataTable =\n",
              "          await google.colab.kernel.invokeFunction('convertToInteractive',\n",
              "                                                    [key], {});\n",
              "        if (!dataTable) return;\n",
              "\n",
              "        const docLinkHtml = 'Like what you see? Visit the ' +\n",
              "          '<a target=\"_blank\" href=https://colab.research.google.com/notebooks/data_table.ipynb>data table notebook</a>'\n",
              "          + ' to learn more about interactive tables.';\n",
              "        element.innerHTML = '';\n",
              "        dataTable['output_type'] = 'display_data';\n",
              "        await google.colab.output.renderOutput(dataTable, element);\n",
              "        const docLink = document.createElement('div');\n",
              "        docLink.innerHTML = docLinkHtml;\n",
              "        element.appendChild(docLink);\n",
              "      }\n",
              "    </script>\n",
              "  </div>\n",
              "\n",
              "\n",
              "<div id=\"df-839002da-24ab-4333-834d-8aa5015e260f\">\n",
              "  <button class=\"colab-df-quickchart\" onclick=\"quickchart('df-839002da-24ab-4333-834d-8aa5015e260f')\"\n",
              "            title=\"Suggest charts.\"\n",
              "            style=\"display:none;\">\n",
              "\n",
              "<svg xmlns=\"http://www.w3.org/2000/svg\" height=\"24px\"viewBox=\"0 0 24 24\"\n",
              "     width=\"24px\">\n",
              "    <g>\n",
              "        <path d=\"M19 3H5c-1.1 0-2 .9-2 2v14c0 1.1.9 2 2 2h14c1.1 0 2-.9 2-2V5c0-1.1-.9-2-2-2zM9 17H7v-7h2v7zm4 0h-2V7h2v10zm4 0h-2v-4h2v4z\"/>\n",
              "    </g>\n",
              "</svg>\n",
              "  </button>\n",
              "\n",
              "<style>\n",
              "  .colab-df-quickchart {\n",
              "      --bg-color: #E8F0FE;\n",
              "      --fill-color: #1967D2;\n",
              "      --hover-bg-color: #E2EBFA;\n",
              "      --hover-fill-color: #174EA6;\n",
              "      --disabled-fill-color: #AAA;\n",
              "      --disabled-bg-color: #DDD;\n",
              "  }\n",
              "\n",
              "  [theme=dark] .colab-df-quickchart {\n",
              "      --bg-color: #3B4455;\n",
              "      --fill-color: #D2E3FC;\n",
              "      --hover-bg-color: #434B5C;\n",
              "      --hover-fill-color: #FFFFFF;\n",
              "      --disabled-bg-color: #3B4455;\n",
              "      --disabled-fill-color: #666;\n",
              "  }\n",
              "\n",
              "  .colab-df-quickchart {\n",
              "    background-color: var(--bg-color);\n",
              "    border: none;\n",
              "    border-radius: 50%;\n",
              "    cursor: pointer;\n",
              "    display: none;\n",
              "    fill: var(--fill-color);\n",
              "    height: 32px;\n",
              "    padding: 0;\n",
              "    width: 32px;\n",
              "  }\n",
              "\n",
              "  .colab-df-quickchart:hover {\n",
              "    background-color: var(--hover-bg-color);\n",
              "    box-shadow: 0 1px 2px rgba(60, 64, 67, 0.3), 0 1px 3px 1px rgba(60, 64, 67, 0.15);\n",
              "    fill: var(--button-hover-fill-color);\n",
              "  }\n",
              "\n",
              "  .colab-df-quickchart-complete:disabled,\n",
              "  .colab-df-quickchart-complete:disabled:hover {\n",
              "    background-color: var(--disabled-bg-color);\n",
              "    fill: var(--disabled-fill-color);\n",
              "    box-shadow: none;\n",
              "  }\n",
              "\n",
              "  .colab-df-spinner {\n",
              "    border: 2px solid var(--fill-color);\n",
              "    border-color: transparent;\n",
              "    border-bottom-color: var(--fill-color);\n",
              "    animation:\n",
              "      spin 1s steps(1) infinite;\n",
              "  }\n",
              "\n",
              "  @keyframes spin {\n",
              "    0% {\n",
              "      border-color: transparent;\n",
              "      border-bottom-color: var(--fill-color);\n",
              "      border-left-color: var(--fill-color);\n",
              "    }\n",
              "    20% {\n",
              "      border-color: transparent;\n",
              "      border-left-color: var(--fill-color);\n",
              "      border-top-color: var(--fill-color);\n",
              "    }\n",
              "    30% {\n",
              "      border-color: transparent;\n",
              "      border-left-color: var(--fill-color);\n",
              "      border-top-color: var(--fill-color);\n",
              "      border-right-color: var(--fill-color);\n",
              "    }\n",
              "    40% {\n",
              "      border-color: transparent;\n",
              "      border-right-color: var(--fill-color);\n",
              "      border-top-color: var(--fill-color);\n",
              "    }\n",
              "    60% {\n",
              "      border-color: transparent;\n",
              "      border-right-color: var(--fill-color);\n",
              "    }\n",
              "    80% {\n",
              "      border-color: transparent;\n",
              "      border-right-color: var(--fill-color);\n",
              "      border-bottom-color: var(--fill-color);\n",
              "    }\n",
              "    90% {\n",
              "      border-color: transparent;\n",
              "      border-bottom-color: var(--fill-color);\n",
              "    }\n",
              "  }\n",
              "</style>\n",
              "\n",
              "  <script>\n",
              "    async function quickchart(key) {\n",
              "      const quickchartButtonEl =\n",
              "        document.querySelector('#' + key + ' button');\n",
              "      quickchartButtonEl.disabled = true;  // To prevent multiple clicks.\n",
              "      quickchartButtonEl.classList.add('colab-df-spinner');\n",
              "      try {\n",
              "        const charts = await google.colab.kernel.invokeFunction(\n",
              "            'suggestCharts', [key], {});\n",
              "      } catch (error) {\n",
              "        console.error('Error during call to suggestCharts:', error);\n",
              "      }\n",
              "      quickchartButtonEl.classList.remove('colab-df-spinner');\n",
              "      quickchartButtonEl.classList.add('colab-df-quickchart-complete');\n",
              "    }\n",
              "    (() => {\n",
              "      let quickchartButtonEl =\n",
              "        document.querySelector('#df-839002da-24ab-4333-834d-8aa5015e260f button');\n",
              "      quickchartButtonEl.style.display =\n",
              "        google.colab.kernel.accessAllowed ? 'block' : 'none';\n",
              "    })();\n",
              "  </script>\n",
              "</div>\n",
              "    </div>\n",
              "  </div>\n"
            ]
          },
          "metadata": {},
          "execution_count": 83
        }
      ]
    },
    {
      "cell_type": "markdown",
      "source": [
        "Target\n",
        "\n",
        "1 - 불만\n",
        "\n",
        "0 - 만족"
      ],
      "metadata": {
        "id": "s8bCVmzQPD3l"
      }
    },
    {
      "cell_type": "code",
      "source": [
        "df.info()"
      ],
      "metadata": {
        "colab": {
          "base_uri": "https://localhost:8080/"
        },
        "id": "5caDO0HYO_UI",
        "outputId": "10b8bdf2-4307-447d-b588-02843fa55c1e"
      },
      "execution_count": null,
      "outputs": [
        {
          "output_type": "stream",
          "name": "stdout",
          "text": [
            "<class 'pandas.core.frame.DataFrame'>\n",
            "RangeIndex: 76020 entries, 0 to 76019\n",
            "Columns: 371 entries, ID to TARGET\n",
            "dtypes: float64(111), int64(260)\n",
            "memory usage: 215.2 MB\n"
          ]
        }
      ]
    },
    {
      "cell_type": "code",
      "source": [
        "pd.options.display.max_info_columns=400"
      ],
      "metadata": {
        "id": "5YLjjPY9PLrU"
      },
      "execution_count": null,
      "outputs": []
    },
    {
      "cell_type": "code",
      "source": [
        "df.info()"
      ],
      "metadata": {
        "colab": {
          "base_uri": "https://localhost:8080/"
        },
        "id": "ZIjgsc1MPZEQ",
        "outputId": "eb839a90-8a00-414b-8ba1-b328cd3ccf40"
      },
      "execution_count": null,
      "outputs": [
        {
          "output_type": "stream",
          "name": "stdout",
          "text": [
            "<class 'pandas.core.frame.DataFrame'>\n",
            "RangeIndex: 76020 entries, 0 to 76019\n",
            "Data columns (total 371 columns):\n",
            " #    Column                         Non-Null Count  Dtype  \n",
            "---   ------                         --------------  -----  \n",
            " 0    ID                             76020 non-null  int64  \n",
            " 1    var3                           76020 non-null  int64  \n",
            " 2    var15                          76020 non-null  int64  \n",
            " 3    imp_ent_var16_ult1             76020 non-null  float64\n",
            " 4    imp_op_var39_comer_ult1        76020 non-null  float64\n",
            " 5    imp_op_var39_comer_ult3        76020 non-null  float64\n",
            " 6    imp_op_var40_comer_ult1        76020 non-null  float64\n",
            " 7    imp_op_var40_comer_ult3        76020 non-null  float64\n",
            " 8    imp_op_var40_efect_ult1        76020 non-null  float64\n",
            " 9    imp_op_var40_efect_ult3        76020 non-null  float64\n",
            " 10   imp_op_var40_ult1              76020 non-null  float64\n",
            " 11   imp_op_var41_comer_ult1        76020 non-null  float64\n",
            " 12   imp_op_var41_comer_ult3        76020 non-null  float64\n",
            " 13   imp_op_var41_efect_ult1        76020 non-null  float64\n",
            " 14   imp_op_var41_efect_ult3        76020 non-null  float64\n",
            " 15   imp_op_var41_ult1              76020 non-null  float64\n",
            " 16   imp_op_var39_efect_ult1        76020 non-null  float64\n",
            " 17   imp_op_var39_efect_ult3        76020 non-null  float64\n",
            " 18   imp_op_var39_ult1              76020 non-null  float64\n",
            " 19   imp_sal_var16_ult1             76020 non-null  float64\n",
            " 20   ind_var1_0                     76020 non-null  int64  \n",
            " 21   ind_var1                       76020 non-null  int64  \n",
            " 22   ind_var2_0                     76020 non-null  int64  \n",
            " 23   ind_var2                       76020 non-null  int64  \n",
            " 24   ind_var5_0                     76020 non-null  int64  \n",
            " 25   ind_var5                       76020 non-null  int64  \n",
            " 26   ind_var6_0                     76020 non-null  int64  \n",
            " 27   ind_var6                       76020 non-null  int64  \n",
            " 28   ind_var8_0                     76020 non-null  int64  \n",
            " 29   ind_var8                       76020 non-null  int64  \n",
            " 30   ind_var12_0                    76020 non-null  int64  \n",
            " 31   ind_var12                      76020 non-null  int64  \n",
            " 32   ind_var13_0                    76020 non-null  int64  \n",
            " 33   ind_var13_corto_0              76020 non-null  int64  \n",
            " 34   ind_var13_corto                76020 non-null  int64  \n",
            " 35   ind_var13_largo_0              76020 non-null  int64  \n",
            " 36   ind_var13_largo                76020 non-null  int64  \n",
            " 37   ind_var13_medio_0              76020 non-null  int64  \n",
            " 38   ind_var13_medio                76020 non-null  int64  \n",
            " 39   ind_var13                      76020 non-null  int64  \n",
            " 40   ind_var14_0                    76020 non-null  int64  \n",
            " 41   ind_var14                      76020 non-null  int64  \n",
            " 42   ind_var17_0                    76020 non-null  int64  \n",
            " 43   ind_var17                      76020 non-null  int64  \n",
            " 44   ind_var18_0                    76020 non-null  int64  \n",
            " 45   ind_var18                      76020 non-null  int64  \n",
            " 46   ind_var19                      76020 non-null  int64  \n",
            " 47   ind_var20_0                    76020 non-null  int64  \n",
            " 48   ind_var20                      76020 non-null  int64  \n",
            " 49   ind_var24_0                    76020 non-null  int64  \n",
            " 50   ind_var24                      76020 non-null  int64  \n",
            " 51   ind_var25_cte                  76020 non-null  int64  \n",
            " 52   ind_var26_0                    76020 non-null  int64  \n",
            " 53   ind_var26_cte                  76020 non-null  int64  \n",
            " 54   ind_var26                      76020 non-null  int64  \n",
            " 55   ind_var25_0                    76020 non-null  int64  \n",
            " 56   ind_var25                      76020 non-null  int64  \n",
            " 57   ind_var27_0                    76020 non-null  int64  \n",
            " 58   ind_var28_0                    76020 non-null  int64  \n",
            " 59   ind_var28                      76020 non-null  int64  \n",
            " 60   ind_var27                      76020 non-null  int64  \n",
            " 61   ind_var29_0                    76020 non-null  int64  \n",
            " 62   ind_var29                      76020 non-null  int64  \n",
            " 63   ind_var30_0                    76020 non-null  int64  \n",
            " 64   ind_var30                      76020 non-null  int64  \n",
            " 65   ind_var31_0                    76020 non-null  int64  \n",
            " 66   ind_var31                      76020 non-null  int64  \n",
            " 67   ind_var32_cte                  76020 non-null  int64  \n",
            " 68   ind_var32_0                    76020 non-null  int64  \n",
            " 69   ind_var32                      76020 non-null  int64  \n",
            " 70   ind_var33_0                    76020 non-null  int64  \n",
            " 71   ind_var33                      76020 non-null  int64  \n",
            " 72   ind_var34_0                    76020 non-null  int64  \n",
            " 73   ind_var34                      76020 non-null  int64  \n",
            " 74   ind_var37_cte                  76020 non-null  int64  \n",
            " 75   ind_var37_0                    76020 non-null  int64  \n",
            " 76   ind_var37                      76020 non-null  int64  \n",
            " 77   ind_var39_0                    76020 non-null  int64  \n",
            " 78   ind_var40_0                    76020 non-null  int64  \n",
            " 79   ind_var40                      76020 non-null  int64  \n",
            " 80   ind_var41_0                    76020 non-null  int64  \n",
            " 81   ind_var41                      76020 non-null  int64  \n",
            " 82   ind_var39                      76020 non-null  int64  \n",
            " 83   ind_var44_0                    76020 non-null  int64  \n",
            " 84   ind_var44                      76020 non-null  int64  \n",
            " 85   ind_var46_0                    76020 non-null  int64  \n",
            " 86   ind_var46                      76020 non-null  int64  \n",
            " 87   num_var1_0                     76020 non-null  int64  \n",
            " 88   num_var1                       76020 non-null  int64  \n",
            " 89   num_var4                       76020 non-null  int64  \n",
            " 90   num_var5_0                     76020 non-null  int64  \n",
            " 91   num_var5                       76020 non-null  int64  \n",
            " 92   num_var6_0                     76020 non-null  int64  \n",
            " 93   num_var6                       76020 non-null  int64  \n",
            " 94   num_var8_0                     76020 non-null  int64  \n",
            " 95   num_var8                       76020 non-null  int64  \n",
            " 96   num_var12_0                    76020 non-null  int64  \n",
            " 97   num_var12                      76020 non-null  int64  \n",
            " 98   num_var13_0                    76020 non-null  int64  \n",
            " 99   num_var13_corto_0              76020 non-null  int64  \n",
            " 100  num_var13_corto                76020 non-null  int64  \n",
            " 101  num_var13_largo_0              76020 non-null  int64  \n",
            " 102  num_var13_largo                76020 non-null  int64  \n",
            " 103  num_var13_medio_0              76020 non-null  int64  \n",
            " 104  num_var13_medio                76020 non-null  int64  \n",
            " 105  num_var13                      76020 non-null  int64  \n",
            " 106  num_var14_0                    76020 non-null  int64  \n",
            " 107  num_var14                      76020 non-null  int64  \n",
            " 108  num_var17_0                    76020 non-null  int64  \n",
            " 109  num_var17                      76020 non-null  int64  \n",
            " 110  num_var18_0                    76020 non-null  int64  \n",
            " 111  num_var18                      76020 non-null  int64  \n",
            " 112  num_var20_0                    76020 non-null  int64  \n",
            " 113  num_var20                      76020 non-null  int64  \n",
            " 114  num_var24_0                    76020 non-null  int64  \n",
            " 115  num_var24                      76020 non-null  int64  \n",
            " 116  num_var26_0                    76020 non-null  int64  \n",
            " 117  num_var26                      76020 non-null  int64  \n",
            " 118  num_var25_0                    76020 non-null  int64  \n",
            " 119  num_var25                      76020 non-null  int64  \n",
            " 120  num_op_var40_hace2             76020 non-null  int64  \n",
            " 121  num_op_var40_hace3             76020 non-null  int64  \n",
            " 122  num_op_var40_ult1              76020 non-null  int64  \n",
            " 123  num_op_var40_ult3              76020 non-null  int64  \n",
            " 124  num_op_var41_hace2             76020 non-null  int64  \n",
            " 125  num_op_var41_hace3             76020 non-null  int64  \n",
            " 126  num_op_var41_ult1              76020 non-null  int64  \n",
            " 127  num_op_var41_ult3              76020 non-null  int64  \n",
            " 128  num_op_var39_hace2             76020 non-null  int64  \n",
            " 129  num_op_var39_hace3             76020 non-null  int64  \n",
            " 130  num_op_var39_ult1              76020 non-null  int64  \n",
            " 131  num_op_var39_ult3              76020 non-null  int64  \n",
            " 132  num_var27_0                    76020 non-null  int64  \n",
            " 133  num_var28_0                    76020 non-null  int64  \n",
            " 134  num_var28                      76020 non-null  int64  \n",
            " 135  num_var27                      76020 non-null  int64  \n",
            " 136  num_var29_0                    76020 non-null  int64  \n",
            " 137  num_var29                      76020 non-null  int64  \n",
            " 138  num_var30_0                    76020 non-null  int64  \n",
            " 139  num_var30                      76020 non-null  int64  \n",
            " 140  num_var31_0                    76020 non-null  int64  \n",
            " 141  num_var31                      76020 non-null  int64  \n",
            " 142  num_var32_0                    76020 non-null  int64  \n",
            " 143  num_var32                      76020 non-null  int64  \n",
            " 144  num_var33_0                    76020 non-null  int64  \n",
            " 145  num_var33                      76020 non-null  int64  \n",
            " 146  num_var34_0                    76020 non-null  int64  \n",
            " 147  num_var34                      76020 non-null  int64  \n",
            " 148  num_var35                      76020 non-null  int64  \n",
            " 149  num_var37_med_ult2             76020 non-null  int64  \n",
            " 150  num_var37_0                    76020 non-null  int64  \n",
            " 151  num_var37                      76020 non-null  int64  \n",
            " 152  num_var39_0                    76020 non-null  int64  \n",
            " 153  num_var40_0                    76020 non-null  int64  \n",
            " 154  num_var40                      76020 non-null  int64  \n",
            " 155  num_var41_0                    76020 non-null  int64  \n",
            " 156  num_var41                      76020 non-null  int64  \n",
            " 157  num_var39                      76020 non-null  int64  \n",
            " 158  num_var42_0                    76020 non-null  int64  \n",
            " 159  num_var42                      76020 non-null  int64  \n",
            " 160  num_var44_0                    76020 non-null  int64  \n",
            " 161  num_var44                      76020 non-null  int64  \n",
            " 162  num_var46_0                    76020 non-null  int64  \n",
            " 163  num_var46                      76020 non-null  int64  \n",
            " 164  saldo_var1                     76020 non-null  float64\n",
            " 165  saldo_var5                     76020 non-null  float64\n",
            " 166  saldo_var6                     76020 non-null  float64\n",
            " 167  saldo_var8                     76020 non-null  float64\n",
            " 168  saldo_var12                    76020 non-null  float64\n",
            " 169  saldo_var13_corto              76020 non-null  float64\n",
            " 170  saldo_var13_largo              76020 non-null  float64\n",
            " 171  saldo_var13_medio              76020 non-null  int64  \n",
            " 172  saldo_var13                    76020 non-null  float64\n",
            " 173  saldo_var14                    76020 non-null  float64\n",
            " 174  saldo_var17                    76020 non-null  float64\n",
            " 175  saldo_var18                    76020 non-null  int64  \n",
            " 176  saldo_var20                    76020 non-null  float64\n",
            " 177  saldo_var24                    76020 non-null  float64\n",
            " 178  saldo_var26                    76020 non-null  float64\n",
            " 179  saldo_var25                    76020 non-null  float64\n",
            " 180  saldo_var28                    76020 non-null  int64  \n",
            " 181  saldo_var27                    76020 non-null  int64  \n",
            " 182  saldo_var29                    76020 non-null  float64\n",
            " 183  saldo_var30                    76020 non-null  float64\n",
            " 184  saldo_var31                    76020 non-null  float64\n",
            " 185  saldo_var32                    76020 non-null  float64\n",
            " 186  saldo_var33                    76020 non-null  float64\n",
            " 187  saldo_var34                    76020 non-null  int64  \n",
            " 188  saldo_var37                    76020 non-null  float64\n",
            " 189  saldo_var40                    76020 non-null  float64\n",
            " 190  saldo_var41                    76020 non-null  int64  \n",
            " 191  saldo_var42                    76020 non-null  float64\n",
            " 192  saldo_var44                    76020 non-null  float64\n",
            " 193  saldo_var46                    76020 non-null  int64  \n",
            " 194  var36                          76020 non-null  int64  \n",
            " 195  delta_imp_amort_var18_1y3      76020 non-null  int64  \n",
            " 196  delta_imp_amort_var34_1y3      76020 non-null  int64  \n",
            " 197  delta_imp_aport_var13_1y3      76020 non-null  float64\n",
            " 198  delta_imp_aport_var17_1y3      76020 non-null  float64\n",
            " 199  delta_imp_aport_var33_1y3      76020 non-null  float64\n",
            " 200  delta_imp_compra_var44_1y3     76020 non-null  float64\n",
            " 201  delta_imp_reemb_var13_1y3      76020 non-null  int64  \n",
            " 202  delta_imp_reemb_var17_1y3      76020 non-null  int64  \n",
            " 203  delta_imp_reemb_var33_1y3      76020 non-null  int64  \n",
            " 204  delta_imp_trasp_var17_in_1y3   76020 non-null  int64  \n",
            " 205  delta_imp_trasp_var17_out_1y3  76020 non-null  int64  \n",
            " 206  delta_imp_trasp_var33_in_1y3   76020 non-null  int64  \n",
            " 207  delta_imp_trasp_var33_out_1y3  76020 non-null  int64  \n",
            " 208  delta_imp_venta_var44_1y3      76020 non-null  float64\n",
            " 209  delta_num_aport_var13_1y3      76020 non-null  float64\n",
            " 210  delta_num_aport_var17_1y3      76020 non-null  float64\n",
            " 211  delta_num_aport_var33_1y3      76020 non-null  float64\n",
            " 212  delta_num_compra_var44_1y3     76020 non-null  float64\n",
            " 213  delta_num_reemb_var13_1y3      76020 non-null  int64  \n",
            " 214  delta_num_reemb_var17_1y3      76020 non-null  int64  \n",
            " 215  delta_num_reemb_var33_1y3      76020 non-null  int64  \n",
            " 216  delta_num_trasp_var17_in_1y3   76020 non-null  int64  \n",
            " 217  delta_num_trasp_var17_out_1y3  76020 non-null  int64  \n",
            " 218  delta_num_trasp_var33_in_1y3   76020 non-null  int64  \n",
            " 219  delta_num_trasp_var33_out_1y3  76020 non-null  int64  \n",
            " 220  delta_num_venta_var44_1y3      76020 non-null  float64\n",
            " 221  imp_amort_var18_hace3          76020 non-null  int64  \n",
            " 222  imp_amort_var18_ult1           76020 non-null  float64\n",
            " 223  imp_amort_var34_hace3          76020 non-null  int64  \n",
            " 224  imp_amort_var34_ult1           76020 non-null  float64\n",
            " 225  imp_aport_var13_hace3          76020 non-null  float64\n",
            " 226  imp_aport_var13_ult1           76020 non-null  float64\n",
            " 227  imp_aport_var17_hace3          76020 non-null  float64\n",
            " 228  imp_aport_var17_ult1           76020 non-null  float64\n",
            " 229  imp_aport_var33_hace3          76020 non-null  int64  \n",
            " 230  imp_aport_var33_ult1           76020 non-null  int64  \n",
            " 231  imp_var7_emit_ult1             76020 non-null  float64\n",
            " 232  imp_var7_recib_ult1            76020 non-null  float64\n",
            " 233  imp_compra_var44_hace3         76020 non-null  float64\n",
            " 234  imp_compra_var44_ult1          76020 non-null  float64\n",
            " 235  imp_reemb_var13_hace3          76020 non-null  int64  \n",
            " 236  imp_reemb_var13_ult1           76020 non-null  float64\n",
            " 237  imp_reemb_var17_hace3          76020 non-null  float64\n",
            " 238  imp_reemb_var17_ult1           76020 non-null  float64\n",
            " 239  imp_reemb_var33_hace3          76020 non-null  int64  \n",
            " 240  imp_reemb_var33_ult1           76020 non-null  int64  \n",
            " 241  imp_var43_emit_ult1            76020 non-null  float64\n",
            " 242  imp_trans_var37_ult1           76020 non-null  float64\n",
            " 243  imp_trasp_var17_in_hace3       76020 non-null  float64\n",
            " 244  imp_trasp_var17_in_ult1        76020 non-null  float64\n",
            " 245  imp_trasp_var17_out_hace3      76020 non-null  int64  \n",
            " 246  imp_trasp_var17_out_ult1       76020 non-null  float64\n",
            " 247  imp_trasp_var33_in_hace3       76020 non-null  float64\n",
            " 248  imp_trasp_var33_in_ult1        76020 non-null  float64\n",
            " 249  imp_trasp_var33_out_hace3      76020 non-null  int64  \n",
            " 250  imp_trasp_var33_out_ult1       76020 non-null  int64  \n",
            " 251  imp_venta_var44_hace3          76020 non-null  float64\n",
            " 252  imp_venta_var44_ult1           76020 non-null  float64\n",
            " 253  ind_var7_emit_ult1             76020 non-null  int64  \n",
            " 254  ind_var7_recib_ult1            76020 non-null  int64  \n",
            " 255  ind_var10_ult1                 76020 non-null  int64  \n",
            " 256  ind_var10cte_ult1              76020 non-null  int64  \n",
            " 257  ind_var9_cte_ult1              76020 non-null  int64  \n",
            " 258  ind_var9_ult1                  76020 non-null  int64  \n",
            " 259  ind_var43_emit_ult1            76020 non-null  int64  \n",
            " 260  ind_var43_recib_ult1           76020 non-null  int64  \n",
            " 261  var21                          76020 non-null  int64  \n",
            " 262  num_var2_0_ult1                76020 non-null  int64  \n",
            " 263  num_var2_ult1                  76020 non-null  int64  \n",
            " 264  num_aport_var13_hace3          76020 non-null  int64  \n",
            " 265  num_aport_var13_ult1           76020 non-null  int64  \n",
            " 266  num_aport_var17_hace3          76020 non-null  int64  \n",
            " 267  num_aport_var17_ult1           76020 non-null  int64  \n",
            " 268  num_aport_var33_hace3          76020 non-null  int64  \n",
            " 269  num_aport_var33_ult1           76020 non-null  int64  \n",
            " 270  num_var7_emit_ult1             76020 non-null  int64  \n",
            " 271  num_var7_recib_ult1            76020 non-null  int64  \n",
            " 272  num_compra_var44_hace3         76020 non-null  int64  \n",
            " 273  num_compra_var44_ult1          76020 non-null  int64  \n",
            " 274  num_ent_var16_ult1             76020 non-null  int64  \n",
            " 275  num_var22_hace2                76020 non-null  int64  \n",
            " 276  num_var22_hace3                76020 non-null  int64  \n",
            " 277  num_var22_ult1                 76020 non-null  int64  \n",
            " 278  num_var22_ult3                 76020 non-null  int64  \n",
            " 279  num_med_var22_ult3             76020 non-null  int64  \n",
            " 280  num_med_var45_ult3             76020 non-null  int64  \n",
            " 281  num_meses_var5_ult3            76020 non-null  int64  \n",
            " 282  num_meses_var8_ult3            76020 non-null  int64  \n",
            " 283  num_meses_var12_ult3           76020 non-null  int64  \n",
            " 284  num_meses_var13_corto_ult3     76020 non-null  int64  \n",
            " 285  num_meses_var13_largo_ult3     76020 non-null  int64  \n",
            " 286  num_meses_var13_medio_ult3     76020 non-null  int64  \n",
            " 287  num_meses_var17_ult3           76020 non-null  int64  \n",
            " 288  num_meses_var29_ult3           76020 non-null  int64  \n",
            " 289  num_meses_var33_ult3           76020 non-null  int64  \n",
            " 290  num_meses_var39_vig_ult3       76020 non-null  int64  \n",
            " 291  num_meses_var44_ult3           76020 non-null  int64  \n",
            " 292  num_op_var39_comer_ult1        76020 non-null  int64  \n",
            " 293  num_op_var39_comer_ult3        76020 non-null  int64  \n",
            " 294  num_op_var40_comer_ult1        76020 non-null  int64  \n",
            " 295  num_op_var40_comer_ult3        76020 non-null  int64  \n",
            " 296  num_op_var40_efect_ult1        76020 non-null  int64  \n",
            " 297  num_op_var40_efect_ult3        76020 non-null  int64  \n",
            " 298  num_op_var41_comer_ult1        76020 non-null  int64  \n",
            " 299  num_op_var41_comer_ult3        76020 non-null  int64  \n",
            " 300  num_op_var41_efect_ult1        76020 non-null  int64  \n",
            " 301  num_op_var41_efect_ult3        76020 non-null  int64  \n",
            " 302  num_op_var39_efect_ult1        76020 non-null  int64  \n",
            " 303  num_op_var39_efect_ult3        76020 non-null  int64  \n",
            " 304  num_reemb_var13_hace3          76020 non-null  int64  \n",
            " 305  num_reemb_var13_ult1           76020 non-null  int64  \n",
            " 306  num_reemb_var17_hace3          76020 non-null  int64  \n",
            " 307  num_reemb_var17_ult1           76020 non-null  int64  \n",
            " 308  num_reemb_var33_hace3          76020 non-null  int64  \n",
            " 309  num_reemb_var33_ult1           76020 non-null  int64  \n",
            " 310  num_sal_var16_ult1             76020 non-null  int64  \n",
            " 311  num_var43_emit_ult1            76020 non-null  int64  \n",
            " 312  num_var43_recib_ult1           76020 non-null  int64  \n",
            " 313  num_trasp_var11_ult1           76020 non-null  int64  \n",
            " 314  num_trasp_var17_in_hace3       76020 non-null  int64  \n",
            " 315  num_trasp_var17_in_ult1        76020 non-null  int64  \n",
            " 316  num_trasp_var17_out_hace3      76020 non-null  int64  \n",
            " 317  num_trasp_var17_out_ult1       76020 non-null  int64  \n",
            " 318  num_trasp_var33_in_hace3       76020 non-null  int64  \n",
            " 319  num_trasp_var33_in_ult1        76020 non-null  int64  \n",
            " 320  num_trasp_var33_out_hace3      76020 non-null  int64  \n",
            " 321  num_trasp_var33_out_ult1       76020 non-null  int64  \n",
            " 322  num_venta_var44_hace3          76020 non-null  int64  \n",
            " 323  num_venta_var44_ult1           76020 non-null  int64  \n",
            " 324  num_var45_hace2                76020 non-null  int64  \n",
            " 325  num_var45_hace3                76020 non-null  int64  \n",
            " 326  num_var45_ult1                 76020 non-null  int64  \n",
            " 327  num_var45_ult3                 76020 non-null  int64  \n",
            " 328  saldo_var2_ult1                76020 non-null  int64  \n",
            " 329  saldo_medio_var5_hace2         76020 non-null  float64\n",
            " 330  saldo_medio_var5_hace3         76020 non-null  float64\n",
            " 331  saldo_medio_var5_ult1          76020 non-null  float64\n",
            " 332  saldo_medio_var5_ult3          76020 non-null  float64\n",
            " 333  saldo_medio_var8_hace2         76020 non-null  float64\n",
            " 334  saldo_medio_var8_hace3         76020 non-null  float64\n",
            " 335  saldo_medio_var8_ult1          76020 non-null  float64\n",
            " 336  saldo_medio_var8_ult3          76020 non-null  float64\n",
            " 337  saldo_medio_var12_hace2        76020 non-null  float64\n",
            " 338  saldo_medio_var12_hace3        76020 non-null  float64\n",
            " 339  saldo_medio_var12_ult1         76020 non-null  float64\n",
            " 340  saldo_medio_var12_ult3         76020 non-null  float64\n",
            " 341  saldo_medio_var13_corto_hace2  76020 non-null  float64\n",
            " 342  saldo_medio_var13_corto_hace3  76020 non-null  float64\n",
            " 343  saldo_medio_var13_corto_ult1   76020 non-null  float64\n",
            " 344  saldo_medio_var13_corto_ult3   76020 non-null  float64\n",
            " 345  saldo_medio_var13_largo_hace2  76020 non-null  float64\n",
            " 346  saldo_medio_var13_largo_hace3  76020 non-null  float64\n",
            " 347  saldo_medio_var13_largo_ult1   76020 non-null  float64\n",
            " 348  saldo_medio_var13_largo_ult3   76020 non-null  float64\n",
            " 349  saldo_medio_var13_medio_hace2  76020 non-null  float64\n",
            " 350  saldo_medio_var13_medio_hace3  76020 non-null  int64  \n",
            " 351  saldo_medio_var13_medio_ult1   76020 non-null  int64  \n",
            " 352  saldo_medio_var13_medio_ult3   76020 non-null  float64\n",
            " 353  saldo_medio_var17_hace2        76020 non-null  float64\n",
            " 354  saldo_medio_var17_hace3        76020 non-null  float64\n",
            " 355  saldo_medio_var17_ult1         76020 non-null  float64\n",
            " 356  saldo_medio_var17_ult3         76020 non-null  float64\n",
            " 357  saldo_medio_var29_hace2        76020 non-null  float64\n",
            " 358  saldo_medio_var29_hace3        76020 non-null  float64\n",
            " 359  saldo_medio_var29_ult1         76020 non-null  float64\n",
            " 360  saldo_medio_var29_ult3         76020 non-null  float64\n",
            " 361  saldo_medio_var33_hace2        76020 non-null  float64\n",
            " 362  saldo_medio_var33_hace3        76020 non-null  float64\n",
            " 363  saldo_medio_var33_ult1         76020 non-null  float64\n",
            " 364  saldo_medio_var33_ult3         76020 non-null  float64\n",
            " 365  saldo_medio_var44_hace2        76020 non-null  float64\n",
            " 366  saldo_medio_var44_hace3        76020 non-null  float64\n",
            " 367  saldo_medio_var44_ult1         76020 non-null  float64\n",
            " 368  saldo_medio_var44_ult3         76020 non-null  float64\n",
            " 369  var38                          76020 non-null  float64\n",
            " 370  TARGET                         76020 non-null  int64  \n",
            "dtypes: float64(111), int64(260)\n",
            "memory usage: 215.2 MB\n"
          ]
        }
      ]
    },
    {
      "cell_type": "code",
      "source": [
        "df.isnull().sum().sum()"
      ],
      "metadata": {
        "colab": {
          "base_uri": "https://localhost:8080/"
        },
        "id": "_NuwuyNJPaSn",
        "outputId": "82dd2c3d-d4f0-45fb-9f03-5a8b858a13bc"
      },
      "execution_count": null,
      "outputs": [
        {
          "output_type": "execute_result",
          "data": {
            "text/plain": [
              "0"
            ]
          },
          "metadata": {},
          "execution_count": 88
        }
      ]
    },
    {
      "cell_type": "code",
      "source": [
        "df.TARGET.value_counts()"
      ],
      "metadata": {
        "colab": {
          "base_uri": "https://localhost:8080/"
        },
        "id": "o4NMy4bOPm60",
        "outputId": "7a7a2f66-1276-42ef-8602-794dc6b113d3"
      },
      "execution_count": null,
      "outputs": [
        {
          "output_type": "execute_result",
          "data": {
            "text/plain": [
              "0    73012\n",
              "1     3008\n",
              "Name: TARGET, dtype: int64"
            ]
          },
          "metadata": {},
          "execution_count": 89
        }
      ]
    },
    {
      "cell_type": "code",
      "source": [
        "73012/3008"
      ],
      "metadata": {
        "colab": {
          "base_uri": "https://localhost:8080/"
        },
        "id": "1Ts7-B0jP64Y",
        "outputId": "88fe56e7-cb98-4503-cc79-8a27a77518a5"
      },
      "execution_count": null,
      "outputs": [
        {
          "output_type": "execute_result",
          "data": {
            "text/plain": [
              "24.272606382978722"
            ]
          },
          "metadata": {},
          "execution_count": 91
        }
      ]
    },
    {
      "cell_type": "code",
      "source": [
        "df.describe()"
      ],
      "metadata": {
        "colab": {
          "base_uri": "https://localhost:8080/",
          "height": 349
        },
        "id": "RH21XBL_QByS",
        "outputId": "041dce36-e2d3-4436-c60c-001a5d4cbdef"
      },
      "execution_count": null,
      "outputs": [
        {
          "output_type": "execute_result",
          "data": {
            "text/plain": [
              "                  ID           var3         var15  imp_ent_var16_ult1  \\\n",
              "count   76020.000000   76020.000000  76020.000000        76020.000000   \n",
              "mean    75964.050723   -1523.199277     33.212865           86.208265   \n",
              "std     43781.947379   39033.462364     12.956486         1614.757313   \n",
              "min         1.000000 -999999.000000      5.000000            0.000000   \n",
              "25%     38104.750000       2.000000     23.000000            0.000000   \n",
              "50%     76043.000000       2.000000     28.000000            0.000000   \n",
              "75%    113748.750000       2.000000     40.000000            0.000000   \n",
              "max    151838.000000     238.000000    105.000000       210000.000000   \n",
              "\n",
              "       imp_op_var39_comer_ult1  imp_op_var39_comer_ult3  \\\n",
              "count             76020.000000             76020.000000   \n",
              "mean                 72.363067               119.529632   \n",
              "std                 339.315831               546.266294   \n",
              "min                   0.000000                 0.000000   \n",
              "25%                   0.000000                 0.000000   \n",
              "50%                   0.000000                 0.000000   \n",
              "75%                   0.000000                 0.000000   \n",
              "max               12888.030000             21024.810000   \n",
              "\n",
              "       imp_op_var40_comer_ult1  imp_op_var40_comer_ult3  \\\n",
              "count             76020.000000             76020.000000   \n",
              "mean                  3.559130                 6.472698   \n",
              "std                  93.155749               153.737066   \n",
              "min                   0.000000                 0.000000   \n",
              "25%                   0.000000                 0.000000   \n",
              "50%                   0.000000                 0.000000   \n",
              "75%                   0.000000                 0.000000   \n",
              "max                8237.820000             11073.570000   \n",
              "\n",
              "       imp_op_var40_efect_ult1  imp_op_var40_efect_ult3  ...  \\\n",
              "count             76020.000000             76020.000000  ...   \n",
              "mean                  0.412946                 0.567352  ...   \n",
              "std                  30.604864                36.513513  ...   \n",
              "min                   0.000000                 0.000000  ...   \n",
              "25%                   0.000000                 0.000000  ...   \n",
              "50%                   0.000000                 0.000000  ...   \n",
              "75%                   0.000000                 0.000000  ...   \n",
              "max                6600.000000              6600.000000  ...   \n",
              "\n",
              "       saldo_medio_var33_hace2  saldo_medio_var33_hace3  \\\n",
              "count             76020.000000             76020.000000   \n",
              "mean                  7.935824                 1.365146   \n",
              "std                 455.887218               113.959637   \n",
              "min                   0.000000                 0.000000   \n",
              "25%                   0.000000                 0.000000   \n",
              "50%                   0.000000                 0.000000   \n",
              "75%                   0.000000                 0.000000   \n",
              "max               50003.880000             20385.720000   \n",
              "\n",
              "       saldo_medio_var33_ult1  saldo_medio_var33_ult3  \\\n",
              "count            76020.000000            76020.000000   \n",
              "mean                12.215580                8.784074   \n",
              "std                783.207399              538.439211   \n",
              "min                  0.000000                0.000000   \n",
              "25%                  0.000000                0.000000   \n",
              "50%                  0.000000                0.000000   \n",
              "75%                  0.000000                0.000000   \n",
              "max             138831.630000            91778.730000   \n",
              "\n",
              "       saldo_medio_var44_hace2  saldo_medio_var44_hace3  \\\n",
              "count             76020.000000             76020.000000   \n",
              "mean                 31.505324                 1.858575   \n",
              "std                2013.125393               147.786584   \n",
              "min                   0.000000                 0.000000   \n",
              "25%                   0.000000                 0.000000   \n",
              "50%                   0.000000                 0.000000   \n",
              "75%                   0.000000                 0.000000   \n",
              "max              438329.220000             24650.010000   \n",
              "\n",
              "       saldo_medio_var44_ult1  saldo_medio_var44_ult3         var38  \\\n",
              "count            76020.000000            76020.000000  7.602000e+04   \n",
              "mean                76.026165               56.614351  1.172358e+05   \n",
              "std               4040.337842             2852.579397  1.826646e+05   \n",
              "min                  0.000000                0.000000  5.163750e+03   \n",
              "25%                  0.000000                0.000000  6.787061e+04   \n",
              "50%                  0.000000                0.000000  1.064092e+05   \n",
              "75%                  0.000000                0.000000  1.187563e+05   \n",
              "max             681462.900000           397884.300000  2.203474e+07   \n",
              "\n",
              "             TARGET  \n",
              "count  76020.000000  \n",
              "mean       0.039569  \n",
              "std        0.194945  \n",
              "min        0.000000  \n",
              "25%        0.000000  \n",
              "50%        0.000000  \n",
              "75%        0.000000  \n",
              "max        1.000000  \n",
              "\n",
              "[8 rows x 371 columns]"
            ],
            "text/html": [
              "\n",
              "  <div id=\"df-d199d740-99be-4453-9c07-da1e61514867\" class=\"colab-df-container\">\n",
              "    <div>\n",
              "<style scoped>\n",
              "    .dataframe tbody tr th:only-of-type {\n",
              "        vertical-align: middle;\n",
              "    }\n",
              "\n",
              "    .dataframe tbody tr th {\n",
              "        vertical-align: top;\n",
              "    }\n",
              "\n",
              "    .dataframe thead th {\n",
              "        text-align: right;\n",
              "    }\n",
              "</style>\n",
              "<table border=\"1\" class=\"dataframe\">\n",
              "  <thead>\n",
              "    <tr style=\"text-align: right;\">\n",
              "      <th></th>\n",
              "      <th>ID</th>\n",
              "      <th>var3</th>\n",
              "      <th>var15</th>\n",
              "      <th>imp_ent_var16_ult1</th>\n",
              "      <th>imp_op_var39_comer_ult1</th>\n",
              "      <th>imp_op_var39_comer_ult3</th>\n",
              "      <th>imp_op_var40_comer_ult1</th>\n",
              "      <th>imp_op_var40_comer_ult3</th>\n",
              "      <th>imp_op_var40_efect_ult1</th>\n",
              "      <th>imp_op_var40_efect_ult3</th>\n",
              "      <th>...</th>\n",
              "      <th>saldo_medio_var33_hace2</th>\n",
              "      <th>saldo_medio_var33_hace3</th>\n",
              "      <th>saldo_medio_var33_ult1</th>\n",
              "      <th>saldo_medio_var33_ult3</th>\n",
              "      <th>saldo_medio_var44_hace2</th>\n",
              "      <th>saldo_medio_var44_hace3</th>\n",
              "      <th>saldo_medio_var44_ult1</th>\n",
              "      <th>saldo_medio_var44_ult3</th>\n",
              "      <th>var38</th>\n",
              "      <th>TARGET</th>\n",
              "    </tr>\n",
              "  </thead>\n",
              "  <tbody>\n",
              "    <tr>\n",
              "      <th>count</th>\n",
              "      <td>76020.000000</td>\n",
              "      <td>76020.000000</td>\n",
              "      <td>76020.000000</td>\n",
              "      <td>76020.000000</td>\n",
              "      <td>76020.000000</td>\n",
              "      <td>76020.000000</td>\n",
              "      <td>76020.000000</td>\n",
              "      <td>76020.000000</td>\n",
              "      <td>76020.000000</td>\n",
              "      <td>76020.000000</td>\n",
              "      <td>...</td>\n",
              "      <td>76020.000000</td>\n",
              "      <td>76020.000000</td>\n",
              "      <td>76020.000000</td>\n",
              "      <td>76020.000000</td>\n",
              "      <td>76020.000000</td>\n",
              "      <td>76020.000000</td>\n",
              "      <td>76020.000000</td>\n",
              "      <td>76020.000000</td>\n",
              "      <td>7.602000e+04</td>\n",
              "      <td>76020.000000</td>\n",
              "    </tr>\n",
              "    <tr>\n",
              "      <th>mean</th>\n",
              "      <td>75964.050723</td>\n",
              "      <td>-1523.199277</td>\n",
              "      <td>33.212865</td>\n",
              "      <td>86.208265</td>\n",
              "      <td>72.363067</td>\n",
              "      <td>119.529632</td>\n",
              "      <td>3.559130</td>\n",
              "      <td>6.472698</td>\n",
              "      <td>0.412946</td>\n",
              "      <td>0.567352</td>\n",
              "      <td>...</td>\n",
              "      <td>7.935824</td>\n",
              "      <td>1.365146</td>\n",
              "      <td>12.215580</td>\n",
              "      <td>8.784074</td>\n",
              "      <td>31.505324</td>\n",
              "      <td>1.858575</td>\n",
              "      <td>76.026165</td>\n",
              "      <td>56.614351</td>\n",
              "      <td>1.172358e+05</td>\n",
              "      <td>0.039569</td>\n",
              "    </tr>\n",
              "    <tr>\n",
              "      <th>std</th>\n",
              "      <td>43781.947379</td>\n",
              "      <td>39033.462364</td>\n",
              "      <td>12.956486</td>\n",
              "      <td>1614.757313</td>\n",
              "      <td>339.315831</td>\n",
              "      <td>546.266294</td>\n",
              "      <td>93.155749</td>\n",
              "      <td>153.737066</td>\n",
              "      <td>30.604864</td>\n",
              "      <td>36.513513</td>\n",
              "      <td>...</td>\n",
              "      <td>455.887218</td>\n",
              "      <td>113.959637</td>\n",
              "      <td>783.207399</td>\n",
              "      <td>538.439211</td>\n",
              "      <td>2013.125393</td>\n",
              "      <td>147.786584</td>\n",
              "      <td>4040.337842</td>\n",
              "      <td>2852.579397</td>\n",
              "      <td>1.826646e+05</td>\n",
              "      <td>0.194945</td>\n",
              "    </tr>\n",
              "    <tr>\n",
              "      <th>min</th>\n",
              "      <td>1.000000</td>\n",
              "      <td>-999999.000000</td>\n",
              "      <td>5.000000</td>\n",
              "      <td>0.000000</td>\n",
              "      <td>0.000000</td>\n",
              "      <td>0.000000</td>\n",
              "      <td>0.000000</td>\n",
              "      <td>0.000000</td>\n",
              "      <td>0.000000</td>\n",
              "      <td>0.000000</td>\n",
              "      <td>...</td>\n",
              "      <td>0.000000</td>\n",
              "      <td>0.000000</td>\n",
              "      <td>0.000000</td>\n",
              "      <td>0.000000</td>\n",
              "      <td>0.000000</td>\n",
              "      <td>0.000000</td>\n",
              "      <td>0.000000</td>\n",
              "      <td>0.000000</td>\n",
              "      <td>5.163750e+03</td>\n",
              "      <td>0.000000</td>\n",
              "    </tr>\n",
              "    <tr>\n",
              "      <th>25%</th>\n",
              "      <td>38104.750000</td>\n",
              "      <td>2.000000</td>\n",
              "      <td>23.000000</td>\n",
              "      <td>0.000000</td>\n",
              "      <td>0.000000</td>\n",
              "      <td>0.000000</td>\n",
              "      <td>0.000000</td>\n",
              "      <td>0.000000</td>\n",
              "      <td>0.000000</td>\n",
              "      <td>0.000000</td>\n",
              "      <td>...</td>\n",
              "      <td>0.000000</td>\n",
              "      <td>0.000000</td>\n",
              "      <td>0.000000</td>\n",
              "      <td>0.000000</td>\n",
              "      <td>0.000000</td>\n",
              "      <td>0.000000</td>\n",
              "      <td>0.000000</td>\n",
              "      <td>0.000000</td>\n",
              "      <td>6.787061e+04</td>\n",
              "      <td>0.000000</td>\n",
              "    </tr>\n",
              "    <tr>\n",
              "      <th>50%</th>\n",
              "      <td>76043.000000</td>\n",
              "      <td>2.000000</td>\n",
              "      <td>28.000000</td>\n",
              "      <td>0.000000</td>\n",
              "      <td>0.000000</td>\n",
              "      <td>0.000000</td>\n",
              "      <td>0.000000</td>\n",
              "      <td>0.000000</td>\n",
              "      <td>0.000000</td>\n",
              "      <td>0.000000</td>\n",
              "      <td>...</td>\n",
              "      <td>0.000000</td>\n",
              "      <td>0.000000</td>\n",
              "      <td>0.000000</td>\n",
              "      <td>0.000000</td>\n",
              "      <td>0.000000</td>\n",
              "      <td>0.000000</td>\n",
              "      <td>0.000000</td>\n",
              "      <td>0.000000</td>\n",
              "      <td>1.064092e+05</td>\n",
              "      <td>0.000000</td>\n",
              "    </tr>\n",
              "    <tr>\n",
              "      <th>75%</th>\n",
              "      <td>113748.750000</td>\n",
              "      <td>2.000000</td>\n",
              "      <td>40.000000</td>\n",
              "      <td>0.000000</td>\n",
              "      <td>0.000000</td>\n",
              "      <td>0.000000</td>\n",
              "      <td>0.000000</td>\n",
              "      <td>0.000000</td>\n",
              "      <td>0.000000</td>\n",
              "      <td>0.000000</td>\n",
              "      <td>...</td>\n",
              "      <td>0.000000</td>\n",
              "      <td>0.000000</td>\n",
              "      <td>0.000000</td>\n",
              "      <td>0.000000</td>\n",
              "      <td>0.000000</td>\n",
              "      <td>0.000000</td>\n",
              "      <td>0.000000</td>\n",
              "      <td>0.000000</td>\n",
              "      <td>1.187563e+05</td>\n",
              "      <td>0.000000</td>\n",
              "    </tr>\n",
              "    <tr>\n",
              "      <th>max</th>\n",
              "      <td>151838.000000</td>\n",
              "      <td>238.000000</td>\n",
              "      <td>105.000000</td>\n",
              "      <td>210000.000000</td>\n",
              "      <td>12888.030000</td>\n",
              "      <td>21024.810000</td>\n",
              "      <td>8237.820000</td>\n",
              "      <td>11073.570000</td>\n",
              "      <td>6600.000000</td>\n",
              "      <td>6600.000000</td>\n",
              "      <td>...</td>\n",
              "      <td>50003.880000</td>\n",
              "      <td>20385.720000</td>\n",
              "      <td>138831.630000</td>\n",
              "      <td>91778.730000</td>\n",
              "      <td>438329.220000</td>\n",
              "      <td>24650.010000</td>\n",
              "      <td>681462.900000</td>\n",
              "      <td>397884.300000</td>\n",
              "      <td>2.203474e+07</td>\n",
              "      <td>1.000000</td>\n",
              "    </tr>\n",
              "  </tbody>\n",
              "</table>\n",
              "<p>8 rows × 371 columns</p>\n",
              "</div>\n",
              "    <div class=\"colab-df-buttons\">\n",
              "\n",
              "  <div class=\"colab-df-container\">\n",
              "    <button class=\"colab-df-convert\" onclick=\"convertToInteractive('df-d199d740-99be-4453-9c07-da1e61514867')\"\n",
              "            title=\"Convert this dataframe to an interactive table.\"\n",
              "            style=\"display:none;\">\n",
              "\n",
              "  <svg xmlns=\"http://www.w3.org/2000/svg\" height=\"24px\" viewBox=\"0 -960 960 960\">\n",
              "    <path d=\"M120-120v-720h720v720H120Zm60-500h600v-160H180v160Zm220 220h160v-160H400v160Zm0 220h160v-160H400v160ZM180-400h160v-160H180v160Zm440 0h160v-160H620v160ZM180-180h160v-160H180v160Zm440 0h160v-160H620v160Z\"/>\n",
              "  </svg>\n",
              "    </button>\n",
              "\n",
              "  <style>\n",
              "    .colab-df-container {\n",
              "      display:flex;\n",
              "      gap: 12px;\n",
              "    }\n",
              "\n",
              "    .colab-df-convert {\n",
              "      background-color: #E8F0FE;\n",
              "      border: none;\n",
              "      border-radius: 50%;\n",
              "      cursor: pointer;\n",
              "      display: none;\n",
              "      fill: #1967D2;\n",
              "      height: 32px;\n",
              "      padding: 0 0 0 0;\n",
              "      width: 32px;\n",
              "    }\n",
              "\n",
              "    .colab-df-convert:hover {\n",
              "      background-color: #E2EBFA;\n",
              "      box-shadow: 0px 1px 2px rgba(60, 64, 67, 0.3), 0px 1px 3px 1px rgba(60, 64, 67, 0.15);\n",
              "      fill: #174EA6;\n",
              "    }\n",
              "\n",
              "    .colab-df-buttons div {\n",
              "      margin-bottom: 4px;\n",
              "    }\n",
              "\n",
              "    [theme=dark] .colab-df-convert {\n",
              "      background-color: #3B4455;\n",
              "      fill: #D2E3FC;\n",
              "    }\n",
              "\n",
              "    [theme=dark] .colab-df-convert:hover {\n",
              "      background-color: #434B5C;\n",
              "      box-shadow: 0px 1px 3px 1px rgba(0, 0, 0, 0.15);\n",
              "      filter: drop-shadow(0px 1px 2px rgba(0, 0, 0, 0.3));\n",
              "      fill: #FFFFFF;\n",
              "    }\n",
              "  </style>\n",
              "\n",
              "    <script>\n",
              "      const buttonEl =\n",
              "        document.querySelector('#df-d199d740-99be-4453-9c07-da1e61514867 button.colab-df-convert');\n",
              "      buttonEl.style.display =\n",
              "        google.colab.kernel.accessAllowed ? 'block' : 'none';\n",
              "\n",
              "      async function convertToInteractive(key) {\n",
              "        const element = document.querySelector('#df-d199d740-99be-4453-9c07-da1e61514867');\n",
              "        const dataTable =\n",
              "          await google.colab.kernel.invokeFunction('convertToInteractive',\n",
              "                                                    [key], {});\n",
              "        if (!dataTable) return;\n",
              "\n",
              "        const docLinkHtml = 'Like what you see? Visit the ' +\n",
              "          '<a target=\"_blank\" href=https://colab.research.google.com/notebooks/data_table.ipynb>data table notebook</a>'\n",
              "          + ' to learn more about interactive tables.';\n",
              "        element.innerHTML = '';\n",
              "        dataTable['output_type'] = 'display_data';\n",
              "        await google.colab.output.renderOutput(dataTable, element);\n",
              "        const docLink = document.createElement('div');\n",
              "        docLink.innerHTML = docLinkHtml;\n",
              "        element.appendChild(docLink);\n",
              "      }\n",
              "    </script>\n",
              "  </div>\n",
              "\n",
              "\n",
              "<div id=\"df-59360aef-44d3-46ad-8591-7b4ca42a3787\">\n",
              "  <button class=\"colab-df-quickchart\" onclick=\"quickchart('df-59360aef-44d3-46ad-8591-7b4ca42a3787')\"\n",
              "            title=\"Suggest charts.\"\n",
              "            style=\"display:none;\">\n",
              "\n",
              "<svg xmlns=\"http://www.w3.org/2000/svg\" height=\"24px\"viewBox=\"0 0 24 24\"\n",
              "     width=\"24px\">\n",
              "    <g>\n",
              "        <path d=\"M19 3H5c-1.1 0-2 .9-2 2v14c0 1.1.9 2 2 2h14c1.1 0 2-.9 2-2V5c0-1.1-.9-2-2-2zM9 17H7v-7h2v7zm4 0h-2V7h2v10zm4 0h-2v-4h2v4z\"/>\n",
              "    </g>\n",
              "</svg>\n",
              "  </button>\n",
              "\n",
              "<style>\n",
              "  .colab-df-quickchart {\n",
              "      --bg-color: #E8F0FE;\n",
              "      --fill-color: #1967D2;\n",
              "      --hover-bg-color: #E2EBFA;\n",
              "      --hover-fill-color: #174EA6;\n",
              "      --disabled-fill-color: #AAA;\n",
              "      --disabled-bg-color: #DDD;\n",
              "  }\n",
              "\n",
              "  [theme=dark] .colab-df-quickchart {\n",
              "      --bg-color: #3B4455;\n",
              "      --fill-color: #D2E3FC;\n",
              "      --hover-bg-color: #434B5C;\n",
              "      --hover-fill-color: #FFFFFF;\n",
              "      --disabled-bg-color: #3B4455;\n",
              "      --disabled-fill-color: #666;\n",
              "  }\n",
              "\n",
              "  .colab-df-quickchart {\n",
              "    background-color: var(--bg-color);\n",
              "    border: none;\n",
              "    border-radius: 50%;\n",
              "    cursor: pointer;\n",
              "    display: none;\n",
              "    fill: var(--fill-color);\n",
              "    height: 32px;\n",
              "    padding: 0;\n",
              "    width: 32px;\n",
              "  }\n",
              "\n",
              "  .colab-df-quickchart:hover {\n",
              "    background-color: var(--hover-bg-color);\n",
              "    box-shadow: 0 1px 2px rgba(60, 64, 67, 0.3), 0 1px 3px 1px rgba(60, 64, 67, 0.15);\n",
              "    fill: var(--button-hover-fill-color);\n",
              "  }\n",
              "\n",
              "  .colab-df-quickchart-complete:disabled,\n",
              "  .colab-df-quickchart-complete:disabled:hover {\n",
              "    background-color: var(--disabled-bg-color);\n",
              "    fill: var(--disabled-fill-color);\n",
              "    box-shadow: none;\n",
              "  }\n",
              "\n",
              "  .colab-df-spinner {\n",
              "    border: 2px solid var(--fill-color);\n",
              "    border-color: transparent;\n",
              "    border-bottom-color: var(--fill-color);\n",
              "    animation:\n",
              "      spin 1s steps(1) infinite;\n",
              "  }\n",
              "\n",
              "  @keyframes spin {\n",
              "    0% {\n",
              "      border-color: transparent;\n",
              "      border-bottom-color: var(--fill-color);\n",
              "      border-left-color: var(--fill-color);\n",
              "    }\n",
              "    20% {\n",
              "      border-color: transparent;\n",
              "      border-left-color: var(--fill-color);\n",
              "      border-top-color: var(--fill-color);\n",
              "    }\n",
              "    30% {\n",
              "      border-color: transparent;\n",
              "      border-left-color: var(--fill-color);\n",
              "      border-top-color: var(--fill-color);\n",
              "      border-right-color: var(--fill-color);\n",
              "    }\n",
              "    40% {\n",
              "      border-color: transparent;\n",
              "      border-right-color: var(--fill-color);\n",
              "      border-top-color: var(--fill-color);\n",
              "    }\n",
              "    60% {\n",
              "      border-color: transparent;\n",
              "      border-right-color: var(--fill-color);\n",
              "    }\n",
              "    80% {\n",
              "      border-color: transparent;\n",
              "      border-right-color: var(--fill-color);\n",
              "      border-bottom-color: var(--fill-color);\n",
              "    }\n",
              "    90% {\n",
              "      border-color: transparent;\n",
              "      border-bottom-color: var(--fill-color);\n",
              "    }\n",
              "  }\n",
              "</style>\n",
              "\n",
              "  <script>\n",
              "    async function quickchart(key) {\n",
              "      const quickchartButtonEl =\n",
              "        document.querySelector('#' + key + ' button');\n",
              "      quickchartButtonEl.disabled = true;  // To prevent multiple clicks.\n",
              "      quickchartButtonEl.classList.add('colab-df-spinner');\n",
              "      try {\n",
              "        const charts = await google.colab.kernel.invokeFunction(\n",
              "            'suggestCharts', [key], {});\n",
              "      } catch (error) {\n",
              "        console.error('Error during call to suggestCharts:', error);\n",
              "      }\n",
              "      quickchartButtonEl.classList.remove('colab-df-spinner');\n",
              "      quickchartButtonEl.classList.add('colab-df-quickchart-complete');\n",
              "    }\n",
              "    (() => {\n",
              "      let quickchartButtonEl =\n",
              "        document.querySelector('#df-59360aef-44d3-46ad-8591-7b4ca42a3787 button');\n",
              "      quickchartButtonEl.style.display =\n",
              "        google.colab.kernel.accessAllowed ? 'block' : 'none';\n",
              "    })();\n",
              "  </script>\n",
              "</div>\n",
              "    </div>\n",
              "  </div>\n"
            ]
          },
          "metadata": {},
          "execution_count": 92
        }
      ]
    },
    {
      "cell_type": "code",
      "source": [
        "df.var3.value_counts()"
      ],
      "metadata": {
        "colab": {
          "base_uri": "https://localhost:8080/"
        },
        "id": "I2oN8YmpQZAT",
        "outputId": "f494a62d-b48c-4504-bb04-a080403f82e9"
      },
      "execution_count": null,
      "outputs": [
        {
          "output_type": "execute_result",
          "data": {
            "text/plain": [
              " 2         74165\n",
              " 8           138\n",
              "-999999      116\n",
              " 9           110\n",
              " 3           108\n",
              "           ...  \n",
              " 231           1\n",
              " 188           1\n",
              " 168           1\n",
              " 135           1\n",
              " 87            1\n",
              "Name: var3, Length: 208, dtype: int64"
            ]
          },
          "metadata": {},
          "execution_count": 93
        }
      ]
    },
    {
      "cell_type": "code",
      "source": [
        "df.var3.value_counts(normalize=True)*100"
      ],
      "metadata": {
        "colab": {
          "base_uri": "https://localhost:8080/"
        },
        "id": "umGzBrIfQozi",
        "outputId": "eb8c4361-1a15-4e25-ace6-2a8aedea4a2b"
      },
      "execution_count": null,
      "outputs": [
        {
          "output_type": "execute_result",
          "data": {
            "text/plain": [
              " 2         97.559853\n",
              " 8          0.181531\n",
              "-999999     0.152591\n",
              " 9          0.144699\n",
              " 3          0.142068\n",
              "             ...    \n",
              " 231        0.001315\n",
              " 188        0.001315\n",
              " 168        0.001315\n",
              " 135        0.001315\n",
              " 87         0.001315\n",
              "Name: var3, Length: 208, dtype: float64"
            ]
          },
          "metadata": {},
          "execution_count": 94
        }
      ]
    },
    {
      "cell_type": "code",
      "source": [
        "df['var3'].replace(-999999, 2, inplace=True)"
      ],
      "metadata": {
        "id": "3VCu_rpxQxWv"
      },
      "execution_count": null,
      "outputs": []
    },
    {
      "cell_type": "code",
      "source": [
        "df.var3.value_counts(normalize=True)*100"
      ],
      "metadata": {
        "colab": {
          "base_uri": "https://localhost:8080/"
        },
        "id": "AxQVd6rLSZSm",
        "outputId": "4f157569-09ac-4336-ba16-6743bec4c7ba"
      },
      "execution_count": null,
      "outputs": [
        {
          "output_type": "execute_result",
          "data": {
            "text/plain": [
              "2      97.712444\n",
              "8       0.181531\n",
              "9       0.144699\n",
              "3       0.142068\n",
              "1       0.138122\n",
              "         ...    \n",
              "231     0.001315\n",
              "188     0.001315\n",
              "168     0.001315\n",
              "135     0.001315\n",
              "87      0.001315\n",
              "Name: var3, Length: 207, dtype: float64"
            ]
          },
          "metadata": {},
          "execution_count": 97
        }
      ]
    },
    {
      "cell_type": "code",
      "source": [
        "df.drop('ID', axis=1, inplace=True)"
      ],
      "metadata": {
        "id": "7J2ShqrdSiyb"
      },
      "execution_count": null,
      "outputs": []
    },
    {
      "cell_type": "code",
      "source": [
        "X_features = df.iloc[:, :-1]\n",
        "y_labels = df.iloc[:, -1]"
      ],
      "metadata": {
        "id": "OKiBV4tbSp6Z"
      },
      "execution_count": null,
      "outputs": []
    },
    {
      "cell_type": "code",
      "source": [
        "X_features.shape, y_labels.shape"
      ],
      "metadata": {
        "colab": {
          "base_uri": "https://localhost:8080/"
        },
        "id": "4kQdnMFmSy8v",
        "outputId": "84fe4464-33df-491e-9dd7-75c98f784962"
      },
      "execution_count": null,
      "outputs": [
        {
          "output_type": "execute_result",
          "data": {
            "text/plain": [
              "((76020, 369), (76020,))"
            ]
          },
          "metadata": {},
          "execution_count": 100
        }
      ]
    },
    {
      "cell_type": "code",
      "source": [
        "X_train, X_test, y_train, y_test = train_test_split(X_features, y_labels, test_size=0.2, random_state=0)"
      ],
      "metadata": {
        "id": "WN4TPB9sS2Mg"
      },
      "execution_count": null,
      "outputs": []
    },
    {
      "cell_type": "code",
      "source": [
        "X_train.shape, X_test.shape, y_train.shape, y_test.shape"
      ],
      "metadata": {
        "colab": {
          "base_uri": "https://localhost:8080/"
        },
        "id": "JY1si25KTDMx",
        "outputId": "4796c230-30dc-4f28-edae-2d769478fcc8"
      },
      "execution_count": null,
      "outputs": [
        {
          "output_type": "execute_result",
          "data": {
            "text/plain": [
              "((60816, 369), (15204, 369), (60816,), (15204,))"
            ]
          },
          "metadata": {},
          "execution_count": 103
        }
      ]
    },
    {
      "cell_type": "code",
      "source": [
        "60816*0.96"
      ],
      "metadata": {
        "colab": {
          "base_uri": "https://localhost:8080/"
        },
        "id": "_FgKBHYgY5nM",
        "outputId": "01291e3a-7fe2-4c4c-9408-caf165bfcacf"
      },
      "execution_count": null,
      "outputs": [
        {
          "output_type": "execute_result",
          "data": {
            "text/plain": [
              "58383.36"
            ]
          },
          "metadata": {},
          "execution_count": 114
        }
      ]
    },
    {
      "cell_type": "code",
      "source": [
        "y_train.value_counts(normalize=True)*100"
      ],
      "metadata": {
        "colab": {
          "base_uri": "https://localhost:8080/"
        },
        "id": "JSqgQwOiTIm9",
        "outputId": "e0688d96-400a-492d-ce64-c9bfe4a746fa"
      },
      "execution_count": null,
      "outputs": [
        {
          "output_type": "execute_result",
          "data": {
            "text/plain": [
              "0    96.096422\n",
              "1     3.903578\n",
              "Name: TARGET, dtype: float64"
            ]
          },
          "metadata": {},
          "execution_count": 104
        }
      ]
    },
    {
      "cell_type": "code",
      "source": [
        "y_test.value_counts(normalize=True)*100"
      ],
      "metadata": {
        "colab": {
          "base_uri": "https://localhost:8080/"
        },
        "id": "6XFBqVJ_WBO7",
        "outputId": "49b42680-2121-47a4-85ac-9dc74151fb28"
      },
      "execution_count": null,
      "outputs": [
        {
          "output_type": "execute_result",
          "data": {
            "text/plain": [
              "0    95.830045\n",
              "1     4.169955\n",
              "Name: TARGET, dtype: float64"
            ]
          },
          "metadata": {},
          "execution_count": 105
        }
      ]
    },
    {
      "cell_type": "code",
      "source": [
        "from imblearn.under_sampling import RandomUnderSampler"
      ],
      "metadata": {
        "id": "YyKAAm9iWE4w"
      },
      "execution_count": null,
      "outputs": []
    },
    {
      "cell_type": "code",
      "source": [
        "rus = RandomUnderSampler(random_state=156)\n",
        "X_resampled, y_resampled = rus.fit_resample(X_features, y_labels)"
      ],
      "metadata": {
        "id": "72Lr4iIWWceB"
      },
      "execution_count": null,
      "outputs": []
    },
    {
      "cell_type": "code",
      "source": [
        "X_resampled.shape, y_resampled.shape"
      ],
      "metadata": {
        "colab": {
          "base_uri": "https://localhost:8080/"
        },
        "id": "jo8h_B5QWnnA",
        "outputId": "6f6d1398-39d8-44e1-d6b5-e4891e8c2cbc"
      },
      "execution_count": null,
      "outputs": [
        {
          "output_type": "execute_result",
          "data": {
            "text/plain": [
              "((6016, 369), (6016,))"
            ]
          },
          "metadata": {},
          "execution_count": 108
        }
      ]
    },
    {
      "cell_type": "code",
      "source": [
        "y_resampled.value_counts()"
      ],
      "metadata": {
        "colab": {
          "base_uri": "https://localhost:8080/"
        },
        "id": "eTETgov8W3Tt",
        "outputId": "3a4c0d4e-76ca-4962-c9f4-8dd4c8a63ad3"
      },
      "execution_count": null,
      "outputs": [
        {
          "output_type": "execute_result",
          "data": {
            "text/plain": [
              "0    3008\n",
              "1    3008\n",
              "Name: TARGET, dtype: int64"
            ]
          },
          "metadata": {},
          "execution_count": 109
        }
      ]
    },
    {
      "cell_type": "code",
      "source": [
        "X_train, X_test, y_train, y_test = train_test_split(X_resampled, y_resampled, test_size=0.2, random_state=0)"
      ],
      "metadata": {
        "id": "kW1A-TIpXGWA"
      },
      "execution_count": null,
      "outputs": []
    },
    {
      "cell_type": "code",
      "source": [
        "X_train.shape, X_test.shape, y_train.shape, y_test.shape"
      ],
      "metadata": {
        "colab": {
          "base_uri": "https://localhost:8080/"
        },
        "outputId": "fd38c1c0-9ff9-474f-efb4-3f60f05e34c8",
        "id": "X3W9aIa5XGWI"
      },
      "execution_count": null,
      "outputs": [
        {
          "output_type": "execute_result",
          "data": {
            "text/plain": [
              "((4812, 369), (1204, 369), (4812,), (1204,))"
            ]
          },
          "metadata": {},
          "execution_count": 111
        }
      ]
    },
    {
      "cell_type": "code",
      "source": [
        "svc = SVC(probability=True, random_state=156)\n",
        "score_auc(svc, X_train, X_test, y_train, y_test)"
      ],
      "metadata": {
        "colab": {
          "base_uri": "https://localhost:8080/"
        },
        "id": "SyMS20fYXttm",
        "outputId": "9cdd6631-2b2b-4e76-ccce-cf07164cfc58"
      },
      "execution_count": null,
      "outputs": [
        {
          "output_type": "stream",
          "name": "stdout",
          "text": [
            "0.49667774086378735\n",
            "0.49673925042777506\n"
          ]
        }
      ]
    },
    {
      "cell_type": "code",
      "source": [
        "y_labels.value_counts()"
      ],
      "metadata": {
        "colab": {
          "base_uri": "https://localhost:8080/"
        },
        "id": "9ZcaFgPKYGKD",
        "outputId": "0f9de420-6016-4af2-dcf2-9683d28184be"
      },
      "execution_count": null,
      "outputs": [
        {
          "output_type": "execute_result",
          "data": {
            "text/plain": [
              "0    73012\n",
              "1     3008\n",
              "Name: TARGET, dtype: int64"
            ]
          },
          "metadata": {},
          "execution_count": 113
        }
      ]
    },
    {
      "cell_type": "markdown",
      "source": [
        "---\n",
        "---\n",
        "---\n",
        "---\n",
        "over sampling 예"
      ],
      "metadata": {
        "id": "_d8LoAObcKLk"
      }
    },
    {
      "cell_type": "code",
      "source": [
        "from imblearn.over_sampling import SMOTE"
      ],
      "metadata": {
        "id": "hGJ6Xwi3ZyEn"
      },
      "execution_count": null,
      "outputs": []
    },
    {
      "cell_type": "code",
      "source": [
        "smote = SMOTE(random_state=156)"
      ],
      "metadata": {
        "id": "pPWIWnRqZ4t1"
      },
      "execution_count": null,
      "outputs": []
    },
    {
      "cell_type": "code",
      "source": [
        "X_train, X_test, y_train, y_test = train_test_split(X_features, y_labels, test_size=0.2, random_state=0)"
      ],
      "metadata": {
        "id": "ZHqM4MrIam5X"
      },
      "execution_count": null,
      "outputs": []
    },
    {
      "cell_type": "code",
      "source": [
        "X_train.shape, X_test.shape, y_train.shape, y_test.shape"
      ],
      "metadata": {
        "colab": {
          "base_uri": "https://localhost:8080/"
        },
        "id": "bXk_en6fa4vj",
        "outputId": "35b589aa-a4e8-4c0d-9ca0-95d9bf02c3ee"
      },
      "execution_count": null,
      "outputs": [
        {
          "output_type": "execute_result",
          "data": {
            "text/plain": [
              "((60816, 369), (15204, 369), (60816,), (15204,))"
            ]
          },
          "metadata": {},
          "execution_count": 119
        }
      ]
    },
    {
      "cell_type": "code",
      "source": [
        "X_train.sampled, y_train_sampled = smote.fit_resample(X_train, y_train)"
      ],
      "metadata": {
        "colab": {
          "base_uri": "https://localhost:8080/"
        },
        "id": "ey9EauxVbFhO",
        "outputId": "2225facd-1ff4-4874-cdb6-623fdcef3457"
      },
      "execution_count": null,
      "outputs": [
        {
          "output_type": "stream",
          "name": "stderr",
          "text": [
            "<ipython-input-120-845abf127ab7>:1: UserWarning: Pandas doesn't allow columns to be created via a new attribute name - see https://pandas.pydata.org/pandas-docs/stable/indexing.html#attribute-access\n",
            "  X_train.sampled, y_train_sampled = smote.fit_resample(X_train, y_train)\n"
          ]
        }
      ]
    },
    {
      "cell_type": "code",
      "source": [
        "y_train_sampled.value_counts(), y_train.value_counts()"
      ],
      "metadata": {
        "colab": {
          "base_uri": "https://localhost:8080/"
        },
        "id": "mdeGgwoLbUUI",
        "outputId": "1dcee427-281a-4029-eebe-c352161936b2"
      },
      "execution_count": null,
      "outputs": [
        {
          "output_type": "execute_result",
          "data": {
            "text/plain": [
              "(0    58442\n",
              " 1    58442\n",
              " Name: TARGET, dtype: int64,\n",
              " 0    58442\n",
              " 1     2374\n",
              " Name: TARGET, dtype: int64)"
            ]
          },
          "metadata": {},
          "execution_count": 122
        }
      ]
    },
    {
      "cell_type": "markdown",
      "source": [
        "---\n",
        "---\n",
        "---\n",
        "---"
      ],
      "metadata": {
        "id": "XhcMwg4KcScO"
      }
    },
    {
      "cell_type": "code",
      "source": [
        "from xgboost import XGBClassifier"
      ],
      "metadata": {
        "id": "npZXU9pXYoVG"
      },
      "execution_count": null,
      "outputs": []
    },
    {
      "cell_type": "code",
      "source": [
        "X_train.shape, X_test.shape, y_train.shape, y_test.shape"
      ],
      "metadata": {
        "colab": {
          "base_uri": "https://localhost:8080/"
        },
        "id": "7q72VuC8cWZj",
        "outputId": "316db325-be61-4374-9507-14513bdc8574"
      },
      "execution_count": null,
      "outputs": [
        {
          "output_type": "execute_result",
          "data": {
            "text/plain": [
              "((60816, 369), (15204, 369), (60816,), (15204,))"
            ]
          },
          "metadata": {},
          "execution_count": 123
        }
      ]
    },
    {
      "cell_type": "code",
      "source": [
        "xgbc = XGBClassifier(scale_pos_weight=24, random_state=156)\n",
        "score_auc(xgbc, X_train, X_test, y_train, y_test)"
      ],
      "metadata": {
        "colab": {
          "base_uri": "https://localhost:8080/"
        },
        "id": "IeFCb73NZfhu",
        "outputId": "fe96f0c7-3073-4273-e667-fa0aba0c4089"
      },
      "execution_count": null,
      "outputs": [
        {
          "output_type": "stream",
          "name": "stdout",
          "text": [
            "0.8355695869508024\n",
            "0.8142227558030524\n"
          ]
        }
      ]
    },
    {
      "cell_type": "markdown",
      "source": [
        "#회귀"
      ],
      "metadata": {
        "id": "yByEORJ2eKxj"
      }
    },
    {
      "cell_type": "code",
      "source": [
        "from sklearn import linear_model\n",
        "from sklearn.metrics import mean_squared_error"
      ],
      "metadata": {
        "id": "sGhAYVwJcoGh"
      },
      "execution_count": null,
      "outputs": []
    },
    {
      "cell_type": "code",
      "source": [
        "data = {'x' : [13, 19, 16, 14, 15, 14],\n",
        "        'y' : [40, 83, 62, 48, 58, 43]}\n",
        "data = pd.DataFrame(data)\n",
        "data"
      ],
      "metadata": {
        "colab": {
          "base_uri": "https://localhost:8080/",
          "height": 237
        },
        "id": "JICuvdHxet67",
        "outputId": "78873250-c295-4f01-c9d2-31931ae1d83f"
      },
      "execution_count": null,
      "outputs": [
        {
          "output_type": "execute_result",
          "data": {
            "text/plain": [
              "    x   y\n",
              "0  13  40\n",
              "1  19  83\n",
              "2  16  62\n",
              "3  14  48\n",
              "4  15  58\n",
              "5  14  43"
            ],
            "text/html": [
              "\n",
              "  <div id=\"df-14759fef-380b-45c0-b5e4-e5a949a698da\" class=\"colab-df-container\">\n",
              "    <div>\n",
              "<style scoped>\n",
              "    .dataframe tbody tr th:only-of-type {\n",
              "        vertical-align: middle;\n",
              "    }\n",
              "\n",
              "    .dataframe tbody tr th {\n",
              "        vertical-align: top;\n",
              "    }\n",
              "\n",
              "    .dataframe thead th {\n",
              "        text-align: right;\n",
              "    }\n",
              "</style>\n",
              "<table border=\"1\" class=\"dataframe\">\n",
              "  <thead>\n",
              "    <tr style=\"text-align: right;\">\n",
              "      <th></th>\n",
              "      <th>x</th>\n",
              "      <th>y</th>\n",
              "    </tr>\n",
              "  </thead>\n",
              "  <tbody>\n",
              "    <tr>\n",
              "      <th>0</th>\n",
              "      <td>13</td>\n",
              "      <td>40</td>\n",
              "    </tr>\n",
              "    <tr>\n",
              "      <th>1</th>\n",
              "      <td>19</td>\n",
              "      <td>83</td>\n",
              "    </tr>\n",
              "    <tr>\n",
              "      <th>2</th>\n",
              "      <td>16</td>\n",
              "      <td>62</td>\n",
              "    </tr>\n",
              "    <tr>\n",
              "      <th>3</th>\n",
              "      <td>14</td>\n",
              "      <td>48</td>\n",
              "    </tr>\n",
              "    <tr>\n",
              "      <th>4</th>\n",
              "      <td>15</td>\n",
              "      <td>58</td>\n",
              "    </tr>\n",
              "    <tr>\n",
              "      <th>5</th>\n",
              "      <td>14</td>\n",
              "      <td>43</td>\n",
              "    </tr>\n",
              "  </tbody>\n",
              "</table>\n",
              "</div>\n",
              "    <div class=\"colab-df-buttons\">\n",
              "\n",
              "  <div class=\"colab-df-container\">\n",
              "    <button class=\"colab-df-convert\" onclick=\"convertToInteractive('df-14759fef-380b-45c0-b5e4-e5a949a698da')\"\n",
              "            title=\"Convert this dataframe to an interactive table.\"\n",
              "            style=\"display:none;\">\n",
              "\n",
              "  <svg xmlns=\"http://www.w3.org/2000/svg\" height=\"24px\" viewBox=\"0 -960 960 960\">\n",
              "    <path d=\"M120-120v-720h720v720H120Zm60-500h600v-160H180v160Zm220 220h160v-160H400v160Zm0 220h160v-160H400v160ZM180-400h160v-160H180v160Zm440 0h160v-160H620v160ZM180-180h160v-160H180v160Zm440 0h160v-160H620v160Z\"/>\n",
              "  </svg>\n",
              "    </button>\n",
              "\n",
              "  <style>\n",
              "    .colab-df-container {\n",
              "      display:flex;\n",
              "      gap: 12px;\n",
              "    }\n",
              "\n",
              "    .colab-df-convert {\n",
              "      background-color: #E8F0FE;\n",
              "      border: none;\n",
              "      border-radius: 50%;\n",
              "      cursor: pointer;\n",
              "      display: none;\n",
              "      fill: #1967D2;\n",
              "      height: 32px;\n",
              "      padding: 0 0 0 0;\n",
              "      width: 32px;\n",
              "    }\n",
              "\n",
              "    .colab-df-convert:hover {\n",
              "      background-color: #E2EBFA;\n",
              "      box-shadow: 0px 1px 2px rgba(60, 64, 67, 0.3), 0px 1px 3px 1px rgba(60, 64, 67, 0.15);\n",
              "      fill: #174EA6;\n",
              "    }\n",
              "\n",
              "    .colab-df-buttons div {\n",
              "      margin-bottom: 4px;\n",
              "    }\n",
              "\n",
              "    [theme=dark] .colab-df-convert {\n",
              "      background-color: #3B4455;\n",
              "      fill: #D2E3FC;\n",
              "    }\n",
              "\n",
              "    [theme=dark] .colab-df-convert:hover {\n",
              "      background-color: #434B5C;\n",
              "      box-shadow: 0px 1px 3px 1px rgba(0, 0, 0, 0.15);\n",
              "      filter: drop-shadow(0px 1px 2px rgba(0, 0, 0, 0.3));\n",
              "      fill: #FFFFFF;\n",
              "    }\n",
              "  </style>\n",
              "\n",
              "    <script>\n",
              "      const buttonEl =\n",
              "        document.querySelector('#df-14759fef-380b-45c0-b5e4-e5a949a698da button.colab-df-convert');\n",
              "      buttonEl.style.display =\n",
              "        google.colab.kernel.accessAllowed ? 'block' : 'none';\n",
              "\n",
              "      async function convertToInteractive(key) {\n",
              "        const element = document.querySelector('#df-14759fef-380b-45c0-b5e4-e5a949a698da');\n",
              "        const dataTable =\n",
              "          await google.colab.kernel.invokeFunction('convertToInteractive',\n",
              "                                                    [key], {});\n",
              "        if (!dataTable) return;\n",
              "\n",
              "        const docLinkHtml = 'Like what you see? Visit the ' +\n",
              "          '<a target=\"_blank\" href=https://colab.research.google.com/notebooks/data_table.ipynb>data table notebook</a>'\n",
              "          + ' to learn more about interactive tables.';\n",
              "        element.innerHTML = '';\n",
              "        dataTable['output_type'] = 'display_data';\n",
              "        await google.colab.output.renderOutput(dataTable, element);\n",
              "        const docLink = document.createElement('div');\n",
              "        docLink.innerHTML = docLinkHtml;\n",
              "        element.appendChild(docLink);\n",
              "      }\n",
              "    </script>\n",
              "  </div>\n",
              "\n",
              "\n",
              "<div id=\"df-3e27e05a-2376-431b-b707-9995f1ab3a95\">\n",
              "  <button class=\"colab-df-quickchart\" onclick=\"quickchart('df-3e27e05a-2376-431b-b707-9995f1ab3a95')\"\n",
              "            title=\"Suggest charts.\"\n",
              "            style=\"display:none;\">\n",
              "\n",
              "<svg xmlns=\"http://www.w3.org/2000/svg\" height=\"24px\"viewBox=\"0 0 24 24\"\n",
              "     width=\"24px\">\n",
              "    <g>\n",
              "        <path d=\"M19 3H5c-1.1 0-2 .9-2 2v14c0 1.1.9 2 2 2h14c1.1 0 2-.9 2-2V5c0-1.1-.9-2-2-2zM9 17H7v-7h2v7zm4 0h-2V7h2v10zm4 0h-2v-4h2v4z\"/>\n",
              "    </g>\n",
              "</svg>\n",
              "  </button>\n",
              "\n",
              "<style>\n",
              "  .colab-df-quickchart {\n",
              "      --bg-color: #E8F0FE;\n",
              "      --fill-color: #1967D2;\n",
              "      --hover-bg-color: #E2EBFA;\n",
              "      --hover-fill-color: #174EA6;\n",
              "      --disabled-fill-color: #AAA;\n",
              "      --disabled-bg-color: #DDD;\n",
              "  }\n",
              "\n",
              "  [theme=dark] .colab-df-quickchart {\n",
              "      --bg-color: #3B4455;\n",
              "      --fill-color: #D2E3FC;\n",
              "      --hover-bg-color: #434B5C;\n",
              "      --hover-fill-color: #FFFFFF;\n",
              "      --disabled-bg-color: #3B4455;\n",
              "      --disabled-fill-color: #666;\n",
              "  }\n",
              "\n",
              "  .colab-df-quickchart {\n",
              "    background-color: var(--bg-color);\n",
              "    border: none;\n",
              "    border-radius: 50%;\n",
              "    cursor: pointer;\n",
              "    display: none;\n",
              "    fill: var(--fill-color);\n",
              "    height: 32px;\n",
              "    padding: 0;\n",
              "    width: 32px;\n",
              "  }\n",
              "\n",
              "  .colab-df-quickchart:hover {\n",
              "    background-color: var(--hover-bg-color);\n",
              "    box-shadow: 0 1px 2px rgba(60, 64, 67, 0.3), 0 1px 3px 1px rgba(60, 64, 67, 0.15);\n",
              "    fill: var(--button-hover-fill-color);\n",
              "  }\n",
              "\n",
              "  .colab-df-quickchart-complete:disabled,\n",
              "  .colab-df-quickchart-complete:disabled:hover {\n",
              "    background-color: var(--disabled-bg-color);\n",
              "    fill: var(--disabled-fill-color);\n",
              "    box-shadow: none;\n",
              "  }\n",
              "\n",
              "  .colab-df-spinner {\n",
              "    border: 2px solid var(--fill-color);\n",
              "    border-color: transparent;\n",
              "    border-bottom-color: var(--fill-color);\n",
              "    animation:\n",
              "      spin 1s steps(1) infinite;\n",
              "  }\n",
              "\n",
              "  @keyframes spin {\n",
              "    0% {\n",
              "      border-color: transparent;\n",
              "      border-bottom-color: var(--fill-color);\n",
              "      border-left-color: var(--fill-color);\n",
              "    }\n",
              "    20% {\n",
              "      border-color: transparent;\n",
              "      border-left-color: var(--fill-color);\n",
              "      border-top-color: var(--fill-color);\n",
              "    }\n",
              "    30% {\n",
              "      border-color: transparent;\n",
              "      border-left-color: var(--fill-color);\n",
              "      border-top-color: var(--fill-color);\n",
              "      border-right-color: var(--fill-color);\n",
              "    }\n",
              "    40% {\n",
              "      border-color: transparent;\n",
              "      border-right-color: var(--fill-color);\n",
              "      border-top-color: var(--fill-color);\n",
              "    }\n",
              "    60% {\n",
              "      border-color: transparent;\n",
              "      border-right-color: var(--fill-color);\n",
              "    }\n",
              "    80% {\n",
              "      border-color: transparent;\n",
              "      border-right-color: var(--fill-color);\n",
              "      border-bottom-color: var(--fill-color);\n",
              "    }\n",
              "    90% {\n",
              "      border-color: transparent;\n",
              "      border-bottom-color: var(--fill-color);\n",
              "    }\n",
              "  }\n",
              "</style>\n",
              "\n",
              "  <script>\n",
              "    async function quickchart(key) {\n",
              "      const quickchartButtonEl =\n",
              "        document.querySelector('#' + key + ' button');\n",
              "      quickchartButtonEl.disabled = true;  // To prevent multiple clicks.\n",
              "      quickchartButtonEl.classList.add('colab-df-spinner');\n",
              "      try {\n",
              "        const charts = await google.colab.kernel.invokeFunction(\n",
              "            'suggestCharts', [key], {});\n",
              "      } catch (error) {\n",
              "        console.error('Error during call to suggestCharts:', error);\n",
              "      }\n",
              "      quickchartButtonEl.classList.remove('colab-df-spinner');\n",
              "      quickchartButtonEl.classList.add('colab-df-quickchart-complete');\n",
              "    }\n",
              "    (() => {\n",
              "      let quickchartButtonEl =\n",
              "        document.querySelector('#df-3e27e05a-2376-431b-b707-9995f1ab3a95 button');\n",
              "      quickchartButtonEl.style.display =\n",
              "        google.colab.kernel.accessAllowed ? 'block' : 'none';\n",
              "    })();\n",
              "  </script>\n",
              "</div>\n",
              "    </div>\n",
              "  </div>\n"
            ]
          },
          "metadata": {},
          "execution_count": 126
        }
      ]
    },
    {
      "cell_type": "code",
      "source": [
        "data.plot(kind=\"scatter\",\n",
        "          x='x',\n",
        "          y='y',\n",
        "          figsize=(5,5),\n",
        "          color=\"blue\")"
      ],
      "metadata": {
        "colab": {
          "base_uri": "https://localhost:8080/",
          "height": 494
        },
        "id": "kxOM1q0qe2Oq",
        "outputId": "4f6b628a-e590-4826-d3da-5a3ea22f6198"
      },
      "execution_count": null,
      "outputs": [
        {
          "output_type": "execute_result",
          "data": {
            "text/plain": [
              "<Axes: xlabel='x', ylabel='y'>"
            ]
          },
          "metadata": {},
          "execution_count": 127
        },
        {
          "output_type": "display_data",
          "data": {
            "text/plain": [
              "<Figure size 500x500 with 1 Axes>"
            ],
            "image/png": "[encoded data removed]"
          },
          "metadata": {}
        }
      ]
    },
    {
      "cell_type": "code",
      "source": [
        "X = pd.DataFrame(data['x'])\n",
        "lr = linear_model.LinearRegression()\n",
        "lr.fit(X, data.y)"
      ],
      "metadata": {
        "colab": {
          "base_uri": "https://localhost:8080/",
          "height": 74
        },
        "id": "Nr_u5hKSe65f",
        "outputId": "f33535bc-0fd6-4b6d-85fc-c96d1753f47f"
      },
      "execution_count": null,
      "outputs": [
        {
          "output_type": "execute_result",
          "data": {
            "text/plain": [
              "LinearRegression()"
            ],
            "text/html": [
              "<style>#sk-container-id-4 {color: black;background-color: white;}#sk-container-id-4 pre{padding: 0;}#sk-container-id-4 div.sk-toggleable {background-color: white;}#sk-container-id-4 label.sk-toggleable__label {cursor: pointer;display: block;width: 100%;margin-bottom: 0;padding: 0.3em;box-sizing: border-box;text-align: center;}#sk-container-id-4 label.sk-toggleable__label-arrow:before {content: \"▸\";float: left;margin-right: 0.25em;color: #696969;}#sk-container-id-4 label.sk-toggleable__label-arrow:hover:before {color: black;}#sk-container-id-4 div.sk-estimator:hover label.sk-toggleable__label-arrow:before {color: black;}#sk-container-id-4 div.sk-toggleable__content {max-height: 0;max-width: 0;overflow: hidden;text-align: left;background-color: #f0f8ff;}#sk-container-id-4 div.sk-toggleable__content pre {margin: 0.2em;color: black;border-radius: 0.25em;background-color: #f0f8ff;}#sk-container-id-4 input.sk-toggleable__control:checked~div.sk-toggleable__content {max-height: 200px;max-width: 100%;overflow: auto;}#sk-container-id-4 input.sk-toggleable__control:checked~label.sk-toggleable__label-arrow:before {content: \"▾\";}#sk-container-id-4 div.sk-estimator input.sk-toggleable__control:checked~label.sk-toggleable__label {background-color: #d4ebff;}#sk-container-id-4 div.sk-label input.sk-toggleable__control:checked~label.sk-toggleable__label {background-color: #d4ebff;}#sk-container-id-4 input.sk-hidden--visually {border: 0;clip: rect(1px 1px 1px 1px);clip: rect(1px, 1px, 1px, 1px);height: 1px;margin: -1px;overflow: hidden;padding: 0;position: absolute;width: 1px;}#sk-container-id-4 div.sk-estimator {font-family: monospace;background-color: #f0f8ff;border: 1px dotted black;border-radius: 0.25em;box-sizing: border-box;margin-bottom: 0.5em;}#sk-container-id-4 div.sk-estimator:hover {background-color: #d4ebff;}#sk-container-id-4 div.sk-parallel-item::after {content: \"\";width: 100%;border-bottom: 1px solid gray;flex-grow: 1;}#sk-container-id-4 div.sk-label:hover label.sk-toggleable__label {background-color: #d4ebff;}#sk-container-id-4 div.sk-serial::before {content: \"\";position: absolute;border-left: 1px solid gray;box-sizing: border-box;top: 0;bottom: 0;left: 50%;z-index: 0;}#sk-container-id-4 div.sk-serial {display: flex;flex-direction: column;align-items: center;background-color: white;padding-right: 0.2em;padding-left: 0.2em;position: relative;}#sk-container-id-4 div.sk-item {position: relative;z-index: 1;}#sk-container-id-4 div.sk-parallel {display: flex;align-items: stretch;justify-content: center;background-color: white;position: relative;}#sk-container-id-4 div.sk-item::before, #sk-container-id-4 div.sk-parallel-item::before {content: \"\";position: absolute;border-left: 1px solid gray;box-sizing: border-box;top: 0;bottom: 0;left: 50%;z-index: -1;}#sk-container-id-4 div.sk-parallel-item {display: flex;flex-direction: column;z-index: 1;position: relative;background-color: white;}#sk-container-id-4 div.sk-parallel-item:first-child::after {align-self: flex-end;width: 50%;}#sk-container-id-4 div.sk-parallel-item:last-child::after {align-self: flex-start;width: 50%;}#sk-container-id-4 div.sk-parallel-item:only-child::after {width: 0;}#sk-container-id-4 div.sk-dashed-wrapped {border: 1px dashed gray;margin: 0 0.4em 0.5em 0.4em;box-sizing: border-box;padding-bottom: 0.4em;background-color: white;}#sk-container-id-4 div.sk-label label {font-family: monospace;font-weight: bold;display: inline-block;line-height: 1.2em;}#sk-container-id-4 div.sk-label-container {text-align: center;}#sk-container-id-4 div.sk-container {/* jupyter's `normalize.less` sets `[hidden] { display: none; }` but bootstrap.min.css set `[hidden] { display: none !important; }` so we also need the `!important` here to be able to override the default hidden behavior on the sphinx rendered scikit-learn.org. See: https://github.com/scikit-learn/scikit-learn/issues/21755 */display: inline-block !important;position: relative;}#sk-container-id-4 div.sk-text-repr-fallback {display: none;}</style><div id=\"sk-container-id-4\" class=\"sk-top-container\"><div class=\"sk-text-repr-fallback\"><pre>LinearRegression()</pre><b>In a Jupyter environment, please rerun this cell to show the HTML representation or trust the notebook. <br />On GitHub, the HTML representation is unable to render, please try loading this page with nbviewer.org.</b></div><div class=\"sk-container\" hidden><div class=\"sk-item\"><div class=\"sk-estimator sk-toggleable\"><input class=\"sk-toggleable__control sk-hidden--visually\" id=\"sk-estimator-id-7\" type=\"checkbox\" checked><label for=\"sk-estimator-id-7\" class=\"sk-toggleable__label sk-toggleable__label-arrow\">LinearRegression</label><div class=\"sk-toggleable__content\"><pre>LinearRegression()</pre></div></div></div></div></div>"
            ]
          },
          "metadata": {},
          "execution_count": 128
        }
      ]
    },
    {
      "cell_type": "code",
      "source": [
        "lr.coef_"
      ],
      "metadata": {
        "colab": {
          "base_uri": "https://localhost:8080/"
        },
        "id": "G4U1j1QzfSWq",
        "outputId": "a70639f0-b5d2-44dd-8022-89e51d839b84"
      },
      "execution_count": null,
      "outputs": [
        {
          "output_type": "execute_result",
          "data": {
            "text/plain": [
              "array([7.32846715])"
            ]
          },
          "metadata": {},
          "execution_count": 129
        }
      ]
    },
    {
      "cell_type": "code",
      "source": [
        "lr.intercept_"
      ],
      "metadata": {
        "colab": {
          "base_uri": "https://localhost:8080/"
        },
        "id": "JoSvjK3CfUkW",
        "outputId": "4a250235-5a3a-4379-fac4-081aeaa9e9f2"
      },
      "execution_count": null,
      "outputs": [
        {
          "output_type": "execute_result",
          "data": {
            "text/plain": [
              "-55.48175182481753"
            ]
          },
          "metadata": {},
          "execution_count": 130
        }
      ]
    },
    {
      "cell_type": "code",
      "source": [
        "prediction=lr.predict(X)"
      ],
      "metadata": {
        "id": "43--Y6rufV1g"
      },
      "execution_count": null,
      "outputs": []
    },
    {
      "cell_type": "code",
      "source": [
        "prediction"
      ],
      "metadata": {
        "colab": {
          "base_uri": "https://localhost:8080/"
        },
        "id": "gbxBbUFfgdBh",
        "outputId": "dc8bc8ff-1e87-4e2e-9198-b4375be4db6a"
      },
      "execution_count": null,
      "outputs": [
        {
          "output_type": "execute_result",
          "data": {
            "text/plain": [
              "array([39.78832117, 83.75912409, 61.77372263, 47.11678832, 54.44525547,\n",
              "       47.11678832])"
            ]
          },
          "metadata": {},
          "execution_count": 133
        }
      ]
    },
    {
      "cell_type": "code",
      "source": [
        "data.plot(kind=\"scatter\",\n",
        "          x='x',\n",
        "          y='y',\n",
        "          figsize=(5,5),\n",
        "          color=\"blue\")\n",
        "plt.plot(data.x, prediction, color='black')"
      ],
      "metadata": {
        "colab": {
          "base_uri": "https://localhost:8080/",
          "height": 494
        },
        "id": "6Ry6VkXZf4Xd",
        "outputId": "152aa161-293d-4121-e8ae-9ad9e1a9769d"
      },
      "execution_count": null,
      "outputs": [
        {
          "output_type": "execute_result",
          "data": {
            "text/plain": [
              "[<matplotlib.lines.Line2D at 0x7b1cf15b56f0>]"
            ]
          },
          "metadata": {},
          "execution_count": 132
        },
        {
          "output_type": "display_data",
          "data": {
            "text/plain": [
              "<Figure size 500x500 with 1 Axes>"
            ],
            "image/png": "[encoded data removed]"
          },
          "metadata": {}
        }
      ]
    },
    {
      "cell_type": "code",
      "source": [
        "np.sum((data.y-prediction)**2)/6"
      ],
      "metadata": {
        "colab": {
          "base_uri": "https://localhost:8080/"
        },
        "id": "ML4XYluhgBVM",
        "outputId": "6460072e-f627-40ad-9716-146a86986955"
      },
      "execution_count": null,
      "outputs": [
        {
          "output_type": "execute_result",
          "data": {
            "text/plain": [
              "5.172749391727503"
            ]
          },
          "metadata": {},
          "execution_count": 137
        }
      ]
    },
    {
      "cell_type": "code",
      "source": [],
      "metadata": {
        "id": "eRNdPfGvjnQy"
      },
      "execution_count": null,
      "outputs": []
    }
  ]
}