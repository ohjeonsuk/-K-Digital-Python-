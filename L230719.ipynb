{
  "nbformat": 4,
  "nbformat_minor": 0,
  "metadata": {
    "colab": {
      "provenance": [],
      "include_colab_link": true
    },
    "kernelspec": {
      "name": "python3",
      "display_name": "Python 3"
    },
    "language_info": {
      "name": "python"
    }
  },
  "cells": [
    {
      "cell_type": "markdown",
      "metadata": {
        "id": "view-in-github",
        "colab_type": "text"
      },
      "source": [
        "<a href=\"https://colab.research.google.com/github/ohjeonsuk/python-education/blob/main/L230719.ipynb\" target=\"_parent\"><img src=\"https://colab.research.google.com/assets/colab-badge.svg\" alt=\"Open In Colab\"/></a>"
      ]
    },
    {
      "cell_type": "code",
      "execution_count": null,
      "metadata": {
        "id": "_ux57lUXmDGu",
        "colab": {
          "base_uri": "https://localhost:8080/"
        },
        "outputId": "b25f6e4b-a599-414f-c40f-496cdc33bcc7"
      },
      "outputs": [
        {
          "output_type": "stream",
          "name": "stdout",
          "text": [
            "\u001b[0m\u001b[01;34msample_data\u001b[0m/\n"
          ]
        }
      ],
      "source": [
        "ls"
      ]
    },
    {
      "cell_type": "code",
      "source": [
        "ls sample_data/"
      ],
      "metadata": {
        "colab": {
          "base_uri": "https://localhost:8080/"
        },
        "id": "SBcVz6SKdgj8",
        "outputId": "2217a023-4152-44e8-bbb5-d73690915955"
      },
      "execution_count": null,
      "outputs": [
        {
          "output_type": "stream",
          "name": "stdout",
          "text": [
            "\u001b[0m\u001b[01;32manscombe.json\u001b[0m*                mnist_test.csv\n",
            "california_housing_test.csv   mnist_train_small.csv\n",
            "california_housing_train.csv  \u001b[01;32mREADME.md\u001b[0m*\n"
          ]
        }
      ]
    },
    {
      "cell_type": "code",
      "source": [
        "file_name = './sample_data/anscombe.json'"
      ],
      "metadata": {
        "id": "yWF8lhEJdlkH"
      },
      "execution_count": null,
      "outputs": []
    },
    {
      "cell_type": "code",
      "source": [
        "with open(file_name, 'r') as f:\n",
        "    for line in f:\n",
        "        print(line, end='')"
      ],
      "metadata": {
        "colab": {
          "base_uri": "https://localhost:8080/"
        },
        "id": "zsZLveYcdrNk",
        "outputId": "b18ed09d-4883-4e8d-81e5-f256d42100ad"
      },
      "execution_count": null,
      "outputs": [
        {
          "output_type": "stream",
          "name": "stdout",
          "text": [
            "[\n",
            "  {\"Series\":\"I\", \"X\":10.0, \"Y\":8.04},\n",
            "  {\"Series\":\"I\", \"X\":8.0, \"Y\":6.95},\n",
            "  {\"Series\":\"I\", \"X\":13.0, \"Y\":7.58},\n",
            "  {\"Series\":\"I\", \"X\":9.0, \"Y\":8.81},\n",
            "  {\"Series\":\"I\", \"X\":11.0, \"Y\":8.33},\n",
            "  {\"Series\":\"I\", \"X\":14.0, \"Y\":9.96},\n",
            "  {\"Series\":\"I\", \"X\":6.0, \"Y\":7.24},\n",
            "  {\"Series\":\"I\", \"X\":4.0, \"Y\":4.26},\n",
            "  {\"Series\":\"I\", \"X\":12.0, \"Y\":10.84},\n",
            "  {\"Series\":\"I\", \"X\":7.0, \"Y\":4.81},\n",
            "  {\"Series\":\"I\", \"X\":5.0, \"Y\":5.68},\n",
            "\n",
            "  {\"Series\":\"II\", \"X\":10.0, \"Y\":9.14},\n",
            "  {\"Series\":\"II\", \"X\":8.0, \"Y\":8.14},\n",
            "  {\"Series\":\"II\", \"X\":13.0, \"Y\":8.74},\n",
            "  {\"Series\":\"II\", \"X\":9.0, \"Y\":8.77},\n",
            "  {\"Series\":\"II\", \"X\":11.0, \"Y\":9.26},\n",
            "  {\"Series\":\"II\", \"X\":14.0, \"Y\":8.10},\n",
            "  {\"Series\":\"II\", \"X\":6.0, \"Y\":6.13},\n",
            "  {\"Series\":\"II\", \"X\":4.0, \"Y\":3.10},\n",
            "  {\"Series\":\"II\", \"X\":12.0, \"Y\":9.13},\n",
            "  {\"Series\":\"II\", \"X\":7.0, \"Y\":7.26},\n",
            "  {\"Series\":\"II\", \"X\":5.0, \"Y\":4.74},\n",
            "\n",
            "  {\"Series\":\"III\", \"X\":10.0, \"Y\":7.46},\n",
            "  {\"Series\":\"III\", \"X\":8.0, \"Y\":6.77},\n",
            "  {\"Series\":\"III\", \"X\":13.0, \"Y\":12.74},\n",
            "  {\"Series\":\"III\", \"X\":9.0, \"Y\":7.11},\n",
            "  {\"Series\":\"III\", \"X\":11.0, \"Y\":7.81},\n",
            "  {\"Series\":\"III\", \"X\":14.0, \"Y\":8.84},\n",
            "  {\"Series\":\"III\", \"X\":6.0, \"Y\":6.08},\n",
            "  {\"Series\":\"III\", \"X\":4.0, \"Y\":5.39},\n",
            "  {\"Series\":\"III\", \"X\":12.0, \"Y\":8.15},\n",
            "  {\"Series\":\"III\", \"X\":7.0, \"Y\":6.42},\n",
            "  {\"Series\":\"III\", \"X\":5.0, \"Y\":5.73},\n",
            "\n",
            "  {\"Series\":\"IV\", \"X\":8.0, \"Y\":6.58},\n",
            "  {\"Series\":\"IV\", \"X\":8.0, \"Y\":5.76},\n",
            "  {\"Series\":\"IV\", \"X\":8.0, \"Y\":7.71},\n",
            "  {\"Series\":\"IV\", \"X\":8.0, \"Y\":8.84},\n",
            "  {\"Series\":\"IV\", \"X\":8.0, \"Y\":8.47},\n",
            "  {\"Series\":\"IV\", \"X\":8.0, \"Y\":7.04},\n",
            "  {\"Series\":\"IV\", \"X\":8.0, \"Y\":5.25},\n",
            "  {\"Series\":\"IV\", \"X\":19.0, \"Y\":12.50},\n",
            "  {\"Series\":\"IV\", \"X\":8.0, \"Y\":5.56},\n",
            "  {\"Series\":\"IV\", \"X\":8.0, \"Y\":7.91},\n",
            "  {\"Series\":\"IV\", \"X\":8.0, \"Y\":6.89}\n",
            "]\n"
          ]
        }
      ]
    },
    {
      "cell_type": "code",
      "source": [
        "more ./sample_data/anscombe.json"
      ],
      "metadata": {
        "id": "yQwY_eovd5IY"
      },
      "execution_count": null,
      "outputs": []
    },
    {
      "cell_type": "code",
      "source": [
        "%%writefile s.txt\n",
        "pig ham\n",
        "cat dog\n",
        "ham bird\n",
        "dog pig"
      ],
      "metadata": {
        "colab": {
          "base_uri": "https://localhost:8080/"
        },
        "id": "Jd8oSAdFeXGe",
        "outputId": "4eee3951-9101-42f3-c0c9-9ee036d65d6f"
      },
      "execution_count": null,
      "outputs": [
        {
          "output_type": "stream",
          "name": "stdout",
          "text": [
            "Overwriting s.txt\n"
          ]
        }
      ]
    },
    {
      "cell_type": "code",
      "source": [
        "ls"
      ],
      "metadata": {
        "colab": {
          "base_uri": "https://localhost:8080/"
        },
        "id": "BcabxIg3fLrJ",
        "outputId": "dd33cc3d-adaa-444b-f4a5-6a51254a60ad"
      },
      "execution_count": null,
      "outputs": [
        {
          "output_type": "stream",
          "name": "stdout",
          "text": [
            "\u001b[0m\u001b[01;34msample_data\u001b[0m/  s.txt\n"
          ]
        }
      ]
    },
    {
      "cell_type": "code",
      "source": [
        "cat s.txt"
      ],
      "metadata": {
        "colab": {
          "base_uri": "https://localhost:8080/"
        },
        "id": "vDCi8mk-fM15",
        "outputId": "afebd283-bdfe-46d1-c385-c7e7671bf6c5"
      },
      "execution_count": null,
      "outputs": [
        {
          "output_type": "stream",
          "name": "stdout",
          "text": [
            "pig ham\n",
            "cat dog\n",
            "ham bird\n",
            "dog pig\n"
          ]
        }
      ]
    },
    {
      "cell_type": "markdown",
      "source": [
        "1. s.txt  파일을 읽어 들여서\n",
        "각 라인을 정렬해주세요.\n",
        "\n"
      ],
      "metadata": {
        "id": "lGYmpdYOfqSf"
      }
    },
    {
      "cell_type": "code",
      "source": [
        "cat dog\n",
        "dog pig\n",
        "ham bird\n",
        "pig ham"
      ],
      "metadata": {
        "id": "NH_gRRvwfOMG"
      },
      "execution_count": null,
      "outputs": []
    },
    {
      "cell_type": "code",
      "source": [
        "with open('s.txt') as f:\n",
        "    lines = f.readlines()"
      ],
      "metadata": {
        "id": "BX0HEmBljlzt"
      },
      "execution_count": null,
      "outputs": []
    },
    {
      "cell_type": "code",
      "source": [
        "lines"
      ],
      "metadata": {
        "colab": {
          "base_uri": "https://localhost:8080/"
        },
        "id": "ZnpaQT-WjqhC",
        "outputId": "7988f943-e826-4db7-e946-14331bc96d8f"
      },
      "execution_count": null,
      "outputs": [
        {
          "output_type": "execute_result",
          "data": {
            "text/plain": [
              "['pig ham\\n', 'cat dog\\n', 'ham bird\\n', 'dog pig\\n']"
            ]
          },
          "metadata": {},
          "execution_count": 11
        }
      ]
    },
    {
      "cell_type": "code",
      "source": [
        "lines.sort()"
      ],
      "metadata": {
        "id": "l7rTDqWojrU6"
      },
      "execution_count": null,
      "outputs": []
    },
    {
      "cell_type": "code",
      "source": [
        "lines"
      ],
      "metadata": {
        "colab": {
          "base_uri": "https://localhost:8080/"
        },
        "id": "9ZPI7Pqqjuxa",
        "outputId": "d9ce661d-3010-4e36-eade-e6327afd9c2f"
      },
      "execution_count": null,
      "outputs": [
        {
          "output_type": "execute_result",
          "data": {
            "text/plain": [
              "['cat dog\\n', 'dog pig\\n', 'ham bird\\n', 'pig ham\\n']"
            ]
          },
          "metadata": {},
          "execution_count": 13
        }
      ]
    },
    {
      "cell_type": "code",
      "source": [
        "print(''.join(lines))"
      ],
      "metadata": {
        "colab": {
          "base_uri": "https://localhost:8080/"
        },
        "id": "F7T3VnPYjv0n",
        "outputId": "25b69d64-c69e-446c-f305-988d30c37a65"
      },
      "execution_count": null,
      "outputs": [
        {
          "output_type": "stream",
          "name": "stdout",
          "text": [
            "cat dog\n",
            "dog pig\n",
            "ham bird\n",
            "pig ham\n",
            "\n"
          ]
        }
      ]
    },
    {
      "cell_type": "markdown",
      "source": [
        "sort 함수는 리스트명.sort( ) 형식으로 \"리스트형의 메소드\"​​이며 리스트 원본값을 직접 수정합니다.\n",
        "\n",
        "sorted 함수는 sorted( 리스트명 ) 형식으로 \"내장 함수\"이며 리스트 원본 값은 그대로이고 정렬 값을 반환합니다."
      ],
      "metadata": {
        "id": "dp-JXXNmkDZe"
      }
    },
    {
      "cell_type": "code",
      "source": [
        "lines"
      ],
      "metadata": {
        "colab": {
          "base_uri": "https://localhost:8080/"
        },
        "id": "e53pE28tj005",
        "outputId": "cea9dfd8-1889-409e-f66c-6638fcade77c"
      },
      "execution_count": null,
      "outputs": [
        {
          "output_type": "execute_result",
          "data": {
            "text/plain": [
              "['pig ham\\n', 'cat dog\\n', 'ham bird\\n', 'dog pig\\n']"
            ]
          },
          "metadata": {},
          "execution_count": 17
        }
      ]
    },
    {
      "cell_type": "code",
      "source": [
        "sorted(lines)"
      ],
      "metadata": {
        "colab": {
          "base_uri": "https://localhost:8080/"
        },
        "id": "V-LsATv7kOV4",
        "outputId": "a5384c20-553a-4fd4-a16b-43a969cec7a8"
      },
      "execution_count": null,
      "outputs": [
        {
          "output_type": "execute_result",
          "data": {
            "text/plain": [
              "['cat dog\\n', 'dog pig\\n', 'ham bird\\n', 'pig ham\\n']"
            ]
          },
          "metadata": {},
          "execution_count": 18
        }
      ]
    },
    {
      "cell_type": "code",
      "source": [
        "lines"
      ],
      "metadata": {
        "colab": {
          "base_uri": "https://localhost:8080/"
        },
        "id": "dgR3HUJrkR_q",
        "outputId": "15b00ddf-bd6b-4433-8847-e1f4fb3e30a3"
      },
      "execution_count": null,
      "outputs": [
        {
          "output_type": "execute_result",
          "data": {
            "text/plain": [
              "['pig ham\\n', 'cat dog\\n', 'ham bird\\n', 'dog pig\\n']"
            ]
          },
          "metadata": {},
          "execution_count": 19
        }
      ]
    },
    {
      "cell_type": "markdown",
      "source": [
        "#sort 와 sorted 에서 key 사용법"
      ],
      "metadata": {
        "id": "ir6TeyFckd4h"
      }
    },
    {
      "cell_type": "code",
      "source": [
        "sample_list = ['good', 'very good!', 'excellent', 'nice!']"
      ],
      "metadata": {
        "id": "3J9P-_ArkUwq"
      },
      "execution_count": null,
      "outputs": []
    },
    {
      "cell_type": "code",
      "source": [
        "sorted(sample_list)"
      ],
      "metadata": {
        "colab": {
          "base_uri": "https://localhost:8080/"
        },
        "id": "UMTvIlADkuWO",
        "outputId": "acdb00f8-c598-4919-8b82-591b177cc680"
      },
      "execution_count": null,
      "outputs": [
        {
          "output_type": "execute_result",
          "data": {
            "text/plain": [
              "['excellent', 'good', 'nice!', 'very good!']"
            ]
          },
          "metadata": {},
          "execution_count": 21
        }
      ]
    },
    {
      "cell_type": "code",
      "source": [
        "sorted(sample_list, key= lambda x: x[1])"
      ],
      "metadata": {
        "colab": {
          "base_uri": "https://localhost:8080/"
        },
        "id": "DFK5HI8Zk0C9",
        "outputId": "2ba40bc5-fdde-4008-fc88-9a4d35cfaaa3"
      },
      "execution_count": null,
      "outputs": [
        {
          "output_type": "execute_result",
          "data": {
            "text/plain": [
              "['very good!', 'nice!', 'good', 'excellent']"
            ]
          },
          "metadata": {},
          "execution_count": 22
        }
      ]
    },
    {
      "cell_type": "code",
      "source": [
        "x='very good!'\n",
        "x[1]"
      ],
      "metadata": {
        "colab": {
          "base_uri": "https://localhost:8080/",
          "height": 56
        },
        "id": "PHw3fyQmlPXU",
        "outputId": "d6d2ccd6-355e-46e3-b4a6-ae584694d538"
      },
      "execution_count": null,
      "outputs": [
        {
          "output_type": "execute_result",
          "data": {
            "text/plain": [
              "'e'"
            ],
            "application/vnd.google.colaboratory.intrinsic+json": {
              "type": "string"
            }
          },
          "metadata": {},
          "execution_count": 25
        }
      ]
    },
    {
      "cell_type": "code",
      "source": [
        "sorted(sample_list, key = len)"
      ],
      "metadata": {
        "colab": {
          "base_uri": "https://localhost:8080/"
        },
        "id": "Y3MmhYlWlr6G",
        "outputId": "e8c278ee-f1b5-4d23-cfa8-359fc51761a6"
      },
      "execution_count": null,
      "outputs": [
        {
          "output_type": "execute_result",
          "data": {
            "text/plain": [
              "['good', 'nice!', 'excellent', 'very good!']"
            ]
          },
          "metadata": {},
          "execution_count": 26
        }
      ]
    },
    {
      "cell_type": "code",
      "source": [
        "lines"
      ],
      "metadata": {
        "colab": {
          "base_uri": "https://localhost:8080/"
        },
        "id": "2kvbrmHDmDiE",
        "outputId": "701aa48a-086e-47dc-b515-c4eaada33b26"
      },
      "execution_count": null,
      "outputs": [
        {
          "output_type": "execute_result",
          "data": {
            "text/plain": [
              "['pig ham\\n', 'cat dog\\n', 'ham bird\\n', 'dog pig\\n']"
            ]
          },
          "metadata": {},
          "execution_count": 27
        }
      ]
    },
    {
      "cell_type": "code",
      "source": [
        "lines.sort(key = lambda x: x.split()[::-1])"
      ],
      "metadata": {
        "id": "gwI0Eeuwm6zq"
      },
      "execution_count": null,
      "outputs": []
    },
    {
      "cell_type": "code",
      "source": [
        "sample_list"
      ],
      "metadata": {
        "colab": {
          "base_uri": "https://localhost:8080/"
        },
        "id": "wmOP-Rkdm9eg",
        "outputId": "0e847d20-5e3a-4cbf-e822-210d8cc50487"
      },
      "execution_count": null,
      "outputs": [
        {
          "output_type": "execute_result",
          "data": {
            "text/plain": [
              "['excellent', 'good', 'nice!', 'very good!']"
            ]
          },
          "metadata": {},
          "execution_count": 32
        }
      ]
    },
    {
      "cell_type": "code",
      "source": [
        "lines"
      ],
      "metadata": {
        "colab": {
          "base_uri": "https://localhost:8080/"
        },
        "id": "gaxJjhvSnKKZ",
        "outputId": "39456b8a-a04b-4a47-b66f-7a7f0792ccfc"
      },
      "execution_count": null,
      "outputs": [
        {
          "output_type": "execute_result",
          "data": {
            "text/plain": [
              "['ham bird\\n', 'cat dog\\n', 'pig ham\\n', 'dog pig\\n']"
            ]
          },
          "metadata": {},
          "execution_count": 47
        }
      ]
    },
    {
      "cell_type": "code",
      "source": [
        "cat s.txt"
      ],
      "metadata": {
        "colab": {
          "base_uri": "https://localhost:8080/"
        },
        "id": "eMdxG4QvncE8",
        "outputId": "0ba27ad1-4603-49a6-acfa-c1a145d5ee80"
      },
      "execution_count": null,
      "outputs": [
        {
          "output_type": "stream",
          "name": "stdout",
          "text": [
            "pig ham\n",
            "cat dog\n",
            "ham bird\n",
            "dog pig\n"
          ]
        }
      ]
    },
    {
      "cell_type": "code",
      "source": [
        "ham bird\n",
        "cat dog\n",
        "pig ham\n",
        "dog pig"
      ],
      "metadata": {
        "id": "LdFyADAzqeGu"
      },
      "execution_count": null,
      "outputs": []
    },
    {
      "cell_type": "code",
      "source": [
        "with open('s.txt', 'r') as f:\n",
        "    data = f.readlines()\n",
        "data.sort(key= lambda x: x.split()[1])\n",
        "print(''.join(data))"
      ],
      "metadata": {
        "colab": {
          "base_uri": "https://localhost:8080/"
        },
        "id": "f2fkLCmDryXX",
        "outputId": "ab20d463-f6f7-47e5-fa12-955ed7b99e84"
      },
      "execution_count": null,
      "outputs": [
        {
          "output_type": "stream",
          "name": "stdout",
          "text": [
            "ham bird\n",
            "cat dog\n",
            "pig ham\n",
            "dog pig\n",
            "\n"
          ]
        }
      ]
    },
    {
      "cell_type": "code",
      "source": [
        "with open('s.txt') as f:\n",
        "    lines = f.read()\n",
        "lines"
      ],
      "metadata": {
        "colab": {
          "base_uri": "https://localhost:8080/",
          "height": 56
        },
        "id": "RXwdSzQ0r0zy",
        "outputId": "8b667124-28e4-49b2-f0d4-175dc740fb6a"
      },
      "execution_count": null,
      "outputs": [
        {
          "output_type": "execute_result",
          "data": {
            "text/plain": [
              "'pig ham\\ncat dog\\nham bird\\ndog pig\\n'"
            ],
            "application/vnd.google.colaboratory.intrinsic+json": {
              "type": "string"
            }
          },
          "metadata": {},
          "execution_count": 53
        }
      ]
    },
    {
      "cell_type": "code",
      "source": [
        "lines.splitlines()"
      ],
      "metadata": {
        "colab": {
          "base_uri": "https://localhost:8080/"
        },
        "id": "QhMhgzdZsSAk",
        "outputId": "e4b8bd54-6449-4d8a-b8bf-6de88dcf1c02"
      },
      "execution_count": null,
      "outputs": [
        {
          "output_type": "execute_result",
          "data": {
            "text/plain": [
              "['pig ham', 'cat dog', 'ham bird', 'dog pig']"
            ]
          },
          "metadata": {},
          "execution_count": 54
        }
      ]
    },
    {
      "cell_type": "code",
      "source": [
        "L = sorted(open('s.txt').read().splitlines(), key=lambda a:a.split()[1])"
      ],
      "metadata": {
        "id": "vijDEjE4sVfG"
      },
      "execution_count": null,
      "outputs": []
    },
    {
      "cell_type": "code",
      "source": [
        "L"
      ],
      "metadata": {
        "colab": {
          "base_uri": "https://localhost:8080/"
        },
        "id": "DPIzMZUPszhf",
        "outputId": "f7c5579c-1f73-4ad6-d59a-02502edcfd1f"
      },
      "execution_count": null,
      "outputs": [
        {
          "output_type": "execute_result",
          "data": {
            "text/plain": [
              "['ham bird', 'cat dog', 'pig ham', 'dog pig']"
            ]
          },
          "metadata": {},
          "execution_count": 59
        }
      ]
    },
    {
      "cell_type": "code",
      "source": [
        "print('\\n'.join(L))"
      ],
      "metadata": {
        "colab": {
          "base_uri": "https://localhost:8080/"
        },
        "id": "FgLqVwJEslAQ",
        "outputId": "339df96b-1b6c-4ff1-968d-1e321a6ada89"
      },
      "execution_count": null,
      "outputs": [
        {
          "output_type": "stream",
          "name": "stdout",
          "text": [
            "ham bird\n",
            "cat dog\n",
            "pig ham\n",
            "dog pig\n"
          ]
        }
      ]
    },
    {
      "cell_type": "markdown",
      "source": [
        "\\n : 줄바꿈 문자\n",
        "\n",
        "\\t : tab (=빈칸 4개)\n",
        "\n",
        "\\s : 빈칸\n",
        "\n",
        "공통점 \\ 이 있으면 특별한 기능을 가진 문자가 된다.\n",
        "\n",
        "C:\\Users\\Documents\\test\n",
        "\n",
        "C:\\Users\\Documents    est\n",
        "\n",
        "C:\\\\Users\\\\Documents\\\\test\n",
        "\n",
        "\\\\ : \" \\ \"\n",
        "\n",
        "raw string\n",
        "\n",
        "r'C:\\Users\\Documents\\test'"
      ],
      "metadata": {
        "id": "65ZHP3Kltwul"
      }
    },
    {
      "cell_type": "markdown",
      "source": [
        "raw string 은\n",
        "\n",
        "\\ 와 그 다음에 문자를 그대로 escape 처리해주는 것을 의미 한다."
      ],
      "metadata": {
        "id": "fzi4vjT_x9OP"
      }
    },
    {
      "cell_type": "code",
      "source": [
        "s = r'\\ '"
      ],
      "metadata": {
        "id": "DCLs_6s1spHS"
      },
      "execution_count": null,
      "outputs": []
    },
    {
      "cell_type": "code",
      "source": [
        "s"
      ],
      "metadata": {
        "colab": {
          "base_uri": "https://localhost:8080/",
          "height": 56
        },
        "id": "yOBWbfe9trGz",
        "outputId": "553e1d3b-4a5b-462e-805b-c15157dce760"
      },
      "execution_count": null,
      "outputs": [
        {
          "output_type": "execute_result",
          "data": {
            "text/plain": [
              "'\\\\ '"
            ],
            "application/vnd.google.colaboratory.intrinsic+json": {
              "type": "string"
            }
          },
          "metadata": {},
          "execution_count": 71
        }
      ]
    },
    {
      "cell_type": "code",
      "source": [
        "cat s.txt"
      ],
      "metadata": {
        "colab": {
          "base_uri": "https://localhost:8080/"
        },
        "id": "fEZsvgwNx5cE",
        "outputId": "aa83d982-1c85-4059-a3cf-b03d5c6c1f8f"
      },
      "execution_count": null,
      "outputs": [
        {
          "output_type": "stream",
          "name": "stdout",
          "text": [
            "pig ham\n",
            "cat dog\n",
            "ham bird\n",
            "dog pig\n"
          ]
        }
      ]
    },
    {
      "cell_type": "code",
      "source": [
        "\n",
        "pig ham cat\n",
        "dog ham bird\n",
        "dog pig"
      ],
      "metadata": {
        "id": "WjhjpjGZy0K4"
      },
      "execution_count": null,
      "outputs": []
    },
    {
      "cell_type": "code",
      "source": [
        "with open('s.txt') as f:\n",
        "    lines = f.read().split()\n",
        "\n",
        "for i in range(0, len(lines), 3):\n",
        "    print(' '.join(lines[i:i+3]))"
      ],
      "metadata": {
        "colab": {
          "base_uri": "https://localhost:8080/"
        },
        "id": "sXwkquylyyvO",
        "outputId": "bf26a424-e0b4-4b92-93fd-9a1fc794c4f5"
      },
      "execution_count": null,
      "outputs": [
        {
          "output_type": "stream",
          "name": "stdout",
          "text": [
            "pig ham cat\n",
            "dog ham bird\n",
            "dog pig\n"
          ]
        }
      ]
    },
    {
      "cell_type": "code",
      "source": [
        "lines"
      ],
      "metadata": {
        "colab": {
          "base_uri": "https://localhost:8080/"
        },
        "id": "ShM3wAm96jMs",
        "outputId": "2afd3b4f-5516-4d00-80a2-8bb547d93f96"
      },
      "execution_count": null,
      "outputs": [
        {
          "output_type": "execute_result",
          "data": {
            "text/plain": [
              "['pig', 'ham', 'cat', 'dog', 'ham', 'bird', 'dog', 'pig']"
            ]
          },
          "metadata": {},
          "execution_count": 76
        }
      ]
    },
    {
      "cell_type": "code",
      "source": [
        "for i in range(0, len(lines), 3):\n",
        "    print(' '.join(lines[i:i+3]))"
      ],
      "metadata": {
        "colab": {
          "base_uri": "https://localhost:8080/"
        },
        "id": "BsTuPn9_6paX",
        "outputId": "06a40d74-8ddc-4b74-e813-e646151e7077"
      },
      "execution_count": null,
      "outputs": [
        {
          "output_type": "stream",
          "name": "stdout",
          "text": [
            "pig ham cat\n",
            "dog ham bird\n",
            "dog pig\n"
          ]
        }
      ]
    },
    {
      "cell_type": "code",
      "source": [
        "%%writefile log_webserver\n",
        "119.197.7.230:/dokuwiki/lib/images/smileys/icon_sad.gif:1396295526.909408\n",
        "119.197.7.230:/dokuwiki/lib/images/email.png:1396295526.9096642\n",
        "119.197.7.230:/dokuwiki/lib/images/email.png:1396295526.9097753\n",
        "119.197.7.230:/dokuwiki/lib/tpl/dokuwiki/images/logo.png:1396295526.9098792\n",
        "119.63.193.130:/:1396295526.9099813\n",
        "202.46.50.79:/gugak/wp-includes/wlwmanifest.xml:1396295526.9100816\n",
        "119.197.7.237:/dokuwiki/doku.php?id=start:1396295526.9102297\n",
        "119.197.7.237:/dokuwiki/lib/tpl/dokuwiki/images/logo.png:1396295526.9103339\n",
        "119.197.7.237:/dokuwiki/lib/tpl/dokuwiki/images/button-donate.gif:1396295526.9104326\n",
        "119.197.7.237:/dokuwiki/lib/tpl/dokuwiki/images/button-php.gif:1396295526.910529\n",
        "119.197.7.237:/dokuwiki/lib/tpl/dokuwiki/images/button-html5.png:1396295526.9106264\n",
        "119.197.7.237:/dokuwiki/doku.php?id=start:1396295526.910733\n",
        "119.197.7.237:/dokuwiki/lib/tpl/dokuwiki/images/button-dw.png:1396295526.910834"
      ],
      "metadata": {
        "colab": {
          "base_uri": "https://localhost:8080/"
        },
        "id": "_v7_dBnZ63iR",
        "outputId": "d833199b-d8b4-493e-9d1f-fdbea3e4c222"
      },
      "execution_count": null,
      "outputs": [
        {
          "output_type": "stream",
          "name": "stdout",
          "text": [
            "Overwriting log_webserver\n"
          ]
        }
      ]
    },
    {
      "cell_type": "code",
      "source": [
        "cat log_webserver"
      ],
      "metadata": {
        "colab": {
          "base_uri": "https://localhost:8080/"
        },
        "id": "zT9pwjkk82z-",
        "outputId": "76d5a4bb-7be3-4a42-f217-4d8cdb5f62c6"
      },
      "execution_count": null,
      "outputs": [
        {
          "output_type": "stream",
          "name": "stdout",
          "text": [
            "119.197.7.230:/dokuwiki/lib/images/smileys/icon_sad.gif:1396295526.909408\n",
            "119.197.7.230:/dokuwiki/lib/images/email.png:1396295526.9096642\n",
            "119.197.7.230:/dokuwiki/lib/images/email.png:1396295526.9097753\n",
            "119.197.7.230:/dokuwiki/lib/tpl/dokuwiki/images/logo.png:1396295526.9098792\n",
            "119.63.193.130:/:1396295526.9099813\n",
            "202.46.50.79:/gugak/wp-includes/wlwmanifest.xml:1396295526.9100816\n",
            "119.197.7.237:/dokuwiki/doku.php?id=start:1396295526.9102297\n",
            "119.197.7.237:/dokuwiki/lib/tpl/dokuwiki/images/logo.png:1396295526.9103339\n",
            "119.197.7.237:/dokuwiki/lib/tpl/dokuwiki/images/button-donate.gif:1396295526.9104326\n",
            "119.197.7.237:/dokuwiki/lib/tpl/dokuwiki/images/button-php.gif:1396295526.910529\n",
            "119.197.7.237:/dokuwiki/lib/tpl/dokuwiki/images/button-html5.png:1396295526.9106264\n",
            "119.197.7.237:/dokuwiki/doku.php?id=start:1396295526.910733\n",
            "119.197.7.237:/dokuwiki/lib/tpl/dokuwiki/images/button-dw.png:1396295526.910834\n"
          ]
        }
      ]
    },
    {
      "cell_type": "code",
      "source": [
        "import time\n",
        "time.time()"
      ],
      "metadata": {
        "colab": {
          "base_uri": "https://localhost:8080/"
        },
        "id": "29g80rza8COW",
        "outputId": "1064adaa-b728-4977-acfb-ca5d0ad38591"
      },
      "execution_count": null,
      "outputs": [
        {
          "output_type": "execute_result",
          "data": {
            "text/plain": [
              "1689733087.8007638"
            ]
          },
          "metadata": {},
          "execution_count": 85
        }
      ]
    },
    {
      "cell_type": "markdown",
      "source": [
        "모든 IP별로 모든 페이지에 대해 몇 번 방문했는지 숫자를 세어 한번에 다 보여 주세요.\n",
        "\n",
        "\n",
        "====================\n",
        "결과물의 출력 예시 일부분\n",
        "\n",
        "119.197.7.230\n",
        "\n",
        "/dokuwiki/lib/images/smileys/icon_sad.gif : 1\n",
        "\n",
        "/dokuwiki/lib/images/email.png : 2\n",
        "\n",
        "/dokuwiki/lib/tpl/dokuwiki/images/logo.png : 1\n",
        "\n",
        "119.63.193.130\n",
        "\n",
        "/ : 1\n",
        "\n",
        "\n",
        "\n",
        "힌트 : collections.Counter"
      ],
      "metadata": {
        "id": "CgrdG7Ax8keS"
      }
    },
    {
      "cell_type": "code",
      "source": [
        "import collections"
      ],
      "metadata": {
        "id": "c7ADvbSK8L56"
      },
      "execution_count": null,
      "outputs": []
    },
    {
      "cell_type": "code",
      "source": [
        "collections.Counter([10, 10, 20, 20, 20, 30])"
      ],
      "metadata": {
        "colab": {
          "base_uri": "https://localhost:8080/"
        },
        "id": "0L4Rg20giEVN",
        "outputId": "09bce518-06c4-493a-9f6e-9dba61c3a03c"
      },
      "execution_count": null,
      "outputs": [
        {
          "output_type": "execute_result",
          "data": {
            "text/plain": [
              "Counter({10: 2, 20: 3, 30: 1})"
            ]
          },
          "metadata": {},
          "execution_count": 90
        }
      ]
    },
    {
      "cell_type": "code",
      "source": [
        "count_from_list = collections.Counter([10, 10, 20, 20, 20, 30])"
      ],
      "metadata": {
        "id": "umwjdj4OiKqS"
      },
      "execution_count": null,
      "outputs": []
    },
    {
      "cell_type": "code",
      "source": [
        "count_from_list[10]"
      ],
      "metadata": {
        "colab": {
          "base_uri": "https://localhost:8080/"
        },
        "id": "nYWKOovriYcu",
        "outputId": "43eb5dbf-47d3-401a-9104-902abaf98d01"
      },
      "execution_count": null,
      "outputs": [
        {
          "output_type": "execute_result",
          "data": {
            "text/plain": [
              "2"
            ]
          },
          "metadata": {},
          "execution_count": 92
        }
      ]
    },
    {
      "cell_type": "code",
      "source": [
        "count_from_list[20]"
      ],
      "metadata": {
        "colab": {
          "base_uri": "https://localhost:8080/"
        },
        "id": "9dC_QwNKiaxM",
        "outputId": "a264741e-cee5-4692-9eac-88afe683b690"
      },
      "execution_count": null,
      "outputs": [
        {
          "output_type": "execute_result",
          "data": {
            "text/plain": [
              "3"
            ]
          },
          "metadata": {},
          "execution_count": 93
        }
      ]
    },
    {
      "cell_type": "code",
      "source": [
        "count_from_list[30]"
      ],
      "metadata": {
        "colab": {
          "base_uri": "https://localhost:8080/"
        },
        "id": "1Yr-qN4xiea1",
        "outputId": "8b707d91-121f-4c5c-8a4c-864d28fe905a"
      },
      "execution_count": null,
      "outputs": [
        {
          "output_type": "execute_result",
          "data": {
            "text/plain": [
              "1"
            ]
          },
          "metadata": {},
          "execution_count": 94
        }
      ]
    },
    {
      "cell_type": "code",
      "source": [
        "count_from_list.items()"
      ],
      "metadata": {
        "colab": {
          "base_uri": "https://localhost:8080/"
        },
        "id": "7rOstlVjighj",
        "outputId": "24d15620-7111-49ed-e7ed-604a942fcc8c"
      },
      "execution_count": null,
      "outputs": [
        {
          "output_type": "execute_result",
          "data": {
            "text/plain": [
              "dict_items([(10, 2), (20, 3), (30, 1)])"
            ]
          },
          "metadata": {},
          "execution_count": 96
        }
      ]
    },
    {
      "cell_type": "code",
      "source": [
        "count_from_list.keys()"
      ],
      "metadata": {
        "colab": {
          "base_uri": "https://localhost:8080/"
        },
        "id": "0Sf0SzAzikau",
        "outputId": "edc278d4-a8f7-47ef-a988-5c8a43358907"
      },
      "execution_count": null,
      "outputs": [
        {
          "output_type": "execute_result",
          "data": {
            "text/plain": [
              "dict_keys([10, 20, 30])"
            ]
          },
          "metadata": {},
          "execution_count": 97
        }
      ]
    },
    {
      "cell_type": "code",
      "source": [
        "type(count_from_list)"
      ],
      "metadata": {
        "colab": {
          "base_uri": "https://localhost:8080/"
        },
        "id": "5Kukp1tUiqfj",
        "outputId": "4ed6cbc0-0d45-4f6e-979a-a5b0d0e1207a"
      },
      "execution_count": null,
      "outputs": [
        {
          "output_type": "execute_result",
          "data": {
            "text/plain": [
              "collections.Counter"
            ]
          },
          "metadata": {},
          "execution_count": 98
        }
      ]
    },
    {
      "cell_type": "code",
      "source": [
        "count_from_list.values()"
      ],
      "metadata": {
        "colab": {
          "base_uri": "https://localhost:8080/"
        },
        "id": "UzCxuOBbiywZ",
        "outputId": "86034397-9ba1-4aab-e297-d75026284fb6"
      },
      "execution_count": null,
      "outputs": [
        {
          "output_type": "execute_result",
          "data": {
            "text/plain": [
              "dict_values([2, 3, 1])"
            ]
          },
          "metadata": {},
          "execution_count": 99
        }
      ]
    },
    {
      "cell_type": "code",
      "source": [
        "page_list = ['/dokuwiki/lib/images/smileys/icon_sad.gif',\n",
        "  '/dokuwiki/lib/images/email.png',\n",
        "  '/dokuwiki/lib/images/email.png',\n",
        "  '/dokuwiki/lib/tpl/dokuwiki/images/logo.png']"
      ],
      "metadata": {
        "id": "Jg4IJ_11i4-g"
      },
      "execution_count": null,
      "outputs": []
    },
    {
      "cell_type": "code",
      "source": [
        "collections.Counter(page_list)"
      ],
      "metadata": {
        "colab": {
          "base_uri": "https://localhost:8080/"
        },
        "id": "nI5WoITEjTxw",
        "outputId": "c5ccf65c-3d02-4e95-8f7f-daf4b9d197c8"
      },
      "execution_count": null,
      "outputs": [
        {
          "output_type": "execute_result",
          "data": {
            "text/plain": [
              "Counter({'/dokuwiki/lib/images/smileys/icon_sad.gif': 1,\n",
              "         '/dokuwiki/lib/images/email.png': 2,\n",
              "         '/dokuwiki/lib/tpl/dokuwiki/images/logo.png': 1})"
            ]
          },
          "metadata": {},
          "execution_count": 101
        }
      ]
    },
    {
      "cell_type": "code",
      "source": [
        "with open('log_webserver') as f:\n",
        "    for line in f:\n",
        "        ip, url, times = line.split(':')\n",
        "        print(ip, url, times)"
      ],
      "metadata": {
        "colab": {
          "base_uri": "https://localhost:8080/"
        },
        "id": "Twz7Fcd4jXdI",
        "outputId": "9d83dbdb-286a-47bd-dfc2-209b02f6ddc8"
      },
      "execution_count": null,
      "outputs": [
        {
          "output_type": "stream",
          "name": "stdout",
          "text": [
            "119.197.7.230 /dokuwiki/lib/images/smileys/icon_sad.gif 1396295526.909408\n",
            "\n",
            "119.197.7.230 /dokuwiki/lib/images/email.png 1396295526.9096642\n",
            "\n",
            "119.197.7.230 /dokuwiki/lib/images/email.png 1396295526.9097753\n",
            "\n",
            "119.197.7.230 /dokuwiki/lib/tpl/dokuwiki/images/logo.png 1396295526.9098792\n",
            "\n",
            "119.63.193.130 / 1396295526.9099813\n",
            "\n",
            "202.46.50.79 /gugak/wp-includes/wlwmanifest.xml 1396295526.9100816\n",
            "\n",
            "119.197.7.237 /dokuwiki/doku.php?id=start 1396295526.9102297\n",
            "\n",
            "119.197.7.237 /dokuwiki/lib/tpl/dokuwiki/images/logo.png 1396295526.9103339\n",
            "\n",
            "119.197.7.237 /dokuwiki/lib/tpl/dokuwiki/images/button-donate.gif 1396295526.9104326\n",
            "\n",
            "119.197.7.237 /dokuwiki/lib/tpl/dokuwiki/images/button-php.gif 1396295526.910529\n",
            "\n",
            "119.197.7.237 /dokuwiki/lib/tpl/dokuwiki/images/button-html5.png 1396295526.9106264\n",
            "\n",
            "119.197.7.237 /dokuwiki/doku.php?id=start 1396295526.910733\n",
            "\n",
            "119.197.7.237 /dokuwiki/lib/tpl/dokuwiki/images/button-dw.png 1396295526.910834\n",
            "\n"
          ]
        }
      ]
    },
    {
      "cell_type": "markdown",
      "source": [
        "key = IP\n",
        "\n",
        "value  = [page] 리스트"
      ],
      "metadata": {
        "id": "IXv1kPSCkYtH"
      }
    },
    {
      "cell_type": "code",
      "source": [
        "ip_group"
      ],
      "metadata": {
        "colab": {
          "base_uri": "https://localhost:8080/"
        },
        "id": "ABNZYpkUk3It",
        "outputId": "0f9b799c-20f8-401a-e453-796c140a280d"
      },
      "execution_count": null,
      "outputs": [
        {
          "output_type": "execute_result",
          "data": {
            "text/plain": [
              "{'119.197.7.230': ['/dokuwiki/lib/images/smileys/icon_sad.gif',\n",
              "  '/dokuwiki/lib/images/email.png',\n",
              "  '/dokuwiki/lib/images/email.png',\n",
              "  '/dokuwiki/lib/tpl/dokuwiki/images/logo.png'],\n",
              " '119.63.193.130': ['/'],\n",
              " '202.46.50.79': ['/gugak/wp-includes/wlwmanifest.xml'],\n",
              " '119.197.7.237': ['/dokuwiki/doku.php?id=start',\n",
              "  '/dokuwiki/lib/tpl/dokuwiki/images/logo.png',\n",
              "  '/dokuwiki/lib/tpl/dokuwiki/images/button-donate.gif',\n",
              "  '/dokuwiki/lib/tpl/dokuwiki/images/button-php.gif',\n",
              "  '/dokuwiki/lib/tpl/dokuwiki/images/button-html5.png',\n",
              "  '/dokuwiki/doku.php?id=start',\n",
              "  '/dokuwiki/lib/tpl/dokuwiki/images/button-dw.png']}"
            ]
          },
          "metadata": {},
          "execution_count": 118
        }
      ]
    },
    {
      "cell_type": "code",
      "source": [
        "import collections"
      ],
      "metadata": {
        "id": "eJ0HzWkrocl-"
      },
      "execution_count": null,
      "outputs": []
    },
    {
      "cell_type": "code",
      "source": [
        "ip_group = {}\n",
        "with open('log_webserver') as f:\n",
        "    for line in f:\n",
        "        ip, url, times = line.split(':')\n",
        "        if ip not in ip_group:\n",
        "            ip_group[ip] = []\n",
        "        ip_group[ip].append(url)"
      ],
      "metadata": {
        "id": "3r4VAE8NkASr"
      },
      "execution_count": null,
      "outputs": []
    },
    {
      "cell_type": "code",
      "source": [
        "for i in ip_group:\n",
        "    print(i)\n",
        "    k = collections.Counter(ip_group[i])\n",
        "    for url, count in k.items():\n",
        "        print(url, ':', count)\n",
        "    print('='*50)"
      ],
      "metadata": {
        "colab": {
          "base_uri": "https://localhost:8080/"
        },
        "id": "14yhYHlrk4V-",
        "outputId": "981394cc-8264-4bc7-a84c-6d4d8b3b9c78"
      },
      "execution_count": null,
      "outputs": [
        {
          "output_type": "stream",
          "name": "stdout",
          "text": [
            "119.197.7.230\n",
            "/dokuwiki/lib/images/smileys/icon_sad.gif : 1\n",
            "/dokuwiki/lib/images/email.png : 2\n",
            "/dokuwiki/lib/tpl/dokuwiki/images/logo.png : 1\n",
            "==================================================\n",
            "119.63.193.130\n",
            "/ : 1\n",
            "==================================================\n",
            "202.46.50.79\n",
            "/gugak/wp-includes/wlwmanifest.xml : 1\n",
            "==================================================\n",
            "119.197.7.237\n",
            "/dokuwiki/doku.php?id=start : 2\n",
            "/dokuwiki/lib/tpl/dokuwiki/images/logo.png : 1\n",
            "/dokuwiki/lib/tpl/dokuwiki/images/button-donate.gif : 1\n",
            "/dokuwiki/lib/tpl/dokuwiki/images/button-php.gif : 1\n",
            "/dokuwiki/lib/tpl/dokuwiki/images/button-html5.png : 1\n",
            "/dokuwiki/lib/tpl/dokuwiki/images/button-dw.png : 1\n",
            "==================================================\n"
          ]
        }
      ]
    },
    {
      "cell_type": "markdown",
      "source": [
        "{file:class Object}"
      ],
      "metadata": {
        "id": "PsEz-gbWpLAm"
      }
    },
    {
      "cell_type": "code",
      "source": [
        "ls"
      ],
      "metadata": {
        "colab": {
          "base_uri": "https://localhost:8080/"
        },
        "id": "9omrnZwrp3Im",
        "outputId": "a9d567ef-cad3-4007-b7d2-b9789519e3fd"
      },
      "execution_count": null,
      "outputs": [
        {
          "output_type": "stream",
          "name": "stdout",
          "text": [
            "log_webserver  \u001b[0m\u001b[01;34msample_data\u001b[0m/  s.txt\n"
          ]
        }
      ]
    },
    {
      "cell_type": "code",
      "source": [
        "cat log_webserver"
      ],
      "metadata": {
        "colab": {
          "base_uri": "https://localhost:8080/"
        },
        "id": "8WA7fRPDqF2A",
        "outputId": "852391b4-38f2-48f8-9259-e3d5d2cae5ae"
      },
      "execution_count": null,
      "outputs": [
        {
          "output_type": "stream",
          "name": "stdout",
          "text": [
            "119.197.7.230:/dokuwiki/lib/images/smileys/icon_sad.gif:1396295526.909408\n",
            "119.197.7.230:/dokuwiki/lib/images/email.png:1396295526.9096642\n",
            "119.197.7.230:/dokuwiki/lib/images/email.png:1396295526.9097753\n",
            "119.197.7.230:/dokuwiki/lib/tpl/dokuwiki/images/logo.png:1396295526.9098792\n",
            "119.63.193.130:/:1396295526.9099813\n",
            "202.46.50.79:/gugak/wp-includes/wlwmanifest.xml:1396295526.9100816\n",
            "119.197.7.237:/dokuwiki/doku.php?id=start:1396295526.9102297\n",
            "119.197.7.237:/dokuwiki/lib/tpl/dokuwiki/images/logo.png:1396295526.9103339\n",
            "119.197.7.237:/dokuwiki/lib/tpl/dokuwiki/images/button-donate.gif:1396295526.9104326\n",
            "119.197.7.237:/dokuwiki/lib/tpl/dokuwiki/images/button-php.gif:1396295526.910529\n",
            "119.197.7.237:/dokuwiki/lib/tpl/dokuwiki/images/button-html5.png:1396295526.9106264\n",
            "119.197.7.237:/dokuwiki/doku.php?id=start:1396295526.910733\n",
            "119.197.7.237:/dokuwiki/lib/tpl/dokuwiki/images/button-dw.png:1396295526.910834\n"
          ]
        }
      ]
    },
    {
      "cell_type": "markdown",
      "source": [
        "collections 모듈은 파이썬의 자료형(list, tuple, dict)들에게 확장된 기능을 주기 위해 제작된 파이썬의 내장 모듈이다.\n",
        "\n",
        "Counter : 데이터의 개수를 쉽게 파악하게 해준다.\n",
        "\n",
        "deque : 양쪽에서 모두 입력과 삭제가 가능한 자료구조\n",
        "\n",
        "defaultdict : 딕셔너리의 Key error를 처리해준다.\n",
        "\n",
        "OrderedDict : 순서가 있는 딕셔너리\n",
        "\n",
        "namedtuple : 튜플에 이름이 붙어 있는 형태를 제공\n",
        "\n",
        "ChainMap : 두 개의 딕셔너리를 조합해주는 모듈"
      ],
      "metadata": {
        "id": "vjrnoK-8rESl"
      }
    },
    {
      "cell_type": "code",
      "source": [
        "def default_factory():\n",
        "    return 'null'\n",
        "ex2 = collections.defaultdict(default_factory, a=1, b=2)"
      ],
      "metadata": {
        "id": "Y_HsuaduqI7X"
      },
      "execution_count": null,
      "outputs": []
    },
    {
      "cell_type": "code",
      "source": [
        "ex2[1]"
      ],
      "metadata": {
        "colab": {
          "base_uri": "https://localhost:8080/",
          "height": 56
        },
        "id": "lFUOKv8AskzP",
        "outputId": "3a072557-b1c0-4467-f243-b15c47cb9222"
      },
      "execution_count": null,
      "outputs": [
        {
          "output_type": "execute_result",
          "data": {
            "text/plain": [
              "'null'"
            ],
            "application/vnd.google.colaboratory.intrinsic+json": {
              "type": "string"
            }
          },
          "metadata": {},
          "execution_count": 133
        }
      ]
    },
    {
      "cell_type": "code",
      "source": [
        "password = 'password_my_2'"
      ],
      "metadata": {
        "id": "a8cc326_snHU"
      },
      "execution_count": null,
      "outputs": []
    },
    {
      "cell_type": "code",
      "source": [
        "import hashlib"
      ],
      "metadata": {
        "id": "mZnBDkkQtTiV"
      },
      "execution_count": null,
      "outputs": []
    },
    {
      "cell_type": "code",
      "source": [
        "encrypted1 = hashlib.sha1(password.encode()).hexdigest()"
      ],
      "metadata": {
        "id": "18ANfCiLtdOd"
      },
      "execution_count": null,
      "outputs": []
    },
    {
      "cell_type": "code",
      "source": [
        "print (encrypted1)"
      ],
      "metadata": {
        "colab": {
          "base_uri": "https://localhost:8080/"
        },
        "id": "tqQpRCA6t2Ry",
        "outputId": "cc9077a8-488f-499c-9aa5-907e9da36305"
      },
      "execution_count": null,
      "outputs": [
        {
          "output_type": "stream",
          "name": "stdout",
          "text": [
            "cd838bed2644773296d72e50be36b68bbef01922\n"
          ]
        }
      ]
    },
    {
      "cell_type": "code",
      "source": [
        "hashlib.sha1('12345'.encode()).hexdigest()"
      ],
      "metadata": {
        "colab": {
          "base_uri": "https://localhost:8080/",
          "height": 56
        },
        "id": "VSbuV2eAwthh",
        "outputId": "8bcce8b7-4975-4827-9390-34e1dae382e1"
      },
      "execution_count": null,
      "outputs": [
        {
          "output_type": "execute_result",
          "data": {
            "text/plain": [
              "'8cb2237d0679ca88db6464eac60da96345513964'"
            ],
            "application/vnd.google.colaboratory.intrinsic+json": {
              "type": "string"
            }
          },
          "metadata": {},
          "execution_count": 139
        }
      ]
    },
    {
      "cell_type": "markdown",
      "source": [
        "access 라는 파일을  작성 하는 함수를 만들어 주세요.\n",
        "\n",
        "함수 형태 : savePasswd(ids, passwd)\n",
        "\n",
        "ids : kth, guest\n",
        "\n",
        "paswd : 'password_my_2', '12345'\n",
        "\n",
        "\n",
        "- 함수 두 번 사용해서 파일을 작성하면 됨\n",
        "\n",
        "savePasswd('kth', 'password_my_2')\n",
        "\n",
        "savePasswd('guest', '12345')\n",
        "\n",
        "== access 파일 내용은 아래와 같음 ==\n",
        "\n",
        "kth:cd838bed2644773296d72e50be36b68bbef01922\n",
        "\n",
        "guest:8cb2237d0679ca88db6464eac60da96345513964"
      ],
      "metadata": {
        "id": "Qj9V4yC4wnKn"
      }
    },
    {
      "cell_type": "code",
      "source": [
        "def savePasswd(ids, passwd):\n",
        "    with open('access', 'a') as f:\n",
        "        encrypted = hashlib.sha1(passwd.encode()).hexdigest()\n",
        "        f.write(f'{ids}:{encrypted}\\n')\n",
        "\n",
        "savePasswd('kth', 'password_my_2')\n",
        "savePasswd('guest', '12345')"
      ],
      "metadata": {
        "id": "K-TOscVDt23c"
      },
      "execution_count": null,
      "outputs": []
    },
    {
      "cell_type": "code",
      "source": [
        "cat access"
      ],
      "metadata": {
        "colab": {
          "base_uri": "https://localhost:8080/"
        },
        "id": "uHI1fJXG1fej",
        "outputId": "d4f3cbb8-5d87-431e-ae9e-ab3d68276a0a"
      },
      "execution_count": null,
      "outputs": [
        {
          "output_type": "stream",
          "name": "stdout",
          "text": [
            "kth:cd838bed2644773296d72e50be36b68bbef01922\n",
            "guest:8cb2237d0679ca88db6464eac60da96345513964\n"
          ]
        }
      ]
    },
    {
      "cell_type": "code",
      "source": [
        "rm access"
      ],
      "metadata": {
        "id": "aE064Emw10rN"
      },
      "execution_count": null,
      "outputs": []
    },
    {
      "cell_type": "code",
      "source": [
        "ls"
      ],
      "metadata": {
        "colab": {
          "base_uri": "https://localhost:8080/"
        },
        "id": "FY_dvLB81-JU",
        "outputId": "1aaeb55a-6032-4df5-d304-bed57180331f"
      },
      "execution_count": null,
      "outputs": [
        {
          "output_type": "stream",
          "name": "stdout",
          "text": [
            "log_webserver  \u001b[0m\u001b[01;34msample_data\u001b[0m/  s.txt\n"
          ]
        }
      ]
    },
    {
      "cell_type": "markdown",
      "source": [
        "checkIfUserValid('guest', '12345') -> True\n",
        "\n",
        "checkIfUserValid('guest', 'passwd_my_2') -> False\n"
      ],
      "metadata": {
        "id": "ERV8tkSy2MYg"
      }
    },
    {
      "cell_type": "code",
      "source": [
        "cat access"
      ],
      "metadata": {
        "colab": {
          "base_uri": "https://localhost:8080/"
        },
        "id": "7bn0UPwX1_2l",
        "outputId": "d64e65fb-fa0f-4257-cee2-5b42a69e88e1"
      },
      "execution_count": null,
      "outputs": [
        {
          "output_type": "stream",
          "name": "stdout",
          "text": [
            "kth:cd838bed2644773296d72e50be36b68bbef01922\n",
            "guest:8cb2237d0679ca88db6464eac60da96345513964\n"
          ]
        }
      ]
    },
    {
      "cell_type": "code",
      "source": [
        "def checkIfUserValid(sid, passwd):\n",
        "    encrypted = hashlib.sha1(passwd.encode()).hexdigest()\n",
        "    with open('access') as f:\n",
        "        for line in f:\n",
        "            tid, tpass = line.split(':')\n",
        "            #print('encrypted:', encrypted[-1])\n",
        "            #print('tpass: ', tpass[-1])\n",
        "            #print(len(encrypted))\n",
        "            #print(len(tpass))\n",
        "            if tid == sid and encrypted == tpass.strip():\n",
        "                return True\n",
        "    return False"
      ],
      "metadata": {
        "id": "IVI948UR68KW"
      },
      "execution_count": null,
      "outputs": []
    },
    {
      "cell_type": "code",
      "source": [
        "checkIfUserValid('guest', '12345')"
      ],
      "metadata": {
        "colab": {
          "base_uri": "https://localhost:8080/"
        },
        "id": "YnESBscB7TEf",
        "outputId": "a95e3a1b-a4a4-40c4-a4c9-864a68d36c97"
      },
      "execution_count": null,
      "outputs": [
        {
          "output_type": "execute_result",
          "data": {
            "text/plain": [
              "True"
            ]
          },
          "metadata": {},
          "execution_count": 213
        }
      ]
    },
    {
      "cell_type": "code",
      "source": [
        "checkIfUserValid('guest', '123456')"
      ],
      "metadata": {
        "colab": {
          "base_uri": "https://localhost:8080/"
        },
        "id": "Bol26K3q7Yvs",
        "outputId": "2dde090b-5050-41bb-cd1f-a72b41df9d56"
      },
      "execution_count": null,
      "outputs": [
        {
          "output_type": "execute_result",
          "data": {
            "text/plain": [
              "False"
            ]
          },
          "metadata": {},
          "execution_count": 214
        }
      ]
    },
    {
      "cell_type": "code",
      "source": [
        "cat access"
      ],
      "metadata": {
        "colab": {
          "base_uri": "https://localhost:8080/"
        },
        "id": "S1IvSTPY7cga",
        "outputId": "52c27e4e-4878-4ff4-9a49-d90bc1b94ad7"
      },
      "execution_count": null,
      "outputs": [
        {
          "output_type": "stream",
          "name": "stdout",
          "text": [
            "kth:cd838bed2644773296d72e50be36b68bbef01922\n",
            "guest:8cb2237d0679ca88db6464eac60da96345513964\n"
          ]
        }
      ]
    },
    {
      "cell_type": "code",
      "source": [
        "'kth:cd838bed2644773296d72e50be36b68bbef01922'.split(':')"
      ],
      "metadata": {
        "colab": {
          "base_uri": "https://localhost:8080/"
        },
        "id": "Xb90EALB_xkm",
        "outputId": "e601fed9-ad8f-4f18-cbfb-ad26467056a6"
      },
      "execution_count": null,
      "outputs": [
        {
          "output_type": "execute_result",
          "data": {
            "text/plain": [
              "['kth:cd838bed2644773296d72e50be36b68bbef01922']"
            ]
          },
          "metadata": {},
          "execution_count": 211
        }
      ]
    },
    {
      "cell_type": "markdown",
      "source": [
        "# 파일 탐색기\n",
        "\n",
        "- 이름 검색이 아닌, 파일 내용 검색\n",
        "\n",
        "- 어떤 1200개의 파일이 있는데, 이 파일에서 index 라는 문구가 담겨 있는 파일은 모두 검색해 내라\n",
        "\n",
        "\n",
        "출력 형태 :\n",
        "{'/usr/local/lib/python3.8/dist-packages/pandas/testing.py' : ['index()', 'def index(a, bd,)', 'data=index()'] }\n"
      ],
      "metadata": {
        "id": "Vu0aDvXNAoWF"
      }
    },
    {
      "cell_type": "code",
      "source": [
        "'index'"
      ],
      "metadata": {
        "colab": {
          "base_uri": "https://localhost:8080/",
          "height": 56
        },
        "id": "ASJpj80i_5of",
        "outputId": "1a33f6b3-0851-45e1-e4a3-ca97a722e756"
      },
      "execution_count": null,
      "outputs": [
        {
          "output_type": "execute_result",
          "data": {
            "text/plain": [
              "'index'"
            ],
            "application/vnd.google.colaboratory.intrinsic+json": {
              "type": "string"
            }
          },
          "metadata": {},
          "execution_count": 215
        }
      ]
    },
    {
      "cell_type": "code",
      "source": [
        "파일 이름 : /usr/local/lib/python3.8/dist-packages/pandas/testing.py'"
      ],
      "metadata": {
        "id": "7KcO6FKECNCj"
      },
      "execution_count": null,
      "outputs": []
    },
    {
      "cell_type": "code",
      "source": [
        "'index()'\n",
        "'def index(a, bd,)'\n",
        "'data=index()'"
      ],
      "metadata": {
        "id": "Bqm9oUjYCTw7"
      },
      "execution_count": null,
      "outputs": []
    },
    {
      "cell_type": "code",
      "source": [
        "['index()', 'def index(a, bd,)', 'data=index()']"
      ],
      "metadata": {
        "colab": {
          "base_uri": "https://localhost:8080/"
        },
        "id": "OevbcwgMCjmy",
        "outputId": "0445ba4f-17f6-4404-8111-3dd084d7a7ad"
      },
      "execution_count": null,
      "outputs": [
        {
          "output_type": "execute_result",
          "data": {
            "text/plain": [
              "['index()', 'def index(a, bd,)', 'data=index()']"
            ]
          },
          "metadata": {},
          "execution_count": 217
        }
      ]
    },
    {
      "cell_type": "markdown",
      "source": [
        "위에서 만든 리스트를 value 로 하고, 파일명(경로가 포함되어 있는 파일명)을 key 로 하는 딕셔너리를 만들어서\n",
        "\n",
        "출력해준다."
      ],
      "metadata": {
        "id": "olAov1oFDGhW"
      }
    },
    {
      "cell_type": "code",
      "source": [
        "{'/usr/local/lib/python3.8/dist-packages/pandas/testing.py' : ['index()', 'def index(a, bd,)', 'data=index()'] }"
      ],
      "metadata": {
        "colab": {
          "base_uri": "https://localhost:8080/"
        },
        "id": "-z9NAdthCkO0",
        "outputId": "8a584068-a33a-41c8-d5d4-a01a216d39d6"
      },
      "execution_count": null,
      "outputs": [
        {
          "output_type": "execute_result",
          "data": {
            "text/plain": [
              "{'/usr/local/lib/python3.8/dist-packages/pandas/testing.py': ['index()',\n",
              "  'def index(a, bd,)',\n",
              "  'data=index()']}"
            ]
          },
          "metadata": {},
          "execution_count": 218
        }
      ]
    },
    {
      "cell_type": "code",
      "source": [
        "__import__('pandas')"
      ],
      "metadata": {
        "colab": {
          "base_uri": "https://localhost:8080/"
        },
        "id": "hctKFQURCnO2",
        "outputId": "691c255a-5846-4eba-af6c-91d993a56f63"
      },
      "execution_count": null,
      "outputs": [
        {
          "output_type": "execute_result",
          "data": {
            "text/plain": [
              "<module 'pandas' from '/usr/local/lib/python3.10/dist-packages/pandas/__init__.py'>"
            ]
          },
          "metadata": {},
          "execution_count": 219
        }
      ]
    },
    {
      "cell_type": "code",
      "source": [
        "file_path = '/usr/local/lib/python3.10/dist-packages/pandas/'"
      ],
      "metadata": {
        "id": "eu1fyhv_D4Bb"
      },
      "execution_count": null,
      "outputs": []
    },
    {
      "cell_type": "code",
      "source": [
        "ls /usr/local/lib/python3.10/dist-packages/pandas/"
      ],
      "metadata": {
        "colab": {
          "base_uri": "https://localhost:8080/"
        },
        "id": "Fo10HE5jD-7c",
        "outputId": "05d68493-e35a-47d9-d9c9-d3a2bf5daab6"
      },
      "execution_count": null,
      "outputs": [
        {
          "output_type": "stream",
          "name": "stdout",
          "text": [
            "\u001b[0m\u001b[01;34mapi\u001b[0m/      conftest.py  \u001b[01;34mio\u001b[0m/           \u001b[01;34m_testing\u001b[0m/   _typing.py\n",
            "\u001b[01;34marrays\u001b[0m/   \u001b[01;34mcore\u001b[0m/        \u001b[01;34m_libs\u001b[0m/        testing.py  \u001b[01;34mutil\u001b[0m/\n",
            "\u001b[01;34mcompat\u001b[0m/   \u001b[01;34merrors\u001b[0m/      \u001b[01;34mplotting\u001b[0m/     \u001b[01;34mtests\u001b[0m/      _version.py\n",
            "\u001b[01;34m_config\u001b[0m/  __init__.py  \u001b[01;34m__pycache__\u001b[0m/  \u001b[01;34mtseries\u001b[0m/\n"
          ]
        }
      ]
    },
    {
      "cell_type": "markdown",
      "source": [
        "\"index\" 가 들어있는 파일과 포함된 문장을 찾는 탐색기를 만들어 주세요."
      ],
      "metadata": {
        "id": "8Ok3Ua2pEGg5"
      }
    },
    {
      "cell_type": "code",
      "source": [],
      "metadata": {
        "id": "UbKMqgndEAwt"
      },
      "execution_count": null,
      "outputs": []
    }
  ]
}