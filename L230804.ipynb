{
  "nbformat": 4,
  "nbformat_minor": 0,
  "metadata": {
    "colab": {
      "provenance": [],
      "include_colab_link": true
    },
    "kernelspec": {
      "name": "python3",
      "display_name": "Python 3"
    },
    "language_info": {
      "name": "python"
    }
  },
  "cells": [
    {
      "cell_type": "markdown",
      "metadata": {
        "id": "view-in-github",
        "colab_type": "text"
      },
      "source": [
        "<a href=\"https://colab.research.google.com/github/ohjeonsuk/python-education/blob/main/L230804.ipynb\" target=\"_parent\"><img src=\"https://colab.research.google.com/assets/colab-badge.svg\" alt=\"Open In Colab\"/></a>"
      ]
    },
    {
      "cell_type": "code",
      "execution_count": null,
      "metadata": {
        "colab": {
          "base_uri": "https://localhost:8080/"
        },
        "id": "H2VItotBxpXX",
        "outputId": "04a2da9a-ec61-44b5-ba15-0eb258a9a6ad"
      },
      "outputs": [
        {
          "output_type": "stream",
          "name": "stdout",
          "text": [
            "something,a,b,c,d,message\n",
            "one,1,2,3,4,NA\n",
            "two,5,6,,8,world\n",
            "three,9,10,11,12,foo"
          ]
        }
      ],
      "source": [
        "cat ex5.csv"
      ]
    },
    {
      "cell_type": "code",
      "source": [
        "import pandas as pd\n",
        "import numpy as np\n",
        "import matplotlib.pyplot as plt\n",
        "%matplotlib inline"
      ],
      "metadata": {
        "id": "NnTDgsoS215N"
      },
      "execution_count": null,
      "outputs": []
    },
    {
      "cell_type": "code",
      "source": [
        "df = pd.read_csv('ex5.csv', index_col=[0])"
      ],
      "metadata": {
        "id": "ALHvC6Lc2ycr"
      },
      "execution_count": null,
      "outputs": []
    },
    {
      "cell_type": "code",
      "source": [
        "df"
      ],
      "metadata": {
        "colab": {
          "base_uri": "https://localhost:8080/",
          "height": 175
        },
        "id": "rIT8M5rb3IkT",
        "outputId": "a2e74982-1fb2-4a6a-fb15-a2bb8b419a97"
      },
      "execution_count": null,
      "outputs": [
        {
          "output_type": "execute_result",
          "data": {
            "text/plain": [
              "           a   b     c   d message\n",
              "something                         \n",
              "one        1   2   3.0   4     NaN\n",
              "two        5   6   NaN   8   world\n",
              "three      9  10  11.0  12     foo"
            ],
            "text/html": [
              "\n",
              "\n",
              "  <div id=\"df-7cce0d98-2c11-49c9-b7b7-f55939debf23\">\n",
              "    <div class=\"colab-df-container\">\n",
              "      <div>\n",
              "<style scoped>\n",
              "    .dataframe tbody tr th:only-of-type {\n",
              "        vertical-align: middle;\n",
              "    }\n",
              "\n",
              "    .dataframe tbody tr th {\n",
              "        vertical-align: top;\n",
              "    }\n",
              "\n",
              "    .dataframe thead th {\n",
              "        text-align: right;\n",
              "    }\n",
              "</style>\n",
              "<table border=\"1\" class=\"dataframe\">\n",
              "  <thead>\n",
              "    <tr style=\"text-align: right;\">\n",
              "      <th></th>\n",
              "      <th>a</th>\n",
              "      <th>b</th>\n",
              "      <th>c</th>\n",
              "      <th>d</th>\n",
              "      <th>message</th>\n",
              "    </tr>\n",
              "    <tr>\n",
              "      <th>something</th>\n",
              "      <th></th>\n",
              "      <th></th>\n",
              "      <th></th>\n",
              "      <th></th>\n",
              "      <th></th>\n",
              "    </tr>\n",
              "  </thead>\n",
              "  <tbody>\n",
              "    <tr>\n",
              "      <th>one</th>\n",
              "      <td>1</td>\n",
              "      <td>2</td>\n",
              "      <td>3.0</td>\n",
              "      <td>4</td>\n",
              "      <td>NaN</td>\n",
              "    </tr>\n",
              "    <tr>\n",
              "      <th>two</th>\n",
              "      <td>5</td>\n",
              "      <td>6</td>\n",
              "      <td>NaN</td>\n",
              "      <td>8</td>\n",
              "      <td>world</td>\n",
              "    </tr>\n",
              "    <tr>\n",
              "      <th>three</th>\n",
              "      <td>9</td>\n",
              "      <td>10</td>\n",
              "      <td>11.0</td>\n",
              "      <td>12</td>\n",
              "      <td>foo</td>\n",
              "    </tr>\n",
              "  </tbody>\n",
              "</table>\n",
              "</div>\n",
              "      <button class=\"colab-df-convert\" onclick=\"convertToInteractive('df-7cce0d98-2c11-49c9-b7b7-f55939debf23')\"\n",
              "              title=\"Convert this dataframe to an interactive table.\"\n",
              "              style=\"display:none;\">\n",
              "\n",
              "  <svg xmlns=\"http://www.w3.org/2000/svg\" height=\"24px\"viewBox=\"0 0 24 24\"\n",
              "       width=\"24px\">\n",
              "    <path d=\"M0 0h24v24H0V0z\" fill=\"none\"/>\n",
              "    <path d=\"M18.56 5.44l.94 2.06.94-2.06 2.06-.94-2.06-.94-.94-2.06-.94 2.06-2.06.94zm-11 1L8.5 8.5l.94-2.06 2.06-.94-2.06-.94L8.5 2.5l-.94 2.06-2.06.94zm10 10l.94 2.06.94-2.06 2.06-.94-2.06-.94-.94-2.06-.94 2.06-2.06.94z\"/><path d=\"M17.41 7.96l-1.37-1.37c-.4-.4-.92-.59-1.43-.59-.52 0-1.04.2-1.43.59L10.3 9.45l-7.72 7.72c-.78.78-.78 2.05 0 2.83L4 21.41c.39.39.9.59 1.41.59.51 0 1.02-.2 1.41-.59l7.78-7.78 2.81-2.81c.8-.78.8-2.07 0-2.86zM5.41 20L4 18.59l7.72-7.72 1.47 1.35L5.41 20z\"/>\n",
              "  </svg>\n",
              "      </button>\n",
              "\n",
              "\n",
              "\n",
              "    <div id=\"df-44189a0f-31f4-4089-99f2-3e8cf792c44b\">\n",
              "      <button class=\"colab-df-quickchart\" onclick=\"quickchart('df-44189a0f-31f4-4089-99f2-3e8cf792c44b')\"\n",
              "              title=\"Suggest charts.\"\n",
              "              style=\"display:none;\">\n",
              "\n",
              "<svg xmlns=\"http://www.w3.org/2000/svg\" height=\"24px\"viewBox=\"0 0 24 24\"\n",
              "     width=\"24px\">\n",
              "    <g>\n",
              "        <path d=\"M19 3H5c-1.1 0-2 .9-2 2v14c0 1.1.9 2 2 2h14c1.1 0 2-.9 2-2V5c0-1.1-.9-2-2-2zM9 17H7v-7h2v7zm4 0h-2V7h2v10zm4 0h-2v-4h2v4z\"/>\n",
              "    </g>\n",
              "</svg>\n",
              "      </button>\n",
              "    </div>\n",
              "\n",
              "<style>\n",
              "  .colab-df-quickchart {\n",
              "    background-color: #E8F0FE;\n",
              "    border: none;\n",
              "    border-radius: 50%;\n",
              "    cursor: pointer;\n",
              "    display: none;\n",
              "    fill: #1967D2;\n",
              "    height: 32px;\n",
              "    padding: 0 0 0 0;\n",
              "    width: 32px;\n",
              "  }\n",
              "\n",
              "  .colab-df-quickchart:hover {\n",
              "    background-color: #E2EBFA;\n",
              "    box-shadow: 0px 1px 2px rgba(60, 64, 67, 0.3), 0px 1px 3px 1px rgba(60, 64, 67, 0.15);\n",
              "    fill: #174EA6;\n",
              "  }\n",
              "\n",
              "  [theme=dark] .colab-df-quickchart {\n",
              "    background-color: #3B4455;\n",
              "    fill: #D2E3FC;\n",
              "  }\n",
              "\n",
              "  [theme=dark] .colab-df-quickchart:hover {\n",
              "    background-color: #434B5C;\n",
              "    box-shadow: 0px 1px 3px 1px rgba(0, 0, 0, 0.15);\n",
              "    filter: drop-shadow(0px 1px 2px rgba(0, 0, 0, 0.3));\n",
              "    fill: #FFFFFF;\n",
              "  }\n",
              "</style>\n",
              "\n",
              "    <script>\n",
              "      async function quickchart(key) {\n",
              "        const containerElement = document.querySelector('#' + key);\n",
              "        const charts = await google.colab.kernel.invokeFunction(\n",
              "            'suggestCharts', [key], {});\n",
              "      }\n",
              "    </script>\n",
              "\n",
              "      <script>\n",
              "\n",
              "function displayQuickchartButton(domScope) {\n",
              "  let quickchartButtonEl =\n",
              "    domScope.querySelector('#df-44189a0f-31f4-4089-99f2-3e8cf792c44b button.colab-df-quickchart');\n",
              "  quickchartButtonEl.style.display =\n",
              "    google.colab.kernel.accessAllowed ? 'block' : 'none';\n",
              "}\n",
              "\n",
              "        displayQuickchartButton(document);\n",
              "      </script>\n",
              "      <style>\n",
              "    .colab-df-container {\n",
              "      display:flex;\n",
              "      flex-wrap:wrap;\n",
              "      gap: 12px;\n",
              "    }\n",
              "\n",
              "    .colab-df-convert {\n",
              "      background-color: #E8F0FE;\n",
              "      border: none;\n",
              "      border-radius: 50%;\n",
              "      cursor: pointer;\n",
              "      display: none;\n",
              "      fill: #1967D2;\n",
              "      height: 32px;\n",
              "      padding: 0 0 0 0;\n",
              "      width: 32px;\n",
              "    }\n",
              "\n",
              "    .colab-df-convert:hover {\n",
              "      background-color: #E2EBFA;\n",
              "      box-shadow: 0px 1px 2px rgba(60, 64, 67, 0.3), 0px 1px 3px 1px rgba(60, 64, 67, 0.15);\n",
              "      fill: #174EA6;\n",
              "    }\n",
              "\n",
              "    [theme=dark] .colab-df-convert {\n",
              "      background-color: #3B4455;\n",
              "      fill: #D2E3FC;\n",
              "    }\n",
              "\n",
              "    [theme=dark] .colab-df-convert:hover {\n",
              "      background-color: #434B5C;\n",
              "      box-shadow: 0px 1px 3px 1px rgba(0, 0, 0, 0.15);\n",
              "      filter: drop-shadow(0px 1px 2px rgba(0, 0, 0, 0.3));\n",
              "      fill: #FFFFFF;\n",
              "    }\n",
              "  </style>\n",
              "\n",
              "      <script>\n",
              "        const buttonEl =\n",
              "          document.querySelector('#df-7cce0d98-2c11-49c9-b7b7-f55939debf23 button.colab-df-convert');\n",
              "        buttonEl.style.display =\n",
              "          google.colab.kernel.accessAllowed ? 'block' : 'none';\n",
              "\n",
              "        async function convertToInteractive(key) {\n",
              "          const element = document.querySelector('#df-7cce0d98-2c11-49c9-b7b7-f55939debf23');\n",
              "          const dataTable =\n",
              "            await google.colab.kernel.invokeFunction('convertToInteractive',\n",
              "                                                     [key], {});\n",
              "          if (!dataTable) return;\n",
              "\n",
              "          const docLinkHtml = 'Like what you see? Visit the ' +\n",
              "            '<a target=\"_blank\" href=https://colab.research.google.com/notebooks/data_table.ipynb>data table notebook</a>'\n",
              "            + ' to learn more about interactive tables.';\n",
              "          element.innerHTML = '';\n",
              "          dataTable['output_type'] = 'display_data';\n",
              "          await google.colab.output.renderOutput(dataTable, element);\n",
              "          const docLink = document.createElement('div');\n",
              "          docLink.innerHTML = docLinkHtml;\n",
              "          element.appendChild(docLink);\n",
              "        }\n",
              "      </script>\n",
              "    </div>\n",
              "  </div>\n"
            ]
          },
          "metadata": {},
          "execution_count": 6
        }
      ]
    },
    {
      "cell_type": "code",
      "source": [
        "df = pd.read_csv('ex5.csv')"
      ],
      "metadata": {
        "id": "ie20K1Wb3JXU"
      },
      "execution_count": null,
      "outputs": []
    },
    {
      "cell_type": "code",
      "source": [
        "df"
      ],
      "metadata": {
        "colab": {
          "base_uri": "https://localhost:8080/",
          "height": 143
        },
        "id": "QMBUd4MD3fge",
        "outputId": "2488d3b3-c4bb-4c65-ce06-942e3d8ce59f"
      },
      "execution_count": null,
      "outputs": [
        {
          "output_type": "execute_result",
          "data": {
            "text/plain": [
              "  something  a   b     c   d message\n",
              "0       one  1   2   3.0   4     NaN\n",
              "1       two  5   6   NaN   8   world\n",
              "2     three  9  10  11.0  12     foo"
            ],
            "text/html": [
              "\n",
              "\n",
              "  <div id=\"df-0ae16247-beab-475c-ab35-710cf122147a\">\n",
              "    <div class=\"colab-df-container\">\n",
              "      <div>\n",
              "<style scoped>\n",
              "    .dataframe tbody tr th:only-of-type {\n",
              "        vertical-align: middle;\n",
              "    }\n",
              "\n",
              "    .dataframe tbody tr th {\n",
              "        vertical-align: top;\n",
              "    }\n",
              "\n",
              "    .dataframe thead th {\n",
              "        text-align: right;\n",
              "    }\n",
              "</style>\n",
              "<table border=\"1\" class=\"dataframe\">\n",
              "  <thead>\n",
              "    <tr style=\"text-align: right;\">\n",
              "      <th></th>\n",
              "      <th>something</th>\n",
              "      <th>a</th>\n",
              "      <th>b</th>\n",
              "      <th>c</th>\n",
              "      <th>d</th>\n",
              "      <th>message</th>\n",
              "    </tr>\n",
              "  </thead>\n",
              "  <tbody>\n",
              "    <tr>\n",
              "      <th>0</th>\n",
              "      <td>one</td>\n",
              "      <td>1</td>\n",
              "      <td>2</td>\n",
              "      <td>3.0</td>\n",
              "      <td>4</td>\n",
              "      <td>NaN</td>\n",
              "    </tr>\n",
              "    <tr>\n",
              "      <th>1</th>\n",
              "      <td>two</td>\n",
              "      <td>5</td>\n",
              "      <td>6</td>\n",
              "      <td>NaN</td>\n",
              "      <td>8</td>\n",
              "      <td>world</td>\n",
              "    </tr>\n",
              "    <tr>\n",
              "      <th>2</th>\n",
              "      <td>three</td>\n",
              "      <td>9</td>\n",
              "      <td>10</td>\n",
              "      <td>11.0</td>\n",
              "      <td>12</td>\n",
              "      <td>foo</td>\n",
              "    </tr>\n",
              "  </tbody>\n",
              "</table>\n",
              "</div>\n",
              "      <button class=\"colab-df-convert\" onclick=\"convertToInteractive('df-0ae16247-beab-475c-ab35-710cf122147a')\"\n",
              "              title=\"Convert this dataframe to an interactive table.\"\n",
              "              style=\"display:none;\">\n",
              "\n",
              "  <svg xmlns=\"http://www.w3.org/2000/svg\" height=\"24px\"viewBox=\"0 0 24 24\"\n",
              "       width=\"24px\">\n",
              "    <path d=\"M0 0h24v24H0V0z\" fill=\"none\"/>\n",
              "    <path d=\"M18.56 5.44l.94 2.06.94-2.06 2.06-.94-2.06-.94-.94-2.06-.94 2.06-2.06.94zm-11 1L8.5 8.5l.94-2.06 2.06-.94-2.06-.94L8.5 2.5l-.94 2.06-2.06.94zm10 10l.94 2.06.94-2.06 2.06-.94-2.06-.94-.94-2.06-.94 2.06-2.06.94z\"/><path d=\"M17.41 7.96l-1.37-1.37c-.4-.4-.92-.59-1.43-.59-.52 0-1.04.2-1.43.59L10.3 9.45l-7.72 7.72c-.78.78-.78 2.05 0 2.83L4 21.41c.39.39.9.59 1.41.59.51 0 1.02-.2 1.41-.59l7.78-7.78 2.81-2.81c.8-.78.8-2.07 0-2.86zM5.41 20L4 18.59l7.72-7.72 1.47 1.35L5.41 20z\"/>\n",
              "  </svg>\n",
              "      </button>\n",
              "\n",
              "\n",
              "\n",
              "    <div id=\"df-b932de55-b07d-45b7-8bb2-e42cb1638755\">\n",
              "      <button class=\"colab-df-quickchart\" onclick=\"quickchart('df-b932de55-b07d-45b7-8bb2-e42cb1638755')\"\n",
              "              title=\"Suggest charts.\"\n",
              "              style=\"display:none;\">\n",
              "\n",
              "<svg xmlns=\"http://www.w3.org/2000/svg\" height=\"24px\"viewBox=\"0 0 24 24\"\n",
              "     width=\"24px\">\n",
              "    <g>\n",
              "        <path d=\"M19 3H5c-1.1 0-2 .9-2 2v14c0 1.1.9 2 2 2h14c1.1 0 2-.9 2-2V5c0-1.1-.9-2-2-2zM9 17H7v-7h2v7zm4 0h-2V7h2v10zm4 0h-2v-4h2v4z\"/>\n",
              "    </g>\n",
              "</svg>\n",
              "      </button>\n",
              "    </div>\n",
              "\n",
              "<style>\n",
              "  .colab-df-quickchart {\n",
              "    background-color: #E8F0FE;\n",
              "    border: none;\n",
              "    border-radius: 50%;\n",
              "    cursor: pointer;\n",
              "    display: none;\n",
              "    fill: #1967D2;\n",
              "    height: 32px;\n",
              "    padding: 0 0 0 0;\n",
              "    width: 32px;\n",
              "  }\n",
              "\n",
              "  .colab-df-quickchart:hover {\n",
              "    background-color: #E2EBFA;\n",
              "    box-shadow: 0px 1px 2px rgba(60, 64, 67, 0.3), 0px 1px 3px 1px rgba(60, 64, 67, 0.15);\n",
              "    fill: #174EA6;\n",
              "  }\n",
              "\n",
              "  [theme=dark] .colab-df-quickchart {\n",
              "    background-color: #3B4455;\n",
              "    fill: #D2E3FC;\n",
              "  }\n",
              "\n",
              "  [theme=dark] .colab-df-quickchart:hover {\n",
              "    background-color: #434B5C;\n",
              "    box-shadow: 0px 1px 3px 1px rgba(0, 0, 0, 0.15);\n",
              "    filter: drop-shadow(0px 1px 2px rgba(0, 0, 0, 0.3));\n",
              "    fill: #FFFFFF;\n",
              "  }\n",
              "</style>\n",
              "\n",
              "    <script>\n",
              "      async function quickchart(key) {\n",
              "        const containerElement = document.querySelector('#' + key);\n",
              "        const charts = await google.colab.kernel.invokeFunction(\n",
              "            'suggestCharts', [key], {});\n",
              "      }\n",
              "    </script>\n",
              "\n",
              "      <script>\n",
              "\n",
              "function displayQuickchartButton(domScope) {\n",
              "  let quickchartButtonEl =\n",
              "    domScope.querySelector('#df-b932de55-b07d-45b7-8bb2-e42cb1638755 button.colab-df-quickchart');\n",
              "  quickchartButtonEl.style.display =\n",
              "    google.colab.kernel.accessAllowed ? 'block' : 'none';\n",
              "}\n",
              "\n",
              "        displayQuickchartButton(document);\n",
              "      </script>\n",
              "      <style>\n",
              "    .colab-df-container {\n",
              "      display:flex;\n",
              "      flex-wrap:wrap;\n",
              "      gap: 12px;\n",
              "    }\n",
              "\n",
              "    .colab-df-convert {\n",
              "      background-color: #E8F0FE;\n",
              "      border: none;\n",
              "      border-radius: 50%;\n",
              "      cursor: pointer;\n",
              "      display: none;\n",
              "      fill: #1967D2;\n",
              "      height: 32px;\n",
              "      padding: 0 0 0 0;\n",
              "      width: 32px;\n",
              "    }\n",
              "\n",
              "    .colab-df-convert:hover {\n",
              "      background-color: #E2EBFA;\n",
              "      box-shadow: 0px 1px 2px rgba(60, 64, 67, 0.3), 0px 1px 3px 1px rgba(60, 64, 67, 0.15);\n",
              "      fill: #174EA6;\n",
              "    }\n",
              "\n",
              "    [theme=dark] .colab-df-convert {\n",
              "      background-color: #3B4455;\n",
              "      fill: #D2E3FC;\n",
              "    }\n",
              "\n",
              "    [theme=dark] .colab-df-convert:hover {\n",
              "      background-color: #434B5C;\n",
              "      box-shadow: 0px 1px 3px 1px rgba(0, 0, 0, 0.15);\n",
              "      filter: drop-shadow(0px 1px 2px rgba(0, 0, 0, 0.3));\n",
              "      fill: #FFFFFF;\n",
              "    }\n",
              "  </style>\n",
              "\n",
              "      <script>\n",
              "        const buttonEl =\n",
              "          document.querySelector('#df-0ae16247-beab-475c-ab35-710cf122147a button.colab-df-convert');\n",
              "        buttonEl.style.display =\n",
              "          google.colab.kernel.accessAllowed ? 'block' : 'none';\n",
              "\n",
              "        async function convertToInteractive(key) {\n",
              "          const element = document.querySelector('#df-0ae16247-beab-475c-ab35-710cf122147a');\n",
              "          const dataTable =\n",
              "            await google.colab.kernel.invokeFunction('convertToInteractive',\n",
              "                                                     [key], {});\n",
              "          if (!dataTable) return;\n",
              "\n",
              "          const docLinkHtml = 'Like what you see? Visit the ' +\n",
              "            '<a target=\"_blank\" href=https://colab.research.google.com/notebooks/data_table.ipynb>data table notebook</a>'\n",
              "            + ' to learn more about interactive tables.';\n",
              "          element.innerHTML = '';\n",
              "          dataTable['output_type'] = 'display_data';\n",
              "          await google.colab.output.renderOutput(dataTable, element);\n",
              "          const docLink = document.createElement('div');\n",
              "          docLink.innerHTML = docLinkHtml;\n",
              "          element.appendChild(docLink);\n",
              "        }\n",
              "      </script>\n",
              "    </div>\n",
              "  </div>\n"
            ]
          },
          "metadata": {},
          "execution_count": 8
        }
      ]
    },
    {
      "cell_type": "code",
      "source": [
        "pd.isnull(df)"
      ],
      "metadata": {
        "colab": {
          "base_uri": "https://localhost:8080/",
          "height": 143
        },
        "id": "x1uxaC-G3gKT",
        "outputId": "62de4542-5d68-4fbb-de89-ca1106fa8634"
      },
      "execution_count": null,
      "outputs": [
        {
          "output_type": "execute_result",
          "data": {
            "text/plain": [
              "   something      a      b      c      d  message\n",
              "0      False  False  False  False  False     True\n",
              "1      False  False  False   True  False    False\n",
              "2      False  False  False  False  False    False"
            ],
            "text/html": [
              "\n",
              "\n",
              "  <div id=\"df-13978279-881f-4b11-ac36-cb56d4337f27\">\n",
              "    <div class=\"colab-df-container\">\n",
              "      <div>\n",
              "<style scoped>\n",
              "    .dataframe tbody tr th:only-of-type {\n",
              "        vertical-align: middle;\n",
              "    }\n",
              "\n",
              "    .dataframe tbody tr th {\n",
              "        vertical-align: top;\n",
              "    }\n",
              "\n",
              "    .dataframe thead th {\n",
              "        text-align: right;\n",
              "    }\n",
              "</style>\n",
              "<table border=\"1\" class=\"dataframe\">\n",
              "  <thead>\n",
              "    <tr style=\"text-align: right;\">\n",
              "      <th></th>\n",
              "      <th>something</th>\n",
              "      <th>a</th>\n",
              "      <th>b</th>\n",
              "      <th>c</th>\n",
              "      <th>d</th>\n",
              "      <th>message</th>\n",
              "    </tr>\n",
              "  </thead>\n",
              "  <tbody>\n",
              "    <tr>\n",
              "      <th>0</th>\n",
              "      <td>False</td>\n",
              "      <td>False</td>\n",
              "      <td>False</td>\n",
              "      <td>False</td>\n",
              "      <td>False</td>\n",
              "      <td>True</td>\n",
              "    </tr>\n",
              "    <tr>\n",
              "      <th>1</th>\n",
              "      <td>False</td>\n",
              "      <td>False</td>\n",
              "      <td>False</td>\n",
              "      <td>True</td>\n",
              "      <td>False</td>\n",
              "      <td>False</td>\n",
              "    </tr>\n",
              "    <tr>\n",
              "      <th>2</th>\n",
              "      <td>False</td>\n",
              "      <td>False</td>\n",
              "      <td>False</td>\n",
              "      <td>False</td>\n",
              "      <td>False</td>\n",
              "      <td>False</td>\n",
              "    </tr>\n",
              "  </tbody>\n",
              "</table>\n",
              "</div>\n",
              "      <button class=\"colab-df-convert\" onclick=\"convertToInteractive('df-13978279-881f-4b11-ac36-cb56d4337f27')\"\n",
              "              title=\"Convert this dataframe to an interactive table.\"\n",
              "              style=\"display:none;\">\n",
              "\n",
              "  <svg xmlns=\"http://www.w3.org/2000/svg\" height=\"24px\"viewBox=\"0 0 24 24\"\n",
              "       width=\"24px\">\n",
              "    <path d=\"M0 0h24v24H0V0z\" fill=\"none\"/>\n",
              "    <path d=\"M18.56 5.44l.94 2.06.94-2.06 2.06-.94-2.06-.94-.94-2.06-.94 2.06-2.06.94zm-11 1L8.5 8.5l.94-2.06 2.06-.94-2.06-.94L8.5 2.5l-.94 2.06-2.06.94zm10 10l.94 2.06.94-2.06 2.06-.94-2.06-.94-.94-2.06-.94 2.06-2.06.94z\"/><path d=\"M17.41 7.96l-1.37-1.37c-.4-.4-.92-.59-1.43-.59-.52 0-1.04.2-1.43.59L10.3 9.45l-7.72 7.72c-.78.78-.78 2.05 0 2.83L4 21.41c.39.39.9.59 1.41.59.51 0 1.02-.2 1.41-.59l7.78-7.78 2.81-2.81c.8-.78.8-2.07 0-2.86zM5.41 20L4 18.59l7.72-7.72 1.47 1.35L5.41 20z\"/>\n",
              "  </svg>\n",
              "      </button>\n",
              "\n",
              "\n",
              "\n",
              "    <div id=\"df-dd2469e8-9ab6-434f-8440-ecb829f8de02\">\n",
              "      <button class=\"colab-df-quickchart\" onclick=\"quickchart('df-dd2469e8-9ab6-434f-8440-ecb829f8de02')\"\n",
              "              title=\"Suggest charts.\"\n",
              "              style=\"display:none;\">\n",
              "\n",
              "<svg xmlns=\"http://www.w3.org/2000/svg\" height=\"24px\"viewBox=\"0 0 24 24\"\n",
              "     width=\"24px\">\n",
              "    <g>\n",
              "        <path d=\"M19 3H5c-1.1 0-2 .9-2 2v14c0 1.1.9 2 2 2h14c1.1 0 2-.9 2-2V5c0-1.1-.9-2-2-2zM9 17H7v-7h2v7zm4 0h-2V7h2v10zm4 0h-2v-4h2v4z\"/>\n",
              "    </g>\n",
              "</svg>\n",
              "      </button>\n",
              "    </div>\n",
              "\n",
              "<style>\n",
              "  .colab-df-quickchart {\n",
              "    background-color: #E8F0FE;\n",
              "    border: none;\n",
              "    border-radius: 50%;\n",
              "    cursor: pointer;\n",
              "    display: none;\n",
              "    fill: #1967D2;\n",
              "    height: 32px;\n",
              "    padding: 0 0 0 0;\n",
              "    width: 32px;\n",
              "  }\n",
              "\n",
              "  .colab-df-quickchart:hover {\n",
              "    background-color: #E2EBFA;\n",
              "    box-shadow: 0px 1px 2px rgba(60, 64, 67, 0.3), 0px 1px 3px 1px rgba(60, 64, 67, 0.15);\n",
              "    fill: #174EA6;\n",
              "  }\n",
              "\n",
              "  [theme=dark] .colab-df-quickchart {\n",
              "    background-color: #3B4455;\n",
              "    fill: #D2E3FC;\n",
              "  }\n",
              "\n",
              "  [theme=dark] .colab-df-quickchart:hover {\n",
              "    background-color: #434B5C;\n",
              "    box-shadow: 0px 1px 3px 1px rgba(0, 0, 0, 0.15);\n",
              "    filter: drop-shadow(0px 1px 2px rgba(0, 0, 0, 0.3));\n",
              "    fill: #FFFFFF;\n",
              "  }\n",
              "</style>\n",
              "\n",
              "    <script>\n",
              "      async function quickchart(key) {\n",
              "        const containerElement = document.querySelector('#' + key);\n",
              "        const charts = await google.colab.kernel.invokeFunction(\n",
              "            'suggestCharts', [key], {});\n",
              "      }\n",
              "    </script>\n",
              "\n",
              "      <script>\n",
              "\n",
              "function displayQuickchartButton(domScope) {\n",
              "  let quickchartButtonEl =\n",
              "    domScope.querySelector('#df-dd2469e8-9ab6-434f-8440-ecb829f8de02 button.colab-df-quickchart');\n",
              "  quickchartButtonEl.style.display =\n",
              "    google.colab.kernel.accessAllowed ? 'block' : 'none';\n",
              "}\n",
              "\n",
              "        displayQuickchartButton(document);\n",
              "      </script>\n",
              "      <style>\n",
              "    .colab-df-container {\n",
              "      display:flex;\n",
              "      flex-wrap:wrap;\n",
              "      gap: 12px;\n",
              "    }\n",
              "\n",
              "    .colab-df-convert {\n",
              "      background-color: #E8F0FE;\n",
              "      border: none;\n",
              "      border-radius: 50%;\n",
              "      cursor: pointer;\n",
              "      display: none;\n",
              "      fill: #1967D2;\n",
              "      height: 32px;\n",
              "      padding: 0 0 0 0;\n",
              "      width: 32px;\n",
              "    }\n",
              "\n",
              "    .colab-df-convert:hover {\n",
              "      background-color: #E2EBFA;\n",
              "      box-shadow: 0px 1px 2px rgba(60, 64, 67, 0.3), 0px 1px 3px 1px rgba(60, 64, 67, 0.15);\n",
              "      fill: #174EA6;\n",
              "    }\n",
              "\n",
              "    [theme=dark] .colab-df-convert {\n",
              "      background-color: #3B4455;\n",
              "      fill: #D2E3FC;\n",
              "    }\n",
              "\n",
              "    [theme=dark] .colab-df-convert:hover {\n",
              "      background-color: #434B5C;\n",
              "      box-shadow: 0px 1px 3px 1px rgba(0, 0, 0, 0.15);\n",
              "      filter: drop-shadow(0px 1px 2px rgba(0, 0, 0, 0.3));\n",
              "      fill: #FFFFFF;\n",
              "    }\n",
              "  </style>\n",
              "\n",
              "      <script>\n",
              "        const buttonEl =\n",
              "          document.querySelector('#df-13978279-881f-4b11-ac36-cb56d4337f27 button.colab-df-convert');\n",
              "        buttonEl.style.display =\n",
              "          google.colab.kernel.accessAllowed ? 'block' : 'none';\n",
              "\n",
              "        async function convertToInteractive(key) {\n",
              "          const element = document.querySelector('#df-13978279-881f-4b11-ac36-cb56d4337f27');\n",
              "          const dataTable =\n",
              "            await google.colab.kernel.invokeFunction('convertToInteractive',\n",
              "                                                     [key], {});\n",
              "          if (!dataTable) return;\n",
              "\n",
              "          const docLinkHtml = 'Like what you see? Visit the ' +\n",
              "            '<a target=\"_blank\" href=https://colab.research.google.com/notebooks/data_table.ipynb>data table notebook</a>'\n",
              "            + ' to learn more about interactive tables.';\n",
              "          element.innerHTML = '';\n",
              "          dataTable['output_type'] = 'display_data';\n",
              "          await google.colab.output.renderOutput(dataTable, element);\n",
              "          const docLink = document.createElement('div');\n",
              "          docLink.innerHTML = docLinkHtml;\n",
              "          element.appendChild(docLink);\n",
              "        }\n",
              "      </script>\n",
              "    </div>\n",
              "  </div>\n"
            ]
          },
          "metadata": {},
          "execution_count": 9
        }
      ]
    },
    {
      "cell_type": "code",
      "source": [
        "ls ex6.csv"
      ],
      "metadata": {
        "colab": {
          "base_uri": "https://localhost:8080/"
        },
        "id": "DxigBMTx3iyi",
        "outputId": "534b8d9e-6697-41b2-b4c3-d72926122a36"
      },
      "execution_count": null,
      "outputs": [
        {
          "output_type": "stream",
          "name": "stdout",
          "text": [
            "ex6.csv\n"
          ]
        }
      ]
    },
    {
      "cell_type": "code",
      "source": [
        "ls -al"
      ],
      "metadata": {
        "colab": {
          "base_uri": "https://localhost:8080/"
        },
        "id": "wjEKwE4C3yWk",
        "outputId": "45d485b6-8c2a-478d-9dd7-8546695f3e33"
      },
      "execution_count": null,
      "outputs": [
        {
          "output_type": "stream",
          "name": "stdout",
          "text": [
            "total 660\n",
            "drwxr-xr-x 1 root root   4096 Aug  4 00:02 \u001b[0m\u001b[01;34m.\u001b[0m/\n",
            "drwxr-xr-x 1 root root   4096 Aug  4 00:00 \u001b[01;34m..\u001b[0m/\n",
            "drwxr-xr-x 4 root root   4096 Aug  2 13:34 \u001b[01;34m.config\u001b[0m/\n",
            "-rw-r--r-- 1 root root     58 Aug  4 00:02 ex1.csv\n",
            "-rw-r--r-- 1 root root     42 Aug  4 00:02 ex2.csv\n",
            "-rw-r--r-- 1 root root    169 Aug  4 00:02 ex3.csv\n",
            "-rw-r--r-- 1 root root    170 Aug  4 00:02 ex3.txt\n",
            "-rw-r--r-- 1 root root    163 Aug  4 00:02 ex4.csv\n",
            "-rw-r--r-- 1 root root     78 Aug  4 00:02 ex5.csv\n",
            "-rw-r--r-- 1 root root 626863 Aug  4 00:02 ex6.csv\n",
            "-rw-r--r-- 1 root root     36 Aug  4 00:02 ex7.csv\n",
            "drwxr-xr-x 1 root root   4096 Aug  2 13:34 \u001b[01;34msample_data\u001b[0m/\n"
          ]
        }
      ]
    },
    {
      "cell_type": "markdown",
      "source": [
        "head : 파일의 앞 부분 표시\n",
        "\n",
        "tail : 파일의 마지막 부분 표시"
      ],
      "metadata": {
        "id": "m2RFe_0C4CaW"
      }
    },
    {
      "cell_type": "code",
      "source": [
        "!head ex6.csv"
      ],
      "metadata": {
        "colab": {
          "base_uri": "https://localhost:8080/"
        },
        "id": "pRdxtCr_308g",
        "outputId": "1a8cc474-b3a4-4030-c4d2-b512f24f3e8c"
      },
      "execution_count": null,
      "outputs": [
        {
          "output_type": "stream",
          "name": "stdout",
          "text": [
            "one,two,three,four,key\n",
            "0.467976300189,-0.0386485396255,-0.295344251987,-1.82472622729,L\n",
            "-0.358893469543,1.40445260007,0.704964644926,-0.200638304015,B\n",
            "-0.50184039929,0.659253707223,-0.421690619312,-0.0576883018364,G\n",
            "0.204886212202,1.07413396504,1.38836131252,-0.982404023494,R\n",
            "0.354627914484,-0.133115852296,0.283762637978,-0.837062961653,Q\n",
            "1.81748001608,0.742272722638,0.419394843928,-2.25103520513,Q\n",
            "-0.776764319165,0.935517747061,-0.332871759623,-1.87564085416,U\n",
            "-0.913134961617,1.53062351168,-0.572656719239,0.477252252981,K\n",
            "0.358479538224,-0.49757199147,-0.367016188009,0.507701778685,S\n"
          ]
        }
      ]
    },
    {
      "cell_type": "code",
      "source": [
        "!tail ex6.csv"
      ],
      "metadata": {
        "colab": {
          "base_uri": "https://localhost:8080/"
        },
        "id": "d9iEvhXt4K3A",
        "outputId": "a19ab92f-a9fa-4914-d6fe-ac239c9a9de1"
      },
      "execution_count": null,
      "outputs": [
        {
          "output_type": "stream",
          "name": "stdout",
          "text": [
            "-0.370768721563,0.404356340287,-1.05162846226,-1.05089891162,8\n",
            "-0.409980111625,0.155627076006,-0.81898965427,1.27735013287,W\n",
            "0.301213589188,-1.11120335047,0.668257684091,0.671921855703,A\n",
            "1.82111702878,0.416444799351,0.173874079053,0.505118430246,X\n",
            "0.0688036448846,1.32275858021,0.802346253327,0.223617809159,H\n",
            "2.31189587899,-0.41707032545,-1.40959852635,-0.515820726027,L\n",
            "-0.479892969973,-0.650418530998,0.745152119818,-0.646037876591,E\n",
            "0.523330748868,0.787112113221,0.486066142508,1.09315580825,K\n",
            "-0.362559431988,0.598893993038,-1.84320146381,0.887291508481,G\n",
            "-0.0963755510259,-1.01299883547,-0.657431480807,-0.573315211841,0\n"
          ]
        }
      ]
    },
    {
      "cell_type": "code",
      "source": [
        "df = pd.read_csv('ex6.csv')"
      ],
      "metadata": {
        "id": "yKq2Cxk04UN_"
      },
      "execution_count": null,
      "outputs": []
    },
    {
      "cell_type": "code",
      "source": [
        "df"
      ],
      "metadata": {
        "colab": {
          "base_uri": "https://localhost:8080/",
          "height": 424
        },
        "id": "I5fVDrJ54cu8",
        "outputId": "9d5f3552-b5d4-4608-a122-e29af4f02168"
      },
      "execution_count": null,
      "outputs": [
        {
          "output_type": "execute_result",
          "data": {
            "text/plain": [
              "           one       two     three      four key\n",
              "0     0.467976 -0.038649 -0.295344 -1.824726   L\n",
              "1    -0.358893  1.404453  0.704965 -0.200638   B\n",
              "2    -0.501840  0.659254 -0.421691 -0.057688   G\n",
              "3     0.204886  1.074134  1.388361 -0.982404   R\n",
              "4     0.354628 -0.133116  0.283763 -0.837063   Q\n",
              "...        ...       ...       ...       ...  ..\n",
              "9995  2.311896 -0.417070 -1.409599 -0.515821   L\n",
              "9996 -0.479893 -0.650419  0.745152 -0.646038   E\n",
              "9997  0.523331  0.787112  0.486066  1.093156   K\n",
              "9998 -0.362559  0.598894 -1.843201  0.887292   G\n",
              "9999 -0.096376 -1.012999 -0.657431 -0.573315   0\n",
              "\n",
              "[10000 rows x 5 columns]"
            ],
            "text/html": [
              "\n",
              "\n",
              "  <div id=\"df-b15bbb57-b1dc-49af-963c-b04c314fc954\">\n",
              "    <div class=\"colab-df-container\">\n",
              "      <div>\n",
              "<style scoped>\n",
              "    .dataframe tbody tr th:only-of-type {\n",
              "        vertical-align: middle;\n",
              "    }\n",
              "\n",
              "    .dataframe tbody tr th {\n",
              "        vertical-align: top;\n",
              "    }\n",
              "\n",
              "    .dataframe thead th {\n",
              "        text-align: right;\n",
              "    }\n",
              "</style>\n",
              "<table border=\"1\" class=\"dataframe\">\n",
              "  <thead>\n",
              "    <tr style=\"text-align: right;\">\n",
              "      <th></th>\n",
              "      <th>one</th>\n",
              "      <th>two</th>\n",
              "      <th>three</th>\n",
              "      <th>four</th>\n",
              "      <th>key</th>\n",
              "    </tr>\n",
              "  </thead>\n",
              "  <tbody>\n",
              "    <tr>\n",
              "      <th>0</th>\n",
              "      <td>0.467976</td>\n",
              "      <td>-0.038649</td>\n",
              "      <td>-0.295344</td>\n",
              "      <td>-1.824726</td>\n",
              "      <td>L</td>\n",
              "    </tr>\n",
              "    <tr>\n",
              "      <th>1</th>\n",
              "      <td>-0.358893</td>\n",
              "      <td>1.404453</td>\n",
              "      <td>0.704965</td>\n",
              "      <td>-0.200638</td>\n",
              "      <td>B</td>\n",
              "    </tr>\n",
              "    <tr>\n",
              "      <th>2</th>\n",
              "      <td>-0.501840</td>\n",
              "      <td>0.659254</td>\n",
              "      <td>-0.421691</td>\n",
              "      <td>-0.057688</td>\n",
              "      <td>G</td>\n",
              "    </tr>\n",
              "    <tr>\n",
              "      <th>3</th>\n",
              "      <td>0.204886</td>\n",
              "      <td>1.074134</td>\n",
              "      <td>1.388361</td>\n",
              "      <td>-0.982404</td>\n",
              "      <td>R</td>\n",
              "    </tr>\n",
              "    <tr>\n",
              "      <th>4</th>\n",
              "      <td>0.354628</td>\n",
              "      <td>-0.133116</td>\n",
              "      <td>0.283763</td>\n",
              "      <td>-0.837063</td>\n",
              "      <td>Q</td>\n",
              "    </tr>\n",
              "    <tr>\n",
              "      <th>...</th>\n",
              "      <td>...</td>\n",
              "      <td>...</td>\n",
              "      <td>...</td>\n",
              "      <td>...</td>\n",
              "      <td>...</td>\n",
              "    </tr>\n",
              "    <tr>\n",
              "      <th>9995</th>\n",
              "      <td>2.311896</td>\n",
              "      <td>-0.417070</td>\n",
              "      <td>-1.409599</td>\n",
              "      <td>-0.515821</td>\n",
              "      <td>L</td>\n",
              "    </tr>\n",
              "    <tr>\n",
              "      <th>9996</th>\n",
              "      <td>-0.479893</td>\n",
              "      <td>-0.650419</td>\n",
              "      <td>0.745152</td>\n",
              "      <td>-0.646038</td>\n",
              "      <td>E</td>\n",
              "    </tr>\n",
              "    <tr>\n",
              "      <th>9997</th>\n",
              "      <td>0.523331</td>\n",
              "      <td>0.787112</td>\n",
              "      <td>0.486066</td>\n",
              "      <td>1.093156</td>\n",
              "      <td>K</td>\n",
              "    </tr>\n",
              "    <tr>\n",
              "      <th>9998</th>\n",
              "      <td>-0.362559</td>\n",
              "      <td>0.598894</td>\n",
              "      <td>-1.843201</td>\n",
              "      <td>0.887292</td>\n",
              "      <td>G</td>\n",
              "    </tr>\n",
              "    <tr>\n",
              "      <th>9999</th>\n",
              "      <td>-0.096376</td>\n",
              "      <td>-1.012999</td>\n",
              "      <td>-0.657431</td>\n",
              "      <td>-0.573315</td>\n",
              "      <td>0</td>\n",
              "    </tr>\n",
              "  </tbody>\n",
              "</table>\n",
              "<p>10000 rows × 5 columns</p>\n",
              "</div>\n",
              "      <button class=\"colab-df-convert\" onclick=\"convertToInteractive('df-b15bbb57-b1dc-49af-963c-b04c314fc954')\"\n",
              "              title=\"Convert this dataframe to an interactive table.\"\n",
              "              style=\"display:none;\">\n",
              "\n",
              "  <svg xmlns=\"http://www.w3.org/2000/svg\" height=\"24px\"viewBox=\"0 0 24 24\"\n",
              "       width=\"24px\">\n",
              "    <path d=\"M0 0h24v24H0V0z\" fill=\"none\"/>\n",
              "    <path d=\"M18.56 5.44l.94 2.06.94-2.06 2.06-.94-2.06-.94-.94-2.06-.94 2.06-2.06.94zm-11 1L8.5 8.5l.94-2.06 2.06-.94-2.06-.94L8.5 2.5l-.94 2.06-2.06.94zm10 10l.94 2.06.94-2.06 2.06-.94-2.06-.94-.94-2.06-.94 2.06-2.06.94z\"/><path d=\"M17.41 7.96l-1.37-1.37c-.4-.4-.92-.59-1.43-.59-.52 0-1.04.2-1.43.59L10.3 9.45l-7.72 7.72c-.78.78-.78 2.05 0 2.83L4 21.41c.39.39.9.59 1.41.59.51 0 1.02-.2 1.41-.59l7.78-7.78 2.81-2.81c.8-.78.8-2.07 0-2.86zM5.41 20L4 18.59l7.72-7.72 1.47 1.35L5.41 20z\"/>\n",
              "  </svg>\n",
              "      </button>\n",
              "\n",
              "\n",
              "\n",
              "    <div id=\"df-6a60f039-a638-4b58-aba2-a18f9dcec1b2\">\n",
              "      <button class=\"colab-df-quickchart\" onclick=\"quickchart('df-6a60f039-a638-4b58-aba2-a18f9dcec1b2')\"\n",
              "              title=\"Suggest charts.\"\n",
              "              style=\"display:none;\">\n",
              "\n",
              "<svg xmlns=\"http://www.w3.org/2000/svg\" height=\"24px\"viewBox=\"0 0 24 24\"\n",
              "     width=\"24px\">\n",
              "    <g>\n",
              "        <path d=\"M19 3H5c-1.1 0-2 .9-2 2v14c0 1.1.9 2 2 2h14c1.1 0 2-.9 2-2V5c0-1.1-.9-2-2-2zM9 17H7v-7h2v7zm4 0h-2V7h2v10zm4 0h-2v-4h2v4z\"/>\n",
              "    </g>\n",
              "</svg>\n",
              "      </button>\n",
              "    </div>\n",
              "\n",
              "<style>\n",
              "  .colab-df-quickchart {\n",
              "    background-color: #E8F0FE;\n",
              "    border: none;\n",
              "    border-radius: 50%;\n",
              "    cursor: pointer;\n",
              "    display: none;\n",
              "    fill: #1967D2;\n",
              "    height: 32px;\n",
              "    padding: 0 0 0 0;\n",
              "    width: 32px;\n",
              "  }\n",
              "\n",
              "  .colab-df-quickchart:hover {\n",
              "    background-color: #E2EBFA;\n",
              "    box-shadow: 0px 1px 2px rgba(60, 64, 67, 0.3), 0px 1px 3px 1px rgba(60, 64, 67, 0.15);\n",
              "    fill: #174EA6;\n",
              "  }\n",
              "\n",
              "  [theme=dark] .colab-df-quickchart {\n",
              "    background-color: #3B4455;\n",
              "    fill: #D2E3FC;\n",
              "  }\n",
              "\n",
              "  [theme=dark] .colab-df-quickchart:hover {\n",
              "    background-color: #434B5C;\n",
              "    box-shadow: 0px 1px 3px 1px rgba(0, 0, 0, 0.15);\n",
              "    filter: drop-shadow(0px 1px 2px rgba(0, 0, 0, 0.3));\n",
              "    fill: #FFFFFF;\n",
              "  }\n",
              "</style>\n",
              "\n",
              "    <script>\n",
              "      async function quickchart(key) {\n",
              "        const containerElement = document.querySelector('#' + key);\n",
              "        const charts = await google.colab.kernel.invokeFunction(\n",
              "            'suggestCharts', [key], {});\n",
              "      }\n",
              "    </script>\n",
              "\n",
              "      <script>\n",
              "\n",
              "function displayQuickchartButton(domScope) {\n",
              "  let quickchartButtonEl =\n",
              "    domScope.querySelector('#df-6a60f039-a638-4b58-aba2-a18f9dcec1b2 button.colab-df-quickchart');\n",
              "  quickchartButtonEl.style.display =\n",
              "    google.colab.kernel.accessAllowed ? 'block' : 'none';\n",
              "}\n",
              "\n",
              "        displayQuickchartButton(document);\n",
              "      </script>\n",
              "      <style>\n",
              "    .colab-df-container {\n",
              "      display:flex;\n",
              "      flex-wrap:wrap;\n",
              "      gap: 12px;\n",
              "    }\n",
              "\n",
              "    .colab-df-convert {\n",
              "      background-color: #E8F0FE;\n",
              "      border: none;\n",
              "      border-radius: 50%;\n",
              "      cursor: pointer;\n",
              "      display: none;\n",
              "      fill: #1967D2;\n",
              "      height: 32px;\n",
              "      padding: 0 0 0 0;\n",
              "      width: 32px;\n",
              "    }\n",
              "\n",
              "    .colab-df-convert:hover {\n",
              "      background-color: #E2EBFA;\n",
              "      box-shadow: 0px 1px 2px rgba(60, 64, 67, 0.3), 0px 1px 3px 1px rgba(60, 64, 67, 0.15);\n",
              "      fill: #174EA6;\n",
              "    }\n",
              "\n",
              "    [theme=dark] .colab-df-convert {\n",
              "      background-color: #3B4455;\n",
              "      fill: #D2E3FC;\n",
              "    }\n",
              "\n",
              "    [theme=dark] .colab-df-convert:hover {\n",
              "      background-color: #434B5C;\n",
              "      box-shadow: 0px 1px 3px 1px rgba(0, 0, 0, 0.15);\n",
              "      filter: drop-shadow(0px 1px 2px rgba(0, 0, 0, 0.3));\n",
              "      fill: #FFFFFF;\n",
              "    }\n",
              "  </style>\n",
              "\n",
              "      <script>\n",
              "        const buttonEl =\n",
              "          document.querySelector('#df-b15bbb57-b1dc-49af-963c-b04c314fc954 button.colab-df-convert');\n",
              "        buttonEl.style.display =\n",
              "          google.colab.kernel.accessAllowed ? 'block' : 'none';\n",
              "\n",
              "        async function convertToInteractive(key) {\n",
              "          const element = document.querySelector('#df-b15bbb57-b1dc-49af-963c-b04c314fc954');\n",
              "          const dataTable =\n",
              "            await google.colab.kernel.invokeFunction('convertToInteractive',\n",
              "                                                     [key], {});\n",
              "          if (!dataTable) return;\n",
              "\n",
              "          const docLinkHtml = 'Like what you see? Visit the ' +\n",
              "            '<a target=\"_blank\" href=https://colab.research.google.com/notebooks/data_table.ipynb>data table notebook</a>'\n",
              "            + ' to learn more about interactive tables.';\n",
              "          element.innerHTML = '';\n",
              "          dataTable['output_type'] = 'display_data';\n",
              "          await google.colab.output.renderOutput(dataTable, element);\n",
              "          const docLink = document.createElement('div');\n",
              "          docLink.innerHTML = docLinkHtml;\n",
              "          element.appendChild(docLink);\n",
              "        }\n",
              "      </script>\n",
              "    </div>\n",
              "  </div>\n"
            ]
          },
          "metadata": {},
          "execution_count": 15
        }
      ]
    },
    {
      "cell_type": "code",
      "source": [
        "df.head()"
      ],
      "metadata": {
        "colab": {
          "base_uri": "https://localhost:8080/",
          "height": 206
        },
        "id": "IOG9nWXU4uWb",
        "outputId": "ebe8d352-4e56-4732-dc23-4f03415646f7"
      },
      "execution_count": null,
      "outputs": [
        {
          "output_type": "execute_result",
          "data": {
            "text/plain": [
              "        one       two     three      four key\n",
              "0  0.467976 -0.038649 -0.295344 -1.824726   L\n",
              "1 -0.358893  1.404453  0.704965 -0.200638   B\n",
              "2 -0.501840  0.659254 -0.421691 -0.057688   G\n",
              "3  0.204886  1.074134  1.388361 -0.982404   R\n",
              "4  0.354628 -0.133116  0.283763 -0.837063   Q"
            ],
            "text/html": [
              "\n",
              "\n",
              "  <div id=\"df-e5f8d5a6-91a7-4e86-bedf-c9422df3d12b\">\n",
              "    <div class=\"colab-df-container\">\n",
              "      <div>\n",
              "<style scoped>\n",
              "    .dataframe tbody tr th:only-of-type {\n",
              "        vertical-align: middle;\n",
              "    }\n",
              "\n",
              "    .dataframe tbody tr th {\n",
              "        vertical-align: top;\n",
              "    }\n",
              "\n",
              "    .dataframe thead th {\n",
              "        text-align: right;\n",
              "    }\n",
              "</style>\n",
              "<table border=\"1\" class=\"dataframe\">\n",
              "  <thead>\n",
              "    <tr style=\"text-align: right;\">\n",
              "      <th></th>\n",
              "      <th>one</th>\n",
              "      <th>two</th>\n",
              "      <th>three</th>\n",
              "      <th>four</th>\n",
              "      <th>key</th>\n",
              "    </tr>\n",
              "  </thead>\n",
              "  <tbody>\n",
              "    <tr>\n",
              "      <th>0</th>\n",
              "      <td>0.467976</td>\n",
              "      <td>-0.038649</td>\n",
              "      <td>-0.295344</td>\n",
              "      <td>-1.824726</td>\n",
              "      <td>L</td>\n",
              "    </tr>\n",
              "    <tr>\n",
              "      <th>1</th>\n",
              "      <td>-0.358893</td>\n",
              "      <td>1.404453</td>\n",
              "      <td>0.704965</td>\n",
              "      <td>-0.200638</td>\n",
              "      <td>B</td>\n",
              "    </tr>\n",
              "    <tr>\n",
              "      <th>2</th>\n",
              "      <td>-0.501840</td>\n",
              "      <td>0.659254</td>\n",
              "      <td>-0.421691</td>\n",
              "      <td>-0.057688</td>\n",
              "      <td>G</td>\n",
              "    </tr>\n",
              "    <tr>\n",
              "      <th>3</th>\n",
              "      <td>0.204886</td>\n",
              "      <td>1.074134</td>\n",
              "      <td>1.388361</td>\n",
              "      <td>-0.982404</td>\n",
              "      <td>R</td>\n",
              "    </tr>\n",
              "    <tr>\n",
              "      <th>4</th>\n",
              "      <td>0.354628</td>\n",
              "      <td>-0.133116</td>\n",
              "      <td>0.283763</td>\n",
              "      <td>-0.837063</td>\n",
              "      <td>Q</td>\n",
              "    </tr>\n",
              "  </tbody>\n",
              "</table>\n",
              "</div>\n",
              "      <button class=\"colab-df-convert\" onclick=\"convertToInteractive('df-e5f8d5a6-91a7-4e86-bedf-c9422df3d12b')\"\n",
              "              title=\"Convert this dataframe to an interactive table.\"\n",
              "              style=\"display:none;\">\n",
              "\n",
              "  <svg xmlns=\"http://www.w3.org/2000/svg\" height=\"24px\"viewBox=\"0 0 24 24\"\n",
              "       width=\"24px\">\n",
              "    <path d=\"M0 0h24v24H0V0z\" fill=\"none\"/>\n",
              "    <path d=\"M18.56 5.44l.94 2.06.94-2.06 2.06-.94-2.06-.94-.94-2.06-.94 2.06-2.06.94zm-11 1L8.5 8.5l.94-2.06 2.06-.94-2.06-.94L8.5 2.5l-.94 2.06-2.06.94zm10 10l.94 2.06.94-2.06 2.06-.94-2.06-.94-.94-2.06-.94 2.06-2.06.94z\"/><path d=\"M17.41 7.96l-1.37-1.37c-.4-.4-.92-.59-1.43-.59-.52 0-1.04.2-1.43.59L10.3 9.45l-7.72 7.72c-.78.78-.78 2.05 0 2.83L4 21.41c.39.39.9.59 1.41.59.51 0 1.02-.2 1.41-.59l7.78-7.78 2.81-2.81c.8-.78.8-2.07 0-2.86zM5.41 20L4 18.59l7.72-7.72 1.47 1.35L5.41 20z\"/>\n",
              "  </svg>\n",
              "      </button>\n",
              "\n",
              "\n",
              "\n",
              "    <div id=\"df-553c19da-521b-4d8f-9a1b-409ea3db1ae7\">\n",
              "      <button class=\"colab-df-quickchart\" onclick=\"quickchart('df-553c19da-521b-4d8f-9a1b-409ea3db1ae7')\"\n",
              "              title=\"Suggest charts.\"\n",
              "              style=\"display:none;\">\n",
              "\n",
              "<svg xmlns=\"http://www.w3.org/2000/svg\" height=\"24px\"viewBox=\"0 0 24 24\"\n",
              "     width=\"24px\">\n",
              "    <g>\n",
              "        <path d=\"M19 3H5c-1.1 0-2 .9-2 2v14c0 1.1.9 2 2 2h14c1.1 0 2-.9 2-2V5c0-1.1-.9-2-2-2zM9 17H7v-7h2v7zm4 0h-2V7h2v10zm4 0h-2v-4h2v4z\"/>\n",
              "    </g>\n",
              "</svg>\n",
              "      </button>\n",
              "    </div>\n",
              "\n",
              "<style>\n",
              "  .colab-df-quickchart {\n",
              "    background-color: #E8F0FE;\n",
              "    border: none;\n",
              "    border-radius: 50%;\n",
              "    cursor: pointer;\n",
              "    display: none;\n",
              "    fill: #1967D2;\n",
              "    height: 32px;\n",
              "    padding: 0 0 0 0;\n",
              "    width: 32px;\n",
              "  }\n",
              "\n",
              "  .colab-df-quickchart:hover {\n",
              "    background-color: #E2EBFA;\n",
              "    box-shadow: 0px 1px 2px rgba(60, 64, 67, 0.3), 0px 1px 3px 1px rgba(60, 64, 67, 0.15);\n",
              "    fill: #174EA6;\n",
              "  }\n",
              "\n",
              "  [theme=dark] .colab-df-quickchart {\n",
              "    background-color: #3B4455;\n",
              "    fill: #D2E3FC;\n",
              "  }\n",
              "\n",
              "  [theme=dark] .colab-df-quickchart:hover {\n",
              "    background-color: #434B5C;\n",
              "    box-shadow: 0px 1px 3px 1px rgba(0, 0, 0, 0.15);\n",
              "    filter: drop-shadow(0px 1px 2px rgba(0, 0, 0, 0.3));\n",
              "    fill: #FFFFFF;\n",
              "  }\n",
              "</style>\n",
              "\n",
              "    <script>\n",
              "      async function quickchart(key) {\n",
              "        const containerElement = document.querySelector('#' + key);\n",
              "        const charts = await google.colab.kernel.invokeFunction(\n",
              "            'suggestCharts', [key], {});\n",
              "      }\n",
              "    </script>\n",
              "\n",
              "      <script>\n",
              "\n",
              "function displayQuickchartButton(domScope) {\n",
              "  let quickchartButtonEl =\n",
              "    domScope.querySelector('#df-553c19da-521b-4d8f-9a1b-409ea3db1ae7 button.colab-df-quickchart');\n",
              "  quickchartButtonEl.style.display =\n",
              "    google.colab.kernel.accessAllowed ? 'block' : 'none';\n",
              "}\n",
              "\n",
              "        displayQuickchartButton(document);\n",
              "      </script>\n",
              "      <style>\n",
              "    .colab-df-container {\n",
              "      display:flex;\n",
              "      flex-wrap:wrap;\n",
              "      gap: 12px;\n",
              "    }\n",
              "\n",
              "    .colab-df-convert {\n",
              "      background-color: #E8F0FE;\n",
              "      border: none;\n",
              "      border-radius: 50%;\n",
              "      cursor: pointer;\n",
              "      display: none;\n",
              "      fill: #1967D2;\n",
              "      height: 32px;\n",
              "      padding: 0 0 0 0;\n",
              "      width: 32px;\n",
              "    }\n",
              "\n",
              "    .colab-df-convert:hover {\n",
              "      background-color: #E2EBFA;\n",
              "      box-shadow: 0px 1px 2px rgba(60, 64, 67, 0.3), 0px 1px 3px 1px rgba(60, 64, 67, 0.15);\n",
              "      fill: #174EA6;\n",
              "    }\n",
              "\n",
              "    [theme=dark] .colab-df-convert {\n",
              "      background-color: #3B4455;\n",
              "      fill: #D2E3FC;\n",
              "    }\n",
              "\n",
              "    [theme=dark] .colab-df-convert:hover {\n",
              "      background-color: #434B5C;\n",
              "      box-shadow: 0px 1px 3px 1px rgba(0, 0, 0, 0.15);\n",
              "      filter: drop-shadow(0px 1px 2px rgba(0, 0, 0, 0.3));\n",
              "      fill: #FFFFFF;\n",
              "    }\n",
              "  </style>\n",
              "\n",
              "      <script>\n",
              "        const buttonEl =\n",
              "          document.querySelector('#df-e5f8d5a6-91a7-4e86-bedf-c9422df3d12b button.colab-df-convert');\n",
              "        buttonEl.style.display =\n",
              "          google.colab.kernel.accessAllowed ? 'block' : 'none';\n",
              "\n",
              "        async function convertToInteractive(key) {\n",
              "          const element = document.querySelector('#df-e5f8d5a6-91a7-4e86-bedf-c9422df3d12b');\n",
              "          const dataTable =\n",
              "            await google.colab.kernel.invokeFunction('convertToInteractive',\n",
              "                                                     [key], {});\n",
              "          if (!dataTable) return;\n",
              "\n",
              "          const docLinkHtml = 'Like what you see? Visit the ' +\n",
              "            '<a target=\"_blank\" href=https://colab.research.google.com/notebooks/data_table.ipynb>data table notebook</a>'\n",
              "            + ' to learn more about interactive tables.';\n",
              "          element.innerHTML = '';\n",
              "          dataTable['output_type'] = 'display_data';\n",
              "          await google.colab.output.renderOutput(dataTable, element);\n",
              "          const docLink = document.createElement('div');\n",
              "          docLink.innerHTML = docLinkHtml;\n",
              "          element.appendChild(docLink);\n",
              "        }\n",
              "      </script>\n",
              "    </div>\n",
              "  </div>\n"
            ]
          },
          "metadata": {},
          "execution_count": 16
        }
      ]
    },
    {
      "cell_type": "code",
      "source": [
        "df.tail()"
      ],
      "metadata": {
        "colab": {
          "base_uri": "https://localhost:8080/",
          "height": 206
        },
        "id": "3Q78Kenp4zFa",
        "outputId": "e46dbbcf-9c4a-4cc1-d65c-ff1eafacab8e"
      },
      "execution_count": null,
      "outputs": [
        {
          "output_type": "execute_result",
          "data": {
            "text/plain": [
              "           one       two     three      four key\n",
              "9995  2.311896 -0.417070 -1.409599 -0.515821   L\n",
              "9996 -0.479893 -0.650419  0.745152 -0.646038   E\n",
              "9997  0.523331  0.787112  0.486066  1.093156   K\n",
              "9998 -0.362559  0.598894 -1.843201  0.887292   G\n",
              "9999 -0.096376 -1.012999 -0.657431 -0.573315   0"
            ],
            "text/html": [
              "\n",
              "\n",
              "  <div id=\"df-83dc6762-f390-48d4-8961-3337c61bfd2d\">\n",
              "    <div class=\"colab-df-container\">\n",
              "      <div>\n",
              "<style scoped>\n",
              "    .dataframe tbody tr th:only-of-type {\n",
              "        vertical-align: middle;\n",
              "    }\n",
              "\n",
              "    .dataframe tbody tr th {\n",
              "        vertical-align: top;\n",
              "    }\n",
              "\n",
              "    .dataframe thead th {\n",
              "        text-align: right;\n",
              "    }\n",
              "</style>\n",
              "<table border=\"1\" class=\"dataframe\">\n",
              "  <thead>\n",
              "    <tr style=\"text-align: right;\">\n",
              "      <th></th>\n",
              "      <th>one</th>\n",
              "      <th>two</th>\n",
              "      <th>three</th>\n",
              "      <th>four</th>\n",
              "      <th>key</th>\n",
              "    </tr>\n",
              "  </thead>\n",
              "  <tbody>\n",
              "    <tr>\n",
              "      <th>9995</th>\n",
              "      <td>2.311896</td>\n",
              "      <td>-0.417070</td>\n",
              "      <td>-1.409599</td>\n",
              "      <td>-0.515821</td>\n",
              "      <td>L</td>\n",
              "    </tr>\n",
              "    <tr>\n",
              "      <th>9996</th>\n",
              "      <td>-0.479893</td>\n",
              "      <td>-0.650419</td>\n",
              "      <td>0.745152</td>\n",
              "      <td>-0.646038</td>\n",
              "      <td>E</td>\n",
              "    </tr>\n",
              "    <tr>\n",
              "      <th>9997</th>\n",
              "      <td>0.523331</td>\n",
              "      <td>0.787112</td>\n",
              "      <td>0.486066</td>\n",
              "      <td>1.093156</td>\n",
              "      <td>K</td>\n",
              "    </tr>\n",
              "    <tr>\n",
              "      <th>9998</th>\n",
              "      <td>-0.362559</td>\n",
              "      <td>0.598894</td>\n",
              "      <td>-1.843201</td>\n",
              "      <td>0.887292</td>\n",
              "      <td>G</td>\n",
              "    </tr>\n",
              "    <tr>\n",
              "      <th>9999</th>\n",
              "      <td>-0.096376</td>\n",
              "      <td>-1.012999</td>\n",
              "      <td>-0.657431</td>\n",
              "      <td>-0.573315</td>\n",
              "      <td>0</td>\n",
              "    </tr>\n",
              "  </tbody>\n",
              "</table>\n",
              "</div>\n",
              "      <button class=\"colab-df-convert\" onclick=\"convertToInteractive('df-83dc6762-f390-48d4-8961-3337c61bfd2d')\"\n",
              "              title=\"Convert this dataframe to an interactive table.\"\n",
              "              style=\"display:none;\">\n",
              "\n",
              "  <svg xmlns=\"http://www.w3.org/2000/svg\" height=\"24px\"viewBox=\"0 0 24 24\"\n",
              "       width=\"24px\">\n",
              "    <path d=\"M0 0h24v24H0V0z\" fill=\"none\"/>\n",
              "    <path d=\"M18.56 5.44l.94 2.06.94-2.06 2.06-.94-2.06-.94-.94-2.06-.94 2.06-2.06.94zm-11 1L8.5 8.5l.94-2.06 2.06-.94-2.06-.94L8.5 2.5l-.94 2.06-2.06.94zm10 10l.94 2.06.94-2.06 2.06-.94-2.06-.94-.94-2.06-.94 2.06-2.06.94z\"/><path d=\"M17.41 7.96l-1.37-1.37c-.4-.4-.92-.59-1.43-.59-.52 0-1.04.2-1.43.59L10.3 9.45l-7.72 7.72c-.78.78-.78 2.05 0 2.83L4 21.41c.39.39.9.59 1.41.59.51 0 1.02-.2 1.41-.59l7.78-7.78 2.81-2.81c.8-.78.8-2.07 0-2.86zM5.41 20L4 18.59l7.72-7.72 1.47 1.35L5.41 20z\"/>\n",
              "  </svg>\n",
              "      </button>\n",
              "\n",
              "\n",
              "\n",
              "    <div id=\"df-1cd6d58b-fa77-4fe5-8633-a709bfc11a98\">\n",
              "      <button class=\"colab-df-quickchart\" onclick=\"quickchart('df-1cd6d58b-fa77-4fe5-8633-a709bfc11a98')\"\n",
              "              title=\"Suggest charts.\"\n",
              "              style=\"display:none;\">\n",
              "\n",
              "<svg xmlns=\"http://www.w3.org/2000/svg\" height=\"24px\"viewBox=\"0 0 24 24\"\n",
              "     width=\"24px\">\n",
              "    <g>\n",
              "        <path d=\"M19 3H5c-1.1 0-2 .9-2 2v14c0 1.1.9 2 2 2h14c1.1 0 2-.9 2-2V5c0-1.1-.9-2-2-2zM9 17H7v-7h2v7zm4 0h-2V7h2v10zm4 0h-2v-4h2v4z\"/>\n",
              "    </g>\n",
              "</svg>\n",
              "      </button>\n",
              "    </div>\n",
              "\n",
              "<style>\n",
              "  .colab-df-quickchart {\n",
              "    background-color: #E8F0FE;\n",
              "    border: none;\n",
              "    border-radius: 50%;\n",
              "    cursor: pointer;\n",
              "    display: none;\n",
              "    fill: #1967D2;\n",
              "    height: 32px;\n",
              "    padding: 0 0 0 0;\n",
              "    width: 32px;\n",
              "  }\n",
              "\n",
              "  .colab-df-quickchart:hover {\n",
              "    background-color: #E2EBFA;\n",
              "    box-shadow: 0px 1px 2px rgba(60, 64, 67, 0.3), 0px 1px 3px 1px rgba(60, 64, 67, 0.15);\n",
              "    fill: #174EA6;\n",
              "  }\n",
              "\n",
              "  [theme=dark] .colab-df-quickchart {\n",
              "    background-color: #3B4455;\n",
              "    fill: #D2E3FC;\n",
              "  }\n",
              "\n",
              "  [theme=dark] .colab-df-quickchart:hover {\n",
              "    background-color: #434B5C;\n",
              "    box-shadow: 0px 1px 3px 1px rgba(0, 0, 0, 0.15);\n",
              "    filter: drop-shadow(0px 1px 2px rgba(0, 0, 0, 0.3));\n",
              "    fill: #FFFFFF;\n",
              "  }\n",
              "</style>\n",
              "\n",
              "    <script>\n",
              "      async function quickchart(key) {\n",
              "        const containerElement = document.querySelector('#' + key);\n",
              "        const charts = await google.colab.kernel.invokeFunction(\n",
              "            'suggestCharts', [key], {});\n",
              "      }\n",
              "    </script>\n",
              "\n",
              "      <script>\n",
              "\n",
              "function displayQuickchartButton(domScope) {\n",
              "  let quickchartButtonEl =\n",
              "    domScope.querySelector('#df-1cd6d58b-fa77-4fe5-8633-a709bfc11a98 button.colab-df-quickchart');\n",
              "  quickchartButtonEl.style.display =\n",
              "    google.colab.kernel.accessAllowed ? 'block' : 'none';\n",
              "}\n",
              "\n",
              "        displayQuickchartButton(document);\n",
              "      </script>\n",
              "      <style>\n",
              "    .colab-df-container {\n",
              "      display:flex;\n",
              "      flex-wrap:wrap;\n",
              "      gap: 12px;\n",
              "    }\n",
              "\n",
              "    .colab-df-convert {\n",
              "      background-color: #E8F0FE;\n",
              "      border: none;\n",
              "      border-radius: 50%;\n",
              "      cursor: pointer;\n",
              "      display: none;\n",
              "      fill: #1967D2;\n",
              "      height: 32px;\n",
              "      padding: 0 0 0 0;\n",
              "      width: 32px;\n",
              "    }\n",
              "\n",
              "    .colab-df-convert:hover {\n",
              "      background-color: #E2EBFA;\n",
              "      box-shadow: 0px 1px 2px rgba(60, 64, 67, 0.3), 0px 1px 3px 1px rgba(60, 64, 67, 0.15);\n",
              "      fill: #174EA6;\n",
              "    }\n",
              "\n",
              "    [theme=dark] .colab-df-convert {\n",
              "      background-color: #3B4455;\n",
              "      fill: #D2E3FC;\n",
              "    }\n",
              "\n",
              "    [theme=dark] .colab-df-convert:hover {\n",
              "      background-color: #434B5C;\n",
              "      box-shadow: 0px 1px 3px 1px rgba(0, 0, 0, 0.15);\n",
              "      filter: drop-shadow(0px 1px 2px rgba(0, 0, 0, 0.3));\n",
              "      fill: #FFFFFF;\n",
              "    }\n",
              "  </style>\n",
              "\n",
              "      <script>\n",
              "        const buttonEl =\n",
              "          document.querySelector('#df-83dc6762-f390-48d4-8961-3337c61bfd2d button.colab-df-convert');\n",
              "        buttonEl.style.display =\n",
              "          google.colab.kernel.accessAllowed ? 'block' : 'none';\n",
              "\n",
              "        async function convertToInteractive(key) {\n",
              "          const element = document.querySelector('#df-83dc6762-f390-48d4-8961-3337c61bfd2d');\n",
              "          const dataTable =\n",
              "            await google.colab.kernel.invokeFunction('convertToInteractive',\n",
              "                                                     [key], {});\n",
              "          if (!dataTable) return;\n",
              "\n",
              "          const docLinkHtml = 'Like what you see? Visit the ' +\n",
              "            '<a target=\"_blank\" href=https://colab.research.google.com/notebooks/data_table.ipynb>data table notebook</a>'\n",
              "            + ' to learn more about interactive tables.';\n",
              "          element.innerHTML = '';\n",
              "          dataTable['output_type'] = 'display_data';\n",
              "          await google.colab.output.renderOutput(dataTable, element);\n",
              "          const docLink = document.createElement('div');\n",
              "          docLink.innerHTML = docLinkHtml;\n",
              "          element.appendChild(docLink);\n",
              "        }\n",
              "      </script>\n",
              "    </div>\n",
              "  </div>\n"
            ]
          },
          "metadata": {},
          "execution_count": 17
        }
      ]
    },
    {
      "cell_type": "code",
      "source": [
        "df.info()"
      ],
      "metadata": {
        "colab": {
          "base_uri": "https://localhost:8080/"
        },
        "id": "P4aomYDi41P-",
        "outputId": "c4654f18-3ee0-4723-b13b-7992746b3d48"
      },
      "execution_count": null,
      "outputs": [
        {
          "output_type": "stream",
          "name": "stdout",
          "text": [
            "<class 'pandas.core.frame.DataFrame'>\n",
            "RangeIndex: 10000 entries, 0 to 9999\n",
            "Data columns (total 5 columns):\n",
            " #   Column  Non-Null Count  Dtype  \n",
            "---  ------  --------------  -----  \n",
            " 0   one     10000 non-null  float64\n",
            " 1   two     10000 non-null  float64\n",
            " 2   three   10000 non-null  float64\n",
            " 3   four    10000 non-null  float64\n",
            " 4   key     10000 non-null  object \n",
            "dtypes: float64(4), object(1)\n",
            "memory usage: 390.8+ KB\n"
          ]
        }
      ]
    },
    {
      "cell_type": "code",
      "source": [
        "df.describe()"
      ],
      "metadata": {
        "colab": {
          "base_uri": "https://localhost:8080/",
          "height": 300
        },
        "id": "4JwoxMsh49Ch",
        "outputId": "ae95ce23-f1c2-4c4f-de63-e3c051ea2849"
      },
      "execution_count": null,
      "outputs": [
        {
          "output_type": "execute_result",
          "data": {
            "text/plain": [
              "                one           two         three          four\n",
              "count  10000.000000  10000.000000  10000.000000  10000.000000\n",
              "mean       0.045750      0.000871     -0.026463      0.015985\n",
              "std        0.948825      1.003829      1.037273      0.982409\n",
              "min       -3.726864     -3.465356     -3.234391     -3.173509\n",
              "25%       -0.618617     -0.706643     -0.727791     -0.676291\n",
              "50%        0.041638      0.018972     -0.032340     -0.005338\n",
              "75%        0.701536      0.708405      0.626904      0.659369\n",
              "max        2.833891      2.946737      3.053345      3.412734"
            ],
            "text/html": [
              "\n",
              "\n",
              "  <div id=\"df-966c5914-c1eb-4c23-957c-da71ed56e484\">\n",
              "    <div class=\"colab-df-container\">\n",
              "      <div>\n",
              "<style scoped>\n",
              "    .dataframe tbody tr th:only-of-type {\n",
              "        vertical-align: middle;\n",
              "    }\n",
              "\n",
              "    .dataframe tbody tr th {\n",
              "        vertical-align: top;\n",
              "    }\n",
              "\n",
              "    .dataframe thead th {\n",
              "        text-align: right;\n",
              "    }\n",
              "</style>\n",
              "<table border=\"1\" class=\"dataframe\">\n",
              "  <thead>\n",
              "    <tr style=\"text-align: right;\">\n",
              "      <th></th>\n",
              "      <th>one</th>\n",
              "      <th>two</th>\n",
              "      <th>three</th>\n",
              "      <th>four</th>\n",
              "    </tr>\n",
              "  </thead>\n",
              "  <tbody>\n",
              "    <tr>\n",
              "      <th>count</th>\n",
              "      <td>10000.000000</td>\n",
              "      <td>10000.000000</td>\n",
              "      <td>10000.000000</td>\n",
              "      <td>10000.000000</td>\n",
              "    </tr>\n",
              "    <tr>\n",
              "      <th>mean</th>\n",
              "      <td>0.045750</td>\n",
              "      <td>0.000871</td>\n",
              "      <td>-0.026463</td>\n",
              "      <td>0.015985</td>\n",
              "    </tr>\n",
              "    <tr>\n",
              "      <th>std</th>\n",
              "      <td>0.948825</td>\n",
              "      <td>1.003829</td>\n",
              "      <td>1.037273</td>\n",
              "      <td>0.982409</td>\n",
              "    </tr>\n",
              "    <tr>\n",
              "      <th>min</th>\n",
              "      <td>-3.726864</td>\n",
              "      <td>-3.465356</td>\n",
              "      <td>-3.234391</td>\n",
              "      <td>-3.173509</td>\n",
              "    </tr>\n",
              "    <tr>\n",
              "      <th>25%</th>\n",
              "      <td>-0.618617</td>\n",
              "      <td>-0.706643</td>\n",
              "      <td>-0.727791</td>\n",
              "      <td>-0.676291</td>\n",
              "    </tr>\n",
              "    <tr>\n",
              "      <th>50%</th>\n",
              "      <td>0.041638</td>\n",
              "      <td>0.018972</td>\n",
              "      <td>-0.032340</td>\n",
              "      <td>-0.005338</td>\n",
              "    </tr>\n",
              "    <tr>\n",
              "      <th>75%</th>\n",
              "      <td>0.701536</td>\n",
              "      <td>0.708405</td>\n",
              "      <td>0.626904</td>\n",
              "      <td>0.659369</td>\n",
              "    </tr>\n",
              "    <tr>\n",
              "      <th>max</th>\n",
              "      <td>2.833891</td>\n",
              "      <td>2.946737</td>\n",
              "      <td>3.053345</td>\n",
              "      <td>3.412734</td>\n",
              "    </tr>\n",
              "  </tbody>\n",
              "</table>\n",
              "</div>\n",
              "      <button class=\"colab-df-convert\" onclick=\"convertToInteractive('df-966c5914-c1eb-4c23-957c-da71ed56e484')\"\n",
              "              title=\"Convert this dataframe to an interactive table.\"\n",
              "              style=\"display:none;\">\n",
              "\n",
              "  <svg xmlns=\"http://www.w3.org/2000/svg\" height=\"24px\"viewBox=\"0 0 24 24\"\n",
              "       width=\"24px\">\n",
              "    <path d=\"M0 0h24v24H0V0z\" fill=\"none\"/>\n",
              "    <path d=\"M18.56 5.44l.94 2.06.94-2.06 2.06-.94-2.06-.94-.94-2.06-.94 2.06-2.06.94zm-11 1L8.5 8.5l.94-2.06 2.06-.94-2.06-.94L8.5 2.5l-.94 2.06-2.06.94zm10 10l.94 2.06.94-2.06 2.06-.94-2.06-.94-.94-2.06-.94 2.06-2.06.94z\"/><path d=\"M17.41 7.96l-1.37-1.37c-.4-.4-.92-.59-1.43-.59-.52 0-1.04.2-1.43.59L10.3 9.45l-7.72 7.72c-.78.78-.78 2.05 0 2.83L4 21.41c.39.39.9.59 1.41.59.51 0 1.02-.2 1.41-.59l7.78-7.78 2.81-2.81c.8-.78.8-2.07 0-2.86zM5.41 20L4 18.59l7.72-7.72 1.47 1.35L5.41 20z\"/>\n",
              "  </svg>\n",
              "      </button>\n",
              "\n",
              "\n",
              "\n",
              "    <div id=\"df-2fa9768a-b18a-45d1-bd98-9aa7b856e0e5\">\n",
              "      <button class=\"colab-df-quickchart\" onclick=\"quickchart('df-2fa9768a-b18a-45d1-bd98-9aa7b856e0e5')\"\n",
              "              title=\"Suggest charts.\"\n",
              "              style=\"display:none;\">\n",
              "\n",
              "<svg xmlns=\"http://www.w3.org/2000/svg\" height=\"24px\"viewBox=\"0 0 24 24\"\n",
              "     width=\"24px\">\n",
              "    <g>\n",
              "        <path d=\"M19 3H5c-1.1 0-2 .9-2 2v14c0 1.1.9 2 2 2h14c1.1 0 2-.9 2-2V5c0-1.1-.9-2-2-2zM9 17H7v-7h2v7zm4 0h-2V7h2v10zm4 0h-2v-4h2v4z\"/>\n",
              "    </g>\n",
              "</svg>\n",
              "      </button>\n",
              "    </div>\n",
              "\n",
              "<style>\n",
              "  .colab-df-quickchart {\n",
              "    background-color: #E8F0FE;\n",
              "    border: none;\n",
              "    border-radius: 50%;\n",
              "    cursor: pointer;\n",
              "    display: none;\n",
              "    fill: #1967D2;\n",
              "    height: 32px;\n",
              "    padding: 0 0 0 0;\n",
              "    width: 32px;\n",
              "  }\n",
              "\n",
              "  .colab-df-quickchart:hover {\n",
              "    background-color: #E2EBFA;\n",
              "    box-shadow: 0px 1px 2px rgba(60, 64, 67, 0.3), 0px 1px 3px 1px rgba(60, 64, 67, 0.15);\n",
              "    fill: #174EA6;\n",
              "  }\n",
              "\n",
              "  [theme=dark] .colab-df-quickchart {\n",
              "    background-color: #3B4455;\n",
              "    fill: #D2E3FC;\n",
              "  }\n",
              "\n",
              "  [theme=dark] .colab-df-quickchart:hover {\n",
              "    background-color: #434B5C;\n",
              "    box-shadow: 0px 1px 3px 1px rgba(0, 0, 0, 0.15);\n",
              "    filter: drop-shadow(0px 1px 2px rgba(0, 0, 0, 0.3));\n",
              "    fill: #FFFFFF;\n",
              "  }\n",
              "</style>\n",
              "\n",
              "    <script>\n",
              "      async function quickchart(key) {\n",
              "        const containerElement = document.querySelector('#' + key);\n",
              "        const charts = await google.colab.kernel.invokeFunction(\n",
              "            'suggestCharts', [key], {});\n",
              "      }\n",
              "    </script>\n",
              "\n",
              "      <script>\n",
              "\n",
              "function displayQuickchartButton(domScope) {\n",
              "  let quickchartButtonEl =\n",
              "    domScope.querySelector('#df-2fa9768a-b18a-45d1-bd98-9aa7b856e0e5 button.colab-df-quickchart');\n",
              "  quickchartButtonEl.style.display =\n",
              "    google.colab.kernel.accessAllowed ? 'block' : 'none';\n",
              "}\n",
              "\n",
              "        displayQuickchartButton(document);\n",
              "      </script>\n",
              "      <style>\n",
              "    .colab-df-container {\n",
              "      display:flex;\n",
              "      flex-wrap:wrap;\n",
              "      gap: 12px;\n",
              "    }\n",
              "\n",
              "    .colab-df-convert {\n",
              "      background-color: #E8F0FE;\n",
              "      border: none;\n",
              "      border-radius: 50%;\n",
              "      cursor: pointer;\n",
              "      display: none;\n",
              "      fill: #1967D2;\n",
              "      height: 32px;\n",
              "      padding: 0 0 0 0;\n",
              "      width: 32px;\n",
              "    }\n",
              "\n",
              "    .colab-df-convert:hover {\n",
              "      background-color: #E2EBFA;\n",
              "      box-shadow: 0px 1px 2px rgba(60, 64, 67, 0.3), 0px 1px 3px 1px rgba(60, 64, 67, 0.15);\n",
              "      fill: #174EA6;\n",
              "    }\n",
              "\n",
              "    [theme=dark] .colab-df-convert {\n",
              "      background-color: #3B4455;\n",
              "      fill: #D2E3FC;\n",
              "    }\n",
              "\n",
              "    [theme=dark] .colab-df-convert:hover {\n",
              "      background-color: #434B5C;\n",
              "      box-shadow: 0px 1px 3px 1px rgba(0, 0, 0, 0.15);\n",
              "      filter: drop-shadow(0px 1px 2px rgba(0, 0, 0, 0.3));\n",
              "      fill: #FFFFFF;\n",
              "    }\n",
              "  </style>\n",
              "\n",
              "      <script>\n",
              "        const buttonEl =\n",
              "          document.querySelector('#df-966c5914-c1eb-4c23-957c-da71ed56e484 button.colab-df-convert');\n",
              "        buttonEl.style.display =\n",
              "          google.colab.kernel.accessAllowed ? 'block' : 'none';\n",
              "\n",
              "        async function convertToInteractive(key) {\n",
              "          const element = document.querySelector('#df-966c5914-c1eb-4c23-957c-da71ed56e484');\n",
              "          const dataTable =\n",
              "            await google.colab.kernel.invokeFunction('convertToInteractive',\n",
              "                                                     [key], {});\n",
              "          if (!dataTable) return;\n",
              "\n",
              "          const docLinkHtml = 'Like what you see? Visit the ' +\n",
              "            '<a target=\"_blank\" href=https://colab.research.google.com/notebooks/data_table.ipynb>data table notebook</a>'\n",
              "            + ' to learn more about interactive tables.';\n",
              "          element.innerHTML = '';\n",
              "          dataTable['output_type'] = 'display_data';\n",
              "          await google.colab.output.renderOutput(dataTable, element);\n",
              "          const docLink = document.createElement('div');\n",
              "          docLink.innerHTML = docLinkHtml;\n",
              "          element.appendChild(docLink);\n",
              "        }\n",
              "      </script>\n",
              "    </div>\n",
              "  </div>\n"
            ]
          },
          "metadata": {},
          "execution_count": 19
        }
      ]
    },
    {
      "cell_type": "code",
      "source": [
        "df = pd.read_csv('./ex5.csv')"
      ],
      "metadata": {
        "id": "ZMjqAdMd5Kwt"
      },
      "execution_count": null,
      "outputs": []
    },
    {
      "cell_type": "code",
      "source": [
        "df"
      ],
      "metadata": {
        "colab": {
          "base_uri": "https://localhost:8080/",
          "height": 143
        },
        "id": "3QmfyK_B5ZSP",
        "outputId": "96bbe028-047d-4adf-e050-53eca6bcb167"
      },
      "execution_count": null,
      "outputs": [
        {
          "output_type": "execute_result",
          "data": {
            "text/plain": [
              "  something  a   b     c   d message\n",
              "0       one  1   2   3.0   4     NaN\n",
              "1       two  5   6   NaN   8   world\n",
              "2     three  9  10  11.0  12     foo"
            ],
            "text/html": [
              "\n",
              "\n",
              "  <div id=\"df-e8c9ec87-38eb-4c8f-acda-09c86b508f76\">\n",
              "    <div class=\"colab-df-container\">\n",
              "      <div>\n",
              "<style scoped>\n",
              "    .dataframe tbody tr th:only-of-type {\n",
              "        vertical-align: middle;\n",
              "    }\n",
              "\n",
              "    .dataframe tbody tr th {\n",
              "        vertical-align: top;\n",
              "    }\n",
              "\n",
              "    .dataframe thead th {\n",
              "        text-align: right;\n",
              "    }\n",
              "</style>\n",
              "<table border=\"1\" class=\"dataframe\">\n",
              "  <thead>\n",
              "    <tr style=\"text-align: right;\">\n",
              "      <th></th>\n",
              "      <th>something</th>\n",
              "      <th>a</th>\n",
              "      <th>b</th>\n",
              "      <th>c</th>\n",
              "      <th>d</th>\n",
              "      <th>message</th>\n",
              "    </tr>\n",
              "  </thead>\n",
              "  <tbody>\n",
              "    <tr>\n",
              "      <th>0</th>\n",
              "      <td>one</td>\n",
              "      <td>1</td>\n",
              "      <td>2</td>\n",
              "      <td>3.0</td>\n",
              "      <td>4</td>\n",
              "      <td>NaN</td>\n",
              "    </tr>\n",
              "    <tr>\n",
              "      <th>1</th>\n",
              "      <td>two</td>\n",
              "      <td>5</td>\n",
              "      <td>6</td>\n",
              "      <td>NaN</td>\n",
              "      <td>8</td>\n",
              "      <td>world</td>\n",
              "    </tr>\n",
              "    <tr>\n",
              "      <th>2</th>\n",
              "      <td>three</td>\n",
              "      <td>9</td>\n",
              "      <td>10</td>\n",
              "      <td>11.0</td>\n",
              "      <td>12</td>\n",
              "      <td>foo</td>\n",
              "    </tr>\n",
              "  </tbody>\n",
              "</table>\n",
              "</div>\n",
              "      <button class=\"colab-df-convert\" onclick=\"convertToInteractive('df-e8c9ec87-38eb-4c8f-acda-09c86b508f76')\"\n",
              "              title=\"Convert this dataframe to an interactive table.\"\n",
              "              style=\"display:none;\">\n",
              "\n",
              "  <svg xmlns=\"http://www.w3.org/2000/svg\" height=\"24px\"viewBox=\"0 0 24 24\"\n",
              "       width=\"24px\">\n",
              "    <path d=\"M0 0h24v24H0V0z\" fill=\"none\"/>\n",
              "    <path d=\"M18.56 5.44l.94 2.06.94-2.06 2.06-.94-2.06-.94-.94-2.06-.94 2.06-2.06.94zm-11 1L8.5 8.5l.94-2.06 2.06-.94-2.06-.94L8.5 2.5l-.94 2.06-2.06.94zm10 10l.94 2.06.94-2.06 2.06-.94-2.06-.94-.94-2.06-.94 2.06-2.06.94z\"/><path d=\"M17.41 7.96l-1.37-1.37c-.4-.4-.92-.59-1.43-.59-.52 0-1.04.2-1.43.59L10.3 9.45l-7.72 7.72c-.78.78-.78 2.05 0 2.83L4 21.41c.39.39.9.59 1.41.59.51 0 1.02-.2 1.41-.59l7.78-7.78 2.81-2.81c.8-.78.8-2.07 0-2.86zM5.41 20L4 18.59l7.72-7.72 1.47 1.35L5.41 20z\"/>\n",
              "  </svg>\n",
              "      </button>\n",
              "\n",
              "\n",
              "\n",
              "    <div id=\"df-4c5f9cae-5a29-4294-8b8a-a4eaddfb6829\">\n",
              "      <button class=\"colab-df-quickchart\" onclick=\"quickchart('df-4c5f9cae-5a29-4294-8b8a-a4eaddfb6829')\"\n",
              "              title=\"Suggest charts.\"\n",
              "              style=\"display:none;\">\n",
              "\n",
              "<svg xmlns=\"http://www.w3.org/2000/svg\" height=\"24px\"viewBox=\"0 0 24 24\"\n",
              "     width=\"24px\">\n",
              "    <g>\n",
              "        <path d=\"M19 3H5c-1.1 0-2 .9-2 2v14c0 1.1.9 2 2 2h14c1.1 0 2-.9 2-2V5c0-1.1-.9-2-2-2zM9 17H7v-7h2v7zm4 0h-2V7h2v10zm4 0h-2v-4h2v4z\"/>\n",
              "    </g>\n",
              "</svg>\n",
              "      </button>\n",
              "    </div>\n",
              "\n",
              "<style>\n",
              "  .colab-df-quickchart {\n",
              "    background-color: #E8F0FE;\n",
              "    border: none;\n",
              "    border-radius: 50%;\n",
              "    cursor: pointer;\n",
              "    display: none;\n",
              "    fill: #1967D2;\n",
              "    height: 32px;\n",
              "    padding: 0 0 0 0;\n",
              "    width: 32px;\n",
              "  }\n",
              "\n",
              "  .colab-df-quickchart:hover {\n",
              "    background-color: #E2EBFA;\n",
              "    box-shadow: 0px 1px 2px rgba(60, 64, 67, 0.3), 0px 1px 3px 1px rgba(60, 64, 67, 0.15);\n",
              "    fill: #174EA6;\n",
              "  }\n",
              "\n",
              "  [theme=dark] .colab-df-quickchart {\n",
              "    background-color: #3B4455;\n",
              "    fill: #D2E3FC;\n",
              "  }\n",
              "\n",
              "  [theme=dark] .colab-df-quickchart:hover {\n",
              "    background-color: #434B5C;\n",
              "    box-shadow: 0px 1px 3px 1px rgba(0, 0, 0, 0.15);\n",
              "    filter: drop-shadow(0px 1px 2px rgba(0, 0, 0, 0.3));\n",
              "    fill: #FFFFFF;\n",
              "  }\n",
              "</style>\n",
              "\n",
              "    <script>\n",
              "      async function quickchart(key) {\n",
              "        const containerElement = document.querySelector('#' + key);\n",
              "        const charts = await google.colab.kernel.invokeFunction(\n",
              "            'suggestCharts', [key], {});\n",
              "      }\n",
              "    </script>\n",
              "\n",
              "      <script>\n",
              "\n",
              "function displayQuickchartButton(domScope) {\n",
              "  let quickchartButtonEl =\n",
              "    domScope.querySelector('#df-4c5f9cae-5a29-4294-8b8a-a4eaddfb6829 button.colab-df-quickchart');\n",
              "  quickchartButtonEl.style.display =\n",
              "    google.colab.kernel.accessAllowed ? 'block' : 'none';\n",
              "}\n",
              "\n",
              "        displayQuickchartButton(document);\n",
              "      </script>\n",
              "      <style>\n",
              "    .colab-df-container {\n",
              "      display:flex;\n",
              "      flex-wrap:wrap;\n",
              "      gap: 12px;\n",
              "    }\n",
              "\n",
              "    .colab-df-convert {\n",
              "      background-color: #E8F0FE;\n",
              "      border: none;\n",
              "      border-radius: 50%;\n",
              "      cursor: pointer;\n",
              "      display: none;\n",
              "      fill: #1967D2;\n",
              "      height: 32px;\n",
              "      padding: 0 0 0 0;\n",
              "      width: 32px;\n",
              "    }\n",
              "\n",
              "    .colab-df-convert:hover {\n",
              "      background-color: #E2EBFA;\n",
              "      box-shadow: 0px 1px 2px rgba(60, 64, 67, 0.3), 0px 1px 3px 1px rgba(60, 64, 67, 0.15);\n",
              "      fill: #174EA6;\n",
              "    }\n",
              "\n",
              "    [theme=dark] .colab-df-convert {\n",
              "      background-color: #3B4455;\n",
              "      fill: #D2E3FC;\n",
              "    }\n",
              "\n",
              "    [theme=dark] .colab-df-convert:hover {\n",
              "      background-color: #434B5C;\n",
              "      box-shadow: 0px 1px 3px 1px rgba(0, 0, 0, 0.15);\n",
              "      filter: drop-shadow(0px 1px 2px rgba(0, 0, 0, 0.3));\n",
              "      fill: #FFFFFF;\n",
              "    }\n",
              "  </style>\n",
              "\n",
              "      <script>\n",
              "        const buttonEl =\n",
              "          document.querySelector('#df-e8c9ec87-38eb-4c8f-acda-09c86b508f76 button.colab-df-convert');\n",
              "        buttonEl.style.display =\n",
              "          google.colab.kernel.accessAllowed ? 'block' : 'none';\n",
              "\n",
              "        async function convertToInteractive(key) {\n",
              "          const element = document.querySelector('#df-e8c9ec87-38eb-4c8f-acda-09c86b508f76');\n",
              "          const dataTable =\n",
              "            await google.colab.kernel.invokeFunction('convertToInteractive',\n",
              "                                                     [key], {});\n",
              "          if (!dataTable) return;\n",
              "\n",
              "          const docLinkHtml = 'Like what you see? Visit the ' +\n",
              "            '<a target=\"_blank\" href=https://colab.research.google.com/notebooks/data_table.ipynb>data table notebook</a>'\n",
              "            + ' to learn more about interactive tables.';\n",
              "          element.innerHTML = '';\n",
              "          dataTable['output_type'] = 'display_data';\n",
              "          await google.colab.output.renderOutput(dataTable, element);\n",
              "          const docLink = document.createElement('div');\n",
              "          docLink.innerHTML = docLinkHtml;\n",
              "          element.appendChild(docLink);\n",
              "        }\n",
              "      </script>\n",
              "    </div>\n",
              "  </div>\n"
            ]
          },
          "metadata": {},
          "execution_count": 21
        }
      ]
    },
    {
      "cell_type": "code",
      "source": [
        "df.to_csv('./out.csv')"
      ],
      "metadata": {
        "id": "vxkiVvoF5Z5S"
      },
      "execution_count": null,
      "outputs": []
    },
    {
      "cell_type": "code",
      "source": [
        "ls"
      ],
      "metadata": {
        "colab": {
          "base_uri": "https://localhost:8080/"
        },
        "id": "eelqDYl65eBv",
        "outputId": "39d06115-c165-4156-94fd-f1dcf930d486"
      },
      "execution_count": null,
      "outputs": [
        {
          "output_type": "stream",
          "name": "stdout",
          "text": [
            "ex1.csv  ex3.csv  ex4.csv  ex6.csv  out.csv\n",
            "ex2.csv  ex3.txt  ex5.csv  ex7.csv  \u001b[0m\u001b[01;34msample_data\u001b[0m/\n"
          ]
        }
      ]
    },
    {
      "cell_type": "code",
      "source": [
        "cat out.csv"
      ],
      "metadata": {
        "colab": {
          "base_uri": "https://localhost:8080/"
        },
        "id": "ggQrU2N15jWq",
        "outputId": "80d8948f-c526-4b81-a084-5cd642586fd6"
      },
      "execution_count": null,
      "outputs": [
        {
          "output_type": "stream",
          "name": "stdout",
          "text": [
            ",something,a,b,c,d,message\n",
            "0,one,1,2,3.0,4,\n",
            "1,two,5,6,,8,world\n",
            "2,three,9,10,11.0,12,foo\n"
          ]
        }
      ]
    },
    {
      "cell_type": "code",
      "source": [
        "cat ex5.csv"
      ],
      "metadata": {
        "colab": {
          "base_uri": "https://localhost:8080/"
        },
        "id": "Nz9muF_M5leV",
        "outputId": "509095da-172f-470a-817a-3dd48a7d3387"
      },
      "execution_count": null,
      "outputs": [
        {
          "output_type": "stream",
          "name": "stdout",
          "text": [
            "something,a,b,c,d,message\n",
            "one,1,2,3,4,NA\n",
            "two,5,6,,8,world\n",
            "three,9,10,11,12,foo"
          ]
        }
      ]
    },
    {
      "cell_type": "code",
      "source": [
        "df.to_csv('No_index.csv', index=False)"
      ],
      "metadata": {
        "id": "3IURAA4Q5rEv"
      },
      "execution_count": null,
      "outputs": []
    },
    {
      "cell_type": "code",
      "source": [
        "ls"
      ],
      "metadata": {
        "colab": {
          "base_uri": "https://localhost:8080/"
        },
        "id": "Wk5fWF3t6C11",
        "outputId": "a73038dc-82ba-4b3a-8384-d6dc5ee0332b"
      },
      "execution_count": null,
      "outputs": [
        {
          "output_type": "stream",
          "name": "stdout",
          "text": [
            "ex1.csv  ex3.csv  ex4.csv  ex6.csv  No_index.csv  \u001b[0m\u001b[01;34msample_data\u001b[0m/\n",
            "ex2.csv  ex3.txt  ex5.csv  ex7.csv  out.csv\n"
          ]
        }
      ]
    },
    {
      "cell_type": "code",
      "source": [
        "cat No_index.csv"
      ],
      "metadata": {
        "colab": {
          "base_uri": "https://localhost:8080/"
        },
        "id": "R34IRPHr6DzW",
        "outputId": "74f19bda-d8d4-42dd-835b-31e44701acd1"
      },
      "execution_count": null,
      "outputs": [
        {
          "output_type": "stream",
          "name": "stdout",
          "text": [
            "something,a,b,c,d,message\n",
            "one,1,2,3.0,4,\n",
            "two,5,6,,8,world\n",
            "three,9,10,11.0,12,foo\n"
          ]
        }
      ]
    },
    {
      "cell_type": "code",
      "source": [
        "df.to_csv('test.csv', index=False, header=False)"
      ],
      "metadata": {
        "id": "nMvtJ3Ws6GvS"
      },
      "execution_count": null,
      "outputs": []
    },
    {
      "cell_type": "code",
      "source": [
        "ls"
      ],
      "metadata": {
        "colab": {
          "base_uri": "https://localhost:8080/"
        },
        "id": "c1BOozoQ6U1p",
        "outputId": "4d8558de-cd15-4bb8-dafa-167c151b3c2d"
      },
      "execution_count": null,
      "outputs": [
        {
          "output_type": "stream",
          "name": "stdout",
          "text": [
            "ex1.csv  ex3.csv  ex4.csv  ex6.csv  No_index.csv  \u001b[0m\u001b[01;34msample_data\u001b[0m/\n",
            "ex2.csv  ex3.txt  ex5.csv  ex7.csv  out.csv       test.csv\n"
          ]
        }
      ]
    },
    {
      "cell_type": "code",
      "source": [
        "cat test.csv"
      ],
      "metadata": {
        "colab": {
          "base_uri": "https://localhost:8080/"
        },
        "id": "drKuGNH36Vz_",
        "outputId": "9caf714c-bf65-4f0f-bc2f-325892117a03"
      },
      "execution_count": null,
      "outputs": [
        {
          "output_type": "stream",
          "name": "stdout",
          "text": [
            "one,1,2,3.0,4,\n",
            "two,5,6,,8,world\n",
            "three,9,10,11.0,12,foo\n"
          ]
        }
      ]
    },
    {
      "cell_type": "code",
      "source": [
        "df.to_csv('pipe.csv', sep='|')"
      ],
      "metadata": {
        "id": "VJjkpcbn6Y9Q"
      },
      "execution_count": null,
      "outputs": []
    },
    {
      "cell_type": "code",
      "source": [
        "ls"
      ],
      "metadata": {
        "colab": {
          "base_uri": "https://localhost:8080/"
        },
        "id": "d3k2ZL9O7B4x",
        "outputId": "056dd0b0-8d5e-4e5e-ca94-8271ff01cd82"
      },
      "execution_count": null,
      "outputs": [
        {
          "output_type": "stream",
          "name": "stdout",
          "text": [
            "ex1.csv  ex3.csv  ex4.csv  ex6.csv  No_index.csv  pipe.csv      test.csv\n",
            "ex2.csv  ex3.txt  ex5.csv  ex7.csv  out.csv       \u001b[0m\u001b[01;34msample_data\u001b[0m/\n"
          ]
        }
      ]
    },
    {
      "cell_type": "code",
      "source": [
        "cat pipe.csv"
      ],
      "metadata": {
        "colab": {
          "base_uri": "https://localhost:8080/"
        },
        "id": "KSvQffRT7DUA",
        "outputId": "dd4f0778-2459-4e6b-c3c1-59de48effefe"
      },
      "execution_count": null,
      "outputs": [
        {
          "output_type": "stream",
          "name": "stdout",
          "text": [
            "|something|a|b|c|d|message\n",
            "0|one|1|2|3.0|4|\n",
            "1|two|5|6||8|world\n",
            "2|three|9|10|11.0|12|foo\n"
          ]
        }
      ]
    },
    {
      "cell_type": "markdown",
      "source": [
        "파일 종류 콤마 구분자 csv\n",
        "\n",
        "돈 : $128,000$"
      ],
      "metadata": {
        "id": "LQPiiQBn7evV"
      }
    },
    {
      "cell_type": "code",
      "source": [
        "df"
      ],
      "metadata": {
        "colab": {
          "base_uri": "https://localhost:8080/",
          "height": 143
        },
        "id": "sgLmg04J8Aj8",
        "outputId": "69c0453b-cd63-4a73-dbbd-e9c1be0a827a"
      },
      "execution_count": null,
      "outputs": [
        {
          "output_type": "execute_result",
          "data": {
            "text/plain": [
              "  something  a   b     c   d message\n",
              "0       one  1   2   3.0   4     NaN\n",
              "1       two  5   6   NaN   8   world\n",
              "2     three  9  10  11.0  12     foo"
            ],
            "text/html": [
              "\n",
              "\n",
              "  <div id=\"df-58fd70c9-8e02-41f1-a092-1c373100ff66\">\n",
              "    <div class=\"colab-df-container\">\n",
              "      <div>\n",
              "<style scoped>\n",
              "    .dataframe tbody tr th:only-of-type {\n",
              "        vertical-align: middle;\n",
              "    }\n",
              "\n",
              "    .dataframe tbody tr th {\n",
              "        vertical-align: top;\n",
              "    }\n",
              "\n",
              "    .dataframe thead th {\n",
              "        text-align: right;\n",
              "    }\n",
              "</style>\n",
              "<table border=\"1\" class=\"dataframe\">\n",
              "  <thead>\n",
              "    <tr style=\"text-align: right;\">\n",
              "      <th></th>\n",
              "      <th>something</th>\n",
              "      <th>a</th>\n",
              "      <th>b</th>\n",
              "      <th>c</th>\n",
              "      <th>d</th>\n",
              "      <th>message</th>\n",
              "    </tr>\n",
              "  </thead>\n",
              "  <tbody>\n",
              "    <tr>\n",
              "      <th>0</th>\n",
              "      <td>one</td>\n",
              "      <td>1</td>\n",
              "      <td>2</td>\n",
              "      <td>3.0</td>\n",
              "      <td>4</td>\n",
              "      <td>NaN</td>\n",
              "    </tr>\n",
              "    <tr>\n",
              "      <th>1</th>\n",
              "      <td>two</td>\n",
              "      <td>5</td>\n",
              "      <td>6</td>\n",
              "      <td>NaN</td>\n",
              "      <td>8</td>\n",
              "      <td>world</td>\n",
              "    </tr>\n",
              "    <tr>\n",
              "      <th>2</th>\n",
              "      <td>three</td>\n",
              "      <td>9</td>\n",
              "      <td>10</td>\n",
              "      <td>11.0</td>\n",
              "      <td>12</td>\n",
              "      <td>foo</td>\n",
              "    </tr>\n",
              "  </tbody>\n",
              "</table>\n",
              "</div>\n",
              "      <button class=\"colab-df-convert\" onclick=\"convertToInteractive('df-58fd70c9-8e02-41f1-a092-1c373100ff66')\"\n",
              "              title=\"Convert this dataframe to an interactive table.\"\n",
              "              style=\"display:none;\">\n",
              "\n",
              "  <svg xmlns=\"http://www.w3.org/2000/svg\" height=\"24px\"viewBox=\"0 0 24 24\"\n",
              "       width=\"24px\">\n",
              "    <path d=\"M0 0h24v24H0V0z\" fill=\"none\"/>\n",
              "    <path d=\"M18.56 5.44l.94 2.06.94-2.06 2.06-.94-2.06-.94-.94-2.06-.94 2.06-2.06.94zm-11 1L8.5 8.5l.94-2.06 2.06-.94-2.06-.94L8.5 2.5l-.94 2.06-2.06.94zm10 10l.94 2.06.94-2.06 2.06-.94-2.06-.94-.94-2.06-.94 2.06-2.06.94z\"/><path d=\"M17.41 7.96l-1.37-1.37c-.4-.4-.92-.59-1.43-.59-.52 0-1.04.2-1.43.59L10.3 9.45l-7.72 7.72c-.78.78-.78 2.05 0 2.83L4 21.41c.39.39.9.59 1.41.59.51 0 1.02-.2 1.41-.59l7.78-7.78 2.81-2.81c.8-.78.8-2.07 0-2.86zM5.41 20L4 18.59l7.72-7.72 1.47 1.35L5.41 20z\"/>\n",
              "  </svg>\n",
              "      </button>\n",
              "\n",
              "\n",
              "\n",
              "    <div id=\"df-be4b0558-d0a4-4885-8445-924817b9ee3f\">\n",
              "      <button class=\"colab-df-quickchart\" onclick=\"quickchart('df-be4b0558-d0a4-4885-8445-924817b9ee3f')\"\n",
              "              title=\"Suggest charts.\"\n",
              "              style=\"display:none;\">\n",
              "\n",
              "<svg xmlns=\"http://www.w3.org/2000/svg\" height=\"24px\"viewBox=\"0 0 24 24\"\n",
              "     width=\"24px\">\n",
              "    <g>\n",
              "        <path d=\"M19 3H5c-1.1 0-2 .9-2 2v14c0 1.1.9 2 2 2h14c1.1 0 2-.9 2-2V5c0-1.1-.9-2-2-2zM9 17H7v-7h2v7zm4 0h-2V7h2v10zm4 0h-2v-4h2v4z\"/>\n",
              "    </g>\n",
              "</svg>\n",
              "      </button>\n",
              "    </div>\n",
              "\n",
              "<style>\n",
              "  .colab-df-quickchart {\n",
              "    background-color: #E8F0FE;\n",
              "    border: none;\n",
              "    border-radius: 50%;\n",
              "    cursor: pointer;\n",
              "    display: none;\n",
              "    fill: #1967D2;\n",
              "    height: 32px;\n",
              "    padding: 0 0 0 0;\n",
              "    width: 32px;\n",
              "  }\n",
              "\n",
              "  .colab-df-quickchart:hover {\n",
              "    background-color: #E2EBFA;\n",
              "    box-shadow: 0px 1px 2px rgba(60, 64, 67, 0.3), 0px 1px 3px 1px rgba(60, 64, 67, 0.15);\n",
              "    fill: #174EA6;\n",
              "  }\n",
              "\n",
              "  [theme=dark] .colab-df-quickchart {\n",
              "    background-color: #3B4455;\n",
              "    fill: #D2E3FC;\n",
              "  }\n",
              "\n",
              "  [theme=dark] .colab-df-quickchart:hover {\n",
              "    background-color: #434B5C;\n",
              "    box-shadow: 0px 1px 3px 1px rgba(0, 0, 0, 0.15);\n",
              "    filter: drop-shadow(0px 1px 2px rgba(0, 0, 0, 0.3));\n",
              "    fill: #FFFFFF;\n",
              "  }\n",
              "</style>\n",
              "\n",
              "    <script>\n",
              "      async function quickchart(key) {\n",
              "        const containerElement = document.querySelector('#' + key);\n",
              "        const charts = await google.colab.kernel.invokeFunction(\n",
              "            'suggestCharts', [key], {});\n",
              "      }\n",
              "    </script>\n",
              "\n",
              "      <script>\n",
              "\n",
              "function displayQuickchartButton(domScope) {\n",
              "  let quickchartButtonEl =\n",
              "    domScope.querySelector('#df-be4b0558-d0a4-4885-8445-924817b9ee3f button.colab-df-quickchart');\n",
              "  quickchartButtonEl.style.display =\n",
              "    google.colab.kernel.accessAllowed ? 'block' : 'none';\n",
              "}\n",
              "\n",
              "        displayQuickchartButton(document);\n",
              "      </script>\n",
              "      <style>\n",
              "    .colab-df-container {\n",
              "      display:flex;\n",
              "      flex-wrap:wrap;\n",
              "      gap: 12px;\n",
              "    }\n",
              "\n",
              "    .colab-df-convert {\n",
              "      background-color: #E8F0FE;\n",
              "      border: none;\n",
              "      border-radius: 50%;\n",
              "      cursor: pointer;\n",
              "      display: none;\n",
              "      fill: #1967D2;\n",
              "      height: 32px;\n",
              "      padding: 0 0 0 0;\n",
              "      width: 32px;\n",
              "    }\n",
              "\n",
              "    .colab-df-convert:hover {\n",
              "      background-color: #E2EBFA;\n",
              "      box-shadow: 0px 1px 2px rgba(60, 64, 67, 0.3), 0px 1px 3px 1px rgba(60, 64, 67, 0.15);\n",
              "      fill: #174EA6;\n",
              "    }\n",
              "\n",
              "    [theme=dark] .colab-df-convert {\n",
              "      background-color: #3B4455;\n",
              "      fill: #D2E3FC;\n",
              "    }\n",
              "\n",
              "    [theme=dark] .colab-df-convert:hover {\n",
              "      background-color: #434B5C;\n",
              "      box-shadow: 0px 1px 3px 1px rgba(0, 0, 0, 0.15);\n",
              "      filter: drop-shadow(0px 1px 2px rgba(0, 0, 0, 0.3));\n",
              "      fill: #FFFFFF;\n",
              "    }\n",
              "  </style>\n",
              "\n",
              "      <script>\n",
              "        const buttonEl =\n",
              "          document.querySelector('#df-58fd70c9-8e02-41f1-a092-1c373100ff66 button.colab-df-convert');\n",
              "        buttonEl.style.display =\n",
              "          google.colab.kernel.accessAllowed ? 'block' : 'none';\n",
              "\n",
              "        async function convertToInteractive(key) {\n",
              "          const element = document.querySelector('#df-58fd70c9-8e02-41f1-a092-1c373100ff66');\n",
              "          const dataTable =\n",
              "            await google.colab.kernel.invokeFunction('convertToInteractive',\n",
              "                                                     [key], {});\n",
              "          if (!dataTable) return;\n",
              "\n",
              "          const docLinkHtml = 'Like what you see? Visit the ' +\n",
              "            '<a target=\"_blank\" href=https://colab.research.google.com/notebooks/data_table.ipynb>data table notebook</a>'\n",
              "            + ' to learn more about interactive tables.';\n",
              "          element.innerHTML = '';\n",
              "          dataTable['output_type'] = 'display_data';\n",
              "          await google.colab.output.renderOutput(dataTable, element);\n",
              "          const docLink = document.createElement('div');\n",
              "          docLink.innerHTML = docLinkHtml;\n",
              "          element.appendChild(docLink);\n",
              "        }\n",
              "      </script>\n",
              "    </div>\n",
              "  </div>\n"
            ]
          },
          "metadata": {},
          "execution_count": 36
        }
      ]
    },
    {
      "cell_type": "code",
      "source": [
        "df.to_csv('null_csv', na_rep='NULL')"
      ],
      "metadata": {
        "id": "cLNv2--v7FZe"
      },
      "execution_count": null,
      "outputs": []
    },
    {
      "cell_type": "code",
      "source": [
        "cat null_csv"
      ],
      "metadata": {
        "colab": {
          "base_uri": "https://localhost:8080/"
        },
        "id": "4lRGE7cb7_uu",
        "outputId": "d7d17345-5071-4b1a-8b84-12925f35bd76"
      },
      "execution_count": null,
      "outputs": [
        {
          "output_type": "stream",
          "name": "stdout",
          "text": [
            ",something,a,b,c,d,message\n",
            "0,one,1,2,3.0,4,NULL\n",
            "1,two,5,6,NULL,8,world\n",
            "2,three,9,10,11.0,12,foo\n"
          ]
        }
      ]
    },
    {
      "cell_type": "code",
      "source": [
        "cat ex5.csv"
      ],
      "metadata": {
        "colab": {
          "base_uri": "https://localhost:8080/"
        },
        "id": "ld2yHIvw8GJW",
        "outputId": "c7c49c42-8574-41a7-f310-b3ea876554d4"
      },
      "execution_count": null,
      "outputs": [
        {
          "output_type": "stream",
          "name": "stdout",
          "text": [
            "something,a,b,c,d,message\n",
            "one,1,2,3,4,NA\n",
            "two,5,6,,8,world\n",
            "three,9,10,11,12,foo"
          ]
        }
      ]
    },
    {
      "cell_type": "code",
      "source": [
        "import os"
      ],
      "metadata": {
        "id": "fST7FfSz8KIj"
      },
      "execution_count": null,
      "outputs": []
    },
    {
      "cell_type": "code",
      "source": [
        "cur_path = os.getcwd()"
      ],
      "metadata": {
        "id": "eZKiUO1Z91lP"
      },
      "execution_count": null,
      "outputs": []
    },
    {
      "cell_type": "code",
      "source": [
        "pwd"
      ],
      "metadata": {
        "colab": {
          "base_uri": "https://localhost:8080/",
          "height": 36
        },
        "id": "RNBKsVY2928y",
        "outputId": "00815ed0-3c22-4858-ca50-23a87f487cfa"
      },
      "execution_count": null,
      "outputs": [
        {
          "output_type": "execute_result",
          "data": {
            "text/plain": [
              "'/content'"
            ],
            "application/vnd.google.colaboratory.intrinsic+json": {
              "type": "string"
            }
          },
          "metadata": {},
          "execution_count": 41
        }
      ]
    },
    {
      "cell_type": "code",
      "source": [
        "cur_path"
      ],
      "metadata": {
        "colab": {
          "base_uri": "https://localhost:8080/",
          "height": 36
        },
        "id": "2t6QStRo93pd",
        "outputId": "b29026ad-830e-46f7-824a-4a2849a8a727"
      },
      "execution_count": null,
      "outputs": [
        {
          "output_type": "execute_result",
          "data": {
            "text/plain": [
              "'/content'"
            ],
            "application/vnd.google.colaboratory.intrinsic+json": {
              "type": "string"
            }
          },
          "metadata": {},
          "execution_count": 43
        }
      ]
    },
    {
      "cell_type": "code",
      "source": [
        "pwd"
      ],
      "metadata": {
        "colab": {
          "base_uri": "https://localhost:8080/",
          "height": 36
        },
        "id": "bQsUtzLK9-0L",
        "outputId": "c3db0ff3-3a32-409f-b01b-948e9750c2cb"
      },
      "execution_count": null,
      "outputs": [
        {
          "output_type": "execute_result",
          "data": {
            "text/plain": [
              "'/content'"
            ],
            "application/vnd.google.colaboratory.intrinsic+json": {
              "type": "string"
            }
          },
          "metadata": {},
          "execution_count": 44
        }
      ]
    },
    {
      "cell_type": "code",
      "source": [
        "ls"
      ],
      "metadata": {
        "colab": {
          "base_uri": "https://localhost:8080/"
        },
        "id": "PBzqpODl-K-P",
        "outputId": "4f7810e4-4a40-469e-e2cc-ab21e58692ef"
      },
      "execution_count": null,
      "outputs": [
        {
          "output_type": "stream",
          "name": "stdout",
          "text": [
            "ex1.csv  ex3.csv  ex4.csv  ex6.csv  No_index.csv  out.csv   \u001b[0m\u001b[01;34msample_data\u001b[0m/\n",
            "ex2.csv  ex3.txt  ex5.csv  ex7.csv  null_csv      pipe.csv  test.csv\n"
          ]
        }
      ]
    },
    {
      "cell_type": "code",
      "source": [
        "!touch test"
      ],
      "metadata": {
        "id": "4GwjD_s4-L3X"
      },
      "execution_count": null,
      "outputs": []
    },
    {
      "cell_type": "code",
      "source": [
        "ls"
      ],
      "metadata": {
        "colab": {
          "base_uri": "https://localhost:8080/"
        },
        "id": "BuSuGGls-PQc",
        "outputId": "5056fa8f-ff99-41be-a7d1-0959114de382"
      },
      "execution_count": null,
      "outputs": [
        {
          "output_type": "stream",
          "name": "stdout",
          "text": [
            "ex1.csv  ex3.txt  ex6.csv       null_csv  \u001b[0m\u001b[01;34msample_data\u001b[0m/\n",
            "ex2.csv  ex4.csv  ex7.csv       out.csv   test\n",
            "ex3.csv  ex5.csv  No_index.csv  pipe.csv  test.csv\n"
          ]
        }
      ]
    },
    {
      "cell_type": "code",
      "source": [
        "cd sample_data"
      ],
      "metadata": {
        "colab": {
          "base_uri": "https://localhost:8080/"
        },
        "id": "hVSo50Vi-TbT",
        "outputId": "927749ad-c5d2-48fe-ab77-57fe0272194e"
      },
      "execution_count": null,
      "outputs": [
        {
          "output_type": "stream",
          "name": "stdout",
          "text": [
            "/content/sample_data\n"
          ]
        }
      ]
    },
    {
      "cell_type": "code",
      "source": [
        "!touch test"
      ],
      "metadata": {
        "id": "ngsStTaU-XPp"
      },
      "execution_count": null,
      "outputs": []
    },
    {
      "cell_type": "code",
      "source": [
        "ls"
      ],
      "metadata": {
        "colab": {
          "base_uri": "https://localhost:8080/"
        },
        "id": "5ep6YBG3-Zg3",
        "outputId": "23bb784a-8446-45b5-fa63-cbc7ba25a253"
      },
      "execution_count": null,
      "outputs": [
        {
          "output_type": "stream",
          "name": "stdout",
          "text": [
            "\u001b[0m\u001b[01;32manscombe.json\u001b[0m*                mnist_test.csv         test\n",
            "california_housing_test.csv   mnist_train_small.csv\n",
            "california_housing_train.csv  \u001b[01;32mREADME.md\u001b[0m*\n"
          ]
        }
      ]
    },
    {
      "cell_type": "code",
      "source": [
        "pwd"
      ],
      "metadata": {
        "colab": {
          "base_uri": "https://localhost:8080/",
          "height": 36
        },
        "id": "IsOBANSu-ath",
        "outputId": "2728a266-44e7-425e-902b-85664c495c72"
      },
      "execution_count": null,
      "outputs": [
        {
          "output_type": "execute_result",
          "data": {
            "text/plain": [
              "'/content/sample_data'"
            ],
            "application/vnd.google.colaboratory.intrinsic+json": {
              "type": "string"
            }
          },
          "metadata": {},
          "execution_count": 51
        }
      ]
    },
    {
      "cell_type": "code",
      "source": [
        "os.getcwd()"
      ],
      "metadata": {
        "colab": {
          "base_uri": "https://localhost:8080/",
          "height": 36
        },
        "id": "QYXNVk86-diT",
        "outputId": "27e0a494-9f77-41e6-a989-ebcd7f230003"
      },
      "execution_count": null,
      "outputs": [
        {
          "output_type": "execute_result",
          "data": {
            "text/plain": [
              "'/content/sample_data'"
            ],
            "application/vnd.google.colaboratory.intrinsic+json": {
              "type": "string"
            }
          },
          "metadata": {},
          "execution_count": 53
        }
      ]
    },
    {
      "cell_type": "code",
      "source": [
        "import re"
      ],
      "metadata": {
        "id": "nzQWT_Jp-eoj"
      },
      "execution_count": null,
      "outputs": []
    },
    {
      "cell_type": "markdown",
      "source": [
        "정규 표현식 : 복잡한 문자열 패턴을 검색하고, 추출하고, 대치하는 규칙을 정의하는 문자열이다."
      ],
      "metadata": {
        "id": "ppifoChR_w2U"
      }
    },
    {
      "cell_type": "code",
      "source": [
        "re.match(r'life', 'python animal').group()"
      ],
      "metadata": {
        "colab": {
          "base_uri": "https://localhost:8080/",
          "height": 180
        },
        "id": "JbFm5x5y_UkK",
        "outputId": "c9c7aabb-f1fe-48f3-8a4a-97bb89ddd47d"
      },
      "execution_count": null,
      "outputs": [
        {
          "output_type": "error",
          "ename": "AttributeError",
          "evalue": "ignored",
          "traceback": [
            "\u001b[0;31m---------------------------------------------------------------------------\u001b[0m",
            "\u001b[0;31mAttributeError\u001b[0m                            Traceback (most recent call last)",
            "\u001b[0;32m<ipython-input-57-793868541559>\u001b[0m in \u001b[0;36m<cell line: 1>\u001b[0;34m()\u001b[0m\n\u001b[0;32m----> 1\u001b[0;31m \u001b[0mre\u001b[0m\u001b[0;34m.\u001b[0m\u001b[0mmatch\u001b[0m\u001b[0;34m(\u001b[0m\u001b[0;34mr'life'\u001b[0m\u001b[0;34m,\u001b[0m \u001b[0;34m'python animal'\u001b[0m\u001b[0;34m)\u001b[0m\u001b[0;34m.\u001b[0m\u001b[0mgroup\u001b[0m\u001b[0;34m(\u001b[0m\u001b[0;34m)\u001b[0m\u001b[0;34m\u001b[0m\u001b[0;34m\u001b[0m\u001b[0m\n\u001b[0m",
            "\u001b[0;31mAttributeError\u001b[0m: 'NoneType' object has no attribute 'group'"
          ]
        }
      ]
    },
    {
      "cell_type": "code",
      "source": [
        "result_no = re.match(r'life', 'python animal')"
      ],
      "metadata": {
        "id": "ntajtrfrFOPi"
      },
      "execution_count": null,
      "outputs": []
    },
    {
      "cell_type": "code",
      "source": [
        "result_yes = re.match(r'so', 'Life is so good')"
      ],
      "metadata": {
        "id": "7KF_4y71FyPm"
      },
      "execution_count": null,
      "outputs": []
    },
    {
      "cell_type": "code",
      "source": [
        "result_no"
      ],
      "metadata": {
        "id": "e_V-udZ4F0iL"
      },
      "execution_count": null,
      "outputs": []
    },
    {
      "cell_type": "code",
      "source": [
        "result_yes"
      ],
      "metadata": {
        "id": "rNvAajYcGDUw"
      },
      "execution_count": null,
      "outputs": []
    },
    {
      "cell_type": "code",
      "source": [
        "type(result_yes)"
      ],
      "metadata": {
        "colab": {
          "base_uri": "https://localhost:8080/"
        },
        "id": "z97D8xG1GNtC",
        "outputId": "884c3d37-90b3-4739-db75-0cbd547dedec"
      },
      "execution_count": null,
      "outputs": [
        {
          "output_type": "execute_result",
          "data": {
            "text/plain": [
              "NoneType"
            ]
          },
          "metadata": {},
          "execution_count": 74
        }
      ]
    },
    {
      "cell_type": "code",
      "source": [
        "re.match(r'so', 'Life is so good')"
      ],
      "metadata": {
        "id": "v7-a7PTzGc9J"
      },
      "execution_count": null,
      "outputs": []
    },
    {
      "cell_type": "code",
      "source": [
        "re.search(r'so', 'Life is so good')"
      ],
      "metadata": {
        "colab": {
          "base_uri": "https://localhost:8080/"
        },
        "id": "LrO4GHrSG2VG",
        "outputId": "1a19ab27-34d1-4546-9927-e4f38a227c96"
      },
      "execution_count": null,
      "outputs": [
        {
          "output_type": "execute_result",
          "data": {
            "text/plain": [
              "<re.Match object; span=(8, 10), match='so'>"
            ]
          },
          "metadata": {},
          "execution_count": 79
        }
      ]
    },
    {
      "cell_type": "code",
      "source": [
        "^[0-9] , [^0-9]"
      ],
      "metadata": {
        "id": "BnVzKHvAHJfb"
      },
      "execution_count": null,
      "outputs": []
    },
    {
      "cell_type": "markdown",
      "source": [
        "+? : 최소매칭"
      ],
      "metadata": {
        "id": "SGyKM2b6Lx39"
      }
    },
    {
      "cell_type": "markdown",
      "source": [
        "? : 0회나 1회 반복\n",
        "\n",
        "ca\n",
        "\n",
        "a 를 0 회 반복 : c\n",
        "\n",
        "1회 반복 : ca\n",
        "\n",
        "2회 반복 : caa\n",
        "\n",
        "3회 반복 : caaa"
      ],
      "metadata": {
        "id": "IMikY_MGMTeN"
      }
    },
    {
      "cell_type": "code",
      "source": [
        "words = 'I am home now. \\n\\n\\nI am with my cat. \\n\\n'"
      ],
      "metadata": {
        "id": "Q5yQVLTKL1GX"
      },
      "execution_count": null,
      "outputs": []
    },
    {
      "cell_type": "code",
      "source": [
        "print(words)"
      ],
      "metadata": {
        "colab": {
          "base_uri": "https://localhost:8080/"
        },
        "id": "GcmxMQgmO6kL",
        "outputId": "c58c342f-cc44-4e74-ab04-14b0323e9291"
      },
      "execution_count": null,
      "outputs": [
        {
          "output_type": "stream",
          "name": "stdout",
          "text": [
            "I am home now. \n",
            "\n",
            "\n",
            "I am with my cat. \n",
            "\n",
            "\n"
          ]
        }
      ]
    },
    {
      "cell_type": "code",
      "source": [
        "re.sub(r'\\n', '', words)"
      ],
      "metadata": {
        "colab": {
          "base_uri": "https://localhost:8080/",
          "height": 36
        },
        "id": "PJ1tD1t3O8r6",
        "outputId": "376330a6-bc07-4752-a14c-31866377f301"
      },
      "execution_count": null,
      "outputs": [
        {
          "output_type": "execute_result",
          "data": {
            "text/plain": [
              "'I am home now. I am with my cat. '"
            ],
            "application/vnd.google.colaboratory.intrinsic+json": {
              "type": "string"
            }
          },
          "metadata": {},
          "execution_count": 82
        }
      ]
    },
    {
      "cell_type": "code",
      "source": [],
      "metadata": {
        "id": "XMgePcsSPCam"
      },
      "execution_count": null,
      "outputs": []
    },
    {
      "cell_type": "markdown",
      "source": [
        "\\w+ly :  ~~~~~~~~~~~~~~~~~~~~ly"
      ],
      "metadata": {
        "id": "bezcRI7USEvp"
      }
    },
    {
      "cell_type": "markdown",
      "source": [
        "        r'\\(.+\\)'\n",
        "\n",
        "        \\( : \" ( \"\n",
        "\n",
        "        . : 모든 문자 --> ( ₩113()()(0())(090)9)9)4ㅇㄹㅈㅇㅈㅈㄹ aASSDSㅈㄷ323\n",
        "\n",
        "\n",
        "        + :  계속해 연달아 있다.\n",
        "\n",
        "\n",
        "        \\) :  \" ) \""
      ],
      "metadata": {
        "id": "SF-VARJdSpOQ"
      }
    },
    {
      "cell_type": "markdown",
      "source": [
        "(afdfafsfasssfsf)\n",
        "\n",
        "(갇나다라  ㅇㄹ아)\n",
        "\n",
        "( ~~~~~~~~~~~~~~~~~~~ㄹㅇㄴㄹㄴㅁㅇㄹㄴㄴㅁ~~~~~~~~~~~~)"
      ],
      "metadata": {
        "id": "y4rIgjvUTUPm"
      }
    },
    {
      "cell_type": "code",
      "source": [
        "%%writefile friends101.txt\n",
        "The One Where Monica Gets a New Roommate (The Pilot-The Uncut Version)\n",
        "Written by: Marta Kauffman & David Crane\n",
        "Transcribed by: guineapig\n",
        "Additional transcribing by: Eric Aasen\n",
        "(Note: The previously unseen parts of this episode are shown in blue text.)\n",
        "\n",
        "[Scene: Central Perk, Chandler, Joey, Phoebe, and Monica are there.]\n",
        "\n",
        "Monica: There's nothing to tell! He's just some guy I work with!\n",
        "\n",
        "Joey: C'mon, you're going out with the guy! There's gotta be something wrong with him!\n",
        "\n",
        "Chandler: All right Joey, be nice.  So does he have a hump? A hump and a hairpiece?\n",
        "\n",
        "Phoebe: Wait, does he eat chalk?\n",
        "\n",
        "(They all stare, bemused.)\n",
        "\n",
        "Phoebe: Just, 'cause, I don't want her to go through what I went through with Carl- oh!\n",
        "\n",
        "Monica: Okay, everybody relax. This is not even a date. It's just two people going out to dinner and- not having sex.\n",
        "\n",
        "Chandler: Sounds like a date to me.\n",
        "\n",
        "[Time Lapse]\n",
        "\n",
        "Chandler: Alright, so I'm back in high school, I'm standing in the middle of the cafeteria, and I realize I am totally naked.\n",
        "\n",
        "All: Oh, yeah. Had that dream.\n",
        "\n",
        "Chandler: Then I look down, and I realize there's a phone... there.\n",
        "\n",
        "Joey: Instead of...?\n",
        "\n",
        "Chandler: That's right.\n",
        "\n",
        "Joey: Never had that dream.\n",
        "\n",
        "Phoebe: No.\n",
        "\n",
        "Chandler: All of a sudden, the phone starts to ring. Now I don't know what to do, everybody starts looking at me.\n",
        "\n",
        "Monica: And they weren't looking at you before?!\n",
        "\n",
        "Chandler: Finally, I figure I'd better answer it, and it turns out it's my mother, which is very-very weird, because- she never calls me!\n",
        "\n",
        "[Time Lapse, Ross has entered.]\n",
        "\n",
        "Ross: (mortified) Hi.\n",
        "\n",
        "Joey: This guy says hello, I wanna kill myself.\n",
        "\n",
        "Monica: Are you okay, sweetie?\n",
        "\n",
        "Ross: I just feel like someone reached down my throat, grabbed my small intestine, pulled it out of my mouth and tied it around my neck...\n",
        "\n",
        "Chandler: Cookie?\n",
        "\n",
        "Monica: (explaining to the others) Carol moved her stuff out today.\n",
        "\n",
        "Joey: Ohh.\n",
        "\n",
        "Monica: (to Ross) Let me get you some coffee.\n",
        "\n",
        "Ross: Thanks.\n",
        "\n",
        "Phoebe: Ooh! Oh! (She starts to pluck at the air just in front of Ross.)\n",
        "\n",
        "Ross: No, no don't! Stop cleansing my aura! No, just leave my aura alone, okay?\n",
        "\n",
        "Phoebe: Fine!  Be murky!\n",
        "\n",
        "Ross: I'll be fine, alright? Really, everyone. I hope she'll be very happy.\n",
        "\n",
        "Monica: No you don't.\n",
        "\n",
        "Ross: No I don't, to hell with her, she left me!\n",
        "\n",
        "Joey: And you never knew she was a lesbian...\n",
        "\n",
        "Ross: No!! Okay?! Why does everyone keep fixating on that? She didn't know, how should I know?\n",
        "\n",
        "Chandler: Sometimes I wish I was a lesbian... (They all stare at him.) Did I say that out loud?\n",
        "\n",
        "Ross: I told mom and dad last night, they seemed to take it pretty well.\n",
        "\n",
        "Monica: Oh really, so that hysterical phone call I got from a woman at sobbing 3:00 A.M., \"I'll never have grandchildren, I'll never have grandchildren.\" was what?  A wrong number?\n",
        "\n",
        "Ross: Sorry.\n",
        "\n",
        "Joey: Alright Ross, look. You're feeling a lot of pain right now. You're angry. You're hurting. Can I tell you what the answer is?\n",
        "\n",
        "(Ross gestures his consent.)\n",
        "\n",
        "Joey: Strip joint! C'mon, you're single! Have some hormones!\n",
        "\n",
        "Ross: I don't want to be single, okay? I just... I just- I just wanna be married again!\n",
        "\n",
        "(Rachel enters in a wet wedding dress and starts to search the room.)\n",
        "\n",
        "Chandler: And I just want a million dollars! (He extends his hand hopefully.)\n",
        "\n",
        "Monica: Rachel?!\n",
        "\n",
        "Rachel: Oh God Monica hi! Thank God! I just went to your building and you weren't there and then this guy with a big hammer said you might be here and you are, you are!\n",
        "\n",
        "Waitress: Can I get you some coffee?\n",
        "\n",
        "Monica: (pointing at Rachel) De-caff. (to All) Okay, everybody, this is Rachel, another Lincoln High survivor. (to Rachel) This is everybody, this is Chandler, and Phoebe, and Joey, and- you remember my brother Ross?\n",
        "\n",
        "Rachel: Hi, sure!\n",
        "\n",
        "Ross: Hi.\n",
        "\n",
        "(They go to hug but Ross's umbrella opens.  He sits back down defeated again.  A moment of silence follows as Rachel sits and the others expect her to explain.)\n",
        "\n",
        "Monica: So you wanna tell us now, or are we waiting for four wet bridesmaids?\n",
        "\n",
        "Rachel: Oh God... well, it started about a half hour before the wedding. I was in the room where we were keeping all the presents, and I was looking at this gravy boat. This really gorgeous Lamauge gravy boat. When all of a sudden- (to the waitress that brought her coffee)Sweet 'n' Lo?- I realized that I was more turned on by this gravy boat than by Barry! And then I got really freaked out, and that's when it hit me: how much Barry looks like Mr. Potato Head. Y'know, I mean, I always knew looked familiar, but... Anyway, I just had to get out of there, and I started wondering 'Why am I doing this, and who am I doing this for?'. (to Monica) So anyway I just didn't know where to go, and I know that you and I have kinda drifted apart, but you're the only person I knew who lived here in the city.\n",
        "\n",
        "Monica: Who wasn't invited to the wedding.\n",
        "\n",
        "Rachel: Ooh, I was kinda hoping that wouldn't be an issue... [Scene: Monica's Apartment, everyone is there and watching a Spanish Soap on TV and are trying to figure out what is going on.]\n",
        "\n",
        "Monica: Now I'm guessing that he bought her the big pipe organ, and she's really not happy about it.\n",
        "\n",
        "Chandler: (imitating the characters) Tuna or egg salad?  Decide!\n",
        "\n",
        "Ross: (in a deep voice) I'll have whatever Christine is having.\n",
        "\n",
        "Rachel: (on phone) Daddy, I just... I can't marry him! I'm sorry. I just don't love him. Well, it matters to me!\n",
        "\n",
        "(The scene on TV has changed to show two women, one is holding her hair.)\n",
        "\n",
        "Phoebe:  If I let go of my hair, my head will fall off.\n",
        "\n",
        "Chandler: (re TV) Ooh, she should not be wearing those pants.\n",
        "\n",
        "Joey: I say push her down the stairs.\n",
        "\n",
        "Phoebe, Ross, Chandler, and Joey:  Push her down the stairs! Push her down the stairs! Push her down the stairs!\n",
        "\n",
        "(She is pushed down the stairs and everyone cheers.)\n",
        "\n",
        "Rachel: C'mon Daddy, listen to me! It's like, it's like, all of my life, everyone has always told me, 'You're a shoe! You're a shoe, you're a shoe, you're a shoe!'. And today I just stopped and I said, 'What if I don't wanna be a shoe? What if I wanna be a- a purse, y'know? Or a- or a hat! No, I'm not saying I want you to buy me a hat, I'm saying I am a ha- It's a metaphor, Daddy!\n",
        "\n",
        "Ross: You can see where he'd have trouble.\n",
        "\n",
        "Rachel: Look Daddy, it's my life. Well maybe I'll just stay here with Monica.\n",
        "\n",
        "Monica: Well, I guess we've established who's staying here with Monica...\n",
        "\n",
        "Rachel: Well, maybe that's my decision. Well, maybe I don't need your money. Wait!! Wait, I said maybe!!\n",
        "\n",
        "[Time Lapse, Rachel is breating into a paper bag.]\n",
        "\n",
        "Monica: Just breathe, breathe.. that's it. Just try to think of nice calm things...\n",
        "\n",
        "Phoebe: (sings) Raindrops on roses and rabbits and kittens, (Rachel and Monica turn to look at her.) bluebells and sleighbells and- something with mittens... La la la la...something and noodles with string.  These are a few...\n",
        "\n",
        "Rachel: I'm all better now.\n",
        "\n",
        "Phoebe: (grins and walks to the kitchen and says to Chandler and Joey.) I helped!\n",
        "\n",
        "Monica: Okay, look, this is probably for the best, y'know? Independence. Taking control of your life.  The whole, 'hat' thing.\n",
        "\n",
        "Joey: (comforting her) And hey, you need anything, you can always come to Joey. Me and Chandler live across the hall. And he's away a lot.\n",
        "\n",
        "Monica: Joey, stop hitting on her! It's her wedding day!\n",
        "\n",
        "Joey: What, like there's a rule or something?\n",
        "\n",
        "(The door buzzer sounds and Chandler gets it.)\n",
        "\n",
        "Chandler: Please don't do that again, it's a horrible sound.\n",
        "\n",
        "Paul: (over the intercom) It's, uh, it's Paul.\n",
        "\n",
        "Monica: Oh God, is it 6:30?  Buzz him in!\n",
        "\n",
        "Joey: Who's Paul?\n",
        "\n",
        "Ross: Paul the Wine Guy, Paul?\n",
        "\n",
        "Monica: Maybe. Joey: Wait. Your 'not a real date' tonight is with Paul the Wine Guy?\n",
        "\n",
        "Ross: He finally asked you out?\n",
        "\n",
        "Monica: Yes!\n",
        "\n",
        "Chandler: Ooh, this is a Dear Diary moment.\n",
        "\n",
        "Monica: Rach, wait, I can cancel...\n",
        "\n",
        "Rachel: Please, no, go, that'd be fine!\n",
        "\n",
        "Monica: (to Ross) Are, are you okay? I mean, do you want me to stay?\n",
        "\n",
        "Ross: (choked voice) That'd be good...\n",
        "\n",
        "Monica: (horrified) Really?\n",
        "\n",
        "Ross: (normal voice) No, go on! It's Paul the Wine Guy!\n",
        "\n",
        "Phoebe: What does that mean?   Does he sell it, drink it, or just complain a lot? (Chandler doesn't know.)\n",
        "\n",
        "(There's a knock on the door and it's Paul.)\n",
        "\n",
        "Monica: Hi, come in! Paul, this is.. (They are all lined up next to the door.)... everybody, everybody, this is Paul.\n",
        "\n",
        "All: Hey! Paul! Hi! The Wine Guy! Hey!\n",
        "\n",
        "Chandler: I'm sorry, I didn't catch your name. Paul, was it?\n",
        "\n",
        "Monica: Okay, umm-umm, I'll just--I'll be right back, I just gotta go ah, go ah...\n",
        "\n",
        "Ross: A wandering?\n",
        "\n",
        "Monica: Change!  Okay, sit down. (Shows Paul in) Two seconds.\n",
        "\n",
        "Phoebe: Ooh, I just pulled out four eyelashes. That can't be good.\n",
        "\n",
        "(Monica goes to change.)\n",
        "\n",
        "Joey:  Hey, Paul!\n",
        "\n",
        "Paul: Yeah?\n",
        "\n",
        "Joey: Here's a little tip, she really likes it when you rub her neck in the same spot over and over and over again until it starts to get a little red.\n",
        "\n",
        "Monica: (yelling from the bedroom) Shut up, Joey!\n",
        "\n",
        "Ross: So Rachel, what're you, uh... what're you up to tonight?\n",
        "\n",
        "Rachel: Well, I was kinda supposed to be headed for Aruba on my honeymoon, so nothing!\n",
        "\n",
        "Ross: Right, you're not even getting your honeymoon, God.. No, no, although, Aruba, this time of year... talk about your- (thinks) -big lizards... Anyway, if you don't feel like being alone tonight, Joey and Chandler are coming over to help me put together my new furniture.\n",
        "\n",
        "Chandler: (deadpan) Yes, and we're very excited about it.\n",
        "\n",
        "Rachel: Well actually thanks, but I think I'm just gonna hang out here tonight.  It's been kinda a long day.\n",
        "\n",
        "Ross: Okay, sure.\n",
        "\n",
        "Joey: Hey Pheebs, you wanna help?\n",
        "\n",
        "Phoebe: Oh, I wish I could, but I don't want to.\n",
        "\n",
        "Commercial Break\n",
        "\n",
        "[Scene: The Subway, Phoebe is singing for change.]\n",
        "\n",
        "Phoebe: (singing) Love is sweet as summer showers, love is a wondrous work of art, but your love oh your love, your love...is like a giant pigeon...crapping on my heart.  La-la-la-la-la- (some guy gives her some change and to that guy) Thank you. (sings) La-la-la-la...ohhh!\n",
        "\n",
        "[Scene: Ross's Apartment, the guys are there assembling furniture.]\n",
        "\n",
        "Ross: (squatting and reading the instructions) I'm supposed to attach a brackety thing to the side things, using a bunch of these little worm guys. I have no brackety thing, I see no whim guys whatsoever and- I cannot feel my legs.\n",
        "\n",
        "(Joey and Chandler are finishing assembling the bookcase.)\n",
        "\n",
        "Joey: I'm thinking we've got a bookcase here.\n",
        "\n",
        "Chandler: It's a beautiful thing.\n",
        "\n",
        "Joey: (picking up a leftover part) What's this?\n",
        "\n",
        "Chandler: I would have to say that is an 'L'-shaped bracket.\n",
        "\n",
        "Joey: Which goes where?\n",
        "\n",
        "Chandler: I have no idea.\n",
        "\n",
        "(Joey checks that Ross is not looking and dumps it in a plant.)\n",
        "\n",
        "Joey: Done with the bookcase!\n",
        "\n",
        "Chandler: All finished!\n",
        "\n",
        "Ross: (clutching a beer can and sniffing) This was Carol's favorite beer. She always drank it out of the can, I should have known.\n",
        "\n",
        "Joey: Hey-hey-hey-hey, if you're gonna start with that stuff we're outta here.\n",
        "\n",
        "Chandler: Yes, please don't spoil all this fun.\n",
        "\n",
        "Joey: Ross, let me ask you a question. She got the furniture, the stereo, the good TV- what did you get?\n",
        "\n",
        "Ross: You guys.\n",
        "\n",
        "Chandler: Oh, God.\n",
        "\n",
        "Joey: You got screwed.\n",
        "\n",
        "Chandler: Oh my God!\n",
        "\n",
        "[Scene: A Restaurant, Monica and Paul are eating.]\n",
        "\n",
        "Monica: Oh my God!\n",
        "\n",
        "Paul: I know, I know, I'm such an idiot. I guess I should have caught on when she started going to the dentist four and five times a week. I mean, how clean can teeth get?\n",
        "\n",
        "Monica: My brother's going through that right now, he's such a mess. How did you get through it?\n",
        "\n",
        "Paul: Well, you might try accidentally breaking something valuable of hers, say her-\n",
        "\n",
        "Monica: -leg?\n",
        "\n",
        "Paul: (laughing) That's one way! Me, I- I went for the watch.\n",
        "\n",
        "Monica: You actually broke her watch?  Wow!  The worst thing I ever did was, I-I shredded by boyfriend's favorite bath towel.\n",
        "\n",
        "Paul: Ooh, steer clear of you.\n",
        "\n",
        "Monica: That's right. [Scene: Monica's Apartment, Rachel is talking on the phone and pacing.]\n",
        "\n",
        "Rachel: Barry, I'm sorry... I am so sorry... I know you probably think that this is all about what I said the other day about you making love with your socks on, but it isn't... it isn't, it's about me, and I ju- (She stops talking and dials the phone.) Hi, machine cut me off again... anyway...look, look, I know that some girl is going to be incredibly lucky to become Mrs. Barry Finkel, but it isn't me, it's not me.  And not that I have any idea who me is right now, but you just have to give me a chance too... (The maching cuts her off again and she redials.)\n",
        "\n",
        "[Scene: Ross's Apartment; Ross is pacing while Joey and Chandler are working on some more furniture.]\n",
        "\n",
        "Ross: I'm divorced!  I'm only 26 and I'm divorced!\n",
        "\n",
        "Joey: Shut up!\n",
        "\n",
        "Chandler: You must stop! (Chandler hits what he is working on with a hammer and it collapses.)\n",
        "\n",
        "Ross: That only took me an hour.\n",
        "\n",
        "Chandler: Look, Ross, you gotta understand, between us we haven't had a relationship that has lasted longer than a Mento.   You, however have had the love of a woman for four years.   Four years of closeness and sharing at the end of which she ripped your heart out, and that is why we don't do it!  I don't think that was my point!\n",
        "\n",
        "Ross: You know what the scariest part is? What if there's only one woman for everybody, y'know? I mean what if you get one woman- and that's it? Unfortunately in my case, there was only one woman- for her...\n",
        "\n",
        "Joey: What are you talking about? 'One woman'? That's like saying there's only one flavor of ice cream for you. Lemme tell you something, Ross. There's lots of flavors out there. There's Rocky Road, and Cookie Dough, and Bing! Cherry Vanilla. You could get 'em with Jimmies, or nuts, or whipped cream! This is the best thing that ever happened to you! You got married, you were, like, what, eight? Welcome back to the world! Grab a spoon!\n",
        "\n",
        "Ross: I honestly don't know if I'm hungry or horny.\n",
        "\n",
        "Chandler: Stay out of my freezer! [Scene: A Restaurant, Monica and Paul are still eating.]\n",
        "\n",
        "Paul: Ever since she walked out on me, I, uh...\n",
        "\n",
        "Monica: What?..... What, you wanna spell it out with noodles?\n",
        "\n",
        "Paul: No, it's, it's more of a fifth date kinda revelation.\n",
        "\n",
        "Monica: Oh, so there is gonna be a fifth date?\n",
        "\n",
        "Paul: Isn't there?\n",
        "\n",
        "Monica: Yeah... yeah, I think there is. -What were you gonna say?\n",
        "\n",
        "Paul: Well, ever-ev-... ever since she left me, um, I haven't been able to, uh, perform. (Monica takes a sip of her drink.) ...Sexually.\n",
        "\n",
        "Monica: (spitting out her drink in shock) Oh God, oh God, I am sorry... I am so sorry...\n",
        "\n",
        "Paul: It's okay...\n",
        "\n",
        "Monica: I know being spit on is probably not what you need right now. Um... how long?\n",
        "\n",
        "Paul: Two years.\n",
        "\n",
        "Monica: Wow! I'm-I'm-I'm glad you smashed her watch!\n",
        "\n",
        "Paul: So you still think you, um... might want that fifth date?\n",
        "\n",
        "Monica: (pause)...Yeah. Yeah, I do.\n",
        "\n",
        "[Scene: Monica's Apartment, Rachel is watching Joanne Loves Chaci.]\n",
        "\n",
        "Priest on TV: We are gathered here today to join Joanne Louise Cunningham and Charles, Chachi-Chachi-Chachi, Arcola in the bound of holy matrimony.\n",
        "\n",
        "Rachel: Oh...see... but Joanne loved Chachi! That's the difference!\n",
        "\n",
        "[Scene: Ross's Apartment, they're all sitting around and talking.]\n",
        "\n",
        "Ross: (scornful) Grab a spoon. Do you know how long it's been since I've grabbed a spoon? Do the words 'Billy, don't be a hero' mean anything to you?\n",
        "\n",
        "Joey: Great story!  But, I uh, I gotta go, I got a date with Andrea--Angela--Andrea...  Oh man, (looks to Chandler)\n",
        "\n",
        "Chandler: Angela's the screamer, Andrea has cats.\n",
        "\n",
        "Joey: Right.  Thanks.  It's June.  I'm outta here. (Exits.)\n",
        "\n",
        "Ross: Y'know, here's the thing. Even if I could get it together enough to- to ask a woman out,... who am I gonna ask? (He gazes out of the window.)\n",
        "\n",
        "[Cut to Rachel staring out of her window.]\n",
        "\n",
        "Commercial Break\n",
        "\n",
        "[Scene: Monica's Apartment, Rachel is making coffee for Joey and Chandler.]\n",
        "\n",
        "Rachel: Isn't this amazing? I mean, I have never made coffee before in my entire life.\n",
        "\n",
        "Chandler: That is amazing.\n",
        "\n",
        "Joey: Congratulations.\n",
        "\n",
        "Rachel: Y'know, I figure if I can make coffee, there isn't anything I can't do.\n",
        "\n",
        "Chandler: If can invade Poland, there isn't anything I can't do.\n",
        "\n",
        "Joey: Listen, while you're on a roll, if you feel like you gotta make like a Western omelet or something... (Joey and Chandler taste the coffee, grimace, and pour it into a plant pot.) Although actually I'm really not that hungry...\n",
        "\n",
        "Monica: (entering, to herself) Oh good, Lenny and Squigy are here.\n",
        "\n",
        "All: Morning. Good morning.\n",
        "\n",
        "Paul: (entering from Monica's room) Morning.\n",
        "\n",
        "Joey: Morning, Paul.\n",
        "\n",
        "Rachel: Hello, Paul.\n",
        "\n",
        "Chandler: Hi, Paul, is it?\n",
        "\n",
        "(Monica and Paul walk to the door and talk in a low voice so the others can't hear.  The others move Monica's table closer to the door so that they can.)\n",
        "\n",
        "Paul: Thank you!  Thank you so much!\n",
        "\n",
        "Monica: Stop!\n",
        "\n",
        "Paul: No, I'm telling you last night was like umm, all my birthdays, both graduations, plus the barn raising scene in Witness.\n",
        "\n",
        "Monica: We'll talk later.\n",
        "\n",
        "Paul: Yeah. (They kiss) Thank you. (Exits)\n",
        "\n",
        "Joey: That wasn't a real date?! What the hell do you do on a real date?\n",
        "\n",
        "Monica: Shut up, and put my table back.\n",
        "\n",
        "All: Okayyy! (They do so.)\n",
        "\n",
        "Chandler: All right, kids, I gotta get to work. If I don't input those numbers,... it doesn't make much of a difference...\n",
        "\n",
        "Rachel: So, like, you guys all have jobs?\n",
        "\n",
        "Monica: Yeah, we all have jobs. See, that's how we buy stuff.\n",
        "\n",
        "Joey: Yeah, I'm an actor.\n",
        "\n",
        "Rachel: Wow! Would I have seen you in anything?\n",
        "\n",
        "Joey: I doubt it. Mostly regional work.\n",
        "\n",
        "Monica: Oh wait, wait, unless you happened to catch the Reruns' production of Pinocchio, at the little theater in the park.\n",
        "\n",
        "Joey: Look, it was a job all right?\n",
        "\n",
        "Chandler: 'Look, Gippetto, I'm a real live boy.'\n",
        "\n",
        "Joey: I will not take this abuse. (Walks to the door and opens it to leave.)\n",
        "\n",
        "Chandler: You're right, I'm sorry. (Burst into song and dances out of the door.) \"Once I was a wooden boy, a little wooden boy...\"\n",
        "\n",
        "Joey: You should both know, that he's a dead man.  Oh, Chandler? (Starts after Chandler.)\n",
        "\n",
        "Monica: So how you doing today? Did you sleep okay? Talk to Barry? I can't stop smiling.\n",
        "\n",
        "Rachel: I can see that. You look like you slept with a hanger in your mouth.\n",
        "\n",
        "Monica: I know, he's just so, so... Do you remember you and Tony DeMarco?\n",
        "\n",
        "Rachel: Oh, yeah.\n",
        "\n",
        "Monica: Well, it's like that. With feelings.\n",
        "\n",
        "Rachel: Oh wow. Are you in trouble.\n",
        "\n",
        "Monica: Big time!\n",
        "\n",
        "Rachel: Want a wedding dress?   Hardly used.\n",
        "\n",
        "Monica: I think we are getting a little ahead of selves here. Okay. Okay. I am just going to get up, go to work and not think about him all day. Or else I'm just gonna get up and go to work.\n",
        "\n",
        "Rachel: Oh, look, wish me luck!\n",
        "\n",
        "Monica: What for?\n",
        "\n",
        "Rachel: I'm gonna go get one of those (Thinks) job things.\n",
        "\n",
        "(Monica exits.)\n",
        "\n",
        "[Scene: Iridium, Monica is working as Frannie enters.]\n",
        "\n",
        "Frannie: Hey, Monica!\n",
        "\n",
        "Monica: Hey Frannie, welcome back! How was Florida?\n",
        "\n",
        "Frannie: You had sex, didn't you?\n",
        "\n",
        "Monica: How do you do that?\n",
        "\n",
        "Frannie: Oh, I hate you, I'm pushing my Aunt Roz through Parrot Jungle and you're having sex!  So? Who?\n",
        "\n",
        "Monica: You know Paul?\n",
        "\n",
        "Frannie: Paul the Wine Guy? Oh yeah, I know Paul.\n",
        "\n",
        "Monica: You mean you know Paul like I know Paul?\n",
        "\n",
        "Frannie: Are you kidding? I take credit for Paul. Y'know before me, there was no snap in his turtle for two years.\n",
        "\n",
        "[Scene: Central Perk, everyone but Rachel is there.]\n",
        "\n",
        "Joey: (sitting on the arm of the couch)Of course it was a line!\n",
        "\n",
        "Monica: Why?! Why? Why, why would anybody do something like that?\n",
        "\n",
        "Ross: I assume we're looking for an answer more sophisticated than 'to get you into bed'.\n",
        "\n",
        "Monica: I hate men!  I hate men!\n",
        "\n",
        "Phoebe: Oh no, don't hate, you don't want to put that out into the universe.\n",
        "\n",
        "Monica: Is it me? Is it like I have some sort of beacon that only dogs and men with severe emotional problems can hear?\n",
        "\n",
        "Phoebe: All right, c'mere, gimme your feet. (She starts massaging them.)\n",
        "\n",
        "Monica: I just thought he was nice, y'know?\n",
        "\n",
        "Joey: (bursts out laughing again) I can't believe you didn't know it was a line!\n",
        "\n",
        "(Monica pushes him off of the sofa as Rachel enters with a shopping bag.)\n",
        "\n",
        "Rachel: Guess what?\n",
        "\n",
        "Ross: You got a job?\n",
        "\n",
        "Rachel: Are you kidding? I'm trained for nothing! I was laughed out of twelve interviews today.\n",
        "\n",
        "Chandler: And yet you're surprisingly upbeat.\n",
        "\n",
        "Rachel: You would be too if you found John and David boots on sale, fifty percent off!\n",
        "\n",
        "Chandler: Oh, how well you know me...\n",
        "\n",
        "Rachel: They're my new 'I don't need a job, I don't need my parents, I've got great boots' boots!\n",
        "\n",
        "Monica: How'd you pay for them?\n",
        "\n",
        "Rachel: Uh, credit card.\n",
        "\n",
        "Monica: And who pays for that?\n",
        "\n",
        "Rachel: Um... my... father.\n",
        "\n",
        "[Scene: Monica and Rachel's, everyone is sitting around the kitchen table.   Rachel's credit cards are spread out on the table along with a pair of scissors.]\n",
        "\n",
        "Rachel: Oh God, come on you guys, is this really necessary?  I mean, I can stop charging anytime I want.\n",
        "\n",
        "Monica: C'mon, you can't live off your parents your whole life.\n",
        "\n",
        "Rachel: I know that. That's why I was getting married.\n",
        "\n",
        "Phoebe: Give her a break, it's hard being on your own for the first time.\n",
        "\n",
        "Rachel: Thank you.\n",
        "\n",
        "Phoebe: You're welcome. I remember when I first came to this city. I was fourteen. My mom had just killed herself and my step-dad was back in prison, and I got here, and I didn't know anybody. And I ended up living with this albino guy who was, like, cleaning windshields outside port authority, and then he killed himself, and then I found aromatherapy. So believe me, I know exactly how you feel.\n",
        "\n",
        "(Pause)\n",
        "\n",
        "Ross: The word you're looking for is 'Anyway'...\n",
        "\n",
        "Monica: All right, you ready?\n",
        "\n",
        "Rachel: No.  No, no, I'm not ready!  How can I be ready?  \"Hey, Rach!  You ready to jump out the airplane without your parachute?\"  Come on, I can't do this!\n",
        "\n",
        "Monica: You can, I know you can!\n",
        "\n",
        "Rachel: I don't think so.\n",
        "\n",
        "Ross: Come on, you made coffee!   You can do anything! (Chandler slowly tries to hide the now dead plant from that morning when he and Joey poured their coffee into it.)\n",
        "\n",
        "Ross: C'mon, cut. Cut, cut, cut,...\n",
        "\n",
        "All: Cut, cut, cut, cut, cut, cut, cut... (She cuts one of them and they cheer.)\n",
        "\n",
        "Rachel: Y'know what?  I think we can just leave it at that.  It's kinda like a symbolic gesture...\n",
        "\n",
        "Monica:  Rachel!  That was a library card!\n",
        "\n",
        "All: Cut, cut, cut, cut, cut, cut, cut..\n",
        "\n",
        "Chandler: (as Rachel is cutting up her cards) Y'know, if you listen closely, you can hear a thousand retailers scream.\n",
        "\n",
        "(She finishes cutting them up and they all cheer.)\n",
        "\n",
        "Monica: Welcome to the real world! It sucks. You're gonna love it!\n",
        "\n",
        "[Time Lapse, Rachel and Ross are watching a TV channel finishes it's broadcast day by playing the national anthem.]\n",
        "\n",
        "Monica: Well, that's it (To Ross) You gonna crash on the couch?\n",
        "\n",
        "Ross: No. No, I gotta go home sometime.\n",
        "\n",
        "Monica: You be okay?\n",
        "\n",
        "Ross: Yeah.\n",
        "\n",
        "Rachel: Hey Mon, look what I just found on the floor. (Monica smiles.) What?\n",
        "\n",
        "Monica: That's Paul's watch. You just put it back where you found it. Oh boy. Alright. Goodnight, everybody.\n",
        "\n",
        "Ross and Rachel: Goodnight.\n",
        "\n",
        "(Monica stomps on Paul's watch and goes into her room.)\n",
        "\n",
        "Ross: Mmm. (They both reach for the last cookie) Oh, no-\n",
        "\n",
        "Rachel: Sorry-\n",
        "\n",
        "Ross: No no no, go-\n",
        "\n",
        "Rachel: No, you have it, really, I don't want it-\n",
        "\n",
        "Ross: Split it?\n",
        "\n",
        "Rachel: Okay.\n",
        "\n",
        "Ross: Okay. (They split it.) You know you probably didn't know this, but back in high school, I had a, um, major crush on you.\n",
        "\n",
        "Rachel: I knew.\n",
        "\n",
        "Ross: You did! Oh.... I always figured you just thought I was Monica's geeky older brother.\n",
        "\n",
        "Rachel: I did.\n",
        "\n",
        "Ross: Oh. Listen, do you think- and try not to let my intense vulnerability become any kind of a factor here- but do you think it would be okay if I asked you out? Sometime? Maybe?\n",
        "\n",
        "Rachel: Yeah, maybe...\n",
        "\n",
        "Ross: Okay... okay, maybe I will...\n",
        "\n",
        "Rachel: Goodnight.\n",
        "\n",
        "Ross: Goodnight.\n",
        "\n",
        "(Rachel goes into her room and Monica enters the living room as Ross is leaving.)\n",
        "\n",
        "Monica: See ya.... Waitwait, what's with you?\n",
        "\n",
        "Ross: I just grabbed a spoon. (Ross exits and Monica has no idea what that means.)\n",
        "\n",
        "Closing Credits\n",
        "\n",
        "[Scene: Central Perk, everyone is there.]\n",
        "\n",
        "Joey: I can't believe what I'm hearing here.\n",
        "\n",
        "Phoebe: (sings) I can't believe what I'm hearing here...\n",
        "\n",
        "Monica: What? I-I said you had a-\n",
        "\n",
        "Phoebe: (sings) What I said you had...\n",
        "\n",
        "Monica: (to Phoebe) Would you stop?\n",
        "\n",
        "Phoebe: Oh, was I doing it again?\n",
        "\n",
        "All: Yes!\n",
        "\n",
        "Monica: I said that you had a nice butt, it's just not a great butt.\n",
        "\n",
        "Joey: Oh, you wouldn't know a great butt if it came up and bit ya.\n",
        "\n",
        "Ross: There's an image.\n",
        "\n",
        "Rachel: (walks up with a pot of coffee) Would anybody like more coffee?\n",
        "\n",
        "Chandler: Did you make it, or are you just serving it?\n",
        "\n",
        "Rachel: I'm just serving it.\n",
        "\n",
        "All: Yeah. Yeah, I'll have a cup of coffee.\n",
        "\n",
        "Chandler: Kids, new dream... I'm in Las Vegas. (Rachel sits down to hear Chandler's dream.)\n",
        "\n",
        "Customer: (To Rachel) Ahh, miss?   More coffee?\n",
        "\n",
        "Rachel: Ugh. (To another customer that's leaving.) Excuse me, could you give this to that guy over there? (Hands him the coffee pot.) Go ahead. (He does so.) Thank you. (To the gang.) Sorry.  Okay, Las Vegas.\n",
        "\n",
        "Chandler: Okay, so, I'm in Las Vegas... I'm Liza Minelli-\n",
        "\n"
      ],
      "metadata": {
        "colab": {
          "base_uri": "https://localhost:8080/"
        },
        "id": "mDSX5M73TLqa",
        "outputId": "36b4a94c-3237-4c8b-cfd9-7531616aed99"
      },
      "execution_count": null,
      "outputs": [
        {
          "output_type": "stream",
          "name": "stdout",
          "text": [
            "Writing friends101.txt\n"
          ]
        }
      ]
    },
    {
      "cell_type": "code",
      "source": [
        "ls"
      ],
      "metadata": {
        "colab": {
          "base_uri": "https://localhost:8080/"
        },
        "id": "KVGegFuVVJuE",
        "outputId": "536bf1d2-3086-40ca-fae5-804e3915244d"
      },
      "execution_count": null,
      "outputs": [
        {
          "output_type": "stream",
          "name": "stdout",
          "text": [
            "\u001b[0m\u001b[01;32manscombe.json\u001b[0m*                friends101.txt         \u001b[01;32mREADME.md\u001b[0m*\n",
            "california_housing_test.csv   mnist_test.csv         test\n",
            "california_housing_train.csv  mnist_train_small.csv\n"
          ]
        }
      ]
    },
    {
      "cell_type": "code",
      "source": [
        "cp friends101.txt ../"
      ],
      "metadata": {
        "id": "DiSFzkHWVLA5"
      },
      "execution_count": null,
      "outputs": []
    },
    {
      "cell_type": "code",
      "source": [
        "cd ../"
      ],
      "metadata": {
        "colab": {
          "base_uri": "https://localhost:8080/"
        },
        "id": "ZVOHmk9lVTYM",
        "outputId": "1456c53a-2da3-4712-cfdd-ce39496c6c48"
      },
      "execution_count": null,
      "outputs": [
        {
          "output_type": "stream",
          "name": "stdout",
          "text": [
            "/content\n"
          ]
        }
      ]
    },
    {
      "cell_type": "code",
      "source": [
        "ls"
      ],
      "metadata": {
        "colab": {
          "base_uri": "https://localhost:8080/"
        },
        "id": "f4BndOrZVT9f",
        "outputId": "4aeebaea-f6d0-4b0f-8235-ef9d060da474"
      },
      "execution_count": null,
      "outputs": [
        {
          "output_type": "stream",
          "name": "stdout",
          "text": [
            "ex1.csv  ex3.txt  ex6.csv         No_index.csv  pipe.csv      test.csv\n",
            "ex2.csv  ex4.csv  ex7.csv         null_csv      \u001b[0m\u001b[01;34msample_data\u001b[0m/\n",
            "ex3.csv  ex5.csv  friends101.txt  out.csv       test\n"
          ]
        }
      ]
    },
    {
      "cell_type": "code",
      "source": [
        "pwd"
      ],
      "metadata": {
        "colab": {
          "base_uri": "https://localhost:8080/",
          "height": 36
        },
        "id": "CfwclmRNVUkx",
        "outputId": "6a7cf28f-d917-449e-de50-cd866e3ffbd2"
      },
      "execution_count": null,
      "outputs": [
        {
          "output_type": "execute_result",
          "data": {
            "text/plain": [
              "'/content'"
            ],
            "application/vnd.google.colaboratory.intrinsic+json": {
              "type": "string"
            }
          },
          "metadata": {},
          "execution_count": 88
        }
      ]
    },
    {
      "cell_type": "code",
      "source": [
        "ls"
      ],
      "metadata": {
        "colab": {
          "base_uri": "https://localhost:8080/"
        },
        "id": "RngkbRYiVaq_",
        "outputId": "5f3f32e7-1166-4e63-c9c8-ed44f409f779"
      },
      "execution_count": null,
      "outputs": [
        {
          "output_type": "stream",
          "name": "stdout",
          "text": [
            "ex1.csv  ex3.txt  ex6.csv         No_index.csv  pipe.csv      test.csv\n",
            "ex2.csv  ex4.csv  ex7.csv         null_csv      \u001b[0m\u001b[01;34msample_data\u001b[0m/\n",
            "ex3.csv  ex5.csv  friends101.txt  out.csv       test\n"
          ]
        }
      ]
    },
    {
      "cell_type": "code",
      "source": [
        "cd sample_data"
      ],
      "metadata": {
        "colab": {
          "base_uri": "https://localhost:8080/"
        },
        "id": "AVBoPxoZVbZy",
        "outputId": "f080e7e7-167c-45fc-d84a-d3c0723c549a"
      },
      "execution_count": null,
      "outputs": [
        {
          "output_type": "stream",
          "name": "stdout",
          "text": [
            "/content/sample_data\n"
          ]
        }
      ]
    },
    {
      "cell_type": "code",
      "source": [
        "ls"
      ],
      "metadata": {
        "colab": {
          "base_uri": "https://localhost:8080/"
        },
        "id": "HKJh4t86VdBg",
        "outputId": "b8d111f2-d908-49fe-9a49-48ab68237c26"
      },
      "execution_count": null,
      "outputs": [
        {
          "output_type": "stream",
          "name": "stdout",
          "text": [
            "\u001b[0m\u001b[01;32manscombe.json\u001b[0m*                friends101.txt         \u001b[01;32mREADME.md\u001b[0m*\n",
            "california_housing_test.csv   mnist_test.csv         test\n",
            "california_housing_train.csv  mnist_train_small.csv\n"
          ]
        }
      ]
    },
    {
      "cell_type": "code",
      "source": [
        "cd ../"
      ],
      "metadata": {
        "colab": {
          "base_uri": "https://localhost:8080/"
        },
        "id": "COY32dTxVdvv",
        "outputId": "1ff95da9-5eb0-498c-eaed-bf08e64bc4e5"
      },
      "execution_count": null,
      "outputs": [
        {
          "output_type": "stream",
          "name": "stdout",
          "text": [
            "/content\n"
          ]
        }
      ]
    },
    {
      "cell_type": "code",
      "source": [
        "pwd"
      ],
      "metadata": {
        "colab": {
          "base_uri": "https://localhost:8080/",
          "height": 36
        },
        "id": "-Zkw1Kg0Vf3O",
        "outputId": "ebd8a9bf-5b9c-4ddc-ef85-7d76673d03fc"
      },
      "execution_count": null,
      "outputs": [
        {
          "output_type": "execute_result",
          "data": {
            "text/plain": [
              "'/content'"
            ],
            "application/vnd.google.colaboratory.intrinsic+json": {
              "type": "string"
            }
          },
          "metadata": {},
          "execution_count": 93
        }
      ]
    },
    {
      "cell_type": "code",
      "source": [
        "ls"
      ],
      "metadata": {
        "colab": {
          "base_uri": "https://localhost:8080/"
        },
        "id": "2j0gwdtqVgch",
        "outputId": "6785f3ef-9e6a-42ce-ebf8-6a5d5763f41e"
      },
      "execution_count": null,
      "outputs": [
        {
          "output_type": "stream",
          "name": "stdout",
          "text": [
            "ex1.csv  ex3.txt  ex6.csv         No_index.csv  pipe.csv      test.csv\n",
            "ex2.csv  ex4.csv  ex7.csv         null_csv      \u001b[0m\u001b[01;34msample_data\u001b[0m/\n",
            "ex3.csv  ex5.csv  friends101.txt  out.csv       test\n"
          ]
        }
      ]
    },
    {
      "cell_type": "code",
      "source": [
        "!head friends101.txt"
      ],
      "metadata": {
        "colab": {
          "base_uri": "https://localhost:8080/"
        },
        "id": "fwQPRmrUVmw0",
        "outputId": "206d059b-95bb-4feb-e2fc-d8d22cf060fa"
      },
      "execution_count": null,
      "outputs": [
        {
          "output_type": "stream",
          "name": "stdout",
          "text": [
            "The One Where Monica Gets a New Roommate (The Pilot-The Uncut Version)\n",
            "Written by: Marta Kauffman & David Crane\n",
            "Transcribed by: guineapig\n",
            "Additional transcribing by: Eric Aasen\n",
            "(Note: The previously unseen parts of this episode are shown in blue text.)\n",
            "\n",
            "[Scene: Central Perk, Chandler, Joey, Phoebe, and Monica are there.]\n",
            "\n",
            "Monica: There's nothing to tell! He's just some guy I work with!\n",
            "\n"
          ]
        }
      ]
    },
    {
      "cell_type": "code",
      "source": [
        "!tail friends101.txt"
      ],
      "metadata": {
        "colab": {
          "base_uri": "https://localhost:8080/"
        },
        "id": "n2-Ug_KFVwRt",
        "outputId": "0e2a6afb-3273-4052-b3bf-ba1d98c2290f"
      },
      "execution_count": null,
      "outputs": [
        {
          "output_type": "stream",
          "name": "stdout",
          "text": [
            "All: Yeah. Yeah, I'll have a cup of coffee.\n",
            "\n",
            "Chandler: Kids, new dream... I'm in Las Vegas. (Rachel sits down to hear Chandler's dream.)\n",
            "\n",
            "Customer: (To Rachel) Ahh, miss?   More coffee?\n",
            "\n",
            "Rachel: Ugh. (To another customer that's leaving.) Excuse me, could you give this to that guy over there? (Hands him the coffee pot.) Go ahead. (He does so.) Thank you. (To the gang.) Sorry.  Okay, Las Vegas.\n",
            "\n",
            "Chandler: Okay, so, I'm in Las Vegas... I'm Liza Minelli-\n",
            "\n"
          ]
        }
      ]
    },
    {
      "cell_type": "code",
      "source": [
        "ls"
      ],
      "metadata": {
        "colab": {
          "base_uri": "https://localhost:8080/"
        },
        "id": "JrlERBbUV1p5",
        "outputId": "3e2b321f-4e08-475d-8246-f3869bf58da2"
      },
      "execution_count": null,
      "outputs": [
        {
          "output_type": "stream",
          "name": "stdout",
          "text": [
            "ex1.csv  ex3.txt  ex6.csv         No_index.csv  pipe.csv      test.csv\n",
            "ex2.csv  ex4.csv  ex7.csv         null_csv      \u001b[0m\u001b[01;34msample_data\u001b[0m/\n",
            "ex3.csv  ex5.csv  friends101.txt  out.csv       test\n"
          ]
        }
      ]
    },
    {
      "cell_type": "code",
      "source": [
        "rm *.csv"
      ],
      "metadata": {
        "id": "fRRv_ujMV_6L"
      },
      "execution_count": null,
      "outputs": []
    },
    {
      "cell_type": "code",
      "source": [
        "ls"
      ],
      "metadata": {
        "colab": {
          "base_uri": "https://localhost:8080/"
        },
        "id": "lnVd1vRjWFea",
        "outputId": "2b6b2fad-686f-42d2-c0db-96f129adbaa6"
      },
      "execution_count": null,
      "outputs": [
        {
          "output_type": "stream",
          "name": "stdout",
          "text": [
            "ex3.txt  friends101.txt  null_csv  \u001b[0m\u001b[01;34msample_data\u001b[0m/  test\n"
          ]
        }
      ]
    },
    {
      "cell_type": "code",
      "source": [
        "rm test null_csv"
      ],
      "metadata": {
        "id": "AZOfcNx_WGVY"
      },
      "execution_count": null,
      "outputs": []
    },
    {
      "cell_type": "code",
      "source": [
        "ls"
      ],
      "metadata": {
        "colab": {
          "base_uri": "https://localhost:8080/"
        },
        "id": "nhPTuAm_WJbG",
        "outputId": "5bfe6a80-b6b0-4252-95a9-0cefbbee3189"
      },
      "execution_count": null,
      "outputs": [
        {
          "output_type": "stream",
          "name": "stdout",
          "text": [
            "ex3.txt  friends101.txt  \u001b[0m\u001b[01;34msample_data\u001b[0m/\n"
          ]
        }
      ]
    },
    {
      "cell_type": "code",
      "source": [
        "with open('friends101.txt') as f:\n",
        "    script101 = f.read()"
      ],
      "metadata": {
        "id": "QlBWIqJ8WVWV"
      },
      "execution_count": null,
      "outputs": []
    },
    {
      "cell_type": "code",
      "source": [
        "script101[:100]"
      ],
      "metadata": {
        "colab": {
          "base_uri": "https://localhost:8080/",
          "height": 54
        },
        "id": "o7F4KMo1W2wz",
        "outputId": "a3136f2b-b01e-47fb-be05-5b872c6bb14f"
      },
      "execution_count": null,
      "outputs": [
        {
          "output_type": "execute_result",
          "data": {
            "text/plain": [
              "'The One Where Monica Gets a New Roommate (The Pilot-The Uncut Version)\\nWritten by: Marta Kauffman & '"
            ],
            "application/vnd.google.colaboratory.intrinsic+json": {
              "type": "string"
            }
          },
          "metadata": {},
          "execution_count": 103
        }
      ]
    },
    {
      "cell_type": "code",
      "source": [
        "ls"
      ],
      "metadata": {
        "colab": {
          "base_uri": "https://localhost:8080/"
        },
        "id": "_D92ptElW4Up",
        "outputId": "8bf1f301-398d-4115-97df-b61f7ccd6066"
      },
      "execution_count": null,
      "outputs": [
        {
          "output_type": "stream",
          "name": "stdout",
          "text": [
            "ex3.txt  friends101.txt  \u001b[0m\u001b[01;34msample_data\u001b[0m/\n"
          ]
        }
      ]
    },
    {
      "cell_type": "code",
      "source": [
        "Line = re.findall(r'Monica:.+', script101)"
      ],
      "metadata": {
        "id": "O_xAuuR3XJNh"
      },
      "execution_count": null,
      "outputs": []
    },
    {
      "cell_type": "code",
      "source": [
        "Line[:3]"
      ],
      "metadata": {
        "colab": {
          "base_uri": "https://localhost:8080/"
        },
        "id": "cdLiHeAAYG_Y",
        "outputId": "4e9dff69-f19c-4851-90c8-c4255de8d78c"
      },
      "execution_count": null,
      "outputs": [
        {
          "output_type": "execute_result",
          "data": {
            "text/plain": [
              "[\"Monica: There's nothing to tell! He's just some guy I work with!\",\n",
              " \"Monica: Okay, everybody relax. This is not even a date. It's just two people going out to dinner and- not having sex.\",\n",
              " \"Monica: And they weren't looking at you before?!\"]"
            ]
          },
          "metadata": {},
          "execution_count": 106
        }
      ]
    },
    {
      "cell_type": "code",
      "source": [
        "Line"
      ],
      "metadata": {
        "id": "sfLI27B7YIva"
      },
      "execution_count": null,
      "outputs": []
    },
    {
      "cell_type": "markdown",
      "source": [
        "리스트 Line을 텍스트 파일로 저장 해주세요.\n",
        "\n",
        "파일 이름 : monica.txt"
      ],
      "metadata": {
        "id": "o_-7V3PqYoCF"
      }
    },
    {
      "cell_type": "code",
      "source": [
        "with open('monica.txt','w',encoding='utf8') as f:\n",
        "    f.writelines(Line)"
      ],
      "metadata": {
        "id": "YVQBjq38YZGu"
      },
      "execution_count": null,
      "outputs": []
    },
    {
      "cell_type": "code",
      "source": [
        "ls"
      ],
      "metadata": {
        "colab": {
          "base_uri": "https://localhost:8080/"
        },
        "id": "6Wl-vW3eaGOK",
        "outputId": "2f16ced4-c641-4649-f146-a2fcb5c36456"
      },
      "execution_count": null,
      "outputs": [
        {
          "output_type": "stream",
          "name": "stdout",
          "text": [
            "ex3.txt  friends101.txt  monica.txt  \u001b[0m\u001b[01;34msample_data\u001b[0m/\n"
          ]
        }
      ]
    },
    {
      "cell_type": "code",
      "source": [
        "!head monica.txt"
      ],
      "metadata": {
        "colab": {
          "base_uri": "https://localhost:8080/"
        },
        "id": "RESf4cR7aOcw",
        "outputId": "001c14d2-d39c-41de-a4e8-481cd5a019cc"
      },
      "execution_count": null,
      "outputs": [
        {
          "output_type": "stream",
          "name": "stdout",
          "text": [
            "Monica: There's nothing to tell! He's just some guy I work with!Monica: Okay, everybody relax. This is not even a date. It's just two people going out to dinner and- not having sex.Monica: And they weren't looking at you before?!Monica: Are you okay, sweetie?Monica: (explaining to the others) Carol moved her stuff out today.Monica: (to Ross) Let me get you some coffee.Monica: No you don't.Monica: Oh really, so that hysterical phone call I got from a woman at sobbing 3:00 A.M., \"I'll never have grandchildren, I'll never have grandchildren.\" was what?  A wrong number?Monica: Rachel?!Monica: (pointing at Rachel) De-caff. (to All) Okay, everybody, this is Rachel, another Lincoln High survivor. (to Rachel) This is everybody, this is Chandler, and Phoebe, and Joey, and- you remember my brother Ross?Monica: So you wanna tell us now, or are we waiting for four wet bridesmaids?Monica: Who wasn't invited to the wedding.Monica: Now I'm guessing that he bought her the big pipe organ, and she's really not happy about it.Monica: Well, I guess we've established who's staying here with Monica...Monica: Just breathe, breathe.. that's it. Just try to think of nice calm things...Monica: Okay, look, this is probably for the best, y'know? Independence. Taking control of your life.  The whole, 'hat' thing.Monica: Joey, stop hitting on her! It's her wedding day!Monica: Oh God, is it 6:30?  Buzz him in!Monica: Maybe. Joey: Wait. Your 'not a real date' tonight is with Paul the Wine Guy?Monica: Yes!Monica: Rach, wait, I can cancel...Monica: (to Ross) Are, are you okay? I mean, do you want me to stay?Monica: (horrified) Really?Monica: Hi, come in! Paul, this is.. (They are all lined up next to the door.)... everybody, everybody, this is Paul.Monica: Okay, umm-umm, I'll just--I'll be right back, I just gotta go ah, go ah...Monica: Change!  Okay, sit down. (Shows Paul in) Two seconds.Monica: (yelling from the bedroom) Shut up, Joey!Monica: Oh my God!Monica: My brother's going through that right now, he's such a mess. How did you get through it?Monica: -leg?Monica: You actually broke her watch?  Wow!  The worst thing I ever did was, I-I shredded by boyfriend's favorite bath towel.Monica: That's right. [Scene: Monica's Apartment, Rachel is talking on the phone and pacing.]Monica: What?..... What, you wanna spell it out with noodles?Monica: Oh, so there is gonna be a fifth date?Monica: Yeah... yeah, I think there is. -What were you gonna say?Monica: (spitting out her drink in shock) Oh God, oh God, I am sorry... I am so sorry...Monica: I know being spit on is probably not what you need right now. Um... how long?Monica: Wow! I'm-I'm-I'm glad you smashed her watch!Monica: (pause)...Yeah. Yeah, I do.Monica: (entering, to herself) Oh good, Lenny and Squigy are here.Monica: Stop!Monica: We'll talk later.Monica: Shut up, and put my table back.Monica: Yeah, we all have jobs. See, that's how we buy stuff.Monica: Oh wait, wait, unless you happened to catch the Reruns' production of Pinocchio, at the little theater in the park.Monica: So how you doing today? Did you sleep okay? Talk to Barry? I can't stop smiling.Monica: I know, he's just so, so... Do you remember you and Tony DeMarco?Monica: Well, it's like that. With feelings.Monica: Big time!Monica: I think we are getting a little ahead of selves here. Okay. Okay. I am just going to get up, go to work and not think about him all day. Or else I'm just gonna get up and go to work.Monica: What for?Monica: Hey Frannie, welcome back! How was Florida?Monica: How do you do that?Monica: You know Paul?Monica: You mean you know Paul like I know Paul?Monica: Why?! Why? Why, why would anybody do something like that?Monica: I hate men!  I hate men!Monica: Is it me? Is it like I have some sort of beacon that only dogs and men with severe emotional problems can hear?Monica: I just thought he was nice, y'know?Monica: How'd you pay for them?Monica: And who pays for that?Monica: C'mon, you can't live off your parents your whole life.Monica: All right, you ready?Monica: You can, I know you can!Monica:  Rachel!  That was a library card!Monica: Welcome to the real world! It sucks. You're gonna love it!Monica: Well, that's it (To Ross) You gonna crash on the couch?Monica: You be okay?Monica: That's Paul's watch. You just put it back where you found it. Oh boy. Alright. Goodnight, everybody.Monica: See ya.... Waitwait, what's with you?Monica: What? I-I said you had a-Monica: (to Phoebe) Would you stop?Monica: I said that you had a nice butt, it's just not a great butt."
          ]
        }
      ]
    },
    {
      "cell_type": "code",
      "source": [
        "with open('monica.txt','w',encoding='utf8') as f:\n",
        "    f.write('\\n'.join(Line))"
      ],
      "metadata": {
        "id": "3t6ZcTBYaScV"
      },
      "execution_count": null,
      "outputs": []
    },
    {
      "cell_type": "code",
      "source": [
        "!head monica.txt"
      ],
      "metadata": {
        "colab": {
          "base_uri": "https://localhost:8080/"
        },
        "id": "3Eyf7WjuaigB",
        "outputId": "07232e29-3946-4307-95bf-eb220b16e1c2"
      },
      "execution_count": null,
      "outputs": [
        {
          "output_type": "stream",
          "name": "stdout",
          "text": [
            "Monica: There's nothing to tell! He's just some guy I work with!\n",
            "Monica: Okay, everybody relax. This is not even a date. It's just two people going out to dinner and- not having sex.\n",
            "Monica: And they weren't looking at you before?!\n",
            "Monica: Are you okay, sweetie?\n",
            "Monica: (explaining to the others) Carol moved her stuff out today.\n",
            "Monica: (to Ross) Let me get you some coffee.\n",
            "Monica: No you don't.\n",
            "Monica: Oh really, so that hysterical phone call I got from a woman at sobbing 3:00 A.M., \"I'll never have grandchildren, I'll never have grandchildren.\" was what?  A wrong number?\n",
            "Monica: Rachel?!\n",
            "Monica: (pointing at Rachel) De-caff. (to All) Okay, everybody, this is Rachel, another Lincoln High survivor. (to Rachel) This is everybody, this is Chandler, and Phoebe, and Joey, and- you remember my brother Ross?\n"
          ]
        }
      ]
    },
    {
      "cell_type": "code",
      "source": [
        "sample_list=['test', 'python', 'program']"
      ],
      "metadata": {
        "id": "XznlzBVPaloM"
      },
      "execution_count": null,
      "outputs": []
    },
    {
      "cell_type": "code",
      "source": [
        "print('\\n'.join(sample_list))"
      ],
      "metadata": {
        "colab": {
          "base_uri": "https://localhost:8080/"
        },
        "id": "jbdf1rmIa6k3",
        "outputId": "16ce5ad8-07c3-4d97-a440-3128c25701e3"
      },
      "execution_count": null,
      "outputs": [
        {
          "output_type": "stream",
          "name": "stdout",
          "text": [
            "test\n",
            "python\n",
            "program\n"
          ]
        }
      ]
    },
    {
      "cell_type": "code",
      "source": [
        "char = re.compile(r'[A-Z][a-z]+:')"
      ],
      "metadata": {
        "id": "cr8pflnAa9e3"
      },
      "execution_count": null,
      "outputs": []
    },
    {
      "cell_type": "code",
      "source": [
        "char"
      ],
      "metadata": {
        "colab": {
          "base_uri": "https://localhost:8080/"
        },
        "id": "ChpRjI6xb2Oy",
        "outputId": "086b6ff3-de53-4886-c3af-a79009f21214"
      },
      "execution_count": null,
      "outputs": [
        {
          "output_type": "execute_result",
          "data": {
            "text/plain": [
              "re.compile(r'[A-Z][a-z]+:', re.UNICODE)"
            ]
          },
          "metadata": {},
          "execution_count": 117
        }
      ]
    },
    {
      "cell_type": "code",
      "source": [
        "re.findall(char, script101)"
      ],
      "metadata": {
        "id": "Cg3xrw0jb23j"
      },
      "execution_count": null,
      "outputs": []
    },
    {
      "cell_type": "code",
      "source": [
        "set(re.findall(char, script101))"
      ],
      "metadata": {
        "colab": {
          "base_uri": "https://localhost:8080/"
        },
        "id": "HV1cqu7VcYf3",
        "outputId": "60307235-c0f8-4006-f7e1-a4ea1cee85ee"
      },
      "execution_count": null,
      "outputs": [
        {
          "output_type": "execute_result",
          "data": {
            "text/plain": [
              "{'All:',\n",
              " 'Chandler:',\n",
              " 'Customer:',\n",
              " 'Frannie:',\n",
              " 'Joey:',\n",
              " 'Monica:',\n",
              " 'Note:',\n",
              " 'Paul:',\n",
              " 'Phoebe:',\n",
              " 'Rachel:',\n",
              " 'Ross:',\n",
              " 'Scene:',\n",
              " 'Waitress:'}"
            ]
          },
          "metadata": {},
          "execution_count": 119
        }
      ]
    },
    {
      "cell_type": "code",
      "source": [
        "{1, 2, 3, 1, 2, 3}"
      ],
      "metadata": {
        "colab": {
          "base_uri": "https://localhost:8080/"
        },
        "id": "4islv4bNclyq",
        "outputId": "ea84a600-5934-4bef-dbdb-5be6bd8dbf0c"
      },
      "execution_count": null,
      "outputs": [
        {
          "output_type": "execute_result",
          "data": {
            "text/plain": [
              "{1, 2, 3}"
            ]
          },
          "metadata": {},
          "execution_count": 120
        }
      ]
    },
    {
      "cell_type": "code",
      "source": [
        "list_sample = [1, 2, 1, 2, 2, 1]"
      ],
      "metadata": {
        "id": "lq4UlfzQczeA"
      },
      "execution_count": null,
      "outputs": []
    },
    {
      "cell_type": "code",
      "source": [
        "set(list_sample)"
      ],
      "metadata": {
        "colab": {
          "base_uri": "https://localhost:8080/"
        },
        "id": "a8BIGbN_c4tY",
        "outputId": "168eb94c-e43c-4c1f-d730-5e3c39a9e457"
      },
      "execution_count": null,
      "outputs": [
        {
          "output_type": "execute_result",
          "data": {
            "text/plain": [
              "{1, 2}"
            ]
          },
          "metadata": {},
          "execution_count": 122
        }
      ]
    },
    {
      "cell_type": "code",
      "source": [
        "list(set(re.findall(char, script101)))"
      ],
      "metadata": {
        "colab": {
          "base_uri": "https://localhost:8080/"
        },
        "id": "7bkz40X_c6fs",
        "outputId": "50eca4b2-49bd-45d8-d1ee-4211565de104"
      },
      "execution_count": null,
      "outputs": [
        {
          "output_type": "execute_result",
          "data": {
            "text/plain": [
              "['Paul:',\n",
              " 'Note:',\n",
              " 'Joey:',\n",
              " 'Monica:',\n",
              " 'Customer:',\n",
              " 'Frannie:',\n",
              " 'All:',\n",
              " 'Scene:',\n",
              " 'Ross:',\n",
              " 'Phoebe:',\n",
              " 'Chandler:',\n",
              " 'Waitress:',\n",
              " 'Rachel:']"
            ]
          },
          "metadata": {},
          "execution_count": 124
        }
      ]
    },
    {
      "cell_type": "code",
      "source": [
        "char.findall(script101)"
      ],
      "metadata": {
        "id": "xeNlzZnodK4F"
      },
      "execution_count": null,
      "outputs": []
    },
    {
      "cell_type": "code",
      "source": [
        "re.findall(char, script101)"
      ],
      "metadata": {
        "id": "Rrsp4xj08GLW"
      },
      "execution_count": null,
      "outputs": []
    },
    {
      "cell_type": "code",
      "source": [
        "char.findall"
      ],
      "metadata": {
        "id": "hJ-DEwe18vLb"
      },
      "execution_count": null,
      "outputs": []
    },
    {
      "cell_type": "code",
      "source": [
        "z = list(set(re.findall(char, script101)))"
      ],
      "metadata": {
        "id": "WmhEGmC39LUM"
      },
      "execution_count": null,
      "outputs": []
    },
    {
      "cell_type": "code",
      "source": [
        "name_list=[]\n",
        "for i in z:\n",
        "    name_list.append(i[:-1])"
      ],
      "metadata": {
        "id": "ZGSfcV9G9MrN"
      },
      "execution_count": null,
      "outputs": []
    },
    {
      "cell_type": "code",
      "source": [
        "name_list"
      ],
      "metadata": {
        "colab": {
          "base_uri": "https://localhost:8080/"
        },
        "id": "3LQkUrz69OS6",
        "outputId": "a39ab6bb-3447-42c5-9e57-5d9f7202d760"
      },
      "execution_count": null,
      "outputs": [
        {
          "output_type": "execute_result",
          "data": {
            "text/plain": [
              "['Paul',\n",
              " 'Note',\n",
              " 'Joey',\n",
              " 'Monica',\n",
              " 'Customer',\n",
              " 'Frannie',\n",
              " 'All',\n",
              " 'Scene',\n",
              " 'Ross',\n",
              " 'Phoebe',\n",
              " 'Chandler',\n",
              " 'Waitress',\n",
              " 'Rachel']"
            ]
          },
          "metadata": {},
          "execution_count": 130
        }
      ]
    },
    {
      "cell_type": "markdown",
      "source": [
        "\" a = 123 \"\n",
        "\n",
        "a, 123\n",
        "\n",
        "([_a-zA-Z]\\w*)\\s* = ( )\n",
        "\n",
        "\n",
        "ls *.csv\n",
        "\n",
        "\n",
        "^ : 부정, 맨 앞글자\n",
        "\n",
        "$ : 맨뒷글자"
      ],
      "metadata": {
        "id": "6WBRfGlP-_ya"
      }
    },
    {
      "cell_type": "code",
      "source": [
        "re.findall(r'\\([A-Za-z].+?[a-z|\\.]\\)', script101)[:6]"
      ],
      "metadata": {
        "colab": {
          "base_uri": "https://localhost:8080/"
        },
        "id": "bzlzSxRq9XfQ",
        "outputId": "8ac2b078-d8c1-4005-c6f0-551d696e3143"
      },
      "execution_count": null,
      "outputs": [
        {
          "output_type": "execute_result",
          "data": {
            "text/plain": [
              "['(The Pilot-The Uncut Version)',\n",
              " '(Note: The previously unseen parts of this episode are shown in blue text.)',\n",
              " '(They all stare, bemused.)',\n",
              " '(mortified)',\n",
              " '(explaining to the others)',\n",
              " '(to Ross)']"
            ]
          },
          "metadata": {},
          "execution_count": 131
        }
      ]
    },
    {
      "cell_type": "code",
      "source": [
        "with open('friends101.txt') as f:\n",
        "    sentences = f.readlines()"
      ],
      "metadata": {
        "id": "wndv7ZIpB73j"
      },
      "execution_count": null,
      "outputs": []
    },
    {
      "cell_type": "code",
      "source": [
        "lines = []\n",
        "for i in sentences:\n",
        "    if re.match(r'[A-Za-z]+:', i):\n",
        "        lines.append(i)"
      ],
      "metadata": {
        "id": "f0VRQYW7CzpV"
      },
      "execution_count": null,
      "outputs": []
    },
    {
      "cell_type": "code",
      "source": [
        "lines[:4]"
      ],
      "metadata": {
        "colab": {
          "base_uri": "https://localhost:8080/"
        },
        "id": "ffF12DPOC0fw",
        "outputId": "d8d4cb95-9ebd-46c3-e77c-8eb0f3a71e56"
      },
      "execution_count": null,
      "outputs": [
        {
          "output_type": "execute_result",
          "data": {
            "text/plain": [
              "[\"Monica: There's nothing to tell! He's just some guy I work with!\\n\",\n",
              " \"Joey: C'mon, you're going out with the guy! There's gotta be something wrong with him!\\n\",\n",
              " 'Chandler: All right Joey, be nice.  So does he have a hump? A hump and a hairpiece?\\n',\n",
              " 'Phoebe: Wait, does he eat chalk?\\n']"
            ]
          },
          "metadata": {},
          "execution_count": 140
        }
      ]
    },
    {
      "cell_type": "code",
      "source": [
        "would_list = []\n",
        "for i in lines:\n",
        "    if re.search('would', i):\n",
        "        would_list.append(i)"
      ],
      "metadata": {
        "id": "hO_HiSoUDXTZ"
      },
      "execution_count": null,
      "outputs": []
    },
    {
      "cell_type": "code",
      "source": [
        "would_list"
      ],
      "metadata": {
        "colab": {
          "base_uri": "https://localhost:8080/"
        },
        "id": "JHVEq_tfDzAT",
        "outputId": "71e3a66c-ebf5-4bbe-edb8-e55e10059c6e"
      },
      "execution_count": null,
      "outputs": [
        {
          "output_type": "execute_result",
          "data": {
            "text/plain": [
              "[\"Rachel: Ooh, I was kinda hoping that wouldn't be an issue... [Scene: Monica's Apartment, everyone is there and watching a Spanish Soap on TV and are trying to figure out what is going on.]\\n\",\n",
              " \"Chandler: I would have to say that is an 'L'-shaped bracket.\\n\",\n",
              " 'Monica: Why?! Why? Why, why would anybody do something like that?\\n',\n",
              " 'Rachel: You would be too if you found John and David boots on sale, fifty percent off!\\n',\n",
              " 'Ross: Oh. Listen, do you think- and try not to let my intense vulnerability become any kind of a factor here- but do you think it would be okay if I asked you out? Sometime? Maybe?\\n',\n",
              " \"Joey: Oh, you wouldn't know a great butt if it came up and bit ya.\\n\"]"
            ]
          },
          "metadata": {},
          "execution_count": 143
        }
      ]
    },
    {
      "cell_type": "code",
      "source": [
        "with open('would.txt', 'w') as f:\n",
        "    f.writelines(would_list)"
      ],
      "metadata": {
        "id": "0j7_UfB4EQ63"
      },
      "execution_count": null,
      "outputs": []
    },
    {
      "cell_type": "code",
      "source": [
        "would_list = []\n",
        "for i in lines:\n",
        "    would_list.append(i)"
      ],
      "metadata": {
        "id": "iq_l2s8dEmA3"
      },
      "execution_count": null,
      "outputs": []
    },
    {
      "cell_type": "code",
      "source": [
        "ls"
      ],
      "metadata": {
        "colab": {
          "base_uri": "https://localhost:8080/"
        },
        "id": "t6zCTOzjFJvE",
        "outputId": "e8190e28-bad8-4d6d-a701-3e488264d8e2"
      },
      "execution_count": null,
      "outputs": [
        {
          "output_type": "stream",
          "name": "stdout",
          "text": [
            "ex3.txt  friends101.txt  monica.txt  \u001b[0m\u001b[01;34msample_data\u001b[0m/  would.txt\n"
          ]
        }
      ]
    },
    {
      "cell_type": "code",
      "source": [
        "cat would.txt"
      ],
      "metadata": {
        "colab": {
          "base_uri": "https://localhost:8080/"
        },
        "id": "2ndhezbcFs4I",
        "outputId": "b3719c82-ae14-41b1-fa16-e985cb8ea592"
      },
      "execution_count": null,
      "outputs": [
        {
          "output_type": "stream",
          "name": "stdout",
          "text": [
            "Rachel: Ooh, I was kinda hoping that wouldn't be an issue... [Scene: Monica's Apartment, everyone is there and watching a Spanish Soap on TV and are trying to figure out what is going on.]\n",
            "Chandler: I would have to say that is an 'L'-shaped bracket.\n",
            "Monica: Why?! Why? Why, why would anybody do something like that?\n",
            "Rachel: You would be too if you found John and David boots on sale, fifty percent off!\n",
            "Ross: Oh. Listen, do you think- and try not to let my intense vulnerability become any kind of a factor here- but do you think it would be okay if I asked you out? Sometime? Maybe?\n",
            "Joey: Oh, you wouldn't know a great butt if it came up and bit ya.\n"
          ]
        }
      ]
    },
    {
      "cell_type": "markdown",
      "source": [
        "re : 파이썬에서 정규식은 re 모듈에서 제공\n",
        "\n",
        "메타 문자 : 다른 문자의 정보를 운반하기 위해 프로그램 소스나 데이터에 끼워 넣는 문자"
      ],
      "metadata": {
        "id": "gt9_B-_vGBVo"
      }
    },
    {
      "cell_type": "markdown",
      "source": [
        "반복과 관련된 메타 문자"
      ],
      "metadata": {
        "id": "HGH0MS8HFu0v"
      }
    },
    {
      "cell_type": "markdown",
      "metadata": {
        "id": "9y7cBVkVu7t7"
      },
      "source": [
        "![스크린샷 2021-02-26 오후 6.47.22.png](data:image/png;base64,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)"
      ]
    },
    {
      "cell_type": "markdown",
      "metadata": {
        "id": "uULYpZwfvT3Y"
      },
      "source": [
        "- 매칭 관련 메타 문자"
      ]
    },
    {
      "cell_type": "markdown",
      "metadata": {
        "id": "tPvMZH57vdAu"
      },
      "source": [
        "![스크린샷 2021-02-26 오후 6.18.18.png](data:image/png;base64,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)"
      ]
    },
    {
      "cell_type": "markdown",
      "metadata": {
        "id": "vjKXxMzzyOn5"
      },
      "source": [
        "[a-c] 는 [abc] 의미, abc 중 한문자와 매칭 되어야 한다.\n",
        "\n",
        "[0-5] 는 [012345] 의미\n",
        "\n",
        "[a-zA-z] 는 알파벳 모두\n",
        "\n",
        "[0-9], \\d : 숫자\n",
        "\n",
        "\\s : 문자\n",
        "\n",
        "**메타 문자 [ ] 안에 사용된 ^ 는 반대 문자열을 의미 한다.**\n",
        "\n",
        "[^0-9], \\D : 숫자가 아닌 문자\n",
        "\n",
        "[a-zA-Z0-9_], \\w : 문자+숫자\n",
        "\n",
        "[^a-zA-Z0-9], \\W : 문자와 숫자가 아닌 문자열들을 매칭"
      ]
    },
    {
      "cell_type": "markdown",
      "metadata": {
        "id": "FptxYdBivczK"
      },
      "source": [
        "- 특수 문자"
      ]
    },
    {
      "cell_type": "markdown",
      "metadata": {
        "id": "bFXRkw8kEk6m"
      },
      "source": [
        "![스크린샷 2021-02-26 오후 8.20.54.png](data:image/png;base64,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)"
      ]
    },
    {
      "cell_type": "markdown",
      "source": [
        "re.match()"
      ],
      "metadata": {
        "id": "snX7PkyYKazb"
      }
    },
    {
      "cell_type": "code",
      "source": [
        "re.match('c[abc]t', 'cbt')"
      ],
      "metadata": {
        "colab": {
          "base_uri": "https://localhost:8080/"
        },
        "id": "yURduN9HKeMh",
        "outputId": "6495b981-c626-4df7-9b30-00c405fca149"
      },
      "execution_count": null,
      "outputs": [
        {
          "output_type": "execute_result",
          "data": {
            "text/plain": [
              "<re.Match object; span=(0, 3), match='cbt'>"
            ]
          },
          "metadata": {},
          "execution_count": 151
        }
      ]
    },
    {
      "cell_type": "code",
      "source": [
        "print(re.match('c[abc]t', 'cat'))\n",
        "print(re.match('c[abc]t', 'cbt'))\n",
        "print(re.match('c[abc]t', 'cct'))\n",
        "print(re.match('c[abc]t', 'ct'))"
      ],
      "metadata": {
        "colab": {
          "base_uri": "https://localhost:8080/"
        },
        "id": "gXos9l5-KlaZ",
        "outputId": "bcf05450-1e92-4ab0-d18f-e5e33c35bbe4"
      },
      "execution_count": null,
      "outputs": [
        {
          "output_type": "stream",
          "name": "stdout",
          "text": [
            "<re.Match object; span=(0, 3), match='cat'>\n",
            "<re.Match object; span=(0, 3), match='cbt'>\n",
            "<re.Match object; span=(0, 3), match='cct'>\n",
            "None\n"
          ]
        }
      ]
    },
    {
      "cell_type": "code",
      "source": [
        "re.match('[1-4]', '84567').group()"
      ],
      "metadata": {
        "colab": {
          "base_uri": "https://localhost:8080/",
          "height": 180
        },
        "id": "hbzUidhEK0My",
        "outputId": "d22a718e-41a0-4965-c5df-fc252c9207d8"
      },
      "execution_count": null,
      "outputs": [
        {
          "output_type": "error",
          "ename": "AttributeError",
          "evalue": "ignored",
          "traceback": [
            "\u001b[0;31m---------------------------------------------------------------------------\u001b[0m",
            "\u001b[0;31mAttributeError\u001b[0m                            Traceback (most recent call last)",
            "\u001b[0;32m<ipython-input-156-1b4bb1836535>\u001b[0m in \u001b[0;36m<cell line: 1>\u001b[0;34m()\u001b[0m\n\u001b[0;32m----> 1\u001b[0;31m \u001b[0mre\u001b[0m\u001b[0;34m.\u001b[0m\u001b[0mmatch\u001b[0m\u001b[0;34m(\u001b[0m\u001b[0;34m'[1-4]'\u001b[0m\u001b[0;34m,\u001b[0m \u001b[0;34m'84567'\u001b[0m\u001b[0;34m)\u001b[0m\u001b[0;34m.\u001b[0m\u001b[0mgroup\u001b[0m\u001b[0;34m(\u001b[0m\u001b[0;34m)\u001b[0m\u001b[0;34m\u001b[0m\u001b[0;34m\u001b[0m\u001b[0m\n\u001b[0m",
            "\u001b[0;31mAttributeError\u001b[0m: 'NoneType' object has no attribute 'group'"
          ]
        }
      ]
    },
    {
      "cell_type": "code",
      "source": [
        "print(re.match('[0-9]', '567').group())\n",
        "print(re.match('[1-4]', '45367').group())\n",
        "print(re.match('5[1-4]', '51267').group())\n",
        "print(re.match('[0-9]+', '512367').group())"
      ],
      "metadata": {
        "colab": {
          "base_uri": "https://localhost:8080/"
        },
        "id": "0dZ9r1ifLCov",
        "outputId": "831da3b0-8175-42c8-cbd6-52f84bb4ad81"
      },
      "execution_count": null,
      "outputs": [
        {
          "output_type": "stream",
          "name": "stdout",
          "text": [
            "5\n",
            "4\n",
            "51\n",
            "512367\n"
          ]
        }
      ]
    },
    {
      "cell_type": "code",
      "source": [
        "print(re.match('[0-9]', '567').group())"
      ],
      "metadata": {
        "colab": {
          "base_uri": "https://localhost:8080/"
        },
        "id": "bcV91CWBLTDN",
        "outputId": "c2b2502b-cb14-49e0-c2f7-6ebabdef58f9"
      },
      "execution_count": null,
      "outputs": [
        {
          "output_type": "stream",
          "name": "stdout",
          "text": [
            "5\n"
          ]
        }
      ]
    },
    {
      "cell_type": "code",
      "source": [
        "print(re.match('\\d', '567').group())"
      ],
      "metadata": {
        "colab": {
          "base_uri": "https://localhost:8080/"
        },
        "id": "HwYJQo5PMGiT",
        "outputId": "7f48d058-a415-4cf2-dbe6-ae6ab62b3c88"
      },
      "execution_count": null,
      "outputs": [
        {
          "output_type": "stream",
          "name": "stdout",
          "text": [
            "5\n"
          ]
        }
      ]
    },
    {
      "cell_type": "code",
      "source": [
        "print(re.match('[0-9]+', '567').group())\n",
        "print(re.match('\\d+', '567').group())"
      ],
      "metadata": {
        "colab": {
          "base_uri": "https://localhost:8080/"
        },
        "id": "1G08jblTMKcr",
        "outputId": "a7d4ccc2-4159-4951-c407-bda05c755b2c"
      },
      "execution_count": null,
      "outputs": [
        {
          "output_type": "stream",
          "name": "stdout",
          "text": [
            "567\n",
            "567\n"
          ]
        }
      ]
    },
    {
      "cell_type": "code",
      "source": [
        "print(re.match(r'https?', 'https'))\n",
        "print(re.match(r'https?', 'http'))"
      ],
      "metadata": {
        "colab": {
          "base_uri": "https://localhost:8080/"
        },
        "id": "0kiAY45GMRsV",
        "outputId": "93044212-c4eb-46ae-a580-c5a6af4a8f0b"
      },
      "execution_count": null,
      "outputs": [
        {
          "output_type": "stream",
          "name": "stdout",
          "text": [
            "<re.Match object; span=(0, 5), match='https'>\n",
            "<re.Match object; span=(0, 4), match='http'>\n"
          ]
        }
      ]
    },
    {
      "cell_type": "code",
      "source": [
        "re.match('python', '10 python')"
      ],
      "metadata": {
        "id": "QaRVkb7NMg7j"
      },
      "execution_count": null,
      "outputs": []
    },
    {
      "cell_type": "code",
      "source": [
        "re.search('python', '10 python')"
      ],
      "metadata": {
        "colab": {
          "base_uri": "https://localhost:8080/"
        },
        "id": "wtoq-3haM5dT",
        "outputId": "8016b2bb-f7a0-45a8-8bb7-d4a17949036f"
      },
      "execution_count": null,
      "outputs": [
        {
          "output_type": "execute_result",
          "data": {
            "text/plain": [
              "<re.Match object; span=(3, 9), match='python'>"
            ]
          },
          "metadata": {},
          "execution_count": 165
        }
      ]
    },
    {
      "cell_type": "code",
      "source": [
        "re.search('python', '10 python').span()"
      ],
      "metadata": {
        "colab": {
          "base_uri": "https://localhost:8080/"
        },
        "id": "AvKgLCJ7MvtR",
        "outputId": "6ca07842-8786-4f4a-d662-fc5f70443620"
      },
      "execution_count": null,
      "outputs": [
        {
          "output_type": "execute_result",
          "data": {
            "text/plain": [
              "(3, 9)"
            ]
          },
          "metadata": {},
          "execution_count": 164
        }
      ]
    },
    {
      "cell_type": "code",
      "source": [
        "re.findall(r'[a-z]+', 'python 3 version program')"
      ],
      "metadata": {
        "colab": {
          "base_uri": "https://localhost:8080/"
        },
        "id": "sPk8H-8CMzWX",
        "outputId": "1e5ddfbf-f12f-4960-810c-6e1ea0f6777a"
      },
      "execution_count": null,
      "outputs": [
        {
          "output_type": "execute_result",
          "data": {
            "text/plain": [
              "['python', 'version', 'program']"
            ]
          },
          "metadata": {},
          "execution_count": 166
        }
      ]
    },
    {
      "cell_type": "code",
      "source": [
        "p = re.compile(r'([A-Za-z]\\w*)\\s*=\\s*(\\d+)')"
      ],
      "metadata": {
        "id": "ZTJYOGpENF-5"
      },
      "execution_count": null,
      "outputs": []
    },
    {
      "cell_type": "code",
      "source": [
        "p.search('a = 123')"
      ],
      "metadata": {
        "colab": {
          "base_uri": "https://localhost:8080/"
        },
        "id": "gRvrel1NNm1R",
        "outputId": "8afb802d-a14e-468e-f388-7f1b05675bd4"
      },
      "execution_count": null,
      "outputs": [
        {
          "output_type": "execute_result",
          "data": {
            "text/plain": [
              "<re.Match object; span=(0, 7), match='a = 123'>"
            ]
          },
          "metadata": {},
          "execution_count": 168
        }
      ]
    },
    {
      "cell_type": "code",
      "source": [
        "p.search('a = 123').groups()"
      ],
      "metadata": {
        "colab": {
          "base_uri": "https://localhost:8080/"
        },
        "id": "Iz-u2D6vNrQT",
        "outputId": "eefaee82-4f9b-4a06-f377-1a0b47ec37bf"
      },
      "execution_count": null,
      "outputs": [
        {
          "output_type": "execute_result",
          "data": {
            "text/plain": [
              "('a', '123')"
            ]
          },
          "metadata": {},
          "execution_count": 169
        }
      ]
    },
    {
      "cell_type": "markdown",
      "source": [
        "' a = 123 ' 문자열에서 search 를 사용하여 ' = ' 만 찾도록 정규표현식을 작성 하시오"
      ],
      "metadata": {
        "id": "TYJhmraVOGnE"
      }
    },
    {
      "cell_type": "code",
      "source": [
        "re.search(r'=', 'a = 123').group()"
      ],
      "metadata": {
        "colab": {
          "base_uri": "https://localhost:8080/",
          "height": 36
        },
        "id": "csnLbEj1Nyja",
        "outputId": "dd9d4523-28ca-41f2-8eb3-62eec1fcbd4b"
      },
      "execution_count": null,
      "outputs": [
        {
          "output_type": "execute_result",
          "data": {
            "text/plain": [
              "'='"
            ],
            "application/vnd.google.colaboratory.intrinsic+json": {
              "type": "string"
            }
          },
          "metadata": {},
          "execution_count": 170
        }
      ]
    },
    {
      "cell_type": "code",
      "source": [
        "re.search(r'[^a-z0-9\\s]+', ' a = 123 ').group()"
      ],
      "metadata": {
        "colab": {
          "base_uri": "https://localhost:8080/",
          "height": 36
        },
        "id": "3oCBRWXxPmOy",
        "outputId": "0c1c8c83-61e0-4d10-e9b1-f9373673a552"
      },
      "execution_count": null,
      "outputs": [
        {
          "output_type": "execute_result",
          "data": {
            "text/plain": [
              "'='"
            ],
            "application/vnd.google.colaboratory.intrinsic+json": {
              "type": "string"
            }
          },
          "metadata": {},
          "execution_count": 171
        }
      ]
    },
    {
      "cell_type": "code",
      "source": [
        "re.search(r'[\\W]', 'a=123').group()"
      ],
      "metadata": {
        "colab": {
          "base_uri": "https://localhost:8080/",
          "height": 36
        },
        "id": "V934FLhpQCBV",
        "outputId": "caa18cdb-91aa-4690-ee14-a61a83c32be5"
      },
      "execution_count": null,
      "outputs": [
        {
          "output_type": "execute_result",
          "data": {
            "text/plain": [
              "'='"
            ],
            "application/vnd.google.colaboratory.intrinsic+json": {
              "type": "string"
            }
          },
          "metadata": {},
          "execution_count": 175
        }
      ]
    },
    {
      "cell_type": "code",
      "source": [
        "p = re.compile(r'\\W')\n",
        "sub_ = p.sub('::', 'a=123')"
      ],
      "metadata": {
        "id": "rAlr3WvKQSLd"
      },
      "execution_count": null,
      "outputs": []
    },
    {
      "cell_type": "code",
      "source": [
        "sub_"
      ],
      "metadata": {
        "colab": {
          "base_uri": "https://localhost:8080/",
          "height": 36
        },
        "id": "Zeti6nC5Q1Qh",
        "outputId": "522699c1-27d3-44de-cf99-bcbddd25ce89"
      },
      "execution_count": null,
      "outputs": [
        {
          "output_type": "execute_result",
          "data": {
            "text/plain": [
              "'a::123'"
            ],
            "application/vnd.google.colaboratory.intrinsic+json": {
              "type": "string"
            }
          },
          "metadata": {},
          "execution_count": 177
        }
      ]
    },
    {
      "cell_type": "markdown",
      "source": [
        "^^ :) -.-, --;;"
      ],
      "metadata": {
        "id": "jPIGL6c2RaqZ"
      }
    },
    {
      "cell_type": "code",
      "source": [
        "import re"
      ],
      "metadata": {
        "id": "FR0Xd1A4Q2IJ"
      },
      "execution_count": null,
      "outputs": []
    },
    {
      "cell_type": "code",
      "source": [
        "from urllib.request import urlopen, Request"
      ],
      "metadata": {
        "id": "mmWY5XZ1US1u"
      },
      "execution_count": null,
      "outputs": []
    },
    {
      "cell_type": "code",
      "source": [
        "from bs4 import BeautifulSoup as bs"
      ],
      "metadata": {
        "id": "Mnh1X9wlUh5C"
      },
      "execution_count": null,
      "outputs": []
    },
    {
      "cell_type": "code",
      "source": [
        "url = 'https://quotes.toscrape.com/tag/life/'"
      ],
      "metadata": {
        "id": "BZe9kfo4Uqtw"
      },
      "execution_count": null,
      "outputs": []
    },
    {
      "cell_type": "code",
      "source": [
        "html = urlopen(url)"
      ],
      "metadata": {
        "id": "I-VX8i9NXn3t"
      },
      "execution_count": null,
      "outputs": []
    },
    {
      "cell_type": "code",
      "source": [
        "html"
      ],
      "metadata": {
        "colab": {
          "base_uri": "https://localhost:8080/"
        },
        "id": "n8trhaX2XwS0",
        "outputId": "b8c7f534-481f-4612-8534-709f0573af50"
      },
      "execution_count": null,
      "outputs": [
        {
          "output_type": "execute_result",
          "data": {
            "text/plain": [
              "<http.client.HTTPResponse at 0x791d8fadbdc0>"
            ]
          },
          "metadata": {},
          "execution_count": 184
        }
      ]
    },
    {
      "cell_type": "code",
      "source": [
        "html.read()[:100]"
      ],
      "metadata": {
        "colab": {
          "base_uri": "https://localhost:8080/"
        },
        "id": "xvN53C1uXzuQ",
        "outputId": "980839aa-5a89-48f3-ea29-f78ce1ff0efd"
      },
      "execution_count": null,
      "outputs": [
        {
          "output_type": "execute_result",
          "data": {
            "text/plain": [
              "b'<!DOCTYPE html>\\n<html lang=\"en\">\\n<head>\\n\\t<meta charset=\"UTF-8\">\\n\\t<title>Quotes to Scrape</title>\\n   '"
            ]
          },
          "metadata": {},
          "execution_count": 185
        }
      ]
    },
    {
      "cell_type": "code",
      "source": [
        "html.read()"
      ],
      "metadata": {
        "id": "KIcQDLbbX8aw"
      },
      "execution_count": null,
      "outputs": []
    },
    {
      "cell_type": "code",
      "source": [
        "soup = bs(html, 'html.parser')"
      ],
      "metadata": {
        "id": "ZsSH6TpHYPgA"
      },
      "execution_count": null,
      "outputs": []
    },
    {
      "cell_type": "code",
      "source": [
        "soup"
      ],
      "metadata": {
        "id": "DuEmWrEEYpuu"
      },
      "execution_count": null,
      "outputs": []
    },
    {
      "cell_type": "code",
      "source": [
        "%%writefile test.html\n",
        "<!DOCTYPE html>\n",
        "<html>\n",
        " <head>\n",
        "  <title>\n",
        "   스크래핑 연습\n",
        "  </title>\n",
        "  <meta charset=\"utf-8\"/>\n",
        " </head>\n",
        " <body>\n",
        "  <p align=\"center\">\n",
        "   연습용 html 문서입니다.\n",
        "  </p>\n",
        "  <p align=\"left\">\n",
        "   <br/>\n",
        "   파이썬을 배우고 있습니다.\n",
        "   <br/>\n",
        "   응원 바랍니다.\n",
        "  </p>\n",
        "  <p align=\"center\">\n",
        "   DOCTYPE HTML\n",
        "  </p>\n",
        "  <a class=\"naver\" href=\"https://www.naver.com/\" id=\"meal\">\n",
        "   네이버\n",
        "  </a>\n",
        "  <a class=\"google\" href=\"http://www.google.com/\" id=\"link\">\n",
        "   구글\n",
        "  </a>\n",
        " </body>\n",
        "</html>"
      ],
      "metadata": {
        "colab": {
          "base_uri": "https://localhost:8080/"
        },
        "id": "6jNvVWlxYqRt",
        "outputId": "676f6e19-5f5c-477e-e62c-a4f7ec06067b"
      },
      "execution_count": null,
      "outputs": [
        {
          "output_type": "stream",
          "name": "stdout",
          "text": [
            "Writing test.html\n"
          ]
        }
      ]
    },
    {
      "cell_type": "code",
      "source": [
        "quote = soup.find_all('span')"
      ],
      "metadata": {
        "id": "LMFuCqJxZmZD"
      },
      "execution_count": null,
      "outputs": []
    },
    {
      "cell_type": "code",
      "source": [
        "quote"
      ],
      "metadata": {
        "id": "uit9hQrweDUv"
      },
      "execution_count": null,
      "outputs": []
    },
    {
      "cell_type": "code",
      "source": [
        "quote[0]"
      ],
      "metadata": {
        "colab": {
          "base_uri": "https://localhost:8080/"
        },
        "id": "FPCnByNue7Rn",
        "outputId": "f4db999f-24ca-42ef-defb-1cfc375ef23d"
      },
      "execution_count": null,
      "outputs": [
        {
          "output_type": "execute_result",
          "data": {
            "text/plain": [
              "<span class=\"text\" itemprop=\"text\">“There are only two ways to live your life. One is as though nothing is a miracle. The other is as though everything is a miracle.”</span>"
            ]
          },
          "metadata": {},
          "execution_count": 201
        }
      ]
    },
    {
      "cell_type": "code",
      "source": [
        "quote[:5]"
      ],
      "metadata": {
        "colab": {
          "base_uri": "https://localhost:8080/"
        },
        "id": "Vze19DMGfF8u",
        "outputId": "9582fa02-2c30-4ef7-ed64-579a88f65845"
      },
      "execution_count": null,
      "outputs": [
        {
          "output_type": "execute_result",
          "data": {
            "text/plain": [
              "[<span class=\"text\" itemprop=\"text\">“There are only two ways to live your life. One is as though nothing is a miracle. The other is as though everything is a miracle.”</span>,\n",
              " <span>by <small class=\"author\" itemprop=\"author\">Albert Einstein</small>\n",
              " <a href=\"/author/Albert-Einstein\">(about)</a>\n",
              " </span>,\n",
              " <span class=\"text\" itemprop=\"text\">“It is better to be hated for what you are than to be loved for what you are not.”</span>,\n",
              " <span>by <small class=\"author\" itemprop=\"author\">André Gide</small>\n",
              " <a href=\"/author/Andre-Gide\">(about)</a>\n",
              " </span>,\n",
              " <span class=\"text\" itemprop=\"text\">“This life is what you make it. No matter what, you're going to mess up sometimes, it's a universal truth. But the good part is you get to decide how you're going to mess it up. Girls will be your friends - they'll act like it anyway. But just remember, some come, some go. The ones that stay with you through everything - they're your true best friends. Don't let go of them. Also remember, sisters make the best friends in the world. As for lovers, well, they'll come and go too. And baby, I hate to say it, most of them - actually pretty much all of them are going to break your heart, but you can't give up because if you give up, you'll never find your soulmate. You'll never find that half who makes you whole and that goes for everything. Just because you fail once, doesn't mean you're gonna fail at everything. Keep trying, hold on, and always, always, always believe in yourself, because if you don't, then who will, sweetie? So keep your head high, keep your chin up, and most importantly, keep smiling, because life's a beautiful thing and there's so much to smile about.”</span>]"
            ]
          },
          "metadata": {},
          "execution_count": 203
        }
      ]
    },
    {
      "cell_type": "code",
      "source": [
        "type(quote)"
      ],
      "metadata": {
        "colab": {
          "base_uri": "https://localhost:8080/"
        },
        "id": "Fj1LwzDHfKWn",
        "outputId": "54214e97-d854-4c59-cee9-60b97abdde70"
      },
      "execution_count": null,
      "outputs": [
        {
          "output_type": "execute_result",
          "data": {
            "text/plain": [
              "bs4.element.ResultSet"
            ]
          },
          "metadata": {},
          "execution_count": 205
        }
      ]
    },
    {
      "cell_type": "code",
      "source": [
        "quote[0].text"
      ],
      "metadata": {
        "colab": {
          "base_uri": "https://localhost:8080/",
          "height": 54
        },
        "id": "7k98lpy0fRP4",
        "outputId": "3d902b39-ac5f-4ce9-8210-e66dd07e2492"
      },
      "execution_count": null,
      "outputs": [
        {
          "output_type": "execute_result",
          "data": {
            "text/plain": [
              "'“There are only two ways to live your life. One is as though nothing is a miracle. The other is as though everything is a miracle.”'"
            ],
            "application/vnd.google.colaboratory.intrinsic+json": {
              "type": "string"
            }
          },
          "metadata": {},
          "execution_count": 207
        }
      ]
    },
    {
      "cell_type": "code",
      "source": [
        "for i in quote:\n",
        "    print(i.text)"
      ],
      "metadata": {
        "id": "hL5vs0EtfZRj"
      },
      "execution_count": null,
      "outputs": []
    },
    {
      "cell_type": "code",
      "source": [
        "soup.find_all('div', {'class':'quote'})[0]"
      ],
      "metadata": {
        "colab": {
          "base_uri": "https://localhost:8080/"
        },
        "id": "oyy_oJYQhHYC",
        "outputId": "543ee156-6d83-45c8-cd02-c099f0688767"
      },
      "execution_count": null,
      "outputs": [
        {
          "output_type": "execute_result",
          "data": {
            "text/plain": [
              "<div class=\"quote\" itemscope=\"\" itemtype=\"http://schema.org/CreativeWork\">\n",
              "<span class=\"text\" itemprop=\"text\">“There are only two ways to live your life. One is as though nothing is a miracle. The other is as though everything is a miracle.”</span>\n",
              "<span>by <small class=\"author\" itemprop=\"author\">Albert Einstein</small>\n",
              "<a href=\"/author/Albert-Einstein\">(about)</a>\n",
              "</span>\n",
              "<div class=\"tags\">\n",
              "            Tags:\n",
              "            <meta class=\"keywords\" content=\"inspirational,life,live,miracle,miracles\" itemprop=\"keywords\"/>\n",
              "<a class=\"tag\" href=\"/tag/inspirational/page/1/\">inspirational</a>\n",
              "<a class=\"tag\" href=\"/tag/life/page/1/\">life</a>\n",
              "<a class=\"tag\" href=\"/tag/live/page/1/\">live</a>\n",
              "<a class=\"tag\" href=\"/tag/miracle/page/1/\">miracle</a>\n",
              "<a class=\"tag\" href=\"/tag/miracles/page/1/\">miracles</a>\n",
              "</div>\n",
              "</div>"
            ]
          },
          "metadata": {},
          "execution_count": 213
        }
      ]
    },
    {
      "cell_type": "code",
      "source": [
        "soup.find_all('div', {'class':'quote'})[0].text"
      ],
      "metadata": {
        "colab": {
          "base_uri": "https://localhost:8080/",
          "height": 72
        },
        "id": "qWvFE26Jfw2z",
        "outputId": "dd923a00-5b10-429e-d527-b82b08a6fe03"
      },
      "execution_count": null,
      "outputs": [
        {
          "output_type": "execute_result",
          "data": {
            "text/plain": [
              "'\\n“There are only two ways to live your life. One is as though nothing is a miracle. The other is as though everything is a miracle.”\\nby Albert Einstein\\n(about)\\n\\n\\n            Tags:\\n            \\ninspirational\\nlife\\nlive\\nmiracle\\nmiracles\\n\\n'"
            ],
            "application/vnd.google.colaboratory.intrinsic+json": {
              "type": "string"
            }
          },
          "metadata": {},
          "execution_count": 212
        }
      ]
    },
    {
      "cell_type": "code",
      "source": [],
      "metadata": {
        "id": "GuTFg_8zgfYM"
      },
      "execution_count": null,
      "outputs": []
    }
  ]
}