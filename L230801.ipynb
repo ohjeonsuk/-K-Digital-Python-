{
  "nbformat": 4,
  "nbformat_minor": 0,
  "metadata": {
    "colab": {
      "provenance": [],
      "include_colab_link": true
    },
    "kernelspec": {
      "name": "python3",
      "display_name": "Python 3"
    },
    "language_info": {
      "name": "python"
    }
  },
  "cells": [
    {
      "cell_type": "markdown",
      "metadata": {
        "id": "view-in-github",
        "colab_type": "text"
      },
      "source": [
        "<a href=\"https://colab.research.google.com/github/ohjeonsuk/python-education/blob/main/L230801.ipynb\" target=\"_parent\"><img src=\"https://colab.research.google.com/assets/colab-badge.svg\" alt=\"Open In Colab\"/></a>"
      ]
    },
    {
      "cell_type": "code",
      "execution_count": null,
      "metadata": {
        "id": "CVTM0WMYVviI"
      },
      "outputs": [],
      "source": [
        "class A:\n",
        "    def __init__(self, x):\n",
        "        self.x = x\n",
        "    def print_x(self):\n",
        "        print(self.x)"
      ]
    },
    {
      "cell_type": "code",
      "source": [
        "class B(A):\n",
        "    def setdata(self, y):\n",
        "        self.y = y\n",
        "    def print_y(self):\n",
        "        print(self.y)"
      ],
      "metadata": {
        "id": "WFdD3sYqZpDD"
      },
      "execution_count": null,
      "outputs": []
    },
    {
      "cell_type": "code",
      "source": [
        "b_io = B()"
      ],
      "metadata": {
        "colab": {
          "base_uri": "https://localhost:8080/",
          "height": 188
        },
        "id": "up-zyxDIZxPJ",
        "outputId": "ac5dbed1-77d5-41b9-aa31-d8261b83ea42"
      },
      "execution_count": null,
      "outputs": [
        {
          "output_type": "error",
          "ename": "TypeError",
          "evalue": "ignored",
          "traceback": [
            "\u001b[0;31m---------------------------------------------------------------------------\u001b[0m",
            "\u001b[0;31mTypeError\u001b[0m                                 Traceback (most recent call last)",
            "\u001b[0;32m<ipython-input-7-68184135405d>\u001b[0m in \u001b[0;36m<cell line: 1>\u001b[0;34m()\u001b[0m\n\u001b[0;32m----> 1\u001b[0;31m \u001b[0mb_io\u001b[0m \u001b[0;34m=\u001b[0m \u001b[0mB\u001b[0m\u001b[0;34m(\u001b[0m\u001b[0;34m)\u001b[0m\u001b[0;34m\u001b[0m\u001b[0;34m\u001b[0m\u001b[0m\n\u001b[0m",
            "\u001b[0;31mTypeError\u001b[0m: A.__init__() missing 1 required positional argument: 'x'"
          ]
        }
      ]
    },
    {
      "cell_type": "code",
      "source": [
        "b_io = B(10)"
      ],
      "metadata": {
        "id": "Nctkef4vaH5V"
      },
      "execution_count": null,
      "outputs": []
    },
    {
      "cell_type": "code",
      "source": [
        "b_io.print_x()"
      ],
      "metadata": {
        "colab": {
          "base_uri": "https://localhost:8080/"
        },
        "id": "0Z_huSRTaOVK",
        "outputId": "050608b0-b412-47e3-a6f1-1aa1823fea6e"
      },
      "execution_count": null,
      "outputs": [
        {
          "output_type": "stream",
          "name": "stdout",
          "text": [
            "10\n"
          ]
        }
      ]
    },
    {
      "cell_type": "code",
      "source": [
        "dir(b_io)"
      ],
      "metadata": {
        "id": "i4scEfkLa53C"
      },
      "execution_count": null,
      "outputs": []
    },
    {
      "cell_type": "code",
      "source": [
        "[x for x in dir(b_io) if not x.startswith('__')]"
      ],
      "metadata": {
        "colab": {
          "base_uri": "https://localhost:8080/"
        },
        "id": "CW8TDBfNaoJP",
        "outputId": "8c1cb908-d011-4df6-8969-3f7b1ce62421"
      },
      "execution_count": null,
      "outputs": [
        {
          "output_type": "execute_result",
          "data": {
            "text/plain": [
              "['print_x', 'setdata', 'x']"
            ]
          },
          "metadata": {},
          "execution_count": 11
        }
      ]
    },
    {
      "cell_type": "code",
      "source": [
        "b_io.setdata(100)"
      ],
      "metadata": {
        "id": "FharJj5Ea_mR"
      },
      "execution_count": null,
      "outputs": []
    },
    {
      "cell_type": "code",
      "source": [
        "[x for x in dir(b_io) if not x.startswith('__')]"
      ],
      "metadata": {
        "colab": {
          "base_uri": "https://localhost:8080/"
        },
        "id": "fO7rFDWTbPiD",
        "outputId": "72bb714e-018e-4ce3-fc13-7f963adfff1b"
      },
      "execution_count": null,
      "outputs": [
        {
          "output_type": "execute_result",
          "data": {
            "text/plain": [
              "['print_x', 'setdata', 'x', 'y']"
            ]
          },
          "metadata": {},
          "execution_count": 13
        }
      ]
    },
    {
      "cell_type": "code",
      "source": [
        "b_io2 = B(10)"
      ],
      "metadata": {
        "id": "biXvddI6bRfu"
      },
      "execution_count": null,
      "outputs": []
    },
    {
      "cell_type": "code",
      "source": [
        "[x for x in dir(b_io2) if not x.startswith('__')]"
      ],
      "metadata": {
        "colab": {
          "base_uri": "https://localhost:8080/"
        },
        "id": "e_9tmggvbjw3",
        "outputId": "6a87bc73-c55c-4c09-f04f-6e49cc133b3d"
      },
      "execution_count": null,
      "outputs": [
        {
          "output_type": "execute_result",
          "data": {
            "text/plain": [
              "['print_x', 'print_y', 'setdata', 'x']"
            ]
          },
          "metadata": {},
          "execution_count": 20
        }
      ]
    },
    {
      "cell_type": "code",
      "source": [
        "b_io2.print_x()"
      ],
      "metadata": {
        "colab": {
          "base_uri": "https://localhost:8080/"
        },
        "id": "vTsEXI4Ybn1t",
        "outputId": "fa69c17b-dfa8-4d0a-c233-8448a5a07235"
      },
      "execution_count": null,
      "outputs": [
        {
          "output_type": "stream",
          "name": "stdout",
          "text": [
            "10\n"
          ]
        }
      ]
    },
    {
      "cell_type": "code",
      "source": [
        "b_io2.print_y()"
      ],
      "metadata": {
        "colab": {
          "base_uri": "https://localhost:8080/",
          "height": 274
        },
        "id": "U9WjWizOb6Kb",
        "outputId": "e7f00fd8-25a5-4b8c-e3a8-bc86f014a797"
      },
      "execution_count": null,
      "outputs": [
        {
          "output_type": "error",
          "ename": "AttributeError",
          "evalue": "ignored",
          "traceback": [
            "\u001b[0;31m---------------------------------------------------------------------------\u001b[0m",
            "\u001b[0;31mAttributeError\u001b[0m                            Traceback (most recent call last)",
            "\u001b[0;32m<ipython-input-23-d785262a8f51>\u001b[0m in \u001b[0;36m<cell line: 1>\u001b[0;34m()\u001b[0m\n\u001b[0;32m----> 1\u001b[0;31m \u001b[0mb_io2\u001b[0m\u001b[0;34m.\u001b[0m\u001b[0mprint_y\u001b[0m\u001b[0;34m(\u001b[0m\u001b[0;34m)\u001b[0m\u001b[0;34m\u001b[0m\u001b[0;34m\u001b[0m\u001b[0m\n\u001b[0m",
            "\u001b[0;32m<ipython-input-19-895251902528>\u001b[0m in \u001b[0;36mprint_y\u001b[0;34m(self)\u001b[0m\n\u001b[1;32m      3\u001b[0m         \u001b[0mself\u001b[0m\u001b[0;34m.\u001b[0m\u001b[0my\u001b[0m \u001b[0;34m=\u001b[0m \u001b[0my\u001b[0m\u001b[0;34m\u001b[0m\u001b[0;34m\u001b[0m\u001b[0m\n\u001b[1;32m      4\u001b[0m     \u001b[0;32mdef\u001b[0m \u001b[0mprint_y\u001b[0m\u001b[0;34m(\u001b[0m\u001b[0mself\u001b[0m\u001b[0;34m)\u001b[0m\u001b[0;34m:\u001b[0m\u001b[0;34m\u001b[0m\u001b[0;34m\u001b[0m\u001b[0m\n\u001b[0;32m----> 5\u001b[0;31m         \u001b[0mprint\u001b[0m\u001b[0;34m(\u001b[0m\u001b[0mself\u001b[0m\u001b[0;34m.\u001b[0m\u001b[0my\u001b[0m\u001b[0;34m)\u001b[0m\u001b[0;34m\u001b[0m\u001b[0;34m\u001b[0m\u001b[0m\n\u001b[0m",
            "\u001b[0;31mAttributeError\u001b[0m: 'B' object has no attribute 'y'"
          ]
        }
      ]
    },
    {
      "cell_type": "code",
      "source": [
        "b_io2.setdata(77)"
      ],
      "metadata": {
        "id": "HVY2_Rd7b9CF"
      },
      "execution_count": null,
      "outputs": []
    },
    {
      "cell_type": "code",
      "source": [
        "b_io2.print_y()"
      ],
      "metadata": {
        "colab": {
          "base_uri": "https://localhost:8080/"
        },
        "id": "TGqbbRFPcFoh",
        "outputId": "a2a507cb-e74a-43b7-c1db-dcf32e1fec8d"
      },
      "execution_count": null,
      "outputs": [
        {
          "output_type": "stream",
          "name": "stdout",
          "text": [
            "77\n"
          ]
        }
      ]
    },
    {
      "cell_type": "code",
      "source": [
        "[x for x in dir(b_io2) if not x.startswith('__')]"
      ],
      "metadata": {
        "colab": {
          "base_uri": "https://localhost:8080/"
        },
        "id": "hZCs_y8rcI8h",
        "outputId": "4e8bf430-05ef-4c8e-d8cd-133f9957fa43"
      },
      "execution_count": null,
      "outputs": [
        {
          "output_type": "execute_result",
          "data": {
            "text/plain": [
              "['print_x', 'print_y', 'setdata', 'x', 'y']"
            ]
          },
          "metadata": {},
          "execution_count": 26
        }
      ]
    },
    {
      "cell_type": "code",
      "source": [
        "class Person:\n",
        "    def __init__(self, name, phone=None):\n",
        "        self.name = name\n",
        "        self.phone = phone\n",
        "    def __repr__(self):\n",
        "        return f'<Person {self.name} {self.phone} >'"
      ],
      "metadata": {
        "id": "KTMhF7oecLnE"
      },
      "execution_count": null,
      "outputs": []
    },
    {
      "cell_type": "code",
      "source": [
        "class Employee(Person):\n",
        "    def __init__(self):\n",
        "        pass\n",
        "    def setdata(self, position, salary):\n",
        "        self.position = position\n",
        "        self.salary = salary\n",
        "    def print_info(self):\n",
        "        print(self.name, self.phone)"
      ],
      "metadata": {
        "id": "NHkbV2w8cWJX"
      },
      "execution_count": null,
      "outputs": []
    },
    {
      "cell_type": "code",
      "source": [
        "e1 = Employee('홍길동', 1984)"
      ],
      "metadata": {
        "id": "RY8qsOpncldA"
      },
      "execution_count": null,
      "outputs": []
    },
    {
      "cell_type": "code",
      "source": [
        "e1.print_info()"
      ],
      "metadata": {
        "colab": {
          "base_uri": "https://localhost:8080/"
        },
        "id": "9zs7naO9dB9Y",
        "outputId": "e1452a7e-8995-49f5-a5d3-8f6d3584b401"
      },
      "execution_count": null,
      "outputs": [
        {
          "output_type": "stream",
          "name": "stdout",
          "text": [
            "홍길동 1984\n"
          ]
        }
      ]
    },
    {
      "cell_type": "code",
      "source": [
        "[x for x in dir(e1) if not x.startswith('__')]"
      ],
      "metadata": {
        "colab": {
          "base_uri": "https://localhost:8080/"
        },
        "id": "-auyx54LdF81",
        "outputId": "3ff9f95c-9339-4845-a438-56bc96a957ff"
      },
      "execution_count": null,
      "outputs": [
        {
          "output_type": "execute_result",
          "data": {
            "text/plain": [
              "['name', 'phone', 'print_info', 'setdata']"
            ]
          },
          "metadata": {},
          "execution_count": 31
        }
      ]
    },
    {
      "cell_type": "code",
      "source": [
        "e1.setdata('대리', 200)"
      ],
      "metadata": {
        "id": "ksQFKa_GdKbN"
      },
      "execution_count": null,
      "outputs": []
    },
    {
      "cell_type": "code",
      "source": [
        "[x for x in dir(e1) if not x.startswith('__')]"
      ],
      "metadata": {
        "colab": {
          "base_uri": "https://localhost:8080/"
        },
        "id": "S_HfDKrAdPDd",
        "outputId": "617a4ae2-140f-4b9b-e210-d3064cb02ccf"
      },
      "execution_count": null,
      "outputs": [
        {
          "output_type": "execute_result",
          "data": {
            "text/plain": [
              "['name', 'phone', 'position', 'print_info', 'salary', 'setdata']"
            ]
          },
          "metadata": {},
          "execution_count": 33
        }
      ]
    },
    {
      "cell_type": "code",
      "source": [
        "e2= Employee()"
      ],
      "metadata": {
        "id": "E_hEMJCJdRAc"
      },
      "execution_count": null,
      "outputs": []
    },
    {
      "cell_type": "code",
      "source": [
        "[x for x in dir(e2) if not x.startswith('__')]"
      ],
      "metadata": {
        "colab": {
          "base_uri": "https://localhost:8080/"
        },
        "id": "PI0SbMuvd7Il",
        "outputId": "7d6650f6-8307-45c1-e6c4-112b43d1c96f"
      },
      "execution_count": null,
      "outputs": [
        {
          "output_type": "execute_result",
          "data": {
            "text/plain": [
              "['print_info', 'setdata']"
            ]
          },
          "metadata": {},
          "execution_count": 36
        }
      ]
    },
    {
      "cell_type": "markdown",
      "source": [
        "리스트와 딕트를 상속 받는 예"
      ],
      "metadata": {
        "id": "6Cqo9ALNer45"
      }
    },
    {
      "cell_type": "code",
      "source": [
        "class Stack(list):\n",
        "    push = list.append"
      ],
      "metadata": {
        "id": "Dl6AdWOad_Fa"
      },
      "execution_count": null,
      "outputs": []
    },
    {
      "cell_type": "code",
      "source": [
        "s = Stack()"
      ],
      "metadata": {
        "id": "uPeAkN7uez99"
      },
      "execution_count": null,
      "outputs": []
    },
    {
      "cell_type": "code",
      "source": [
        "s.push(4)"
      ],
      "metadata": {
        "id": "zgxbzgmMfGtF"
      },
      "execution_count": null,
      "outputs": []
    },
    {
      "cell_type": "code",
      "source": [
        "s"
      ],
      "metadata": {
        "colab": {
          "base_uri": "https://localhost:8080/"
        },
        "id": "WxUpdjBIfIA5",
        "outputId": "30dbd511-954c-4441-9567-95678d31a578"
      },
      "execution_count": null,
      "outputs": [
        {
          "output_type": "execute_result",
          "data": {
            "text/plain": [
              "[4]"
            ]
          },
          "metadata": {},
          "execution_count": 40
        }
      ]
    },
    {
      "cell_type": "code",
      "source": [
        "s.push(5)"
      ],
      "metadata": {
        "id": "0aAhRoZZfIQI"
      },
      "execution_count": null,
      "outputs": []
    },
    {
      "cell_type": "code",
      "source": [
        "s"
      ],
      "metadata": {
        "colab": {
          "base_uri": "https://localhost:8080/"
        },
        "id": "3q0BaSDlfWom",
        "outputId": "e58560a5-de7e-4209-b916-7737c37a8ca3"
      },
      "execution_count": null,
      "outputs": [
        {
          "output_type": "execute_result",
          "data": {
            "text/plain": [
              "[4, 5]"
            ]
          },
          "metadata": {},
          "execution_count": 42
        }
      ]
    },
    {
      "cell_type": "code",
      "source": [
        "s = Stack([1, 2, 3])"
      ],
      "metadata": {
        "id": "hf1T2GvffXHD"
      },
      "execution_count": null,
      "outputs": []
    },
    {
      "cell_type": "code",
      "source": [
        "s"
      ],
      "metadata": {
        "colab": {
          "base_uri": "https://localhost:8080/"
        },
        "id": "FqiYTx0LfZZf",
        "outputId": "b2466fc6-8011-448e-99cb-31937abf3a05"
      },
      "execution_count": null,
      "outputs": [
        {
          "output_type": "execute_result",
          "data": {
            "text/plain": [
              "[1, 2, 3]"
            ]
          },
          "metadata": {},
          "execution_count": 57
        }
      ]
    },
    {
      "cell_type": "code",
      "source": [
        "s.push(18)"
      ],
      "metadata": {
        "id": "hiuUAzK9fgyx"
      },
      "execution_count": null,
      "outputs": []
    },
    {
      "cell_type": "code",
      "source": [
        "s"
      ],
      "metadata": {
        "colab": {
          "base_uri": "https://localhost:8080/"
        },
        "id": "qU4VakkFfiUp",
        "outputId": "8a724ad9-a5d1-4cb8-d8e4-c57244d3463b"
      },
      "execution_count": null,
      "outputs": [
        {
          "output_type": "execute_result",
          "data": {
            "text/plain": [
              "[1, 2, 3, 18]"
            ]
          },
          "metadata": {},
          "execution_count": 59
        }
      ]
    },
    {
      "cell_type": "code",
      "source": [
        "s.pop()"
      ],
      "metadata": {
        "colab": {
          "base_uri": "https://localhost:8080/"
        },
        "id": "PhBKXNgogfuw",
        "outputId": "e3a1901e-ddc8-4f65-8b7d-277c2ba7775e"
      },
      "execution_count": null,
      "outputs": [
        {
          "output_type": "execute_result",
          "data": {
            "text/plain": [
              "18"
            ]
          },
          "metadata": {},
          "execution_count": 60
        }
      ]
    },
    {
      "cell_type": "code",
      "source": [
        "s"
      ],
      "metadata": {
        "colab": {
          "base_uri": "https://localhost:8080/"
        },
        "id": "2XqZQ8P4gja9",
        "outputId": "6c386044-f0d0-4b74-c3e5-72f14bd8153b"
      },
      "execution_count": null,
      "outputs": [
        {
          "output_type": "execute_result",
          "data": {
            "text/plain": [
              "[1, 2, 3]"
            ]
          },
          "metadata": {},
          "execution_count": 61
        }
      ]
    },
    {
      "cell_type": "code",
      "source": [
        "class Queue(list):\n",
        "    enqueue = list.append\n",
        "    def dequeue(self):\n",
        "        return self.pop(0)"
      ],
      "metadata": {
        "id": "W3WcA-rdfivm"
      },
      "execution_count": null,
      "outputs": []
    },
    {
      "cell_type": "code",
      "source": [
        "q = Queue()"
      ],
      "metadata": {
        "id": "oEjP0aaUftgt"
      },
      "execution_count": null,
      "outputs": []
    },
    {
      "cell_type": "code",
      "source": [
        "q.enqueue(1)"
      ],
      "metadata": {
        "id": "F_VMMpp_fwZv"
      },
      "execution_count": null,
      "outputs": []
    },
    {
      "cell_type": "code",
      "source": [
        "q.enqueue(2)"
      ],
      "metadata": {
        "id": "thKCwIbrfyUk"
      },
      "execution_count": null,
      "outputs": []
    },
    {
      "cell_type": "code",
      "source": [
        "q"
      ],
      "metadata": {
        "colab": {
          "base_uri": "https://localhost:8080/"
        },
        "id": "5qUZt29Lfz03",
        "outputId": "c1df9ea3-6451-4bf2-adc6-3a962c03bbb7"
      },
      "execution_count": null,
      "outputs": [
        {
          "output_type": "execute_result",
          "data": {
            "text/plain": [
              "[1, 2]"
            ]
          },
          "metadata": {},
          "execution_count": 51
        }
      ]
    },
    {
      "cell_type": "code",
      "source": [
        "q.dequeue()"
      ],
      "metadata": {
        "colab": {
          "base_uri": "https://localhost:8080/"
        },
        "id": "xdBXRivQf0Ot",
        "outputId": "12fb13f3-b3c1-4c83-c792-d11df4326ff6"
      },
      "execution_count": null,
      "outputs": [
        {
          "output_type": "execute_result",
          "data": {
            "text/plain": [
              "1"
            ]
          },
          "metadata": {},
          "execution_count": 52
        }
      ]
    },
    {
      "cell_type": "code",
      "source": [
        "q"
      ],
      "metadata": {
        "colab": {
          "base_uri": "https://localhost:8080/"
        },
        "id": "TXHI1ot1gGMK",
        "outputId": "3a98b324-d729-42f0-baaf-9671afe798fb"
      },
      "execution_count": null,
      "outputs": [
        {
          "output_type": "execute_result",
          "data": {
            "text/plain": [
              "[2]"
            ]
          },
          "metadata": {},
          "execution_count": 53
        }
      ]
    },
    {
      "cell_type": "code",
      "source": [
        "[1, 2, 3, 43].pop(0)"
      ],
      "metadata": {
        "colab": {
          "base_uri": "https://localhost:8080/"
        },
        "id": "JwH9m0DlgGxw",
        "outputId": "2e7d8b0a-9c71-46a0-e7af-5d7edfa0fa75"
      },
      "execution_count": null,
      "outputs": [
        {
          "output_type": "execute_result",
          "data": {
            "text/plain": [
              "1"
            ]
          },
          "metadata": {},
          "execution_count": 55
        }
      ]
    },
    {
      "cell_type": "code",
      "source": [
        "q = Queue([1, 2, 3, 4])"
      ],
      "metadata": {
        "id": "dT6M--bfgPGm"
      },
      "execution_count": null,
      "outputs": []
    },
    {
      "cell_type": "code",
      "source": [
        "q"
      ],
      "metadata": {
        "colab": {
          "base_uri": "https://localhost:8080/"
        },
        "id": "nHJTXOyQgrmX",
        "outputId": "569d5b5b-44b6-42c7-c939-ae951aaad718"
      },
      "execution_count": null,
      "outputs": [
        {
          "output_type": "execute_result",
          "data": {
            "text/plain": [
              "[1, 2, 3, 4]"
            ]
          },
          "metadata": {},
          "execution_count": 63
        }
      ]
    },
    {
      "cell_type": "code",
      "source": [
        "class MyDict(dict):\n",
        "    def keys(self):\n",
        "        L = super().keys()\n",
        "        return sorted(L)"
      ],
      "metadata": {
        "id": "f4hU98-kgr-s"
      },
      "execution_count": null,
      "outputs": []
    },
    {
      "cell_type": "code",
      "source": [
        "d = MyDict()"
      ],
      "metadata": {
        "id": "ZBsDxKJNhOhk"
      },
      "execution_count": null,
      "outputs": []
    },
    {
      "cell_type": "code",
      "source": [
        "d.keys()"
      ],
      "metadata": {
        "colab": {
          "base_uri": "https://localhost:8080/"
        },
        "id": "lRc61LXphX40",
        "outputId": "70623165-b0fd-429b-da59-05b86ee01347"
      },
      "execution_count": null,
      "outputs": [
        {
          "output_type": "execute_result",
          "data": {
            "text/plain": [
              "[]"
            ]
          },
          "metadata": {},
          "execution_count": 67
        }
      ]
    },
    {
      "cell_type": "code",
      "source": [
        "d = MyDict({10:100, 21:200, 3:300})"
      ],
      "metadata": {
        "id": "DBjba3VhhhHw"
      },
      "execution_count": null,
      "outputs": []
    },
    {
      "cell_type": "code",
      "source": [
        "d.keys()"
      ],
      "metadata": {
        "colab": {
          "base_uri": "https://localhost:8080/"
        },
        "id": "_rLWehfwhl7y",
        "outputId": "84f7bbaa-5704-4d35-c4fb-0f392ba0b0ce"
      },
      "execution_count": null,
      "outputs": [
        {
          "output_type": "execute_result",
          "data": {
            "text/plain": [
              "[3, 10, 21]"
            ]
          },
          "metadata": {},
          "execution_count": 71
        }
      ]
    },
    {
      "cell_type": "markdown",
      "source": [
        "#다형성\n",
        "\n",
        "상속관계에서 다른 클래스의 인스턴스 객체들이 같은 멤버 함수의 호출에 대해 각각 다르게 반응하도록 하는 기능"
      ],
      "metadata": {
        "id": "xoJXhQcXiJJ8"
      }
    },
    {
      "cell_type": "code",
      "source": [
        "class Animal:\n",
        "    def cry(self):\n",
        "        print('...')\n",
        "class Dog(Animal):\n",
        "    def cry(self):\n",
        "        print('멍멍')\n",
        "class Duck(Animal):\n",
        "    def cry(self):\n",
        "        print('꽥꽥')\n",
        "class Fish(Animal):\n",
        "    pass"
      ],
      "metadata": {
        "id": "C-O-yd3MhpRC"
      },
      "execution_count": null,
      "outputs": []
    },
    {
      "cell_type": "code",
      "source": [
        "for each in (Dog(), Duck(), Fish()):\n",
        "    each.cry()"
      ],
      "metadata": {
        "colab": {
          "base_uri": "https://localhost:8080/"
        },
        "id": "4BsnFsTtilXv",
        "outputId": "40625ed1-513b-434b-ca6e-90df956507a2"
      },
      "execution_count": null,
      "outputs": [
        {
          "output_type": "stream",
          "name": "stdout",
          "text": [
            "멍멍\n",
            "꽥꽥\n",
            "...\n"
          ]
        }
      ]
    },
    {
      "cell_type": "markdown",
      "source": [
        "클래스 작성, 클래스 이름 = OrderedList\n",
        "\n",
        "리스트를 상속\n",
        "\n",
        "extend 와 append 로 데이터를 받도록 한다.\n",
        "\n",
        "이 때( 데이터를 추가할때 마다) sort로 정렬하는 클래스"
      ],
      "metadata": {
        "id": "iINzRbbEjqOM"
      }
    },
    {
      "cell_type": "code",
      "source": [
        "L = OrderedList([3, 10, 2])\n",
        "print (L)\n",
        "L.append(5)\n",
        "print (L)\n",
        "L.extend( (4,8,20) )\n",
        "print (L)"
      ],
      "metadata": {
        "id": "5FKH_VNui7IM"
      },
      "execution_count": null,
      "outputs": []
    },
    {
      "cell_type": "markdown",
      "source": [
        "[2, 3, 10]\n",
        "\n",
        "[2, 3, 5, 10]\n",
        "\n",
        "[2, 3, 4, 5, 8, 10, 20]"
      ],
      "metadata": {
        "id": "-VfYNG2hkVR8"
      }
    },
    {
      "cell_type": "code",
      "source": [
        "class OrderedList(list):\n",
        "    def __init__(self, item):\n",
        "        super().__init__(item)\n",
        "        self.sort()\n",
        "    def append(self, item):\n",
        "        super().append(item)\n",
        "        self.sort()\n",
        "    def extend(self, item):\n",
        "        super().extend(item)\n",
        "        self.sort()"
      ],
      "metadata": {
        "id": "7OWg7_2ikVyW"
      },
      "execution_count": null,
      "outputs": []
    },
    {
      "cell_type": "code",
      "source": [
        "L = OrderedList([3, 10, 2])\n",
        "L"
      ],
      "metadata": {
        "colab": {
          "base_uri": "https://localhost:8080/"
        },
        "id": "-bjqWB-gvHLG",
        "outputId": "086525d7-6795-4238-91cd-5e3d1ebc1e5b"
      },
      "execution_count": null,
      "outputs": [
        {
          "output_type": "execute_result",
          "data": {
            "text/plain": [
              "[2, 3, 10]"
            ]
          },
          "metadata": {},
          "execution_count": 87
        }
      ]
    },
    {
      "cell_type": "code",
      "source": [
        "L.append(5)"
      ],
      "metadata": {
        "id": "tB7nOAAGvL5b"
      },
      "execution_count": null,
      "outputs": []
    },
    {
      "cell_type": "code",
      "source": [
        "L"
      ],
      "metadata": {
        "colab": {
          "base_uri": "https://localhost:8080/"
        },
        "id": "Wt7FWSYLv-dA",
        "outputId": "af12a9e8-80c0-4f03-8351-3f937b18e35e"
      },
      "execution_count": null,
      "outputs": [
        {
          "output_type": "execute_result",
          "data": {
            "text/plain": [
              "[2, 3, 5, 10]"
            ]
          },
          "metadata": {},
          "execution_count": 89
        }
      ]
    },
    {
      "cell_type": "code",
      "source": [
        "L.extend((4,8,20))"
      ],
      "metadata": {
        "id": "_Rp96B5MwQyW"
      },
      "execution_count": null,
      "outputs": []
    },
    {
      "cell_type": "code",
      "source": [
        "L"
      ],
      "metadata": {
        "colab": {
          "base_uri": "https://localhost:8080/"
        },
        "id": "hvl1d_LWwiEW",
        "outputId": "eeb7670d-799c-4c31-b9c0-fe5f28297c23"
      },
      "execution_count": null,
      "outputs": [
        {
          "output_type": "execute_result",
          "data": {
            "text/plain": [
              "[2, 3, 4, 5, 8, 10, 20]"
            ]
          },
          "metadata": {},
          "execution_count": 91
        }
      ]
    },
    {
      "cell_type": "markdown",
      "source": [],
      "metadata": {
        "id": "BvTnY-LNxG8J"
      }
    },
    {
      "cell_type": "markdown",
      "source": [
        "다음과 같이 동작하는 클래스 Counter를 만들어 보시오"
      ],
      "metadata": {
        "id": "hy2RWVp8A8KQ"
      }
    },
    {
      "cell_type": "markdown",
      "source": [
        "1. 이 클래스의 생성자는 정수의 초깃값을 받는다. 만일 인수가 주어지지 않으면 초깃값 0을 가진다.\n",
        "\n",
        "2. 인스턴스 변수 step 은 카운터 값을 증가시키는 증분이다. 초깃값은 1이다.\n",
        "\n",
        "3. 메서드 incr을 호출하면 현재의 카운터에서 step 만큼 증가한다.\n",
        "\n",
        "4. 카운터 값을 문자열로 변환하는 __ str __()  와 __ repr __() 메서드를 추가해 보자"
      ],
      "metadata": {
        "id": "cGsYU8mzBBWy"
      }
    },
    {
      "cell_type": "code",
      "source": [
        "c = Counter()\n",
        "c.incr()\n",
        "c"
      ],
      "metadata": {
        "colab": {
          "base_uri": "https://localhost:8080/"
        },
        "id": "j1_Oy4yBBBIN",
        "outputId": "b29f4ebc-c88c-4e04-dda8-d2239052f461"
      },
      "execution_count": null,
      "outputs": [
        {
          "output_type": "execute_result",
          "data": {
            "text/plain": [
              "1"
            ]
          },
          "metadata": {},
          "execution_count": 2
        }
      ]
    },
    {
      "cell_type": "code",
      "source": [
        "class Counter:\n",
        "    def __init__(self, initial=0, step=1):\n",
        "        self.initial = initial\n",
        "        self.step = step\n",
        "    def incr(self):\n",
        "        self.initial += self.step\n",
        "    def __str__(self):\n",
        "        return str(self.initial)\n",
        "    def __repr__(self):\n",
        "        return(f'{self.initial}')\n",
        "\n",
        "c = Counter()\n",
        "c.incr()\n",
        "c"
      ],
      "metadata": {
        "colab": {
          "base_uri": "https://localhost:8080/"
        },
        "id": "SKJ2KNKUwiw8",
        "outputId": "f63542c7-966c-4662-ba01-2993ceb0401a"
      },
      "execution_count": null,
      "outputs": [
        {
          "output_type": "execute_result",
          "data": {
            "text/plain": [
              "1"
            ]
          },
          "metadata": {},
          "execution_count": 92
        }
      ]
    },
    {
      "cell_type": "code",
      "source": [
        "c.incr()"
      ],
      "metadata": {
        "id": "bp-g2JH44aQH"
      },
      "execution_count": null,
      "outputs": []
    },
    {
      "cell_type": "code",
      "source": [
        "c"
      ],
      "metadata": {
        "colab": {
          "base_uri": "https://localhost:8080/"
        },
        "id": "VA1iiwRN4qRW",
        "outputId": "630e5790-8234-4ae0-9670-cd391b559485"
      },
      "execution_count": null,
      "outputs": [
        {
          "output_type": "execute_result",
          "data": {
            "text/plain": [
              "2"
            ]
          },
          "metadata": {},
          "execution_count": 94
        }
      ]
    },
    {
      "cell_type": "markdown",
      "source": [
        "__ call __ 메서드를 추가해서, 인스턴스 오브젝트를 호출가능하게 해주세요."
      ],
      "metadata": {
        "id": "_99hzSwB40LS"
      }
    },
    {
      "cell_type": "code",
      "source": [
        "c = Counter()\n",
        "c()  # 1\n",
        "c()  # 2"
      ],
      "metadata": {
        "id": "N5sjzYhK4qxq"
      },
      "execution_count": null,
      "outputs": []
    },
    {
      "cell_type": "code",
      "source": [
        "class Counter:\n",
        "    def __init__(self, value=0, step=1):\n",
        "        self.value = value\n",
        "        self.step = step\n",
        "\n",
        "    def incr(self):\n",
        "        self.value += self.step\n",
        "\n",
        "    def __str__(self):\n",
        "        return str(self.value)\n",
        "\n",
        "    def __repr__(self):\n",
        "        return f'{self.value}'\n",
        "\n",
        "    def __call__(self):\n",
        "        self.incr()\n",
        "        return self.value"
      ],
      "metadata": {
        "id": "a0YB6lSA7TE8"
      },
      "execution_count": null,
      "outputs": []
    },
    {
      "cell_type": "code",
      "source": [
        "c = Counter()\n",
        "c()"
      ],
      "metadata": {
        "colab": {
          "base_uri": "https://localhost:8080/"
        },
        "id": "sopmqnf67T2x",
        "outputId": "536d0820-4822-435b-801f-d7fd56e0a18e"
      },
      "execution_count": null,
      "outputs": [
        {
          "output_type": "execute_result",
          "data": {
            "text/plain": [
              "1"
            ]
          },
          "metadata": {},
          "execution_count": 96
        }
      ]
    },
    {
      "cell_type": "code",
      "source": [
        "c()"
      ],
      "metadata": {
        "colab": {
          "base_uri": "https://localhost:8080/"
        },
        "id": "cr44qD0c7c_5",
        "outputId": "0834eb76-0e8c-401e-85f9-c33439e40c7d"
      },
      "execution_count": null,
      "outputs": [
        {
          "output_type": "execute_result",
          "data": {
            "text/plain": [
              "2"
            ]
          },
          "metadata": {},
          "execution_count": 97
        }
      ]
    },
    {
      "cell_type": "code",
      "source": [],
      "metadata": {
        "id": "N2fPR3nt7rr5"
      },
      "execution_count": null,
      "outputs": []
    },
    {
      "cell_type": "code",
      "source": [
        "book1 = Book()"
      ],
      "metadata": {
        "id": "IfQgyR1D_1tk"
      },
      "execution_count": null,
      "outputs": []
    },
    {
      "cell_type": "code",
      "source": [
        "book1.set_info('하얼빈', '김훈')"
      ],
      "metadata": {
        "id": "uEyMYX6D_4BF"
      },
      "execution_count": null,
      "outputs": []
    },
    {
      "cell_type": "code",
      "source": [
        "book1.print_info()"
      ],
      "metadata": {
        "colab": {
          "base_uri": "https://localhost:8080/"
        },
        "id": "6BgZfHiKADIq",
        "outputId": "de87c3eb-e709-4393-be64-a63a0ae1a2ba"
      },
      "execution_count": null,
      "outputs": [
        {
          "output_type": "stream",
          "name": "stdout",
          "text": [
            "책 제목: 하얼빈\n",
            "책 저자: 김훈\n"
          ]
        }
      ]
    },
    {
      "cell_type": "markdown",
      "source": [
        "책 제목: 하얼빈\n",
        "\n",
        "책 저자: 김훈\n",
        "\n",
        "책 제목: 채식주의자\n",
        "\n",
        "책 저자: 한강"
      ],
      "metadata": {
        "id": "RhJ1DskI8dJo"
      }
    },
    {
      "cell_type": "markdown",
      "source": [
        "클래스 만들어 주시고, 작성된 클래스를 사용하는 클라이언트의 내용도 보내주세요."
      ],
      "metadata": {
        "id": "01egDbwS8nNK"
      }
    },
    {
      "cell_type": "code",
      "source": [
        "class Book:\n",
        "    def set_info(self, title, author):\n",
        "        self.title = title\n",
        "        self.author = author\n",
        "\n",
        "    def print_info(self):\n",
        "        print(f\"책 제목 : {self.title}\")\n",
        "        print(f\"책 저자 : {self.author}\")\n",
        "\n",
        "book1 = Book()\n",
        "book1.set_info('하얼빈', '김훈')\n",
        "book1.print_info()\n",
        "\n",
        "book2 = Book()\n",
        "book2.set_info('채식주의자', '한강')\n",
        "book2.print_info()"
      ],
      "metadata": {
        "colab": {
          "base_uri": "https://localhost:8080/"
        },
        "id": "d8-VhBl_808C",
        "outputId": "d1b298dc-1472-4466-fec4-df19a925fd4a"
      },
      "execution_count": null,
      "outputs": [
        {
          "output_type": "stream",
          "name": "stdout",
          "text": [
            "책 제목 : 하얼빈\n",
            "책 저자 : 김훈\n",
            "책 제목 : 채식주의자\n",
            "책 저자 : 한강\n"
          ]
        }
      ]
    },
    {
      "cell_type": "code",
      "source": [
        "data_list = [('하얼빈', '김훈'), ('채식주의자', '한강'), ('어린왕자', '생텍쥐페리')]"
      ],
      "metadata": {
        "id": "KwZYK9tH_9I1"
      },
      "execution_count": null,
      "outputs": []
    },
    {
      "cell_type": "code",
      "source": [
        "for each in data_list:\n",
        "    book1 = Book()\n",
        "    book1.set_info(each[0], each[1])\n",
        "    book1.print_info()"
      ],
      "metadata": {
        "colab": {
          "base_uri": "https://localhost:8080/"
        },
        "id": "mk8lwDOWAIEA",
        "outputId": "c1badcae-24d9-42db-8f92-7c09dbe81f13"
      },
      "execution_count": null,
      "outputs": [
        {
          "output_type": "stream",
          "name": "stdout",
          "text": [
            "책 제목 : 하얼빈\n",
            "책 저자 : 김훈\n",
            "책 제목 : 채식주의자\n",
            "책 저자 : 한강\n",
            "책 제목 : 어린왕자\n",
            "책 저자 : 생텍쥐페리\n"
          ]
        }
      ]
    },
    {
      "cell_type": "code",
      "source": [
        "obj_song = Song()\n",
        "obj_song.set_song('취중진담', '발라드')\n",
        "obj_song.print_song() # \"노래제목 : 취중진담(발라드)\" 가 출력되게 하시오.\n",
        "obj_singer = Singer()\n",
        "obj_singer.set_singer('김동률')\n",
        "obj_singer.hit_song(obj_song) #obj_singer의 인스턴스 변수에서 노래제목에 접근이 가능하도록 하시오.\n",
        "obj_singer.print_singer() # \"가수이름 : 김동률\" 과 \"노래제목 : 취중진담(발라드)\" 가 출력되게 하시오."
      ],
      "metadata": {
        "id": "cbZ0C_NOAZZn"
      },
      "execution_count": null,
      "outputs": []
    },
    {
      "cell_type": "code",
      "source": [
        "class Song:\n",
        "    def set_song(self, title, genre):\n",
        "        self.title = title\n",
        "        self.genre = genre\n",
        "    def print_song(self):\n",
        "        print(f'노래제목 : {self.title}({self.genre})')\n",
        "\n",
        "class Singer:\n",
        "    def set_singer(self, name):\n",
        "        self.name = name\n",
        "    def hit_song(self, obj_song):\n",
        "        self.hits = obj_song #self.song = obj_song\n",
        "    def print_singer(self):\n",
        "        print(f'가수이름 : {self.name}')\n",
        "        self.hits.print_song()\n",
        "        #print(f'노래제목 : {self.song.title}({self.song.genre})')\n",
        "\n",
        "obj_song = Song()\n",
        "obj_song.set_song('취중진담', '발라드')\n",
        "obj_song.print_song()\n",
        "obj_singer = Singer()\n",
        "obj_singer.set_singer('김동률')\n",
        "obj_singer.hit_song(obj_song)\n",
        "obj_singer.print_singer()"
      ],
      "metadata": {
        "colab": {
          "base_uri": "https://localhost:8080/"
        },
        "id": "Kd8puS9xlBWr",
        "outputId": "c20cda60-8c08-46d9-d873-e17667138059"
      },
      "execution_count": null,
      "outputs": [
        {
          "output_type": "stream",
          "name": "stdout",
          "text": [
            "노래제목 : 취중진담(발라드)\n",
            "가수이름 : 김동률\n",
            "노래제목 : 취중진담(발라드)\n"
          ]
        }
      ]
    },
    {
      "cell_type": "code",
      "source": [],
      "metadata": {
        "id": "JD7H8fZ-l1Se"
      },
      "execution_count": null,
      "outputs": []
    },
    {
      "cell_type": "code",
      "source": [
        "class Personal(list):\n",
        "    def __init__(self, name, dob, descs):\n",
        "        self.name = name\n",
        "        self.dob = dob\n",
        "        self.append(descs)\n",
        "    def present(self):\n",
        "        print(self.name, \":\", self.dob)\n",
        "        print(self)\n"
      ],
      "metadata": {
        "id": "gW6TwmUDNUuX"
      },
      "execution_count": null,
      "outputs": []
    },
    {
      "cell_type": "markdown",
      "metadata": {
        "id": "1w4M2mkRSj29"
      },
      "source": [
        "1. Personal 클래스에 맞게 인스턴스 객체를 생성해 보시오.\n",
        "\n",
        "2. 인스턴스 객체에 append 를 사용하여 임의의 문구를 추가해 보시오.\n",
        "\n",
        "    임의의 문구 : \"전화하지 마세요\"\n",
        "\n",
        "3. name 을 key 로 하고, 인스턴스 객체를 value 로 하는 dictionary 를 만들어 보시오.\n",
        "\n"
      ]
    },
    {
      "cell_type": "code",
      "source": [
        "p1 = Personal('홍길동', '1990-08-01', '휴가 중')"
      ],
      "metadata": {
        "id": "-pAxOCldtI0K"
      },
      "execution_count": null,
      "outputs": []
    },
    {
      "cell_type": "code",
      "source": [
        "p1"
      ],
      "metadata": {
        "colab": {
          "base_uri": "https://localhost:8080/"
        },
        "id": "PoPAfB5ntPZw",
        "outputId": "ab5e06d1-46fd-4b16-dc51-6704f56b941d"
      },
      "execution_count": null,
      "outputs": [
        {
          "output_type": "execute_result",
          "data": {
            "text/plain": [
              "['휴가 중']"
            ]
          },
          "metadata": {},
          "execution_count": 109
        }
      ]
    },
    {
      "cell_type": "code",
      "source": [
        "p1.append('전화하지 마세요')"
      ],
      "metadata": {
        "id": "bWz4NaOxtUTb"
      },
      "execution_count": null,
      "outputs": []
    },
    {
      "cell_type": "code",
      "source": [
        "p1"
      ],
      "metadata": {
        "colab": {
          "base_uri": "https://localhost:8080/"
        },
        "id": "LYUPqb0eth0p",
        "outputId": "b1cf3841-af49-45ea-e7ad-6f7eb45ecb4c"
      },
      "execution_count": null,
      "outputs": [
        {
          "output_type": "execute_result",
          "data": {
            "text/plain": [
              "['휴가 중', '전화하지 마세요']"
            ]
          },
          "metadata": {},
          "execution_count": 111
        }
      ]
    },
    {
      "cell_type": "code",
      "source": [
        "person_dict = {p1.name:p1}"
      ],
      "metadata": {
        "id": "aBOOiALNtjM1"
      },
      "execution_count": null,
      "outputs": []
    },
    {
      "cell_type": "code",
      "source": [
        "person_dict"
      ],
      "metadata": {
        "colab": {
          "base_uri": "https://localhost:8080/"
        },
        "id": "50_KWbC9tqoC",
        "outputId": "0fd37ad0-3bbd-4552-f23a-bfc552f304bd"
      },
      "execution_count": null,
      "outputs": [
        {
          "output_type": "execute_result",
          "data": {
            "text/plain": [
              "{'홍길동': ['휴가 중', '전화하지 마세요']}"
            ]
          },
          "metadata": {},
          "execution_count": 113
        }
      ]
    },
    {
      "cell_type": "code",
      "source": [
        "person_dict['홍길동'].present()"
      ],
      "metadata": {
        "colab": {
          "base_uri": "https://localhost:8080/"
        },
        "id": "_F_55xfstuqi",
        "outputId": "d1f80c1a-d70a-4887-cdf8-b86ceaa80f29"
      },
      "execution_count": null,
      "outputs": [
        {
          "output_type": "stream",
          "name": "stdout",
          "text": [
            "홍길동 : 1990-08-01\n",
            "['휴가 중', '전화하지 마세요']\n"
          ]
        }
      ]
    },
    {
      "cell_type": "code",
      "source": [
        "person_dict['홍길동'].append('소설속 인물')"
      ],
      "metadata": {
        "id": "oVrfRSWrt5fH"
      },
      "execution_count": null,
      "outputs": []
    },
    {
      "cell_type": "code",
      "source": [
        "person_dict"
      ],
      "metadata": {
        "colab": {
          "base_uri": "https://localhost:8080/"
        },
        "id": "pOpfKwpRuCFm",
        "outputId": "04557fff-52f3-40b9-a8ee-22f74cbaaafe"
      },
      "execution_count": null,
      "outputs": [
        {
          "output_type": "execute_result",
          "data": {
            "text/plain": [
              "{'홍길동': ['휴가 중', '전화하지 마세요', '소설속 인물']}"
            ]
          },
          "metadata": {},
          "execution_count": 116
        }
      ]
    },
    {
      "cell_type": "code",
      "source": [
        "person_dict['홍길동'].present()"
      ],
      "metadata": {
        "colab": {
          "base_uri": "https://localhost:8080/"
        },
        "id": "_aDUyodpuD6u",
        "outputId": "27b6d91c-5cd6-4c50-df0f-7ab2a1f7ade2"
      },
      "execution_count": null,
      "outputs": [
        {
          "output_type": "stream",
          "name": "stdout",
          "text": [
            "홍길동 : 1990-08-01\n",
            "['휴가 중', '전화하지 마세요', '소설속 인물']\n"
          ]
        }
      ]
    },
    {
      "cell_type": "code",
      "source": [
        "리스트 + 딕셔너리 + 사용자 데이터 + 사용자 기능"
      ],
      "metadata": {
        "id": "8UJbe53kuHIo"
      },
      "execution_count": null,
      "outputs": []
    },
    {
      "cell_type": "code",
      "source": [
        "Rossum = Personal(\"Guido van Rossum\", 1991, '모르는 사람')"
      ],
      "metadata": {
        "id": "aOuF_2O8vS-n"
      },
      "execution_count": null,
      "outputs": []
    },
    {
      "cell_type": "code",
      "source": [
        "Rossum.append('파이썬 발명가')"
      ],
      "metadata": {
        "id": "7-fjY0oQvaGT"
      },
      "execution_count": null,
      "outputs": []
    },
    {
      "cell_type": "markdown",
      "source": [
        "# Dacorators\n",
        "\n",
        "장식자 : 함수를 인수로 받는 함수 클로저\n",
        "\n",
        "함수 클로저 : 함수 코드와 그 함수의 변수 참조 영역을 묶은 객체"
      ],
      "metadata": {
        "id": "ivSjoUPCw0q1"
      }
    },
    {
      "cell_type": "markdown",
      "source": [
        "함수 클로저에서는 내부 함수에서 심볼 테이블을 인수로 받았다.\n",
        "\n",
        "장식자는 내부 함수에서 함수를 인수로 받는다."
      ],
      "metadata": {
        "id": "bk3OJFoSycaN"
      }
    },
    {
      "cell_type": "code",
      "source": [],
      "metadata": {
        "id": "IFKYru8YvcLt"
      },
      "execution_count": null,
      "outputs": []
    },
    {
      "cell_type": "code",
      "source": [
        "def quadratic(a, b, c):\n",
        "    cache = {}\n",
        "    def f(x):\n",
        "        if x in cache:\n",
        "            return cache[x]\n",
        "        y = a*x*x + b*x + c\n",
        "        cache[x]=y\n",
        "        return y\n",
        "    return f\n",
        "\n",
        "f1 = quadratic(1, 2, 1)\n",
        "print(f1(1))\n",
        "f2 = quadratic(1,6,9)\n",
        "f2(1)"
      ],
      "metadata": {
        "colab": {
          "base_uri": "https://localhost:8080/"
        },
        "id": "XyufUYYIZBS_",
        "outputId": "b3c2150d-da40-4dbc-da8b-acf00b707a32"
      },
      "execution_count": null,
      "outputs": [
        {
          "output_type": "stream",
          "name": "stdout",
          "text": [
            "4\n"
          ]
        },
        {
          "output_type": "execute_result",
          "data": {
            "text/plain": [
              "16"
            ]
          },
          "metadata": {},
          "execution_count": 52
        }
      ]
    },
    {
      "cell_type": "code",
      "source": [
        "f1(1)"
      ],
      "metadata": {
        "id": "QPhrQtqeBy6g",
        "outputId": "111ccabe-7adb-41c5-ec81-367840d2bc91",
        "colab": {
          "base_uri": "https://localhost:8080/"
        }
      },
      "execution_count": null,
      "outputs": [
        {
          "output_type": "execute_result",
          "data": {
            "text/plain": [
              "4"
            ]
          },
          "metadata": {},
          "execution_count": 54
        }
      ]
    },
    {
      "cell_type": "markdown",
      "source": [
        "![image.png](data:image/png;base64,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)"
      ],
      "metadata": {
        "id": "XEMtLfF4ijmy"
      }
    },
    {
      "cell_type": "code",
      "source": [
        "def wrapper(func):\n",
        "    def wrapped_func():\n",
        "        print('====before====')\n",
        "        func()\n",
        "        print('====after====')\n",
        "    return wrapped_func"
      ],
      "metadata": {
        "id": "EVit2Vd9x4kg"
      },
      "execution_count": null,
      "outputs": []
    },
    {
      "cell_type": "code",
      "source": [
        "def myfunc():\n",
        "    print('I am here')"
      ],
      "metadata": {
        "id": "1gUF6vmNzII7"
      },
      "execution_count": null,
      "outputs": []
    },
    {
      "cell_type": "code",
      "source": [
        "result = wrapper(myfunc)"
      ],
      "metadata": {
        "id": "SxY11CfszUE3"
      },
      "execution_count": null,
      "outputs": []
    },
    {
      "cell_type": "code",
      "source": [
        "result()"
      ],
      "metadata": {
        "colab": {
          "base_uri": "https://localhost:8080/"
        },
        "id": "IhCNsakBzglt",
        "outputId": "d865177a-892c-4fc4-a552-75e16f1b0d69"
      },
      "execution_count": null,
      "outputs": [
        {
          "output_type": "stream",
          "name": "stdout",
          "text": [
            "====before====\n",
            "I am here\n",
            "====after====\n"
          ]
        }
      ]
    },
    {
      "cell_type": "code",
      "source": [
        "@wrapper\n",
        "def myfunc2():\n",
        "    print('me too')"
      ],
      "metadata": {
        "id": "I3BIAirP0BbQ"
      },
      "execution_count": null,
      "outputs": []
    },
    {
      "cell_type": "code",
      "source": [
        "myfunc2()"
      ],
      "metadata": {
        "colab": {
          "base_uri": "https://localhost:8080/"
        },
        "id": "J-eGqD561JV1",
        "outputId": "b80b2101-372d-4c7f-da37-83150ce66699"
      },
      "execution_count": null,
      "outputs": [
        {
          "output_type": "stream",
          "name": "stdout",
          "text": [
            "====before====\n",
            "me too\n",
            "====after====\n"
          ]
        }
      ]
    },
    {
      "cell_type": "code",
      "source": [
        "def makebold(fn):\n",
        "    def wrapped():\n",
        "        return '<b>'+fn()+'</b>'\n",
        "    return wrapped\n",
        "def makeitalic(fn):\n",
        "    def wrapped():\n",
        "        return '<i>'+fn()+'</i>'\n",
        "    return wrapped"
      ],
      "metadata": {
        "id": "LK_pIZei1QRd"
      },
      "execution_count": null,
      "outputs": []
    },
    {
      "cell_type": "code",
      "source": [
        "@makeitalic\n",
        "@makebold\n",
        "def say():\n",
        "    return 'Hello'"
      ],
      "metadata": {
        "id": "j1pQvxWk6fom"
      },
      "execution_count": null,
      "outputs": []
    },
    {
      "cell_type": "code",
      "source": [
        "say()"
      ],
      "metadata": {
        "colab": {
          "base_uri": "https://localhost:8080/",
          "height": 56
        },
        "id": "A6MRiiqV6nVp",
        "outputId": "fd2fef7d-a1ae-415b-c585-224ad986aa2b"
      },
      "execution_count": null,
      "outputs": [
        {
          "output_type": "execute_result",
          "data": {
            "text/plain": [
              "'<i><b>Hello</b></i>'"
            ],
            "application/vnd.google.colaboratory.intrinsic+json": {
              "type": "string"
            }
          },
          "metadata": {},
          "execution_count": 137
        }
      ]
    },
    {
      "cell_type": "markdown",
      "source": [
        "f = makeitalic(makebold(say())) 의 형태"
      ],
      "metadata": {
        "id": "8YKqHMcu7Fhe"
      }
    },
    {
      "cell_type": "markdown",
      "source": [
        "인수 전달하는 장식자의 예"
      ],
      "metadata": {
        "id": "6b9Rn8dh8fTK"
      }
    },
    {
      "cell_type": "code",
      "source": [
        "def debug(fn):\n",
        "    def wrapped(a, b): #fn 과 동일한 인수를 적어준다.\n",
        "        print('debug', a, b)\n",
        "        return fn(a, b) # 함수 fn을 호출한다.\n",
        "    return wrapped"
      ],
      "metadata": {
        "id": "6yTGFWsv7Ewy"
      },
      "execution_count": null,
      "outputs": []
    },
    {
      "cell_type": "code",
      "source": [
        "@debug\n",
        "def add(a, b):\n",
        "    return a+b"
      ],
      "metadata": {
        "id": "XDlm18hz6opV"
      },
      "execution_count": null,
      "outputs": []
    },
    {
      "cell_type": "code",
      "source": [
        "add(1, 2)"
      ],
      "metadata": {
        "colab": {
          "base_uri": "https://localhost:8080/"
        },
        "id": "dBW8BEMY8KE1",
        "outputId": "32e570f2-2bab-4480-d75c-dcbc10c1d66f"
      },
      "execution_count": null,
      "outputs": [
        {
          "output_type": "stream",
          "name": "stdout",
          "text": [
            "debug 1 2\n"
          ]
        },
        {
          "output_type": "execute_result",
          "data": {
            "text/plain": [
              "3"
            ]
          },
          "metadata": {},
          "execution_count": 140
        }
      ]
    },
    {
      "cell_type": "markdown",
      "source": [
        "인수 전달을 일반화 하는 경우"
      ],
      "metadata": {
        "id": "LmGcKGin8lra"
      }
    },
    {
      "cell_type": "code",
      "source": [
        "def debug(fn):\n",
        "    def wrapped(*args, **kwargs):\n",
        "        print('calling', fn.__name__, 'args= ', args, 'kwargs= ', kwargs)\n",
        "        result = fn(*args, **kwargs)\n",
        "        print('   result = ', result)\n",
        "        return result\n",
        "    return wrapped"
      ],
      "metadata": {
        "id": "CTcQqp-P8Law"
      },
      "execution_count": null,
      "outputs": []
    },
    {
      "cell_type": "code",
      "source": [
        "@debug\n",
        "def add(a, b):\n",
        "    return a+b"
      ],
      "metadata": {
        "id": "6B0SlWvo8oT5"
      },
      "execution_count": null,
      "outputs": []
    },
    {
      "cell_type": "code",
      "source": [
        "add(10, 20)"
      ],
      "metadata": {
        "colab": {
          "base_uri": "https://localhost:8080/"
        },
        "id": "52XolSte9tuB",
        "outputId": "3432b07a-415b-4292-9d7c-19a6869c9197"
      },
      "execution_count": null,
      "outputs": [
        {
          "output_type": "stream",
          "name": "stdout",
          "text": [
            "calling add args=  (10, 20) kwargs=  {}\n",
            "   result =  30\n"
          ]
        },
        {
          "output_type": "execute_result",
          "data": {
            "text/plain": [
              "30"
            ]
          },
          "metadata": {},
          "execution_count": 144
        }
      ]
    },
    {
      "cell_type": "code",
      "source": [
        "def wrapper(func):\n",
        "    def wrapped_func():\n",
        "        print('====before====')\n",
        "        func()\n",
        "        print('====after====')\n",
        "    return wrapped_func"
      ],
      "metadata": {
        "id": "Y93pdh8e9u9x"
      },
      "execution_count": null,
      "outputs": []
    },
    {
      "cell_type": "code",
      "metadata": {
        "colab": {
          "base_uri": "https://localhost:8080/"
        },
        "id": "TTMU3ukMJZvY",
        "outputId": "3303e7da-6df7-47d8-d633-88a521c3ca73"
      },
      "source": [
        "myfunc4(10,20)"
      ],
      "execution_count": null,
      "outputs": [
        {
          "output_type": "stream",
          "text": [
            "====before====\n",
            "I am here.\n",
            "====after====\n"
          ],
          "name": "stdout"
        },
        {
          "output_type": "execute_result",
          "data": {
            "text/plain": [
              "30"
            ]
          },
          "metadata": {
            "tags": []
          },
          "execution_count": 5
        }
      ]
    },
    {
      "cell_type": "code",
      "source": [
        "def wrapper(func):\n",
        "    def wrapped_func(*args):\n",
        "        print('====before====')\n",
        "        result = func(*args)\n",
        "        print('====after====')\n",
        "        return result\n",
        "    return wrapped_func\n",
        "\n",
        "@wrapper\n",
        "def myfunc4(a, b):\n",
        "    print('I am here')\n",
        "    return a + b\n",
        "\n",
        "result = myfunc4(10, 20)\n",
        "print(result)"
      ],
      "metadata": {
        "colab": {
          "base_uri": "https://localhost:8080/"
        },
        "id": "IgG77NIWDnfR",
        "outputId": "f227be09-555f-4f90-df58-d2b9a0a3d529"
      },
      "execution_count": null,
      "outputs": [
        {
          "output_type": "stream",
          "name": "stdout",
          "text": [
            "====before====\n",
            "I am here\n",
            "====after====\n",
            "30\n"
          ]
        }
      ]
    },
    {
      "cell_type": "code",
      "source": [],
      "metadata": {
        "id": "mtDILMMsDpBt"
      },
      "execution_count": null,
      "outputs": []
    }
  ]
}