{
  "nbformat": 4,
  "nbformat_minor": 0,
  "metadata": {
    "colab": {
      "provenance": [],
      "include_colab_link": true
    },
    "kernelspec": {
      "name": "python3",
      "display_name": "Python 3"
    },
    "language_info": {
      "name": "python"
    }
  },
  "cells": [
    {
      "cell_type": "markdown",
      "metadata": {
        "id": "view-in-github",
        "colab_type": "text"
      },
      "source": [
        "<a href=\"https://colab.research.google.com/github/ohjeonsuk/python-education/blob/main/L231024_(1).ipynb\" target=\"_parent\"><img src=\"https://colab.research.google.com/assets/colab-badge.svg\" alt=\"Open In Colab\"/></a>"
      ]
    },
    {
      "cell_type": "markdown",
      "source": [
        "1. 통계적 머신러닝\n",
        "\n",
        "    - 회귀\n",
        "\n",
        "        선형회귀\n",
        "\n",
        "        다항회귀\n",
        "\n",
        "        릿지, 라쏘, 엘라스틱넷\n",
        "\n",
        "        로지스틱회귀\n",
        "\n",
        "    - 차원축소 / 군집\n",
        "\n",
        "        pca\n",
        "\n",
        "        KMeans\n",
        "\n",
        "        군집평가, DBSCAN\n",
        "\n",
        "    - 텍스트 처리\n",
        "\n",
        "        NLP, BOW\n",
        "\n",
        "        텍스트 분류\n",
        "\n",
        "        감성분석\n",
        "\n",
        "        문서유사도\n",
        "\n",
        "2. 딥러닝\n",
        "\n",
        "    - ANN\n",
        "\n",
        "    - 경사하강법\n",
        "\n",
        "    - 오차역전파\n",
        "\n",
        "    - Optimizer\n",
        "\n",
        "    - CNN\n",
        "\n",
        "    - ResNet\n",
        "\n",
        "    - RNN, LSTM, GRU"
      ],
      "metadata": {
        "id": "JBEFVOH36veC"
      }
    },
    {
      "cell_type": "code",
      "execution_count": null,
      "metadata": {
        "id": "FVNgs7A85qBA"
      },
      "outputs": [],
      "source": [
        "import pandas as pd\n",
        "import numpy as np\n",
        "import matplotlib.pyplot as plt"
      ]
    },
    {
      "cell_type": "code",
      "source": [
        "from sklearn import linear_model\n",
        "from sklearn.metrics import mean_squared_error"
      ],
      "metadata": {
        "id": "sGhAYVwJcoGh"
      },
      "execution_count": null,
      "outputs": []
    },
    {
      "cell_type": "code",
      "source": [
        "data = {'x' : [13, 19, 16, 14, 15, 14],\n",
        "        'y' : [40, 83, 62, 48, 58, 43]}\n",
        "data = pd.DataFrame(data)\n",
        "data"
      ],
      "metadata": {
        "colab": {
          "base_uri": "https://localhost:8080/",
          "height": 237
        },
        "id": "JICuvdHxet67",
        "outputId": "6a8ba64a-11d2-4944-f606-dde48b2b68ec"
      },
      "execution_count": null,
      "outputs": [
        {
          "output_type": "execute_result",
          "data": {
            "text/plain": [
              "    x   y\n",
              "0  13  40\n",
              "1  19  83\n",
              "2  16  62\n",
              "3  14  48\n",
              "4  15  58\n",
              "5  14  43"
            ],
            "text/html": [
              "\n",
              "  <div id=\"df-a15d4913-d882-4825-ba76-d091878cc627\" class=\"colab-df-container\">\n",
              "    <div>\n",
              "<style scoped>\n",
              "    .dataframe tbody tr th:only-of-type {\n",
              "        vertical-align: middle;\n",
              "    }\n",
              "\n",
              "    .dataframe tbody tr th {\n",
              "        vertical-align: top;\n",
              "    }\n",
              "\n",
              "    .dataframe thead th {\n",
              "        text-align: right;\n",
              "    }\n",
              "</style>\n",
              "<table border=\"1\" class=\"dataframe\">\n",
              "  <thead>\n",
              "    <tr style=\"text-align: right;\">\n",
              "      <th></th>\n",
              "      <th>x</th>\n",
              "      <th>y</th>\n",
              "    </tr>\n",
              "  </thead>\n",
              "  <tbody>\n",
              "    <tr>\n",
              "      <th>0</th>\n",
              "      <td>13</td>\n",
              "      <td>40</td>\n",
              "    </tr>\n",
              "    <tr>\n",
              "      <th>1</th>\n",
              "      <td>19</td>\n",
              "      <td>83</td>\n",
              "    </tr>\n",
              "    <tr>\n",
              "      <th>2</th>\n",
              "      <td>16</td>\n",
              "      <td>62</td>\n",
              "    </tr>\n",
              "    <tr>\n",
              "      <th>3</th>\n",
              "      <td>14</td>\n",
              "      <td>48</td>\n",
              "    </tr>\n",
              "    <tr>\n",
              "      <th>4</th>\n",
              "      <td>15</td>\n",
              "      <td>58</td>\n",
              "    </tr>\n",
              "    <tr>\n",
              "      <th>5</th>\n",
              "      <td>14</td>\n",
              "      <td>43</td>\n",
              "    </tr>\n",
              "  </tbody>\n",
              "</table>\n",
              "</div>\n",
              "    <div class=\"colab-df-buttons\">\n",
              "\n",
              "  <div class=\"colab-df-container\">\n",
              "    <button class=\"colab-df-convert\" onclick=\"convertToInteractive('df-a15d4913-d882-4825-ba76-d091878cc627')\"\n",
              "            title=\"Convert this dataframe to an interactive table.\"\n",
              "            style=\"display:none;\">\n",
              "\n",
              "  <svg xmlns=\"http://www.w3.org/2000/svg\" height=\"24px\" viewBox=\"0 -960 960 960\">\n",
              "    <path d=\"M120-120v-720h720v720H120Zm60-500h600v-160H180v160Zm220 220h160v-160H400v160Zm0 220h160v-160H400v160ZM180-400h160v-160H180v160Zm440 0h160v-160H620v160ZM180-180h160v-160H180v160Zm440 0h160v-160H620v160Z\"/>\n",
              "  </svg>\n",
              "    </button>\n",
              "\n",
              "  <style>\n",
              "    .colab-df-container {\n",
              "      display:flex;\n",
              "      gap: 12px;\n",
              "    }\n",
              "\n",
              "    .colab-df-convert {\n",
              "      background-color: #E8F0FE;\n",
              "      border: none;\n",
              "      border-radius: 50%;\n",
              "      cursor: pointer;\n",
              "      display: none;\n",
              "      fill: #1967D2;\n",
              "      height: 32px;\n",
              "      padding: 0 0 0 0;\n",
              "      width: 32px;\n",
              "    }\n",
              "\n",
              "    .colab-df-convert:hover {\n",
              "      background-color: #E2EBFA;\n",
              "      box-shadow: 0px 1px 2px rgba(60, 64, 67, 0.3), 0px 1px 3px 1px rgba(60, 64, 67, 0.15);\n",
              "      fill: #174EA6;\n",
              "    }\n",
              "\n",
              "    .colab-df-buttons div {\n",
              "      margin-bottom: 4px;\n",
              "    }\n",
              "\n",
              "    [theme=dark] .colab-df-convert {\n",
              "      background-color: #3B4455;\n",
              "      fill: #D2E3FC;\n",
              "    }\n",
              "\n",
              "    [theme=dark] .colab-df-convert:hover {\n",
              "      background-color: #434B5C;\n",
              "      box-shadow: 0px 1px 3px 1px rgba(0, 0, 0, 0.15);\n",
              "      filter: drop-shadow(0px 1px 2px rgba(0, 0, 0, 0.3));\n",
              "      fill: #FFFFFF;\n",
              "    }\n",
              "  </style>\n",
              "\n",
              "    <script>\n",
              "      const buttonEl =\n",
              "        document.querySelector('#df-a15d4913-d882-4825-ba76-d091878cc627 button.colab-df-convert');\n",
              "      buttonEl.style.display =\n",
              "        google.colab.kernel.accessAllowed ? 'block' : 'none';\n",
              "\n",
              "      async function convertToInteractive(key) {\n",
              "        const element = document.querySelector('#df-a15d4913-d882-4825-ba76-d091878cc627');\n",
              "        const dataTable =\n",
              "          await google.colab.kernel.invokeFunction('convertToInteractive',\n",
              "                                                    [key], {});\n",
              "        if (!dataTable) return;\n",
              "\n",
              "        const docLinkHtml = 'Like what you see? Visit the ' +\n",
              "          '<a target=\"_blank\" href=https://colab.research.google.com/notebooks/data_table.ipynb>data table notebook</a>'\n",
              "          + ' to learn more about interactive tables.';\n",
              "        element.innerHTML = '';\n",
              "        dataTable['output_type'] = 'display_data';\n",
              "        await google.colab.output.renderOutput(dataTable, element);\n",
              "        const docLink = document.createElement('div');\n",
              "        docLink.innerHTML = docLinkHtml;\n",
              "        element.appendChild(docLink);\n",
              "      }\n",
              "    </script>\n",
              "  </div>\n",
              "\n",
              "\n",
              "<div id=\"df-feec5416-ad84-4da7-8cad-5a61f384d221\">\n",
              "  <button class=\"colab-df-quickchart\" onclick=\"quickchart('df-feec5416-ad84-4da7-8cad-5a61f384d221')\"\n",
              "            title=\"Suggest charts.\"\n",
              "            style=\"display:none;\">\n",
              "\n",
              "<svg xmlns=\"http://www.w3.org/2000/svg\" height=\"24px\"viewBox=\"0 0 24 24\"\n",
              "     width=\"24px\">\n",
              "    <g>\n",
              "        <path d=\"M19 3H5c-1.1 0-2 .9-2 2v14c0 1.1.9 2 2 2h14c1.1 0 2-.9 2-2V5c0-1.1-.9-2-2-2zM9 17H7v-7h2v7zm4 0h-2V7h2v10zm4 0h-2v-4h2v4z\"/>\n",
              "    </g>\n",
              "</svg>\n",
              "  </button>\n",
              "\n",
              "<style>\n",
              "  .colab-df-quickchart {\n",
              "      --bg-color: #E8F0FE;\n",
              "      --fill-color: #1967D2;\n",
              "      --hover-bg-color: #E2EBFA;\n",
              "      --hover-fill-color: #174EA6;\n",
              "      --disabled-fill-color: #AAA;\n",
              "      --disabled-bg-color: #DDD;\n",
              "  }\n",
              "\n",
              "  [theme=dark] .colab-df-quickchart {\n",
              "      --bg-color: #3B4455;\n",
              "      --fill-color: #D2E3FC;\n",
              "      --hover-bg-color: #434B5C;\n",
              "      --hover-fill-color: #FFFFFF;\n",
              "      --disabled-bg-color: #3B4455;\n",
              "      --disabled-fill-color: #666;\n",
              "  }\n",
              "\n",
              "  .colab-df-quickchart {\n",
              "    background-color: var(--bg-color);\n",
              "    border: none;\n",
              "    border-radius: 50%;\n",
              "    cursor: pointer;\n",
              "    display: none;\n",
              "    fill: var(--fill-color);\n",
              "    height: 32px;\n",
              "    padding: 0;\n",
              "    width: 32px;\n",
              "  }\n",
              "\n",
              "  .colab-df-quickchart:hover {\n",
              "    background-color: var(--hover-bg-color);\n",
              "    box-shadow: 0 1px 2px rgba(60, 64, 67, 0.3), 0 1px 3px 1px rgba(60, 64, 67, 0.15);\n",
              "    fill: var(--button-hover-fill-color);\n",
              "  }\n",
              "\n",
              "  .colab-df-quickchart-complete:disabled,\n",
              "  .colab-df-quickchart-complete:disabled:hover {\n",
              "    background-color: var(--disabled-bg-color);\n",
              "    fill: var(--disabled-fill-color);\n",
              "    box-shadow: none;\n",
              "  }\n",
              "\n",
              "  .colab-df-spinner {\n",
              "    border: 2px solid var(--fill-color);\n",
              "    border-color: transparent;\n",
              "    border-bottom-color: var(--fill-color);\n",
              "    animation:\n",
              "      spin 1s steps(1) infinite;\n",
              "  }\n",
              "\n",
              "  @keyframes spin {\n",
              "    0% {\n",
              "      border-color: transparent;\n",
              "      border-bottom-color: var(--fill-color);\n",
              "      border-left-color: var(--fill-color);\n",
              "    }\n",
              "    20% {\n",
              "      border-color: transparent;\n",
              "      border-left-color: var(--fill-color);\n",
              "      border-top-color: var(--fill-color);\n",
              "    }\n",
              "    30% {\n",
              "      border-color: transparent;\n",
              "      border-left-color: var(--fill-color);\n",
              "      border-top-color: var(--fill-color);\n",
              "      border-right-color: var(--fill-color);\n",
              "    }\n",
              "    40% {\n",
              "      border-color: transparent;\n",
              "      border-right-color: var(--fill-color);\n",
              "      border-top-color: var(--fill-color);\n",
              "    }\n",
              "    60% {\n",
              "      border-color: transparent;\n",
              "      border-right-color: var(--fill-color);\n",
              "    }\n",
              "    80% {\n",
              "      border-color: transparent;\n",
              "      border-right-color: var(--fill-color);\n",
              "      border-bottom-color: var(--fill-color);\n",
              "    }\n",
              "    90% {\n",
              "      border-color: transparent;\n",
              "      border-bottom-color: var(--fill-color);\n",
              "    }\n",
              "  }\n",
              "</style>\n",
              "\n",
              "  <script>\n",
              "    async function quickchart(key) {\n",
              "      const quickchartButtonEl =\n",
              "        document.querySelector('#' + key + ' button');\n",
              "      quickchartButtonEl.disabled = true;  // To prevent multiple clicks.\n",
              "      quickchartButtonEl.classList.add('colab-df-spinner');\n",
              "      try {\n",
              "        const charts = await google.colab.kernel.invokeFunction(\n",
              "            'suggestCharts', [key], {});\n",
              "      } catch (error) {\n",
              "        console.error('Error during call to suggestCharts:', error);\n",
              "      }\n",
              "      quickchartButtonEl.classList.remove('colab-df-spinner');\n",
              "      quickchartButtonEl.classList.add('colab-df-quickchart-complete');\n",
              "    }\n",
              "    (() => {\n",
              "      let quickchartButtonEl =\n",
              "        document.querySelector('#df-feec5416-ad84-4da7-8cad-5a61f384d221 button');\n",
              "      quickchartButtonEl.style.display =\n",
              "        google.colab.kernel.accessAllowed ? 'block' : 'none';\n",
              "    })();\n",
              "  </script>\n",
              "</div>\n",
              "    </div>\n",
              "  </div>\n"
            ]
          },
          "metadata": {},
          "execution_count": 4
        }
      ]
    },
    {
      "cell_type": "code",
      "source": [
        "data.plot(kind=\"scatter\",\n",
        "          x='x',\n",
        "          y='y',\n",
        "          figsize=(5,5),\n",
        "          color=\"blue\")"
      ],
      "metadata": {
        "colab": {
          "base_uri": "https://localhost:8080/",
          "height": 482
        },
        "id": "kxOM1q0qe2Oq",
        "outputId": "535aef59-0034-4c96-fdd2-6240fe202cac"
      },
      "execution_count": null,
      "outputs": [
        {
          "output_type": "execute_result",
          "data": {
            "text/plain": [
              "<Axes: xlabel='x', ylabel='y'>"
            ]
          },
          "metadata": {},
          "execution_count": 5
        },
        {
          "output_type": "display_data",
          "data": {
            "text/plain": [
              "<Figure size 500x500 with 1 Axes>"
            ],
            "image/png": "[encoded data removed]"
          },
          "metadata": {}
        }
      ]
    },
    {
      "cell_type": "code",
      "source": [
        "X = pd.DataFrame(data['x'])\n",
        "lr = linear_model.LinearRegression()\n",
        "lr.fit(X, data.y)"
      ],
      "metadata": {
        "colab": {
          "base_uri": "https://localhost:8080/",
          "height": 74
        },
        "id": "Nr_u5hKSe65f",
        "outputId": "04455d79-70b3-40b6-867e-9d40801436da"
      },
      "execution_count": null,
      "outputs": [
        {
          "output_type": "execute_result",
          "data": {
            "text/plain": [
              "LinearRegression()"
            ],
            "text/html": [
              "<style>#sk-container-id-1 {color: black;background-color: white;}#sk-container-id-1 pre{padding: 0;}#sk-container-id-1 div.sk-toggleable {background-color: white;}#sk-container-id-1 label.sk-toggleable__label {cursor: pointer;display: block;width: 100%;margin-bottom: 0;padding: 0.3em;box-sizing: border-box;text-align: center;}#sk-container-id-1 label.sk-toggleable__label-arrow:before {content: \"▸\";float: left;margin-right: 0.25em;color: #696969;}#sk-container-id-1 label.sk-toggleable__label-arrow:hover:before {color: black;}#sk-container-id-1 div.sk-estimator:hover label.sk-toggleable__label-arrow:before {color: black;}#sk-container-id-1 div.sk-toggleable__content {max-height: 0;max-width: 0;overflow: hidden;text-align: left;background-color: #f0f8ff;}#sk-container-id-1 div.sk-toggleable__content pre {margin: 0.2em;color: black;border-radius: 0.25em;background-color: #f0f8ff;}#sk-container-id-1 input.sk-toggleable__control:checked~div.sk-toggleable__content {max-height: 200px;max-width: 100%;overflow: auto;}#sk-container-id-1 input.sk-toggleable__control:checked~label.sk-toggleable__label-arrow:before {content: \"▾\";}#sk-container-id-1 div.sk-estimator input.sk-toggleable__control:checked~label.sk-toggleable__label {background-color: #d4ebff;}#sk-container-id-1 div.sk-label input.sk-toggleable__control:checked~label.sk-toggleable__label {background-color: #d4ebff;}#sk-container-id-1 input.sk-hidden--visually {border: 0;clip: rect(1px 1px 1px 1px);clip: rect(1px, 1px, 1px, 1px);height: 1px;margin: -1px;overflow: hidden;padding: 0;position: absolute;width: 1px;}#sk-container-id-1 div.sk-estimator {font-family: monospace;background-color: #f0f8ff;border: 1px dotted black;border-radius: 0.25em;box-sizing: border-box;margin-bottom: 0.5em;}#sk-container-id-1 div.sk-estimator:hover {background-color: #d4ebff;}#sk-container-id-1 div.sk-parallel-item::after {content: \"\";width: 100%;border-bottom: 1px solid gray;flex-grow: 1;}#sk-container-id-1 div.sk-label:hover label.sk-toggleable__label {background-color: #d4ebff;}#sk-container-id-1 div.sk-serial::before {content: \"\";position: absolute;border-left: 1px solid gray;box-sizing: border-box;top: 0;bottom: 0;left: 50%;z-index: 0;}#sk-container-id-1 div.sk-serial {display: flex;flex-direction: column;align-items: center;background-color: white;padding-right: 0.2em;padding-left: 0.2em;position: relative;}#sk-container-id-1 div.sk-item {position: relative;z-index: 1;}#sk-container-id-1 div.sk-parallel {display: flex;align-items: stretch;justify-content: center;background-color: white;position: relative;}#sk-container-id-1 div.sk-item::before, #sk-container-id-1 div.sk-parallel-item::before {content: \"\";position: absolute;border-left: 1px solid gray;box-sizing: border-box;top: 0;bottom: 0;left: 50%;z-index: -1;}#sk-container-id-1 div.sk-parallel-item {display: flex;flex-direction: column;z-index: 1;position: relative;background-color: white;}#sk-container-id-1 div.sk-parallel-item:first-child::after {align-self: flex-end;width: 50%;}#sk-container-id-1 div.sk-parallel-item:last-child::after {align-self: flex-start;width: 50%;}#sk-container-id-1 div.sk-parallel-item:only-child::after {width: 0;}#sk-container-id-1 div.sk-dashed-wrapped {border: 1px dashed gray;margin: 0 0.4em 0.5em 0.4em;box-sizing: border-box;padding-bottom: 0.4em;background-color: white;}#sk-container-id-1 div.sk-label label {font-family: monospace;font-weight: bold;display: inline-block;line-height: 1.2em;}#sk-container-id-1 div.sk-label-container {text-align: center;}#sk-container-id-1 div.sk-container {/* jupyter's `normalize.less` sets `[hidden] { display: none; }` but bootstrap.min.css set `[hidden] { display: none !important; }` so we also need the `!important` here to be able to override the default hidden behavior on the sphinx rendered scikit-learn.org. See: https://github.com/scikit-learn/scikit-learn/issues/21755 */display: inline-block !important;position: relative;}#sk-container-id-1 div.sk-text-repr-fallback {display: none;}</style><div id=\"sk-container-id-1\" class=\"sk-top-container\"><div class=\"sk-text-repr-fallback\"><pre>LinearRegression()</pre><b>In a Jupyter environment, please rerun this cell to show the HTML representation or trust the notebook. <br />On GitHub, the HTML representation is unable to render, please try loading this page with nbviewer.org.</b></div><div class=\"sk-container\" hidden><div class=\"sk-item\"><div class=\"sk-estimator sk-toggleable\"><input class=\"sk-toggleable__control sk-hidden--visually\" id=\"sk-estimator-id-1\" type=\"checkbox\" checked><label for=\"sk-estimator-id-1\" class=\"sk-toggleable__label sk-toggleable__label-arrow\">LinearRegression</label><div class=\"sk-toggleable__content\"><pre>LinearRegression()</pre></div></div></div></div></div>"
            ]
          },
          "metadata": {},
          "execution_count": 6
        }
      ]
    },
    {
      "cell_type": "code",
      "source": [
        "lr.coef_"
      ],
      "metadata": {
        "colab": {
          "base_uri": "https://localhost:8080/"
        },
        "id": "G4U1j1QzfSWq",
        "outputId": "63a93334-cf0c-4eab-c973-d17c736e80de"
      },
      "execution_count": null,
      "outputs": [
        {
          "output_type": "execute_result",
          "data": {
            "text/plain": [
              "array([7.32846715])"
            ]
          },
          "metadata": {},
          "execution_count": 7
        }
      ]
    },
    {
      "cell_type": "code",
      "source": [
        "lr.intercept_"
      ],
      "metadata": {
        "colab": {
          "base_uri": "https://localhost:8080/"
        },
        "id": "JoSvjK3CfUkW",
        "outputId": "5ddb8f6a-29b3-4180-e090-edaa26a511e6"
      },
      "execution_count": null,
      "outputs": [
        {
          "output_type": "execute_result",
          "data": {
            "text/plain": [
              "-55.48175182481753"
            ]
          },
          "metadata": {},
          "execution_count": 8
        }
      ]
    },
    {
      "cell_type": "code",
      "source": [
        "prediction=lr.predict(X)"
      ],
      "metadata": {
        "id": "43--Y6rufV1g"
      },
      "execution_count": null,
      "outputs": []
    },
    {
      "cell_type": "code",
      "source": [
        "prediction"
      ],
      "metadata": {
        "colab": {
          "base_uri": "https://localhost:8080/"
        },
        "id": "gbxBbUFfgdBh",
        "outputId": "4a6b3bb5-784d-44f8-fb10-88cd11f18754"
      },
      "execution_count": null,
      "outputs": [
        {
          "output_type": "execute_result",
          "data": {
            "text/plain": [
              "array([39.78832117, 83.75912409, 61.77372263, 47.11678832, 54.44525547,\n",
              "       47.11678832])"
            ]
          },
          "metadata": {},
          "execution_count": 10
        }
      ]
    },
    {
      "cell_type": "code",
      "source": [
        "data.plot(kind=\"scatter\",\n",
        "          x='x',\n",
        "          y='y',\n",
        "          figsize=(5,5),\n",
        "          color=\"blue\")\n",
        "plt.plot(data.x, prediction, color='black')"
      ],
      "metadata": {
        "colab": {
          "base_uri": "https://localhost:8080/",
          "height": 482
        },
        "id": "6Ry6VkXZf4Xd",
        "outputId": "603dd632-4caf-4cd6-9af9-f98edc309bb4"
      },
      "execution_count": null,
      "outputs": [
        {
          "output_type": "execute_result",
          "data": {
            "text/plain": [
              "[<matplotlib.lines.Line2D at 0x78b47ab78d60>]"
            ]
          },
          "metadata": {},
          "execution_count": 11
        },
        {
          "output_type": "display_data",
          "data": {
            "text/plain": [
              "<Figure size 500x500 with 1 Axes>"
            ],
            "image/png": "[encoded data removed]"
          },
          "metadata": {}
        }
      ]
    },
    {
      "cell_type": "code",
      "source": [
        "np.sum((data.y-prediction)**2)/6"
      ],
      "metadata": {
        "colab": {
          "base_uri": "https://localhost:8080/"
        },
        "id": "ML4XYluhgBVM",
        "outputId": "9578ebea-260e-4ad3-cdb4-cacaf80e0b45"
      },
      "execution_count": null,
      "outputs": [
        {
          "output_type": "execute_result",
          "data": {
            "text/plain": [
              "5.172749391727503"
            ]
          },
          "metadata": {},
          "execution_count": 12
        }
      ]
    },
    {
      "cell_type": "markdown",
      "source": [
        "total sum of squares ( TSS ) = explained sum of squares (ESS)+ residual sum of squares (RSS).\n",
        "\n",
        "\n",
        "$$ \\\\ \\sum (y_i - \\bar y)^2 = \\sum (\\hat y_i - \\bar y)^2 + \\sum (y_i - \\hat y)^2 \\\\ \\\\\n",
        " TSS = ESS + RSS \\\\ \\\\ \\\\\n",
        " R^2 = {ESS \\over TSS} = 1 - {RSS \\over TSS} \\\\ \\\\ $$"
      ],
      "metadata": {
        "id": "eUMt4vfJADNs"
      }
    },
    {
      "cell_type": "markdown",
      "metadata": {
        "id": "maf9IVzw0jyi"
      },
      "source": [
        "MAE (Mean Absolute Error) : 자료의 특성을 직관적으로 파악하게 한다. 예> 신발가격은 10만원에서 앞뒤로 +- 2만원까지 가능\n",
        "\n",
        "$$ MAE = {1 \\over n} \\sum_{i=1}^n |y_i - \\hat{y}_i|$$\n",
        "\n",
        "MSE (Mean Squared Error) : 실제값과 예측값의 차이를 제곱해 평균한 것\n",
        "\n",
        "$$ MSE = {1 \\over n} \\sum_{i=1}^n (y_i - \\hat{y}_i)^2$$\n",
        "\n",
        "RMSE (Root Mean Squared Error)\n",
        "\n",
        "$$RMSE = \\sqrt{MSE} = \\sqrt {{1 \\over n} \\sum_{i=1}^n (y_i - \\hat{y}_i)^2} = {1 \\over \\sqrt{n}} \\sqrt{\\sum_{i=1}^n (y_i - \\hat{y}_i)^2}  $$\n",
        "\n",
        " MAE가 자료의 직관적인 특성을 말해주는 반면, RMSE 자료에 이상치가 포함된 경우 MAE 보다 RMSE가 변동 폭이 작다.  "
      ]
    },
    {
      "cell_type": "markdown",
      "metadata": {
        "id": "TqqgPvbhE5OA"
      },
      "source": [
        "![1_cWDKjMd59KUiijpaXmvg3w.png](data:image/png;base64,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)"
      ]
    },
    {
      "cell_type": "code",
      "source": [
        "residuals = data['y']-prediction"
      ],
      "metadata": {
        "id": "OUuDLyPpEU1c"
      },
      "execution_count": null,
      "outputs": []
    },
    {
      "cell_type": "code",
      "source": [
        "residuals"
      ],
      "metadata": {
        "colab": {
          "base_uri": "https://localhost:8080/"
        },
        "id": "_-53Y1UNEpwD",
        "outputId": "c194eb94-5ace-4859-f216-0ce0c7d03915"
      },
      "execution_count": null,
      "outputs": [
        {
          "output_type": "execute_result",
          "data": {
            "text/plain": [
              "0    0.211679\n",
              "1   -0.759124\n",
              "2    0.226277\n",
              "3    0.883212\n",
              "4    3.554745\n",
              "5   -4.116788\n",
              "Name: y, dtype: float64"
            ]
          },
          "metadata": {},
          "execution_count": 14
        }
      ]
    },
    {
      "cell_type": "code",
      "source": [
        "type(residuals)"
      ],
      "metadata": {
        "colab": {
          "base_uri": "https://localhost:8080/"
        },
        "id": "XZuJmcWQE2v8",
        "outputId": "a5b627c0-e5d4-4c18-a7a4-cf80cf9d0a24"
      },
      "execution_count": null,
      "outputs": [
        {
          "output_type": "execute_result",
          "data": {
            "text/plain": [
              "pandas.core.series.Series"
            ]
          },
          "metadata": {},
          "execution_count": 17
        }
      ]
    },
    {
      "cell_type": "code",
      "source": [
        "RSS = (residuals**2).sum()"
      ],
      "metadata": {
        "id": "05abjexwErKY"
      },
      "execution_count": null,
      "outputs": []
    },
    {
      "cell_type": "code",
      "source": [
        "RSS"
      ],
      "metadata": {
        "colab": {
          "base_uri": "https://localhost:8080/"
        },
        "id": "wMUE5afUE0Rl",
        "outputId": "8132d89b-f6fa-4376-8334-6b4431bbe357"
      },
      "execution_count": null,
      "outputs": [
        {
          "output_type": "execute_result",
          "data": {
            "text/plain": [
              "31.03649635036502"
            ]
          },
          "metadata": {},
          "execution_count": 16
        }
      ]
    },
    {
      "cell_type": "code",
      "source": [
        "MSE = RSS/6"
      ],
      "metadata": {
        "id": "Wh32PpohE1Iw"
      },
      "execution_count": null,
      "outputs": []
    },
    {
      "cell_type": "code",
      "source": [
        "MSE"
      ],
      "metadata": {
        "colab": {
          "base_uri": "https://localhost:8080/"
        },
        "id": "_tux155NFA8R",
        "outputId": "c933147f-3068-441e-d901-f1668637aafa"
      },
      "execution_count": null,
      "outputs": [
        {
          "output_type": "execute_result",
          "data": {
            "text/plain": [
              "5.172749391727503"
            ]
          },
          "metadata": {},
          "execution_count": 19
        }
      ]
    },
    {
      "cell_type": "code",
      "source": [
        "RMSE = np.sqrt(MSE)"
      ],
      "metadata": {
        "id": "q1e66iuRFCJl"
      },
      "execution_count": null,
      "outputs": []
    },
    {
      "cell_type": "code",
      "source": [
        "RMSE"
      ],
      "metadata": {
        "colab": {
          "base_uri": "https://localhost:8080/"
        },
        "id": "YcbEIfWiFGU7",
        "outputId": "344b01bb-04e7-4126-85c6-cfff00102076"
      },
      "execution_count": null,
      "outputs": [
        {
          "output_type": "execute_result",
          "data": {
            "text/plain": [
              "2.2743679103714736"
            ]
          },
          "metadata": {},
          "execution_count": 21
        }
      ]
    },
    {
      "cell_type": "code",
      "source": [
        "TSS = ((data.y - data.y.mean())**2).sum()"
      ],
      "metadata": {
        "id": "urCawSycFG5t"
      },
      "execution_count": null,
      "outputs": []
    },
    {
      "cell_type": "code",
      "source": [
        "TSS"
      ],
      "metadata": {
        "colab": {
          "base_uri": "https://localhost:8080/"
        },
        "id": "B0mrpbFQFW99",
        "outputId": "48a5f177-bce1-432b-b109-4dd5956d6180"
      },
      "execution_count": null,
      "outputs": [
        {
          "output_type": "execute_result",
          "data": {
            "text/plain": [
              "1257.3333333333333"
            ]
          },
          "metadata": {},
          "execution_count": 23
        }
      ]
    },
    {
      "cell_type": "code",
      "source": [
        "R_squared = 1 - (RSS/TSS)"
      ],
      "metadata": {
        "id": "3HskLFJnFXrp"
      },
      "execution_count": null,
      "outputs": []
    },
    {
      "cell_type": "code",
      "source": [
        "R_squared"
      ],
      "metadata": {
        "colab": {
          "base_uri": "https://localhost:8080/"
        },
        "id": "ieBXoOnmFf8x",
        "outputId": "e4126ee4-fa6f-4388-849a-d12c08db36ea"
      },
      "execution_count": null,
      "outputs": [
        {
          "output_type": "execute_result",
          "data": {
            "text/plain": [
              "0.9753156179610034"
            ]
          },
          "metadata": {},
          "execution_count": 25
        }
      ]
    },
    {
      "cell_type": "code",
      "source": [
        "lr.score(X=X, y=data.y)"
      ],
      "metadata": {
        "colab": {
          "base_uri": "https://localhost:8080/"
        },
        "id": "vyHQsrL3Fhsi",
        "outputId": "38aa2fed-621d-47ed-fe2a-b250a401ed2a"
      },
      "execution_count": null,
      "outputs": [
        {
          "output_type": "execute_result",
          "data": {
            "text/plain": [
              "0.9753156179610034"
            ]
          },
          "metadata": {},
          "execution_count": 26
        }
      ]
    },
    {
      "cell_type": "markdown",
      "source": [
        "#경사하강법"
      ],
      "metadata": {
        "id": "FGNZMaLpGdJL"
      }
    },
    {
      "cell_type": "markdown",
      "source": [
        "RSS 를 최소화 하는 회귀 계수를 수치해석적으로 구하자"
      ],
      "metadata": {
        "id": "zJGKKmmuGhcY"
      }
    },
    {
      "cell_type": "markdown",
      "source": [
        "잔차 = 실제값 - 예측값\n",
        "\n",
        "$$y_i - \\hat{y_i}$$\n",
        "\n",
        "$$\\hat{y_i} = w_0 + w_1 \\times x_i$$"
      ],
      "metadata": {
        "id": "yluuKRwGG39x"
      }
    },
    {
      "cell_type": "markdown",
      "source": [
        "$$\n",
        "RSS = {1 \\over N}\\sum_{i=1}^N (y_i - (w_0 + w_1 \\times x_i))^2\n",
        "$$"
      ],
      "metadata": {
        "id": "f-43bxjfH9iQ"
      }
    },
    {
      "cell_type": "markdown",
      "source": [
        "비용함수 또는 손실함수라 한다. <파이썬 머신러닝 완벽가이드, 권철민, 위키북스, 2020>"
      ],
      "metadata": {
        "id": "iLPHlSOfI74y"
      }
    },
    {
      "cell_type": "markdown",
      "source": [
        "x 와 y는 주어져 있다.\n",
        "\n",
        "$w_0$ 와 $w_1$ 가 미지수 이다.\n",
        "\n",
        "RSS(w) 인 w의 2차 함수이다.\n",
        "\n",
        "미분하여 최소점을 찾아간다."
      ],
      "metadata": {
        "id": "HYaQV5VfJT3X"
      }
    },
    {
      "cell_type": "markdown",
      "source": [
        "## $$ {{\\partial RSS} \\over {\\partial w_1} } = {2 \\over N} \\sum_{i=1}^N (-x_i) (y_i - (w_0 + w_1 \\times x_i))  $$\n",
        "\n",
        "## $$ {{\\partial RSS} \\over {\\partial w_0} } = {2 \\over N} \\sum_{i=1}^N (-1) (y_i - (w_0 + w_1 \\times x_i))  $$"
      ],
      "metadata": {
        "id": "1annKCBwNHnx"
      }
    },
    {
      "cell_type": "markdown",
      "source": [
        "$\\partial$ : 라운드,  편미분 기호\n",
        "\n"
      ],
      "metadata": {
        "id": "3Fa1P2zHNhVi"
      }
    },
    {
      "cell_type": "markdown",
      "source": [
        "## $$ 새로운 \\ w_1 = 이전 \\ w_1 - {{\\partial RSS} \\over {\\partial w_1} }$$\n",
        "\n",
        "## $$ 새로운 \\ w_0 = 이전 \\ w_0 - {{\\partial RSS} \\over {\\partial w_0} }$$"
      ],
      "metadata": {
        "id": "J_E_o1a4QUHr"
      }
    },
    {
      "cell_type": "markdown",
      "source": [
        "##f(x), x -> $x_{new}$"
      ],
      "metadata": {
        "id": "RtayJrBkT3Pk"
      }
    },
    {
      "cell_type": "markdown",
      "source": [
        "$$D_{\\vec{v}}f(x)$$\n",
        "\n",
        "$$\\vec{ \\bigtriangledown }f(x)$$"
      ],
      "metadata": {
        "id": "bLLzsagnULKc"
      }
    },
    {
      "cell_type": "markdown",
      "source": [
        "학습률 $$ \\eta \\quad (0 ~ 1.0 \\quad 사이의 수)$$"
      ],
      "metadata": {
        "id": "sfamg9tnVhe9"
      }
    },
    {
      "cell_type": "markdown",
      "source": [
        "\n",
        "1. w0, w1을 임의의 값으로 설정하고 첫 비용함수(=RSS)의 값을 계산 한다.\n",
        "\n",
        "2. 새로운 w0 와 w1을 계산하고 다시 비용함수를 계산 한다. $$ w_1 = w_1 + \\eta {2 \\over N} \\sum_{i=1}^N (x_i) (실제값 - 예측값) $$\n",
        "\n",
        "$$ w_0 = w_0 + \\eta {2 \\over N} \\sum_{i=1}^N (실제값 - 예측값) $$\n",
        "\n",
        "3. 비용함수가 감소하면 2번 과정을 반복한다. 비용함수가 더 이상 감소하지 않으면 반복을 중지 한다."
      ],
      "metadata": {
        "id": "XiY9uXlZV6dJ"
      }
    },
    {
      "cell_type": "code",
      "source": [
        "x = np.arange(-3,3, 0.1)"
      ],
      "metadata": {
        "id": "s6v_8EH1GB90"
      },
      "execution_count": null,
      "outputs": []
    },
    {
      "cell_type": "code",
      "source": [
        "y = x*x"
      ],
      "metadata": {
        "id": "xareO27TQz_g"
      },
      "execution_count": null,
      "outputs": []
    },
    {
      "cell_type": "code",
      "source": [
        "plt.plot(x, y)\n",
        "plt.grid()"
      ],
      "metadata": {
        "colab": {
          "base_uri": "https://localhost:8080/",
          "height": 430
        },
        "id": "TQaB6VcHQ1Vo",
        "outputId": "7e0230ce-5ac7-486f-9dcd-e9e701786d6f"
      },
      "execution_count": null,
      "outputs": [
        {
          "output_type": "display_data",
          "data": {
            "text/plain": [
              "<Figure size 640x480 with 1 Axes>"
            ],
            "image/png": "[encoded data removed]"
          },
          "metadata": {}
        }
      ]
    },
    {
      "cell_type": "code",
      "source": [
        "np.random.seed(0)\n",
        "X = 2 * np.random.rand(100, 1)\n",
        "y = 6 + 4*X + np.random.randn(100, 1)\n",
        "plt.scatter(X, y)"
      ],
      "metadata": {
        "colab": {
          "base_uri": "https://localhost:8080/",
          "height": 447
        },
        "id": "bPWiOJaOQ2uk",
        "outputId": "43a2b98c-9576-421f-f540-b3526d48a866"
      },
      "execution_count": null,
      "outputs": [
        {
          "output_type": "execute_result",
          "data": {
            "text/plain": [
              "<matplotlib.collections.PathCollection at 0x78b47704f730>"
            ]
          },
          "metadata": {},
          "execution_count": 37
        },
        {
          "output_type": "display_data",
          "data": {
            "text/plain": [
              "<Figure size 640x480 with 1 Axes>"
            ],
            "image/png": "[encoded data removed]"
          },
          "metadata": {}
        }
      ]
    },
    {
      "cell_type": "code",
      "source": [
        "def get_cost(y, y_pred):\n",
        "    N = len(y)\n",
        "    cost = np.sum(np.square(y-y_pred))/N # RSS\n",
        "    return(cost)"
      ],
      "metadata": {
        "id": "MDM7uyKwXbv2"
      },
      "execution_count": null,
      "outputs": []
    },
    {
      "cell_type": "code",
      "source": [
        "def get_weight_updates(w1, w0, X, y, learning_rate=0.01):\n",
        "    N = len(y)\n",
        "\n",
        "    w1_update = np.zeros_like(w1)\n",
        "    w0_update = np.zeros_like(w0)\n",
        "\n",
        "    y_pred = np.dot(X, w1.T) + w0\n",
        "\n",
        "    diff = y-y_pred\n",
        "\n",
        "    w0_factors = np.ones((N, 1))\n",
        "\n",
        "    w1_update = -(2/N)*learning_rate*(np.dot(X.T, diff))\n",
        "    w0_update = -(2/N)*learning_rate*(np.dot(w0_factors.T, diff))\n",
        "\n",
        "    return w1_update, w0_update"
      ],
      "metadata": {
        "id": "KEqjtJcIXw6w"
      },
      "execution_count": null,
      "outputs": []
    },
    {
      "cell_type": "code",
      "source": [
        "def gradient_descent_steps(X, y, iters=1000) :\n",
        "    w0 = np.zeros((1,1))\n",
        "    w1 = np.zeros((1,1))\n",
        "\n",
        "    for ind in range(iters):\n",
        "        w1_update, w0_update = get_weight_updates(w1, w0, X, y, learning_rate=0.01)\n",
        "        w1 = w1 - w1_update\n",
        "        w0 = w0 - w0_update\n",
        "    return w1, w0"
      ],
      "metadata": {
        "id": "xFQPoGM8eEnU"
      },
      "execution_count": null,
      "outputs": []
    },
    {
      "cell_type": "code",
      "source": [
        "w1, w0 = gradient_descent_steps(X, y, iters=1000)"
      ],
      "metadata": {
        "id": "qaxdGrl8flEt"
      },
      "execution_count": null,
      "outputs": []
    },
    {
      "cell_type": "code",
      "source": [
        "w1, w0"
      ],
      "metadata": {
        "colab": {
          "base_uri": "https://localhost:8080/"
        },
        "id": "-JkPCIQGftgM",
        "outputId": "26d992f8-29bd-4ce3-ed50-a7fd9c224715"
      },
      "execution_count": null,
      "outputs": [
        {
          "output_type": "execute_result",
          "data": {
            "text/plain": [
              "(array([[4.02181364]]), array([[6.16203122]]))"
            ]
          },
          "metadata": {},
          "execution_count": 46
        }
      ]
    },
    {
      "cell_type": "code",
      "source": [
        "w1[0, 0]"
      ],
      "metadata": {
        "colab": {
          "base_uri": "https://localhost:8080/"
        },
        "id": "4WGW4oCegzQq",
        "outputId": "902c0d3b-82b5-4d67-9076-e6cadecc7b37"
      },
      "execution_count": null,
      "outputs": [
        {
          "output_type": "execute_result",
          "data": {
            "text/plain": [
              "4.021813642697164"
            ]
          },
          "metadata": {},
          "execution_count": 47
        }
      ]
    },
    {
      "cell_type": "code",
      "source": [
        "X.shape"
      ],
      "metadata": {
        "colab": {
          "base_uri": "https://localhost:8080/"
        },
        "id": "4JKVwZG9g3Ec",
        "outputId": "c468839b-fe2d-4ecb-c239-8185e110cdf4"
      },
      "execution_count": null,
      "outputs": [
        {
          "output_type": "execute_result",
          "data": {
            "text/plain": [
              "(100, 1)"
            ]
          },
          "metadata": {},
          "execution_count": 49
        }
      ]
    },
    {
      "cell_type": "code",
      "source": [
        "w0.shape"
      ],
      "metadata": {
        "colab": {
          "base_uri": "https://localhost:8080/"
        },
        "id": "CRh3rFq6g8-C",
        "outputId": "18d76e29-99d1-45ed-faed-aab0a5687a4d"
      },
      "execution_count": null,
      "outputs": [
        {
          "output_type": "execute_result",
          "data": {
            "text/plain": [
              "(1, 1)"
            ]
          },
          "metadata": {},
          "execution_count": 51
        }
      ]
    },
    {
      "cell_type": "code",
      "source": [
        "y_pred = w1[0, 0]*X + w0"
      ],
      "metadata": {
        "id": "D2Tn31KVghhx"
      },
      "execution_count": null,
      "outputs": []
    },
    {
      "cell_type": "code",
      "source": [
        "get_cost(y, y_pred)"
      ],
      "metadata": {
        "colab": {
          "base_uri": "https://localhost:8080/"
        },
        "id": "MIrWShMfg8eM",
        "outputId": "f704a4ac-707b-43df-cbf1-118e10a7e72c"
      },
      "execution_count": null,
      "outputs": [
        {
          "output_type": "execute_result",
          "data": {
            "text/plain": [
              "0.9934784315632568"
            ]
          },
          "metadata": {},
          "execution_count": 52
        }
      ]
    },
    {
      "cell_type": "code",
      "source": [
        "plt.scatter(X, y)\n",
        "plt.plot(X, y_pred)"
      ],
      "metadata": {
        "colab": {
          "base_uri": "https://localhost:8080/",
          "height": 447
        },
        "id": "SybEFK9whNgB",
        "outputId": "6f4026c2-3435-43c4-d8b4-3fd7d3ce540f"
      },
      "execution_count": null,
      "outputs": [
        {
          "output_type": "execute_result",
          "data": {
            "text/plain": [
              "[<matplotlib.lines.Line2D at 0x78b47708b580>]"
            ]
          },
          "metadata": {},
          "execution_count": 53
        },
        {
          "output_type": "display_data",
          "data": {
            "text/plain": [
              "<Figure size 640x480 with 1 Axes>"
            ],
            "image/png": "[encoded data removed]"
          },
          "metadata": {}
        }
      ]
    },
    {
      "cell_type": "markdown",
      "source": [
        "확률적 경사 하강기법"
      ],
      "metadata": {
        "id": "aO6haZHzhyWv"
      }
    },
    {
      "cell_type": "code",
      "source": [
        "X.shape[0]"
      ],
      "metadata": {
        "colab": {
          "base_uri": "https://localhost:8080/"
        },
        "id": "TWMHrhQ6ikcv",
        "outputId": "b75de9cd-8f8c-4592-d55a-c5d98e3ad34b"
      },
      "execution_count": null,
      "outputs": [
        {
          "output_type": "execute_result",
          "data": {
            "text/plain": [
              "100"
            ]
          },
          "metadata": {},
          "execution_count": 54
        }
      ]
    },
    {
      "cell_type": "code",
      "source": [
        "def stochastic_gradient_descent_steps(X, y, batch_size=10, iters=1000) :\n",
        "    w0 = np.zeros((1,1))\n",
        "    w1 = np.zeros((1,1))\n",
        "\n",
        "    for ind in range(iters):\n",
        "        stochastic_random_index = np.random.permutation(X.shape[0])\n",
        "        sample_X = X[stochastic_random_index[0:batch_size]]\n",
        "        sample_y = y[stochastic_random_index[0:batch_size]]\n",
        "        w1_update, w0_update = get_weight_updates(w1, w0, sample_X, sample_y, learning_rate=0.01)\n",
        "        w1 = w1 - w1_update\n",
        "        w0 = w0 - w0_update\n",
        "    return w1, w0"
      ],
      "metadata": {
        "id": "TWWaSWJrhTH-"
      },
      "execution_count": null,
      "outputs": []
    },
    {
      "cell_type": "code",
      "source": [
        "w1, w0 = stochastic_gradient_descent_steps(X, y, batch_size=10, iters=1000)"
      ],
      "metadata": {
        "id": "_MA1RIFRjXe2"
      },
      "execution_count": null,
      "outputs": []
    },
    {
      "cell_type": "code",
      "source": [
        "w1, w0"
      ],
      "metadata": {
        "colab": {
          "base_uri": "https://localhost:8080/"
        },
        "id": "4oeH7s2LjcG4",
        "outputId": "208ae876-83a2-4c32-83e9-429ee2cffc05"
      },
      "execution_count": null,
      "outputs": [
        {
          "output_type": "execute_result",
          "data": {
            "text/plain": [
              "(array([[4.00668731]]), array([[6.13725891]]))"
            ]
          },
          "metadata": {},
          "execution_count": 59
        }
      ]
    },
    {
      "cell_type": "code",
      "source": [
        "y_pred = w1[0, 0]* X + w0"
      ],
      "metadata": {
        "id": "rrwz53erjm0d"
      },
      "execution_count": null,
      "outputs": []
    },
    {
      "cell_type": "code",
      "source": [
        "get_cost(y, y_pred)"
      ],
      "metadata": {
        "colab": {
          "base_uri": "https://localhost:8080/"
        },
        "id": "NqOvy3Pnjy4d",
        "outputId": "12c45335-6805-43da-a40e-18bc1c634827"
      },
      "execution_count": null,
      "outputs": [
        {
          "output_type": "execute_result",
          "data": {
            "text/plain": [
              "0.9953010643933876"
            ]
          },
          "metadata": {},
          "execution_count": 61
        }
      ]
    },
    {
      "cell_type": "code",
      "source": [
        "plt.scatter(X, y)\n",
        "plt.plot(X, y_pred, 'k')"
      ],
      "metadata": {
        "colab": {
          "base_uri": "https://localhost:8080/",
          "height": 447
        },
        "id": "efy1_KEIj0_G",
        "outputId": "44d1d37a-2b48-4669-ab49-ebbba1d1e553"
      },
      "execution_count": null,
      "outputs": [
        {
          "output_type": "execute_result",
          "data": {
            "text/plain": [
              "[<matplotlib.lines.Line2D at 0x78b4766cf5b0>]"
            ]
          },
          "metadata": {},
          "execution_count": 62
        },
        {
          "output_type": "display_data",
          "data": {
            "text/plain": [
              "<Figure size 640x480 with 1 Axes>"
            ],
            "image/png": "[encoded data removed]"
          },
          "metadata": {}
        }
      ]
    },
    {
      "cell_type": "markdown",
      "source": [
        "예제"
      ],
      "metadata": {
        "id": "gCPMd6BnknIT"
      }
    },
    {
      "cell_type": "code",
      "source": [
        "from sklearn.datasets import load_boston"
      ],
      "metadata": {
        "colab": {
          "base_uri": "https://localhost:8080/",
          "height": 1000
        },
        "id": "4HaZ7z3Wj9Vd",
        "outputId": "f7062358-1b6e-4cca-fbd2-a243d96fb84e"
      },
      "execution_count": null,
      "outputs": [
        {
          "output_type": "error",
          "ename": "ImportError",
          "evalue": "ignored",
          "traceback": [
            "\u001b[0;31m---------------------------------------------------------------------------\u001b[0m",
            "\u001b[0;31mImportError\u001b[0m                               Traceback (most recent call last)",
            "\u001b[0;32m<ipython-input-64-1ed36436ffa3>\u001b[0m in \u001b[0;36m<cell line: 1>\u001b[0;34m()\u001b[0m\n\u001b[0;32m----> 1\u001b[0;31m \u001b[0;32mfrom\u001b[0m \u001b[0msklearn\u001b[0m\u001b[0;34m.\u001b[0m\u001b[0mdatasets\u001b[0m \u001b[0;32mimport\u001b[0m \u001b[0mload_boston\u001b[0m\u001b[0;34m\u001b[0m\u001b[0;34m\u001b[0m\u001b[0m\n\u001b[0m",
            "\u001b[0;32m/usr/local/lib/python3.10/dist-packages/sklearn/datasets/__init__.py\u001b[0m in \u001b[0;36m__getattr__\u001b[0;34m(name)\u001b[0m\n\u001b[1;32m    154\u001b[0m             \"\"\"\n\u001b[1;32m    155\u001b[0m         )\n\u001b[0;32m--> 156\u001b[0;31m         \u001b[0;32mraise\u001b[0m \u001b[0mImportError\u001b[0m\u001b[0;34m(\u001b[0m\u001b[0mmsg\u001b[0m\u001b[0;34m)\u001b[0m\u001b[0;34m\u001b[0m\u001b[0;34m\u001b[0m\u001b[0m\n\u001b[0m\u001b[1;32m    157\u001b[0m     \u001b[0;32mtry\u001b[0m\u001b[0;34m:\u001b[0m\u001b[0;34m\u001b[0m\u001b[0;34m\u001b[0m\u001b[0m\n\u001b[1;32m    158\u001b[0m         \u001b[0;32mreturn\u001b[0m \u001b[0mglobals\u001b[0m\u001b[0;34m(\u001b[0m\u001b[0;34m)\u001b[0m\u001b[0;34m[\u001b[0m\u001b[0mname\u001b[0m\u001b[0;34m]\u001b[0m\u001b[0;34m\u001b[0m\u001b[0;34m\u001b[0m\u001b[0m\n",
            "\u001b[0;31mImportError\u001b[0m: \n`load_boston` has been removed from scikit-learn since version 1.2.\n\nThe Boston housing prices dataset has an ethical problem: as\ninvestigated in [1], the authors of this dataset engineered a\nnon-invertible variable \"B\" assuming that racial self-segregation had a\npositive impact on house prices [2]. Furthermore the goal of the\nresearch that led to the creation of this dataset was to study the\nimpact of air quality but it did not give adequate demonstration of the\nvalidity of this assumption.\n\nThe scikit-learn maintainers therefore strongly discourage the use of\nthis dataset unless the purpose of the code is to study and educate\nabout ethical issues in data science and machine learning.\n\nIn this special case, you can fetch the dataset from the original\nsource::\n\n    import pandas as pd\n    import numpy as np\n\n    data_url = \"http://lib.stat.cmu.edu/datasets/boston\"\n    raw_df = pd.read_csv(data_url, sep=\"\\s+\", skiprows=22, header=None)\n    data = np.hstack([raw_df.values[::2, :], raw_df.values[1::2, :2]])\n    target = raw_df.values[1::2, 2]\n\nAlternative datasets include the California housing dataset and the\nAmes housing dataset. You can load the datasets as follows::\n\n    from sklearn.datasets import fetch_california_housing\n    housing = fetch_california_housing()\n\nfor the California housing dataset and::\n\n    from sklearn.datasets import fetch_openml\n    housing = fetch_openml(name=\"house_prices\", as_frame=True)\n\nfor the Ames housing dataset.\n\n[1] M Carlisle.\n\"Racist data destruction?\"\n<https://medium.com/@docintangible/racist-data-destruction-113e3eff54a8>\n\n[2] Harrison Jr, David, and Daniel L. Rubinfeld.\n\"Hedonic housing prices and the demand for clean air.\"\nJournal of environmental economics and management 5.1 (1978): 81-102.\n<https://www.researchgate.net/publication/4974606_Hedonic_housing_prices_and_the_demand_for_clean_air>\n",
            "",
            "\u001b[0;31m---------------------------------------------------------------------------\u001b[0;32m\nNOTE: If your import is failing due to a missing package, you can\nmanually install dependencies using either !pip or !apt.\n\nTo view examples of installing some common dependencies, click the\n\"Open Examples\" button below.\n\u001b[0;31m---------------------------------------------------------------------------\u001b[0m\n"
          ],
          "errorDetails": {
            "actions": [
              {
                "action": "open_url",
                "actionText": "Open Examples",
                "url": "/notebooks/snippets/importing_libraries.ipynb"
              }
            ]
          }
        }
      ]
    },
    {
      "cell_type": "code",
      "source": [
        "ls ./drive/MyDrive/data/bost*"
      ],
      "metadata": {
        "colab": {
          "base_uri": "https://localhost:8080/"
        },
        "id": "2QRgD9u3kvv5",
        "outputId": "d4eb64b2-f357-454f-c65b-9439a9b67125"
      },
      "execution_count": null,
      "outputs": [
        {
          "output_type": "stream",
          "name": "stdout",
          "text": [
            "./drive/MyDrive/data/boston_house.csv\n"
          ]
        }
      ]
    },
    {
      "cell_type": "code",
      "source": [
        "!head ./drive/MyDrive/data/boston_house.csv"
      ],
      "metadata": {
        "colab": {
          "base_uri": "https://localhost:8080/"
        },
        "id": "uzJWmrh2lYS_",
        "outputId": "aa636b7e-ed76-456c-e23b-9c5bff5167d3"
      },
      "execution_count": null,
      "outputs": [
        {
          "output_type": "stream",
          "name": "stdout",
          "text": [
            ",CRIM,ZN,INDUS,CHAS,NOX,RM,AGE,DIS,RAD,TAX,PTRATIO,B,LSTAT,PRICE\n",
            "0,0.00632,18.0,2.31,0,0.538,6.575,65.2,4.09,1,296,15.3,396.9,4.98,24.0\n",
            "1,0.02731,0.0,7.07,0,0.469,6.421,78.9,4.9671,2,242,17.8,396.9,9.14,21.6\n",
            "2,0.02729,0.0,7.07,0,0.469,7.185,61.1,4.9671,2,242,17.8,392.83,4.03,34.7\n",
            "3,0.03237,0.0,2.18,0,0.458,6.998,45.8,6.0622,3,222,18.7,394.63,2.94,33.4\n",
            "4,0.06905,0.0,2.18,0,0.458,7.147,54.2,6.0622,3,222,18.7,396.9,5.33,36.2\n",
            "5,0.02985,0.0,2.18,0,0.458,6.43,58.7,6.0622,3,222,18.7,394.12,5.21,28.7\n",
            "6,0.08829,12.5,7.87,0,0.524,6.012,66.6,5.5605,5,311,15.2,395.6,12.43,22.9\n",
            "7,0.14455,12.5,7.87,0,0.524,6.172,96.1,5.9505,5,311,15.2,396.9,19.15,27.1\n",
            "8,0.21124,12.5,7.87,0,0.524,5.631,100.0,6.0821,5,311,15.2,386.63,29.93,16.5\n"
          ]
        }
      ]
    },
    {
      "cell_type": "code",
      "source": [
        "df = pd.read_csv('./drive/MyDrive/data/boston_house.csv')"
      ],
      "metadata": {
        "id": "sX-8GBrNlc7r"
      },
      "execution_count": null,
      "outputs": []
    },
    {
      "cell_type": "code",
      "source": [
        "df.head()"
      ],
      "metadata": {
        "colab": {
          "base_uri": "https://localhost:8080/",
          "height": 243
        },
        "id": "eI3PyZvIlrea",
        "outputId": "104a9c57-6e09-4ac7-c806-15990b375724"
      },
      "execution_count": null,
      "outputs": [
        {
          "output_type": "execute_result",
          "data": {
            "text/plain": [
              "   Unnamed: 0     CRIM    ZN  INDUS  CHAS    NOX     RM   AGE     DIS  RAD  \\\n",
              "0           0  0.00632  18.0   2.31     0  0.538  6.575  65.2  4.0900    1   \n",
              "1           1  0.02731   0.0   7.07     0  0.469  6.421  78.9  4.9671    2   \n",
              "2           2  0.02729   0.0   7.07     0  0.469  7.185  61.1  4.9671    2   \n",
              "3           3  0.03237   0.0   2.18     0  0.458  6.998  45.8  6.0622    3   \n",
              "4           4  0.06905   0.0   2.18     0  0.458  7.147  54.2  6.0622    3   \n",
              "\n",
              "   TAX  PTRATIO       B  LSTAT  PRICE  \n",
              "0  296     15.3  396.90   4.98   24.0  \n",
              "1  242     17.8  396.90   9.14   21.6  \n",
              "2  242     17.8  392.83   4.03   34.7  \n",
              "3  222     18.7  394.63   2.94   33.4  \n",
              "4  222     18.7  396.90   5.33   36.2  "
            ],
            "text/html": [
              "\n",
              "  <div id=\"df-102dedd6-afd6-4535-ad2f-309ec36e3c14\" class=\"colab-df-container\">\n",
              "    <div>\n",
              "<style scoped>\n",
              "    .dataframe tbody tr th:only-of-type {\n",
              "        vertical-align: middle;\n",
              "    }\n",
              "\n",
              "    .dataframe tbody tr th {\n",
              "        vertical-align: top;\n",
              "    }\n",
              "\n",
              "    .dataframe thead th {\n",
              "        text-align: right;\n",
              "    }\n",
              "</style>\n",
              "<table border=\"1\" class=\"dataframe\">\n",
              "  <thead>\n",
              "    <tr style=\"text-align: right;\">\n",
              "      <th></th>\n",
              "      <th>Unnamed: 0</th>\n",
              "      <th>CRIM</th>\n",
              "      <th>ZN</th>\n",
              "      <th>INDUS</th>\n",
              "      <th>CHAS</th>\n",
              "      <th>NOX</th>\n",
              "      <th>RM</th>\n",
              "      <th>AGE</th>\n",
              "      <th>DIS</th>\n",
              "      <th>RAD</th>\n",
              "      <th>TAX</th>\n",
              "      <th>PTRATIO</th>\n",
              "      <th>B</th>\n",
              "      <th>LSTAT</th>\n",
              "      <th>PRICE</th>\n",
              "    </tr>\n",
              "  </thead>\n",
              "  <tbody>\n",
              "    <tr>\n",
              "      <th>0</th>\n",
              "      <td>0</td>\n",
              "      <td>0.00632</td>\n",
              "      <td>18.0</td>\n",
              "      <td>2.31</td>\n",
              "      <td>0</td>\n",
              "      <td>0.538</td>\n",
              "      <td>6.575</td>\n",
              "      <td>65.2</td>\n",
              "      <td>4.0900</td>\n",
              "      <td>1</td>\n",
              "      <td>296</td>\n",
              "      <td>15.3</td>\n",
              "      <td>396.90</td>\n",
              "      <td>4.98</td>\n",
              "      <td>24.0</td>\n",
              "    </tr>\n",
              "    <tr>\n",
              "      <th>1</th>\n",
              "      <td>1</td>\n",
              "      <td>0.02731</td>\n",
              "      <td>0.0</td>\n",
              "      <td>7.07</td>\n",
              "      <td>0</td>\n",
              "      <td>0.469</td>\n",
              "      <td>6.421</td>\n",
              "      <td>78.9</td>\n",
              "      <td>4.9671</td>\n",
              "      <td>2</td>\n",
              "      <td>242</td>\n",
              "      <td>17.8</td>\n",
              "      <td>396.90</td>\n",
              "      <td>9.14</td>\n",
              "      <td>21.6</td>\n",
              "    </tr>\n",
              "    <tr>\n",
              "      <th>2</th>\n",
              "      <td>2</td>\n",
              "      <td>0.02729</td>\n",
              "      <td>0.0</td>\n",
              "      <td>7.07</td>\n",
              "      <td>0</td>\n",
              "      <td>0.469</td>\n",
              "      <td>7.185</td>\n",
              "      <td>61.1</td>\n",
              "      <td>4.9671</td>\n",
              "      <td>2</td>\n",
              "      <td>242</td>\n",
              "      <td>17.8</td>\n",
              "      <td>392.83</td>\n",
              "      <td>4.03</td>\n",
              "      <td>34.7</td>\n",
              "    </tr>\n",
              "    <tr>\n",
              "      <th>3</th>\n",
              "      <td>3</td>\n",
              "      <td>0.03237</td>\n",
              "      <td>0.0</td>\n",
              "      <td>2.18</td>\n",
              "      <td>0</td>\n",
              "      <td>0.458</td>\n",
              "      <td>6.998</td>\n",
              "      <td>45.8</td>\n",
              "      <td>6.0622</td>\n",
              "      <td>3</td>\n",
              "      <td>222</td>\n",
              "      <td>18.7</td>\n",
              "      <td>394.63</td>\n",
              "      <td>2.94</td>\n",
              "      <td>33.4</td>\n",
              "    </tr>\n",
              "    <tr>\n",
              "      <th>4</th>\n",
              "      <td>4</td>\n",
              "      <td>0.06905</td>\n",
              "      <td>0.0</td>\n",
              "      <td>2.18</td>\n",
              "      <td>0</td>\n",
              "      <td>0.458</td>\n",
              "      <td>7.147</td>\n",
              "      <td>54.2</td>\n",
              "      <td>6.0622</td>\n",
              "      <td>3</td>\n",
              "      <td>222</td>\n",
              "      <td>18.7</td>\n",
              "      <td>396.90</td>\n",
              "      <td>5.33</td>\n",
              "      <td>36.2</td>\n",
              "    </tr>\n",
              "  </tbody>\n",
              "</table>\n",
              "</div>\n",
              "    <div class=\"colab-df-buttons\">\n",
              "\n",
              "  <div class=\"colab-df-container\">\n",
              "    <button class=\"colab-df-convert\" onclick=\"convertToInteractive('df-102dedd6-afd6-4535-ad2f-309ec36e3c14')\"\n",
              "            title=\"Convert this dataframe to an interactive table.\"\n",
              "            style=\"display:none;\">\n",
              "\n",
              "  <svg xmlns=\"http://www.w3.org/2000/svg\" height=\"24px\" viewBox=\"0 -960 960 960\">\n",
              "    <path d=\"M120-120v-720h720v720H120Zm60-500h600v-160H180v160Zm220 220h160v-160H400v160Zm0 220h160v-160H400v160ZM180-400h160v-160H180v160Zm440 0h160v-160H620v160ZM180-180h160v-160H180v160Zm440 0h160v-160H620v160Z\"/>\n",
              "  </svg>\n",
              "    </button>\n",
              "\n",
              "  <style>\n",
              "    .colab-df-container {\n",
              "      display:flex;\n",
              "      gap: 12px;\n",
              "    }\n",
              "\n",
              "    .colab-df-convert {\n",
              "      background-color: #E8F0FE;\n",
              "      border: none;\n",
              "      border-radius: 50%;\n",
              "      cursor: pointer;\n",
              "      display: none;\n",
              "      fill: #1967D2;\n",
              "      height: 32px;\n",
              "      padding: 0 0 0 0;\n",
              "      width: 32px;\n",
              "    }\n",
              "\n",
              "    .colab-df-convert:hover {\n",
              "      background-color: #E2EBFA;\n",
              "      box-shadow: 0px 1px 2px rgba(60, 64, 67, 0.3), 0px 1px 3px 1px rgba(60, 64, 67, 0.15);\n",
              "      fill: #174EA6;\n",
              "    }\n",
              "\n",
              "    .colab-df-buttons div {\n",
              "      margin-bottom: 4px;\n",
              "    }\n",
              "\n",
              "    [theme=dark] .colab-df-convert {\n",
              "      background-color: #3B4455;\n",
              "      fill: #D2E3FC;\n",
              "    }\n",
              "\n",
              "    [theme=dark] .colab-df-convert:hover {\n",
              "      background-color: #434B5C;\n",
              "      box-shadow: 0px 1px 3px 1px rgba(0, 0, 0, 0.15);\n",
              "      filter: drop-shadow(0px 1px 2px rgba(0, 0, 0, 0.3));\n",
              "      fill: #FFFFFF;\n",
              "    }\n",
              "  </style>\n",
              "\n",
              "    <script>\n",
              "      const buttonEl =\n",
              "        document.querySelector('#df-102dedd6-afd6-4535-ad2f-309ec36e3c14 button.colab-df-convert');\n",
              "      buttonEl.style.display =\n",
              "        google.colab.kernel.accessAllowed ? 'block' : 'none';\n",
              "\n",
              "      async function convertToInteractive(key) {\n",
              "        const element = document.querySelector('#df-102dedd6-afd6-4535-ad2f-309ec36e3c14');\n",
              "        const dataTable =\n",
              "          await google.colab.kernel.invokeFunction('convertToInteractive',\n",
              "                                                    [key], {});\n",
              "        if (!dataTable) return;\n",
              "\n",
              "        const docLinkHtml = 'Like what you see? Visit the ' +\n",
              "          '<a target=\"_blank\" href=https://colab.research.google.com/notebooks/data_table.ipynb>data table notebook</a>'\n",
              "          + ' to learn more about interactive tables.';\n",
              "        element.innerHTML = '';\n",
              "        dataTable['output_type'] = 'display_data';\n",
              "        await google.colab.output.renderOutput(dataTable, element);\n",
              "        const docLink = document.createElement('div');\n",
              "        docLink.innerHTML = docLinkHtml;\n",
              "        element.appendChild(docLink);\n",
              "      }\n",
              "    </script>\n",
              "  </div>\n",
              "\n",
              "\n",
              "<div id=\"df-b08f574e-aeaf-4b51-8864-49a41b4571db\">\n",
              "  <button class=\"colab-df-quickchart\" onclick=\"quickchart('df-b08f574e-aeaf-4b51-8864-49a41b4571db')\"\n",
              "            title=\"Suggest charts.\"\n",
              "            style=\"display:none;\">\n",
              "\n",
              "<svg xmlns=\"http://www.w3.org/2000/svg\" height=\"24px\"viewBox=\"0 0 24 24\"\n",
              "     width=\"24px\">\n",
              "    <g>\n",
              "        <path d=\"M19 3H5c-1.1 0-2 .9-2 2v14c0 1.1.9 2 2 2h14c1.1 0 2-.9 2-2V5c0-1.1-.9-2-2-2zM9 17H7v-7h2v7zm4 0h-2V7h2v10zm4 0h-2v-4h2v4z\"/>\n",
              "    </g>\n",
              "</svg>\n",
              "  </button>\n",
              "\n",
              "<style>\n",
              "  .colab-df-quickchart {\n",
              "      --bg-color: #E8F0FE;\n",
              "      --fill-color: #1967D2;\n",
              "      --hover-bg-color: #E2EBFA;\n",
              "      --hover-fill-color: #174EA6;\n",
              "      --disabled-fill-color: #AAA;\n",
              "      --disabled-bg-color: #DDD;\n",
              "  }\n",
              "\n",
              "  [theme=dark] .colab-df-quickchart {\n",
              "      --bg-color: #3B4455;\n",
              "      --fill-color: #D2E3FC;\n",
              "      --hover-bg-color: #434B5C;\n",
              "      --hover-fill-color: #FFFFFF;\n",
              "      --disabled-bg-color: #3B4455;\n",
              "      --disabled-fill-color: #666;\n",
              "  }\n",
              "\n",
              "  .colab-df-quickchart {\n",
              "    background-color: var(--bg-color);\n",
              "    border: none;\n",
              "    border-radius: 50%;\n",
              "    cursor: pointer;\n",
              "    display: none;\n",
              "    fill: var(--fill-color);\n",
              "    height: 32px;\n",
              "    padding: 0;\n",
              "    width: 32px;\n",
              "  }\n",
              "\n",
              "  .colab-df-quickchart:hover {\n",
              "    background-color: var(--hover-bg-color);\n",
              "    box-shadow: 0 1px 2px rgba(60, 64, 67, 0.3), 0 1px 3px 1px rgba(60, 64, 67, 0.15);\n",
              "    fill: var(--button-hover-fill-color);\n",
              "  }\n",
              "\n",
              "  .colab-df-quickchart-complete:disabled,\n",
              "  .colab-df-quickchart-complete:disabled:hover {\n",
              "    background-color: var(--disabled-bg-color);\n",
              "    fill: var(--disabled-fill-color);\n",
              "    box-shadow: none;\n",
              "  }\n",
              "\n",
              "  .colab-df-spinner {\n",
              "    border: 2px solid var(--fill-color);\n",
              "    border-color: transparent;\n",
              "    border-bottom-color: var(--fill-color);\n",
              "    animation:\n",
              "      spin 1s steps(1) infinite;\n",
              "  }\n",
              "\n",
              "  @keyframes spin {\n",
              "    0% {\n",
              "      border-color: transparent;\n",
              "      border-bottom-color: var(--fill-color);\n",
              "      border-left-color: var(--fill-color);\n",
              "    }\n",
              "    20% {\n",
              "      border-color: transparent;\n",
              "      border-left-color: var(--fill-color);\n",
              "      border-top-color: var(--fill-color);\n",
              "    }\n",
              "    30% {\n",
              "      border-color: transparent;\n",
              "      border-left-color: var(--fill-color);\n",
              "      border-top-color: var(--fill-color);\n",
              "      border-right-color: var(--fill-color);\n",
              "    }\n",
              "    40% {\n",
              "      border-color: transparent;\n",
              "      border-right-color: var(--fill-color);\n",
              "      border-top-color: var(--fill-color);\n",
              "    }\n",
              "    60% {\n",
              "      border-color: transparent;\n",
              "      border-right-color: var(--fill-color);\n",
              "    }\n",
              "    80% {\n",
              "      border-color: transparent;\n",
              "      border-right-color: var(--fill-color);\n",
              "      border-bottom-color: var(--fill-color);\n",
              "    }\n",
              "    90% {\n",
              "      border-color: transparent;\n",
              "      border-bottom-color: var(--fill-color);\n",
              "    }\n",
              "  }\n",
              "</style>\n",
              "\n",
              "  <script>\n",
              "    async function quickchart(key) {\n",
              "      const quickchartButtonEl =\n",
              "        document.querySelector('#' + key + ' button');\n",
              "      quickchartButtonEl.disabled = true;  // To prevent multiple clicks.\n",
              "      quickchartButtonEl.classList.add('colab-df-spinner');\n",
              "      try {\n",
              "        const charts = await google.colab.kernel.invokeFunction(\n",
              "            'suggestCharts', [key], {});\n",
              "      } catch (error) {\n",
              "        console.error('Error during call to suggestCharts:', error);\n",
              "      }\n",
              "      quickchartButtonEl.classList.remove('colab-df-spinner');\n",
              "      quickchartButtonEl.classList.add('colab-df-quickchart-complete');\n",
              "    }\n",
              "    (() => {\n",
              "      let quickchartButtonEl =\n",
              "        document.querySelector('#df-b08f574e-aeaf-4b51-8864-49a41b4571db button');\n",
              "      quickchartButtonEl.style.display =\n",
              "        google.colab.kernel.accessAllowed ? 'block' : 'none';\n",
              "    })();\n",
              "  </script>\n",
              "</div>\n",
              "    </div>\n",
              "  </div>\n"
            ]
          },
          "metadata": {},
          "execution_count": 68
        }
      ]
    },
    {
      "cell_type": "code",
      "source": [
        "df = df.drop(df.columns[0], axis=1)"
      ],
      "metadata": {
        "id": "cxLsKHFhlsmB"
      },
      "execution_count": null,
      "outputs": []
    },
    {
      "cell_type": "code",
      "source": [
        "df.head()"
      ],
      "metadata": {
        "colab": {
          "base_uri": "https://localhost:8080/",
          "height": 206
        },
        "id": "7e_ocoRSElZY",
        "outputId": "ed5eb0b1-fbdd-49d5-8982-18bbb948bb9b"
      },
      "execution_count": null,
      "outputs": [
        {
          "output_type": "execute_result",
          "data": {
            "text/plain": [
              "      CRIM    ZN  INDUS  CHAS    NOX     RM   AGE     DIS  RAD  TAX  PTRATIO  \\\n",
              "0  0.00632  18.0   2.31     0  0.538  6.575  65.2  4.0900    1  296     15.3   \n",
              "1  0.02731   0.0   7.07     0  0.469  6.421  78.9  4.9671    2  242     17.8   \n",
              "2  0.02729   0.0   7.07     0  0.469  7.185  61.1  4.9671    2  242     17.8   \n",
              "3  0.03237   0.0   2.18     0  0.458  6.998  45.8  6.0622    3  222     18.7   \n",
              "4  0.06905   0.0   2.18     0  0.458  7.147  54.2  6.0622    3  222     18.7   \n",
              "\n",
              "        B  LSTAT  PRICE  \n",
              "0  396.90   4.98   24.0  \n",
              "1  396.90   9.14   21.6  \n",
              "2  392.83   4.03   34.7  \n",
              "3  394.63   2.94   33.4  \n",
              "4  396.90   5.33   36.2  "
            ],
            "text/html": [
              "\n",
              "  <div id=\"df-6f0e35ce-ab5f-4ac7-940b-f0aceae301f4\" class=\"colab-df-container\">\n",
              "    <div>\n",
              "<style scoped>\n",
              "    .dataframe tbody tr th:only-of-type {\n",
              "        vertical-align: middle;\n",
              "    }\n",
              "\n",
              "    .dataframe tbody tr th {\n",
              "        vertical-align: top;\n",
              "    }\n",
              "\n",
              "    .dataframe thead th {\n",
              "        text-align: right;\n",
              "    }\n",
              "</style>\n",
              "<table border=\"1\" class=\"dataframe\">\n",
              "  <thead>\n",
              "    <tr style=\"text-align: right;\">\n",
              "      <th></th>\n",
              "      <th>CRIM</th>\n",
              "      <th>ZN</th>\n",
              "      <th>INDUS</th>\n",
              "      <th>CHAS</th>\n",
              "      <th>NOX</th>\n",
              "      <th>RM</th>\n",
              "      <th>AGE</th>\n",
              "      <th>DIS</th>\n",
              "      <th>RAD</th>\n",
              "      <th>TAX</th>\n",
              "      <th>PTRATIO</th>\n",
              "      <th>B</th>\n",
              "      <th>LSTAT</th>\n",
              "      <th>PRICE</th>\n",
              "    </tr>\n",
              "  </thead>\n",
              "  <tbody>\n",
              "    <tr>\n",
              "      <th>0</th>\n",
              "      <td>0.00632</td>\n",
              "      <td>18.0</td>\n",
              "      <td>2.31</td>\n",
              "      <td>0</td>\n",
              "      <td>0.538</td>\n",
              "      <td>6.575</td>\n",
              "      <td>65.2</td>\n",
              "      <td>4.0900</td>\n",
              "      <td>1</td>\n",
              "      <td>296</td>\n",
              "      <td>15.3</td>\n",
              "      <td>396.90</td>\n",
              "      <td>4.98</td>\n",
              "      <td>24.0</td>\n",
              "    </tr>\n",
              "    <tr>\n",
              "      <th>1</th>\n",
              "      <td>0.02731</td>\n",
              "      <td>0.0</td>\n",
              "      <td>7.07</td>\n",
              "      <td>0</td>\n",
              "      <td>0.469</td>\n",
              "      <td>6.421</td>\n",
              "      <td>78.9</td>\n",
              "      <td>4.9671</td>\n",
              "      <td>2</td>\n",
              "      <td>242</td>\n",
              "      <td>17.8</td>\n",
              "      <td>396.90</td>\n",
              "      <td>9.14</td>\n",
              "      <td>21.6</td>\n",
              "    </tr>\n",
              "    <tr>\n",
              "      <th>2</th>\n",
              "      <td>0.02729</td>\n",
              "      <td>0.0</td>\n",
              "      <td>7.07</td>\n",
              "      <td>0</td>\n",
              "      <td>0.469</td>\n",
              "      <td>7.185</td>\n",
              "      <td>61.1</td>\n",
              "      <td>4.9671</td>\n",
              "      <td>2</td>\n",
              "      <td>242</td>\n",
              "      <td>17.8</td>\n",
              "      <td>392.83</td>\n",
              "      <td>4.03</td>\n",
              "      <td>34.7</td>\n",
              "    </tr>\n",
              "    <tr>\n",
              "      <th>3</th>\n",
              "      <td>0.03237</td>\n",
              "      <td>0.0</td>\n",
              "      <td>2.18</td>\n",
              "      <td>0</td>\n",
              "      <td>0.458</td>\n",
              "      <td>6.998</td>\n",
              "      <td>45.8</td>\n",
              "      <td>6.0622</td>\n",
              "      <td>3</td>\n",
              "      <td>222</td>\n",
              "      <td>18.7</td>\n",
              "      <td>394.63</td>\n",
              "      <td>2.94</td>\n",
              "      <td>33.4</td>\n",
              "    </tr>\n",
              "    <tr>\n",
              "      <th>4</th>\n",
              "      <td>0.06905</td>\n",
              "      <td>0.0</td>\n",
              "      <td>2.18</td>\n",
              "      <td>0</td>\n",
              "      <td>0.458</td>\n",
              "      <td>7.147</td>\n",
              "      <td>54.2</td>\n",
              "      <td>6.0622</td>\n",
              "      <td>3</td>\n",
              "      <td>222</td>\n",
              "      <td>18.7</td>\n",
              "      <td>396.90</td>\n",
              "      <td>5.33</td>\n",
              "      <td>36.2</td>\n",
              "    </tr>\n",
              "  </tbody>\n",
              "</table>\n",
              "</div>\n",
              "    <div class=\"colab-df-buttons\">\n",
              "\n",
              "  <div class=\"colab-df-container\">\n",
              "    <button class=\"colab-df-convert\" onclick=\"convertToInteractive('df-6f0e35ce-ab5f-4ac7-940b-f0aceae301f4')\"\n",
              "            title=\"Convert this dataframe to an interactive table.\"\n",
              "            style=\"display:none;\">\n",
              "\n",
              "  <svg xmlns=\"http://www.w3.org/2000/svg\" height=\"24px\" viewBox=\"0 -960 960 960\">\n",
              "    <path d=\"M120-120v-720h720v720H120Zm60-500h600v-160H180v160Zm220 220h160v-160H400v160Zm0 220h160v-160H400v160ZM180-400h160v-160H180v160Zm440 0h160v-160H620v160ZM180-180h160v-160H180v160Zm440 0h160v-160H620v160Z\"/>\n",
              "  </svg>\n",
              "    </button>\n",
              "\n",
              "  <style>\n",
              "    .colab-df-container {\n",
              "      display:flex;\n",
              "      gap: 12px;\n",
              "    }\n",
              "\n",
              "    .colab-df-convert {\n",
              "      background-color: #E8F0FE;\n",
              "      border: none;\n",
              "      border-radius: 50%;\n",
              "      cursor: pointer;\n",
              "      display: none;\n",
              "      fill: #1967D2;\n",
              "      height: 32px;\n",
              "      padding: 0 0 0 0;\n",
              "      width: 32px;\n",
              "    }\n",
              "\n",
              "    .colab-df-convert:hover {\n",
              "      background-color: #E2EBFA;\n",
              "      box-shadow: 0px 1px 2px rgba(60, 64, 67, 0.3), 0px 1px 3px 1px rgba(60, 64, 67, 0.15);\n",
              "      fill: #174EA6;\n",
              "    }\n",
              "\n",
              "    .colab-df-buttons div {\n",
              "      margin-bottom: 4px;\n",
              "    }\n",
              "\n",
              "    [theme=dark] .colab-df-convert {\n",
              "      background-color: #3B4455;\n",
              "      fill: #D2E3FC;\n",
              "    }\n",
              "\n",
              "    [theme=dark] .colab-df-convert:hover {\n",
              "      background-color: #434B5C;\n",
              "      box-shadow: 0px 1px 3px 1px rgba(0, 0, 0, 0.15);\n",
              "      filter: drop-shadow(0px 1px 2px rgba(0, 0, 0, 0.3));\n",
              "      fill: #FFFFFF;\n",
              "    }\n",
              "  </style>\n",
              "\n",
              "    <script>\n",
              "      const buttonEl =\n",
              "        document.querySelector('#df-6f0e35ce-ab5f-4ac7-940b-f0aceae301f4 button.colab-df-convert');\n",
              "      buttonEl.style.display =\n",
              "        google.colab.kernel.accessAllowed ? 'block' : 'none';\n",
              "\n",
              "      async function convertToInteractive(key) {\n",
              "        const element = document.querySelector('#df-6f0e35ce-ab5f-4ac7-940b-f0aceae301f4');\n",
              "        const dataTable =\n",
              "          await google.colab.kernel.invokeFunction('convertToInteractive',\n",
              "                                                    [key], {});\n",
              "        if (!dataTable) return;\n",
              "\n",
              "        const docLinkHtml = 'Like what you see? Visit the ' +\n",
              "          '<a target=\"_blank\" href=https://colab.research.google.com/notebooks/data_table.ipynb>data table notebook</a>'\n",
              "          + ' to learn more about interactive tables.';\n",
              "        element.innerHTML = '';\n",
              "        dataTable['output_type'] = 'display_data';\n",
              "        await google.colab.output.renderOutput(dataTable, element);\n",
              "        const docLink = document.createElement('div');\n",
              "        docLink.innerHTML = docLinkHtml;\n",
              "        element.appendChild(docLink);\n",
              "      }\n",
              "    </script>\n",
              "  </div>\n",
              "\n",
              "\n",
              "<div id=\"df-9b46e559-80b0-44f7-bf1d-351d8988dbdf\">\n",
              "  <button class=\"colab-df-quickchart\" onclick=\"quickchart('df-9b46e559-80b0-44f7-bf1d-351d8988dbdf')\"\n",
              "            title=\"Suggest charts.\"\n",
              "            style=\"display:none;\">\n",
              "\n",
              "<svg xmlns=\"http://www.w3.org/2000/svg\" height=\"24px\"viewBox=\"0 0 24 24\"\n",
              "     width=\"24px\">\n",
              "    <g>\n",
              "        <path d=\"M19 3H5c-1.1 0-2 .9-2 2v14c0 1.1.9 2 2 2h14c1.1 0 2-.9 2-2V5c0-1.1-.9-2-2-2zM9 17H7v-7h2v7zm4 0h-2V7h2v10zm4 0h-2v-4h2v4z\"/>\n",
              "    </g>\n",
              "</svg>\n",
              "  </button>\n",
              "\n",
              "<style>\n",
              "  .colab-df-quickchart {\n",
              "      --bg-color: #E8F0FE;\n",
              "      --fill-color: #1967D2;\n",
              "      --hover-bg-color: #E2EBFA;\n",
              "      --hover-fill-color: #174EA6;\n",
              "      --disabled-fill-color: #AAA;\n",
              "      --disabled-bg-color: #DDD;\n",
              "  }\n",
              "\n",
              "  [theme=dark] .colab-df-quickchart {\n",
              "      --bg-color: #3B4455;\n",
              "      --fill-color: #D2E3FC;\n",
              "      --hover-bg-color: #434B5C;\n",
              "      --hover-fill-color: #FFFFFF;\n",
              "      --disabled-bg-color: #3B4455;\n",
              "      --disabled-fill-color: #666;\n",
              "  }\n",
              "\n",
              "  .colab-df-quickchart {\n",
              "    background-color: var(--bg-color);\n",
              "    border: none;\n",
              "    border-radius: 50%;\n",
              "    cursor: pointer;\n",
              "    display: none;\n",
              "    fill: var(--fill-color);\n",
              "    height: 32px;\n",
              "    padding: 0;\n",
              "    width: 32px;\n",
              "  }\n",
              "\n",
              "  .colab-df-quickchart:hover {\n",
              "    background-color: var(--hover-bg-color);\n",
              "    box-shadow: 0 1px 2px rgba(60, 64, 67, 0.3), 0 1px 3px 1px rgba(60, 64, 67, 0.15);\n",
              "    fill: var(--button-hover-fill-color);\n",
              "  }\n",
              "\n",
              "  .colab-df-quickchart-complete:disabled,\n",
              "  .colab-df-quickchart-complete:disabled:hover {\n",
              "    background-color: var(--disabled-bg-color);\n",
              "    fill: var(--disabled-fill-color);\n",
              "    box-shadow: none;\n",
              "  }\n",
              "\n",
              "  .colab-df-spinner {\n",
              "    border: 2px solid var(--fill-color);\n",
              "    border-color: transparent;\n",
              "    border-bottom-color: var(--fill-color);\n",
              "    animation:\n",
              "      spin 1s steps(1) infinite;\n",
              "  }\n",
              "\n",
              "  @keyframes spin {\n",
              "    0% {\n",
              "      border-color: transparent;\n",
              "      border-bottom-color: var(--fill-color);\n",
              "      border-left-color: var(--fill-color);\n",
              "    }\n",
              "    20% {\n",
              "      border-color: transparent;\n",
              "      border-left-color: var(--fill-color);\n",
              "      border-top-color: var(--fill-color);\n",
              "    }\n",
              "    30% {\n",
              "      border-color: transparent;\n",
              "      border-left-color: var(--fill-color);\n",
              "      border-top-color: var(--fill-color);\n",
              "      border-right-color: var(--fill-color);\n",
              "    }\n",
              "    40% {\n",
              "      border-color: transparent;\n",
              "      border-right-color: var(--fill-color);\n",
              "      border-top-color: var(--fill-color);\n",
              "    }\n",
              "    60% {\n",
              "      border-color: transparent;\n",
              "      border-right-color: var(--fill-color);\n",
              "    }\n",
              "    80% {\n",
              "      border-color: transparent;\n",
              "      border-right-color: var(--fill-color);\n",
              "      border-bottom-color: var(--fill-color);\n",
              "    }\n",
              "    90% {\n",
              "      border-color: transparent;\n",
              "      border-bottom-color: var(--fill-color);\n",
              "    }\n",
              "  }\n",
              "</style>\n",
              "\n",
              "  <script>\n",
              "    async function quickchart(key) {\n",
              "      const quickchartButtonEl =\n",
              "        document.querySelector('#' + key + ' button');\n",
              "      quickchartButtonEl.disabled = true;  // To prevent multiple clicks.\n",
              "      quickchartButtonEl.classList.add('colab-df-spinner');\n",
              "      try {\n",
              "        const charts = await google.colab.kernel.invokeFunction(\n",
              "            'suggestCharts', [key], {});\n",
              "      } catch (error) {\n",
              "        console.error('Error during call to suggestCharts:', error);\n",
              "      }\n",
              "      quickchartButtonEl.classList.remove('colab-df-spinner');\n",
              "      quickchartButtonEl.classList.add('colab-df-quickchart-complete');\n",
              "    }\n",
              "    (() => {\n",
              "      let quickchartButtonEl =\n",
              "        document.querySelector('#df-9b46e559-80b0-44f7-bf1d-351d8988dbdf button');\n",
              "      quickchartButtonEl.style.display =\n",
              "        google.colab.kernel.accessAllowed ? 'block' : 'none';\n",
              "    })();\n",
              "  </script>\n",
              "</div>\n",
              "    </div>\n",
              "  </div>\n"
            ]
          },
          "metadata": {},
          "execution_count": 70
        }
      ]
    },
    {
      "cell_type": "code",
      "source": [
        "df.info()"
      ],
      "metadata": {
        "colab": {
          "base_uri": "https://localhost:8080/"
        },
        "id": "08C1hcXLEmy-",
        "outputId": "1e008c3b-d8b1-439a-b6ca-be16c8fc8f81"
      },
      "execution_count": null,
      "outputs": [
        {
          "output_type": "stream",
          "name": "stdout",
          "text": [
            "<class 'pandas.core.frame.DataFrame'>\n",
            "RangeIndex: 506 entries, 0 to 505\n",
            "Data columns (total 14 columns):\n",
            " #   Column   Non-Null Count  Dtype  \n",
            "---  ------   --------------  -----  \n",
            " 0   CRIM     506 non-null    float64\n",
            " 1   ZN       506 non-null    float64\n",
            " 2   INDUS    506 non-null    float64\n",
            " 3   CHAS     506 non-null    int64  \n",
            " 4   NOX      506 non-null    float64\n",
            " 5   RM       506 non-null    float64\n",
            " 6   AGE      506 non-null    float64\n",
            " 7   DIS      506 non-null    float64\n",
            " 8   RAD      506 non-null    int64  \n",
            " 9   TAX      506 non-null    int64  \n",
            " 10  PTRATIO  506 non-null    float64\n",
            " 11  B        506 non-null    float64\n",
            " 12  LSTAT    506 non-null    float64\n",
            " 13  PRICE    506 non-null    float64\n",
            "dtypes: float64(11), int64(3)\n",
            "memory usage: 55.5 KB\n"
          ]
        }
      ]
    },
    {
      "cell_type": "code",
      "source": [
        "df.plot(kind='scatter', x='RM', y='PRICE', figsize=(6,6), color='blue', xlim=(4,8), ylim=(4,45) )"
      ],
      "metadata": {
        "colab": {
          "base_uri": "https://localhost:8080/",
          "height": 564
        },
        "id": "N4KPwODUEuE3",
        "outputId": "1da998ec-917e-45f9-db2d-e57c92e3ae4c"
      },
      "execution_count": null,
      "outputs": [
        {
          "output_type": "execute_result",
          "data": {
            "text/plain": [
              "<Axes: xlabel='RM', ylabel='PRICE'>"
            ]
          },
          "metadata": {},
          "execution_count": 74
        },
        {
          "output_type": "display_data",
          "data": {
            "text/plain": [
              "<Figure size 600x600 with 1 Axes>"
            ],
            "image/png": "[encoded data removed]"
          },
          "metadata": {}
        }
      ]
    },
    {
      "cell_type": "code",
      "source": [
        "X=pd.DataFrame(df['RM'])\n",
        "y = df['PRICE']"
      ],
      "metadata": {
        "id": "xhsrY8BeFKn8"
      },
      "execution_count": null,
      "outputs": []
    },
    {
      "cell_type": "code",
      "source": [
        "lr = linear_model.LinearRegression()\n",
        "lr.fit(X, y)\n",
        "prediction = lr.predict(X)\n",
        "print('a value : ', lr.coef_)\n",
        "print('b value : ', lr.intercept_)"
      ],
      "metadata": {
        "colab": {
          "base_uri": "https://localhost:8080/"
        },
        "id": "d9o8p8RUF2f4",
        "outputId": "a4403ea8-35a0-44ba-dea4-ac335f543158"
      },
      "execution_count": null,
      "outputs": [
        {
          "output_type": "stream",
          "name": "stdout",
          "text": [
            "a value :  [9.10210898]\n",
            "b value :  -34.67062077643857\n"
          ]
        }
      ]
    },
    {
      "cell_type": "code",
      "source": [
        "residuals = df.PRICE - prediction\n",
        "residuals.describe()"
      ],
      "metadata": {
        "colab": {
          "base_uri": "https://localhost:8080/"
        },
        "id": "rz0slEN-GV3o",
        "outputId": "873f95eb-2282-46e1-eb47-92a180e494c2"
      },
      "execution_count": null,
      "outputs": [
        {
          "output_type": "execute_result",
          "data": {
            "text/plain": [
              "count    5.060000e+02\n",
              "mean     2.134437e-15\n",
              "std      6.609606e+00\n",
              "min     -2.334590e+01\n",
              "25%     -2.547477e+00\n",
              "50%      8.976267e-02\n",
              "75%      2.985532e+00\n",
              "max      3.943314e+01\n",
              "Name: PRICE, dtype: float64"
            ]
          },
          "metadata": {},
          "execution_count": 77
        }
      ]
    },
    {
      "cell_type": "code",
      "source": [
        "df.plot(kind='scatter', x='RM', y='PRICE', figsize=(6,6),\n",
        "        color='blue', xlim=(4,8), ylim=(4,45))\n",
        "plt.plot(df.RM, prediction, color='red')"
      ],
      "metadata": {
        "colab": {
          "base_uri": "https://localhost:8080/",
          "height": 564
        },
        "id": "MFal0qBZGiWz",
        "outputId": "4aaf67f2-b952-40c6-afec-a02039f6cfc2"
      },
      "execution_count": null,
      "outputs": [
        {
          "output_type": "execute_result",
          "data": {
            "text/plain": [
              "[<matplotlib.lines.Line2D at 0x78b475e612d0>]"
            ]
          },
          "metadata": {},
          "execution_count": 78
        },
        {
          "output_type": "display_data",
          "data": {
            "text/plain": [
              "<Figure size 600x600 with 1 Axes>"
            ],
            "image/png": "[encoded data removed]"
          },
          "metadata": {}
        }
      ]
    },
    {
      "cell_type": "code",
      "source": [
        "from sklearn.metrics import mean_squared_error as MSE"
      ],
      "metadata": {
        "id": "Xaoi0Xn7HNcf"
      },
      "execution_count": null,
      "outputs": []
    },
    {
      "cell_type": "code",
      "source": [
        "MSE(y, prediction)"
      ],
      "metadata": {
        "colab": {
          "base_uri": "https://localhost:8080/"
        },
        "id": "6rCn2U3wKJIX",
        "outputId": "f1777cba-40d4-45af-e5e0-9f0743addbdb"
      },
      "execution_count": null,
      "outputs": [
        {
          "output_type": "execute_result",
          "data": {
            "text/plain": [
              "43.60055177116956"
            ]
          },
          "metadata": {},
          "execution_count": 81
        }
      ]
    },
    {
      "cell_type": "code",
      "source": [
        "(MSE(y, prediction))**0.5 # = RMSE"
      ],
      "metadata": {
        "colab": {
          "base_uri": "https://localhost:8080/"
        },
        "id": "NVsCxDMlKPLZ",
        "outputId": "83f163bf-02b0-4da3-fef2-18f769391a78"
      },
      "execution_count": null,
      "outputs": [
        {
          "output_type": "execute_result",
          "data": {
            "text/plain": [
              "6.603071389222561"
            ]
          },
          "metadata": {},
          "execution_count": 84
        }
      ]
    },
    {
      "cell_type": "code",
      "source": [
        "lr.score(X, y) # R2 Score"
      ],
      "metadata": {
        "colab": {
          "base_uri": "https://localhost:8080/"
        },
        "id": "Q8A4eFOXKXXP",
        "outputId": "5a3864ea-0723-4f1b-a530-7466a0aba613"
      },
      "execution_count": null,
      "outputs": [
        {
          "output_type": "execute_result",
          "data": {
            "text/plain": [
              "0.48352545599133423"
            ]
          },
          "metadata": {},
          "execution_count": 85
        }
      ]
    },
    {
      "cell_type": "code",
      "source": [
        "import seaborn as sns"
      ],
      "metadata": {
        "id": "AQYlSw_RL2Hz"
      },
      "execution_count": null,
      "outputs": []
    },
    {
      "cell_type": "code",
      "source": [
        "fig, axs = plt.subplots(figsize=(16,8), ncols=4, nrows=2)\n",
        "lm_features = ['RM', 'ZN', 'INDUS', 'NOX', 'AGE', 'PTRATIO', 'LSTAT', 'RAD']\n",
        "for i, feature in enumerate(lm_features):\n",
        "    row = int(i/4)\n",
        "    col = i%4\n",
        "    sns.regplot(x=feature, y='PRICE', data=df, ax=axs[row][col])"
      ],
      "metadata": {
        "colab": {
          "base_uri": "https://localhost:8080/",
          "height": 457
        },
        "id": "Zlh5RZvlKcXf",
        "outputId": "b696215c-5086-47bd-ac8e-3eb8b88cb687"
      },
      "execution_count": null,
      "outputs": [
        {
          "output_type": "display_data",
          "data": {
            "text/plain": [
              "<Figure size 1600x800 with 8 Axes>"
            ],
            "image/png": "[encoded data removed]"
          },
          "metadata": {}
        }
      ]
    },
    {
      "cell_type": "code",
      "source": [
        "from sklearn.model_selection import train_test_split"
      ],
      "metadata": {
        "id": "esxchx4HMNkm"
      },
      "execution_count": null,
      "outputs": []
    },
    {
      "cell_type": "code",
      "source": [
        "y"
      ],
      "metadata": {
        "colab": {
          "base_uri": "https://localhost:8080/"
        },
        "id": "fDxCmvsEMoIt",
        "outputId": "0a603df9-e7eb-4b04-c713-3099a8c0dd6f"
      },
      "execution_count": null,
      "outputs": [
        {
          "output_type": "execute_result",
          "data": {
            "text/plain": [
              "0      24.0\n",
              "1      21.6\n",
              "2      34.7\n",
              "3      33.4\n",
              "4      36.2\n",
              "       ... \n",
              "501    22.4\n",
              "502    20.6\n",
              "503    23.9\n",
              "504    22.0\n",
              "505    11.9\n",
              "Name: PRICE, Length: 506, dtype: float64"
            ]
          },
          "metadata": {},
          "execution_count": 89
        }
      ]
    },
    {
      "cell_type": "code",
      "source": [
        "df.head()"
      ],
      "metadata": {
        "colab": {
          "base_uri": "https://localhost:8080/",
          "height": 206
        },
        "id": "BSM-JPclMpn7",
        "outputId": "491d15dc-c8b3-4eb8-8af6-140b902bf2bf"
      },
      "execution_count": null,
      "outputs": [
        {
          "output_type": "execute_result",
          "data": {
            "text/plain": [
              "      CRIM    ZN  INDUS  CHAS    NOX     RM   AGE     DIS  RAD  TAX  PTRATIO  \\\n",
              "0  0.00632  18.0   2.31     0  0.538  6.575  65.2  4.0900    1  296     15.3   \n",
              "1  0.02731   0.0   7.07     0  0.469  6.421  78.9  4.9671    2  242     17.8   \n",
              "2  0.02729   0.0   7.07     0  0.469  7.185  61.1  4.9671    2  242     17.8   \n",
              "3  0.03237   0.0   2.18     0  0.458  6.998  45.8  6.0622    3  222     18.7   \n",
              "4  0.06905   0.0   2.18     0  0.458  7.147  54.2  6.0622    3  222     18.7   \n",
              "\n",
              "        B  LSTAT  PRICE  \n",
              "0  396.90   4.98   24.0  \n",
              "1  396.90   9.14   21.6  \n",
              "2  392.83   4.03   34.7  \n",
              "3  394.63   2.94   33.4  \n",
              "4  396.90   5.33   36.2  "
            ],
            "text/html": [
              "\n",
              "  <div id=\"df-0088b6c5-6ee2-4fa4-a54d-fccce234f143\" class=\"colab-df-container\">\n",
              "    <div>\n",
              "<style scoped>\n",
              "    .dataframe tbody tr th:only-of-type {\n",
              "        vertical-align: middle;\n",
              "    }\n",
              "\n",
              "    .dataframe tbody tr th {\n",
              "        vertical-align: top;\n",
              "    }\n",
              "\n",
              "    .dataframe thead th {\n",
              "        text-align: right;\n",
              "    }\n",
              "</style>\n",
              "<table border=\"1\" class=\"dataframe\">\n",
              "  <thead>\n",
              "    <tr style=\"text-align: right;\">\n",
              "      <th></th>\n",
              "      <th>CRIM</th>\n",
              "      <th>ZN</th>\n",
              "      <th>INDUS</th>\n",
              "      <th>CHAS</th>\n",
              "      <th>NOX</th>\n",
              "      <th>RM</th>\n",
              "      <th>AGE</th>\n",
              "      <th>DIS</th>\n",
              "      <th>RAD</th>\n",
              "      <th>TAX</th>\n",
              "      <th>PTRATIO</th>\n",
              "      <th>B</th>\n",
              "      <th>LSTAT</th>\n",
              "      <th>PRICE</th>\n",
              "    </tr>\n",
              "  </thead>\n",
              "  <tbody>\n",
              "    <tr>\n",
              "      <th>0</th>\n",
              "      <td>0.00632</td>\n",
              "      <td>18.0</td>\n",
              "      <td>2.31</td>\n",
              "      <td>0</td>\n",
              "      <td>0.538</td>\n",
              "      <td>6.575</td>\n",
              "      <td>65.2</td>\n",
              "      <td>4.0900</td>\n",
              "      <td>1</td>\n",
              "      <td>296</td>\n",
              "      <td>15.3</td>\n",
              "      <td>396.90</td>\n",
              "      <td>4.98</td>\n",
              "      <td>24.0</td>\n",
              "    </tr>\n",
              "    <tr>\n",
              "      <th>1</th>\n",
              "      <td>0.02731</td>\n",
              "      <td>0.0</td>\n",
              "      <td>7.07</td>\n",
              "      <td>0</td>\n",
              "      <td>0.469</td>\n",
              "      <td>6.421</td>\n",
              "      <td>78.9</td>\n",
              "      <td>4.9671</td>\n",
              "      <td>2</td>\n",
              "      <td>242</td>\n",
              "      <td>17.8</td>\n",
              "      <td>396.90</td>\n",
              "      <td>9.14</td>\n",
              "      <td>21.6</td>\n",
              "    </tr>\n",
              "    <tr>\n",
              "      <th>2</th>\n",
              "      <td>0.02729</td>\n",
              "      <td>0.0</td>\n",
              "      <td>7.07</td>\n",
              "      <td>0</td>\n",
              "      <td>0.469</td>\n",
              "      <td>7.185</td>\n",
              "      <td>61.1</td>\n",
              "      <td>4.9671</td>\n",
              "      <td>2</td>\n",
              "      <td>242</td>\n",
              "      <td>17.8</td>\n",
              "      <td>392.83</td>\n",
              "      <td>4.03</td>\n",
              "      <td>34.7</td>\n",
              "    </tr>\n",
              "    <tr>\n",
              "      <th>3</th>\n",
              "      <td>0.03237</td>\n",
              "      <td>0.0</td>\n",
              "      <td>2.18</td>\n",
              "      <td>0</td>\n",
              "      <td>0.458</td>\n",
              "      <td>6.998</td>\n",
              "      <td>45.8</td>\n",
              "      <td>6.0622</td>\n",
              "      <td>3</td>\n",
              "      <td>222</td>\n",
              "      <td>18.7</td>\n",
              "      <td>394.63</td>\n",
              "      <td>2.94</td>\n",
              "      <td>33.4</td>\n",
              "    </tr>\n",
              "    <tr>\n",
              "      <th>4</th>\n",
              "      <td>0.06905</td>\n",
              "      <td>0.0</td>\n",
              "      <td>2.18</td>\n",
              "      <td>0</td>\n",
              "      <td>0.458</td>\n",
              "      <td>7.147</td>\n",
              "      <td>54.2</td>\n",
              "      <td>6.0622</td>\n",
              "      <td>3</td>\n",
              "      <td>222</td>\n",
              "      <td>18.7</td>\n",
              "      <td>396.90</td>\n",
              "      <td>5.33</td>\n",
              "      <td>36.2</td>\n",
              "    </tr>\n",
              "  </tbody>\n",
              "</table>\n",
              "</div>\n",
              "    <div class=\"colab-df-buttons\">\n",
              "\n",
              "  <div class=\"colab-df-container\">\n",
              "    <button class=\"colab-df-convert\" onclick=\"convertToInteractive('df-0088b6c5-6ee2-4fa4-a54d-fccce234f143')\"\n",
              "            title=\"Convert this dataframe to an interactive table.\"\n",
              "            style=\"display:none;\">\n",
              "\n",
              "  <svg xmlns=\"http://www.w3.org/2000/svg\" height=\"24px\" viewBox=\"0 -960 960 960\">\n",
              "    <path d=\"M120-120v-720h720v720H120Zm60-500h600v-160H180v160Zm220 220h160v-160H400v160Zm0 220h160v-160H400v160ZM180-400h160v-160H180v160Zm440 0h160v-160H620v160ZM180-180h160v-160H180v160Zm440 0h160v-160H620v160Z\"/>\n",
              "  </svg>\n",
              "    </button>\n",
              "\n",
              "  <style>\n",
              "    .colab-df-container {\n",
              "      display:flex;\n",
              "      gap: 12px;\n",
              "    }\n",
              "\n",
              "    .colab-df-convert {\n",
              "      background-color: #E8F0FE;\n",
              "      border: none;\n",
              "      border-radius: 50%;\n",
              "      cursor: pointer;\n",
              "      display: none;\n",
              "      fill: #1967D2;\n",
              "      height: 32px;\n",
              "      padding: 0 0 0 0;\n",
              "      width: 32px;\n",
              "    }\n",
              "\n",
              "    .colab-df-convert:hover {\n",
              "      background-color: #E2EBFA;\n",
              "      box-shadow: 0px 1px 2px rgba(60, 64, 67, 0.3), 0px 1px 3px 1px rgba(60, 64, 67, 0.15);\n",
              "      fill: #174EA6;\n",
              "    }\n",
              "\n",
              "    .colab-df-buttons div {\n",
              "      margin-bottom: 4px;\n",
              "    }\n",
              "\n",
              "    [theme=dark] .colab-df-convert {\n",
              "      background-color: #3B4455;\n",
              "      fill: #D2E3FC;\n",
              "    }\n",
              "\n",
              "    [theme=dark] .colab-df-convert:hover {\n",
              "      background-color: #434B5C;\n",
              "      box-shadow: 0px 1px 3px 1px rgba(0, 0, 0, 0.15);\n",
              "      filter: drop-shadow(0px 1px 2px rgba(0, 0, 0, 0.3));\n",
              "      fill: #FFFFFF;\n",
              "    }\n",
              "  </style>\n",
              "\n",
              "    <script>\n",
              "      const buttonEl =\n",
              "        document.querySelector('#df-0088b6c5-6ee2-4fa4-a54d-fccce234f143 button.colab-df-convert');\n",
              "      buttonEl.style.display =\n",
              "        google.colab.kernel.accessAllowed ? 'block' : 'none';\n",
              "\n",
              "      async function convertToInteractive(key) {\n",
              "        const element = document.querySelector('#df-0088b6c5-6ee2-4fa4-a54d-fccce234f143');\n",
              "        const dataTable =\n",
              "          await google.colab.kernel.invokeFunction('convertToInteractive',\n",
              "                                                    [key], {});\n",
              "        if (!dataTable) return;\n",
              "\n",
              "        const docLinkHtml = 'Like what you see? Visit the ' +\n",
              "          '<a target=\"_blank\" href=https://colab.research.google.com/notebooks/data_table.ipynb>data table notebook</a>'\n",
              "          + ' to learn more about interactive tables.';\n",
              "        element.innerHTML = '';\n",
              "        dataTable['output_type'] = 'display_data';\n",
              "        await google.colab.output.renderOutput(dataTable, element);\n",
              "        const docLink = document.createElement('div');\n",
              "        docLink.innerHTML = docLinkHtml;\n",
              "        element.appendChild(docLink);\n",
              "      }\n",
              "    </script>\n",
              "  </div>\n",
              "\n",
              "\n",
              "<div id=\"df-4ea2c25b-1be1-4e57-85a2-4779057acce9\">\n",
              "  <button class=\"colab-df-quickchart\" onclick=\"quickchart('df-4ea2c25b-1be1-4e57-85a2-4779057acce9')\"\n",
              "            title=\"Suggest charts.\"\n",
              "            style=\"display:none;\">\n",
              "\n",
              "<svg xmlns=\"http://www.w3.org/2000/svg\" height=\"24px\"viewBox=\"0 0 24 24\"\n",
              "     width=\"24px\">\n",
              "    <g>\n",
              "        <path d=\"M19 3H5c-1.1 0-2 .9-2 2v14c0 1.1.9 2 2 2h14c1.1 0 2-.9 2-2V5c0-1.1-.9-2-2-2zM9 17H7v-7h2v7zm4 0h-2V7h2v10zm4 0h-2v-4h2v4z\"/>\n",
              "    </g>\n",
              "</svg>\n",
              "  </button>\n",
              "\n",
              "<style>\n",
              "  .colab-df-quickchart {\n",
              "      --bg-color: #E8F0FE;\n",
              "      --fill-color: #1967D2;\n",
              "      --hover-bg-color: #E2EBFA;\n",
              "      --hover-fill-color: #174EA6;\n",
              "      --disabled-fill-color: #AAA;\n",
              "      --disabled-bg-color: #DDD;\n",
              "  }\n",
              "\n",
              "  [theme=dark] .colab-df-quickchart {\n",
              "      --bg-color: #3B4455;\n",
              "      --fill-color: #D2E3FC;\n",
              "      --hover-bg-color: #434B5C;\n",
              "      --hover-fill-color: #FFFFFF;\n",
              "      --disabled-bg-color: #3B4455;\n",
              "      --disabled-fill-color: #666;\n",
              "  }\n",
              "\n",
              "  .colab-df-quickchart {\n",
              "    background-color: var(--bg-color);\n",
              "    border: none;\n",
              "    border-radius: 50%;\n",
              "    cursor: pointer;\n",
              "    display: none;\n",
              "    fill: var(--fill-color);\n",
              "    height: 32px;\n",
              "    padding: 0;\n",
              "    width: 32px;\n",
              "  }\n",
              "\n",
              "  .colab-df-quickchart:hover {\n",
              "    background-color: var(--hover-bg-color);\n",
              "    box-shadow: 0 1px 2px rgba(60, 64, 67, 0.3), 0 1px 3px 1px rgba(60, 64, 67, 0.15);\n",
              "    fill: var(--button-hover-fill-color);\n",
              "  }\n",
              "\n",
              "  .colab-df-quickchart-complete:disabled,\n",
              "  .colab-df-quickchart-complete:disabled:hover {\n",
              "    background-color: var(--disabled-bg-color);\n",
              "    fill: var(--disabled-fill-color);\n",
              "    box-shadow: none;\n",
              "  }\n",
              "\n",
              "  .colab-df-spinner {\n",
              "    border: 2px solid var(--fill-color);\n",
              "    border-color: transparent;\n",
              "    border-bottom-color: var(--fill-color);\n",
              "    animation:\n",
              "      spin 1s steps(1) infinite;\n",
              "  }\n",
              "\n",
              "  @keyframes spin {\n",
              "    0% {\n",
              "      border-color: transparent;\n",
              "      border-bottom-color: var(--fill-color);\n",
              "      border-left-color: var(--fill-color);\n",
              "    }\n",
              "    20% {\n",
              "      border-color: transparent;\n",
              "      border-left-color: var(--fill-color);\n",
              "      border-top-color: var(--fill-color);\n",
              "    }\n",
              "    30% {\n",
              "      border-color: transparent;\n",
              "      border-left-color: var(--fill-color);\n",
              "      border-top-color: var(--fill-color);\n",
              "      border-right-color: var(--fill-color);\n",
              "    }\n",
              "    40% {\n",
              "      border-color: transparent;\n",
              "      border-right-color: var(--fill-color);\n",
              "      border-top-color: var(--fill-color);\n",
              "    }\n",
              "    60% {\n",
              "      border-color: transparent;\n",
              "      border-right-color: var(--fill-color);\n",
              "    }\n",
              "    80% {\n",
              "      border-color: transparent;\n",
              "      border-right-color: var(--fill-color);\n",
              "      border-bottom-color: var(--fill-color);\n",
              "    }\n",
              "    90% {\n",
              "      border-color: transparent;\n",
              "      border-bottom-color: var(--fill-color);\n",
              "    }\n",
              "  }\n",
              "</style>\n",
              "\n",
              "  <script>\n",
              "    async function quickchart(key) {\n",
              "      const quickchartButtonEl =\n",
              "        document.querySelector('#' + key + ' button');\n",
              "      quickchartButtonEl.disabled = true;  // To prevent multiple clicks.\n",
              "      quickchartButtonEl.classList.add('colab-df-spinner');\n",
              "      try {\n",
              "        const charts = await google.colab.kernel.invokeFunction(\n",
              "            'suggestCharts', [key], {});\n",
              "      } catch (error) {\n",
              "        console.error('Error during call to suggestCharts:', error);\n",
              "      }\n",
              "      quickchartButtonEl.classList.remove('colab-df-spinner');\n",
              "      quickchartButtonEl.classList.add('colab-df-quickchart-complete');\n",
              "    }\n",
              "    (() => {\n",
              "      let quickchartButtonEl =\n",
              "        document.querySelector('#df-4ea2c25b-1be1-4e57-85a2-4779057acce9 button');\n",
              "      quickchartButtonEl.style.display =\n",
              "        google.colab.kernel.accessAllowed ? 'block' : 'none';\n",
              "    })();\n",
              "  </script>\n",
              "</div>\n",
              "    </div>\n",
              "  </div>\n"
            ]
          },
          "metadata": {},
          "execution_count": 90
        }
      ]
    },
    {
      "cell_type": "code",
      "source": [
        "X_data = df.iloc[:, :-1]"
      ],
      "metadata": {
        "id": "887mjFNbMwgo"
      },
      "execution_count": null,
      "outputs": []
    },
    {
      "cell_type": "code",
      "source": [
        "from sklearn.linear_model import LinearRegression\n",
        "from sklearn.metrics import r2_score"
      ],
      "metadata": {
        "id": "gd0L7CCENJ3d"
      },
      "execution_count": null,
      "outputs": []
    },
    {
      "cell_type": "code",
      "source": [
        "X_train, X_test, y_train, y_test = train_test_split(X_data, y, test_size=0.2, random_state=156)"
      ],
      "metadata": {
        "id": "dWMzm8AAM3Oz"
      },
      "execution_count": null,
      "outputs": []
    },
    {
      "cell_type": "code",
      "source": [
        "X_train.shape, X_test.shape, y_train.shape, y_test.shape"
      ],
      "metadata": {
        "colab": {
          "base_uri": "https://localhost:8080/"
        },
        "id": "X6uLgHmANdum",
        "outputId": "d20319c0-98df-4541-d92a-317c6061dd4a"
      },
      "execution_count": null,
      "outputs": [
        {
          "output_type": "execute_result",
          "data": {
            "text/plain": [
              "((404, 13), (102, 13), (404,), (102,))"
            ]
          },
          "metadata": {},
          "execution_count": 99
        }
      ]
    },
    {
      "cell_type": "code",
      "source": [
        "lr = LinearRegression()\n",
        "lr.fit(X_train, y_train)\n",
        "y_pred = lr.predict(X_test)\n",
        "mses = MSE(y_test, y_pred)\n",
        "rmse = mses**0.5\n",
        "print(mses, rmse)\n",
        "r2_score(y_test, y_pred)"
      ],
      "metadata": {
        "colab": {
          "base_uri": "https://localhost:8080/"
        },
        "id": "nOBAeWi5NDa3",
        "outputId": "fc80b2a8-ac1e-4635-f6b6-ededaf517621"
      },
      "execution_count": null,
      "outputs": [
        {
          "output_type": "stream",
          "name": "stdout",
          "text": [
            "18.140266604383026 4.259139185842959\n"
          ]
        },
        {
          "output_type": "execute_result",
          "data": {
            "text/plain": [
              "0.7854511954574214"
            ]
          },
          "metadata": {},
          "execution_count": 100
        }
      ]
    },
    {
      "cell_type": "code",
      "source": [
        "lr.intercept_"
      ],
      "metadata": {
        "colab": {
          "base_uri": "https://localhost:8080/"
        },
        "id": "_YkcEFtsOeb0",
        "outputId": "d86731ac-4e03-4eda-ac69-5a5961450c44"
      },
      "execution_count": null,
      "outputs": [
        {
          "output_type": "execute_result",
          "data": {
            "text/plain": [
              "39.29051011945259"
            ]
          },
          "metadata": {},
          "execution_count": 101
        }
      ]
    },
    {
      "cell_type": "code",
      "source": [
        "lr.coef_"
      ],
      "metadata": {
        "colab": {
          "base_uri": "https://localhost:8080/"
        },
        "id": "AaG9BgxGOuq0",
        "outputId": "73a5e659-d638-4384-d3f0-ba46aa37d2fa"
      },
      "execution_count": null,
      "outputs": [
        {
          "output_type": "execute_result",
          "data": {
            "text/plain": [
              "array([-1.26922243e-01,  6.41812066e-02,  3.92889954e-02,  2.75649142e+00,\n",
              "       -2.00898224e+01,  3.44900195e+00,  5.95889045e-03, -1.64557096e+00,\n",
              "        3.28500267e-01, -1.31602465e-02, -8.84454934e-01,  9.24218918e-03,\n",
              "       -5.44123065e-01])"
            ]
          },
          "metadata": {},
          "execution_count": 102
        }
      ]
    },
    {
      "cell_type": "code",
      "source": [
        "coeff = pd.Series(data=np.round(lr.coef_, 1), index=X_data.columns)"
      ],
      "metadata": {
        "id": "NHHJChTsOw5N"
      },
      "execution_count": null,
      "outputs": []
    },
    {
      "cell_type": "code",
      "source": [
        "coeff"
      ],
      "metadata": {
        "colab": {
          "base_uri": "https://localhost:8080/"
        },
        "id": "XuPuqNmcRwhP",
        "outputId": "406b12ea-4628-4fe4-c6a2-81596237146d"
      },
      "execution_count": null,
      "outputs": [
        {
          "output_type": "execute_result",
          "data": {
            "text/plain": [
              "CRIM       -0.1\n",
              "ZN          0.1\n",
              "INDUS       0.0\n",
              "CHAS        2.8\n",
              "NOX       -20.1\n",
              "RM          3.4\n",
              "AGE         0.0\n",
              "DIS        -1.6\n",
              "RAD         0.3\n",
              "TAX        -0.0\n",
              "PTRATIO    -0.9\n",
              "B           0.0\n",
              "LSTAT      -0.5\n",
              "dtype: float64"
            ]
          },
          "metadata": {},
          "execution_count": 104
        }
      ]
    },
    {
      "cell_type": "code",
      "source": [
        "coeff.sort_values(ascending=False)"
      ],
      "metadata": {
        "colab": {
          "base_uri": "https://localhost:8080/"
        },
        "id": "jXmguPBvRxrs",
        "outputId": "43f764a3-17a6-4c19-b52c-b941eb5c8046"
      },
      "execution_count": null,
      "outputs": [
        {
          "output_type": "execute_result",
          "data": {
            "text/plain": [
              "RM          3.4\n",
              "CHAS        2.8\n",
              "RAD         0.3\n",
              "ZN          0.1\n",
              "INDUS       0.0\n",
              "AGE         0.0\n",
              "TAX        -0.0\n",
              "B           0.0\n",
              "CRIM       -0.1\n",
              "LSTAT      -0.5\n",
              "PTRATIO    -0.9\n",
              "DIS        -1.6\n",
              "NOX       -20.1\n",
              "dtype: float64"
            ]
          },
          "metadata": {},
          "execution_count": 105
        }
      ]
    },
    {
      "cell_type": "code",
      "source": [
        "from sklearn.model_selection import cross_val_score\n",
        "y_target = df.PRICE\n",
        "X_data = df.iloc[:, :-1]\n",
        "lr = LinearRegression()\n",
        "\n",
        "neg_mse_scores = cross_val_score(lr, X_data, y_target, scoring='neg_mean_squared_error', cv=5)\n",
        "rmse = (-1*neg_mse_scores)**0.5\n",
        "avg_rmse = np.mean(rmse)"
      ],
      "metadata": {
        "id": "bzF_WIGiR33n"
      },
      "execution_count": null,
      "outputs": []
    },
    {
      "cell_type": "code",
      "source": [
        "neg_mse_scores"
      ],
      "metadata": {
        "colab": {
          "base_uri": "https://localhost:8080/"
        },
        "id": "_r2K-7GZTpqz",
        "outputId": "2bbd0845-dc6c-4076-dfa7-836a3d7907dc"
      },
      "execution_count": null,
      "outputs": [
        {
          "output_type": "execute_result",
          "data": {
            "text/plain": [
              "array([-12.46030057, -26.04862111, -33.07413798, -80.76237112,\n",
              "       -33.31360656])"
            ]
          },
          "metadata": {},
          "execution_count": 107
        }
      ]
    },
    {
      "cell_type": "code",
      "source": [
        "rmse"
      ],
      "metadata": {
        "colab": {
          "base_uri": "https://localhost:8080/"
        },
        "id": "TyvYs9sZTr3I",
        "outputId": "802b391a-0606-46c3-ab7f-4ceb22e27af1"
      },
      "execution_count": null,
      "outputs": [
        {
          "output_type": "execute_result",
          "data": {
            "text/plain": [
              "array([3.52991509, 5.10378498, 5.75101191, 8.9867887 , 5.77179405])"
            ]
          },
          "metadata": {},
          "execution_count": 108
        }
      ]
    },
    {
      "cell_type": "code",
      "source": [
        "avg_rmse"
      ],
      "metadata": {
        "colab": {
          "base_uri": "https://localhost:8080/"
        },
        "id": "CKXVk8dlTtbL",
        "outputId": "1c65c310-2b4c-48d4-f524-26cc58991061"
      },
      "execution_count": null,
      "outputs": [
        {
          "output_type": "execute_result",
          "data": {
            "text/plain": [
              "5.828658946215802"
            ]
          },
          "metadata": {},
          "execution_count": 109
        }
      ]
    },
    {
      "cell_type": "markdown",
      "source": [
        "단일 회귀 :    \n",
        "\n",
        "$$\n",
        "w_0 + w_1 \\times x_1\n",
        "$$"
      ],
      "metadata": {
        "id": "lmpm26DpT7VX"
      }
    },
    {
      "cell_type": "markdown",
      "source": [
        "다중 회귀:\n",
        "\n",
        "$$\n",
        "w_0 + w_1 \\times x_1 + w_2 \\times x_2 + \\cdots + w_n \\times x_n\n",
        "$$"
      ],
      "metadata": {
        "id": "Q--6RTFeUOVw"
      }
    },
    {
      "cell_type": "markdown",
      "source": [
        "다항 회귀:\n",
        "\n",
        "$$\n",
        "w_0 + w_1 \\times x_1 + w_2 \\times x_2^2 + \\cdots + w_n \\times x_n^n\n",
        "$$"
      ],
      "metadata": {
        "id": "dne8kNJIUxJJ"
      }
    },
    {
      "cell_type": "markdown",
      "source": [
        "사이킷런에서는 다항 회귀를 위한 클래스를 제공하지 않는다."
      ],
      "metadata": {
        "id": "c6A50lTbVk-Y"
      }
    },
    {
      "cell_type": "markdown",
      "source": [
        "##sklearn으로 다항 회귀 구하는 법"
      ],
      "metadata": {
        "id": "SfrLng2lWOET"
      }
    },
    {
      "cell_type": "markdown",
      "source": [
        "데이터\n",
        "\n",
        "[X1, X2]"
      ],
      "metadata": {
        "id": "sZNp415rVsnZ"
      }
    },
    {
      "cell_type": "markdown",
      "source": [
        "데이터 변환\n",
        "\n",
        "[1, x1, x2, x1x1, x1x2, x2x2]"
      ],
      "metadata": {
        "id": "YsFCePihV0NH"
      }
    },
    {
      "cell_type": "markdown",
      "source": [
        "[1, x1, x2, x1x1, x1x2, x2x2] 에 대해 LinearRegression() 적용"
      ],
      "metadata": {
        "id": "tfm6jDMHWEgC"
      }
    },
    {
      "cell_type": "code",
      "source": [
        "from sklearn.preprocessing import PolynomialFeatures"
      ],
      "metadata": {
        "id": "YxtHeIP-TwOm"
      },
      "execution_count": null,
      "outputs": []
    },
    {
      "cell_type": "code",
      "source": [
        "X = np.arange(4).reshape(2, 2)"
      ],
      "metadata": {
        "id": "LbCIEF7KW1De"
      },
      "execution_count": null,
      "outputs": []
    },
    {
      "cell_type": "code",
      "source": [
        "X"
      ],
      "metadata": {
        "colab": {
          "base_uri": "https://localhost:8080/"
        },
        "id": "3DoQNLHGW5Ry",
        "outputId": "28a3dd20-ceea-4cc1-827b-7381105735d6"
      },
      "execution_count": null,
      "outputs": [
        {
          "output_type": "execute_result",
          "data": {
            "text/plain": [
              "array([[0, 1],\n",
              "       [2, 3]])"
            ]
          },
          "metadata": {},
          "execution_count": 112
        }
      ]
    },
    {
      "cell_type": "code",
      "source": [
        "poly = PolynomialFeatures(degree=2)\n",
        "poly.fit(X)\n",
        "poly_ftr = poly.transform(X)"
      ],
      "metadata": {
        "id": "YcilS55mW5pq"
      },
      "execution_count": null,
      "outputs": []
    },
    {
      "cell_type": "code",
      "source": [
        "poly_ftr"
      ],
      "metadata": {
        "colab": {
          "base_uri": "https://localhost:8080/"
        },
        "id": "ZljRK9DdXOGL",
        "outputId": "8e6b864b-ebb3-441e-bd19-ed8ee08cfde1"
      },
      "execution_count": null,
      "outputs": [
        {
          "output_type": "execute_result",
          "data": {
            "text/plain": [
              "array([[1., 0., 1., 0., 0., 1.],\n",
              "       [1., 2., 3., 4., 6., 9.]])"
            ]
          },
          "metadata": {},
          "execution_count": 114
        }
      ]
    },
    {
      "cell_type": "markdown",
      "source": [
        "삼차 다항 회귀 예제"
      ],
      "metadata": {
        "id": "PX75ohy_XzSr"
      }
    },
    {
      "cell_type": "code",
      "source": [
        "def polynomial_func(X):\n",
        "    y = 1 + 2*X[:, 0] + 3*X[:, 0]**2 + 4*X[:, 1]**3\n",
        "    return y"
      ],
      "metadata": {
        "id": "iYEmrcD9XeNv"
      },
      "execution_count": null,
      "outputs": []
    },
    {
      "cell_type": "code",
      "source": [
        "X = np.arange(0,4).reshape(2,2)"
      ],
      "metadata": {
        "id": "5PRlR5e6XPPo"
      },
      "execution_count": null,
      "outputs": []
    },
    {
      "cell_type": "code",
      "source": [
        "X"
      ],
      "metadata": {
        "colab": {
          "base_uri": "https://localhost:8080/"
        },
        "id": "6i6vz5FAYL0s",
        "outputId": "f5d45f40-610e-4a0f-8022-8a7b10a06e44"
      },
      "execution_count": null,
      "outputs": [
        {
          "output_type": "execute_result",
          "data": {
            "text/plain": [
              "array([[0, 1],\n",
              "       [2, 3]])"
            ]
          },
          "metadata": {},
          "execution_count": 118
        }
      ]
    },
    {
      "cell_type": "code",
      "source": [
        "y = polynomial_func(X)"
      ],
      "metadata": {
        "id": "ElibPiQnYQFW"
      },
      "execution_count": null,
      "outputs": []
    },
    {
      "cell_type": "code",
      "source": [
        "y"
      ],
      "metadata": {
        "colab": {
          "base_uri": "https://localhost:8080/"
        },
        "id": "SedzvhehYZFB",
        "outputId": "13904b4f-923b-43f0-e45b-7feeeb856773"
      },
      "execution_count": null,
      "outputs": [
        {
          "output_type": "execute_result",
          "data": {
            "text/plain": [
              "array([  5, 125])"
            ]
          },
          "metadata": {},
          "execution_count": 120
        }
      ]
    },
    {
      "cell_type": "code",
      "source": [
        "poly_ftr = PolynomialFeatures(degree=3).fit_transform(X)"
      ],
      "metadata": {
        "id": "E3ec3IsjYZfV"
      },
      "execution_count": null,
      "outputs": []
    },
    {
      "cell_type": "code",
      "source": [
        "poly_ftr"
      ],
      "metadata": {
        "colab": {
          "base_uri": "https://localhost:8080/"
        },
        "id": "SBkhBuvzY5-i",
        "outputId": "32bb6ad6-78f7-489a-de7e-ced3fa61b58e"
      },
      "execution_count": null,
      "outputs": [
        {
          "output_type": "execute_result",
          "data": {
            "text/plain": [
              "array([[ 1.,  0.,  1.,  0.,  0.,  1.,  0.,  0.,  0.,  1.],\n",
              "       [ 1.,  2.,  3.,  4.,  6.,  9.,  8., 12., 18., 27.]])"
            ]
          },
          "metadata": {},
          "execution_count": 122
        }
      ]
    },
    {
      "cell_type": "code",
      "source": [
        "poly = PolynomialFeatures(3)\n",
        "poly.fit(X)"
      ],
      "metadata": {
        "colab": {
          "base_uri": "https://localhost:8080/",
          "height": 74
        },
        "id": "v5UXrdlbY8Ia",
        "outputId": "460830f9-399e-4425-a359-b54c055ea3a5"
      },
      "execution_count": null,
      "outputs": [
        {
          "output_type": "execute_result",
          "data": {
            "text/plain": [
              "PolynomialFeatures(degree=3)"
            ],
            "text/html": [
              "<style>#sk-container-id-2 {color: black;background-color: white;}#sk-container-id-2 pre{padding: 0;}#sk-container-id-2 div.sk-toggleable {background-color: white;}#sk-container-id-2 label.sk-toggleable__label {cursor: pointer;display: block;width: 100%;margin-bottom: 0;padding: 0.3em;box-sizing: border-box;text-align: center;}#sk-container-id-2 label.sk-toggleable__label-arrow:before {content: \"▸\";float: left;margin-right: 0.25em;color: #696969;}#sk-container-id-2 label.sk-toggleable__label-arrow:hover:before {color: black;}#sk-container-id-2 div.sk-estimator:hover label.sk-toggleable__label-arrow:before {color: black;}#sk-container-id-2 div.sk-toggleable__content {max-height: 0;max-width: 0;overflow: hidden;text-align: left;background-color: #f0f8ff;}#sk-container-id-2 div.sk-toggleable__content pre {margin: 0.2em;color: black;border-radius: 0.25em;background-color: #f0f8ff;}#sk-container-id-2 input.sk-toggleable__control:checked~div.sk-toggleable__content {max-height: 200px;max-width: 100%;overflow: auto;}#sk-container-id-2 input.sk-toggleable__control:checked~label.sk-toggleable__label-arrow:before {content: \"▾\";}#sk-container-id-2 div.sk-estimator input.sk-toggleable__control:checked~label.sk-toggleable__label {background-color: #d4ebff;}#sk-container-id-2 div.sk-label input.sk-toggleable__control:checked~label.sk-toggleable__label {background-color: #d4ebff;}#sk-container-id-2 input.sk-hidden--visually {border: 0;clip: rect(1px 1px 1px 1px);clip: rect(1px, 1px, 1px, 1px);height: 1px;margin: -1px;overflow: hidden;padding: 0;position: absolute;width: 1px;}#sk-container-id-2 div.sk-estimator {font-family: monospace;background-color: #f0f8ff;border: 1px dotted black;border-radius: 0.25em;box-sizing: border-box;margin-bottom: 0.5em;}#sk-container-id-2 div.sk-estimator:hover {background-color: #d4ebff;}#sk-container-id-2 div.sk-parallel-item::after {content: \"\";width: 100%;border-bottom: 1px solid gray;flex-grow: 1;}#sk-container-id-2 div.sk-label:hover label.sk-toggleable__label {background-color: #d4ebff;}#sk-container-id-2 div.sk-serial::before {content: \"\";position: absolute;border-left: 1px solid gray;box-sizing: border-box;top: 0;bottom: 0;left: 50%;z-index: 0;}#sk-container-id-2 div.sk-serial {display: flex;flex-direction: column;align-items: center;background-color: white;padding-right: 0.2em;padding-left: 0.2em;position: relative;}#sk-container-id-2 div.sk-item {position: relative;z-index: 1;}#sk-container-id-2 div.sk-parallel {display: flex;align-items: stretch;justify-content: center;background-color: white;position: relative;}#sk-container-id-2 div.sk-item::before, #sk-container-id-2 div.sk-parallel-item::before {content: \"\";position: absolute;border-left: 1px solid gray;box-sizing: border-box;top: 0;bottom: 0;left: 50%;z-index: -1;}#sk-container-id-2 div.sk-parallel-item {display: flex;flex-direction: column;z-index: 1;position: relative;background-color: white;}#sk-container-id-2 div.sk-parallel-item:first-child::after {align-self: flex-end;width: 50%;}#sk-container-id-2 div.sk-parallel-item:last-child::after {align-self: flex-start;width: 50%;}#sk-container-id-2 div.sk-parallel-item:only-child::after {width: 0;}#sk-container-id-2 div.sk-dashed-wrapped {border: 1px dashed gray;margin: 0 0.4em 0.5em 0.4em;box-sizing: border-box;padding-bottom: 0.4em;background-color: white;}#sk-container-id-2 div.sk-label label {font-family: monospace;font-weight: bold;display: inline-block;line-height: 1.2em;}#sk-container-id-2 div.sk-label-container {text-align: center;}#sk-container-id-2 div.sk-container {/* jupyter's `normalize.less` sets `[hidden] { display: none; }` but bootstrap.min.css set `[hidden] { display: none !important; }` so we also need the `!important` here to be able to override the default hidden behavior on the sphinx rendered scikit-learn.org. See: https://github.com/scikit-learn/scikit-learn/issues/21755 */display: inline-block !important;position: relative;}#sk-container-id-2 div.sk-text-repr-fallback {display: none;}</style><div id=\"sk-container-id-2\" class=\"sk-top-container\"><div class=\"sk-text-repr-fallback\"><pre>PolynomialFeatures(degree=3)</pre><b>In a Jupyter environment, please rerun this cell to show the HTML representation or trust the notebook. <br />On GitHub, the HTML representation is unable to render, please try loading this page with nbviewer.org.</b></div><div class=\"sk-container\" hidden><div class=\"sk-item\"><div class=\"sk-estimator sk-toggleable\"><input class=\"sk-toggleable__control sk-hidden--visually\" id=\"sk-estimator-id-2\" type=\"checkbox\" checked><label for=\"sk-estimator-id-2\" class=\"sk-toggleable__label sk-toggleable__label-arrow\">PolynomialFeatures</label><div class=\"sk-toggleable__content\"><pre>PolynomialFeatures(degree=3)</pre></div></div></div></div></div>"
            ]
          },
          "metadata": {},
          "execution_count": 124
        }
      ]
    },
    {
      "cell_type": "code",
      "source": [
        "poly.get_feature_names_out()"
      ],
      "metadata": {
        "colab": {
          "base_uri": "https://localhost:8080/"
        },
        "id": "VDYmE1pUZPJP",
        "outputId": "7d078317-52fb-4cec-f50f-f3d9db9142e7"
      },
      "execution_count": null,
      "outputs": [
        {
          "output_type": "execute_result",
          "data": {
            "text/plain": [
              "array(['1', 'x0', 'x1', 'x0^2', 'x0 x1', 'x1^2', 'x0^3', 'x0^2 x1',\n",
              "       'x0 x1^2', 'x1^3'], dtype=object)"
            ]
          },
          "metadata": {},
          "execution_count": 125
        }
      ]
    },
    {
      "cell_type": "code",
      "source": [
        "model = LinearRegression()"
      ],
      "metadata": {
        "id": "Fi5Fr6QKZfUQ"
      },
      "execution_count": null,
      "outputs": []
    },
    {
      "cell_type": "code",
      "source": [
        "model.fit(poly_ftr, y)"
      ],
      "metadata": {
        "colab": {
          "base_uri": "https://localhost:8080/",
          "height": 74
        },
        "id": "zZwUpjYwaLRZ",
        "outputId": "af81e58e-0938-4f30-eb5f-1729c579ae58"
      },
      "execution_count": null,
      "outputs": [
        {
          "output_type": "execute_result",
          "data": {
            "text/plain": [
              "LinearRegression()"
            ],
            "text/html": [
              "<style>#sk-container-id-3 {color: black;background-color: white;}#sk-container-id-3 pre{padding: 0;}#sk-container-id-3 div.sk-toggleable {background-color: white;}#sk-container-id-3 label.sk-toggleable__label {cursor: pointer;display: block;width: 100%;margin-bottom: 0;padding: 0.3em;box-sizing: border-box;text-align: center;}#sk-container-id-3 label.sk-toggleable__label-arrow:before {content: \"▸\";float: left;margin-right: 0.25em;color: #696969;}#sk-container-id-3 label.sk-toggleable__label-arrow:hover:before {color: black;}#sk-container-id-3 div.sk-estimator:hover label.sk-toggleable__label-arrow:before {color: black;}#sk-container-id-3 div.sk-toggleable__content {max-height: 0;max-width: 0;overflow: hidden;text-align: left;background-color: #f0f8ff;}#sk-container-id-3 div.sk-toggleable__content pre {margin: 0.2em;color: black;border-radius: 0.25em;background-color: #f0f8ff;}#sk-container-id-3 input.sk-toggleable__control:checked~div.sk-toggleable__content {max-height: 200px;max-width: 100%;overflow: auto;}#sk-container-id-3 input.sk-toggleable__control:checked~label.sk-toggleable__label-arrow:before {content: \"▾\";}#sk-container-id-3 div.sk-estimator input.sk-toggleable__control:checked~label.sk-toggleable__label {background-color: #d4ebff;}#sk-container-id-3 div.sk-label input.sk-toggleable__control:checked~label.sk-toggleable__label {background-color: #d4ebff;}#sk-container-id-3 input.sk-hidden--visually {border: 0;clip: rect(1px 1px 1px 1px);clip: rect(1px, 1px, 1px, 1px);height: 1px;margin: -1px;overflow: hidden;padding: 0;position: absolute;width: 1px;}#sk-container-id-3 div.sk-estimator {font-family: monospace;background-color: #f0f8ff;border: 1px dotted black;border-radius: 0.25em;box-sizing: border-box;margin-bottom: 0.5em;}#sk-container-id-3 div.sk-estimator:hover {background-color: #d4ebff;}#sk-container-id-3 div.sk-parallel-item::after {content: \"\";width: 100%;border-bottom: 1px solid gray;flex-grow: 1;}#sk-container-id-3 div.sk-label:hover label.sk-toggleable__label {background-color: #d4ebff;}#sk-container-id-3 div.sk-serial::before {content: \"\";position: absolute;border-left: 1px solid gray;box-sizing: border-box;top: 0;bottom: 0;left: 50%;z-index: 0;}#sk-container-id-3 div.sk-serial {display: flex;flex-direction: column;align-items: center;background-color: white;padding-right: 0.2em;padding-left: 0.2em;position: relative;}#sk-container-id-3 div.sk-item {position: relative;z-index: 1;}#sk-container-id-3 div.sk-parallel {display: flex;align-items: stretch;justify-content: center;background-color: white;position: relative;}#sk-container-id-3 div.sk-item::before, #sk-container-id-3 div.sk-parallel-item::before {content: \"\";position: absolute;border-left: 1px solid gray;box-sizing: border-box;top: 0;bottom: 0;left: 50%;z-index: -1;}#sk-container-id-3 div.sk-parallel-item {display: flex;flex-direction: column;z-index: 1;position: relative;background-color: white;}#sk-container-id-3 div.sk-parallel-item:first-child::after {align-self: flex-end;width: 50%;}#sk-container-id-3 div.sk-parallel-item:last-child::after {align-self: flex-start;width: 50%;}#sk-container-id-3 div.sk-parallel-item:only-child::after {width: 0;}#sk-container-id-3 div.sk-dashed-wrapped {border: 1px dashed gray;margin: 0 0.4em 0.5em 0.4em;box-sizing: border-box;padding-bottom: 0.4em;background-color: white;}#sk-container-id-3 div.sk-label label {font-family: monospace;font-weight: bold;display: inline-block;line-height: 1.2em;}#sk-container-id-3 div.sk-label-container {text-align: center;}#sk-container-id-3 div.sk-container {/* jupyter's `normalize.less` sets `[hidden] { display: none; }` but bootstrap.min.css set `[hidden] { display: none !important; }` so we also need the `!important` here to be able to override the default hidden behavior on the sphinx rendered scikit-learn.org. See: https://github.com/scikit-learn/scikit-learn/issues/21755 */display: inline-block !important;position: relative;}#sk-container-id-3 div.sk-text-repr-fallback {display: none;}</style><div id=\"sk-container-id-3\" class=\"sk-top-container\"><div class=\"sk-text-repr-fallback\"><pre>LinearRegression()</pre><b>In a Jupyter environment, please rerun this cell to show the HTML representation or trust the notebook. <br />On GitHub, the HTML representation is unable to render, please try loading this page with nbviewer.org.</b></div><div class=\"sk-container\" hidden><div class=\"sk-item\"><div class=\"sk-estimator sk-toggleable\"><input class=\"sk-toggleable__control sk-hidden--visually\" id=\"sk-estimator-id-3\" type=\"checkbox\" checked><label for=\"sk-estimator-id-3\" class=\"sk-toggleable__label sk-toggleable__label-arrow\">LinearRegression</label><div class=\"sk-toggleable__content\"><pre>LinearRegression()</pre></div></div></div></div></div>"
            ]
          },
          "metadata": {},
          "execution_count": 127
        }
      ]
    },
    {
      "cell_type": "code",
      "source": [
        "np.round(model.coef_,2)"
      ],
      "metadata": {
        "colab": {
          "base_uri": "https://localhost:8080/"
        },
        "id": "0eoWlvTtaRsC",
        "outputId": "cdda791f-e845-4876-9560-3584214568bc"
      },
      "execution_count": null,
      "outputs": [
        {
          "output_type": "execute_result",
          "data": {
            "text/plain": [
              "array([0.  , 0.18, 0.18, 0.36, 0.54, 0.72, 0.72, 1.08, 1.62, 2.34])"
            ]
          },
          "metadata": {},
          "execution_count": 129
        }
      ]
    },
    {
      "cell_type": "markdown",
      "source": [
        "['1', 'x0', 'x1', 'x0^2', 'x0 x1', 'x1^2', 'x0^3', 'x0^2 x1',\n",
        "       'x0 x1^2', 'x1^3']"
      ],
      "metadata": {
        "id": "nuHdMe5baeqC"
      }
    },
    {
      "cell_type": "code",
      "source": [
        "model.coef_.shape"
      ],
      "metadata": {
        "colab": {
          "base_uri": "https://localhost:8080/"
        },
        "id": "0aBDD7dwaW0b",
        "outputId": "22aa97ec-65d6-443a-bff3-a813c5ce9959"
      },
      "execution_count": null,
      "outputs": [
        {
          "output_type": "execute_result",
          "data": {
            "text/plain": [
              "(10,)"
            ]
          },
          "metadata": {},
          "execution_count": 130
        }
      ]
    },
    {
      "cell_type": "code",
      "source": [
        "from sklearn.pipeline import Pipeline"
      ],
      "metadata": {
        "id": "TVyJirSaakcT"
      },
      "execution_count": null,
      "outputs": []
    },
    {
      "cell_type": "code",
      "source": [
        "model = Pipeline([('poly', PolynomialFeatures(degree=3)), ('linear', LinearRegression())])"
      ],
      "metadata": {
        "id": "wXfHdKu_a1uo"
      },
      "execution_count": null,
      "outputs": []
    },
    {
      "cell_type": "code",
      "source": [
        "X"
      ],
      "metadata": {
        "colab": {
          "base_uri": "https://localhost:8080/"
        },
        "id": "TBEiePk3bN1r",
        "outputId": "0cd6ba88-e7ee-4aa9-c174-4d9b4f22fbdf"
      },
      "execution_count": null,
      "outputs": [
        {
          "output_type": "execute_result",
          "data": {
            "text/plain": [
              "array([[0, 1],\n",
              "       [2, 3]])"
            ]
          },
          "metadata": {},
          "execution_count": 133
        }
      ]
    },
    {
      "cell_type": "code",
      "source": [
        "y"
      ],
      "metadata": {
        "colab": {
          "base_uri": "https://localhost:8080/"
        },
        "id": "3tYYpp3gbO4D",
        "outputId": "18523f45-1d74-4b3f-f26d-96ca17ade548"
      },
      "execution_count": null,
      "outputs": [
        {
          "output_type": "execute_result",
          "data": {
            "text/plain": [
              "array([  5, 125])"
            ]
          },
          "metadata": {},
          "execution_count": 134
        }
      ]
    },
    {
      "cell_type": "code",
      "source": [
        "model.fit(X, y)"
      ],
      "metadata": {
        "colab": {
          "base_uri": "https://localhost:8080/",
          "height": 125
        },
        "id": "-pdV1yRDbPYE",
        "outputId": "0dfe1aff-5906-48b9-c318-894850d46660"
      },
      "execution_count": null,
      "outputs": [
        {
          "output_type": "execute_result",
          "data": {
            "text/plain": [
              "Pipeline(steps=[('poly', PolynomialFeatures(degree=3)),\n",
              "                ('linear', LinearRegression())])"
            ],
            "text/html": [
              "<style>#sk-container-id-4 {color: black;background-color: white;}#sk-container-id-4 pre{padding: 0;}#sk-container-id-4 div.sk-toggleable {background-color: white;}#sk-container-id-4 label.sk-toggleable__label {cursor: pointer;display: block;width: 100%;margin-bottom: 0;padding: 0.3em;box-sizing: border-box;text-align: center;}#sk-container-id-4 label.sk-toggleable__label-arrow:before {content: \"▸\";float: left;margin-right: 0.25em;color: #696969;}#sk-container-id-4 label.sk-toggleable__label-arrow:hover:before {color: black;}#sk-container-id-4 div.sk-estimator:hover label.sk-toggleable__label-arrow:before {color: black;}#sk-container-id-4 div.sk-toggleable__content {max-height: 0;max-width: 0;overflow: hidden;text-align: left;background-color: #f0f8ff;}#sk-container-id-4 div.sk-toggleable__content pre {margin: 0.2em;color: black;border-radius: 0.25em;background-color: #f0f8ff;}#sk-container-id-4 input.sk-toggleable__control:checked~div.sk-toggleable__content {max-height: 200px;max-width: 100%;overflow: auto;}#sk-container-id-4 input.sk-toggleable__control:checked~label.sk-toggleable__label-arrow:before {content: \"▾\";}#sk-container-id-4 div.sk-estimator input.sk-toggleable__control:checked~label.sk-toggleable__label {background-color: #d4ebff;}#sk-container-id-4 div.sk-label input.sk-toggleable__control:checked~label.sk-toggleable__label {background-color: #d4ebff;}#sk-container-id-4 input.sk-hidden--visually {border: 0;clip: rect(1px 1px 1px 1px);clip: rect(1px, 1px, 1px, 1px);height: 1px;margin: -1px;overflow: hidden;padding: 0;position: absolute;width: 1px;}#sk-container-id-4 div.sk-estimator {font-family: monospace;background-color: #f0f8ff;border: 1px dotted black;border-radius: 0.25em;box-sizing: border-box;margin-bottom: 0.5em;}#sk-container-id-4 div.sk-estimator:hover {background-color: #d4ebff;}#sk-container-id-4 div.sk-parallel-item::after {content: \"\";width: 100%;border-bottom: 1px solid gray;flex-grow: 1;}#sk-container-id-4 div.sk-label:hover label.sk-toggleable__label {background-color: #d4ebff;}#sk-container-id-4 div.sk-serial::before {content: \"\";position: absolute;border-left: 1px solid gray;box-sizing: border-box;top: 0;bottom: 0;left: 50%;z-index: 0;}#sk-container-id-4 div.sk-serial {display: flex;flex-direction: column;align-items: center;background-color: white;padding-right: 0.2em;padding-left: 0.2em;position: relative;}#sk-container-id-4 div.sk-item {position: relative;z-index: 1;}#sk-container-id-4 div.sk-parallel {display: flex;align-items: stretch;justify-content: center;background-color: white;position: relative;}#sk-container-id-4 div.sk-item::before, #sk-container-id-4 div.sk-parallel-item::before {content: \"\";position: absolute;border-left: 1px solid gray;box-sizing: border-box;top: 0;bottom: 0;left: 50%;z-index: -1;}#sk-container-id-4 div.sk-parallel-item {display: flex;flex-direction: column;z-index: 1;position: relative;background-color: white;}#sk-container-id-4 div.sk-parallel-item:first-child::after {align-self: flex-end;width: 50%;}#sk-container-id-4 div.sk-parallel-item:last-child::after {align-self: flex-start;width: 50%;}#sk-container-id-4 div.sk-parallel-item:only-child::after {width: 0;}#sk-container-id-4 div.sk-dashed-wrapped {border: 1px dashed gray;margin: 0 0.4em 0.5em 0.4em;box-sizing: border-box;padding-bottom: 0.4em;background-color: white;}#sk-container-id-4 div.sk-label label {font-family: monospace;font-weight: bold;display: inline-block;line-height: 1.2em;}#sk-container-id-4 div.sk-label-container {text-align: center;}#sk-container-id-4 div.sk-container {/* jupyter's `normalize.less` sets `[hidden] { display: none; }` but bootstrap.min.css set `[hidden] { display: none !important; }` so we also need the `!important` here to be able to override the default hidden behavior on the sphinx rendered scikit-learn.org. See: https://github.com/scikit-learn/scikit-learn/issues/21755 */display: inline-block !important;position: relative;}#sk-container-id-4 div.sk-text-repr-fallback {display: none;}</style><div id=\"sk-container-id-4\" class=\"sk-top-container\"><div class=\"sk-text-repr-fallback\"><pre>Pipeline(steps=[(&#x27;poly&#x27;, PolynomialFeatures(degree=3)),\n",
              "                (&#x27;linear&#x27;, LinearRegression())])</pre><b>In a Jupyter environment, please rerun this cell to show the HTML representation or trust the notebook. <br />On GitHub, the HTML representation is unable to render, please try loading this page with nbviewer.org.</b></div><div class=\"sk-container\" hidden><div class=\"sk-item sk-dashed-wrapped\"><div class=\"sk-label-container\"><div class=\"sk-label sk-toggleable\"><input class=\"sk-toggleable__control sk-hidden--visually\" id=\"sk-estimator-id-4\" type=\"checkbox\" ><label for=\"sk-estimator-id-4\" class=\"sk-toggleable__label sk-toggleable__label-arrow\">Pipeline</label><div class=\"sk-toggleable__content\"><pre>Pipeline(steps=[(&#x27;poly&#x27;, PolynomialFeatures(degree=3)),\n",
              "                (&#x27;linear&#x27;, LinearRegression())])</pre></div></div></div><div class=\"sk-serial\"><div class=\"sk-item\"><div class=\"sk-estimator sk-toggleable\"><input class=\"sk-toggleable__control sk-hidden--visually\" id=\"sk-estimator-id-5\" type=\"checkbox\" ><label for=\"sk-estimator-id-5\" class=\"sk-toggleable__label sk-toggleable__label-arrow\">PolynomialFeatures</label><div class=\"sk-toggleable__content\"><pre>PolynomialFeatures(degree=3)</pre></div></div></div><div class=\"sk-item\"><div class=\"sk-estimator sk-toggleable\"><input class=\"sk-toggleable__control sk-hidden--visually\" id=\"sk-estimator-id-6\" type=\"checkbox\" ><label for=\"sk-estimator-id-6\" class=\"sk-toggleable__label sk-toggleable__label-arrow\">LinearRegression</label><div class=\"sk-toggleable__content\"><pre>LinearRegression()</pre></div></div></div></div></div></div></div>"
            ]
          },
          "metadata": {},
          "execution_count": 135
        }
      ]
    },
    {
      "cell_type": "code",
      "source": [
        "model.named_steps"
      ],
      "metadata": {
        "colab": {
          "base_uri": "https://localhost:8080/"
        },
        "id": "7snbLz3JbVBf",
        "outputId": "a971cfed-d392-4fe4-be50-94587a54fdb0"
      },
      "execution_count": null,
      "outputs": [
        {
          "output_type": "execute_result",
          "data": {
            "text/plain": [
              "{'poly': PolynomialFeatures(degree=3), 'linear': LinearRegression()}"
            ]
          },
          "metadata": {},
          "execution_count": 136
        }
      ]
    },
    {
      "cell_type": "code",
      "source": [
        "np.round(model.named_steps['linear'].coef_,2)"
      ],
      "metadata": {
        "colab": {
          "base_uri": "https://localhost:8080/"
        },
        "id": "sSMUL6Epbe1s",
        "outputId": "c54dfee6-df13-4644-ad43-d8564a3e32a4"
      },
      "execution_count": null,
      "outputs": [
        {
          "output_type": "execute_result",
          "data": {
            "text/plain": [
              "array([0.  , 0.18, 0.18, 0.36, 0.54, 0.72, 0.72, 1.08, 1.62, 2.34])"
            ]
          },
          "metadata": {},
          "execution_count": 138
        }
      ]
    },
    {
      "cell_type": "markdown",
      "source": [
        "# 과대적합 예제"
      ],
      "metadata": {
        "id": "nMXzhLoxcdIY"
      }
    },
    {
      "cell_type": "markdown",
      "source": [
        "다항회귀를 이용하여 과대적합을 알아보자"
      ],
      "metadata": {
        "id": "gF-SWI8ichAG"
      }
    },
    {
      "cell_type": "code",
      "source": [
        "import numpy as np\n",
        "import matplotlib.pyplot as plt\n",
        "from sklearn.pipeline import Pipeline\n",
        "from sklearn.preprocessing import PolynomialFeatures\n",
        "from sklearn.linear_model import LinearRegression\n",
        "from sklearn.model_selection import cross_val_score\n",
        "%matplotlib inline"
      ],
      "metadata": {
        "id": "9LhCjqcvbl78"
      },
      "execution_count": null,
      "outputs": []
    },
    {
      "cell_type": "markdown",
      "source": [
        " 코사인 함수의 y 값에 노이즈를 주어 샘플데이터 만들기\n"
      ],
      "metadata": {
        "id": "aikBTwdTfHC9"
      }
    },
    {
      "cell_type": "code",
      "source": [
        "def true_func(X):\n",
        "    return np.cos(1.5 * np.pi * X)"
      ],
      "metadata": {
        "id": "loTzG0FjcoEC"
      },
      "execution_count": null,
      "outputs": []
    },
    {
      "cell_type": "code",
      "source": [
        "np.random.seed(0)\n",
        "n_samples = 30\n",
        "X = np.sort(np.random.rand(n_samples))"
      ],
      "metadata": {
        "id": "gilytNcUfZAm"
      },
      "execution_count": null,
      "outputs": []
    },
    {
      "cell_type": "code",
      "source": [
        "X"
      ],
      "metadata": {
        "colab": {
          "base_uri": "https://localhost:8080/"
        },
        "id": "7-4c0akKfnKQ",
        "outputId": "7b676d4d-1bdd-491e-e199-ecbb6f49ef9b"
      },
      "execution_count": null,
      "outputs": [
        {
          "output_type": "execute_result",
          "data": {
            "text/plain": [
              "array([0.0202184 , 0.07103606, 0.0871293 , 0.11827443, 0.14335329,\n",
              "       0.38344152, 0.41466194, 0.4236548 , 0.43758721, 0.46147936,\n",
              "       0.52184832, 0.52889492, 0.54488318, 0.5488135 , 0.56804456,\n",
              "       0.60276338, 0.63992102, 0.64589411, 0.71518937, 0.77815675,\n",
              "       0.78052918, 0.79172504, 0.79915856, 0.83261985, 0.87001215,\n",
              "       0.891773  , 0.92559664, 0.94466892, 0.96366276, 0.97861834])"
            ]
          },
          "metadata": {},
          "execution_count": 142
        }
      ]
    },
    {
      "cell_type": "code",
      "source": [
        "X.shape"
      ],
      "metadata": {
        "colab": {
          "base_uri": "https://localhost:8080/"
        },
        "id": "vbkm624Lfu4J",
        "outputId": "c68f55c1-a7ff-41f8-c7af-8a3753e0d045"
      },
      "execution_count": null,
      "outputs": [
        {
          "output_type": "execute_result",
          "data": {
            "text/plain": [
              "(30,)"
            ]
          },
          "metadata": {},
          "execution_count": 143
        }
      ]
    },
    {
      "cell_type": "code",
      "source": [
        "y = true_func(X) + np.random.randn(n_samples)*0.1"
      ],
      "metadata": {
        "id": "9YsXBv8rf9DL"
      },
      "execution_count": null,
      "outputs": []
    },
    {
      "cell_type": "code",
      "source": [
        "plt.scatter(X, y)"
      ],
      "metadata": {
        "colab": {
          "base_uri": "https://localhost:8080/",
          "height": 447
        },
        "id": "NUS6OFhkgMn3",
        "outputId": "9e6298a3-5cf7-40a0-d3c8-2b97a13018c0"
      },
      "execution_count": null,
      "outputs": [
        {
          "output_type": "execute_result",
          "data": {
            "text/plain": [
              "<matplotlib.collections.PathCollection at 0x78b4751d4430>"
            ]
          },
          "metadata": {},
          "execution_count": 145
        },
        {
          "output_type": "display_data",
          "data": {
            "text/plain": [
              "<Figure size 640x480 with 1 Axes>"
            ],
            "image/png": "[encoded data removed]"
          },
          "metadata": {}
        }
      ]
    },
    {
      "cell_type": "code",
      "source": [
        "X_test = np.linspace(0, 1, 100)\n",
        "y_test = true_func(X_test)"
      ],
      "metadata": {
        "id": "pl59vBHrgQyV"
      },
      "execution_count": null,
      "outputs": []
    },
    {
      "cell_type": "code",
      "source": [
        "plt.scatter(X, y, c='k', label='samples')\n",
        "plt.plot(X_test, y_test, '--', label='True function')\n",
        "plt.legend()"
      ],
      "metadata": {
        "colab": {
          "base_uri": "https://localhost:8080/",
          "height": 447
        },
        "id": "5bp8WJLsg2lx",
        "outputId": "7ca4d874-7793-4313-ba14-af7f2d1ea8b4"
      },
      "execution_count": null,
      "outputs": [
        {
          "output_type": "execute_result",
          "data": {
            "text/plain": [
              "<matplotlib.legend.Legend at 0x78b4711ba290>"
            ]
          },
          "metadata": {},
          "execution_count": 148
        },
        {
          "output_type": "display_data",
          "data": {
            "text/plain": [
              "<Figure size 640x480 with 1 Axes>"
            ],
            "image/png": "[encoded data removed]"
          },
          "metadata": {}
        }
      ]
    },
    {
      "cell_type": "markdown",
      "source": [
        "다항 회귀 구하기 : 차수를 1, 4, 15 차"
      ],
      "metadata": {
        "id": "cmRaGgTjhxVj"
      }
    },
    {
      "cell_type": "code",
      "source": [
        "X.shape"
      ],
      "metadata": {
        "colab": {
          "base_uri": "https://localhost:8080/"
        },
        "id": "3VU3TTmzi4x5",
        "outputId": "09334ecd-6d1f-480c-8ecd-2baa6f7c3dba"
      },
      "execution_count": null,
      "outputs": [
        {
          "output_type": "execute_result",
          "data": {
            "text/plain": [
              "(30,)"
            ]
          },
          "metadata": {},
          "execution_count": 150
        }
      ]
    },
    {
      "cell_type": "code",
      "source": [
        "degrees = [1, 4, 15]"
      ],
      "metadata": {
        "id": "9cKvJia8hBkm"
      },
      "execution_count": null,
      "outputs": []
    },
    {
      "cell_type": "code",
      "source": [
        "result = {}\n",
        "for i in degrees:\n",
        "    pipe = Pipeline([('polynomial_features', PolynomialFeatures(degree=i, include_bias=False)),\n",
        "                     ('linear_regression', LinearRegression())])\n",
        "    scores = cross_val_score(pipe, X.reshape(-1, 1), y, scoring='neg_mean_squared_error', cv=10)\n",
        "    pipe.fit(X.reshape(-1, 1), y)\n",
        "    result[i] = (pipe, -scores.mean(), scores.std())"
      ],
      "metadata": {
        "id": "i7-LrkGGh8DW"
      },
      "execution_count": null,
      "outputs": []
    },
    {
      "cell_type": "code",
      "source": [
        "result"
      ],
      "metadata": {
        "colab": {
          "base_uri": "https://localhost:8080/"
        },
        "id": "ZdE3Sw2EkKvU",
        "outputId": "d3f7853e-b210-496b-9ed8-dbfa9d444fcb"
      },
      "execution_count": null,
      "outputs": [
        {
          "output_type": "execute_result",
          "data": {
            "text/plain": [
              "{1: (Pipeline(steps=[('polynomial_features',\n",
              "                   PolynomialFeatures(degree=1, include_bias=False)),\n",
              "                  ('linear_regression', LinearRegression())]),\n",
              "  0.4077289625098685,\n",
              "  0.4254685884064717),\n",
              " 4: (Pipeline(steps=[('polynomial_features',\n",
              "                   PolynomialFeatures(degree=4, include_bias=False)),\n",
              "                  ('linear_regression', LinearRegression())]),\n",
              "  0.04320874987232064,\n",
              "  0.07077938529772179),\n",
              " 15: (Pipeline(steps=[('polynomial_features',\n",
              "                   PolynomialFeatures(degree=15, include_bias=False)),\n",
              "                  ('linear_regression', LinearRegression())]),\n",
              "  181238256.56423894,\n",
              "  543702354.2232267)}"
            ]
          },
          "metadata": {},
          "execution_count": 152
        }
      ]
    },
    {
      "cell_type": "markdown",
      "source": [
        "1e-2 = 0.01"
      ],
      "metadata": {
        "id": "YC8abB1Fls2h"
      }
    },
    {
      "cell_type": "code",
      "source": [
        "for i in result:\n",
        "    w = result[i][0].named_steps['linear_regression'].coef_\n",
        "    mses = result[i][1]\n",
        "    print(f' degree={i} 의 MSE : {mses:.2e}')\n",
        "    print(f' degree={i} 의 회귀 계수 : \\n {w}')\n",
        "    print('=='*50)"
      ],
      "metadata": {
        "colab": {
          "base_uri": "https://localhost:8080/"
        },
        "id": "WVGrgd25kL2A",
        "outputId": "73b7417f-76c7-4503-f574-6174ded9e409"
      },
      "execution_count": null,
      "outputs": [
        {
          "output_type": "stream",
          "name": "stdout",
          "text": [
            " degree=1 의 MSE : 4.08e-01\n",
            " degree=1 의 회귀 계수 : \n",
            " [-1.60931179]\n",
            "====================================================================================================\n",
            " degree=4 의 MSE : 4.32e-02\n",
            " degree=4 의 회귀 계수 : \n",
            " [  0.46754142 -17.78954475  23.5926603   -7.26289872]\n",
            "====================================================================================================\n",
            " degree=15 의 MSE : 1.81e+08\n",
            " degree=15 의 회귀 계수 : \n",
            " [-2.98293082e+03  1.03899393e+05 -1.87416123e+06  2.03716219e+07\n",
            " -1.44873283e+08  7.09315363e+08 -2.47065792e+09  6.24561050e+09\n",
            " -1.15676510e+10  1.56894936e+10 -1.54006023e+10  1.06457264e+10\n",
            " -4.91377530e+09  1.35919645e+09 -1.70380786e+08]\n",
            "====================================================================================================\n"
          ]
        }
      ]
    },
    {
      "cell_type": "code",
      "source": [
        "X_test.shape"
      ],
      "metadata": {
        "colab": {
          "base_uri": "https://localhost:8080/"
        },
        "id": "jXhlF-MSm2DG",
        "outputId": "a2d979f6-c159-42b5-c53c-38258ab905ef"
      },
      "execution_count": null,
      "outputs": [
        {
          "output_type": "execute_result",
          "data": {
            "text/plain": [
              "(100,)"
            ]
          },
          "metadata": {},
          "execution_count": 163
        }
      ]
    },
    {
      "cell_type": "code",
      "source": [
        "for i in result:\n",
        "    pipelines = result[i][0]\n",
        "    pred = pipelines.predict(X_test[:, np.newaxis])\n",
        "    print(pred)"
      ],
      "metadata": {
        "id": "x9j0S3JHkxpf"
      },
      "execution_count": null,
      "outputs": []
    },
    {
      "cell_type": "code",
      "source": [
        "plt.figure(figsize = (14, 5))\n",
        "j=0\n",
        "for i in result:\n",
        "    pipelines = result[i][0]\n",
        "    mean_score = result[i][1]\n",
        "    std_score = result[i][2]\n",
        "    pred = pipelines.predict(X_test[:, np.newaxis])\n",
        "    j+=1\n",
        "    ax = plt.subplot(1, len(degrees), j)\n",
        "    plt.plot(X_test, pred, label='Model')\n",
        "    plt.scatter(X, y, c='k', label='samples')\n",
        "    plt.plot(X_test, y_test, '--', label='y_test')\n",
        "    plt.xlim((0, 1))\n",
        "    plt.ylim(-2, 2)\n",
        "    plt.xlabel('x')\n",
        "    plt.ylabel('y')\n",
        "    plt.legend(loc='best')\n",
        "    plt.title(f'Degree {i} \\n MSE = {mean_score:.2e} (+/- {std_score:.2e})')\n",
        "    plt.setp(ax, xticks=(), yticks=())"
      ],
      "metadata": {
        "colab": {
          "base_uri": "https://localhost:8080/",
          "height": 371
        },
        "id": "qHtMZwwZnCH_",
        "outputId": "2f2ad7eb-0dc1-41fd-9459-bc211dce0831"
      },
      "execution_count": null,
      "outputs": [
        {
          "output_type": "display_data",
          "data": {
            "text/plain": [
              "<Figure size 1400x500 with 3 Axes>"
            ],
            "image/png": "[encoded data removed]"
          },
          "metadata": {}
        }
      ]
    },
    {
      "cell_type": "code",
      "source": [],
      "metadata": {
        "id": "whz4bHZVpuCJ"
      },
      "execution_count": null,
      "outputs": []
    }
  ]
}