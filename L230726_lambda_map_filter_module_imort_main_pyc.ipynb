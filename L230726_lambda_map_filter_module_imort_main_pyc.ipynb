{
  "nbformat": 4,
  "nbformat_minor": 0,
  "metadata": {
    "colab": {
      "provenance": [],
      "include_colab_link": true
    },
    "kernelspec": {
      "name": "python3",
      "display_name": "Python 3"
    },
    "language_info": {
      "name": "python"
    }
  },
  "cells": [
    {
      "cell_type": "markdown",
      "metadata": {
        "id": "view-in-github",
        "colab_type": "text"
      },
      "source": [
        "<a href=\"https://colab.research.google.com/github/ohjeonsuk/python-education/blob/main/L230726_lambda_map_filter_module_imort_main_pyc.ipynb\" target=\"_parent\"><img src=\"https://colab.research.google.com/assets/colab-badge.svg\" alt=\"Open In Colab\"/></a>"
      ]
    },
    {
      "cell_type": "code",
      "execution_count": null,
      "metadata": {
        "colab": {
          "base_uri": "https://localhost:8080/"
        },
        "id": "fwlZl7swceX1",
        "outputId": "cf33d04d-2c21-4022-ac07-5ec3780256da"
      },
      "outputs": [
        {
          "output_type": "execute_result",
          "data": {
            "text/plain": [
              "11.574074074074074"
            ]
          },
          "metadata": {},
          "execution_count": 7
        }
      ],
      "source": [
        "(10000000000/10000)/(3600*24)"
      ]
    },
    {
      "cell_type": "code",
      "source": [
        "def isPotentialGene(dna):\n",
        "    if (len(dna) % 3) != 0:\n",
        "        return False\n",
        "    if not dna.startswith('ATG'):\n",
        "        return False\n",
        "    for i in range(len(dna)-3):\n",
        "        if i % 3 ==0:\n",
        "            if dna[i:i+3] == 'TAA': # i=0, dna[0:3] = 0, 1, 2, i=3, dna[3:6]\n",
        "                return False\n",
        "            if dna[i:i+3] == 'TAG':\n",
        "                return False\n",
        "            if dna[i:i+3] == 'TGA':\n",
        "                return False\n",
        "    if dna.endswith('TAA'):\n",
        "        return True\n",
        "    if dna.endswith('TAG'):\n",
        "        return True\n",
        "    if dna.endswith('TGA'):\n",
        "        return True\n",
        "    return False"
      ],
      "metadata": {
        "id": "ao3rZyJWgM0W"
      },
      "execution_count": null,
      "outputs": []
    },
    {
      "cell_type": "code",
      "source": [],
      "metadata": {
        "id": "C3gxDyACnrOJ"
      },
      "execution_count": null,
      "outputs": []
    },
    {
      "cell_type": "markdown",
      "source": [
        "#lambda 함수\n",
        "\n",
        "  - 일반적인 함수를 한 줄의 문(Statement)으로 정의할 수 있는 새로운 함수 정의\n",
        "    - 함수 몸체에는 식(expression)만이 올 수 있다.\n",
        "  - 대부분의 경우 함수 이름을 정의하지 않으면서 일회성으로 활용할 함수를 정의할 때 활용\n",
        "  - 구문(syntax)\n",
        "    - lambda 콤마로 구분된 인수들: 식(expression)\n",
        "\n",
        "\n",
        "<파이썬3 바이블, 이강성, 프리렉>"
      ],
      "metadata": {
        "id": "qxGDrWklnpjM"
      }
    },
    {
      "cell_type": "code",
      "source": [
        "f = lambda x, y : x+y"
      ],
      "metadata": {
        "id": "B3FTFTwmnt9P"
      },
      "execution_count": null,
      "outputs": []
    },
    {
      "cell_type": "code",
      "source": [
        "def f(x, y):\n",
        "    return x+y"
      ],
      "metadata": {
        "id": "3g6PsGdWoV89"
      },
      "execution_count": null,
      "outputs": []
    },
    {
      "cell_type": "code",
      "source": [
        "f(1, 2)"
      ],
      "metadata": {
        "colab": {
          "base_uri": "https://localhost:8080/"
        },
        "id": "JCRGkuBDoYtd",
        "outputId": "45e9a626-7cb0-4b06-9cd7-49641d170e0f"
      },
      "execution_count": null,
      "outputs": [
        {
          "output_type": "execute_result",
          "data": {
            "text/plain": [
              "3"
            ]
          },
          "metadata": {},
          "execution_count": 11
        }
      ]
    },
    {
      "cell_type": "code",
      "source": [
        "f('test', 'python')"
      ],
      "metadata": {
        "colab": {
          "base_uri": "https://localhost:8080/",
          "height": 36
        },
        "id": "8hhziO-LojB1",
        "outputId": "90e4996b-28c6-46f7-9478-9eed9ad58d8e"
      },
      "execution_count": null,
      "outputs": [
        {
          "output_type": "execute_result",
          "data": {
            "text/plain": [
              "'testpython'"
            ],
            "application/vnd.google.colaboratory.intrinsic+json": {
              "type": "string"
            }
          },
          "metadata": {},
          "execution_count": 12
        }
      ]
    },
    {
      "cell_type": "code",
      "source": [
        "f([1, 2], [3, 4])"
      ],
      "metadata": {
        "colab": {
          "base_uri": "https://localhost:8080/"
        },
        "id": "b_DORmvfolx-",
        "outputId": "1ca17c41-3a37-4b2c-e4a4-c1d3b63bf21e"
      },
      "execution_count": null,
      "outputs": [
        {
          "output_type": "execute_result",
          "data": {
            "text/plain": [
              "[1, 2, 3, 4]"
            ]
          },
          "metadata": {},
          "execution_count": 13
        }
      ]
    },
    {
      "cell_type": "code",
      "source": [
        "g = lambda : 1"
      ],
      "metadata": {
        "id": "y4V2g2kTood6"
      },
      "execution_count": null,
      "outputs": []
    },
    {
      "cell_type": "code",
      "source": [
        "g()"
      ],
      "metadata": {
        "colab": {
          "base_uri": "https://localhost:8080/"
        },
        "id": "0lAZ8SGxo-K7",
        "outputId": "ffd3b9ad-4084-4f41-ec5b-1720fde03ca5"
      },
      "execution_count": null,
      "outputs": [
        {
          "output_type": "execute_result",
          "data": {
            "text/plain": [
              "1"
            ]
          },
          "metadata": {},
          "execution_count": 15
        }
      ]
    },
    {
      "cell_type": "code",
      "source": [
        "f = lambda x : x + 1"
      ],
      "metadata": {
        "id": "Z-0HkgQTpK-e"
      },
      "execution_count": null,
      "outputs": []
    },
    {
      "cell_type": "code",
      "source": [
        "f(2)"
      ],
      "metadata": {
        "colab": {
          "base_uri": "https://localhost:8080/"
        },
        "id": "YEBR2fIGpOOS",
        "outputId": "c008b2e1-87b1-4f3c-8cd3-24208612e84a"
      },
      "execution_count": null,
      "outputs": [
        {
          "output_type": "execute_result",
          "data": {
            "text/plain": [
              "3"
            ]
          },
          "metadata": {},
          "execution_count": 19
        }
      ]
    },
    {
      "cell_type": "code",
      "source": [
        "incre = lambda x, i = 1 : x + i"
      ],
      "metadata": {
        "id": "TtGjqKn4o_2O"
      },
      "execution_count": null,
      "outputs": []
    },
    {
      "cell_type": "code",
      "source": [
        "incre(2)"
      ],
      "metadata": {
        "colab": {
          "base_uri": "https://localhost:8080/"
        },
        "id": "XtWQ9bhapJzN",
        "outputId": "f4789461-6ba4-45f1-c49d-b5157db6ebcf"
      },
      "execution_count": null,
      "outputs": [
        {
          "output_type": "execute_result",
          "data": {
            "text/plain": [
              "3"
            ]
          },
          "metadata": {},
          "execution_count": 20
        }
      ]
    },
    {
      "cell_type": "code",
      "source": [
        "incre(2, 10)"
      ],
      "metadata": {
        "colab": {
          "base_uri": "https://localhost:8080/"
        },
        "id": "_Rf1x2x4pX8J",
        "outputId": "45eaa84d-29c1-4e89-b33c-72fc061081d0"
      },
      "execution_count": null,
      "outputs": [
        {
          "output_type": "execute_result",
          "data": {
            "text/plain": [
              "12"
            ]
          },
          "metadata": {},
          "execution_count": 21
        }
      ]
    },
    {
      "cell_type": "code",
      "source": [
        "vargs = lambda x, *args : args"
      ],
      "metadata": {
        "id": "va53rvlWpjZG"
      },
      "execution_count": null,
      "outputs": []
    },
    {
      "cell_type": "code",
      "source": [
        "vargs(1, 2, 3, 4, 5)"
      ],
      "metadata": {
        "colab": {
          "base_uri": "https://localhost:8080/"
        },
        "id": "nPsYcmC3p3Tm",
        "outputId": "94d6d1de-a07a-4b5e-fc36-f7aaece1b10e"
      },
      "execution_count": null,
      "outputs": [
        {
          "output_type": "execute_result",
          "data": {
            "text/plain": [
              "(2, 3, 4, 5)"
            ]
          },
          "metadata": {},
          "execution_count": 27
        }
      ]
    },
    {
      "cell_type": "code",
      "source": [
        "def f1(x):\n",
        "    return x*x + 3*x - 10"
      ],
      "metadata": {
        "id": "W9CBWM4pqE1L"
      },
      "execution_count": null,
      "outputs": []
    },
    {
      "cell_type": "code",
      "source": [
        "def f2(x):\n",
        "    return x*x*x"
      ],
      "metadata": {
        "id": "E_HiBCpTqZWQ"
      },
      "execution_count": null,
      "outputs": []
    },
    {
      "cell_type": "code",
      "source": [
        "def g(func):\n",
        "    return [func(x) for x in range(-2, 3)]"
      ],
      "metadata": {
        "id": "q50i5PzJqfkl"
      },
      "execution_count": null,
      "outputs": []
    },
    {
      "cell_type": "code",
      "source": [
        "g(f1)"
      ],
      "metadata": {
        "colab": {
          "base_uri": "https://localhost:8080/"
        },
        "id": "LBnzVt-4qxyA",
        "outputId": "23a566f9-4c25-46be-b4fa-0bcc9f63844a"
      },
      "execution_count": null,
      "outputs": [
        {
          "output_type": "execute_result",
          "data": {
            "text/plain": [
              "[2, 3, 4, 5, 6]"
            ]
          },
          "metadata": {},
          "execution_count": 37
        }
      ]
    },
    {
      "cell_type": "code",
      "source": [
        "g(f2)"
      ],
      "metadata": {
        "id": "EMLme2f6q07d"
      },
      "execution_count": null,
      "outputs": []
    },
    {
      "cell_type": "code",
      "source": [
        "g(lambda x: x*x + 3*x - 10)"
      ],
      "metadata": {
        "colab": {
          "base_uri": "https://localhost:8080/"
        },
        "id": "MeAhBWaPrT8D",
        "outputId": "d758d779-e3fb-42ff-9f37-f3820874c4c0"
      },
      "execution_count": null,
      "outputs": [
        {
          "output_type": "execute_result",
          "data": {
            "text/plain": [
              "[-12, -12, -10, -6, 0]"
            ]
          },
          "metadata": {},
          "execution_count": 39
        }
      ]
    },
    {
      "cell_type": "code",
      "source": [
        "g(lambda x: x*x*x)"
      ],
      "metadata": {
        "colab": {
          "base_uri": "https://localhost:8080/"
        },
        "id": "pNnSspAKuJq-",
        "outputId": "a931af2f-9ca1-4574-d9b7-7cc7f6e13b63"
      },
      "execution_count": null,
      "outputs": [
        {
          "output_type": "execute_result",
          "data": {
            "text/plain": [
              "[-8, -1, 0, 1, 8]"
            ]
          },
          "metadata": {},
          "execution_count": 40
        }
      ]
    },
    {
      "cell_type": "markdown",
      "source": [
        "람다함수 : 더하기, 빼기, 곱하기, 나누기\n",
        "\n",
        "위에서 만든 함수들을 리스트에 담에 주세요"
      ],
      "metadata": {
        "id": "1u9rG14Nuapg"
      }
    },
    {
      "cell_type": "code",
      "source": [
        "func_list = [\n",
        "    lambda x, y: x + y,\n",
        "    lambda x, y: x - y,\n",
        "    lambda x, y: x * y,\n",
        "    lambda x, y: x / y\n",
        "]"
      ],
      "metadata": {
        "id": "w-GuyJ_6uQG0"
      },
      "execution_count": null,
      "outputs": []
    },
    {
      "cell_type": "code",
      "source": [
        "for i in func_list:\n",
        "    print(i(2, 1))"
      ],
      "metadata": {
        "colab": {
          "base_uri": "https://localhost:8080/"
        },
        "id": "Gl6Hyy7_vE7m",
        "outputId": "d88ded4c-c510-47d2-8ac6-1d91749a2387"
      },
      "execution_count": null,
      "outputs": [
        {
          "output_type": "stream",
          "name": "stdout",
          "text": [
            "3\n",
            "1\n",
            "2\n",
            "2.0\n"
          ]
        }
      ]
    },
    {
      "cell_type": "code",
      "source": [
        "plus = lambda x,y:x+y\n",
        "minus = lambda x,y:x-y\n",
        "multiply = lambda x,y:x*y\n",
        "divide = lambda x,y:x/y\n",
        "\n",
        "list_operation = [plus, minus, multiply, divide]"
      ],
      "metadata": {
        "id": "AylQPymJvI6z"
      },
      "execution_count": null,
      "outputs": []
    },
    {
      "cell_type": "code",
      "source": [
        "for i in list_operation:\n",
        "    print(i(2,1))"
      ],
      "metadata": {
        "colab": {
          "base_uri": "https://localhost:8080/"
        },
        "id": "Jj_nBWL5ve4s",
        "outputId": "8c01db1b-8798-4767-a870-5ac41790f616"
      },
      "execution_count": null,
      "outputs": [
        {
          "output_type": "stream",
          "name": "stdout",
          "text": [
            "3\n",
            "1\n",
            "2\n",
            "2.0\n"
          ]
        }
      ]
    },
    {
      "cell_type": "code",
      "source": [
        "def increment(n):\n",
        "    return n+1\n",
        "def square(n):\n",
        "    return n**2"
      ],
      "metadata": {
        "id": "iDBdTYwevmTq"
      },
      "execution_count": null,
      "outputs": []
    },
    {
      "cell_type": "code",
      "source": [
        "for data, action in [(2, increment), (4, square)]:\n",
        "    print(action(data))"
      ],
      "metadata": {
        "colab": {
          "base_uri": "https://localhost:8080/"
        },
        "id": "ZJj04_3BwLNd",
        "outputId": "47a1ddba-6f2b-4c2e-9883-1e0f0088cd4d"
      },
      "execution_count": null,
      "outputs": [
        {
          "output_type": "stream",
          "name": "stdout",
          "text": [
            "3\n",
            "16\n"
          ]
        }
      ]
    },
    {
      "cell_type": "markdown",
      "source": [
        "#map\n",
        "\n",
        "- seq 시퀀스 자료형이 지닌 각 원소값들에 대해 function에 적용한 원소를 지닌 map 객체를 반환한다.\n",
        "    - 이후 동일한 자료형으로 다시 변환 필요"
      ],
      "metadata": {
        "id": "GReAQHevwryC"
      }
    },
    {
      "cell_type": "code",
      "source": [
        "def f(x):\n",
        "    return x*x"
      ],
      "metadata": {
        "id": "Zko26G-MwWGj"
      },
      "execution_count": null,
      "outputs": []
    },
    {
      "cell_type": "code",
      "source": [
        "data = [1, 2, 3, 4]"
      ],
      "metadata": {
        "id": "4m1GLAuCxBwB"
      },
      "execution_count": null,
      "outputs": []
    },
    {
      "cell_type": "code",
      "source": [
        "list_result = []\n",
        "for i in data:\n",
        "    list_result.append(f(i))"
      ],
      "metadata": {
        "id": "GT8AQWlqxDpt"
      },
      "execution_count": null,
      "outputs": []
    },
    {
      "cell_type": "code",
      "source": [
        "list_result"
      ],
      "metadata": {
        "colab": {
          "base_uri": "https://localhost:8080/"
        },
        "id": "28HbqPICxOga",
        "outputId": "253bee4d-cb44-4741-b3aa-01754cb7b2b6"
      },
      "execution_count": null,
      "outputs": [
        {
          "output_type": "execute_result",
          "data": {
            "text/plain": [
              "[1, 4, 9, 16]"
            ]
          },
          "metadata": {},
          "execution_count": 55
        }
      ]
    },
    {
      "cell_type": "code",
      "source": [
        "result_map = map(f, data)"
      ],
      "metadata": {
        "id": "Dd3pHfOVxc85"
      },
      "execution_count": null,
      "outputs": []
    },
    {
      "cell_type": "code",
      "source": [
        "type(result_map)"
      ],
      "metadata": {
        "colab": {
          "base_uri": "https://localhost:8080/"
        },
        "id": "cNiBgFTBxgyf",
        "outputId": "36f1a42a-483f-4234-abac-93e676ac290e"
      },
      "execution_count": null,
      "outputs": [
        {
          "output_type": "execute_result",
          "data": {
            "text/plain": [
              "map"
            ]
          },
          "metadata": {},
          "execution_count": 57
        }
      ]
    },
    {
      "cell_type": "code",
      "source": [
        "result_map"
      ],
      "metadata": {
        "colab": {
          "base_uri": "https://localhost:8080/"
        },
        "id": "09p8H2J7xqR2",
        "outputId": "cf227c58-4a07-46b2-ea9e-7b217ee8d93e"
      },
      "execution_count": null,
      "outputs": [
        {
          "output_type": "execute_result",
          "data": {
            "text/plain": [
              "<map at 0x794e0175a2f0>"
            ]
          },
          "metadata": {},
          "execution_count": 59
        }
      ]
    },
    {
      "cell_type": "code",
      "source": [
        "list(result_map)"
      ],
      "metadata": {
        "colab": {
          "base_uri": "https://localhost:8080/"
        },
        "id": "d4YGxYYsxsfM",
        "outputId": "55bbba29-3334-4c24-854a-73d0346eb649"
      },
      "execution_count": null,
      "outputs": [
        {
          "output_type": "execute_result",
          "data": {
            "text/plain": [
              "[1, 4, 9, 16]"
            ]
          },
          "metadata": {},
          "execution_count": 60
        }
      ]
    },
    {
      "cell_type": "code",
      "source": [
        "list(map(f,data))"
      ],
      "metadata": {
        "colab": {
          "base_uri": "https://localhost:8080/"
        },
        "id": "uRJvMWczx03q",
        "outputId": "fad5f9b5-b7b8-45fc-9836-dcae4dd07f48"
      },
      "execution_count": null,
      "outputs": [
        {
          "output_type": "execute_result",
          "data": {
            "text/plain": [
              "[1, 4, 9, 16]"
            ]
          },
          "metadata": {},
          "execution_count": 61
        }
      ]
    },
    {
      "cell_type": "code",
      "source": [
        "list(map(lambda x: x*x, data))"
      ],
      "metadata": {
        "colab": {
          "base_uri": "https://localhost:8080/"
        },
        "id": "s-k7Umo0x7uw",
        "outputId": "97818684-39da-426d-d1bd-fa4613aaedd3"
      },
      "execution_count": null,
      "outputs": [
        {
          "output_type": "execute_result",
          "data": {
            "text/plain": [
              "[1, 4, 9, 16]"
            ]
          },
          "metadata": {},
          "execution_count": 62
        }
      ]
    },
    {
      "cell_type": "code",
      "source": [
        "list(map(lambda x: x*x + 3*x + 5, range(10)))"
      ],
      "metadata": {
        "colab": {
          "base_uri": "https://localhost:8080/"
        },
        "id": "XAPVpDmKyI3W",
        "outputId": "8bbe0106-301d-4348-9e59-763d53295cfe"
      },
      "execution_count": null,
      "outputs": [
        {
          "output_type": "execute_result",
          "data": {
            "text/plain": [
              "[5, 9, 15, 23, 33, 45, 59, 75, 93, 113]"
            ]
          },
          "metadata": {},
          "execution_count": 63
        }
      ]
    },
    {
      "cell_type": "code",
      "source": [
        "['Hello', 'python', 'Programming']"
      ],
      "metadata": {
        "colab": {
          "base_uri": "https://localhost:8080/"
        },
        "id": "Ev7G0Gfqykqn",
        "outputId": "f669993c-309c-4d98-c334-5e6245250d68"
      },
      "execution_count": null,
      "outputs": [
        {
          "output_type": "execute_result",
          "data": {
            "text/plain": [
              "['Hello', 'python', 'Programming']"
            ]
          },
          "metadata": {},
          "execution_count": 64
        }
      ]
    },
    {
      "cell_type": "markdown",
      "source": [
        "상기 리스트 원소들의 글자수를 구하는 함수를 작성하시오\n",
        "\n",
        "map lambda len  사용\n"
      ],
      "metadata": {
        "id": "ETHZQ100zAO1"
      }
    },
    {
      "cell_type": "code",
      "source": [
        "data_list = ['hello', 'python', 'programming']\n",
        "list(map(lambda x : len(x),data_list))"
      ],
      "metadata": {
        "colab": {
          "base_uri": "https://localhost:8080/"
        },
        "id": "POZbYWk9yrLk",
        "outputId": "8d68f807-3630-4c29-fd30-42ad436340ce"
      },
      "execution_count": null,
      "outputs": [
        {
          "output_type": "execute_result",
          "data": {
            "text/plain": [
              "[5, 6, 11]"
            ]
          },
          "metadata": {},
          "execution_count": 65
        }
      ]
    },
    {
      "cell_type": "code",
      "source": [
        "xx = list(range(1, 6))\n",
        "yy = list(range(6, 11))\n",
        "z = list(map(lambda x, y : x+y, xx, yy))\n",
        "print(z)\n",
        "z = map(lambda x, y : x+y, xx, yy)"
      ],
      "metadata": {
        "colab": {
          "base_uri": "https://localhost:8080/"
        },
        "id": "MAISqdF70gL2",
        "outputId": "a00c84ab-7ac0-42dc-a192-6b767a54e242"
      },
      "execution_count": null,
      "outputs": [
        {
          "output_type": "stream",
          "name": "stdout",
          "text": [
            "[7, 9, 11, 13, 15]\n"
          ]
        }
      ]
    },
    {
      "cell_type": "code",
      "source": [
        "z"
      ],
      "metadata": {
        "colab": {
          "base_uri": "https://localhost:8080/"
        },
        "id": "vfz825a-0w11",
        "outputId": "d5f7bebf-aa36-4792-e146-bc68dc42dbc7"
      },
      "execution_count": null,
      "outputs": [
        {
          "output_type": "execute_result",
          "data": {
            "text/plain": [
              "<map at 0x794e01759210>"
            ]
          },
          "metadata": {},
          "execution_count": 73
        }
      ]
    },
    {
      "cell_type": "code",
      "source": [
        "next(z)"
      ],
      "metadata": {
        "colab": {
          "base_uri": "https://localhost:8080/"
        },
        "id": "-jc7p7Sh0zac",
        "outputId": "ce587b65-35e8-4c52-e672-43804d978829"
      },
      "execution_count": null,
      "outputs": [
        {
          "output_type": "execute_result",
          "data": {
            "text/plain": [
              "7"
            ]
          },
          "metadata": {},
          "execution_count": 74
        }
      ]
    },
    {
      "cell_type": "code",
      "source": [
        "next(z)"
      ],
      "metadata": {
        "colab": {
          "base_uri": "https://localhost:8080/"
        },
        "id": "n5RFfhzr05ki",
        "outputId": "3eec71a4-3cf1-415c-8722-1bd41de2daa3"
      },
      "execution_count": null,
      "outputs": [
        {
          "output_type": "execute_result",
          "data": {
            "text/plain": [
              "9"
            ]
          },
          "metadata": {},
          "execution_count": 75
        }
      ]
    },
    {
      "cell_type": "code",
      "source": [
        "next(z)"
      ],
      "metadata": {
        "colab": {
          "base_uri": "https://localhost:8080/"
        },
        "id": "Ud6QYV3-0-ag",
        "outputId": "1962b404-3f41-4d42-e76b-3821fe90763e"
      },
      "execution_count": null,
      "outputs": [
        {
          "output_type": "execute_result",
          "data": {
            "text/plain": [
              "11"
            ]
          },
          "metadata": {},
          "execution_count": 76
        }
      ]
    },
    {
      "cell_type": "code",
      "source": [
        "next(z)"
      ],
      "metadata": {
        "colab": {
          "base_uri": "https://localhost:8080/"
        },
        "id": "u18GG3Yc0_4q",
        "outputId": "340c5f95-d21e-4263-cfc2-6ba6625e18f7"
      },
      "execution_count": null,
      "outputs": [
        {
          "output_type": "execute_result",
          "data": {
            "text/plain": [
              "13"
            ]
          },
          "metadata": {},
          "execution_count": 77
        }
      ]
    },
    {
      "cell_type": "code",
      "source": [
        "next(z)"
      ],
      "metadata": {
        "colab": {
          "base_uri": "https://localhost:8080/"
        },
        "id": "vE05JONX1Cla",
        "outputId": "6996882f-5295-41e2-cac8-10de9a4438bf"
      },
      "execution_count": null,
      "outputs": [
        {
          "output_type": "execute_result",
          "data": {
            "text/plain": [
              "15"
            ]
          },
          "metadata": {},
          "execution_count": 78
        }
      ]
    },
    {
      "cell_type": "code",
      "source": [
        "next(z)"
      ],
      "metadata": {
        "colab": {
          "base_uri": "https://localhost:8080/",
          "height": 168
        },
        "id": "XMOApAnU1DFt",
        "outputId": "c2c8ca3c-1de7-4b01-f0b9-c6e74bc551c1"
      },
      "execution_count": null,
      "outputs": [
        {
          "output_type": "error",
          "ename": "StopIteration",
          "evalue": "ignored",
          "traceback": [
            "\u001b[0;31m---------------------------------------------------------------------------\u001b[0m",
            "\u001b[0;31mStopIteration\u001b[0m                             Traceback (most recent call last)",
            "\u001b[0;32m<ipython-input-79-cf9ac561a401>\u001b[0m in \u001b[0;36m<cell line: 1>\u001b[0;34m()\u001b[0m\n\u001b[0;32m----> 1\u001b[0;31m \u001b[0mnext\u001b[0m\u001b[0;34m(\u001b[0m\u001b[0mz\u001b[0m\u001b[0;34m)\u001b[0m\u001b[0;34m\u001b[0m\u001b[0;34m\u001b[0m\u001b[0m\n\u001b[0m",
            "\u001b[0;31mStopIteration\u001b[0m: "
          ]
        }
      ]
    },
    {
      "cell_type": "markdown",
      "source": [
        "#filter 내장 함수\n",
        "\n",
        "- 시퀀스 자료형이 지닌 각 원소값들에 대해 function에 적용한 결과가 참인 원소값들만을 지닌 filter 객체를 반환한다."
      ],
      "metadata": {
        "id": "q3vq2ByB1iqz"
      }
    },
    {
      "cell_type": "code",
      "source": [
        "list(filter(lambda x: x>3, [2, 3, 4, 5, 6]))"
      ],
      "metadata": {
        "colab": {
          "base_uri": "https://localhost:8080/"
        },
        "id": "_YLc1azT1EPT",
        "outputId": "70737379-9f76-40bb-fde6-b72dd5c4f614"
      },
      "execution_count": null,
      "outputs": [
        {
          "output_type": "execute_result",
          "data": {
            "text/plain": [
              "[4, 5, 6]"
            ]
          },
          "metadata": {},
          "execution_count": 81
        }
      ]
    },
    {
      "cell_type": "code",
      "source": [
        "type(filter(lambda x: x>3, [2, 3, 4, 5, 6]))"
      ],
      "metadata": {
        "colab": {
          "base_uri": "https://localhost:8080/"
        },
        "id": "Dt4hV4Pu189O",
        "outputId": "639ac06b-f5c6-405c-da08-c798f0cd50e7"
      },
      "execution_count": null,
      "outputs": [
        {
          "output_type": "execute_result",
          "data": {
            "text/plain": [
              "filter"
            ]
          },
          "metadata": {},
          "execution_count": 82
        }
      ]
    },
    {
      "cell_type": "code",
      "source": [
        "list_3 = []\n",
        "for i in [2, 3, 4, 5, 6]:\n",
        "    if i>3:\n",
        "        list_3.append(i)\n",
        "print(list_3)"
      ],
      "metadata": {
        "colab": {
          "base_uri": "https://localhost:8080/"
        },
        "id": "Qm9kUVb-2F6b",
        "outputId": "f7a6c64d-0962-4373-c0fc-2871e78a6f12"
      },
      "execution_count": null,
      "outputs": [
        {
          "output_type": "stream",
          "name": "stdout",
          "text": [
            "[4, 5, 6]\n"
          ]
        }
      ]
    },
    {
      "cell_type": "markdown",
      "source": [
        "0 ~ 10 중에서\n",
        "\n",
        "1. 홀수만 필터링 하는 코드\n",
        "\n",
        "2. 짝수만 필터링 하는 코드\n",
        "\n",
        "작성해주세요."
      ],
      "metadata": {
        "id": "tpwuRxtL2bVA"
      }
    },
    {
      "cell_type": "code",
      "source": [
        "list(filter(lambda x: x % 2 != 0, range(0, 11)))"
      ],
      "metadata": {
        "colab": {
          "base_uri": "https://localhost:8080/"
        },
        "id": "DiKcTtQu2T1W",
        "outputId": "8f444608-0269-4b83-ff57-ff375962973c"
      },
      "execution_count": null,
      "outputs": [
        {
          "output_type": "execute_result",
          "data": {
            "text/plain": [
              "[1, 3, 5, 7, 9]"
            ]
          },
          "metadata": {},
          "execution_count": 85
        }
      ]
    },
    {
      "cell_type": "code",
      "source": [
        "list(filter(lambda x: x % 2 == 0, range(0, 11)))"
      ],
      "metadata": {
        "colab": {
          "base_uri": "https://localhost:8080/"
        },
        "id": "YeXuuMvr3Mc_",
        "outputId": "4d9a843d-55bb-433f-a88b-901a475a0ab9"
      },
      "execution_count": null,
      "outputs": [
        {
          "output_type": "execute_result",
          "data": {
            "text/plain": [
              "[0, 2, 4, 6, 8, 10]"
            ]
          },
          "metadata": {},
          "execution_count": 86
        }
      ]
    },
    {
      "cell_type": "code",
      "source": [
        "list(filter(lambda x: x % 2, range(11)))"
      ],
      "metadata": {
        "colab": {
          "base_uri": "https://localhost:8080/"
        },
        "id": "vkZZcLVu3PsY",
        "outputId": "6781bdc3-dfcd-41f9-9a3e-214cde79b2ff"
      },
      "execution_count": null,
      "outputs": [
        {
          "output_type": "execute_result",
          "data": {
            "text/plain": [
              "[1, 3, 5, 7, 9]"
            ]
          },
          "metadata": {},
          "execution_count": 88
        }
      ]
    },
    {
      "cell_type": "code",
      "source": [
        "bool(1)"
      ],
      "metadata": {
        "colab": {
          "base_uri": "https://localhost:8080/"
        },
        "id": "HZ5OecHH3Uf2",
        "outputId": "00750b60-4d9d-48bf-b3f1-82bb6a22d3ee"
      },
      "execution_count": null,
      "outputs": [
        {
          "output_type": "execute_result",
          "data": {
            "text/plain": [
              "True"
            ]
          },
          "metadata": {},
          "execution_count": 89
        }
      ]
    },
    {
      "cell_type": "code",
      "source": [
        "list(filter(lambda x: x % 2 - 1, range(11)))"
      ],
      "metadata": {
        "colab": {
          "base_uri": "https://localhost:8080/"
        },
        "id": "gEaG5ikR3epj",
        "outputId": "0db28073-aa6f-4297-fc98-e3dab44575c4"
      },
      "execution_count": null,
      "outputs": [
        {
          "output_type": "execute_result",
          "data": {
            "text/plain": [
              "[0, 2, 4, 6, 8, 10]"
            ]
          },
          "metadata": {},
          "execution_count": 92
        }
      ]
    },
    {
      "cell_type": "code",
      "source": [
        "bool(0)"
      ],
      "metadata": {
        "colab": {
          "base_uri": "https://localhost:8080/"
        },
        "id": "-C5hJu-a3oq7",
        "outputId": "c02c2bbb-7d8f-4a74-96cc-9a89e2260b10"
      },
      "execution_count": null,
      "outputs": [
        {
          "output_type": "execute_result",
          "data": {
            "text/plain": [
              "False"
            ]
          },
          "metadata": {},
          "execution_count": 93
        }
      ]
    },
    {
      "cell_type": "code",
      "source": [
        "bool(-1)"
      ],
      "metadata": {
        "colab": {
          "base_uri": "https://localhost:8080/"
        },
        "id": "J0-aFw633x9f",
        "outputId": "679ad29d-fbcc-40ad-eabd-784f23e5db20"
      },
      "execution_count": null,
      "outputs": [
        {
          "output_type": "execute_result",
          "data": {
            "text/plain": [
              "True"
            ]
          },
          "metadata": {},
          "execution_count": 94
        }
      ]
    },
    {
      "cell_type": "code",
      "source": [
        "list_ = ['high', 'level', '', None, 'builtint', 'func']"
      ],
      "metadata": {
        "id": "eG0nZEiS30vy"
      },
      "execution_count": null,
      "outputs": []
    },
    {
      "cell_type": "code",
      "source": [
        "list(filter(None, list_)) # None = 아무런 조건식이 없어, 입력값 자체를 진릿값으로 사용한다는 의미로 해석"
      ],
      "metadata": {
        "colab": {
          "base_uri": "https://localhost:8080/"
        },
        "id": "FGSOSIpv4CnF",
        "outputId": "7238e7f8-a57e-4654-e9b2-40d435780be6"
      },
      "execution_count": null,
      "outputs": [
        {
          "output_type": "execute_result",
          "data": {
            "text/plain": [
              "['high', 'level', 'builtint', 'func']"
            ]
          },
          "metadata": {},
          "execution_count": 96
        }
      ]
    },
    {
      "cell_type": "code",
      "source": [
        "fnames = ['a_thumb.jpg', 'b01_thumb.jpg', 'S100_thumb.jpg', 'S100.jpg', 'b01.jpg']"
      ],
      "metadata": {
        "id": "E8xvaAB04Hry"
      },
      "execution_count": null,
      "outputs": []
    },
    {
      "cell_type": "code",
      "source": [
        "list(filter(lambda s: '_thumb' in s, fnames))"
      ],
      "metadata": {
        "colab": {
          "base_uri": "https://localhost:8080/"
        },
        "id": "6pdn6ZYk4iHt",
        "outputId": "64505fd9-ead1-47f0-a78d-5cce6429ad84"
      },
      "execution_count": null,
      "outputs": [
        {
          "output_type": "execute_result",
          "data": {
            "text/plain": [
              "['a_thumb.jpg', 'b01_thumb.jpg', 'S100_thumb.jpg']"
            ]
          },
          "metadata": {},
          "execution_count": 98
        }
      ]
    },
    {
      "cell_type": "code",
      "source": [
        "list(filter(lambda s:'_thumb' not in s, fnames))"
      ],
      "metadata": {
        "colab": {
          "base_uri": "https://localhost:8080/"
        },
        "id": "WX2M9Wtm78rJ",
        "outputId": "4f7df5df-98cc-4c09-f4f4-ea6bd1197a69"
      },
      "execution_count": null,
      "outputs": [
        {
          "output_type": "execute_result",
          "data": {
            "text/plain": [
              "['S100.jpg', 'b01.jpg']"
            ]
          },
          "metadata": {},
          "execution_count": 99
        }
      ]
    },
    {
      "cell_type": "markdown",
      "source": [
        "#함수 연습"
      ],
      "metadata": {
        "id": "GbBSWmqm9DNr"
      }
    },
    {
      "cell_type": "code",
      "source": [
        "L = [3, 2, [3, [[3], 4]]]"
      ],
      "metadata": {
        "id": "7lFjLUGR8UDw"
      },
      "execution_count": null,
      "outputs": []
    },
    {
      "cell_type": "markdown",
      "source": [
        "change_values(L, 3, 5)"
      ],
      "metadata": {
        "id": "ijx7O7bh85Tj"
      }
    },
    {
      "cell_type": "code",
      "source": [
        "[5, 2, [5, [[5], 4]]]"
      ],
      "metadata": {
        "id": "YZvCuayo825a"
      },
      "execution_count": null,
      "outputs": []
    },
    {
      "cell_type": "code",
      "source": [
        "def change_values(L, from_s, to_s):\n",
        "    for k, ele in enumerate(L):\n",
        "        if ele == from_s:\n",
        "            L[k] = to_s\n",
        "        elif type(ele) == list :\n",
        "            change_values(ele, from_s, to_s)\n",
        "    return L"
      ],
      "metadata": {
        "id": "2AtFz_FyEQJ1"
      },
      "execution_count": null,
      "outputs": []
    },
    {
      "cell_type": "code",
      "source": [
        "change_values(L, 3, 5)"
      ],
      "metadata": {
        "colab": {
          "base_uri": "https://localhost:8080/"
        },
        "id": "aaYkFnoIEeZu",
        "outputId": "a7562d57-8c7c-4be9-e2bf-59080ae68715"
      },
      "execution_count": null,
      "outputs": [
        {
          "output_type": "execute_result",
          "data": {
            "text/plain": [
              "[5, 2, [5, [[5], 4]]]"
            ]
          },
          "metadata": {},
          "execution_count": 110
        }
      ]
    },
    {
      "cell_type": "code",
      "source": [
        "def change_values(L, from_s, to_s):\n",
        "    for k, ele in enumerate(L):\n",
        "        print(k, ele)\n",
        "        if ele == from_s:\n",
        "            L[k] = to_s\n",
        "        elif type(ele) == list :\n",
        "            change_values(ele, from_s, to_s)\n",
        "    return L"
      ],
      "metadata": {
        "id": "25lnsHeEEiGT"
      },
      "execution_count": null,
      "outputs": []
    },
    {
      "cell_type": "code",
      "source": [
        "L = [3, 2, [3, [[3], 4]]]\n",
        "change_values(L, 3, 5)"
      ],
      "metadata": {
        "colab": {
          "base_uri": "https://localhost:8080/"
        },
        "id": "fq1hRLyhF40w",
        "outputId": "d4cfe07a-c23e-48b7-8cc8-b55093a75519"
      },
      "execution_count": null,
      "outputs": [
        {
          "output_type": "stream",
          "name": "stdout",
          "text": [
            "0 3\n",
            "1 2\n",
            "2 [3, [[3], 4]]\n",
            "0 3\n",
            "1 [[3], 4]\n",
            "0 [3]\n",
            "0 3\n",
            "1 4\n"
          ]
        },
        {
          "output_type": "execute_result",
          "data": {
            "text/plain": [
              "[5, 2, [5, [[5], 4]]]"
            ]
          },
          "metadata": {},
          "execution_count": 119
        }
      ]
    },
    {
      "cell_type": "code",
      "source": [
        "L"
      ],
      "metadata": {
        "colab": {
          "base_uri": "https://localhost:8080/"
        },
        "id": "Nt4vHINfF-da",
        "outputId": "4c0cf0cb-f13c-408d-891e-a642dd1baef3"
      },
      "execution_count": null,
      "outputs": [
        {
          "output_type": "execute_result",
          "data": {
            "text/plain": [
              "[5, 2, [3, [[3], 4]]]"
            ]
          },
          "metadata": {},
          "execution_count": 114
        }
      ]
    },
    {
      "cell_type": "code",
      "source": [
        "range(0, 10)"
      ],
      "metadata": {
        "colab": {
          "base_uri": "https://localhost:8080/"
        },
        "id": "Fu9iMz4UGIdo",
        "outputId": "b485e5c5-834a-4e77-ee6f-02580b0f9964"
      },
      "execution_count": null,
      "outputs": [
        {
          "output_type": "execute_result",
          "data": {
            "text/plain": [
              "range(0, 10)"
            ]
          },
          "metadata": {},
          "execution_count": 122
        }
      ]
    },
    {
      "cell_type": "markdown",
      "source": [
        "아래와 같이 작동하는 frange 함수를 만들어 주세요."
      ],
      "metadata": {
        "id": "eenQdqOllyMg"
      }
    },
    {
      "cell_type": "code",
      "source": [
        "frange(1, 3, 0.2) # [1.0, 1.2, 1.4 ... 2.8]"
      ],
      "metadata": {
        "id": "9dqj-JD8kn0A"
      },
      "execution_count": null,
      "outputs": []
    },
    {
      "cell_type": "code",
      "source": [
        "frange(3, 1, -0.2) # [3.0, 2.8, 2.6, ... 1.2]"
      ],
      "metadata": {
        "id": "5BWyqjUFk-g4"
      },
      "execution_count": null,
      "outputs": []
    },
    {
      "cell_type": "code",
      "source": [
        "frange(1, 3) # [1.0, 2.0]"
      ],
      "metadata": {
        "id": "JuOqAj30lI6z"
      },
      "execution_count": null,
      "outputs": []
    },
    {
      "cell_type": "code",
      "source": [
        "frange(4) # [0.0, 1.0, 2.0, 3.0]"
      ],
      "metadata": {
        "id": "kpIk4YbZlOcK"
      },
      "execution_count": null,
      "outputs": []
    },
    {
      "cell_type": "code",
      "source": [
        "def frange(arg1, *args): #frange(1, 3)\n",
        "    if len(args) == 0 :\n",
        "        start, stop, step = 0.0, float(arg1), 1.0\n",
        "    if len(args) == 1 :\n",
        "        start, stop, step = float(arg1), float(args[0]), 1.0\n",
        "    if len(args) == 2 :\n",
        "        start, stop, step = float(arg1), float(args[0]), float(args[1])\n",
        "    L = []\n",
        "    v = start #v = 1.0,\n",
        "    if step>0: #step = 1.0\n",
        "        while v < stop: #stop = 3.0\n",
        "            L.append(v) # 1.0, 2.0\n",
        "            v += step\n",
        "    elif step < 0: # step = -0.2\n",
        "        while v > stop: # stop = 1.0, v=3.0\n",
        "            L.append(v) #3.0, 2.8, 2.6, ... 1.2\n",
        "            v += step #1.0\n",
        "    return L"
      ],
      "metadata": {
        "id": "RBvNa90WtVzC"
      },
      "execution_count": null,
      "outputs": []
    },
    {
      "cell_type": "code",
      "source": [
        "print(frange(1, 3, 0.2))\n",
        "print(frange(3, 1, -0.2))\n",
        "print(frange(1, 3))\n",
        "print(frange(4))\n"
      ],
      "metadata": {
        "colab": {
          "base_uri": "https://localhost:8080/"
        },
        "id": "z9-x71pN4IWF",
        "outputId": "ba7cd332-1cb2-42ad-9062-2677f8904e3e"
      },
      "execution_count": null,
      "outputs": [
        {
          "output_type": "stream",
          "name": "stdout",
          "text": [
            "[1.0, 1.2, 1.4, 1.5999999999999999, 1.7999999999999998, 1.9999999999999998, 2.1999999999999997, 2.4, 2.6, 2.8000000000000003]\n",
            "[3.0, 2.8, 2.5999999999999996, 2.3999999999999995, 2.1999999999999993, 1.9999999999999993, 1.7999999999999994, 1.5999999999999994, 1.3999999999999995, 1.1999999999999995]\n",
            "[1.0, 2.0]\n",
            "[0.0, 1.0, 2.0, 3.0]\n"
          ]
        }
      ]
    },
    {
      "cell_type": "code",
      "source": [
        "def frange(arg1,*args):\n",
        "    if len(args)==0:\n",
        "        start = 0\n",
        "        stop=arg1\n",
        "        step=1.0\n",
        "    elif len(args)==1:\n",
        "        start=arg1\n",
        "        stop=args[0]\n",
        "        step=1.0\n",
        "    elif len(args)==2:\n",
        "        start=arg1\n",
        "        stop=args[0]\n",
        "        step=args[1]\n",
        "\n",
        "    list1=[]\n",
        "    a=float(start)\n",
        "    while 1:\n",
        "        list1.append(round(a, 1))\n",
        "        a+=step\n",
        "        if start<stop: #1<3\n",
        "            if (a >= stop): break\n",
        "        else:\n",
        "            if (a <= stop): break\n",
        "\n",
        "    return list1"
      ],
      "metadata": {
        "id": "o6eW5jKaC6gQ"
      },
      "execution_count": null,
      "outputs": []
    },
    {
      "cell_type": "code",
      "source": [
        "print(frange(1, 3, 0.2))\n",
        "print(frange(3, 1, -0.2))\n",
        "print(frange(1, 3))\n",
        "print(frange(4))"
      ],
      "metadata": {
        "colab": {
          "base_uri": "https://localhost:8080/"
        },
        "id": "q_Ht2OPDDD2u",
        "outputId": "40b49a36-fd8d-410d-ef7d-e2bce4837296"
      },
      "execution_count": null,
      "outputs": [
        {
          "output_type": "execute_result",
          "data": {
            "text/plain": [
              "2.1"
            ]
          },
          "metadata": {},
          "execution_count": 128
        }
      ]
    },
    {
      "cell_type": "markdown",
      "source": [],
      "metadata": {
        "id": "O6GMaG1FEpqp"
      }
    },
    {
      "cell_type": "markdown",
      "metadata": {
        "id": "EShjDjZo060V"
      },
      "source": [
        "***\n",
        "***\n",
        "#모듈의 활용\n",
        "***\n",
        "***"
      ]
    },
    {
      "cell_type": "markdown",
      "metadata": {
        "id": "XyaJd5xc060Z"
      },
      "source": [
        "***\n",
        "## 1 모듈의 다양한 <code>import</code> 방법\n",
        "***"
      ]
    },
    {
      "cell_type": "markdown",
      "metadata": {
        "id": "skO2upFi060a"
      },
      "source": [
        "### 1-1 모듈 <code>import</code> 하기\n",
        "#### 1) <code>import</code> 모듈명\n",
        "- 가장 기본적인 형태\n",
        "  - 현재의 이름 공간에 <code>mymath</code> 이름이 유지되므로 <code>mymath.area()</code> 형태로 함수 사용"
      ]
    },
    {
      "cell_type": "code",
      "source": [
        "%%writefile mymath.py\n",
        "mypi = 3.14\n",
        "\n",
        "def add(a, b):\n",
        "    return a+b\n",
        "\n",
        "def area(r):\n",
        "    return mypi*r*r"
      ],
      "metadata": {
        "colab": {
          "base_uri": "https://localhost:8080/"
        },
        "id": "w82oH7mEDFoe",
        "outputId": "ab01e6ff-c220-470f-fb4c-52e441c77def"
      },
      "execution_count": null,
      "outputs": [
        {
          "output_type": "stream",
          "name": "stdout",
          "text": [
            "Writing mymath.py\n"
          ]
        }
      ]
    },
    {
      "cell_type": "code",
      "source": [
        "ls"
      ],
      "metadata": {
        "colab": {
          "base_uri": "https://localhost:8080/"
        },
        "id": "IMjQtqdaFBeo",
        "outputId": "c963447b-2ac7-4c3e-ff17-70126d550588"
      },
      "execution_count": null,
      "outputs": [
        {
          "output_type": "stream",
          "name": "stdout",
          "text": [
            "mymath.py  \u001b[0m\u001b[01;34msample_data\u001b[0m/\n"
          ]
        }
      ]
    },
    {
      "cell_type": "code",
      "source": [
        "import mymath"
      ],
      "metadata": {
        "id": "kr9zmlS-FCrc"
      },
      "execution_count": null,
      "outputs": []
    },
    {
      "cell_type": "code",
      "source": [
        "dir()"
      ],
      "metadata": {
        "id": "0DO2WNa9FGeO"
      },
      "execution_count": null,
      "outputs": []
    },
    {
      "cell_type": "code",
      "source": [
        "mymath.area(5)"
      ],
      "metadata": {
        "colab": {
          "base_uri": "https://localhost:8080/"
        },
        "id": "j2BVUMHlFIxV",
        "outputId": "195d08a3-5c0a-47c6-96ed-2dead8a6b48f"
      },
      "execution_count": null,
      "outputs": [
        {
          "output_type": "execute_result",
          "data": {
            "text/plain": [
              "78.5"
            ]
          },
          "metadata": {},
          "execution_count": 133
        }
      ]
    },
    {
      "cell_type": "markdown",
      "metadata": {
        "id": "BTZ8ePtd060e"
      },
      "source": [
        "#### 2) <code>from 모듈명 import 이름들</code>\n",
        "- 해당 모듈에 존재하는 지정 이름들을 현재 이름 공간으로 불러들인다.\n",
        "- 불러들인 각 이름들은 모듈 이름 없이 직접 사용 가능하다.\n",
        "- <code>import</code> 하는 이름들이 기존에 미리 존재하고 있었다면 그 이름들에 의해 참조되던 기존 객체들은 상실된다."
      ]
    },
    {
      "cell_type": "code",
      "execution_count": null,
      "metadata": {
        "id": "85V7IiiW060f",
        "outputId": "28da5a0f-1dd2-4547-eb17-2730683971d5",
        "colab": {
          "base_uri": "https://localhost:8080/"
        }
      },
      "outputs": [
        {
          "output_type": "stream",
          "name": "stdout",
          "text": [
            "78.5\n"
          ]
        }
      ],
      "source": [
        "from mymath import area, mypi\n",
        "print(area(5))"
      ]
    },
    {
      "cell_type": "code",
      "source": [
        "mypi"
      ],
      "metadata": {
        "colab": {
          "base_uri": "https://localhost:8080/"
        },
        "id": "7mHlX73nGDGg",
        "outputId": "c1dce479-d7aa-4c91-d81c-2a84dd181de6"
      },
      "execution_count": null,
      "outputs": [
        {
          "output_type": "execute_result",
          "data": {
            "text/plain": [
              "3.14"
            ]
          },
          "metadata": {},
          "execution_count": 139
        }
      ]
    },
    {
      "cell_type": "code",
      "source": [
        "cat mymath.py"
      ],
      "metadata": {
        "colab": {
          "base_uri": "https://localhost:8080/"
        },
        "id": "MoPWE2j2FYOF",
        "outputId": "5f8c1a69-4a61-4b11-9fc4-93612ed113b7"
      },
      "execution_count": null,
      "outputs": [
        {
          "output_type": "stream",
          "name": "stdout",
          "text": [
            "mypi = 3.14\n",
            "\n",
            "def add(a, b):\n",
            "    return a+b\n",
            "\n",
            "def area(r):\n",
            "    return mypi*r*r\n"
          ]
        }
      ]
    },
    {
      "cell_type": "markdown",
      "source": [
        "### 3) from 모듈명 import *"
      ],
      "metadata": {
        "id": "yqiv831OGejZ"
      }
    },
    {
      "cell_type": "code",
      "source": [
        "from mymath import *"
      ],
      "metadata": {
        "id": "TllQqlcPFwHI"
      },
      "execution_count": null,
      "outputs": []
    },
    {
      "cell_type": "code",
      "source": [
        "mypi"
      ],
      "metadata": {
        "colab": {
          "base_uri": "https://localhost:8080/"
        },
        "id": "8qC6XIkgGLNP",
        "outputId": "d3bbeeea-2613-422d-d549-2f4390a0a874"
      },
      "execution_count": null,
      "outputs": [
        {
          "output_type": "execute_result",
          "data": {
            "text/plain": [
              "3.14"
            ]
          },
          "metadata": {},
          "execution_count": 141
        }
      ]
    },
    {
      "cell_type": "markdown",
      "source": [
        "#### 4) <code>import 모듈명 as 새로운 모듈 이름</code>\n",
        "- 해당 모듈을 새로운 다른 이름으로 사용하고자 할 때 사용\n",
        "- 기존 모듈 이름이 너무 길거나 현재 사용중인 다름 이름들과 충돌이 일어날 때 유용"
      ],
      "metadata": {
        "id": "Xrj2-_AbGg9G"
      }
    },
    {
      "cell_type": "code",
      "source": [
        "import string as chstr"
      ],
      "metadata": {
        "id": "LphdzZL7GNQf"
      },
      "execution_count": null,
      "outputs": []
    },
    {
      "cell_type": "code",
      "source": [
        "chstr"
      ],
      "metadata": {
        "colab": {
          "base_uri": "https://localhost:8080/"
        },
        "id": "xKTlOASdGxdj",
        "outputId": "3a513ced-4f20-42ae-c0f6-d8201e637d73"
      },
      "execution_count": null,
      "outputs": [
        {
          "output_type": "execute_result",
          "data": {
            "text/plain": [
              "<module 'string' from '/usr/lib/python3.10/string.py'>"
            ]
          },
          "metadata": {},
          "execution_count": 145
        }
      ]
    },
    {
      "cell_type": "markdown",
      "source": [
        "모듈이름 == py 파일의 파일 이름"
      ],
      "metadata": {
        "id": "y7DsDi0cG40I"
      }
    },
    {
      "cell_type": "code",
      "source": [
        "chstr.punctuation"
      ],
      "metadata": {
        "colab": {
          "base_uri": "https://localhost:8080/",
          "height": 36
        },
        "id": "w3B5ONDeG0CR",
        "outputId": "0b582bfa-77fa-4406-873d-a8ab1bccd59c"
      },
      "execution_count": null,
      "outputs": [
        {
          "output_type": "execute_result",
          "data": {
            "text/plain": [
              "'!\"#$%&\\'()*+,-./:;<=>?@[\\\\]^_`{|}~'"
            ],
            "application/vnd.google.colaboratory.intrinsic+json": {
              "type": "string"
            }
          },
          "metadata": {},
          "execution_count": 146
        }
      ]
    },
    {
      "cell_type": "markdown",
      "source": [
        "#### 5) <code>from 모듈명 import 이름 as 새로운 이름[, 이름 as 새로운 이름]</code>\n",
        "- 해당 모듈 내에 정의된 이름을 다른 새로운 이름으로 사용하고자 할 때 사용"
      ],
      "metadata": {
        "id": "NrsckYQ1HF9R"
      }
    },
    {
      "cell_type": "code",
      "source": [
        "from string import punctuation as punc\n",
        "print(punc)"
      ],
      "metadata": {
        "colab": {
          "base_uri": "https://localhost:8080/"
        },
        "id": "pE4fx7jOG_hZ",
        "outputId": "0ee52eeb-4511-47af-d4cf-0eb89d2d1488"
      },
      "execution_count": null,
      "outputs": [
        {
          "output_type": "stream",
          "name": "stdout",
          "text": [
            "!\"#$%&'()*+,-./:;<=>?@[\\]^_`{|}~\n"
          ]
        }
      ]
    },
    {
      "cell_type": "code",
      "source": [
        "from math import floor as flr, ceil as cil"
      ],
      "metadata": {
        "id": "9BPfGwR6HRYV"
      },
      "execution_count": null,
      "outputs": []
    },
    {
      "cell_type": "code",
      "source": [
        "flr(4.5)"
      ],
      "metadata": {
        "colab": {
          "base_uri": "https://localhost:8080/"
        },
        "id": "jvqNNZUUHki1",
        "outputId": "a7ea2df1-667b-44df-e04c-7f3ebfad48a4"
      },
      "execution_count": null,
      "outputs": [
        {
          "output_type": "execute_result",
          "data": {
            "text/plain": [
              "4"
            ]
          },
          "metadata": {},
          "execution_count": 149
        }
      ]
    },
    {
      "cell_type": "code",
      "source": [
        "cil(4.5)"
      ],
      "metadata": {
        "colab": {
          "base_uri": "https://localhost:8080/"
        },
        "id": "Ni8K673KHlnk",
        "outputId": "b0b589b5-4274-400a-9029-97338ff686af"
      },
      "execution_count": null,
      "outputs": [
        {
          "output_type": "execute_result",
          "data": {
            "text/plain": [
              "5"
            ]
          },
          "metadata": {},
          "execution_count": 150
        }
      ]
    },
    {
      "cell_type": "code",
      "source": [
        "from math import floor, ceil"
      ],
      "metadata": {
        "id": "1nZ6kqCAHnrm"
      },
      "execution_count": null,
      "outputs": []
    },
    {
      "cell_type": "code",
      "source": [
        "def str_test():\n",
        "    import string\n",
        "    print(string.punctuation)"
      ],
      "metadata": {
        "id": "3HlCsFHrHubI"
      },
      "execution_count": null,
      "outputs": []
    },
    {
      "cell_type": "code",
      "source": [
        "str_test()"
      ],
      "metadata": {
        "colab": {
          "base_uri": "https://localhost:8080/"
        },
        "id": "x9X5WSjeISZ6",
        "outputId": "84f46cdb-a10e-4dd0-b30d-84b906359995"
      },
      "execution_count": null,
      "outputs": [
        {
          "output_type": "stream",
          "name": "stdout",
          "text": [
            "!\"#$%&'()*+,-./:;<=>?@[\\]^_`{|}~\n"
          ]
        }
      ]
    },
    {
      "cell_type": "code",
      "source": [
        "dir(string)"
      ],
      "metadata": {
        "id": "FfN2-GlJIaBS"
      },
      "execution_count": null,
      "outputs": []
    },
    {
      "cell_type": "markdown",
      "source": [
        "### import 에 의한 모듈 코드 수행"
      ],
      "metadata": {
        "id": "sZ_SIr6JI5Vc"
      }
    },
    {
      "cell_type": "code",
      "source": [
        "%%writefile mymath.py\n",
        "mypi = 3.14\n",
        "\n",
        "def add(a, b):\n",
        "    return a+b\n",
        "\n",
        "def area(r):\n",
        "    return mypi*r*r\n",
        "\n",
        "if __name__ == \"__main__\":\n",
        "    print(area(4.0))"
      ],
      "metadata": {
        "colab": {
          "base_uri": "https://localhost:8080/"
        },
        "id": "Ai4471hFIfii",
        "outputId": "b0bc1d0f-503e-4645-c33a-fcd78d075b5b"
      },
      "execution_count": null,
      "outputs": [
        {
          "output_type": "stream",
          "name": "stdout",
          "text": [
            "Overwriting mymath.py\n"
          ]
        }
      ]
    },
    {
      "cell_type": "code",
      "source": [
        "cat mymath.py"
      ],
      "metadata": {
        "colab": {
          "base_uri": "https://localhost:8080/"
        },
        "id": "Sp05Dw3vJE3a",
        "outputId": "afbb6b21-2ee7-47d4-d497-6d37b6948081"
      },
      "execution_count": null,
      "outputs": [
        {
          "output_type": "stream",
          "name": "stdout",
          "text": [
            "mypi = 3.14\n",
            "\n",
            "def add(a, b):\n",
            "    return a+b\n",
            "\n",
            "def area(r):\n",
            "    return mypi*r*r\n",
            "\n",
            "if __name__ == \"__main__\":\n",
            "    print(area(4.0))\n"
          ]
        }
      ]
    },
    {
      "cell_type": "code",
      "source": [
        "import mymath"
      ],
      "metadata": {
        "id": "LddSunPjJG18"
      },
      "execution_count": null,
      "outputs": []
    },
    {
      "cell_type": "code",
      "source": [
        "ls"
      ],
      "metadata": {
        "colab": {
          "base_uri": "https://localhost:8080/"
        },
        "id": "KoqZGAJ8JJmS",
        "outputId": "93e99cd6-572d-4199-bbcf-4c0765811997"
      },
      "execution_count": null,
      "outputs": [
        {
          "output_type": "stream",
          "name": "stdout",
          "text": [
            "modu.py  mymath.py  \u001b[0m\u001b[01;34m__pycache__\u001b[0m/  \u001b[01;34msample_data\u001b[0m/\n"
          ]
        }
      ]
    },
    {
      "cell_type": "code",
      "source": [
        "%run mymath.py"
      ],
      "metadata": {
        "colab": {
          "base_uri": "https://localhost:8080/"
        },
        "id": "XWIzO1zVJbmp",
        "outputId": "0e9985c3-2af2-4b48-92d8-0990b2ad2d22"
      },
      "execution_count": null,
      "outputs": [
        {
          "output_type": "stream",
          "name": "stdout",
          "text": [
            "50.24\n"
          ]
        }
      ]
    },
    {
      "cell_type": "code",
      "source": [
        "%%shell\n",
        "python mymath.py"
      ],
      "metadata": {
        "colab": {
          "base_uri": "https://localhost:8080/"
        },
        "id": "X5jxyO1PKM2x",
        "outputId": "6255c215-e85c-4fbd-a601-dd12e4d57822"
      },
      "execution_count": null,
      "outputs": [
        {
          "output_type": "stream",
          "name": "stdout",
          "text": [
            "50.24\n"
          ]
        },
        {
          "output_type": "execute_result",
          "data": {
            "text/plain": []
          },
          "metadata": {},
          "execution_count": 16
        }
      ]
    },
    {
      "cell_type": "code",
      "source": [],
      "metadata": {
        "id": "VjalQiXBKS9m"
      },
      "execution_count": null,
      "outputs": []
    },
    {
      "cell_type": "code",
      "execution_count": null,
      "metadata": {
        "colab": {
          "base_uri": "https://localhost:8080/"
        },
        "id": "S95J9tmSr1rG",
        "outputId": "8c242025-1bdf-44e6-99d2-29d1d6ad0495"
      },
      "outputs": [
        {
          "output_type": "stream",
          "name": "stdout",
          "text": [
            "Overwriting modu.py\n"
          ]
        }
      ],
      "source": [
        "%%writefile modu.py\n",
        "def add(a, b):\n",
        "    return a + b\n",
        "\n",
        "def f():\n",
        "    print(\"Python is becoming popular.\")\n",
        "\n",
        "if \"__main__\" == __name__ :\n",
        "    print(add(1, 10))\n",
        "    f()"
      ]
    },
    {
      "cell_type": "code",
      "source": [
        "%run modu.py"
      ],
      "metadata": {
        "colab": {
          "base_uri": "https://localhost:8080/"
        },
        "id": "Ew5EVFGdr60S",
        "outputId": "e25ac318-c502-4fa6-c0c6-4b41c54ee037"
      },
      "execution_count": null,
      "outputs": [
        {
          "output_type": "stream",
          "name": "stdout",
          "text": [
            "11\n",
            "Python is becoming popular.\n"
          ]
        }
      ]
    },
    {
      "cell_type": "code",
      "source": [
        "import modu"
      ],
      "metadata": {
        "id": "OY_UTrPjLcbl"
      },
      "execution_count": null,
      "outputs": []
    },
    {
      "cell_type": "code",
      "source": [
        "__name__ == __main__"
      ],
      "metadata": {
        "id": "1jroGaMnLd74"
      },
      "execution_count": null,
      "outputs": []
    },
    {
      "cell_type": "code",
      "source": [
        "modu.__name__"
      ],
      "metadata": {
        "colab": {
          "base_uri": "https://localhost:8080/",
          "height": 36
        },
        "id": "MIFM2O8ZMG3I",
        "outputId": "25409f3e-28cb-45a4-81ab-26ab5d51e1e1"
      },
      "execution_count": null,
      "outputs": [
        {
          "output_type": "execute_result",
          "data": {
            "text/plain": [
              "'modu'"
            ],
            "application/vnd.google.colaboratory.intrinsic+json": {
              "type": "string"
            }
          },
          "metadata": {},
          "execution_count": 10
        }
      ]
    },
    {
      "cell_type": "code",
      "source": [
        "dir()"
      ],
      "metadata": {
        "colab": {
          "base_uri": "https://localhost:8080/"
        },
        "id": "IrGe8htYMIhe",
        "outputId": "e9b4e945-d4fa-46c6-f10f-c87e8edc2a50"
      },
      "execution_count": null,
      "outputs": [
        {
          "output_type": "execute_result",
          "data": {
            "text/plain": [
              "['In',\n",
              " 'Out',\n",
              " '_',\n",
              " '_10',\n",
              " '_16',\n",
              " '_5',\n",
              " '__',\n",
              " '___',\n",
              " '__builtin__',\n",
              " '__builtins__',\n",
              " '__doc__',\n",
              " '__loader__',\n",
              " '__name__',\n",
              " '__nonzero__',\n",
              " '__package__',\n",
              " '__spec__',\n",
              " '_dh',\n",
              " '_exit_code',\n",
              " '_i',\n",
              " '_i1',\n",
              " '_i10',\n",
              " '_i11',\n",
              " '_i12',\n",
              " '_i13',\n",
              " '_i14',\n",
              " '_i15',\n",
              " '_i16',\n",
              " '_i17',\n",
              " '_i2',\n",
              " '_i3',\n",
              " '_i4',\n",
              " '_i5',\n",
              " '_i6',\n",
              " '_i7',\n",
              " '_i8',\n",
              " '_i9',\n",
              " '_ih',\n",
              " '_ii',\n",
              " '_iii',\n",
              " '_oh',\n",
              " 'add',\n",
              " 'area',\n",
              " 'exit',\n",
              " 'f',\n",
              " 'get_ipython',\n",
              " 'modu',\n",
              " 'mymath',\n",
              " 'mypi',\n",
              " 'quit']"
            ]
          },
          "metadata": {},
          "execution_count": 17
        }
      ]
    },
    {
      "cell_type": "markdown",
      "source": [],
      "metadata": {
        "id": "eTlC0q7zRAVN"
      }
    },
    {
      "cell_type": "markdown",
      "metadata": {
        "id": "dM8jp9oC060k"
      },
      "source": [
        "### 1-3 컴파일과 적재시간\n",
        "- <code>import mymath</code>를 수행할 때 발생하는 일\n",
        "  - 1) 우선 <code>mymath.pyc</code>를 찾는다.\n",
        "  - 2) <code>mymath.pyc</code>가 없다면 <code>mymath.py</code>를 찾아서 <code>mymath.pyc</code>를 생성한다.\n",
        "  - 3) 생성된 <code>mymath.pyc</code>를 메모리로 읽어들여 수행한다.\n",
        "- <code>.pyc</code> 파일\n",
        "  - 바이트 코드 파일\n",
        "    - 기계나 플랫폼(OS)에 의존하지 않도록 만들어진 일종의 목적 코드 (Object Code)\n",
        "    - 파이썬은 컴파일 언어이면서 동시에 인터프리터 언어의 수행 방식을 취하고 있다.\n",
        "- 새로운 <code>.pyc</code> 생성에 대한 판단\n",
        "  - <code>.py</code> 수정 시간이 <code>.pyc</code> 수정 시간보다 더 최근일 때\n",
        "- <code>.py</code>가 없이도 <code>.pyc</code> 파일만 있어도 <code>import</code> 가능\n",
        "  - 코드를 숨기는 간단한 기법으로 활용 가능"
      ]
    },
    {
      "cell_type": "code",
      "source": [],
      "metadata": {
        "id": "UVno_cGaOyME"
      },
      "execution_count": null,
      "outputs": []
    }
  ]
}