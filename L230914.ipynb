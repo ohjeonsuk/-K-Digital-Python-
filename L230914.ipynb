{
  "nbformat": 4,
  "nbformat_minor": 0,
  "metadata": {
    "colab": {
      "provenance": [],
      "authorship_tag": "ABX9TyNX6XyTPqVw14ZufPcBErjN",
      "include_colab_link": true
    },
    "kernelspec": {
      "name": "python3",
      "display_name": "Python 3"
    },
    "language_info": {
      "name": "python"
    }
  },
  "cells": [
    {
      "cell_type": "markdown",
      "metadata": {
        "id": "view-in-github",
        "colab_type": "text"
      },
      "source": [
        "<a href=\"https://colab.research.google.com/github/ohjeonsuk/python-education/blob/main/L230914.ipynb\" target=\"_parent\"><img src=\"https://colab.research.google.com/assets/colab-badge.svg\" alt=\"Open In Colab\"/></a>"
      ]
    },
    {
      "cell_type": "markdown",
      "source": [
        "1.DB:MYSQL<br>\n",
        "2.Django:블로그<br>\n",
        "\n",
        "*   html/CSS\n",
        "*   MVT\n",
        "*   Model:다대일관계\n",
        "\n",
        "3.통계적 머신러닝<br>\n",
        "\n",
        "\n",
        "*   sklearn\n",
        "*   평가\n",
        "*   분류\n",
        "*   회귀\n",
        "*   차원축소 / 군집\n",
        "*   텍스트처리\n",
        "\n",
        "\n",
        "\n",
        "8.딥러닝"
      ],
      "metadata": {
        "id": "Wt0FKVDuvN1S"
      }
    },
    {
      "cell_type": "markdown",
      "source": [
        "#**레코드 삭제하기**\n",
        "\n",
        "\n",
        "```\n",
        "delete from 테이블명 where 조건;\n",
        "```\n",
        "\n"
      ],
      "metadata": {
        "id": "4fbqqxPDvkzu"
      }
    },
    {
      "cell_type": "markdown",
      "source": [
        "#**칼럼 삭제하기**#\n",
        "\n",
        "```\n",
        "alter from 테이블명 drop 칼럼명;\n",
        "\n",
        "```"
      ],
      "metadata": {
        "id": "7rk8fXCmvxoG"
      }
    }
  ]
}