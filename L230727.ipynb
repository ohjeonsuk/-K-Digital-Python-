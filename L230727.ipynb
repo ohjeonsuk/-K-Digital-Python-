{
  "nbformat": 4,
  "nbformat_minor": 0,
  "metadata": {
    "colab": {
      "provenance": [],
      "include_colab_link": true
    },
    "kernelspec": {
      "name": "python3",
      "display_name": "Python 3"
    },
    "language_info": {
      "name": "python"
    }
  },
  "cells": [
    {
      "cell_type": "markdown",
      "metadata": {
        "id": "view-in-github",
        "colab_type": "text"
      },
      "source": [
        "<a href=\"https://colab.research.google.com/github/ohjeonsuk/python-education/blob/main/L230727.ipynb\" target=\"_parent\"><img src=\"https://colab.research.google.com/assets/colab-badge.svg\" alt=\"Open In Colab\"/></a>"
      ]
    },
    {
      "cell_type": "markdown",
      "source": [
        "# __ init __.py\n",
        "\n",
        "- 모듈(패키지)을 import 할때 자동으로 실행되는 초기화 파일\n",
        "\n",
        "- 디렉토리를 패키지 폴더로 등록해 준다.\n",
        "\n",
        "- 패키지를 초기화하는 파이썬 코드를 포함한다.\n",
        "\n",
        "\n",
        "    __all__ = ['Rec', 'Sign', 'Synt']\n",
        "\n",
        "    from . import Rec\n",
        "    from . import Sign\n",
        "    from . import Synt"
      ],
      "metadata": {
        "id": "U1hnAQ4toZVq"
      }
    },
    {
      "cell_type": "code",
      "source": [
        "import numpy"
      ],
      "metadata": {
        "id": "HUDXYP3lzuTh"
      },
      "execution_count": null,
      "outputs": []
    },
    {
      "cell_type": "code",
      "source": [
        "numpy.pi"
      ],
      "metadata": {
        "colab": {
          "base_uri": "https://localhost:8080/"
        },
        "id": "CdH-5zJ30isq",
        "outputId": "ef38b0fe-c5a8-4ba6-a257-9696658d6e40"
      },
      "execution_count": null,
      "outputs": [
        {
          "output_type": "execute_result",
          "data": {
            "text/plain": [
              "3.141592653589793"
            ]
          },
          "metadata": {},
          "execution_count": 4
        }
      ]
    },
    {
      "cell_type": "code",
      "source": [
        "from numpy import *"
      ],
      "metadata": {
        "id": "0MD_AM2vzmWq"
      },
      "execution_count": null,
      "outputs": []
    },
    {
      "cell_type": "code",
      "source": [
        "pi"
      ],
      "metadata": {
        "colab": {
          "base_uri": "https://localhost:8080/"
        },
        "id": "HCfWjHcU0lrF",
        "outputId": "7e69270f-c2fe-48ed-a422-9d78a5cc318d"
      },
      "execution_count": null,
      "outputs": [
        {
          "output_type": "execute_result",
          "data": {
            "text/plain": [
              "3.141592653589793"
            ]
          },
          "metadata": {},
          "execution_count": 6
        }
      ]
    },
    {
      "cell_type": "markdown",
      "source": [
        "1. client 파일은 Module_Client_Import/mains/  폴더에 있다.\n",
        "\n",
        "2. module 파일은 Module_Client_Import/subs/ 폴더에 있다.\n",
        "\n",
        "3. Module_Client_Import/ 를 sys.path 에 등록을 해줘야 한다.\n",
        "\n",
        "        sys.path.append(/Users/~~/Module_Client_Import)\n",
        "\n",
        "4. from subs import module\n",
        "\n",
        "client.py 파일 예시\n",
        "\n",
        "        import sys_add_path\n",
        "        from subs import module\n",
        "\n",
        "sys_add_path.py 파일 예시\n",
        "\n",
        "        import sys\n",
        "        path_=r'/Users/kwontaeheon/Documents/python_basic/Module_Client_Import'\n",
        "        sys.path.append(path_)"
      ],
      "metadata": {
        "id": "tAW5WUgawSHS"
      }
    },
    {
      "cell_type": "markdown",
      "source": [
        "주식 사고 팔기\n",
        "\n"
      ],
      "metadata": {
        "id": "gsd6QsTw4JNC"
      }
    },
    {
      "cell_type": "code",
      "execution_count": null,
      "metadata": {
        "id": "5RscmvlUmfYV"
      },
      "outputs": [],
      "source": [
        "prices = [7, 1, 5, 3, 6, 4]"
      ]
    },
    {
      "cell_type": "markdown",
      "source": [
        "최대 이익이 얼마인지 계산하시오."
      ],
      "metadata": {
        "id": "G-oUlI_a4X2R"
      }
    },
    {
      "cell_type": "code",
      "source": [
        "import matplotlib.pyplot as plt\n",
        "%matplotlib inline"
      ],
      "metadata": {
        "id": "E7D2axrp4PR2"
      },
      "execution_count": null,
      "outputs": []
    },
    {
      "cell_type": "code",
      "source": [
        "plt.plot(prices)"
      ],
      "metadata": {
        "colab": {
          "base_uri": "https://localhost:8080/",
          "height": 448
        },
        "id": "4Omo_Ppg4pb4",
        "outputId": "2263c2b7-3400-4a9f-b470-87daf3bfd2e6"
      },
      "execution_count": null,
      "outputs": [
        {
          "output_type": "execute_result",
          "data": {
            "text/plain": [
              "[<matplotlib.lines.Line2D at 0x793c3a53d660>]"
            ]
          },
          "metadata": {},
          "execution_count": 9
        },
        {
          "output_type": "display_data",
          "data": {
            "text/plain": [
              "<Figure size 640x480 with 1 Axes>"
            ],
            "image/png": "[encoded data removed]"
          },
          "metadata": {}
        }
      ]
    },
    {
      "cell_type": "code",
      "source": [
        "def max_profit(prices):\n",
        "    min_price = prices[0]\n",
        "    max_profit = 0\n",
        "\n",
        "    for price in prices:\n",
        "        if price < min_price:\n",
        "            min_price = price # min_price = 1\n",
        "        elif price - min_price > max_profit:\n",
        "            max_profit = price - min_price\n",
        "\n",
        "    return max_profit"
      ],
      "metadata": {
        "id": "2SnOb2N-401m"
      },
      "execution_count": null,
      "outputs": []
    },
    {
      "cell_type": "code",
      "source": [
        "prices = [7, 1, 5, 3, 6, 4]"
      ],
      "metadata": {
        "id": "-JkXz5wt9WM1"
      },
      "execution_count": null,
      "outputs": []
    },
    {
      "cell_type": "code",
      "source": [
        "max_profit(prices)"
      ],
      "metadata": {
        "colab": {
          "base_uri": "https://localhost:8080/"
        },
        "id": "QesuNU8A9HjY",
        "outputId": "299c113f-5afc-4a80-f271-def822d7c36c"
      },
      "execution_count": null,
      "outputs": [
        {
          "output_type": "execute_result",
          "data": {
            "text/plain": [
              "5"
            ]
          },
          "metadata": {},
          "execution_count": 11
        }
      ]
    },
    {
      "cell_type": "code",
      "source": [
        "def max_profit(prices):\n",
        "    max_profit = 0\n",
        "    min_price = float('inf')  # 양의 무한대로 초기화\n",
        "\n",
        "    for price in prices:\n",
        "        min_price = min(min_price, price)\n",
        "        max_profit = max(max_profit, price - min_price)\n",
        "\n",
        "    return max_profit\n",
        "\n",
        "prices = [7, 1, 5, 3, 6, 4]\n",
        "result = max_profit(prices)\n",
        "print(\"최대 이익:\", result)"
      ],
      "metadata": {
        "colab": {
          "base_uri": "https://localhost:8080/"
        },
        "id": "IxaWrzZi9M54",
        "outputId": "c6cd6483-9590-41d6-9da5-74a493fa6c94"
      },
      "execution_count": null,
      "outputs": [
        {
          "output_type": "stream",
          "name": "stdout",
          "text": [
            "최대 이익: 5\n"
          ]
        }
      ]
    },
    {
      "cell_type": "code",
      "source": [
        "def stock_profit(price):\n",
        "    buy = min(price)\n",
        "    buy_index = price.index(buy)\n",
        "    sell = max(price[buy_index + 1:])\n",
        "    profit = sell - buy\n",
        "    return profit"
      ],
      "metadata": {
        "id": "me7J7nhF960J"
      },
      "execution_count": null,
      "outputs": []
    },
    {
      "cell_type": "code",
      "source": [
        "def profit(prices) :\n",
        "  low = prices.index(min(prices))\n",
        "  updated = prices[low:]\n",
        "  print('최대이익은 ', max(updated)-min(prices))"
      ],
      "metadata": {
        "id": "wyb_TtMC_Dc3"
      },
      "execution_count": null,
      "outputs": []
    },
    {
      "cell_type": "code",
      "source": [
        "%%writefile data.txt\n",
        "1 2 3\n",
        "4 5 6\n",
        "7 8 9"
      ],
      "metadata": {
        "colab": {
          "base_uri": "https://localhost:8080/"
        },
        "id": "g-P6m7qL_Hri",
        "outputId": "a40836ec-c250-41cf-c4a9-4d6391a068ab"
      },
      "execution_count": null,
      "outputs": [
        {
          "output_type": "stream",
          "name": "stdout",
          "text": [
            "Writing data.txt\n"
          ]
        }
      ]
    },
    {
      "cell_type": "code",
      "source": [
        "ls"
      ],
      "metadata": {
        "colab": {
          "base_uri": "https://localhost:8080/"
        },
        "id": "hg6y4-Ci_oi4",
        "outputId": "d1324372-514f-4c51-d84a-79b962166dc6"
      },
      "execution_count": null,
      "outputs": [
        {
          "output_type": "stream",
          "name": "stdout",
          "text": [
            "data.txt  \u001b[0m\u001b[01;34msample_data\u001b[0m/\n"
          ]
        }
      ]
    },
    {
      "cell_type": "code",
      "source": [
        "cat data.txt"
      ],
      "metadata": {
        "colab": {
          "base_uri": "https://localhost:8080/"
        },
        "id": "HT0VlcJ__pd6",
        "outputId": "8fefae13-b4e1-4452-d730-149f650767f1"
      },
      "execution_count": null,
      "outputs": [
        {
          "output_type": "stream",
          "name": "stdout",
          "text": [
            "1 2 3\n",
            "4 5 6\n",
            "7 8 9\n"
          ]
        }
      ]
    },
    {
      "cell_type": "markdown",
      "source": [
        "map, zip"
      ],
      "metadata": {
        "id": "EkZbuq5Q_v-R"
      }
    },
    {
      "cell_type": "code",
      "source": [
        "[[1, 4, 7], [2, 5, 8], [3, 6, 9]]"
      ],
      "metadata": {
        "colab": {
          "base_uri": "https://localhost:8080/"
        },
        "id": "k8QHqt0__q_S",
        "outputId": "8f3cef9e-d75e-45f9-a2dd-824d3feca93e"
      },
      "execution_count": null,
      "outputs": [
        {
          "output_type": "execute_result",
          "data": {
            "text/plain": [
              "[[1, 4, 7], [2, 5, 8], [3, 6, 9]]"
            ]
          },
          "metadata": {},
          "execution_count": 19
        }
      ]
    },
    {
      "cell_type": "code",
      "source": [
        "def trans_matrix(file_path):\n",
        "    with open(file_path, 'r') as f:\n",
        "        matrix = [list(map(int, line.strip().split())) for line in f]\n",
        "        return [list(row) for row in zip(*matrix)]\n",
        "\n",
        "file_path = 'data.txt'\n",
        "trans_matrix(file_path)"
      ],
      "metadata": {
        "colab": {
          "base_uri": "https://localhost:8080/"
        },
        "id": "uvnbB10m_xPi",
        "outputId": "5f45c9ee-ef1d-44d2-f14b-003b1defa408"
      },
      "execution_count": null,
      "outputs": [
        {
          "output_type": "execute_result",
          "data": {
            "text/plain": [
              "[[1, 4, 7], [2, 5, 8], [3, 6, 9]]"
            ]
          },
          "metadata": {},
          "execution_count": 20
        }
      ]
    },
    {
      "cell_type": "code",
      "source": [
        "x = [1, 2, 3]\n",
        "y = ['a', 'b', 'c']\n",
        "z = [10, 20, 30]"
      ],
      "metadata": {
        "id": "8ejLklogKFoE"
      },
      "execution_count": null,
      "outputs": []
    },
    {
      "cell_type": "code",
      "source": [
        "list(zip(x, y, z))"
      ],
      "metadata": {
        "colab": {
          "base_uri": "https://localhost:8080/"
        },
        "id": "ul13uCYIKPy7",
        "outputId": "1c3a736c-90c3-48f3-ee23-74b8993cd0bc"
      },
      "execution_count": null,
      "outputs": [
        {
          "output_type": "execute_result",
          "data": {
            "text/plain": [
              "[(1, 'a', 10), (2, 'b', 20), (3, 'c', 30)]"
            ]
          },
          "metadata": {},
          "execution_count": 24
        }
      ]
    },
    {
      "cell_type": "code",
      "source": [
        "[[1, 2, 3], [4, 5, 6], [7, 8, 9]]"
      ],
      "metadata": {
        "id": "XYDLZyo9KRfq"
      },
      "execution_count": null,
      "outputs": []
    },
    {
      "cell_type": "code",
      "source": [
        "list(zip(*[[1, 2, 3], [4, 5, 6], [7, 8, 9]]))"
      ],
      "metadata": {
        "colab": {
          "base_uri": "https://localhost:8080/"
        },
        "id": "usPW6V3hKtN6",
        "outputId": "4c23e498-2103-465b-cc24-66c44dc8c323"
      },
      "execution_count": null,
      "outputs": [
        {
          "output_type": "execute_result",
          "data": {
            "text/plain": [
              "[(1, 4, 7), (2, 5, 8), (3, 6, 9)]"
            ]
          },
          "metadata": {},
          "execution_count": 26
        }
      ]
    },
    {
      "cell_type": "code",
      "source": [
        "matrix = [[1, 2, 3], [4, 5, 6], [7, 8, 9]]"
      ],
      "metadata": {
        "id": "-vC8z54HKx4e"
      },
      "execution_count": null,
      "outputs": []
    },
    {
      "cell_type": "code",
      "source": [
        "list(zip([[1, 2, 3], [4, 5, 6], [7, 8, 9]]))"
      ],
      "metadata": {
        "colab": {
          "base_uri": "https://localhost:8080/"
        },
        "id": "sEQEIgedLRLt",
        "outputId": "ebf246bc-c513-46d4-bc6a-ddf684ce0fc2"
      },
      "execution_count": null,
      "outputs": [
        {
          "output_type": "execute_result",
          "data": {
            "text/plain": [
              "[([1, 2, 3],), ([4, 5, 6],), ([7, 8, 9],)]"
            ]
          },
          "metadata": {},
          "execution_count": 30
        }
      ]
    },
    {
      "cell_type": "code",
      "source": [
        "([1, 2, 3],)"
      ],
      "metadata": {
        "colab": {
          "base_uri": "https://localhost:8080/"
        },
        "id": "bkU2KKzwLYhz",
        "outputId": "b48a35c7-d7d2-45ae-b49b-6dc8a1590de3"
      },
      "execution_count": null,
      "outputs": [
        {
          "output_type": "execute_result",
          "data": {
            "text/plain": [
              "([1, 2, 3],)"
            ]
          },
          "metadata": {},
          "execution_count": 33
        }
      ]
    },
    {
      "cell_type": "code",
      "source": [
        "list(zip([1, 2, 3], [4, 5, 6], [7, 8, 9]))"
      ],
      "metadata": {
        "colab": {
          "base_uri": "https://localhost:8080/"
        },
        "id": "rAunMyX4LI8H",
        "outputId": "be47a6ff-c751-4e70-f620-bcd5c157e6e0"
      },
      "execution_count": null,
      "outputs": [
        {
          "output_type": "execute_result",
          "data": {
            "text/plain": [
              "[(1, 4, 7), (2, 5, 8), (3, 6, 9)]"
            ]
          },
          "metadata": {},
          "execution_count": 29
        }
      ]
    },
    {
      "cell_type": "code",
      "source": [
        "for i in zip(matrix):\n",
        "    print(i)"
      ],
      "metadata": {
        "colab": {
          "base_uri": "https://localhost:8080/"
        },
        "id": "vF0XV1FDK_JZ",
        "outputId": "e2758d93-e913-47cd-f20c-01cff3104179"
      },
      "execution_count": null,
      "outputs": [
        {
          "output_type": "stream",
          "name": "stdout",
          "text": [
            "([1, 2, 3],)\n",
            "([4, 5, 6],)\n",
            "([7, 8, 9],)\n"
          ]
        }
      ]
    },
    {
      "cell_type": "code",
      "source": [
        "for row in zip(*matrix): # *matrix == [1, 2, 3], [4, 5, 6], [7, 8, 9]\n",
        "    print(row)"
      ],
      "metadata": {
        "colab": {
          "base_uri": "https://localhost:8080/"
        },
        "id": "0utZmpcgLC96",
        "outputId": "aa38225b-d677-4dff-9985-a6dacbb0a22d"
      },
      "execution_count": null,
      "outputs": [
        {
          "output_type": "stream",
          "name": "stdout",
          "text": [
            "(1, 4, 7)\n",
            "(2, 5, 8)\n",
            "(3, 6, 9)\n"
          ]
        }
      ]
    },
    {
      "cell_type": "code",
      "source": [
        "[list(row) for row in zip(*matrix)]"
      ],
      "metadata": {
        "colab": {
          "base_uri": "https://localhost:8080/"
        },
        "id": "vSegFqduL4tr",
        "outputId": "6f5b9857-4f96-42e1-c364-0de221c0b89b"
      },
      "execution_count": null,
      "outputs": [
        {
          "output_type": "execute_result",
          "data": {
            "text/plain": [
              "[[1, 4, 7], [2, 5, 8], [3, 6, 9]]"
            ]
          },
          "metadata": {},
          "execution_count": 35
        }
      ]
    },
    {
      "cell_type": "code",
      "source": [
        "list(map(list, zip(*matrix)))"
      ],
      "metadata": {
        "colab": {
          "base_uri": "https://localhost:8080/"
        },
        "id": "zv2dilPOMYpb",
        "outputId": "75b4e736-aee8-44a7-8d70-9fde6fa48803"
      },
      "execution_count": null,
      "outputs": [
        {
          "output_type": "execute_result",
          "data": {
            "text/plain": [
              "[[1, 4, 7], [2, 5, 8], [3, 6, 9]]"
            ]
          },
          "metadata": {},
          "execution_count": 38
        }
      ]
    },
    {
      "cell_type": "code",
      "source": [
        "cat data.txt"
      ],
      "metadata": {
        "colab": {
          "base_uri": "https://localhost:8080/"
        },
        "id": "pwFAY-tpNZ6i",
        "outputId": "68a064e5-0d5f-4208-a6b0-eb01496a0e62"
      },
      "execution_count": null,
      "outputs": [
        {
          "output_type": "stream",
          "name": "stdout",
          "text": [
            "1 2 3\n",
            "4 5 6\n",
            "7 8 9\n"
          ]
        }
      ]
    },
    {
      "cell_type": "code",
      "source": [
        "def trans_matrix(file_path):\n",
        "    with open(file_path, 'r') as f:\n",
        "        matrix = [list(map(int, line.strip().split())) for line in f]\n",
        "        return [list(row) for row in zip(*matrix)]"
      ],
      "metadata": {
        "id": "2j5lEKS5Mod-"
      },
      "execution_count": null,
      "outputs": []
    },
    {
      "cell_type": "code",
      "source": [
        "with open('data.txt') as f:\n",
        "    for line in f:\n",
        "        print(line.strip().split())"
      ],
      "metadata": {
        "colab": {
          "base_uri": "https://localhost:8080/"
        },
        "id": "23-BxpHZNm3c",
        "outputId": "969b0392-5456-433d-df74-a308d74a457e"
      },
      "execution_count": null,
      "outputs": [
        {
          "output_type": "stream",
          "name": "stdout",
          "text": [
            "['1', '2', '3']\n",
            "['4', '5', '6']\n",
            "['7', '8', '9']\n"
          ]
        }
      ]
    },
    {
      "cell_type": "code",
      "source": [
        "matrix = [[1, 2, 3], [4, 5, 6], [7, 8, 9]]"
      ],
      "metadata": {
        "id": "yZFK9ungNt_d"
      },
      "execution_count": null,
      "outputs": []
    },
    {
      "cell_type": "code",
      "source": [
        "def read2d(file1):\n",
        "    with open(file1,'r') as f:\n",
        "        a=f.read().strip().split('\\n')\n",
        "        m=[i.split(' ') for i in a]\n",
        "        list1=[]\n",
        "        for line in m:\n",
        "            for i,j in enumerate(line):\n",
        "                if i>=len(list1):\n",
        "                    list1.append([]) # [[ ], [  ], [  ] ]\n",
        "                list1[i].append(j)\n",
        "\n",
        "        m= [list(map(int, num)) for num in list1]\n",
        "        return m"
      ],
      "metadata": {
        "id": "JEPWSg4eN9jv"
      },
      "execution_count": null,
      "outputs": []
    },
    {
      "cell_type": "code",
      "source": [
        "data = {\n",
        "'Eoleumgol' : [35.570678, 128.986135],\n",
        "'Bangujeong' : [37.867614, 126.752505], 'Abgujeong':[37.531713, 127.029154],\n",
        "'Guemgangsonamusup': [36.985459, 129.205468],\n",
        "'Heonanseolheonmyo': [37.425569, 127.296012],\n",
        "'Baegdamsa': [38.164890, 128.374023],\n",
        "'Moagsan mileugbul' : [35.723051, 127.053816],\n",
        "'Hailli' : [37.680120, 126.398192],\n",
        "'Ieodo': [32.116883, 125.166683],\n",
        "'Bughansan' : [37.659318, 126.9775415],\n",
        "'Ondalsanseong' : [37.057707, 128.484972],\n",
        "'Cheonglyeongpo' : [37.176118, 128.445583],\n",
        "'Hansanseom' : [34.816761, 128.423040],\n",
        "'Haeinsa' : [35.801479, 128.098052],\n",
        "'Sancheonjae' : [35.275175, 127.849891],\n",
        "'Seomjingang' : [34.963452, 127.760620],\n",
        "'Baegheungam' : [35.994240, 128.778653],\n",
        "'Guksaseonangdang': [37.696354, 128.753741],\n",
        "'Mudeungsan' : [35.134134, 126.988756],\n",
        "'Busanseong' : [36.268112, 126.914802],\n",
        "'Cheolsanri' : [37.808038, 126.450912], 'Odusan' : [37.773131, 126.677203]\n",
        "}"
      ],
      "metadata": {
        "id": "VjlJHEjyuWL8"
      },
      "execution_count": null,
      "outputs": []
    },
    {
      "cell_type": "code",
      "source": [
        "data"
      ],
      "metadata": {
        "colab": {
          "base_uri": "https://localhost:8080/"
        },
        "id": "xTmtFdY9uW_g",
        "outputId": "ad09c279-67cc-4ac1-8e41-0568c2e6f646"
      },
      "execution_count": null,
      "outputs": [
        {
          "output_type": "execute_result",
          "data": {
            "text/plain": [
              "{'Eoleumgol': [35.570678, 128.986135],\n",
              " 'Bangujeong': [37.867614, 126.752505],\n",
              " 'Abgujeong': [37.531713, 127.029154],\n",
              " 'Guemgangsonamusup': [36.985459, 129.205468],\n",
              " 'Heonanseolheonmyo': [37.425569, 127.296012],\n",
              " 'Baegdamsa': [38.16489, 128.374023],\n",
              " 'Moagsan mileugbul': [35.723051, 127.053816],\n",
              " 'Hailli': [37.68012, 126.398192],\n",
              " 'Ieodo': [32.116883, 125.166683],\n",
              " 'Bughansan': [37.659318, 126.9775415],\n",
              " 'Ondalsanseong': [37.057707, 128.484972],\n",
              " 'Cheonglyeongpo': [37.176118, 128.445583],\n",
              " 'Hansanseom': [34.816761, 128.42304],\n",
              " 'Haeinsa': [35.801479, 128.098052],\n",
              " 'Sancheonjae': [35.275175, 127.849891],\n",
              " 'Seomjingang': [34.963452, 127.76062],\n",
              " 'Baegheungam': [35.99424, 128.778653],\n",
              " 'Guksaseonangdang': [37.696354, 128.753741],\n",
              " 'Mudeungsan': [35.134134, 126.988756],\n",
              " 'Busanseong': [36.268112, 126.914802],\n",
              " 'Cheolsanri': [37.808038, 126.450912],\n",
              " 'Odusan': [37.773131, 126.677203]}"
            ]
          },
          "metadata": {},
          "execution_count": 44
        }
      ]
    },
    {
      "cell_type": "code",
      "source": [
        "import folium"
      ],
      "metadata": {
        "id": "k27XBFpavuCi"
      },
      "execution_count": null,
      "outputs": []
    },
    {
      "cell_type": "code",
      "source": [
        "maps = folium.Map(location=[37.5602, 126.982], zoom_start=7)"
      ],
      "metadata": {
        "id": "bYCyXzOGxUUQ"
      },
      "execution_count": null,
      "outputs": []
    },
    {
      "cell_type": "code",
      "source": [
        "for i in data:\n",
        "    name = i\n",
        "    lat_ = data[i][0]\n",
        "    long_ = data[i][1]\n",
        "    folium.CircleMarker([lat_, long_], radius=4, popup=name, color='red', fill_color='red').add_to(maps)\n",
        "    #print(name, lat_, long_)"
      ],
      "metadata": {
        "id": "J7lGoEZWuYX0"
      },
      "execution_count": null,
      "outputs": []
    },
    {
      "cell_type": "code",
      "source": [
        "maps.save('tour.html')"
      ],
      "metadata": {
        "id": "B2E2LtFtvZ8Y"
      },
      "execution_count": null,
      "outputs": []
    },
    {
      "cell_type": "code",
      "source": [
        "ls"
      ],
      "metadata": {
        "colab": {
          "base_uri": "https://localhost:8080/"
        },
        "id": "EJl_nIwfyzho",
        "outputId": "648686c8-c55c-4895-e5d8-7280f5be3656"
      },
      "execution_count": null,
      "outputs": [
        {
          "output_type": "stream",
          "name": "stdout",
          "text": [
            "data.txt  \u001b[0m\u001b[01;34msample_data\u001b[0m/  tour.html\n"
          ]
        }
      ]
    },
    {
      "cell_type": "markdown",
      "source": [
        "1. 위 과정을 함수화 해주세요.\n",
        "\n",
        "2. 집, 자주 가는곳, 제일 좋아하는 장소 를 표시 해주세요."
      ],
      "metadata": {
        "id": "ergIYnulzwYo"
      }
    },
    {
      "cell_type": "code",
      "source": [
        "import folium\n",
        "def map_add(maps, data):\n",
        "    for item in data:\n",
        "        name = item\n",
        "        latitude = data[item][0]\n",
        "        longitude = data[item][1]\n",
        "        folium.CircleMarker([latitude, longitude], radius=4, popup=name, color='red', fill_color='red').add_to(maps)\n",
        "    return maps\n",
        "def FoliumMap(data, save_file='result.html'):\n",
        "    maps = folium.Map(location=[37.5602, 126.982], zoom_start=7)\n",
        "    map_add(maps, data).save(save_file)"
      ],
      "metadata": {
        "id": "3HTS88rmy41b"
      },
      "execution_count": null,
      "outputs": []
    },
    {
      "cell_type": "code",
      "source": [
        "FoliumMap(data)"
      ],
      "metadata": {
        "id": "CrEt1WCL41Dk"
      },
      "execution_count": null,
      "outputs": []
    },
    {
      "cell_type": "code",
      "source": [],
      "metadata": {
        "id": "R8hVAiui5Cyf"
      },
      "execution_count": null,
      "outputs": []
    },
    {
      "cell_type": "markdown",
      "metadata": {
        "id": "--p2vAk8HTuT"
      },
      "source": [
        "## 클래스"
      ]
    },
    {
      "cell_type": "markdown",
      "metadata": {
        "id": "gouoMA-PJF6F"
      },
      "source": [
        "## 0.서두\n",
        "\n",
        "< Introduction to Programing in Python, Robert Sedgewic, Kevin Wayne, Robert Dondero >\n",
        "\n",
        "- 파이썬에서는 여러 데이터 타입을 정의하고 있다.\n",
        "\n",
        "- 그러나 이러한 테이터 타입도 우리가 사용하고자 하는 데이터 타입을 모두 제공할 순 없다.\n",
        "\n",
        "- 우리에게 필요한 데이터 타입을 직접 정의할 수 있어야 한다."
      ]
    },
    {
      "cell_type": "markdown",
      "source": [
        "data type = data + functions"
      ],
      "metadata": {
        "id": "XQU0G0Cc8X7P"
      }
    },
    {
      "cell_type": "markdown",
      "source": [
        "객체 = 리스트 + 딕셔너리 + 사용자 기능 + 사용자 데이터"
      ],
      "metadata": {
        "id": "dGtZ9yvhYywJ"
      }
    },
    {
      "cell_type": "markdown",
      "metadata": {
        "id": "kY3hdnvsJIdk"
      },
      "source": [
        "###사용자 정의 데이터 타입이 필요한 예\n",
        "\n",
        "\n",
        "<점프투 파이썬>"
      ]
    },
    {
      "cell_type": "markdown",
      "source": [
        "계산기 한대를 만들어 보자."
      ],
      "metadata": {
        "id": "xW5YZB_q81-9"
      }
    },
    {
      "cell_type": "code",
      "source": [
        "def add(num):\n",
        "    global result\n",
        "    result += num\n",
        "    return result\n",
        "result=0"
      ],
      "metadata": {
        "id": "-gkFZ17J8tKH"
      },
      "execution_count": null,
      "outputs": []
    },
    {
      "cell_type": "code",
      "source": [
        "add(3)"
      ],
      "metadata": {
        "colab": {
          "base_uri": "https://localhost:8080/"
        },
        "id": "_WlwYtze9OdF",
        "outputId": "a235a1e5-134e-4379-8e49-fa78281dfb7f"
      },
      "execution_count": null,
      "outputs": [
        {
          "output_type": "execute_result",
          "data": {
            "text/plain": [
              "3"
            ]
          },
          "metadata": {},
          "execution_count": 68
        }
      ]
    },
    {
      "cell_type": "code",
      "source": [
        "add(4)"
      ],
      "metadata": {
        "colab": {
          "base_uri": "https://localhost:8080/"
        },
        "id": "1StJPUJy9PW6",
        "outputId": "93f2dcdd-cf02-4454-fd93-f5134d2bc687"
      },
      "execution_count": null,
      "outputs": [
        {
          "output_type": "execute_result",
          "data": {
            "text/plain": [
              "7"
            ]
          },
          "metadata": {},
          "execution_count": 69
        }
      ]
    },
    {
      "cell_type": "code",
      "source": [
        "add(3)"
      ],
      "metadata": {
        "colab": {
          "base_uri": "https://localhost:8080/"
        },
        "id": "WUkqIRhq9TaD",
        "outputId": "e51d0254-0ab0-4fb4-815a-77ac24e7b056"
      },
      "execution_count": null,
      "outputs": [
        {
          "output_type": "execute_result",
          "data": {
            "text/plain": [
              "10"
            ]
          },
          "metadata": {},
          "execution_count": 70
        }
      ]
    },
    {
      "cell_type": "code",
      "source": [
        "def add1(num):\n",
        "    global result1\n",
        "    result1 += num\n",
        "    return result1\n",
        "\n",
        "result1=0\n",
        "\n",
        "def add2(num):\n",
        "    global result2\n",
        "    result2 += num\n",
        "    return result2\n",
        "\n",
        "result2=0"
      ],
      "metadata": {
        "id": "UHcqCDqM9ldA"
      },
      "execution_count": null,
      "outputs": []
    },
    {
      "cell_type": "code",
      "source": [
        "print(add1(3))\n",
        "print(add2(10))"
      ],
      "metadata": {
        "colab": {
          "base_uri": "https://localhost:8080/"
        },
        "id": "xSXGG2_K9y3E",
        "outputId": "5a7907d4-f0ad-417e-adc0-06268988eecc"
      },
      "execution_count": null,
      "outputs": [
        {
          "output_type": "stream",
          "name": "stdout",
          "text": [
            "3\n",
            "10\n"
          ]
        }
      ]
    },
    {
      "cell_type": "code",
      "source": [
        "print(add1(4))\n",
        "print(add2(4))"
      ],
      "metadata": {
        "colab": {
          "base_uri": "https://localhost:8080/"
        },
        "id": "7uCnEZvj-IVt",
        "outputId": "a42e7b26-cdfc-4705-85a4-b3a4597bf5ee"
      },
      "execution_count": null,
      "outputs": [
        {
          "output_type": "stream",
          "name": "stdout",
          "text": [
            "7\n",
            "14\n"
          ]
        }
      ]
    },
    {
      "cell_type": "code",
      "source": [
        "print(add1(3))\n",
        "print(add2(3))"
      ],
      "metadata": {
        "colab": {
          "base_uri": "https://localhost:8080/"
        },
        "id": "g_jThmOl-awd",
        "outputId": "40e8df8b-b4d1-44d8-f4db-f3797426cc43"
      },
      "execution_count": null,
      "outputs": [
        {
          "output_type": "stream",
          "name": "stdout",
          "text": [
            "10\n",
            "17\n"
          ]
        }
      ]
    },
    {
      "cell_type": "code",
      "source": [
        "class Calculator:\n",
        "    def __init__(self): #생성자, 메서드\n",
        "        self.result = 0\n",
        "    def add(self, num): #메서드\n",
        "        self.result += num\n",
        "        return self.result\n",
        "\n",
        "cal1 = Calculator()\n",
        "cal2 = Calculator()\n",
        "\n",
        "print(cal1.add(3))\n",
        "print(cal1.add(4))\n",
        "print(cal2.add(10))\n",
        "print(cal2.add(4))"
      ],
      "metadata": {
        "colab": {
          "base_uri": "https://localhost:8080/"
        },
        "id": "0Ap55RAQ-dsL",
        "outputId": "6d0264c5-7085-4b7a-f3ed-b61c9940e497"
      },
      "execution_count": null,
      "outputs": [
        {
          "output_type": "stream",
          "name": "stdout",
          "text": [
            "3\n",
            "7\n",
            "10\n",
            "14\n"
          ]
        }
      ]
    },
    {
      "cell_type": "code",
      "source": [
        "cal1.add(3)"
      ],
      "metadata": {
        "colab": {
          "base_uri": "https://localhost:8080/"
        },
        "id": "8at4G9hG_IEr",
        "outputId": "aaef4f3b-00d7-400b-c1d8-102e4250a22f"
      },
      "execution_count": null,
      "outputs": [
        {
          "output_type": "execute_result",
          "data": {
            "text/plain": [
              "3"
            ]
          },
          "metadata": {},
          "execution_count": 83
        }
      ]
    },
    {
      "cell_type": "code",
      "source": [
        "cal1.add(4)"
      ],
      "metadata": {
        "colab": {
          "base_uri": "https://localhost:8080/"
        },
        "id": "C9K9ylEv_1nZ",
        "outputId": "d18b15cb-3b7e-49cb-ee8f-33b05ac5630e"
      },
      "execution_count": null,
      "outputs": [
        {
          "output_type": "execute_result",
          "data": {
            "text/plain": [
              "7"
            ]
          },
          "metadata": {},
          "execution_count": 84
        }
      ]
    },
    {
      "cell_type": "code",
      "source": [
        "cal1.add(3)"
      ],
      "metadata": {
        "colab": {
          "base_uri": "https://localhost:8080/"
        },
        "id": "jbKy2S_bABF-",
        "outputId": "9b739380-43d0-4621-ddbf-df37b02b1b52"
      },
      "execution_count": null,
      "outputs": [
        {
          "output_type": "execute_result",
          "data": {
            "text/plain": [
              "10"
            ]
          },
          "metadata": {},
          "execution_count": 85
        }
      ]
    },
    {
      "cell_type": "code",
      "source": [
        "cal2 = Calculator()\n",
        "cal2.add(10)"
      ],
      "metadata": {
        "colab": {
          "base_uri": "https://localhost:8080/"
        },
        "id": "wI2XkySqADDm",
        "outputId": "0bd74a68-15b6-4dd2-e10e-210e7f2aeab5"
      },
      "execution_count": null,
      "outputs": [
        {
          "output_type": "execute_result",
          "data": {
            "text/plain": [
              "10"
            ]
          },
          "metadata": {},
          "execution_count": 86
        }
      ]
    },
    {
      "cell_type": "code",
      "source": [
        "cal2.add(4)"
      ],
      "metadata": {
        "colab": {
          "base_uri": "https://localhost:8080/"
        },
        "id": "xvi_w9giAKTl",
        "outputId": "5e6c2929-0a41-420e-f0dd-49671ebf90c0"
      },
      "execution_count": null,
      "outputs": [
        {
          "output_type": "execute_result",
          "data": {
            "text/plain": [
              "14"
            ]
          },
          "metadata": {},
          "execution_count": 87
        }
      ]
    },
    {
      "cell_type": "code",
      "source": [
        "cal2.add(3)"
      ],
      "metadata": {
        "colab": {
          "base_uri": "https://localhost:8080/"
        },
        "id": "7g913ru6AMT-",
        "outputId": "2d8c3029-dea9-41b6-ff88-40b49bd5b712"
      },
      "execution_count": null,
      "outputs": [
        {
          "output_type": "execute_result",
          "data": {
            "text/plain": [
              "17"
            ]
          },
          "metadata": {},
          "execution_count": 88
        }
      ]
    },
    {
      "cell_type": "code",
      "source": [],
      "metadata": {
        "id": "v-4TZ5KhAN-E"
      },
      "execution_count": null,
      "outputs": []
    },
    {
      "cell_type": "markdown",
      "metadata": {
        "id": "nL9LuKrMKR-x"
      },
      "source": [
        "## 2. 데이터 타입\n",
        "\n",
        "< Introduction to Programing in Python, Robert Sedgewic, Kevin Wayne, Robert Dondero >\n",
        "\n",
        "- 데이터 타입은 일련의 데이터 값과 이 값에 정의된 일련의 연산이다.\n",
        "\n",
        "- 파이썬에서 데이터 타입은 클래스를 이용해 구현한다. == 클래스는 객체를 만든다\n",
        "\n",
        "- 데이터 타입의 정의할 때는 먼저 API를 정의해야 한다.\n",
        "\n",
        "- 어떠한 데이터 타입을 구현하든 시작은 모두 API다.\n",
        "\n"
      ]
    },
    {
      "cell_type": "markdown",
      "metadata": {
        "id": "MxrVJM5xP-Bw"
      },
      "source": [
        "## 3.API\n",
        "\n",
        "- API 는 모듈화 프로그래밍에서 구현(implementation)과 모든 클라이언트 간의 계약이다.\n",
        "\n",
        "- 구현 : 재사용하기 위해 만들어진 일련의 함수 코드를 지칭, 모듈은 일종의 구현이다.\n",
        "\n",
        "- 클라이언트 : 구현된 모듈을 이용하는 프로그램\n",
        "\n",
        "- 클라이언트를 작성 할 수 있는 이유 : 모듈에 사용할 함수 시그너처와 함께 함수가 어떤 일을 하는지 설명한 비공식적인 계약 사항이 명시되어 있었기 때문이다.\n",
        "\n",
        "- 이런한 정보를 통틀어 애플리케이션 프로그래밍 인터페이스(API) 라 한다.\n",
        "\n",
        "- 클라이언트가 데이터 타입을 사용하는 방법을 정리한 일련의 연산 명세서"
      ]
    },
    {
      "cell_type": "markdown",
      "source": [
        "# API 사용 예제\n",
        "모듈과 클라이언트 관계에서 API 는 두 관계 사이의 계약명세서"
      ],
      "metadata": {
        "id": "Fbk7YYrxabtS"
      }
    },
    {
      "cell_type": "code",
      "source": [
        "url = 'http://www.kobis.or.kr/kobisopenapi/webservice/rest/boxoffice/searchDailyBoxOfficeList.json?key=c3a0fa760324363ef7cde2afa0d73297&targetDt=20230726'"
      ],
      "metadata": {
        "id": "CA_TntHVDU2q"
      },
      "execution_count": null,
      "outputs": []
    },
    {
      "cell_type": "code",
      "source": [
        "import requests"
      ],
      "metadata": {
        "id": "IH80Fgi6DWj0"
      },
      "execution_count": null,
      "outputs": []
    },
    {
      "cell_type": "code",
      "source": [
        "resp = requests.get(url)"
      ],
      "metadata": {
        "id": "wCpAlhAmD4dL"
      },
      "execution_count": null,
      "outputs": []
    },
    {
      "cell_type": "code",
      "source": [
        "resp"
      ],
      "metadata": {
        "colab": {
          "base_uri": "https://localhost:8080/"
        },
        "id": "Ox7XzHP2D9ld",
        "outputId": "cfaa5131-3198-45ce-cbcb-272e2c89597b"
      },
      "execution_count": null,
      "outputs": [
        {
          "output_type": "execute_result",
          "data": {
            "text/plain": [
              "<Response [200]>"
            ]
          },
          "metadata": {},
          "execution_count": 95
        }
      ]
    },
    {
      "cell_type": "code",
      "source": [
        "type(resp)"
      ],
      "metadata": {
        "id": "DYQkiOc_EF-8",
        "colab": {
          "base_uri": "https://localhost:8080/"
        },
        "outputId": "93ca79a6-e30e-41a4-a1ea-10611b2f283a"
      },
      "execution_count": null,
      "outputs": [
        {
          "output_type": "execute_result",
          "data": {
            "text/plain": [
              "requests.models.Response"
            ]
          },
          "metadata": {},
          "execution_count": 96
        }
      ]
    },
    {
      "cell_type": "markdown",
      "source": [
        "![Web_system.png](data:image/png;base64,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)"
      ],
      "metadata": {
        "id": "MIg7_re5Jjpe"
      }
    },
    {
      "cell_type": "code",
      "source": [
        "ls sample_data/"
      ],
      "metadata": {
        "colab": {
          "base_uri": "https://localhost:8080/"
        },
        "id": "z41i0uETE04a",
        "outputId": "20414c0e-6d77-457c-b7c6-e5416f97872f"
      },
      "execution_count": null,
      "outputs": [
        {
          "output_type": "stream",
          "name": "stdout",
          "text": [
            "\u001b[0m\u001b[01;32manscombe.json\u001b[0m*                mnist_test.csv\n",
            "california_housing_test.csv   mnist_train_small.csv\n",
            "california_housing_train.csv  \u001b[01;32mREADME.md\u001b[0m*\n"
          ]
        }
      ]
    },
    {
      "cell_type": "code",
      "source": [
        "more ./sample_data/anscombe.json"
      ],
      "metadata": {
        "id": "vptvo_4kGtPR"
      },
      "execution_count": null,
      "outputs": []
    },
    {
      "cell_type": "code",
      "source": [
        "data = resp.json()"
      ],
      "metadata": {
        "id": "4DXi_8SXG0Ve"
      },
      "execution_count": null,
      "outputs": []
    },
    {
      "cell_type": "code",
      "source": [
        "data.keys()"
      ],
      "metadata": {
        "colab": {
          "base_uri": "https://localhost:8080/"
        },
        "id": "rCpSIrd6HHxo",
        "outputId": "d2242a44-5f64-44c9-9602-6b7855d6b088"
      },
      "execution_count": null,
      "outputs": [
        {
          "output_type": "execute_result",
          "data": {
            "text/plain": [
              "dict_keys(['boxOfficeResult'])"
            ]
          },
          "metadata": {},
          "execution_count": 101
        }
      ]
    },
    {
      "cell_type": "code",
      "source": [
        "data['boxOfficeResult']"
      ],
      "metadata": {
        "id": "dH4Qpib1KRDP"
      },
      "execution_count": null,
      "outputs": []
    },
    {
      "cell_type": "code",
      "source": [
        "type(data['boxOfficeResult'])"
      ],
      "metadata": {
        "colab": {
          "base_uri": "https://localhost:8080/"
        },
        "id": "iGD_cqVIHJif",
        "outputId": "8c3fb399-d3b2-48ff-83c7-01b372272a9a"
      },
      "execution_count": null,
      "outputs": [
        {
          "output_type": "execute_result",
          "data": {
            "text/plain": [
              "dict"
            ]
          },
          "metadata": {},
          "execution_count": 103
        }
      ]
    },
    {
      "cell_type": "code",
      "source": [
        "data['boxOfficeResult'].keys()"
      ],
      "metadata": {
        "colab": {
          "base_uri": "https://localhost:8080/"
        },
        "id": "X_P0mYupJxVX",
        "outputId": "cbe3fb7d-42e2-4a2b-b2f1-ce9060ef216a"
      },
      "execution_count": null,
      "outputs": [
        {
          "output_type": "execute_result",
          "data": {
            "text/plain": [
              "dict_keys(['boxofficeType', 'showRange', 'dailyBoxOfficeList'])"
            ]
          },
          "metadata": {},
          "execution_count": 105
        }
      ]
    },
    {
      "cell_type": "code",
      "source": [
        "data['boxOfficeResult']['boxofficeType']"
      ],
      "metadata": {
        "colab": {
          "base_uri": "https://localhost:8080/",
          "height": 56
        },
        "id": "9AxykhfUKX1r",
        "outputId": "d328d97f-a943-41da-9f9b-3c6b6e0f5ee4"
      },
      "execution_count": null,
      "outputs": [
        {
          "output_type": "execute_result",
          "data": {
            "text/plain": [
              "'일별 박스오피스'"
            ],
            "application/vnd.google.colaboratory.intrinsic+json": {
              "type": "string"
            }
          },
          "metadata": {},
          "execution_count": 106
        }
      ]
    },
    {
      "cell_type": "code",
      "source": [
        "data['boxOfficeResult']['showRange']"
      ],
      "metadata": {
        "colab": {
          "base_uri": "https://localhost:8080/",
          "height": 56
        },
        "id": "pqNMjadvKdbk",
        "outputId": "e88bf953-b1bf-484b-b864-7dd2a99edeb7"
      },
      "execution_count": null,
      "outputs": [
        {
          "output_type": "execute_result",
          "data": {
            "text/plain": [
              "'20230726~20230726'"
            ],
            "application/vnd.google.colaboratory.intrinsic+json": {
              "type": "string"
            }
          },
          "metadata": {},
          "execution_count": 107
        }
      ]
    },
    {
      "cell_type": "code",
      "source": [
        "data['boxOfficeResult']['dailyBoxOfficeList']"
      ],
      "metadata": {
        "id": "wUJLlnZNKrqK"
      },
      "execution_count": null,
      "outputs": []
    },
    {
      "cell_type": "code",
      "source": [
        "type(data['boxOfficeResult']['dailyBoxOfficeList'])"
      ],
      "metadata": {
        "colab": {
          "base_uri": "https://localhost:8080/"
        },
        "id": "of7Va9uWLc6Q",
        "outputId": "5ab5d547-5a45-448c-b72e-85b665af2c66"
      },
      "execution_count": null,
      "outputs": [
        {
          "output_type": "execute_result",
          "data": {
            "text/plain": [
              "list"
            ]
          },
          "metadata": {},
          "execution_count": 116
        }
      ]
    },
    {
      "cell_type": "code",
      "source": [
        "len(data['boxOfficeResult']['dailyBoxOfficeList'])"
      ],
      "metadata": {
        "colab": {
          "base_uri": "https://localhost:8080/"
        },
        "id": "2WqRuCm4L8O9",
        "outputId": "747f65ed-c7de-4bb9-a9f1-a37132919c89"
      },
      "execution_count": null,
      "outputs": [
        {
          "output_type": "execute_result",
          "data": {
            "text/plain": [
              "10"
            ]
          },
          "metadata": {},
          "execution_count": 117
        }
      ]
    },
    {
      "cell_type": "code",
      "source": [
        "data['boxOfficeResult']['dailyBoxOfficeList'][0]"
      ],
      "metadata": {
        "colab": {
          "base_uri": "https://localhost:8080/"
        },
        "id": "04-GkphpMCI-",
        "outputId": "aa3481ea-3c30-4293-c8b3-23c886f62683"
      },
      "execution_count": null,
      "outputs": [
        {
          "output_type": "execute_result",
          "data": {
            "text/plain": [
              "{'rnum': '1',\n",
              " 'rank': '1',\n",
              " 'rankInten': '0',\n",
              " 'rankOldAndNew': 'NEW',\n",
              " 'movieCd': '20218541',\n",
              " 'movieNm': '밀수',\n",
              " 'openDt': '2023-07-26',\n",
              " 'salesAmt': '2572779638',\n",
              " 'salesShare': '55.8',\n",
              " 'salesInten': '2572779638',\n",
              " 'salesChange': '100',\n",
              " 'salesAcc': '2985826999',\n",
              " 'audiCnt': '318092',\n",
              " 'audiInten': '318092',\n",
              " 'audiChange': '100',\n",
              " 'audiAcc': '359274',\n",
              " 'scrnCnt': '1932',\n",
              " 'showCnt': '9141'}"
            ]
          },
          "metadata": {},
          "execution_count": 118
        }
      ]
    },
    {
      "cell_type": "code",
      "source": [
        "data['boxOfficeResult']['dailyBoxOfficeList'][1]"
      ],
      "metadata": {
        "colab": {
          "base_uri": "https://localhost:8080/"
        },
        "id": "QznFZTz4MGsV",
        "outputId": "e2d90869-39ac-4f0a-b27d-31e9f12b801e"
      },
      "execution_count": null,
      "outputs": [
        {
          "output_type": "execute_result",
          "data": {
            "text/plain": [
              "{'rnum': '2',\n",
              " 'rank': '2',\n",
              " 'rankInten': '-1',\n",
              " 'rankOldAndNew': 'OLD',\n",
              " 'movieCd': '20232631',\n",
              " 'movieNm': '미션 임파서블: 데드 레코닝 PART ONE',\n",
              " 'openDt': '2023-07-12',\n",
              " 'salesAmt': '597378762',\n",
              " 'salesShare': '13.0',\n",
              " 'salesInten': '-158667716',\n",
              " 'salesChange': '-21',\n",
              " 'salesAcc': '32125138875',\n",
              " 'audiCnt': '75246',\n",
              " 'audiInten': '-208',\n",
              " 'audiChange': '-0.3',\n",
              " 'audiAcc': '3175817',\n",
              " 'scrnCnt': '844',\n",
              " 'showCnt': '2348'}"
            ]
          },
          "metadata": {},
          "execution_count": 119
        }
      ]
    },
    {
      "cell_type": "markdown",
      "source": [
        "'rank', 'movieNm', 'openDt', 'salesAmt'\n",
        "\n",
        "자료만 추출해 주세요."
      ],
      "metadata": {
        "id": "Vc20ljq6MuYh"
      }
    },
    {
      "cell_type": "code",
      "source": [
        "def find_dict(dataset):\n",
        "    key = ['rank', 'movieNm', 'openDt', 'salesAmt']\n",
        "    result_data = {}\n",
        "    for i, j in data1.items():\n",
        "        if i in key:\n",
        "            result_data[i] = j\n",
        "    return result_data\n",
        "\n",
        "for i in data['boxOfficeResult']['dailyBoxOfficeList']:\n",
        "    #print(i)\n",
        "    print(find_dict(i))"
      ],
      "metadata": {
        "colab": {
          "base_uri": "https://localhost:8080/"
        },
        "id": "CfXj85lEMZ4K",
        "outputId": "44724595-aaa6-473f-d54e-97b23e4f9364"
      },
      "execution_count": null,
      "outputs": [
        {
          "output_type": "stream",
          "name": "stdout",
          "text": [
            "{'rank': '1', 'movieNm': '밀수', 'openDt': '2023-07-26', 'salesAmt': '2572779638'}\n",
            "{'rank': '1', 'movieNm': '밀수', 'openDt': '2023-07-26', 'salesAmt': '2572779638'}\n",
            "{'rank': '1', 'movieNm': '밀수', 'openDt': '2023-07-26', 'salesAmt': '2572779638'}\n",
            "{'rank': '1', 'movieNm': '밀수', 'openDt': '2023-07-26', 'salesAmt': '2572779638'}\n",
            "{'rank': '1', 'movieNm': '밀수', 'openDt': '2023-07-26', 'salesAmt': '2572779638'}\n",
            "{'rank': '1', 'movieNm': '밀수', 'openDt': '2023-07-26', 'salesAmt': '2572779638'}\n",
            "{'rank': '1', 'movieNm': '밀수', 'openDt': '2023-07-26', 'salesAmt': '2572779638'}\n",
            "{'rank': '1', 'movieNm': '밀수', 'openDt': '2023-07-26', 'salesAmt': '2572779638'}\n",
            "{'rank': '1', 'movieNm': '밀수', 'openDt': '2023-07-26', 'salesAmt': '2572779638'}\n",
            "{'rank': '1', 'movieNm': '밀수', 'openDt': '2023-07-26', 'salesAmt': '2572779638'}\n"
          ]
        }
      ]
    },
    {
      "cell_type": "code",
      "source": [
        "def m_List(data,want_list):\n",
        "    result = []\n",
        "    for j in range(len(data)):\n",
        "        sub_data = data[j]\n",
        "        sub_result = {}\n",
        "        for i in want_list:\n",
        "            sub_result[i] = sub_data[i]\n",
        "        result.append(sub_result)\n",
        "    return result\n",
        "\n",
        "data1 = data['boxOfficeResult']['dailyBoxOfficeList']\n",
        "want_list = ['rank', 'movieNm', 'openDt', 'salesAmt']\n",
        "m_List(data1,want_list)"
      ],
      "metadata": {
        "colab": {
          "base_uri": "https://localhost:8080/"
        },
        "id": "Qd1JMyzCPcfs",
        "outputId": "26e54f90-2ad8-4717-b693-47deddea485a"
      },
      "execution_count": null,
      "outputs": [
        {
          "output_type": "execute_result",
          "data": {
            "text/plain": [
              "[{'rank': '1',\n",
              "  'movieNm': '밀수',\n",
              "  'openDt': '2023-07-26',\n",
              "  'salesAmt': '2572779638'},\n",
              " {'rank': '2',\n",
              "  'movieNm': '미션 임파서블: 데드 레코닝 PART ONE',\n",
              "  'openDt': '2023-07-12',\n",
              "  'salesAmt': '597378762'},\n",
              " {'rank': '3',\n",
              "  'movieNm': '엘리멘탈',\n",
              "  'openDt': '2023-06-14',\n",
              "  'salesAmt': '607396370'},\n",
              " {'rank': '4',\n",
              "  'movieNm': '명탐정코난: 흑철의 어영',\n",
              "  'openDt': '2023-07-20',\n",
              "  'salesAmt': '223995907'},\n",
              " {'rank': '5',\n",
              "  'movieNm': '바비',\n",
              "  'openDt': '2023-07-19',\n",
              "  'salesAmt': '209103848'},\n",
              " {'rank': '6',\n",
              "  'movieNm': '인시디어스: 빨간 문',\n",
              "  'openDt': '2023-07-19',\n",
              "  'salesAmt': '118638190'},\n",
              " {'rank': '7',\n",
              "  'movieNm': '여름날 우리',\n",
              "  'openDt': '2021-08-25',\n",
              "  'salesAmt': '40663905'},\n",
              " {'rank': '8',\n",
              "  'movieNm': '극장판 슈퍼윙스: 맥시멈 스피드',\n",
              "  'openDt': '2023-07-20',\n",
              "  'salesAmt': '40328932'},\n",
              " {'rank': '9',\n",
              "  'movieNm': '핑크퐁 시네마 콘서트3 : 진저브레드맨을 잡아라',\n",
              "  'openDt': '2023-07-26',\n",
              "  'salesAmt': '31123200'},\n",
              " {'rank': '10',\n",
              "  'movieNm': '헌티드 맨션',\n",
              "  'openDt': '2023-07-26',\n",
              "  'salesAmt': '21523238'}]"
            ]
          },
          "metadata": {},
          "execution_count": 125
        }
      ]
    },
    {
      "cell_type": "code",
      "source": [
        "import pandas as pd"
      ],
      "metadata": {
        "id": "_JQKI4lMP48K"
      },
      "execution_count": null,
      "outputs": []
    },
    {
      "cell_type": "code",
      "source": [
        "datas = pd.DataFrame(data1)"
      ],
      "metadata": {
        "id": "JdTdBqAcQu3l"
      },
      "execution_count": null,
      "outputs": []
    },
    {
      "cell_type": "code",
      "source": [
        "datas"
      ],
      "metadata": {
        "colab": {
          "base_uri": "https://localhost:8080/",
          "height": 774
        },
        "id": "C5L-6hUnQ36r",
        "outputId": "312702fe-9426-4c36-c36d-ffab2ef41aee"
      },
      "execution_count": null,
      "outputs": [
        {
          "output_type": "execute_result",
          "data": {
            "text/plain": [
              "  rnum rank rankInten rankOldAndNew   movieCd                     movieNm  \\\n",
              "0    1    1         0           NEW  20218541                          밀수   \n",
              "1    2    2        -1           OLD  20232631    미션 임파서블: 데드 레코닝 PART ONE   \n",
              "2    3    3        -1           OLD  20228930                        엘리멘탈   \n",
              "3    4    4        -1           OLD  20232536               명탐정코난: 흑철의 어영   \n",
              "4    5    5        -1           OLD  20232740                          바비   \n",
              "5    6    6        -1           OLD  20232778                 인시디어스: 빨간 문   \n",
              "6    7    7        -1           OLD  20219331                      여름날 우리   \n",
              "7    8    8        -1           OLD  20232639           극장판 슈퍼윙스: 맥시멈 스피드   \n",
              "8    9    9        40           OLD  20232491  핑크퐁 시네마 콘서트3 : 진저브레드맨을 잡아라   \n",
              "9   10   10         0           NEW  20232854                      헌티드 맨션   \n",
              "\n",
              "       openDt    salesAmt salesShare  salesInten salesChange     salesAcc  \\\n",
              "0  2023-07-26  2572779638       55.8  2572779638         100   2985826999   \n",
              "1  2023-07-12   597378762       13.0  -158667716         -21  32125138875   \n",
              "2  2023-06-14   607396370       13.2   -45271725        -6.9  51637071952   \n",
              "3  2023-07-20   223995907        4.9   -67368096       -23.1   4277287396   \n",
              "4  2023-07-19   209103848        4.5   -45627182       -17.9   3166476896   \n",
              "5  2023-07-19   118638190        2.6  -101952218       -46.2   3018359191   \n",
              "6  2021-08-25    40663905        0.9   -21141830       -34.2   3355988750   \n",
              "7  2023-07-20    40328932        0.9   -12500452       -23.7    592790954   \n",
              "8  2023-07-26    31123200        0.7    30689200      7071.2     35313200   \n",
              "9  2023-07-26    21523238        0.5    21523238         100     23269238   \n",
              "\n",
              "  audiCnt audiInten audiChange  audiAcc scrnCnt showCnt  \n",
              "0  318092    318092        100   359274    1932    9141  \n",
              "1   75246      -208       -0.3  3175817     844    2348  \n",
              "2   73203      4635        6.8  5242140     816    2325  \n",
              "3   27190     -3321      -10.9   454856     637    1401  \n",
              "4   25670      -351       -1.3   334710     519     861  \n",
              "5   13589     -8196      -37.6   300716     475     762  \n",
              "6    4896     -1447      -22.8   342128     155     215  \n",
              "7    4747     -1467      -23.6    66565     217     242  \n",
              "8    3836      3774     6087.1     4250     111     164  \n",
              "9    2620      2620        100     2814     187     263  "
            ],
            "text/html": [
              "\n",
              "\n",
              "  <div id=\"df-df17fac7-d9cb-439f-a8bf-f4644b9f5e30\">\n",
              "    <div class=\"colab-df-container\">\n",
              "      <div>\n",
              "<style scoped>\n",
              "    .dataframe tbody tr th:only-of-type {\n",
              "        vertical-align: middle;\n",
              "    }\n",
              "\n",
              "    .dataframe tbody tr th {\n",
              "        vertical-align: top;\n",
              "    }\n",
              "\n",
              "    .dataframe thead th {\n",
              "        text-align: right;\n",
              "    }\n",
              "</style>\n",
              "<table border=\"1\" class=\"dataframe\">\n",
              "  <thead>\n",
              "    <tr style=\"text-align: right;\">\n",
              "      <th></th>\n",
              "      <th>rnum</th>\n",
              "      <th>rank</th>\n",
              "      <th>rankInten</th>\n",
              "      <th>rankOldAndNew</th>\n",
              "      <th>movieCd</th>\n",
              "      <th>movieNm</th>\n",
              "      <th>openDt</th>\n",
              "      <th>salesAmt</th>\n",
              "      <th>salesShare</th>\n",
              "      <th>salesInten</th>\n",
              "      <th>salesChange</th>\n",
              "      <th>salesAcc</th>\n",
              "      <th>audiCnt</th>\n",
              "      <th>audiInten</th>\n",
              "      <th>audiChange</th>\n",
              "      <th>audiAcc</th>\n",
              "      <th>scrnCnt</th>\n",
              "      <th>showCnt</th>\n",
              "    </tr>\n",
              "  </thead>\n",
              "  <tbody>\n",
              "    <tr>\n",
              "      <th>0</th>\n",
              "      <td>1</td>\n",
              "      <td>1</td>\n",
              "      <td>0</td>\n",
              "      <td>NEW</td>\n",
              "      <td>20218541</td>\n",
              "      <td>밀수</td>\n",
              "      <td>2023-07-26</td>\n",
              "      <td>2572779638</td>\n",
              "      <td>55.8</td>\n",
              "      <td>2572779638</td>\n",
              "      <td>100</td>\n",
              "      <td>2985826999</td>\n",
              "      <td>318092</td>\n",
              "      <td>318092</td>\n",
              "      <td>100</td>\n",
              "      <td>359274</td>\n",
              "      <td>1932</td>\n",
              "      <td>9141</td>\n",
              "    </tr>\n",
              "    <tr>\n",
              "      <th>1</th>\n",
              "      <td>2</td>\n",
              "      <td>2</td>\n",
              "      <td>-1</td>\n",
              "      <td>OLD</td>\n",
              "      <td>20232631</td>\n",
              "      <td>미션 임파서블: 데드 레코닝 PART ONE</td>\n",
              "      <td>2023-07-12</td>\n",
              "      <td>597378762</td>\n",
              "      <td>13.0</td>\n",
              "      <td>-158667716</td>\n",
              "      <td>-21</td>\n",
              "      <td>32125138875</td>\n",
              "      <td>75246</td>\n",
              "      <td>-208</td>\n",
              "      <td>-0.3</td>\n",
              "      <td>3175817</td>\n",
              "      <td>844</td>\n",
              "      <td>2348</td>\n",
              "    </tr>\n",
              "    <tr>\n",
              "      <th>2</th>\n",
              "      <td>3</td>\n",
              "      <td>3</td>\n",
              "      <td>-1</td>\n",
              "      <td>OLD</td>\n",
              "      <td>20228930</td>\n",
              "      <td>엘리멘탈</td>\n",
              "      <td>2023-06-14</td>\n",
              "      <td>607396370</td>\n",
              "      <td>13.2</td>\n",
              "      <td>-45271725</td>\n",
              "      <td>-6.9</td>\n",
              "      <td>51637071952</td>\n",
              "      <td>73203</td>\n",
              "      <td>4635</td>\n",
              "      <td>6.8</td>\n",
              "      <td>5242140</td>\n",
              "      <td>816</td>\n",
              "      <td>2325</td>\n",
              "    </tr>\n",
              "    <tr>\n",
              "      <th>3</th>\n",
              "      <td>4</td>\n",
              "      <td>4</td>\n",
              "      <td>-1</td>\n",
              "      <td>OLD</td>\n",
              "      <td>20232536</td>\n",
              "      <td>명탐정코난: 흑철의 어영</td>\n",
              "      <td>2023-07-20</td>\n",
              "      <td>223995907</td>\n",
              "      <td>4.9</td>\n",
              "      <td>-67368096</td>\n",
              "      <td>-23.1</td>\n",
              "      <td>4277287396</td>\n",
              "      <td>27190</td>\n",
              "      <td>-3321</td>\n",
              "      <td>-10.9</td>\n",
              "      <td>454856</td>\n",
              "      <td>637</td>\n",
              "      <td>1401</td>\n",
              "    </tr>\n",
              "    <tr>\n",
              "      <th>4</th>\n",
              "      <td>5</td>\n",
              "      <td>5</td>\n",
              "      <td>-1</td>\n",
              "      <td>OLD</td>\n",
              "      <td>20232740</td>\n",
              "      <td>바비</td>\n",
              "      <td>2023-07-19</td>\n",
              "      <td>209103848</td>\n",
              "      <td>4.5</td>\n",
              "      <td>-45627182</td>\n",
              "      <td>-17.9</td>\n",
              "      <td>3166476896</td>\n",
              "      <td>25670</td>\n",
              "      <td>-351</td>\n",
              "      <td>-1.3</td>\n",
              "      <td>334710</td>\n",
              "      <td>519</td>\n",
              "      <td>861</td>\n",
              "    </tr>\n",
              "    <tr>\n",
              "      <th>5</th>\n",
              "      <td>6</td>\n",
              "      <td>6</td>\n",
              "      <td>-1</td>\n",
              "      <td>OLD</td>\n",
              "      <td>20232778</td>\n",
              "      <td>인시디어스: 빨간 문</td>\n",
              "      <td>2023-07-19</td>\n",
              "      <td>118638190</td>\n",
              "      <td>2.6</td>\n",
              "      <td>-101952218</td>\n",
              "      <td>-46.2</td>\n",
              "      <td>3018359191</td>\n",
              "      <td>13589</td>\n",
              "      <td>-8196</td>\n",
              "      <td>-37.6</td>\n",
              "      <td>300716</td>\n",
              "      <td>475</td>\n",
              "      <td>762</td>\n",
              "    </tr>\n",
              "    <tr>\n",
              "      <th>6</th>\n",
              "      <td>7</td>\n",
              "      <td>7</td>\n",
              "      <td>-1</td>\n",
              "      <td>OLD</td>\n",
              "      <td>20219331</td>\n",
              "      <td>여름날 우리</td>\n",
              "      <td>2021-08-25</td>\n",
              "      <td>40663905</td>\n",
              "      <td>0.9</td>\n",
              "      <td>-21141830</td>\n",
              "      <td>-34.2</td>\n",
              "      <td>3355988750</td>\n",
              "      <td>4896</td>\n",
              "      <td>-1447</td>\n",
              "      <td>-22.8</td>\n",
              "      <td>342128</td>\n",
              "      <td>155</td>\n",
              "      <td>215</td>\n",
              "    </tr>\n",
              "    <tr>\n",
              "      <th>7</th>\n",
              "      <td>8</td>\n",
              "      <td>8</td>\n",
              "      <td>-1</td>\n",
              "      <td>OLD</td>\n",
              "      <td>20232639</td>\n",
              "      <td>극장판 슈퍼윙스: 맥시멈 스피드</td>\n",
              "      <td>2023-07-20</td>\n",
              "      <td>40328932</td>\n",
              "      <td>0.9</td>\n",
              "      <td>-12500452</td>\n",
              "      <td>-23.7</td>\n",
              "      <td>592790954</td>\n",
              "      <td>4747</td>\n",
              "      <td>-1467</td>\n",
              "      <td>-23.6</td>\n",
              "      <td>66565</td>\n",
              "      <td>217</td>\n",
              "      <td>242</td>\n",
              "    </tr>\n",
              "    <tr>\n",
              "      <th>8</th>\n",
              "      <td>9</td>\n",
              "      <td>9</td>\n",
              "      <td>40</td>\n",
              "      <td>OLD</td>\n",
              "      <td>20232491</td>\n",
              "      <td>핑크퐁 시네마 콘서트3 : 진저브레드맨을 잡아라</td>\n",
              "      <td>2023-07-26</td>\n",
              "      <td>31123200</td>\n",
              "      <td>0.7</td>\n",
              "      <td>30689200</td>\n",
              "      <td>7071.2</td>\n",
              "      <td>35313200</td>\n",
              "      <td>3836</td>\n",
              "      <td>3774</td>\n",
              "      <td>6087.1</td>\n",
              "      <td>4250</td>\n",
              "      <td>111</td>\n",
              "      <td>164</td>\n",
              "    </tr>\n",
              "    <tr>\n",
              "      <th>9</th>\n",
              "      <td>10</td>\n",
              "      <td>10</td>\n",
              "      <td>0</td>\n",
              "      <td>NEW</td>\n",
              "      <td>20232854</td>\n",
              "      <td>헌티드 맨션</td>\n",
              "      <td>2023-07-26</td>\n",
              "      <td>21523238</td>\n",
              "      <td>0.5</td>\n",
              "      <td>21523238</td>\n",
              "      <td>100</td>\n",
              "      <td>23269238</td>\n",
              "      <td>2620</td>\n",
              "      <td>2620</td>\n",
              "      <td>100</td>\n",
              "      <td>2814</td>\n",
              "      <td>187</td>\n",
              "      <td>263</td>\n",
              "    </tr>\n",
              "  </tbody>\n",
              "</table>\n",
              "</div>\n",
              "      <button class=\"colab-df-convert\" onclick=\"convertToInteractive('df-df17fac7-d9cb-439f-a8bf-f4644b9f5e30')\"\n",
              "              title=\"Convert this dataframe to an interactive table.\"\n",
              "              style=\"display:none;\">\n",
              "\n",
              "  <svg xmlns=\"http://www.w3.org/2000/svg\" height=\"24px\"viewBox=\"0 0 24 24\"\n",
              "       width=\"24px\">\n",
              "    <path d=\"M0 0h24v24H0V0z\" fill=\"none\"/>\n",
              "    <path d=\"M18.56 5.44l.94 2.06.94-2.06 2.06-.94-2.06-.94-.94-2.06-.94 2.06-2.06.94zm-11 1L8.5 8.5l.94-2.06 2.06-.94-2.06-.94L8.5 2.5l-.94 2.06-2.06.94zm10 10l.94 2.06.94-2.06 2.06-.94-2.06-.94-.94-2.06-.94 2.06-2.06.94z\"/><path d=\"M17.41 7.96l-1.37-1.37c-.4-.4-.92-.59-1.43-.59-.52 0-1.04.2-1.43.59L10.3 9.45l-7.72 7.72c-.78.78-.78 2.05 0 2.83L4 21.41c.39.39.9.59 1.41.59.51 0 1.02-.2 1.41-.59l7.78-7.78 2.81-2.81c.8-.78.8-2.07 0-2.86zM5.41 20L4 18.59l7.72-7.72 1.47 1.35L5.41 20z\"/>\n",
              "  </svg>\n",
              "      </button>\n",
              "\n",
              "\n",
              "\n",
              "    <div id=\"df-0fadbb6d-bd7c-4ad7-a9ab-d749d8de43e1\">\n",
              "      <button class=\"colab-df-quickchart\" onclick=\"quickchart('df-0fadbb6d-bd7c-4ad7-a9ab-d749d8de43e1')\"\n",
              "              title=\"Suggest charts.\"\n",
              "              style=\"display:none;\">\n",
              "\n",
              "<svg xmlns=\"http://www.w3.org/2000/svg\" height=\"24px\"viewBox=\"0 0 24 24\"\n",
              "     width=\"24px\">\n",
              "    <g>\n",
              "        <path d=\"M19 3H5c-1.1 0-2 .9-2 2v14c0 1.1.9 2 2 2h14c1.1 0 2-.9 2-2V5c0-1.1-.9-2-2-2zM9 17H7v-7h2v7zm4 0h-2V7h2v10zm4 0h-2v-4h2v4z\"/>\n",
              "    </g>\n",
              "</svg>\n",
              "      </button>\n",
              "    </div>\n",
              "\n",
              "<style>\n",
              "  .colab-df-quickchart {\n",
              "    background-color: #E8F0FE;\n",
              "    border: none;\n",
              "    border-radius: 50%;\n",
              "    cursor: pointer;\n",
              "    display: none;\n",
              "    fill: #1967D2;\n",
              "    height: 32px;\n",
              "    padding: 0 0 0 0;\n",
              "    width: 32px;\n",
              "  }\n",
              "\n",
              "  .colab-df-quickchart:hover {\n",
              "    background-color: #E2EBFA;\n",
              "    box-shadow: 0px 1px 2px rgba(60, 64, 67, 0.3), 0px 1px 3px 1px rgba(60, 64, 67, 0.15);\n",
              "    fill: #174EA6;\n",
              "  }\n",
              "\n",
              "  [theme=dark] .colab-df-quickchart {\n",
              "    background-color: #3B4455;\n",
              "    fill: #D2E3FC;\n",
              "  }\n",
              "\n",
              "  [theme=dark] .colab-df-quickchart:hover {\n",
              "    background-color: #434B5C;\n",
              "    box-shadow: 0px 1px 3px 1px rgba(0, 0, 0, 0.15);\n",
              "    filter: drop-shadow(0px 1px 2px rgba(0, 0, 0, 0.3));\n",
              "    fill: #FFFFFF;\n",
              "  }\n",
              "</style>\n",
              "\n",
              "    <script>\n",
              "      async function quickchart(key) {\n",
              "        const containerElement = document.querySelector('#' + key);\n",
              "        const charts = await google.colab.kernel.invokeFunction(\n",
              "            'suggestCharts', [key], {});\n",
              "      }\n",
              "    </script>\n",
              "\n",
              "      <script>\n",
              "\n",
              "function displayQuickchartButton(domScope) {\n",
              "  let quickchartButtonEl =\n",
              "    domScope.querySelector('#df-0fadbb6d-bd7c-4ad7-a9ab-d749d8de43e1 button.colab-df-quickchart');\n",
              "  quickchartButtonEl.style.display =\n",
              "    google.colab.kernel.accessAllowed ? 'block' : 'none';\n",
              "}\n",
              "\n",
              "        displayQuickchartButton(document);\n",
              "      </script>\n",
              "      <style>\n",
              "    .colab-df-container {\n",
              "      display:flex;\n",
              "      flex-wrap:wrap;\n",
              "      gap: 12px;\n",
              "    }\n",
              "\n",
              "    .colab-df-convert {\n",
              "      background-color: #E8F0FE;\n",
              "      border: none;\n",
              "      border-radius: 50%;\n",
              "      cursor: pointer;\n",
              "      display: none;\n",
              "      fill: #1967D2;\n",
              "      height: 32px;\n",
              "      padding: 0 0 0 0;\n",
              "      width: 32px;\n",
              "    }\n",
              "\n",
              "    .colab-df-convert:hover {\n",
              "      background-color: #E2EBFA;\n",
              "      box-shadow: 0px 1px 2px rgba(60, 64, 67, 0.3), 0px 1px 3px 1px rgba(60, 64, 67, 0.15);\n",
              "      fill: #174EA6;\n",
              "    }\n",
              "\n",
              "    [theme=dark] .colab-df-convert {\n",
              "      background-color: #3B4455;\n",
              "      fill: #D2E3FC;\n",
              "    }\n",
              "\n",
              "    [theme=dark] .colab-df-convert:hover {\n",
              "      background-color: #434B5C;\n",
              "      box-shadow: 0px 1px 3px 1px rgba(0, 0, 0, 0.15);\n",
              "      filter: drop-shadow(0px 1px 2px rgba(0, 0, 0, 0.3));\n",
              "      fill: #FFFFFF;\n",
              "    }\n",
              "  </style>\n",
              "\n",
              "      <script>\n",
              "        const buttonEl =\n",
              "          document.querySelector('#df-df17fac7-d9cb-439f-a8bf-f4644b9f5e30 button.colab-df-convert');\n",
              "        buttonEl.style.display =\n",
              "          google.colab.kernel.accessAllowed ? 'block' : 'none';\n",
              "\n",
              "        async function convertToInteractive(key) {\n",
              "          const element = document.querySelector('#df-df17fac7-d9cb-439f-a8bf-f4644b9f5e30');\n",
              "          const dataTable =\n",
              "            await google.colab.kernel.invokeFunction('convertToInteractive',\n",
              "                                                     [key], {});\n",
              "          if (!dataTable) return;\n",
              "\n",
              "          const docLinkHtml = 'Like what you see? Visit the ' +\n",
              "            '<a target=\"_blank\" href=https://colab.research.google.com/notebooks/data_table.ipynb>data table notebook</a>'\n",
              "            + ' to learn more about interactive tables.';\n",
              "          element.innerHTML = '';\n",
              "          dataTable['output_type'] = 'display_data';\n",
              "          await google.colab.output.renderOutput(dataTable, element);\n",
              "          const docLink = document.createElement('div');\n",
              "          docLink.innerHTML = docLinkHtml;\n",
              "          element.appendChild(docLink);\n",
              "        }\n",
              "      </script>\n",
              "    </div>\n",
              "  </div>\n"
            ]
          },
          "metadata": {},
          "execution_count": 128
        }
      ]
    },
    {
      "cell_type": "code",
      "source": [],
      "metadata": {
        "id": "GDLczEy9Q4ix"
      },
      "execution_count": null,
      "outputs": []
    },
    {
      "cell_type": "markdown",
      "metadata": {
        "id": "roBswSiGhmkd"
      },
      "source": [
        "## 5.클래스\n",
        "\n",
        "<파이썬3 바이블, 이강성>\n",
        "\n",
        "- 클래스는 새로운 이름 공간을 지원하는 단위이다.\n",
        "\n",
        "- 이 이름 공간에는 함수와 변수가 포함될 수 있다.\n",
        "\n",
        "- 클래스를 정의하는 것은 새로운 자료형을 하나 만드는 것이다.\n",
        "\n",
        "- 인스턴스는 이 자료형의 객체를 생성하는 것이다.\n",
        "\n",
        "- 클래스 인스턴스 : 클래스를 호출하여 생성된 객체이다.\n",
        "\n",
        "- 클래스 인스턴스는 클래스의 실제 객체이다.\n",
        "\n",
        "- 클래스 인스턴스 객체 : 클래스 인스턴스와 같은 의미이다. 인스턴스 객체라고 부르기도 한다.\n",
        "\n",
        "- 멤버 : 클래스 혹은 클래스 인스턴스 공간에 정의된 변수이다.\n",
        "\n",
        "- 메서드 : 클래스 공간에 정의된 함수이다.\n",
        "\n",
        "- 속성(Attribute) : 멤버와 메서드 전체를 가리킨다.\n",
        "\n"
      ]
    },
    {
      "cell_type": "code",
      "source": [
        "cal1 = Calculator() # 인스턴스 객체 == cal1, 클래스 호출 == Calculator()"
      ],
      "metadata": {
        "id": "F7druKkUSFme"
      },
      "execution_count": null,
      "outputs": []
    },
    {
      "cell_type": "markdown",
      "source": [
        "![class-페이지-2.drawio.png](data:image/png;base64,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)"
      ],
      "metadata": {
        "id": "mWHccoGPvrvn"
      }
    },
    {
      "cell_type": "code",
      "source": [
        "cal1.add(20)"
      ],
      "metadata": {
        "colab": {
          "base_uri": "https://localhost:8080/"
        },
        "id": "VZ6smo51ZmfA",
        "outputId": "fdbb5314-7452-4d2d-d463-d65c88fe737e"
      },
      "execution_count": null,
      "outputs": [
        {
          "output_type": "execute_result",
          "data": {
            "text/plain": [
              "20"
            ]
          },
          "metadata": {},
          "execution_count": 131
        }
      ]
    },
    {
      "cell_type": "code",
      "source": [
        "class Calculator:\n",
        "    def __init__(self): #생성자, 메서드\n",
        "        self.result = 0\n",
        "    def add(self, num): #메서드\n",
        "        self.result += num\n",
        "        return self.result"
      ],
      "metadata": {
        "id": "Fx2GgwZOZvxx"
      },
      "execution_count": null,
      "outputs": []
    },
    {
      "cell_type": "markdown",
      "source": [
        "![class.drawio.png](data:image/png;base64,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)"
      ],
      "metadata": {
        "id": "0G9VTyezt072"
      }
    },
    {
      "cell_type": "code",
      "source": [],
      "metadata": {
        "id": "qY9vcHeJSIKu"
      },
      "execution_count": null,
      "outputs": []
    }
  ]
}