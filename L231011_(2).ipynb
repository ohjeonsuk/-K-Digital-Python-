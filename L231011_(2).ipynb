{
  "nbformat": 4,
  "nbformat_minor": 0,
  "metadata": {
    "colab": {
      "provenance": [],
      "include_colab_link": true
    },
    "kernelspec": {
      "name": "python3",
      "display_name": "Python 3"
    },
    "language_info": {
      "name": "python"
    }
  },
  "cells": [
    {
      "cell_type": "markdown",
      "metadata": {
        "id": "view-in-github",
        "colab_type": "text"
      },
      "source": [
        "<a href=\"https://colab.research.google.com/github/ohjeonsuk/python-education/blob/main/L231011_(2).ipynb\" target=\"_parent\"><img src=\"https://colab.research.google.com/assets/colab-badge.svg\" alt=\"Open In Colab\"/></a>"
      ]
    },
    {
      "cell_type": "markdown",
      "source": [
        "1. 통계적 머신러닝\n",
        "    - sklearn\n",
        "\n",
        "        데이터 분리 : 훈련, 검증, 테스트 (K-Fold, cross_val_score)\n",
        "\n",
        "        하이퍼파라미터 : GridSearchCV\n",
        "\n",
        "    - 평가\n",
        "\n",
        "        정확도, 오차행렬\n",
        "\n",
        "        정밀도, 재현율\n",
        "\n",
        "        F1 스코어, ROC 곡선, AUC\n",
        "    - 분류\n",
        "\n",
        "        결정트리\n",
        "\n",
        "        랜덤포레스트(앙상블)\n",
        "        \n",
        "        XGBoost\n",
        "\n",
        "        SVM\n",
        "\n",
        "    - 회귀\n",
        "\n",
        "        선형회귀\n",
        "\n",
        "        다항회귀\n",
        "\n",
        "        릿지, 라쏘, 엘라스틱넷\n",
        "\n",
        "        로지스틱회귀\n",
        "\n",
        "    - 차원축소 / 군집\n",
        "\n",
        "        pca\n",
        "\n",
        "        KMeans\n",
        "\n",
        "        군집평가, DBSCAN\n",
        "\n",
        "    - 텍스트 처리\n",
        "\n",
        "        NLP, BOW\n",
        "\n",
        "        텍스트 분류\n",
        "\n",
        "        감성분석\n",
        "\n",
        "        문서유사도\n",
        "\n",
        "2. 딥러닝\n",
        "\n",
        "    - ANN\n",
        "\n",
        "    - 경사하강법\n",
        "\n",
        "    - 오차역전파\n",
        "\n",
        "    - Optimizer\n",
        "\n",
        "    - CNN\n",
        "\n",
        "    - ResNet\n",
        "\n",
        "    - RNN, LSTM, GRU"
      ],
      "metadata": {
        "id": "zbPqHB2b5s7P"
      }
    },
    {
      "cell_type": "code",
      "execution_count": null,
      "metadata": {
        "id": "23PRNYGM5sQ3"
      },
      "outputs": [],
      "source": [
        "from sklearn.metrics import confusion_matrix, accuracy_score, precision_score, recall_score, precision_recall_curve\n",
        "\n",
        "def get_clf_eval(y_test, pred):\n",
        "    confusion = confusion_matrix(y_test, pred)\n",
        "    accuracy = accuracy_score(y_test, pred)\n",
        "    precision = precision_score(y_test, pred)\n",
        "    recall = recall_score(y_test, pred)\n",
        "    print(confusion, accuracy, precision, recall)"
      ]
    },
    {
      "cell_type": "code",
      "source": [
        "from sklearn.preprocessing import Binarizer\n",
        "\n",
        "def get_eval_binar(thresholds, y_tests, pred_probas):\n",
        "    binar = Binarizer(threshold=thresholds)\n",
        "    y_binar = binar.fit_transform(pred_probas)\n",
        "    print(\"## \", thresholds, ' : ')\n",
        "    get_clf_eval(y_tests, y_binar[:,1])"
      ],
      "metadata": {
        "id": "2Rc_4okyDhsX"
      },
      "execution_count": null,
      "outputs": []
    },
    {
      "cell_type": "code",
      "source": [
        "from sklearn.model_selection import train_test_split\n",
        "from sklearn.linear_model import LogisticRegression"
      ],
      "metadata": {
        "id": "gLLx4FQRD1ls"
      },
      "execution_count": null,
      "outputs": []
    },
    {
      "cell_type": "code",
      "source": [
        "from sklearn.preprocessing import LabelEncoder\n",
        "\n",
        "def fillna(df):\n",
        "    df['Age'].fillna(df['Age'].mean(), inplace=True)\n",
        "    df['Cabin'].fillna('N', inplace=True)\n",
        "    df['Embarked'].fillna('N', inplace=True)\n",
        "    return df\n",
        "\n",
        "\n",
        "def drop_features(df):\n",
        "    df.drop(['PassengerId', 'Name', 'Ticket'], axis=1, inplace=True)\n",
        "    return df\n",
        "\n",
        "\n",
        "def format_features(df):\n",
        "    df['Cabin'] = df['Cabin'].str[:1]\n",
        "    features = ['Cabin', 'Sex', 'Embarked']\n",
        "    for feature in features:\n",
        "        le = LabelEncoder()\n",
        "        le.fit(df[feature])\n",
        "        df[feature] = le.transform(df[feature])\n",
        "    return df\n",
        "\n",
        "def transform_features(df):\n",
        "    df = fillna(df)\n",
        "    df = drop_features(df)\n",
        "    df = format_features(df)\n",
        "    return df"
      ],
      "metadata": {
        "id": "wNcno_jmEZfi"
      },
      "execution_count": null,
      "outputs": []
    },
    {
      "cell_type": "code",
      "source": [
        "import pandas as pd\n",
        "import numpy as np\n",
        "import matplotlib.pyplot as plt\n",
        "%matplotlib inline"
      ],
      "metadata": {
        "id": "7G0d3lu7EgEB"
      },
      "execution_count": null,
      "outputs": []
    },
    {
      "cell_type": "code",
      "source": [
        "titanic = pd.read_csv('./drive/MyDrive/data/titanic_train.csv')"
      ],
      "metadata": {
        "id": "FIQ8jR3KEgrN"
      },
      "execution_count": null,
      "outputs": []
    },
    {
      "cell_type": "code",
      "source": [
        "titanic.info()"
      ],
      "metadata": {
        "colab": {
          "base_uri": "https://localhost:8080/"
        },
        "id": "ruAdzoelE8EP",
        "outputId": "7e4ebe30-6f6c-45af-b80f-998863590d11"
      },
      "execution_count": null,
      "outputs": [
        {
          "output_type": "stream",
          "name": "stdout",
          "text": [
            "<class 'pandas.core.frame.DataFrame'>\n",
            "RangeIndex: 891 entries, 0 to 890\n",
            "Data columns (total 12 columns):\n",
            " #   Column       Non-Null Count  Dtype  \n",
            "---  ------       --------------  -----  \n",
            " 0   PassengerId  891 non-null    int64  \n",
            " 1   Survived     891 non-null    int64  \n",
            " 2   Pclass       891 non-null    int64  \n",
            " 3   Name         891 non-null    object \n",
            " 4   Sex          891 non-null    object \n",
            " 5   Age          714 non-null    float64\n",
            " 6   SibSp        891 non-null    int64  \n",
            " 7   Parch        891 non-null    int64  \n",
            " 8   Ticket       891 non-null    object \n",
            " 9   Fare         891 non-null    float64\n",
            " 10  Cabin        204 non-null    object \n",
            " 11  Embarked     889 non-null    object \n",
            "dtypes: float64(2), int64(5), object(5)\n",
            "memory usage: 83.7+ KB\n"
          ]
        }
      ]
    },
    {
      "cell_type": "code",
      "source": [
        "y_titanic = titanic.Survived\n",
        "X_titanic = titanic.drop('Survived', axis=1)"
      ],
      "metadata": {
        "id": "sMSbbxK9FGLW"
      },
      "execution_count": null,
      "outputs": []
    },
    {
      "cell_type": "code",
      "source": [
        "X_titanic = transform_features(X_titanic)"
      ],
      "metadata": {
        "id": "RwZ0bclRFVjs"
      },
      "execution_count": null,
      "outputs": []
    },
    {
      "cell_type": "code",
      "source": [
        "X_train, X_test, y_train, y_test = train_test_split(X_titanic, y_titanic, test_size=0.2, random_state=2)"
      ],
      "metadata": {
        "id": "-tyzdMtqFbxV"
      },
      "execution_count": null,
      "outputs": []
    },
    {
      "cell_type": "code",
      "source": [
        "lr_clf = LogisticRegression(max_iter=5000, random_state=2)\n",
        "lr_clf.fit(X_train, y_train)\n",
        "pred = lr_clf.predict(X_test)\n",
        "get_clf_eval(y_test, pred)"
      ],
      "metadata": {
        "colab": {
          "base_uri": "https://localhost:8080/"
        },
        "id": "_JGZ6n4OF9TF",
        "outputId": "bc798c0e-b708-4390-acb7-3daf7b8fc41c"
      },
      "execution_count": null,
      "outputs": [
        {
          "output_type": "stream",
          "name": "stdout",
          "text": [
            "[[88 12]\n",
            " [28 51]] 0.776536312849162 0.8095238095238095 0.6455696202531646\n"
          ]
        }
      ]
    },
    {
      "cell_type": "code",
      "source": [
        "pred_proba = lr_clf.predict_proba(X_test)"
      ],
      "metadata": {
        "id": "tQov14UtGTrd"
      },
      "execution_count": null,
      "outputs": []
    },
    {
      "cell_type": "code",
      "source": [
        "pred_proba"
      ],
      "metadata": {
        "id": "sZwYSY-pGjsQ"
      },
      "execution_count": null,
      "outputs": []
    },
    {
      "cell_type": "code",
      "source": [
        "from sklearn.metrics import f1_score"
      ],
      "metadata": {
        "id": "eOf7wrg1Glvp"
      },
      "execution_count": null,
      "outputs": []
    },
    {
      "cell_type": "code",
      "source": [
        "f1 = f1_score(y_test, pred)\n",
        "f1"
      ],
      "metadata": {
        "colab": {
          "base_uri": "https://localhost:8080/"
        },
        "id": "r63P3fItHRgr",
        "outputId": "7ccf462b-616f-400a-ab5b-eaad1b3de95b"
      },
      "execution_count": null,
      "outputs": [
        {
          "output_type": "execute_result",
          "data": {
            "text/plain": [
              "0.7183098591549295"
            ]
          },
          "metadata": {},
          "execution_count": 22
        }
      ]
    },
    {
      "cell_type": "code",
      "source": [
        "def get_clf_eval(y_test, pred):\n",
        "    confusion = confusion_matrix(y_test, pred)\n",
        "    accuracy = accuracy_score(y_test, pred)\n",
        "    precision = precision_score(y_test, pred)\n",
        "    recall = recall_score(y_test, pred)\n",
        "    f1 = f1_score(y_test, pred)\n",
        "    print(confusion, np.round(accuracy,3), np.round(precision,3), np.round(recall,3), np.round(f1,3))"
      ],
      "metadata": {
        "id": "Knui4AT9H1HT"
      },
      "execution_count": null,
      "outputs": []
    },
    {
      "cell_type": "code",
      "source": [
        "thresholds = [0.40, 0.45, 0.50, 0.55, 0.60]"
      ],
      "metadata": {
        "id": "9PLnZ40UI2by"
      },
      "execution_count": null,
      "outputs": []
    },
    {
      "cell_type": "code",
      "source": [
        "def get_eval_binar(thresholds, y_tests, pred_probas):\n",
        "    binar = Binarizer(threshold=thresholds)\n",
        "    y_binar = binar.fit_transform(pred_probas)\n",
        "    print(\"## \", thresholds, ' : ')\n",
        "    get_clf_eval(y_tests, y_binar[:,1])"
      ],
      "metadata": {
        "id": "dyl-lJJYI8vK"
      },
      "execution_count": null,
      "outputs": []
    },
    {
      "cell_type": "code",
      "source": [
        "pred_proba = lr_clf.predict_proba(X_test)\n",
        "for i in thresholds:\n",
        "    get_eval_binar(i, y_test, pred_proba)"
      ],
      "metadata": {
        "colab": {
          "base_uri": "https://localhost:8080/"
        },
        "id": "5ANIWiRDJrjj",
        "outputId": "f7ccc398-213a-451f-cb40-fd267fc8077e"
      },
      "execution_count": null,
      "outputs": [
        {
          "output_type": "stream",
          "name": "stdout",
          "text": [
            "##  0.4  : \n",
            "[[84 16]\n",
            " [25 54]] 0.771 0.771 0.684 0.725\n",
            "##  0.45  : \n",
            "[[84 16]\n",
            " [26 53]] 0.765 0.768 0.671 0.716\n",
            "##  0.5  : \n",
            "[[88 12]\n",
            " [28 51]] 0.777 0.81 0.646 0.718\n",
            "##  0.55  : \n",
            "[[92  8]\n",
            " [33 46]] 0.771 0.852 0.582 0.692\n",
            "##  0.6  : \n",
            "[[95  5]\n",
            " [35 44]] 0.777 0.898 0.557 0.688\n"
          ]
        }
      ]
    },
    {
      "cell_type": "markdown",
      "source": [
        "#ROC, AUC"
      ],
      "metadata": {
        "id": "qM4dBddzK0vB"
      }
    },
    {
      "cell_type": "markdown",
      "source": [
        "ROC = Receiver Operation Characteristic\n",
        "\n",
        "AUC = Area under the curve"
      ],
      "metadata": {
        "id": "FiEOxhzSK3N7"
      }
    },
    {
      "cell_type": "code",
      "source": [],
      "metadata": {
        "id": "w4kt1aXBKA5r"
      },
      "execution_count": null,
      "outputs": []
    },
    {
      "cell_type": "markdown",
      "metadata": {
        "id": "hat0pRdCbrDR"
      },
      "source": [
        "![0_-dBz1HonBn39H0xc.png](data:image/png;base64,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)"
      ]
    },
    {
      "cell_type": "markdown",
      "source": [
        "FPR = False positive rate\n",
        "\n",
        "TPR = True positive rate"
      ],
      "metadata": {
        "id": "UYiU6vbRMGH6"
      }
    },
    {
      "cell_type": "markdown",
      "source": [
        "TPR = TP / (TP+FN) = recall\n",
        "\n",
        "    FN = 0,  TPR = 1"
      ],
      "metadata": {
        "id": "lXIAI443MRKd"
      }
    },
    {
      "cell_type": "markdown",
      "source": [
        "TNR = TN / (TN+FP) = specificity\n",
        "\n",
        "    FP = 0, TNR = 1"
      ],
      "metadata": {
        "id": "nh_dYmEwMhGQ"
      }
    },
    {
      "cell_type": "markdown",
      "source": [
        "FPR = FP / (TN+FP) = 1- TNR\n",
        "\n",
        "    FP = 0, FPR = 0"
      ],
      "metadata": {
        "id": "KUgMGMolLw8d"
      }
    },
    {
      "cell_type": "markdown",
      "source": [
        "$$\n",
        "{TN+FP \\over TN+FP} - {TN \\over TN+FP} = 1 - TNR\n",
        "$$"
      ],
      "metadata": {
        "id": "mD_G2OYwNE_c"
      }
    },
    {
      "cell_type": "code",
      "source": [
        "from sklearn.metrics import roc_curve"
      ],
      "metadata": {
        "id": "9yJxp_hnM_-a"
      },
      "execution_count": null,
      "outputs": []
    },
    {
      "cell_type": "markdown",
      "source": [
        "roc_curve 입력값 : y_test, 1(=positive)의 확률\n",
        "\n",
        "roc_curve 출력값 : fpr, tpr, thresholds"
      ],
      "metadata": {
        "id": "sd93tarARh3L"
      }
    },
    {
      "cell_type": "code",
      "source": [
        "pred_proba_class1 = lr_clf.predict_proba(X_test)[:, 1]\n",
        "fprs, tprs, thresholds = roc_curve(y_test, pred_proba_class1)"
      ],
      "metadata": {
        "id": "wd3n-rrRRewT"
      },
      "execution_count": null,
      "outputs": []
    },
    {
      "cell_type": "code",
      "source": [
        "plt.figure(figsize=(6,6))\n",
        "plt.plot(fprs, tprs, label = \"ROC\")\n",
        "plt.plot([0,1],[0,1], 'k--', label = 'Random')\n",
        "plt.xlabel('FPR',fontsize=25)\n",
        "plt.ylabel('TPR',fontsize=25)\n",
        "plt.tick_params(length=10, labelsize=20)\n",
        "plt.title('ROC Curve',fontsize=25)\n",
        "plt.tight_layout()\n",
        "plt.grid()\n",
        "plt.legend(loc='lower right')"
      ],
      "metadata": {
        "colab": {
          "base_uri": "https://localhost:8080/",
          "height": 624
        },
        "id": "Lq0qMOkMScHp",
        "outputId": "4376b47a-81b8-4bfa-a666-2157640c69fb"
      },
      "execution_count": null,
      "outputs": [
        {
          "output_type": "execute_result",
          "data": {
            "text/plain": [
              "<matplotlib.legend.Legend at 0x7a0e55372110>"
            ]
          },
          "metadata": {},
          "execution_count": 32
        },
        {
          "output_type": "display_data",
          "data": {
            "text/plain": [
              "<Figure size 600x600 with 1 Axes>"
            ],
            "image/png": "[encoded data removed]"
          },
          "metadata": {}
        }
      ]
    },
    {
      "cell_type": "code",
      "source": [
        "from sklearn.metrics import roc_auc_score\n",
        "\n",
        "r_aucs = roc_auc_score(y_test, pred_proba_class1)"
      ],
      "metadata": {
        "id": "XFH5Y_o2Ukid"
      },
      "execution_count": null,
      "outputs": []
    },
    {
      "cell_type": "code",
      "source": [
        "r_aucs"
      ],
      "metadata": {
        "colab": {
          "base_uri": "https://localhost:8080/"
        },
        "id": "RnJjmv50VZC_",
        "outputId": "e1294c95-a60f-4a7f-c522-cfb70d09c477"
      },
      "execution_count": null,
      "outputs": [
        {
          "output_type": "execute_result",
          "data": {
            "text/plain": [
              "0.829620253164557"
            ]
          },
          "metadata": {},
          "execution_count": 35
        }
      ]
    },
    {
      "cell_type": "code",
      "source": [
        "def get_clf_eval(y_test, pred, pred_probas=None):\n",
        "    confusion = confusion_matrix(y_test, pred)\n",
        "    accuracy = accuracy_score(y_test, pred)\n",
        "    precision = precision_score(y_test, pred)\n",
        "    recall = recall_score(y_test, pred)\n",
        "    f1 = f1_score(y_test, pred)\n",
        "    roc_aucs = roc_auc_score(y_test, pred_probas)\n",
        "    print(confusion, np.round(accuracy,3), np.round(precision,3), np.round(recall,3), np.round(f1,3), roc_aucs)"
      ],
      "metadata": {
        "id": "DPdVVd0pVdoO"
      },
      "execution_count": null,
      "outputs": []
    },
    {
      "cell_type": "code",
      "source": [
        "get_clf_eval(y_test, pred, pred_proba_class1)"
      ],
      "metadata": {
        "colab": {
          "base_uri": "https://localhost:8080/"
        },
        "id": "hfX1amK2V_31",
        "outputId": "936e93f1-f09f-4b8f-acfd-941806cf7043"
      },
      "execution_count": null,
      "outputs": [
        {
          "output_type": "stream",
          "name": "stdout",
          "text": [
            "[[88 12]\n",
            " [28 51]] 0.777 0.81 0.646 0.718 0.829620253164557\n"
          ]
        }
      ]
    },
    {
      "cell_type": "code",
      "source": [
        "from sklearn.datasets import load_breast_cancer"
      ],
      "metadata": {
        "id": "-xwK975mWKwS"
      },
      "execution_count": null,
      "outputs": []
    },
    {
      "cell_type": "code",
      "source": [
        "cancer = load_breast_cancer()"
      ],
      "metadata": {
        "id": "CVMudYqXWlQm"
      },
      "execution_count": null,
      "outputs": []
    },
    {
      "cell_type": "code",
      "source": [
        "cancer.feature_names"
      ],
      "metadata": {
        "colab": {
          "base_uri": "https://localhost:8080/"
        },
        "id": "LBpwMRMeWsGo",
        "outputId": "b23dbf36-1a4a-4da0-ff8f-d3eecfba7492"
      },
      "execution_count": null,
      "outputs": [
        {
          "output_type": "execute_result",
          "data": {
            "text/plain": [
              "array(['mean radius', 'mean texture', 'mean perimeter', 'mean area',\n",
              "       'mean smoothness', 'mean compactness', 'mean concavity',\n",
              "       'mean concave points', 'mean symmetry', 'mean fractal dimension',\n",
              "       'radius error', 'texture error', 'perimeter error', 'area error',\n",
              "       'smoothness error', 'compactness error', 'concavity error',\n",
              "       'concave points error', 'symmetry error',\n",
              "       'fractal dimension error', 'worst radius', 'worst texture',\n",
              "       'worst perimeter', 'worst area', 'worst smoothness',\n",
              "       'worst compactness', 'worst concavity', 'worst concave points',\n",
              "       'worst symmetry', 'worst fractal dimension'], dtype='<U23')"
            ]
          },
          "metadata": {},
          "execution_count": 45
        }
      ]
    },
    {
      "cell_type": "code",
      "source": [
        "cancer.target_names"
      ],
      "metadata": {
        "colab": {
          "base_uri": "https://localhost:8080/"
        },
        "id": "yJAUc0tRWvCV",
        "outputId": "25cbadc5-0a03-43f5-e529-b6da7b8a51c0"
      },
      "execution_count": null,
      "outputs": [
        {
          "output_type": "execute_result",
          "data": {
            "text/plain": [
              "array(['malignant', 'benign'], dtype='<U9')"
            ]
          },
          "metadata": {},
          "execution_count": 46
        }
      ]
    },
    {
      "cell_type": "code",
      "source": [
        "cancer.target"
      ],
      "metadata": {
        "colab": {
          "base_uri": "https://localhost:8080/"
        },
        "id": "-JA51Cg7XMXu",
        "outputId": "77b090cb-697a-42b9-a5ae-023fe666f21a"
      },
      "execution_count": null,
      "outputs": [
        {
          "output_type": "execute_result",
          "data": {
            "text/plain": [
              "array([0, 0, 0, 0, 0, 0, 0, 0, 0, 0, 0, 0, 0, 0, 0, 0, 0, 0, 0, 1, 1, 1,\n",
              "       0, 0, 0, 0, 0, 0, 0, 0, 0, 0, 0, 0, 0, 0, 0, 1, 0, 0, 0, 0, 0, 0,\n",
              "       0, 0, 1, 0, 1, 1, 1, 1, 1, 0, 0, 1, 0, 0, 1, 1, 1, 1, 0, 1, 0, 0,\n",
              "       1, 1, 1, 1, 0, 1, 0, 0, 1, 0, 1, 0, 0, 1, 1, 1, 0, 0, 1, 0, 0, 0,\n",
              "       1, 1, 1, 0, 1, 1, 0, 0, 1, 1, 1, 0, 0, 1, 1, 1, 1, 0, 1, 1, 0, 1,\n",
              "       1, 1, 1, 1, 1, 1, 1, 0, 0, 0, 1, 0, 0, 1, 1, 1, 0, 0, 1, 0, 1, 0,\n",
              "       0, 1, 0, 0, 1, 1, 0, 1, 1, 0, 1, 1, 1, 1, 0, 1, 1, 1, 1, 1, 1, 1,\n",
              "       1, 1, 0, 1, 1, 1, 1, 0, 0, 1, 0, 1, 1, 0, 0, 1, 1, 0, 0, 1, 1, 1,\n",
              "       1, 0, 1, 1, 0, 0, 0, 1, 0, 1, 0, 1, 1, 1, 0, 1, 1, 0, 0, 1, 0, 0,\n",
              "       0, 0, 1, 0, 0, 0, 1, 0, 1, 0, 1, 1, 0, 1, 0, 0, 0, 0, 1, 1, 0, 0,\n",
              "       1, 1, 1, 0, 1, 1, 1, 1, 1, 0, 0, 1, 1, 0, 1, 1, 0, 0, 1, 0, 1, 1,\n",
              "       1, 1, 0, 1, 1, 1, 1, 1, 0, 1, 0, 0, 0, 0, 0, 0, 0, 0, 0, 0, 0, 0,\n",
              "       0, 0, 1, 1, 1, 1, 1, 1, 0, 1, 0, 1, 1, 0, 1, 1, 0, 1, 0, 0, 1, 1,\n",
              "       1, 1, 1, 1, 1, 1, 1, 1, 1, 1, 1, 0, 1, 1, 0, 1, 0, 1, 1, 1, 1, 1,\n",
              "       1, 1, 1, 1, 1, 1, 1, 1, 1, 0, 1, 1, 1, 0, 1, 0, 1, 1, 1, 1, 0, 0,\n",
              "       0, 1, 1, 1, 1, 0, 1, 0, 1, 0, 1, 1, 1, 0, 1, 1, 1, 1, 1, 1, 1, 0,\n",
              "       0, 0, 1, 1, 1, 1, 1, 1, 1, 1, 1, 1, 1, 0, 0, 1, 0, 0, 0, 1, 0, 0,\n",
              "       1, 1, 1, 1, 1, 0, 1, 1, 1, 1, 1, 0, 1, 1, 1, 0, 1, 1, 0, 0, 1, 1,\n",
              "       1, 1, 1, 1, 0, 1, 1, 1, 1, 1, 1, 1, 0, 1, 1, 1, 1, 1, 0, 1, 1, 0,\n",
              "       1, 1, 1, 1, 1, 1, 1, 1, 1, 1, 1, 1, 0, 1, 0, 0, 1, 0, 1, 1, 1, 1,\n",
              "       1, 0, 1, 1, 0, 1, 0, 1, 1, 0, 1, 0, 1, 1, 1, 1, 1, 1, 1, 1, 0, 0,\n",
              "       1, 1, 1, 1, 1, 1, 0, 1, 1, 1, 1, 1, 1, 1, 1, 1, 1, 0, 1, 1, 1, 1,\n",
              "       1, 1, 1, 0, 1, 0, 1, 1, 0, 1, 1, 1, 1, 1, 0, 0, 1, 0, 1, 0, 1, 1,\n",
              "       1, 1, 1, 0, 1, 1, 0, 1, 0, 1, 0, 0, 1, 1, 1, 0, 1, 1, 1, 1, 1, 1,\n",
              "       1, 1, 1, 1, 1, 0, 1, 0, 0, 1, 1, 1, 1, 1, 1, 1, 1, 1, 1, 1, 1, 1,\n",
              "       1, 1, 1, 1, 1, 1, 1, 1, 1, 1, 1, 1, 0, 0, 0, 0, 0, 0, 1])"
            ]
          },
          "metadata": {},
          "execution_count": 47
        }
      ]
    },
    {
      "cell_type": "code",
      "source": [
        "print(cancer.DESCR)"
      ],
      "metadata": {
        "colab": {
          "base_uri": "https://localhost:8080/"
        },
        "id": "8CXiZCj-XUb0",
        "outputId": "df4227f5-69ab-47ad-e80a-7caa9dde6505"
      },
      "execution_count": null,
      "outputs": [
        {
          "output_type": "stream",
          "name": "stdout",
          "text": [
            ".. _breast_cancer_dataset:\n",
            "\n",
            "Breast cancer wisconsin (diagnostic) dataset\n",
            "--------------------------------------------\n",
            "\n",
            "**Data Set Characteristics:**\n",
            "\n",
            "    :Number of Instances: 569\n",
            "\n",
            "    :Number of Attributes: 30 numeric, predictive attributes and the class\n",
            "\n",
            "    :Attribute Information:\n",
            "        - radius (mean of distances from center to points on the perimeter)\n",
            "        - texture (standard deviation of gray-scale values)\n",
            "        - perimeter\n",
            "        - area\n",
            "        - smoothness (local variation in radius lengths)\n",
            "        - compactness (perimeter^2 / area - 1.0)\n",
            "        - concavity (severity of concave portions of the contour)\n",
            "        - concave points (number of concave portions of the contour)\n",
            "        - symmetry\n",
            "        - fractal dimension (\"coastline approximation\" - 1)\n",
            "\n",
            "        The mean, standard error, and \"worst\" or largest (mean of the three\n",
            "        worst/largest values) of these features were computed for each image,\n",
            "        resulting in 30 features.  For instance, field 0 is Mean Radius, field\n",
            "        10 is Radius SE, field 20 is Worst Radius.\n",
            "\n",
            "        - class:\n",
            "                - WDBC-Malignant\n",
            "                - WDBC-Benign\n",
            "\n",
            "    :Summary Statistics:\n",
            "\n",
            "    ===================================== ====== ======\n",
            "                                           Min    Max\n",
            "    ===================================== ====== ======\n",
            "    radius (mean):                        6.981  28.11\n",
            "    texture (mean):                       9.71   39.28\n",
            "    perimeter (mean):                     43.79  188.5\n",
            "    area (mean):                          143.5  2501.0\n",
            "    smoothness (mean):                    0.053  0.163\n",
            "    compactness (mean):                   0.019  0.345\n",
            "    concavity (mean):                     0.0    0.427\n",
            "    concave points (mean):                0.0    0.201\n",
            "    symmetry (mean):                      0.106  0.304\n",
            "    fractal dimension (mean):             0.05   0.097\n",
            "    radius (standard error):              0.112  2.873\n",
            "    texture (standard error):             0.36   4.885\n",
            "    perimeter (standard error):           0.757  21.98\n",
            "    area (standard error):                6.802  542.2\n",
            "    smoothness (standard error):          0.002  0.031\n",
            "    compactness (standard error):         0.002  0.135\n",
            "    concavity (standard error):           0.0    0.396\n",
            "    concave points (standard error):      0.0    0.053\n",
            "    symmetry (standard error):            0.008  0.079\n",
            "    fractal dimension (standard error):   0.001  0.03\n",
            "    radius (worst):                       7.93   36.04\n",
            "    texture (worst):                      12.02  49.54\n",
            "    perimeter (worst):                    50.41  251.2\n",
            "    area (worst):                         185.2  4254.0\n",
            "    smoothness (worst):                   0.071  0.223\n",
            "    compactness (worst):                  0.027  1.058\n",
            "    concavity (worst):                    0.0    1.252\n",
            "    concave points (worst):               0.0    0.291\n",
            "    symmetry (worst):                     0.156  0.664\n",
            "    fractal dimension (worst):            0.055  0.208\n",
            "    ===================================== ====== ======\n",
            "\n",
            "    :Missing Attribute Values: None\n",
            "\n",
            "    :Class Distribution: 212 - Malignant, 357 - Benign\n",
            "\n",
            "    :Creator:  Dr. William H. Wolberg, W. Nick Street, Olvi L. Mangasarian\n",
            "\n",
            "    :Donor: Nick Street\n",
            "\n",
            "    :Date: November, 1995\n",
            "\n",
            "This is a copy of UCI ML Breast Cancer Wisconsin (Diagnostic) datasets.\n",
            "https://goo.gl/U2Uwz2\n",
            "\n",
            "Features are computed from a digitized image of a fine needle\n",
            "aspirate (FNA) of a breast mass.  They describe\n",
            "characteristics of the cell nuclei present in the image.\n",
            "\n",
            "Separating plane described above was obtained using\n",
            "Multisurface Method-Tree (MSM-T) [K. P. Bennett, \"Decision Tree\n",
            "Construction Via Linear Programming.\" Proceedings of the 4th\n",
            "Midwest Artificial Intelligence and Cognitive Science Society,\n",
            "pp. 97-101, 1992], a classification method which uses linear\n",
            "programming to construct a decision tree.  Relevant features\n",
            "were selected using an exhaustive search in the space of 1-4\n",
            "features and 1-3 separating planes.\n",
            "\n",
            "The actual linear program used to obtain the separating plane\n",
            "in the 3-dimensional space is that described in:\n",
            "[K. P. Bennett and O. L. Mangasarian: \"Robust Linear\n",
            "Programming Discrimination of Two Linearly Inseparable Sets\",\n",
            "Optimization Methods and Software 1, 1992, 23-34].\n",
            "\n",
            "This database is also available through the UW CS ftp server:\n",
            "\n",
            "ftp ftp.cs.wisc.edu\n",
            "cd math-prog/cpo-dataset/machine-learn/WDBC/\n",
            "\n",
            ".. topic:: References\n",
            "\n",
            "   - W.N. Street, W.H. Wolberg and O.L. Mangasarian. Nuclear feature extraction \n",
            "     for breast tumor diagnosis. IS&T/SPIE 1993 International Symposium on \n",
            "     Electronic Imaging: Science and Technology, volume 1905, pages 861-870,\n",
            "     San Jose, CA, 1993.\n",
            "   - O.L. Mangasarian, W.N. Street and W.H. Wolberg. Breast cancer diagnosis and \n",
            "     prognosis via linear programming. Operations Research, 43(4), pages 570-577, \n",
            "     July-August 1995.\n",
            "   - W.H. Wolberg, W.N. Street, and O.L. Mangasarian. Machine learning techniques\n",
            "     to diagnose breast cancer from fine-needle aspirates. Cancer Letters 77 (1994) \n",
            "     163-171.\n"
          ]
        }
      ]
    },
    {
      "cell_type": "code",
      "source": [
        "X_features = cancer.data\n",
        "y_label = cancer.target\n",
        "cancer_df = pd.DataFrame(X_features, columns=cancer.feature_names)\n",
        "cancer_df['target'] = y_label\n",
        "cancer_df.head()"
      ],
      "metadata": {
        "colab": {
          "base_uri": "https://localhost:8080/",
          "height": 290
        },
        "id": "n4VekNEGXfY3",
        "outputId": "ddf88778-c47a-4da3-ce7d-3d1765245eaa"
      },
      "execution_count": null,
      "outputs": [
        {
          "output_type": "execute_result",
          "data": {
            "text/plain": [
              "   mean radius  mean texture  mean perimeter  mean area  mean smoothness  \\\n",
              "0        17.99         10.38          122.80     1001.0          0.11840   \n",
              "1        20.57         17.77          132.90     1326.0          0.08474   \n",
              "2        19.69         21.25          130.00     1203.0          0.10960   \n",
              "3        11.42         20.38           77.58      386.1          0.14250   \n",
              "4        20.29         14.34          135.10     1297.0          0.10030   \n",
              "\n",
              "   mean compactness  mean concavity  mean concave points  mean symmetry  \\\n",
              "0           0.27760          0.3001              0.14710         0.2419   \n",
              "1           0.07864          0.0869              0.07017         0.1812   \n",
              "2           0.15990          0.1974              0.12790         0.2069   \n",
              "3           0.28390          0.2414              0.10520         0.2597   \n",
              "4           0.13280          0.1980              0.10430         0.1809   \n",
              "\n",
              "   mean fractal dimension  ...  worst texture  worst perimeter  worst area  \\\n",
              "0                 0.07871  ...          17.33           184.60      2019.0   \n",
              "1                 0.05667  ...          23.41           158.80      1956.0   \n",
              "2                 0.05999  ...          25.53           152.50      1709.0   \n",
              "3                 0.09744  ...          26.50            98.87       567.7   \n",
              "4                 0.05883  ...          16.67           152.20      1575.0   \n",
              "\n",
              "   worst smoothness  worst compactness  worst concavity  worst concave points  \\\n",
              "0            0.1622             0.6656           0.7119                0.2654   \n",
              "1            0.1238             0.1866           0.2416                0.1860   \n",
              "2            0.1444             0.4245           0.4504                0.2430   \n",
              "3            0.2098             0.8663           0.6869                0.2575   \n",
              "4            0.1374             0.2050           0.4000                0.1625   \n",
              "\n",
              "   worst symmetry  worst fractal dimension  target  \n",
              "0          0.4601                  0.11890       0  \n",
              "1          0.2750                  0.08902       0  \n",
              "2          0.3613                  0.08758       0  \n",
              "3          0.6638                  0.17300       0  \n",
              "4          0.2364                  0.07678       0  \n",
              "\n",
              "[5 rows x 31 columns]"
            ],
            "text/html": [
              "\n",
              "  <div id=\"df-1a63bfee-8e6a-4b7e-9516-8d1151b0931c\" class=\"colab-df-container\">\n",
              "    <div>\n",
              "<style scoped>\n",
              "    .dataframe tbody tr th:only-of-type {\n",
              "        vertical-align: middle;\n",
              "    }\n",
              "\n",
              "    .dataframe tbody tr th {\n",
              "        vertical-align: top;\n",
              "    }\n",
              "\n",
              "    .dataframe thead th {\n",
              "        text-align: right;\n",
              "    }\n",
              "</style>\n",
              "<table border=\"1\" class=\"dataframe\">\n",
              "  <thead>\n",
              "    <tr style=\"text-align: right;\">\n",
              "      <th></th>\n",
              "      <th>mean radius</th>\n",
              "      <th>mean texture</th>\n",
              "      <th>mean perimeter</th>\n",
              "      <th>mean area</th>\n",
              "      <th>mean smoothness</th>\n",
              "      <th>mean compactness</th>\n",
              "      <th>mean concavity</th>\n",
              "      <th>mean concave points</th>\n",
              "      <th>mean symmetry</th>\n",
              "      <th>mean fractal dimension</th>\n",
              "      <th>...</th>\n",
              "      <th>worst texture</th>\n",
              "      <th>worst perimeter</th>\n",
              "      <th>worst area</th>\n",
              "      <th>worst smoothness</th>\n",
              "      <th>worst compactness</th>\n",
              "      <th>worst concavity</th>\n",
              "      <th>worst concave points</th>\n",
              "      <th>worst symmetry</th>\n",
              "      <th>worst fractal dimension</th>\n",
              "      <th>target</th>\n",
              "    </tr>\n",
              "  </thead>\n",
              "  <tbody>\n",
              "    <tr>\n",
              "      <th>0</th>\n",
              "      <td>17.99</td>\n",
              "      <td>10.38</td>\n",
              "      <td>122.80</td>\n",
              "      <td>1001.0</td>\n",
              "      <td>0.11840</td>\n",
              "      <td>0.27760</td>\n",
              "      <td>0.3001</td>\n",
              "      <td>0.14710</td>\n",
              "      <td>0.2419</td>\n",
              "      <td>0.07871</td>\n",
              "      <td>...</td>\n",
              "      <td>17.33</td>\n",
              "      <td>184.60</td>\n",
              "      <td>2019.0</td>\n",
              "      <td>0.1622</td>\n",
              "      <td>0.6656</td>\n",
              "      <td>0.7119</td>\n",
              "      <td>0.2654</td>\n",
              "      <td>0.4601</td>\n",
              "      <td>0.11890</td>\n",
              "      <td>0</td>\n",
              "    </tr>\n",
              "    <tr>\n",
              "      <th>1</th>\n",
              "      <td>20.57</td>\n",
              "      <td>17.77</td>\n",
              "      <td>132.90</td>\n",
              "      <td>1326.0</td>\n",
              "      <td>0.08474</td>\n",
              "      <td>0.07864</td>\n",
              "      <td>0.0869</td>\n",
              "      <td>0.07017</td>\n",
              "      <td>0.1812</td>\n",
              "      <td>0.05667</td>\n",
              "      <td>...</td>\n",
              "      <td>23.41</td>\n",
              "      <td>158.80</td>\n",
              "      <td>1956.0</td>\n",
              "      <td>0.1238</td>\n",
              "      <td>0.1866</td>\n",
              "      <td>0.2416</td>\n",
              "      <td>0.1860</td>\n",
              "      <td>0.2750</td>\n",
              "      <td>0.08902</td>\n",
              "      <td>0</td>\n",
              "    </tr>\n",
              "    <tr>\n",
              "      <th>2</th>\n",
              "      <td>19.69</td>\n",
              "      <td>21.25</td>\n",
              "      <td>130.00</td>\n",
              "      <td>1203.0</td>\n",
              "      <td>0.10960</td>\n",
              "      <td>0.15990</td>\n",
              "      <td>0.1974</td>\n",
              "      <td>0.12790</td>\n",
              "      <td>0.2069</td>\n",
              "      <td>0.05999</td>\n",
              "      <td>...</td>\n",
              "      <td>25.53</td>\n",
              "      <td>152.50</td>\n",
              "      <td>1709.0</td>\n",
              "      <td>0.1444</td>\n",
              "      <td>0.4245</td>\n",
              "      <td>0.4504</td>\n",
              "      <td>0.2430</td>\n",
              "      <td>0.3613</td>\n",
              "      <td>0.08758</td>\n",
              "      <td>0</td>\n",
              "    </tr>\n",
              "    <tr>\n",
              "      <th>3</th>\n",
              "      <td>11.42</td>\n",
              "      <td>20.38</td>\n",
              "      <td>77.58</td>\n",
              "      <td>386.1</td>\n",
              "      <td>0.14250</td>\n",
              "      <td>0.28390</td>\n",
              "      <td>0.2414</td>\n",
              "      <td>0.10520</td>\n",
              "      <td>0.2597</td>\n",
              "      <td>0.09744</td>\n",
              "      <td>...</td>\n",
              "      <td>26.50</td>\n",
              "      <td>98.87</td>\n",
              "      <td>567.7</td>\n",
              "      <td>0.2098</td>\n",
              "      <td>0.8663</td>\n",
              "      <td>0.6869</td>\n",
              "      <td>0.2575</td>\n",
              "      <td>0.6638</td>\n",
              "      <td>0.17300</td>\n",
              "      <td>0</td>\n",
              "    </tr>\n",
              "    <tr>\n",
              "      <th>4</th>\n",
              "      <td>20.29</td>\n",
              "      <td>14.34</td>\n",
              "      <td>135.10</td>\n",
              "      <td>1297.0</td>\n",
              "      <td>0.10030</td>\n",
              "      <td>0.13280</td>\n",
              "      <td>0.1980</td>\n",
              "      <td>0.10430</td>\n",
              "      <td>0.1809</td>\n",
              "      <td>0.05883</td>\n",
              "      <td>...</td>\n",
              "      <td>16.67</td>\n",
              "      <td>152.20</td>\n",
              "      <td>1575.0</td>\n",
              "      <td>0.1374</td>\n",
              "      <td>0.2050</td>\n",
              "      <td>0.4000</td>\n",
              "      <td>0.1625</td>\n",
              "      <td>0.2364</td>\n",
              "      <td>0.07678</td>\n",
              "      <td>0</td>\n",
              "    </tr>\n",
              "  </tbody>\n",
              "</table>\n",
              "<p>5 rows × 31 columns</p>\n",
              "</div>\n",
              "    <div class=\"colab-df-buttons\">\n",
              "\n",
              "  <div class=\"colab-df-container\">\n",
              "    <button class=\"colab-df-convert\" onclick=\"convertToInteractive('df-1a63bfee-8e6a-4b7e-9516-8d1151b0931c')\"\n",
              "            title=\"Convert this dataframe to an interactive table.\"\n",
              "            style=\"display:none;\">\n",
              "\n",
              "  <svg xmlns=\"http://www.w3.org/2000/svg\" height=\"24px\" viewBox=\"0 -960 960 960\">\n",
              "    <path d=\"M120-120v-720h720v720H120Zm60-500h600v-160H180v160Zm220 220h160v-160H400v160Zm0 220h160v-160H400v160ZM180-400h160v-160H180v160Zm440 0h160v-160H620v160ZM180-180h160v-160H180v160Zm440 0h160v-160H620v160Z\"/>\n",
              "  </svg>\n",
              "    </button>\n",
              "\n",
              "  <style>\n",
              "    .colab-df-container {\n",
              "      display:flex;\n",
              "      gap: 12px;\n",
              "    }\n",
              "\n",
              "    .colab-df-convert {\n",
              "      background-color: #E8F0FE;\n",
              "      border: none;\n",
              "      border-radius: 50%;\n",
              "      cursor: pointer;\n",
              "      display: none;\n",
              "      fill: #1967D2;\n",
              "      height: 32px;\n",
              "      padding: 0 0 0 0;\n",
              "      width: 32px;\n",
              "    }\n",
              "\n",
              "    .colab-df-convert:hover {\n",
              "      background-color: #E2EBFA;\n",
              "      box-shadow: 0px 1px 2px rgba(60, 64, 67, 0.3), 0px 1px 3px 1px rgba(60, 64, 67, 0.15);\n",
              "      fill: #174EA6;\n",
              "    }\n",
              "\n",
              "    .colab-df-buttons div {\n",
              "      margin-bottom: 4px;\n",
              "    }\n",
              "\n",
              "    [theme=dark] .colab-df-convert {\n",
              "      background-color: #3B4455;\n",
              "      fill: #D2E3FC;\n",
              "    }\n",
              "\n",
              "    [theme=dark] .colab-df-convert:hover {\n",
              "      background-color: #434B5C;\n",
              "      box-shadow: 0px 1px 3px 1px rgba(0, 0, 0, 0.15);\n",
              "      filter: drop-shadow(0px 1px 2px rgba(0, 0, 0, 0.3));\n",
              "      fill: #FFFFFF;\n",
              "    }\n",
              "  </style>\n",
              "\n",
              "    <script>\n",
              "      const buttonEl =\n",
              "        document.querySelector('#df-1a63bfee-8e6a-4b7e-9516-8d1151b0931c button.colab-df-convert');\n",
              "      buttonEl.style.display =\n",
              "        google.colab.kernel.accessAllowed ? 'block' : 'none';\n",
              "\n",
              "      async function convertToInteractive(key) {\n",
              "        const element = document.querySelector('#df-1a63bfee-8e6a-4b7e-9516-8d1151b0931c');\n",
              "        const dataTable =\n",
              "          await google.colab.kernel.invokeFunction('convertToInteractive',\n",
              "                                                    [key], {});\n",
              "        if (!dataTable) return;\n",
              "\n",
              "        const docLinkHtml = 'Like what you see? Visit the ' +\n",
              "          '<a target=\"_blank\" href=https://colab.research.google.com/notebooks/data_table.ipynb>data table notebook</a>'\n",
              "          + ' to learn more about interactive tables.';\n",
              "        element.innerHTML = '';\n",
              "        dataTable['output_type'] = 'display_data';\n",
              "        await google.colab.output.renderOutput(dataTable, element);\n",
              "        const docLink = document.createElement('div');\n",
              "        docLink.innerHTML = docLinkHtml;\n",
              "        element.appendChild(docLink);\n",
              "      }\n",
              "    </script>\n",
              "  </div>\n",
              "\n",
              "\n",
              "<div id=\"df-cb2a151c-f17c-4fb9-818a-26bbb182a7b6\">\n",
              "  <button class=\"colab-df-quickchart\" onclick=\"quickchart('df-cb2a151c-f17c-4fb9-818a-26bbb182a7b6')\"\n",
              "            title=\"Suggest charts.\"\n",
              "            style=\"display:none;\">\n",
              "\n",
              "<svg xmlns=\"http://www.w3.org/2000/svg\" height=\"24px\"viewBox=\"0 0 24 24\"\n",
              "     width=\"24px\">\n",
              "    <g>\n",
              "        <path d=\"M19 3H5c-1.1 0-2 .9-2 2v14c0 1.1.9 2 2 2h14c1.1 0 2-.9 2-2V5c0-1.1-.9-2-2-2zM9 17H7v-7h2v7zm4 0h-2V7h2v10zm4 0h-2v-4h2v4z\"/>\n",
              "    </g>\n",
              "</svg>\n",
              "  </button>\n",
              "\n",
              "<style>\n",
              "  .colab-df-quickchart {\n",
              "      --bg-color: #E8F0FE;\n",
              "      --fill-color: #1967D2;\n",
              "      --hover-bg-color: #E2EBFA;\n",
              "      --hover-fill-color: #174EA6;\n",
              "      --disabled-fill-color: #AAA;\n",
              "      --disabled-bg-color: #DDD;\n",
              "  }\n",
              "\n",
              "  [theme=dark] .colab-df-quickchart {\n",
              "      --bg-color: #3B4455;\n",
              "      --fill-color: #D2E3FC;\n",
              "      --hover-bg-color: #434B5C;\n",
              "      --hover-fill-color: #FFFFFF;\n",
              "      --disabled-bg-color: #3B4455;\n",
              "      --disabled-fill-color: #666;\n",
              "  }\n",
              "\n",
              "  .colab-df-quickchart {\n",
              "    background-color: var(--bg-color);\n",
              "    border: none;\n",
              "    border-radius: 50%;\n",
              "    cursor: pointer;\n",
              "    display: none;\n",
              "    fill: var(--fill-color);\n",
              "    height: 32px;\n",
              "    padding: 0;\n",
              "    width: 32px;\n",
              "  }\n",
              "\n",
              "  .colab-df-quickchart:hover {\n",
              "    background-color: var(--hover-bg-color);\n",
              "    box-shadow: 0 1px 2px rgba(60, 64, 67, 0.3), 0 1px 3px 1px rgba(60, 64, 67, 0.15);\n",
              "    fill: var(--button-hover-fill-color);\n",
              "  }\n",
              "\n",
              "  .colab-df-quickchart-complete:disabled,\n",
              "  .colab-df-quickchart-complete:disabled:hover {\n",
              "    background-color: var(--disabled-bg-color);\n",
              "    fill: var(--disabled-fill-color);\n",
              "    box-shadow: none;\n",
              "  }\n",
              "\n",
              "  .colab-df-spinner {\n",
              "    border: 2px solid var(--fill-color);\n",
              "    border-color: transparent;\n",
              "    border-bottom-color: var(--fill-color);\n",
              "    animation:\n",
              "      spin 1s steps(1) infinite;\n",
              "  }\n",
              "\n",
              "  @keyframes spin {\n",
              "    0% {\n",
              "      border-color: transparent;\n",
              "      border-bottom-color: var(--fill-color);\n",
              "      border-left-color: var(--fill-color);\n",
              "    }\n",
              "    20% {\n",
              "      border-color: transparent;\n",
              "      border-left-color: var(--fill-color);\n",
              "      border-top-color: var(--fill-color);\n",
              "    }\n",
              "    30% {\n",
              "      border-color: transparent;\n",
              "      border-left-color: var(--fill-color);\n",
              "      border-top-color: var(--fill-color);\n",
              "      border-right-color: var(--fill-color);\n",
              "    }\n",
              "    40% {\n",
              "      border-color: transparent;\n",
              "      border-right-color: var(--fill-color);\n",
              "      border-top-color: var(--fill-color);\n",
              "    }\n",
              "    60% {\n",
              "      border-color: transparent;\n",
              "      border-right-color: var(--fill-color);\n",
              "    }\n",
              "    80% {\n",
              "      border-color: transparent;\n",
              "      border-right-color: var(--fill-color);\n",
              "      border-bottom-color: var(--fill-color);\n",
              "    }\n",
              "    90% {\n",
              "      border-color: transparent;\n",
              "      border-bottom-color: var(--fill-color);\n",
              "    }\n",
              "  }\n",
              "</style>\n",
              "\n",
              "  <script>\n",
              "    async function quickchart(key) {\n",
              "      const quickchartButtonEl =\n",
              "        document.querySelector('#' + key + ' button');\n",
              "      quickchartButtonEl.disabled = true;  // To prevent multiple clicks.\n",
              "      quickchartButtonEl.classList.add('colab-df-spinner');\n",
              "      try {\n",
              "        const charts = await google.colab.kernel.invokeFunction(\n",
              "            'suggestCharts', [key], {});\n",
              "      } catch (error) {\n",
              "        console.error('Error during call to suggestCharts:', error);\n",
              "      }\n",
              "      quickchartButtonEl.classList.remove('colab-df-spinner');\n",
              "      quickchartButtonEl.classList.add('colab-df-quickchart-complete');\n",
              "    }\n",
              "    (() => {\n",
              "      let quickchartButtonEl =\n",
              "        document.querySelector('#df-cb2a151c-f17c-4fb9-818a-26bbb182a7b6 button');\n",
              "      quickchartButtonEl.style.display =\n",
              "        google.colab.kernel.accessAllowed ? 'block' : 'none';\n",
              "    })();\n",
              "  </script>\n",
              "</div>\n",
              "    </div>\n",
              "  </div>\n"
            ]
          },
          "metadata": {},
          "execution_count": 50
        }
      ]
    },
    {
      "cell_type": "code",
      "source": [
        "cancer_df.info()"
      ],
      "metadata": {
        "colab": {
          "base_uri": "https://localhost:8080/"
        },
        "id": "8uBP9QqbYAcK",
        "outputId": "8fe3dd72-352f-4026-86f7-e7fab0bdf9c3"
      },
      "execution_count": null,
      "outputs": [
        {
          "output_type": "stream",
          "name": "stdout",
          "text": [
            "<class 'pandas.core.frame.DataFrame'>\n",
            "RangeIndex: 569 entries, 0 to 568\n",
            "Data columns (total 31 columns):\n",
            " #   Column                   Non-Null Count  Dtype  \n",
            "---  ------                   --------------  -----  \n",
            " 0   mean radius              569 non-null    float64\n",
            " 1   mean texture             569 non-null    float64\n",
            " 2   mean perimeter           569 non-null    float64\n",
            " 3   mean area                569 non-null    float64\n",
            " 4   mean smoothness          569 non-null    float64\n",
            " 5   mean compactness         569 non-null    float64\n",
            " 6   mean concavity           569 non-null    float64\n",
            " 7   mean concave points      569 non-null    float64\n",
            " 8   mean symmetry            569 non-null    float64\n",
            " 9   mean fractal dimension   569 non-null    float64\n",
            " 10  radius error             569 non-null    float64\n",
            " 11  texture error            569 non-null    float64\n",
            " 12  perimeter error          569 non-null    float64\n",
            " 13  area error               569 non-null    float64\n",
            " 14  smoothness error         569 non-null    float64\n",
            " 15  compactness error        569 non-null    float64\n",
            " 16  concavity error          569 non-null    float64\n",
            " 17  concave points error     569 non-null    float64\n",
            " 18  symmetry error           569 non-null    float64\n",
            " 19  fractal dimension error  569 non-null    float64\n",
            " 20  worst radius             569 non-null    float64\n",
            " 21  worst texture            569 non-null    float64\n",
            " 22  worst perimeter          569 non-null    float64\n",
            " 23  worst area               569 non-null    float64\n",
            " 24  worst smoothness         569 non-null    float64\n",
            " 25  worst compactness        569 non-null    float64\n",
            " 26  worst concavity          569 non-null    float64\n",
            " 27  worst concave points     569 non-null    float64\n",
            " 28  worst symmetry           569 non-null    float64\n",
            " 29  worst fractal dimension  569 non-null    float64\n",
            " 30  target                   569 non-null    int64  \n",
            "dtypes: float64(30), int64(1)\n",
            "memory usage: 137.9 KB\n"
          ]
        }
      ]
    },
    {
      "cell_type": "code",
      "source": [
        "cancer_df.describe()"
      ],
      "metadata": {
        "colab": {
          "base_uri": "https://localhost:8080/",
          "height": 384
        },
        "id": "xfK2gF_bYPAN",
        "outputId": "73f473ae-bb33-49f7-fb3f-f7c6552945d4"
      },
      "execution_count": null,
      "outputs": [
        {
          "output_type": "execute_result",
          "data": {
            "text/plain": [
              "       mean radius  mean texture  mean perimeter    mean area  \\\n",
              "count   569.000000    569.000000      569.000000   569.000000   \n",
              "mean     14.127292     19.289649       91.969033   654.889104   \n",
              "std       3.524049      4.301036       24.298981   351.914129   \n",
              "min       6.981000      9.710000       43.790000   143.500000   \n",
              "25%      11.700000     16.170000       75.170000   420.300000   \n",
              "50%      13.370000     18.840000       86.240000   551.100000   \n",
              "75%      15.780000     21.800000      104.100000   782.700000   \n",
              "max      28.110000     39.280000      188.500000  2501.000000   \n",
              "\n",
              "       mean smoothness  mean compactness  mean concavity  mean concave points  \\\n",
              "count       569.000000        569.000000      569.000000           569.000000   \n",
              "mean          0.096360          0.104341        0.088799             0.048919   \n",
              "std           0.014064          0.052813        0.079720             0.038803   \n",
              "min           0.052630          0.019380        0.000000             0.000000   \n",
              "25%           0.086370          0.064920        0.029560             0.020310   \n",
              "50%           0.095870          0.092630        0.061540             0.033500   \n",
              "75%           0.105300          0.130400        0.130700             0.074000   \n",
              "max           0.163400          0.345400        0.426800             0.201200   \n",
              "\n",
              "       mean symmetry  mean fractal dimension  ...  worst texture  \\\n",
              "count     569.000000              569.000000  ...     569.000000   \n",
              "mean        0.181162                0.062798  ...      25.677223   \n",
              "std         0.027414                0.007060  ...       6.146258   \n",
              "min         0.106000                0.049960  ...      12.020000   \n",
              "25%         0.161900                0.057700  ...      21.080000   \n",
              "50%         0.179200                0.061540  ...      25.410000   \n",
              "75%         0.195700                0.066120  ...      29.720000   \n",
              "max         0.304000                0.097440  ...      49.540000   \n",
              "\n",
              "       worst perimeter   worst area  worst smoothness  worst compactness  \\\n",
              "count       569.000000   569.000000        569.000000         569.000000   \n",
              "mean        107.261213   880.583128          0.132369           0.254265   \n",
              "std          33.602542   569.356993          0.022832           0.157336   \n",
              "min          50.410000   185.200000          0.071170           0.027290   \n",
              "25%          84.110000   515.300000          0.116600           0.147200   \n",
              "50%          97.660000   686.500000          0.131300           0.211900   \n",
              "75%         125.400000  1084.000000          0.146000           0.339100   \n",
              "max         251.200000  4254.000000          0.222600           1.058000   \n",
              "\n",
              "       worst concavity  worst concave points  worst symmetry  \\\n",
              "count       569.000000            569.000000      569.000000   \n",
              "mean          0.272188              0.114606        0.290076   \n",
              "std           0.208624              0.065732        0.061867   \n",
              "min           0.000000              0.000000        0.156500   \n",
              "25%           0.114500              0.064930        0.250400   \n",
              "50%           0.226700              0.099930        0.282200   \n",
              "75%           0.382900              0.161400        0.317900   \n",
              "max           1.252000              0.291000        0.663800   \n",
              "\n",
              "       worst fractal dimension      target  \n",
              "count               569.000000  569.000000  \n",
              "mean                  0.083946    0.627417  \n",
              "std                   0.018061    0.483918  \n",
              "min                   0.055040    0.000000  \n",
              "25%                   0.071460    0.000000  \n",
              "50%                   0.080040    1.000000  \n",
              "75%                   0.092080    1.000000  \n",
              "max                   0.207500    1.000000  \n",
              "\n",
              "[8 rows x 31 columns]"
            ],
            "text/html": [
              "\n",
              "  <div id=\"df-39eb0456-76e9-4619-8d5f-51f9011179dc\" class=\"colab-df-container\">\n",
              "    <div>\n",
              "<style scoped>\n",
              "    .dataframe tbody tr th:only-of-type {\n",
              "        vertical-align: middle;\n",
              "    }\n",
              "\n",
              "    .dataframe tbody tr th {\n",
              "        vertical-align: top;\n",
              "    }\n",
              "\n",
              "    .dataframe thead th {\n",
              "        text-align: right;\n",
              "    }\n",
              "</style>\n",
              "<table border=\"1\" class=\"dataframe\">\n",
              "  <thead>\n",
              "    <tr style=\"text-align: right;\">\n",
              "      <th></th>\n",
              "      <th>mean radius</th>\n",
              "      <th>mean texture</th>\n",
              "      <th>mean perimeter</th>\n",
              "      <th>mean area</th>\n",
              "      <th>mean smoothness</th>\n",
              "      <th>mean compactness</th>\n",
              "      <th>mean concavity</th>\n",
              "      <th>mean concave points</th>\n",
              "      <th>mean symmetry</th>\n",
              "      <th>mean fractal dimension</th>\n",
              "      <th>...</th>\n",
              "      <th>worst texture</th>\n",
              "      <th>worst perimeter</th>\n",
              "      <th>worst area</th>\n",
              "      <th>worst smoothness</th>\n",
              "      <th>worst compactness</th>\n",
              "      <th>worst concavity</th>\n",
              "      <th>worst concave points</th>\n",
              "      <th>worst symmetry</th>\n",
              "      <th>worst fractal dimension</th>\n",
              "      <th>target</th>\n",
              "    </tr>\n",
              "  </thead>\n",
              "  <tbody>\n",
              "    <tr>\n",
              "      <th>count</th>\n",
              "      <td>569.000000</td>\n",
              "      <td>569.000000</td>\n",
              "      <td>569.000000</td>\n",
              "      <td>569.000000</td>\n",
              "      <td>569.000000</td>\n",
              "      <td>569.000000</td>\n",
              "      <td>569.000000</td>\n",
              "      <td>569.000000</td>\n",
              "      <td>569.000000</td>\n",
              "      <td>569.000000</td>\n",
              "      <td>...</td>\n",
              "      <td>569.000000</td>\n",
              "      <td>569.000000</td>\n",
              "      <td>569.000000</td>\n",
              "      <td>569.000000</td>\n",
              "      <td>569.000000</td>\n",
              "      <td>569.000000</td>\n",
              "      <td>569.000000</td>\n",
              "      <td>569.000000</td>\n",
              "      <td>569.000000</td>\n",
              "      <td>569.000000</td>\n",
              "    </tr>\n",
              "    <tr>\n",
              "      <th>mean</th>\n",
              "      <td>14.127292</td>\n",
              "      <td>19.289649</td>\n",
              "      <td>91.969033</td>\n",
              "      <td>654.889104</td>\n",
              "      <td>0.096360</td>\n",
              "      <td>0.104341</td>\n",
              "      <td>0.088799</td>\n",
              "      <td>0.048919</td>\n",
              "      <td>0.181162</td>\n",
              "      <td>0.062798</td>\n",
              "      <td>...</td>\n",
              "      <td>25.677223</td>\n",
              "      <td>107.261213</td>\n",
              "      <td>880.583128</td>\n",
              "      <td>0.132369</td>\n",
              "      <td>0.254265</td>\n",
              "      <td>0.272188</td>\n",
              "      <td>0.114606</td>\n",
              "      <td>0.290076</td>\n",
              "      <td>0.083946</td>\n",
              "      <td>0.627417</td>\n",
              "    </tr>\n",
              "    <tr>\n",
              "      <th>std</th>\n",
              "      <td>3.524049</td>\n",
              "      <td>4.301036</td>\n",
              "      <td>24.298981</td>\n",
              "      <td>351.914129</td>\n",
              "      <td>0.014064</td>\n",
              "      <td>0.052813</td>\n",
              "      <td>0.079720</td>\n",
              "      <td>0.038803</td>\n",
              "      <td>0.027414</td>\n",
              "      <td>0.007060</td>\n",
              "      <td>...</td>\n",
              "      <td>6.146258</td>\n",
              "      <td>33.602542</td>\n",
              "      <td>569.356993</td>\n",
              "      <td>0.022832</td>\n",
              "      <td>0.157336</td>\n",
              "      <td>0.208624</td>\n",
              "      <td>0.065732</td>\n",
              "      <td>0.061867</td>\n",
              "      <td>0.018061</td>\n",
              "      <td>0.483918</td>\n",
              "    </tr>\n",
              "    <tr>\n",
              "      <th>min</th>\n",
              "      <td>6.981000</td>\n",
              "      <td>9.710000</td>\n",
              "      <td>43.790000</td>\n",
              "      <td>143.500000</td>\n",
              "      <td>0.052630</td>\n",
              "      <td>0.019380</td>\n",
              "      <td>0.000000</td>\n",
              "      <td>0.000000</td>\n",
              "      <td>0.106000</td>\n",
              "      <td>0.049960</td>\n",
              "      <td>...</td>\n",
              "      <td>12.020000</td>\n",
              "      <td>50.410000</td>\n",
              "      <td>185.200000</td>\n",
              "      <td>0.071170</td>\n",
              "      <td>0.027290</td>\n",
              "      <td>0.000000</td>\n",
              "      <td>0.000000</td>\n",
              "      <td>0.156500</td>\n",
              "      <td>0.055040</td>\n",
              "      <td>0.000000</td>\n",
              "    </tr>\n",
              "    <tr>\n",
              "      <th>25%</th>\n",
              "      <td>11.700000</td>\n",
              "      <td>16.170000</td>\n",
              "      <td>75.170000</td>\n",
              "      <td>420.300000</td>\n",
              "      <td>0.086370</td>\n",
              "      <td>0.064920</td>\n",
              "      <td>0.029560</td>\n",
              "      <td>0.020310</td>\n",
              "      <td>0.161900</td>\n",
              "      <td>0.057700</td>\n",
              "      <td>...</td>\n",
              "      <td>21.080000</td>\n",
              "      <td>84.110000</td>\n",
              "      <td>515.300000</td>\n",
              "      <td>0.116600</td>\n",
              "      <td>0.147200</td>\n",
              "      <td>0.114500</td>\n",
              "      <td>0.064930</td>\n",
              "      <td>0.250400</td>\n",
              "      <td>0.071460</td>\n",
              "      <td>0.000000</td>\n",
              "    </tr>\n",
              "    <tr>\n",
              "      <th>50%</th>\n",
              "      <td>13.370000</td>\n",
              "      <td>18.840000</td>\n",
              "      <td>86.240000</td>\n",
              "      <td>551.100000</td>\n",
              "      <td>0.095870</td>\n",
              "      <td>0.092630</td>\n",
              "      <td>0.061540</td>\n",
              "      <td>0.033500</td>\n",
              "      <td>0.179200</td>\n",
              "      <td>0.061540</td>\n",
              "      <td>...</td>\n",
              "      <td>25.410000</td>\n",
              "      <td>97.660000</td>\n",
              "      <td>686.500000</td>\n",
              "      <td>0.131300</td>\n",
              "      <td>0.211900</td>\n",
              "      <td>0.226700</td>\n",
              "      <td>0.099930</td>\n",
              "      <td>0.282200</td>\n",
              "      <td>0.080040</td>\n",
              "      <td>1.000000</td>\n",
              "    </tr>\n",
              "    <tr>\n",
              "      <th>75%</th>\n",
              "      <td>15.780000</td>\n",
              "      <td>21.800000</td>\n",
              "      <td>104.100000</td>\n",
              "      <td>782.700000</td>\n",
              "      <td>0.105300</td>\n",
              "      <td>0.130400</td>\n",
              "      <td>0.130700</td>\n",
              "      <td>0.074000</td>\n",
              "      <td>0.195700</td>\n",
              "      <td>0.066120</td>\n",
              "      <td>...</td>\n",
              "      <td>29.720000</td>\n",
              "      <td>125.400000</td>\n",
              "      <td>1084.000000</td>\n",
              "      <td>0.146000</td>\n",
              "      <td>0.339100</td>\n",
              "      <td>0.382900</td>\n",
              "      <td>0.161400</td>\n",
              "      <td>0.317900</td>\n",
              "      <td>0.092080</td>\n",
              "      <td>1.000000</td>\n",
              "    </tr>\n",
              "    <tr>\n",
              "      <th>max</th>\n",
              "      <td>28.110000</td>\n",
              "      <td>39.280000</td>\n",
              "      <td>188.500000</td>\n",
              "      <td>2501.000000</td>\n",
              "      <td>0.163400</td>\n",
              "      <td>0.345400</td>\n",
              "      <td>0.426800</td>\n",
              "      <td>0.201200</td>\n",
              "      <td>0.304000</td>\n",
              "      <td>0.097440</td>\n",
              "      <td>...</td>\n",
              "      <td>49.540000</td>\n",
              "      <td>251.200000</td>\n",
              "      <td>4254.000000</td>\n",
              "      <td>0.222600</td>\n",
              "      <td>1.058000</td>\n",
              "      <td>1.252000</td>\n",
              "      <td>0.291000</td>\n",
              "      <td>0.663800</td>\n",
              "      <td>0.207500</td>\n",
              "      <td>1.000000</td>\n",
              "    </tr>\n",
              "  </tbody>\n",
              "</table>\n",
              "<p>8 rows × 31 columns</p>\n",
              "</div>\n",
              "    <div class=\"colab-df-buttons\">\n",
              "\n",
              "  <div class=\"colab-df-container\">\n",
              "    <button class=\"colab-df-convert\" onclick=\"convertToInteractive('df-39eb0456-76e9-4619-8d5f-51f9011179dc')\"\n",
              "            title=\"Convert this dataframe to an interactive table.\"\n",
              "            style=\"display:none;\">\n",
              "\n",
              "  <svg xmlns=\"http://www.w3.org/2000/svg\" height=\"24px\" viewBox=\"0 -960 960 960\">\n",
              "    <path d=\"M120-120v-720h720v720H120Zm60-500h600v-160H180v160Zm220 220h160v-160H400v160Zm0 220h160v-160H400v160ZM180-400h160v-160H180v160Zm440 0h160v-160H620v160ZM180-180h160v-160H180v160Zm440 0h160v-160H620v160Z\"/>\n",
              "  </svg>\n",
              "    </button>\n",
              "\n",
              "  <style>\n",
              "    .colab-df-container {\n",
              "      display:flex;\n",
              "      gap: 12px;\n",
              "    }\n",
              "\n",
              "    .colab-df-convert {\n",
              "      background-color: #E8F0FE;\n",
              "      border: none;\n",
              "      border-radius: 50%;\n",
              "      cursor: pointer;\n",
              "      display: none;\n",
              "      fill: #1967D2;\n",
              "      height: 32px;\n",
              "      padding: 0 0 0 0;\n",
              "      width: 32px;\n",
              "    }\n",
              "\n",
              "    .colab-df-convert:hover {\n",
              "      background-color: #E2EBFA;\n",
              "      box-shadow: 0px 1px 2px rgba(60, 64, 67, 0.3), 0px 1px 3px 1px rgba(60, 64, 67, 0.15);\n",
              "      fill: #174EA6;\n",
              "    }\n",
              "\n",
              "    .colab-df-buttons div {\n",
              "      margin-bottom: 4px;\n",
              "    }\n",
              "\n",
              "    [theme=dark] .colab-df-convert {\n",
              "      background-color: #3B4455;\n",
              "      fill: #D2E3FC;\n",
              "    }\n",
              "\n",
              "    [theme=dark] .colab-df-convert:hover {\n",
              "      background-color: #434B5C;\n",
              "      box-shadow: 0px 1px 3px 1px rgba(0, 0, 0, 0.15);\n",
              "      filter: drop-shadow(0px 1px 2px rgba(0, 0, 0, 0.3));\n",
              "      fill: #FFFFFF;\n",
              "    }\n",
              "  </style>\n",
              "\n",
              "    <script>\n",
              "      const buttonEl =\n",
              "        document.querySelector('#df-39eb0456-76e9-4619-8d5f-51f9011179dc button.colab-df-convert');\n",
              "      buttonEl.style.display =\n",
              "        google.colab.kernel.accessAllowed ? 'block' : 'none';\n",
              "\n",
              "      async function convertToInteractive(key) {\n",
              "        const element = document.querySelector('#df-39eb0456-76e9-4619-8d5f-51f9011179dc');\n",
              "        const dataTable =\n",
              "          await google.colab.kernel.invokeFunction('convertToInteractive',\n",
              "                                                    [key], {});\n",
              "        if (!dataTable) return;\n",
              "\n",
              "        const docLinkHtml = 'Like what you see? Visit the ' +\n",
              "          '<a target=\"_blank\" href=https://colab.research.google.com/notebooks/data_table.ipynb>data table notebook</a>'\n",
              "          + ' to learn more about interactive tables.';\n",
              "        element.innerHTML = '';\n",
              "        dataTable['output_type'] = 'display_data';\n",
              "        await google.colab.output.renderOutput(dataTable, element);\n",
              "        const docLink = document.createElement('div');\n",
              "        docLink.innerHTML = docLinkHtml;\n",
              "        element.appendChild(docLink);\n",
              "      }\n",
              "    </script>\n",
              "  </div>\n",
              "\n",
              "\n",
              "<div id=\"df-c6d6ee48-f897-4e6a-941e-dd1ce8374ff0\">\n",
              "  <button class=\"colab-df-quickchart\" onclick=\"quickchart('df-c6d6ee48-f897-4e6a-941e-dd1ce8374ff0')\"\n",
              "            title=\"Suggest charts.\"\n",
              "            style=\"display:none;\">\n",
              "\n",
              "<svg xmlns=\"http://www.w3.org/2000/svg\" height=\"24px\"viewBox=\"0 0 24 24\"\n",
              "     width=\"24px\">\n",
              "    <g>\n",
              "        <path d=\"M19 3H5c-1.1 0-2 .9-2 2v14c0 1.1.9 2 2 2h14c1.1 0 2-.9 2-2V5c0-1.1-.9-2-2-2zM9 17H7v-7h2v7zm4 0h-2V7h2v10zm4 0h-2v-4h2v4z\"/>\n",
              "    </g>\n",
              "</svg>\n",
              "  </button>\n",
              "\n",
              "<style>\n",
              "  .colab-df-quickchart {\n",
              "      --bg-color: #E8F0FE;\n",
              "      --fill-color: #1967D2;\n",
              "      --hover-bg-color: #E2EBFA;\n",
              "      --hover-fill-color: #174EA6;\n",
              "      --disabled-fill-color: #AAA;\n",
              "      --disabled-bg-color: #DDD;\n",
              "  }\n",
              "\n",
              "  [theme=dark] .colab-df-quickchart {\n",
              "      --bg-color: #3B4455;\n",
              "      --fill-color: #D2E3FC;\n",
              "      --hover-bg-color: #434B5C;\n",
              "      --hover-fill-color: #FFFFFF;\n",
              "      --disabled-bg-color: #3B4455;\n",
              "      --disabled-fill-color: #666;\n",
              "  }\n",
              "\n",
              "  .colab-df-quickchart {\n",
              "    background-color: var(--bg-color);\n",
              "    border: none;\n",
              "    border-radius: 50%;\n",
              "    cursor: pointer;\n",
              "    display: none;\n",
              "    fill: var(--fill-color);\n",
              "    height: 32px;\n",
              "    padding: 0;\n",
              "    width: 32px;\n",
              "  }\n",
              "\n",
              "  .colab-df-quickchart:hover {\n",
              "    background-color: var(--hover-bg-color);\n",
              "    box-shadow: 0 1px 2px rgba(60, 64, 67, 0.3), 0 1px 3px 1px rgba(60, 64, 67, 0.15);\n",
              "    fill: var(--button-hover-fill-color);\n",
              "  }\n",
              "\n",
              "  .colab-df-quickchart-complete:disabled,\n",
              "  .colab-df-quickchart-complete:disabled:hover {\n",
              "    background-color: var(--disabled-bg-color);\n",
              "    fill: var(--disabled-fill-color);\n",
              "    box-shadow: none;\n",
              "  }\n",
              "\n",
              "  .colab-df-spinner {\n",
              "    border: 2px solid var(--fill-color);\n",
              "    border-color: transparent;\n",
              "    border-bottom-color: var(--fill-color);\n",
              "    animation:\n",
              "      spin 1s steps(1) infinite;\n",
              "  }\n",
              "\n",
              "  @keyframes spin {\n",
              "    0% {\n",
              "      border-color: transparent;\n",
              "      border-bottom-color: var(--fill-color);\n",
              "      border-left-color: var(--fill-color);\n",
              "    }\n",
              "    20% {\n",
              "      border-color: transparent;\n",
              "      border-left-color: var(--fill-color);\n",
              "      border-top-color: var(--fill-color);\n",
              "    }\n",
              "    30% {\n",
              "      border-color: transparent;\n",
              "      border-left-color: var(--fill-color);\n",
              "      border-top-color: var(--fill-color);\n",
              "      border-right-color: var(--fill-color);\n",
              "    }\n",
              "    40% {\n",
              "      border-color: transparent;\n",
              "      border-right-color: var(--fill-color);\n",
              "      border-top-color: var(--fill-color);\n",
              "    }\n",
              "    60% {\n",
              "      border-color: transparent;\n",
              "      border-right-color: var(--fill-color);\n",
              "    }\n",
              "    80% {\n",
              "      border-color: transparent;\n",
              "      border-right-color: var(--fill-color);\n",
              "      border-bottom-color: var(--fill-color);\n",
              "    }\n",
              "    90% {\n",
              "      border-color: transparent;\n",
              "      border-bottom-color: var(--fill-color);\n",
              "    }\n",
              "  }\n",
              "</style>\n",
              "\n",
              "  <script>\n",
              "    async function quickchart(key) {\n",
              "      const quickchartButtonEl =\n",
              "        document.querySelector('#' + key + ' button');\n",
              "      quickchartButtonEl.disabled = true;  // To prevent multiple clicks.\n",
              "      quickchartButtonEl.classList.add('colab-df-spinner');\n",
              "      try {\n",
              "        const charts = await google.colab.kernel.invokeFunction(\n",
              "            'suggestCharts', [key], {});\n",
              "      } catch (error) {\n",
              "        console.error('Error during call to suggestCharts:', error);\n",
              "      }\n",
              "      quickchartButtonEl.classList.remove('colab-df-spinner');\n",
              "      quickchartButtonEl.classList.add('colab-df-quickchart-complete');\n",
              "    }\n",
              "    (() => {\n",
              "      let quickchartButtonEl =\n",
              "        document.querySelector('#df-c6d6ee48-f897-4e6a-941e-dd1ce8374ff0 button');\n",
              "      quickchartButtonEl.style.display =\n",
              "        google.colab.kernel.accessAllowed ? 'block' : 'none';\n",
              "    })();\n",
              "  </script>\n",
              "</div>\n",
              "    </div>\n",
              "  </div>\n"
            ]
          },
          "metadata": {},
          "execution_count": 52
        }
      ]
    },
    {
      "cell_type": "code",
      "source": [
        "cancer_df.target.value_counts()"
      ],
      "metadata": {
        "colab": {
          "base_uri": "https://localhost:8080/"
        },
        "id": "Hhk3RDrlYXoe",
        "outputId": "da271b0e-be75-4e8c-ed71-68ac13aeb79c"
      },
      "execution_count": null,
      "outputs": [
        {
          "output_type": "execute_result",
          "data": {
            "text/plain": [
              "1    357\n",
              "0    212\n",
              "Name: target, dtype: int64"
            ]
          },
          "metadata": {},
          "execution_count": 53
        }
      ]
    },
    {
      "cell_type": "markdown",
      "source": [
        "모델 LogisticRegression(max_iter=5000)\n",
        "\n",
        "accuracy, precision, recall, f1, roc_auc 구하기\n",
        "\n",
        "DecisionTreeClassifier\n",
        "\n",
        "RandomForestClassifier"
      ],
      "metadata": {
        "id": "MAeNr06DY9ei"
      }
    },
    {
      "cell_type": "code",
      "source": [
        "X_train, X_test, y_train, y_test = train_test_split(X_features, y_label, test_size=0.3, random_state=156)"
      ],
      "metadata": {
        "id": "Qe4-jsCqYtqS"
      },
      "execution_count": null,
      "outputs": []
    },
    {
      "cell_type": "code",
      "source": [
        "lr_clf = LogisticRegression(max_iter=5000)\n",
        "lr_clf.fit(X_train, y_train)\n",
        "pred = lr_clf.predict(X_test)\n",
        "pred_proba = lr_clf.predict_proba(X_test)[:, 1]"
      ],
      "metadata": {
        "id": "hQJJh8vblOuv"
      },
      "execution_count": null,
      "outputs": []
    },
    {
      "cell_type": "code",
      "source": [
        "get_clf_eval(y_test, pred, pred_proba)"
      ],
      "metadata": {
        "colab": {
          "base_uri": "https://localhost:8080/"
        },
        "id": "S2Qk9lv8lxCU",
        "outputId": "5de61b14-cca0-4a9e-f52a-de149a03727a"
      },
      "execution_count": null,
      "outputs": [
        {
          "output_type": "stream",
          "name": "stdout",
          "text": [
            "[[ 46  10]\n",
            " [  5 110]] 0.912 0.917 0.957 0.936 0.9835403726708074\n"
          ]
        }
      ]
    },
    {
      "cell_type": "code",
      "source": [
        "def get_clf_eval(y_test, pred, pred_probas=None):\n",
        "    confusion = confusion_matrix(y_test, pred)\n",
        "    accuracy = accuracy_score(y_test, pred)\n",
        "    precision = precision_score(y_test, pred)\n",
        "    recall = recall_score(y_test, pred)\n",
        "    f1 = f1_score(y_test, pred)\n",
        "    roc_aucs = None\n",
        "    if pred_probas is not None:\n",
        "        roc_aucs = roc_auc_score(y_test, pred_probas)\n",
        "    print(confusion, np.round(accuracy,3), np.round(precision,3), np.round(recall,3), np.round(f1,3), roc_aucs)"
      ],
      "metadata": {
        "id": "tc9i-hYIlqKJ"
      },
      "execution_count": null,
      "outputs": []
    },
    {
      "cell_type": "code",
      "source": [
        "from sklearn.tree import DecisionTreeClassifier"
      ],
      "metadata": {
        "id": "nwQ6TQ24mEcE"
      },
      "execution_count": null,
      "outputs": []
    },
    {
      "cell_type": "code",
      "source": [
        "dt_clf = DecisionTreeClassifier()"
      ],
      "metadata": {
        "id": "VRm1mwRFmLHm"
      },
      "execution_count": null,
      "outputs": []
    },
    {
      "cell_type": "code",
      "source": [
        "dt_clf.fit(X_train, y_train)\n",
        "pred=dt_clf.predict(X_test)\n",
        "get_clf_eval(y_test, pred)"
      ],
      "metadata": {
        "colab": {
          "base_uri": "https://localhost:8080/"
        },
        "id": "lJbD55UXmOb3",
        "outputId": "c1874235-2afa-46aa-bcad-6248dc63f845"
      },
      "execution_count": null,
      "outputs": [
        {
          "output_type": "stream",
          "name": "stdout",
          "text": [
            "[[ 48   8]\n",
            " [  5 110]] 0.924 0.932 0.957 0.944 None\n"
          ]
        }
      ]
    },
    {
      "cell_type": "code",
      "source": [
        "from sklearn.ensemble import RandomForestClassifier"
      ],
      "metadata": {
        "id": "Rzyb_gR4maJx"
      },
      "execution_count": null,
      "outputs": []
    },
    {
      "cell_type": "code",
      "source": [
        "rf_clf = RandomForestClassifier()\n",
        "rf_clf.fit(X_train, y_train)\n",
        "pred = rf_clf.predict(X_test)\n",
        "get_clf_eval(y_test, pred)"
      ],
      "metadata": {
        "colab": {
          "base_uri": "https://localhost:8080/"
        },
        "id": "i976LoyAnPYv",
        "outputId": "46d6ec93-170a-48f0-a017-81e378a5a3f0"
      },
      "execution_count": null,
      "outputs": [
        {
          "output_type": "stream",
          "name": "stdout",
          "text": [
            "[[ 49   7]\n",
            " [  4 111]] 0.936 0.941 0.965 0.953 None\n"
          ]
        }
      ]
    },
    {
      "cell_type": "code",
      "source": [
        "from sklearn.model_selection import GridSearchCV"
      ],
      "metadata": {
        "id": "9L3XFDtMntyq"
      },
      "execution_count": null,
      "outputs": []
    },
    {
      "cell_type": "code",
      "source": [
        "params = {'n_estimators':[100,200,300], 'max_depth':[6, 8, 10, 12],\n",
        "          'min_samples_split':[8, 16, 20]}"
      ],
      "metadata": {
        "id": "Zgwr2dxCn_t0"
      },
      "execution_count": null,
      "outputs": []
    },
    {
      "cell_type": "code",
      "source": [
        "rf = RandomForestClassifier(random_state=156, n_jobs=-1)\n",
        "grid_cv = GridSearchCV(rf, param_grid=params, cv=3, n_jobs=-1, refit=True)\n",
        "grid_cv.fit(X_train, y_train)\n",
        "grid_cv.best_params_"
      ],
      "metadata": {
        "colab": {
          "base_uri": "https://localhost:8080/"
        },
        "id": "EhMop42ToI-z",
        "outputId": "a803eee9-3180-445b-fb18-c0f14193dab8"
      },
      "execution_count": null,
      "outputs": [
        {
          "output_type": "execute_result",
          "data": {
            "text/plain": [
              "{'max_depth': 6, 'min_samples_split': 8, 'n_estimators': 200}"
            ]
          },
          "metadata": {},
          "execution_count": 65
        }
      ]
    },
    {
      "cell_type": "code",
      "source": [
        "grid_cv.best_score_\n",
        "pred = grid_cv.best_estimator_.predict(X_test)\n",
        "accuracy_score(y_test, pred)"
      ],
      "metadata": {
        "colab": {
          "base_uri": "https://localhost:8080/"
        },
        "id": "D7Pl_rUUpJFk",
        "outputId": "cbf138ca-6840-4f09-9d68-3ae9b2295a96"
      },
      "execution_count": null,
      "outputs": [
        {
          "output_type": "execute_result",
          "data": {
            "text/plain": [
              "0.935672514619883"
            ]
          },
          "metadata": {},
          "execution_count": 66
        }
      ]
    },
    {
      "cell_type": "code",
      "source": [
        "ftr_importance_values = grid_cv.best_estimator_.feature_importances_"
      ],
      "metadata": {
        "id": "QBhV0ABxHS4z"
      },
      "execution_count": null,
      "outputs": []
    },
    {
      "cell_type": "code",
      "source": [
        "ftr_importance_values"
      ],
      "metadata": {
        "colab": {
          "base_uri": "https://localhost:8080/"
        },
        "id": "xL3bLoTEHkTL",
        "outputId": "023c95b8-2314-42ad-dc1c-84dfbee89fd1"
      },
      "execution_count": null,
      "outputs": [
        {
          "output_type": "execute_result",
          "data": {
            "text/plain": [
              "array([0.03541061, 0.00863743, 0.03545619, 0.06847153, 0.00386138,\n",
              "       0.01585356, 0.04380072, 0.09140229, 0.0029362 , 0.0020275 ,\n",
              "       0.01635635, 0.00251688, 0.01251901, 0.03532375, 0.00244944,\n",
              "       0.00177143, 0.00319941, 0.00288211, 0.00276888, 0.00195943,\n",
              "       0.15033374, 0.01423285, 0.14352487, 0.09765035, 0.00877281,\n",
              "       0.02063715, 0.02929653, 0.12392932, 0.01303485, 0.00898342])"
            ]
          },
          "metadata": {},
          "execution_count": 68
        }
      ]
    },
    {
      "cell_type": "code",
      "source": [
        "ftr_importance = pd.Series(ftr_importance_values, index=cancer.feature_names)"
      ],
      "metadata": {
        "id": "z6fTQFGfICOy"
      },
      "execution_count": null,
      "outputs": []
    },
    {
      "cell_type": "code",
      "source": [
        "ftr_importance"
      ],
      "metadata": {
        "id": "pIbKi4luINAJ"
      },
      "execution_count": null,
      "outputs": []
    },
    {
      "cell_type": "code",
      "source": [
        "import seaborn as sns"
      ],
      "metadata": {
        "id": "PusDDqpJIgdv"
      },
      "execution_count": null,
      "outputs": []
    },
    {
      "cell_type": "code",
      "source": [
        "ftr_10 = ftr_importance.sort_values(ascending=False)[:10]\n",
        "sns.barplot(x=ftr_10, y=ftr_10.index)"
      ],
      "metadata": {
        "colab": {
          "base_uri": "https://localhost:8080/",
          "height": 447
        },
        "id": "Ajm-kS1bIS7l",
        "outputId": "448e7152-db0d-4542-85fc-c2593937c9a3"
      },
      "execution_count": null,
      "outputs": [
        {
          "output_type": "execute_result",
          "data": {
            "text/plain": [
              "<Axes: >"
            ]
          },
          "metadata": {},
          "execution_count": 72
        },
        {
          "output_type": "display_data",
          "data": {
            "text/plain": [
              "<Figure size 640x480 with 1 Axes>"
            ],
            "image/png": "[encoded data removed]"
          },
          "metadata": {}
        }
      ]
    },
    {
      "cell_type": "code",
      "source": [
        "ls ./drive/MyDrive/data/dia*"
      ],
      "metadata": {
        "colab": {
          "base_uri": "https://localhost:8080/"
        },
        "id": "HyjoqaJuJusV",
        "outputId": "a208da59-9de7-4c1d-d5f4-2e220df67fdd"
      },
      "execution_count": null,
      "outputs": [
        {
          "output_type": "stream",
          "name": "stdout",
          "text": [
            "./drive/MyDrive/data/diabetes.csv\n"
          ]
        }
      ]
    },
    {
      "cell_type": "code",
      "source": [
        "diabetes = pd.read_csv('./drive/MyDrive/data/diabetes.csv')"
      ],
      "metadata": {
        "id": "aVMB0tOvJ1P0"
      },
      "execution_count": null,
      "outputs": []
    },
    {
      "cell_type": "code",
      "source": [
        "diabetes.head()"
      ],
      "metadata": {
        "colab": {
          "base_uri": "https://localhost:8080/",
          "height": 226
        },
        "id": "lP6cC7R5J8RN",
        "outputId": "f0c8b85d-ffc1-4149-d51b-85479ee30abc"
      },
      "execution_count": null,
      "outputs": [
        {
          "output_type": "execute_result",
          "data": {
            "text/plain": [
              "   Pregnancies  Glucose  BloodPressure  SkinThickness  Insulin   BMI  \\\n",
              "0            6      148             72             35        0  33.6   \n",
              "1            1       85             66             29        0  26.6   \n",
              "2            8      183             64              0        0  23.3   \n",
              "3            1       89             66             23       94  28.1   \n",
              "4            0      137             40             35      168  43.1   \n",
              "\n",
              "   DiabetesPedigreeFunction  Age  Outcome  \n",
              "0                     0.627   50        1  \n",
              "1                     0.351   31        0  \n",
              "2                     0.672   32        1  \n",
              "3                     0.167   21        0  \n",
              "4                     2.288   33        1  "
            ],
            "text/html": [
              "\n",
              "  <div id=\"df-78598b53-c438-4647-a6b3-4c21196748b3\" class=\"colab-df-container\">\n",
              "    <div>\n",
              "<style scoped>\n",
              "    .dataframe tbody tr th:only-of-type {\n",
              "        vertical-align: middle;\n",
              "    }\n",
              "\n",
              "    .dataframe tbody tr th {\n",
              "        vertical-align: top;\n",
              "    }\n",
              "\n",
              "    .dataframe thead th {\n",
              "        text-align: right;\n",
              "    }\n",
              "</style>\n",
              "<table border=\"1\" class=\"dataframe\">\n",
              "  <thead>\n",
              "    <tr style=\"text-align: right;\">\n",
              "      <th></th>\n",
              "      <th>Pregnancies</th>\n",
              "      <th>Glucose</th>\n",
              "      <th>BloodPressure</th>\n",
              "      <th>SkinThickness</th>\n",
              "      <th>Insulin</th>\n",
              "      <th>BMI</th>\n",
              "      <th>DiabetesPedigreeFunction</th>\n",
              "      <th>Age</th>\n",
              "      <th>Outcome</th>\n",
              "    </tr>\n",
              "  </thead>\n",
              "  <tbody>\n",
              "    <tr>\n",
              "      <th>0</th>\n",
              "      <td>6</td>\n",
              "      <td>148</td>\n",
              "      <td>72</td>\n",
              "      <td>35</td>\n",
              "      <td>0</td>\n",
              "      <td>33.6</td>\n",
              "      <td>0.627</td>\n",
              "      <td>50</td>\n",
              "      <td>1</td>\n",
              "    </tr>\n",
              "    <tr>\n",
              "      <th>1</th>\n",
              "      <td>1</td>\n",
              "      <td>85</td>\n",
              "      <td>66</td>\n",
              "      <td>29</td>\n",
              "      <td>0</td>\n",
              "      <td>26.6</td>\n",
              "      <td>0.351</td>\n",
              "      <td>31</td>\n",
              "      <td>0</td>\n",
              "    </tr>\n",
              "    <tr>\n",
              "      <th>2</th>\n",
              "      <td>8</td>\n",
              "      <td>183</td>\n",
              "      <td>64</td>\n",
              "      <td>0</td>\n",
              "      <td>0</td>\n",
              "      <td>23.3</td>\n",
              "      <td>0.672</td>\n",
              "      <td>32</td>\n",
              "      <td>1</td>\n",
              "    </tr>\n",
              "    <tr>\n",
              "      <th>3</th>\n",
              "      <td>1</td>\n",
              "      <td>89</td>\n",
              "      <td>66</td>\n",
              "      <td>23</td>\n",
              "      <td>94</td>\n",
              "      <td>28.1</td>\n",
              "      <td>0.167</td>\n",
              "      <td>21</td>\n",
              "      <td>0</td>\n",
              "    </tr>\n",
              "    <tr>\n",
              "      <th>4</th>\n",
              "      <td>0</td>\n",
              "      <td>137</td>\n",
              "      <td>40</td>\n",
              "      <td>35</td>\n",
              "      <td>168</td>\n",
              "      <td>43.1</td>\n",
              "      <td>2.288</td>\n",
              "      <td>33</td>\n",
              "      <td>1</td>\n",
              "    </tr>\n",
              "  </tbody>\n",
              "</table>\n",
              "</div>\n",
              "    <div class=\"colab-df-buttons\">\n",
              "\n",
              "  <div class=\"colab-df-container\">\n",
              "    <button class=\"colab-df-convert\" onclick=\"convertToInteractive('df-78598b53-c438-4647-a6b3-4c21196748b3')\"\n",
              "            title=\"Convert this dataframe to an interactive table.\"\n",
              "            style=\"display:none;\">\n",
              "\n",
              "  <svg xmlns=\"http://www.w3.org/2000/svg\" height=\"24px\" viewBox=\"0 -960 960 960\">\n",
              "    <path d=\"M120-120v-720h720v720H120Zm60-500h600v-160H180v160Zm220 220h160v-160H400v160Zm0 220h160v-160H400v160ZM180-400h160v-160H180v160Zm440 0h160v-160H620v160ZM180-180h160v-160H180v160Zm440 0h160v-160H620v160Z\"/>\n",
              "  </svg>\n",
              "    </button>\n",
              "\n",
              "  <style>\n",
              "    .colab-df-container {\n",
              "      display:flex;\n",
              "      gap: 12px;\n",
              "    }\n",
              "\n",
              "    .colab-df-convert {\n",
              "      background-color: #E8F0FE;\n",
              "      border: none;\n",
              "      border-radius: 50%;\n",
              "      cursor: pointer;\n",
              "      display: none;\n",
              "      fill: #1967D2;\n",
              "      height: 32px;\n",
              "      padding: 0 0 0 0;\n",
              "      width: 32px;\n",
              "    }\n",
              "\n",
              "    .colab-df-convert:hover {\n",
              "      background-color: #E2EBFA;\n",
              "      box-shadow: 0px 1px 2px rgba(60, 64, 67, 0.3), 0px 1px 3px 1px rgba(60, 64, 67, 0.15);\n",
              "      fill: #174EA6;\n",
              "    }\n",
              "\n",
              "    .colab-df-buttons div {\n",
              "      margin-bottom: 4px;\n",
              "    }\n",
              "\n",
              "    [theme=dark] .colab-df-convert {\n",
              "      background-color: #3B4455;\n",
              "      fill: #D2E3FC;\n",
              "    }\n",
              "\n",
              "    [theme=dark] .colab-df-convert:hover {\n",
              "      background-color: #434B5C;\n",
              "      box-shadow: 0px 1px 3px 1px rgba(0, 0, 0, 0.15);\n",
              "      filter: drop-shadow(0px 1px 2px rgba(0, 0, 0, 0.3));\n",
              "      fill: #FFFFFF;\n",
              "    }\n",
              "  </style>\n",
              "\n",
              "    <script>\n",
              "      const buttonEl =\n",
              "        document.querySelector('#df-78598b53-c438-4647-a6b3-4c21196748b3 button.colab-df-convert');\n",
              "      buttonEl.style.display =\n",
              "        google.colab.kernel.accessAllowed ? 'block' : 'none';\n",
              "\n",
              "      async function convertToInteractive(key) {\n",
              "        const element = document.querySelector('#df-78598b53-c438-4647-a6b3-4c21196748b3');\n",
              "        const dataTable =\n",
              "          await google.colab.kernel.invokeFunction('convertToInteractive',\n",
              "                                                    [key], {});\n",
              "        if (!dataTable) return;\n",
              "\n",
              "        const docLinkHtml = 'Like what you see? Visit the ' +\n",
              "          '<a target=\"_blank\" href=https://colab.research.google.com/notebooks/data_table.ipynb>data table notebook</a>'\n",
              "          + ' to learn more about interactive tables.';\n",
              "        element.innerHTML = '';\n",
              "        dataTable['output_type'] = 'display_data';\n",
              "        await google.colab.output.renderOutput(dataTable, element);\n",
              "        const docLink = document.createElement('div');\n",
              "        docLink.innerHTML = docLinkHtml;\n",
              "        element.appendChild(docLink);\n",
              "      }\n",
              "    </script>\n",
              "  </div>\n",
              "\n",
              "\n",
              "<div id=\"df-6da019b1-4126-40f9-95d7-0b76f6b650ab\">\n",
              "  <button class=\"colab-df-quickchart\" onclick=\"quickchart('df-6da019b1-4126-40f9-95d7-0b76f6b650ab')\"\n",
              "            title=\"Suggest charts.\"\n",
              "            style=\"display:none;\">\n",
              "\n",
              "<svg xmlns=\"http://www.w3.org/2000/svg\" height=\"24px\"viewBox=\"0 0 24 24\"\n",
              "     width=\"24px\">\n",
              "    <g>\n",
              "        <path d=\"M19 3H5c-1.1 0-2 .9-2 2v14c0 1.1.9 2 2 2h14c1.1 0 2-.9 2-2V5c0-1.1-.9-2-2-2zM9 17H7v-7h2v7zm4 0h-2V7h2v10zm4 0h-2v-4h2v4z\"/>\n",
              "    </g>\n",
              "</svg>\n",
              "  </button>\n",
              "\n",
              "<style>\n",
              "  .colab-df-quickchart {\n",
              "      --bg-color: #E8F0FE;\n",
              "      --fill-color: #1967D2;\n",
              "      --hover-bg-color: #E2EBFA;\n",
              "      --hover-fill-color: #174EA6;\n",
              "      --disabled-fill-color: #AAA;\n",
              "      --disabled-bg-color: #DDD;\n",
              "  }\n",
              "\n",
              "  [theme=dark] .colab-df-quickchart {\n",
              "      --bg-color: #3B4455;\n",
              "      --fill-color: #D2E3FC;\n",
              "      --hover-bg-color: #434B5C;\n",
              "      --hover-fill-color: #FFFFFF;\n",
              "      --disabled-bg-color: #3B4455;\n",
              "      --disabled-fill-color: #666;\n",
              "  }\n",
              "\n",
              "  .colab-df-quickchart {\n",
              "    background-color: var(--bg-color);\n",
              "    border: none;\n",
              "    border-radius: 50%;\n",
              "    cursor: pointer;\n",
              "    display: none;\n",
              "    fill: var(--fill-color);\n",
              "    height: 32px;\n",
              "    padding: 0;\n",
              "    width: 32px;\n",
              "  }\n",
              "\n",
              "  .colab-df-quickchart:hover {\n",
              "    background-color: var(--hover-bg-color);\n",
              "    box-shadow: 0 1px 2px rgba(60, 64, 67, 0.3), 0 1px 3px 1px rgba(60, 64, 67, 0.15);\n",
              "    fill: var(--button-hover-fill-color);\n",
              "  }\n",
              "\n",
              "  .colab-df-quickchart-complete:disabled,\n",
              "  .colab-df-quickchart-complete:disabled:hover {\n",
              "    background-color: var(--disabled-bg-color);\n",
              "    fill: var(--disabled-fill-color);\n",
              "    box-shadow: none;\n",
              "  }\n",
              "\n",
              "  .colab-df-spinner {\n",
              "    border: 2px solid var(--fill-color);\n",
              "    border-color: transparent;\n",
              "    border-bottom-color: var(--fill-color);\n",
              "    animation:\n",
              "      spin 1s steps(1) infinite;\n",
              "  }\n",
              "\n",
              "  @keyframes spin {\n",
              "    0% {\n",
              "      border-color: transparent;\n",
              "      border-bottom-color: var(--fill-color);\n",
              "      border-left-color: var(--fill-color);\n",
              "    }\n",
              "    20% {\n",
              "      border-color: transparent;\n",
              "      border-left-color: var(--fill-color);\n",
              "      border-top-color: var(--fill-color);\n",
              "    }\n",
              "    30% {\n",
              "      border-color: transparent;\n",
              "      border-left-color: var(--fill-color);\n",
              "      border-top-color: var(--fill-color);\n",
              "      border-right-color: var(--fill-color);\n",
              "    }\n",
              "    40% {\n",
              "      border-color: transparent;\n",
              "      border-right-color: var(--fill-color);\n",
              "      border-top-color: var(--fill-color);\n",
              "    }\n",
              "    60% {\n",
              "      border-color: transparent;\n",
              "      border-right-color: var(--fill-color);\n",
              "    }\n",
              "    80% {\n",
              "      border-color: transparent;\n",
              "      border-right-color: var(--fill-color);\n",
              "      border-bottom-color: var(--fill-color);\n",
              "    }\n",
              "    90% {\n",
              "      border-color: transparent;\n",
              "      border-bottom-color: var(--fill-color);\n",
              "    }\n",
              "  }\n",
              "</style>\n",
              "\n",
              "  <script>\n",
              "    async function quickchart(key) {\n",
              "      const quickchartButtonEl =\n",
              "        document.querySelector('#' + key + ' button');\n",
              "      quickchartButtonEl.disabled = true;  // To prevent multiple clicks.\n",
              "      quickchartButtonEl.classList.add('colab-df-spinner');\n",
              "      try {\n",
              "        const charts = await google.colab.kernel.invokeFunction(\n",
              "            'suggestCharts', [key], {});\n",
              "      } catch (error) {\n",
              "        console.error('Error during call to suggestCharts:', error);\n",
              "      }\n",
              "      quickchartButtonEl.classList.remove('colab-df-spinner');\n",
              "      quickchartButtonEl.classList.add('colab-df-quickchart-complete');\n",
              "    }\n",
              "    (() => {\n",
              "      let quickchartButtonEl =\n",
              "        document.querySelector('#df-6da019b1-4126-40f9-95d7-0b76f6b650ab button');\n",
              "      quickchartButtonEl.style.display =\n",
              "        google.colab.kernel.accessAllowed ? 'block' : 'none';\n",
              "    })();\n",
              "  </script>\n",
              "</div>\n",
              "    </div>\n",
              "  </div>\n"
            ]
          },
          "metadata": {},
          "execution_count": 75
        }
      ]
    },
    {
      "cell_type": "code",
      "source": [
        "diabetes.info()"
      ],
      "metadata": {
        "colab": {
          "base_uri": "https://localhost:8080/"
        },
        "id": "wJDRysAlJ_Yh",
        "outputId": "d39afe27-0b45-4260-a19e-f1dd719c3679"
      },
      "execution_count": null,
      "outputs": [
        {
          "output_type": "stream",
          "name": "stdout",
          "text": [
            "<class 'pandas.core.frame.DataFrame'>\n",
            "RangeIndex: 768 entries, 0 to 767\n",
            "Data columns (total 9 columns):\n",
            " #   Column                    Non-Null Count  Dtype  \n",
            "---  ------                    --------------  -----  \n",
            " 0   Pregnancies               768 non-null    int64  \n",
            " 1   Glucose                   768 non-null    int64  \n",
            " 2   BloodPressure             768 non-null    int64  \n",
            " 3   SkinThickness             768 non-null    int64  \n",
            " 4   Insulin                   768 non-null    int64  \n",
            " 5   BMI                       768 non-null    float64\n",
            " 6   DiabetesPedigreeFunction  768 non-null    float64\n",
            " 7   Age                       768 non-null    int64  \n",
            " 8   Outcome                   768 non-null    int64  \n",
            "dtypes: float64(2), int64(7)\n",
            "memory usage: 54.1 KB\n"
          ]
        }
      ]
    },
    {
      "cell_type": "code",
      "source": [
        "diabetes.describe()"
      ],
      "metadata": {
        "colab": {
          "base_uri": "https://localhost:8080/",
          "height": 320
        },
        "id": "NRtaRqaZKSFc",
        "outputId": "2bc70e8a-89ea-40e4-8bce-3e06eb06b37e"
      },
      "execution_count": null,
      "outputs": [
        {
          "output_type": "execute_result",
          "data": {
            "text/plain": [
              "       Pregnancies     Glucose  BloodPressure  SkinThickness     Insulin  \\\n",
              "count   768.000000  768.000000     768.000000     768.000000  768.000000   \n",
              "mean      3.845052  120.894531      69.105469      20.536458   79.799479   \n",
              "std       3.369578   31.972618      19.355807      15.952218  115.244002   \n",
              "min       0.000000    0.000000       0.000000       0.000000    0.000000   \n",
              "25%       1.000000   99.000000      62.000000       0.000000    0.000000   \n",
              "50%       3.000000  117.000000      72.000000      23.000000   30.500000   \n",
              "75%       6.000000  140.250000      80.000000      32.000000  127.250000   \n",
              "max      17.000000  199.000000     122.000000      99.000000  846.000000   \n",
              "\n",
              "              BMI  DiabetesPedigreeFunction         Age     Outcome  \n",
              "count  768.000000                768.000000  768.000000  768.000000  \n",
              "mean    31.992578                  0.471876   33.240885    0.348958  \n",
              "std      7.884160                  0.331329   11.760232    0.476951  \n",
              "min      0.000000                  0.078000   21.000000    0.000000  \n",
              "25%     27.300000                  0.243750   24.000000    0.000000  \n",
              "50%     32.000000                  0.372500   29.000000    0.000000  \n",
              "75%     36.600000                  0.626250   41.000000    1.000000  \n",
              "max     67.100000                  2.420000   81.000000    1.000000  "
            ],
            "text/html": [
              "\n",
              "  <div id=\"df-e41b963a-042c-43ce-a230-95eceab35c5e\" class=\"colab-df-container\">\n",
              "    <div>\n",
              "<style scoped>\n",
              "    .dataframe tbody tr th:only-of-type {\n",
              "        vertical-align: middle;\n",
              "    }\n",
              "\n",
              "    .dataframe tbody tr th {\n",
              "        vertical-align: top;\n",
              "    }\n",
              "\n",
              "    .dataframe thead th {\n",
              "        text-align: right;\n",
              "    }\n",
              "</style>\n",
              "<table border=\"1\" class=\"dataframe\">\n",
              "  <thead>\n",
              "    <tr style=\"text-align: right;\">\n",
              "      <th></th>\n",
              "      <th>Pregnancies</th>\n",
              "      <th>Glucose</th>\n",
              "      <th>BloodPressure</th>\n",
              "      <th>SkinThickness</th>\n",
              "      <th>Insulin</th>\n",
              "      <th>BMI</th>\n",
              "      <th>DiabetesPedigreeFunction</th>\n",
              "      <th>Age</th>\n",
              "      <th>Outcome</th>\n",
              "    </tr>\n",
              "  </thead>\n",
              "  <tbody>\n",
              "    <tr>\n",
              "      <th>count</th>\n",
              "      <td>768.000000</td>\n",
              "      <td>768.000000</td>\n",
              "      <td>768.000000</td>\n",
              "      <td>768.000000</td>\n",
              "      <td>768.000000</td>\n",
              "      <td>768.000000</td>\n",
              "      <td>768.000000</td>\n",
              "      <td>768.000000</td>\n",
              "      <td>768.000000</td>\n",
              "    </tr>\n",
              "    <tr>\n",
              "      <th>mean</th>\n",
              "      <td>3.845052</td>\n",
              "      <td>120.894531</td>\n",
              "      <td>69.105469</td>\n",
              "      <td>20.536458</td>\n",
              "      <td>79.799479</td>\n",
              "      <td>31.992578</td>\n",
              "      <td>0.471876</td>\n",
              "      <td>33.240885</td>\n",
              "      <td>0.348958</td>\n",
              "    </tr>\n",
              "    <tr>\n",
              "      <th>std</th>\n",
              "      <td>3.369578</td>\n",
              "      <td>31.972618</td>\n",
              "      <td>19.355807</td>\n",
              "      <td>15.952218</td>\n",
              "      <td>115.244002</td>\n",
              "      <td>7.884160</td>\n",
              "      <td>0.331329</td>\n",
              "      <td>11.760232</td>\n",
              "      <td>0.476951</td>\n",
              "    </tr>\n",
              "    <tr>\n",
              "      <th>min</th>\n",
              "      <td>0.000000</td>\n",
              "      <td>0.000000</td>\n",
              "      <td>0.000000</td>\n",
              "      <td>0.000000</td>\n",
              "      <td>0.000000</td>\n",
              "      <td>0.000000</td>\n",
              "      <td>0.078000</td>\n",
              "      <td>21.000000</td>\n",
              "      <td>0.000000</td>\n",
              "    </tr>\n",
              "    <tr>\n",
              "      <th>25%</th>\n",
              "      <td>1.000000</td>\n",
              "      <td>99.000000</td>\n",
              "      <td>62.000000</td>\n",
              "      <td>0.000000</td>\n",
              "      <td>0.000000</td>\n",
              "      <td>27.300000</td>\n",
              "      <td>0.243750</td>\n",
              "      <td>24.000000</td>\n",
              "      <td>0.000000</td>\n",
              "    </tr>\n",
              "    <tr>\n",
              "      <th>50%</th>\n",
              "      <td>3.000000</td>\n",
              "      <td>117.000000</td>\n",
              "      <td>72.000000</td>\n",
              "      <td>23.000000</td>\n",
              "      <td>30.500000</td>\n",
              "      <td>32.000000</td>\n",
              "      <td>0.372500</td>\n",
              "      <td>29.000000</td>\n",
              "      <td>0.000000</td>\n",
              "    </tr>\n",
              "    <tr>\n",
              "      <th>75%</th>\n",
              "      <td>6.000000</td>\n",
              "      <td>140.250000</td>\n",
              "      <td>80.000000</td>\n",
              "      <td>32.000000</td>\n",
              "      <td>127.250000</td>\n",
              "      <td>36.600000</td>\n",
              "      <td>0.626250</td>\n",
              "      <td>41.000000</td>\n",
              "      <td>1.000000</td>\n",
              "    </tr>\n",
              "    <tr>\n",
              "      <th>max</th>\n",
              "      <td>17.000000</td>\n",
              "      <td>199.000000</td>\n",
              "      <td>122.000000</td>\n",
              "      <td>99.000000</td>\n",
              "      <td>846.000000</td>\n",
              "      <td>67.100000</td>\n",
              "      <td>2.420000</td>\n",
              "      <td>81.000000</td>\n",
              "      <td>1.000000</td>\n",
              "    </tr>\n",
              "  </tbody>\n",
              "</table>\n",
              "</div>\n",
              "    <div class=\"colab-df-buttons\">\n",
              "\n",
              "  <div class=\"colab-df-container\">\n",
              "    <button class=\"colab-df-convert\" onclick=\"convertToInteractive('df-e41b963a-042c-43ce-a230-95eceab35c5e')\"\n",
              "            title=\"Convert this dataframe to an interactive table.\"\n",
              "            style=\"display:none;\">\n",
              "\n",
              "  <svg xmlns=\"http://www.w3.org/2000/svg\" height=\"24px\" viewBox=\"0 -960 960 960\">\n",
              "    <path d=\"M120-120v-720h720v720H120Zm60-500h600v-160H180v160Zm220 220h160v-160H400v160Zm0 220h160v-160H400v160ZM180-400h160v-160H180v160Zm440 0h160v-160H620v160ZM180-180h160v-160H180v160Zm440 0h160v-160H620v160Z\"/>\n",
              "  </svg>\n",
              "    </button>\n",
              "\n",
              "  <style>\n",
              "    .colab-df-container {\n",
              "      display:flex;\n",
              "      gap: 12px;\n",
              "    }\n",
              "\n",
              "    .colab-df-convert {\n",
              "      background-color: #E8F0FE;\n",
              "      border: none;\n",
              "      border-radius: 50%;\n",
              "      cursor: pointer;\n",
              "      display: none;\n",
              "      fill: #1967D2;\n",
              "      height: 32px;\n",
              "      padding: 0 0 0 0;\n",
              "      width: 32px;\n",
              "    }\n",
              "\n",
              "    .colab-df-convert:hover {\n",
              "      background-color: #E2EBFA;\n",
              "      box-shadow: 0px 1px 2px rgba(60, 64, 67, 0.3), 0px 1px 3px 1px rgba(60, 64, 67, 0.15);\n",
              "      fill: #174EA6;\n",
              "    }\n",
              "\n",
              "    .colab-df-buttons div {\n",
              "      margin-bottom: 4px;\n",
              "    }\n",
              "\n",
              "    [theme=dark] .colab-df-convert {\n",
              "      background-color: #3B4455;\n",
              "      fill: #D2E3FC;\n",
              "    }\n",
              "\n",
              "    [theme=dark] .colab-df-convert:hover {\n",
              "      background-color: #434B5C;\n",
              "      box-shadow: 0px 1px 3px 1px rgba(0, 0, 0, 0.15);\n",
              "      filter: drop-shadow(0px 1px 2px rgba(0, 0, 0, 0.3));\n",
              "      fill: #FFFFFF;\n",
              "    }\n",
              "  </style>\n",
              "\n",
              "    <script>\n",
              "      const buttonEl =\n",
              "        document.querySelector('#df-e41b963a-042c-43ce-a230-95eceab35c5e button.colab-df-convert');\n",
              "      buttonEl.style.display =\n",
              "        google.colab.kernel.accessAllowed ? 'block' : 'none';\n",
              "\n",
              "      async function convertToInteractive(key) {\n",
              "        const element = document.querySelector('#df-e41b963a-042c-43ce-a230-95eceab35c5e');\n",
              "        const dataTable =\n",
              "          await google.colab.kernel.invokeFunction('convertToInteractive',\n",
              "                                                    [key], {});\n",
              "        if (!dataTable) return;\n",
              "\n",
              "        const docLinkHtml = 'Like what you see? Visit the ' +\n",
              "          '<a target=\"_blank\" href=https://colab.research.google.com/notebooks/data_table.ipynb>data table notebook</a>'\n",
              "          + ' to learn more about interactive tables.';\n",
              "        element.innerHTML = '';\n",
              "        dataTable['output_type'] = 'display_data';\n",
              "        await google.colab.output.renderOutput(dataTable, element);\n",
              "        const docLink = document.createElement('div');\n",
              "        docLink.innerHTML = docLinkHtml;\n",
              "        element.appendChild(docLink);\n",
              "      }\n",
              "    </script>\n",
              "  </div>\n",
              "\n",
              "\n",
              "<div id=\"df-b1efea59-61cd-40e1-94e2-a89b3f3ba590\">\n",
              "  <button class=\"colab-df-quickchart\" onclick=\"quickchart('df-b1efea59-61cd-40e1-94e2-a89b3f3ba590')\"\n",
              "            title=\"Suggest charts.\"\n",
              "            style=\"display:none;\">\n",
              "\n",
              "<svg xmlns=\"http://www.w3.org/2000/svg\" height=\"24px\"viewBox=\"0 0 24 24\"\n",
              "     width=\"24px\">\n",
              "    <g>\n",
              "        <path d=\"M19 3H5c-1.1 0-2 .9-2 2v14c0 1.1.9 2 2 2h14c1.1 0 2-.9 2-2V5c0-1.1-.9-2-2-2zM9 17H7v-7h2v7zm4 0h-2V7h2v10zm4 0h-2v-4h2v4z\"/>\n",
              "    </g>\n",
              "</svg>\n",
              "  </button>\n",
              "\n",
              "<style>\n",
              "  .colab-df-quickchart {\n",
              "      --bg-color: #E8F0FE;\n",
              "      --fill-color: #1967D2;\n",
              "      --hover-bg-color: #E2EBFA;\n",
              "      --hover-fill-color: #174EA6;\n",
              "      --disabled-fill-color: #AAA;\n",
              "      --disabled-bg-color: #DDD;\n",
              "  }\n",
              "\n",
              "  [theme=dark] .colab-df-quickchart {\n",
              "      --bg-color: #3B4455;\n",
              "      --fill-color: #D2E3FC;\n",
              "      --hover-bg-color: #434B5C;\n",
              "      --hover-fill-color: #FFFFFF;\n",
              "      --disabled-bg-color: #3B4455;\n",
              "      --disabled-fill-color: #666;\n",
              "  }\n",
              "\n",
              "  .colab-df-quickchart {\n",
              "    background-color: var(--bg-color);\n",
              "    border: none;\n",
              "    border-radius: 50%;\n",
              "    cursor: pointer;\n",
              "    display: none;\n",
              "    fill: var(--fill-color);\n",
              "    height: 32px;\n",
              "    padding: 0;\n",
              "    width: 32px;\n",
              "  }\n",
              "\n",
              "  .colab-df-quickchart:hover {\n",
              "    background-color: var(--hover-bg-color);\n",
              "    box-shadow: 0 1px 2px rgba(60, 64, 67, 0.3), 0 1px 3px 1px rgba(60, 64, 67, 0.15);\n",
              "    fill: var(--button-hover-fill-color);\n",
              "  }\n",
              "\n",
              "  .colab-df-quickchart-complete:disabled,\n",
              "  .colab-df-quickchart-complete:disabled:hover {\n",
              "    background-color: var(--disabled-bg-color);\n",
              "    fill: var(--disabled-fill-color);\n",
              "    box-shadow: none;\n",
              "  }\n",
              "\n",
              "  .colab-df-spinner {\n",
              "    border: 2px solid var(--fill-color);\n",
              "    border-color: transparent;\n",
              "    border-bottom-color: var(--fill-color);\n",
              "    animation:\n",
              "      spin 1s steps(1) infinite;\n",
              "  }\n",
              "\n",
              "  @keyframes spin {\n",
              "    0% {\n",
              "      border-color: transparent;\n",
              "      border-bottom-color: var(--fill-color);\n",
              "      border-left-color: var(--fill-color);\n",
              "    }\n",
              "    20% {\n",
              "      border-color: transparent;\n",
              "      border-left-color: var(--fill-color);\n",
              "      border-top-color: var(--fill-color);\n",
              "    }\n",
              "    30% {\n",
              "      border-color: transparent;\n",
              "      border-left-color: var(--fill-color);\n",
              "      border-top-color: var(--fill-color);\n",
              "      border-right-color: var(--fill-color);\n",
              "    }\n",
              "    40% {\n",
              "      border-color: transparent;\n",
              "      border-right-color: var(--fill-color);\n",
              "      border-top-color: var(--fill-color);\n",
              "    }\n",
              "    60% {\n",
              "      border-color: transparent;\n",
              "      border-right-color: var(--fill-color);\n",
              "    }\n",
              "    80% {\n",
              "      border-color: transparent;\n",
              "      border-right-color: var(--fill-color);\n",
              "      border-bottom-color: var(--fill-color);\n",
              "    }\n",
              "    90% {\n",
              "      border-color: transparent;\n",
              "      border-bottom-color: var(--fill-color);\n",
              "    }\n",
              "  }\n",
              "</style>\n",
              "\n",
              "  <script>\n",
              "    async function quickchart(key) {\n",
              "      const quickchartButtonEl =\n",
              "        document.querySelector('#' + key + ' button');\n",
              "      quickchartButtonEl.disabled = true;  // To prevent multiple clicks.\n",
              "      quickchartButtonEl.classList.add('colab-df-spinner');\n",
              "      try {\n",
              "        const charts = await google.colab.kernel.invokeFunction(\n",
              "            'suggestCharts', [key], {});\n",
              "      } catch (error) {\n",
              "        console.error('Error during call to suggestCharts:', error);\n",
              "      }\n",
              "      quickchartButtonEl.classList.remove('colab-df-spinner');\n",
              "      quickchartButtonEl.classList.add('colab-df-quickchart-complete');\n",
              "    }\n",
              "    (() => {\n",
              "      let quickchartButtonEl =\n",
              "        document.querySelector('#df-b1efea59-61cd-40e1-94e2-a89b3f3ba590 button');\n",
              "      quickchartButtonEl.style.display =\n",
              "        google.colab.kernel.accessAllowed ? 'block' : 'none';\n",
              "    })();\n",
              "  </script>\n",
              "</div>\n",
              "    </div>\n",
              "  </div>\n"
            ]
          },
          "metadata": {},
          "execution_count": 77
        }
      ]
    },
    {
      "cell_type": "code",
      "source": [
        "plt.hist(diabetes['Glucose'], bins=10)"
      ],
      "metadata": {
        "colab": {
          "base_uri": "https://localhost:8080/",
          "height": 499
        },
        "id": "j7Eg2mxdKYz8",
        "outputId": "3100854d-8cf5-4040-d137-9346cfbeeaff"
      },
      "execution_count": null,
      "outputs": [
        {
          "output_type": "execute_result",
          "data": {
            "text/plain": [
              "(array([  5.,   0.,   4.,  32., 156., 211., 163.,  95.,  56.,  46.]),\n",
              " array([  0. ,  19.9,  39.8,  59.7,  79.6,  99.5, 119.4, 139.3, 159.2,\n",
              "        179.1, 199. ]),\n",
              " <BarContainer object of 10 artists>)"
            ]
          },
          "metadata": {},
          "execution_count": 78
        },
        {
          "output_type": "display_data",
          "data": {
            "text/plain": [
              "<Figure size 640x480 with 1 Axes>"
            ],
            "image/png": "[encoded data removed]"
          },
          "metadata": {}
        }
      ]
    },
    {
      "cell_type": "code",
      "source": [
        "zero_features = ['Glucose', 'BloodPressure', 'SkinThickness', 'Insulin', 'BMI']"
      ],
      "metadata": {
        "id": "44J6Z63_LAmW"
      },
      "execution_count": null,
      "outputs": []
    },
    {
      "cell_type": "markdown",
      "source": [
        "Glucose 예 : 5개 0 이다. 5/768 * 100"
      ],
      "metadata": {
        "id": "QyEGlSRAMJAu"
      }
    },
    {
      "cell_type": "code",
      "source": [
        "total_count = diabetes['Glucose'].count()"
      ],
      "metadata": {
        "id": "rn16C2UyLni8"
      },
      "execution_count": null,
      "outputs": []
    },
    {
      "cell_type": "code",
      "source": [
        "total_count"
      ],
      "metadata": {
        "colab": {
          "base_uri": "https://localhost:8080/"
        },
        "id": "jR5YVhIoMu0n",
        "outputId": "4425bbad-ade7-497b-ef36-ac6906b51389"
      },
      "execution_count": null,
      "outputs": [
        {
          "output_type": "execute_result",
          "data": {
            "text/plain": [
              "768"
            ]
          },
          "metadata": {},
          "execution_count": 81
        }
      ]
    },
    {
      "cell_type": "code",
      "source": [
        "zero_features = ['Glucose', 'BloodPressure', 'SkinThickness','Insulin','BMI']\n",
        "def zero_check(zero_features):\n",
        "    for feature in zero_features:\n",
        "        zero_count = diabetes[diabetes[feature]==0][feature].count()\n",
        "        total_count = diabetes[feature].count()\n",
        "        zero_rate = np.round((zero_count/total_count)*100,2)\n",
        "        print(feature,' : ', zero_rate,'%')\n",
        "\n",
        "zero_check(zero_features)"
      ],
      "metadata": {
        "colab": {
          "base_uri": "https://localhost:8080/"
        },
        "id": "pt7LSHMwMwDi",
        "outputId": "10ac218c-137b-4a52-e229-ac948dc6c8a2"
      },
      "execution_count": null,
      "outputs": [
        {
          "output_type": "stream",
          "name": "stdout",
          "text": [
            "Glucose  :  0.65 %\n",
            "BloodPressure  :  4.56 %\n",
            "SkinThickness  :  29.56 %\n",
            "Insulin  :  48.7 %\n",
            "BMI  :  1.43 %\n"
          ]
        }
      ]
    },
    {
      "cell_type": "code",
      "source": [
        "diabetes[diabetes['Glucose']==0]['Glucose'].count()"
      ],
      "metadata": {
        "colab": {
          "base_uri": "https://localhost:8080/"
        },
        "id": "spw7Cq25OgUi",
        "outputId": "4da9fdfc-da20-48a8-bb58-90dd33cde201"
      },
      "execution_count": null,
      "outputs": [
        {
          "output_type": "execute_result",
          "data": {
            "text/plain": [
              "5"
            ]
          },
          "metadata": {},
          "execution_count": 88
        }
      ]
    },
    {
      "cell_type": "code",
      "source": [
        "mean_zero = diabetes[zero_features].mean()"
      ],
      "metadata": {
        "id": "98WMC5EAOvJA"
      },
      "execution_count": null,
      "outputs": []
    },
    {
      "cell_type": "code",
      "source": [
        "mean_zero"
      ],
      "metadata": {
        "colab": {
          "base_uri": "https://localhost:8080/"
        },
        "id": "jHZz1gKUPgmg",
        "outputId": "21fd3848-0497-4e86-9e98-6dae2d2c567a"
      },
      "execution_count": null,
      "outputs": [
        {
          "output_type": "execute_result",
          "data": {
            "text/plain": [
              "Glucose          120.894531\n",
              "BloodPressure     69.105469\n",
              "SkinThickness     20.536458\n",
              "Insulin           79.799479\n",
              "BMI               31.992578\n",
              "dtype: float64"
            ]
          },
          "metadata": {},
          "execution_count": 90
        }
      ]
    },
    {
      "cell_type": "code",
      "source": [
        "diabetes[zero_features] = diabetes[zero_features].replace(0, mean_zero)"
      ],
      "metadata": {
        "id": "ByxiISGwPiOl"
      },
      "execution_count": null,
      "outputs": []
    },
    {
      "cell_type": "code",
      "source": [
        "zero_check(zero_features)"
      ],
      "metadata": {
        "colab": {
          "base_uri": "https://localhost:8080/"
        },
        "id": "tTBsU92FPuP1",
        "outputId": "8719da75-a534-474e-eba9-da65f0dbe67c"
      },
      "execution_count": null,
      "outputs": [
        {
          "output_type": "stream",
          "name": "stdout",
          "text": [
            "Glucose  :  0.0 %\n",
            "BloodPressure  :  0.0 %\n",
            "SkinThickness  :  0.0 %\n",
            "Insulin  :  0.0 %\n",
            "BMI  :  0.0 %\n"
          ]
        }
      ]
    },
    {
      "cell_type": "code",
      "source": [
        "X = diabetes.iloc[:, :-1]\n",
        "y_label = diabetes.iloc[:, -1]"
      ],
      "metadata": {
        "id": "-ci6rUScPx_h"
      },
      "execution_count": null,
      "outputs": []
    },
    {
      "cell_type": "code",
      "source": [
        "X_train, X_test, y_train, y_test = train_test_split(X, y_label, test_size=0.2, random_state= 156, stratify=y_label)"
      ],
      "metadata": {
        "id": "GrPNra0VQWck"
      },
      "execution_count": null,
      "outputs": []
    },
    {
      "cell_type": "code",
      "source": [
        "lr_clf = LogisticRegression(max_iter=5000)\n",
        "lr_clf.fit(X_train, y_train)\n",
        "pred = lr_clf.predict(X_test)\n",
        "pred_proba = lr_clf.predict_proba(X_test)[:, 1]"
      ],
      "metadata": {
        "id": "J02MPrnLQ8z4"
      },
      "execution_count": null,
      "outputs": []
    },
    {
      "cell_type": "code",
      "source": [
        "get_clf_eval(y_test, pred, pred_proba)"
      ],
      "metadata": {
        "colab": {
          "base_uri": "https://localhost:8080/"
        },
        "id": "KFpI03oYRzFo",
        "outputId": "47072710-4c6c-418e-ebe1-e8c423a2d3a8"
      },
      "execution_count": null,
      "outputs": [
        {
          "output_type": "stream",
          "name": "stdout",
          "text": [
            "[[90 10]\n",
            " [21 33]] 0.799 0.767 0.611 0.68 0.8453703703703703\n"
          ]
        }
      ]
    },
    {
      "cell_type": "markdown",
      "source": [
        "StandardScaler, MinMaxScaler\n",
        "\n",
        "사용\n",
        "\n",
        "전체 X 데이터를 모두 변환 후에 train_test_split 으로 나눠서\n",
        "\n",
        "분류를 하기. get_clf_eval 함수를 사용하여 평가"
      ],
      "metadata": {
        "id": "Q6Z1WCfhV3dC"
      }
    },
    {
      "cell_type": "code",
      "source": [
        "def fit_predict_eval(X_train, y_train, X_test, y_test):\n",
        "    lr_clf = LogisticRegression(max_iter=5000)\n",
        "    lr_clf.fit(X_train, y_train)\n",
        "    pred = lr_clf.predict(X_test)\n",
        "    pred_proba = lr_clf.predict_proba(X_test)[:, 1]\n",
        "    get_clf_eval(y_test, pred, pred_proba)"
      ],
      "metadata": {
        "id": "B3k4rSUsR4S6"
      },
      "execution_count": null,
      "outputs": []
    },
    {
      "cell_type": "code",
      "source": [
        "from sklearn.preprocessing import StandardScaler, MinMaxScaler"
      ],
      "metadata": {
        "id": "Rd41vx_uZEwU"
      },
      "execution_count": null,
      "outputs": []
    },
    {
      "cell_type": "code",
      "source": [
        "mms = MinMaxScaler()\n",
        "X_mms = mms.fit_transform(X)\n",
        "ss = StandardScaler()\n",
        "X_ss = ss.fit_transform(X)"
      ],
      "metadata": {
        "id": "rhdElMHEcKkY"
      },
      "execution_count": null,
      "outputs": []
    },
    {
      "cell_type": "code",
      "source": [
        "X_train, X_test, y_train, y_test = train_test_split(X_mms, y_label, test_size=0.2, random_state= 156, stratify=y_label)"
      ],
      "metadata": {
        "id": "bboIb65Ucp3f"
      },
      "execution_count": null,
      "outputs": []
    },
    {
      "cell_type": "code",
      "source": [
        "fit_predict_eval(X_train, y_train, X_test, y_test)"
      ],
      "metadata": {
        "colab": {
          "base_uri": "https://localhost:8080/"
        },
        "id": "dbcY7lvEc5yq",
        "outputId": "959d0497-08ad-4282-f170-fcf29f773866"
      },
      "execution_count": null,
      "outputs": [
        {
          "output_type": "stream",
          "name": "stdout",
          "text": [
            "[[90 10]\n",
            " [21 33]] 0.799 0.767 0.611 0.68 0.8487037037037037\n"
          ]
        }
      ]
    },
    {
      "cell_type": "code",
      "source": [
        "X_train, X_test, y_train, y_test = train_test_split(X_ss, y_label, test_size=0.2, random_state= 156, stratify=y_label)"
      ],
      "metadata": {
        "id": "Ipfr-S2-dYDe"
      },
      "execution_count": null,
      "outputs": []
    },
    {
      "cell_type": "code",
      "source": [
        "fit_predict_eval(X_train, y_train, X_test, y_test)"
      ],
      "metadata": {
        "colab": {
          "base_uri": "https://localhost:8080/"
        },
        "id": "9XskZZObdhbN",
        "outputId": "545af6d2-78b7-4afa-aee4-346539e820bf"
      },
      "execution_count": null,
      "outputs": [
        {
          "output_type": "stream",
          "name": "stdout",
          "text": [
            "[[90 10]\n",
            " [21 33]] 0.799 0.767 0.611 0.68 0.8433333333333334\n"
          ]
        }
      ]
    },
    {
      "cell_type": "markdown",
      "metadata": {
        "id": "Odi-t7NDYiOq"
      },
      "source": [
        "# 결정 트리\n",
        "\n",
        "- 데이터에 있는 규칙을 학습을 통해 자동으로 찾아내 분류 규칙을 만들고, 트리 형태로 분류 된 구조를 만들어 내는 것입니다.\n",
        "\n",
        "- 규칙을 가장 쉽게 표현 하는 방법으로 if / else 를 사용하여 표현 하는 것 입니다.\n",
        "\n",
        "-  즉, if / else 기준을 데이터로 부터 자동으로 찾아내, 예측을 위한 규측을 만드는 알고리즘\n",
        "\n",
        "- 알고리즘 성능 : 규칙을 어떻게 만드냐가 결정\n"
      ]
    },
    {
      "cell_type": "markdown",
      "metadata": {
        "id": "_ysX9xjSaJ4Q"
      },
      "source": [
        "![dctree.webp](data:image/webp;base64,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)"
      ]
    },
    {
      "cell_type": "markdown",
      "metadata": {
        "id": "Mk-VLYbSaSdJ"
      },
      "source": [
        "- Decision Node : 규칙 조건\n",
        "\n",
        "- Leaf Node : 결정된 분류(클래스) 값\n",
        "\n",
        "- 서브 트리 : 새로운 규칙이 추가 되면 그 밑에 작은 나무 구조가 덧 붙여 진다."
      ]
    },
    {
      "cell_type": "markdown",
      "source": [
        "규칙 만드는 사례\n",
        "\n",
        "    노랑레고 : 모두 동그라미\n",
        "\n",
        "    파랑레고 : 동그라미, 세모, 네모"
      ],
      "metadata": {
        "id": "G87DJOY_fTzq"
      }
    },
    {
      "cell_type": "markdown",
      "source": [
        "지니계수, 엔트로피"
      ],
      "metadata": {
        "id": "C1FoAG1jfv-y"
      }
    },
    {
      "cell_type": "markdown",
      "metadata": {
        "id": "Sw7PAIKSynip"
      },
      "source": [
        "## 지니 계수\n",
        "<파이썬을 이용한 빅데이터 분석, 유성준 외, 21세기사>\n",
        "\n",
        "$$ G = 1 - \\sum_{j=1}^c {({n_j \\over n})^2}$$\n",
        "\n",
        "여기서 C는 범주수, n은 노드에 속하는 개체수, nj 는 개체중 노드의 범주에 속하는 개체 수\n",
        "\n",
        "예> 맑음, 습함, 구름의 인자로 테니스 게임이 열릴지 여부 판단하는 경우\n",
        "\n",
        "맑음은 경우가 총 5일 인데, 이중 열린 날이 3, 안 열린 날이 2 이면,\n",
        "\n",
        "$$ G = 1 - \\left\\{ \\, \\left( \\frac{3}{5} \\right)^2 + \\left( \\frac{2}{5} \\right)^2\\,\\right\\}  $$"
      ]
    },
    {
      "cell_type": "markdown",
      "metadata": {
        "id": "yU8hpNXM4G1v"
      },
      "source": [
        "## 엔트로피\n",
        "\n",
        "\n",
        "m개의 레코드가 속하는 박스에 대한 엔트로피는 아래와 같은 식으로 정의됩니다. (Pk=박스에 속하는 레코드 가운데 k 범주에 속하는 레코드의 비율)\n",
        "\n",
        "$$ E = -\\sum_{k=1}^m p_k log_2(p_k)$$\n",
        "\n",
        " 전체 16개(m=16) 가운데 빨간색 동그라미(범주=1)는 10개, 파란색(범주=2)은 6개일때,\n",
        "\n",
        "$$ E = - {10 \\over 16} {log_2 {10 \\over 16} } - {6 \\over 16} {log_2 {6 \\ \\over 16} } \\approx 0.95$$\n"
      ]
    },
    {
      "cell_type": "markdown",
      "metadata": {
        "id": "I62NERHQ5wvp"
      },
      "source": [
        "![heIgkif.png](data:image/png;base64,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)"
      ]
    },
    {
      "cell_type": "code",
      "source": [
        "dt_clf = DecisionTreeClassifier(random_state=156)"
      ],
      "metadata": {
        "id": "KdIwuTshdjTc"
      },
      "execution_count": null,
      "outputs": []
    },
    {
      "cell_type": "code",
      "source": [
        "from sklearn.datasets import load_iris"
      ],
      "metadata": {
        "id": "QGCmZS3WeM2w"
      },
      "execution_count": null,
      "outputs": []
    },
    {
      "cell_type": "code",
      "source": [
        "iris_data = load_iris()"
      ],
      "metadata": {
        "id": "S7rRm-qNk2oH"
      },
      "execution_count": null,
      "outputs": []
    },
    {
      "cell_type": "code",
      "source": [
        "X_train, X_test, y_train, y_test = train_test_split(iris_data.data, iris_data.target,\n",
        "                                                    test_size=0.2, random_state=156)"
      ],
      "metadata": {
        "id": "8BZIGCkVk7zp"
      },
      "execution_count": null,
      "outputs": []
    },
    {
      "cell_type": "code",
      "source": [
        "dt_clf.fit(X_train, y_train)"
      ],
      "metadata": {
        "colab": {
          "base_uri": "https://localhost:8080/",
          "height": 74
        },
        "id": "_ovSZc2JlKDk",
        "outputId": "2a79f175-2cdc-4360-d5f7-9fba840b4a27"
      },
      "execution_count": null,
      "outputs": [
        {
          "output_type": "execute_result",
          "data": {
            "text/plain": [
              "DecisionTreeClassifier(random_state=156)"
            ],
            "text/html": [
              "<style>#sk-container-id-1 {color: black;background-color: white;}#sk-container-id-1 pre{padding: 0;}#sk-container-id-1 div.sk-toggleable {background-color: white;}#sk-container-id-1 label.sk-toggleable__label {cursor: pointer;display: block;width: 100%;margin-bottom: 0;padding: 0.3em;box-sizing: border-box;text-align: center;}#sk-container-id-1 label.sk-toggleable__label-arrow:before {content: \"▸\";float: left;margin-right: 0.25em;color: #696969;}#sk-container-id-1 label.sk-toggleable__label-arrow:hover:before {color: black;}#sk-container-id-1 div.sk-estimator:hover label.sk-toggleable__label-arrow:before {color: black;}#sk-container-id-1 div.sk-toggleable__content {max-height: 0;max-width: 0;overflow: hidden;text-align: left;background-color: #f0f8ff;}#sk-container-id-1 div.sk-toggleable__content pre {margin: 0.2em;color: black;border-radius: 0.25em;background-color: #f0f8ff;}#sk-container-id-1 input.sk-toggleable__control:checked~div.sk-toggleable__content {max-height: 200px;max-width: 100%;overflow: auto;}#sk-container-id-1 input.sk-toggleable__control:checked~label.sk-toggleable__label-arrow:before {content: \"▾\";}#sk-container-id-1 div.sk-estimator input.sk-toggleable__control:checked~label.sk-toggleable__label {background-color: #d4ebff;}#sk-container-id-1 div.sk-label input.sk-toggleable__control:checked~label.sk-toggleable__label {background-color: #d4ebff;}#sk-container-id-1 input.sk-hidden--visually {border: 0;clip: rect(1px 1px 1px 1px);clip: rect(1px, 1px, 1px, 1px);height: 1px;margin: -1px;overflow: hidden;padding: 0;position: absolute;width: 1px;}#sk-container-id-1 div.sk-estimator {font-family: monospace;background-color: #f0f8ff;border: 1px dotted black;border-radius: 0.25em;box-sizing: border-box;margin-bottom: 0.5em;}#sk-container-id-1 div.sk-estimator:hover {background-color: #d4ebff;}#sk-container-id-1 div.sk-parallel-item::after {content: \"\";width: 100%;border-bottom: 1px solid gray;flex-grow: 1;}#sk-container-id-1 div.sk-label:hover label.sk-toggleable__label {background-color: #d4ebff;}#sk-container-id-1 div.sk-serial::before {content: \"\";position: absolute;border-left: 1px solid gray;box-sizing: border-box;top: 0;bottom: 0;left: 50%;z-index: 0;}#sk-container-id-1 div.sk-serial {display: flex;flex-direction: column;align-items: center;background-color: white;padding-right: 0.2em;padding-left: 0.2em;position: relative;}#sk-container-id-1 div.sk-item {position: relative;z-index: 1;}#sk-container-id-1 div.sk-parallel {display: flex;align-items: stretch;justify-content: center;background-color: white;position: relative;}#sk-container-id-1 div.sk-item::before, #sk-container-id-1 div.sk-parallel-item::before {content: \"\";position: absolute;border-left: 1px solid gray;box-sizing: border-box;top: 0;bottom: 0;left: 50%;z-index: -1;}#sk-container-id-1 div.sk-parallel-item {display: flex;flex-direction: column;z-index: 1;position: relative;background-color: white;}#sk-container-id-1 div.sk-parallel-item:first-child::after {align-self: flex-end;width: 50%;}#sk-container-id-1 div.sk-parallel-item:last-child::after {align-self: flex-start;width: 50%;}#sk-container-id-1 div.sk-parallel-item:only-child::after {width: 0;}#sk-container-id-1 div.sk-dashed-wrapped {border: 1px dashed gray;margin: 0 0.4em 0.5em 0.4em;box-sizing: border-box;padding-bottom: 0.4em;background-color: white;}#sk-container-id-1 div.sk-label label {font-family: monospace;font-weight: bold;display: inline-block;line-height: 1.2em;}#sk-container-id-1 div.sk-label-container {text-align: center;}#sk-container-id-1 div.sk-container {/* jupyter's `normalize.less` sets `[hidden] { display: none; }` but bootstrap.min.css set `[hidden] { display: none !important; }` so we also need the `!important` here to be able to override the default hidden behavior on the sphinx rendered scikit-learn.org. See: https://github.com/scikit-learn/scikit-learn/issues/21755 */display: inline-block !important;position: relative;}#sk-container-id-1 div.sk-text-repr-fallback {display: none;}</style><div id=\"sk-container-id-1\" class=\"sk-top-container\"><div class=\"sk-text-repr-fallback\"><pre>DecisionTreeClassifier(random_state=156)</pre><b>In a Jupyter environment, please rerun this cell to show the HTML representation or trust the notebook. <br />On GitHub, the HTML representation is unable to render, please try loading this page with nbviewer.org.</b></div><div class=\"sk-container\" hidden><div class=\"sk-item\"><div class=\"sk-estimator sk-toggleable\"><input class=\"sk-toggleable__control sk-hidden--visually\" id=\"sk-estimator-id-1\" type=\"checkbox\" checked><label for=\"sk-estimator-id-1\" class=\"sk-toggleable__label sk-toggleable__label-arrow\">DecisionTreeClassifier</label><div class=\"sk-toggleable__content\"><pre>DecisionTreeClassifier(random_state=156)</pre></div></div></div></div></div>"
            ]
          },
          "metadata": {},
          "execution_count": 114
        }
      ]
    },
    {
      "cell_type": "code",
      "source": [
        "!pip install graphviz"
      ],
      "metadata": {
        "colab": {
          "base_uri": "https://localhost:8080/"
        },
        "id": "aiW2wrQ1lNwk",
        "outputId": "9b174d84-e5b8-41f2-d346-f40e03d6fa4b"
      },
      "execution_count": null,
      "outputs": [
        {
          "output_type": "stream",
          "name": "stdout",
          "text": [
            "Requirement already satisfied: graphviz in /usr/local/lib/python3.10/dist-packages (0.20.1)\n"
          ]
        }
      ]
    },
    {
      "cell_type": "code",
      "source": [
        "from sklearn.tree import export_graphviz\n",
        "import graphviz"
      ],
      "metadata": {
        "id": "cik8uXl9lzUh"
      },
      "execution_count": null,
      "outputs": []
    },
    {
      "cell_type": "code",
      "source": [
        "export_graphviz(dt_clf, out_file='tree.dot', class_names=iris_data.target_names,\n",
        "                feature_names=iris_data.feature_names, impurity=True, filled=True)"
      ],
      "metadata": {
        "id": "snZFGhhtmFCQ"
      },
      "execution_count": null,
      "outputs": []
    },
    {
      "cell_type": "code",
      "source": [
        "with open('tree.dot') as f:\n",
        "    dot_graph =f.read()\n",
        "graphviz.Source(dot_graph)"
      ],
      "metadata": {
        "colab": {
          "base_uri": "https://localhost:8080/",
          "height": 1000
        },
        "id": "Vh0gvoTimzeU",
        "outputId": "54886a11-3910-476e-b93a-e667193411d9"
      },
      "execution_count": null,
      "outputs": [
        {
          "output_type": "execute_result",
          "data": {
            "image/svg+xml": "<?xml version=\"1.0\" encoding=\"UTF-8\" standalone=\"no\"?>\n<!DOCTYPE svg PUBLIC \"-//W3C//DTD SVG 1.1//EN\"\n \"http://www.w3.org/Graphics/SVG/1.1/DTD/svg11.dtd\">\n<!-- Generated by graphviz version 2.43.0 (0)\n -->\n<!-- Title: Tree Pages: 1 -->\n<svg width=\"780pt\" height=\"790pt\"\n viewBox=\"0.00 0.00 780.00 790.00\" xmlns=\"http://www.w3.org/2000/svg\" xmlns:xlink=\"http://www.w3.org/1999/xlink\">\n<g id=\"graph0\" class=\"graph\" transform=\"scale(1 1) rotate(0) translate(4 786)\">\n<title>Tree</title>\n<polygon fill=\"white\" stroke=\"transparent\" points=\"-4,4 -4,-786 776,-786 776,4 -4,4\"/>\n<!-- 0 -->\n<g id=\"node1\" class=\"node\">\n<title>0</title>\n<polygon fill=\"#ffffff\" stroke=\"black\" points=\"277,-782 116,-782 116,-699 277,-699 277,-782\"/>\n<text text-anchor=\"middle\" x=\"196.5\" y=\"-766.8\" font-family=\"Helvetica,sans-Serif\" font-size=\"14.00\">petal length (cm) &lt;= 2.6</text>\n<text text-anchor=\"middle\" x=\"196.5\" y=\"-751.8\" font-family=\"Helvetica,sans-Serif\" font-size=\"14.00\">gini = 0.666</text>\n<text text-anchor=\"middle\" x=\"196.5\" y=\"-736.8\" font-family=\"Helvetica,sans-Serif\" font-size=\"14.00\">samples = 120</text>\n<text text-anchor=\"middle\" x=\"196.5\" y=\"-721.8\" font-family=\"Helvetica,sans-Serif\" font-size=\"14.00\">value = [41, 41, 38]</text>\n<text text-anchor=\"middle\" x=\"196.5\" y=\"-706.8\" font-family=\"Helvetica,sans-Serif\" font-size=\"14.00\">class = setosa</text>\n</g>\n<!-- 1 -->\n<g id=\"node2\" class=\"node\">\n<title>1</title>\n<polygon fill=\"#e58139\" stroke=\"black\" points=\"175,-655.5 58,-655.5 58,-587.5 175,-587.5 175,-655.5\"/>\n<text text-anchor=\"middle\" x=\"116.5\" y=\"-640.3\" font-family=\"Helvetica,sans-Serif\" font-size=\"14.00\">gini = 0.0</text>\n<text text-anchor=\"middle\" x=\"116.5\" y=\"-625.3\" font-family=\"Helvetica,sans-Serif\" font-size=\"14.00\">samples = 41</text>\n<text text-anchor=\"middle\" x=\"116.5\" y=\"-610.3\" font-family=\"Helvetica,sans-Serif\" font-size=\"14.00\">value = [41, 0, 0]</text>\n<text text-anchor=\"middle\" x=\"116.5\" y=\"-595.3\" font-family=\"Helvetica,sans-Serif\" font-size=\"14.00\">class = setosa</text>\n</g>\n<!-- 0&#45;&gt;1 -->\n<g id=\"edge1\" class=\"edge\">\n<title>0&#45;&gt;1</title>\n<path fill=\"none\" stroke=\"black\" d=\"M168.74,-698.91C161.05,-687.65 152.68,-675.42 144.95,-664.11\"/>\n<polygon fill=\"black\" stroke=\"black\" points=\"147.71,-661.95 139.18,-655.67 141.93,-665.9 147.71,-661.95\"/>\n<text text-anchor=\"middle\" x=\"134.56\" y=\"-676.54\" font-family=\"Helvetica,sans-Serif\" font-size=\"14.00\">True</text>\n</g>\n<!-- 2 -->\n<g id=\"node3\" class=\"node\">\n<title>2</title>\n<polygon fill=\"#f1fdf6\" stroke=\"black\" points=\"361.5,-663 193.5,-663 193.5,-580 361.5,-580 361.5,-663\"/>\n<text text-anchor=\"middle\" x=\"277.5\" y=\"-647.8\" font-family=\"Helvetica,sans-Serif\" font-size=\"14.00\">petal length (cm) &lt;= 4.75</text>\n<text text-anchor=\"middle\" x=\"277.5\" y=\"-632.8\" font-family=\"Helvetica,sans-Serif\" font-size=\"14.00\">gini = 0.499</text>\n<text text-anchor=\"middle\" x=\"277.5\" y=\"-617.8\" font-family=\"Helvetica,sans-Serif\" font-size=\"14.00\">samples = 79</text>\n<text text-anchor=\"middle\" x=\"277.5\" y=\"-602.8\" font-family=\"Helvetica,sans-Serif\" font-size=\"14.00\">value = [0, 41, 38]</text>\n<text text-anchor=\"middle\" x=\"277.5\" y=\"-587.8\" font-family=\"Helvetica,sans-Serif\" font-size=\"14.00\">class = versicolor</text>\n</g>\n<!-- 0&#45;&gt;2 -->\n<g id=\"edge2\" class=\"edge\">\n<title>0&#45;&gt;2</title>\n<path fill=\"none\" stroke=\"black\" d=\"M224.6,-698.91C230.76,-690.01 237.34,-680.51 243.69,-671.33\"/>\n<polygon fill=\"black\" stroke=\"black\" points=\"246.63,-673.24 249.45,-663.02 240.88,-669.25 246.63,-673.24\"/>\n<text text-anchor=\"middle\" x=\"253.92\" y=\"-683.92\" font-family=\"Helvetica,sans-Serif\" font-size=\"14.00\">False</text>\n</g>\n<!-- 3 -->\n<g id=\"node4\" class=\"node\">\n<title>3</title>\n<polygon fill=\"#3ee684\" stroke=\"black\" points=\"271,-544 100,-544 100,-461 271,-461 271,-544\"/>\n<text text-anchor=\"middle\" x=\"185.5\" y=\"-528.8\" font-family=\"Helvetica,sans-Serif\" font-size=\"14.00\">sepal length (cm) &lt;= 4.95</text>\n<text text-anchor=\"middle\" x=\"185.5\" y=\"-513.8\" font-family=\"Helvetica,sans-Serif\" font-size=\"14.00\">gini = 0.053</text>\n<text text-anchor=\"middle\" x=\"185.5\" y=\"-498.8\" font-family=\"Helvetica,sans-Serif\" font-size=\"14.00\">samples = 37</text>\n<text text-anchor=\"middle\" x=\"185.5\" y=\"-483.8\" font-family=\"Helvetica,sans-Serif\" font-size=\"14.00\">value = [0, 36, 1]</text>\n<text text-anchor=\"middle\" x=\"185.5\" y=\"-468.8\" font-family=\"Helvetica,sans-Serif\" font-size=\"14.00\">class = versicolor</text>\n</g>\n<!-- 2&#45;&gt;3 -->\n<g id=\"edge3\" class=\"edge\">\n<title>2&#45;&gt;3</title>\n<path fill=\"none\" stroke=\"black\" d=\"M245.58,-579.91C238.52,-570.92 230.96,-561.32 223.68,-552.05\"/>\n<polygon fill=\"black\" stroke=\"black\" points=\"226.3,-549.72 217.36,-544.02 220.79,-554.05 226.3,-549.72\"/>\n</g>\n<!-- 6 -->\n<g id=\"node7\" class=\"node\">\n<title>6</title>\n<polygon fill=\"#9254e9\" stroke=\"black\" points=\"452,-544 289,-544 289,-461 452,-461 452,-544\"/>\n<text text-anchor=\"middle\" x=\"370.5\" y=\"-528.8\" font-family=\"Helvetica,sans-Serif\" font-size=\"14.00\">petal width (cm) &lt;= 1.75</text>\n<text text-anchor=\"middle\" x=\"370.5\" y=\"-513.8\" font-family=\"Helvetica,sans-Serif\" font-size=\"14.00\">gini = 0.21</text>\n<text text-anchor=\"middle\" x=\"370.5\" y=\"-498.8\" font-family=\"Helvetica,sans-Serif\" font-size=\"14.00\">samples = 42</text>\n<text text-anchor=\"middle\" x=\"370.5\" y=\"-483.8\" font-family=\"Helvetica,sans-Serif\" font-size=\"14.00\">value = [0, 5, 37]</text>\n<text text-anchor=\"middle\" x=\"370.5\" y=\"-468.8\" font-family=\"Helvetica,sans-Serif\" font-size=\"14.00\">class = virginica</text>\n</g>\n<!-- 2&#45;&gt;6 -->\n<g id=\"edge6\" class=\"edge\">\n<title>2&#45;&gt;6</title>\n<path fill=\"none\" stroke=\"black\" d=\"M309.77,-579.91C316.91,-570.92 324.54,-561.32 331.91,-552.05\"/>\n<polygon fill=\"black\" stroke=\"black\" points=\"334.81,-554.03 338.29,-544.02 329.33,-549.67 334.81,-554.03\"/>\n</g>\n<!-- 4 -->\n<g id=\"node5\" class=\"node\">\n<title>4</title>\n<polygon fill=\"#8139e5\" stroke=\"black\" points=\"113,-417.5 0,-417.5 0,-349.5 113,-349.5 113,-417.5\"/>\n<text text-anchor=\"middle\" x=\"56.5\" y=\"-402.3\" font-family=\"Helvetica,sans-Serif\" font-size=\"14.00\">gini = 0.0</text>\n<text text-anchor=\"middle\" x=\"56.5\" y=\"-387.3\" font-family=\"Helvetica,sans-Serif\" font-size=\"14.00\">samples = 1</text>\n<text text-anchor=\"middle\" x=\"56.5\" y=\"-372.3\" font-family=\"Helvetica,sans-Serif\" font-size=\"14.00\">value = [0, 0, 1]</text>\n<text text-anchor=\"middle\" x=\"56.5\" y=\"-357.3\" font-family=\"Helvetica,sans-Serif\" font-size=\"14.00\">class = virginica</text>\n</g>\n<!-- 3&#45;&gt;4 -->\n<g id=\"edge4\" class=\"edge\">\n<title>3&#45;&gt;4</title>\n<path fill=\"none\" stroke=\"black\" d=\"M140.74,-460.91C127.73,-449.1 113.52,-436.22 100.55,-424.45\"/>\n<polygon fill=\"black\" stroke=\"black\" points=\"102.83,-421.79 93.07,-417.67 98.12,-426.98 102.83,-421.79\"/>\n</g>\n<!-- 5 -->\n<g id=\"node6\" class=\"node\">\n<title>5</title>\n<polygon fill=\"#39e581\" stroke=\"black\" points=\"252,-417.5 131,-417.5 131,-349.5 252,-349.5 252,-417.5\"/>\n<text text-anchor=\"middle\" x=\"191.5\" y=\"-402.3\" font-family=\"Helvetica,sans-Serif\" font-size=\"14.00\">gini = 0.0</text>\n<text text-anchor=\"middle\" x=\"191.5\" y=\"-387.3\" font-family=\"Helvetica,sans-Serif\" font-size=\"14.00\">samples = 36</text>\n<text text-anchor=\"middle\" x=\"191.5\" y=\"-372.3\" font-family=\"Helvetica,sans-Serif\" font-size=\"14.00\">value = [0, 36, 0]</text>\n<text text-anchor=\"middle\" x=\"191.5\" y=\"-357.3\" font-family=\"Helvetica,sans-Serif\" font-size=\"14.00\">class = versicolor</text>\n</g>\n<!-- 3&#45;&gt;5 -->\n<g id=\"edge5\" class=\"edge\">\n<title>3&#45;&gt;5</title>\n<path fill=\"none\" stroke=\"black\" d=\"M187.58,-460.91C188.13,-450.2 188.72,-438.62 189.28,-427.78\"/>\n<polygon fill=\"black\" stroke=\"black\" points=\"192.78,-427.83 189.8,-417.67 185.79,-427.47 192.78,-427.83\"/>\n</g>\n<!-- 7 -->\n<g id=\"node8\" class=\"node\">\n<title>7</title>\n<polygon fill=\"#ffffff\" stroke=\"black\" points=\"449.5,-425 281.5,-425 281.5,-342 449.5,-342 449.5,-425\"/>\n<text text-anchor=\"middle\" x=\"365.5\" y=\"-409.8\" font-family=\"Helvetica,sans-Serif\" font-size=\"14.00\">petal length (cm) &lt;= 4.95</text>\n<text text-anchor=\"middle\" x=\"365.5\" y=\"-394.8\" font-family=\"Helvetica,sans-Serif\" font-size=\"14.00\">gini = 0.5</text>\n<text text-anchor=\"middle\" x=\"365.5\" y=\"-379.8\" font-family=\"Helvetica,sans-Serif\" font-size=\"14.00\">samples = 8</text>\n<text text-anchor=\"middle\" x=\"365.5\" y=\"-364.8\" font-family=\"Helvetica,sans-Serif\" font-size=\"14.00\">value = [0, 4, 4]</text>\n<text text-anchor=\"middle\" x=\"365.5\" y=\"-349.8\" font-family=\"Helvetica,sans-Serif\" font-size=\"14.00\">class = versicolor</text>\n</g>\n<!-- 6&#45;&gt;7 -->\n<g id=\"edge7\" class=\"edge\">\n<title>6&#45;&gt;7</title>\n<path fill=\"none\" stroke=\"black\" d=\"M368.77,-460.91C368.41,-452.56 368.03,-443.67 367.66,-435.02\"/>\n<polygon fill=\"black\" stroke=\"black\" points=\"371.16,-434.86 367.23,-425.02 364.16,-435.16 371.16,-434.86\"/>\n</g>\n<!-- 14 -->\n<g id=\"node15\" class=\"node\">\n<title>14</title>\n<polygon fill=\"#853fe6\" stroke=\"black\" points=\"635.5,-425 467.5,-425 467.5,-342 635.5,-342 635.5,-425\"/>\n<text text-anchor=\"middle\" x=\"551.5\" y=\"-409.8\" font-family=\"Helvetica,sans-Serif\" font-size=\"14.00\">petal length (cm) &lt;= 4.85</text>\n<text text-anchor=\"middle\" x=\"551.5\" y=\"-394.8\" font-family=\"Helvetica,sans-Serif\" font-size=\"14.00\">gini = 0.057</text>\n<text text-anchor=\"middle\" x=\"551.5\" y=\"-379.8\" font-family=\"Helvetica,sans-Serif\" font-size=\"14.00\">samples = 34</text>\n<text text-anchor=\"middle\" x=\"551.5\" y=\"-364.8\" font-family=\"Helvetica,sans-Serif\" font-size=\"14.00\">value = [0, 1, 33]</text>\n<text text-anchor=\"middle\" x=\"551.5\" y=\"-349.8\" font-family=\"Helvetica,sans-Serif\" font-size=\"14.00\">class = virginica</text>\n</g>\n<!-- 6&#45;&gt;14 -->\n<g id=\"edge14\" class=\"edge\">\n<title>6&#45;&gt;14</title>\n<path fill=\"none\" stroke=\"black\" d=\"M433.3,-460.91C448.46,-451.11 464.77,-440.56 480.29,-430.53\"/>\n<polygon fill=\"black\" stroke=\"black\" points=\"482.32,-433.39 488.81,-425.02 478.52,-427.51 482.32,-433.39\"/>\n</g>\n<!-- 8 -->\n<g id=\"node9\" class=\"node\">\n<title>8</title>\n<polygon fill=\"#39e581\" stroke=\"black\" points=\"266,-298.5 145,-298.5 145,-230.5 266,-230.5 266,-298.5\"/>\n<text text-anchor=\"middle\" x=\"205.5\" y=\"-283.3\" font-family=\"Helvetica,sans-Serif\" font-size=\"14.00\">gini = 0.0</text>\n<text text-anchor=\"middle\" x=\"205.5\" y=\"-268.3\" font-family=\"Helvetica,sans-Serif\" font-size=\"14.00\">samples = 2</text>\n<text text-anchor=\"middle\" x=\"205.5\" y=\"-253.3\" font-family=\"Helvetica,sans-Serif\" font-size=\"14.00\">value = [0, 2, 0]</text>\n<text text-anchor=\"middle\" x=\"205.5\" y=\"-238.3\" font-family=\"Helvetica,sans-Serif\" font-size=\"14.00\">class = versicolor</text>\n</g>\n<!-- 7&#45;&gt;8 -->\n<g id=\"edge8\" class=\"edge\">\n<title>7&#45;&gt;8</title>\n<path fill=\"none\" stroke=\"black\" d=\"M309.99,-341.91C293.54,-329.88 275.56,-316.73 259.23,-304.79\"/>\n<polygon fill=\"black\" stroke=\"black\" points=\"260.99,-301.74 250.86,-298.67 256.86,-307.39 260.99,-301.74\"/>\n</g>\n<!-- 9 -->\n<g id=\"node10\" class=\"node\">\n<title>9</title>\n<polygon fill=\"#c09cf2\" stroke=\"black\" points=\"447,-306 284,-306 284,-223 447,-223 447,-306\"/>\n<text text-anchor=\"middle\" x=\"365.5\" y=\"-290.8\" font-family=\"Helvetica,sans-Serif\" font-size=\"14.00\">petal width (cm) &lt;= 1.55</text>\n<text text-anchor=\"middle\" x=\"365.5\" y=\"-275.8\" font-family=\"Helvetica,sans-Serif\" font-size=\"14.00\">gini = 0.444</text>\n<text text-anchor=\"middle\" x=\"365.5\" y=\"-260.8\" font-family=\"Helvetica,sans-Serif\" font-size=\"14.00\">samples = 6</text>\n<text text-anchor=\"middle\" x=\"365.5\" y=\"-245.8\" font-family=\"Helvetica,sans-Serif\" font-size=\"14.00\">value = [0, 2, 4]</text>\n<text text-anchor=\"middle\" x=\"365.5\" y=\"-230.8\" font-family=\"Helvetica,sans-Serif\" font-size=\"14.00\">class = virginica</text>\n</g>\n<!-- 7&#45;&gt;9 -->\n<g id=\"edge9\" class=\"edge\">\n<title>7&#45;&gt;9</title>\n<path fill=\"none\" stroke=\"black\" d=\"M365.5,-341.91C365.5,-333.65 365.5,-324.86 365.5,-316.3\"/>\n<polygon fill=\"black\" stroke=\"black\" points=\"369,-316.02 365.5,-306.02 362,-316.02 369,-316.02\"/>\n</g>\n<!-- 10 -->\n<g id=\"node11\" class=\"node\">\n<title>10</title>\n<polygon fill=\"#8139e5\" stroke=\"black\" points=\"267,-179.5 154,-179.5 154,-111.5 267,-111.5 267,-179.5\"/>\n<text text-anchor=\"middle\" x=\"210.5\" y=\"-164.3\" font-family=\"Helvetica,sans-Serif\" font-size=\"14.00\">gini = 0.0</text>\n<text text-anchor=\"middle\" x=\"210.5\" y=\"-149.3\" font-family=\"Helvetica,sans-Serif\" font-size=\"14.00\">samples = 3</text>\n<text text-anchor=\"middle\" x=\"210.5\" y=\"-134.3\" font-family=\"Helvetica,sans-Serif\" font-size=\"14.00\">value = [0, 0, 3]</text>\n<text text-anchor=\"middle\" x=\"210.5\" y=\"-119.3\" font-family=\"Helvetica,sans-Serif\" font-size=\"14.00\">class = virginica</text>\n</g>\n<!-- 9&#45;&gt;10 -->\n<g id=\"edge10\" class=\"edge\">\n<title>9&#45;&gt;10</title>\n<path fill=\"none\" stroke=\"black\" d=\"M311.72,-222.91C295.79,-210.88 278.37,-197.73 262.55,-185.79\"/>\n<polygon fill=\"black\" stroke=\"black\" points=\"264.53,-182.9 254.44,-179.67 260.31,-188.49 264.53,-182.9\"/>\n</g>\n<!-- 11 -->\n<g id=\"node12\" class=\"node\">\n<title>11</title>\n<polygon fill=\"#9cf2c0\" stroke=\"black\" points=\"456,-187 285,-187 285,-104 456,-104 456,-187\"/>\n<text text-anchor=\"middle\" x=\"370.5\" y=\"-171.8\" font-family=\"Helvetica,sans-Serif\" font-size=\"14.00\">sepal length (cm) &lt;= 6.95</text>\n<text text-anchor=\"middle\" x=\"370.5\" y=\"-156.8\" font-family=\"Helvetica,sans-Serif\" font-size=\"14.00\">gini = 0.444</text>\n<text text-anchor=\"middle\" x=\"370.5\" y=\"-141.8\" font-family=\"Helvetica,sans-Serif\" font-size=\"14.00\">samples = 3</text>\n<text text-anchor=\"middle\" x=\"370.5\" y=\"-126.8\" font-family=\"Helvetica,sans-Serif\" font-size=\"14.00\">value = [0, 2, 1]</text>\n<text text-anchor=\"middle\" x=\"370.5\" y=\"-111.8\" font-family=\"Helvetica,sans-Serif\" font-size=\"14.00\">class = versicolor</text>\n</g>\n<!-- 9&#45;&gt;11 -->\n<g id=\"edge11\" class=\"edge\">\n<title>9&#45;&gt;11</title>\n<path fill=\"none\" stroke=\"black\" d=\"M367.23,-222.91C367.59,-214.56 367.97,-205.67 368.34,-197.02\"/>\n<polygon fill=\"black\" stroke=\"black\" points=\"371.84,-197.16 368.77,-187.02 364.84,-196.86 371.84,-197.16\"/>\n</g>\n<!-- 12 -->\n<g id=\"node13\" class=\"node\">\n<title>12</title>\n<polygon fill=\"#39e581\" stroke=\"black\" points=\"364,-68 243,-68 243,0 364,0 364,-68\"/>\n<text text-anchor=\"middle\" x=\"303.5\" y=\"-52.8\" font-family=\"Helvetica,sans-Serif\" font-size=\"14.00\">gini = 0.0</text>\n<text text-anchor=\"middle\" x=\"303.5\" y=\"-37.8\" font-family=\"Helvetica,sans-Serif\" font-size=\"14.00\">samples = 2</text>\n<text text-anchor=\"middle\" x=\"303.5\" y=\"-22.8\" font-family=\"Helvetica,sans-Serif\" font-size=\"14.00\">value = [0, 2, 0]</text>\n<text text-anchor=\"middle\" x=\"303.5\" y=\"-7.8\" font-family=\"Helvetica,sans-Serif\" font-size=\"14.00\">class = versicolor</text>\n</g>\n<!-- 11&#45;&gt;12 -->\n<g id=\"edge12\" class=\"edge\">\n<title>11&#45;&gt;12</title>\n<path fill=\"none\" stroke=\"black\" d=\"M345.55,-103.73C340.19,-94.97 334.52,-85.7 329.14,-76.91\"/>\n<polygon fill=\"black\" stroke=\"black\" points=\"332.08,-75 323.88,-68.3 326.11,-78.66 332.08,-75\"/>\n</g>\n<!-- 13 -->\n<g id=\"node14\" class=\"node\">\n<title>13</title>\n<polygon fill=\"#8139e5\" stroke=\"black\" points=\"495,-68 382,-68 382,0 495,0 495,-68\"/>\n<text text-anchor=\"middle\" x=\"438.5\" y=\"-52.8\" font-family=\"Helvetica,sans-Serif\" font-size=\"14.00\">gini = 0.0</text>\n<text text-anchor=\"middle\" x=\"438.5\" y=\"-37.8\" font-family=\"Helvetica,sans-Serif\" font-size=\"14.00\">samples = 1</text>\n<text text-anchor=\"middle\" x=\"438.5\" y=\"-22.8\" font-family=\"Helvetica,sans-Serif\" font-size=\"14.00\">value = [0, 0, 1]</text>\n<text text-anchor=\"middle\" x=\"438.5\" y=\"-7.8\" font-family=\"Helvetica,sans-Serif\" font-size=\"14.00\">class = virginica</text>\n</g>\n<!-- 11&#45;&gt;13 -->\n<g id=\"edge13\" class=\"edge\">\n<title>11&#45;&gt;13</title>\n<path fill=\"none\" stroke=\"black\" d=\"M395.82,-103.73C401.26,-94.97 407.01,-85.7 412.48,-76.91\"/>\n<polygon fill=\"black\" stroke=\"black\" points=\"415.52,-78.64 417.82,-68.3 409.57,-74.95 415.52,-78.64\"/>\n</g>\n<!-- 15 -->\n<g id=\"node16\" class=\"node\">\n<title>15</title>\n<polygon fill=\"#c09cf2\" stroke=\"black\" points=\"637,-306 466,-306 466,-223 637,-223 637,-306\"/>\n<text text-anchor=\"middle\" x=\"551.5\" y=\"-290.8\" font-family=\"Helvetica,sans-Serif\" font-size=\"14.00\">sepal length (cm) &lt;= 5.95</text>\n<text text-anchor=\"middle\" x=\"551.5\" y=\"-275.8\" font-family=\"Helvetica,sans-Serif\" font-size=\"14.00\">gini = 0.444</text>\n<text text-anchor=\"middle\" x=\"551.5\" y=\"-260.8\" font-family=\"Helvetica,sans-Serif\" font-size=\"14.00\">samples = 3</text>\n<text text-anchor=\"middle\" x=\"551.5\" y=\"-245.8\" font-family=\"Helvetica,sans-Serif\" font-size=\"14.00\">value = [0, 1, 2]</text>\n<text text-anchor=\"middle\" x=\"551.5\" y=\"-230.8\" font-family=\"Helvetica,sans-Serif\" font-size=\"14.00\">class = virginica</text>\n</g>\n<!-- 14&#45;&gt;15 -->\n<g id=\"edge15\" class=\"edge\">\n<title>14&#45;&gt;15</title>\n<path fill=\"none\" stroke=\"black\" d=\"M551.5,-341.91C551.5,-333.65 551.5,-324.86 551.5,-316.3\"/>\n<polygon fill=\"black\" stroke=\"black\" points=\"555,-316.02 551.5,-306.02 548,-316.02 555,-316.02\"/>\n</g>\n<!-- 18 -->\n<g id=\"node19\" class=\"node\">\n<title>18</title>\n<polygon fill=\"#8139e5\" stroke=\"black\" points=\"772,-298.5 655,-298.5 655,-230.5 772,-230.5 772,-298.5\"/>\n<text text-anchor=\"middle\" x=\"713.5\" y=\"-283.3\" font-family=\"Helvetica,sans-Serif\" font-size=\"14.00\">gini = 0.0</text>\n<text text-anchor=\"middle\" x=\"713.5\" y=\"-268.3\" font-family=\"Helvetica,sans-Serif\" font-size=\"14.00\">samples = 31</text>\n<text text-anchor=\"middle\" x=\"713.5\" y=\"-253.3\" font-family=\"Helvetica,sans-Serif\" font-size=\"14.00\">value = [0, 0, 31]</text>\n<text text-anchor=\"middle\" x=\"713.5\" y=\"-238.3\" font-family=\"Helvetica,sans-Serif\" font-size=\"14.00\">class = virginica</text>\n</g>\n<!-- 14&#45;&gt;18 -->\n<g id=\"edge18\" class=\"edge\">\n<title>14&#45;&gt;18</title>\n<path fill=\"none\" stroke=\"black\" d=\"M607.71,-341.91C624.36,-329.88 642.56,-316.73 659.1,-304.79\"/>\n<polygon fill=\"black\" stroke=\"black\" points=\"661.52,-307.36 667.58,-298.67 657.42,-301.68 661.52,-307.36\"/>\n</g>\n<!-- 16 -->\n<g id=\"node17\" class=\"node\">\n<title>16</title>\n<polygon fill=\"#39e581\" stroke=\"black\" points=\"606,-179.5 485,-179.5 485,-111.5 606,-111.5 606,-179.5\"/>\n<text text-anchor=\"middle\" x=\"545.5\" y=\"-164.3\" font-family=\"Helvetica,sans-Serif\" font-size=\"14.00\">gini = 0.0</text>\n<text text-anchor=\"middle\" x=\"545.5\" y=\"-149.3\" font-family=\"Helvetica,sans-Serif\" font-size=\"14.00\">samples = 1</text>\n<text text-anchor=\"middle\" x=\"545.5\" y=\"-134.3\" font-family=\"Helvetica,sans-Serif\" font-size=\"14.00\">value = [0, 1, 0]</text>\n<text text-anchor=\"middle\" x=\"545.5\" y=\"-119.3\" font-family=\"Helvetica,sans-Serif\" font-size=\"14.00\">class = versicolor</text>\n</g>\n<!-- 15&#45;&gt;16 -->\n<g id=\"edge16\" class=\"edge\">\n<title>15&#45;&gt;16</title>\n<path fill=\"none\" stroke=\"black\" d=\"M549.42,-222.91C548.87,-212.2 548.28,-200.62 547.72,-189.78\"/>\n<polygon fill=\"black\" stroke=\"black\" points=\"551.21,-189.47 547.2,-179.67 544.22,-189.83 551.21,-189.47\"/>\n</g>\n<!-- 17 -->\n<g id=\"node18\" class=\"node\">\n<title>17</title>\n<polygon fill=\"#8139e5\" stroke=\"black\" points=\"737,-179.5 624,-179.5 624,-111.5 737,-111.5 737,-179.5\"/>\n<text text-anchor=\"middle\" x=\"680.5\" y=\"-164.3\" font-family=\"Helvetica,sans-Serif\" font-size=\"14.00\">gini = 0.0</text>\n<text text-anchor=\"middle\" x=\"680.5\" y=\"-149.3\" font-family=\"Helvetica,sans-Serif\" font-size=\"14.00\">samples = 2</text>\n<text text-anchor=\"middle\" x=\"680.5\" y=\"-134.3\" font-family=\"Helvetica,sans-Serif\" font-size=\"14.00\">value = [0, 0, 2]</text>\n<text text-anchor=\"middle\" x=\"680.5\" y=\"-119.3\" font-family=\"Helvetica,sans-Serif\" font-size=\"14.00\">class = virginica</text>\n</g>\n<!-- 15&#45;&gt;17 -->\n<g id=\"edge17\" class=\"edge\">\n<title>15&#45;&gt;17</title>\n<path fill=\"none\" stroke=\"black\" d=\"M596.26,-222.91C609.27,-211.1 623.48,-198.22 636.45,-186.45\"/>\n<polygon fill=\"black\" stroke=\"black\" points=\"638.88,-188.98 643.93,-179.67 634.17,-183.79 638.88,-188.98\"/>\n</g>\n</g>\n</svg>\n",
            "text/plain": [
              "<graphviz.sources.Source at 0x7a0e421e5090>"
            ]
          },
          "metadata": {},
          "execution_count": 118
        }
      ]
    },
    {
      "cell_type": "code",
      "source": [
        "np.round(1-((41/120)**2 + (41/120)**2 + (38/120)**2),3)"
      ],
      "metadata": {
        "colab": {
          "base_uri": "https://localhost:8080/"
        },
        "id": "L_0anYRpnOP3",
        "outputId": "179ed00a-a7f1-4592-b632-6263858c5e47"
      },
      "execution_count": null,
      "outputs": [
        {
          "output_type": "execute_result",
          "data": {
            "text/plain": [
              "0.666"
            ]
          },
          "metadata": {},
          "execution_count": 121
        }
      ]
    },
    {
      "cell_type": "code",
      "source": [
        "dt_clf = DecisionTreeClassifier(random_state=156, max_depth=4)\n",
        "dt_clf.fit(X_train, y_train)"
      ],
      "metadata": {
        "colab": {
          "base_uri": "https://localhost:8080/",
          "height": 74
        },
        "id": "dnVQUfvon_48",
        "outputId": "e0cece79-e8ca-4a70-d41c-f20a361a8111"
      },
      "execution_count": null,
      "outputs": [
        {
          "output_type": "execute_result",
          "data": {
            "text/plain": [
              "DecisionTreeClassifier(max_depth=4, random_state=156)"
            ],
            "text/html": [
              "<style>#sk-container-id-3 {color: black;background-color: white;}#sk-container-id-3 pre{padding: 0;}#sk-container-id-3 div.sk-toggleable {background-color: white;}#sk-container-id-3 label.sk-toggleable__label {cursor: pointer;display: block;width: 100%;margin-bottom: 0;padding: 0.3em;box-sizing: border-box;text-align: center;}#sk-container-id-3 label.sk-toggleable__label-arrow:before {content: \"▸\";float: left;margin-right: 0.25em;color: #696969;}#sk-container-id-3 label.sk-toggleable__label-arrow:hover:before {color: black;}#sk-container-id-3 div.sk-estimator:hover label.sk-toggleable__label-arrow:before {color: black;}#sk-container-id-3 div.sk-toggleable__content {max-height: 0;max-width: 0;overflow: hidden;text-align: left;background-color: #f0f8ff;}#sk-container-id-3 div.sk-toggleable__content pre {margin: 0.2em;color: black;border-radius: 0.25em;background-color: #f0f8ff;}#sk-container-id-3 input.sk-toggleable__control:checked~div.sk-toggleable__content {max-height: 200px;max-width: 100%;overflow: auto;}#sk-container-id-3 input.sk-toggleable__control:checked~label.sk-toggleable__label-arrow:before {content: \"▾\";}#sk-container-id-3 div.sk-estimator input.sk-toggleable__control:checked~label.sk-toggleable__label {background-color: #d4ebff;}#sk-container-id-3 div.sk-label input.sk-toggleable__control:checked~label.sk-toggleable__label {background-color: #d4ebff;}#sk-container-id-3 input.sk-hidden--visually {border: 0;clip: rect(1px 1px 1px 1px);clip: rect(1px, 1px, 1px, 1px);height: 1px;margin: -1px;overflow: hidden;padding: 0;position: absolute;width: 1px;}#sk-container-id-3 div.sk-estimator {font-family: monospace;background-color: #f0f8ff;border: 1px dotted black;border-radius: 0.25em;box-sizing: border-box;margin-bottom: 0.5em;}#sk-container-id-3 div.sk-estimator:hover {background-color: #d4ebff;}#sk-container-id-3 div.sk-parallel-item::after {content: \"\";width: 100%;border-bottom: 1px solid gray;flex-grow: 1;}#sk-container-id-3 div.sk-label:hover label.sk-toggleable__label {background-color: #d4ebff;}#sk-container-id-3 div.sk-serial::before {content: \"\";position: absolute;border-left: 1px solid gray;box-sizing: border-box;top: 0;bottom: 0;left: 50%;z-index: 0;}#sk-container-id-3 div.sk-serial {display: flex;flex-direction: column;align-items: center;background-color: white;padding-right: 0.2em;padding-left: 0.2em;position: relative;}#sk-container-id-3 div.sk-item {position: relative;z-index: 1;}#sk-container-id-3 div.sk-parallel {display: flex;align-items: stretch;justify-content: center;background-color: white;position: relative;}#sk-container-id-3 div.sk-item::before, #sk-container-id-3 div.sk-parallel-item::before {content: \"\";position: absolute;border-left: 1px solid gray;box-sizing: border-box;top: 0;bottom: 0;left: 50%;z-index: -1;}#sk-container-id-3 div.sk-parallel-item {display: flex;flex-direction: column;z-index: 1;position: relative;background-color: white;}#sk-container-id-3 div.sk-parallel-item:first-child::after {align-self: flex-end;width: 50%;}#sk-container-id-3 div.sk-parallel-item:last-child::after {align-self: flex-start;width: 50%;}#sk-container-id-3 div.sk-parallel-item:only-child::after {width: 0;}#sk-container-id-3 div.sk-dashed-wrapped {border: 1px dashed gray;margin: 0 0.4em 0.5em 0.4em;box-sizing: border-box;padding-bottom: 0.4em;background-color: white;}#sk-container-id-3 div.sk-label label {font-family: monospace;font-weight: bold;display: inline-block;line-height: 1.2em;}#sk-container-id-3 div.sk-label-container {text-align: center;}#sk-container-id-3 div.sk-container {/* jupyter's `normalize.less` sets `[hidden] { display: none; }` but bootstrap.min.css set `[hidden] { display: none !important; }` so we also need the `!important` here to be able to override the default hidden behavior on the sphinx rendered scikit-learn.org. See: https://github.com/scikit-learn/scikit-learn/issues/21755 */display: inline-block !important;position: relative;}#sk-container-id-3 div.sk-text-repr-fallback {display: none;}</style><div id=\"sk-container-id-3\" class=\"sk-top-container\"><div class=\"sk-text-repr-fallback\"><pre>DecisionTreeClassifier(max_depth=4, random_state=156)</pre><b>In a Jupyter environment, please rerun this cell to show the HTML representation or trust the notebook. <br />On GitHub, the HTML representation is unable to render, please try loading this page with nbviewer.org.</b></div><div class=\"sk-container\" hidden><div class=\"sk-item\"><div class=\"sk-estimator sk-toggleable\"><input class=\"sk-toggleable__control sk-hidden--visually\" id=\"sk-estimator-id-3\" type=\"checkbox\" checked><label for=\"sk-estimator-id-3\" class=\"sk-toggleable__label sk-toggleable__label-arrow\">DecisionTreeClassifier</label><div class=\"sk-toggleable__content\"><pre>DecisionTreeClassifier(max_depth=4, random_state=156)</pre></div></div></div></div></div>"
            ]
          },
          "metadata": {},
          "execution_count": 128
        }
      ]
    },
    {
      "cell_type": "code",
      "source": [
        "from sklearn.tree import plot_tree"
      ],
      "metadata": {
        "id": "4RR1SpJlpHTT"
      },
      "execution_count": null,
      "outputs": []
    },
    {
      "cell_type": "code",
      "source": [
        "plt.figure(figsize=(13, 8))\n",
        "plot_tree(dt_clf, feature_names=list(iris_data.feature_names), class_names=iris_data.target_names,\n",
        "          rounded=True, filled=True)\n",
        "plt.show()"
      ],
      "metadata": {
        "colab": {
          "base_uri": "https://localhost:8080/",
          "height": 572
        },
        "id": "O1tf6p9dpOJV",
        "outputId": "300c7e0c-6845-4e11-94d4-e205c8d970f1"
      },
      "execution_count": null,
      "outputs": [
        {
          "output_type": "display_data",
          "data": {
            "text/plain": [
              "<Figure size 1300x800 with 1 Axes>"
            ],
            "image/png": "[encoded data removed]"
          },
          "metadata": {}
        }
      ]
    },
    {
      "cell_type": "markdown",
      "source": [
        "# 주요 하이퍼파라미터"
      ],
      "metadata": {
        "id": "KZbz4k9AquBR"
      }
    },
    {
      "cell_type": "markdown",
      "metadata": {
        "id": "IHj92-jngyul"
      },
      "source": [
        "min_samples_split: 분할되기 위해 노드가 가져야 최소 샘플 수\n",
        "\n",
        "min_samples_leaf: 리프 노드가 가지고 있어야 할 최소 샘플 수\n",
        "\n",
        "max_features: 각 노드에서 분할에 사용할 특성의 최대 수\n",
        "\n",
        "max_leaf_nodes: 리프 노드의 최대 수\n",
        "\n",
        "max_depth : 트리의 최대 깊이 설정\n",
        "\n",
        "criterion='gini' : 정보의 균일도 측정 방법"
      ]
    },
    {
      "cell_type": "code",
      "source": [
        "dt_clf.feature_importances_"
      ],
      "metadata": {
        "colab": {
          "base_uri": "https://localhost:8080/"
        },
        "id": "DatrkbMKpoqs",
        "outputId": "733fe379-6191-44cd-b69c-a5cbf5dffc1e"
      },
      "execution_count": null,
      "outputs": [
        {
          "output_type": "execute_result",
          "data": {
            "text/plain": [
              "array([0.02562141, 0.        , 0.93661233, 0.03776626])"
            ]
          },
          "metadata": {},
          "execution_count": 130
        }
      ]
    },
    {
      "cell_type": "code",
      "source": [
        "sns.barplot(x=dt_clf.feature_importances_, y= iris_data.feature_names)"
      ],
      "metadata": {
        "colab": {
          "base_uri": "https://localhost:8080/",
          "height": 447
        },
        "id": "8Aa2tprhrprj",
        "outputId": "0702a85a-523b-4d99-970a-9943b98812d2"
      },
      "execution_count": null,
      "outputs": [
        {
          "output_type": "execute_result",
          "data": {
            "text/plain": [
              "<Axes: >"
            ]
          },
          "metadata": {},
          "execution_count": 131
        },
        {
          "output_type": "display_data",
          "data": {
            "text/plain": [
              "<Figure size 640x480 with 1 Axes>"
            ],
            "image/png": "[encoded data removed]"
          },
          "metadata": {}
        }
      ]
    },
    {
      "cell_type": "markdown",
      "source": [
        "make_classification() : 테스트 데이터 발생기"
      ],
      "metadata": {
        "id": "OafyNUxFsOZS"
      }
    },
    {
      "cell_type": "code",
      "source": [
        "from sklearn.datasets import make_classification"
      ],
      "metadata": {
        "id": "v8prCIZqr0qQ"
      },
      "execution_count": null,
      "outputs": []
    },
    {
      "cell_type": "code",
      "source": [
        "X_features, y_labels = make_classification(n_features=2, n_classes=3, n_redundant=0,\n",
        "                                           n_informative=2, n_clusters_per_class=1,\n",
        "                                           random_state=0)"
      ],
      "metadata": {
        "id": "cr-C0KFzsbSP"
      },
      "execution_count": null,
      "outputs": []
    },
    {
      "cell_type": "code",
      "source": [
        "X_features.shape"
      ],
      "metadata": {
        "colab": {
          "base_uri": "https://localhost:8080/"
        },
        "id": "UWHxyIbTtYqG",
        "outputId": "6f772830-19e5-4b32-8fa6-22605bc39481"
      },
      "execution_count": null,
      "outputs": [
        {
          "output_type": "execute_result",
          "data": {
            "text/plain": [
              "(100, 2)"
            ]
          },
          "metadata": {},
          "execution_count": 134
        }
      ]
    },
    {
      "cell_type": "code",
      "source": [
        "y_labels"
      ],
      "metadata": {
        "colab": {
          "base_uri": "https://localhost:8080/"
        },
        "id": "SdVUWrFctcrF",
        "outputId": "0edd6634-3198-48e3-fbca-f326c7e06b14"
      },
      "execution_count": null,
      "outputs": [
        {
          "output_type": "execute_result",
          "data": {
            "text/plain": [
              "array([0, 1, 1, 1, 2, 2, 1, 0, 2, 2, 0, 1, 2, 1, 2, 0, 0, 1, 2, 1, 2, 0,\n",
              "       1, 2, 1, 0, 2, 2, 2, 0, 2, 1, 1, 0, 1, 0, 0, 2, 1, 0, 0, 1, 0, 2,\n",
              "       0, 2, 1, 0, 2, 0, 2, 2, 2, 1, 0, 1, 1, 0, 2, 0, 2, 0, 0, 2, 1, 1,\n",
              "       0, 1, 1, 2, 1, 0, 2, 2, 2, 0, 0, 1, 1, 0, 2, 1, 2, 1, 0, 2, 1, 1,\n",
              "       1, 1, 0, 0, 1, 0, 2, 2, 0, 2, 0, 0])"
            ]
          },
          "metadata": {},
          "execution_count": 135
        }
      ]
    },
    {
      "cell_type": "code",
      "source": [
        "plt.scatter(X_features[:, 0], X_features[:, 1], c=y_labels, s=25)"
      ],
      "metadata": {
        "colab": {
          "base_uri": "https://localhost:8080/",
          "height": 452
        },
        "id": "21oWqoVCtegM",
        "outputId": "ff68fb7c-b4fd-4d70-dfe7-3878de8e514c"
      },
      "execution_count": null,
      "outputs": [
        {
          "output_type": "execute_result",
          "data": {
            "text/plain": [
              "<matplotlib.collections.PathCollection at 0x7a0e4209a9e0>"
            ]
          },
          "metadata": {},
          "execution_count": 136
        },
        {
          "output_type": "display_data",
          "data": {
            "text/plain": [
              "<Figure size 640x480 with 1 Axes>"
            ],
            "image/png": "[encoded data removed]"
          },
          "metadata": {}
        }
      ]
    },
    {
      "cell_type": "code",
      "source": [
        "def visualize_boundary(model, X, y):\n",
        "    fig,ax = plt.subplots()\n",
        "\n",
        "    # 학습 데이타 scatter plot으로 나타내기\n",
        "    ax.scatter(X[:, 0], X[:, 1], c=y, s=25, cmap='rainbow', edgecolor='k',\n",
        "               clim=(y.min(), y.max()), zorder=3)\n",
        "    ax.axis('tight')\n",
        "    ax.axis('off')\n",
        "    xlim_start , xlim_end = ax.get_xlim()\n",
        "    ylim_start , ylim_end = ax.get_ylim()\n",
        "\n",
        "    # 호출 파라미터로 들어온 training 데이타로 model 학습 .\n",
        "    model.fit(X, y)\n",
        "    # meshgrid 형태인 모든 좌표값으로 예측 수행.\n",
        "    xx, yy = np.meshgrid(np.linspace(xlim_start,xlim_end, num=200),np.linspace(ylim_start,ylim_end, num=200))\n",
        "    Z = model.predict(np.c_[xx.ravel(), yy.ravel()]).reshape(xx.shape)\n",
        "\n",
        "    # contourf() 를 이용하여 class boundary 를 visualization 수행.\n",
        "    n_classes = len(np.unique(y))\n",
        "    contours = ax.contourf(xx, yy, Z, alpha=0.3,\n",
        "                           levels=np.arange(n_classes + 1) - 0.5,\n",
        "                           cmap='rainbow', clim=(y.min(), y.max()),\n",
        "                           zorder=1)"
      ],
      "metadata": {
        "id": "ed804Qzrtuzm"
      },
      "execution_count": null,
      "outputs": []
    },
    {
      "cell_type": "code",
      "source": [
        "dt_clf.fit(X_features, y_labels)"
      ],
      "metadata": {
        "colab": {
          "base_uri": "https://localhost:8080/",
          "height": 74
        },
        "id": "POU7udImuEdD",
        "outputId": "54958235-f657-41c9-9117-e5c930a898df"
      },
      "execution_count": null,
      "outputs": [
        {
          "output_type": "execute_result",
          "data": {
            "text/plain": [
              "DecisionTreeClassifier(max_depth=4, random_state=156)"
            ],
            "text/html": [
              "<style>#sk-container-id-4 {color: black;background-color: white;}#sk-container-id-4 pre{padding: 0;}#sk-container-id-4 div.sk-toggleable {background-color: white;}#sk-container-id-4 label.sk-toggleable__label {cursor: pointer;display: block;width: 100%;margin-bottom: 0;padding: 0.3em;box-sizing: border-box;text-align: center;}#sk-container-id-4 label.sk-toggleable__label-arrow:before {content: \"▸\";float: left;margin-right: 0.25em;color: #696969;}#sk-container-id-4 label.sk-toggleable__label-arrow:hover:before {color: black;}#sk-container-id-4 div.sk-estimator:hover label.sk-toggleable__label-arrow:before {color: black;}#sk-container-id-4 div.sk-toggleable__content {max-height: 0;max-width: 0;overflow: hidden;text-align: left;background-color: #f0f8ff;}#sk-container-id-4 div.sk-toggleable__content pre {margin: 0.2em;color: black;border-radius: 0.25em;background-color: #f0f8ff;}#sk-container-id-4 input.sk-toggleable__control:checked~div.sk-toggleable__content {max-height: 200px;max-width: 100%;overflow: auto;}#sk-container-id-4 input.sk-toggleable__control:checked~label.sk-toggleable__label-arrow:before {content: \"▾\";}#sk-container-id-4 div.sk-estimator input.sk-toggleable__control:checked~label.sk-toggleable__label {background-color: #d4ebff;}#sk-container-id-4 div.sk-label input.sk-toggleable__control:checked~label.sk-toggleable__label {background-color: #d4ebff;}#sk-container-id-4 input.sk-hidden--visually {border: 0;clip: rect(1px 1px 1px 1px);clip: rect(1px, 1px, 1px, 1px);height: 1px;margin: -1px;overflow: hidden;padding: 0;position: absolute;width: 1px;}#sk-container-id-4 div.sk-estimator {font-family: monospace;background-color: #f0f8ff;border: 1px dotted black;border-radius: 0.25em;box-sizing: border-box;margin-bottom: 0.5em;}#sk-container-id-4 div.sk-estimator:hover {background-color: #d4ebff;}#sk-container-id-4 div.sk-parallel-item::after {content: \"\";width: 100%;border-bottom: 1px solid gray;flex-grow: 1;}#sk-container-id-4 div.sk-label:hover label.sk-toggleable__label {background-color: #d4ebff;}#sk-container-id-4 div.sk-serial::before {content: \"\";position: absolute;border-left: 1px solid gray;box-sizing: border-box;top: 0;bottom: 0;left: 50%;z-index: 0;}#sk-container-id-4 div.sk-serial {display: flex;flex-direction: column;align-items: center;background-color: white;padding-right: 0.2em;padding-left: 0.2em;position: relative;}#sk-container-id-4 div.sk-item {position: relative;z-index: 1;}#sk-container-id-4 div.sk-parallel {display: flex;align-items: stretch;justify-content: center;background-color: white;position: relative;}#sk-container-id-4 div.sk-item::before, #sk-container-id-4 div.sk-parallel-item::before {content: \"\";position: absolute;border-left: 1px solid gray;box-sizing: border-box;top: 0;bottom: 0;left: 50%;z-index: -1;}#sk-container-id-4 div.sk-parallel-item {display: flex;flex-direction: column;z-index: 1;position: relative;background-color: white;}#sk-container-id-4 div.sk-parallel-item:first-child::after {align-self: flex-end;width: 50%;}#sk-container-id-4 div.sk-parallel-item:last-child::after {align-self: flex-start;width: 50%;}#sk-container-id-4 div.sk-parallel-item:only-child::after {width: 0;}#sk-container-id-4 div.sk-dashed-wrapped {border: 1px dashed gray;margin: 0 0.4em 0.5em 0.4em;box-sizing: border-box;padding-bottom: 0.4em;background-color: white;}#sk-container-id-4 div.sk-label label {font-family: monospace;font-weight: bold;display: inline-block;line-height: 1.2em;}#sk-container-id-4 div.sk-label-container {text-align: center;}#sk-container-id-4 div.sk-container {/* jupyter's `normalize.less` sets `[hidden] { display: none; }` but bootstrap.min.css set `[hidden] { display: none !important; }` so we also need the `!important` here to be able to override the default hidden behavior on the sphinx rendered scikit-learn.org. See: https://github.com/scikit-learn/scikit-learn/issues/21755 */display: inline-block !important;position: relative;}#sk-container-id-4 div.sk-text-repr-fallback {display: none;}</style><div id=\"sk-container-id-4\" class=\"sk-top-container\"><div class=\"sk-text-repr-fallback\"><pre>DecisionTreeClassifier(max_depth=4, random_state=156)</pre><b>In a Jupyter environment, please rerun this cell to show the HTML representation or trust the notebook. <br />On GitHub, the HTML representation is unable to render, please try loading this page with nbviewer.org.</b></div><div class=\"sk-container\" hidden><div class=\"sk-item\"><div class=\"sk-estimator sk-toggleable\"><input class=\"sk-toggleable__control sk-hidden--visually\" id=\"sk-estimator-id-4\" type=\"checkbox\" checked><label for=\"sk-estimator-id-4\" class=\"sk-toggleable__label sk-toggleable__label-arrow\">DecisionTreeClassifier</label><div class=\"sk-toggleable__content\"><pre>DecisionTreeClassifier(max_depth=4, random_state=156)</pre></div></div></div></div></div>"
            ]
          },
          "metadata": {},
          "execution_count": 138
        }
      ]
    },
    {
      "cell_type": "code",
      "source": [
        "visualize_boundary(dt_clf, X_features, y_labels)"
      ],
      "metadata": {
        "colab": {
          "base_uri": "https://localhost:8080/",
          "height": 441
        },
        "id": "ZjtfqYWluOEU",
        "outputId": "a95ebb30-9b51-4ae6-b36b-7218057592ff"
      },
      "execution_count": null,
      "outputs": [
        {
          "output_type": "stream",
          "name": "stderr",
          "text": [
            "<ipython-input-137-49a657179d2e>:20: UserWarning: The following kwargs were not used by contour: 'clim'\n",
            "  contours = ax.contourf(xx, yy, Z, alpha=0.3,\n"
          ]
        },
        {
          "output_type": "display_data",
          "data": {
            "text/plain": [
              "<Figure size 640x480 with 1 Axes>"
            ],
            "image/png": "[encoded data removed]"
          },
          "metadata": {}
        }
      ]
    },
    {
      "cell_type": "code",
      "source": [
        "dt_clf = DecisionTreeClassifier(min_samples_leaf=6).fit(X_features, y_labels)"
      ],
      "metadata": {
        "id": "458dzcqguV0B"
      },
      "execution_count": null,
      "outputs": []
    },
    {
      "cell_type": "code",
      "source": [
        "visualize_boundary(dt_clf, X_features, y_labels)"
      ],
      "metadata": {
        "colab": {
          "base_uri": "https://localhost:8080/",
          "height": 441
        },
        "id": "G_LKxX5Nu2i5",
        "outputId": "01fc58d8-85e8-4347-d7c0-a0e51e4bb5a5"
      },
      "execution_count": null,
      "outputs": [
        {
          "output_type": "stream",
          "name": "stderr",
          "text": [
            "<ipython-input-137-49a657179d2e>:20: UserWarning: The following kwargs were not used by contour: 'clim'\n",
            "  contours = ax.contourf(xx, yy, Z, alpha=0.3,\n"
          ]
        },
        {
          "output_type": "display_data",
          "data": {
            "text/plain": [
              "<Figure size 640x480 with 1 Axes>"
            ],
            "image/png": "[encoded data removed]"
          },
          "metadata": {}
        }
      ]
    },
    {
      "cell_type": "code",
      "source": [
        "dt_clf = DecisionTreeClassifier().fit(X_features, y_labels)"
      ],
      "metadata": {
        "id": "aycDj3SfvAsN"
      },
      "execution_count": null,
      "outputs": []
    },
    {
      "cell_type": "code",
      "source": [
        "visualize_boundary(dt_clf, X_features, y_labels)"
      ],
      "metadata": {
        "colab": {
          "base_uri": "https://localhost:8080/",
          "height": 441
        },
        "id": "mdltD35hy4me",
        "outputId": "78fd060e-d710-4a9e-c0f6-015220f43404"
      },
      "execution_count": null,
      "outputs": [
        {
          "output_type": "stream",
          "name": "stderr",
          "text": [
            "<ipython-input-137-49a657179d2e>:20: UserWarning: The following kwargs were not used by contour: 'clim'\n",
            "  contours = ax.contourf(xx, yy, Z, alpha=0.3,\n"
          ]
        },
        {
          "output_type": "display_data",
          "data": {
            "text/plain": [
              "<Figure size 640x480 with 1 Axes>"
            ],
            "image/png": "[encoded data removed]"
          },
          "metadata": {}
        }
      ]
    },
    {
      "cell_type": "code",
      "source": [],
      "metadata": {
        "id": "2Yw3gJiCy6-e"
      },
      "execution_count": null,
      "outputs": []
    }
  ]
}