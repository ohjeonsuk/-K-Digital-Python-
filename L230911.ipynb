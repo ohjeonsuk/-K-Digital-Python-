{
  "nbformat": 4,
  "nbformat_minor": 0,
  "metadata": {
    "colab": {
      "provenance": [],
      "include_colab_link": true
    },
    "kernelspec": {
      "name": "python3",
      "display_name": "Python 3"
    },
    "language_info": {
      "name": "python"
    }
  },
  "cells": [
    {
      "cell_type": "markdown",
      "metadata": {
        "id": "view-in-github",
        "colab_type": "text"
      },
      "source": [
        "<a href=\"https://colab.research.google.com/github/ohjeonsuk/python-education/blob/main/L230911.ipynb\" target=\"_parent\"><img src=\"https://colab.research.google.com/assets/colab-badge.svg\" alt=\"Open In Colab\"/></a>"
      ]
    },
    {
      "cell_type": "markdown",
      "source": [
        "#1. mysql 접속하기\n",
        "\n",
        "    mysql -u root -p\n",
        "\n",
        "    mysql -u root -pzxc098\n",
        "\n",
        "    mysql -u root testdb -p"
      ],
      "metadata": {
        "id": "6SetPlpk5WUf"
      }
    },
    {
      "cell_type": "markdown",
      "source": [
        "#2. DB 보기\n",
        "\n",
        "    show databases;"
      ],
      "metadata": {
        "id": "Caaug5DM4_Iq"
      }
    },
    {
      "cell_type": "markdown",
      "source": [
        "#3. DB 사용하기\n",
        "\n",
        "    use testdb;\n",
        "\n",
        "testdb = DB 이름"
      ],
      "metadata": {
        "id": "9jzt8Zfe65HQ"
      }
    },
    {
      "cell_type": "markdown",
      "source": [
        "#4. 데이터베이스 생성\n",
        "\n",
        "    CREATE SCHEMA `testdb` ;\n",
        "\n",
        "\n",
        "    create database DB이름;"
      ],
      "metadata": {
        "id": "ZQ4PsFFCtuQh"
      }
    },
    {
      "cell_type": "markdown",
      "source": [
        "#5. 테이블생성\n",
        "\n",
        "    CREATE TABLE `testdb`.`users` (`id` INT NOT NULL, PRIMARY KEY (`id`));\n",
        "\n",
        "    create table users (id INT AUTO_INCREMENT PRIMARY KEY, name VARCHAR(255));"
      ],
      "metadata": {
        "id": "02XWdQGfwJSB"
      }
    },
    {
      "cell_type": "markdown",
      "source": [
        "#6. 테이블 목록 보기\n",
        "\n",
        "    show tables;"
      ],
      "metadata": {
        "id": "ZoNShUET7Wo0"
      }
    },
    {
      "cell_type": "markdown",
      "source": [
        "#7. 테이블 정보 보기\n",
        "\n",
        "    describe users;\n",
        "\n",
        "    desc users;"
      ],
      "metadata": {
        "id": "5RGpeVAUC4lD"
      }
    },
    {
      "cell_type": "markdown",
      "source": [
        "#8.데이터 넣기\n",
        "\n",
        "    insert into users values('1', 'Evelyn');\n",
        "\n",
        "\n",
        "    insert into `keos`.`users` (`id`, `name`) values ('3', 'Tupaki'); # ` : 따옴표가 아님"
      ],
      "metadata": {
        "id": "YiM4kFmCD4b4"
      }
    },
    {
      "cell_type": "markdown",
      "source": [
        "#9. 데이터 보기\n",
        "\n",
        "    select * from users;\n",
        "\n",
        "    select * from users where id=2;"
      ],
      "metadata": {
        "id": "3eZDMW5ZF4I-"
      }
    },
    {
      "cell_type": "markdown",
      "source": [
        "#10. DB, Table 삭제와 비우기\n",
        "\n",
        "    drop database DB이름\n",
        "\n",
        "    drop table 테이블이름\n",
        "\n",
        "    truncate table 테이블이름"
      ],
      "metadata": {
        "id": "yF6Emnio6zcO"
      }
    },
    {
      "cell_type": "markdown",
      "source": [
        "#11. 현재 사용자 확인하기\n",
        "\n",
        "    use mysql;\n",
        "\n",
        "    select host, user form user;"
      ],
      "metadata": {
        "id": "rMnv8f6bINjG"
      }
    },
    {
      "cell_type": "markdown",
      "source": [
        "#12. 사용자 만들기\n",
        "\n",
        "    create user 'id'@'localhost' # 로컬에서만 접속 가능\n",
        "\n",
        "\n",
        "    create user 'id'@'%' # 외부 접속 가능하게 해주는 host"
      ],
      "metadata": {
        "id": "ThwnYShTJBYj"
      }
    },
    {
      "cell_type": "markdown",
      "source": [
        "#13. 권한 부여 하기\n",
        "\n",
        "    grant all privileges on testdb.* to 'pmth'@'%'; # testdb 모든 권한 부여\n",
        "\n",
        "    flush privileges;"
      ],
      "metadata": {
        "id": "iox7gKpSLCaG"
      }
    },
    {
      "cell_type": "markdown",
      "source": [
        "1. 각자 계정 사용,  파일로 하기\n",
        "\n",
        "2. testdb의 users 비우기 -> 이  결과 보여 주기\n",
        "\n",
        "3. testdb의 users 삭제 -> 결과 보여 주기"
      ],
      "metadata": {
        "id": "_YwT5_eSTaXP"
      }
    },
    {
      "cell_type": "code",
      "execution_count": null,
      "metadata": {
        "id": "EdZY1bmFiVwa"
      },
      "outputs": [],
      "source": []
    }
  ]
}