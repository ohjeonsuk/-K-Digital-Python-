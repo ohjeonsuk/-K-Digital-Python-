{
  "nbformat": 4,
  "nbformat_minor": 0,
  "metadata": {
    "colab": {
      "provenance": [],
      "include_colab_link": true
    },
    "kernelspec": {
      "name": "python3",
      "display_name": "Python 3"
    },
    "language_info": {
      "name": "python"
    }
  },
  "cells": [
    {
      "cell_type": "markdown",
      "metadata": {
        "id": "view-in-github",
        "colab_type": "text"
      },
      "source": [
        "<a href=\"https://colab.research.google.com/github/ohjeonsuk/python-education/blob/main/L230807.ipynb\" target=\"_parent\"><img src=\"https://colab.research.google.com/assets/colab-badge.svg\" alt=\"Open In Colab\"/></a>"
      ]
    },
    {
      "cell_type": "markdown",
      "source": [
        "1. Web crawling\n",
        "2. 교재 : part 1 ~ 4\n",
        "3. 자료 변환\n",
        "\t- 중복값 제거와 값 대체\n",
        "\t- 구간 나누기 : pd.cut\n",
        "\t- 범주형 데이터 : 개념, vectorization, get_dummies\n",
        "\t- 판다스에서 문자열 처리하기\n",
        "\t- 조인, 병합, 변형\n",
        "4. 데이터 그룹 연산\n",
        "\t- group, apply\n",
        "5. 교재 : part 5 ~ 6\n"
      ],
      "metadata": {
        "id": "UByS4llZI9T7"
      }
    },
    {
      "cell_type": "code",
      "source": [
        "import re"
      ],
      "metadata": {
        "id": "FR0Xd1A4Q2IJ"
      },
      "execution_count": null,
      "outputs": []
    },
    {
      "cell_type": "code",
      "source": [
        "from urllib.request import urlopen, Request"
      ],
      "metadata": {
        "id": "mmWY5XZ1US1u"
      },
      "execution_count": null,
      "outputs": []
    },
    {
      "cell_type": "code",
      "source": [
        "from bs4 import BeautifulSoup as bs"
      ],
      "metadata": {
        "id": "Mnh1X9wlUh5C"
      },
      "execution_count": null,
      "outputs": []
    },
    {
      "cell_type": "code",
      "source": [
        "url = 'https://quotes.toscrape.com/tag/life/'"
      ],
      "metadata": {
        "id": "pwP1xzW4rBBi"
      },
      "execution_count": null,
      "outputs": []
    },
    {
      "cell_type": "code",
      "source": [
        "html = urlopen(url)"
      ],
      "metadata": {
        "id": "hi92EtEpUXUx"
      },
      "execution_count": null,
      "outputs": []
    },
    {
      "cell_type": "code",
      "source": [
        "html"
      ],
      "metadata": {
        "colab": {
          "base_uri": "https://localhost:8080/"
        },
        "id": "w9flaD8kUa2T",
        "outputId": "00f3e908-1696-4e7a-a134-3bd432932bf3"
      },
      "execution_count": null,
      "outputs": [
        {
          "output_type": "execute_result",
          "data": {
            "text/plain": [
              "<http.client.HTTPResponse at 0x7c72343b8280>"
            ]
          },
          "metadata": {},
          "execution_count": 6
        }
      ]
    },
    {
      "cell_type": "code",
      "source": [
        "soup = bs(html, 'html.parser')"
      ],
      "metadata": {
        "id": "Pm5jZ6gxUd_W"
      },
      "execution_count": null,
      "outputs": []
    },
    {
      "cell_type": "code",
      "source": [
        "soup.find_all('div', {'class':'quote'})"
      ],
      "metadata": {
        "id": "-gBhHaDlUlAV"
      },
      "execution_count": null,
      "outputs": []
    },
    {
      "cell_type": "code",
      "source": [
        "for i in soup.find_all('div', {'class':'quote'}):\n",
        "    print(i.text)"
      ],
      "metadata": {
        "colab": {
          "base_uri": "https://localhost:8080/"
        },
        "id": "c5xkDlEfUrzm",
        "outputId": "2c0999a3-1200-42fd-b7db-eb5a9d7b5145"
      },
      "execution_count": null,
      "outputs": [
        {
          "output_type": "stream",
          "name": "stdout",
          "text": [
            "\n",
            "“There are only two ways to live your life. One is as though nothing is a miracle. The other is as though everything is a miracle.”\n",
            "by Albert Einstein\n",
            "(about)\n",
            "\n",
            "\n",
            "            Tags:\n",
            "            \n",
            "inspirational\n",
            "life\n",
            "live\n",
            "miracle\n",
            "miracles\n",
            "\n",
            "\n",
            "\n",
            "“It is better to be hated for what you are than to be loved for what you are not.”\n",
            "by André Gide\n",
            "(about)\n",
            "\n",
            "\n",
            "            Tags:\n",
            "            \n",
            "life\n",
            "love\n",
            "\n",
            "\n",
            "\n",
            "“This life is what you make it. No matter what, you're going to mess up sometimes, it's a universal truth. But the good part is you get to decide how you're going to mess it up. Girls will be your friends - they'll act like it anyway. But just remember, some come, some go. The ones that stay with you through everything - they're your true best friends. Don't let go of them. Also remember, sisters make the best friends in the world. As for lovers, well, they'll come and go too. And baby, I hate to say it, most of them - actually pretty much all of them are going to break your heart, but you can't give up because if you give up, you'll never find your soulmate. You'll never find that half who makes you whole and that goes for everything. Just because you fail once, doesn't mean you're gonna fail at everything. Keep trying, hold on, and always, always, always believe in yourself, because if you don't, then who will, sweetie? So keep your head high, keep your chin up, and most importantly, keep smiling, because life's a beautiful thing and there's so much to smile about.”\n",
            "by Marilyn Monroe\n",
            "(about)\n",
            "\n",
            "\n",
            "            Tags:\n",
            "            \n",
            "friends\n",
            "heartbreak\n",
            "inspirational\n",
            "life\n",
            "love\n",
            "sisters\n",
            "\n",
            "\n",
            "\n",
            "“I may not have gone where I intended to go, but I think I have ended up where I needed to be.”\n",
            "by Douglas Adams\n",
            "(about)\n",
            "\n",
            "\n",
            "            Tags:\n",
            "            \n",
            "life\n",
            "navigation\n",
            "\n",
            "\n",
            "\n",
            "“Good friends, good books, and a sleepy conscience: this is the ideal life.”\n",
            "by Mark Twain\n",
            "(about)\n",
            "\n",
            "\n",
            "            Tags:\n",
            "            \n",
            "books\n",
            "contentment\n",
            "friends\n",
            "friendship\n",
            "life\n",
            "\n",
            "\n",
            "\n",
            "“Life is what happens to us while we are making other plans.”\n",
            "by Allen Saunders\n",
            "(about)\n",
            "\n",
            "\n",
            "            Tags:\n",
            "            \n",
            "fate\n",
            "life\n",
            "misattributed-john-lennon\n",
            "planning\n",
            "plans\n",
            "\n",
            "\n",
            "\n",
            "“Today you are You, that is truer than true. There is no one alive who is Youer than You.”\n",
            "by Dr. Seuss\n",
            "(about)\n",
            "\n",
            "\n",
            "            Tags:\n",
            "            \n",
            "comedy\n",
            "life\n",
            "yourself\n",
            "\n",
            "\n",
            "\n",
            "“Life is like riding a bicycle. To keep your balance, you must keep moving.”\n",
            "by Albert Einstein\n",
            "(about)\n",
            "\n",
            "\n",
            "            Tags:\n",
            "            \n",
            "life\n",
            "simile\n",
            "\n",
            "\n",
            "\n",
            "“Life isn't about finding yourself. Life is about creating yourself.”\n",
            "by George Bernard Shaw\n",
            "(about)\n",
            "\n",
            "\n",
            "            Tags:\n",
            "            \n",
            "inspirational\n",
            "life\n",
            "yourself\n",
            "\n",
            "\n",
            "\n",
            "“Finish each day and be done with it. You have done what you could. Some blunders and absurdities no doubt crept in; forget them as soon as you can. Tomorrow is a new day. You shall begin it serenely and with too high a spirit to be encumbered with your old nonsense.”\n",
            "by Ralph Waldo Emerson\n",
            "(about)\n",
            "\n",
            "\n",
            "            Tags:\n",
            "            \n",
            "life\n",
            "regrets\n",
            "\n",
            "\n"
          ]
        }
      ]
    },
    {
      "cell_type": "code",
      "source": [
        "%%writefile test.html\n",
        "<!DOCTYPE html>\n",
        "<html>\n",
        " <head>\n",
        "  <title>\n",
        "   스크래핑 연습\n",
        "  </title>\n",
        "  <meta charset=\"utf-8\"/>\n",
        " </head>\n",
        " <body>\n",
        "  <p align=\"center\">\n",
        "   연습용 html 문서입니다.\n",
        "  </p>\n",
        "  <p align=\"left\">\n",
        "   <br/>\n",
        "   파이썬을 배우고 있습니다.\n",
        "   <br/>\n",
        "   응원 바랍니다.\n",
        "  </p>\n",
        "  <p align=\"center\">\n",
        "   DOCTYPE HTML\n",
        "  </p>\n",
        "  <a class=\"naver\" href=\"https://www.naver.com/\" id=\"meal\">\n",
        "   네이버\n",
        "  </a>\n",
        "  <a class=\"google\" href=\"http://www.google.com/\" id=\"link\">\n",
        "   구글\n",
        "  </a>\n",
        " </body>\n",
        "</html>"
      ],
      "metadata": {
        "colab": {
          "base_uri": "https://localhost:8080/"
        },
        "id": "sof6DxLmU_-r",
        "outputId": "3195c4a0-ac27-477b-b605-74f827b137d6"
      },
      "execution_count": null,
      "outputs": [
        {
          "output_type": "stream",
          "name": "stdout",
          "text": [
            "Writing test.html\n"
          ]
        }
      ]
    },
    {
      "cell_type": "code",
      "source": [
        "ls"
      ],
      "metadata": {
        "colab": {
          "base_uri": "https://localhost:8080/"
        },
        "id": "T0zDTL-sVuIx",
        "outputId": "83d24702-fe81-443b-b26a-e12477d79676"
      },
      "execution_count": null,
      "outputs": [
        {
          "output_type": "stream",
          "name": "stdout",
          "text": [
            "\u001b[0m\u001b[01;34msample_data\u001b[0m/  test.html\n"
          ]
        }
      ]
    },
    {
      "cell_type": "code",
      "source": [
        "page = open('test.html', 'r').read() #f.read()"
      ],
      "metadata": {
        "id": "haxG2DzFV2wP"
      },
      "execution_count": null,
      "outputs": []
    },
    {
      "cell_type": "code",
      "source": [
        "page"
      ],
      "metadata": {
        "colab": {
          "base_uri": "https://localhost:8080/",
          "height": 126
        },
        "id": "xuihaMqxWF-L",
        "outputId": "5350813d-d131-4bcf-f3c3-123bb6394f51"
      },
      "execution_count": null,
      "outputs": [
        {
          "output_type": "execute_result",
          "data": {
            "text/plain": [
              "'<!DOCTYPE html>\\n<html>\\n <head>\\n  <title>\\n   스크래핑 연습\\n  </title>\\n  <meta charset=\"utf-8\"/>\\n </head>\\n <body>\\n  <p align=\"center\">\\n   연습용 html 문서입니다.\\n  </p>\\n  <p align=\"left\">\\n   <br/>\\n   파이썬을 배우고 있습니다.\\n   <br/>\\n   응원 바랍니다.\\n  </p>\\n  <p align=\"center\">\\n   DOCTYPE HTML\\n  </p>\\n  <a class=\"naver\" href=\"https://www.naver.com/\" id=\"meal\">\\n   네이버\\n  </a>\\n  <a class=\"google\" href=\"http://www.google.com/\" id=\"link\">\\n   구글\\n  </a>\\n </body>\\n</html>\\n'"
            ],
            "application/vnd.google.colaboratory.intrinsic+json": {
              "type": "string"
            }
          },
          "metadata": {},
          "execution_count": 13
        }
      ]
    },
    {
      "cell_type": "code",
      "source": [
        "soup = bs(page, 'html.parser')"
      ],
      "metadata": {
        "id": "T7pEdN5KWGpu"
      },
      "execution_count": null,
      "outputs": []
    },
    {
      "cell_type": "code",
      "source": [
        "soup"
      ],
      "metadata": {
        "colab": {
          "base_uri": "https://localhost:8080/"
        },
        "id": "v8OmzjWQWMz0",
        "outputId": "3b30dba5-84ba-463f-c751-0f27b78e09a7"
      },
      "execution_count": null,
      "outputs": [
        {
          "output_type": "execute_result",
          "data": {
            "text/plain": [
              "<!DOCTYPE html>\n",
              "\n",
              "<html>\n",
              "<head>\n",
              "<title>\n",
              "   스크래핑 연습\n",
              "  </title>\n",
              "<meta charset=\"utf-8\"/>\n",
              "</head>\n",
              "<body>\n",
              "<p align=\"center\">\n",
              "   연습용 html 문서입니다.\n",
              "  </p>\n",
              "<p align=\"left\">\n",
              "<br/>\n",
              "   파이썬을 배우고 있습니다.\n",
              "   <br/>\n",
              "   응원 바랍니다.\n",
              "  </p>\n",
              "<p align=\"center\">\n",
              "   DOCTYPE HTML\n",
              "  </p>\n",
              "<a class=\"naver\" href=\"https://www.naver.com/\" id=\"meal\">\n",
              "   네이버\n",
              "  </a>\n",
              "<a class=\"google\" href=\"http://www.google.com/\" id=\"link\">\n",
              "   구글\n",
              "  </a>\n",
              "</body>\n",
              "</html>"
            ]
          },
          "metadata": {},
          "execution_count": 15
        }
      ]
    },
    {
      "cell_type": "code",
      "source": [
        "print(soup.prettify())"
      ],
      "metadata": {
        "colab": {
          "base_uri": "https://localhost:8080/"
        },
        "id": "pNqTJ6NtWOFw",
        "outputId": "0ed49072-0ff0-43cf-b5e0-a9f86336ac81"
      },
      "execution_count": null,
      "outputs": [
        {
          "output_type": "stream",
          "name": "stdout",
          "text": [
            "<!DOCTYPE html>\n",
            "<html>\n",
            " <head>\n",
            "  <title>\n",
            "   스크래핑 연습\n",
            "  </title>\n",
            "  <meta charset=\"utf-8\"/>\n",
            " </head>\n",
            " <body>\n",
            "  <p align=\"center\">\n",
            "   연습용 html 문서입니다.\n",
            "  </p>\n",
            "  <p align=\"left\">\n",
            "   <br/>\n",
            "   파이썬을 배우고 있습니다.\n",
            "   <br/>\n",
            "   응원 바랍니다.\n",
            "  </p>\n",
            "  <p align=\"center\">\n",
            "   DOCTYPE HTML\n",
            "  </p>\n",
            "  <a class=\"naver\" href=\"https://www.naver.com/\" id=\"meal\">\n",
            "   네이버\n",
            "  </a>\n",
            "  <a class=\"google\" href=\"http://www.google.com/\" id=\"link\">\n",
            "   구글\n",
            "  </a>\n",
            " </body>\n",
            "</html>\n",
            "\n"
          ]
        }
      ]
    },
    {
      "cell_type": "code",
      "source": [
        "type(soup)"
      ],
      "metadata": {
        "colab": {
          "base_uri": "https://localhost:8080/"
        },
        "id": "QzYhkgK2Wajc",
        "outputId": "c509a421-277f-4eac-963d-c0cae9032e17"
      },
      "execution_count": null,
      "outputs": [
        {
          "output_type": "execute_result",
          "data": {
            "text/plain": [
              "bs4.BeautifulSoup"
            ]
          },
          "metadata": {},
          "execution_count": 17
        }
      ]
    },
    {
      "cell_type": "code",
      "source": [
        "soup.children"
      ],
      "metadata": {
        "colab": {
          "base_uri": "https://localhost:8080/"
        },
        "id": "0bmxxhGxWiKu",
        "outputId": "be1a8c06-9ded-4ae0-a05d-98449e01ad3e"
      },
      "execution_count": null,
      "outputs": [
        {
          "output_type": "execute_result",
          "data": {
            "text/plain": [
              "<list_iterator at 0x7c720e646290>"
            ]
          },
          "metadata": {},
          "execution_count": 18
        }
      ]
    },
    {
      "cell_type": "code",
      "source": [
        "soup_children_list = list(soup.children)"
      ],
      "metadata": {
        "id": "cblxwF_bWm17"
      },
      "execution_count": null,
      "outputs": []
    },
    {
      "cell_type": "code",
      "source": [
        "soup_children_list"
      ],
      "metadata": {
        "colab": {
          "base_uri": "https://localhost:8080/"
        },
        "id": "Uuwu07pOWvKM",
        "outputId": "de3eddc3-702f-4166-f8b2-ea2b5bf036b6"
      },
      "execution_count": null,
      "outputs": [
        {
          "output_type": "execute_result",
          "data": {
            "text/plain": [
              "['html',\n",
              " '\\n',\n",
              " <html>\n",
              " <head>\n",
              " <title>\n",
              "    스크래핑 연습\n",
              "   </title>\n",
              " <meta charset=\"utf-8\"/>\n",
              " </head>\n",
              " <body>\n",
              " <p align=\"center\">\n",
              "    연습용 html 문서입니다.\n",
              "   </p>\n",
              " <p align=\"left\">\n",
              " <br/>\n",
              "    파이썬을 배우고 있습니다.\n",
              "    <br/>\n",
              "    응원 바랍니다.\n",
              "   </p>\n",
              " <p align=\"center\">\n",
              "    DOCTYPE HTML\n",
              "   </p>\n",
              " <a class=\"naver\" href=\"https://www.naver.com/\" id=\"meal\">\n",
              "    네이버\n",
              "   </a>\n",
              " <a class=\"google\" href=\"http://www.google.com/\" id=\"link\">\n",
              "    구글\n",
              "   </a>\n",
              " </body>\n",
              " </html>,\n",
              " '\\n']"
            ]
          },
          "metadata": {},
          "execution_count": 20
        }
      ]
    },
    {
      "cell_type": "code",
      "source": [
        "type(soup.body)"
      ],
      "metadata": {
        "colab": {
          "base_uri": "https://localhost:8080/"
        },
        "id": "OEfLWcobWwo8",
        "outputId": "ba121802-cc7a-470a-aa16-d38a4f290bd0"
      },
      "execution_count": null,
      "outputs": [
        {
          "output_type": "execute_result",
          "data": {
            "text/plain": [
              "bs4.element.Tag"
            ]
          },
          "metadata": {},
          "execution_count": 24
        }
      ]
    },
    {
      "cell_type": "code",
      "source": [
        "soup.body"
      ],
      "metadata": {
        "colab": {
          "base_uri": "https://localhost:8080/"
        },
        "id": "PoV-ESjgXjtr",
        "outputId": "f448241c-628f-4572-f9c8-23e1920fbbfe"
      },
      "execution_count": null,
      "outputs": [
        {
          "output_type": "execute_result",
          "data": {
            "text/plain": [
              "<body>\n",
              "<p align=\"center\">\n",
              "   연습용 html 문서입니다.\n",
              "  </p>\n",
              "<p align=\"left\">\n",
              "<br/>\n",
              "   파이썬을 배우고 있습니다.\n",
              "   <br/>\n",
              "   응원 바랍니다.\n",
              "  </p>\n",
              "<p align=\"center\">\n",
              "   DOCTYPE HTML\n",
              "  </p>\n",
              "<a class=\"naver\" href=\"https://www.naver.com/\" id=\"meal\">\n",
              "   네이버\n",
              "  </a>\n",
              "<a class=\"google\" href=\"http://www.google.com/\" id=\"link\">\n",
              "   구글\n",
              "  </a>\n",
              "</body>"
            ]
          },
          "metadata": {},
          "execution_count": 27
        }
      ]
    },
    {
      "cell_type": "code",
      "source": [
        "list(soup.body.children)"
      ],
      "metadata": {
        "colab": {
          "base_uri": "https://localhost:8080/"
        },
        "id": "AtQDZ5htXFrv",
        "outputId": "c37cf546-0ccb-44d4-9068-2c3cdc2eb7d0"
      },
      "execution_count": null,
      "outputs": [
        {
          "output_type": "execute_result",
          "data": {
            "text/plain": [
              "['\\n',\n",
              " <p align=\"center\">\n",
              "    연습용 html 문서입니다.\n",
              "   </p>,\n",
              " '\\n',\n",
              " <p align=\"left\">\n",
              " <br/>\n",
              "    파이썬을 배우고 있습니다.\n",
              "    <br/>\n",
              "    응원 바랍니다.\n",
              "   </p>,\n",
              " '\\n',\n",
              " <p align=\"center\">\n",
              "    DOCTYPE HTML\n",
              "   </p>,\n",
              " '\\n',\n",
              " <a class=\"naver\" href=\"https://www.naver.com/\" id=\"meal\">\n",
              "    네이버\n",
              "   </a>,\n",
              " '\\n',\n",
              " <a class=\"google\" href=\"http://www.google.com/\" id=\"link\">\n",
              "    구글\n",
              "   </a>,\n",
              " '\\n']"
            ]
          },
          "metadata": {},
          "execution_count": 26
        }
      ]
    },
    {
      "cell_type": "code",
      "source": [
        "soup.head"
      ],
      "metadata": {
        "colab": {
          "base_uri": "https://localhost:8080/"
        },
        "id": "k9NhMXkHXfcC",
        "outputId": "b653194b-1b5b-4dc2-fa21-856fcd751c49"
      },
      "execution_count": null,
      "outputs": [
        {
          "output_type": "execute_result",
          "data": {
            "text/plain": [
              "<head>\n",
              "<title>\n",
              "   스크래핑 연습\n",
              "  </title>\n",
              "<meta charset=\"utf-8\"/>\n",
              "</head>"
            ]
          },
          "metadata": {},
          "execution_count": 29
        }
      ]
    },
    {
      "cell_type": "code",
      "source": [
        "soup.head.next_sibling"
      ],
      "metadata": {
        "colab": {
          "base_uri": "https://localhost:8080/",
          "height": 36
        },
        "id": "gxSmn4neYDa4",
        "outputId": "6b4c43e9-77f3-4271-c9a0-b7f1146565e2"
      },
      "execution_count": null,
      "outputs": [
        {
          "output_type": "execute_result",
          "data": {
            "text/plain": [
              "'\\n'"
            ],
            "application/vnd.google.colaboratory.intrinsic+json": {
              "type": "string"
            }
          },
          "metadata": {},
          "execution_count": 30
        }
      ]
    },
    {
      "cell_type": "code",
      "source": [
        "soup.head.next_sibling.next_sibling"
      ],
      "metadata": {
        "colab": {
          "base_uri": "https://localhost:8080/"
        },
        "id": "tWowKKqwYSp8",
        "outputId": "3bdc39cd-2a28-4e1a-a7bd-763ef7cb428e"
      },
      "execution_count": null,
      "outputs": [
        {
          "output_type": "execute_result",
          "data": {
            "text/plain": [
              "<body>\n",
              "<p align=\"center\">\n",
              "   연습용 html 문서입니다.\n",
              "  </p>\n",
              "<p align=\"left\">\n",
              "<br/>\n",
              "   파이썬을 배우고 있습니다.\n",
              "   <br/>\n",
              "   응원 바랍니다.\n",
              "  </p>\n",
              "<p align=\"center\">\n",
              "   DOCTYPE HTML\n",
              "  </p>\n",
              "<a class=\"naver\" href=\"https://www.naver.com/\" id=\"meal\">\n",
              "   네이버\n",
              "  </a>\n",
              "<a class=\"google\" href=\"http://www.google.com/\" id=\"link\">\n",
              "   구글\n",
              "  </a>\n",
              "</body>"
            ]
          },
          "metadata": {},
          "execution_count": 32
        }
      ]
    },
    {
      "cell_type": "code",
      "source": [
        "list(soup.children)"
      ],
      "metadata": {
        "colab": {
          "base_uri": "https://localhost:8080/"
        },
        "id": "f0bFOgOrYXV3",
        "outputId": "6af54a81-98a0-49c5-b53f-78cf1f02b7f7"
      },
      "execution_count": null,
      "outputs": [
        {
          "output_type": "execute_result",
          "data": {
            "text/plain": [
              "['html',\n",
              " '\\n',\n",
              " <html>\n",
              " <head>\n",
              " <title>\n",
              "    스크래핑 연습\n",
              "   </title>\n",
              " <meta charset=\"utf-8\"/>\n",
              " </head>\n",
              " <body>\n",
              " <p align=\"center\">\n",
              "    연습용 html 문서입니다.\n",
              "   </p>\n",
              " <p align=\"left\">\n",
              " <br/>\n",
              "    파이썬을 배우고 있습니다.\n",
              "    <br/>\n",
              "    응원 바랍니다.\n",
              "   </p>\n",
              " <p align=\"center\">\n",
              "    DOCTYPE HTML\n",
              "   </p>\n",
              " <a class=\"naver\" href=\"https://www.naver.com/\" id=\"meal\">\n",
              "    네이버\n",
              "   </a>\n",
              " <a class=\"google\" href=\"http://www.google.com/\" id=\"link\">\n",
              "    구글\n",
              "   </a>\n",
              " </body>\n",
              " </html>,\n",
              " '\\n']"
            ]
          },
          "metadata": {},
          "execution_count": 34
        }
      ]
    },
    {
      "cell_type": "code",
      "source": [
        "soup.find_all('p')"
      ],
      "metadata": {
        "colab": {
          "base_uri": "https://localhost:8080/"
        },
        "id": "WhW9Ol3dYfGR",
        "outputId": "c8dc57ac-af77-482a-c894-e40a54100980"
      },
      "execution_count": null,
      "outputs": [
        {
          "output_type": "execute_result",
          "data": {
            "text/plain": [
              "[<p align=\"center\">\n",
              "    연습용 html 문서입니다.\n",
              "   </p>,\n",
              " <p align=\"left\">\n",
              " <br/>\n",
              "    파이썬을 배우고 있습니다.\n",
              "    <br/>\n",
              "    응원 바랍니다.\n",
              "   </p>,\n",
              " <p align=\"center\">\n",
              "    DOCTYPE HTML\n",
              "   </p>]"
            ]
          },
          "metadata": {},
          "execution_count": 35
        }
      ]
    },
    {
      "cell_type": "code",
      "source": [
        "for i in soup.find_all('p'):\n",
        "    print(i.text)"
      ],
      "metadata": {
        "colab": {
          "base_uri": "https://localhost:8080/"
        },
        "id": "bAkAACTiZBxp",
        "outputId": "527ed8d8-d05c-4a63-e5ca-390867a75d79"
      },
      "execution_count": null,
      "outputs": [
        {
          "output_type": "stream",
          "name": "stdout",
          "text": [
            "\n",
            "   연습용 html 문서입니다.\n",
            "  \n",
            "\n",
            "\n",
            "   파이썬을 배우고 있습니다.\n",
            "   \n",
            "   응원 바랍니다.\n",
            "  \n",
            "\n",
            "   DOCTYPE HTML\n",
            "  \n"
          ]
        }
      ]
    },
    {
      "cell_type": "code",
      "source": [
        "type(i)"
      ],
      "metadata": {
        "colab": {
          "base_uri": "https://localhost:8080/"
        },
        "id": "0G2G64lZbvhz",
        "outputId": "14827aea-d0c2-4b7c-aef0-894847ab1f03"
      },
      "execution_count": null,
      "outputs": [
        {
          "output_type": "execute_result",
          "data": {
            "text/plain": [
              "bs4.element.Tag"
            ]
          },
          "metadata": {},
          "execution_count": 46
        }
      ]
    },
    {
      "cell_type": "code",
      "source": [
        "i.text"
      ],
      "metadata": {
        "colab": {
          "base_uri": "https://localhost:8080/",
          "height": 36
        },
        "id": "SPRkPTpyZP1o",
        "outputId": "3f5bfcfc-2ef2-4136-bb93-7905533077c3"
      },
      "execution_count": null,
      "outputs": [
        {
          "output_type": "execute_result",
          "data": {
            "text/plain": [
              "'\\n   DOCTYPE HTML\\n  '"
            ],
            "application/vnd.google.colaboratory.intrinsic+json": {
              "type": "string"
            }
          },
          "metadata": {},
          "execution_count": 40
        }
      ]
    },
    {
      "cell_type": "code",
      "source": [
        "news = 'https://news.daum.net/'"
      ],
      "metadata": {
        "id": "958eGTBuZbmd"
      },
      "execution_count": null,
      "outputs": []
    },
    {
      "cell_type": "code",
      "source": [
        "soup = bs(urlopen(news).read(), 'html.parser')"
      ],
      "metadata": {
        "id": "_XIUOUYXaVIO"
      },
      "execution_count": null,
      "outputs": []
    },
    {
      "cell_type": "code",
      "source": [
        "soup"
      ],
      "metadata": {
        "id": "26Pbn-gWadGy"
      },
      "execution_count": null,
      "outputs": []
    },
    {
      "cell_type": "code",
      "source": [
        "soup.find_all('div', {'class':'item_issue'})"
      ],
      "metadata": {
        "id": "b7rDP8ufarLZ"
      },
      "execution_count": null,
      "outputs": []
    },
    {
      "cell_type": "code",
      "source": [
        "for i in soup.find_all('div', {'class':'item_issue'}):\n",
        "    print(i.text)"
      ],
      "metadata": {
        "colab": {
          "base_uri": "https://localhost:8080/"
        },
        "id": "Z5Jm6FJgbUow",
        "outputId": "7d21be2e-8c06-402c-8a34-cf5fb6fd4e08"
      },
      "execution_count": null,
      "outputs": [
        {
          "output_type": "stream",
          "name": "stdout",
          "text": [
            "\n",
            "\n",
            "\n",
            "\n",
            "\n",
            "\n",
            "\n",
            "\n",
            "\n",
            "국제\n",
            "\n",
            "\n",
            "\n",
            "                                    할리우드 작가 파업 3개월 만에 협상…일단 합의는 ‘불발’\n",
            "                                \n",
            "\n",
            "\n",
            "\n",
            "\n",
            "\n",
            "\n",
            "\n",
            "\n",
            "\n",
            "\n",
            "\n",
            "\n",
            "국제\n",
            "\n",
            "\n",
            "\n",
            "                                    두 IT 거물 26일에 ‘현피’? 저커버그 “그에게 제안” 머스크 “오늘이라도”\n",
            "                                \n",
            "\n",
            "\n",
            "\n",
            "\n",
            "\n",
            "\n",
            "\n",
            "\n",
            "\n",
            "\n",
            "\n",
            "\n",
            "사회\n",
            "\n",
            "\n",
            "\n",
            "                                    신냉전시대·챗GPT·엔데믹 등… 2024학년도 수시 면접·논술 대비 이슈는\n",
            "                                \n",
            "\n",
            "\n",
            "\n",
            "\n",
            "\n",
            "\n",
            "\n",
            "\n",
            "\n",
            "\n",
            "\n",
            "\n",
            "사회\n",
            "\n",
            "\n",
            "\n",
            "                                    \"재래식 화장실 공무원 동원해 청소하라니…취소시켰다\"\n",
            "                                \n",
            "\n",
            "\n",
            "\n",
            "\n",
            "\n",
            "\n",
            "\n",
            "\n",
            "\n",
            "\n",
            "\n",
            "\n",
            "경제\n",
            "\n",
            "\n",
            "\n",
            "                                    美 신용등급 하락 여파 지속..코스피, 2600선 아래로\n",
            "                                \n",
            "\n",
            "\n",
            "\n",
            "\n",
            "\n",
            "\n",
            "\n",
            "\n",
            "\n",
            "\n",
            "\n",
            "\n",
            "국제\n",
            "\n",
            "\n",
            "\n",
            "                                    中·러 군함 11척, 알래스카 인근까지 접근…“美영토 안전하지 않다는 경고”\n",
            "                                \n",
            "\n",
            "\n",
            "\n",
            "\n",
            "\n",
            "\n",
            "\n",
            "\n",
            "\n",
            "\n",
            "\n",
            "\n",
            "문화\n",
            "\n",
            "\n",
            "\n",
            "                                    다리에 울퉁불퉁한 혈관… 꽉 끼는 옷·하이힐 피해야 예방 도움\n",
            "                                \n",
            "\n",
            "\n",
            "\n",
            "\n",
            "\n",
            "\n",
            "\n",
            "\n",
            "\n",
            "\n",
            "\n",
            "\n",
            "사회\n",
            "\n",
            "\n",
            "\n",
            "                                    \"성범죄 피해로 잼버리 퇴영한 게 배신? 우리가 당했다\"\n",
            "                                \n",
            "\n",
            "\n",
            "\n",
            "\n",
            "\n",
            "\n",
            "\n",
            "\n",
            "\n",
            "\n",
            "\n",
            "\n",
            "IT\n",
            "\n",
            "\n",
            "\n",
            "                                    [젊은 두뇌가 뛴다]⑲ 난관 딛고  공학자 꿈 이룬 소년 “다시 사람 돕는 이로운 AI 꿈꾸다”\n",
            "                                \n",
            "\n",
            "\n",
            "\n",
            "\n",
            "\n",
            "\n",
            "\n",
            "\n",
            "\n",
            "\n",
            "\n",
            "\n",
            "경제\n",
            "\n",
            "\n",
            "\n",
            "                                    제주도, 자차로 여름휴가 간다면...“기름은 채우고 떠나요”\n",
            "                                \n",
            "\n",
            "\n",
            "\n",
            "\n",
            "\n",
            "\n",
            "\n",
            "\n",
            "\n",
            "\n",
            "\n",
            "\n",
            "사회\n",
            "\n",
            "\n",
            "\n",
            "                                    한낮 37도 폭염 계속…강원영동 최대 200㎜ '물폭탄' [내일날씨]\n",
            "                                \n",
            "\n",
            "\n",
            "\n",
            "\n",
            "\n",
            "\n",
            "\n",
            "\n",
            "\n",
            "\n",
            "\n",
            "\n",
            "사회\n",
            "\n",
            "\n",
            "\n",
            "                                    학부모 \"잼버리 병원은 전쟁터…입원한 딸 바닥에 야전침대, 타이레놀만\"\n",
            "                                \n",
            "\n",
            "\n",
            "\n",
            "\n",
            "\n",
            "\n",
            "\n",
            "\n",
            "\n",
            "\n",
            "\n",
            "\n",
            "사회\n",
            "\n",
            "\n",
            "\n",
            "                                    [잇슈 키워드] “에어컨이요? 이불 있어야 해요”…열대야 없는 캠핑족 피서지\n",
            "                                \n",
            "\n",
            "\n",
            "\n",
            "\n",
            "\n",
            "\n",
            "\n",
            "\n",
            "\n",
            "\n",
            "\n",
            "\n",
            "사회\n",
            "\n",
            "\n",
            "\n",
            "                                    치킨집에 두고 간 ‘사용한 기저귀’…“당연한 일이 돼 버렸다” [잇슈 키워드]\n",
            "                                \n",
            "\n",
            "\n",
            "\n",
            "\n",
            "\n",
            "\n",
            "\n",
            "\n",
            "\n",
            "\n",
            "\n",
            "\n",
            "사회\n",
            "\n",
            "\n",
            "\n",
            "                                    '철근 누락' LH, 2년간 '전관' 취업길 막힌 건 1번뿐\n",
            "                                \n",
            "\n",
            "\n",
            "\n",
            "\n",
            "\n",
            "\n",
            "\n",
            "\n",
            "\n",
            "\n",
            "\n",
            "\n",
            "사회\n",
            "\n",
            "\n",
            "\n",
            "                                    [시민 품에 안길 광주 중앙공원] ①'풍암호수' 가치 더 커졌다\n",
            "                                \n",
            "\n",
            "\n",
            "\n",
            "\n",
            "\n",
            "\n",
            "\n",
            "\n",
            "\n",
            "\n",
            "\n",
            "\n",
            "경제\n",
            "\n",
            "\n",
            "\n",
            "                                    한전, ‘우후죽순’ 데이터센터 전력공급실태 감사 돌입…‘전기 알박기’ 겨냥\n",
            "                                \n",
            "\n",
            "\n",
            "\n",
            "\n",
            "\n",
            "\n",
            "\n",
            "\n",
            "\n",
            "\n",
            "\n",
            "\n",
            "사회\n",
            "\n",
            "\n",
            "\n",
            "                                    [내일날씨] '가을 문턱' 입추에도 여전한 무더위…광주 37도\n",
            "                                \n",
            "\n",
            "\n",
            "\n",
            "\n",
            "\n",
            "\n",
            "\n",
            "\n",
            "\n",
            "\n",
            "\n",
            "\n",
            "문화\n",
            "\n",
            "\n",
            "\n",
            "                                    \"흉선 절제, 사망 위험↑\"\n",
            "                                \n",
            "\n",
            "\n",
            "\n",
            "\n",
            "\n",
            "\n",
            "\n",
            "\n",
            "\n",
            "\n",
            "\n",
            "\n",
            "경제\n",
            "\n",
            "\n",
            "\n",
            "                                    고공행진하는 식품 물가… IMF “곡물값 최대 15% 상승”\n",
            "                                \n",
            "\n",
            "\n",
            "\n"
          ]
        }
      ]
    },
    {
      "cell_type": "code",
      "source": [
        "soup.find_all('a')[:5]"
      ],
      "metadata": {
        "colab": {
          "base_uri": "https://localhost:8080/"
        },
        "id": "qGZWl13mb24b",
        "outputId": "4ec00ea3-ab1c-43d4-d5b6-2d82ead5c68e"
      },
      "execution_count": null,
      "outputs": [
        {
          "output_type": "execute_result",
          "data": {
            "text/plain": [
              "[<a href=\"#mainContent\">본문 바로가기</a>,\n",
              " <a href=\"#gnbContent\">메뉴 바로가기</a>,\n",
              " <a class=\"link_daum\" data-tiara-layer=\"gnb default logo\" href=\"https://www.daum.net/\">\n",
              " <img alt=\"Daum\" class=\"logo_daum\" height=\"18\" src=\"//t1.daumcdn.net/media/common/newsview_2021/pc/rtn/logo_daum.png\" width=\"44\"/>\n",
              " </a>,\n",
              " <a data-tiara-layer=\"GNB service news\" href=\"https://news.daum.net/\" id=\"kakaoServiceLogo\">\n",
              " <span class=\"ir_wa\">뉴스</span>\n",
              " </a>,\n",
              " <a class=\"link_services\" data-tiara-layer=\"enter\" href=\"https://entertain.daum.net\">연예</a>]"
            ]
          },
          "metadata": {},
          "execution_count": 49
        }
      ]
    },
    {
      "cell_type": "code",
      "source": [
        "for i in soup.find_all('a')[:5]:\n",
        "   print(i.get('href'))"
      ],
      "metadata": {
        "colab": {
          "base_uri": "https://localhost:8080/"
        },
        "id": "Iyur95GfcsGQ",
        "outputId": "ffe07073-00ee-435d-d101-9589d88d7c87"
      },
      "execution_count": null,
      "outputs": [
        {
          "output_type": "stream",
          "name": "stdout",
          "text": [
            "#mainContent\n",
            "#gnbContent\n",
            "https://www.daum.net/\n",
            "https://news.daum.net/\n",
            "https://entertain.daum.net\n"
          ]
        }
      ]
    },
    {
      "cell_type": "code",
      "source": [
        "soup = bs(urlopen(news).read(), 'html.parser')"
      ],
      "metadata": {
        "id": "zyrTieqUetxU"
      },
      "execution_count": null,
      "outputs": []
    },
    {
      "cell_type": "code",
      "source": [
        "for i in soup.find_all('div', {'class':'item_issue'}):\n",
        "    print(i.find_all('a')[0].get('href'))"
      ],
      "metadata": {
        "colab": {
          "base_uri": "https://localhost:8080/"
        },
        "id": "3GbCdH8IdidW",
        "outputId": "e06ef53d-19af-4de9-a2b0-9993acd1e785"
      },
      "execution_count": null,
      "outputs": [
        {
          "output_type": "stream",
          "name": "stdout",
          "text": [
            "https://v.daum.net/v/20230807094534199\n",
            "https://v.daum.net/v/20230807094918317\n",
            "https://v.daum.net/v/20230807094638234\n",
            "https://v.daum.net/v/20230807094036019\n",
            "https://v.daum.net/v/20230807090520734\n",
            "https://v.daum.net/v/20230807094500170\n",
            "https://v.daum.net/v/20230807051003298\n",
            "https://v.daum.net/v/20230807094402139\n",
            "https://v.daum.net/v/20230807060529935\n",
            "https://v.daum.net/v/20230807052153394\n",
            "https://v.daum.net/v/20230807094014004\n",
            "https://v.daum.net/v/20230807094202080\n",
            "https://v.daum.net/v/20230807064609324\n",
            "https://v.daum.net/v/20230807093537812\n",
            "https://v.daum.net/v/20230807093454782\n",
            "https://v.daum.net/v/20230807091901194\n",
            "https://v.daum.net/v/20230807093010620\n",
            "https://v.daum.net/v/20230807092916579\n",
            "https://v.daum.net/v/20230807091224957\n",
            "https://v.daum.net/v/20230807092705509\n"
          ]
        }
      ]
    },
    {
      "cell_type": "code",
      "source": [
        "article1 = 'https://go.seoul.co.kr/news/newsView.php?id=20200427004004&wlog_tag3=daum'"
      ],
      "metadata": {
        "id": "uN6EDdYJegwX"
      },
      "execution_count": null,
      "outputs": []
    },
    {
      "cell_type": "code",
      "source": [
        "soup2 = bs(urlopen(article1).read(), 'html.parser')"
      ],
      "metadata": {
        "colab": {
          "base_uri": "https://localhost:8080/"
        },
        "id": "fCR2uAdWgIPx",
        "outputId": "5c8ab7f1-bf95-4d63-c41c-5638c5d5ec2d"
      },
      "execution_count": null,
      "outputs": [
        {
          "output_type": "stream",
          "name": "stderr",
          "text": [
            "WARNING:bs4.dammit:Some characters could not be decoded, and were replaced with REPLACEMENT CHARACTER.\n"
          ]
        }
      ]
    },
    {
      "cell_type": "code",
      "source": [
        "for i in soup2.find_all('p'):\n",
        "    print(i.text)"
      ],
      "metadata": {
        "colab": {
          "base_uri": "https://localhost:8080/"
        },
        "id": "_JBt1MMujPk4",
        "outputId": "cd7c6476-7f6c-46a4-a1b5-55248ac79c4f"
      },
      "execution_count": null,
      "outputs": [
        {
          "output_type": "stream",
          "name": "stdout",
          "text": [
            "\n",
            "\n",
            "\n",
            "\n",
            "\n",
            "\n",
            "\n",
            "\n",
            "\n",
            "\n",
            "\n",
            "\n",
            "\n",
            "오늘 여야 예결특위서 2차 추경 심사…전 국민 지원 확대로 4조 6000억 증액\n",
            "\n",
            "여야가 27일부터 국회 상임위원회와 예산결산특별위원회를 열고 코로나19 대응 긴급재난지원금 지급을 위한 2차 추가경정예산(추경)안 심사에 들어가기로 했다. 또 전 국민에게 재난지원금을 지급하기 위해 추가로 필요한 재원 가운데 지방정부가 부담할 예정이었던 1조원을 세출 조정을 통해 조달키로 했다. 더불어민주당 이인영, 미래통합당 심재철 원내대표는 26일 국회에서 이 같은 입장을 밝혔다.이 원내대표는 “심 원내대표가 ‘지방정부가 당초 부담하기로 했던 1조원 규모라도 세출 조정을 통해 마련하면 어떻겠느냐’고 요청했다”면서 “긴급하게 기획재정부 담당자를 불러 그게 가능한지를 상의했고 최종적으로 가능하게 하기로 정리했다”고 말했다. 이어 야당이 요구하는 자발적 기부금과 관련한 특별법에 대해 “27일쯤 의원 발의를 하는 절차를 밟을 예정”이라고 밝혔다. 심 원내대표도 “통합당은 내일부터 상임위와 예결위에서 추경안을 심의하겠다”고 말했다.여야 합의에 따라 2차 추경안은 국회 제출 10일 만에 본격적인 처리 절차에 들어가게 됐다. 민주당과 통합당 모두 전 국민 지급을 전제로 하고 있다는 점에서 소득 하위 70% 지급을 전제로 편성된 추경안의 소요 재원은 기존 9조 7000억원에서 14조 3000억원으로 늘어날 전망이다. 여야는 증액분 4조 6000억원 가운데 3조 6000억원은 국채 발행을 통해 조달하고 애초 지방정부 부담이었던 1조원은 올해 예산을 조정키로 했다.이 원내대표는 세출 조정 대상과 관련, “불요불급한 것이나 늦춰서 할 수 있는 것이 있는지 살펴봐야 한다”면서 “통합당의 세출 조정안이 타당하면 수용할 수 있다”고 설명했다. 세출 조정을 통한 충당에 대해선 기재부도 긍정적인 반응을 낸 것으로 알려졌다. 다만 2차 추경안을 마련하면서 이미 7조 1000억원을 기존 예산에서 쥐어짜다시피 해 충당했기 때문에 각 부처를 설득하는 데 큰 고통이 따를 전망이다.한편 청와대는 자금난에 몰린 기간산업을 지원하고 이들의 이익을 공유한다는 원칙을 재확인했다. 청와대 고위관계자는 이익 공유 방법을 두고 “주식과 연계된 증권 등을 취득하는 방식을 고민하고 있다”고 언급했다. 다만 이 관계자는 이 같은 조치가 기업 경영에 개입하는 것은 아니라고 선을 그었다.\n",
            "\n",
            "\n",
            "\n",
            "\n",
            "\n",
            "\n",
            "서울 신형철 기자 hsdori@seoul.co.kr서울 이재연 기자 oscal@seoul.co.kr세종 임주형 기자 hermes@seoul.co.kr\r\n",
            "\r\n",
            "2020-04-27 4면\n",
            "\n",
            "\n",
            "\n",
            "\n",
            "\n",
            "\n",
            "\n",
            "이경숙 서울시의원, ‘창4동 주공19단지 \n",
            "이새날 서울시의원, ‘서울학생필하모닉오케스\n",
            "허훈 서울시의원, ‘2023 지방의정대상’\n",
            "염종현 경기도의회 의장, 몽골 다르항올도의\n",
            "\n",
            "\n",
            "\n",
            "‘지자체 일자리 대상’ 2년 연속 수상\n",
            "박준희 관악구청장\n",
            "\n",
            "중구 모기 확산 막는다… 주민자율방역단 발대\n",
            "김길성 중구청장\n",
            "\n",
            "“연신내 GTX·불광 혁신파크 쌍거점 개발… 은평은\n",
            "김미경 은평구청장\n",
            "\n",
            "동대문 고충민원 처리 해결사 뜬다\n",
            "김순도·장경욱씨 옴부즈만 위촉\n",
            "\n",
            "자료 제공 : 정책브리핑 korea.kr\n",
            "\n",
            "자료 제공 : 정책브리핑 korea.kr\n",
            "\n",
            "\n",
            "광화문 사옥: 서울시 중구 세종대로 124 (태평로1가 25) , 강남 사옥: 서울시 서초구 양재대로2길 22-16 (우면동 782)  l  대표전화 : (02) 2000-9000\n",
            "인터넷서울신문에 게재된 콘텐츠의 무단 전재/복사/배포 행위는 저작권법에 저촉되며 위반 시 법적 제재를 받을 수 있습니다.\n",
            "Copyright  © 서울신문사 All rights reserved.\n"
          ]
        }
      ]
    },
    {
      "cell_type": "code",
      "source": [
        "headline = soup.find_all('div', {'class':'item_issue'})"
      ],
      "metadata": {
        "id": "RxiUHdzCjXuA"
      },
      "execution_count": null,
      "outputs": []
    },
    {
      "cell_type": "code",
      "source": [
        "headline[0]"
      ],
      "metadata": {
        "colab": {
          "base_uri": "https://localhost:8080/"
        },
        "id": "3P4nyxrTkTdM",
        "outputId": "9184afb5-887f-4cd5-b253-89298966f1ef"
      },
      "execution_count": null,
      "outputs": [
        {
          "output_type": "execute_result",
          "data": {
            "text/plain": [
              "<div class=\"item_issue\" data-tiara-layer=\"headline1\">\n",
              "<a class=\"wrap_thumb\" data-tiara-custom=\"contentUniqueKey=hamny-20230807094534199&amp;clusterId=5590543,5139529,5650267,5710467,1691215,5599922&amp;clusterTitle=[언론사픽] 주요뉴스,[랭크업] 유레이더 1 OR 2 추가점수,[유통제외] 관심사탭,[유통제외] 직장인탭,부산광역시 사상구,[품질검수] 뉴스 필터링&amp;keywordType=NONE,NONE,NONE,NONE,NONE,NONE\" data-tiara-id=\"20230807094534199\" data-tiara-layer=\"article_main\" data-tiara-ordnum=\"1\" data-tiara-type=\"harmony\" href=\"https://v.daum.net/v/20230807094534199\">\n",
              "<img &quot;혁명의=\"\" alt=\"\" class=\"thumb_g\" src=\"https://img1.daumcdn.net/thumb/S96x60ht.u/?fname=https%3A%2F%2Ft1.daumcdn.net%2Fnews%2F202308%2F07%2FNEWS1%2F20230807094534859pglx.jpg&amp;scode=media\" 동향=\"\" 사상&quot;…북한,=\"\" 사상전=\"\" 심화=\"\" 연료는=\"\" 지속\"=\"\"/>\n",
              "</a>\n",
              "<div class=\"cont_thumb\">\n",
              "<span class=\"info_thumb\">\n",
              "<span class=\"logo_cp\">\n",
              "<img alt=\"뉴스1\" class=\"thumb_g\" onerror=\"this.style.display='none';\" src=\"https://t1.daumcdn.net/media/news/news2016/cp/cp_news1.gif\"/>\n",
              "</span>\n",
              "<span class=\"txt_category\">정치</span>\n",
              "</span>\n",
              "<strong class=\"tit_g\">\n",
              "<a class=\"link_txt\" data-tiara-custom=\"contentUniqueKey=hamny-20230807094534199&amp;clusterId=5590543,5139529,5650267,5710467,1691215,5599922&amp;clusterTitle=[언론사픽] 주요뉴스,[랭크업] 유레이더 1 OR 2 추가점수,[유통제외] 관심사탭,[유통제외] 직장인탭,부산광역시 사상구,[품질검수] 뉴스 필터링&amp;keywordType=NONE,NONE,NONE,NONE,NONE,NONE\" data-tiara-id=\"20230807094534199\" data-tiara-layer=\"article_main\" data-tiara-ordnum=\"1\" data-tiara-type=\"harmony\" href=\"https://v.daum.net/v/20230807094534199\">\n",
              "                                    \"혁명의 연료는 사상\"…북한, 사상전 심화 동향 지속\n",
              "                                </a>\n",
              "</strong>\n",
              "</div>\n",
              "</div>"
            ]
          },
          "metadata": {},
          "execution_count": 62
        }
      ]
    },
    {
      "cell_type": "code",
      "source": [
        "print(headline[0].text)"
      ],
      "metadata": {
        "colab": {
          "base_uri": "https://localhost:8080/"
        },
        "id": "kTkE88pukVGt",
        "outputId": "50255513-bf90-4b0d-addc-3217291afbd5"
      },
      "execution_count": null,
      "outputs": [
        {
          "output_type": "stream",
          "name": "stdout",
          "text": [
            "\n",
            "\n",
            "\n",
            "\n",
            "\n",
            "\n",
            "\n",
            "\n",
            "\n",
            "정치\n",
            "\n",
            "\n",
            "\n",
            "                                    \"혁명의 연료는 사상\"…북한, 사상전 심화 동향 지속\n",
            "                                \n",
            "\n",
            "\n",
            "\n"
          ]
        }
      ]
    },
    {
      "cell_type": "code",
      "source": [
        "for i in headline:\n",
        "    print(i.text)"
      ],
      "metadata": {
        "colab": {
          "base_uri": "https://localhost:8080/"
        },
        "id": "bZGFM0Zokfg8",
        "outputId": "e88211c6-760e-4ea8-8694-653f8532707a"
      },
      "execution_count": null,
      "outputs": [
        {
          "output_type": "stream",
          "name": "stdout",
          "text": [
            "\n",
            "\n",
            "\n",
            "\n",
            "\n",
            "\n",
            "\n",
            "\n",
            "\n",
            "정치\n",
            "\n",
            "\n",
            "\n",
            "                                    \"혁명의 연료는 사상\"…북한, 사상전 심화 동향 지속\n",
            "                                \n",
            "\n",
            "\n",
            "\n",
            "\n",
            "\n",
            "\n",
            "\n",
            "\n",
            "\n",
            "\n",
            "\n",
            "\n",
            "정치\n",
            "\n",
            "\n",
            "\n",
            "                                    북한, 태풍경보 발령…\"위험 제때 찾아 사전대책 세워야\"\n",
            "                                \n",
            "\n",
            "\n",
            "\n",
            "\n",
            "\n",
            "\n",
            "\n",
            "\n",
            "\n",
            "\n",
            "\n",
            "\n",
            "경제\n",
            "\n",
            "\n",
            "\n",
            "                                    '고금리 지속' 전망에 미 국채 10년물 14년새 최고치 근접\n",
            "                                \n",
            "\n",
            "\n",
            "\n",
            "\n",
            "\n",
            "\n",
            "\n",
            "\n",
            "\n",
            "\n",
            "\n",
            "\n",
            "문화\n",
            "\n",
            "\n",
            "\n",
            "                                    [사이테크+] \"현재와 비슷한 기후 12만년전 간빙기…북극해 얼음 다 녹았다\"\n",
            "                                \n",
            "\n",
            "\n",
            "\n",
            "\n",
            "\n",
            "\n",
            "\n",
            "\n",
            "\n",
            "\n",
            "\n",
            "\n",
            "IT\n",
            "\n",
            "\n",
            "\n",
            "                                    제임스웹이 본 고리성운…‘태양의 먼 미래’ 예고편\n",
            "                                \n",
            "\n",
            "\n",
            "\n",
            "\n",
            "\n",
            "\n",
            "\n",
            "\n",
            "\n",
            "\n",
            "\n",
            "\n",
            "정치\n",
            "\n",
            "\n",
            "\n",
            "                                    김기현 “민주당 ‘돈봉투 명단’ 구체적으로 드러나…혁신은 이미 실패”\n",
            "                                \n",
            "\n",
            "\n",
            "\n",
            "\n",
            "\n",
            "\n",
            "\n",
            "\n",
            "\n",
            "\n",
            "\n",
            "\n",
            "사회\n",
            "\n",
            "\n",
            "\n",
            "                                    휴가 복귀 우르르, 에어컨 더 '펑펑'…오늘내일 전력수요 '최절정'\n",
            "                                \n",
            "\n",
            "\n",
            "\n",
            "\n",
            "\n",
            "\n",
            "\n",
            "\n",
            "\n",
            "\n",
            "\n",
            "\n",
            "국제\n",
            "\n",
            "\n",
            "\n",
            "                                    물대포 발사 ‘쾅쾅’ 중국 경비정, 필리핀 선박 위협…남중국해 긴장감 (영상)\n",
            "                                \n",
            "\n",
            "\n",
            "\n",
            "\n",
            "\n",
            "\n",
            "\n",
            "\n",
            "\n",
            "\n",
            "\n",
            "\n",
            "경제\n",
            "\n",
            "\n",
            "\n",
            "                                    한강변 스카이라인 탈바꿈…여의도 재건축 본격 시동\n",
            "                                \n",
            "\n",
            "\n",
            "\n",
            "\n",
            "\n",
            "\n",
            "\n",
            "\n",
            "\n",
            "\n",
            "\n",
            "\n",
            "정치\n",
            "\n",
            "\n",
            "\n",
            "                                    尹 “영국·미국 스카우트 꼼꼼히 챙겨야”\n",
            "                                \n",
            "\n",
            "\n",
            "\n",
            "\n",
            "\n",
            "\n",
            "\n",
            "\n",
            "\n",
            "\n",
            "\n",
            "\n",
            "문화\n",
            "\n",
            "\n",
            "\n",
            "                                    찜통더위에 오싹한 아이스크림 물가…7월 10% 넘게 뛰었다\n",
            "                                \n",
            "\n",
            "\n",
            "\n",
            "\n",
            "\n",
            "\n",
            "\n",
            "\n",
            "\n",
            "\n",
            "\n",
            "\n",
            "경제\n",
            "\n",
            "\n",
            "\n",
            "                                    ‘IPO 대어’ 파두, 코스닥 입성 첫날 17% 하락…공모가 하회\n",
            "                                \n",
            "\n",
            "\n",
            "\n",
            "\n",
            "\n",
            "\n",
            "\n",
            "\n",
            "\n",
            "\n",
            "\n",
            "\n",
            "국제\n",
            "\n",
            "\n",
            "\n",
            "                                    트럼프, 선거사기 재판도 정치쟁점화...\"판결 지연 전략\"\n",
            "                                \n",
            "\n",
            "\n",
            "\n",
            "\n",
            "\n",
            "\n",
            "\n",
            "\n",
            "\n",
            "\n",
            "\n",
            "\n",
            "정치\n",
            "\n",
            "\n",
            "\n",
            "                                    김기현 \"김은경, 혁신한다고 와서 망신 자초…국민 염장만\"\n",
            "                                \n",
            "\n",
            "\n",
            "\n",
            "\n",
            "\n",
            "\n",
            "\n",
            "\n",
            "\n",
            "\n",
            "\n",
            "\n",
            "경제\n",
            "\n",
            "\n",
            "\n",
            "                                    오는 14일은 '택배 없는 날'…편의점 반값 택배는 그대로 운영\n",
            "                                \n",
            "\n",
            "\n",
            "\n",
            "\n",
            "\n",
            "\n",
            "\n",
            "\n",
            "\n",
            "\n",
            "\n",
            "\n",
            "경제\n",
            "\n",
            "\n",
            "\n",
            "                                    코스닥 데뷔 파두, 상장 첫 날 17%대 약세\n",
            "                                \n",
            "\n",
            "\n",
            "\n",
            "\n",
            "\n",
            "\n",
            "\n",
            "\n",
            "\n",
            "\n",
            "\n",
            "\n",
            "경제\n",
            "\n",
            "\n",
            "\n",
            "                                    국제유가 다시 상승한다…정유사 S-Oil 주가도 올라간다\n",
            "                                \n",
            "\n",
            "\n",
            "\n",
            "\n",
            "\n",
            "\n",
            "\n",
            "\n",
            "\n",
            "\n",
            "\n",
            "\n",
            "사회\n",
            "\n",
            "\n",
            "\n",
            "                                    새만금 잼버리장 코로나19 확진자 131명으로 늘어\n",
            "                                \n",
            "\n",
            "\n",
            "\n",
            "\n",
            "\n",
            "\n",
            "\n",
            "\n",
            "\n",
            "\n",
            "\n",
            "\n",
            "국제\n",
            "\n",
            "\n",
            "\n",
            "                                    테슬라 주행거리 표시 과장, 집단 소송 직면\n",
            "                                \n",
            "\n",
            "\n",
            "\n",
            "\n",
            "\n",
            "\n",
            "\n",
            "\n",
            "\n",
            "\n",
            "\n",
            "\n",
            "정치\n",
            "\n",
            "\n",
            "\n",
            "                                    이광재 “총선? 한국정치 변화에 기여…인재 영입 역할 할 것”\n",
            "                                \n",
            "\n",
            "\n",
            "\n"
          ]
        }
      ]
    },
    {
      "cell_type": "code",
      "source": [],
      "metadata": {
        "id": "8W_eRAPDngnr"
      },
      "execution_count": null,
      "outputs": []
    },
    {
      "cell_type": "code",
      "source": [
        "soup3 = bs(urlopen(i.find_all('a')[0].get('href')).read(), 'html.parser')"
      ],
      "metadata": {
        "id": "0wsdXFo_k24j"
      },
      "execution_count": null,
      "outputs": []
    },
    {
      "cell_type": "code",
      "source": [
        "i.find_all('a')[0].get('href')"
      ],
      "metadata": {
        "colab": {
          "base_uri": "https://localhost:8080/",
          "height": 36
        },
        "id": "AP3VObSskmZ0",
        "outputId": "92b77b47-32d6-4879-f302-facdc1ba71f8"
      },
      "execution_count": null,
      "outputs": [
        {
          "output_type": "execute_result",
          "data": {
            "text/plain": [
              "'https://v.daum.net/v/20230807092705509'"
            ],
            "application/vnd.google.colaboratory.intrinsic+json": {
              "type": "string"
            }
          },
          "metadata": {},
          "execution_count": 69
        }
      ]
    },
    {
      "cell_type": "code",
      "source": [
        "for j in soup3.find_all('p'):\n",
        "    print(j.text)"
      ],
      "metadata": {
        "colab": {
          "base_uri": "https://localhost:8080/"
        },
        "id": "iSBXxHI6l7Gn",
        "outputId": "869d8989-9896-4742-e30d-34a765743ae7"
      },
      "execution_count": null,
      "outputs": [
        {
          "output_type": "stream",
          "name": "stdout",
          "text": [
            "이 글자크기로 변경됩니다.\n",
            "(예시) 가장 빠른 뉴스가 있고 다양한 정보, 쌍방향 소통이 숨쉬는 다음뉴스를 만나보세요. 다음뉴스는 국내외 주요이슈와 실시간 속보, 문화생활 및 다양한 분야의 뉴스를 입체적으로 전달하고 있습니다.\n",
            "\n",
            "이 사무총장은 이날 SBS 라디오 ‘김태현의 정치쇼’에서 “국회의원 한자리하는데 어느 지역구 선택하는 데에 너무 (집중)하는 것보다 (나은 것 같다고) 사무총장을 하면서 정말 많이 생각했다”며 이같이 말했다.\n",
            "그는 “분석해 보니까 우리 국회 본회의는 1년에 37회를 하는데, 미국 하원은 100회를 하고, 상임위도 우리는 350회 하는데, 미국은 1800회를 한다”고 언급하며 한국 정치가 변해야 한다고 주장했다.\n",
            "이 사무총장은 “한국 정치가 근본적인 변화를 꾀해야 미중 기술(패권)전쟁에서 살아남을 수 있다”며 “이제 새로운 길을 가야 한다. 과거 3김이 586세대를 대거 수혈해 젊은 피를 수혈했다”고 덧붙였다.\n",
            "이어 “이제는 새로운 신기술, 신경제, 친환경, 세계로 뻗어나가서 가장 살기 좋은 나라를 만드는 대량의 인재를 영입하는 데, 그분들을 돕는 데 역할을 하겠다”고 강조했다.\n",
            "이 사무총장은 ‘국민들이 여의도의 정치 역량이 떨어졌다고 본다’는 지적에 대해 “권력과 정치의 결별 상태”라며 “권력을 무언가 할 수 있는 힘이고, 정치는 국민을 위해 무엇을 할지 결정하는 힘인데, 지금 우리는 전부 권력만 추구하지 국민의 삶을 해결하는 부분은 취약하다”고 꼬집었다.\n",
            "그러면서 ‘부실 운영’ 논란에 휩싸인 2023 새만금 세계스카우트 잼버리 대회를 놓고 여야가 책임공방을 벌이는 것에 대해 “국민들에게 매를 벌고 있는 것”이라며 “지금이라도 단결해서 유종의 미를 거둘 수 있도록, 성공리에 마무리할 수 있도록 국가적 역량을 모아야 한다”고 당부했다.\n",
            "ⓒ 매일경제 & mk.co.kr, 무단전재 및 재배포 금지\n",
            " 이 뉴스에 대해 의견을 나눠보세요.  톡방 종료까지 00:00:00 남았습니다. \n"
          ]
        }
      ]
    },
    {
      "cell_type": "code",
      "source": [
        "import re"
      ],
      "metadata": {
        "id": "NGzyGv3Cng2E"
      },
      "execution_count": null,
      "outputs": []
    },
    {
      "cell_type": "code",
      "source": [
        "from urllib.request import urlopen, Request"
      ],
      "metadata": {
        "id": "cGccET-Gng2F"
      },
      "execution_count": null,
      "outputs": []
    },
    {
      "cell_type": "code",
      "source": [
        "from bs4 import BeautifulSoup as bs"
      ],
      "metadata": {
        "id": "YnqTP7SIng2F"
      },
      "execution_count": null,
      "outputs": []
    },
    {
      "cell_type": "code",
      "source": [],
      "metadata": {
        "id": "PnsNgWgxnn4k"
      },
      "execution_count": null,
      "outputs": []
    },
    {
      "cell_type": "code",
      "source": [
        "news = 'https://news.daum.net/'"
      ],
      "metadata": {
        "id": "-3gw4i0PnoLq"
      },
      "execution_count": null,
      "outputs": []
    },
    {
      "cell_type": "code",
      "source": [
        "soup = bs(urlopen(news).read(), 'html.parser')"
      ],
      "metadata": {
        "id": "DpyWqWd_noLq"
      },
      "execution_count": null,
      "outputs": []
    },
    {
      "cell_type": "code",
      "source": [
        "headline = soup.find_all('div', {'class':'item_issue'})"
      ],
      "metadata": {
        "id": "V9M88--yn3aI"
      },
      "execution_count": null,
      "outputs": []
    },
    {
      "cell_type": "code",
      "source": [
        "for i in headline:\n",
        "    print(i.text)\n",
        "    soup3 = bs(urlopen(i.find_all('a')[0].get('href')).read(),'html.parser')\n",
        "    for j in soup3.find_all('p'):\n",
        "        print(j.text)"
      ],
      "metadata": {
        "id": "b0W_eiAXmAvV"
      },
      "execution_count": null,
      "outputs": []
    },
    {
      "cell_type": "code",
      "source": [
        "for i in soup.find_all('div', {'class':'item_issue'}):\n",
        "    print(i.find_all('a')[0].get('href'))"
      ],
      "metadata": {
        "colab": {
          "base_uri": "https://localhost:8080/"
        },
        "id": "ZW7itolRoeM2",
        "outputId": "9c017af9-b995-429b-cc57-520506398bd4"
      },
      "execution_count": null,
      "outputs": [
        {
          "output_type": "stream",
          "name": "stdout",
          "text": [
            "https://v.daum.net/v/20230807094128062\n",
            "https://v.daum.net/v/20230807102840977\n",
            "https://v.daum.net/v/20230807070032498\n",
            "https://v.daum.net/v/20230807101410439\n",
            "https://v.daum.net/v/20230807095417518\n",
            "https://v.daum.net/v/20230807102448822\n",
            "https://v.daum.net/v/20230807100632134\n",
            "https://v.daum.net/v/20230807102222735\n",
            "https://v.daum.net/v/20230807060502929\n",
            "https://v.daum.net/v/20230807102016654\n",
            "https://v.daum.net/v/20230807102343771\n",
            "https://v.daum.net/v/20230807102147713\n",
            "https://v.daum.net/v/20230807101548502\n",
            "https://v.daum.net/v/20230807045829063\n",
            "https://v.daum.net/v/20230807095141407\n",
            "https://v.daum.net/v/20230807100830223\n",
            "https://v.daum.net/v/20230807100729189\n",
            "https://v.daum.net/v/20230807101546499\n",
            "https://v.daum.net/v/20230807101631523\n",
            "https://v.daum.net/v/20230807084739198\n"
          ]
        }
      ]
    },
    {
      "cell_type": "markdown",
      "source": [
        "link.txt"
      ],
      "metadata": {
        "id": "wpZiAXRWovgW"
      }
    },
    {
      "cell_type": "code",
      "source": [
        "with open('link.txt', 'w') as f:\n",
        "    for i in soup.find_all('div', {'class':'item_issue'}):\n",
        "        f.write(i.find_all('a')[0].get('href')+'\\n')"
      ],
      "metadata": {
        "id": "xv-5fk_kmW0f"
      },
      "execution_count": null,
      "outputs": []
    },
    {
      "cell_type": "code",
      "source": [
        "ls"
      ],
      "metadata": {
        "colab": {
          "base_uri": "https://localhost:8080/"
        },
        "id": "EntRV6YKp-Se",
        "outputId": "8b28b48e-8dd4-4a51-f301-3119b461cbfc"
      },
      "execution_count": null,
      "outputs": [
        {
          "output_type": "stream",
          "name": "stdout",
          "text": [
            "link.txt  \u001b[0m\u001b[01;34msample_data\u001b[0m/  test.html\n"
          ]
        }
      ]
    },
    {
      "cell_type": "code",
      "source": [
        "cat link.txt"
      ],
      "metadata": {
        "colab": {
          "base_uri": "https://localhost:8080/"
        },
        "id": "6_SEdjcDp_dU",
        "outputId": "57ef9d5c-ad62-49b1-a46b-0972dac5283f"
      },
      "execution_count": null,
      "outputs": [
        {
          "output_type": "stream",
          "name": "stdout",
          "text": [
            "https://v.daum.net/v/20230807094128062\n",
            "https://v.daum.net/v/20230807102840977\n",
            "https://v.daum.net/v/20230807070032498\n",
            "https://v.daum.net/v/20230807101410439\n",
            "https://v.daum.net/v/20230807095417518\n",
            "https://v.daum.net/v/20230807102448822\n",
            "https://v.daum.net/v/20230807100632134\n",
            "https://v.daum.net/v/20230807102222735\n",
            "https://v.daum.net/v/20230807060502929\n",
            "https://v.daum.net/v/20230807102016654\n",
            "https://v.daum.net/v/20230807102343771\n",
            "https://v.daum.net/v/20230807102147713\n",
            "https://v.daum.net/v/20230807101548502\n",
            "https://v.daum.net/v/20230807045829063\n",
            "https://v.daum.net/v/20230807095141407\n",
            "https://v.daum.net/v/20230807100830223\n",
            "https://v.daum.net/v/20230807100729189\n",
            "https://v.daum.net/v/20230807101546499\n",
            "https://v.daum.net/v/20230807101631523\n",
            "https://v.daum.net/v/20230807084739198\n"
          ]
        }
      ]
    },
    {
      "cell_type": "code",
      "source": [
        "article1 = 'https://v.daum.net/v/20230807094128062'"
      ],
      "metadata": {
        "id": "dtEmxaR0qHVb"
      },
      "execution_count": null,
      "outputs": []
    },
    {
      "cell_type": "code",
      "source": [
        "soup = bs(urlopen(article1).read(), 'html.parser')"
      ],
      "metadata": {
        "id": "aJOGYr7KqcVs"
      },
      "execution_count": null,
      "outputs": []
    },
    {
      "cell_type": "code",
      "source": [
        "with open('article_1.txt', 'w') as f:\n",
        "    for i in soup.find_all('p'):\n",
        "        f.write(i.text)"
      ],
      "metadata": {
        "id": "QWAIZ8QEqjVH"
      },
      "execution_count": null,
      "outputs": []
    },
    {
      "cell_type": "code",
      "source": [
        "ls"
      ],
      "metadata": {
        "colab": {
          "base_uri": "https://localhost:8080/"
        },
        "id": "XIhQ407eqr4J",
        "outputId": "1696abd9-57a3-4ac2-875c-0db38af7448b"
      },
      "execution_count": null,
      "outputs": [
        {
          "output_type": "stream",
          "name": "stdout",
          "text": [
            "article_1.txt  link.txt  \u001b[0m\u001b[01;34msample_data\u001b[0m/  test.html\n"
          ]
        }
      ]
    },
    {
      "cell_type": "code",
      "source": [
        "cat article_1.txt"
      ],
      "metadata": {
        "colab": {
          "base_uri": "https://localhost:8080/"
        },
        "id": "dJx_7bVhqwsd",
        "outputId": "0452d529-3709-4d1d-fd0e-e493ce60dc84"
      },
      "execution_count": null,
      "outputs": [
        {
          "output_type": "stream",
          "name": "stdout",
          "text": [
            "\"남북 경협 사업을 계속 추진해 반드시 성사시켜달라.\"1998년 현대그룹 회장에 오른 이후에는 남북 경제협력 사업에 집중하며 남북 관계 개선에 큰 역할을 했다.현대그룹은 \"정 회장이 쌓아 올린 업적을 돌아보며 끊임없이 도전하고 새로운 길을 개척한 현대정신을 되새기는 기회가 될 것\"이라며 \"고인을 추모하는 의미를 넘어 그가 그려온 미래의 현대, 다시 현대를 향해 나아갈 것을 다짐하는 계기로 삼고자 한다\"고 행사의 취지를 설명했다.이 글자크기로 변경됩니다.(예시) 가장 빠른 뉴스가 있고 다양한 정보, 쌍방향 소통이 숨쉬는 다음뉴스를 만나보세요. 다음뉴스는 국내외 주요이슈와 실시간 속보, 문화생활 및 다양한 분야의 뉴스를 입체적으로 전달하고 있습니다.\"남북 경협 사업을 계속 추진해 반드시 성사시켜달라.\"생전 고인의 마지막 메시지는 명확했다. 20주기 추모 영상 속 고(故) 정몽헌 회장은 환하게 웃고 있었다. 그는 수재로 불리던 문학 청년이었고 자상한 남편이자 혁신적인 사업가였다. 정주영 명예회장의 뜻에 따라 그는 1984년 현대전자(SK하이닉스 전신) 대표이사직을 맡게 된다. 그는 항상 \"기술이 핵심이며 기술은 사람이 하는 것\"이라며 기술과 인간의 조화의 중요성을 강조했다. 당시 반도체 불모지였던 한국에 반도체 공장을 세우고 취임 5년 만에 흑자를 달성해 업계를 깜짝 놀라게 했다. 1998년 현대그룹 회장에 오른 이후에는 남북 경제협력 사업에 집중하며 남북 관계 개선에 큰 역할을 했다. 남북 경협은 마지막까지도 고인이 놓지 못했던 꿈이었다.지난 4일 정몽헌 현대그룹 회장이 영면에 든지 20주년을 맞았다. 현대그룹은 경기도 하남시 창우동 선영을 찾아 참배행사를 갖고 20주기 추모비 제막식을 거행했다. 이날 행사에는 현정은 현대그룹 회장과 계열사 사장단 등 임직원 70여명이 참석했다.추모비에 새겨진 문구는 고인과 친분이 두터웠던 철학자 도올 김용옥 선생이 썼다. 김 선생은 추모비에 '온 겨레의 함성을 등에 업고 거룩한 아버지의 세업(世業), 그 빛을 따라 문학 소년과도 같은 열정을 지니고 전문경영인으로 성장해 현대그룹 회장에 이르기까지 그 소임을 다했다'고 새겼다.현 회장은 \"떠나신 지 20년이 됐다는 게 믿기지 않을 만큼 지난한 시간이었다\"며 \"정주영 명예회장님과 정몽헌 회장이 늘 곁에서 지켜주고 응원해 주고 있다고 믿기에 우리 현대 가족들과 함께 더욱 힘차게 전진해 나가겠다\"며 소회를 밝혔다.현대그룹은 서울 연지동 그룹 본사와 현대엘리베이터 충주공장 특별 전시관에서 추모 사진전도 개최한다. 2주간 진행되는 이번 사진전은 정 회장의 얼굴을 형상화한 대형 모자이크 판에 현 회장이 마지막 퍼즐을 맞추는 세리머니로 시작됐다.현대그룹은 ▲정몽헌, 현대의 DNA ▲현대정신, 거침없는 도전 ▲시대의 흐름, 현대정신을 잇다 ▲다시, 현대 등 4가지 테마로 전시를 구성했다. 고인의 생애와 업적, 그가 그려온 현대정신과 미래비전을 담은 132점의 사진을 공개했다. 특히 고인이 생전에 사용한 수첩과 안경, 명함, 손목시계, 고등학교 졸업앨범 등 희귀 유품 34점도 처음 공개된다.또한 현대그룹은 20주기 추모 영상을 만들어 전시관과 그룹 홈페이지, 현대엘리베이터 공식 유튜브 계정을 통해 공개한다. 영상에는 미래 비전과 도전 정신을 강조하던 고인의 경영 철학이 담겼으며 생전 육성도 포함됐다. 현대그룹은 126쪽 분량의 추모사진집을 만들어 범현대가 등 일부에 소량 배포할 예정이다.현대그룹은 \"정 회장이 쌓아 올린 업적을 돌아보며 끊임없이 도전하고 새로운 길을 개척한 현대정신을 되새기는 기회가 될 것\"이라며 \"고인을 추모하는 의미를 넘어 그가 그려온 미래의 현대, 다시 현대를 향해 나아갈 것을 다짐하는 계기로 삼고자 한다\"고 행사의 취지를 설명했다.우수연 기자 yesim@asiae.co.kr<ⓒ경제를 보는 눈, 세계를 보는 창 아시아경제 무단전재 배포금지> 이 뉴스에 대해 의견을 나눠보세요.  톡방 종료까지 00:00:00 남았습니다. "
          ]
        }
      ]
    },
    {
      "cell_type": "code",
      "source": [
        "\n",
        "import urllib.request as ur\n",
        "from bs4 import BeautifulSoup as bs\n",
        "\n",
        "# 기사 모으기\n",
        "url='https://news.daum.net/'\n",
        "soup=bs(ur.urlopen(url).read(),'html.parser')\n",
        "f= open('article_total.txt','w')\n",
        "for i in soup.find_all('div',{\"class\":\"item_issue\"}):\n",
        "    try:\n",
        "# 여기서 try로 예외를 지정해주는 이유는 각 명령어를 실행하다가 혹시 그 어떤 곳에서 중단되더라도 마지막까지 실행되도록 하기 위해서입니다.\n",
        "        f.write(i.text+'\\n')\n",
        "# 제목을 추출하는 명령어입니다. '\\n'를 붙이는 이유는 제목이 끝난 후 한 줄을 띄워주기 위해서입니다. 이하 동일합니다\n",
        "        f.write(i.find_all('a')[0].get('href')+ '\\n')\n",
        "# 각 영역(div) 안에서 'a' 태그를 추출해내고, 그 안에서 하이퍼링크('href') 주소를 얻어냅니다. 그것을 바로 파일로 저장하고, 한 칸 띄워줍니다.\n",
        "        soup2=bs(ur.urlopen(i.find_all('a')[0].get('href') ).read(),'html.parser')\n",
        "# 위에서 얻어낸 하이퍼링크 주소로 곧바로 뷰티풀소프 객체로 다시 저장합니다.\n",
        "        for j in soup2.find_all('p'):\n",
        "# 다시 문단만 추출해냅니다. 기사 본문을 모을 수 있습니다.\n",
        "            f.write(j.text+'\\n')\n",
        "# 추출한 문단을 파일로 저장합니다.\n",
        "    except:\n",
        "        pass\n",
        "# try문을 쓰면 별 다른 예외처리를 하지 않더라도 except 구문을 써야 합니다.\n",
        "f.close()"
      ],
      "metadata": {
        "id": "ynQlywMlrSCZ"
      },
      "execution_count": null,
      "outputs": []
    },
    {
      "cell_type": "code",
      "source": [
        "ls"
      ],
      "metadata": {
        "colab": {
          "base_uri": "https://localhost:8080/"
        },
        "id": "eaXHyWLJuxEX",
        "outputId": "b2f5626d-7a8a-4ae3-e074-3fc3b2385190"
      },
      "execution_count": null,
      "outputs": [
        {
          "output_type": "stream",
          "name": "stdout",
          "text": [
            "article_1.txt  article_total.txt  link.txt  \u001b[0m\u001b[01;34msample_data\u001b[0m/  test.html\n"
          ]
        }
      ]
    },
    {
      "cell_type": "code",
      "source": [
        "cat article_total.txt"
      ],
      "metadata": {
        "id": "i_aBt2Eovghk"
      },
      "execution_count": null,
      "outputs": []
    },
    {
      "cell_type": "code",
      "source": [
        "url = 'https://www.chicagomag.com/chicago-magazine/january-2023/our-30-favorite-things-to-eat-right-now/'"
      ],
      "metadata": {
        "id": "yE72kqbEv00j"
      },
      "execution_count": null,
      "outputs": []
    },
    {
      "cell_type": "markdown",
      "source": [
        "요리 이름, 식당이름, 가격, 식당주소 가져오기"
      ],
      "metadata": {
        "id": "mTYMwVnKzCVJ"
      }
    },
    {
      "cell_type": "code",
      "source": [
        "page = urlopen(url)"
      ],
      "metadata": {
        "colab": {
          "base_uri": "https://localhost:8080/",
          "height": 331
        },
        "id": "XeT2gW77yXLf",
        "outputId": "ba4163df-34ad-4d07-f744-11c1b3de95e5"
      },
      "execution_count": null,
      "outputs": [
        {
          "output_type": "error",
          "ename": "HTTPError",
          "evalue": "ignored",
          "traceback": [
            "\u001b[0;31m---------------------------------------------------------------------------\u001b[0m",
            "\u001b[0;31mHTTPError\u001b[0m                                 Traceback (most recent call last)",
            "\u001b[0;32m<ipython-input-105-14caf308c5ac>\u001b[0m in \u001b[0;36m<cell line: 1>\u001b[0;34m()\u001b[0m\n\u001b[0;32m----> 1\u001b[0;31m \u001b[0mpage\u001b[0m \u001b[0;34m=\u001b[0m \u001b[0murlopen\u001b[0m\u001b[0;34m(\u001b[0m\u001b[0murl\u001b[0m\u001b[0;34m)\u001b[0m\u001b[0;34m\u001b[0m\u001b[0;34m\u001b[0m\u001b[0m\n\u001b[0m",
            "\u001b[0;32m/usr/lib/python3.10/urllib/request.py\u001b[0m in \u001b[0;36murlopen\u001b[0;34m(url, data, timeout, cafile, capath, cadefault, context)\u001b[0m\n\u001b[1;32m    214\u001b[0m     \u001b[0;32melse\u001b[0m\u001b[0;34m:\u001b[0m\u001b[0;34m\u001b[0m\u001b[0;34m\u001b[0m\u001b[0m\n\u001b[1;32m    215\u001b[0m         \u001b[0mopener\u001b[0m \u001b[0;34m=\u001b[0m \u001b[0m_opener\u001b[0m\u001b[0;34m\u001b[0m\u001b[0;34m\u001b[0m\u001b[0m\n\u001b[0;32m--> 216\u001b[0;31m     \u001b[0;32mreturn\u001b[0m \u001b[0mopener\u001b[0m\u001b[0;34m.\u001b[0m\u001b[0mopen\u001b[0m\u001b[0;34m(\u001b[0m\u001b[0murl\u001b[0m\u001b[0;34m,\u001b[0m \u001b[0mdata\u001b[0m\u001b[0;34m,\u001b[0m \u001b[0mtimeout\u001b[0m\u001b[0;34m)\u001b[0m\u001b[0;34m\u001b[0m\u001b[0;34m\u001b[0m\u001b[0m\n\u001b[0m\u001b[1;32m    217\u001b[0m \u001b[0;34m\u001b[0m\u001b[0m\n\u001b[1;32m    218\u001b[0m \u001b[0;32mdef\u001b[0m \u001b[0minstall_opener\u001b[0m\u001b[0;34m(\u001b[0m\u001b[0mopener\u001b[0m\u001b[0;34m)\u001b[0m\u001b[0;34m:\u001b[0m\u001b[0;34m\u001b[0m\u001b[0;34m\u001b[0m\u001b[0m\n",
            "\u001b[0;32m/usr/lib/python3.10/urllib/request.py\u001b[0m in \u001b[0;36mopen\u001b[0;34m(self, fullurl, data, timeout)\u001b[0m\n\u001b[1;32m    523\u001b[0m         \u001b[0;32mfor\u001b[0m \u001b[0mprocessor\u001b[0m \u001b[0;32min\u001b[0m \u001b[0mself\u001b[0m\u001b[0;34m.\u001b[0m\u001b[0mprocess_response\u001b[0m\u001b[0;34m.\u001b[0m\u001b[0mget\u001b[0m\u001b[0;34m(\u001b[0m\u001b[0mprotocol\u001b[0m\u001b[0;34m,\u001b[0m \u001b[0;34m[\u001b[0m\u001b[0;34m]\u001b[0m\u001b[0;34m)\u001b[0m\u001b[0;34m:\u001b[0m\u001b[0;34m\u001b[0m\u001b[0;34m\u001b[0m\u001b[0m\n\u001b[1;32m    524\u001b[0m             \u001b[0mmeth\u001b[0m \u001b[0;34m=\u001b[0m \u001b[0mgetattr\u001b[0m\u001b[0;34m(\u001b[0m\u001b[0mprocessor\u001b[0m\u001b[0;34m,\u001b[0m \u001b[0mmeth_name\u001b[0m\u001b[0;34m)\u001b[0m\u001b[0;34m\u001b[0m\u001b[0;34m\u001b[0m\u001b[0m\n\u001b[0;32m--> 525\u001b[0;31m             \u001b[0mresponse\u001b[0m \u001b[0;34m=\u001b[0m \u001b[0mmeth\u001b[0m\u001b[0;34m(\u001b[0m\u001b[0mreq\u001b[0m\u001b[0;34m,\u001b[0m \u001b[0mresponse\u001b[0m\u001b[0;34m)\u001b[0m\u001b[0;34m\u001b[0m\u001b[0;34m\u001b[0m\u001b[0m\n\u001b[0m\u001b[1;32m    526\u001b[0m \u001b[0;34m\u001b[0m\u001b[0m\n\u001b[1;32m    527\u001b[0m         \u001b[0;32mreturn\u001b[0m \u001b[0mresponse\u001b[0m\u001b[0;34m\u001b[0m\u001b[0;34m\u001b[0m\u001b[0m\n",
            "\u001b[0;32m/usr/lib/python3.10/urllib/request.py\u001b[0m in \u001b[0;36mhttp_response\u001b[0;34m(self, request, response)\u001b[0m\n\u001b[1;32m    632\u001b[0m         \u001b[0;31m# request was successfully received, understood, and accepted.\u001b[0m\u001b[0;34m\u001b[0m\u001b[0;34m\u001b[0m\u001b[0m\n\u001b[1;32m    633\u001b[0m         \u001b[0;32mif\u001b[0m \u001b[0;32mnot\u001b[0m \u001b[0;34m(\u001b[0m\u001b[0;36m200\u001b[0m \u001b[0;34m<=\u001b[0m \u001b[0mcode\u001b[0m \u001b[0;34m<\u001b[0m \u001b[0;36m300\u001b[0m\u001b[0;34m)\u001b[0m\u001b[0;34m:\u001b[0m\u001b[0;34m\u001b[0m\u001b[0;34m\u001b[0m\u001b[0m\n\u001b[0;32m--> 634\u001b[0;31m             response = self.parent.error(\n\u001b[0m\u001b[1;32m    635\u001b[0m                 'http', request, response, code, msg, hdrs)\n\u001b[1;32m    636\u001b[0m \u001b[0;34m\u001b[0m\u001b[0m\n",
            "\u001b[0;32m/usr/lib/python3.10/urllib/request.py\u001b[0m in \u001b[0;36merror\u001b[0;34m(self, proto, *args)\u001b[0m\n\u001b[1;32m    561\u001b[0m         \u001b[0;32mif\u001b[0m \u001b[0mhttp_err\u001b[0m\u001b[0;34m:\u001b[0m\u001b[0;34m\u001b[0m\u001b[0;34m\u001b[0m\u001b[0m\n\u001b[1;32m    562\u001b[0m             \u001b[0margs\u001b[0m \u001b[0;34m=\u001b[0m \u001b[0;34m(\u001b[0m\u001b[0mdict\u001b[0m\u001b[0;34m,\u001b[0m \u001b[0;34m'default'\u001b[0m\u001b[0;34m,\u001b[0m \u001b[0;34m'http_error_default'\u001b[0m\u001b[0;34m)\u001b[0m \u001b[0;34m+\u001b[0m \u001b[0morig_args\u001b[0m\u001b[0;34m\u001b[0m\u001b[0;34m\u001b[0m\u001b[0m\n\u001b[0;32m--> 563\u001b[0;31m             \u001b[0;32mreturn\u001b[0m \u001b[0mself\u001b[0m\u001b[0;34m.\u001b[0m\u001b[0m_call_chain\u001b[0m\u001b[0;34m(\u001b[0m\u001b[0;34m*\u001b[0m\u001b[0margs\u001b[0m\u001b[0;34m)\u001b[0m\u001b[0;34m\u001b[0m\u001b[0;34m\u001b[0m\u001b[0m\n\u001b[0m\u001b[1;32m    564\u001b[0m \u001b[0;34m\u001b[0m\u001b[0m\n\u001b[1;32m    565\u001b[0m \u001b[0;31m# XXX probably also want an abstract factory that knows when it makes\u001b[0m\u001b[0;34m\u001b[0m\u001b[0;34m\u001b[0m\u001b[0m\n",
            "\u001b[0;32m/usr/lib/python3.10/urllib/request.py\u001b[0m in \u001b[0;36m_call_chain\u001b[0;34m(self, chain, kind, meth_name, *args)\u001b[0m\n\u001b[1;32m    494\u001b[0m         \u001b[0;32mfor\u001b[0m \u001b[0mhandler\u001b[0m \u001b[0;32min\u001b[0m \u001b[0mhandlers\u001b[0m\u001b[0;34m:\u001b[0m\u001b[0;34m\u001b[0m\u001b[0;34m\u001b[0m\u001b[0m\n\u001b[1;32m    495\u001b[0m             \u001b[0mfunc\u001b[0m \u001b[0;34m=\u001b[0m \u001b[0mgetattr\u001b[0m\u001b[0;34m(\u001b[0m\u001b[0mhandler\u001b[0m\u001b[0;34m,\u001b[0m \u001b[0mmeth_name\u001b[0m\u001b[0;34m)\u001b[0m\u001b[0;34m\u001b[0m\u001b[0;34m\u001b[0m\u001b[0m\n\u001b[0;32m--> 496\u001b[0;31m             \u001b[0mresult\u001b[0m \u001b[0;34m=\u001b[0m \u001b[0mfunc\u001b[0m\u001b[0;34m(\u001b[0m\u001b[0;34m*\u001b[0m\u001b[0margs\u001b[0m\u001b[0;34m)\u001b[0m\u001b[0;34m\u001b[0m\u001b[0;34m\u001b[0m\u001b[0m\n\u001b[0m\u001b[1;32m    497\u001b[0m             \u001b[0;32mif\u001b[0m \u001b[0mresult\u001b[0m \u001b[0;32mis\u001b[0m \u001b[0;32mnot\u001b[0m \u001b[0;32mNone\u001b[0m\u001b[0;34m:\u001b[0m\u001b[0;34m\u001b[0m\u001b[0;34m\u001b[0m\u001b[0m\n\u001b[1;32m    498\u001b[0m                 \u001b[0;32mreturn\u001b[0m \u001b[0mresult\u001b[0m\u001b[0;34m\u001b[0m\u001b[0;34m\u001b[0m\u001b[0m\n",
            "\u001b[0;32m/usr/lib/python3.10/urllib/request.py\u001b[0m in \u001b[0;36mhttp_error_default\u001b[0;34m(self, req, fp, code, msg, hdrs)\u001b[0m\n\u001b[1;32m    641\u001b[0m \u001b[0;32mclass\u001b[0m \u001b[0mHTTPDefaultErrorHandler\u001b[0m\u001b[0;34m(\u001b[0m\u001b[0mBaseHandler\u001b[0m\u001b[0;34m)\u001b[0m\u001b[0;34m:\u001b[0m\u001b[0;34m\u001b[0m\u001b[0;34m\u001b[0m\u001b[0m\n\u001b[1;32m    642\u001b[0m     \u001b[0;32mdef\u001b[0m \u001b[0mhttp_error_default\u001b[0m\u001b[0;34m(\u001b[0m\u001b[0mself\u001b[0m\u001b[0;34m,\u001b[0m \u001b[0mreq\u001b[0m\u001b[0;34m,\u001b[0m \u001b[0mfp\u001b[0m\u001b[0;34m,\u001b[0m \u001b[0mcode\u001b[0m\u001b[0;34m,\u001b[0m \u001b[0mmsg\u001b[0m\u001b[0;34m,\u001b[0m \u001b[0mhdrs\u001b[0m\u001b[0;34m)\u001b[0m\u001b[0;34m:\u001b[0m\u001b[0;34m\u001b[0m\u001b[0;34m\u001b[0m\u001b[0m\n\u001b[0;32m--> 643\u001b[0;31m         \u001b[0;32mraise\u001b[0m \u001b[0mHTTPError\u001b[0m\u001b[0;34m(\u001b[0m\u001b[0mreq\u001b[0m\u001b[0;34m.\u001b[0m\u001b[0mfull_url\u001b[0m\u001b[0;34m,\u001b[0m \u001b[0mcode\u001b[0m\u001b[0;34m,\u001b[0m \u001b[0mmsg\u001b[0m\u001b[0;34m,\u001b[0m \u001b[0mhdrs\u001b[0m\u001b[0;34m,\u001b[0m \u001b[0mfp\u001b[0m\u001b[0;34m)\u001b[0m\u001b[0;34m\u001b[0m\u001b[0;34m\u001b[0m\u001b[0m\n\u001b[0m\u001b[1;32m    644\u001b[0m \u001b[0;34m\u001b[0m\u001b[0m\n\u001b[1;32m    645\u001b[0m \u001b[0;32mclass\u001b[0m \u001b[0mHTTPRedirectHandler\u001b[0m\u001b[0;34m(\u001b[0m\u001b[0mBaseHandler\u001b[0m\u001b[0;34m)\u001b[0m\u001b[0;34m:\u001b[0m\u001b[0;34m\u001b[0m\u001b[0;34m\u001b[0m\u001b[0m\n",
            "\u001b[0;31mHTTPError\u001b[0m: HTTP Error 403: Forbidden"
          ]
        }
      ]
    },
    {
      "cell_type": "code",
      "source": [
        "from urllib.request import urlopen, Request"
      ],
      "metadata": {
        "id": "mSZW6pmIzYBx"
      },
      "execution_count": null,
      "outputs": []
    },
    {
      "cell_type": "code",
      "source": [
        "#import re"
      ],
      "metadata": {
        "id": "m0aqiOes1fsC"
      },
      "execution_count": null,
      "outputs": []
    },
    {
      "cell_type": "code",
      "source": [
        "hdr = {'User-Agent':'Mozilla/5.0'}\n",
        "req = Request(url, headers=hdr)\n",
        "page = urlopen(req)"
      ],
      "metadata": {
        "id": "02C5ImoMzmnY"
      },
      "execution_count": null,
      "outputs": []
    },
    {
      "cell_type": "code",
      "source": [
        "soup = bs(page, 'html.parser')"
      ],
      "metadata": {
        "id": "V2vtEBTM0CNP"
      },
      "execution_count": null,
      "outputs": []
    },
    {
      "cell_type": "code",
      "source": [
        "soup"
      ],
      "metadata": {
        "id": "-c6kuA-x00vm"
      },
      "execution_count": null,
      "outputs": []
    },
    {
      "cell_type": "code",
      "source": [
        "#post-56659 > div.grid-container.grid-parent.article-wrap > div.grid-12.prefix-1.suffix-1.tablet-grid-15.tablet-prefix-0.mobile-grid-100.mobile-prefix-0.mobile-suffix-0 > div > p:nth-child(116)"
      ],
      "metadata": {
        "id": "VSVgTJSz01le"
      },
      "execution_count": null,
      "outputs": []
    },
    {
      "cell_type": "code",
      "source": [
        "list1 = list(soup.select('div>h2,h3,p>em'))\n",
        "rows = []"
      ],
      "metadata": {
        "id": "suf9v5wH18uz"
      },
      "execution_count": null,
      "outputs": []
    },
    {
      "cell_type": "code",
      "source": [
        "len(soup.find_all('div', 'article-body'))"
      ],
      "metadata": {
        "colab": {
          "base_uri": "https://localhost:8080/"
        },
        "id": "eoC-41D22Zpm",
        "outputId": "082140fc-c415-4103-aa1b-9f13776353fa"
      },
      "execution_count": null,
      "outputs": [
        {
          "output_type": "execute_result",
          "data": {
            "text/plain": [
              "1"
            ]
          },
          "metadata": {},
          "execution_count": 116
        }
      ]
    },
    {
      "cell_type": "code",
      "source": [
        "tmp = soup.find_all('div', 'article-body')[0]"
      ],
      "metadata": {
        "id": "HFnonqWr3DUq"
      },
      "execution_count": null,
      "outputs": []
    },
    {
      "cell_type": "code",
      "source": [
        "type(tmp)"
      ],
      "metadata": {
        "colab": {
          "base_uri": "https://localhost:8080/"
        },
        "id": "tJI4Tmtc3KVY",
        "outputId": "590c26c2-6dce-4ce2-82c2-46ff74c2df3e"
      },
      "execution_count": null,
      "outputs": [
        {
          "output_type": "execute_result",
          "data": {
            "text/plain": [
              "bs4.element.Tag"
            ]
          },
          "metadata": {},
          "execution_count": 118
        }
      ]
    },
    {
      "cell_type": "code",
      "source": [
        "for item in tmp:\n",
        "    print(item)"
      ],
      "metadata": {
        "id": "KfnmmWyO3WUE"
      },
      "execution_count": null,
      "outputs": []
    },
    {
      "cell_type": "code",
      "source": [
        "food_list=[]\n",
        "for item in tmp.find_all('h2'):\n",
        "    food_list.append(item.text)"
      ],
      "metadata": {
        "id": "GEdQqVn73gdy"
      },
      "execution_count": null,
      "outputs": []
    },
    {
      "cell_type": "code",
      "source": [
        "food_list"
      ],
      "metadata": {
        "colab": {
          "base_uri": "https://localhost:8080/"
        },
        "id": "R5q4UvG03raB",
        "outputId": "17c21de0-6c53-4bdb-c627-9bfdcc41d485"
      },
      "execution_count": null,
      "outputs": [
        {
          "output_type": "execute_result",
          "data": {
            "text/plain": [
              "['Yaki Beef Gyoza',\n",
              " 'Dark Chocolate and Pecan Banana Bread',\n",
              " 'Chicken Diavola',\n",
              " 'Purple Velvet Cupcake',\n",
              " 'Charred Broccoli Salad',\n",
              " 'Ceci Bean Cavatelli',\n",
              " 'Mejillones',\n",
              " 'Wood-Grilled Berbere-Spiced Carrots',\n",
              " 'Chicken Sandwich',\n",
              " 'Not Your Everyday Caprese',\n",
              " 'Wood-Roasted Salmon',\n",
              " 'Inaloban',\n",
              " 'Sach Ko Ang',\n",
              " 'Taco Al Pastor',\n",
              " 'Chicories',\n",
              " 'Army Stew',\n",
              " 'Yuk Hwe',\n",
              " 'Leek Gramigne',\n",
              " 'Salade Lyonnaise Canard',\n",
              " 'Quail',\n",
              " 'Curry Beef Roti',\n",
              " 'Catfish Po’ Boy',\n",
              " 'Bougatsa',\n",
              " 'Baba Au Rhum',\n",
              " 'Lunchroom Butter Cookie Ice Cream',\n",
              " 'Spare Ribs Cheung Fun',\n",
              " 'Live Eel',\n",
              " 'Nam Tok Kor Moo Yang',\n",
              " 'Breakfast Dosa Hash',\n",
              " 'Khachapuri']"
            ]
          },
          "metadata": {},
          "execution_count": 122
        }
      ]
    },
    {
      "cell_type": "code",
      "source": [
        "restaurant_list=[]\n",
        "for item in tmp.find_all('h3'):\n",
        "    restaurant_list.append(item.text[3:])"
      ],
      "metadata": {
        "id": "s7gyKfU24L0R"
      },
      "execution_count": null,
      "outputs": []
    },
    {
      "cell_type": "code",
      "source": [
        "restaurant_list"
      ],
      "metadata": {
        "colab": {
          "base_uri": "https://localhost:8080/"
        },
        "id": "sem6-f554k9n",
        "outputId": "1ad6ed41-f5c5-4da0-98b1-cf0339300c28"
      },
      "execution_count": null,
      "outputs": [
        {
          "output_type": "execute_result",
          "data": {
            "text/plain": [
              "['Monster Ramen\\xa0',\n",
              " 'Mindy’s Bakery\\xa0',\n",
              " 'Coda di Volpe',\n",
              " 'Jennivee’s Bakery',\n",
              " 'Split-Rail',\n",
              " 'Boeufhaus',\n",
              " 'Tzuco',\n",
              " 'Eden',\n",
              " 'Nine Bar',\n",
              " 'Bazaar Meat',\n",
              " 'the Graceful Ordinary',\n",
              " 'Wazwan',\n",
              " 'Khmai Cambodian Fine Dining',\n",
              " 'Rubi’s',\n",
              " 'Peanut Park Trattoria',\n",
              " 'New Village Gastro Pub',\n",
              " 'Parachute',\n",
              " 'Segnatore',\n",
              " 'Obélix',\n",
              " 'El Che Steakhouse & Bar',\n",
              " 'D’s Roti & Trini Cuisine\\xa0',\n",
              " 'Daisy’s Po-Boy and Tavern',\n",
              " 'Lyra',\n",
              " 'The Loyalist',\n",
              " 'Shawn Michelle’s Homemade Ice Cream\\xa0',\n",
              " 'Ying Dim Sum',\n",
              " 'Holu',\n",
              " 'Immm Rice & Beyond',\n",
              " 'Superkhana International',\n",
              " 'Bungalow by Middle Brow\\xa0']"
            ]
          },
          "metadata": {},
          "execution_count": 124
        }
      ]
    },
    {
      "cell_type": "markdown",
      "source": [
        "\\xa0 : 비 공개 공간 문자\n",
        "\n",
        "s.replace(u'\\xa0', u'')"
      ],
      "metadata": {
        "id": "HlGU32JD435n"
      }
    },
    {
      "cell_type": "code",
      "source": [
        "money_list=[]\n",
        "address_list=[]\n",
        "for item in tmp.find_all('p'):\n",
        "    sample_text = item.get_text()\n",
        "    idx_of_dollar = sample_text.index('$')\n",
        "    money = sample_text[idx_of_dollar:].split(' ')[0].strip('.')\n",
        "    dummy_address = sample_text[idx_of_dollar+len(money)+1:]\n",
        "    if dummy_address.split(' ')[0] == 'for':\n",
        "        dummy_address = dummy_address[dummy_address.index('. ')+2:]\n",
        "    money_list.append(money)\n",
        "    address_list.append(dummy_address.strip())"
      ],
      "metadata": {
        "id": "CGIadv6G5X5y"
      },
      "execution_count": null,
      "outputs": []
    },
    {
      "cell_type": "code",
      "source": [
        "money_list"
      ],
      "metadata": {
        "colab": {
          "base_uri": "https://localhost:8080/"
        },
        "id": "U6ooD2za9XbL",
        "outputId": "300a1daf-3b2b-4bd3-fc12-bbdb57561331"
      },
      "execution_count": null,
      "outputs": [
        {
          "output_type": "execute_result",
          "data": {
            "text/plain": [
              "['$7.95',\n",
              " '$5',\n",
              " '$26',\n",
              " '$5.50',\n",
              " '$13',\n",
              " '$18',\n",
              " '$24',\n",
              " '$12',\n",
              " '$14',\n",
              " '$15',\n",
              " '$29',\n",
              " '$22',\n",
              " '$13',\n",
              " '$6',\n",
              " '$14',\n",
              " '$24.99',\n",
              " '$30',\n",
              " '$25',\n",
              " '$19',\n",
              " '$32',\n",
              " '$16',\n",
              " '$14.99',\n",
              " '$18',\n",
              " '$16',\n",
              " '$6.60',\n",
              " '$7.49',\n",
              " '$45',\n",
              " '$14.50',\n",
              " '$16',\n",
              " '$12']"
            ]
          },
          "metadata": {},
          "execution_count": 145
        }
      ]
    },
    {
      "cell_type": "code",
      "source": [
        "address_list"
      ],
      "metadata": {
        "colab": {
          "base_uri": "https://localhost:8080/"
        },
        "id": "Ig9vRC_G9aOo",
        "outputId": "d1bfe378-3241-4ab6-ab66-5514b153870f"
      },
      "execution_count": null,
      "outputs": [
        {
          "output_type": "execute_result",
          "data": {
            "text/plain": [
              "['3435 W. Fullerton Ave., Logan Square —\\u2009T.R.',\n",
              " '1623 N. Milwaukee Ave., Bucktown —\\u2009C.B.',\n",
              " '3335 N. Southport Ave., Lake View —\\u2009J.K.',\n",
              " '3301 N. Sheffield Ave., Lake View —\\u2009J.K.',\n",
              " '2500 W. Chicago Ave., Humboldt Park —\\u2009A.C.',\n",
              " '1012 N. Western Ave., Humboldt Park —\\u2009A.C.',\n",
              " '720 N. State St., Near North Side —\\u2009A.C.',\n",
              " '2734 W. Roscoe St., Avondale —\\u2009A.T.',\n",
              " '216 W. Cermak Rd., Chinatown —\\u2009A.C.',\n",
              " '120 N. Wacker Dr., Loop —\\u2009P.G.',\n",
              " '3 E. Main St., St. Charles —\\u2009P.G.',\n",
              " '1742 W. Division St., Wicker Park —\\u2009A.C.',\n",
              " '2043 W. Howard St., Rogers Park —\\u2009T.R.',\n",
              " '1316 W. 18th St., Pilsen —\\u2009C.H.',\n",
              " '1359 W. Taylor St., Little Italy —\\u2009A.C.',\n",
              " '3566 Milwaukee Ave., Northbrook —\\u2009J.K.',\n",
              " '3500 N. Elston Ave., Avondale —\\u2009J.K.',\n",
              " '1001 N. California Ave., Humboldt Park —\\u2009P.G.',\n",
              " '700 N. Sedgwick St., River North —\\u2009J.K.',\n",
              " '845 W. Washington Blvd., West Loop —\\u2009A.C.',\n",
              " '2537 S. Wabash Ave., Bronzeville —\\u2009T.R.',\n",
              " '5215 S. Harper Ave., Hyde Park —\\u2009A.T.',\n",
              " '905 W. Fulton Market, West Loop —\\u2009P.G.',\n",
              " '177 N. Ada St., West Loop —\\u2009A.C.',\n",
              " '46 E. 47th St., Bronzeville; 3252 Vollmer Rd., Olympia Fields —\\u2009C.H.',\n",
              " '2105 S. Jefferson St., Pilsen —\\u2009J.K.',\n",
              " '2101 S. Jefferson St., Pilsen —\\u2009J.K.',\n",
              " '4949 N. Broadway, Uptown —\\u2009J.K.',\n",
              " '3059 W. Diversey Ave., Logan Square —\\u2009J.K.',\n",
              " '2840 W. Armitage Ave., Logan Square —\\u2009C.B.']"
            ]
          },
          "metadata": {},
          "execution_count": 146
        }
      ]
    },
    {
      "cell_type": "code",
      "source": [
        "dummy_address"
      ],
      "metadata": {
        "colab": {
          "base_uri": "https://localhost:8080/",
          "height": 36
        },
        "id": "Kk4AYjUN7plh",
        "outputId": "bc51a135-ab1a-4396-918e-1147c021b547"
      },
      "execution_count": null,
      "outputs": [
        {
          "output_type": "execute_result",
          "data": {
            "text/plain": [
              "' 2840 W. Armitage Ave., Logan Square —\\u2009C.B.'"
            ],
            "application/vnd.google.colaboratory.intrinsic+json": {
              "type": "string"
            }
          },
          "metadata": {},
          "execution_count": 137
        }
      ]
    },
    {
      "cell_type": "code",
      "source": [
        "money"
      ],
      "metadata": {
        "colab": {
          "base_uri": "https://localhost:8080/",
          "height": 36
        },
        "id": "-mGDMBto7H0o",
        "outputId": "57660fab-5e3f-4811-c2d1-94aa1cdba943"
      },
      "execution_count": null,
      "outputs": [
        {
          "output_type": "execute_result",
          "data": {
            "text/plain": [
              "'$12'"
            ],
            "application/vnd.google.colaboratory.intrinsic+json": {
              "type": "string"
            }
          },
          "metadata": {},
          "execution_count": 135
        }
      ]
    },
    {
      "cell_type": "code",
      "source": [
        "idx_of_dollar"
      ],
      "metadata": {
        "colab": {
          "base_uri": "https://localhost:8080/"
        },
        "id": "eZuPVOY46yhR",
        "outputId": "6368509c-f212-4915-84fc-6727de2abe73"
      },
      "execution_count": null,
      "outputs": [
        {
          "output_type": "execute_result",
          "data": {
            "text/plain": [
              "421"
            ]
          },
          "metadata": {},
          "execution_count": 130
        }
      ]
    },
    {
      "cell_type": "code",
      "source": [
        "sample_text[421]"
      ],
      "metadata": {
        "colab": {
          "base_uri": "https://localhost:8080/",
          "height": 36
        },
        "id": "auEvu9z76R4O",
        "outputId": "0213e2f0-1bf4-4395-963c-759117be6cb6"
      },
      "execution_count": null,
      "outputs": [
        {
          "output_type": "execute_result",
          "data": {
            "text/plain": [
              "'$'"
            ],
            "application/vnd.google.colaboratory.intrinsic+json": {
              "type": "string"
            }
          },
          "metadata": {},
          "execution_count": 131
        }
      ]
    },
    {
      "cell_type": "code",
      "source": [
        "import pandas as pd"
      ],
      "metadata": {
        "id": "w9xKPRjkBeyh"
      },
      "execution_count": null,
      "outputs": []
    },
    {
      "cell_type": "code",
      "source": [
        "data = {'food':food_list, 'restaurant':restaurant_list,\n",
        "        'price':money_list, 'address':address_list}"
      ],
      "metadata": {
        "id": "sliil7aABiOe"
      },
      "execution_count": null,
      "outputs": []
    },
    {
      "cell_type": "code",
      "source": [
        "df = pd.DataFrame(data)"
      ],
      "metadata": {
        "id": "9hB7cpuuB22i"
      },
      "execution_count": null,
      "outputs": []
    },
    {
      "cell_type": "code",
      "source": [
        "df"
      ],
      "metadata": {
        "id": "nTdMuF_yhjmk",
        "colab": {
          "base_uri": "https://localhost:8080/",
          "height": 1000
        },
        "outputId": "274789ab-ce50-4eee-d983-230cfa31635c"
      },
      "execution_count": null,
      "outputs": [
        {
          "output_type": "execute_result",
          "data": {
            "text/plain": [
              "                                     food  \\\n",
              "0                         Yaki Beef Gyoza   \n",
              "1   Dark Chocolate and Pecan Banana Bread   \n",
              "2                         Chicken Diavola   \n",
              "3                   Purple Velvet Cupcake   \n",
              "4                  Charred Broccoli Salad   \n",
              "5                     Ceci Bean Cavatelli   \n",
              "6                              Mejillones   \n",
              "7     Wood-Grilled Berbere-Spiced Carrots   \n",
              "8                        Chicken Sandwich   \n",
              "9               Not Your Everyday Caprese   \n",
              "10                    Wood-Roasted Salmon   \n",
              "11                               Inaloban   \n",
              "12                            Sach Ko Ang   \n",
              "13                         Taco Al Pastor   \n",
              "14                              Chicories   \n",
              "15                              Army Stew   \n",
              "16                                Yuk Hwe   \n",
              "17                          Leek Gramigne   \n",
              "18                Salade Lyonnaise Canard   \n",
              "19                                  Quail   \n",
              "20                        Curry Beef Roti   \n",
              "21                        Catfish Po’ Boy   \n",
              "22                               Bougatsa   \n",
              "23                           Baba Au Rhum   \n",
              "24      Lunchroom Butter Cookie Ice Cream   \n",
              "25                  Spare Ribs Cheung Fun   \n",
              "26                               Live Eel   \n",
              "27                   Nam Tok Kor Moo Yang   \n",
              "28                    Breakfast Dosa Hash   \n",
              "29                             Khachapuri   \n",
              "\n",
              "                              restaurant   price  \\\n",
              "0                         Monster Ramen    $7.95   \n",
              "1                        Mindy’s Bakery       $5   \n",
              "2                          Coda di Volpe     $26   \n",
              "3                      Jennivee’s Bakery   $5.50   \n",
              "4                             Split-Rail     $13   \n",
              "5                              Boeufhaus     $18   \n",
              "6                                  Tzuco     $24   \n",
              "7                                   Eden     $12   \n",
              "8                               Nine Bar     $14   \n",
              "9                            Bazaar Meat     $15   \n",
              "10                 the Graceful Ordinary     $29   \n",
              "11                                Wazwan     $22   \n",
              "12           Khmai Cambodian Fine Dining     $13   \n",
              "13                                Rubi’s      $6   \n",
              "14                 Peanut Park Trattoria     $14   \n",
              "15                New Village Gastro Pub  $24.99   \n",
              "16                             Parachute     $30   \n",
              "17                             Segnatore     $25   \n",
              "18                                Obélix     $19   \n",
              "19               El Che Steakhouse & Bar     $32   \n",
              "20             D’s Roti & Trini Cuisine      $16   \n",
              "21             Daisy’s Po-Boy and Tavern  $14.99   \n",
              "22                                  Lyra     $18   \n",
              "23                          The Loyalist     $16   \n",
              "24  Shawn Michelle’s Homemade Ice Cream    $6.60   \n",
              "25                          Ying Dim Sum   $7.49   \n",
              "26                                  Holu     $45   \n",
              "27                    Immm Rice & Beyond  $14.50   \n",
              "28              Superkhana International     $16   \n",
              "29              Bungalow by Middle Brow      $12   \n",
              "\n",
              "                                              address  \n",
              "0         3435 W. Fullerton Ave., Logan Square — T.R.  \n",
              "1             1623 N. Milwaukee Ave., Bucktown — C.B.  \n",
              "2            3335 N. Southport Ave., Lake View — J.K.  \n",
              "3            3301 N. Sheffield Ave., Lake View — J.K.  \n",
              "4          2500 W. Chicago Ave., Humboldt Park — A.C.  \n",
              "5          1012 N. Western Ave., Humboldt Park — A.C.  \n",
              "6            720 N. State St., Near North Side — A.C.  \n",
              "7                 2734 W. Roscoe St., Avondale — A.T.  \n",
              "8                 216 W. Cermak Rd., Chinatown — A.C.  \n",
              "9                      120 N. Wacker Dr., Loop — P.G.  \n",
              "10                  3 E. Main St., St. Charles — P.G.  \n",
              "11           1742 W. Division St., Wicker Park — A.C.  \n",
              "12             2043 W. Howard St., Rogers Park — T.R.  \n",
              "13                    1316 W. 18th St., Pilsen — C.H.  \n",
              "14            1359 W. Taylor St., Little Italy — A.C.  \n",
              "15             3566 Milwaukee Ave., Northbrook — J.K.  \n",
              "16               3500 N. Elston Ave., Avondale — J.K.  \n",
              "17      1001 N. California Ave., Humboldt Park — P.G.  \n",
              "18            700 N. Sedgwick St., River North — J.K.  \n",
              "19          845 W. Washington Blvd., West Loop — A.C.  \n",
              "20            2537 S. Wabash Ave., Bronzeville — T.R.  \n",
              "21              5215 S. Harper Ave., Hyde Park — A.T.  \n",
              "22             905 W. Fulton Market, West Loop — P.G.  \n",
              "23                   177 N. Ada St., West Loop — A.C.  \n",
              "24  46 E. 47th St., Bronzeville; 3252 Vollmer Rd.,...  \n",
              "25               2105 S. Jefferson St., Pilsen — J.K.  \n",
              "26               2101 S. Jefferson St., Pilsen — J.K.  \n",
              "27                    4949 N. Broadway, Uptown — J.K.  \n",
              "28         3059 W. Diversey Ave., Logan Square — J.K.  \n",
              "29         2840 W. Armitage Ave., Logan Square — C.B.  "
            ],
            "text/html": [
              "\n",
              "\n",
              "  <div id=\"df-d1c1cfcd-2285-4e9e-b509-72b79ba4580e\">\n",
              "    <div class=\"colab-df-container\">\n",
              "      <div>\n",
              "<style scoped>\n",
              "    .dataframe tbody tr th:only-of-type {\n",
              "        vertical-align: middle;\n",
              "    }\n",
              "\n",
              "    .dataframe tbody tr th {\n",
              "        vertical-align: top;\n",
              "    }\n",
              "\n",
              "    .dataframe thead th {\n",
              "        text-align: right;\n",
              "    }\n",
              "</style>\n",
              "<table border=\"1\" class=\"dataframe\">\n",
              "  <thead>\n",
              "    <tr style=\"text-align: right;\">\n",
              "      <th></th>\n",
              "      <th>food</th>\n",
              "      <th>restaurant</th>\n",
              "      <th>price</th>\n",
              "      <th>address</th>\n",
              "    </tr>\n",
              "  </thead>\n",
              "  <tbody>\n",
              "    <tr>\n",
              "      <th>0</th>\n",
              "      <td>Yaki Beef Gyoza</td>\n",
              "      <td>Monster Ramen</td>\n",
              "      <td>$7.95</td>\n",
              "      <td>3435 W. Fullerton Ave., Logan Square — T.R.</td>\n",
              "    </tr>\n",
              "    <tr>\n",
              "      <th>1</th>\n",
              "      <td>Dark Chocolate and Pecan Banana Bread</td>\n",
              "      <td>Mindy’s Bakery</td>\n",
              "      <td>$5</td>\n",
              "      <td>1623 N. Milwaukee Ave., Bucktown — C.B.</td>\n",
              "    </tr>\n",
              "    <tr>\n",
              "      <th>2</th>\n",
              "      <td>Chicken Diavola</td>\n",
              "      <td>Coda di Volpe</td>\n",
              "      <td>$26</td>\n",
              "      <td>3335 N. Southport Ave., Lake View — J.K.</td>\n",
              "    </tr>\n",
              "    <tr>\n",
              "      <th>3</th>\n",
              "      <td>Purple Velvet Cupcake</td>\n",
              "      <td>Jennivee’s Bakery</td>\n",
              "      <td>$5.50</td>\n",
              "      <td>3301 N. Sheffield Ave., Lake View — J.K.</td>\n",
              "    </tr>\n",
              "    <tr>\n",
              "      <th>4</th>\n",
              "      <td>Charred Broccoli Salad</td>\n",
              "      <td>Split-Rail</td>\n",
              "      <td>$13</td>\n",
              "      <td>2500 W. Chicago Ave., Humboldt Park — A.C.</td>\n",
              "    </tr>\n",
              "    <tr>\n",
              "      <th>5</th>\n",
              "      <td>Ceci Bean Cavatelli</td>\n",
              "      <td>Boeufhaus</td>\n",
              "      <td>$18</td>\n",
              "      <td>1012 N. Western Ave., Humboldt Park — A.C.</td>\n",
              "    </tr>\n",
              "    <tr>\n",
              "      <th>6</th>\n",
              "      <td>Mejillones</td>\n",
              "      <td>Tzuco</td>\n",
              "      <td>$24</td>\n",
              "      <td>720 N. State St., Near North Side — A.C.</td>\n",
              "    </tr>\n",
              "    <tr>\n",
              "      <th>7</th>\n",
              "      <td>Wood-Grilled Berbere-Spiced Carrots</td>\n",
              "      <td>Eden</td>\n",
              "      <td>$12</td>\n",
              "      <td>2734 W. Roscoe St., Avondale — A.T.</td>\n",
              "    </tr>\n",
              "    <tr>\n",
              "      <th>8</th>\n",
              "      <td>Chicken Sandwich</td>\n",
              "      <td>Nine Bar</td>\n",
              "      <td>$14</td>\n",
              "      <td>216 W. Cermak Rd., Chinatown — A.C.</td>\n",
              "    </tr>\n",
              "    <tr>\n",
              "      <th>9</th>\n",
              "      <td>Not Your Everyday Caprese</td>\n",
              "      <td>Bazaar Meat</td>\n",
              "      <td>$15</td>\n",
              "      <td>120 N. Wacker Dr., Loop — P.G.</td>\n",
              "    </tr>\n",
              "    <tr>\n",
              "      <th>10</th>\n",
              "      <td>Wood-Roasted Salmon</td>\n",
              "      <td>the Graceful Ordinary</td>\n",
              "      <td>$29</td>\n",
              "      <td>3 E. Main St., St. Charles — P.G.</td>\n",
              "    </tr>\n",
              "    <tr>\n",
              "      <th>11</th>\n",
              "      <td>Inaloban</td>\n",
              "      <td>Wazwan</td>\n",
              "      <td>$22</td>\n",
              "      <td>1742 W. Division St., Wicker Park — A.C.</td>\n",
              "    </tr>\n",
              "    <tr>\n",
              "      <th>12</th>\n",
              "      <td>Sach Ko Ang</td>\n",
              "      <td>Khmai Cambodian Fine Dining</td>\n",
              "      <td>$13</td>\n",
              "      <td>2043 W. Howard St., Rogers Park — T.R.</td>\n",
              "    </tr>\n",
              "    <tr>\n",
              "      <th>13</th>\n",
              "      <td>Taco Al Pastor</td>\n",
              "      <td>Rubi’s</td>\n",
              "      <td>$6</td>\n",
              "      <td>1316 W. 18th St., Pilsen — C.H.</td>\n",
              "    </tr>\n",
              "    <tr>\n",
              "      <th>14</th>\n",
              "      <td>Chicories</td>\n",
              "      <td>Peanut Park Trattoria</td>\n",
              "      <td>$14</td>\n",
              "      <td>1359 W. Taylor St., Little Italy — A.C.</td>\n",
              "    </tr>\n",
              "    <tr>\n",
              "      <th>15</th>\n",
              "      <td>Army Stew</td>\n",
              "      <td>New Village Gastro Pub</td>\n",
              "      <td>$24.99</td>\n",
              "      <td>3566 Milwaukee Ave., Northbrook — J.K.</td>\n",
              "    </tr>\n",
              "    <tr>\n",
              "      <th>16</th>\n",
              "      <td>Yuk Hwe</td>\n",
              "      <td>Parachute</td>\n",
              "      <td>$30</td>\n",
              "      <td>3500 N. Elston Ave., Avondale — J.K.</td>\n",
              "    </tr>\n",
              "    <tr>\n",
              "      <th>17</th>\n",
              "      <td>Leek Gramigne</td>\n",
              "      <td>Segnatore</td>\n",
              "      <td>$25</td>\n",
              "      <td>1001 N. California Ave., Humboldt Park — P.G.</td>\n",
              "    </tr>\n",
              "    <tr>\n",
              "      <th>18</th>\n",
              "      <td>Salade Lyonnaise Canard</td>\n",
              "      <td>Obélix</td>\n",
              "      <td>$19</td>\n",
              "      <td>700 N. Sedgwick St., River North — J.K.</td>\n",
              "    </tr>\n",
              "    <tr>\n",
              "      <th>19</th>\n",
              "      <td>Quail</td>\n",
              "      <td>El Che Steakhouse &amp; Bar</td>\n",
              "      <td>$32</td>\n",
              "      <td>845 W. Washington Blvd., West Loop — A.C.</td>\n",
              "    </tr>\n",
              "    <tr>\n",
              "      <th>20</th>\n",
              "      <td>Curry Beef Roti</td>\n",
              "      <td>D’s Roti &amp; Trini Cuisine</td>\n",
              "      <td>$16</td>\n",
              "      <td>2537 S. Wabash Ave., Bronzeville — T.R.</td>\n",
              "    </tr>\n",
              "    <tr>\n",
              "      <th>21</th>\n",
              "      <td>Catfish Po’ Boy</td>\n",
              "      <td>Daisy’s Po-Boy and Tavern</td>\n",
              "      <td>$14.99</td>\n",
              "      <td>5215 S. Harper Ave., Hyde Park — A.T.</td>\n",
              "    </tr>\n",
              "    <tr>\n",
              "      <th>22</th>\n",
              "      <td>Bougatsa</td>\n",
              "      <td>Lyra</td>\n",
              "      <td>$18</td>\n",
              "      <td>905 W. Fulton Market, West Loop — P.G.</td>\n",
              "    </tr>\n",
              "    <tr>\n",
              "      <th>23</th>\n",
              "      <td>Baba Au Rhum</td>\n",
              "      <td>The Loyalist</td>\n",
              "      <td>$16</td>\n",
              "      <td>177 N. Ada St., West Loop — A.C.</td>\n",
              "    </tr>\n",
              "    <tr>\n",
              "      <th>24</th>\n",
              "      <td>Lunchroom Butter Cookie Ice Cream</td>\n",
              "      <td>Shawn Michelle’s Homemade Ice Cream</td>\n",
              "      <td>$6.60</td>\n",
              "      <td>46 E. 47th St., Bronzeville; 3252 Vollmer Rd.,...</td>\n",
              "    </tr>\n",
              "    <tr>\n",
              "      <th>25</th>\n",
              "      <td>Spare Ribs Cheung Fun</td>\n",
              "      <td>Ying Dim Sum</td>\n",
              "      <td>$7.49</td>\n",
              "      <td>2105 S. Jefferson St., Pilsen — J.K.</td>\n",
              "    </tr>\n",
              "    <tr>\n",
              "      <th>26</th>\n",
              "      <td>Live Eel</td>\n",
              "      <td>Holu</td>\n",
              "      <td>$45</td>\n",
              "      <td>2101 S. Jefferson St., Pilsen — J.K.</td>\n",
              "    </tr>\n",
              "    <tr>\n",
              "      <th>27</th>\n",
              "      <td>Nam Tok Kor Moo Yang</td>\n",
              "      <td>Immm Rice &amp; Beyond</td>\n",
              "      <td>$14.50</td>\n",
              "      <td>4949 N. Broadway, Uptown — J.K.</td>\n",
              "    </tr>\n",
              "    <tr>\n",
              "      <th>28</th>\n",
              "      <td>Breakfast Dosa Hash</td>\n",
              "      <td>Superkhana International</td>\n",
              "      <td>$16</td>\n",
              "      <td>3059 W. Diversey Ave., Logan Square — J.K.</td>\n",
              "    </tr>\n",
              "    <tr>\n",
              "      <th>29</th>\n",
              "      <td>Khachapuri</td>\n",
              "      <td>Bungalow by Middle Brow</td>\n",
              "      <td>$12</td>\n",
              "      <td>2840 W. Armitage Ave., Logan Square — C.B.</td>\n",
              "    </tr>\n",
              "  </tbody>\n",
              "</table>\n",
              "</div>\n",
              "      <button class=\"colab-df-convert\" onclick=\"convertToInteractive('df-d1c1cfcd-2285-4e9e-b509-72b79ba4580e')\"\n",
              "              title=\"Convert this dataframe to an interactive table.\"\n",
              "              style=\"display:none;\">\n",
              "\n",
              "  <svg xmlns=\"http://www.w3.org/2000/svg\" height=\"24px\"viewBox=\"0 0 24 24\"\n",
              "       width=\"24px\">\n",
              "    <path d=\"M0 0h24v24H0V0z\" fill=\"none\"/>\n",
              "    <path d=\"M18.56 5.44l.94 2.06.94-2.06 2.06-.94-2.06-.94-.94-2.06-.94 2.06-2.06.94zm-11 1L8.5 8.5l.94-2.06 2.06-.94-2.06-.94L8.5 2.5l-.94 2.06-2.06.94zm10 10l.94 2.06.94-2.06 2.06-.94-2.06-.94-.94-2.06-.94 2.06-2.06.94z\"/><path d=\"M17.41 7.96l-1.37-1.37c-.4-.4-.92-.59-1.43-.59-.52 0-1.04.2-1.43.59L10.3 9.45l-7.72 7.72c-.78.78-.78 2.05 0 2.83L4 21.41c.39.39.9.59 1.41.59.51 0 1.02-.2 1.41-.59l7.78-7.78 2.81-2.81c.8-.78.8-2.07 0-2.86zM5.41 20L4 18.59l7.72-7.72 1.47 1.35L5.41 20z\"/>\n",
              "  </svg>\n",
              "      </button>\n",
              "\n",
              "\n",
              "\n",
              "    <div id=\"df-c86c58b5-cbde-4351-b0d5-9add5fa3a719\">\n",
              "      <button class=\"colab-df-quickchart\" onclick=\"quickchart('df-c86c58b5-cbde-4351-b0d5-9add5fa3a719')\"\n",
              "              title=\"Suggest charts.\"\n",
              "              style=\"display:none;\">\n",
              "\n",
              "<svg xmlns=\"http://www.w3.org/2000/svg\" height=\"24px\"viewBox=\"0 0 24 24\"\n",
              "     width=\"24px\">\n",
              "    <g>\n",
              "        <path d=\"M19 3H5c-1.1 0-2 .9-2 2v14c0 1.1.9 2 2 2h14c1.1 0 2-.9 2-2V5c0-1.1-.9-2-2-2zM9 17H7v-7h2v7zm4 0h-2V7h2v10zm4 0h-2v-4h2v4z\"/>\n",
              "    </g>\n",
              "</svg>\n",
              "      </button>\n",
              "    </div>\n",
              "\n",
              "<style>\n",
              "  .colab-df-quickchart {\n",
              "    background-color: #E8F0FE;\n",
              "    border: none;\n",
              "    border-radius: 50%;\n",
              "    cursor: pointer;\n",
              "    display: none;\n",
              "    fill: #1967D2;\n",
              "    height: 32px;\n",
              "    padding: 0 0 0 0;\n",
              "    width: 32px;\n",
              "  }\n",
              "\n",
              "  .colab-df-quickchart:hover {\n",
              "    background-color: #E2EBFA;\n",
              "    box-shadow: 0px 1px 2px rgba(60, 64, 67, 0.3), 0px 1px 3px 1px rgba(60, 64, 67, 0.15);\n",
              "    fill: #174EA6;\n",
              "  }\n",
              "\n",
              "  [theme=dark] .colab-df-quickchart {\n",
              "    background-color: #3B4455;\n",
              "    fill: #D2E3FC;\n",
              "  }\n",
              "\n",
              "  [theme=dark] .colab-df-quickchart:hover {\n",
              "    background-color: #434B5C;\n",
              "    box-shadow: 0px 1px 3px 1px rgba(0, 0, 0, 0.15);\n",
              "    filter: drop-shadow(0px 1px 2px rgba(0, 0, 0, 0.3));\n",
              "    fill: #FFFFFF;\n",
              "  }\n",
              "</style>\n",
              "\n",
              "    <script>\n",
              "      async function quickchart(key) {\n",
              "        const containerElement = document.querySelector('#' + key);\n",
              "        const charts = await google.colab.kernel.invokeFunction(\n",
              "            'suggestCharts', [key], {});\n",
              "      }\n",
              "    </script>\n",
              "\n",
              "      <script>\n",
              "\n",
              "function displayQuickchartButton(domScope) {\n",
              "  let quickchartButtonEl =\n",
              "    domScope.querySelector('#df-c86c58b5-cbde-4351-b0d5-9add5fa3a719 button.colab-df-quickchart');\n",
              "  quickchartButtonEl.style.display =\n",
              "    google.colab.kernel.accessAllowed ? 'block' : 'none';\n",
              "}\n",
              "\n",
              "        displayQuickchartButton(document);\n",
              "      </script>\n",
              "      <style>\n",
              "    .colab-df-container {\n",
              "      display:flex;\n",
              "      flex-wrap:wrap;\n",
              "      gap: 12px;\n",
              "    }\n",
              "\n",
              "    .colab-df-convert {\n",
              "      background-color: #E8F0FE;\n",
              "      border: none;\n",
              "      border-radius: 50%;\n",
              "      cursor: pointer;\n",
              "      display: none;\n",
              "      fill: #1967D2;\n",
              "      height: 32px;\n",
              "      padding: 0 0 0 0;\n",
              "      width: 32px;\n",
              "    }\n",
              "\n",
              "    .colab-df-convert:hover {\n",
              "      background-color: #E2EBFA;\n",
              "      box-shadow: 0px 1px 2px rgba(60, 64, 67, 0.3), 0px 1px 3px 1px rgba(60, 64, 67, 0.15);\n",
              "      fill: #174EA6;\n",
              "    }\n",
              "\n",
              "    [theme=dark] .colab-df-convert {\n",
              "      background-color: #3B4455;\n",
              "      fill: #D2E3FC;\n",
              "    }\n",
              "\n",
              "    [theme=dark] .colab-df-convert:hover {\n",
              "      background-color: #434B5C;\n",
              "      box-shadow: 0px 1px 3px 1px rgba(0, 0, 0, 0.15);\n",
              "      filter: drop-shadow(0px 1px 2px rgba(0, 0, 0, 0.3));\n",
              "      fill: #FFFFFF;\n",
              "    }\n",
              "  </style>\n",
              "\n",
              "      <script>\n",
              "        const buttonEl =\n",
              "          document.querySelector('#df-d1c1cfcd-2285-4e9e-b509-72b79ba4580e button.colab-df-convert');\n",
              "        buttonEl.style.display =\n",
              "          google.colab.kernel.accessAllowed ? 'block' : 'none';\n",
              "\n",
              "        async function convertToInteractive(key) {\n",
              "          const element = document.querySelector('#df-d1c1cfcd-2285-4e9e-b509-72b79ba4580e');\n",
              "          const dataTable =\n",
              "            await google.colab.kernel.invokeFunction('convertToInteractive',\n",
              "                                                     [key], {});\n",
              "          if (!dataTable) return;\n",
              "\n",
              "          const docLinkHtml = 'Like what you see? Visit the ' +\n",
              "            '<a target=\"_blank\" href=https://colab.research.google.com/notebooks/data_table.ipynb>data table notebook</a>'\n",
              "            + ' to learn more about interactive tables.';\n",
              "          element.innerHTML = '';\n",
              "          dataTable['output_type'] = 'display_data';\n",
              "          await google.colab.output.renderOutput(dataTable, element);\n",
              "          const docLink = document.createElement('div');\n",
              "          docLink.innerHTML = docLinkHtml;\n",
              "          element.appendChild(docLink);\n",
              "        }\n",
              "      </script>\n",
              "    </div>\n",
              "  </div>\n"
            ]
          },
          "metadata": {},
          "execution_count": 154
        }
      ]
    },
    {
      "cell_type": "code",
      "source": [],
      "metadata": {
        "id": "1kdpLO4MB56Q"
      },
      "execution_count": null,
      "outputs": []
    }
  ]
}