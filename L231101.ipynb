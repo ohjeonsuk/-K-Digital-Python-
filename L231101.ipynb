{
  "nbformat": 4,
  "nbformat_minor": 0,
  "metadata": {
    "colab": {
      "provenance": [],
      "include_colab_link": true
    },
    "kernelspec": {
      "name": "python3",
      "display_name": "Python 3"
    },
    "language_info": {
      "name": "python"
    }
  },
  "cells": [
    {
      "cell_type": "markdown",
      "metadata": {
        "id": "view-in-github",
        "colab_type": "text"
      },
      "source": [
        "<a href=\"https://colab.research.google.com/github/ohjeonsuk/python-education/blob/main/L231101.ipynb\" target=\"_parent\"><img src=\"https://colab.research.google.com/assets/colab-badge.svg\" alt=\"Open In Colab\"/></a>"
      ]
    },
    {
      "cell_type": "markdown",
      "source": [
        "1. 통계적 머신러닝\n",
        "\n",
        "    - 텍스트 분석\n",
        "\n",
        "        NLP, BOW\n",
        "\n",
        "        텍스트 분류\n",
        "\n",
        "        감성분석\n",
        "\n",
        "        문서유사도\n",
        "\n",
        "2. 딥러닝\n",
        "\n",
        "    - ANN\n",
        "\n",
        "    - 경사하강법\n",
        "\n",
        "    - 오차역전파\n",
        "\n",
        "    - Optimizer\n",
        "\n",
        "    - CNN\n",
        "\n",
        "    - ResNet\n",
        "\n",
        "    - RNN, LSTM, GRU"
      ],
      "metadata": {
        "id": "bmV7WNqwzPCZ"
      }
    },
    {
      "cell_type": "markdown",
      "source": [
        "#텍스트 분석"
      ],
      "metadata": {
        "id": "p9756KaVsKXE"
      }
    },
    {
      "cell_type": "markdown",
      "source": [
        "텍스트 분석 절차\n",
        "\n",
        "    1. 텍스트 정규화\n",
        "\n",
        "        - 클렌징\n",
        "\n",
        "        - 토큰화 ( 단어, 문장)\n",
        "\n",
        "        - 필터링/스톱워드제거\n",
        "\n",
        "        - Stemming/ Lemmatization (단어의 원형 찾기)\n",
        "\n",
        "\n",
        "    2. 피처 벡턱화/추출\n",
        "\n",
        "        - BOW (Bag of Words)\n",
        "\n",
        "            CountVertorizer : 문서에서 단어가 나타난 빈도수\n",
        "\n",
        "            TfidfVectorizer : 개별 문서에서 자주 출현하는 단어에 높은 가중치, 그러나 모든 문서에 자주 나타나면 가중치를 감소 시킴\n",
        "\n",
        "        - Word2Vec\n",
        "\n",
        "    3. ML 모델 수립/학습/평가"
      ],
      "metadata": {
        "id": "BEf0PWx0s8VA"
      }
    },
    {
      "cell_type": "code",
      "source": [
        "text_sample = '''When I choose to see the good side of things, I'm not being naive. It is strategic and necessary. It’s how I’ve learned to survive through everything.'''"
      ],
      "metadata": {
        "id": "EQKOzdBIM8Vv"
      },
      "execution_count": null,
      "outputs": []
    },
    {
      "cell_type": "code",
      "source": [
        "text_sample"
      ],
      "metadata": {
        "colab": {
          "base_uri": "https://localhost:8080/",
          "height": 53
        },
        "id": "0e3NjLrgM_ey",
        "outputId": "01b4aa60-774b-48f0-d995-623f3445f19e"
      },
      "execution_count": null,
      "outputs": [
        {
          "output_type": "execute_result",
          "data": {
            "text/plain": [
              "\"When I choose to see the good side of things, I'm not being naive. It is strategic and necessary. It’s how I’ve learned to survive through everything.\""
            ],
            "application/vnd.google.colaboratory.intrinsic+json": {
              "type": "string"
            }
          },
          "metadata": {},
          "execution_count": 4
        }
      ]
    },
    {
      "cell_type": "code",
      "execution_count": null,
      "metadata": {
        "id": "rUo-q_VRzIbP"
      },
      "outputs": [],
      "source": [
        "from nltk import sent_tokenize"
      ]
    },
    {
      "cell_type": "code",
      "source": [
        "import nltk\n",
        "nltk.download('punkt')"
      ],
      "metadata": {
        "colab": {
          "base_uri": "https://localhost:8080/"
        },
        "id": "mAswJc2eM-4f",
        "outputId": "f0dbb250-a544-4d9b-96c4-a003046900c1"
      },
      "execution_count": null,
      "outputs": [
        {
          "output_type": "stream",
          "name": "stderr",
          "text": [
            "[nltk_data] Downloading package punkt to /root/nltk_data...\n",
            "[nltk_data]   Unzipping tokenizers/punkt.zip.\n"
          ]
        },
        {
          "output_type": "execute_result",
          "data": {
            "text/plain": [
              "True"
            ]
          },
          "metadata": {},
          "execution_count": 5
        }
      ]
    },
    {
      "cell_type": "code",
      "source": [
        "sentences = sent_tokenize(text=text_sample)"
      ],
      "metadata": {
        "id": "6Lk_JUxjMvbe"
      },
      "execution_count": null,
      "outputs": []
    },
    {
      "cell_type": "code",
      "source": [
        "sentences"
      ],
      "metadata": {
        "colab": {
          "base_uri": "https://localhost:8080/"
        },
        "id": "mPIOTOexN0BT",
        "outputId": "d9366d6a-8159-40aa-ba85-6a856ba5174f"
      },
      "execution_count": null,
      "outputs": [
        {
          "output_type": "execute_result",
          "data": {
            "text/plain": [
              "[\"When I choose to see the good side of things, I'm not being naive.\",\n",
              " 'It is strategic and necessary.',\n",
              " 'It’s how I’ve learned to survive through everything.']"
            ]
          },
          "metadata": {},
          "execution_count": 9
        }
      ]
    },
    {
      "cell_type": "code",
      "source": [
        "len(sentences)"
      ],
      "metadata": {
        "colab": {
          "base_uri": "https://localhost:8080/"
        },
        "id": "erp3wzCoN6JP",
        "outputId": "ba64cb4e-2607-46b2-878f-cdb7993f84a1"
      },
      "execution_count": null,
      "outputs": [
        {
          "output_type": "execute_result",
          "data": {
            "text/plain": [
              "3"
            ]
          },
          "metadata": {},
          "execution_count": 10
        }
      ]
    },
    {
      "cell_type": "code",
      "source": [
        "from nltk import word_tokenize"
      ],
      "metadata": {
        "id": "ZB6tfJIYOHe5"
      },
      "execution_count": null,
      "outputs": []
    },
    {
      "cell_type": "code",
      "source": [
        "text_sample.split(' ')"
      ],
      "metadata": {
        "colab": {
          "base_uri": "https://localhost:8080/"
        },
        "id": "0J8TuB14O5qU",
        "outputId": "61d9ca42-d67d-46df-c5a1-b6898215884e"
      },
      "execution_count": null,
      "outputs": [
        {
          "output_type": "execute_result",
          "data": {
            "text/plain": [
              "['When',\n",
              " 'I',\n",
              " 'choose',\n",
              " 'to',\n",
              " 'see',\n",
              " 'the',\n",
              " 'good',\n",
              " 'side',\n",
              " 'of',\n",
              " 'things,',\n",
              " \"I'm\",\n",
              " 'not',\n",
              " 'being',\n",
              " 'naive.',\n",
              " 'It',\n",
              " 'is',\n",
              " 'strategic',\n",
              " 'and',\n",
              " 'necessary.',\n",
              " 'It’s',\n",
              " 'how',\n",
              " 'I’ve',\n",
              " 'learned',\n",
              " 'to',\n",
              " 'survive',\n",
              " 'through',\n",
              " 'everything.']"
            ]
          },
          "metadata": {},
          "execution_count": 14
        }
      ]
    },
    {
      "cell_type": "code",
      "source": [
        "words = word_tokenize(text_sample)"
      ],
      "metadata": {
        "id": "BT5SMj-vOkKo"
      },
      "execution_count": null,
      "outputs": []
    },
    {
      "cell_type": "code",
      "source": [
        "words"
      ],
      "metadata": {
        "colab": {
          "base_uri": "https://localhost:8080/"
        },
        "id": "Lc3k92YTOqhE",
        "outputId": "0ce72e59-312e-4f5a-ceb3-48e58dadb8a9"
      },
      "execution_count": null,
      "outputs": [
        {
          "output_type": "execute_result",
          "data": {
            "text/plain": [
              "['When',\n",
              " 'I',\n",
              " 'choose',\n",
              " 'to',\n",
              " 'see',\n",
              " 'the',\n",
              " 'good',\n",
              " 'side',\n",
              " 'of',\n",
              " 'things',\n",
              " ',',\n",
              " 'I',\n",
              " \"'m\",\n",
              " 'not',\n",
              " 'being',\n",
              " 'naive',\n",
              " '.',\n",
              " 'It',\n",
              " 'is',\n",
              " 'strategic',\n",
              " 'and',\n",
              " 'necessary',\n",
              " '.',\n",
              " 'It',\n",
              " '’',\n",
              " 's',\n",
              " 'how',\n",
              " 'I',\n",
              " '’',\n",
              " 've',\n",
              " 'learned',\n",
              " 'to',\n",
              " 'survive',\n",
              " 'through',\n",
              " 'everything',\n",
              " '.']"
            ]
          },
          "metadata": {},
          "execution_count": 13
        }
      ]
    },
    {
      "cell_type": "code",
      "source": [
        "def tokenize_text(text):\n",
        "    sentences = sent_tokenize(text)\n",
        "    word_tokens = [word_tokenize(sentence) for sentence in sentences]\n",
        "    return word_tokens"
      ],
      "metadata": {
        "id": "mSA-mad8Orov"
      },
      "execution_count": null,
      "outputs": []
    },
    {
      "cell_type": "code",
      "source": [
        "word_tokens = tokenize_text(text_sample)"
      ],
      "metadata": {
        "id": "HGsuJk5MQEE8"
      },
      "execution_count": null,
      "outputs": []
    },
    {
      "cell_type": "code",
      "source": [
        "len(word_tokens)"
      ],
      "metadata": {
        "colab": {
          "base_uri": "https://localhost:8080/"
        },
        "id": "VkP9mCzlQKcq",
        "outputId": "2a745b58-3a54-4899-c119-d565ef0a5bf8"
      },
      "execution_count": null,
      "outputs": [
        {
          "output_type": "execute_result",
          "data": {
            "text/plain": [
              "3"
            ]
          },
          "metadata": {},
          "execution_count": 17
        }
      ]
    },
    {
      "cell_type": "code",
      "source": [
        "word_tokens"
      ],
      "metadata": {
        "colab": {
          "base_uri": "https://localhost:8080/"
        },
        "id": "tgfU6yImQPRv",
        "outputId": "8cb896c3-4a7d-4b0e-ce29-e46e4d32847e"
      },
      "execution_count": null,
      "outputs": [
        {
          "output_type": "execute_result",
          "data": {
            "text/plain": [
              "[['When',\n",
              "  'I',\n",
              "  'choose',\n",
              "  'to',\n",
              "  'see',\n",
              "  'the',\n",
              "  'good',\n",
              "  'side',\n",
              "  'of',\n",
              "  'things',\n",
              "  ',',\n",
              "  'I',\n",
              "  \"'m\",\n",
              "  'not',\n",
              "  'being',\n",
              "  'naive',\n",
              "  '.'],\n",
              " ['It', 'is', 'strategic', 'and', 'necessary', '.'],\n",
              " ['It',\n",
              "  '’',\n",
              "  's',\n",
              "  'how',\n",
              "  'I',\n",
              "  '’',\n",
              "  've',\n",
              "  'learned',\n",
              "  'to',\n",
              "  'survive',\n",
              "  'through',\n",
              "  'everything',\n",
              "  '.']]"
            ]
          },
          "metadata": {},
          "execution_count": 18
        }
      ]
    },
    {
      "cell_type": "markdown",
      "source": [
        "Stopwords 제거"
      ],
      "metadata": {
        "id": "zSwXinrzQ2Ap"
      }
    },
    {
      "cell_type": "code",
      "source": [
        "nltk.download('stopwords')"
      ],
      "metadata": {
        "colab": {
          "base_uri": "https://localhost:8080/"
        },
        "id": "Q0iBED3QQRPW",
        "outputId": "59e09c2b-76b8-4ded-b500-ff90a08599a8"
      },
      "execution_count": null,
      "outputs": [
        {
          "output_type": "stream",
          "name": "stderr",
          "text": [
            "[nltk_data] Downloading package stopwords to /root/nltk_data...\n",
            "[nltk_data]   Unzipping corpora/stopwords.zip.\n"
          ]
        },
        {
          "output_type": "execute_result",
          "data": {
            "text/plain": [
              "True"
            ]
          },
          "metadata": {},
          "execution_count": 19
        }
      ]
    },
    {
      "cell_type": "code",
      "source": [
        "nltk.corpus.stopwords.words('english')[:20]"
      ],
      "metadata": {
        "colab": {
          "base_uri": "https://localhost:8080/"
        },
        "id": "wDws1WE2Q9av",
        "outputId": "b69307ff-f6bc-4f5e-a83b-9ac7de02dab8"
      },
      "execution_count": null,
      "outputs": [
        {
          "output_type": "execute_result",
          "data": {
            "text/plain": [
              "['i',\n",
              " 'me',\n",
              " 'my',\n",
              " 'myself',\n",
              " 'we',\n",
              " 'our',\n",
              " 'ours',\n",
              " 'ourselves',\n",
              " 'you',\n",
              " \"you're\",\n",
              " \"you've\",\n",
              " \"you'll\",\n",
              " \"you'd\",\n",
              " 'your',\n",
              " 'yours',\n",
              " 'yourself',\n",
              " 'yourselves',\n",
              " 'he',\n",
              " 'him',\n",
              " 'his']"
            ]
          },
          "metadata": {},
          "execution_count": 21
        }
      ]
    },
    {
      "cell_type": "code",
      "source": [
        "len(nltk.corpus.stopwords.words('english'))"
      ],
      "metadata": {
        "colab": {
          "base_uri": "https://localhost:8080/"
        },
        "id": "E6WXIaGsRI5R",
        "outputId": "6835886e-1518-48e6-cd09-488398e16017"
      },
      "execution_count": null,
      "outputs": [
        {
          "output_type": "execute_result",
          "data": {
            "text/plain": [
              "179"
            ]
          },
          "metadata": {},
          "execution_count": 22
        }
      ]
    },
    {
      "cell_type": "code",
      "source": [
        "word_tokens"
      ],
      "metadata": {
        "colab": {
          "base_uri": "https://localhost:8080/"
        },
        "id": "ZhjvJ_QgRYgY",
        "outputId": "1e1114c9-7165-4fab-d135-b0944594ad71"
      },
      "execution_count": null,
      "outputs": [
        {
          "output_type": "execute_result",
          "data": {
            "text/plain": [
              "[['When',\n",
              "  'I',\n",
              "  'choose',\n",
              "  'to',\n",
              "  'see',\n",
              "  'the',\n",
              "  'good',\n",
              "  'side',\n",
              "  'of',\n",
              "  'things',\n",
              "  ',',\n",
              "  'I',\n",
              "  \"'m\",\n",
              "  'not',\n",
              "  'being',\n",
              "  'naive',\n",
              "  '.'],\n",
              " ['It', 'is', 'strategic', 'and', 'necessary', '.'],\n",
              " ['It',\n",
              "  '’',\n",
              "  's',\n",
              "  'how',\n",
              "  'I',\n",
              "  '’',\n",
              "  've',\n",
              "  'learned',\n",
              "  'to',\n",
              "  'survive',\n",
              "  'through',\n",
              "  'everything',\n",
              "  '.']]"
            ]
          },
          "metadata": {},
          "execution_count": 23
        }
      ]
    },
    {
      "cell_type": "code",
      "source": [
        "stopwords_list = nltk.corpus.stopwords.words('english')"
      ],
      "metadata": {
        "id": "3b6fceqjRgdV"
      },
      "execution_count": null,
      "outputs": []
    },
    {
      "cell_type": "code",
      "source": [
        "stopwords_list"
      ],
      "metadata": {
        "id": "HdpQ2kGDRvJI"
      },
      "execution_count": null,
      "outputs": []
    },
    {
      "cell_type": "code",
      "source": [
        "all_tokens = []\n",
        "for sentence in word_tokens:\n",
        "    word_list = []\n",
        "    for word in sentence:\n",
        "        word = word.lower()\n",
        "        if word not in stopwords_list:\n",
        "            word_list.append(word)\n",
        "    all_tokens.append(word_list)"
      ],
      "metadata": {
        "id": "ZoWbHLh4RwyN"
      },
      "execution_count": null,
      "outputs": []
    },
    {
      "cell_type": "code",
      "source": [
        "all_tokens"
      ],
      "metadata": {
        "colab": {
          "base_uri": "https://localhost:8080/"
        },
        "id": "V94kxWKmR7Lu",
        "outputId": "a99d7aca-3e48-478a-f55f-8318604d2518"
      },
      "execution_count": null,
      "outputs": [
        {
          "output_type": "execute_result",
          "data": {
            "text/plain": [
              "[['choose', 'see', 'good', 'side', 'things', ',', \"'m\", 'naive', '.'],\n",
              " ['strategic', 'necessary', '.'],\n",
              " ['’', '’', 'learned', 'survive', 'everything', '.']]"
            ]
          },
          "metadata": {},
          "execution_count": 32
        }
      ]
    },
    {
      "cell_type": "code",
      "source": [
        "import string"
      ],
      "metadata": {
        "id": "5f9X2nrWSyPZ"
      },
      "execution_count": null,
      "outputs": []
    },
    {
      "cell_type": "code",
      "source": [
        "string.punctuation"
      ],
      "metadata": {
        "colab": {
          "base_uri": "https://localhost:8080/",
          "height": 36
        },
        "id": "xO3BF-NrTXob",
        "outputId": "fef4c34e-6e27-46e9-f58d-a7dbf1551225"
      },
      "execution_count": null,
      "outputs": [
        {
          "output_type": "execute_result",
          "data": {
            "text/plain": [
              "'!\"#$%&\\'()*+,-./:;<=>?@[\\\\]^_`{|}~'"
            ],
            "application/vnd.google.colaboratory.intrinsic+json": {
              "type": "string"
            }
          },
          "metadata": {},
          "execution_count": 34
        }
      ]
    },
    {
      "cell_type": "code",
      "source": [
        "sample_txt = '''abc'de'''"
      ],
      "metadata": {
        "id": "-bskB6ZDTbHU"
      },
      "execution_count": null,
      "outputs": []
    },
    {
      "cell_type": "code",
      "source": [
        "for i in sample_txt:\n",
        "    print(i, ord(i))"
      ],
      "metadata": {
        "colab": {
          "base_uri": "https://localhost:8080/"
        },
        "id": "1Hypnhy7To_Z",
        "outputId": "9c9f9833-f73f-4068-80e5-3cc1782409a4"
      },
      "execution_count": null,
      "outputs": [
        {
          "output_type": "stream",
          "name": "stdout",
          "text": [
            "a 97\n",
            "b 98\n",
            "c 99\n",
            "' 39\n",
            "d 100\n",
            "e 101\n"
          ]
        }
      ]
    },
    {
      "cell_type": "code",
      "source": [
        "sample_txt.translate({98:None})"
      ],
      "metadata": {
        "colab": {
          "base_uri": "https://localhost:8080/",
          "height": 36
        },
        "id": "qtjLWAFUTsfQ",
        "outputId": "1190ecd0-1120-45e2-c357-4b6d66a6b43b"
      },
      "execution_count": null,
      "outputs": [
        {
          "output_type": "execute_result",
          "data": {
            "text/plain": [
              "\"ac'de\""
            ],
            "application/vnd.google.colaboratory.intrinsic+json": {
              "type": "string"
            }
          },
          "metadata": {},
          "execution_count": 39
        }
      ]
    },
    {
      "cell_type": "code",
      "source": [
        "sample_txt.translate({39:97})"
      ],
      "metadata": {
        "colab": {
          "base_uri": "https://localhost:8080/",
          "height": 36
        },
        "id": "veAWEKkLUWiJ",
        "outputId": "e8dbb7d5-abb8-42bb-8273-7e17c86b4a12"
      },
      "execution_count": null,
      "outputs": [
        {
          "output_type": "execute_result",
          "data": {
            "text/plain": [
              "'abcade'"
            ],
            "application/vnd.google.colaboratory.intrinsic+json": {
              "type": "string"
            }
          },
          "metadata": {},
          "execution_count": 41
        }
      ]
    },
    {
      "cell_type": "code",
      "source": [
        "rm_punc_dict = {}\n",
        "for i in string.punctuation:\n",
        "    rm_punc_dict[ord(i)] = None"
      ],
      "metadata": {
        "id": "TVO-Ojp0UmR_"
      },
      "execution_count": null,
      "outputs": []
    },
    {
      "cell_type": "code",
      "source": [
        "rm_punc_dict"
      ],
      "metadata": {
        "id": "e1sOEn0HUzrf"
      },
      "execution_count": null,
      "outputs": []
    },
    {
      "cell_type": "code",
      "source": [
        "def rm_punc(sents):\n",
        "    rm_punc_dict = {}\n",
        "    for i in string.punctuation:\n",
        "        rm_punc_dict[ord(i)] = None\n",
        "    return sents.translate(rm_punc_dict)"
      ],
      "metadata": {
        "id": "ZklGPNYNVHrJ"
      },
      "execution_count": null,
      "outputs": []
    },
    {
      "cell_type": "code",
      "source": [
        "rm_punc(text_sample)"
      ],
      "metadata": {
        "colab": {
          "base_uri": "https://localhost:8080/",
          "height": 53
        },
        "id": "dJelfWK9Vn1X",
        "outputId": "a0904aec-d434-47a1-c217-faf4cef2baa9"
      },
      "execution_count": null,
      "outputs": [
        {
          "output_type": "execute_result",
          "data": {
            "text/plain": [
              "'When I choose to see the good side of things Im not being naive It is strategic and necessary It’s how I’ve learned to survive through everything'"
            ],
            "application/vnd.google.colaboratory.intrinsic+json": {
              "type": "string"
            }
          },
          "metadata": {},
          "execution_count": 48
        }
      ]
    },
    {
      "cell_type": "code",
      "source": [
        "text_sample"
      ],
      "metadata": {
        "colab": {
          "base_uri": "https://localhost:8080/",
          "height": 53
        },
        "id": "7tLX4FKKVu1r",
        "outputId": "791c6cea-3ac1-45c4-8131-4c9d51d096b5"
      },
      "execution_count": null,
      "outputs": [
        {
          "output_type": "execute_result",
          "data": {
            "text/plain": [
              "\"When I choose to see the good side of things, I'm not being naive. It is strategic and necessary. It’s how I’ve learned to survive through everything.\""
            ],
            "application/vnd.google.colaboratory.intrinsic+json": {
              "type": "string"
            }
          },
          "metadata": {},
          "execution_count": 49
        }
      ]
    },
    {
      "cell_type": "code",
      "source": [
        "stopwords_list"
      ],
      "metadata": {
        "id": "19s-QvblWjc6"
      },
      "execution_count": null,
      "outputs": []
    },
    {
      "cell_type": "code",
      "source": [
        "def tokenize_text(text, stopwords_list):\n",
        "    word_list=[]\n",
        "    sentence_list = sent_tokenize(text=text)\n",
        "    for sent in sentence_list:\n",
        "        sent = rm_punc(sent)\n",
        "        words = word_tokenize(sent)\n",
        "        token_list = []\n",
        "        for word in words:\n",
        "            word = word.lower()\n",
        "            if word not in stopwords_list and len(word) > 1:\n",
        "                token_list.append(word)\n",
        "        word_list.append(token_list)\n",
        "    return word_list"
      ],
      "metadata": {
        "id": "Sab0bFd8WWST"
      },
      "execution_count": null,
      "outputs": []
    },
    {
      "cell_type": "code",
      "source": [
        "result = tokenize_text(text_sample, stopwords_list)"
      ],
      "metadata": {
        "id": "5XiZ6JvrW3MX"
      },
      "execution_count": null,
      "outputs": []
    },
    {
      "cell_type": "code",
      "source": [
        "result"
      ],
      "metadata": {
        "colab": {
          "base_uri": "https://localhost:8080/"
        },
        "id": "ei5a1AK8XQL1",
        "outputId": "160e5142-dac5-4fbb-f383-26547ea26948"
      },
      "execution_count": null,
      "outputs": [
        {
          "output_type": "execute_result",
          "data": {
            "text/plain": [
              "[['choose', 'see', 'good', 'side', 'things', 'im', 'naive'],\n",
              " ['strategic', 'necessary'],\n",
              " ['learned', 'survive', 'everything']]"
            ]
          },
          "metadata": {},
          "execution_count": 67
        }
      ]
    },
    {
      "cell_type": "markdown",
      "source": [
        "#단어 원형"
      ],
      "metadata": {
        "id": "z-WEjJgvcoFX"
      }
    },
    {
      "cell_type": "code",
      "source": [
        "from nltk.stem import LancasterStemmer\n",
        "stemmer = LancasterStemmer()"
      ],
      "metadata": {
        "id": "viOcsWitbKNf"
      },
      "execution_count": null,
      "outputs": []
    },
    {
      "cell_type": "code",
      "source": [
        "stemmer.stem('working')"
      ],
      "metadata": {
        "colab": {
          "base_uri": "https://localhost:8080/",
          "height": 36
        },
        "id": "_uBcEDbHc9f5",
        "outputId": "710b4050-d4ca-4001-9396-ae3e963f0b0b"
      },
      "execution_count": null,
      "outputs": [
        {
          "output_type": "execute_result",
          "data": {
            "text/plain": [
              "'work'"
            ],
            "application/vnd.google.colaboratory.intrinsic+json": {
              "type": "string"
            }
          },
          "metadata": {},
          "execution_count": 69
        }
      ]
    },
    {
      "cell_type": "code",
      "source": [
        "stemmer.stem('works')"
      ],
      "metadata": {
        "colab": {
          "base_uri": "https://localhost:8080/",
          "height": 36
        },
        "id": "YcppN0nTdDLO",
        "outputId": "e9645668-11ed-48b7-a215-69a8894cddda"
      },
      "execution_count": null,
      "outputs": [
        {
          "output_type": "execute_result",
          "data": {
            "text/plain": [
              "'work'"
            ],
            "application/vnd.google.colaboratory.intrinsic+json": {
              "type": "string"
            }
          },
          "metadata": {},
          "execution_count": 70
        }
      ]
    },
    {
      "cell_type": "code",
      "source": [
        "stemmer.stem('worked')"
      ],
      "metadata": {
        "colab": {
          "base_uri": "https://localhost:8080/",
          "height": 36
        },
        "id": "Dm8aA7d1dOOR",
        "outputId": "7429ea9f-a294-48e2-a594-c02072dc6c76"
      },
      "execution_count": null,
      "outputs": [
        {
          "output_type": "execute_result",
          "data": {
            "text/plain": [
              "'work'"
            ],
            "application/vnd.google.colaboratory.intrinsic+json": {
              "type": "string"
            }
          },
          "metadata": {},
          "execution_count": 71
        }
      ]
    },
    {
      "cell_type": "code",
      "source": [
        "print(stemmer.stem('amusing'), stemmer.stem('amuses'), stemmer.stem('amused'))"
      ],
      "metadata": {
        "colab": {
          "base_uri": "https://localhost:8080/"
        },
        "id": "OAK-sUSEdReV",
        "outputId": "75f6e20f-0799-4eda-cdb4-bb53148db8ae"
      },
      "execution_count": null,
      "outputs": [
        {
          "output_type": "stream",
          "name": "stdout",
          "text": [
            "amus amus amus\n"
          ]
        }
      ]
    },
    {
      "cell_type": "code",
      "source": [
        "print(stemmer.stem('happier'), stemmer.stem('happiest'))"
      ],
      "metadata": {
        "colab": {
          "base_uri": "https://localhost:8080/"
        },
        "id": "CtdQcYKTdcuA",
        "outputId": "ef9cdebe-e33a-4345-93df-0d03e8bee90b"
      },
      "execution_count": null,
      "outputs": [
        {
          "output_type": "stream",
          "name": "stdout",
          "text": [
            "happy happiest\n"
          ]
        }
      ]
    },
    {
      "cell_type": "code",
      "source": [
        "print(stemmer.stem('fancier'), stemmer.stem('fanciest'))"
      ],
      "metadata": {
        "colab": {
          "base_uri": "https://localhost:8080/"
        },
        "id": "rIH9RILmdtox",
        "outputId": "9dcc733b-2a90-46d4-dcac-95d6df170df6"
      },
      "execution_count": null,
      "outputs": [
        {
          "output_type": "stream",
          "name": "stdout",
          "text": [
            "fant fanciest\n"
          ]
        }
      ]
    },
    {
      "cell_type": "code",
      "source": [
        "from nltk.stem import WordNetLemmatizer"
      ],
      "metadata": {
        "id": "8CtN2rPMd1hp"
      },
      "execution_count": null,
      "outputs": []
    },
    {
      "cell_type": "code",
      "source": [
        "nltk.download('wordnet')"
      ],
      "metadata": {
        "colab": {
          "base_uri": "https://localhost:8080/"
        },
        "id": "a7RqA-CSeGki",
        "outputId": "f2fd907c-211b-4370-d818-c5f1ccd42b7f"
      },
      "execution_count": null,
      "outputs": [
        {
          "output_type": "stream",
          "name": "stderr",
          "text": [
            "[nltk_data] Downloading package wordnet to /root/nltk_data...\n"
          ]
        },
        {
          "output_type": "execute_result",
          "data": {
            "text/plain": [
              "True"
            ]
          },
          "metadata": {},
          "execution_count": 76
        }
      ]
    },
    {
      "cell_type": "code",
      "source": [
        "nltk.download('all')"
      ],
      "metadata": {
        "id": "ZeR1TdYweclo"
      },
      "execution_count": null,
      "outputs": []
    },
    {
      "cell_type": "code",
      "source": [
        "lemma = WordNetLemmatizer()\n",
        "print(lemma.lemmatize('amusing', 'v'), lemma.lemmatize('amuses', 'v'), lemma.lemmatize('amused', 'v'))"
      ],
      "metadata": {
        "colab": {
          "base_uri": "https://localhost:8080/"
        },
        "id": "rj7s1wjhehEe",
        "outputId": "87f92e01-a15b-4bfb-d397-b420873cc119"
      },
      "execution_count": null,
      "outputs": [
        {
          "output_type": "stream",
          "name": "stdout",
          "text": [
            "amuse amuse amuse\n"
          ]
        }
      ]
    },
    {
      "cell_type": "code",
      "source": [
        "print(lemma.lemmatize('happier', 'a'), lemma.lemmatize('happiest', 'a'))"
      ],
      "metadata": {
        "colab": {
          "base_uri": "https://localhost:8080/"
        },
        "id": "t0uha-KYfEem",
        "outputId": "8182fee5-38c7-412c-9e1a-89f6c45568eb"
      },
      "execution_count": null,
      "outputs": [
        {
          "output_type": "stream",
          "name": "stdout",
          "text": [
            "happy happy\n"
          ]
        }
      ]
    },
    {
      "cell_type": "code",
      "source": [
        "lemma.lemmatize('fancier', 'a'), lemma.lemmatize('fanciest', 'a')"
      ],
      "metadata": {
        "colab": {
          "base_uri": "https://localhost:8080/"
        },
        "id": "VPoGBux8fft7",
        "outputId": "183e2dd0-8791-4c8e-a28c-bd6a3b219585"
      },
      "execution_count": null,
      "outputs": [
        {
          "output_type": "execute_result",
          "data": {
            "text/plain": [
              "('fancy', 'fancy')"
            ]
          },
          "metadata": {},
          "execution_count": 81
        }
      ]
    },
    {
      "cell_type": "markdown",
      "source": [
        "#BOW ( Bag of Words )"
      ],
      "metadata": {
        "id": "AeyNoXoHg5Yh"
      }
    },
    {
      "cell_type": "markdown",
      "source": [
        "- CountVectorizer\n",
        "\n",
        "- TfidfVectorizer\n",
        "\n",
        "    max_df : 빈도수 최댓값 제한, = 300\n",
        "\n",
        "    min_df : 빈도수 최촛값 제한, = 20\n",
        "\n",
        "    max_features : 피처의 개수 제한, = 500\n",
        "\n",
        "    stop_words : 사용자 불용어 지정\n",
        "\n",
        "    ngram_range : n-gram 의 범위 지정 (1, 2)\n",
        "\n",
        "    tokenizer : 토큰화를 별도의 함수로 이용시"
      ],
      "metadata": {
        "id": "nPLImRZkhMGr"
      }
    },
    {
      "cell_type": "markdown",
      "source": [
        "'Agent Smith knocks the door'\n",
        "\n",
        "2-gram\n",
        "\n"
      ],
      "metadata": {
        "id": "0VaQo_-kicj8"
      }
    },
    {
      "cell_type": "markdown",
      "source": [
        "(Agent, Smith), (Smith, knocks), (knocks, the), (the, door)"
      ],
      "metadata": {
        "id": "0bipgEqyixV4"
      }
    },
    {
      "cell_type": "markdown",
      "source": [
        "1-gram\n",
        "\n",
        "(Agen) (Smith) (knocks) (the) (door)"
      ],
      "metadata": {
        "id": "vjGQXd8IjJ38"
      }
    },
    {
      "cell_type": "code",
      "source": [
        "from sklearn.feature_extraction.text import TfidfVectorizer, CountVectorizer"
      ],
      "metadata": {
        "id": "_6xj2OYpixHn"
      },
      "execution_count": null,
      "outputs": []
    },
    {
      "cell_type": "code",
      "source": [
        "text = ['사과 딸기', '딸기 바나나', '수박', '수박 수박']"
      ],
      "metadata": {
        "id": "i_VXd5fffpgG"
      },
      "execution_count": null,
      "outputs": []
    },
    {
      "cell_type": "code",
      "source": [
        "cnt = CountVectorizer()\n",
        "cnt.fit(text)\n",
        "text_cnt = cnt.transform(text)"
      ],
      "metadata": {
        "id": "2xV-cK6JkOV9"
      },
      "execution_count": null,
      "outputs": []
    },
    {
      "cell_type": "code",
      "source": [
        "text_cnt"
      ],
      "metadata": {
        "colab": {
          "base_uri": "https://localhost:8080/"
        },
        "id": "dRkyzS1KkjuF",
        "outputId": "0976fe34-fa56-4a24-9e83-40cc5d998091"
      },
      "execution_count": null,
      "outputs": [
        {
          "output_type": "execute_result",
          "data": {
            "text/plain": [
              "<4x4 sparse matrix of type '<class 'numpy.int64'>'\n",
              "\twith 6 stored elements in Compressed Sparse Row format>"
            ]
          },
          "metadata": {},
          "execution_count": 87
        }
      ]
    },
    {
      "cell_type": "code",
      "source": [
        "print(text_cnt)"
      ],
      "metadata": {
        "colab": {
          "base_uri": "https://localhost:8080/"
        },
        "id": "uShuaQNWkst4",
        "outputId": "d6a5c0dc-77a5-4913-a243-79161018850a"
      },
      "execution_count": null,
      "outputs": [
        {
          "output_type": "stream",
          "name": "stdout",
          "text": [
            "  (0, 0)\t1\n",
            "  (0, 2)\t1\n",
            "  (1, 0)\t1\n",
            "  (1, 1)\t1\n",
            "  (2, 3)\t1\n",
            "  (3, 3)\t2\n"
          ]
        }
      ]
    },
    {
      "cell_type": "code",
      "source": [
        "text_cnt.toarray()"
      ],
      "metadata": {
        "colab": {
          "base_uri": "https://localhost:8080/"
        },
        "id": "hFqbCfgllP8w",
        "outputId": "d99449b9-c68d-4e7c-bf4e-96827fa6fa9b"
      },
      "execution_count": null,
      "outputs": [
        {
          "output_type": "execute_result",
          "data": {
            "text/plain": [
              "array([[1, 0, 1, 0],\n",
              "       [1, 1, 0, 0],\n",
              "       [0, 0, 0, 1],\n",
              "       [0, 0, 0, 2]])"
            ]
          },
          "metadata": {},
          "execution_count": 89
        }
      ]
    },
    {
      "cell_type": "code",
      "source": [
        "cnt.get_feature_names_out()"
      ],
      "metadata": {
        "colab": {
          "base_uri": "https://localhost:8080/"
        },
        "id": "pCffS4QOlgSA",
        "outputId": "149b925c-e857-4e03-d4a6-873b4aab2dc4"
      },
      "execution_count": null,
      "outputs": [
        {
          "output_type": "execute_result",
          "data": {
            "text/plain": [
              "array(['딸기', '바나나', '사과', '수박'], dtype=object)"
            ]
          },
          "metadata": {},
          "execution_count": 92
        }
      ]
    },
    {
      "cell_type": "code",
      "source": [
        "import pandas as pd\n",
        "df = pd.DataFrame(text_cnt.toarray(), columns = cnt.get_feature_names_out())"
      ],
      "metadata": {
        "id": "yvfX94hXlCXU"
      },
      "execution_count": null,
      "outputs": []
    },
    {
      "cell_type": "code",
      "source": [
        "df"
      ],
      "metadata": {
        "colab": {
          "base_uri": "https://localhost:8080/",
          "height": 175
        },
        "id": "V2LBbr_KlbmF",
        "outputId": "c380d5aa-2948-4484-8de7-cb11c7a4a76f"
      },
      "execution_count": null,
      "outputs": [
        {
          "output_type": "execute_result",
          "data": {
            "text/plain": [
              "   딸기  바나나  사과  수박\n",
              "0   1    0   1   0\n",
              "1   1    1   0   0\n",
              "2   0    0   0   1\n",
              "3   0    0   0   2"
            ],
            "text/html": [
              "\n",
              "  <div id=\"df-d46e69b0-29ff-48fa-a165-0448332843e6\" class=\"colab-df-container\">\n",
              "    <div>\n",
              "<style scoped>\n",
              "    .dataframe tbody tr th:only-of-type {\n",
              "        vertical-align: middle;\n",
              "    }\n",
              "\n",
              "    .dataframe tbody tr th {\n",
              "        vertical-align: top;\n",
              "    }\n",
              "\n",
              "    .dataframe thead th {\n",
              "        text-align: right;\n",
              "    }\n",
              "</style>\n",
              "<table border=\"1\" class=\"dataframe\">\n",
              "  <thead>\n",
              "    <tr style=\"text-align: right;\">\n",
              "      <th></th>\n",
              "      <th>딸기</th>\n",
              "      <th>바나나</th>\n",
              "      <th>사과</th>\n",
              "      <th>수박</th>\n",
              "    </tr>\n",
              "  </thead>\n",
              "  <tbody>\n",
              "    <tr>\n",
              "      <th>0</th>\n",
              "      <td>1</td>\n",
              "      <td>0</td>\n",
              "      <td>1</td>\n",
              "      <td>0</td>\n",
              "    </tr>\n",
              "    <tr>\n",
              "      <th>1</th>\n",
              "      <td>1</td>\n",
              "      <td>1</td>\n",
              "      <td>0</td>\n",
              "      <td>0</td>\n",
              "    </tr>\n",
              "    <tr>\n",
              "      <th>2</th>\n",
              "      <td>0</td>\n",
              "      <td>0</td>\n",
              "      <td>0</td>\n",
              "      <td>1</td>\n",
              "    </tr>\n",
              "    <tr>\n",
              "      <th>3</th>\n",
              "      <td>0</td>\n",
              "      <td>0</td>\n",
              "      <td>0</td>\n",
              "      <td>2</td>\n",
              "    </tr>\n",
              "  </tbody>\n",
              "</table>\n",
              "</div>\n",
              "    <div class=\"colab-df-buttons\">\n",
              "\n",
              "  <div class=\"colab-df-container\">\n",
              "    <button class=\"colab-df-convert\" onclick=\"convertToInteractive('df-d46e69b0-29ff-48fa-a165-0448332843e6')\"\n",
              "            title=\"Convert this dataframe to an interactive table.\"\n",
              "            style=\"display:none;\">\n",
              "\n",
              "  <svg xmlns=\"http://www.w3.org/2000/svg\" height=\"24px\" viewBox=\"0 -960 960 960\">\n",
              "    <path d=\"M120-120v-720h720v720H120Zm60-500h600v-160H180v160Zm220 220h160v-160H400v160Zm0 220h160v-160H400v160ZM180-400h160v-160H180v160Zm440 0h160v-160H620v160ZM180-180h160v-160H180v160Zm440 0h160v-160H620v160Z\"/>\n",
              "  </svg>\n",
              "    </button>\n",
              "\n",
              "  <style>\n",
              "    .colab-df-container {\n",
              "      display:flex;\n",
              "      gap: 12px;\n",
              "    }\n",
              "\n",
              "    .colab-df-convert {\n",
              "      background-color: #E8F0FE;\n",
              "      border: none;\n",
              "      border-radius: 50%;\n",
              "      cursor: pointer;\n",
              "      display: none;\n",
              "      fill: #1967D2;\n",
              "      height: 32px;\n",
              "      padding: 0 0 0 0;\n",
              "      width: 32px;\n",
              "    }\n",
              "\n",
              "    .colab-df-convert:hover {\n",
              "      background-color: #E2EBFA;\n",
              "      box-shadow: 0px 1px 2px rgba(60, 64, 67, 0.3), 0px 1px 3px 1px rgba(60, 64, 67, 0.15);\n",
              "      fill: #174EA6;\n",
              "    }\n",
              "\n",
              "    .colab-df-buttons div {\n",
              "      margin-bottom: 4px;\n",
              "    }\n",
              "\n",
              "    [theme=dark] .colab-df-convert {\n",
              "      background-color: #3B4455;\n",
              "      fill: #D2E3FC;\n",
              "    }\n",
              "\n",
              "    [theme=dark] .colab-df-convert:hover {\n",
              "      background-color: #434B5C;\n",
              "      box-shadow: 0px 1px 3px 1px rgba(0, 0, 0, 0.15);\n",
              "      filter: drop-shadow(0px 1px 2px rgba(0, 0, 0, 0.3));\n",
              "      fill: #FFFFFF;\n",
              "    }\n",
              "  </style>\n",
              "\n",
              "    <script>\n",
              "      const buttonEl =\n",
              "        document.querySelector('#df-d46e69b0-29ff-48fa-a165-0448332843e6 button.colab-df-convert');\n",
              "      buttonEl.style.display =\n",
              "        google.colab.kernel.accessAllowed ? 'block' : 'none';\n",
              "\n",
              "      async function convertToInteractive(key) {\n",
              "        const element = document.querySelector('#df-d46e69b0-29ff-48fa-a165-0448332843e6');\n",
              "        const dataTable =\n",
              "          await google.colab.kernel.invokeFunction('convertToInteractive',\n",
              "                                                    [key], {});\n",
              "        if (!dataTable) return;\n",
              "\n",
              "        const docLinkHtml = 'Like what you see? Visit the ' +\n",
              "          '<a target=\"_blank\" href=https://colab.research.google.com/notebooks/data_table.ipynb>data table notebook</a>'\n",
              "          + ' to learn more about interactive tables.';\n",
              "        element.innerHTML = '';\n",
              "        dataTable['output_type'] = 'display_data';\n",
              "        await google.colab.output.renderOutput(dataTable, element);\n",
              "        const docLink = document.createElement('div');\n",
              "        docLink.innerHTML = docLinkHtml;\n",
              "        element.appendChild(docLink);\n",
              "      }\n",
              "    </script>\n",
              "  </div>\n",
              "\n",
              "\n",
              "<div id=\"df-61d32e78-7e75-4ffe-87bd-d80b3958ad49\">\n",
              "  <button class=\"colab-df-quickchart\" onclick=\"quickchart('df-61d32e78-7e75-4ffe-87bd-d80b3958ad49')\"\n",
              "            title=\"Suggest charts.\"\n",
              "            style=\"display:none;\">\n",
              "\n",
              "<svg xmlns=\"http://www.w3.org/2000/svg\" height=\"24px\"viewBox=\"0 0 24 24\"\n",
              "     width=\"24px\">\n",
              "    <g>\n",
              "        <path d=\"M19 3H5c-1.1 0-2 .9-2 2v14c0 1.1.9 2 2 2h14c1.1 0 2-.9 2-2V5c0-1.1-.9-2-2-2zM9 17H7v-7h2v7zm4 0h-2V7h2v10zm4 0h-2v-4h2v4z\"/>\n",
              "    </g>\n",
              "</svg>\n",
              "  </button>\n",
              "\n",
              "<style>\n",
              "  .colab-df-quickchart {\n",
              "      --bg-color: #E8F0FE;\n",
              "      --fill-color: #1967D2;\n",
              "      --hover-bg-color: #E2EBFA;\n",
              "      --hover-fill-color: #174EA6;\n",
              "      --disabled-fill-color: #AAA;\n",
              "      --disabled-bg-color: #DDD;\n",
              "  }\n",
              "\n",
              "  [theme=dark] .colab-df-quickchart {\n",
              "      --bg-color: #3B4455;\n",
              "      --fill-color: #D2E3FC;\n",
              "      --hover-bg-color: #434B5C;\n",
              "      --hover-fill-color: #FFFFFF;\n",
              "      --disabled-bg-color: #3B4455;\n",
              "      --disabled-fill-color: #666;\n",
              "  }\n",
              "\n",
              "  .colab-df-quickchart {\n",
              "    background-color: var(--bg-color);\n",
              "    border: none;\n",
              "    border-radius: 50%;\n",
              "    cursor: pointer;\n",
              "    display: none;\n",
              "    fill: var(--fill-color);\n",
              "    height: 32px;\n",
              "    padding: 0;\n",
              "    width: 32px;\n",
              "  }\n",
              "\n",
              "  .colab-df-quickchart:hover {\n",
              "    background-color: var(--hover-bg-color);\n",
              "    box-shadow: 0 1px 2px rgba(60, 64, 67, 0.3), 0 1px 3px 1px rgba(60, 64, 67, 0.15);\n",
              "    fill: var(--button-hover-fill-color);\n",
              "  }\n",
              "\n",
              "  .colab-df-quickchart-complete:disabled,\n",
              "  .colab-df-quickchart-complete:disabled:hover {\n",
              "    background-color: var(--disabled-bg-color);\n",
              "    fill: var(--disabled-fill-color);\n",
              "    box-shadow: none;\n",
              "  }\n",
              "\n",
              "  .colab-df-spinner {\n",
              "    border: 2px solid var(--fill-color);\n",
              "    border-color: transparent;\n",
              "    border-bottom-color: var(--fill-color);\n",
              "    animation:\n",
              "      spin 1s steps(1) infinite;\n",
              "  }\n",
              "\n",
              "  @keyframes spin {\n",
              "    0% {\n",
              "      border-color: transparent;\n",
              "      border-bottom-color: var(--fill-color);\n",
              "      border-left-color: var(--fill-color);\n",
              "    }\n",
              "    20% {\n",
              "      border-color: transparent;\n",
              "      border-left-color: var(--fill-color);\n",
              "      border-top-color: var(--fill-color);\n",
              "    }\n",
              "    30% {\n",
              "      border-color: transparent;\n",
              "      border-left-color: var(--fill-color);\n",
              "      border-top-color: var(--fill-color);\n",
              "      border-right-color: var(--fill-color);\n",
              "    }\n",
              "    40% {\n",
              "      border-color: transparent;\n",
              "      border-right-color: var(--fill-color);\n",
              "      border-top-color: var(--fill-color);\n",
              "    }\n",
              "    60% {\n",
              "      border-color: transparent;\n",
              "      border-right-color: var(--fill-color);\n",
              "    }\n",
              "    80% {\n",
              "      border-color: transparent;\n",
              "      border-right-color: var(--fill-color);\n",
              "      border-bottom-color: var(--fill-color);\n",
              "    }\n",
              "    90% {\n",
              "      border-color: transparent;\n",
              "      border-bottom-color: var(--fill-color);\n",
              "    }\n",
              "  }\n",
              "</style>\n",
              "\n",
              "  <script>\n",
              "    async function quickchart(key) {\n",
              "      const quickchartButtonEl =\n",
              "        document.querySelector('#' + key + ' button');\n",
              "      quickchartButtonEl.disabled = true;  // To prevent multiple clicks.\n",
              "      quickchartButtonEl.classList.add('colab-df-spinner');\n",
              "      try {\n",
              "        const charts = await google.colab.kernel.invokeFunction(\n",
              "            'suggestCharts', [key], {});\n",
              "      } catch (error) {\n",
              "        console.error('Error during call to suggestCharts:', error);\n",
              "      }\n",
              "      quickchartButtonEl.classList.remove('colab-df-spinner');\n",
              "      quickchartButtonEl.classList.add('colab-df-quickchart-complete');\n",
              "    }\n",
              "    (() => {\n",
              "      let quickchartButtonEl =\n",
              "        document.querySelector('#df-61d32e78-7e75-4ffe-87bd-d80b3958ad49 button');\n",
              "      quickchartButtonEl.style.display =\n",
              "        google.colab.kernel.accessAllowed ? 'block' : 'none';\n",
              "    })();\n",
              "  </script>\n",
              "</div>\n",
              "    </div>\n",
              "  </div>\n"
            ]
          },
          "metadata": {},
          "execution_count": 93
        }
      ]
    },
    {
      "cell_type": "code",
      "source": [
        "tfi = TfidfVectorizer()"
      ],
      "metadata": {
        "id": "6wnCOqshlmM5"
      },
      "execution_count": null,
      "outputs": []
    },
    {
      "cell_type": "code",
      "source": [
        "tfi.fit(text)"
      ],
      "metadata": {
        "colab": {
          "base_uri": "https://localhost:8080/",
          "height": 74
        },
        "id": "QazF32GQpFDf",
        "outputId": "98a0b5f9-0087-490f-df80-a063b3744ed5"
      },
      "execution_count": null,
      "outputs": [
        {
          "output_type": "execute_result",
          "data": {
            "text/plain": [
              "TfidfVectorizer()"
            ],
            "text/html": [
              "<style>#sk-container-id-1 {color: black;background-color: white;}#sk-container-id-1 pre{padding: 0;}#sk-container-id-1 div.sk-toggleable {background-color: white;}#sk-container-id-1 label.sk-toggleable__label {cursor: pointer;display: block;width: 100%;margin-bottom: 0;padding: 0.3em;box-sizing: border-box;text-align: center;}#sk-container-id-1 label.sk-toggleable__label-arrow:before {content: \"▸\";float: left;margin-right: 0.25em;color: #696969;}#sk-container-id-1 label.sk-toggleable__label-arrow:hover:before {color: black;}#sk-container-id-1 div.sk-estimator:hover label.sk-toggleable__label-arrow:before {color: black;}#sk-container-id-1 div.sk-toggleable__content {max-height: 0;max-width: 0;overflow: hidden;text-align: left;background-color: #f0f8ff;}#sk-container-id-1 div.sk-toggleable__content pre {margin: 0.2em;color: black;border-radius: 0.25em;background-color: #f0f8ff;}#sk-container-id-1 input.sk-toggleable__control:checked~div.sk-toggleable__content {max-height: 200px;max-width: 100%;overflow: auto;}#sk-container-id-1 input.sk-toggleable__control:checked~label.sk-toggleable__label-arrow:before {content: \"▾\";}#sk-container-id-1 div.sk-estimator input.sk-toggleable__control:checked~label.sk-toggleable__label {background-color: #d4ebff;}#sk-container-id-1 div.sk-label input.sk-toggleable__control:checked~label.sk-toggleable__label {background-color: #d4ebff;}#sk-container-id-1 input.sk-hidden--visually {border: 0;clip: rect(1px 1px 1px 1px);clip: rect(1px, 1px, 1px, 1px);height: 1px;margin: -1px;overflow: hidden;padding: 0;position: absolute;width: 1px;}#sk-container-id-1 div.sk-estimator {font-family: monospace;background-color: #f0f8ff;border: 1px dotted black;border-radius: 0.25em;box-sizing: border-box;margin-bottom: 0.5em;}#sk-container-id-1 div.sk-estimator:hover {background-color: #d4ebff;}#sk-container-id-1 div.sk-parallel-item::after {content: \"\";width: 100%;border-bottom: 1px solid gray;flex-grow: 1;}#sk-container-id-1 div.sk-label:hover label.sk-toggleable__label {background-color: #d4ebff;}#sk-container-id-1 div.sk-serial::before {content: \"\";position: absolute;border-left: 1px solid gray;box-sizing: border-box;top: 0;bottom: 0;left: 50%;z-index: 0;}#sk-container-id-1 div.sk-serial {display: flex;flex-direction: column;align-items: center;background-color: white;padding-right: 0.2em;padding-left: 0.2em;position: relative;}#sk-container-id-1 div.sk-item {position: relative;z-index: 1;}#sk-container-id-1 div.sk-parallel {display: flex;align-items: stretch;justify-content: center;background-color: white;position: relative;}#sk-container-id-1 div.sk-item::before, #sk-container-id-1 div.sk-parallel-item::before {content: \"\";position: absolute;border-left: 1px solid gray;box-sizing: border-box;top: 0;bottom: 0;left: 50%;z-index: -1;}#sk-container-id-1 div.sk-parallel-item {display: flex;flex-direction: column;z-index: 1;position: relative;background-color: white;}#sk-container-id-1 div.sk-parallel-item:first-child::after {align-self: flex-end;width: 50%;}#sk-container-id-1 div.sk-parallel-item:last-child::after {align-self: flex-start;width: 50%;}#sk-container-id-1 div.sk-parallel-item:only-child::after {width: 0;}#sk-container-id-1 div.sk-dashed-wrapped {border: 1px dashed gray;margin: 0 0.4em 0.5em 0.4em;box-sizing: border-box;padding-bottom: 0.4em;background-color: white;}#sk-container-id-1 div.sk-label label {font-family: monospace;font-weight: bold;display: inline-block;line-height: 1.2em;}#sk-container-id-1 div.sk-label-container {text-align: center;}#sk-container-id-1 div.sk-container {/* jupyter's `normalize.less` sets `[hidden] { display: none; }` but bootstrap.min.css set `[hidden] { display: none !important; }` so we also need the `!important` here to be able to override the default hidden behavior on the sphinx rendered scikit-learn.org. See: https://github.com/scikit-learn/scikit-learn/issues/21755 */display: inline-block !important;position: relative;}#sk-container-id-1 div.sk-text-repr-fallback {display: none;}</style><div id=\"sk-container-id-1\" class=\"sk-top-container\"><div class=\"sk-text-repr-fallback\"><pre>TfidfVectorizer()</pre><b>In a Jupyter environment, please rerun this cell to show the HTML representation or trust the notebook. <br />On GitHub, the HTML representation is unable to render, please try loading this page with nbviewer.org.</b></div><div class=\"sk-container\" hidden><div class=\"sk-item\"><div class=\"sk-estimator sk-toggleable\"><input class=\"sk-toggleable__control sk-hidden--visually\" id=\"sk-estimator-id-1\" type=\"checkbox\" checked><label for=\"sk-estimator-id-1\" class=\"sk-toggleable__label sk-toggleable__label-arrow\">TfidfVectorizer</label><div class=\"sk-toggleable__content\"><pre>TfidfVectorizer()</pre></div></div></div></div></div>"
            ]
          },
          "metadata": {},
          "execution_count": 95
        }
      ]
    },
    {
      "cell_type": "code",
      "source": [
        "text_tfi = tfi.transform(text)\n",
        "print(text_tfi)"
      ],
      "metadata": {
        "colab": {
          "base_uri": "https://localhost:8080/"
        },
        "id": "jNwaqUoEpH57",
        "outputId": "4532fab2-514d-41f3-ca00-46a45975aedb"
      },
      "execution_count": null,
      "outputs": [
        {
          "output_type": "stream",
          "name": "stdout",
          "text": [
            "  (0, 2)\t0.7852882757103967\n",
            "  (0, 0)\t0.6191302964899972\n",
            "  (1, 1)\t0.7852882757103967\n",
            "  (1, 0)\t0.6191302964899972\n",
            "  (2, 3)\t1.0\n",
            "  (3, 3)\t1.0\n"
          ]
        }
      ]
    },
    {
      "cell_type": "code",
      "source": [
        "df = pd.DataFrame(text_tfi.toarray(), columns = tfi.get_feature_names_out())"
      ],
      "metadata": {
        "id": "9qo36iuxpPMC"
      },
      "execution_count": null,
      "outputs": []
    },
    {
      "cell_type": "code",
      "source": [
        "df"
      ],
      "metadata": {
        "colab": {
          "base_uri": "https://localhost:8080/",
          "height": 175
        },
        "id": "PdVPbFNtpYnY",
        "outputId": "bd64b6fe-3ab9-4953-9fee-89862f04126a"
      },
      "execution_count": null,
      "outputs": [
        {
          "output_type": "execute_result",
          "data": {
            "text/plain": [
              "        딸기       바나나        사과   수박\n",
              "0  0.61913  0.000000  0.785288  0.0\n",
              "1  0.61913  0.785288  0.000000  0.0\n",
              "2  0.00000  0.000000  0.000000  1.0\n",
              "3  0.00000  0.000000  0.000000  1.0"
            ],
            "text/html": [
              "\n",
              "  <div id=\"df-a605310d-eb3d-4386-8b5e-2d990c480705\" class=\"colab-df-container\">\n",
              "    <div>\n",
              "<style scoped>\n",
              "    .dataframe tbody tr th:only-of-type {\n",
              "        vertical-align: middle;\n",
              "    }\n",
              "\n",
              "    .dataframe tbody tr th {\n",
              "        vertical-align: top;\n",
              "    }\n",
              "\n",
              "    .dataframe thead th {\n",
              "        text-align: right;\n",
              "    }\n",
              "</style>\n",
              "<table border=\"1\" class=\"dataframe\">\n",
              "  <thead>\n",
              "    <tr style=\"text-align: right;\">\n",
              "      <th></th>\n",
              "      <th>딸기</th>\n",
              "      <th>바나나</th>\n",
              "      <th>사과</th>\n",
              "      <th>수박</th>\n",
              "    </tr>\n",
              "  </thead>\n",
              "  <tbody>\n",
              "    <tr>\n",
              "      <th>0</th>\n",
              "      <td>0.61913</td>\n",
              "      <td>0.000000</td>\n",
              "      <td>0.785288</td>\n",
              "      <td>0.0</td>\n",
              "    </tr>\n",
              "    <tr>\n",
              "      <th>1</th>\n",
              "      <td>0.61913</td>\n",
              "      <td>0.785288</td>\n",
              "      <td>0.000000</td>\n",
              "      <td>0.0</td>\n",
              "    </tr>\n",
              "    <tr>\n",
              "      <th>2</th>\n",
              "      <td>0.00000</td>\n",
              "      <td>0.000000</td>\n",
              "      <td>0.000000</td>\n",
              "      <td>1.0</td>\n",
              "    </tr>\n",
              "    <tr>\n",
              "      <th>3</th>\n",
              "      <td>0.00000</td>\n",
              "      <td>0.000000</td>\n",
              "      <td>0.000000</td>\n",
              "      <td>1.0</td>\n",
              "    </tr>\n",
              "  </tbody>\n",
              "</table>\n",
              "</div>\n",
              "    <div class=\"colab-df-buttons\">\n",
              "\n",
              "  <div class=\"colab-df-container\">\n",
              "    <button class=\"colab-df-convert\" onclick=\"convertToInteractive('df-a605310d-eb3d-4386-8b5e-2d990c480705')\"\n",
              "            title=\"Convert this dataframe to an interactive table.\"\n",
              "            style=\"display:none;\">\n",
              "\n",
              "  <svg xmlns=\"http://www.w3.org/2000/svg\" height=\"24px\" viewBox=\"0 -960 960 960\">\n",
              "    <path d=\"M120-120v-720h720v720H120Zm60-500h600v-160H180v160Zm220 220h160v-160H400v160Zm0 220h160v-160H400v160ZM180-400h160v-160H180v160Zm440 0h160v-160H620v160ZM180-180h160v-160H180v160Zm440 0h160v-160H620v160Z\"/>\n",
              "  </svg>\n",
              "    </button>\n",
              "\n",
              "  <style>\n",
              "    .colab-df-container {\n",
              "      display:flex;\n",
              "      gap: 12px;\n",
              "    }\n",
              "\n",
              "    .colab-df-convert {\n",
              "      background-color: #E8F0FE;\n",
              "      border: none;\n",
              "      border-radius: 50%;\n",
              "      cursor: pointer;\n",
              "      display: none;\n",
              "      fill: #1967D2;\n",
              "      height: 32px;\n",
              "      padding: 0 0 0 0;\n",
              "      width: 32px;\n",
              "    }\n",
              "\n",
              "    .colab-df-convert:hover {\n",
              "      background-color: #E2EBFA;\n",
              "      box-shadow: 0px 1px 2px rgba(60, 64, 67, 0.3), 0px 1px 3px 1px rgba(60, 64, 67, 0.15);\n",
              "      fill: #174EA6;\n",
              "    }\n",
              "\n",
              "    .colab-df-buttons div {\n",
              "      margin-bottom: 4px;\n",
              "    }\n",
              "\n",
              "    [theme=dark] .colab-df-convert {\n",
              "      background-color: #3B4455;\n",
              "      fill: #D2E3FC;\n",
              "    }\n",
              "\n",
              "    [theme=dark] .colab-df-convert:hover {\n",
              "      background-color: #434B5C;\n",
              "      box-shadow: 0px 1px 3px 1px rgba(0, 0, 0, 0.15);\n",
              "      filter: drop-shadow(0px 1px 2px rgba(0, 0, 0, 0.3));\n",
              "      fill: #FFFFFF;\n",
              "    }\n",
              "  </style>\n",
              "\n",
              "    <script>\n",
              "      const buttonEl =\n",
              "        document.querySelector('#df-a605310d-eb3d-4386-8b5e-2d990c480705 button.colab-df-convert');\n",
              "      buttonEl.style.display =\n",
              "        google.colab.kernel.accessAllowed ? 'block' : 'none';\n",
              "\n",
              "      async function convertToInteractive(key) {\n",
              "        const element = document.querySelector('#df-a605310d-eb3d-4386-8b5e-2d990c480705');\n",
              "        const dataTable =\n",
              "          await google.colab.kernel.invokeFunction('convertToInteractive',\n",
              "                                                    [key], {});\n",
              "        if (!dataTable) return;\n",
              "\n",
              "        const docLinkHtml = 'Like what you see? Visit the ' +\n",
              "          '<a target=\"_blank\" href=https://colab.research.google.com/notebooks/data_table.ipynb>data table notebook</a>'\n",
              "          + ' to learn more about interactive tables.';\n",
              "        element.innerHTML = '';\n",
              "        dataTable['output_type'] = 'display_data';\n",
              "        await google.colab.output.renderOutput(dataTable, element);\n",
              "        const docLink = document.createElement('div');\n",
              "        docLink.innerHTML = docLinkHtml;\n",
              "        element.appendChild(docLink);\n",
              "      }\n",
              "    </script>\n",
              "  </div>\n",
              "\n",
              "\n",
              "<div id=\"df-bf735f57-58ac-4b87-9b50-539452eafbab\">\n",
              "  <button class=\"colab-df-quickchart\" onclick=\"quickchart('df-bf735f57-58ac-4b87-9b50-539452eafbab')\"\n",
              "            title=\"Suggest charts.\"\n",
              "            style=\"display:none;\">\n",
              "\n",
              "<svg xmlns=\"http://www.w3.org/2000/svg\" height=\"24px\"viewBox=\"0 0 24 24\"\n",
              "     width=\"24px\">\n",
              "    <g>\n",
              "        <path d=\"M19 3H5c-1.1 0-2 .9-2 2v14c0 1.1.9 2 2 2h14c1.1 0 2-.9 2-2V5c0-1.1-.9-2-2-2zM9 17H7v-7h2v7zm4 0h-2V7h2v10zm4 0h-2v-4h2v4z\"/>\n",
              "    </g>\n",
              "</svg>\n",
              "  </button>\n",
              "\n",
              "<style>\n",
              "  .colab-df-quickchart {\n",
              "      --bg-color: #E8F0FE;\n",
              "      --fill-color: #1967D2;\n",
              "      --hover-bg-color: #E2EBFA;\n",
              "      --hover-fill-color: #174EA6;\n",
              "      --disabled-fill-color: #AAA;\n",
              "      --disabled-bg-color: #DDD;\n",
              "  }\n",
              "\n",
              "  [theme=dark] .colab-df-quickchart {\n",
              "      --bg-color: #3B4455;\n",
              "      --fill-color: #D2E3FC;\n",
              "      --hover-bg-color: #434B5C;\n",
              "      --hover-fill-color: #FFFFFF;\n",
              "      --disabled-bg-color: #3B4455;\n",
              "      --disabled-fill-color: #666;\n",
              "  }\n",
              "\n",
              "  .colab-df-quickchart {\n",
              "    background-color: var(--bg-color);\n",
              "    border: none;\n",
              "    border-radius: 50%;\n",
              "    cursor: pointer;\n",
              "    display: none;\n",
              "    fill: var(--fill-color);\n",
              "    height: 32px;\n",
              "    padding: 0;\n",
              "    width: 32px;\n",
              "  }\n",
              "\n",
              "  .colab-df-quickchart:hover {\n",
              "    background-color: var(--hover-bg-color);\n",
              "    box-shadow: 0 1px 2px rgba(60, 64, 67, 0.3), 0 1px 3px 1px rgba(60, 64, 67, 0.15);\n",
              "    fill: var(--button-hover-fill-color);\n",
              "  }\n",
              "\n",
              "  .colab-df-quickchart-complete:disabled,\n",
              "  .colab-df-quickchart-complete:disabled:hover {\n",
              "    background-color: var(--disabled-bg-color);\n",
              "    fill: var(--disabled-fill-color);\n",
              "    box-shadow: none;\n",
              "  }\n",
              "\n",
              "  .colab-df-spinner {\n",
              "    border: 2px solid var(--fill-color);\n",
              "    border-color: transparent;\n",
              "    border-bottom-color: var(--fill-color);\n",
              "    animation:\n",
              "      spin 1s steps(1) infinite;\n",
              "  }\n",
              "\n",
              "  @keyframes spin {\n",
              "    0% {\n",
              "      border-color: transparent;\n",
              "      border-bottom-color: var(--fill-color);\n",
              "      border-left-color: var(--fill-color);\n",
              "    }\n",
              "    20% {\n",
              "      border-color: transparent;\n",
              "      border-left-color: var(--fill-color);\n",
              "      border-top-color: var(--fill-color);\n",
              "    }\n",
              "    30% {\n",
              "      border-color: transparent;\n",
              "      border-left-color: var(--fill-color);\n",
              "      border-top-color: var(--fill-color);\n",
              "      border-right-color: var(--fill-color);\n",
              "    }\n",
              "    40% {\n",
              "      border-color: transparent;\n",
              "      border-right-color: var(--fill-color);\n",
              "      border-top-color: var(--fill-color);\n",
              "    }\n",
              "    60% {\n",
              "      border-color: transparent;\n",
              "      border-right-color: var(--fill-color);\n",
              "    }\n",
              "    80% {\n",
              "      border-color: transparent;\n",
              "      border-right-color: var(--fill-color);\n",
              "      border-bottom-color: var(--fill-color);\n",
              "    }\n",
              "    90% {\n",
              "      border-color: transparent;\n",
              "      border-bottom-color: var(--fill-color);\n",
              "    }\n",
              "  }\n",
              "</style>\n",
              "\n",
              "  <script>\n",
              "    async function quickchart(key) {\n",
              "      const quickchartButtonEl =\n",
              "        document.querySelector('#' + key + ' button');\n",
              "      quickchartButtonEl.disabled = true;  // To prevent multiple clicks.\n",
              "      quickchartButtonEl.classList.add('colab-df-spinner');\n",
              "      try {\n",
              "        const charts = await google.colab.kernel.invokeFunction(\n",
              "            'suggestCharts', [key], {});\n",
              "      } catch (error) {\n",
              "        console.error('Error during call to suggestCharts:', error);\n",
              "      }\n",
              "      quickchartButtonEl.classList.remove('colab-df-spinner');\n",
              "      quickchartButtonEl.classList.add('colab-df-quickchart-complete');\n",
              "    }\n",
              "    (() => {\n",
              "      let quickchartButtonEl =\n",
              "        document.querySelector('#df-bf735f57-58ac-4b87-9b50-539452eafbab button');\n",
              "      quickchartButtonEl.style.display =\n",
              "        google.colab.kernel.accessAllowed ? 'block' : 'none';\n",
              "    })();\n",
              "  </script>\n",
              "</div>\n",
              "    </div>\n",
              "  </div>\n"
            ]
          },
          "metadata": {},
          "execution_count": 98
        }
      ]
    },
    {
      "cell_type": "markdown",
      "source": [
        "#희소 행렬 표현 형식 : COO, CSR"
      ],
      "metadata": {
        "id": "TYB8SuJZqKCz"
      }
    },
    {
      "cell_type": "code",
      "source": [
        "import numpy as np"
      ],
      "metadata": {
        "id": "JW4gNnv3pZCt"
      },
      "execution_count": null,
      "outputs": []
    },
    {
      "cell_type": "code",
      "source": [
        "from scipy import sparse"
      ],
      "metadata": {
        "id": "KWyifmBNsHPZ"
      },
      "execution_count": null,
      "outputs": []
    },
    {
      "cell_type": "code",
      "source": [
        "dense = np.array([[3, 0, 1], [0, 2, 0]])"
      ],
      "metadata": {
        "id": "qYxMUudUrAg4"
      },
      "execution_count": null,
      "outputs": []
    },
    {
      "cell_type": "code",
      "source": [
        "dense"
      ],
      "metadata": {
        "colab": {
          "base_uri": "https://localhost:8080/"
        },
        "id": "8Y4kSoZsruje",
        "outputId": "0059b140-33e0-4397-d606-4826a3ee7364"
      },
      "execution_count": null,
      "outputs": [
        {
          "output_type": "execute_result",
          "data": {
            "text/plain": [
              "array([[3, 0, 1],\n",
              "       [0, 2, 0]])"
            ]
          },
          "metadata": {},
          "execution_count": 105
        }
      ]
    },
    {
      "cell_type": "code",
      "source": [
        "data = np.array([3, 1, 2])"
      ],
      "metadata": {
        "id": "Q1iNA_zSqTTu"
      },
      "execution_count": null,
      "outputs": []
    },
    {
      "cell_type": "code",
      "source": [
        "data"
      ],
      "metadata": {
        "colab": {
          "base_uri": "https://localhost:8080/"
        },
        "id": "qZqxSkXYqe2o",
        "outputId": "45b11ef8-413f-46d4-b75f-cfdda7f1012b"
      },
      "execution_count": null,
      "outputs": [
        {
          "output_type": "execute_result",
          "data": {
            "text/plain": [
              "array([3, 1, 2])"
            ]
          },
          "metadata": {},
          "execution_count": 103
        }
      ]
    },
    {
      "cell_type": "code",
      "source": [
        "row_pos = np.array([0, 0, 1])\n",
        "col_pos = np.array([0, 2, 1])"
      ],
      "metadata": {
        "id": "SI_sYJDFqfzF"
      },
      "execution_count": null,
      "outputs": []
    },
    {
      "cell_type": "code",
      "source": [
        "sparse_coo = sparse.coo_matrix((data, (row_pos, col_pos)))"
      ],
      "metadata": {
        "id": "JAkMvaajr4hw"
      },
      "execution_count": null,
      "outputs": []
    },
    {
      "cell_type": "code",
      "source": [
        "sparse_coo"
      ],
      "metadata": {
        "colab": {
          "base_uri": "https://localhost:8080/"
        },
        "id": "QjzzQ_KTsDuR",
        "outputId": "9f1cab3f-2929-4e26-c686-75369d3ddb06"
      },
      "execution_count": null,
      "outputs": [
        {
          "output_type": "execute_result",
          "data": {
            "text/plain": [
              "<2x3 sparse matrix of type '<class 'numpy.int64'>'\n",
              "\twith 3 stored elements in COOrdinate format>"
            ]
          },
          "metadata": {},
          "execution_count": 111
        }
      ]
    },
    {
      "cell_type": "code",
      "source": [
        "print(sparse_coo)"
      ],
      "metadata": {
        "colab": {
          "base_uri": "https://localhost:8080/"
        },
        "id": "BAEYMRr4sYN9",
        "outputId": "c8b2069c-3a14-4d45-9757-7523c8d76a29"
      },
      "execution_count": null,
      "outputs": [
        {
          "output_type": "stream",
          "name": "stdout",
          "text": [
            "  (0, 0)\t3\n",
            "  (0, 2)\t1\n",
            "  (1, 1)\t2\n"
          ]
        }
      ]
    },
    {
      "cell_type": "code",
      "source": [
        "sparse_coo.toarray()"
      ],
      "metadata": {
        "colab": {
          "base_uri": "https://localhost:8080/"
        },
        "id": "m-qShyfDsmCG",
        "outputId": "3ee62de6-802d-4bf7-81c2-f6b370980c33"
      },
      "execution_count": null,
      "outputs": [
        {
          "output_type": "execute_result",
          "data": {
            "text/plain": [
              "array([[3, 0, 1],\n",
              "       [0, 2, 0]])"
            ]
          },
          "metadata": {},
          "execution_count": 113
        }
      ]
    },
    {
      "cell_type": "code",
      "source": [
        "dense2 = np.array([[0,0,1,0,0,5],\n",
        "             [1,4,0,3,2,5],\n",
        "             [0,6,0,3,0,0],\n",
        "             [2,0,0,0,0,0],\n",
        "             [0,0,0,7,0,8],\n",
        "             [1,0,0,0,0,0]])"
      ],
      "metadata": {
        "id": "s83aJNQPss5h"
      },
      "execution_count": null,
      "outputs": []
    },
    {
      "cell_type": "code",
      "source": [
        "data2 = np.array([1, 5, 1, 4, 3, 2, 5, 6, 3, 2, 7, 8, 1])\n",
        "\n",
        "row_pos = np.array([0, 0, 1, 1, 1, 1, 1, 2, 2, 3, 4, 4, 5])\n",
        "col_pos = np.array([2, 5, 0, 1, 3, 4, 5, 1, 3, 0, 3, 5, 0])"
      ],
      "metadata": {
        "id": "Vg7u0X3Es4sA"
      },
      "execution_count": null,
      "outputs": []
    },
    {
      "cell_type": "code",
      "source": [
        "sparse_coo = sparse.coo_matrix((data2, (row_pos, col_pos)))"
      ],
      "metadata": {
        "id": "u_4poWgqtD5H"
      },
      "execution_count": null,
      "outputs": []
    },
    {
      "cell_type": "code",
      "source": [
        "print(sparse_coo)"
      ],
      "metadata": {
        "id": "BWhZwUpztiDN"
      },
      "execution_count": null,
      "outputs": []
    },
    {
      "cell_type": "code",
      "source": [
        "row_pos_ind = np.array([0, 2, 7, 9, 10, 12, 13])"
      ],
      "metadata": {
        "id": "FJsaTd49tkpg"
      },
      "execution_count": null,
      "outputs": []
    },
    {
      "cell_type": "code",
      "source": [
        "sparse_csr = sparse.csr_matrix((data2, col_pos, row_pos_ind))"
      ],
      "metadata": {
        "id": "pCrsqYNguZ9o"
      },
      "execution_count": null,
      "outputs": []
    },
    {
      "cell_type": "code",
      "source": [
        "sparse_csr.toarray()"
      ],
      "metadata": {
        "colab": {
          "base_uri": "https://localhost:8080/"
        },
        "id": "pG0PbEO-uiAr",
        "outputId": "11bd8571-d781-4542-9a60-8eb838a9f304"
      },
      "execution_count": null,
      "outputs": [
        {
          "output_type": "execute_result",
          "data": {
            "text/plain": [
              "array([[0, 0, 1, 0, 0, 5],\n",
              "       [1, 4, 0, 3, 2, 5],\n",
              "       [0, 6, 0, 3, 0, 0],\n",
              "       [2, 0, 0, 0, 0, 0],\n",
              "       [0, 0, 0, 7, 0, 8],\n",
              "       [1, 0, 0, 0, 0, 0]])"
            ]
          },
          "metadata": {},
          "execution_count": 122
        }
      ]
    },
    {
      "cell_type": "code",
      "source": [
        "sparse_coo.toarray()"
      ],
      "metadata": {
        "colab": {
          "base_uri": "https://localhost:8080/"
        },
        "id": "Oft0NXtXupDF",
        "outputId": "37f8e02c-1105-4689-f5b4-21f6739bb5f5"
      },
      "execution_count": null,
      "outputs": [
        {
          "output_type": "execute_result",
          "data": {
            "text/plain": [
              "array([[0, 0, 1, 0, 0, 5],\n",
              "       [1, 4, 0, 3, 2, 5],\n",
              "       [0, 6, 0, 3, 0, 0],\n",
              "       [2, 0, 0, 0, 0, 0],\n",
              "       [0, 0, 0, 7, 0, 8],\n",
              "       [1, 0, 0, 0, 0, 0]])"
            ]
          },
          "metadata": {},
          "execution_count": 123
        }
      ]
    },
    {
      "cell_type": "markdown",
      "source": [
        "예제 : NewsGroups"
      ],
      "metadata": {
        "id": "zx0e9dM-vEPE"
      }
    },
    {
      "cell_type": "code",
      "source": [
        "from sklearn.datasets import fetch_20newsgroups"
      ],
      "metadata": {
        "id": "bsSyVulFusfg"
      },
      "execution_count": null,
      "outputs": []
    },
    {
      "cell_type": "code",
      "source": [
        "news_data = fetch_20newsgroups(subset='all', random_state=156)"
      ],
      "metadata": {
        "id": "5M9N0pJlvrms"
      },
      "execution_count": null,
      "outputs": []
    },
    {
      "cell_type": "code",
      "source": [
        "news_data.keys()"
      ],
      "metadata": {
        "colab": {
          "base_uri": "https://localhost:8080/"
        },
        "id": "wTKKmD1Av7Xs",
        "outputId": "45396958-3483-456f-8499-a4af67fc3d81"
      },
      "execution_count": null,
      "outputs": [
        {
          "output_type": "execute_result",
          "data": {
            "text/plain": [
              "dict_keys(['data', 'filenames', 'target_names', 'target', 'DESCR'])"
            ]
          },
          "metadata": {},
          "execution_count": 126
        }
      ]
    },
    {
      "cell_type": "code",
      "source": [
        "news_data.target"
      ],
      "metadata": {
        "colab": {
          "base_uri": "https://localhost:8080/"
        },
        "id": "oKxU4Sk6wHFW",
        "outputId": "bd83e288-da4c-4bbf-c66b-604cbe5d8ffb"
      },
      "execution_count": null,
      "outputs": [
        {
          "output_type": "execute_result",
          "data": {
            "text/plain": [
              "array([ 8,  8, 12, ...,  7,  3,  9])"
            ]
          },
          "metadata": {},
          "execution_count": 127
        }
      ]
    },
    {
      "cell_type": "code",
      "source": [
        "news_data.target_names"
      ],
      "metadata": {
        "colab": {
          "base_uri": "https://localhost:8080/"
        },
        "id": "9_0Uxwq3wK_P",
        "outputId": "9dbff5c3-b9b3-4380-8d75-3a1ba520fceb"
      },
      "execution_count": null,
      "outputs": [
        {
          "output_type": "execute_result",
          "data": {
            "text/plain": [
              "['alt.atheism',\n",
              " 'comp.graphics',\n",
              " 'comp.os.ms-windows.misc',\n",
              " 'comp.sys.ibm.pc.hardware',\n",
              " 'comp.sys.mac.hardware',\n",
              " 'comp.windows.x',\n",
              " 'misc.forsale',\n",
              " 'rec.autos',\n",
              " 'rec.motorcycles',\n",
              " 'rec.sport.baseball',\n",
              " 'rec.sport.hockey',\n",
              " 'sci.crypt',\n",
              " 'sci.electronics',\n",
              " 'sci.med',\n",
              " 'sci.space',\n",
              " 'soc.religion.christian',\n",
              " 'talk.politics.guns',\n",
              " 'talk.politics.mideast',\n",
              " 'talk.politics.misc',\n",
              " 'talk.religion.misc']"
            ]
          },
          "metadata": {},
          "execution_count": 128
        }
      ]
    },
    {
      "cell_type": "code",
      "source": [
        "pd.Series(news_data.target).value_counts().sort_index()"
      ],
      "metadata": {
        "colab": {
          "base_uri": "https://localhost:8080/"
        },
        "id": "BZMrV6XEwOym",
        "outputId": "88000d3d-8a55-424f-97f3-c3e5e476a0b6"
      },
      "execution_count": null,
      "outputs": [
        {
          "output_type": "execute_result",
          "data": {
            "text/plain": [
              "0     799\n",
              "1     973\n",
              "2     985\n",
              "3     982\n",
              "4     963\n",
              "5     988\n",
              "6     975\n",
              "7     990\n",
              "8     996\n",
              "9     994\n",
              "10    999\n",
              "11    991\n",
              "12    984\n",
              "13    990\n",
              "14    987\n",
              "15    997\n",
              "16    910\n",
              "17    940\n",
              "18    775\n",
              "19    628\n",
              "dtype: int64"
            ]
          },
          "metadata": {},
          "execution_count": 129
        }
      ]
    },
    {
      "cell_type": "code",
      "source": [
        "print(news_data.data[0])"
      ],
      "metadata": {
        "colab": {
          "base_uri": "https://localhost:8080/"
        },
        "id": "Ng5Y2egawnjG",
        "outputId": "abffbe9e-f829-42ce-996a-c5355f957160"
      },
      "execution_count": null,
      "outputs": [
        {
          "output_type": "stream",
          "name": "stdout",
          "text": [
            "From: egreen@east.sun.com (Ed Green - Pixel Cruncher)\n",
            "Subject: Re: Observation re: helmets\n",
            "Organization: Sun Microsystems, RTP, NC\n",
            "Lines: 21\n",
            "Distribution: world\n",
            "Reply-To: egreen@east.sun.com\n",
            "NNTP-Posting-Host: laser.east.sun.com\n",
            "\n",
            "In article 211353@mavenry.altcit.eskimo.com, maven@mavenry.altcit.eskimo.com (Norman Hamer) writes:\n",
            "> \n",
            "> The question for the day is re: passenger helmets, if you don't know for \n",
            ">certain who's gonna ride with you (like say you meet them at a .... church \n",
            ">meeting, yeah, that's the ticket)... What are some guidelines? Should I just \n",
            ">pick up another shoei in my size to have a backup helmet (XL), or should I \n",
            ">maybe get an inexpensive one of a smaller size to accomodate my likely \n",
            ">passenger? \n",
            "\n",
            "If your primary concern is protecting the passenger in the event of a\n",
            "crash, have him or her fitted for a helmet that is their size.  If your\n",
            "primary concern is complying with stupid helmet laws, carry a real big\n",
            "spare (you can put a big or small head in a big helmet, but not in a\n",
            "small one).\n",
            "\n",
            "---\n",
            "Ed Green, former Ninjaite |I was drinking last night with a biker,\n",
            "  Ed.Green@East.Sun.COM   |and I showed him a picture of you.  I said,\n",
            "DoD #0111  (919)460-8302  |\"Go on, get to know her, you'll like her!\"\n",
            " (The Grateful Dead) -->  |It seemed like the least I could do...\n",
            "\n",
            "\n"
          ]
        }
      ]
    },
    {
      "cell_type": "markdown",
      "source": [
        "fetch_20newsgroups\n",
        "\n",
        "    remove : header, footer 제거\n",
        "\n",
        "    subset : all, train, test"
      ],
      "metadata": {
        "id": "PcLoQS1rw-iE"
      }
    },
    {
      "cell_type": "code",
      "source": [
        "train_news = fetch_20newsgroups(subset='train', remove=('headers', 'footers', 'quotes'),\n",
        "                                random_state=156)"
      ],
      "metadata": {
        "id": "9rj1N6CHwxRt"
      },
      "execution_count": null,
      "outputs": []
    },
    {
      "cell_type": "code",
      "source": [
        "test_news = fetch_20newsgroups(subset='test', remove=('headers', 'footers', 'quotes'),\n",
        "                               random_state=156)"
      ],
      "metadata": {
        "id": "j54-cPcjxcEr"
      },
      "execution_count": null,
      "outputs": []
    },
    {
      "cell_type": "code",
      "source": [
        "X_train = train_news.data\n",
        "y_train = train_news.target"
      ],
      "metadata": {
        "id": "ViEysC2OxuXz"
      },
      "execution_count": null,
      "outputs": []
    },
    {
      "cell_type": "code",
      "source": [
        "X_test = test_news.data\n",
        "y_test = test_news.target"
      ],
      "metadata": {
        "id": "SC1oNYK1x5qX"
      },
      "execution_count": null,
      "outputs": []
    },
    {
      "cell_type": "code",
      "source": [
        "y_train.shape, y_test.shape"
      ],
      "metadata": {
        "colab": {
          "base_uri": "https://localhost:8080/"
        },
        "id": "FQo-QFVkx-TJ",
        "outputId": "743443f3-67c9-446a-ce79-0c65e236feba"
      },
      "execution_count": null,
      "outputs": [
        {
          "output_type": "execute_result",
          "data": {
            "text/plain": [
              "((11314,), (7532,))"
            ]
          },
          "metadata": {},
          "execution_count": 136
        }
      ]
    },
    {
      "cell_type": "code",
      "source": [
        "len(X_train), len(X_test)"
      ],
      "metadata": {
        "colab": {
          "base_uri": "https://localhost:8080/"
        },
        "id": "FEFR3KyfyDzp",
        "outputId": "655df3b9-ea4a-474e-e0d3-d158e36693ee"
      },
      "execution_count": null,
      "outputs": [
        {
          "output_type": "execute_result",
          "data": {
            "text/plain": [
              "(11314, 7532)"
            ]
          },
          "metadata": {},
          "execution_count": 137
        }
      ]
    },
    {
      "cell_type": "code",
      "source": [
        "X_train[:3]"
      ],
      "metadata": {
        "colab": {
          "base_uri": "https://localhost:8080/"
        },
        "id": "KmM6bLaNyPNh",
        "outputId": "45760124-887b-4ef6-9798-133b66794402"
      },
      "execution_count": null,
      "outputs": [
        {
          "output_type": "execute_result",
          "data": {
            "text/plain": [
              "[\"\\n\\nWhat I did NOT get with my drive (CD300i) is the System Install CD you\\nlisted as #1.  Any ideas about how I can get one?  I bought my IIvx 8/120\\nfrom Direct Express in Chicago (no complaints at all -- good price & good\\nservice).\\n\\nBTW, I've heard that the System Install CD can be used to boot the mac;\\nhowever, my drive will NOT accept a CD caddy is the machine is off.  How can\\nyou boot with it then?\\n\\n--Dave\\n\",\n",
              " '\\n\\t\"And in that day you will ask Me no question.  Truly, truly, I say to \\n\\tyou, if you shall ask the Father for anything, He will give it to you \\n\\tin my name.  Until now you have asked for nothing in My name; ask, and \\n\\tyou will receive, that your joy may be made full.\"\\n\\t\\t\\t\\t-John 16:23-24\\n\\nI don\\'t believe that we necessarily have to say \" . . . In Christ\\'s name.  \\nAmen,\" for our prayers to be heard, but it glorifies the Son, when we \\nacknowledge that our prayer is made possible by Him.  I believe that just as \\nthose who were saved in the OT, could only be saved because Jesus would one day\\nreconcile God to man, He is the only reason their prayers would be heard by \\nGod.\\n\\n\\tFor all of us have become like one who is unclean,\\n\\tAnd all our righteous deeds are like a filthy garment;\\n\\tAnd all of us wither like a leaf,\\n\\tand our iniquities, like the wind, take us away.\\n\\t\\t\\t\\t-Isaiah 64:6, NAS\\n\\nOur prayers like the rest of our deeds are too unholy to go directly to the\\nFather because they are tainted by our sin.  Only by washing these prayers with\\nChrist\\'s blood are they worthy to be lifted to to the Father.\\n\\n\\t\"First, I thank my God through Christ Jesus . . .\"\\n\\t\\t\\t\\t-Romans 1:8, NAS\\n\\nSome scholars believe that this is Paul recognizing that even his thanks are \\ntoo unholy for the Father.\\n\\tBasically, prayer is a gift of grace, I believe that only through Jesus\\ndo our prayers have any power; thus, praying in His name glorifies and praises \\nJesus for this beautiful and powerful gift He has given us.',\n",
              " '\\nI have to disagree with you on this one.  It is anything BUT common.  In the\\n4 or 5 years I have been watching hockey I have NEVER seen this happen EVER.\\n\\nI am not sure what league you have been watching.  :-)\\n\\nAnyone else agree with this?']"
            ]
          },
          "metadata": {},
          "execution_count": 140
        }
      ]
    },
    {
      "cell_type": "code",
      "source": [
        "print(X_train[2])"
      ],
      "metadata": {
        "colab": {
          "base_uri": "https://localhost:8080/"
        },
        "id": "WWkK-l3dyW5e",
        "outputId": "5672e1e7-82cb-4ce8-8146-e656182caae2"
      },
      "execution_count": null,
      "outputs": [
        {
          "output_type": "stream",
          "name": "stdout",
          "text": [
            "\n",
            "I have to disagree with you on this one.  It is anything BUT common.  In the\n",
            "4 or 5 years I have been watching hockey I have NEVER seen this happen EVER.\n",
            "\n",
            "I am not sure what league you have been watching.  :-)\n",
            "\n",
            "Anyone else agree with this?\n"
          ]
        }
      ]
    },
    {
      "cell_type": "code",
      "source": [
        "y_train"
      ],
      "metadata": {
        "colab": {
          "base_uri": "https://localhost:8080/"
        },
        "id": "xT4BYNyiMx3_",
        "outputId": "5a3e0097-277c-4e39-bcf8-0d240124499c"
      },
      "execution_count": null,
      "outputs": [
        {
          "output_type": "execute_result",
          "data": {
            "text/plain": [
              "array([ 4, 15, 10, ...,  3,  9,  9])"
            ]
          },
          "metadata": {},
          "execution_count": 146
        }
      ]
    },
    {
      "cell_type": "code",
      "source": [
        "cnt_vect = CountVectorizer()"
      ],
      "metadata": {
        "id": "LrMvgFA8QeXP"
      },
      "execution_count": null,
      "outputs": []
    },
    {
      "cell_type": "code",
      "source": [
        "cnt_vect.fit(X_train)"
      ],
      "metadata": {
        "colab": {
          "base_uri": "https://localhost:8080/",
          "height": 74
        },
        "id": "tkRmezKGQwA6",
        "outputId": "ec894a63-16c7-4163-9ee7-6ccca321b2f7"
      },
      "execution_count": null,
      "outputs": [
        {
          "output_type": "execute_result",
          "data": {
            "text/plain": [
              "CountVectorizer()"
            ],
            "text/html": [
              "<style>#sk-container-id-2 {color: black;background-color: white;}#sk-container-id-2 pre{padding: 0;}#sk-container-id-2 div.sk-toggleable {background-color: white;}#sk-container-id-2 label.sk-toggleable__label {cursor: pointer;display: block;width: 100%;margin-bottom: 0;padding: 0.3em;box-sizing: border-box;text-align: center;}#sk-container-id-2 label.sk-toggleable__label-arrow:before {content: \"▸\";float: left;margin-right: 0.25em;color: #696969;}#sk-container-id-2 label.sk-toggleable__label-arrow:hover:before {color: black;}#sk-container-id-2 div.sk-estimator:hover label.sk-toggleable__label-arrow:before {color: black;}#sk-container-id-2 div.sk-toggleable__content {max-height: 0;max-width: 0;overflow: hidden;text-align: left;background-color: #f0f8ff;}#sk-container-id-2 div.sk-toggleable__content pre {margin: 0.2em;color: black;border-radius: 0.25em;background-color: #f0f8ff;}#sk-container-id-2 input.sk-toggleable__control:checked~div.sk-toggleable__content {max-height: 200px;max-width: 100%;overflow: auto;}#sk-container-id-2 input.sk-toggleable__control:checked~label.sk-toggleable__label-arrow:before {content: \"▾\";}#sk-container-id-2 div.sk-estimator input.sk-toggleable__control:checked~label.sk-toggleable__label {background-color: #d4ebff;}#sk-container-id-2 div.sk-label input.sk-toggleable__control:checked~label.sk-toggleable__label {background-color: #d4ebff;}#sk-container-id-2 input.sk-hidden--visually {border: 0;clip: rect(1px 1px 1px 1px);clip: rect(1px, 1px, 1px, 1px);height: 1px;margin: -1px;overflow: hidden;padding: 0;position: absolute;width: 1px;}#sk-container-id-2 div.sk-estimator {font-family: monospace;background-color: #f0f8ff;border: 1px dotted black;border-radius: 0.25em;box-sizing: border-box;margin-bottom: 0.5em;}#sk-container-id-2 div.sk-estimator:hover {background-color: #d4ebff;}#sk-container-id-2 div.sk-parallel-item::after {content: \"\";width: 100%;border-bottom: 1px solid gray;flex-grow: 1;}#sk-container-id-2 div.sk-label:hover label.sk-toggleable__label {background-color: #d4ebff;}#sk-container-id-2 div.sk-serial::before {content: \"\";position: absolute;border-left: 1px solid gray;box-sizing: border-box;top: 0;bottom: 0;left: 50%;z-index: 0;}#sk-container-id-2 div.sk-serial {display: flex;flex-direction: column;align-items: center;background-color: white;padding-right: 0.2em;padding-left: 0.2em;position: relative;}#sk-container-id-2 div.sk-item {position: relative;z-index: 1;}#sk-container-id-2 div.sk-parallel {display: flex;align-items: stretch;justify-content: center;background-color: white;position: relative;}#sk-container-id-2 div.sk-item::before, #sk-container-id-2 div.sk-parallel-item::before {content: \"\";position: absolute;border-left: 1px solid gray;box-sizing: border-box;top: 0;bottom: 0;left: 50%;z-index: -1;}#sk-container-id-2 div.sk-parallel-item {display: flex;flex-direction: column;z-index: 1;position: relative;background-color: white;}#sk-container-id-2 div.sk-parallel-item:first-child::after {align-self: flex-end;width: 50%;}#sk-container-id-2 div.sk-parallel-item:last-child::after {align-self: flex-start;width: 50%;}#sk-container-id-2 div.sk-parallel-item:only-child::after {width: 0;}#sk-container-id-2 div.sk-dashed-wrapped {border: 1px dashed gray;margin: 0 0.4em 0.5em 0.4em;box-sizing: border-box;padding-bottom: 0.4em;background-color: white;}#sk-container-id-2 div.sk-label label {font-family: monospace;font-weight: bold;display: inline-block;line-height: 1.2em;}#sk-container-id-2 div.sk-label-container {text-align: center;}#sk-container-id-2 div.sk-container {/* jupyter's `normalize.less` sets `[hidden] { display: none; }` but bootstrap.min.css set `[hidden] { display: none !important; }` so we also need the `!important` here to be able to override the default hidden behavior on the sphinx rendered scikit-learn.org. See: https://github.com/scikit-learn/scikit-learn/issues/21755 */display: inline-block !important;position: relative;}#sk-container-id-2 div.sk-text-repr-fallback {display: none;}</style><div id=\"sk-container-id-2\" class=\"sk-top-container\"><div class=\"sk-text-repr-fallback\"><pre>CountVectorizer()</pre><b>In a Jupyter environment, please rerun this cell to show the HTML representation or trust the notebook. <br />On GitHub, the HTML representation is unable to render, please try loading this page with nbviewer.org.</b></div><div class=\"sk-container\" hidden><div class=\"sk-item\"><div class=\"sk-estimator sk-toggleable\"><input class=\"sk-toggleable__control sk-hidden--visually\" id=\"sk-estimator-id-2\" type=\"checkbox\" checked><label for=\"sk-estimator-id-2\" class=\"sk-toggleable__label sk-toggleable__label-arrow\">CountVectorizer</label><div class=\"sk-toggleable__content\"><pre>CountVectorizer()</pre></div></div></div></div></div>"
            ]
          },
          "metadata": {},
          "execution_count": 148
        }
      ]
    },
    {
      "cell_type": "code",
      "source": [
        "X_train_cnt_vect = cnt_vect.transform(X_train)\n",
        "X_test_cnt_vect = cnt_vect.transform(X_test)"
      ],
      "metadata": {
        "id": "9Wor-v_VQ0_g"
      },
      "execution_count": null,
      "outputs": []
    },
    {
      "cell_type": "code",
      "source": [
        "X_train_cnt_vect.shape, X_test_cnt_vect.shape"
      ],
      "metadata": {
        "colab": {
          "base_uri": "https://localhost:8080/"
        },
        "id": "C3-BPUdSRPZR",
        "outputId": "f062a092-7776-4d16-9f25-fd224491f92a"
      },
      "execution_count": null,
      "outputs": [
        {
          "output_type": "execute_result",
          "data": {
            "text/plain": [
              "((11314, 101631), (7532, 101631))"
            ]
          },
          "metadata": {},
          "execution_count": 150
        }
      ]
    },
    {
      "cell_type": "code",
      "source": [
        "y_train, y_test"
      ],
      "metadata": {
        "colab": {
          "base_uri": "https://localhost:8080/"
        },
        "id": "aeYodKViRWc4",
        "outputId": "698897b7-9e16-4495-b492-671a37181113"
      },
      "execution_count": null,
      "outputs": [
        {
          "output_type": "execute_result",
          "data": {
            "text/plain": [
              "(array([ 4, 15, 10, ...,  3,  9,  9]), array([ 4, 11,  1, ...,  6, 17, 15]))"
            ]
          },
          "metadata": {},
          "execution_count": 151
        }
      ]
    },
    {
      "cell_type": "code",
      "source": [
        "from sklearn.linear_model import LogisticRegression"
      ],
      "metadata": {
        "id": "4rHLuVm_TOE4"
      },
      "execution_count": null,
      "outputs": []
    },
    {
      "cell_type": "code",
      "source": [
        "from sklearn.metrics import accuracy_score"
      ],
      "metadata": {
        "id": "ecBwjhMHTZPh"
      },
      "execution_count": null,
      "outputs": []
    },
    {
      "cell_type": "code",
      "source": [
        "import warnings\n",
        "warnings.filterwarnings('ignore')"
      ],
      "metadata": {
        "id": "U1YlqMPrTd_R"
      },
      "execution_count": null,
      "outputs": []
    },
    {
      "cell_type": "markdown",
      "source": [
        "Solver :  비용함수의 최솟값을 찾아가는 방법을 지정하는 파라미터\n",
        "\n",
        "lbfg : 멀티 클래스\n",
        "\n",
        "libliner : 2 진분류, 데이터가 적을때, one-versus-rest"
      ],
      "metadata": {
        "id": "3axAWvhlWdU6"
      }
    },
    {
      "cell_type": "code",
      "source": [
        "lr = LogisticRegression(solver='liblinear') # solver 기본값 lbfg, liblinear"
      ],
      "metadata": {
        "id": "6okhTU_ITjXZ"
      },
      "execution_count": null,
      "outputs": []
    },
    {
      "cell_type": "code",
      "source": [
        "lr.fit(X_train_cnt_vect, y_train)\n",
        "pred = lr.predict(X_test_cnt_vect)"
      ],
      "metadata": {
        "id": "zkBWzUtvXMlj"
      },
      "execution_count": null,
      "outputs": []
    },
    {
      "cell_type": "code",
      "source": [
        "accuracy_score(y_test, pred)"
      ],
      "metadata": {
        "colab": {
          "base_uri": "https://localhost:8080/"
        },
        "id": "2JNsSdW-Xd7o",
        "outputId": "945c241b-4096-4a88-ae89-65037d4f1281"
      },
      "execution_count": null,
      "outputs": [
        {
          "output_type": "execute_result",
          "data": {
            "text/plain": [
              "0.6168348380244291"
            ]
          },
          "metadata": {},
          "execution_count": 158
        }
      ]
    },
    {
      "cell_type": "code",
      "source": [
        "tfidf_vect = TfidfVectorizer()\n",
        "tfidf_vect.fit(X_train)\n",
        "X_train_tfidf = tfidf_vect.transform(X_train)\n",
        "X_test_tfidf = tfidf_vect.transform(X_test)"
      ],
      "metadata": {
        "id": "3WJOzXyoXwKv"
      },
      "execution_count": null,
      "outputs": []
    },
    {
      "cell_type": "code",
      "source": [
        "lr = LogisticRegression(solver='liblinear')\n",
        "lr.fit(X_train_tfidf, y_train)\n",
        "pred = lr.predict(X_test_tfidf)\n",
        "accuracy_score(y_test, pred)"
      ],
      "metadata": {
        "colab": {
          "base_uri": "https://localhost:8080/"
        },
        "id": "_e7brgZZYeCA",
        "outputId": "c842793f-711d-4300-b236-57733c149b64"
      },
      "execution_count": null,
      "outputs": [
        {
          "output_type": "execute_result",
          "data": {
            "text/plain": [
              "0.6775092936802974"
            ]
          },
          "metadata": {},
          "execution_count": 160
        }
      ]
    },
    {
      "cell_type": "code",
      "source": [
        "tfidf_vect = TfidfVectorizer(max_df=300, ngram_range=(1, 2), stop_words='english')"
      ],
      "metadata": {
        "id": "A3PrR4NpY5un"
      },
      "execution_count": null,
      "outputs": []
    },
    {
      "cell_type": "code",
      "source": [
        "tfidf_vect.fit(X_train)\n",
        "X_train_tfidf = tfidf_vect.transform(X_train)\n",
        "X_test_tfidf = tfidf_vect.transform(X_test)"
      ],
      "metadata": {
        "id": "HDLV6SpvZa2K"
      },
      "execution_count": null,
      "outputs": []
    },
    {
      "cell_type": "code",
      "source": [
        "lr = LogisticRegression(solver='liblinear')\n",
        "lr.fit(X_train_tfidf, y_train)\n",
        "pred = lr.predict(X_test_tfidf)\n",
        "accuracy_score(y_test, pred)"
      ],
      "metadata": {
        "colab": {
          "base_uri": "https://localhost:8080/"
        },
        "id": "EV8y8wIsZppp",
        "outputId": "c5d0e23e-17c8-4638-d334-634d6071f2af"
      },
      "execution_count": null,
      "outputs": [
        {
          "output_type": "execute_result",
          "data": {
            "text/plain": [
              "0.6901221455124801"
            ]
          },
          "metadata": {},
          "execution_count": 163
        }
      ]
    },
    {
      "cell_type": "code",
      "source": [
        "from sklearn.model_selection import GridSearchCV"
      ],
      "metadata": {
        "id": "f1lndOrlaD8J"
      },
      "execution_count": null,
      "outputs": []
    },
    {
      "cell_type": "code",
      "source": [
        "params = { 'C':[0.01, 0.1, 1, 5, 10]}"
      ],
      "metadata": {
        "id": "kjp6nSKkaIaW"
      },
      "execution_count": null,
      "outputs": []
    },
    {
      "cell_type": "code",
      "source": [
        "lr = LogisticRegression(solver='liblinear')"
      ],
      "metadata": {
        "id": "k3rFMWUXaUy4"
      },
      "execution_count": null,
      "outputs": []
    },
    {
      "cell_type": "code",
      "source": [
        "grid_cv_lr = GridSearchCV(lr, param_grid=params, cv=3, scoring='accuracy')"
      ],
      "metadata": {
        "id": "R5AnbH-2adVg"
      },
      "execution_count": null,
      "outputs": []
    },
    {
      "cell_type": "code",
      "source": [
        "grid_cv_lr.fit(X_train_tfidf, y_train)"
      ],
      "metadata": {
        "colab": {
          "base_uri": "https://localhost:8080/",
          "height": 117
        },
        "id": "JgxLpm-7anKc",
        "outputId": "3f5b76d4-3f9c-41e5-89fd-0c519c8a06ca"
      },
      "execution_count": null,
      "outputs": [
        {
          "output_type": "execute_result",
          "data": {
            "text/plain": [
              "GridSearchCV(cv=3, estimator=LogisticRegression(solver='liblinear'),\n",
              "             param_grid={'C': [0.01, 0.1, 1, 5, 10]}, scoring='accuracy')"
            ],
            "text/html": [
              "<style>#sk-container-id-3 {color: black;background-color: white;}#sk-container-id-3 pre{padding: 0;}#sk-container-id-3 div.sk-toggleable {background-color: white;}#sk-container-id-3 label.sk-toggleable__label {cursor: pointer;display: block;width: 100%;margin-bottom: 0;padding: 0.3em;box-sizing: border-box;text-align: center;}#sk-container-id-3 label.sk-toggleable__label-arrow:before {content: \"▸\";float: left;margin-right: 0.25em;color: #696969;}#sk-container-id-3 label.sk-toggleable__label-arrow:hover:before {color: black;}#sk-container-id-3 div.sk-estimator:hover label.sk-toggleable__label-arrow:before {color: black;}#sk-container-id-3 div.sk-toggleable__content {max-height: 0;max-width: 0;overflow: hidden;text-align: left;background-color: #f0f8ff;}#sk-container-id-3 div.sk-toggleable__content pre {margin: 0.2em;color: black;border-radius: 0.25em;background-color: #f0f8ff;}#sk-container-id-3 input.sk-toggleable__control:checked~div.sk-toggleable__content {max-height: 200px;max-width: 100%;overflow: auto;}#sk-container-id-3 input.sk-toggleable__control:checked~label.sk-toggleable__label-arrow:before {content: \"▾\";}#sk-container-id-3 div.sk-estimator input.sk-toggleable__control:checked~label.sk-toggleable__label {background-color: #d4ebff;}#sk-container-id-3 div.sk-label input.sk-toggleable__control:checked~label.sk-toggleable__label {background-color: #d4ebff;}#sk-container-id-3 input.sk-hidden--visually {border: 0;clip: rect(1px 1px 1px 1px);clip: rect(1px, 1px, 1px, 1px);height: 1px;margin: -1px;overflow: hidden;padding: 0;position: absolute;width: 1px;}#sk-container-id-3 div.sk-estimator {font-family: monospace;background-color: #f0f8ff;border: 1px dotted black;border-radius: 0.25em;box-sizing: border-box;margin-bottom: 0.5em;}#sk-container-id-3 div.sk-estimator:hover {background-color: #d4ebff;}#sk-container-id-3 div.sk-parallel-item::after {content: \"\";width: 100%;border-bottom: 1px solid gray;flex-grow: 1;}#sk-container-id-3 div.sk-label:hover label.sk-toggleable__label {background-color: #d4ebff;}#sk-container-id-3 div.sk-serial::before {content: \"\";position: absolute;border-left: 1px solid gray;box-sizing: border-box;top: 0;bottom: 0;left: 50%;z-index: 0;}#sk-container-id-3 div.sk-serial {display: flex;flex-direction: column;align-items: center;background-color: white;padding-right: 0.2em;padding-left: 0.2em;position: relative;}#sk-container-id-3 div.sk-item {position: relative;z-index: 1;}#sk-container-id-3 div.sk-parallel {display: flex;align-items: stretch;justify-content: center;background-color: white;position: relative;}#sk-container-id-3 div.sk-item::before, #sk-container-id-3 div.sk-parallel-item::before {content: \"\";position: absolute;border-left: 1px solid gray;box-sizing: border-box;top: 0;bottom: 0;left: 50%;z-index: -1;}#sk-container-id-3 div.sk-parallel-item {display: flex;flex-direction: column;z-index: 1;position: relative;background-color: white;}#sk-container-id-3 div.sk-parallel-item:first-child::after {align-self: flex-end;width: 50%;}#sk-container-id-3 div.sk-parallel-item:last-child::after {align-self: flex-start;width: 50%;}#sk-container-id-3 div.sk-parallel-item:only-child::after {width: 0;}#sk-container-id-3 div.sk-dashed-wrapped {border: 1px dashed gray;margin: 0 0.4em 0.5em 0.4em;box-sizing: border-box;padding-bottom: 0.4em;background-color: white;}#sk-container-id-3 div.sk-label label {font-family: monospace;font-weight: bold;display: inline-block;line-height: 1.2em;}#sk-container-id-3 div.sk-label-container {text-align: center;}#sk-container-id-3 div.sk-container {/* jupyter's `normalize.less` sets `[hidden] { display: none; }` but bootstrap.min.css set `[hidden] { display: none !important; }` so we also need the `!important` here to be able to override the default hidden behavior on the sphinx rendered scikit-learn.org. See: https://github.com/scikit-learn/scikit-learn/issues/21755 */display: inline-block !important;position: relative;}#sk-container-id-3 div.sk-text-repr-fallback {display: none;}</style><div id=\"sk-container-id-3\" class=\"sk-top-container\"><div class=\"sk-text-repr-fallback\"><pre>GridSearchCV(cv=3, estimator=LogisticRegression(solver=&#x27;liblinear&#x27;),\n",
              "             param_grid={&#x27;C&#x27;: [0.01, 0.1, 1, 5, 10]}, scoring=&#x27;accuracy&#x27;)</pre><b>In a Jupyter environment, please rerun this cell to show the HTML representation or trust the notebook. <br />On GitHub, the HTML representation is unable to render, please try loading this page with nbviewer.org.</b></div><div class=\"sk-container\" hidden><div class=\"sk-item sk-dashed-wrapped\"><div class=\"sk-label-container\"><div class=\"sk-label sk-toggleable\"><input class=\"sk-toggleable__control sk-hidden--visually\" id=\"sk-estimator-id-3\" type=\"checkbox\" ><label for=\"sk-estimator-id-3\" class=\"sk-toggleable__label sk-toggleable__label-arrow\">GridSearchCV</label><div class=\"sk-toggleable__content\"><pre>GridSearchCV(cv=3, estimator=LogisticRegression(solver=&#x27;liblinear&#x27;),\n",
              "             param_grid={&#x27;C&#x27;: [0.01, 0.1, 1, 5, 10]}, scoring=&#x27;accuracy&#x27;)</pre></div></div></div><div class=\"sk-parallel\"><div class=\"sk-parallel-item\"><div class=\"sk-item\"><div class=\"sk-label-container\"><div class=\"sk-label sk-toggleable\"><input class=\"sk-toggleable__control sk-hidden--visually\" id=\"sk-estimator-id-4\" type=\"checkbox\" ><label for=\"sk-estimator-id-4\" class=\"sk-toggleable__label sk-toggleable__label-arrow\">estimator: LogisticRegression</label><div class=\"sk-toggleable__content\"><pre>LogisticRegression(solver=&#x27;liblinear&#x27;)</pre></div></div></div><div class=\"sk-serial\"><div class=\"sk-item\"><div class=\"sk-estimator sk-toggleable\"><input class=\"sk-toggleable__control sk-hidden--visually\" id=\"sk-estimator-id-5\" type=\"checkbox\" ><label for=\"sk-estimator-id-5\" class=\"sk-toggleable__label sk-toggleable__label-arrow\">LogisticRegression</label><div class=\"sk-toggleable__content\"><pre>LogisticRegression(solver=&#x27;liblinear&#x27;)</pre></div></div></div></div></div></div></div></div></div></div>"
            ]
          },
          "metadata": {},
          "execution_count": 169
        }
      ]
    },
    {
      "cell_type": "code",
      "source": [
        "grid_cv_lr.best_params_"
      ],
      "metadata": {
        "colab": {
          "base_uri": "https://localhost:8080/"
        },
        "id": "Xcfdu_L3azDF",
        "outputId": "cde01bbd-734a-463e-aac6-f36f3e427af6"
      },
      "execution_count": null,
      "outputs": [
        {
          "output_type": "execute_result",
          "data": {
            "text/plain": [
              "{'C': 10}"
            ]
          },
          "metadata": {},
          "execution_count": 170
        }
      ]
    },
    {
      "cell_type": "code",
      "source": [
        "pred = grid_cv_lr.predict(X_test_tfidf)\n",
        "accuracy_score(y_test, pred)"
      ],
      "metadata": {
        "colab": {
          "base_uri": "https://localhost:8080/"
        },
        "id": "CWjlwGIja8dz",
        "outputId": "e46e608c-06c7-46fe-ab03-86f5f297ea83"
      },
      "execution_count": null,
      "outputs": [
        {
          "output_type": "execute_result",
          "data": {
            "text/plain": [
              "0.7039298990971854"
            ]
          },
          "metadata": {},
          "execution_count": 172
        }
      ]
    },
    {
      "cell_type": "code",
      "source": [
        "from sklearn.pipeline import Pipeline"
      ],
      "metadata": {
        "id": "b3G5ORveeZuj"
      },
      "execution_count": null,
      "outputs": []
    },
    {
      "cell_type": "code",
      "source": [
        "pipe = Pipeline([\n",
        "    ('tfidf_vect', TfidfVectorizer(max_df=300, ngram_range=(1, 2), stop_words='english')),\n",
        "    ('lr_clf', LogisticRegression(solver='liblinear', C=10))\n",
        "])"
      ],
      "metadata": {
        "id": "u5m-BvPKeg_C"
      },
      "execution_count": null,
      "outputs": []
    },
    {
      "cell_type": "code",
      "source": [
        "pipe.fit(X_train, y_train)\n",
        "pred = pipe.predict(X_test)\n",
        "accuracy_score(y_test, pred)"
      ],
      "metadata": {
        "colab": {
          "base_uri": "https://localhost:8080/"
        },
        "id": "N-FsTq_RfFoL",
        "outputId": "4e65bded-c6f0-412d-b256-ad9e2a2c5729"
      },
      "execution_count": null,
      "outputs": [
        {
          "output_type": "execute_result",
          "data": {
            "text/plain": [
              "0.7039298990971854"
            ]
          },
          "metadata": {},
          "execution_count": 175
        }
      ]
    },
    {
      "cell_type": "code",
      "source": [
        "params = {'tfidf_vect__ngram_range':[(1, 1), (1, 2), (1, 3)],\n",
        "          'tfidf_vect__max_df':[100, 300, 700],\n",
        "          'lr_clf__C': [1, 5, 10]}"
      ],
      "metadata": {
        "id": "iyg74gztf3y2"
      },
      "execution_count": null,
      "outputs": []
    },
    {
      "cell_type": "code",
      "source": [
        "pipeline = Pipeline([\n",
        "    ('tfidf_vect', TfidfVectorizer(stop_words='english')),\n",
        "    ('lr_clf', LogisticRegression(solver='liblinear'))\n",
        "])"
      ],
      "metadata": {
        "id": "NgH9sOCIgoW7"
      },
      "execution_count": null,
      "outputs": []
    },
    {
      "cell_type": "code",
      "source": [
        "grid_cv_pipe = GridSearchCV(pipeline, param_grid=params, cv=3, scoring='accuracy')"
      ],
      "metadata": {
        "id": "iqX4UJBHhJ11"
      },
      "execution_count": null,
      "outputs": []
    },
    {
      "cell_type": "code",
      "source": [
        "grid_cv_pipe.fit(X_train, y_train)"
      ],
      "metadata": {
        "colab": {
          "base_uri": "https://localhost:8080/",
          "height": 151
        },
        "id": "L0K2zAIshquk",
        "outputId": "1ffc7fc4-9a96-453d-9674-8467d1a5e142"
      },
      "execution_count": null,
      "outputs": [
        {
          "output_type": "execute_result",
          "data": {
            "text/plain": [
              "GridSearchCV(cv=3,\n",
              "             estimator=Pipeline(steps=[('tfidf_vect',\n",
              "                                        TfidfVectorizer(stop_words='english')),\n",
              "                                       ('lr_clf',\n",
              "                                        LogisticRegression(solver='liblinear'))]),\n",
              "             param_grid={'lr_clf__C': [1, 5, 10],\n",
              "                         'tfidf_vect__max_df': [100, 300, 700],\n",
              "                         'tfidf_vect__ngram_range': [(1, 1), (1, 2), (1, 3)]},\n",
              "             scoring='accuracy')"
            ],
            "text/html": [
              "<style>#sk-container-id-4 {color: black;background-color: white;}#sk-container-id-4 pre{padding: 0;}#sk-container-id-4 div.sk-toggleable {background-color: white;}#sk-container-id-4 label.sk-toggleable__label {cursor: pointer;display: block;width: 100%;margin-bottom: 0;padding: 0.3em;box-sizing: border-box;text-align: center;}#sk-container-id-4 label.sk-toggleable__label-arrow:before {content: \"▸\";float: left;margin-right: 0.25em;color: #696969;}#sk-container-id-4 label.sk-toggleable__label-arrow:hover:before {color: black;}#sk-container-id-4 div.sk-estimator:hover label.sk-toggleable__label-arrow:before {color: black;}#sk-container-id-4 div.sk-toggleable__content {max-height: 0;max-width: 0;overflow: hidden;text-align: left;background-color: #f0f8ff;}#sk-container-id-4 div.sk-toggleable__content pre {margin: 0.2em;color: black;border-radius: 0.25em;background-color: #f0f8ff;}#sk-container-id-4 input.sk-toggleable__control:checked~div.sk-toggleable__content {max-height: 200px;max-width: 100%;overflow: auto;}#sk-container-id-4 input.sk-toggleable__control:checked~label.sk-toggleable__label-arrow:before {content: \"▾\";}#sk-container-id-4 div.sk-estimator input.sk-toggleable__control:checked~label.sk-toggleable__label {background-color: #d4ebff;}#sk-container-id-4 div.sk-label input.sk-toggleable__control:checked~label.sk-toggleable__label {background-color: #d4ebff;}#sk-container-id-4 input.sk-hidden--visually {border: 0;clip: rect(1px 1px 1px 1px);clip: rect(1px, 1px, 1px, 1px);height: 1px;margin: -1px;overflow: hidden;padding: 0;position: absolute;width: 1px;}#sk-container-id-4 div.sk-estimator {font-family: monospace;background-color: #f0f8ff;border: 1px dotted black;border-radius: 0.25em;box-sizing: border-box;margin-bottom: 0.5em;}#sk-container-id-4 div.sk-estimator:hover {background-color: #d4ebff;}#sk-container-id-4 div.sk-parallel-item::after {content: \"\";width: 100%;border-bottom: 1px solid gray;flex-grow: 1;}#sk-container-id-4 div.sk-label:hover label.sk-toggleable__label {background-color: #d4ebff;}#sk-container-id-4 div.sk-serial::before {content: \"\";position: absolute;border-left: 1px solid gray;box-sizing: border-box;top: 0;bottom: 0;left: 50%;z-index: 0;}#sk-container-id-4 div.sk-serial {display: flex;flex-direction: column;align-items: center;background-color: white;padding-right: 0.2em;padding-left: 0.2em;position: relative;}#sk-container-id-4 div.sk-item {position: relative;z-index: 1;}#sk-container-id-4 div.sk-parallel {display: flex;align-items: stretch;justify-content: center;background-color: white;position: relative;}#sk-container-id-4 div.sk-item::before, #sk-container-id-4 div.sk-parallel-item::before {content: \"\";position: absolute;border-left: 1px solid gray;box-sizing: border-box;top: 0;bottom: 0;left: 50%;z-index: -1;}#sk-container-id-4 div.sk-parallel-item {display: flex;flex-direction: column;z-index: 1;position: relative;background-color: white;}#sk-container-id-4 div.sk-parallel-item:first-child::after {align-self: flex-end;width: 50%;}#sk-container-id-4 div.sk-parallel-item:last-child::after {align-self: flex-start;width: 50%;}#sk-container-id-4 div.sk-parallel-item:only-child::after {width: 0;}#sk-container-id-4 div.sk-dashed-wrapped {border: 1px dashed gray;margin: 0 0.4em 0.5em 0.4em;box-sizing: border-box;padding-bottom: 0.4em;background-color: white;}#sk-container-id-4 div.sk-label label {font-family: monospace;font-weight: bold;display: inline-block;line-height: 1.2em;}#sk-container-id-4 div.sk-label-container {text-align: center;}#sk-container-id-4 div.sk-container {/* jupyter's `normalize.less` sets `[hidden] { display: none; }` but bootstrap.min.css set `[hidden] { display: none !important; }` so we also need the `!important` here to be able to override the default hidden behavior on the sphinx rendered scikit-learn.org. See: https://github.com/scikit-learn/scikit-learn/issues/21755 */display: inline-block !important;position: relative;}#sk-container-id-4 div.sk-text-repr-fallback {display: none;}</style><div id=\"sk-container-id-4\" class=\"sk-top-container\"><div class=\"sk-text-repr-fallback\"><pre>GridSearchCV(cv=3,\n",
              "             estimator=Pipeline(steps=[(&#x27;tfidf_vect&#x27;,\n",
              "                                        TfidfVectorizer(stop_words=&#x27;english&#x27;)),\n",
              "                                       (&#x27;lr_clf&#x27;,\n",
              "                                        LogisticRegression(solver=&#x27;liblinear&#x27;))]),\n",
              "             param_grid={&#x27;lr_clf__C&#x27;: [1, 5, 10],\n",
              "                         &#x27;tfidf_vect__max_df&#x27;: [100, 300, 700],\n",
              "                         &#x27;tfidf_vect__ngram_range&#x27;: [(1, 1), (1, 2), (1, 3)]},\n",
              "             scoring=&#x27;accuracy&#x27;)</pre><b>In a Jupyter environment, please rerun this cell to show the HTML representation or trust the notebook. <br />On GitHub, the HTML representation is unable to render, please try loading this page with nbviewer.org.</b></div><div class=\"sk-container\" hidden><div class=\"sk-item sk-dashed-wrapped\"><div class=\"sk-label-container\"><div class=\"sk-label sk-toggleable\"><input class=\"sk-toggleable__control sk-hidden--visually\" id=\"sk-estimator-id-6\" type=\"checkbox\" ><label for=\"sk-estimator-id-6\" class=\"sk-toggleable__label sk-toggleable__label-arrow\">GridSearchCV</label><div class=\"sk-toggleable__content\"><pre>GridSearchCV(cv=3,\n",
              "             estimator=Pipeline(steps=[(&#x27;tfidf_vect&#x27;,\n",
              "                                        TfidfVectorizer(stop_words=&#x27;english&#x27;)),\n",
              "                                       (&#x27;lr_clf&#x27;,\n",
              "                                        LogisticRegression(solver=&#x27;liblinear&#x27;))]),\n",
              "             param_grid={&#x27;lr_clf__C&#x27;: [1, 5, 10],\n",
              "                         &#x27;tfidf_vect__max_df&#x27;: [100, 300, 700],\n",
              "                         &#x27;tfidf_vect__ngram_range&#x27;: [(1, 1), (1, 2), (1, 3)]},\n",
              "             scoring=&#x27;accuracy&#x27;)</pre></div></div></div><div class=\"sk-parallel\"><div class=\"sk-parallel-item\"><div class=\"sk-item\"><div class=\"sk-label-container\"><div class=\"sk-label sk-toggleable\"><input class=\"sk-toggleable__control sk-hidden--visually\" id=\"sk-estimator-id-7\" type=\"checkbox\" ><label for=\"sk-estimator-id-7\" class=\"sk-toggleable__label sk-toggleable__label-arrow\">estimator: Pipeline</label><div class=\"sk-toggleable__content\"><pre>Pipeline(steps=[(&#x27;tfidf_vect&#x27;, TfidfVectorizer(stop_words=&#x27;english&#x27;)),\n",
              "                (&#x27;lr_clf&#x27;, LogisticRegression(solver=&#x27;liblinear&#x27;))])</pre></div></div></div><div class=\"sk-serial\"><div class=\"sk-item\"><div class=\"sk-serial\"><div class=\"sk-item\"><div class=\"sk-estimator sk-toggleable\"><input class=\"sk-toggleable__control sk-hidden--visually\" id=\"sk-estimator-id-8\" type=\"checkbox\" ><label for=\"sk-estimator-id-8\" class=\"sk-toggleable__label sk-toggleable__label-arrow\">TfidfVectorizer</label><div class=\"sk-toggleable__content\"><pre>TfidfVectorizer(stop_words=&#x27;english&#x27;)</pre></div></div></div><div class=\"sk-item\"><div class=\"sk-estimator sk-toggleable\"><input class=\"sk-toggleable__control sk-hidden--visually\" id=\"sk-estimator-id-9\" type=\"checkbox\" ><label for=\"sk-estimator-id-9\" class=\"sk-toggleable__label sk-toggleable__label-arrow\">LogisticRegression</label><div class=\"sk-toggleable__content\"><pre>LogisticRegression(solver=&#x27;liblinear&#x27;)</pre></div></div></div></div></div></div></div></div></div></div></div></div>"
            ]
          },
          "metadata": {},
          "execution_count": 179
        }
      ]
    },
    {
      "cell_type": "code",
      "source": [
        "print(grid_cv_pipe.best_params_)"
      ],
      "metadata": {
        "colab": {
          "base_uri": "https://localhost:8080/"
        },
        "id": "pQDQUWlThwTs",
        "outputId": "ee28e97b-3577-42b9-abb0-e3ae9278fa6d"
      },
      "execution_count": null,
      "outputs": [
        {
          "output_type": "stream",
          "name": "stdout",
          "text": [
            "{'lr_clf__C': 10, 'tfidf_vect__max_df': 700, 'tfidf_vect__ngram_range': (1, 2)}\n"
          ]
        }
      ]
    },
    {
      "cell_type": "code",
      "source": [
        "grid_cv_pipe.best_score_"
      ],
      "metadata": {
        "colab": {
          "base_uri": "https://localhost:8080/"
        },
        "id": "hbu5TAXKh5pF",
        "outputId": "2c4a831f-79fc-4abc-f827-7eb542027694"
      },
      "execution_count": null,
      "outputs": [
        {
          "output_type": "execute_result",
          "data": {
            "text/plain": [
              "0.7550828826229531"
            ]
          },
          "metadata": {},
          "execution_count": 181
        }
      ]
    },
    {
      "cell_type": "markdown",
      "source": [
        "#감성분석 - 지도학습"
      ],
      "metadata": {
        "id": "2RpXIfx8izWZ"
      }
    },
    {
      "cell_type": "code",
      "source": [
        "import pandas as pd\n",
        "review_df = pd.read_csv('./drive/MyDrive/data/labeledTrainData.tsv', header=0, sep='\\t',\n",
        "                        quoting=3)"
      ],
      "metadata": {
        "id": "S6YHqj8mi19q"
      },
      "execution_count": null,
      "outputs": []
    },
    {
      "cell_type": "markdown",
      "source": [
        "header : id, sentiment, review"
      ],
      "metadata": {
        "id": "hV5raMG-m2aT"
      }
    },
    {
      "cell_type": "markdown",
      "source": [
        "1 : 긍정\n",
        "\n",
        "0 : 부정"
      ],
      "metadata": {
        "id": "KBDRp5W9j2IK"
      }
    },
    {
      "cell_type": "code",
      "source": [
        "review_df.head()"
      ],
      "metadata": {
        "colab": {
          "base_uri": "https://localhost:8080/",
          "height": 206
        },
        "id": "BXToS6EOk3pf",
        "outputId": "eaad496a-644b-4764-b3e0-c8f229e1d8e1"
      },
      "execution_count": null,
      "outputs": [
        {
          "output_type": "execute_result",
          "data": {
            "text/plain": [
              "         id  sentiment                                             review\n",
              "0  \"5814_8\"          1  \"With all this stuff going down at the moment ...\n",
              "1  \"2381_9\"          1  \"\\\"The Classic War of the Worlds\\\" by Timothy ...\n",
              "2  \"7759_3\"          0  \"The film starts with a manager (Nicholas Bell...\n",
              "3  \"3630_4\"          0  \"It must be assumed that those who praised thi...\n",
              "4  \"9495_8\"          1  \"Superbly trashy and wondrously unpretentious ..."
            ],
            "text/html": [
              "\n",
              "  <div id=\"df-096fb5c5-bf52-457d-8deb-b1b4bd520a71\" class=\"colab-df-container\">\n",
              "    <div>\n",
              "<style scoped>\n",
              "    .dataframe tbody tr th:only-of-type {\n",
              "        vertical-align: middle;\n",
              "    }\n",
              "\n",
              "    .dataframe tbody tr th {\n",
              "        vertical-align: top;\n",
              "    }\n",
              "\n",
              "    .dataframe thead th {\n",
              "        text-align: right;\n",
              "    }\n",
              "</style>\n",
              "<table border=\"1\" class=\"dataframe\">\n",
              "  <thead>\n",
              "    <tr style=\"text-align: right;\">\n",
              "      <th></th>\n",
              "      <th>id</th>\n",
              "      <th>sentiment</th>\n",
              "      <th>review</th>\n",
              "    </tr>\n",
              "  </thead>\n",
              "  <tbody>\n",
              "    <tr>\n",
              "      <th>0</th>\n",
              "      <td>\"5814_8\"</td>\n",
              "      <td>1</td>\n",
              "      <td>\"With all this stuff going down at the moment ...</td>\n",
              "    </tr>\n",
              "    <tr>\n",
              "      <th>1</th>\n",
              "      <td>\"2381_9\"</td>\n",
              "      <td>1</td>\n",
              "      <td>\"\\\"The Classic War of the Worlds\\\" by Timothy ...</td>\n",
              "    </tr>\n",
              "    <tr>\n",
              "      <th>2</th>\n",
              "      <td>\"7759_3\"</td>\n",
              "      <td>0</td>\n",
              "      <td>\"The film starts with a manager (Nicholas Bell...</td>\n",
              "    </tr>\n",
              "    <tr>\n",
              "      <th>3</th>\n",
              "      <td>\"3630_4\"</td>\n",
              "      <td>0</td>\n",
              "      <td>\"It must be assumed that those who praised thi...</td>\n",
              "    </tr>\n",
              "    <tr>\n",
              "      <th>4</th>\n",
              "      <td>\"9495_8\"</td>\n",
              "      <td>1</td>\n",
              "      <td>\"Superbly trashy and wondrously unpretentious ...</td>\n",
              "    </tr>\n",
              "  </tbody>\n",
              "</table>\n",
              "</div>\n",
              "    <div class=\"colab-df-buttons\">\n",
              "\n",
              "  <div class=\"colab-df-container\">\n",
              "    <button class=\"colab-df-convert\" onclick=\"convertToInteractive('df-096fb5c5-bf52-457d-8deb-b1b4bd520a71')\"\n",
              "            title=\"Convert this dataframe to an interactive table.\"\n",
              "            style=\"display:none;\">\n",
              "\n",
              "  <svg xmlns=\"http://www.w3.org/2000/svg\" height=\"24px\" viewBox=\"0 -960 960 960\">\n",
              "    <path d=\"M120-120v-720h720v720H120Zm60-500h600v-160H180v160Zm220 220h160v-160H400v160Zm0 220h160v-160H400v160ZM180-400h160v-160H180v160Zm440 0h160v-160H620v160ZM180-180h160v-160H180v160Zm440 0h160v-160H620v160Z\"/>\n",
              "  </svg>\n",
              "    </button>\n",
              "\n",
              "  <style>\n",
              "    .colab-df-container {\n",
              "      display:flex;\n",
              "      gap: 12px;\n",
              "    }\n",
              "\n",
              "    .colab-df-convert {\n",
              "      background-color: #E8F0FE;\n",
              "      border: none;\n",
              "      border-radius: 50%;\n",
              "      cursor: pointer;\n",
              "      display: none;\n",
              "      fill: #1967D2;\n",
              "      height: 32px;\n",
              "      padding: 0 0 0 0;\n",
              "      width: 32px;\n",
              "    }\n",
              "\n",
              "    .colab-df-convert:hover {\n",
              "      background-color: #E2EBFA;\n",
              "      box-shadow: 0px 1px 2px rgba(60, 64, 67, 0.3), 0px 1px 3px 1px rgba(60, 64, 67, 0.15);\n",
              "      fill: #174EA6;\n",
              "    }\n",
              "\n",
              "    .colab-df-buttons div {\n",
              "      margin-bottom: 4px;\n",
              "    }\n",
              "\n",
              "    [theme=dark] .colab-df-convert {\n",
              "      background-color: #3B4455;\n",
              "      fill: #D2E3FC;\n",
              "    }\n",
              "\n",
              "    [theme=dark] .colab-df-convert:hover {\n",
              "      background-color: #434B5C;\n",
              "      box-shadow: 0px 1px 3px 1px rgba(0, 0, 0, 0.15);\n",
              "      filter: drop-shadow(0px 1px 2px rgba(0, 0, 0, 0.3));\n",
              "      fill: #FFFFFF;\n",
              "    }\n",
              "  </style>\n",
              "\n",
              "    <script>\n",
              "      const buttonEl =\n",
              "        document.querySelector('#df-096fb5c5-bf52-457d-8deb-b1b4bd520a71 button.colab-df-convert');\n",
              "      buttonEl.style.display =\n",
              "        google.colab.kernel.accessAllowed ? 'block' : 'none';\n",
              "\n",
              "      async function convertToInteractive(key) {\n",
              "        const element = document.querySelector('#df-096fb5c5-bf52-457d-8deb-b1b4bd520a71');\n",
              "        const dataTable =\n",
              "          await google.colab.kernel.invokeFunction('convertToInteractive',\n",
              "                                                    [key], {});\n",
              "        if (!dataTable) return;\n",
              "\n",
              "        const docLinkHtml = 'Like what you see? Visit the ' +\n",
              "          '<a target=\"_blank\" href=https://colab.research.google.com/notebooks/data_table.ipynb>data table notebook</a>'\n",
              "          + ' to learn more about interactive tables.';\n",
              "        element.innerHTML = '';\n",
              "        dataTable['output_type'] = 'display_data';\n",
              "        await google.colab.output.renderOutput(dataTable, element);\n",
              "        const docLink = document.createElement('div');\n",
              "        docLink.innerHTML = docLinkHtml;\n",
              "        element.appendChild(docLink);\n",
              "      }\n",
              "    </script>\n",
              "  </div>\n",
              "\n",
              "\n",
              "<div id=\"df-a80c919d-e150-49c3-888f-c3765438e900\">\n",
              "  <button class=\"colab-df-quickchart\" onclick=\"quickchart('df-a80c919d-e150-49c3-888f-c3765438e900')\"\n",
              "            title=\"Suggest charts.\"\n",
              "            style=\"display:none;\">\n",
              "\n",
              "<svg xmlns=\"http://www.w3.org/2000/svg\" height=\"24px\"viewBox=\"0 0 24 24\"\n",
              "     width=\"24px\">\n",
              "    <g>\n",
              "        <path d=\"M19 3H5c-1.1 0-2 .9-2 2v14c0 1.1.9 2 2 2h14c1.1 0 2-.9 2-2V5c0-1.1-.9-2-2-2zM9 17H7v-7h2v7zm4 0h-2V7h2v10zm4 0h-2v-4h2v4z\"/>\n",
              "    </g>\n",
              "</svg>\n",
              "  </button>\n",
              "\n",
              "<style>\n",
              "  .colab-df-quickchart {\n",
              "      --bg-color: #E8F0FE;\n",
              "      --fill-color: #1967D2;\n",
              "      --hover-bg-color: #E2EBFA;\n",
              "      --hover-fill-color: #174EA6;\n",
              "      --disabled-fill-color: #AAA;\n",
              "      --disabled-bg-color: #DDD;\n",
              "  }\n",
              "\n",
              "  [theme=dark] .colab-df-quickchart {\n",
              "      --bg-color: #3B4455;\n",
              "      --fill-color: #D2E3FC;\n",
              "      --hover-bg-color: #434B5C;\n",
              "      --hover-fill-color: #FFFFFF;\n",
              "      --disabled-bg-color: #3B4455;\n",
              "      --disabled-fill-color: #666;\n",
              "  }\n",
              "\n",
              "  .colab-df-quickchart {\n",
              "    background-color: var(--bg-color);\n",
              "    border: none;\n",
              "    border-radius: 50%;\n",
              "    cursor: pointer;\n",
              "    display: none;\n",
              "    fill: var(--fill-color);\n",
              "    height: 32px;\n",
              "    padding: 0;\n",
              "    width: 32px;\n",
              "  }\n",
              "\n",
              "  .colab-df-quickchart:hover {\n",
              "    background-color: var(--hover-bg-color);\n",
              "    box-shadow: 0 1px 2px rgba(60, 64, 67, 0.3), 0 1px 3px 1px rgba(60, 64, 67, 0.15);\n",
              "    fill: var(--button-hover-fill-color);\n",
              "  }\n",
              "\n",
              "  .colab-df-quickchart-complete:disabled,\n",
              "  .colab-df-quickchart-complete:disabled:hover {\n",
              "    background-color: var(--disabled-bg-color);\n",
              "    fill: var(--disabled-fill-color);\n",
              "    box-shadow: none;\n",
              "  }\n",
              "\n",
              "  .colab-df-spinner {\n",
              "    border: 2px solid var(--fill-color);\n",
              "    border-color: transparent;\n",
              "    border-bottom-color: var(--fill-color);\n",
              "    animation:\n",
              "      spin 1s steps(1) infinite;\n",
              "  }\n",
              "\n",
              "  @keyframes spin {\n",
              "    0% {\n",
              "      border-color: transparent;\n",
              "      border-bottom-color: var(--fill-color);\n",
              "      border-left-color: var(--fill-color);\n",
              "    }\n",
              "    20% {\n",
              "      border-color: transparent;\n",
              "      border-left-color: var(--fill-color);\n",
              "      border-top-color: var(--fill-color);\n",
              "    }\n",
              "    30% {\n",
              "      border-color: transparent;\n",
              "      border-left-color: var(--fill-color);\n",
              "      border-top-color: var(--fill-color);\n",
              "      border-right-color: var(--fill-color);\n",
              "    }\n",
              "    40% {\n",
              "      border-color: transparent;\n",
              "      border-right-color: var(--fill-color);\n",
              "      border-top-color: var(--fill-color);\n",
              "    }\n",
              "    60% {\n",
              "      border-color: transparent;\n",
              "      border-right-color: var(--fill-color);\n",
              "    }\n",
              "    80% {\n",
              "      border-color: transparent;\n",
              "      border-right-color: var(--fill-color);\n",
              "      border-bottom-color: var(--fill-color);\n",
              "    }\n",
              "    90% {\n",
              "      border-color: transparent;\n",
              "      border-bottom-color: var(--fill-color);\n",
              "    }\n",
              "  }\n",
              "</style>\n",
              "\n",
              "  <script>\n",
              "    async function quickchart(key) {\n",
              "      const quickchartButtonEl =\n",
              "        document.querySelector('#' + key + ' button');\n",
              "      quickchartButtonEl.disabled = true;  // To prevent multiple clicks.\n",
              "      quickchartButtonEl.classList.add('colab-df-spinner');\n",
              "      try {\n",
              "        const charts = await google.colab.kernel.invokeFunction(\n",
              "            'suggestCharts', [key], {});\n",
              "      } catch (error) {\n",
              "        console.error('Error during call to suggestCharts:', error);\n",
              "      }\n",
              "      quickchartButtonEl.classList.remove('colab-df-spinner');\n",
              "      quickchartButtonEl.classList.add('colab-df-quickchart-complete');\n",
              "    }\n",
              "    (() => {\n",
              "      let quickchartButtonEl =\n",
              "        document.querySelector('#df-a80c919d-e150-49c3-888f-c3765438e900 button');\n",
              "      quickchartButtonEl.style.display =\n",
              "        google.colab.kernel.accessAllowed ? 'block' : 'none';\n",
              "    })();\n",
              "  </script>\n",
              "</div>\n",
              "    </div>\n",
              "  </div>\n"
            ]
          },
          "metadata": {},
          "execution_count": 183
        }
      ]
    },
    {
      "cell_type": "code",
      "source": [
        "review_df['review'][0]"
      ],
      "metadata": {
        "colab": {
          "base_uri": "https://localhost:8080/",
          "height": 192
        },
        "id": "pM2rOqeLk75K",
        "outputId": "1ab77e7b-26a6-46c6-f0a3-6fdd9a27306f"
      },
      "execution_count": null,
      "outputs": [
        {
          "output_type": "execute_result",
          "data": {
            "text/plain": [
              "'\"With all this stuff going down at the moment with MJ i\\'ve started listening to his music, watching the odd documentary here and there, watched The Wiz and watched Moonwalker again. Maybe i just want to get a certain insight into this guy who i thought was really cool in the eighties just to maybe make up my mind whether he is guilty or innocent. Moonwalker is part biography, part feature film which i remember going to see at the cinema when it was originally released. Some of it has subtle messages about MJ\\'s feeling towards the press and also the obvious message of drugs are bad m\\'kay.<br /><br />Visually impressive but of course this is all about Michael Jackson so unless you remotely like MJ in anyway then you are going to hate this and find it boring. Some may call MJ an egotist for consenting to the making of this movie BUT MJ and most of his fans would say that he made it for the fans which if true is really nice of him.<br /><br />The actual feature film bit when it finally starts is only on for 20 minutes or so excluding the Smooth Criminal sequence and Joe Pesci is convincing as a psychopathic all powerful drug lord. Why he wants MJ dead so bad is beyond me. Because MJ overheard his plans? Nah, Joe Pesci\\'s character ranted that he wanted people to know it is he who is supplying drugs etc so i dunno, maybe he just hates MJ\\'s music.<br /><br />Lots of cool things in this like MJ turning into a car and a robot and the whole Speed Demon sequence. Also, the director must have had the patience of a saint when it came to filming the kiddy Bad sequence as usually directors hate working with one kid let alone a whole bunch of them performing a complex dance scene.<br /><br />Bottom line, this movie is for people who like MJ on one level or another (which i think is most people). If not, then stay away. It does try and give off a wholesome message and ironically MJ\\'s bestest buddy in this movie is a girl! Michael Jackson is truly one of the most talented people ever to grace this planet but is he guilty? Well, with all the attention i\\'ve gave this subject....hmmm well i don\\'t know because people can be different behind closed doors, i know this for a fact. He is either an extremely nice but stupid guy or one of the most sickest liars. I hope he is not the latter.\"'"
            ],
            "application/vnd.google.colaboratory.intrinsic+json": {
              "type": "string"
            }
          },
          "metadata": {},
          "execution_count": 184
        }
      ]
    },
    {
      "cell_type": "code",
      "source": [
        "review_df['review']=review_df['review'].str.replace('<br />', ' ')"
      ],
      "metadata": {
        "id": "8l4IVMWolMNb"
      },
      "execution_count": null,
      "outputs": []
    },
    {
      "cell_type": "code",
      "source": [
        "review_df['review'][0]"
      ],
      "metadata": {
        "colab": {
          "base_uri": "https://localhost:8080/",
          "height": 192
        },
        "id": "sc8biws7vPXI",
        "outputId": "9438aec2-c494-4e57-a5ce-b4b3e8b88880"
      },
      "execution_count": null,
      "outputs": [
        {
          "output_type": "execute_result",
          "data": {
            "text/plain": [
              "' With all this stuff going down at the moment with MJ i ve started listening to his music  watching the odd documentary here and there  watched The Wiz and watched Moonwalker again  Maybe i just want to get a certain insight into this guy who i thought was really cool in the eighties just to maybe make up my mind whether he is guilty or innocent  Moonwalker is part biography  part feature film which i remember going to see at the cinema when it was originally released  Some of it has subtle messages about MJ s feeling towards the press and also the obvious message of drugs are bad m kay   Visually impressive but of course this is all about Michael Jackson so unless you remotely like MJ in anyway then you are going to hate this and find it boring  Some may call MJ an egotist for consenting to the making of this movie BUT MJ and most of his fans would say that he made it for the fans which if true is really nice of him   The actual feature film bit when it finally starts is only on for    minutes or so excluding the Smooth Criminal sequence and Joe Pesci is convincing as a psychopathic all powerful drug lord  Why he wants MJ dead so bad is beyond me  Because MJ overheard his plans  Nah  Joe Pesci s character ranted that he wanted people to know it is he who is supplying drugs etc so i dunno  maybe he just hates MJ s music   Lots of cool things in this like MJ turning into a car and a robot and the whole Speed Demon sequence  Also  the director must have had the patience of a saint when it came to filming the kiddy Bad sequence as usually directors hate working with one kid let alone a whole bunch of them performing a complex dance scene   Bottom line  this movie is for people who like MJ on one level or another  which i think is most people   If not  then stay away  It does try and give off a wholesome message and ironically MJ s bestest buddy in this movie is a girl  Michael Jackson is truly one of the most talented people ever to grace this planet but is he guilty  Well  with all the attention i ve gave this subject    hmmm well i don t know because people can be different behind closed doors  i know this for a fact  He is either an extremely nice but stupid guy or one of the most sickest liars  I hope he is not the latter  '"
            ],
            "application/vnd.google.colaboratory.intrinsic+json": {
              "type": "string"
            }
          },
          "metadata": {},
          "execution_count": 187
        }
      ]
    },
    {
      "cell_type": "code",
      "source": [
        "import re\n",
        "review_df['review'] = review_df['review'].apply(lambda x :re.sub('[^a-zA-Z]', ' ', x))"
      ],
      "metadata": {
        "id": "OGci1jSclxAL"
      },
      "execution_count": null,
      "outputs": []
    },
    {
      "cell_type": "code",
      "source": [
        "review_df['review'][11]"
      ],
      "metadata": {
        "colab": {
          "base_uri": "https://localhost:8080/",
          "height": 174
        },
        "id": "l8WqAN9uvbKF",
        "outputId": "9963a5d3-a794-4a49-f18c-1e0580e75eb9"
      },
      "execution_count": null,
      "outputs": [
        {
          "output_type": "execute_result",
          "data": {
            "text/plain": [
              "' Although I generally do not like remakes believing that remakes are waste of time  this film is an exception  I didn t actually know so far until reading the previous comment that this was a remake  so my opinion is purely about the actual film and not a comparison   The story and the way it is written is no question  it is Capote  There is no need for more words   The play of Anthony Edwards and Eric Roberts is superb  I have seen some movies with them  each in one or the other  I was certain that they are good actors and in case of Eric I always wondered why his sister is the number   famous star and not her brother  This time this certainty is raised to fact  no question  His play  just as well as the play of Mr  Edwards is clearly the top of all their profession   I recommend this film to be on your top    films to see and keep on your DVD shelves  '"
            ],
            "application/vnd.google.colaboratory.intrinsic+json": {
              "type": "string"
            }
          },
          "metadata": {},
          "execution_count": 188
        }
      ]
    },
    {
      "cell_type": "code",
      "source": [
        "from sklearn.model_selection import train_test_split"
      ],
      "metadata": {
        "id": "wquNraMwnBG6"
      },
      "execution_count": null,
      "outputs": []
    },
    {
      "cell_type": "code",
      "source": [
        "class_df = review_df['sentiment']\n",
        "feature_df = review_df.drop(['id', 'sentiment'], axis=1)\n",
        "X_train, X_test, y_train, y_test = train_test_split(feature_df, class_df, test_size=0.2,\n",
        "                                                    random_state=156)"
      ],
      "metadata": {
        "id": "38kd0TQ8nHb7"
      },
      "execution_count": null,
      "outputs": []
    },
    {
      "cell_type": "code",
      "source": [
        "X_train.shape, X_test.shape, y_train.shape, y_test.shape"
      ],
      "metadata": {
        "colab": {
          "base_uri": "https://localhost:8080/"
        },
        "id": "G5AI02RMn3H-",
        "outputId": "ef5d2b1f-4d0d-4658-f384-b9522305dafb"
      },
      "execution_count": null,
      "outputs": [
        {
          "output_type": "execute_result",
          "data": {
            "text/plain": [
              "((20000, 1), (5000, 1), (20000,), (5000,))"
            ]
          },
          "metadata": {},
          "execution_count": 191
        }
      ]
    },
    {
      "cell_type": "code",
      "source": [
        "from sklearn.metrics import roc_auc_score"
      ],
      "metadata": {
        "id": "G54X8lp-oJmx"
      },
      "execution_count": null,
      "outputs": []
    },
    {
      "cell_type": "markdown",
      "source": [
        "1. CountVectorizer\n",
        "\n",
        "2. TfidfVectorizer"
      ],
      "metadata": {
        "id": "QUYtjOFioaY-"
      }
    },
    {
      "cell_type": "code",
      "source": [
        "pipeline = Pipeline([\n",
        "    ('cnt_vec', CountVectorizer(stop_words='english', ngram_range=(1, 2))),\n",
        "    ('lr_clf', LogisticRegression(solver='liblinear', C=10))\n",
        "])"
      ],
      "metadata": {
        "id": "3v_r-FLmoZ1D"
      },
      "execution_count": null,
      "outputs": []
    },
    {
      "cell_type": "code",
      "source": [
        "pipeline.fit(X_train['review'], y_train)\n",
        "pred = pipeline.predict(X_test['review'])"
      ],
      "metadata": {
        "id": "dxLv226cpR2-"
      },
      "execution_count": null,
      "outputs": []
    },
    {
      "cell_type": "code",
      "source": [
        "accuracy_score(y_test, pred)"
      ],
      "metadata": {
        "colab": {
          "base_uri": "https://localhost:8080/"
        },
        "id": "mNTvWhUgst0N",
        "outputId": "bf2d9b35-bdb7-4e8f-9d7a-c2e7e227def5"
      },
      "execution_count": null,
      "outputs": [
        {
          "output_type": "execute_result",
          "data": {
            "text/plain": [
              "0.8924"
            ]
          },
          "metadata": {},
          "execution_count": 195
        }
      ]
    },
    {
      "cell_type": "code",
      "source": [
        "pred_probs = pipeline.predict_proba(X_test['review'])[:, 1]"
      ],
      "metadata": {
        "id": "NSd9Z6Q4s5Bb"
      },
      "execution_count": null,
      "outputs": []
    },
    {
      "cell_type": "code",
      "source": [
        "roc_auc_score(y_test, pred_probs)"
      ],
      "metadata": {
        "colab": {
          "base_uri": "https://localhost:8080/"
        },
        "id": "SFwSEvditH9E",
        "outputId": "6a822819-53af-4f33-839a-20c015ae23a8"
      },
      "execution_count": null,
      "outputs": [
        {
          "output_type": "execute_result",
          "data": {
            "text/plain": [
              "0.9553672515368852"
            ]
          },
          "metadata": {},
          "execution_count": 197
        }
      ]
    },
    {
      "cell_type": "code",
      "source": [
        "pipeline = Pipeline([\n",
        "    ('tfidf_vec', TfidfVectorizer(stop_words='english', ngram_range=(1, 2))),\n",
        "    ('lr_clf', LogisticRegression(solver='liblinear', C=10))\n",
        "])\n",
        "\n",
        "pipeline.fit(X_train['review'], y_train)\n",
        "pred = pipeline.predict(X_test['review'])\n",
        "pred_probs = pipeline.predict_proba(X_test['review'])[:, 1]"
      ],
      "metadata": {
        "id": "f7oRGm_VtQGb"
      },
      "execution_count": null,
      "outputs": []
    },
    {
      "cell_type": "code",
      "source": [
        "accuracy_score(y_test, pred)"
      ],
      "metadata": {
        "colab": {
          "base_uri": "https://localhost:8080/"
        },
        "id": "_RujjS71uT5y",
        "outputId": "360d708f-b2d3-42e3-bd1f-96f4667beb81"
      },
      "execution_count": null,
      "outputs": [
        {
          "output_type": "execute_result",
          "data": {
            "text/plain": [
              "0.902"
            ]
          },
          "metadata": {},
          "execution_count": 199
        }
      ]
    },
    {
      "cell_type": "code",
      "source": [
        "roc_auc_score(y_test, pred_probs)"
      ],
      "metadata": {
        "colab": {
          "base_uri": "https://localhost:8080/"
        },
        "id": "JAGEcy1QuY2q",
        "outputId": "ec4cf5ea-54b3-4da2-96ca-b3f66ba7a83d"
      },
      "execution_count": null,
      "outputs": [
        {
          "output_type": "execute_result",
          "data": {
            "text/plain": [
              "0.9646908619364754"
            ]
          },
          "metadata": {},
          "execution_count": 200
        }
      ]
    },
    {
      "cell_type": "code",
      "source": [
        "X_train_arr = X_train_tfidf.toarray()"
      ],
      "metadata": {
        "id": "Vm2WBKFPyBot"
      },
      "execution_count": null,
      "outputs": []
    },
    {
      "cell_type": "code",
      "source": [
        "X0 = X_train_arr[0]"
      ],
      "metadata": {
        "id": "rCKmAU_4yCLC"
      },
      "execution_count": null,
      "outputs": []
    },
    {
      "cell_type": "code",
      "source": [
        "X0.shape"
      ],
      "metadata": {
        "colab": {
          "base_uri": "https://localhost:8080/"
        },
        "id": "KWnsK39uyPE4",
        "outputId": "bec7aaab-ff59-4632-fe1e-dd689ac2dd7e"
      },
      "execution_count": null,
      "outputs": [
        {
          "output_type": "execute_result",
          "data": {
            "text/plain": [
              "(943453,)"
            ]
          },
          "metadata": {},
          "execution_count": 208
        }
      ]
    },
    {
      "cell_type": "code",
      "source": [
        "X1 = X_train_arr[1]"
      ],
      "metadata": {
        "id": "KU3-nQaayReT"
      },
      "execution_count": null,
      "outputs": []
    },
    {
      "cell_type": "code",
      "source": [
        "X1.shape"
      ],
      "metadata": {
        "colab": {
          "base_uri": "https://localhost:8080/"
        },
        "id": "HLgW74fBynfR",
        "outputId": "ddf681f9-d593-47ec-9445-2d4a3d8acc07"
      },
      "execution_count": null,
      "outputs": [
        {
          "output_type": "execute_result",
          "data": {
            "text/plain": [
              "(943453,)"
            ]
          },
          "metadata": {},
          "execution_count": 210
        }
      ]
    },
    {
      "cell_type": "code",
      "source": [],
      "metadata": {
        "id": "oIJpx_CFyoXa"
      },
      "execution_count": null,
      "outputs": []
    },
    {
      "cell_type": "markdown",
      "metadata": {
        "id": "pma3d4bk4HXZ"
      },
      "source": [
        "### 문서 유사도 측정 방법 – 코사인 유사도"
      ]
    },
    {
      "cell_type": "markdown",
      "source": [
        "벡터 내적 정의\n",
        "\n",
        "$\\mathbf{A} \\cdot \\mathbf{B} = ||\\mathbf{A}|| \\ ||\\mathbf{B}|| \\ cos(\\theta) $"
      ],
      "metadata": {
        "id": "JLrDWFx5fEK6"
      }
    },
    {
      "cell_type": "markdown",
      "source": [
        "![2023-03-15 am 08-39-13.jpg](data:image/jpeg;base64,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)"
      ],
      "metadata": {
        "id": "7GWTduQRf2u1"
      }
    },
    {
      "cell_type": "code",
      "source": [
        "import numpy as np"
      ],
      "metadata": {
        "id": "WZFLAe1hznhX"
      },
      "execution_count": null,
      "outputs": []
    },
    {
      "cell_type": "code",
      "source": [
        "def cos_similarity(v1, v2):\n",
        "    dot_product = np.dot(v1, v2)\n",
        "    l2_norm = (np.sqrt(sum(np.square(v1)))*np.sqrt(sum(np.square(v2))))\n",
        "    similarity = dot_product/ l2_norm\n",
        "    return similarity"
      ],
      "metadata": {
        "id": "8AGEohEuzp20"
      },
      "execution_count": null,
      "outputs": []
    },
    {
      "cell_type": "code",
      "source": [
        "doc_list = ['if you take the blue pill, the story ends' ,\n",
        "            'if you take the red pill, you stay in Wonderland',\n",
        "            'if you take the red pill, I show you how deep the rabbit hole goes']"
      ],
      "metadata": {
        "id": "ZCHi_ILE0OiF"
      },
      "execution_count": null,
      "outputs": []
    },
    {
      "cell_type": "code",
      "source": [
        "tfidf_vect_simple = TfidfVectorizer()"
      ],
      "metadata": {
        "id": "69TlN3Rz0wbw"
      },
      "execution_count": null,
      "outputs": []
    },
    {
      "cell_type": "code",
      "source": [
        "fvs = tfidf_vect_simple.fit_transform(doc_list)"
      ],
      "metadata": {
        "id": "jh8hRP8603Dw"
      },
      "execution_count": null,
      "outputs": []
    },
    {
      "cell_type": "code",
      "source": [
        "fvs.toarray()"
      ],
      "metadata": {
        "colab": {
          "base_uri": "https://localhost:8080/"
        },
        "id": "jI4lDPzE1JbZ",
        "outputId": "a8184ce3-f6d3-4882-9178-f0d1b0de9fcb"
      },
      "execution_count": null,
      "outputs": [
        {
          "output_type": "execute_result",
          "data": {
            "text/plain": [
              "array([[0.4155636 , 0.        , 0.4155636 , 0.        , 0.        ,\n",
              "        0.        , 0.24543856, 0.        , 0.24543856, 0.        ,\n",
              "        0.        , 0.        , 0.        , 0.4155636 , 0.24543856,\n",
              "        0.49087711, 0.        , 0.24543856],\n",
              "       [0.        , 0.        , 0.        , 0.        , 0.        ,\n",
              "        0.        , 0.23402865, 0.39624495, 0.23402865, 0.        ,\n",
              "        0.3013545 , 0.        , 0.39624495, 0.        , 0.23402865,\n",
              "        0.23402865, 0.39624495, 0.4680573 ],\n",
              "       [0.        , 0.30985601, 0.        , 0.30985601, 0.30985601,\n",
              "        0.30985601, 0.18300595, 0.        , 0.18300595, 0.30985601,\n",
              "        0.23565348, 0.30985601, 0.        , 0.        , 0.18300595,\n",
              "        0.3660119 , 0.        , 0.3660119 ]])"
            ]
          },
          "metadata": {},
          "execution_count": 219
        }
      ]
    },
    {
      "cell_type": "code",
      "source": [
        "fvs.shape"
      ],
      "metadata": {
        "colab": {
          "base_uri": "https://localhost:8080/"
        },
        "id": "vpa2gitM1KYn",
        "outputId": "a23d3b2e-9961-4f6e-ba45-3bd4077caa43"
      },
      "execution_count": null,
      "outputs": [
        {
          "output_type": "execute_result",
          "data": {
            "text/plain": [
              "(3, 18)"
            ]
          },
          "metadata": {},
          "execution_count": 218
        }
      ]
    },
    {
      "cell_type": "code",
      "source": [
        "feature_vect_dense = fvs.todense()"
      ],
      "metadata": {
        "id": "MqWQvnXU1MpB"
      },
      "execution_count": null,
      "outputs": []
    },
    {
      "cell_type": "code",
      "source": [
        "vect1 = np.array(feature_vect_dense[0]).reshape(-1,)\n",
        "vect2 = np.array(feature_vect_dense[1]).reshape(-1,)"
      ],
      "metadata": {
        "id": "J05_AYju1gEj"
      },
      "execution_count": null,
      "outputs": []
    },
    {
      "cell_type": "code",
      "source": [
        "cos_similarity(vect1, vect2)"
      ],
      "metadata": {
        "colab": {
          "base_uri": "https://localhost:8080/"
        },
        "id": "8_0h7tSa13-j",
        "outputId": "82f17627-0e31-4077-ae6a-10564ff232c4"
      },
      "execution_count": null,
      "outputs": [
        {
          "output_type": "execute_result",
          "data": {
            "text/plain": [
              "0.40207758214950134"
            ]
          },
          "metadata": {},
          "execution_count": 222
        }
      ]
    },
    {
      "cell_type": "code",
      "source": [
        "vect3 = np.array(feature_vect_dense[2]).reshape(-1,)"
      ],
      "metadata": {
        "id": "y_JVlA4D17bv"
      },
      "execution_count": null,
      "outputs": []
    },
    {
      "cell_type": "code",
      "source": [
        "cos_similarity(vect1, vect3)"
      ],
      "metadata": {
        "colab": {
          "base_uri": "https://localhost:8080/"
        },
        "id": "9PAhrLWm2E8R",
        "outputId": "93577ffd-a5e5-41fe-f4c2-572014a1932d"
      },
      "execution_count": null,
      "outputs": [
        {
          "output_type": "execute_result",
          "data": {
            "text/plain": [
              "0.4042504477594862"
            ]
          },
          "metadata": {},
          "execution_count": 224
        }
      ]
    },
    {
      "cell_type": "code",
      "source": [
        "from sklearn.metrics.pairwise import cosine_similarity"
      ],
      "metadata": {
        "id": "j0j1Ez6s2IPk"
      },
      "execution_count": null,
      "outputs": []
    },
    {
      "cell_type": "code",
      "source": [
        "ssp = cosine_similarity(fvs[0], fvs)"
      ],
      "metadata": {
        "id": "z0aCWs_p2cun"
      },
      "execution_count": null,
      "outputs": []
    },
    {
      "cell_type": "code",
      "source": [
        "ssp"
      ],
      "metadata": {
        "colab": {
          "base_uri": "https://localhost:8080/"
        },
        "id": "QLHa6tAA2zA2",
        "outputId": "e5047802-4626-41a8-938f-3b465636119f"
      },
      "execution_count": null,
      "outputs": [
        {
          "output_type": "execute_result",
          "data": {
            "text/plain": [
              "array([[1.        , 0.40207758, 0.40425045]])"
            ]
          },
          "metadata": {},
          "execution_count": 227
        }
      ]
    },
    {
      "cell_type": "code",
      "source": [
        "cosine_similarity(fvs[0], fvs[1:])"
      ],
      "metadata": {
        "colab": {
          "base_uri": "https://localhost:8080/"
        },
        "id": "gIFzUaiQ20H5",
        "outputId": "854ba0c3-8bb1-4e02-ffbe-e6e936b99c6c"
      },
      "execution_count": null,
      "outputs": [
        {
          "output_type": "execute_result",
          "data": {
            "text/plain": [
              "array([[0.40207758, 0.40425045]])"
            ]
          },
          "metadata": {},
          "execution_count": 228
        }
      ]
    },
    {
      "cell_type": "code",
      "source": [
        "cosine_similarity(fvs, fvs)"
      ],
      "metadata": {
        "colab": {
          "base_uri": "https://localhost:8080/"
        },
        "id": "OikSYouJ3Jsd",
        "outputId": "6c378fe0-d639-4208-f891-46e037e2e3dd"
      },
      "execution_count": null,
      "outputs": [
        {
          "output_type": "execute_result",
          "data": {
            "text/plain": [
              "array([[1.        , 0.40207758, 0.40425045],\n",
              "       [0.40207758, 1.        , 0.45647296],\n",
              "       [0.40425045, 0.45647296, 1.        ]])"
            ]
          },
          "metadata": {},
          "execution_count": 229
        }
      ]
    },
    {
      "cell_type": "code",
      "source": [],
      "metadata": {
        "id": "rQSu1aFT3P4c"
      },
      "execution_count": null,
      "outputs": []
    }
  ]
}