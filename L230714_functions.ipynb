{
  "nbformat": 4,
  "nbformat_minor": 0,
  "metadata": {
    "colab": {
      "provenance": [],
      "include_colab_link": true
    },
    "kernelspec": {
      "name": "python3",
      "display_name": "Python 3"
    },
    "language_info": {
      "name": "python"
    }
  },
  "cells": [
    {
      "cell_type": "markdown",
      "metadata": {
        "id": "view-in-github",
        "colab_type": "text"
      },
      "source": [
        "<a href=\"https://colab.research.google.com/github/ohjeonsuk/python-education/blob/main/L230714_functions.ipynb\" target=\"_parent\"><img src=\"https://colab.research.google.com/assets/colab-badge.svg\" alt=\"Open In Colab\"/></a>"
      ]
    },
    {
      "cell_type": "markdown",
      "source": [
        "문자열이 입력되면 단어들이 '/'로 모두 연결된 문자열이 되는 함수 작성\n",
        "\n",
        "입력 : 문자열\n",
        "\n",
        "출력 : 문자열\n",
        "\n",
        "출력된 문자열 형태 : / 로 연결되어 있어야함"
      ],
      "metadata": {
        "id": "rfb-XHkiuDeX"
      }
    },
    {
      "cell_type": "code",
      "execution_count": null,
      "metadata": {
        "id": "UTPDlG0Spx5m"
      },
      "outputs": [],
      "source": []
    },
    {
      "cell_type": "markdown",
      "source": [
        "#함수의 작성과 호출"
      ],
      "metadata": {
        "id": "YObrA6TAd_ue"
      }
    },
    {
      "cell_type": "markdown",
      "source": [
        "def : 함수를 정의하기 시작한다는 뜻의 파이썬 열쇠말\n",
        "\n",
        "adds : 함수 이름\n",
        "\n",
        "( ) : 함수 안에서 사용할 데이터를 받아주는 변수를 적는다.\n",
        "\n",
        "즉, 파라미터를 적어준다.\n",
        "\n",
        "(함수에서 값을 받아주는 변수 = 파라미터)\n",
        "\n",
        "함수에서 수행할 코드를 작성한다.(들여쓰기 주의)"
      ],
      "metadata": {
        "id": "rjJKIN6HVboH"
      }
    },
    {
      "cell_type": "code",
      "source": [
        "def adds(a, b): # a, b 는 값을 받아들이는 변수 => 파라미터\n",
        "    c = a + b\n",
        "    print(c)\n",
        "    return c # return 값 c 를 반환해주는 명령어"
      ],
      "metadata": {
        "id": "icxuX9iGU1PM"
      },
      "execution_count": null,
      "outputs": []
    },
    {
      "cell_type": "code",
      "source": [
        "adds(1, 3) # 함수 호출"
      ],
      "metadata": {
        "colab": {
          "base_uri": "https://localhost:8080/"
        },
        "id": "koyBCLYOVKui",
        "outputId": "e5be2bb0-a8da-444c-b9a4-eaae57caee58"
      },
      "execution_count": null,
      "outputs": [
        {
          "output_type": "stream",
          "name": "stdout",
          "text": [
            "4\n"
          ]
        },
        {
          "output_type": "execute_result",
          "data": {
            "text/plain": [
              "4"
            ]
          },
          "metadata": {},
          "execution_count": 217
        }
      ]
    },
    {
      "cell_type": "code",
      "source": [
        "result = adds(10, 30) #10, 30 은 함수로 전달되는 값 => 인자"
      ],
      "metadata": {
        "colab": {
          "base_uri": "https://localhost:8080/"
        },
        "id": "opLLPM2Td6wO",
        "outputId": "fb86a5a5-5b13-4c17-d655-4f00ef4cfa32"
      },
      "execution_count": null,
      "outputs": [
        {
          "output_type": "stream",
          "name": "stdout",
          "text": [
            "40\n"
          ]
        }
      ]
    },
    {
      "cell_type": "code",
      "source": [
        "result"
      ],
      "metadata": {
        "colab": {
          "base_uri": "https://localhost:8080/"
        },
        "id": "I87BGUiEeG-_",
        "outputId": "28d18989-8396-42ee-d4c2-0ff3d92941b3"
      },
      "execution_count": null,
      "outputs": [
        {
          "output_type": "execute_result",
          "data": {
            "text/plain": [
              "40"
            ]
          },
          "metadata": {},
          "execution_count": 207
        }
      ]
    },
    {
      "cell_type": "markdown",
      "source": [
        "![functions.drawio (1).png](data:image/png;base64,iVBORw0KGgoAAAANSUhEUgAAAPkAAADACAYAAADGOsX1AAAAAXNSR0IArs4c6QAABkd0RVh0bXhmaWxlACUzQ214ZmlsZSUyMGhvc3QlM0QlMjJhcHAuZGlhZ3JhbXMubmV0JTIyJTIwbW9kaWZpZWQlM0QlMjIyMDIyLTEyLTAxVDA3JTNBMTMlM0E1Mi43NzZaJTIyJTIwYWdlbnQlM0QlMjI1LjAlMjAoV2luZG93cyUyME5UJTIwMTAuMCUzQiUyMFdpbjY0JTNCJTIweDY0KSUyMEFwcGxlV2ViS2l0JTJGNTM3LjM2JTIwKEtIVE1MJTJDJTIwbGlrZSUyMEdlY2tvKSUyMENocm9tZSUyRjEwNy4wLjAuMCUyMFNhZmFyaSUyRjUzNy4zNiUyMiUyMHZlcnNpb24lM0QlMjIyMC42LjAlMjIlMjBldGFnJTNEJTIyMmkzbkozOWVhN2E5amtDZTRrSnElMjIlMjB0eXBlJTNEJTIyZGV2aWNlJTIyJTNFJTNDZGlhZ3JhbSUyMGlkJTNEJTIyZjF6QVlqOGQtb05ROW84eU11STAlMjIlMjBuYW1lJTNEJTIyJUVEJThFJTk4JUVDJTlEJUI0JUVDJUE3JTgwLTElMjIlM0U3VmhMYzlNd0VQNDFub0ZETzQ0VnA4NHhqd0lIWURxVUdkcFRSN1UzdGtDUmpDem53YTlIc3FUNGxhWk5hYUFIRG1tOG4zZlhxOTF2ZDUxNmFMYmN2QmM0eno3eEJLZ1glMkJNbkdRM012Q01iUlFQM1Z3TllBb1I4WklCVWtNZENnQnE3Skw3Q2diOUdTSkZDMEZDWG5WSks4RGNhY01ZaGxDOE5DOEhWYmJjRnAlMkI2azVUcUVIWE1lWTl0RnZKSkdaUWFQZ29zWSUyRkFFa3o5JTJCVEJhR3p1TExGVHRpY3BNcHp3ZFFOQ2x4NmFDYzZsdVZwdVprQjE3bHhlak4yN0IlMkI3dUFoUEE1Rk1NdmtUc05vOG4yZXJ6aGVSd0Y4Z3ZkMSUyRlBCcUVOVG03ZGlTRlJDYkFpRnpMaktXZVlYdGJvVlBDU0phRGQlMkJrcXFkVDV5bml0d29NRHZJT1hXVmhPWGtpc29rMHRxNzhLR3lCdHRmaDRPQXl2ZlZuSmtwZm5HZXElMkJFclJPWUZOc2I1MFFMeGlwMFltMVdTYzV1d1ptMHdRVE82UlVJc2dRSnd1cVlQT2pEUDVoZkN4VzhGREVjU3FybEtSWXB5QU42NFk0RnFudUFxMmpFVnRrSm9GaVNWVHNPYkhtYzd2U3M2VVFJdkcwbzVKd3dXVFE4WDJsQUtkaU9SRVBMUjl1UWFOeWh6U1A2QVFxYiUyQnVyQ1JPQ2t4bEZxcUtMaU1iUTBqMXhoV3RvMEpMRHdnaEZlS29KTjJYMlJWeFh6OTBBNFNZbzMlMkJydTZyUjd2MzZ2UFd5MmhpZEtucWlMVGU2R3VVbGxaR0tUSU1XdjF3ZWhucVR0enVzNkloRE4xVzVkOG9oa2h3TmhaaFlZblQyV3o0Vk1kM2JnMUNuRVZ3M3dYMjlURTlnOGpFaUJMd2ZZa01lNU5CUWtiMlc3aVFnciUyQkEyYWNjdDFDakRNZHhJSlEyb0V3SlNsVElvV0Y5ckFDSVltYXJ4TUxMMG1TVkZPbE90YTFPZFY4clpaSmI5SjAyOWlTUkRtRXplR203VGVaTSUyRkE3M2VEMnpyb2U5b0hyZ0t3NTZKM2h2c1pzTk1meDNBOTczSGVVSGhnJTJCSThQbkZ5OVFySEtteCUyQkZySzFFWXRnZFEwQyUyRlJBTzBwRVRwVmhjYTlDdldYS0VzbSUyQnUxRHA1WGlvaUJ4dXphSHMxYnZ4eUJzckVlM09oOVpqdjQ1UXFpOUlJTkhGbVFsblhBamhrJTJGY2lBOHdvVkhwY0UlMkJoSFhiYzR1eHZ1czRvR0hiNFkwNXBqUTVzektpek1NY2RQeVlMUFQ4dnRqdjlrOU96WnRvd2pQNHEwMTQzZzdvVTJ2azlsa0pCOXlXdE84dE96YUglMkJDOWpKUnR6RnMwWmNHUDBmY2M4ZzZLakRxOUV6Q2JwN1QlMkJxJTJCTiUyRjB4UVpWWSUyRnlZMjZ2VSUyRkZ0RGxidyUzRCUzRCUzQyUyRmRpYWdyYW0lM0UlM0MlMkZteGZpbGUlM0XeLmdCAAAgAElEQVR4Xu2dCfyWU9rHz1+omRhFpl2phhpbMsZMDCZZU9K0EGpCpUaypxktdmVEVNYo+5Jskxkio2ihTIwWJSFhpjAmy4Tq/Xyvd05z9/Qs97Occ9/P/VzX5/N+nnl1/89ynfM75zrXWrVp06ZNRkk5oBxILAeqFOSJXVudmHJAOKAg142gHEg4BxTkCV9gnZ5yQEGue0A5kHAOKMgTvsA6PeWAglz3gHIg4RxQkCd8gXV6ygEFueM9cP/995vrrrvOPPzww2bPPffM2tvbb79tevToYS666CJzyimnFDSyr776ylx88cWmbdu2ebXx+eefm/79+5sTTjghr79LN8j169ebP/3pT+aWW24xL7zwgsz7t7/9rTnjjDPMrrvumnNe8Gz27Nlm9OjRpmbNmjm/1w+yc0BB7niH+AQ5fk3099RTT5nbbrvN1K5dO9Tsvv/+e3P99debSy65xNx3331Fgdy2ddVVV5nevXubTp06mQ8//NCMHTvWNG3aVMZVt27drOPiwBkwYIDp3LmzOemkk0LNQT/KzAEFuePd4RPk7733ntyYv//9781RRx0Vambcurfffrv5wx/+YNatW1c0yF999VUB5+DBg80FF1xgtt12WxnH/PnzTdeuXc0555xjzjvvPFNVVZV1fE8++aQZN26cmTRpkmnYsGGouehH6TmgIHe8M3yBnFv8pptuMi+99JKZOHFiqFucQ2HEiBHm8ccfFzGdW7zYm/yhhx6S25qbe999993M3U8//VQkBG7zG264wfzgBz/Iyvm1a9ea0047zXTp0sWceeaZOQ+FQpeR5w2HHAdPUklBnmVl2QD33HOPeeyxxww3FDfd/vvvb7p372769etndt55581/jZiKmDxhwgR5h5544olm+PDhZtGiRWnf5H//+99ls3NjcVNx++6zzz4ChOCb3I5h8uTJZt68eaZJkyamffv2clPyvaWPP/7Y9OrVyxx77LGhbspvvvlGvvvLX/4i46tXr5459NBDiwZ5JnauXLnSnHzyyaZdu3bmiiuuMNWqVcuKKQ4t+PPnP/9Z1qB+/folxeCXX35pxowZY6655hppF34klRTkGVaWd+GgQYPMyy+/bM466yxz4IEHmv/85z+iUOJ2BuS8O6tXr242bNggGwaFF29JAP7uu++ae++91+y3337mlVde2ULxxv8PmHfffXfzu9/9zmy//fbmjjvuMI0aNZJvhwwZIv/OxqPN6dOni1KMA+b9998348ePN2xSbk17W3Kw9OzZ00ydOtUcfPDBOfcrbXPjH3/88XK70u8hhxxScpBv3LjRrFixQiSG119/XXh3wAEH5BwfH8ycOVPGB9DDzClMoxzUAJsDhLFx2Fx99dXm3HPPDfPnZfmNgjzDsrHpAfmll14qIqMlbmzer4AKkLVo0UJu627dugnIUF7Zd+iSJUvk9oKsdp2b+eyzzzZr1qwxd955p9ygEP+dmxWwW5F56dKlIjVceOGFcktbevPNN+Uw6du3r7zBITYtALJjync3ugA54+Qdvnz5ctOsWTN5X//qV78KPbR33nlHFG8ceMWK04AbMMMnpIRvv/1WxoE0xlMiyaQgL2B1U9/ZvEHRTk+ZMmWLdyg3/LBhw8wzzzyzGeR246OU4nYOEjc2CrNUkHfs2FHE+UzmJCQM2uPGZGy77LJL3rNyAXKkjmXLlpkvvvhCDrTXXntNpBDMhLkUb0zAvuObN28u/K1Ro0be87J/8Jvf/MY8/fTT5rvvvsvYRqYxxfm/H3TQQfLkysYbBXmObcOJv3r1ahG/sWPzNv/rX/9qatWqJcBF5Ob25o39wAMPbGUHTj0QeLej5EJBxhs4SKl2ciuuo2XmxunQoYPcjL/4xS/Mj3/8481/yi2F2P/DH/4wlFIr3ZRdgDzYz7/+9S/RrKNlf/TRR81ee+2VE7B2XjyJUOQxv0Ip003OgYiSL1tahUz/Vqr/zpwKbQszKU9LBXkBOwOxnM142WWXCbghnDqOPvpos80225gXX3xRQL7bbruJKImmOt0tmgpy/v9TTz1V3vqp78x0zjAA/YknnpD3M08ES4jvV155pWncuPHmGy+s5joKkNOnPeDCavCtcjATbwtYVvPvf/97s9jO3/Mm542OIrMcCSuFgrzAlUPrjQmHt/bQoUMFzCjIIMRzvLlc3+SpQ2cxEXk5KDB7IYJyy6NAivtNzlzylRZKeZOn8pInhH2jA/Ry1a4ryAsEOCI6Ivjzzz9vHnnkEdOyZcvNLaV7ZwN6bnzefEHNMSIYGnje6lbxZt/kKM5SlUmAABMYBwjKJg4aXDuxfwfbTb3heKvH4U2OYw3A4UmD5NGgQYMtVsBKMc8995w58sgjc65OKd/kmTrjGYG+AOVmOZKCvMBVs0C24MR0ZWnOnDnig404bxVtVsxG/A76W6Nd79Onj5jeLMgtQBcuXGjuvvtu06pVK2na+pxjZ7fibCatPbcQNzegYoPutNNOsdGuY8JDwsB8yEFllVaffPKJOLVwa2JBCOoUMi2T5SvuscVq1wvcCrH/MwV5EUuEjRbzDe9wAAWQULixeXHowDnFvqu5sR988EGxp2PXZXOjzEGTjN82GzoYoGLBb8XsOnXqiAjOm5tDwN7k6fzAkTL4Fns9Y0GJZ0VhpAD+e6pCLwwbsonSFmwo/HJ5q9nDirFZ3/WPPvpIeMF7GO+ysOPD2sCBUUo7eRhelNM3CvIiVgvgolxD/AR8eJphL0dDzGZFy43TCrc6xPccDH/84x8FaBwOAwcOFPdNNnhqFNqqVavELAQYIDYz73+83YIeb9zW3I48CdDIo2UH2CiKcISxN6V1A0WawI4fxkQVZE+pQE6bHFQ8c5BUGHOQdygHw5B96uBAE9ZNN0y7SftGQZ60Fc0yH0CB6A64XLiBLliwQNrGJdUqIF2y17rpIk3Zg9Rlf+XatoK8XFeuwHFjasI8d/7552/hpVdgc5v/DGkCt12eHb4Ah/SC5QBJR6PQMq+ggrzY3V1mf19oPHmuaXJ43HrrraLBD5P0IVd7uf69lAkscvVV7v+uIC/3FSxg/Ci+0BUQbFKuCRc0M0z4hVeQh+eVfqkcKEsOKMjLctl00MqB8BxQkIfnlX6pHChLDijII162kSNHShBKGBfOKIeK9vzaa6+VxA6lJtrEiQZHHaXSc0BBXnqe5tUiHnCtW7cWT7g4E77k+NjjuFJqInacxI42eUap26/09hTkEe8ANjeZW/iNM5H9Bg85HF1KTRxyd911l2nTpk2pm9b2jBGPSg01jXArIKbeeOONIq7GmfAlJ+kkCSJLTSQz+Oyzz4pK+FDqMSWpPQV5xKuJnzZBLWH9taMYLhFyZFzht9TuquRoI50VWXWU3HBAQe6Gr6Fb5RYjXrmY3GShOyvww2effVYyo3AYlZqmTZsmrqlEkSm54YCC3A1fQ7VKwoOf/OQnIqrGmYhYI8b78ssvL/kwibIj1JbwVCU3HFCQu+FrqFZtwofFixeH+j6qj0iRjKnviCOOKPkQyE2Pwi3u1oWST9xjgwpyj8xO7YoYdMxSM2bMiHAU2bsm7nuHHXaQ9/h2221X8nGi0ENCOPzww0vetjb4/xxQkEe4EwiyIN86v3El8nWPGjVKkmO4IEJT33jjjZKXOHIx1nJtU0Ee4crxHiXtEb9xJQo2cIOThLLURIUYEmAmvTpJqfmWb3sK8nw5VsLvSeHETcZvXIlwVMRpctaVmmbNmiUZb0krpeSOAwpyd7zN2TI527ER8xtH+vrrr82PfvQjeY/b2m2lHCcZWclsi7ebkjsOKMjd8TZnywSlUJE0rsEp2K4pWexKMUgecyQZeKDkjgMKcne8zdkytcOpjRasIZ7zjzx+QFUYaoxhPnNBpKbGhNapUycXzWub/+WAgjzCrUAuNGzkPnKiFTJNQmCppfbrX/+6kD/P+Tc4AtnU1Dk/1g8K5oCCvGDWFfeHlMfFHzxbmdzieijur8kDR1VW3uN4u5WaiE/H/h7X+Zd6vlG2pyCPiPsffPCBJIuggEIcCfs9pr1gldRSjhPbOKmhKees5JYDCnK3/M3YOgX/KK1EBdI4EqYtJA3CS10QRRj4P2rFKbnlgILcLX8ztk4dbkxIVDmNI7Vt21bKP7lyN8X2Ts023vxKbjmgIHfL34ytU9SPWxygx42+/PJLqafGe3ybbbZxMryePXtKTre4+gg4mXREjSrII2I8NxlKJxfplIqdEjHehH5Se90VUUudiisHHnigqy603f9yQEEe0Vagmulee+0l7/K4EdVV0HwPGzbM2dBq1qxpKFiIR52SWw4oyN3yN2PrlDimRjnliONGv/zlLyX98mGHHeZkaNRNI8QUC4OSew4oyN3zOG0PKLaoU85vnIi66jjn8B7Pt3552HkQvkoFVNI8K7nngILcPY/T9tCsWTN58/IbJ8IDbezYsWb69OnOhkV22hUrVpibb77ZWR/a8P84oCCPaDdgg167dm3s0hATLMI7mTzrrmjAgAFm7733jqU+wtWco2xXQR4B98nOSgpmfuNG5H8fPXq0vJldEb7wHCIucsa5GnM5t6sgj2D1li5dKhVT+I0TffHFF6Zu3bryHndJ9evXFx+BRo0auexG2/4vBxTkEWwF8pcTvukij3kx08H7jneyS4UY6afRQ8RRiimGd3H+WwV5BKvz0EMPmSeeeMLwGyciDRWRZ+RZd0WzZ882559/vpk7d66rLrTdFA4oyCPYEmiXsRXzGyc66KCDxKxHnnVXdPfdd4sEM3nyZFddaLsK8uj3ABFe3Jj8xoUQn3krk2fdJeFNx9zJOqPkhwN6k/vh8xa9UKqY6C5+40JExY0fP95Q98wlnXDCCaZ3794Gjz8lPxxQkPvh8xa9HH300ea8884zxxxzTAS9p++SpIpEnpFn3SWRZ33q1Knmpz/9qctutO0ABxTkEWyH/fbbT96krVu3jqD39F3+/Oc/F1dT8qy7ou+//15KH/PrKoTV1djLuV0FeQSrhy2a9Ef16tWLoPetu/z8889Nw4YNDXnWXdJbb71lunXrZpYsWeKyG207hQMKcs9bYsOGDXKb8RsXevLJJ80tt9xiCBxxSY899pi57777zOOPP+6yG21bQR7tHli9erVBNOY3LnTBBReYOnXqONd4U8GVrDPXXHNNXKZeEePQm9zzMi9YsEAKCvAbFyI7CzZ7sse6pF69eklNtThZFVzONy5tK8g9rwSplSZMmGD4jQPhZtq4cWNDnnXXhARz0003GYJglPxxQEHuj9fS08SJEw2unfzGgXCvve222wx1z1wTIazvv/++qV27tuuutP0ABxTknrcD71K02PzGgfAjp+iga+87ikhwg8dJFxEH/vsYg4LcB5cDfQwaNMjsscceht840M9+9jMRoV2noSLTDHnjXFVkiQMv4zoGBbnnlcFO3L17d7EXR02ffvqpadKkiWi8XdO4ceOkuCP6CCW/HFCQ++W3RHhRmcRlpFfYKWGvvvPOO70oAc8++2yRYM4555yww9PvSsQBBXmJGBm2Gcr1UkyQ36gJ/3m87ogMc03t27c35I876qijXHel7adwQEHueUvsuOOO5qOPPjL8Rk1UMUGMJs+6a8JM9/LLL8vzQMkvBxTkHvlNTnN8xNetW+ex1/RdkSl299139zIWcseRzy0O846c8REMQEHukenLli0zHTp0MMuXL/fYa/quCPe86667DHnWXdO8efMk/fL8+fNdd6Xtp+GAgtzjtpg5c6bkT5s1a5bHXtN3de6555oGDRrIO9k13XPPPZIckuAUJf8cUJB75PkjjzxipkyZYviNmtq0aSPmLB8upiSioJiEy4INUfMzzv0ryD2uDk4n77zzjjifRElr1qwxzZs3N+gIfBBFHU866aRY+Ab4mG/c+lCQe1wRbjRKArtOsZRrSsR1T5o0yZBn3QdRopn00/vss4+P7rSPFA4oyD1uidNPP13SK/EbJQ0ePFi03eRZd02bNm0y2267rVRl2W677Vx3p+2n4YCC3OO2OO644wyeX/xGSfvvv7+59dZbDXnWXROpnsjQimVBKRoOKMg98h1lF26k/EZF//znP8XbDtu1DyKUFVMdKZ+VouGAgtwj3zFZYSvmNypCu49JyxfoiDwjEOa6666LasoV36+C3OMWIA1x1OmICRDZbbfdDHnWfVCfPn1ED3HGGWf46E770Dd5dHvgk08+kTzr/EZJjOH222+XZJI+CL946qu5zh/nYy7l2ofe5J5WbuHChZLAkN+o6B//+IfZc889vZYNpioLSjeywSpFwwEFuSe+k0Nt7NixznObZ5vOo48+Kq6l5Fn3QUTboWSMWnrxMdc496Eg97Q6lOx96aWXxAklKiLlVNOmTQ151n3QjBkzzOWXXy6lipWi44CC3BPvKSiA2Qptc1REDTZMeORZ90FUZeF5QjZYpeg4oCD3xHu8zIjfJvorCkJkbtWqlaHumS9izkgOZKBRio4DCnJPvO/Ro4c58cQTJVAjCiLy7YEHHjA4p/giSjQD9Kg9/HzNN679KMg9rcxhhx1mLrvsMnP44Yd76nHLbnCnbdasmSHPui/iFuddTr9K0XFAQe6J95iu0Gq3bNnSU49bdrPvvvuKeyl51n0QaZ4p2uC6HLKPuZR7HwpyTyu40047SYmgWrVqeerxf918/PHHZu+99xb3Ul+E+27fvn3N3/72N19daj8ZOKAg97A1KCbIreajqGC66Tz88MMSz+2zLvj9998v+eMefPBBDxzWLrJxQEHuYX+sWLFC8o3zGwWRRLFFixZetdzDhg2TOPIRI0ZEMWXtM8ABBbmj7fDdd98ZxGSCQV555RVJmMivD1q5cqUkjESbDpGRBScc8qy7JExlN9xwg3RBKaguXbpEZk1wOc9ya1tB7mjFiNn+4IMPpHgB/tsAjrRLiM04h7z44ouOejaSQ45DpVevXmbkyJEGpRt51l0S3nxUSSERBaGsnTt3ll/6hgdaHskl97O3rSB3xHvitU855RQRWWvWrGlgNAEi3PD169c37777rqOejSSLJNqMdEt169Y11AU/4ogjpAY5/4aE4aKCCwcb7VevXl1CarGTP//88zLP3r17S/Sbkn8OKMgd8nzXXXfd6gatUaOG3OKuUyHXrl1bos223357Qxw7OdY4bHDGwbXVBV1xxRVSd339+vWSghnzGYDnhvdRxMHFnJLQpoLc4SqSKPHmm2+WTQ+RqZUkjkSjuaZ27dpt8SQA7EceeaRTsOGnjtNPMNUzh83bb79tOPCUouGAgtwh39nciM3cohBi+ocffig3q2siEGbo0KHSDdIDTjjYrqtVq+a0awobMkeI2xxTGu9zpeg4oCB3zPu2bduaOXPmiKiMhrtr166Oe/z/5nkSAC5uVRI2LFiwQDT9rokAHCQV5kvqJyQZpWg5oCB3zH+SNPTr10/s5D6DQ3gP8zyoqqqSksE+yhPDSsyEPAuIuFu0aJFj7mrzYThQMpDjMok2mVxeOEIUQoRDEsRBxBRaaHytfd18hYyXv0HZxMZGLN1ll13SNkMEGqYsMqXm+jbXOMhjzlv/+uuvl1RO2YjyRGRmwWbukniWMEfGxR7gf5966qmmY8eOobuFf7NnzzajR48WKUCpdByIDci//fZbORxwweQtyQbG3zruucHCgNwuVz7fplti3GJxOKHsEHZnbuk4UCrICxkTce4DBgyQJ0ZU4biFjLsc/iY2ICdryplnnikBHLzpUNqUA+UD3Hy+TTd3othwLOFt37Bhw9iwpxQgZzJxnV9sGF3gQGIDcivuE4OMayQDKwfKB7j5fJs6d266/v37i32d2zwutzjjLBXI8co77bTTxB2WAz9OcyyHvZhpjAWBfNWqVQLEqVOnSrtsOt5/LEzqmxwRE/fGyZMnm3nz5okYTmpilFG4e0K8x3jDBYkN7RLsFOJ788035WacNWuWbFTGg2cYAR2HHnroFpvsm2++kTlwiy5evFh0BegP+P9T39n5fPvee++JGyq8JBSVOmX4fQf5A19eeOEFKVCAviJMznTLd1xpX331VbNu3bqMbRe7gS3I2Qd40t14443CU3g5cOBA06lTJ/H8y0WsCWuOZx57BpOjUvEcyBvky5cvl9MW26+tjokGmVMXV000q1bxhhsnGULZoHzLAQCw8N3Gbssvbpdsbv473lIsLG8zQjMJrHBl16VsL4cNYMbHG6cNlFpkVaVeGEoym2AB0OILDsgxEeHw8dprr4mZynq1WcVbPt9aXvJE4YBkDBwYPFeOP/54MT/hkrphwwY5UOjz3nvvzamn4NaH72jVzzrrLEncyHrhdcY4OUDgNd5opSALcjYThwl9kw2GfQFYUaaRkSbMWs6cOVPmDtCzFWSAzxwqc+fOFT1OLiVkKeZZrm3kBXK72fDLJk6YxIAQfso4XwBuUvDyy6nMDTVq1ChZbDywLAGmk08+WU54QhFZfJ/iOrcc/RJAwkEDuCyR5ADtMDZe60zCIUV+tgkTJoj22IqRpDZCAiEIw4I8n28BANVFuJ1txhj4htspAS2AHOWj1Vdw8KFVx7klG3FQALRLL71URF9LrBOadsZIoAzhp6UgC3LaSt0X8Jk4dnK+ozDMRfi+o3iDz9kSQCrIc3Hyf/+eF8hJlg/zsbnyvgyezNzEiLDc8oDcvq+aNGmyldjNYcE3OIkADgoA+gR5NvakmgLTjdX+PbcWoj03P/PgRk6dV6ZvMbcB8ksuuUTKCHN7ZfKEsxufEsCFmiftOBgnxQdLeftZkAcPbduf3RfkeucJloss/5s3bx7qQMvVnv67Ef0W0l22y6FqE9eLMeI1he2TWxsRN0ip4LALz/uxZ8+eW/EaTeq0adNELOYmjALkTIsgDkCEKybzQ8QlbNJKJLm0/kFlGu/ObBaCVMWbFdetrqJbt27mmGOOEdt2UPFogcKtyCEbljBLrl69Wp5RrAdvcwodcBi5ALm1kwfHt2bNGll/nl7sG3zos5E9OHlKlJOVJeyaRPFdXiBHDKRCJeJ36mZLBbn9NtekABVvL98gR3mIOMttCqEwYhy8t/FM69Chg9yaucYVBC7twJdMFoJ02nWkI5x+4ClAhFAAMjbe0yxQNr6n4y9iOeIx73jbJm9WQj+RFtAl+AJ5Lv6ljt+K4SgkszkY5dpX+u8Fiuv53ORLly4VLTFv2zDJ9fPdDMUsojVHcbPxJkYLzO3GW9s+SdAhAHKXN3lwDhs3bjQcPNy0EydOFO00b3M06vne5EhJPJuQDNAr4LNub1B0EFQ28QXybE+8dGuoN3kxOzv93+Z1k9sFw8yTKnpZ8RxTGuCw33KDpJrCeOcOHz5ctNljxoyRm88nyO1hhZYZEThoj03VLdg3OSI8yjB0DJZSbx37Jg/zLa6bV155peHGGj9+vCGbq6VUXubzJkdE551PsoagQo+27VyeeeYZJyBHJ4NiL8hPDlK82OCzvslLD+AwLeYFcjYJ5hBuA8xJiLYQ4iFaXzaXfcvab9EQIxJzW9rF5w2KBhtFEu3x/vIJcgtkNOaYkqwNF9AiJnPwcANa5SJmHTS+mAFRINnvATMZT9CMW9Eyn2+5sTkQU60PVsOPKREpKB/tugUyug5uaw5kSyg6kQxYL6sLCbNJcn1jDyUUO5ggrdUFK4bNbRdWcrBtwdcwEmCusem/56l4g2HYvjmREcf5xcSDSQ2nCxLqo3wJ2sn5BtEz1U7OrRfcED5Bbm9gbmZr90byAKgo4wiO2WOPPTZLIPYQ40Bg86FFfuutt0SsRrEEkCzI8/k2lZe0g88ANzviNeBHymFM9G0lhFwJGOxBgxSF9h8pgWcANnaeIRzQVheSCQT5mKgsMLEyNGrUSPok5sCmZcZ6gMk0jAfb9OnTxbFK7eSlO57yusltt5999pmYfcjZxf9GI4zoy/s2l8cb4i62W05pEgxY8gly+mTc3NgACWAhaXBzHnvssSJG43gS9LoCvBxm1puLhIUcEIRT8m1QSZTPtxwSSDuI1oDFegRy4wbBjPINvuEZl81JhLlxKKBcu/rqq8UmbnlOUAvx5YjVQ4YMkVu9lCBnTZHK4BHSGmbBCy+8cCvvwUx92sPs9ddflwM06L+Q+jf5HEKlg0t5tlQQyMtzquU9asCJgwuAtQ5ErmfEM4EnGP8X1EW46pcEk5hmeRplO4Bc9Z/UdhXkZbSyaM3RYSB9kJTBJVlpAAkDfYuPGG+kFGIJeFbEKcrOJZ99tK0g98HlEvXhM56c5JMcKMQiuM4sC3usWRNlbD4OPyVibaKbUZCX2fJidkTzj2sqec6TQpoZxt1KKsjd8VZbVg7EggMK8lgsgw5COeCOAwpyd7zVlpUDseCAgjwWy6CDUA6444CC3B1vtWXlQCw4oCCPxTL4GYQNWc3l0upnNNqLLw4oyH1xOgb9KMhjsAgRDEFBHgHTo+pSQR4V56PtV0EeLf8L6r3QklQK8oLYXfZ/VBEgtznWyRmG/zeE+yRRU+Qe80FEmxFZRf+kEYaIxycYg/DVfIpJFAtywjlJREH2WZJWEIFHRF1qrnkffNE+3HMg8SAH4KQJJl8aZYRJtAgRs03UE+6UBxxwQFpO23BGkmRko3Q574LfE8pKjnf8s/v27SupifnfjItcbIRm5lPbrFiQwwdi5kmAwQa44447JFad0GGtQ+YedL57SDzIV65cKQkLyAhLGiobTUUWU/KgcZPb7DSpzCeVEskwyM+ejbiRswVxkOOcPojBD1Y/IZSTBAtkjCXyKlv8dLD/YkFOkkryx9WrV0+atWGsJM7QyiW+Iei+v8SDnLRD3J6pmUa44Umq8MYbbwj4owptDFMfrVQShX2T2wSRwe2FCE8N9eeee04iz5SSw4HEgxwQcRuHzTHmcmkBK29gcryTZ47sKWRuoYxRtvTDqRIF7StF4PUAAAZhSURBVBDnTUw572hLuSSKbIq3fLPruuSTtl1aDijIs/CzVDco7SCqk1aKtFMQ+dwQm3mv2wosVFUJQ8WK6+mcYVIzxIYZh35THhxQkGdZp1K8yW1NOLTXpCtGAchbmIyvNrMqOc3yKSTgAuT5ljMqj+2to4QDiQc54CFBY7rsnyiZyBhrCwu62BI2nTLKNbLDBpMzptZS83WTp7MGkHqJLKn6JnexC6JtM/Egt9p1zGRouK123WqUAVquzKDFLJEFMm9xQE7KYogbnnJM2MgZmy38GKavYm9yfARs2Wj6s6mhGRPmNKqnKiWHA4kHedBOTopg8ofxRkbDjLIpWCTC1bICYEocU7YIUEPUCicfPXnrGYcPxaBVvFEDHpOi9RnwyQtXPNZ2M3Mg8SC3tyZVScgL/+yzzwo3fHq82YolNh95MLf6woULRUymhjeeZy7Jghxz2eLFi8XjDds4lWTIj+7L+8/lHLXtrTlQESDXhVcOVDIHFOSVvPo694rggIK8IpZZJ1nJHFCQV/Lq69wrggMK8opYZp1kJXNAQV7Jq69zrwgOKMgrYpl1kpXMAQV5Ja++zr0iOKAgr4hl1klWMgcU5HmsPv7nc+bMkUwzSsqBcuGAgjzkShUaFBKyef1MOeCMAwrykKxVkIdklH4WOw4oyEMuiYI8JKP0s9hxIPEgt2mNRo0aJe9pEkQQbUVEWOvWrc1XX30lGUoJOSXnmo0Q69evn9l5551lwWz0VnD1SLzQpUsXyd0OkQwymDvd9nvRRRdJeCtEvjmyxHbv3t2MHDnSLFq0SNIid+zYUTLHMrb169eba6+9VnK/MRYSXhASauPgC9lBNuf7pEmTDOMi2m3gwIGmU6dOkqFGKdkcqBiQA5IWLVqI0gygAVDSOw0aNEgANXjwYHPwwQdLgkUSKrRs2XJzYoW1a9fKAXHVVVdJHHbPnj0liSLJFfIFOXHjO+ywg+nTp48hE0ydOnUM8d09evSQw2f58uUC7AYNGpinnnpKDh8OHPquXr163rtxyZIl0heZafr37y/x64S1ckiRrZaU0FVVVXm3q39QPhyoGJA3a9ZsiwwwNvcaNzwbvl27dptXDWBwGHDTjRgxwlSrVs2kE9dtosd8bvLhw4dL9lgOGUv21q9Ro4ako2rVqpX8E7f6xRdfbObPny9ZZZo0aZLXzrJ/T+EECjnYdolvZ14cbvx3Diyl5HKgYkDeuXNn2dj21uJ2RkQGOKmitk2wyO1t0zKVCuRUTCGdMpJCKsiPO+44Eek5VCzxlBgzZkxBmWMohURFFOZOEsngjc0TBOmFp0H79u2Tu8N1ZslP5GhvSURgxNVUYFHRBPE7lahZNm3aNDNlyhQR0UsF8hkzZmyVz82OkdRQVvy34+GQ4V3/9NNPZyznlGkfW11CrjJOioNkc6BibvKgAowlTadMS7fUNkd5qUBOv6npl9Mp6YIgJz9culzpubamgjwXhyrj3ysW5PlWDMkX5DaPOU+EoHZdQV4ZwIrTLCsW5CQwBHyYqdK9yVGQoYDjPdy0adOs4vrXX38tVVJ33HHHzWtra4sFReVMdc9c3eS23a5du271JueQQ2t/+umnS8VVpeRyoGJBjnKNPOzYplFuYTu2iins5Zi0yOhqK57am5zqpVaBZxV0vLODWmps72jFyYYaJcitdp35BLX2WBZIw8w8yP0erLSa3K1euTOrWJCz5LaoAPnPU+3ktWrV2gIYtkjCsmXLzJAhQ0ybNm1EMz9z5kzRYCMRYHNGMw7gMa+tWrVKlGZRievM0drJN27cKOML2t/RuOOME9YhZty4ceJXoFReHDjkkEMMkiUm2kxUtYmjv0wpmyjMlFI93gCu9WRr3LjxFrOeO3eu3NAcCjiSDB06VCqhAHRyulMwAbDjTUYbeKphposS5EwAjzckFkx36vFWphvZ8bDLGuSOeaPNKwcSwQEFeSKWUSehHMjMAQW57g7lQMI5oCBP+ALr9JQDCnLdA8qBhHNAQZ7wBdbpKQcU5LoHlAMJ54CCPOELrNNTDijIdQ8oBxLOAQV5whdYp6ccUJDrHlAOJJwDCvKEL7BOTzmgINc9oBxIOAcU5AlfYJ2eckBBrntAOZBwDijIE77AOj3lgIJc94ByIOEcUJAnfIF1esoBBbnuAeVAwjmgIE/4Auv0lAP/B9Ij3kdMWvhzAAAAAElFTkSuQmCC)"
      ],
      "metadata": {
        "id": "C7yYypS3iP68"
      }
    },
    {
      "cell_type": "markdown",
      "source": [
        "함수 호출 방법\n",
        "\n",
        "    1. 함수 이름 철자 틀리지 않고, 대소문자 구분해서 그대로 적어주기\n",
        "\n",
        "    2. 괄호 ( ) 작성\n",
        "\n",
        "    3. 괄호 안에 파라미터의 개수에 맞춰 데이터를 적어 준다."
      ],
      "metadata": {
        "id": "tRxHKQfkb7w8"
      }
    },
    {
      "cell_type": "markdown",
      "source": [
        "함수의 반환값은 함수를 호출한 바로 그 자리로 돌아간다."
      ],
      "metadata": {
        "id": "eAtE4NkDeuBK"
      }
    },
    {
      "cell_type": "markdown",
      "source": [],
      "metadata": {
        "id": "mc_Z9LpKzp0r"
      }
    },
    {
      "cell_type": "markdown",
      "metadata": {
        "id": "dekJnDUchiD4"
      },
      "source": [
        "# **1. 함수란**"
      ]
    },
    {
      "cell_type": "markdown",
      "metadata": {
        "id": "C5NF_U2YinGk"
      },
      "source": [
        "- 함수 : 프로그램에서 어떤일을 처리하기 위해 관련된 문(statement)을 모아 놓은 단위\n",
        "\n",
        "- 함수를 사용하여 큰 프로그램을 작은 단위로 나누어 코드 할 수 있다.\n",
        "\n",
        "- 함수를 사용하여 프로그램을 논리적으로 구성 할 수 있다.\n",
        "\n",
        "- 함수를 사용하여 큰 프로그램의 유지 보수를 쉽게 할 수 있다.\n",
        "\n",
        "- 함수는 단순 코드의 반복을 줄여주고, 코드를 재사용 할 수 있게 해준다.\n",
        "\n"
      ]
    },
    {
      "cell_type": "markdown",
      "source": [
        "파이썬3 바이블, 이강성, 프리렉"
      ],
      "metadata": {
        "id": "J6GOx66Wzyuy"
      }
    },
    {
      "cell_type": "markdown",
      "metadata": {
        "id": "sPZqOAT0kJj6"
      },
      "source": [
        "### **2.함수 형식**"
      ]
    },
    {
      "cell_type": "code",
      "metadata": {
        "id": "eMW443drdgDs"
      },
      "source": [
        "def function_name(parameters):\n",
        "    '''docstring'''\n",
        "    statements(s)\n",
        "\n",
        "result = function_name(arguments)\n",
        "print(result)"
      ],
      "execution_count": null,
      "outputs": []
    },
    {
      "cell_type": "code",
      "metadata": {
        "id": "OpdyR2c2Yelq"
      },
      "source": [
        "def func_1(a, b):\n",
        "    '''이 함수는 더하기 함수 입니다.\n",
        "    인자로는 실수와 정수 두개다 사용 할 수 있습니다.\n",
        "    예시 > func_1(1, 2) -> 3'''\n",
        "    print(a+b)"
      ],
      "execution_count": null,
      "outputs": []
    },
    {
      "cell_type": "code",
      "metadata": {
        "colab": {
          "base_uri": "https://localhost:8080/"
        },
        "id": "RDC5fh8cYpUB",
        "outputId": "c0ebb8b2-b946-42bd-e61a-82527ade11d2"
      },
      "source": [
        "func_1(1, 2)"
      ],
      "execution_count": null,
      "outputs": [
        {
          "output_type": "stream",
          "name": "stdout",
          "text": [
            "3\n"
          ]
        }
      ]
    },
    {
      "cell_type": "code",
      "metadata": {
        "colab": {
          "base_uri": "https://localhost:8080/"
        },
        "id": "lCG_736PYtWq",
        "outputId": "b0856d19-fd1a-4cd6-e4b9-2f1d37523ec5"
      },
      "source": [
        "help(func_1)"
      ],
      "execution_count": null,
      "outputs": [
        {
          "output_type": "stream",
          "name": "stdout",
          "text": [
            "Help on function func_1 in module __main__:\n",
            "\n",
            "func_1(a, b)\n",
            "    이 함수는 더하기 함수 입니다.\n",
            "    인자로는 실수와 정수 두개다 사용 할 수 있습니다. \n",
            "    예시 > func_1(1, 2) -> 3\n",
            "\n"
          ]
        }
      ]
    },
    {
      "cell_type": "markdown",
      "metadata": {
        "id": "8U0V270bkXYF"
      },
      "source": [
        "- def : 함수를 정의해주는 낱말이다.\n",
        "\n",
        "- function_name : 함수이름으로, 사용자가 임의로 지정한다. 이름을 지정하는 규칙은 파이썬 변수 선언 규칙을 따른다.\n",
        "\n",
        "- parameters(매개변수) : 함수 외부로부터 내부로 데이터를 전달해주는 매개체\n",
        "\n",
        "- Colon (\" : \") : 함수를 정의하는 첫 줄이 끝났음을 알려 주는 지시자\n",
        "\n",
        "- docstring : 함수의 기능과 사용법등을 설명해 주는 부분, API로 구성 되는 부분이다. docstring은 글자로 된 여러 문장으로 ''' '''로 감싸져 있다. docstring은 생략 가능하다\n",
        "\n",
        "- statements(s) : 작업을 하기 위한 실제 코드들이 들어가는 부분이다. 코드를 적을 때는 4칸 빈칸(혹은 1 tab)을 들여쓰기한 후에 적어야 한다.\n",
        "\n",
        "- 들여쓰기 : 파이썬에서 들여쓰기는 함수의 내용을 구분하거나, 조건문, 반복문에서 수행되는 코드들의 구분을 위해 사용 되는 것으로, 이것이 지켜지지 않으면 문법 오류가 난다.\n",
        "\n",
        "- argument : 함수를 호출 하는 입장에서, 데이터를 함수에 전달하기 위해 사용하는 변수나 값\n",
        "\n",
        "- 함수 호출 : 정의 되어 있는 함수를 사용하기 위해서는 함수를 호출 해야 한다. 이때, 함수 호출이란, 함수이름을 쓰고, 그 함수에 정의되어 있는 parameter 에 맞게 argument 를 적어 주는 일을 말한다."
      ]
    },
    {
      "cell_type": "code",
      "source": [
        "import numpy as np"
      ],
      "metadata": {
        "id": "DIyF_8Ny2-dF"
      },
      "execution_count": null,
      "outputs": []
    },
    {
      "cell_type": "code",
      "source": [
        "help(np.dot)"
      ],
      "metadata": {
        "colab": {
          "base_uri": "https://localhost:8080/"
        },
        "id": "6noRptcx3Bdi",
        "outputId": "3b22523e-95e0-4925-d55f-f90c022bd784"
      },
      "execution_count": null,
      "outputs": [
        {
          "output_type": "stream",
          "name": "stdout",
          "text": [
            "Help on function dot in module numpy:\n",
            "\n",
            "dot(...)\n",
            "    dot(a, b, out=None)\n",
            "    \n",
            "    Dot product of two arrays. Specifically,\n",
            "    \n",
            "    - If both `a` and `b` are 1-D arrays, it is inner product of vectors\n",
            "      (without complex conjugation).\n",
            "    \n",
            "    - If both `a` and `b` are 2-D arrays, it is matrix multiplication,\n",
            "      but using :func:`matmul` or ``a @ b`` is preferred.\n",
            "    \n",
            "    - If either `a` or `b` is 0-D (scalar), it is equivalent to :func:`multiply`\n",
            "      and using ``numpy.multiply(a, b)`` or ``a * b`` is preferred.\n",
            "    \n",
            "    - If `a` is an N-D array and `b` is a 1-D array, it is a sum product over\n",
            "      the last axis of `a` and `b`.\n",
            "    \n",
            "    - If `a` is an N-D array and `b` is an M-D array (where ``M>=2``), it is a\n",
            "      sum product over the last axis of `a` and the second-to-last axis of `b`::\n",
            "    \n",
            "        dot(a, b)[i,j,k,m] = sum(a[i,j,:] * b[k,:,m])\n",
            "    \n",
            "    Parameters\n",
            "    ----------\n",
            "    a : array_like\n",
            "        First argument.\n",
            "    b : array_like\n",
            "        Second argument.\n",
            "    out : ndarray, optional\n",
            "        Output argument. This must have the exact kind that would be returned\n",
            "        if it was not used. In particular, it must have the right type, must be\n",
            "        C-contiguous, and its dtype must be the dtype that would be returned\n",
            "        for `dot(a,b)`. This is a performance feature. Therefore, if these\n",
            "        conditions are not met, an exception is raised, instead of attempting\n",
            "        to be flexible.\n",
            "    \n",
            "    Returns\n",
            "    -------\n",
            "    output : ndarray\n",
            "        Returns the dot product of `a` and `b`.  If `a` and `b` are both\n",
            "        scalars or both 1-D arrays then a scalar is returned; otherwise\n",
            "        an array is returned.\n",
            "        If `out` is given, then it is returned.\n",
            "    \n",
            "    Raises\n",
            "    ------\n",
            "    ValueError\n",
            "        If the last dimension of `a` is not the same size as\n",
            "        the second-to-last dimension of `b`.\n",
            "    \n",
            "    See Also\n",
            "    --------\n",
            "    vdot : Complex-conjugating dot product.\n",
            "    tensordot : Sum products over arbitrary axes.\n",
            "    einsum : Einstein summation convention.\n",
            "    matmul : '@' operator as method with out parameter.\n",
            "    linalg.multi_dot : Chained dot product.\n",
            "    \n",
            "    Examples\n",
            "    --------\n",
            "    >>> np.dot(3, 4)\n",
            "    12\n",
            "    \n",
            "    Neither argument is complex-conjugated:\n",
            "    \n",
            "    >>> np.dot([2j, 3j], [2j, 3j])\n",
            "    (-13+0j)\n",
            "    \n",
            "    For 2-D arrays it is the matrix product:\n",
            "    \n",
            "    >>> a = [[1, 0], [0, 1]]\n",
            "    >>> b = [[4, 1], [2, 2]]\n",
            "    >>> np.dot(a, b)\n",
            "    array([[4, 1],\n",
            "           [2, 2]])\n",
            "    \n",
            "    >>> a = np.arange(3*4*5*6).reshape((3,4,5,6))\n",
            "    >>> b = np.arange(3*4*5*6)[::-1].reshape((5,4,6,3))\n",
            "    >>> np.dot(a, b)[2,3,2,1,2,2]\n",
            "    499128\n",
            "    >>> sum(a[2,3,2,:] * b[1,2,:,2])\n",
            "    499128\n",
            "\n"
          ]
        }
      ]
    },
    {
      "cell_type": "code",
      "source": [
        "def add_func(a, b):\n",
        "    result = a + b\n",
        "    return(result)"
      ],
      "metadata": {
        "id": "a7t9Gzl73D0J"
      },
      "execution_count": null,
      "outputs": []
    },
    {
      "cell_type": "code",
      "source": [
        "add_func(3, 4)"
      ],
      "metadata": {
        "colab": {
          "base_uri": "https://localhost:8080/"
        },
        "id": "KgLLTwcC4No0",
        "outputId": "860664d2-fa63-478b-8683-526fed48f388"
      },
      "execution_count": null,
      "outputs": [
        {
          "output_type": "execute_result",
          "data": {
            "text/plain": [
              "7"
            ]
          },
          "metadata": {},
          "execution_count": 6
        }
      ]
    },
    {
      "cell_type": "code",
      "source": [
        "a = 11\n",
        "b = 22\n",
        "result = add_func(a, b)"
      ],
      "metadata": {
        "id": "-M0MEfjE4P1b"
      },
      "execution_count": null,
      "outputs": []
    },
    {
      "cell_type": "code",
      "source": [
        "result"
      ],
      "metadata": {
        "colab": {
          "base_uri": "https://localhost:8080/"
        },
        "id": "DtrMoYJu4Wfe",
        "outputId": "b0e372b8-c5dd-41a4-99e6-13cda59095c5"
      },
      "execution_count": null,
      "outputs": [
        {
          "output_type": "execute_result",
          "data": {
            "text/plain": [
              "33"
            ]
          },
          "metadata": {},
          "execution_count": 8
        }
      ]
    },
    {
      "cell_type": "code",
      "source": [
        "def no_return_func(a,b,c=10):\n",
        "    result = a + b + c\n",
        "    print(result)"
      ],
      "metadata": {
        "id": "we8QPbkg4XhU"
      },
      "execution_count": null,
      "outputs": []
    },
    {
      "cell_type": "code",
      "source": [
        "a = 11\n",
        "b = 22\n",
        "c = 33"
      ],
      "metadata": {
        "id": "eBxQDVv04i7C"
      },
      "execution_count": null,
      "outputs": []
    },
    {
      "cell_type": "code",
      "source": [
        "no_return_func(a, b, c)"
      ],
      "metadata": {
        "colab": {
          "base_uri": "https://localhost:8080/"
        },
        "id": "VzBLPI484k4T",
        "outputId": "650d1d81-a6eb-4c06-bcab-283e24e43bb6"
      },
      "execution_count": null,
      "outputs": [
        {
          "output_type": "stream",
          "name": "stdout",
          "text": [
            "66\n"
          ]
        }
      ]
    },
    {
      "cell_type": "code",
      "source": [
        "no_return_func(a, b, 1000)"
      ],
      "metadata": {
        "colab": {
          "base_uri": "https://localhost:8080/"
        },
        "id": "_ijBF7645FvG",
        "outputId": "c86de11b-e80f-49fc-cf3c-8500636f29ce"
      },
      "execution_count": null,
      "outputs": [
        {
          "output_type": "stream",
          "name": "stdout",
          "text": [
            "1033\n"
          ]
        }
      ]
    },
    {
      "cell_type": "code",
      "source": [],
      "metadata": {
        "id": "XqBWkeui5DRR"
      },
      "execution_count": null,
      "outputs": []
    },
    {
      "cell_type": "markdown",
      "source": [
        "in_out_gugudan(7)\n",
        "\n",
        "in_out_gugudan(2, 5)\n",
        "\n",
        "2단\n",
        "3단\n",
        "4단"
      ],
      "metadata": {
        "id": "0rkj0R3d4zdl"
      }
    },
    {
      "cell_type": "code",
      "source": [
        "def gugu(n):\n",
        "    for i in range(1, 10):\n",
        "        print(n, '*', i, '=', n * i)\n",
        "\n",
        "def in_out_gugudan(n, m = ''):\n",
        "    if m == '':\n",
        "        gugu(n)\n",
        "    else:\n",
        "        for i in range(n, m+1):\n",
        "            gugu(i)"
      ],
      "metadata": {
        "id": "YDW8WenvBGF8"
      },
      "execution_count": null,
      "outputs": []
    },
    {
      "cell_type": "code",
      "source": [
        "def in_out_gugudan(start, end=None):\n",
        "    if end is None:\n",
        "        end = start\n",
        "    for i in range(start, end+1):\n",
        "        for j in range(1, 10):\n",
        "            print(f'{i} * {j} = {i*j}')"
      ],
      "metadata": {
        "id": "3E0KMBmTF5Db"
      },
      "execution_count": null,
      "outputs": []
    },
    {
      "cell_type": "code",
      "source": [
        "def in_out_gugudan(num1,num2=0):\n",
        "    for j in range(num1,num2+1 if num2!=0 else num1+1):\n",
        "        print(f'    {j}단')\n",
        "        for i in range(1,10):\n",
        "            print(f'{j} X {i} = {j*i}')"
      ],
      "metadata": {
        "id": "Fo4TUMYgBL4r"
      },
      "execution_count": null,
      "outputs": []
    },
    {
      "cell_type": "code",
      "source": [
        "in_out_gugudan(7)"
      ],
      "metadata": {
        "colab": {
          "base_uri": "https://localhost:8080/"
        },
        "id": "589wmj-pD3zK",
        "outputId": "de3aa26f-8232-42bc-9f37-64b928a7f75f"
      },
      "execution_count": null,
      "outputs": [
        {
          "output_type": "stream",
          "name": "stdout",
          "text": [
            "7 * 1 = 7\n",
            "7 * 2 = 14\n",
            "7 * 3 = 21\n",
            "7 * 4 = 28\n",
            "7 * 5 = 35\n",
            "7 * 6 = 42\n",
            "7 * 7 = 49\n",
            "7 * 8 = 56\n",
            "7 * 9 = 63\n"
          ]
        }
      ]
    },
    {
      "cell_type": "markdown",
      "source": [
        "4.return 문\n",
        "\n",
        "return 문으로 반환 되는 값들은 튜플로 구성하여 전달 된다.\n",
        "\n",
        "return 문이 없을 경우에는 None 이 반환된다. (None = 아무 값이 없음을 표현하는 객체)\n",
        "\n",
        "인수가 없는 경우의 return 문에서도 None 이 반환된다."
      ],
      "metadata": {
        "id": "jgBxnACGIv4g"
      }
    },
    {
      "cell_type": "code",
      "source": [
        "def nothing():\n",
        "    pass"
      ],
      "metadata": {
        "id": "KtQzr7i2I6Ns"
      },
      "execution_count": null,
      "outputs": []
    },
    {
      "cell_type": "code",
      "source": [
        "def nothing():\n",
        "    return"
      ],
      "metadata": {
        "id": "zEczEe7LJoJ2"
      },
      "execution_count": null,
      "outputs": []
    },
    {
      "cell_type": "code",
      "source": [
        "print(type(nothing()))"
      ],
      "metadata": {
        "colab": {
          "base_uri": "https://localhost:8080/"
        },
        "id": "oi8GzKI2I-sc",
        "outputId": "f4b17637-0395-4338-af34-31bed927a719"
      },
      "execution_count": null,
      "outputs": [
        {
          "output_type": "stream",
          "name": "stdout",
          "text": [
            "<class 'NoneType'>\n"
          ]
        }
      ]
    },
    {
      "cell_type": "code",
      "source": [
        "print(nothing())"
      ],
      "metadata": {
        "colab": {
          "base_uri": "https://localhost:8080/"
        },
        "id": "wSKHFZW2JBXj",
        "outputId": "d17f189a-22fd-4e2a-a15b-646d9a8cdb2c"
      },
      "execution_count": null,
      "outputs": [
        {
          "output_type": "stream",
          "name": "stdout",
          "text": [
            "None\n"
          ]
        }
      ]
    },
    {
      "cell_type": "markdown",
      "source": [
        "###인수(argument) : positional argument, keyword argument"
      ],
      "metadata": {
        "id": "n6_p00toJ0Gs"
      }
    },
    {
      "cell_type": "code",
      "source": [],
      "metadata": {
        "id": "xF91S7QMJfDs"
      },
      "execution_count": null,
      "outputs": []
    },
    {
      "cell_type": "markdown",
      "metadata": {
        "id": "OzRE2Af3v6Tm"
      },
      "source": [
        "**7.함수의 인수**\n"
      ]
    },
    {
      "cell_type": "markdown",
      "metadata": {
        "id": "OHz2LXQXwA-W"
      },
      "source": [
        "- 인수: 함수를 호출할 때 전달되는 변수\n",
        "\n",
        "- 위치 인수: 인수의 위치로 값을 전달하는 방식\n",
        "\n",
        "- 인수의 기본값: 인수에 자신의 기본값을 갖고 있는 것\n",
        "\n",
        "- 키워드 인수: 인수 이름으로 값을 전달하는 방식\n",
        "\n",
        "- 일반적으로 함수를 호출할 때 키워드 인수의 위치는 위치 인수 이후이다.\n",
        "\n",
        "- 키워드 인수 이후에 순서에 의해서 인수 일치를 시킬 수는 없다.\n",
        "\n",
        "- 가변 인수 리스트\n",
        "\n",
        "    - 고정되지 않은 수의 인수를 함수에 전달하는 방법\n",
        "\n",
        "    - 인수목록에 반드시 넘겨야 하는 고정 인수를 우선 나열하고, 나머지를 튜플 형식으로 한꺼번에 받는다.\n",
        "\n",
        "    - 가변인수 부분은 *args 의 형식으로 지정한다.\n",
        "\n",
        "- 정의되지 않은 키워드 인수\n",
        "\n",
        "    - 키워드 인수를 이용해서 함수를 호출할 때, 미리 정의되어 있지 않은 키워드 인수를 받으려면, 함수를 정의할 때 마지막에 **kwargs 형식으로 기술한다.\n",
        "\n",
        "    - 전달 받는 형식 : 사전\n",
        "\n",
        "    - key => 변수명으로, value => 값으로 전달 된다.\n",
        "\n",
        "- 인수의 순서 : 꼭 필요한 인수, \\*args, \\**kwargs"
      ]
    },
    {
      "cell_type": "code",
      "source": [
        "def minuss(height, width):\n",
        "    return height-width"
      ],
      "metadata": {
        "id": "vih1ryArKkpy"
      },
      "execution_count": null,
      "outputs": []
    },
    {
      "cell_type": "code",
      "source": [
        "minuss(170, 60)"
      ],
      "metadata": {
        "colab": {
          "base_uri": "https://localhost:8080/"
        },
        "id": "qjSHp8jrKtal",
        "outputId": "ba5ca889-6c10-4cb4-f0f8-5f05264a7efb"
      },
      "execution_count": null,
      "outputs": [
        {
          "output_type": "execute_result",
          "data": {
            "text/plain": [
              "110"
            ]
          },
          "metadata": {},
          "execution_count": 57
        }
      ]
    },
    {
      "cell_type": "code",
      "source": [
        "minuss(60, 170)"
      ],
      "metadata": {
        "colab": {
          "base_uri": "https://localhost:8080/"
        },
        "id": "8HSKUaqXKynA",
        "outputId": "f2033bf4-7e00-42a7-97af-810205c65cd1"
      },
      "execution_count": null,
      "outputs": [
        {
          "output_type": "execute_result",
          "data": {
            "text/plain": [
              "-110"
            ]
          },
          "metadata": {},
          "execution_count": 58
        }
      ]
    },
    {
      "cell_type": "code",
      "source": [
        "minuss(height=170, width=60)"
      ],
      "metadata": {
        "colab": {
          "base_uri": "https://localhost:8080/"
        },
        "id": "rcimK6NyK1FN",
        "outputId": "3a8f80db-19f3-4733-a37f-37067c7ce1ca"
      },
      "execution_count": null,
      "outputs": [
        {
          "output_type": "execute_result",
          "data": {
            "text/plain": [
              "110"
            ]
          },
          "metadata": {},
          "execution_count": 59
        }
      ]
    },
    {
      "cell_type": "code",
      "source": [
        "minuss(width=60, height=170)"
      ],
      "metadata": {
        "colab": {
          "base_uri": "https://localhost:8080/"
        },
        "id": "9z48YAyELHbI",
        "outputId": "a64826d3-e536-4378-a95a-eaee6de95f11"
      },
      "execution_count": null,
      "outputs": [
        {
          "output_type": "execute_result",
          "data": {
            "text/plain": [
              "110"
            ]
          },
          "metadata": {},
          "execution_count": 60
        }
      ]
    },
    {
      "cell_type": "code",
      "source": [
        "minuss(170, width=60)"
      ],
      "metadata": {
        "colab": {
          "base_uri": "https://localhost:8080/"
        },
        "id": "XhzFaqZKLMdN",
        "outputId": "af083518-9ef1-4d48-eb57-cd6212a14bf1"
      },
      "execution_count": null,
      "outputs": [
        {
          "output_type": "execute_result",
          "data": {
            "text/plain": [
              "110"
            ]
          },
          "metadata": {},
          "execution_count": 61
        }
      ]
    },
    {
      "cell_type": "code",
      "source": [
        "minuss(height=170, 60)"
      ],
      "metadata": {
        "colab": {
          "base_uri": "https://localhost:8080/",
          "height": 134
        },
        "id": "5fOCQaLdLYQ0",
        "outputId": "c46b2163-7c45-4703-b098-da335e9d1fa6"
      },
      "execution_count": null,
      "outputs": [
        {
          "output_type": "error",
          "ename": "SyntaxError",
          "evalue": "ignored",
          "traceback": [
            "\u001b[0;36m  File \u001b[0;32m\"<ipython-input-63-b4113ad115ad>\"\u001b[0;36m, line \u001b[0;32m1\u001b[0m\n\u001b[0;31m    minuss(height=170, 60)\u001b[0m\n\u001b[0m                         ^\u001b[0m\n\u001b[0;31mSyntaxError\u001b[0m\u001b[0;31m:\u001b[0m positional argument follows keyword argument\n"
          ]
        }
      ]
    },
    {
      "cell_type": "code",
      "source": [
        "minuss(170, height=60)"
      ],
      "metadata": {
        "colab": {
          "base_uri": "https://localhost:8080/",
          "height": 169
        },
        "id": "vcJiGsiXLc5q",
        "outputId": "3e1a5e76-47a4-47d1-bcbe-30c7b7e54029"
      },
      "execution_count": null,
      "outputs": [
        {
          "output_type": "error",
          "ename": "TypeError",
          "evalue": "ignored",
          "traceback": [
            "\u001b[0;31m---------------------------------------------------------------------------\u001b[0m",
            "\u001b[0;31mTypeError\u001b[0m                                 Traceback (most recent call last)",
            "\u001b[0;32m<ipython-input-64-7dd16733e964>\u001b[0m in \u001b[0;36m<cell line: 1>\u001b[0;34m()\u001b[0m\n\u001b[0;32m----> 1\u001b[0;31m \u001b[0mminuss\u001b[0m\u001b[0;34m(\u001b[0m\u001b[0;36m170\u001b[0m\u001b[0;34m,\u001b[0m \u001b[0mheight\u001b[0m\u001b[0;34m=\u001b[0m\u001b[0;36m60\u001b[0m\u001b[0;34m)\u001b[0m\u001b[0;34m\u001b[0m\u001b[0;34m\u001b[0m\u001b[0m\n\u001b[0m",
            "\u001b[0;31mTypeError\u001b[0m: minuss() got multiple values for argument 'height'"
          ]
        }
      ]
    },
    {
      "cell_type": "code",
      "source": [
        "def minuss(height, width):\n",
        "    return height-width"
      ],
      "metadata": {
        "id": "9g9a6ZBUL72C"
      },
      "execution_count": null,
      "outputs": []
    },
    {
      "cell_type": "code",
      "source": [
        "def varg(a, *args):\n",
        "    print(a, arg)"
      ],
      "metadata": {
        "id": "qsUDaJnlMU3b"
      },
      "execution_count": null,
      "outputs": []
    },
    {
      "cell_type": "code",
      "source": [
        "varg(2, 3)"
      ],
      "metadata": {
        "colab": {
          "base_uri": "https://localhost:8080/"
        },
        "id": "U2ClR1VhMbWG",
        "outputId": "a21ff980-10cb-430c-ed2c-ef722e18719f"
      },
      "execution_count": null,
      "outputs": [
        {
          "output_type": "stream",
          "name": "stdout",
          "text": [
            "2 (3,)\n"
          ]
        }
      ]
    },
    {
      "cell_type": "code",
      "source": [
        "varg(2, 3, 4, 5, 6, 7)"
      ],
      "metadata": {
        "colab": {
          "base_uri": "https://localhost:8080/"
        },
        "id": "nwmTID4FMe_m",
        "outputId": "b9c79bf2-96f8-41f2-fafb-81e3ae30d47f"
      },
      "execution_count": null,
      "outputs": [
        {
          "output_type": "stream",
          "name": "stdout",
          "text": [
            "2 (3, 4, 5, 6, 7)\n"
          ]
        }
      ]
    },
    {
      "cell_type": "code",
      "source": [
        "def printf(format, *args):\n",
        "    print(format % args)\n",
        "\n",
        "printf(\"I've spent %d days and %d night to do this\", 6, 5)"
      ],
      "metadata": {
        "colab": {
          "base_uri": "https://localhost:8080/"
        },
        "id": "uUruhh5-Mo5O",
        "outputId": "95808883-53bb-4ac2-a18b-e6edec7963ad"
      },
      "execution_count": null,
      "outputs": [
        {
          "output_type": "stream",
          "name": "stdout",
          "text": [
            "I've spent 6 days and 5 night to do this\n"
          ]
        }
      ]
    },
    {
      "cell_type": "code",
      "source": [
        "print(\"I've spent %d days and %d night to do this\" % (6, 5))"
      ],
      "metadata": {
        "colab": {
          "base_uri": "https://localhost:8080/"
        },
        "id": "pdtAsgvPOYzV",
        "outputId": "f119bebd-28d6-4ada-b956-303599872bb0"
      },
      "execution_count": null,
      "outputs": [
        {
          "output_type": "stream",
          "name": "stdout",
          "text": [
            "I've spent 6 days and 5 night to do this\n"
          ]
        }
      ]
    },
    {
      "cell_type": "code",
      "source": [
        "i=2\n",
        "j=3\n",
        "print('%d * %d = %d' % (i, j, i*j))"
      ],
      "metadata": {
        "colab": {
          "base_uri": "https://localhost:8080/"
        },
        "id": "vhYbu_IENJMo",
        "outputId": "49a23bda-25c1-4a29-ed24-38c8b086ce7d"
      },
      "execution_count": null,
      "outputs": [
        {
          "output_type": "stream",
          "name": "stdout",
          "text": [
            "2 * 3 = 6\n"
          ]
        }
      ]
    },
    {
      "cell_type": "code",
      "source": [
        "sample_list = [10, 20, 30]\n",
        "\n",
        "len(sample_list)"
      ],
      "metadata": {
        "colab": {
          "base_uri": "https://localhost:8080/"
        },
        "id": "buKWyViiNsJw",
        "outputId": "7ce37291-8274-4dc8-93df-7dc547008dcf"
      },
      "execution_count": null,
      "outputs": [
        {
          "output_type": "execute_result",
          "data": {
            "text/plain": [
              "3"
            ]
          },
          "metadata": {},
          "execution_count": 74
        }
      ]
    },
    {
      "cell_type": "code",
      "source": [
        "len_user(sampl_list)"
      ],
      "metadata": {
        "colab": {
          "base_uri": "https://localhost:8080/",
          "height": 169
        },
        "id": "xTSNmh6qPGw7",
        "outputId": "fb028dc9-0b06-4e76-bee0-21401fb5bce4"
      },
      "execution_count": null,
      "outputs": [
        {
          "output_type": "error",
          "ename": "NameError",
          "evalue": "ignored",
          "traceback": [
            "\u001b[0;31m---------------------------------------------------------------------------\u001b[0m",
            "\u001b[0;31mNameError\u001b[0m                                 Traceback (most recent call last)",
            "\u001b[0;32m<ipython-input-75-cebb3f879eb9>\u001b[0m in \u001b[0;36m<cell line: 1>\u001b[0;34m()\u001b[0m\n\u001b[0;32m----> 1\u001b[0;31m \u001b[0mlen_user\u001b[0m\u001b[0;34m(\u001b[0m\u001b[0msampl_list\u001b[0m\u001b[0;34m)\u001b[0m\u001b[0;34m\u001b[0m\u001b[0;34m\u001b[0m\u001b[0m\n\u001b[0m",
            "\u001b[0;31mNameError\u001b[0m: name 'len_user' is not defined"
          ]
        }
      ]
    },
    {
      "cell_type": "code",
      "source": [
        "def len_user(data):\n",
        "    count = 0\n",
        "    for i in data:\n",
        "        count += 1\n",
        "    print(count)"
      ],
      "metadata": {
        "id": "OH-wmuBdPWIf"
      },
      "execution_count": null,
      "outputs": []
    },
    {
      "cell_type": "code",
      "source": [
        "len_user(sample_list)"
      ],
      "metadata": {
        "colab": {
          "base_uri": "https://localhost:8080/"
        },
        "id": "H3mv_9JCRuy0",
        "outputId": "54340ba7-c1da-4587-dc9d-918fdb07a908"
      },
      "execution_count": null,
      "outputs": [
        {
          "output_type": "stream",
          "name": "stdout",
          "text": [
            "3\n"
          ]
        }
      ]
    },
    {
      "cell_type": "code",
      "source": [
        "def len_user(sample_list):\n",
        "    return sum(1 for i in sample_list)"
      ],
      "metadata": {
        "id": "lAK9dLA5R0EA"
      },
      "execution_count": null,
      "outputs": []
    },
    {
      "cell_type": "code",
      "source": [
        "len_user(sample_list)"
      ],
      "metadata": {
        "colab": {
          "base_uri": "https://localhost:8080/"
        },
        "id": "dtE3fkddR4SD",
        "outputId": "66bcf526-7ddf-457e-91ea-6da556b8e3e5"
      },
      "execution_count": null,
      "outputs": [
        {
          "output_type": "execute_result",
          "data": {
            "text/plain": [
              "3"
            ]
          },
          "metadata": {},
          "execution_count": 80
        }
      ]
    },
    {
      "cell_type": "code",
      "source": [
        "sum((1, 1, 1))"
      ],
      "metadata": {
        "colab": {
          "base_uri": "https://localhost:8080/"
        },
        "id": "i9cU-jpcR-sN",
        "outputId": "ac0cd506-9fad-4ed2-a83b-d3f8a3180190"
      },
      "execution_count": null,
      "outputs": [
        {
          "output_type": "execute_result",
          "data": {
            "text/plain": [
              "3"
            ]
          },
          "metadata": {},
          "execution_count": 82
        }
      ]
    },
    {
      "cell_type": "code",
      "source": [
        "def f(width, height, **kwargs):\n",
        "    print(width, height)\n",
        "    print(kwargs)"
      ],
      "metadata": {
        "id": "-7sbnTGHSIje"
      },
      "execution_count": null,
      "outputs": []
    },
    {
      "cell_type": "code",
      "source": [
        "f(width = 10, height=5, depth=10, dimension=3 )"
      ],
      "metadata": {
        "colab": {
          "base_uri": "https://localhost:8080/"
        },
        "id": "qW-qtSf1SuzO",
        "outputId": "4614fba3-8925-4483-ada9-4af1b2ab6788"
      },
      "execution_count": null,
      "outputs": [
        {
          "output_type": "stream",
          "name": "stdout",
          "text": [
            "10 5\n",
            "{'depth': 10, 'dimension': 3}\n"
          ]
        }
      ]
    },
    {
      "cell_type": "code",
      "source": [
        "def g(a, b, *args, **kwargs):\n",
        "    print(a, b)\n",
        "    print('*args:', args)\n",
        "    print('**kwargs:', kwargs)"
      ],
      "metadata": {
        "id": "h47eI3bLS5iy"
      },
      "execution_count": null,
      "outputs": []
    },
    {
      "cell_type": "code",
      "source": [
        "g(1, 2, 3, 4, c=5, d=6)"
      ],
      "metadata": {
        "colab": {
          "base_uri": "https://localhost:8080/"
        },
        "id": "pFWfqX7iTcFe",
        "outputId": "79456fa7-3134-47b6-e0cb-2863a7073a6a"
      },
      "execution_count": null,
      "outputs": [
        {
          "output_type": "stream",
          "name": "stdout",
          "text": [
            "1 2\n",
            "(3, 4)\n",
            "{'c': 5, 'd': 6}\n"
          ]
        }
      ]
    },
    {
      "cell_type": "code",
      "source": [
        "g(10, 20, [1, 2, 3, 4], {11:22, 22:33}, c=2, k=3)"
      ],
      "metadata": {
        "colab": {
          "base_uri": "https://localhost:8080/"
        },
        "id": "r2ckYJ5vTrSh",
        "outputId": "9c6f2c52-f642-472e-b54f-9a0279b6ffd3"
      },
      "execution_count": null,
      "outputs": [
        {
          "output_type": "stream",
          "name": "stdout",
          "text": [
            "10 20\n",
            "*args: ([1, 2, 3, 4], {11: 22, 22: 33})\n",
            "**kwargs: {'c': 2, 'k': 3}\n"
          ]
        }
      ]
    },
    {
      "cell_type": "code",
      "source": [
        "def h(a, b, c):\n",
        "    print(a, b, c)"
      ],
      "metadata": {
        "id": "EXlavcSEkKAB"
      },
      "execution_count": null,
      "outputs": []
    },
    {
      "cell_type": "code",
      "source": [
        "h(1, 2, 3)"
      ],
      "metadata": {
        "colab": {
          "base_uri": "https://localhost:8080/"
        },
        "id": "rnZRz4JuxuG0",
        "outputId": "18a4195a-bbb9-4eca-aaf5-949ee074a004"
      },
      "execution_count": null,
      "outputs": [
        {
          "output_type": "stream",
          "name": "stdout",
          "text": [
            "1 2 3\n"
          ]
        }
      ]
    },
    {
      "cell_type": "code",
      "source": [
        "a = (10, 20, 30)"
      ],
      "metadata": {
        "id": "sHDB0Fh6xwxL"
      },
      "execution_count": null,
      "outputs": []
    },
    {
      "cell_type": "code",
      "source": [
        "h(a[0], a[1], a[2])"
      ],
      "metadata": {
        "colab": {
          "base_uri": "https://localhost:8080/"
        },
        "id": "AhAeiVbJxzEQ",
        "outputId": "08f97d43-23c7-490a-8795-319190ebef64"
      },
      "execution_count": null,
      "outputs": [
        {
          "output_type": "stream",
          "name": "stdout",
          "text": [
            "10 20 30\n"
          ]
        }
      ]
    },
    {
      "cell_type": "code",
      "source": [
        "b_tuple = (11, 21)"
      ],
      "metadata": {
        "id": "K9-DprmVy18e"
      },
      "execution_count": null,
      "outputs": []
    },
    {
      "cell_type": "code",
      "source": [
        "h(*b_tuple)"
      ],
      "metadata": {
        "colab": {
          "base_uri": "https://localhost:8080/",
          "height": 169
        },
        "id": "c-7jmDOmy5O7",
        "outputId": "2da7ceb0-195e-4500-cf92-c63b6b93af65"
      },
      "execution_count": null,
      "outputs": [
        {
          "output_type": "error",
          "ename": "TypeError",
          "evalue": "ignored",
          "traceback": [
            "\u001b[0;31m---------------------------------------------------------------------------\u001b[0m",
            "\u001b[0;31mTypeError\u001b[0m                                 Traceback (most recent call last)",
            "\u001b[0;32m<ipython-input-104-2687a946eaf8>\u001b[0m in \u001b[0;36m<cell line: 1>\u001b[0;34m()\u001b[0m\n\u001b[0;32m----> 1\u001b[0;31m \u001b[0mh\u001b[0m\u001b[0;34m(\u001b[0m\u001b[0;34m*\u001b[0m\u001b[0mb_tuple\u001b[0m\u001b[0;34m)\u001b[0m\u001b[0;34m\u001b[0m\u001b[0;34m\u001b[0m\u001b[0m\n\u001b[0m",
            "\u001b[0;31mTypeError\u001b[0m: h() missing 1 required positional argument: 'c'"
          ]
        }
      ]
    },
    {
      "cell_type": "code",
      "source": [
        "h(*a)"
      ],
      "metadata": {
        "colab": {
          "base_uri": "https://localhost:8080/"
        },
        "id": "HURHg8pkx8mO",
        "outputId": "4c71a668-c35a-4de6-b651-ab6b82d08dc6"
      },
      "execution_count": null,
      "outputs": [
        {
          "output_type": "stream",
          "name": "stdout",
          "text": [
            "10 20 30\n"
          ]
        }
      ]
    },
    {
      "cell_type": "code",
      "source": [
        "dargs = {'a':1, 'b':2, 'c':3}"
      ],
      "metadata": {
        "id": "5wLOL1OYyAaZ"
      },
      "execution_count": null,
      "outputs": []
    },
    {
      "cell_type": "code",
      "source": [
        "h(**dargs)"
      ],
      "metadata": {
        "colab": {
          "base_uri": "https://localhost:8080/"
        },
        "id": "_uTYfkzEyNfJ",
        "outputId": "bd60ef01-f9b9-4925-a426-3a3bdbbc62b3"
      },
      "execution_count": null,
      "outputs": [
        {
          "output_type": "stream",
          "name": "stdout",
          "text": [
            "1 2 3\n"
          ]
        }
      ]
    },
    {
      "cell_type": "code",
      "source": [
        "args = (10, 20)\n",
        "dargs = {'c':30}"
      ],
      "metadata": {
        "id": "-bc0y9fbyQJu"
      },
      "execution_count": null,
      "outputs": []
    },
    {
      "cell_type": "code",
      "source": [
        "h(*args, **dargs)"
      ],
      "metadata": {
        "colab": {
          "base_uri": "https://localhost:8080/"
        },
        "id": "LiCGqp5yye_1",
        "outputId": "bbd42377-ab05-4589-c9fd-0cb9da1738c1"
      },
      "execution_count": null,
      "outputs": [
        {
          "output_type": "stream",
          "name": "stdout",
          "text": [
            "10 20 30\n"
          ]
        }
      ]
    },
    {
      "cell_type": "code",
      "source": [
        "def h(a, b, c):\n",
        "    print(a, b, c)"
      ],
      "metadata": {
        "id": "s62Y5b8yyiJ1"
      },
      "execution_count": null,
      "outputs": []
    },
    {
      "cell_type": "markdown",
      "source": [
        "튜플 인수와 사전 인수로 함수를 호출하기\n",
        "\n",
        "함수 호출에 사용하는 인수들이 튜플에 있으면 *를 이용하여 함수를 호출할 수 있다.\n",
        "\n",
        "함수 호출에 사용하는 인수들이 사전에 있다면 **를 이용하여 함수를 호출할 수 있다."
      ],
      "metadata": {
        "id": "jYZ-3Dbozw9i"
      }
    },
    {
      "cell_type": "code",
      "source": [],
      "metadata": {
        "id": "arIP4gqLzxxF"
      },
      "execution_count": null,
      "outputs": []
    },
    {
      "cell_type": "markdown",
      "metadata": {
        "id": "EN6Mt902hhkD"
      },
      "source": [
        "**함수의 호출**\n",
        "\n",
        "- 일반적인 호출 : Call by Value, Call by Reference\n",
        "\n",
        "- 파이썬 : Call by Object Reference 혹은 Call by Sharing\n",
        "\n",
        "- 모든 인수는 인수자체가 다른 객체로 치환 될때, 함수를 호출한 측에 아무런 영향을 미치지 못 한다.\n",
        "\n",
        "- 변경 가능한 인수는 참조를 이용하여 내부 객체를 변경 할 때 변경이 호출한 측에 반영 된다.\n",
        "\n",
        "| 자료형 | 설명 | 예|\n",
        "|------|------|-----|\n",
        "|변경 가능형 (Mutable) | 데이터의 값을 변경할 수 있다.| list, dict, set|\n",
        "|변경 불가능형 (Immumtable) | 데이터의 값을 변경할 수 없다. | int, float, complex, str, tuple, frozenset|"
      ]
    },
    {
      "cell_type": "code",
      "source": [
        "b = [8, 9, 10]"
      ],
      "metadata": {
        "id": "ySI3tREg4B6r"
      },
      "execution_count": null,
      "outputs": []
    },
    {
      "cell_type": "code",
      "metadata": {
        "id": "uT_xVdDYm8AM"
      },
      "source": [
        "def gg(t):\n",
        "    t = [5,6,7]"
      ],
      "execution_count": null,
      "outputs": []
    },
    {
      "cell_type": "code",
      "source": [
        "gg(b)\n",
        "print(b)"
      ],
      "metadata": {
        "colab": {
          "base_uri": "https://localhost:8080/"
        },
        "id": "w8j_5D814E8-",
        "outputId": "c715a9e5-caf4-497a-b345-558f8894757f"
      },
      "execution_count": null,
      "outputs": [
        {
          "output_type": "stream",
          "name": "stdout",
          "text": [
            "[8, 9, 10]\n"
          ]
        }
      ]
    },
    {
      "cell_type": "code",
      "source": [
        "def ff(t):\n",
        "    t[1] = 1000000"
      ],
      "metadata": {
        "id": "ZTDbVxXj1Tpu"
      },
      "execution_count": null,
      "outputs": []
    },
    {
      "cell_type": "code",
      "source": [
        "ff(b)\n",
        "print(b)"
      ],
      "metadata": {
        "colab": {
          "base_uri": "https://localhost:8080/"
        },
        "id": "_-zDmJc3309D",
        "outputId": "84a99cfc-0f1f-4374-e28f-d79f1fed902b"
      },
      "execution_count": null,
      "outputs": [
        {
          "output_type": "stream",
          "name": "stdout",
          "text": [
            "[8, 1000000, 10]\n"
          ]
        }
      ]
    },
    {
      "cell_type": "code",
      "source": [
        "def n_squared(a, b):\n",
        "    '''\n",
        "    a : sequence\n",
        "    b : int\n",
        "    '''\n",
        "    nsqr_list = []\n",
        "    for i in a:\n",
        "        nsqr_list.append(i**b)\n",
        "    return(nsqr_list)\n",
        "\n",
        "n_squared([2,3,4],2)"
      ],
      "metadata": {
        "colab": {
          "base_uri": "https://localhost:8080/"
        },
        "id": "3p-6-YNX4MFg",
        "outputId": "afb19893-7d8d-4239-eaa6-1f28c7c5183a"
      },
      "execution_count": null,
      "outputs": [
        {
          "output_type": "execute_result",
          "data": {
            "text/plain": [
              "[4, 9, 16]"
            ]
          },
          "metadata": {},
          "execution_count": 122
        }
      ]
    },
    {
      "cell_type": "code",
      "source": [
        "n_squared([1, 11, 111], [2, 3, 4])"
      ],
      "metadata": {
        "colab": {
          "base_uri": "https://localhost:8080/",
          "height": 293
        },
        "id": "vDw_uMcZ5gqP",
        "outputId": "40b7305a-f284-445b-9264-897dd498bfc3"
      },
      "execution_count": null,
      "outputs": [
        {
          "output_type": "error",
          "ename": "TypeError",
          "evalue": "ignored",
          "traceback": [
            "\u001b[0;31m---------------------------------------------------------------------------\u001b[0m",
            "\u001b[0;31mTypeError\u001b[0m                                 Traceback (most recent call last)",
            "\u001b[0;32m<ipython-input-124-f2e9aac4ef98>\u001b[0m in \u001b[0;36m<cell line: 1>\u001b[0;34m()\u001b[0m\n\u001b[0;32m----> 1\u001b[0;31m \u001b[0mn_squared\u001b[0m\u001b[0;34m(\u001b[0m\u001b[0;34m[\u001b[0m\u001b[0;36m1\u001b[0m\u001b[0;34m,\u001b[0m \u001b[0;36m11\u001b[0m\u001b[0;34m,\u001b[0m \u001b[0;36m111\u001b[0m\u001b[0;34m]\u001b[0m\u001b[0;34m,\u001b[0m \u001b[0;34m[\u001b[0m\u001b[0;36m2\u001b[0m\u001b[0;34m,\u001b[0m \u001b[0;36m3\u001b[0m\u001b[0;34m,\u001b[0m \u001b[0;36m4\u001b[0m\u001b[0;34m]\u001b[0m\u001b[0;34m)\u001b[0m\u001b[0;34m\u001b[0m\u001b[0;34m\u001b[0m\u001b[0m\n\u001b[0m",
            "\u001b[0;32m<ipython-input-122-3cf4ec6843fe>\u001b[0m in \u001b[0;36mn_squared\u001b[0;34m(a, b)\u001b[0m\n\u001b[1;32m      2\u001b[0m     \u001b[0mnsqr_list\u001b[0m \u001b[0;34m=\u001b[0m \u001b[0;34m[\u001b[0m\u001b[0;34m]\u001b[0m\u001b[0;34m\u001b[0m\u001b[0;34m\u001b[0m\u001b[0m\n\u001b[1;32m      3\u001b[0m     \u001b[0;32mfor\u001b[0m \u001b[0mi\u001b[0m \u001b[0;32min\u001b[0m \u001b[0ma\u001b[0m\u001b[0;34m:\u001b[0m\u001b[0;34m\u001b[0m\u001b[0;34m\u001b[0m\u001b[0m\n\u001b[0;32m----> 4\u001b[0;31m         \u001b[0mnsqr_list\u001b[0m\u001b[0;34m.\u001b[0m\u001b[0mappend\u001b[0m\u001b[0;34m(\u001b[0m\u001b[0mi\u001b[0m\u001b[0;34m**\u001b[0m\u001b[0mb\u001b[0m\u001b[0;34m)\u001b[0m\u001b[0;34m\u001b[0m\u001b[0;34m\u001b[0m\u001b[0m\n\u001b[0m\u001b[1;32m      5\u001b[0m     \u001b[0;32mreturn\u001b[0m\u001b[0;34m(\u001b[0m\u001b[0mnsqr_list\u001b[0m\u001b[0;34m)\u001b[0m\u001b[0;34m\u001b[0m\u001b[0;34m\u001b[0m\u001b[0m\n\u001b[1;32m      6\u001b[0m \u001b[0;34m\u001b[0m\u001b[0m\n",
            "\u001b[0;31mTypeError\u001b[0m: unsupported operand type(s) for ** or pow(): 'int' and 'list'"
          ]
        }
      ]
    },
    {
      "cell_type": "code",
      "source": [
        "def ff(t):\n",
        "    t[1] = -1"
      ],
      "metadata": {
        "id": "DNpObdOj5ySe"
      },
      "execution_count": null,
      "outputs": []
    },
    {
      "cell_type": "code",
      "source": [
        "b"
      ],
      "metadata": {
        "colab": {
          "base_uri": "https://localhost:8080/"
        },
        "id": "KFo1_PUB67mb",
        "outputId": "950ab53b-2f8c-4777-aef7-aff9ec1bdb2b"
      },
      "execution_count": null,
      "outputs": [
        {
          "output_type": "execute_result",
          "data": {
            "text/plain": [
              "[8, 1000000, 10]"
            ]
          },
          "metadata": {},
          "execution_count": 128
        }
      ]
    },
    {
      "cell_type": "code",
      "source": [
        "ff(b)"
      ],
      "metadata": {
        "id": "6KFc3EEU7H78"
      },
      "execution_count": null,
      "outputs": []
    },
    {
      "cell_type": "code",
      "source": [
        "b"
      ],
      "metadata": {
        "colab": {
          "base_uri": "https://localhost:8080/"
        },
        "id": "T6n8D8gr7LIc",
        "outputId": "cb8f4cf4-c435-4a55-cca1-594abca856cf"
      },
      "execution_count": null,
      "outputs": [
        {
          "output_type": "execute_result",
          "data": {
            "text/plain": [
              "[8, -1, 10]"
            ]
          },
          "metadata": {},
          "execution_count": 130
        }
      ]
    },
    {
      "cell_type": "code",
      "source": [
        "import copy"
      ],
      "metadata": {
        "id": "ePsNuFy67LrG"
      },
      "execution_count": null,
      "outputs": []
    },
    {
      "cell_type": "code",
      "source": [
        "def edit_list(sample_list):\n",
        "    #sample_list[1] = 100\n",
        "    #dummy_list = copy.copy(sample_list)\n",
        "    #dummy_list[1] = 100\n",
        "    dummy_list = copy.deepcopy(sample_list)\n",
        "    dummy_list[1][0] = 100\n",
        "    print('subroutine : ', dummy_list)"
      ],
      "metadata": {
        "id": "zWD20baV7UrU"
      },
      "execution_count": null,
      "outputs": []
    },
    {
      "cell_type": "code",
      "source": [
        "target_list = [1, [11, 21], 3, 4]"
      ],
      "metadata": {
        "id": "RfgU77657dZp"
      },
      "execution_count": null,
      "outputs": []
    },
    {
      "cell_type": "code",
      "source": [
        "edit_list(target_list)"
      ],
      "metadata": {
        "colab": {
          "base_uri": "https://localhost:8080/"
        },
        "id": "L38yxc9G7uaV",
        "outputId": "56eb4651-a684-4f5d-9915-6fa391092185"
      },
      "execution_count": null,
      "outputs": [
        {
          "output_type": "stream",
          "name": "stdout",
          "text": [
            "subroutine :  [1, [100, 21], 3, 4]\n"
          ]
        }
      ]
    },
    {
      "cell_type": "code",
      "source": [
        "target_list"
      ],
      "metadata": {
        "colab": {
          "base_uri": "https://localhost:8080/"
        },
        "id": "d6m7DkvR7wrP",
        "outputId": "ee04d0fa-147c-4d54-d6e3-4d8265843aa2"
      },
      "execution_count": null,
      "outputs": [
        {
          "output_type": "execute_result",
          "data": {
            "text/plain": [
              "[1, [11, 21], 3, 4]"
            ]
          },
          "metadata": {},
          "execution_count": 148
        }
      ]
    },
    {
      "cell_type": "code",
      "source": [
        "def gen_edit(sample_list):\n",
        "    sample_list[1] = 100\n",
        "    print('subroutine : ', sample_list)"
      ],
      "metadata": {
        "id": "FYaXZJBS701a"
      },
      "execution_count": null,
      "outputs": []
    },
    {
      "cell_type": "code",
      "source": [
        "target_list = [1, [11, 21], 3, 4]\n",
        "gen_edit(target_list)\n",
        "print(target_list)"
      ],
      "metadata": {
        "colab": {
          "base_uri": "https://localhost:8080/"
        },
        "id": "HdnhIt43_kzq",
        "outputId": "4a3f339d-e00d-45f8-de49-5efcd8386c91"
      },
      "execution_count": null,
      "outputs": [
        {
          "output_type": "stream",
          "name": "stdout",
          "text": [
            "subroutine :  [1, 100, 3, 4]\n",
            "[1, 100, 3, 4]\n"
          ]
        }
      ]
    },
    {
      "cell_type": "code",
      "source": [
        "def copy_edit(sample_list):\n",
        "    dummy_list = copy.copy(sample_list)\n",
        "    dummy_list[1] = 100\n",
        "    print('subroutine : ', dummy_list)"
      ],
      "metadata": {
        "id": "Vq0DBa2r_sN8"
      },
      "execution_count": null,
      "outputs": []
    },
    {
      "cell_type": "code",
      "source": [
        "target_list = [1, [11, 21], 3, 4]\n",
        "copy_edit(target_list)\n",
        "print(target_list)"
      ],
      "metadata": {
        "colab": {
          "base_uri": "https://localhost:8080/"
        },
        "id": "PJCAMZCIAAmz",
        "outputId": "8f175df2-1f46-4e96-e442-191238a54282"
      },
      "execution_count": null,
      "outputs": [
        {
          "output_type": "stream",
          "name": "stdout",
          "text": [
            "subroutine :  [1, 100, 3, 4]\n",
            "[1, [11, 21], 3, 4]\n"
          ]
        }
      ]
    },
    {
      "cell_type": "code",
      "source": [
        "def copy_edit_2nd(sample_list):\n",
        "    dummy_list = copy.copy(sample_list)\n",
        "    dummy_list[1][0] = 100\n",
        "    print('subroutine : ', dummy_list)"
      ],
      "metadata": {
        "id": "RoTNWk85ADp4"
      },
      "execution_count": null,
      "outputs": []
    },
    {
      "cell_type": "code",
      "source": [
        "target_list = [1, [11, 21], 3, 4]\n",
        "copy_edit_2nd(target_list)\n",
        "print(target_list)"
      ],
      "metadata": {
        "colab": {
          "base_uri": "https://localhost:8080/"
        },
        "id": "pCtcfAvHAQIF",
        "outputId": "8197785a-bbd9-4adf-9176-a6a986c19ab4"
      },
      "execution_count": null,
      "outputs": [
        {
          "output_type": "stream",
          "name": "stdout",
          "text": [
            "subroutine :  [1, [100, 21], 3, 4]\n",
            "[1, [100, 21], 3, 4]\n"
          ]
        }
      ]
    },
    {
      "cell_type": "code",
      "source": [
        "def deep_copy_edit(sample_list):\n",
        "    dummy_list = copy.deepcopy(sample_list)\n",
        "    dummy_list[1][0] = 100\n",
        "    print('subroutine : ', dummy_list)"
      ],
      "metadata": {
        "id": "2rbJYZ3AAYkr"
      },
      "execution_count": null,
      "outputs": []
    },
    {
      "cell_type": "code",
      "source": [
        "target_list = [1, [11, 21], 3, 4]\n",
        "deep_copy_edit(target_list)\n",
        "print(target_list)"
      ],
      "metadata": {
        "colab": {
          "base_uri": "https://localhost:8080/"
        },
        "id": "I8DCW8enBL3g",
        "outputId": "158c0741-f309-4b9b-a22c-7567677c6305"
      },
      "execution_count": null,
      "outputs": [
        {
          "output_type": "stream",
          "name": "stdout",
          "text": [
            "subroutine :  [1, [100, 21], 3, 4]\n",
            "[1, [11, 21], 3, 4]\n"
          ]
        }
      ]
    },
    {
      "cell_type": "markdown",
      "source": [
        "target_list = list(range(6))\n",
        "\n",
        "no_change_edit(sample_list)\n",
        "\n",
        "함수 내부에서는 아래와 같이 변경되어\n",
        "\n",
        "sample_list[1] = 100\n",
        "\n",
        "print(sample_list) -> [0, 100, 2, 3, 4, 5]\n",
        "\n",
        "함수 외부에서는\n",
        "\n",
        "print(target_list) -> [0, 1, 2, 3, 4, 5]\n",
        "\n",
        "copy.copy() 와 copy.deepcopy()를 사용하지 않음"
      ],
      "metadata": {
        "id": "fn-cBiRiBXRt"
      }
    },
    {
      "cell_type": "code",
      "source": [
        "def no_change_edit(sample_list):\n",
        "    dummy_list = []\n",
        "    dummy_list.extend(sample_list)\n",
        "    dummy_list[1] = 100\n",
        "    print(f'subroutine : {dummy_list}')"
      ],
      "metadata": {
        "id": "M5fLRcf4C2Pv"
      },
      "execution_count": null,
      "outputs": []
    },
    {
      "cell_type": "code",
      "source": [
        "target_list = list(range(6))\n",
        "no_change_edit(target_list)\n",
        "print(target_list)"
      ],
      "metadata": {
        "colab": {
          "base_uri": "https://localhost:8080/"
        },
        "id": "6B627I1qHn-z",
        "outputId": "60323cd1-a6b8-47bf-f54a-5dfa81526acc"
      },
      "execution_count": null,
      "outputs": [
        {
          "output_type": "stream",
          "name": "stdout",
          "text": [
            "subroutine : [0, 100, 2, 3, 4, 5]\n",
            "[0, 1, 2, 3, 4, 5]\n"
          ]
        }
      ]
    },
    {
      "cell_type": "code",
      "source": [
        "def no_change_edit(sample_list):\n",
        "    dummy_list = sample_list[:]\n",
        "    dummy_list[1] = 100\n",
        "    print('subroutine : ', dummy_list)"
      ],
      "metadata": {
        "id": "QC5dc4ZdHyKo"
      },
      "execution_count": null,
      "outputs": []
    },
    {
      "cell_type": "code",
      "source": [
        "target_list = list(range(60000000))\n",
        "no_change_edit(target_list)\n",
        "print(target_list)"
      ],
      "metadata": {
        "colab": {
          "base_uri": "https://localhost:8080/"
        },
        "id": "ohPcpbzRH_B6",
        "outputId": "e462f94f-175b-449f-9098-8716a8fd71eb"
      },
      "execution_count": null,
      "outputs": [
        {
          "output_type": "stream",
          "name": "stdout",
          "text": [
            "subroutine :  [0, 100, 2, 3, 4, 5]\n",
            "[0, 1, 2, 3, 4, 5]\n"
          ]
        }
      ]
    },
    {
      "cell_type": "code",
      "source": [
        "import time"
      ],
      "metadata": {
        "id": "NgFatzAXIBKY"
      },
      "execution_count": null,
      "outputs": []
    },
    {
      "cell_type": "code",
      "source": [
        "sample_list = list(range(10000000))"
      ],
      "metadata": {
        "id": "lVy-nID1IPQK"
      },
      "execution_count": null,
      "outputs": []
    },
    {
      "cell_type": "markdown",
      "source": [
        "상기에 있는 sample_list를 dummy_list에 입력하기 위해\n",
        "\n",
        "1. extend 사용 -> 함수안에서 수행\n",
        "\n",
        "2. 슬라이싱 사용 -> 함수안에서 수행\n",
        "\n",
        "1번과 2번 방법의 시간을 측정해 주세요.\n",
        "\n",
        "1번 2번 방법 각기 다른 함수 안에서 수행되어야 합니다."
      ],
      "metadata": {
        "id": "pM0pALlQI07u"
      }
    },
    {
      "cell_type": "code",
      "source": [
        "import time\n",
        "def dummy_test1(sample_list):\n",
        "    dummy_list1 = []\n",
        "    dummy_list1.extend(sample_list)\n",
        "\n",
        "def dummy_test2(sample_list):\n",
        "    dummy_list2 = sample_list[:]\n",
        "\n",
        "sample_list = list(range(1000000))\n",
        "\n",
        "start = time.time()\n",
        "dummy_test1(sample_list)\n",
        "extend_time = time.time()-start\n",
        "\n",
        "time.sleep(2)\n",
        "\n",
        "start = time.time()\n",
        "dummy_test2(sample_list)\n",
        "slicing_time = time.time()-start\n",
        "\n",
        "print(f'extend를 이용하여 dummy_list 작성한 시간 :{extend_time}')\n",
        "print(f'slicing을 이용하여 dummy_list를 작성한 시간 {slicing_time}')"
      ],
      "metadata": {
        "colab": {
          "base_uri": "https://localhost:8080/"
        },
        "id": "gbmhdz4MIx9k",
        "outputId": "4ced2b1d-6996-453a-d13b-733e3853f5f0"
      },
      "execution_count": null,
      "outputs": [
        {
          "output_type": "stream",
          "name": "stdout",
          "text": [
            "extend를 이용하여 dummy_list 작성한 시간 :0.010897636413574219\n",
            "slicing을 이용하여 dummy_list를 작성한 시간 0.006793022155761719\n"
          ]
        }
      ]
    },
    {
      "cell_type": "code",
      "source": [
        "def adds(a, b):\n",
        "    a = 1\n",
        "    b = 2\n",
        "    return (a+b)"
      ],
      "metadata": {
        "id": "vJoH4YkvPbCG"
      },
      "execution_count": null,
      "outputs": []
    },
    {
      "cell_type": "code",
      "source": [
        "adds(10, 20)"
      ],
      "metadata": {
        "colab": {
          "base_uri": "https://localhost:8080/"
        },
        "id": "l-J0a1ocRG7N",
        "outputId": "3adf93a5-12aa-4cdd-c254-74fd45fdff79"
      },
      "execution_count": null,
      "outputs": [
        {
          "output_type": "execute_result",
          "data": {
            "text/plain": [
              "3"
            ]
          },
          "metadata": {},
          "execution_count": 4
        }
      ]
    },
    {
      "cell_type": "code",
      "source": [
        "a"
      ],
      "metadata": {
        "colab": {
          "base_uri": "https://localhost:8080/",
          "height": 169
        },
        "id": "1Omal337RJjP",
        "outputId": "5b19fd4c-3283-43df-8711-673fdb04c5cd"
      },
      "execution_count": null,
      "outputs": [
        {
          "output_type": "error",
          "ename": "NameError",
          "evalue": "ignored",
          "traceback": [
            "\u001b[0;31m---------------------------------------------------------------------------\u001b[0m",
            "\u001b[0;31mNameError\u001b[0m                                 Traceback (most recent call last)",
            "\u001b[0;32m<ipython-input-5-3f786850e387>\u001b[0m in \u001b[0;36m<cell line: 1>\u001b[0;34m()\u001b[0m\n\u001b[0;32m----> 1\u001b[0;31m \u001b[0ma\u001b[0m\u001b[0;34m\u001b[0m\u001b[0;34m\u001b[0m\u001b[0m\n\u001b[0m",
            "\u001b[0;31mNameError\u001b[0m: name 'a' is not defined"
          ]
        }
      ]
    },
    {
      "cell_type": "code",
      "source": [
        "data_list = range(1, 46+1)"
      ],
      "metadata": {
        "id": "nZz_2sKQRLmy"
      },
      "execution_count": null,
      "outputs": []
    },
    {
      "cell_type": "code",
      "source": [
        "import random"
      ],
      "metadata": {
        "id": "Q_--F8RYSJRt"
      },
      "execution_count": null,
      "outputs": []
    },
    {
      "cell_type": "code",
      "source": [
        "random.sample([1, 2, 3, 4, 5], 2)"
      ],
      "metadata": {
        "colab": {
          "base_uri": "https://localhost:8080/"
        },
        "id": "UsFYLw-dSXQf",
        "outputId": "901cfd94-31da-4de6-8872-1078e5e0d676"
      },
      "execution_count": null,
      "outputs": [
        {
          "output_type": "execute_result",
          "data": {
            "text/plain": [
              "[1, 4]"
            ]
          },
          "metadata": {},
          "execution_count": 9
        }
      ]
    },
    {
      "cell_type": "code",
      "source": [
        "random.sample(data_list, 6)"
      ],
      "metadata": {
        "colab": {
          "base_uri": "https://localhost:8080/"
        },
        "id": "J1qqYsevSc_l",
        "outputId": "52d1e1a2-8986-4811-b373-2f4add1d2c4a"
      },
      "execution_count": null,
      "outputs": [
        {
          "output_type": "execute_result",
          "data": {
            "text/plain": [
              "[22, 39, 38, 6, 25, 45]"
            ]
          },
          "metadata": {},
          "execution_count": 11
        }
      ]
    },
    {
      "cell_type": "code",
      "source": [
        "raffle_list = []\n",
        "for _ in range(1000000):\n",
        "    raffle_number = random.sample(data_list, 6)\n",
        "    raffle_list.append(raffle_number)"
      ],
      "metadata": {
        "id": "ntHykRQlSmWT"
      },
      "execution_count": null,
      "outputs": []
    },
    {
      "cell_type": "code",
      "source": [
        "len(raffle_list)"
      ],
      "metadata": {
        "colab": {
          "base_uri": "https://localhost:8080/"
        },
        "id": "nHcMBsoNS94x",
        "outputId": "db5ff063-2a55-46d7-b13c-8eaa7718002e"
      },
      "execution_count": null,
      "outputs": [
        {
          "output_type": "execute_result",
          "data": {
            "text/plain": [
              "1000000"
            ]
          },
          "metadata": {},
          "execution_count": 17
        }
      ]
    },
    {
      "cell_type": "code",
      "source": [
        "random.choice(raffle_list)"
      ],
      "metadata": {
        "colab": {
          "base_uri": "https://localhost:8080/"
        },
        "id": "5FsD8aeXTHf3",
        "outputId": "d9db71fc-d565-4920-a99a-96bb0f62651f"
      },
      "execution_count": null,
      "outputs": [
        {
          "output_type": "execute_result",
          "data": {
            "text/plain": [
              "[27, 25, 6, 13, 29, 17]"
            ]
          },
          "metadata": {},
          "execution_count": 21
        }
      ]
    },
    {
      "cell_type": "code",
      "source": [
        "def Lotto(n):\n",
        "    data_list = range(1,46)\n",
        "    raffle_list = [random.sample(data_list,6) for i in range(n)]\n",
        "    return random.choice(raffle_list)"
      ],
      "metadata": {
        "id": "3qZPvZTRTh1j"
      },
      "execution_count": null,
      "outputs": []
    },
    {
      "cell_type": "code",
      "source": [
        "Lotto(10)"
      ],
      "metadata": {
        "colab": {
          "base_uri": "https://localhost:8080/"
        },
        "id": "6RPSKO_OT1fH",
        "outputId": "55918567-fe5c-4299-d7b5-ff7f5076f1cb"
      },
      "execution_count": null,
      "outputs": [
        {
          "output_type": "execute_result",
          "data": {
            "text/plain": [
              "[7, 4, 34, 31, 18, 11]"
            ]
          },
          "metadata": {},
          "execution_count": 24
        }
      ]
    },
    {
      "cell_type": "code",
      "source": [
        "ls"
      ],
      "metadata": {
        "colab": {
          "base_uri": "https://localhost:8080/"
        },
        "id": "9WmRYBqCWvGP",
        "outputId": "68d79ac1-5c65-4745-f62a-06ae7cae2df4"
      },
      "execution_count": null,
      "outputs": [
        {
          "output_type": "stream",
          "name": "stdout",
          "text": [
            "python_module.py  \u001b[0m\u001b[01;34msample_data\u001b[0m/\n"
          ]
        }
      ]
    },
    {
      "cell_type": "code",
      "source": [
        "import python_module as pm"
      ],
      "metadata": {
        "colab": {
          "base_uri": "https://localhost:8080/"
        },
        "id": "X-Ahx9rBXNEX",
        "outputId": "455dc30d-505d-4208-c4d1-4ff90e17a0fc"
      },
      "execution_count": null,
      "outputs": [
        {
          "output_type": "stream",
          "name": "stdout",
          "text": [
            "out layer\n"
          ]
        }
      ]
    },
    {
      "cell_type": "code",
      "source": [
        "more python_module.py"
      ],
      "metadata": {
        "id": "5mOsxGMaXQMj"
      },
      "execution_count": null,
      "outputs": []
    },
    {
      "cell_type": "code",
      "source": [
        "pm.test()"
      ],
      "metadata": {
        "id": "7-MIMoeGXVqF"
      },
      "execution_count": null,
      "outputs": []
    },
    {
      "cell_type": "code",
      "source": [
        "%run python_module.py"
      ],
      "metadata": {
        "colab": {
          "base_uri": "https://localhost:8080/"
        },
        "id": "Sjs17GP5Xo4b",
        "outputId": "7bc67153-b242-405a-e2a6-483aed484327"
      },
      "execution_count": null,
      "outputs": [
        {
          "output_type": "stream",
          "name": "stdout",
          "text": [
            "out layer\n"
          ]
        }
      ]
    },
    {
      "cell_type": "code",
      "source": [],
      "metadata": {
        "id": "2MAWk0gBXrf_"
      },
      "execution_count": null,
      "outputs": []
    }
  ]
}