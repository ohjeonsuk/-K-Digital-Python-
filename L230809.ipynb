{
  "nbformat": 4,
  "nbformat_minor": 0,
  "metadata": {
    "colab": {
      "provenance": [],
      "include_colab_link": true
    },
    "kernelspec": {
      "name": "python3",
      "display_name": "Python 3"
    },
    "language_info": {
      "name": "python"
    }
  },
  "cells": [
    {
      "cell_type": "markdown",
      "metadata": {
        "id": "view-in-github",
        "colab_type": "text"
      },
      "source": [
        "<a href=\"https://colab.research.google.com/github/ohjeonsuk/python-education/blob/main/L230809.ipynb\" target=\"_parent\"><img src=\"https://colab.research.google.com/assets/colab-badge.svg\" alt=\"Open In Colab\"/></a>"
      ]
    },
    {
      "cell_type": "markdown",
      "source": [
        "#streamlit을 사용한 웹서버 작동법\n",
        "\n",
        "\n",
        "1. streamlit 이 설치된 가상환경으로 진입한다.\n",
        "\n",
        "2. app.py 파일이 있는 폴더로 이동한다.\n",
        "\n",
        "3. streamlit run app.py 명령어로 웹서버를 작동시킨다.\n",
        "\n",
        "# streamlit 웹서버 종료 방법\n",
        "\n",
        "    - streamlit 을 실행시킨 터미널(콘솔, powershell prompt)에서\n",
        "\n",
        "        crtl + c 버튼을 누른다."
      ],
      "metadata": {
        "id": "Wo3cKXK5nCxx"
      }
    },
    {
      "cell_type": "markdown",
      "source": [
        "# streamlit 웹서버는 app.py 파일에 있는 내용을 실행시켜서 웹브라우저에 표출해준다.\n",
        "\n",
        "# app.py 파일에 streamlit 에서 제공하는 명령어들을 사용하여 원하는 내용을 웹브라우저에 표출시킬수 있다."
      ],
      "metadata": {
        "id": "Eb1emjdovKSW"
      }
    },
    {
      "cell_type": "markdown",
      "source": [
        "# streamlit 에서 웹브러우저에 뭔가를 표시하기 위해서는 streamlit 명령어를 사용해야 한다.\n"
      ],
      "metadata": {
        "id": "Clh3TYgD-DGi"
      }
    },
    {
      "cell_type": "markdown",
      "source": [
        "# streamlit 명령어는 파이썬 기본 문법을 사용할 수 있다.\n",
        "\n",
        "# 파이썬 코드들을 수용할 수 있다."
      ],
      "metadata": {
        "id": "fEhLQjCB-OF6"
      }
    },
    {
      "cell_type": "markdown",
      "source": [
        "st.dataframe\n",
        "\n",
        "st.pyplot\n",
        "\n",
        "st.button\n",
        "\n",
        "st.text_input\n",
        "\n",
        "st.header/title/write\n",
        "\n",
        "streamlit_folium 라이브러리의 folium_static 사용법"
      ],
      "metadata": {
        "id": "W496iB_M-sfQ"
      }
    },
    {
      "cell_type": "code",
      "source": [
        "import requests\n",
        "from datetime import datetime as dt\n",
        "import json\n",
        "import pandas as pd"
      ],
      "metadata": {
        "id": "tBhUVha1zlE5"
      },
      "execution_count": null,
      "outputs": []
    },
    {
      "cell_type": "code",
      "execution_count": null,
      "metadata": {
        "id": "H-fXxFhrhgOw"
      },
      "outputs": [],
      "source": [
        "url = 'http://www.kobis.or.kr/kobisopenapi/webservice/rest/boxoffice/searchDailyBoxOfficeList.json?key=c3a0fa760324363ef7cde2afa0d73297&targetDt='"
      ]
    },
    {
      "cell_type": "code",
      "source": [
        "resp = requests.get(url+'20230807')"
      ],
      "metadata": {
        "id": "oiRxxbtvzgud"
      },
      "execution_count": null,
      "outputs": []
    },
    {
      "cell_type": "code",
      "source": [
        "data = resp.json()['boxOfficeResult']['dailyBoxOfficeList']"
      ],
      "metadata": {
        "id": "lXF_Sjfoz_Bz"
      },
      "execution_count": null,
      "outputs": []
    },
    {
      "cell_type": "code",
      "source": [
        "data"
      ],
      "metadata": {
        "id": "NHhBohjX0Th3"
      },
      "execution_count": null,
      "outputs": []
    },
    {
      "cell_type": "code",
      "source": [
        "dataframe_of_movie = pd.DataFrame(data)"
      ],
      "metadata": {
        "id": "qly-lMlc0cwc"
      },
      "execution_count": null,
      "outputs": []
    },
    {
      "cell_type": "code",
      "source": [
        "dataframe_of_movie"
      ],
      "metadata": {
        "id": "bRExK4L00nLU"
      },
      "execution_count": null,
      "outputs": []
    },
    {
      "cell_type": "code",
      "source": [
        "df = dataframe_of_movie.loc[:, ['rank', 'movieNm','openDt', 'salesAmt']]"
      ],
      "metadata": {
        "id": "4vBSzg_M0syo"
      },
      "execution_count": null,
      "outputs": []
    },
    {
      "cell_type": "code",
      "source": [
        "df"
      ],
      "metadata": {
        "colab": {
          "base_uri": "https://localhost:8080/",
          "height": 363
        },
        "id": "7iGREoj01LQX",
        "outputId": "2d3ae5e4-4b5c-48a0-c77c-dd85074b0cda"
      },
      "execution_count": null,
      "outputs": [
        {
          "output_type": "execute_result",
          "data": {
            "text/plain": [
              "  rank                   movieNm      openDt    salesAmt\n",
              "0    1                        밀수  2023-07-26  1232648801\n",
              "1    2                     비공식작전  2023-08-02   555928175\n",
              "2    3                      엘리멘탈  2023-06-14   386875002\n",
              "3    4                       더 문  2023-08-02   227943879\n",
              "4    5  미션 임파서블: 데드 레코닝 PART ONE  2023-07-12   182954660\n",
              "5    6               달짝지근해: 7510  2023-08-15    59329000\n",
              "6    7             명탐정코난: 흑철의 어영  2023-07-20    63667934\n",
              "7    8                        바비  2023-07-19    63838454\n",
              "8    9                 몬스터 패밀리 2  2023-08-02    31666643\n",
              "9   10                    여름날 우리  2021-08-25    19031624"
            ],
            "text/html": [
              "\n",
              "\n",
              "  <div id=\"df-38d74485-1ccd-422e-9678-40f92555a31c\">\n",
              "    <div class=\"colab-df-container\">\n",
              "      <div>\n",
              "<style scoped>\n",
              "    .dataframe tbody tr th:only-of-type {\n",
              "        vertical-align: middle;\n",
              "    }\n",
              "\n",
              "    .dataframe tbody tr th {\n",
              "        vertical-align: top;\n",
              "    }\n",
              "\n",
              "    .dataframe thead th {\n",
              "        text-align: right;\n",
              "    }\n",
              "</style>\n",
              "<table border=\"1\" class=\"dataframe\">\n",
              "  <thead>\n",
              "    <tr style=\"text-align: right;\">\n",
              "      <th></th>\n",
              "      <th>rank</th>\n",
              "      <th>movieNm</th>\n",
              "      <th>openDt</th>\n",
              "      <th>salesAmt</th>\n",
              "    </tr>\n",
              "  </thead>\n",
              "  <tbody>\n",
              "    <tr>\n",
              "      <th>0</th>\n",
              "      <td>1</td>\n",
              "      <td>밀수</td>\n",
              "      <td>2023-07-26</td>\n",
              "      <td>1232648801</td>\n",
              "    </tr>\n",
              "    <tr>\n",
              "      <th>1</th>\n",
              "      <td>2</td>\n",
              "      <td>비공식작전</td>\n",
              "      <td>2023-08-02</td>\n",
              "      <td>555928175</td>\n",
              "    </tr>\n",
              "    <tr>\n",
              "      <th>2</th>\n",
              "      <td>3</td>\n",
              "      <td>엘리멘탈</td>\n",
              "      <td>2023-06-14</td>\n",
              "      <td>386875002</td>\n",
              "    </tr>\n",
              "    <tr>\n",
              "      <th>3</th>\n",
              "      <td>4</td>\n",
              "      <td>더 문</td>\n",
              "      <td>2023-08-02</td>\n",
              "      <td>227943879</td>\n",
              "    </tr>\n",
              "    <tr>\n",
              "      <th>4</th>\n",
              "      <td>5</td>\n",
              "      <td>미션 임파서블: 데드 레코닝 PART ONE</td>\n",
              "      <td>2023-07-12</td>\n",
              "      <td>182954660</td>\n",
              "    </tr>\n",
              "    <tr>\n",
              "      <th>5</th>\n",
              "      <td>6</td>\n",
              "      <td>달짝지근해: 7510</td>\n",
              "      <td>2023-08-15</td>\n",
              "      <td>59329000</td>\n",
              "    </tr>\n",
              "    <tr>\n",
              "      <th>6</th>\n",
              "      <td>7</td>\n",
              "      <td>명탐정코난: 흑철의 어영</td>\n",
              "      <td>2023-07-20</td>\n",
              "      <td>63667934</td>\n",
              "    </tr>\n",
              "    <tr>\n",
              "      <th>7</th>\n",
              "      <td>8</td>\n",
              "      <td>바비</td>\n",
              "      <td>2023-07-19</td>\n",
              "      <td>63838454</td>\n",
              "    </tr>\n",
              "    <tr>\n",
              "      <th>8</th>\n",
              "      <td>9</td>\n",
              "      <td>몬스터 패밀리 2</td>\n",
              "      <td>2023-08-02</td>\n",
              "      <td>31666643</td>\n",
              "    </tr>\n",
              "    <tr>\n",
              "      <th>9</th>\n",
              "      <td>10</td>\n",
              "      <td>여름날 우리</td>\n",
              "      <td>2021-08-25</td>\n",
              "      <td>19031624</td>\n",
              "    </tr>\n",
              "  </tbody>\n",
              "</table>\n",
              "</div>\n",
              "      <button class=\"colab-df-convert\" onclick=\"convertToInteractive('df-38d74485-1ccd-422e-9678-40f92555a31c')\"\n",
              "              title=\"Convert this dataframe to an interactive table.\"\n",
              "              style=\"display:none;\">\n",
              "\n",
              "  <svg xmlns=\"http://www.w3.org/2000/svg\" height=\"24px\"viewBox=\"0 0 24 24\"\n",
              "       width=\"24px\">\n",
              "    <path d=\"M0 0h24v24H0V0z\" fill=\"none\"/>\n",
              "    <path d=\"M18.56 5.44l.94 2.06.94-2.06 2.06-.94-2.06-.94-.94-2.06-.94 2.06-2.06.94zm-11 1L8.5 8.5l.94-2.06 2.06-.94-2.06-.94L8.5 2.5l-.94 2.06-2.06.94zm10 10l.94 2.06.94-2.06 2.06-.94-2.06-.94-.94-2.06-.94 2.06-2.06.94z\"/><path d=\"M17.41 7.96l-1.37-1.37c-.4-.4-.92-.59-1.43-.59-.52 0-1.04.2-1.43.59L10.3 9.45l-7.72 7.72c-.78.78-.78 2.05 0 2.83L4 21.41c.39.39.9.59 1.41.59.51 0 1.02-.2 1.41-.59l7.78-7.78 2.81-2.81c.8-.78.8-2.07 0-2.86zM5.41 20L4 18.59l7.72-7.72 1.47 1.35L5.41 20z\"/>\n",
              "  </svg>\n",
              "      </button>\n",
              "\n",
              "\n",
              "\n",
              "    <div id=\"df-a27ad112-15df-48b4-a161-333be2737139\">\n",
              "      <button class=\"colab-df-quickchart\" onclick=\"quickchart('df-a27ad112-15df-48b4-a161-333be2737139')\"\n",
              "              title=\"Suggest charts.\"\n",
              "              style=\"display:none;\">\n",
              "\n",
              "<svg xmlns=\"http://www.w3.org/2000/svg\" height=\"24px\"viewBox=\"0 0 24 24\"\n",
              "     width=\"24px\">\n",
              "    <g>\n",
              "        <path d=\"M19 3H5c-1.1 0-2 .9-2 2v14c0 1.1.9 2 2 2h14c1.1 0 2-.9 2-2V5c0-1.1-.9-2-2-2zM9 17H7v-7h2v7zm4 0h-2V7h2v10zm4 0h-2v-4h2v4z\"/>\n",
              "    </g>\n",
              "</svg>\n",
              "      </button>\n",
              "    </div>\n",
              "\n",
              "<style>\n",
              "  .colab-df-quickchart {\n",
              "    background-color: #E8F0FE;\n",
              "    border: none;\n",
              "    border-radius: 50%;\n",
              "    cursor: pointer;\n",
              "    display: none;\n",
              "    fill: #1967D2;\n",
              "    height: 32px;\n",
              "    padding: 0 0 0 0;\n",
              "    width: 32px;\n",
              "  }\n",
              "\n",
              "  .colab-df-quickchart:hover {\n",
              "    background-color: #E2EBFA;\n",
              "    box-shadow: 0px 1px 2px rgba(60, 64, 67, 0.3), 0px 1px 3px 1px rgba(60, 64, 67, 0.15);\n",
              "    fill: #174EA6;\n",
              "  }\n",
              "\n",
              "  [theme=dark] .colab-df-quickchart {\n",
              "    background-color: #3B4455;\n",
              "    fill: #D2E3FC;\n",
              "  }\n",
              "\n",
              "  [theme=dark] .colab-df-quickchart:hover {\n",
              "    background-color: #434B5C;\n",
              "    box-shadow: 0px 1px 3px 1px rgba(0, 0, 0, 0.15);\n",
              "    filter: drop-shadow(0px 1px 2px rgba(0, 0, 0, 0.3));\n",
              "    fill: #FFFFFF;\n",
              "  }\n",
              "</style>\n",
              "\n",
              "    <script>\n",
              "      async function quickchart(key) {\n",
              "        const containerElement = document.querySelector('#' + key);\n",
              "        const charts = await google.colab.kernel.invokeFunction(\n",
              "            'suggestCharts', [key], {});\n",
              "      }\n",
              "    </script>\n",
              "\n",
              "      <script>\n",
              "\n",
              "function displayQuickchartButton(domScope) {\n",
              "  let quickchartButtonEl =\n",
              "    domScope.querySelector('#df-a27ad112-15df-48b4-a161-333be2737139 button.colab-df-quickchart');\n",
              "  quickchartButtonEl.style.display =\n",
              "    google.colab.kernel.accessAllowed ? 'block' : 'none';\n",
              "}\n",
              "\n",
              "        displayQuickchartButton(document);\n",
              "      </script>\n",
              "      <style>\n",
              "    .colab-df-container {\n",
              "      display:flex;\n",
              "      flex-wrap:wrap;\n",
              "      gap: 12px;\n",
              "    }\n",
              "\n",
              "    .colab-df-convert {\n",
              "      background-color: #E8F0FE;\n",
              "      border: none;\n",
              "      border-radius: 50%;\n",
              "      cursor: pointer;\n",
              "      display: none;\n",
              "      fill: #1967D2;\n",
              "      height: 32px;\n",
              "      padding: 0 0 0 0;\n",
              "      width: 32px;\n",
              "    }\n",
              "\n",
              "    .colab-df-convert:hover {\n",
              "      background-color: #E2EBFA;\n",
              "      box-shadow: 0px 1px 2px rgba(60, 64, 67, 0.3), 0px 1px 3px 1px rgba(60, 64, 67, 0.15);\n",
              "      fill: #174EA6;\n",
              "    }\n",
              "\n",
              "    [theme=dark] .colab-df-convert {\n",
              "      background-color: #3B4455;\n",
              "      fill: #D2E3FC;\n",
              "    }\n",
              "\n",
              "    [theme=dark] .colab-df-convert:hover {\n",
              "      background-color: #434B5C;\n",
              "      box-shadow: 0px 1px 3px 1px rgba(0, 0, 0, 0.15);\n",
              "      filter: drop-shadow(0px 1px 2px rgba(0, 0, 0, 0.3));\n",
              "      fill: #FFFFFF;\n",
              "    }\n",
              "  </style>\n",
              "\n",
              "      <script>\n",
              "        const buttonEl =\n",
              "          document.querySelector('#df-38d74485-1ccd-422e-9678-40f92555a31c button.colab-df-convert');\n",
              "        buttonEl.style.display =\n",
              "          google.colab.kernel.accessAllowed ? 'block' : 'none';\n",
              "\n",
              "        async function convertToInteractive(key) {\n",
              "          const element = document.querySelector('#df-38d74485-1ccd-422e-9678-40f92555a31c');\n",
              "          const dataTable =\n",
              "            await google.colab.kernel.invokeFunction('convertToInteractive',\n",
              "                                                     [key], {});\n",
              "          if (!dataTable) return;\n",
              "\n",
              "          const docLinkHtml = 'Like what you see? Visit the ' +\n",
              "            '<a target=\"_blank\" href=https://colab.research.google.com/notebooks/data_table.ipynb>data table notebook</a>'\n",
              "            + ' to learn more about interactive tables.';\n",
              "          element.innerHTML = '';\n",
              "          dataTable['output_type'] = 'display_data';\n",
              "          await google.colab.output.renderOutput(dataTable, element);\n",
              "          const docLink = document.createElement('div');\n",
              "          docLink.innerHTML = docLinkHtml;\n",
              "          element.appendChild(docLink);\n",
              "        }\n",
              "      </script>\n",
              "    </div>\n",
              "  </div>\n"
            ]
          },
          "metadata": {},
          "execution_count": 15
        }
      ]
    },
    {
      "cell_type": "markdown",
      "source": [
        "app.py : 웹서버를 리스닝하며, 페이지 변경 요청이 왔을때, 페이지 구분을 해준다.\n",
        "\n",
        "page 폴더의 파일들 : app.py로 부터 호출을 받아서, 클라이언트 역활을 하며 utils 폴더에 작성되는 모듈로부터 함수를 호출한다.\n",
        "\n",
        "utils 폴더의 파일들 : page 폴더에 있는 파일들의 모듈로서 파이썬 코드로만 작성된 경우가 대부분이며, 실제 코드를 작성해야 하는 부분이다."
      ],
      "metadata": {
        "id": "GYj5V1uBBPdK"
      }
    },
    {
      "cell_type": "markdown",
      "source": [
        "app - page 폴더 파일\n",
        "\n",
        "page 폴더 파일 - utils 폴더 파일"
      ],
      "metadata": {
        "id": "aVxcW6PJCFHQ"
      }
    },
    {
      "cell_type": "code",
      "source": [],
      "metadata": {
        "id": "LHH3eEp81L5Q"
      },
      "execution_count": null,
      "outputs": []
    }
  ]
}